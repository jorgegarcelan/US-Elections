{
 "cells": [
  {
   "cell_type": "markdown",
   "metadata": {},
   "source": [
    "## 📊 Simulación"
   ]
  },
  {
   "cell_type": "markdown",
   "metadata": {},
   "source": [
    "🧑‍💻 Lucía Cordero | Jorge Garcelán"
   ]
  },
  {
   "cell_type": "markdown",
   "metadata": {},
   "source": [
    "![Election Results](https://elordenmundial.com/wp-content/uploads/2020/10/editable-portada-especial-.png)\n"
   ]
  },
  {
   "cell_type": "markdown",
   "metadata": {},
   "source": [
    "<div class=\"warning\" style='padding:0.1em; border-left: 4px solid #17a2b8; background-color:#e8f8ff;'>\n",
    "<span>\n",
    "<p style='margin-top:1em; margin-left:1em; text-align:left'>\n",
    "<b>💡Interpretación de la simulación</b></p>\n",
    "<p style='margin-left:1em;'>\n",
    "Imaginemos que estamos en el día de las elecciones y nos van llegando datos de condados (equivalentes a dataset de train) y queremos hacer un forecast de cómo van a acabar las elecciones, es decir, hacer un forecast de los condados que todavía no tenemos los datos (test). En ese sentido, podríamos hacer un modelo con los datos que sí tenemos (train) y predecir los condados que todavía no tenemos (test). Y así podemos repetir el proceso N veces y crear una simulación.\n",
    "</p>\n",
    "</span>\n",
    "</div>"
   ]
  },
  {
   "cell_type": "markdown",
   "metadata": {},
   "source": [
    "## Libraries"
   ]
  },
  {
   "cell_type": "code",
   "execution_count": 1,
   "metadata": {},
   "outputs": [],
   "source": [
    "import pandas as pd\n",
    "from pandas import read_csv\n",
    "import numpy as np\n",
    "from sklearn.linear_model import LinearRegression\n",
    "from sklearn.ensemble import RandomForestRegressor\n",
    "from sklearn.neighbors import KNeighborsRegressor\n",
    "from sklearn.model_selection import train_test_split\n",
    "import json\n",
    "import plotly.express as px\n",
    "import plotly.graph_objects as go\n",
    "import seaborn as sns\n",
    "import matplotlib.pyplot as plt\n",
    "from scipy.stats import gaussian_kde"
   ]
  },
  {
   "cell_type": "markdown",
   "metadata": {},
   "source": [
    "## Load data"
   ]
  },
  {
   "cell_type": "code",
   "execution_count": 2,
   "metadata": {},
   "outputs": [],
   "source": [
    "CENSUS_YEAR = 2019\n",
    "ELECTORAL_YEAR = CENSUS_YEAR + 1\n"
   ]
  },
  {
   "cell_type": "code",
   "execution_count": 3,
   "metadata": {},
   "outputs": [],
   "source": [
    "def load_seats_data(path, state_to_code):\n",
    "    # Cargar datos\n",
    "    seats_data = pd.read_csv(path, header=0, sep=\",\")\n",
    "\n",
    "    # Seleccionar las primeras tres columnas y las columnas que contienen \"2019\"\n",
    "    seats_data = seats_data.iloc[:, [0, 1]]\n",
    "\n",
    "    # Renombrar columnas\n",
    "    seats_data.columns = [\"state\", \"electoral_votes_number\"]\n",
    "\n",
    "    # Añadir District of Columbia pues no aparece\n",
    "    new_row = pd.DataFrame({\n",
    "        'state': ['District of Columbia'],\n",
    "        'electoral_votes_number': [3]\n",
    "    })\n",
    "\n",
    "    # Añadir la nueva fila al DataFrame utilizando pd.concat\n",
    "    seats_data = pd.concat([seats_data, new_row], ignore_index=True)\n",
    "\n",
    "    \n",
    "    seats_data[\"state_code\"] = seats_data['state'].map(state_to_code)\n",
    "\n",
    "    return seats_data"
   ]
  },
  {
   "cell_type": "code",
   "execution_count": 4,
   "metadata": {},
   "outputs": [],
   "source": [
    "# Cargar datos\n",
    "data = read_csv(f\"data/final_data_{ELECTORAL_YEAR}.csv\")\n",
    "\n",
    "# Crear data para simulación\n",
    "# columns_to_drop = ['Total_2020', 'Other_2020', 'Winner_2020', \"Biden_2020\"]  # Nombres de las columnas a eliminar\n",
    "columns_to_drop = [f\"votes_dem_{ELECTORAL_YEAR}\", f\"total_votes_{ELECTORAL_YEAR}\", f\"votes_others_{ELECTORAL_YEAR}\", f\"per_votes_others_{ELECTORAL_YEAR}\", f\"winner_{ELECTORAL_YEAR}\"]  # Nombres de las columnas a eliminar\n",
    "\n",
    "data_sim = data.drop(columns=columns_to_drop)\n",
    "\n",
    "# Cargar codigo de estados\n",
    "with open(\"data/state_to_code.json\", \"r\") as file:\n",
    "    state_to_code = json.load(file)\n",
    "\n",
    "\n",
    "# Cargar datos de escaños por estado\n",
    "seats_data = load_seats_data(f\"data/seats2020.csv\", state_to_code)\n",
    "\n",
    "# Cargar datos de state, county, fips\n",
    "state_fips_county = read_csv('data/state_fips_county.csv')\n",
    "state_names = state_fips_county['state']\n",
    "fips_codes = state_fips_county['fips']\n",
    "county_names = state_fips_county['county']"
   ]
  },
  {
   "cell_type": "code",
   "execution_count": 5,
   "metadata": {},
   "outputs": [
    {
     "data": {
      "text/html": [
       "<div>\n",
       "<style scoped>\n",
       "    .dataframe tbody tr th:only-of-type {\n",
       "        vertical-align: middle;\n",
       "    }\n",
       "\n",
       "    .dataframe tbody tr th {\n",
       "        vertical-align: top;\n",
       "    }\n",
       "\n",
       "    .dataframe thead th {\n",
       "        text-align: right;\n",
       "    }\n",
       "</style>\n",
       "<table border=\"1\" class=\"dataframe\">\n",
       "  <thead>\n",
       "    <tr style=\"text-align: right;\">\n",
       "      <th></th>\n",
       "      <th>state</th>\n",
       "      <th>electoral_votes_number</th>\n",
       "      <th>state_code</th>\n",
       "      <th>Votes_dem</th>\n",
       "      <th>Votes_gop</th>\n",
       "      <th>Votes_other</th>\n",
       "      <th>Votes_total</th>\n",
       "      <th>Per_dem</th>\n",
       "      <th>Per_gop</th>\n",
       "      <th>Winner</th>\n",
       "      <th>Difference</th>\n",
       "      <th>Status</th>\n",
       "    </tr>\n",
       "  </thead>\n",
       "  <tbody>\n",
       "    <tr>\n",
       "      <th>0</th>\n",
       "      <td>California</td>\n",
       "      <td>55</td>\n",
       "      <td>CA</td>\n",
       "      <td>11109764.0</td>\n",
       "      <td>6005961.0</td>\n",
       "      <td>380181.0</td>\n",
       "      <td>17495906.0</td>\n",
       "      <td>0.634992</td>\n",
       "      <td>0.343278</td>\n",
       "      <td>dem</td>\n",
       "      <td>29.171413</td>\n",
       "      <td>Safe Democrat</td>\n",
       "    </tr>\n",
       "    <tr>\n",
       "      <th>1</th>\n",
       "      <td>Texas</td>\n",
       "      <td>38</td>\n",
       "      <td>TX</td>\n",
       "      <td>5259151.0</td>\n",
       "      <td>5894537.0</td>\n",
       "      <td>169260.0</td>\n",
       "      <td>11322948.0</td>\n",
       "      <td>0.464468</td>\n",
       "      <td>0.520583</td>\n",
       "      <td>gop</td>\n",
       "      <td>-5.611489</td>\n",
       "      <td>Likely Republican</td>\n",
       "    </tr>\n",
       "    <tr>\n",
       "      <th>2</th>\n",
       "      <td>New York</td>\n",
       "      <td>29</td>\n",
       "      <td>NY</td>\n",
       "      <td>5181454.0</td>\n",
       "      <td>3246958.0</td>\n",
       "      <td>119237.0</td>\n",
       "      <td>8547649.0</td>\n",
       "      <td>0.606185</td>\n",
       "      <td>0.379866</td>\n",
       "      <td>dem</td>\n",
       "      <td>22.631907</td>\n",
       "      <td>Safe Democrat</td>\n",
       "    </tr>\n",
       "    <tr>\n",
       "      <th>3</th>\n",
       "      <td>Florida</td>\n",
       "      <td>29</td>\n",
       "      <td>FL</td>\n",
       "      <td>5209125.0</td>\n",
       "      <td>5624329.0</td>\n",
       "      <td>99788.0</td>\n",
       "      <td>10933242.0</td>\n",
       "      <td>0.476448</td>\n",
       "      <td>0.514425</td>\n",
       "      <td>gop</td>\n",
       "      <td>-3.797629</td>\n",
       "      <td>Likely Republican</td>\n",
       "    </tr>\n",
       "    <tr>\n",
       "      <th>4</th>\n",
       "      <td>Pennsylvania</td>\n",
       "      <td>20</td>\n",
       "      <td>PA</td>\n",
       "      <td>3078120.0</td>\n",
       "      <td>3109573.0</td>\n",
       "      <td>77556.0</td>\n",
       "      <td>6265249.0</td>\n",
       "      <td>0.491301</td>\n",
       "      <td>0.496321</td>\n",
       "      <td>gop</td>\n",
       "      <td>-0.502023</td>\n",
       "      <td>Toss-Up</td>\n",
       "    </tr>\n",
       "    <tr>\n",
       "      <th>5</th>\n",
       "      <td>Illinois</td>\n",
       "      <td>20</td>\n",
       "      <td>IL</td>\n",
       "      <td>3538593.0</td>\n",
       "      <td>2523954.0</td>\n",
       "      <td>123442.0</td>\n",
       "      <td>6185989.0</td>\n",
       "      <td>0.572034</td>\n",
       "      <td>0.408011</td>\n",
       "      <td>dem</td>\n",
       "      <td>16.402212</td>\n",
       "      <td>Safe Democrat</td>\n",
       "    </tr>\n",
       "    <tr>\n",
       "      <th>6</th>\n",
       "      <td>Ohio</td>\n",
       "      <td>18</td>\n",
       "      <td>OH</td>\n",
       "      <td>2664479.0</td>\n",
       "      <td>3119411.0</td>\n",
       "      <td>87531.0</td>\n",
       "      <td>5871421.0</td>\n",
       "      <td>0.453805</td>\n",
       "      <td>0.531287</td>\n",
       "      <td>gop</td>\n",
       "      <td>-7.748244</td>\n",
       "      <td>Likely Republican</td>\n",
       "    </tr>\n",
       "    <tr>\n",
       "      <th>7</th>\n",
       "      <td>Michigan</td>\n",
       "      <td>16</td>\n",
       "      <td>MI</td>\n",
       "      <td>2904345.0</td>\n",
       "      <td>2753150.0</td>\n",
       "      <td>90772.0</td>\n",
       "      <td>5748267.0</td>\n",
       "      <td>0.505256</td>\n",
       "      <td>0.478953</td>\n",
       "      <td>dem</td>\n",
       "      <td>2.630271</td>\n",
       "      <td>Likely Democrat</td>\n",
       "    </tr>\n",
       "    <tr>\n",
       "      <th>8</th>\n",
       "      <td>Georgia</td>\n",
       "      <td>16</td>\n",
       "      <td>GA</td>\n",
       "      <td>2530580.0</td>\n",
       "      <td>2482181.0</td>\n",
       "      <td>64379.0</td>\n",
       "      <td>5077140.0</td>\n",
       "      <td>0.498426</td>\n",
       "      <td>0.488894</td>\n",
       "      <td>dem</td>\n",
       "      <td>0.953273</td>\n",
       "      <td>Toss-Up</td>\n",
       "    </tr>\n",
       "    <tr>\n",
       "      <th>9</th>\n",
       "      <td>North Carolina</td>\n",
       "      <td>15</td>\n",
       "      <td>NC</td>\n",
       "      <td>2643400.0</td>\n",
       "      <td>2701378.0</td>\n",
       "      <td>80530.0</td>\n",
       "      <td>5425308.0</td>\n",
       "      <td>0.487235</td>\n",
       "      <td>0.497922</td>\n",
       "      <td>gop</td>\n",
       "      <td>-1.068658</td>\n",
       "      <td>Toss-Up</td>\n",
       "    </tr>\n",
       "    <tr>\n",
       "      <th>10</th>\n",
       "      <td>New Jersey</td>\n",
       "      <td>14</td>\n",
       "      <td>NJ</td>\n",
       "      <td>2442912.0</td>\n",
       "      <td>1732252.0</td>\n",
       "      <td>71085.0</td>\n",
       "      <td>4246249.0</td>\n",
       "      <td>0.575311</td>\n",
       "      <td>0.407949</td>\n",
       "      <td>dem</td>\n",
       "      <td>16.736183</td>\n",
       "      <td>Safe Democrat</td>\n",
       "    </tr>\n",
       "    <tr>\n",
       "      <th>11</th>\n",
       "      <td>Virginia</td>\n",
       "      <td>13</td>\n",
       "      <td>VA</td>\n",
       "      <td>2369588.0</td>\n",
       "      <td>1943680.0</td>\n",
       "      <td>83450.0</td>\n",
       "      <td>4396718.0</td>\n",
       "      <td>0.538945</td>\n",
       "      <td>0.442075</td>\n",
       "      <td>dem</td>\n",
       "      <td>9.686953</td>\n",
       "      <td>Likely Democrat</td>\n",
       "    </tr>\n",
       "    <tr>\n",
       "      <th>12</th>\n",
       "      <td>Washington</td>\n",
       "      <td>12</td>\n",
       "      <td>WA</td>\n",
       "      <td>2382191.0</td>\n",
       "      <td>1611820.0</td>\n",
       "      <td>134019.0</td>\n",
       "      <td>4128030.0</td>\n",
       "      <td>0.577077</td>\n",
       "      <td>0.390457</td>\n",
       "      <td>dem</td>\n",
       "      <td>18.661953</td>\n",
       "      <td>Safe Democrat</td>\n",
       "    </tr>\n",
       "    <tr>\n",
       "      <th>13</th>\n",
       "      <td>Tennessee</td>\n",
       "      <td>11</td>\n",
       "      <td>TN</td>\n",
       "      <td>1132322.0</td>\n",
       "      <td>1834990.0</td>\n",
       "      <td>56971.0</td>\n",
       "      <td>3024283.0</td>\n",
       "      <td>0.374410</td>\n",
       "      <td>0.606752</td>\n",
       "      <td>gop</td>\n",
       "      <td>-23.234201</td>\n",
       "      <td>Safe Republican</td>\n",
       "    </tr>\n",
       "    <tr>\n",
       "      <th>14</th>\n",
       "      <td>Massachusetts</td>\n",
       "      <td>11</td>\n",
       "      <td>MA</td>\n",
       "      <td>2242698.0</td>\n",
       "      <td>1101689.0</td>\n",
       "      <td>77507.0</td>\n",
       "      <td>3421894.0</td>\n",
       "      <td>0.655397</td>\n",
       "      <td>0.321953</td>\n",
       "      <td>dem</td>\n",
       "      <td>33.344370</td>\n",
       "      <td>Safe Democrat</td>\n",
       "    </tr>\n",
       "    <tr>\n",
       "      <th>15</th>\n",
       "      <td>Indiana</td>\n",
       "      <td>11</td>\n",
       "      <td>IN</td>\n",
       "      <td>1167858.0</td>\n",
       "      <td>1631530.0</td>\n",
       "      <td>56856.0</td>\n",
       "      <td>2856244.0</td>\n",
       "      <td>0.408879</td>\n",
       "      <td>0.571215</td>\n",
       "      <td>gop</td>\n",
       "      <td>-16.233627</td>\n",
       "      <td>Safe Republican</td>\n",
       "    </tr>\n",
       "    <tr>\n",
       "      <th>16</th>\n",
       "      <td>Arizona</td>\n",
       "      <td>11</td>\n",
       "      <td>AZ</td>\n",
       "      <td>1672143.0</td>\n",
       "      <td>1661686.0</td>\n",
       "      <td>53497.0</td>\n",
       "      <td>3387326.0</td>\n",
       "      <td>0.493647</td>\n",
       "      <td>0.490560</td>\n",
       "      <td>dem</td>\n",
       "      <td>0.308710</td>\n",
       "      <td>Toss-Up</td>\n",
       "    </tr>\n",
       "    <tr>\n",
       "      <th>17</th>\n",
       "      <td>Wisconsin</td>\n",
       "      <td>10</td>\n",
       "      <td>WI</td>\n",
       "      <td>1631423.0</td>\n",
       "      <td>1612247.0</td>\n",
       "      <td>57476.0</td>\n",
       "      <td>3301146.0</td>\n",
       "      <td>0.494199</td>\n",
       "      <td>0.488390</td>\n",
       "      <td>dem</td>\n",
       "      <td>0.580889</td>\n",
       "      <td>Toss-Up</td>\n",
       "    </tr>\n",
       "    <tr>\n",
       "      <th>18</th>\n",
       "      <td>Missouri</td>\n",
       "      <td>10</td>\n",
       "      <td>MO</td>\n",
       "      <td>1251052.0</td>\n",
       "      <td>1711198.0</td>\n",
       "      <td>54069.0</td>\n",
       "      <td>3016319.0</td>\n",
       "      <td>0.414761</td>\n",
       "      <td>0.567313</td>\n",
       "      <td>gop</td>\n",
       "      <td>-15.255217</td>\n",
       "      <td>Safe Republican</td>\n",
       "    </tr>\n",
       "    <tr>\n",
       "      <th>19</th>\n",
       "      <td>Minnesota</td>\n",
       "      <td>10</td>\n",
       "      <td>MN</td>\n",
       "      <td>1623276.0</td>\n",
       "      <td>1391419.0</td>\n",
       "      <td>70889.0</td>\n",
       "      <td>3085584.0</td>\n",
       "      <td>0.526084</td>\n",
       "      <td>0.450942</td>\n",
       "      <td>dem</td>\n",
       "      <td>7.514202</td>\n",
       "      <td>Likely Democrat</td>\n",
       "    </tr>\n",
       "    <tr>\n",
       "      <th>20</th>\n",
       "      <td>Maryland</td>\n",
       "      <td>10</td>\n",
       "      <td>MD</td>\n",
       "      <td>1946741.0</td>\n",
       "      <td>901082.0</td>\n",
       "      <td>70649.0</td>\n",
       "      <td>2918472.0</td>\n",
       "      <td>0.667041</td>\n",
       "      <td>0.308751</td>\n",
       "      <td>dem</td>\n",
       "      <td>35.828989</td>\n",
       "      <td>Safe Democrat</td>\n",
       "    </tr>\n",
       "    <tr>\n",
       "      <th>21</th>\n",
       "      <td>South Carolina</td>\n",
       "      <td>9</td>\n",
       "      <td>SC</td>\n",
       "      <td>1057589.0</td>\n",
       "      <td>1331159.0</td>\n",
       "      <td>35449.0</td>\n",
       "      <td>2424197.0</td>\n",
       "      <td>0.436264</td>\n",
       "      <td>0.549113</td>\n",
       "      <td>gop</td>\n",
       "      <td>-11.284974</td>\n",
       "      <td>Safe Republican</td>\n",
       "    </tr>\n",
       "    <tr>\n",
       "      <th>22</th>\n",
       "      <td>Colorado</td>\n",
       "      <td>9</td>\n",
       "      <td>CO</td>\n",
       "      <td>1804352.0</td>\n",
       "      <td>1364607.0</td>\n",
       "      <td>87994.0</td>\n",
       "      <td>3256953.0</td>\n",
       "      <td>0.554000</td>\n",
       "      <td>0.418983</td>\n",
       "      <td>dem</td>\n",
       "      <td>13.501730</td>\n",
       "      <td>Safe Democrat</td>\n",
       "    </tr>\n",
       "    <tr>\n",
       "      <th>23</th>\n",
       "      <td>Alabama</td>\n",
       "      <td>9</td>\n",
       "      <td>AL</td>\n",
       "      <td>849648.0</td>\n",
       "      <td>1441168.0</td>\n",
       "      <td>32488.0</td>\n",
       "      <td>2323304.0</td>\n",
       "      <td>0.365707</td>\n",
       "      <td>0.620310</td>\n",
       "      <td>gop</td>\n",
       "      <td>-25.460293</td>\n",
       "      <td>Safe Republican</td>\n",
       "    </tr>\n",
       "    <tr>\n",
       "      <th>24</th>\n",
       "      <td>Louisiana</td>\n",
       "      <td>8</td>\n",
       "      <td>LA</td>\n",
       "      <td>890056.0</td>\n",
       "      <td>1275954.0</td>\n",
       "      <td>38270.0</td>\n",
       "      <td>2204280.0</td>\n",
       "      <td>0.403785</td>\n",
       "      <td>0.578853</td>\n",
       "      <td>gop</td>\n",
       "      <td>-17.506760</td>\n",
       "      <td>Safe Republican</td>\n",
       "    </tr>\n",
       "    <tr>\n",
       "      <th>25</th>\n",
       "      <td>Kentucky</td>\n",
       "      <td>8</td>\n",
       "      <td>KY</td>\n",
       "      <td>776991.0</td>\n",
       "      <td>1341953.0</td>\n",
       "      <td>37927.0</td>\n",
       "      <td>2156871.0</td>\n",
       "      <td>0.360240</td>\n",
       "      <td>0.622176</td>\n",
       "      <td>gop</td>\n",
       "      <td>-26.193592</td>\n",
       "      <td>Safe Republican</td>\n",
       "    </tr>\n",
       "    <tr>\n",
       "      <th>26</th>\n",
       "      <td>Oregon</td>\n",
       "      <td>7</td>\n",
       "      <td>OR</td>\n",
       "      <td>1751176.0</td>\n",
       "      <td>1256654.0</td>\n",
       "      <td>85274.0</td>\n",
       "      <td>3093104.0</td>\n",
       "      <td>0.566155</td>\n",
       "      <td>0.406276</td>\n",
       "      <td>dem</td>\n",
       "      <td>15.987888</td>\n",
       "      <td>Safe Democrat</td>\n",
       "    </tr>\n",
       "    <tr>\n",
       "      <th>27</th>\n",
       "      <td>Oklahoma</td>\n",
       "      <td>7</td>\n",
       "      <td>OK</td>\n",
       "      <td>540444.0</td>\n",
       "      <td>1034947.0</td>\n",
       "      <td>38669.0</td>\n",
       "      <td>1614060.0</td>\n",
       "      <td>0.334835</td>\n",
       "      <td>0.641207</td>\n",
       "      <td>gop</td>\n",
       "      <td>-30.637213</td>\n",
       "      <td>Safe Republican</td>\n",
       "    </tr>\n",
       "    <tr>\n",
       "      <th>28</th>\n",
       "      <td>Connecticut</td>\n",
       "      <td>7</td>\n",
       "      <td>CT</td>\n",
       "      <td>1125232.0</td>\n",
       "      <td>756300.0</td>\n",
       "      <td>29773.0</td>\n",
       "      <td>1911305.0</td>\n",
       "      <td>0.588724</td>\n",
       "      <td>0.395698</td>\n",
       "      <td>dem</td>\n",
       "      <td>19.302623</td>\n",
       "      <td>Safe Democrat</td>\n",
       "    </tr>\n",
       "    <tr>\n",
       "      <th>29</th>\n",
       "      <td>Utah</td>\n",
       "      <td>6</td>\n",
       "      <td>UT</td>\n",
       "      <td>583124.0</td>\n",
       "      <td>854303.0</td>\n",
       "      <td>63219.0</td>\n",
       "      <td>1500646.0</td>\n",
       "      <td>0.388582</td>\n",
       "      <td>0.569290</td>\n",
       "      <td>gop</td>\n",
       "      <td>-18.070818</td>\n",
       "      <td>Safe Republican</td>\n",
       "    </tr>\n",
       "    <tr>\n",
       "      <th>30</th>\n",
       "      <td>Nevada</td>\n",
       "      <td>6</td>\n",
       "      <td>NV</td>\n",
       "      <td>212126.0</td>\n",
       "      <td>266637.0</td>\n",
       "      <td>12938.0</td>\n",
       "      <td>491701.0</td>\n",
       "      <td>0.431413</td>\n",
       "      <td>0.542275</td>\n",
       "      <td>gop</td>\n",
       "      <td>-11.086209</td>\n",
       "      <td>Safe Republican</td>\n",
       "    </tr>\n",
       "    <tr>\n",
       "      <th>31</th>\n",
       "      <td>Mississippi</td>\n",
       "      <td>6</td>\n",
       "      <td>MS</td>\n",
       "      <td>534760.0</td>\n",
       "      <td>751918.0</td>\n",
       "      <td>19018.0</td>\n",
       "      <td>1305696.0</td>\n",
       "      <td>0.409559</td>\n",
       "      <td>0.575875</td>\n",
       "      <td>gop</td>\n",
       "      <td>-16.631590</td>\n",
       "      <td>Safe Republican</td>\n",
       "    </tr>\n",
       "    <tr>\n",
       "      <th>32</th>\n",
       "      <td>Kansas</td>\n",
       "      <td>6</td>\n",
       "      <td>KS</td>\n",
       "      <td>559379.0</td>\n",
       "      <td>765934.0</td>\n",
       "      <td>32824.0</td>\n",
       "      <td>1358137.0</td>\n",
       "      <td>0.411872</td>\n",
       "      <td>0.563959</td>\n",
       "      <td>gop</td>\n",
       "      <td>-15.208701</td>\n",
       "      <td>Safe Republican</td>\n",
       "    </tr>\n",
       "    <tr>\n",
       "      <th>33</th>\n",
       "      <td>Iowa</td>\n",
       "      <td>6</td>\n",
       "      <td>IA</td>\n",
       "      <td>759597.0</td>\n",
       "      <td>900254.0</td>\n",
       "      <td>34245.0</td>\n",
       "      <td>1694096.0</td>\n",
       "      <td>0.448379</td>\n",
       "      <td>0.531407</td>\n",
       "      <td>gop</td>\n",
       "      <td>-8.302776</td>\n",
       "      <td>Likely Republican</td>\n",
       "    </tr>\n",
       "    <tr>\n",
       "      <th>34</th>\n",
       "      <td>Arkansas</td>\n",
       "      <td>6</td>\n",
       "      <td>AR</td>\n",
       "      <td>423932.0</td>\n",
       "      <td>760647.0</td>\n",
       "      <td>34490.0</td>\n",
       "      <td>1219069.0</td>\n",
       "      <td>0.347751</td>\n",
       "      <td>0.623957</td>\n",
       "      <td>gop</td>\n",
       "      <td>-27.620668</td>\n",
       "      <td>Safe Republican</td>\n",
       "    </tr>\n",
       "    <tr>\n",
       "      <th>35</th>\n",
       "      <td>West Virginia</td>\n",
       "      <td>5</td>\n",
       "      <td>WV</td>\n",
       "      <td>226471.0</td>\n",
       "      <td>518190.0</td>\n",
       "      <td>12354.0</td>\n",
       "      <td>757015.0</td>\n",
       "      <td>0.299163</td>\n",
       "      <td>0.684517</td>\n",
       "      <td>gop</td>\n",
       "      <td>-38.535432</td>\n",
       "      <td>Safe Republican</td>\n",
       "    </tr>\n",
       "    <tr>\n",
       "      <th>36</th>\n",
       "      <td>New Mexico</td>\n",
       "      <td>5</td>\n",
       "      <td>NM</td>\n",
       "      <td>412784.0</td>\n",
       "      <td>349277.0</td>\n",
       "      <td>16871.0</td>\n",
       "      <td>778932.0</td>\n",
       "      <td>0.529936</td>\n",
       "      <td>0.448405</td>\n",
       "      <td>dem</td>\n",
       "      <td>8.153087</td>\n",
       "      <td>Likely Democrat</td>\n",
       "    </tr>\n",
       "    <tr>\n",
       "      <th>37</th>\n",
       "      <td>Nebraska</td>\n",
       "      <td>5</td>\n",
       "      <td>NE</td>\n",
       "      <td>894821.0</td>\n",
       "      <td>983970.0</td>\n",
       "      <td>44752.0</td>\n",
       "      <td>1923543.0</td>\n",
       "      <td>0.465194</td>\n",
       "      <td>0.511540</td>\n",
       "      <td>gop</td>\n",
       "      <td>-4.634625</td>\n",
       "      <td>Likely Republican</td>\n",
       "    </tr>\n",
       "    <tr>\n",
       "      <th>38</th>\n",
       "      <td>Rhode Island</td>\n",
       "      <td>4</td>\n",
       "      <td>RI</td>\n",
       "      <td>275423.0</td>\n",
       "      <td>207895.0</td>\n",
       "      <td>9175.0</td>\n",
       "      <td>492493.0</td>\n",
       "      <td>0.559242</td>\n",
       "      <td>0.422128</td>\n",
       "      <td>dem</td>\n",
       "      <td>13.711464</td>\n",
       "      <td>Safe Democrat</td>\n",
       "    </tr>\n",
       "    <tr>\n",
       "      <th>39</th>\n",
       "      <td>New Hampshire</td>\n",
       "      <td>4</td>\n",
       "      <td>NH</td>\n",
       "      <td>751153.0</td>\n",
       "      <td>597460.0</td>\n",
       "      <td>21993.0</td>\n",
       "      <td>1370606.0</td>\n",
       "      <td>0.548044</td>\n",
       "      <td>0.435909</td>\n",
       "      <td>dem</td>\n",
       "      <td>11.213507</td>\n",
       "      <td>Safe Democrat</td>\n",
       "    </tr>\n",
       "    <tr>\n",
       "      <th>40</th>\n",
       "      <td>Maine</td>\n",
       "      <td>4</td>\n",
       "      <td>ME</td>\n",
       "      <td>570881.0</td>\n",
       "      <td>458258.0</td>\n",
       "      <td>30406.0</td>\n",
       "      <td>1059545.0</td>\n",
       "      <td>0.538798</td>\n",
       "      <td>0.432505</td>\n",
       "      <td>dem</td>\n",
       "      <td>10.629374</td>\n",
       "      <td>Safe Democrat</td>\n",
       "    </tr>\n",
       "    <tr>\n",
       "      <th>41</th>\n",
       "      <td>Idaho</td>\n",
       "      <td>4</td>\n",
       "      <td>ID</td>\n",
       "      <td>175638.0</td>\n",
       "      <td>447184.0</td>\n",
       "      <td>19460.0</td>\n",
       "      <td>642282.0</td>\n",
       "      <td>0.273459</td>\n",
       "      <td>0.696242</td>\n",
       "      <td>gop</td>\n",
       "      <td>-42.278314</td>\n",
       "      <td>Safe Republican</td>\n",
       "    </tr>\n",
       "    <tr>\n",
       "      <th>42</th>\n",
       "      <td>Hawaii</td>\n",
       "      <td>4</td>\n",
       "      <td>HI</td>\n",
       "      <td>381224.0</td>\n",
       "      <td>280481.0</td>\n",
       "      <td>15881.0</td>\n",
       "      <td>677586.0</td>\n",
       "      <td>0.562621</td>\n",
       "      <td>0.413942</td>\n",
       "      <td>dem</td>\n",
       "      <td>14.867928</td>\n",
       "      <td>Safe Democrat</td>\n",
       "    </tr>\n",
       "    <tr>\n",
       "      <th>43</th>\n",
       "      <td>Wyoming</td>\n",
       "      <td>3</td>\n",
       "      <td>WY</td>\n",
       "      <td>63611.0</td>\n",
       "      <td>180174.0</td>\n",
       "      <td>8611.0</td>\n",
       "      <td>252396.0</td>\n",
       "      <td>0.252029</td>\n",
       "      <td>0.713854</td>\n",
       "      <td>gop</td>\n",
       "      <td>-46.182586</td>\n",
       "      <td>Safe Republican</td>\n",
       "    </tr>\n",
       "    <tr>\n",
       "      <th>44</th>\n",
       "      <td>Vermont</td>\n",
       "      <td>3</td>\n",
       "      <td>VT</td>\n",
       "      <td>265192.0</td>\n",
       "      <td>129274.0</td>\n",
       "      <td>12097.0</td>\n",
       "      <td>406563.0</td>\n",
       "      <td>0.652278</td>\n",
       "      <td>0.317968</td>\n",
       "      <td>dem</td>\n",
       "      <td>33.430981</td>\n",
       "      <td>Safe Democrat</td>\n",
       "    </tr>\n",
       "    <tr>\n",
       "      <th>45</th>\n",
       "      <td>South Dakota</td>\n",
       "      <td>3</td>\n",
       "      <td>SD</td>\n",
       "      <td>164241.0</td>\n",
       "      <td>292721.0</td>\n",
       "      <td>11819.0</td>\n",
       "      <td>468781.0</td>\n",
       "      <td>0.350358</td>\n",
       "      <td>0.624430</td>\n",
       "      <td>gop</td>\n",
       "      <td>-27.407254</td>\n",
       "      <td>Safe Republican</td>\n",
       "    </tr>\n",
       "    <tr>\n",
       "      <th>46</th>\n",
       "      <td>North Dakota</td>\n",
       "      <td>3</td>\n",
       "      <td>ND</td>\n",
       "      <td>129129.0</td>\n",
       "      <td>274032.0</td>\n",
       "      <td>11975.0</td>\n",
       "      <td>415136.0</td>\n",
       "      <td>0.311052</td>\n",
       "      <td>0.660102</td>\n",
       "      <td>gop</td>\n",
       "      <td>-34.904947</td>\n",
       "      <td>Safe Republican</td>\n",
       "    </tr>\n",
       "    <tr>\n",
       "      <th>47</th>\n",
       "      <td>Montana</td>\n",
       "      <td>3</td>\n",
       "      <td>MT</td>\n",
       "      <td>245352.0</td>\n",
       "      <td>350650.0</td>\n",
       "      <td>17539.0</td>\n",
       "      <td>613541.0</td>\n",
       "      <td>0.399895</td>\n",
       "      <td>0.571518</td>\n",
       "      <td>gop</td>\n",
       "      <td>-17.162341</td>\n",
       "      <td>Safe Republican</td>\n",
       "    </tr>\n",
       "    <tr>\n",
       "      <th>48</th>\n",
       "      <td>Delaware</td>\n",
       "      <td>3</td>\n",
       "      <td>DE</td>\n",
       "      <td>569039.0</td>\n",
       "      <td>178180.0</td>\n",
       "      <td>14122.0</td>\n",
       "      <td>761341.0</td>\n",
       "      <td>0.747417</td>\n",
       "      <td>0.234034</td>\n",
       "      <td>dem</td>\n",
       "      <td>51.338231</td>\n",
       "      <td>Safe Democrat</td>\n",
       "    </tr>\n",
       "    <tr>\n",
       "      <th>49</th>\n",
       "      <td>District of Columbia</td>\n",
       "      <td>3</td>\n",
       "      <td>DC</td>\n",
       "      <td>89704.0</td>\n",
       "      <td>50972.0</td>\n",
       "      <td>1928.0</td>\n",
       "      <td>142604.0</td>\n",
       "      <td>0.629043</td>\n",
       "      <td>0.357437</td>\n",
       "      <td>dem</td>\n",
       "      <td>27.160528</td>\n",
       "      <td>Safe Democrat</td>\n",
       "    </tr>\n",
       "  </tbody>\n",
       "</table>\n",
       "</div>"
      ],
      "text/plain": [
       "                   state  electoral_votes_number state_code   Votes_dem  \\\n",
       "0             California                      55         CA  11109764.0   \n",
       "1                  Texas                      38         TX   5259151.0   \n",
       "2               New York                      29         NY   5181454.0   \n",
       "3                Florida                      29         FL   5209125.0   \n",
       "4           Pennsylvania                      20         PA   3078120.0   \n",
       "5               Illinois                      20         IL   3538593.0   \n",
       "6                   Ohio                      18         OH   2664479.0   \n",
       "7               Michigan                      16         MI   2904345.0   \n",
       "8                Georgia                      16         GA   2530580.0   \n",
       "9         North Carolina                      15         NC   2643400.0   \n",
       "10            New Jersey                      14         NJ   2442912.0   \n",
       "11              Virginia                      13         VA   2369588.0   \n",
       "12            Washington                      12         WA   2382191.0   \n",
       "13             Tennessee                      11         TN   1132322.0   \n",
       "14         Massachusetts                      11         MA   2242698.0   \n",
       "15               Indiana                      11         IN   1167858.0   \n",
       "16               Arizona                      11         AZ   1672143.0   \n",
       "17             Wisconsin                      10         WI   1631423.0   \n",
       "18              Missouri                      10         MO   1251052.0   \n",
       "19             Minnesota                      10         MN   1623276.0   \n",
       "20              Maryland                      10         MD   1946741.0   \n",
       "21        South Carolina                       9         SC   1057589.0   \n",
       "22              Colorado                       9         CO   1804352.0   \n",
       "23               Alabama                       9         AL    849648.0   \n",
       "24             Louisiana                       8         LA    890056.0   \n",
       "25              Kentucky                       8         KY    776991.0   \n",
       "26                Oregon                       7         OR   1751176.0   \n",
       "27              Oklahoma                       7         OK    540444.0   \n",
       "28           Connecticut                       7         CT   1125232.0   \n",
       "29                  Utah                       6         UT    583124.0   \n",
       "30                Nevada                       6         NV    212126.0   \n",
       "31           Mississippi                       6         MS    534760.0   \n",
       "32                Kansas                       6         KS    559379.0   \n",
       "33                  Iowa                       6         IA    759597.0   \n",
       "34              Arkansas                       6         AR    423932.0   \n",
       "35         West Virginia                       5         WV    226471.0   \n",
       "36            New Mexico                       5         NM    412784.0   \n",
       "37              Nebraska                       5         NE    894821.0   \n",
       "38          Rhode Island                       4         RI    275423.0   \n",
       "39         New Hampshire                       4         NH    751153.0   \n",
       "40                 Maine                       4         ME    570881.0   \n",
       "41                 Idaho                       4         ID    175638.0   \n",
       "42                Hawaii                       4         HI    381224.0   \n",
       "43               Wyoming                       3         WY     63611.0   \n",
       "44               Vermont                       3         VT    265192.0   \n",
       "45          South Dakota                       3         SD    164241.0   \n",
       "46          North Dakota                       3         ND    129129.0   \n",
       "47               Montana                       3         MT    245352.0   \n",
       "48              Delaware                       3         DE    569039.0   \n",
       "49  District of Columbia                       3         DC     89704.0   \n",
       "\n",
       "    Votes_gop  Votes_other  Votes_total   Per_dem   Per_gop Winner  \\\n",
       "0   6005961.0     380181.0   17495906.0  0.634992  0.343278    dem   \n",
       "1   5894537.0     169260.0   11322948.0  0.464468  0.520583    gop   \n",
       "2   3246958.0     119237.0    8547649.0  0.606185  0.379866    dem   \n",
       "3   5624329.0      99788.0   10933242.0  0.476448  0.514425    gop   \n",
       "4   3109573.0      77556.0    6265249.0  0.491301  0.496321    gop   \n",
       "5   2523954.0     123442.0    6185989.0  0.572034  0.408011    dem   \n",
       "6   3119411.0      87531.0    5871421.0  0.453805  0.531287    gop   \n",
       "7   2753150.0      90772.0    5748267.0  0.505256  0.478953    dem   \n",
       "8   2482181.0      64379.0    5077140.0  0.498426  0.488894    dem   \n",
       "9   2701378.0      80530.0    5425308.0  0.487235  0.497922    gop   \n",
       "10  1732252.0      71085.0    4246249.0  0.575311  0.407949    dem   \n",
       "11  1943680.0      83450.0    4396718.0  0.538945  0.442075    dem   \n",
       "12  1611820.0     134019.0    4128030.0  0.577077  0.390457    dem   \n",
       "13  1834990.0      56971.0    3024283.0  0.374410  0.606752    gop   \n",
       "14  1101689.0      77507.0    3421894.0  0.655397  0.321953    dem   \n",
       "15  1631530.0      56856.0    2856244.0  0.408879  0.571215    gop   \n",
       "16  1661686.0      53497.0    3387326.0  0.493647  0.490560    dem   \n",
       "17  1612247.0      57476.0    3301146.0  0.494199  0.488390    dem   \n",
       "18  1711198.0      54069.0    3016319.0  0.414761  0.567313    gop   \n",
       "19  1391419.0      70889.0    3085584.0  0.526084  0.450942    dem   \n",
       "20   901082.0      70649.0    2918472.0  0.667041  0.308751    dem   \n",
       "21  1331159.0      35449.0    2424197.0  0.436264  0.549113    gop   \n",
       "22  1364607.0      87994.0    3256953.0  0.554000  0.418983    dem   \n",
       "23  1441168.0      32488.0    2323304.0  0.365707  0.620310    gop   \n",
       "24  1275954.0      38270.0    2204280.0  0.403785  0.578853    gop   \n",
       "25  1341953.0      37927.0    2156871.0  0.360240  0.622176    gop   \n",
       "26  1256654.0      85274.0    3093104.0  0.566155  0.406276    dem   \n",
       "27  1034947.0      38669.0    1614060.0  0.334835  0.641207    gop   \n",
       "28   756300.0      29773.0    1911305.0  0.588724  0.395698    dem   \n",
       "29   854303.0      63219.0    1500646.0  0.388582  0.569290    gop   \n",
       "30   266637.0      12938.0     491701.0  0.431413  0.542275    gop   \n",
       "31   751918.0      19018.0    1305696.0  0.409559  0.575875    gop   \n",
       "32   765934.0      32824.0    1358137.0  0.411872  0.563959    gop   \n",
       "33   900254.0      34245.0    1694096.0  0.448379  0.531407    gop   \n",
       "34   760647.0      34490.0    1219069.0  0.347751  0.623957    gop   \n",
       "35   518190.0      12354.0     757015.0  0.299163  0.684517    gop   \n",
       "36   349277.0      16871.0     778932.0  0.529936  0.448405    dem   \n",
       "37   983970.0      44752.0    1923543.0  0.465194  0.511540    gop   \n",
       "38   207895.0       9175.0     492493.0  0.559242  0.422128    dem   \n",
       "39   597460.0      21993.0    1370606.0  0.548044  0.435909    dem   \n",
       "40   458258.0      30406.0    1059545.0  0.538798  0.432505    dem   \n",
       "41   447184.0      19460.0     642282.0  0.273459  0.696242    gop   \n",
       "42   280481.0      15881.0     677586.0  0.562621  0.413942    dem   \n",
       "43   180174.0       8611.0     252396.0  0.252029  0.713854    gop   \n",
       "44   129274.0      12097.0     406563.0  0.652278  0.317968    dem   \n",
       "45   292721.0      11819.0     468781.0  0.350358  0.624430    gop   \n",
       "46   274032.0      11975.0     415136.0  0.311052  0.660102    gop   \n",
       "47   350650.0      17539.0     613541.0  0.399895  0.571518    gop   \n",
       "48   178180.0      14122.0     761341.0  0.747417  0.234034    dem   \n",
       "49    50972.0       1928.0     142604.0  0.629043  0.357437    dem   \n",
       "\n",
       "    Difference             Status  \n",
       "0    29.171413      Safe Democrat  \n",
       "1    -5.611489  Likely Republican  \n",
       "2    22.631907      Safe Democrat  \n",
       "3    -3.797629  Likely Republican  \n",
       "4    -0.502023            Toss-Up  \n",
       "5    16.402212      Safe Democrat  \n",
       "6    -7.748244  Likely Republican  \n",
       "7     2.630271    Likely Democrat  \n",
       "8     0.953273            Toss-Up  \n",
       "9    -1.068658            Toss-Up  \n",
       "10   16.736183      Safe Democrat  \n",
       "11    9.686953    Likely Democrat  \n",
       "12   18.661953      Safe Democrat  \n",
       "13  -23.234201    Safe Republican  \n",
       "14   33.344370      Safe Democrat  \n",
       "15  -16.233627    Safe Republican  \n",
       "16    0.308710            Toss-Up  \n",
       "17    0.580889            Toss-Up  \n",
       "18  -15.255217    Safe Republican  \n",
       "19    7.514202    Likely Democrat  \n",
       "20   35.828989      Safe Democrat  \n",
       "21  -11.284974    Safe Republican  \n",
       "22   13.501730      Safe Democrat  \n",
       "23  -25.460293    Safe Republican  \n",
       "24  -17.506760    Safe Republican  \n",
       "25  -26.193592    Safe Republican  \n",
       "26   15.987888      Safe Democrat  \n",
       "27  -30.637213    Safe Republican  \n",
       "28   19.302623      Safe Democrat  \n",
       "29  -18.070818    Safe Republican  \n",
       "30  -11.086209    Safe Republican  \n",
       "31  -16.631590    Safe Republican  \n",
       "32  -15.208701    Safe Republican  \n",
       "33   -8.302776  Likely Republican  \n",
       "34  -27.620668    Safe Republican  \n",
       "35  -38.535432    Safe Republican  \n",
       "36    8.153087    Likely Democrat  \n",
       "37   -4.634625  Likely Republican  \n",
       "38   13.711464      Safe Democrat  \n",
       "39   11.213507      Safe Democrat  \n",
       "40   10.629374      Safe Democrat  \n",
       "41  -42.278314    Safe Republican  \n",
       "42   14.867928      Safe Democrat  \n",
       "43  -46.182586    Safe Republican  \n",
       "44   33.430981      Safe Democrat  \n",
       "45  -27.407254    Safe Republican  \n",
       "46  -34.904947    Safe Republican  \n",
       "47  -17.162341    Safe Republican  \n",
       "48   51.338231      Safe Democrat  \n",
       "49   27.160528      Safe Democrat  "
      ]
     },
     "execution_count": 5,
     "metadata": {},
     "output_type": "execute_result"
    }
   ],
   "source": [
    "# Cargar datos electorales reales\n",
    "df_actual = pd.DataFrame({f'Votes_dem': data[f'votes_dem_{ELECTORAL_YEAR}'], \n",
    "                            f'Votes_gop': data[f'total_votes_{ELECTORAL_YEAR}'] - data[f'votes_dem_{ELECTORAL_YEAR}'] - data[f'votes_others_{ELECTORAL_YEAR}'], \n",
    "                            f'Votes_other': data[f'votes_others_{ELECTORAL_YEAR}'],\n",
    "                            f'Votes_total': data[f'total_votes_{ELECTORAL_YEAR}'], \n",
    "                            'state': state_names,\n",
    "                            'county': county_names,\n",
    "                            'fips': fips_codes})\n",
    "df_actual_state = df_actual.groupby('state').agg(Votes_dem=(f'Votes_dem', 'sum'), \n",
    "                                                    Votes_gop=(f'Votes_gop', 'sum'),\n",
    "                                                    Votes_other=(f'Votes_other', 'sum'),\n",
    "                                                    Votes_total=(f'Votes_total', 'sum'))\n",
    "\n",
    "df_actual_state[\"Per_dem\"] = df_actual_state[\"Votes_dem\"] / df_actual_state[\"Votes_total\"]\n",
    "df_actual_state[\"Per_gop\"] = df_actual_state[\"Votes_gop\"] / df_actual_state[\"Votes_total\"]\n",
    "\n",
    "# Añadir la columna \"Winner\" basado en los porcentajes predichos de Biden y Trump\n",
    "df_actual_state[\"Winner\"] = np.where(df_actual_state[\"Per_dem\"] < df_actual_state[\"Per_gop\"], 'gop', 'dem')\n",
    "\n",
    "\n",
    "full_df_actual_state = pd.merge(seats_data, df_actual_state, how='inner', on=[\"state\"])\n",
    "\n",
    "\n",
    "\n",
    "# Añadir diferencia entre Biden y Trump\n",
    "full_df_actual_state['Difference'] = (full_df_actual_state[\"Per_dem\"] - full_df_actual_state[\"Per_gop\"]) * 100\n",
    "\n",
    "\n",
    "# Definir las condiciones y los valores a asignar\n",
    "conditions = [\n",
    "    full_df_actual_state[\"Difference\"] > 10,\n",
    "    full_df_actual_state[\"Difference\"].between(2.5, 10),\n",
    "    full_df_actual_state[\"Difference\"].between(-2.5, 2.5),\n",
    "    full_df_actual_state[\"Difference\"].between(-10, -2.5),\n",
    "    full_df_actual_state[\"Difference\"] < -10\n",
    "]\n",
    "\n",
    "choices = [\n",
    "    \"Safe Democrat\",\n",
    "    \"Likely Democrat\",\n",
    "    \"Toss-Up\",\n",
    "    \"Likely Republican\",\n",
    "    \"Safe Republican\"\n",
    "]\n",
    "\n",
    "# Usar np.select para asignar el \"Status\" basado en las condiciones, con un valor por defecto \"Unknown\"\n",
    "full_df_actual_state[\"Status\"] = np.select(conditions, choices, default=\"Unknown\")\n",
    "\n",
    "full_df_actual_state"
   ]
  },
  {
   "cell_type": "markdown",
   "metadata": {},
   "source": [
    "## Algorithm"
   ]
  },
  {
   "cell_type": "code",
   "execution_count": 6,
   "metadata": {},
   "outputs": [],
   "source": [
    "n_sim = 500"
   ]
  },
  {
   "cell_type": "code",
   "execution_count": 7,
   "metadata": {},
   "outputs": [
    {
     "name": "stdout",
     "output_type": "stream",
     "text": [
      "Simulation 0\n",
      "Simulation 1\n",
      "Simulation 2\n",
      "Simulation 3\n",
      "Simulation 4\n",
      "Simulation 5\n",
      "Simulation 6\n",
      "Simulation 7\n",
      "Simulation 8\n",
      "Simulation 9\n",
      "Simulation 10\n",
      "Simulation 11\n",
      "Simulation 12\n",
      "Simulation 13\n",
      "Simulation 14\n",
      "Simulation 15\n",
      "Simulation 16\n",
      "Simulation 17\n",
      "Simulation 18\n",
      "Simulation 19\n",
      "Simulation 20\n",
      "Simulation 21\n",
      "Simulation 22\n",
      "Simulation 23\n",
      "Simulation 24\n",
      "Simulation 25\n",
      "Simulation 26\n",
      "Simulation 27\n",
      "Simulation 28\n",
      "Simulation 29\n",
      "Simulation 30\n",
      "Simulation 31\n",
      "Simulation 32\n",
      "Simulation 33\n",
      "Simulation 34\n",
      "Simulation 35\n",
      "Simulation 36\n",
      "Simulation 37\n",
      "Simulation 38\n",
      "Simulation 39\n",
      "Simulation 40\n",
      "Simulation 41\n",
      "Simulation 42\n",
      "Simulation 43\n",
      "Simulation 44\n",
      "Simulation 45\n",
      "Simulation 46\n",
      "Simulation 47\n",
      "Simulation 48\n",
      "Simulation 49\n",
      "Simulation 50\n",
      "Simulation 51\n",
      "Simulation 52\n",
      "Simulation 53\n",
      "Simulation 54\n",
      "Simulation 55\n",
      "Simulation 56\n",
      "Simulation 57\n",
      "Simulation 58\n",
      "Simulation 59\n",
      "Simulation 60\n",
      "Simulation 61\n",
      "Simulation 62\n",
      "Simulation 63\n",
      "Simulation 64\n",
      "Simulation 65\n",
      "Simulation 66\n",
      "Simulation 67\n",
      "Simulation 68\n",
      "Simulation 69\n",
      "Simulation 70\n",
      "Simulation 71\n",
      "Simulation 72\n",
      "Simulation 73\n",
      "Simulation 74\n",
      "Simulation 75\n",
      "Simulation 76\n",
      "Simulation 77\n",
      "Simulation 78\n",
      "Simulation 79\n",
      "Simulation 80\n",
      "Simulation 81\n",
      "Simulation 82\n",
      "Simulation 83\n",
      "Simulation 84\n",
      "Simulation 85\n",
      "Simulation 86\n",
      "Simulation 87\n",
      "Simulation 88\n",
      "Simulation 89\n",
      "Simulation 90\n",
      "Simulation 91\n",
      "Simulation 92\n",
      "Simulation 93\n",
      "Simulation 94\n",
      "Simulation 95\n",
      "Simulation 96\n",
      "Simulation 97\n",
      "Simulation 98\n",
      "Simulation 99\n",
      "Simulation 100\n",
      "Simulation 101\n",
      "Simulation 102\n",
      "Simulation 103\n",
      "Simulation 104\n",
      "Simulation 105\n",
      "Simulation 106\n",
      "Simulation 107\n",
      "Simulation 108\n",
      "Simulation 109\n",
      "Simulation 110\n",
      "Simulation 111\n",
      "Simulation 112\n",
      "Simulation 113\n",
      "Simulation 114\n",
      "Simulation 115\n",
      "Simulation 116\n",
      "Simulation 117\n",
      "Simulation 118\n",
      "Simulation 119\n",
      "Simulation 120\n",
      "Simulation 121\n",
      "Simulation 122\n",
      "Simulation 123\n",
      "Simulation 124\n",
      "Simulation 125\n",
      "Simulation 126\n",
      "Simulation 127\n",
      "Simulation 128\n",
      "Simulation 129\n",
      "Simulation 130\n",
      "Simulation 131\n",
      "Simulation 132\n",
      "Simulation 133\n",
      "Simulation 134\n",
      "Simulation 135\n",
      "Simulation 136\n",
      "Simulation 137\n",
      "Simulation 138\n",
      "Simulation 139\n",
      "Simulation 140\n",
      "Simulation 141\n",
      "Simulation 142\n",
      "Simulation 143\n",
      "Simulation 144\n",
      "Simulation 145\n",
      "Simulation 146\n",
      "Simulation 147\n",
      "Simulation 148\n",
      "Simulation 149\n",
      "Simulation 150\n",
      "Simulation 151\n",
      "Simulation 152\n",
      "Simulation 153\n",
      "Simulation 154\n",
      "Simulation 155\n",
      "Simulation 156\n",
      "Simulation 157\n",
      "Simulation 158\n",
      "Simulation 159\n",
      "Simulation 160\n",
      "Simulation 161\n",
      "Simulation 162\n",
      "Simulation 163\n",
      "Simulation 164\n",
      "Simulation 165\n",
      "Simulation 166\n",
      "Simulation 167\n",
      "Simulation 168\n",
      "Simulation 169\n",
      "Simulation 170\n",
      "Simulation 171\n",
      "Simulation 172\n",
      "Simulation 173\n",
      "Simulation 174\n",
      "Simulation 175\n",
      "Simulation 176\n",
      "Simulation 177\n",
      "Simulation 178\n",
      "Simulation 179\n",
      "Simulation 180\n",
      "Simulation 181\n",
      "Simulation 182\n",
      "Simulation 183\n",
      "Simulation 184\n",
      "Simulation 185\n",
      "Simulation 186\n",
      "Simulation 187\n",
      "Simulation 188\n",
      "Simulation 189\n",
      "Simulation 190\n",
      "Simulation 191\n",
      "Simulation 192\n",
      "Simulation 193\n",
      "Simulation 194\n",
      "Simulation 195\n",
      "Simulation 196\n",
      "Simulation 197\n",
      "Simulation 198\n",
      "Simulation 199\n",
      "Simulation 200\n",
      "Simulation 201\n",
      "Simulation 202\n",
      "Simulation 203\n",
      "Simulation 204\n",
      "Simulation 205\n",
      "Simulation 206\n",
      "Simulation 207\n",
      "Simulation 208\n",
      "Simulation 209\n",
      "Simulation 210\n",
      "Simulation 211\n",
      "Simulation 212\n",
      "Simulation 213\n",
      "Simulation 214\n",
      "Simulation 215\n",
      "Simulation 216\n",
      "Simulation 217\n",
      "Simulation 218\n",
      "Simulation 219\n",
      "Simulation 220\n",
      "Simulation 221\n",
      "Simulation 222\n",
      "Simulation 223\n",
      "Simulation 224\n",
      "Simulation 225\n",
      "Simulation 226\n",
      "Simulation 227\n",
      "Simulation 228\n",
      "Simulation 229\n",
      "Simulation 230\n",
      "Simulation 231\n",
      "Simulation 232\n",
      "Simulation 233\n",
      "Simulation 234\n",
      "Simulation 235\n",
      "Simulation 236\n",
      "Simulation 237\n",
      "Simulation 238\n",
      "Simulation 239\n",
      "Simulation 240\n",
      "Simulation 241\n",
      "Simulation 242\n",
      "Simulation 243\n",
      "Simulation 244\n",
      "Simulation 245\n",
      "Simulation 246\n",
      "Simulation 247\n",
      "Simulation 248\n",
      "Simulation 249\n",
      "Simulation 250\n",
      "Simulation 251\n",
      "Simulation 252\n",
      "Simulation 253\n",
      "Simulation 254\n",
      "Simulation 255\n",
      "Simulation 256\n",
      "Simulation 257\n",
      "Simulation 258\n",
      "Simulation 259\n",
      "Simulation 260\n",
      "Simulation 261\n",
      "Simulation 262\n",
      "Simulation 263\n",
      "Simulation 264\n",
      "Simulation 265\n",
      "Simulation 266\n",
      "Simulation 267\n",
      "Simulation 268\n",
      "Simulation 269\n",
      "Simulation 270\n",
      "Simulation 271\n",
      "Simulation 272\n",
      "Simulation 273\n",
      "Simulation 274\n",
      "Simulation 275\n",
      "Simulation 276\n",
      "Simulation 277\n",
      "Simulation 278\n",
      "Simulation 279\n",
      "Simulation 280\n",
      "Simulation 281\n",
      "Simulation 282\n",
      "Simulation 283\n",
      "Simulation 284\n",
      "Simulation 285\n",
      "Simulation 286\n",
      "Simulation 287\n",
      "Simulation 288\n",
      "Simulation 289\n",
      "Simulation 290\n",
      "Simulation 291\n",
      "Simulation 292\n",
      "Simulation 293\n",
      "Simulation 294\n",
      "Simulation 295\n",
      "Simulation 296\n",
      "Simulation 297\n",
      "Simulation 298\n",
      "Simulation 299\n",
      "Simulation 300\n",
      "Simulation 301\n",
      "Simulation 302\n",
      "Simulation 303\n",
      "Simulation 304\n",
      "Simulation 305\n",
      "Simulation 306\n",
      "Simulation 307\n",
      "Simulation 308\n",
      "Simulation 309\n",
      "Simulation 310\n",
      "Simulation 311\n",
      "Simulation 312\n",
      "Simulation 313\n",
      "Simulation 314\n",
      "Simulation 315\n",
      "Simulation 316\n",
      "Simulation 317\n",
      "Simulation 318\n",
      "Simulation 319\n",
      "Simulation 320\n",
      "Simulation 321\n",
      "Simulation 322\n",
      "Simulation 323\n",
      "Simulation 324\n",
      "Simulation 325\n",
      "Simulation 326\n",
      "Simulation 327\n",
      "Simulation 328\n",
      "Simulation 329\n",
      "Simulation 330\n",
      "Simulation 331\n",
      "Simulation 332\n",
      "Simulation 333\n",
      "Simulation 334\n",
      "Simulation 335\n",
      "Simulation 336\n",
      "Simulation 337\n",
      "Simulation 338\n",
      "Simulation 339\n",
      "Simulation 340\n",
      "Simulation 341\n",
      "Simulation 342\n",
      "Simulation 343\n",
      "Simulation 344\n",
      "Simulation 345\n",
      "Simulation 346\n",
      "Simulation 347\n",
      "Simulation 348\n",
      "Simulation 349\n",
      "Simulation 350\n",
      "Simulation 351\n",
      "Simulation 352\n",
      "Simulation 353\n",
      "Simulation 354\n",
      "Simulation 355\n",
      "Simulation 356\n",
      "Simulation 357\n",
      "Simulation 358\n",
      "Simulation 359\n",
      "Simulation 360\n",
      "Simulation 361\n",
      "Simulation 362\n",
      "Simulation 363\n",
      "Simulation 364\n",
      "Simulation 365\n",
      "Simulation 366\n",
      "Simulation 367\n",
      "Simulation 368\n",
      "Simulation 369\n",
      "Simulation 370\n",
      "Simulation 371\n",
      "Simulation 372\n",
      "Simulation 373\n",
      "Simulation 374\n",
      "Simulation 375\n",
      "Simulation 376\n",
      "Simulation 377\n",
      "Simulation 378\n",
      "Simulation 379\n",
      "Simulation 380\n",
      "Simulation 381\n",
      "Simulation 382\n",
      "Simulation 383\n",
      "Simulation 384\n",
      "Simulation 385\n",
      "Simulation 386\n",
      "Simulation 387\n",
      "Simulation 388\n",
      "Simulation 389\n",
      "Simulation 390\n",
      "Simulation 391\n",
      "Simulation 392\n",
      "Simulation 393\n",
      "Simulation 394\n",
      "Simulation 395\n",
      "Simulation 396\n",
      "Simulation 397\n",
      "Simulation 398\n",
      "Simulation 399\n",
      "Simulation 400\n",
      "Simulation 401\n",
      "Simulation 402\n",
      "Simulation 403\n",
      "Simulation 404\n",
      "Simulation 405\n",
      "Simulation 406\n",
      "Simulation 407\n",
      "Simulation 408\n",
      "Simulation 409\n",
      "Simulation 410\n",
      "Simulation 411\n",
      "Simulation 412\n",
      "Simulation 413\n",
      "Simulation 414\n",
      "Simulation 415\n",
      "Simulation 416\n",
      "Simulation 417\n",
      "Simulation 418\n",
      "Simulation 419\n",
      "Simulation 420\n",
      "Simulation 421\n",
      "Simulation 422\n",
      "Simulation 423\n",
      "Simulation 424\n",
      "Simulation 425\n",
      "Simulation 426\n",
      "Simulation 427\n",
      "Simulation 428\n",
      "Simulation 429\n",
      "Simulation 430\n",
      "Simulation 431\n",
      "Simulation 432\n",
      "Simulation 433\n",
      "Simulation 434\n",
      "Simulation 435\n",
      "Simulation 436\n",
      "Simulation 437\n",
      "Simulation 438\n",
      "Simulation 439\n",
      "Simulation 440\n",
      "Simulation 441\n",
      "Simulation 442\n",
      "Simulation 443\n",
      "Simulation 444\n",
      "Simulation 445\n",
      "Simulation 446\n",
      "Simulation 447\n",
      "Simulation 448\n",
      "Simulation 449\n",
      "Simulation 450\n",
      "Simulation 451\n",
      "Simulation 452\n",
      "Simulation 453\n",
      "Simulation 454\n",
      "Simulation 455\n",
      "Simulation 456\n",
      "Simulation 457\n",
      "Simulation 458\n",
      "Simulation 459\n",
      "Simulation 460\n",
      "Simulation 461\n",
      "Simulation 462\n",
      "Simulation 463\n",
      "Simulation 464\n",
      "Simulation 465\n",
      "Simulation 466\n",
      "Simulation 467\n",
      "Simulation 468\n",
      "Simulation 469\n",
      "Simulation 470\n",
      "Simulation 471\n",
      "Simulation 472\n",
      "Simulation 473\n",
      "Simulation 474\n",
      "Simulation 475\n",
      "Simulation 476\n",
      "Simulation 477\n",
      "Simulation 478\n",
      "Simulation 479\n",
      "Simulation 480\n",
      "Simulation 481\n",
      "Simulation 482\n",
      "Simulation 483\n",
      "Simulation 484\n",
      "Simulation 485\n",
      "Simulation 486\n",
      "Simulation 487\n",
      "Simulation 488\n",
      "Simulation 489\n",
      "Simulation 490\n",
      "Simulation 491\n",
      "Simulation 492\n",
      "Simulation 493\n",
      "Simulation 494\n",
      "Simulation 495\n",
      "Simulation 496\n",
      "Simulation 497\n",
      "Simulation 498\n",
      "Simulation 499\n"
     ]
    }
   ],
   "source": [
    "# Inicializar un DataFrame para guardar los resultados de las simulaciones\n",
    "# simulation_results = pd.DataFrame(columns=['Pred_dem', 'Pred_gop', 'dem', 'gop'])\n",
    "simulation_results = pd.DataFrame(columns=['Pred_dem', 'Pred_gop'])\n",
    "\n",
    "\n",
    "# Inicializar un DataFrame para acumular los resultados por estado\n",
    "accumulated_pred_state = pd.DataFrame()\n",
    "\n",
    "for i in range(0, n_sim):\n",
    "\n",
    "    print(f\"Simulation {i}\")\n",
    "\n",
    "    ## Data splitting\n",
    "    # Quitar la columna objetivo (f'per_dem_{ELECTORAL_YEAR}') del conjunto de datos\n",
    "    X = data_sim.drop(columns=[f'per_dem_{ELECTORAL_YEAR}'])  # Características (sin la columna objetivo)\n",
    "    y = data_sim[f'per_dem_{ELECTORAL_YEAR}']  # Columna objetivo\n",
    "\n",
    "    # Dividir los datos en 80% para train y 20% para test (cada sim es distinto)\n",
    "    X_train, X_test, y_train, y_test = train_test_split(X, y, test_size=0.2)\n",
    "\n",
    "    ## Models\n",
    "    # Linear Regression\n",
    "    lr_model = LinearRegression()\n",
    "    lr_model.fit(X_train, y_train)\n",
    "    pred_lr = lr_model.predict(X_test)\n",
    "\n",
    "    # Random Forest\n",
    "    rf_model = RandomForestRegressor(n_estimators=100, random_state=i)\n",
    "    rf_model.fit(X_train, y_train)\n",
    "    pred_rf = rf_model.predict(X_test)\n",
    "\n",
    "    # KNN\n",
    "    knn_model = KNeighborsRegressor(n_neighbors=5)  # Puedes ajustar el número de vecinos\n",
    "    knn_model.fit(X_train, y_train)\n",
    "    pred_knn = knn_model.predict(X_test)\n",
    "\n",
    "    # Predicciones combinadas\n",
    "    predictions = (pred_lr + pred_rf + pred_knn) / 3  # Promedio de predicciones de los tres modelos\n",
    "\n",
    "    # Todos los votos por condado, pero usando predicciones\n",
    "    per_dem_pred = data[f'per_dem_{ELECTORAL_YEAR}'].copy()\n",
    "    per_dem_pred.iloc[X_test.index] = predictions\n",
    "\n",
    "    # Agrupar por estado para calcular las predicciones por estado\n",
    "    df_pred = pd.DataFrame({'Votes_dem': per_dem_pred * data[f'total_votes_{ELECTORAL_YEAR}'], \n",
    "                            'Votes_gop': (1 - per_dem_pred - data[f'per_votes_others_{ELECTORAL_YEAR}']) * data[f'total_votes_{ELECTORAL_YEAR}'],\n",
    "                            'Votes_other':  data[f'votes_others_{ELECTORAL_YEAR}'],\n",
    "                            'Votes_total': data[f'total_votes_{ELECTORAL_YEAR}'], \n",
    "                            'state': state_names,\n",
    "                            'county': county_names,\n",
    "                            'fips': fips_codes})\n",
    "    df_pred_state = df_pred.groupby('state').agg(Votes_dem=(\"Votes_dem\", 'sum'), \n",
    "                                                 Votes_gop=(\"Votes_gop\", 'sum'),\n",
    "                                                 Votes_other=(\"Votes_other\", 'sum'),\n",
    "                                                 Votes_total=(\"Votes_total\", 'sum'))\n",
    "    \n",
    "    \n",
    "    # Calcular porcentaje de cada candidato en el estado\n",
    "    df_pred_state[\"Per_dem\"] = df_pred_state[\"Votes_dem\"] / df_pred_state[\"Votes_total\"] + 1/2*(df_pred_state[\"Votes_other\"] / df_pred_state[\"Votes_total\"]) # asumimos que el voto a \"otros\" se reparte por igual para biden y trump\n",
    "    df_pred_state[\"Per_gop\"] = 1 - df_pred_state[\"Per_dem\"]\n",
    "\n",
    "    # Acumular los resultados de cada simulación\n",
    "    if accumulated_pred_state.empty:\n",
    "        accumulated_pred_state = df_pred_state.copy()  # Primera iteración, simplemente copiamos los datos\n",
    "    else:\n",
    "        accumulated_pred_state['Votes_dem'] += df_pred_state['Votes_dem']\n",
    "        accumulated_pred_state['Votes_gop'] += df_pred_state['Votes_gop']\n",
    "        accumulated_pred_state['Votes_total'] += df_pred_state['Votes_total']\n",
    "        accumulated_pred_state[\"Per_dem\"] += df_pred_state[\"Per_dem\"]\n",
    "        accumulated_pred_state[\"Per_gop\"] += df_pred_state[\"Per_gop\"]\n",
    "\n",
    "    # Predicción y ganadores\n",
    "    df_pred_state[\"Winner\"] = np.where(df_pred_state[\"Per_dem\"] < df_pred_state[\"Per_gop\"], 'gop', 'dem')    \n",
    "\n",
    "    # Añadir votos electorales (escaños) a cada estado\n",
    "    full_df_pred_state = pd.merge(seats_data, df_pred_state, how='inner', on=[\"state\"])\n",
    "\n",
    "    # Agrupar por estado y sumar los votos\n",
    "    df_pred_winner = full_df_pred_state.groupby(\"Winner\").agg({\n",
    "        \"electoral_votes_number\": \"sum\",  # Sumar los votos electorales de cada candidato\n",
    "    }).reset_index()\n",
    "\n",
    "    df_pred_winner.loc[df_pred_winner[\"Winner\"] == 'gop', 'electoral_votes_number'] += 3 # Añadir 3 al número de votos electorales de Trump por Alaska\n",
    "\n",
    "    # Crear un nuevo DataFrame con los resultados de esta simulación\n",
    "    new_row = pd.DataFrame({\n",
    "        'Pred_dem': [df_pred_winner.loc[df_pred_winner[\"Winner\"] == 'dem', 'electoral_votes_number'].values[0]],\n",
    "        'Pred_gop': [df_pred_winner.loc[df_pred_winner[\"Winner\"] == 'gop', 'electoral_votes_number'].values[0]],\n",
    "        'Winner': ['dem' if df_pred_winner.loc[df_pred_winner[\"Winner\"] == 'dem', 'electoral_votes_number'].values[0] > df_pred_winner.loc[df_pred_winner[\"Winner\"] == 'gop', 'electoral_votes_number'].values[0] else 'gop']\n",
    "    })\n",
    "\n",
    "    # Usar concat para añadir la nueva fila\n",
    "    simulation_results = pd.concat([simulation_results, new_row], ignore_index=True)\n",
    "\n",
    "# Después de todas las simulaciones, calcular la media\n",
    "accumulated_pred_state['Votes_dem'] /= n_sim\n",
    "accumulated_pred_state['Votes_gop'] /= n_sim\n",
    "accumulated_pred_state['Votes_total'] /= n_sim\n",
    "accumulated_pred_state['Per_dem'] /= n_sim\n",
    "accumulated_pred_state['Per_gop'] /= n_sim\n"
   ]
  },
  {
   "cell_type": "markdown",
   "metadata": {},
   "source": [
    "## Results"
   ]
  },
  {
   "cell_type": "code",
   "execution_count": 8,
   "metadata": {},
   "outputs": [
    {
     "data": {
      "text/plain": [
       "Winner\n",
       "dem    321\n",
       "gop    179\n",
       "Name: count, dtype: int64"
      ]
     },
     "execution_count": 8,
     "metadata": {},
     "output_type": "execute_result"
    }
   ],
   "source": [
    "simulation_results[\"Winner\"].value_counts()"
   ]
  },
  {
   "cell_type": "code",
   "execution_count": 9,
   "metadata": {},
   "outputs": [
    {
     "data": {
      "text/plain": [
       "Winner\n",
       "dem    0.642\n",
       "gop    0.358\n",
       "Name: proportion, dtype: float64"
      ]
     },
     "execution_count": 9,
     "metadata": {},
     "output_type": "execute_result"
    }
   ],
   "source": [
    "simulation_results[\"Winner\"].value_counts(normalize=True)"
   ]
  },
  {
   "cell_type": "code",
   "execution_count": 10,
   "metadata": {},
   "outputs": [
    {
     "data": {
      "text/html": [
       "<div>\n",
       "<style scoped>\n",
       "    .dataframe tbody tr th:only-of-type {\n",
       "        vertical-align: middle;\n",
       "    }\n",
       "\n",
       "    .dataframe tbody tr th {\n",
       "        vertical-align: top;\n",
       "    }\n",
       "\n",
       "    .dataframe thead th {\n",
       "        text-align: right;\n",
       "    }\n",
       "</style>\n",
       "<table border=\"1\" class=\"dataframe\">\n",
       "  <thead>\n",
       "    <tr style=\"text-align: right;\">\n",
       "      <th></th>\n",
       "      <th>Pred_dem</th>\n",
       "      <th>Pred_gop</th>\n",
       "      <th>Winner</th>\n",
       "    </tr>\n",
       "  </thead>\n",
       "  <tbody>\n",
       "    <tr>\n",
       "      <th>0</th>\n",
       "      <td>270</td>\n",
       "      <td>268</td>\n",
       "      <td>dem</td>\n",
       "    </tr>\n",
       "    <tr>\n",
       "      <th>1</th>\n",
       "      <td>270</td>\n",
       "      <td>268</td>\n",
       "      <td>dem</td>\n",
       "    </tr>\n",
       "    <tr>\n",
       "      <th>2</th>\n",
       "      <td>254</td>\n",
       "      <td>284</td>\n",
       "      <td>gop</td>\n",
       "    </tr>\n",
       "    <tr>\n",
       "      <th>3</th>\n",
       "      <td>280</td>\n",
       "      <td>258</td>\n",
       "      <td>dem</td>\n",
       "    </tr>\n",
       "    <tr>\n",
       "      <th>4</th>\n",
       "      <td>254</td>\n",
       "      <td>284</td>\n",
       "      <td>gop</td>\n",
       "    </tr>\n",
       "    <tr>\n",
       "      <th>...</th>\n",
       "      <td>...</td>\n",
       "      <td>...</td>\n",
       "      <td>...</td>\n",
       "    </tr>\n",
       "    <tr>\n",
       "      <th>495</th>\n",
       "      <td>270</td>\n",
       "      <td>268</td>\n",
       "      <td>dem</td>\n",
       "    </tr>\n",
       "    <tr>\n",
       "      <th>496</th>\n",
       "      <td>270</td>\n",
       "      <td>268</td>\n",
       "      <td>dem</td>\n",
       "    </tr>\n",
       "    <tr>\n",
       "      <th>497</th>\n",
       "      <td>270</td>\n",
       "      <td>268</td>\n",
       "      <td>dem</td>\n",
       "    </tr>\n",
       "    <tr>\n",
       "      <th>498</th>\n",
       "      <td>264</td>\n",
       "      <td>274</td>\n",
       "      <td>gop</td>\n",
       "    </tr>\n",
       "    <tr>\n",
       "      <th>499</th>\n",
       "      <td>264</td>\n",
       "      <td>274</td>\n",
       "      <td>gop</td>\n",
       "    </tr>\n",
       "  </tbody>\n",
       "</table>\n",
       "<p>500 rows × 3 columns</p>\n",
       "</div>"
      ],
      "text/plain": [
       "    Pred_dem Pred_gop Winner\n",
       "0        270      268    dem\n",
       "1        270      268    dem\n",
       "2        254      284    gop\n",
       "3        280      258    dem\n",
       "4        254      284    gop\n",
       "..       ...      ...    ...\n",
       "495      270      268    dem\n",
       "496      270      268    dem\n",
       "497      270      268    dem\n",
       "498      264      274    gop\n",
       "499      264      274    gop\n",
       "\n",
       "[500 rows x 3 columns]"
      ]
     },
     "execution_count": 10,
     "metadata": {},
     "output_type": "execute_result"
    }
   ],
   "source": [
    "simulation_results"
   ]
  },
  {
   "cell_type": "code",
   "execution_count": 11,
   "metadata": {},
   "outputs": [
    {
     "data": {
      "text/html": [
       "<div>\n",
       "<style scoped>\n",
       "    .dataframe tbody tr th:only-of-type {\n",
       "        vertical-align: middle;\n",
       "    }\n",
       "\n",
       "    .dataframe tbody tr th {\n",
       "        vertical-align: top;\n",
       "    }\n",
       "\n",
       "    .dataframe thead th {\n",
       "        text-align: right;\n",
       "    }\n",
       "</style>\n",
       "<table border=\"1\" class=\"dataframe\">\n",
       "  <thead>\n",
       "    <tr style=\"text-align: right;\">\n",
       "      <th></th>\n",
       "      <th>Votes_dem</th>\n",
       "      <th>Votes_gop</th>\n",
       "      <th>Votes_other</th>\n",
       "      <th>Votes_total</th>\n",
       "      <th>Per_dem</th>\n",
       "      <th>Per_gop</th>\n",
       "      <th>Winner</th>\n",
       "      <th>state_code</th>\n",
       "      <th>Difference</th>\n",
       "      <th>Status</th>\n",
       "    </tr>\n",
       "    <tr>\n",
       "      <th>state</th>\n",
       "      <th></th>\n",
       "      <th></th>\n",
       "      <th></th>\n",
       "      <th></th>\n",
       "      <th></th>\n",
       "      <th></th>\n",
       "      <th></th>\n",
       "      <th></th>\n",
       "      <th></th>\n",
       "      <th></th>\n",
       "    </tr>\n",
       "  </thead>\n",
       "  <tbody>\n",
       "    <tr>\n",
       "      <th>Alabama</th>\n",
       "      <td>8.507798e+05</td>\n",
       "      <td>1.440036e+06</td>\n",
       "      <td>32488.0</td>\n",
       "      <td>2323304.0</td>\n",
       "      <td>0.373186</td>\n",
       "      <td>0.626814</td>\n",
       "      <td>gop</td>\n",
       "      <td>AL</td>\n",
       "      <td>-25.362861</td>\n",
       "      <td>Safe Republican</td>\n",
       "    </tr>\n",
       "    <tr>\n",
       "      <th>Arizona</th>\n",
       "      <td>1.688449e+06</td>\n",
       "      <td>1.645380e+06</td>\n",
       "      <td>53497.0</td>\n",
       "      <td>3387326.0</td>\n",
       "      <td>0.506357</td>\n",
       "      <td>0.493643</td>\n",
       "      <td>dem</td>\n",
       "      <td>AZ</td>\n",
       "      <td>1.271463</td>\n",
       "      <td>Toss-Up</td>\n",
       "    </tr>\n",
       "    <tr>\n",
       "      <th>Arkansas</th>\n",
       "      <td>4.272360e+05</td>\n",
       "      <td>7.573430e+05</td>\n",
       "      <td>34490.0</td>\n",
       "      <td>1219069.0</td>\n",
       "      <td>0.364607</td>\n",
       "      <td>0.635393</td>\n",
       "      <td>gop</td>\n",
       "      <td>AR</td>\n",
       "      <td>-27.078618</td>\n",
       "      <td>Safe Republican</td>\n",
       "    </tr>\n",
       "    <tr>\n",
       "      <th>California</th>\n",
       "      <td>1.108747e+07</td>\n",
       "      <td>6.028254e+06</td>\n",
       "      <td>380181.0</td>\n",
       "      <td>17495906.0</td>\n",
       "      <td>0.644583</td>\n",
       "      <td>0.355417</td>\n",
       "      <td>dem</td>\n",
       "      <td>CA</td>\n",
       "      <td>28.916578</td>\n",
       "      <td>Safe Democrat</td>\n",
       "    </tr>\n",
       "    <tr>\n",
       "      <th>Colorado</th>\n",
       "      <td>1.804690e+06</td>\n",
       "      <td>1.364269e+06</td>\n",
       "      <td>87994.0</td>\n",
       "      <td>3256953.0</td>\n",
       "      <td>0.567613</td>\n",
       "      <td>0.432387</td>\n",
       "      <td>dem</td>\n",
       "      <td>CO</td>\n",
       "      <td>13.522505</td>\n",
       "      <td>Safe Democrat</td>\n",
       "    </tr>\n",
       "    <tr>\n",
       "      <th>Connecticut</th>\n",
       "      <td>1.120068e+06</td>\n",
       "      <td>7.614643e+05</td>\n",
       "      <td>29773.0</td>\n",
       "      <td>1911305.0</td>\n",
       "      <td>0.593811</td>\n",
       "      <td>0.406189</td>\n",
       "      <td>dem</td>\n",
       "      <td>CT</td>\n",
       "      <td>18.762223</td>\n",
       "      <td>Safe Democrat</td>\n",
       "    </tr>\n",
       "    <tr>\n",
       "      <th>Delaware</th>\n",
       "      <td>5.624710e+05</td>\n",
       "      <td>1.847480e+05</td>\n",
       "      <td>14122.0</td>\n",
       "      <td>761341.0</td>\n",
       "      <td>0.748064</td>\n",
       "      <td>0.251936</td>\n",
       "      <td>dem</td>\n",
       "      <td>DE</td>\n",
       "      <td>49.612849</td>\n",
       "      <td>Safe Democrat</td>\n",
       "    </tr>\n",
       "    <tr>\n",
       "      <th>District of Columbia</th>\n",
       "      <td>8.805821e+04</td>\n",
       "      <td>5.261779e+04</td>\n",
       "      <td>1928.0</td>\n",
       "      <td>142604.0</td>\n",
       "      <td>0.624262</td>\n",
       "      <td>0.375738</td>\n",
       "      <td>dem</td>\n",
       "      <td>DC</td>\n",
       "      <td>24.852335</td>\n",
       "      <td>Safe Democrat</td>\n",
       "    </tr>\n",
       "    <tr>\n",
       "      <th>Florida</th>\n",
       "      <td>5.222930e+06</td>\n",
       "      <td>5.610524e+06</td>\n",
       "      <td>99788.0</td>\n",
       "      <td>10933242.0</td>\n",
       "      <td>0.482275</td>\n",
       "      <td>0.517725</td>\n",
       "      <td>gop</td>\n",
       "      <td>FL</td>\n",
       "      <td>-3.545100</td>\n",
       "      <td>Likely Republican</td>\n",
       "    </tr>\n",
       "    <tr>\n",
       "      <th>Georgia</th>\n",
       "      <td>2.510748e+06</td>\n",
       "      <td>2.502013e+06</td>\n",
       "      <td>64379.0</td>\n",
       "      <td>5077140.0</td>\n",
       "      <td>0.500860</td>\n",
       "      <td>0.499140</td>\n",
       "      <td>dem</td>\n",
       "      <td>GA</td>\n",
       "      <td>0.172035</td>\n",
       "      <td>Toss-Up</td>\n",
       "    </tr>\n",
       "    <tr>\n",
       "      <th>Hawaii</th>\n",
       "      <td>3.837728e+05</td>\n",
       "      <td>2.779322e+05</td>\n",
       "      <td>15881.0</td>\n",
       "      <td>677586.0</td>\n",
       "      <td>0.578101</td>\n",
       "      <td>0.421899</td>\n",
       "      <td>dem</td>\n",
       "      <td>HI</td>\n",
       "      <td>15.620259</td>\n",
       "      <td>Safe Democrat</td>\n",
       "    </tr>\n",
       "    <tr>\n",
       "      <th>Idaho</th>\n",
       "      <td>1.794903e+05</td>\n",
       "      <td>4.433317e+05</td>\n",
       "      <td>19460.0</td>\n",
       "      <td>642282.0</td>\n",
       "      <td>0.294606</td>\n",
       "      <td>0.705394</td>\n",
       "      <td>gop</td>\n",
       "      <td>ID</td>\n",
       "      <td>-41.078735</td>\n",
       "      <td>Safe Republican</td>\n",
       "    </tr>\n",
       "    <tr>\n",
       "      <th>Illinois</th>\n",
       "      <td>3.510545e+06</td>\n",
       "      <td>2.552002e+06</td>\n",
       "      <td>123442.0</td>\n",
       "      <td>6185989.0</td>\n",
       "      <td>0.577477</td>\n",
       "      <td>0.422523</td>\n",
       "      <td>dem</td>\n",
       "      <td>IL</td>\n",
       "      <td>15.495396</td>\n",
       "      <td>Safe Democrat</td>\n",
       "    </tr>\n",
       "    <tr>\n",
       "      <th>Indiana</th>\n",
       "      <td>1.167609e+06</td>\n",
       "      <td>1.631779e+06</td>\n",
       "      <td>56856.0</td>\n",
       "      <td>2856244.0</td>\n",
       "      <td>0.418745</td>\n",
       "      <td>0.581255</td>\n",
       "      <td>gop</td>\n",
       "      <td>IN</td>\n",
       "      <td>-16.251049</td>\n",
       "      <td>Safe Republican</td>\n",
       "    </tr>\n",
       "    <tr>\n",
       "      <th>Iowa</th>\n",
       "      <td>7.497827e+05</td>\n",
       "      <td>9.100683e+05</td>\n",
       "      <td>34245.0</td>\n",
       "      <td>1694096.0</td>\n",
       "      <td>0.452693</td>\n",
       "      <td>0.547307</td>\n",
       "      <td>gop</td>\n",
       "      <td>IA</td>\n",
       "      <td>-9.461427</td>\n",
       "      <td>Likely Republican</td>\n",
       "    </tr>\n",
       "    <tr>\n",
       "      <th>Kansas</th>\n",
       "      <td>5.600609e+05</td>\n",
       "      <td>7.652521e+05</td>\n",
       "      <td>32824.0</td>\n",
       "      <td>1358137.0</td>\n",
       "      <td>0.424459</td>\n",
       "      <td>0.575541</td>\n",
       "      <td>gop</td>\n",
       "      <td>KS</td>\n",
       "      <td>-15.108290</td>\n",
       "      <td>Safe Republican</td>\n",
       "    </tr>\n",
       "    <tr>\n",
       "      <th>Kentucky</th>\n",
       "      <td>7.795701e+05</td>\n",
       "      <td>1.339374e+06</td>\n",
       "      <td>37927.0</td>\n",
       "      <td>2156871.0</td>\n",
       "      <td>0.370228</td>\n",
       "      <td>0.629772</td>\n",
       "      <td>gop</td>\n",
       "      <td>KY</td>\n",
       "      <td>-25.954440</td>\n",
       "      <td>Safe Republican</td>\n",
       "    </tr>\n",
       "    <tr>\n",
       "      <th>Louisiana</th>\n",
       "      <td>8.899257e+05</td>\n",
       "      <td>1.276084e+06</td>\n",
       "      <td>38270.0</td>\n",
       "      <td>2204280.0</td>\n",
       "      <td>0.412407</td>\n",
       "      <td>0.587593</td>\n",
       "      <td>gop</td>\n",
       "      <td>LA</td>\n",
       "      <td>-17.518580</td>\n",
       "      <td>Safe Republican</td>\n",
       "    </tr>\n",
       "    <tr>\n",
       "      <th>Maine</th>\n",
       "      <td>5.669428e+05</td>\n",
       "      <td>4.621962e+05</td>\n",
       "      <td>30406.0</td>\n",
       "      <td>1059545.0</td>\n",
       "      <td>0.549430</td>\n",
       "      <td>0.450570</td>\n",
       "      <td>dem</td>\n",
       "      <td>ME</td>\n",
       "      <td>9.886001</td>\n",
       "      <td>Likely Democrat</td>\n",
       "    </tr>\n",
       "    <tr>\n",
       "      <th>Maryland</th>\n",
       "      <td>1.929285e+06</td>\n",
       "      <td>9.185383e+05</td>\n",
       "      <td>70649.0</td>\n",
       "      <td>2918472.0</td>\n",
       "      <td>0.673164</td>\n",
       "      <td>0.326836</td>\n",
       "      <td>dem</td>\n",
       "      <td>MD</td>\n",
       "      <td>34.632725</td>\n",
       "      <td>Safe Democrat</td>\n",
       "    </tr>\n",
       "    <tr>\n",
       "      <th>Massachusetts</th>\n",
       "      <td>2.236818e+06</td>\n",
       "      <td>1.107569e+06</td>\n",
       "      <td>77507.0</td>\n",
       "      <td>3421894.0</td>\n",
       "      <td>0.665003</td>\n",
       "      <td>0.334997</td>\n",
       "      <td>dem</td>\n",
       "      <td>MA</td>\n",
       "      <td>33.000677</td>\n",
       "      <td>Safe Democrat</td>\n",
       "    </tr>\n",
       "    <tr>\n",
       "      <th>Michigan</th>\n",
       "      <td>2.890940e+06</td>\n",
       "      <td>2.766555e+06</td>\n",
       "      <td>90772.0</td>\n",
       "      <td>5748267.0</td>\n",
       "      <td>0.510819</td>\n",
       "      <td>0.489181</td>\n",
       "      <td>dem</td>\n",
       "      <td>MI</td>\n",
       "      <td>2.163867</td>\n",
       "      <td>Toss-Up</td>\n",
       "    </tr>\n",
       "    <tr>\n",
       "      <th>Minnesota</th>\n",
       "      <td>1.611523e+06</td>\n",
       "      <td>1.403172e+06</td>\n",
       "      <td>70889.0</td>\n",
       "      <td>3085584.0</td>\n",
       "      <td>0.533762</td>\n",
       "      <td>0.466238</td>\n",
       "      <td>dem</td>\n",
       "      <td>MN</td>\n",
       "      <td>6.752375</td>\n",
       "      <td>Likely Democrat</td>\n",
       "    </tr>\n",
       "    <tr>\n",
       "      <th>Mississippi</th>\n",
       "      <td>5.300165e+05</td>\n",
       "      <td>7.566615e+05</td>\n",
       "      <td>19018.0</td>\n",
       "      <td>1305696.0</td>\n",
       "      <td>0.413209</td>\n",
       "      <td>0.586791</td>\n",
       "      <td>gop</td>\n",
       "      <td>MS</td>\n",
       "      <td>-17.358169</td>\n",
       "      <td>Safe Republican</td>\n",
       "    </tr>\n",
       "    <tr>\n",
       "      <th>Missouri</th>\n",
       "      <td>1.249352e+06</td>\n",
       "      <td>1.712898e+06</td>\n",
       "      <td>54069.0</td>\n",
       "      <td>3016319.0</td>\n",
       "      <td>0.423160</td>\n",
       "      <td>0.576840</td>\n",
       "      <td>gop</td>\n",
       "      <td>MO</td>\n",
       "      <td>-15.367907</td>\n",
       "      <td>Safe Republican</td>\n",
       "    </tr>\n",
       "    <tr>\n",
       "      <th>Montana</th>\n",
       "      <td>2.464475e+05</td>\n",
       "      <td>3.495545e+05</td>\n",
       "      <td>17539.0</td>\n",
       "      <td>613541.0</td>\n",
       "      <td>0.415974</td>\n",
       "      <td>0.584026</td>\n",
       "      <td>gop</td>\n",
       "      <td>MT</td>\n",
       "      <td>-16.805231</td>\n",
       "      <td>Safe Republican</td>\n",
       "    </tr>\n",
       "    <tr>\n",
       "      <th>Nebraska</th>\n",
       "      <td>8.985971e+05</td>\n",
       "      <td>9.801939e+05</td>\n",
       "      <td>44752.0</td>\n",
       "      <td>1923543.0</td>\n",
       "      <td>0.478790</td>\n",
       "      <td>0.521210</td>\n",
       "      <td>gop</td>\n",
       "      <td>NE</td>\n",
       "      <td>-4.242004</td>\n",
       "      <td>Likely Republican</td>\n",
       "    </tr>\n",
       "    <tr>\n",
       "      <th>Nevada</th>\n",
       "      <td>2.138872e+05</td>\n",
       "      <td>2.648758e+05</td>\n",
       "      <td>12938.0</td>\n",
       "      <td>491701.0</td>\n",
       "      <td>0.448151</td>\n",
       "      <td>0.551849</td>\n",
       "      <td>gop</td>\n",
       "      <td>NV</td>\n",
       "      <td>-10.369858</td>\n",
       "      <td>Safe Republican</td>\n",
       "    </tr>\n",
       "    <tr>\n",
       "      <th>New Hampshire</th>\n",
       "      <td>7.487035e+05</td>\n",
       "      <td>5.999095e+05</td>\n",
       "      <td>21993.0</td>\n",
       "      <td>1370606.0</td>\n",
       "      <td>0.554280</td>\n",
       "      <td>0.445720</td>\n",
       "      <td>dem</td>\n",
       "      <td>NH</td>\n",
       "      <td>10.856077</td>\n",
       "      <td>Safe Democrat</td>\n",
       "    </tr>\n",
       "    <tr>\n",
       "      <th>New Jersey</th>\n",
       "      <td>2.436973e+06</td>\n",
       "      <td>1.738191e+06</td>\n",
       "      <td>71085.0</td>\n",
       "      <td>4246249.0</td>\n",
       "      <td>0.582282</td>\n",
       "      <td>0.417718</td>\n",
       "      <td>dem</td>\n",
       "      <td>NJ</td>\n",
       "      <td>16.456460</td>\n",
       "      <td>Safe Democrat</td>\n",
       "    </tr>\n",
       "    <tr>\n",
       "      <th>New Mexico</th>\n",
       "      <td>4.088710e+05</td>\n",
       "      <td>3.531900e+05</td>\n",
       "      <td>16871.0</td>\n",
       "      <td>778932.0</td>\n",
       "      <td>0.535742</td>\n",
       "      <td>0.464258</td>\n",
       "      <td>dem</td>\n",
       "      <td>NM</td>\n",
       "      <td>7.148369</td>\n",
       "      <td>Likely Democrat</td>\n",
       "    </tr>\n",
       "    <tr>\n",
       "      <th>New York</th>\n",
       "      <td>5.150225e+06</td>\n",
       "      <td>3.278187e+06</td>\n",
       "      <td>119237.0</td>\n",
       "      <td>8547649.0</td>\n",
       "      <td>0.609506</td>\n",
       "      <td>0.390494</td>\n",
       "      <td>dem</td>\n",
       "      <td>NY</td>\n",
       "      <td>21.901201</td>\n",
       "      <td>Safe Democrat</td>\n",
       "    </tr>\n",
       "    <tr>\n",
       "      <th>North Carolina</th>\n",
       "      <td>2.622320e+06</td>\n",
       "      <td>2.722458e+06</td>\n",
       "      <td>80530.0</td>\n",
       "      <td>5425308.0</td>\n",
       "      <td>0.490771</td>\n",
       "      <td>0.509229</td>\n",
       "      <td>gop</td>\n",
       "      <td>NC</td>\n",
       "      <td>-1.845762</td>\n",
       "      <td>Toss-Up</td>\n",
       "    </tr>\n",
       "    <tr>\n",
       "      <th>North Dakota</th>\n",
       "      <td>1.301473e+05</td>\n",
       "      <td>2.730137e+05</td>\n",
       "      <td>11975.0</td>\n",
       "      <td>415136.0</td>\n",
       "      <td>0.327928</td>\n",
       "      <td>0.672072</td>\n",
       "      <td>gop</td>\n",
       "      <td>ND</td>\n",
       "      <td>-34.414381</td>\n",
       "      <td>Safe Republican</td>\n",
       "    </tr>\n",
       "    <tr>\n",
       "      <th>Ohio</th>\n",
       "      <td>2.660867e+06</td>\n",
       "      <td>3.123023e+06</td>\n",
       "      <td>87531.0</td>\n",
       "      <td>5871421.0</td>\n",
       "      <td>0.460644</td>\n",
       "      <td>0.539356</td>\n",
       "      <td>gop</td>\n",
       "      <td>OH</td>\n",
       "      <td>-7.871285</td>\n",
       "      <td>Likely Republican</td>\n",
       "    </tr>\n",
       "    <tr>\n",
       "      <th>Oklahoma</th>\n",
       "      <td>5.495229e+05</td>\n",
       "      <td>1.025868e+06</td>\n",
       "      <td>38669.0</td>\n",
       "      <td>1614060.0</td>\n",
       "      <td>0.352439</td>\n",
       "      <td>0.647561</td>\n",
       "      <td>gop</td>\n",
       "      <td>OK</td>\n",
       "      <td>-29.512232</td>\n",
       "      <td>Safe Republican</td>\n",
       "    </tr>\n",
       "    <tr>\n",
       "      <th>Oregon</th>\n",
       "      <td>1.750871e+06</td>\n",
       "      <td>1.256959e+06</td>\n",
       "      <td>85274.0</td>\n",
       "      <td>3093104.0</td>\n",
       "      <td>0.579841</td>\n",
       "      <td>0.420159</td>\n",
       "      <td>dem</td>\n",
       "      <td>OR</td>\n",
       "      <td>15.968191</td>\n",
       "      <td>Safe Democrat</td>\n",
       "    </tr>\n",
       "    <tr>\n",
       "      <th>Pennsylvania</th>\n",
       "      <td>3.062951e+06</td>\n",
       "      <td>3.124742e+06</td>\n",
       "      <td>77556.0</td>\n",
       "      <td>6265249.0</td>\n",
       "      <td>0.495069</td>\n",
       "      <td>0.504931</td>\n",
       "      <td>gop</td>\n",
       "      <td>PA</td>\n",
       "      <td>-0.986253</td>\n",
       "      <td>Toss-Up</td>\n",
       "    </tr>\n",
       "    <tr>\n",
       "      <th>Rhode Island</th>\n",
       "      <td>2.742813e+05</td>\n",
       "      <td>2.090367e+05</td>\n",
       "      <td>9175.0</td>\n",
       "      <td>492493.0</td>\n",
       "      <td>0.566239</td>\n",
       "      <td>0.433761</td>\n",
       "      <td>dem</td>\n",
       "      <td>RI</td>\n",
       "      <td>13.247807</td>\n",
       "      <td>Safe Democrat</td>\n",
       "    </tr>\n",
       "    <tr>\n",
       "      <th>South Carolina</th>\n",
       "      <td>1.054060e+06</td>\n",
       "      <td>1.334688e+06</td>\n",
       "      <td>35449.0</td>\n",
       "      <td>2424197.0</td>\n",
       "      <td>0.442119</td>\n",
       "      <td>0.557881</td>\n",
       "      <td>gop</td>\n",
       "      <td>SC</td>\n",
       "      <td>-11.576104</td>\n",
       "      <td>Safe Republican</td>\n",
       "    </tr>\n",
       "    <tr>\n",
       "      <th>South Dakota</th>\n",
       "      <td>1.639466e+05</td>\n",
       "      <td>2.930154e+05</td>\n",
       "      <td>11819.0</td>\n",
       "      <td>468781.0</td>\n",
       "      <td>0.362336</td>\n",
       "      <td>0.637664</td>\n",
       "      <td>gop</td>\n",
       "      <td>SD</td>\n",
       "      <td>-27.532867</td>\n",
       "      <td>Safe Republican</td>\n",
       "    </tr>\n",
       "    <tr>\n",
       "      <th>Tennessee</th>\n",
       "      <td>1.143723e+06</td>\n",
       "      <td>1.823589e+06</td>\n",
       "      <td>56971.0</td>\n",
       "      <td>3024283.0</td>\n",
       "      <td>0.387599</td>\n",
       "      <td>0.612401</td>\n",
       "      <td>gop</td>\n",
       "      <td>TN</td>\n",
       "      <td>-22.480236</td>\n",
       "      <td>Safe Republican</td>\n",
       "    </tr>\n",
       "    <tr>\n",
       "      <th>Texas</th>\n",
       "      <td>5.288016e+06</td>\n",
       "      <td>5.865672e+06</td>\n",
       "      <td>169260.0</td>\n",
       "      <td>11322948.0</td>\n",
       "      <td>0.474492</td>\n",
       "      <td>0.525508</td>\n",
       "      <td>gop</td>\n",
       "      <td>TX</td>\n",
       "      <td>-5.101645</td>\n",
       "      <td>Likely Republican</td>\n",
       "    </tr>\n",
       "    <tr>\n",
       "      <th>Utah</th>\n",
       "      <td>5.978565e+05</td>\n",
       "      <td>8.395705e+05</td>\n",
       "      <td>63219.0</td>\n",
       "      <td>1500646.0</td>\n",
       "      <td>0.419463</td>\n",
       "      <td>0.580537</td>\n",
       "      <td>gop</td>\n",
       "      <td>UT</td>\n",
       "      <td>-16.107335</td>\n",
       "      <td>Safe Republican</td>\n",
       "    </tr>\n",
       "    <tr>\n",
       "      <th>Vermont</th>\n",
       "      <td>2.611515e+05</td>\n",
       "      <td>1.333145e+05</td>\n",
       "      <td>12097.0</td>\n",
       "      <td>406563.0</td>\n",
       "      <td>0.657217</td>\n",
       "      <td>0.342783</td>\n",
       "      <td>dem</td>\n",
       "      <td>VT</td>\n",
       "      <td>31.443357</td>\n",
       "      <td>Safe Democrat</td>\n",
       "    </tr>\n",
       "    <tr>\n",
       "      <th>Virginia</th>\n",
       "      <td>2.351880e+06</td>\n",
       "      <td>1.961388e+06</td>\n",
       "      <td>83450.0</td>\n",
       "      <td>4396718.0</td>\n",
       "      <td>0.544407</td>\n",
       "      <td>0.455593</td>\n",
       "      <td>dem</td>\n",
       "      <td>VA</td>\n",
       "      <td>8.881462</td>\n",
       "      <td>Likely Democrat</td>\n",
       "    </tr>\n",
       "    <tr>\n",
       "      <th>Washington</th>\n",
       "      <td>2.379804e+06</td>\n",
       "      <td>1.614207e+06</td>\n",
       "      <td>134019.0</td>\n",
       "      <td>4128030.0</td>\n",
       "      <td>0.592732</td>\n",
       "      <td>0.407268</td>\n",
       "      <td>dem</td>\n",
       "      <td>WA</td>\n",
       "      <td>18.546308</td>\n",
       "      <td>Safe Democrat</td>\n",
       "    </tr>\n",
       "    <tr>\n",
       "      <th>West Virginia</th>\n",
       "      <td>2.280216e+05</td>\n",
       "      <td>5.166394e+05</td>\n",
       "      <td>12354.0</td>\n",
       "      <td>757015.0</td>\n",
       "      <td>0.309371</td>\n",
       "      <td>0.690629</td>\n",
       "      <td>gop</td>\n",
       "      <td>WV</td>\n",
       "      <td>-38.125778</td>\n",
       "      <td>Safe Republican</td>\n",
       "    </tr>\n",
       "    <tr>\n",
       "      <th>Wisconsin</th>\n",
       "      <td>1.616858e+06</td>\n",
       "      <td>1.626812e+06</td>\n",
       "      <td>57476.0</td>\n",
       "      <td>3301146.0</td>\n",
       "      <td>0.498492</td>\n",
       "      <td>0.501508</td>\n",
       "      <td>gop</td>\n",
       "      <td>WI</td>\n",
       "      <td>-0.301545</td>\n",
       "      <td>Toss-Up</td>\n",
       "    </tr>\n",
       "    <tr>\n",
       "      <th>Wyoming</th>\n",
       "      <td>6.604794e+04</td>\n",
       "      <td>1.777371e+05</td>\n",
       "      <td>8611.0</td>\n",
       "      <td>252396.0</td>\n",
       "      <td>0.278742</td>\n",
       "      <td>0.721258</td>\n",
       "      <td>gop</td>\n",
       "      <td>WY</td>\n",
       "      <td>-44.251539</td>\n",
       "      <td>Safe Republican</td>\n",
       "    </tr>\n",
       "  </tbody>\n",
       "</table>\n",
       "</div>"
      ],
      "text/plain": [
       "                         Votes_dem     Votes_gop  Votes_other  Votes_total  \\\n",
       "state                                                                        \n",
       "Alabama               8.507798e+05  1.440036e+06      32488.0    2323304.0   \n",
       "Arizona               1.688449e+06  1.645380e+06      53497.0    3387326.0   \n",
       "Arkansas              4.272360e+05  7.573430e+05      34490.0    1219069.0   \n",
       "California            1.108747e+07  6.028254e+06     380181.0   17495906.0   \n",
       "Colorado              1.804690e+06  1.364269e+06      87994.0    3256953.0   \n",
       "Connecticut           1.120068e+06  7.614643e+05      29773.0    1911305.0   \n",
       "Delaware              5.624710e+05  1.847480e+05      14122.0     761341.0   \n",
       "District of Columbia  8.805821e+04  5.261779e+04       1928.0     142604.0   \n",
       "Florida               5.222930e+06  5.610524e+06      99788.0   10933242.0   \n",
       "Georgia               2.510748e+06  2.502013e+06      64379.0    5077140.0   \n",
       "Hawaii                3.837728e+05  2.779322e+05      15881.0     677586.0   \n",
       "Idaho                 1.794903e+05  4.433317e+05      19460.0     642282.0   \n",
       "Illinois              3.510545e+06  2.552002e+06     123442.0    6185989.0   \n",
       "Indiana               1.167609e+06  1.631779e+06      56856.0    2856244.0   \n",
       "Iowa                  7.497827e+05  9.100683e+05      34245.0    1694096.0   \n",
       "Kansas                5.600609e+05  7.652521e+05      32824.0    1358137.0   \n",
       "Kentucky              7.795701e+05  1.339374e+06      37927.0    2156871.0   \n",
       "Louisiana             8.899257e+05  1.276084e+06      38270.0    2204280.0   \n",
       "Maine                 5.669428e+05  4.621962e+05      30406.0    1059545.0   \n",
       "Maryland              1.929285e+06  9.185383e+05      70649.0    2918472.0   \n",
       "Massachusetts         2.236818e+06  1.107569e+06      77507.0    3421894.0   \n",
       "Michigan              2.890940e+06  2.766555e+06      90772.0    5748267.0   \n",
       "Minnesota             1.611523e+06  1.403172e+06      70889.0    3085584.0   \n",
       "Mississippi           5.300165e+05  7.566615e+05      19018.0    1305696.0   \n",
       "Missouri              1.249352e+06  1.712898e+06      54069.0    3016319.0   \n",
       "Montana               2.464475e+05  3.495545e+05      17539.0     613541.0   \n",
       "Nebraska              8.985971e+05  9.801939e+05      44752.0    1923543.0   \n",
       "Nevada                2.138872e+05  2.648758e+05      12938.0     491701.0   \n",
       "New Hampshire         7.487035e+05  5.999095e+05      21993.0    1370606.0   \n",
       "New Jersey            2.436973e+06  1.738191e+06      71085.0    4246249.0   \n",
       "New Mexico            4.088710e+05  3.531900e+05      16871.0     778932.0   \n",
       "New York              5.150225e+06  3.278187e+06     119237.0    8547649.0   \n",
       "North Carolina        2.622320e+06  2.722458e+06      80530.0    5425308.0   \n",
       "North Dakota          1.301473e+05  2.730137e+05      11975.0     415136.0   \n",
       "Ohio                  2.660867e+06  3.123023e+06      87531.0    5871421.0   \n",
       "Oklahoma              5.495229e+05  1.025868e+06      38669.0    1614060.0   \n",
       "Oregon                1.750871e+06  1.256959e+06      85274.0    3093104.0   \n",
       "Pennsylvania          3.062951e+06  3.124742e+06      77556.0    6265249.0   \n",
       "Rhode Island          2.742813e+05  2.090367e+05       9175.0     492493.0   \n",
       "South Carolina        1.054060e+06  1.334688e+06      35449.0    2424197.0   \n",
       "South Dakota          1.639466e+05  2.930154e+05      11819.0     468781.0   \n",
       "Tennessee             1.143723e+06  1.823589e+06      56971.0    3024283.0   \n",
       "Texas                 5.288016e+06  5.865672e+06     169260.0   11322948.0   \n",
       "Utah                  5.978565e+05  8.395705e+05      63219.0    1500646.0   \n",
       "Vermont               2.611515e+05  1.333145e+05      12097.0     406563.0   \n",
       "Virginia              2.351880e+06  1.961388e+06      83450.0    4396718.0   \n",
       "Washington            2.379804e+06  1.614207e+06     134019.0    4128030.0   \n",
       "West Virginia         2.280216e+05  5.166394e+05      12354.0     757015.0   \n",
       "Wisconsin             1.616858e+06  1.626812e+06      57476.0    3301146.0   \n",
       "Wyoming               6.604794e+04  1.777371e+05       8611.0     252396.0   \n",
       "\n",
       "                       Per_dem   Per_gop Winner state_code  Difference  \\\n",
       "state                                                                    \n",
       "Alabama               0.373186  0.626814    gop         AL  -25.362861   \n",
       "Arizona               0.506357  0.493643    dem         AZ    1.271463   \n",
       "Arkansas              0.364607  0.635393    gop         AR  -27.078618   \n",
       "California            0.644583  0.355417    dem         CA   28.916578   \n",
       "Colorado              0.567613  0.432387    dem         CO   13.522505   \n",
       "Connecticut           0.593811  0.406189    dem         CT   18.762223   \n",
       "Delaware              0.748064  0.251936    dem         DE   49.612849   \n",
       "District of Columbia  0.624262  0.375738    dem         DC   24.852335   \n",
       "Florida               0.482275  0.517725    gop         FL   -3.545100   \n",
       "Georgia               0.500860  0.499140    dem         GA    0.172035   \n",
       "Hawaii                0.578101  0.421899    dem         HI   15.620259   \n",
       "Idaho                 0.294606  0.705394    gop         ID  -41.078735   \n",
       "Illinois              0.577477  0.422523    dem         IL   15.495396   \n",
       "Indiana               0.418745  0.581255    gop         IN  -16.251049   \n",
       "Iowa                  0.452693  0.547307    gop         IA   -9.461427   \n",
       "Kansas                0.424459  0.575541    gop         KS  -15.108290   \n",
       "Kentucky              0.370228  0.629772    gop         KY  -25.954440   \n",
       "Louisiana             0.412407  0.587593    gop         LA  -17.518580   \n",
       "Maine                 0.549430  0.450570    dem         ME    9.886001   \n",
       "Maryland              0.673164  0.326836    dem         MD   34.632725   \n",
       "Massachusetts         0.665003  0.334997    dem         MA   33.000677   \n",
       "Michigan              0.510819  0.489181    dem         MI    2.163867   \n",
       "Minnesota             0.533762  0.466238    dem         MN    6.752375   \n",
       "Mississippi           0.413209  0.586791    gop         MS  -17.358169   \n",
       "Missouri              0.423160  0.576840    gop         MO  -15.367907   \n",
       "Montana               0.415974  0.584026    gop         MT  -16.805231   \n",
       "Nebraska              0.478790  0.521210    gop         NE   -4.242004   \n",
       "Nevada                0.448151  0.551849    gop         NV  -10.369858   \n",
       "New Hampshire         0.554280  0.445720    dem         NH   10.856077   \n",
       "New Jersey            0.582282  0.417718    dem         NJ   16.456460   \n",
       "New Mexico            0.535742  0.464258    dem         NM    7.148369   \n",
       "New York              0.609506  0.390494    dem         NY   21.901201   \n",
       "North Carolina        0.490771  0.509229    gop         NC   -1.845762   \n",
       "North Dakota          0.327928  0.672072    gop         ND  -34.414381   \n",
       "Ohio                  0.460644  0.539356    gop         OH   -7.871285   \n",
       "Oklahoma              0.352439  0.647561    gop         OK  -29.512232   \n",
       "Oregon                0.579841  0.420159    dem         OR   15.968191   \n",
       "Pennsylvania          0.495069  0.504931    gop         PA   -0.986253   \n",
       "Rhode Island          0.566239  0.433761    dem         RI   13.247807   \n",
       "South Carolina        0.442119  0.557881    gop         SC  -11.576104   \n",
       "South Dakota          0.362336  0.637664    gop         SD  -27.532867   \n",
       "Tennessee             0.387599  0.612401    gop         TN  -22.480236   \n",
       "Texas                 0.474492  0.525508    gop         TX   -5.101645   \n",
       "Utah                  0.419463  0.580537    gop         UT  -16.107335   \n",
       "Vermont               0.657217  0.342783    dem         VT   31.443357   \n",
       "Virginia              0.544407  0.455593    dem         VA    8.881462   \n",
       "Washington            0.592732  0.407268    dem         WA   18.546308   \n",
       "West Virginia         0.309371  0.690629    gop         WV  -38.125778   \n",
       "Wisconsin             0.498492  0.501508    gop         WI   -0.301545   \n",
       "Wyoming               0.278742  0.721258    gop         WY  -44.251539   \n",
       "\n",
       "                                 Status  \n",
       "state                                    \n",
       "Alabama                 Safe Republican  \n",
       "Arizona                         Toss-Up  \n",
       "Arkansas                Safe Republican  \n",
       "California                Safe Democrat  \n",
       "Colorado                  Safe Democrat  \n",
       "Connecticut               Safe Democrat  \n",
       "Delaware                  Safe Democrat  \n",
       "District of Columbia      Safe Democrat  \n",
       "Florida               Likely Republican  \n",
       "Georgia                         Toss-Up  \n",
       "Hawaii                    Safe Democrat  \n",
       "Idaho                   Safe Republican  \n",
       "Illinois                  Safe Democrat  \n",
       "Indiana                 Safe Republican  \n",
       "Iowa                  Likely Republican  \n",
       "Kansas                  Safe Republican  \n",
       "Kentucky                Safe Republican  \n",
       "Louisiana               Safe Republican  \n",
       "Maine                   Likely Democrat  \n",
       "Maryland                  Safe Democrat  \n",
       "Massachusetts             Safe Democrat  \n",
       "Michigan                        Toss-Up  \n",
       "Minnesota               Likely Democrat  \n",
       "Mississippi             Safe Republican  \n",
       "Missouri                Safe Republican  \n",
       "Montana                 Safe Republican  \n",
       "Nebraska              Likely Republican  \n",
       "Nevada                  Safe Republican  \n",
       "New Hampshire             Safe Democrat  \n",
       "New Jersey                Safe Democrat  \n",
       "New Mexico              Likely Democrat  \n",
       "New York                  Safe Democrat  \n",
       "North Carolina                  Toss-Up  \n",
       "North Dakota            Safe Republican  \n",
       "Ohio                  Likely Republican  \n",
       "Oklahoma                Safe Republican  \n",
       "Oregon                    Safe Democrat  \n",
       "Pennsylvania                    Toss-Up  \n",
       "Rhode Island              Safe Democrat  \n",
       "South Carolina          Safe Republican  \n",
       "South Dakota            Safe Republican  \n",
       "Tennessee               Safe Republican  \n",
       "Texas                 Likely Republican  \n",
       "Utah                    Safe Republican  \n",
       "Vermont                   Safe Democrat  \n",
       "Virginia                Likely Democrat  \n",
       "Washington                Safe Democrat  \n",
       "West Virginia           Safe Republican  \n",
       "Wisconsin                       Toss-Up  \n",
       "Wyoming                 Safe Republican  "
      ]
     },
     "execution_count": 11,
     "metadata": {},
     "output_type": "execute_result"
    }
   ],
   "source": [
    "# Añadir la columna \"Winner\" basado en los porcentajes predichos de Biden y Trump\n",
    "accumulated_pred_state['Winner'] = np.where(\n",
    "    accumulated_pred_state[\"Per_dem\"] >= accumulated_pred_state[\"Per_gop\"], 'dem', 'gop'\n",
    ")\n",
    "\n",
    "# Añadir los códigos de los estados usando el diccionario state_to_code\n",
    "accumulated_pred_state['state_code'] = accumulated_pred_state.index.map(state_to_code)\n",
    "\n",
    "# Añadir diferencia entre Biden y Trump\n",
    "accumulated_pred_state['Difference'] = (accumulated_pred_state[\"Per_dem\"] - accumulated_pred_state[\"Per_gop\"]) * 100\n",
    "\n",
    "\n",
    "# Definir las condiciones y los valores a asignar\n",
    "conditions = [\n",
    "    accumulated_pred_state[\"Difference\"] > 10,\n",
    "    accumulated_pred_state[\"Difference\"].between(2.5, 10),\n",
    "    accumulated_pred_state[\"Difference\"].between(-2.5, 2.5),\n",
    "    accumulated_pred_state[\"Difference\"].between(-10, -2.5),\n",
    "    accumulated_pred_state[\"Difference\"] < -10\n",
    "]\n",
    "\n",
    "choices = [\n",
    "    \"Safe Democrat\",\n",
    "    \"Likely Democrat\",\n",
    "    \"Toss-Up\",\n",
    "    \"Likely Republican\",\n",
    "    \"Safe Republican\"\n",
    "]\n",
    "\n",
    "# Usar np.select para asignar el \"Status\" basado en las condiciones, con un valor por defecto \"Unknown\"\n",
    "accumulated_pred_state[\"Status\"] = np.select(conditions, choices, default=\"Unknown\")\n",
    "\n",
    "\n",
    "# Mostrar el DataFrame\n",
    "accumulated_pred_state\n"
   ]
  },
  {
   "cell_type": "markdown",
   "metadata": {},
   "source": [
    "## Gráficos"
   ]
  },
  {
   "cell_type": "markdown",
   "metadata": {},
   "source": [
    "### Simulación"
   ]
  },
  {
   "cell_type": "code",
   "execution_count": 12,
   "metadata": {},
   "outputs": [
    {
     "data": {
      "image/png": "[encoded data removed]",
      "text/plain": [
       "<Figure size 1200x800 with 1 Axes>"
      ]
     },
     "metadata": {},
     "output_type": "display_data"
    }
   ],
   "source": [
    "# Asegurarse de que los valores de Trump_Pred y Biden_Pred sean numéricos\n",
    "simulation_results['Pred_gop'] = pd.to_numeric(simulation_results['Pred_gop'], errors='coerce')\n",
    "simulation_results['Pred_dem'] = pd.to_numeric(simulation_results['Pred_dem'], errors='coerce')\n",
    "\n",
    "# Eliminar cualquier fila con valores NaN (si es necesario)\n",
    "simulation_results = simulation_results.dropna(subset=['Pred_gop', 'Pred_dem'])\n",
    "\n",
    "# Crear un gráfico de densidad para las predicciones de Biden y Trump\n",
    "plt.figure(figsize=(12, 8))\n",
    "\n",
    "# Gráfico de densidad para Biden (positivo)\n",
    "sns.kdeplot(simulation_results['Pred_dem'], color=\"#3951a2\", fill=True, alpha=0.8, label=\"Biden Pred\")\n",
    "\n",
    "# Crear la densidad para Trump usando gaussian_kde\n",
    "density_trump = gaussian_kde(simulation_results['Pred_gop'])\n",
    "x_vals = np.linspace(min(simulation_results['Pred_gop']), max(simulation_results['Pred_dem']), 1000)\n",
    "y_vals = density_trump(x_vals)\n",
    "\n",
    "# Graficar la densidad de Trump invertida\n",
    "plt.fill_between(x_vals, -y_vals, color=\"#af2b39\", alpha=0.8, label=\"Trump Pred\")\n",
    "\n",
    "# Línea vertical en 270 votos\n",
    "plt.axvline(x=270, color=\"black\", linestyle=\"--\", linewidth=1, label=\"Límite para ganar (270)\")\n",
    "plt.text(270-6, 0.02, '270', color=\"black\", verticalalignment='bottom', fontsize=12)  # Añadir el valor '270' dentro del gráfico\n",
    "\n",
    "# Línea vertical para la media de las predicciones de Biden\n",
    "plt.axvline(x=np.mean(simulation_results['Pred_dem']), color=\"white\", linestyle=\"--\", linewidth=1, label=\"Media Biden Pred\")\n",
    "mean_biden = np.mean(simulation_results['Pred_dem'])\n",
    "plt.text(mean_biden + 1, 0.01, f'{mean_biden:.0f}', color=\"white\", verticalalignment='bottom', fontsize=12)  # Añadir el valor de la media de Biden\n",
    "\n",
    "# Línea vertical para la media de las predicciones de Trump\n",
    "plt.axvline(x=np.mean(simulation_results['Pred_gop']), color=\"white\", linestyle=\"--\", linewidth=1, label=\"Media Trump Pred\")\n",
    "mean_trump = np.mean(simulation_results['Pred_gop'])\n",
    "plt.text(mean_trump + 1, -0.01, f'{mean_trump:.0f}', color=\"white\", verticalalignment='top', fontsize=12)  # Añadir el valor de la media de Trump\n",
    "\n",
    "# Ajustar el eje Y para que sea simétrico\n",
    "plt.ylim(-1.1 * max(y_vals), 1.1 * max(y_vals))\n",
    "\n",
    "# Ajustar el eje X para ver más a la izquierda\n",
    "plt.xlim(min(simulation_results['Pred_gop']), max(simulation_results['Pred_dem']))\n",
    "\n",
    "# Añadir título\n",
    "plt.title(f\"{ELECTORAL_YEAR} Distribución Biden Pred. vs Trump Pred.\", fontsize=16)\n",
    "\n",
    "# Añadir leyenda\n",
    "plt.legend()\n",
    "\n",
    "# Eliminar el fondo del gráfico\n",
    "plt.gca().patch.set_alpha(0)  # Fondo del área del gráfico transparente\n",
    "\n",
    "# Eliminar los bordes y la línea negra alrededor del gráfico\n",
    "plt.gca().spines['top'].set_visible(False)\n",
    "plt.gca().spines['right'].set_visible(False)\n",
    "plt.gca().spines['left'].set_visible(False)\n",
    "plt.gca().spines['bottom'].set_visible(False)\n",
    "\n",
    "# Guardar el gráfico como PNG con fondo transparente\n",
    "plt.savefig(f\"imgs/densidad_biden_trump_transparente_{ELECTORAL_YEAR}.png\", format=\"png\", transparent=True)\n",
    "\n",
    "# Mostrar el gráfico\n",
    "plt.show()"
   ]
  },
  {
   "cell_type": "code",
   "execution_count": 13,
   "metadata": {},
   "outputs": [
    {
     "data": {
      "image/png": "[encoded data removed]",
      "text/plain": [
       "<Figure size 1000x1200 with 1 Axes>"
      ]
     },
     "metadata": {},
     "output_type": "display_data"
    }
   ],
   "source": [
    "# Ordenar los estados por orden alfabético\n",
    "accumulated_pred_state_sorted = accumulated_pred_state.sort_values('state', ascending=False)\n",
    "\n",
    "# Crear el gráfico de barras apiladas\n",
    "plt.figure(figsize=(10, 12))\n",
    "\n",
    "# Primero, graficar la barra de Trump\n",
    "sns.barplot(x=accumulated_pred_state_sorted[\"Per_dem\"] + accumulated_pred_state_sorted[\"Per_gop\"], \n",
    "            y='state', data=accumulated_pred_state_sorted, color=\"#ac2a37\", label=\"gop\")\n",
    "\n",
    "# Luego, graficar la barra de Biden encima de Trump\n",
    "sns.barplot(x=\"Per_dem\", y='state', data=accumulated_pred_state_sorted, color=\"#3951a2\", label=\"dem\")\n",
    "\n",
    "# Añadir una línea vertical en el 50%\n",
    "plt.axvline(x=0.50, color=\"white\", linestyle=\"--\", linewidth=1)\n",
    "\n",
    "# Añadir leyenda\n",
    "plt.legend(loc='best')\n",
    "\n",
    "# Invertir el eje Y para que los estados se vean de arriba hacia abajo\n",
    "plt.gca().invert_yaxis()\n",
    "\n",
    "# Añadir etiquetas y título\n",
    "plt.title(f'{ELECTORAL_YEAR} Resultados Medios por Estado - Simulaciones de Trump vs Biden', fontsize=16)\n",
    "plt.xlabel('Proporción de Votos Simulados')\n",
    "plt.ylabel('Estado')\n",
    "\n",
    "# Ajustar el eje X para que las barras lleguen al 100%\n",
    "plt.xlim(0, 1)\n",
    "\n",
    "# Guardar el gráfico como PNG con fondo transparente\n",
    "plt.savefig(\"imgs/porc_estado_transparente_{ELECTORAL_YEAR}.png\", format=\"png\", transparent=True)\n",
    "\n",
    "# Mostrar el gráfico\n",
    "plt.show()"
   ]
  },
  {
   "cell_type": "code",
   "execution_count": 14,
   "metadata": {},
   "outputs": [
    {
     "data": {
      "image/png": "[encoded data removed]",
      "text/plain": [
       "<Figure size 2600x1200 with 1 Axes>"
      ]
     },
     "metadata": {},
     "output_type": "display_data"
    }
   ],
   "source": [
    "plt.figure(figsize=(26, 12))\n",
    "\n",
    "# Graficar la barra de Trump (en la parte inferior)\n",
    "sns.barplot(y=accumulated_pred_state_sorted[\"Per_dem\"] + accumulated_pred_state_sorted[\"Per_gop\"], \n",
    "            x='state', data=accumulated_pred_state_sorted, color=\"#ac2a37\", label=\"gop\")\n",
    "\n",
    "# Graficar la barra de Biden encima de Trump\n",
    "sns.barplot(y=\"Per_dem\", x='state', data=accumulated_pred_state_sorted, color=\"#3951a2\", label=\"dem\")\n",
    "\n",
    "# Añadir una línea horizontal en el 50%\n",
    "plt.axhline(y=0.50, color=\"white\", linestyle=\"--\", linewidth=1)\n",
    "\n",
    "# Añadir leyenda\n",
    "plt.legend(loc='best', fontsize=22)\n",
    "\n",
    "# Añadir etiquetas y título\n",
    "# plt.title('Resultados Medios por Estado - Simulaciones de Trump vs Biden', fontsize=16)\n",
    "plt.ylabel('Proporción de Votos Simulados', fontsize=22)\n",
    "plt.xlabel('Estado', fontsize=22)\n",
    "\n",
    "# Ajustar el eje Y para que las barras lleguen al 100%\n",
    "plt.ylim(0, 1)\n",
    "\n",
    "# Rotar los nombres de los estados para mejor visibilidad y aumentar el tamaño de las etiquetas\n",
    "plt.xticks(rotation=90, fontsize=24)\n",
    "plt.yticks(fontsize=24)\n",
    "\n",
    "# Ajustar los márgenes del gráfico para evitar que los xticks se corten\n",
    "plt.tight_layout()\n",
    "\n",
    "\n",
    "# Guardar el gráfico como PNG con fondo transparente\n",
    "plt.savefig(f\"imgs/porc_estado_inv_transparente_{ELECTORAL_YEAR}.png\", format=\"png\", transparent=True)\n",
    "\n",
    "# Mostrar el gráfico\n",
    "plt.show()"
   ]
  },
  {
   "cell_type": "code",
   "execution_count": 15,
   "metadata": {},
   "outputs": [
    {
     "data": {
      "application/vnd.plotly.v1+json": {
       "config": {
        "plotlyServerURL": "https://plot.ly"
       },
       "data": [
        {
         "colorscale": [
          [
           0,
           "#af2b39"
          ],
          [
           1,
           "#af2b39"
          ]
         ],
         "customdata": [
          [
           "AL",
           0.3731856962582592,
           0.6268143037417409
          ],
          [
           "AR",
           0.3646069089461674,
           0.6353930910538319
          ],
          [
           "FL",
           0.4822745023897523,
           0.5177254976102478
          ],
          [
           "ID",
           0.2946063269813644,
           0.7053936730186356
          ],
          [
           "IN",
           0.41874475612643597,
           0.5812552438735642
          ],
          [
           "IA",
           0.4526928641174049,
           0.5473071358825946
          ],
          [
           "KS",
           0.424458550104973,
           0.5755414498950266
          ],
          [
           "KY",
           0.3702278000346859,
           0.6297721999653135
          ],
          [
           "LA",
           0.4124070999130102,
           0.5875929000869899
          ],
          [
           "MS",
           0.4132091546062314,
           0.5867908453937689
          ],
          [
           "MO",
           0.4231604671966622,
           0.5768395328033381
          ],
          [
           "MT",
           0.4159738460319386,
           0.5840261539680608
          ],
          [
           "NE",
           0.478789981375317,
           0.5212100186246831
          ],
          [
           "NV",
           0.4481507101209176,
           0.5518492898790825
          ],
          [
           "NC",
           0.4907711916006313,
           0.5092288083993689
          ],
          [
           "ND",
           0.3279280940835534,
           0.6720719059164465
          ],
          [
           "OH",
           0.4606435770800816,
           0.5393564229199186
          ],
          [
           "OK",
           0.3524388419729344,
           0.6475611580270654
          ],
          [
           "PA",
           0.4950687365511708,
           0.5049312634488291
          ],
          [
           "SC",
           0.44211948098222276,
           0.5578805190177774
          ],
          [
           "SD",
           0.36233566266244677,
           0.6376643373375532
          ],
          [
           "TN",
           0.38759881997482565,
           0.6124011800251741
          ],
          [
           "TX",
           0.47449177640727214,
           0.5255082235927281
          ],
          [
           "UT",
           0.4194633259865422,
           0.5805366740134572
          ],
          [
           "WV",
           0.3093711083388454,
           0.6906288916611546
          ],
          [
           "WI",
           0.4984922771492426,
           0.5015077228507574
          ],
          [
           "WY",
           0.2787423074192468,
           0.7212576925807538
          ]
         ],
         "geo": "geo",
         "hovertemplate": "<b>%{hovertext}</b><br><br>Ganador {ELECTORAL_YEAR}=gop<br>state_code=%{customdata[0]}<br>Per_dem=%{customdata[1]:.2%}<br>Per_gop=%{customdata[2]:.2%}<extra></extra>",
         "hovertext": [
          "AL",
          "AR",
          "FL",
          "ID",
          "IN",
          "IA",
          "KS",
          "KY",
          "LA",
          "MS",
          "MO",
          "MT",
          "NE",
          "NV",
          "NC",
          "ND",
          "OH",
          "OK",
          "PA",
          "SC",
          "SD",
          "TN",
          "TX",
          "UT",
          "WV",
          "WI",
          "WY"
         ],
         "locationmode": "USA-states",
         "locations": [
          "AL",
          "AR",
          "FL",
          "ID",
          "IN",
          "IA",
          "KS",
          "KY",
          "LA",
          "MS",
          "MO",
          "MT",
          "NE",
          "NV",
          "NC",
          "ND",
          "OH",
          "OK",
          "PA",
          "SC",
          "SD",
          "TN",
          "TX",
          "UT",
          "WV",
          "WI",
          "WY"
         ],
         "name": "gop",
         "showlegend": true,
         "showscale": false,
         "type": "choropleth",
         "z": [
          1,
          1,
          1,
          1,
          1,
          1,
          1,
          1,
          1,
          1,
          1,
          1,
          1,
          1,
          1,
          1,
          1,
          1,
          1,
          1,
          1,
          1,
          1,
          1,
          1,
          1,
          1
         ]
        },
        {
         "colorscale": [
          [
           0,
           "#3951a2"
          ],
          [
           1,
           "#3951a2"
          ]
         ],
         "customdata": [
          [
           "AZ",
           0.5063573146705067,
           0.4936426853294933
          ],
          [
           "CA",
           0.6445828916227856,
           0.355417108377215
          ],
          [
           "CO",
           0.5676125237063944,
           0.4323874762936059
          ],
          [
           "CT",
           0.5938111167167937,
           0.40618888328320657
          ],
          [
           "DE",
           0.7480642471041488,
           0.25193575289585
          ],
          [
           "DC",
           0.6242616744177074,
           0.37573832558228915
          ],
          [
           "GA",
           0.5008601774148094,
           0.49913982258519063
          ],
          [
           "HI",
           0.5781012969672512,
           0.42189870303274785
          ],
          [
           "IL",
           0.5774769786220665,
           0.42252302137793313
          ],
          [
           "ME",
           0.5494300070760051,
           0.450569992923995
          ],
          [
           "MD",
           0.6731636231964528,
           0.3268363768035469
          ],
          [
           "MA",
           0.6650033855177648,
           0.3349966144822347
          ],
          [
           "MI",
           0.510819334846464,
           0.489180665153536
          ],
          [
           "MN",
           0.5337618735259322,
           0.4662381264740678
          ],
          [
           "NH",
           0.5542803843160714,
           0.44571961568392876
          ],
          [
           "NJ",
           0.5822823012802936,
           0.4177176987197062
          ],
          [
           "NM",
           0.5357418474021424,
           0.4642581525978576
          ],
          [
           "NY",
           0.6095060070719075,
           0.39049399292809267
          ],
          [
           "OR",
           0.5798409525240301,
           0.42015904747597016
          ],
          [
           "RI",
           0.5662390364894788,
           0.4337609635105212
          ],
          [
           "VT",
           0.6572167862129951,
           0.34278321378700444
          ],
          [
           "VA",
           0.5444073102702638,
           0.4555926897297361
          ],
          [
           "WA",
           0.5927315391377371,
           0.40726846086226265
          ]
         ],
         "geo": "geo",
         "hovertemplate": "<b>%{hovertext}</b><br><br>Ganador {ELECTORAL_YEAR}=dem<br>state_code=%{customdata[0]}<br>Per_dem=%{customdata[1]:.2%}<br>Per_gop=%{customdata[2]:.2%}<extra></extra>",
         "hovertext": [
          "AZ",
          "CA",
          "CO",
          "CT",
          "DE",
          "DC",
          "GA",
          "HI",
          "IL",
          "ME",
          "MD",
          "MA",
          "MI",
          "MN",
          "NH",
          "NJ",
          "NM",
          "NY",
          "OR",
          "RI",
          "VT",
          "VA",
          "WA"
         ],
         "locationmode": "USA-states",
         "locations": [
          "AZ",
          "CA",
          "CO",
          "CT",
          "DE",
          "DC",
          "GA",
          "HI",
          "IL",
          "ME",
          "MD",
          "MA",
          "MI",
          "MN",
          "NH",
          "NJ",
          "NM",
          "NY",
          "OR",
          "RI",
          "VT",
          "VA",
          "WA"
         ],
         "name": "dem",
         "showlegend": true,
         "showscale": false,
         "type": "choropleth",
         "z": [
          1,
          1,
          1,
          1,
          1,
          1,
          1,
          1,
          1,
          1,
          1,
          1,
          1,
          1,
          1,
          1,
          1,
          1,
          1,
          1,
          1,
          1,
          1
         ]
        }
       ],
       "layout": {
        "geo": {
         "center": {},
         "domain": {
          "x": [
           0,
           1
          ],
          "y": [
           0,
           1
          ]
         },
         "fitbounds": "locations",
         "scope": "usa",
         "visible": false
        },
        "height": 800,
        "legend": {
         "title": {
          "text": "Ganador {ELECTORAL_YEAR}"
         },
         "tracegroupgap": 0
        },
        "template": {
         "data": {
          "bar": [
           {
            "error_x": {
             "color": "#2a3f5f"
            },
            "error_y": {
             "color": "#2a3f5f"
            },
            "marker": {
             "line": {
              "color": "#E5ECF6",
              "width": 0.5
             },
             "pattern": {
              "fillmode": "overlay",
              "size": 10,
              "solidity": 0.2
             }
            },
            "type": "bar"
           }
          ],
          "barpolar": [
           {
            "marker": {
             "line": {
              "color": "#E5ECF6",
              "width": 0.5
             },
             "pattern": {
              "fillmode": "overlay",
              "size": 10,
              "solidity": 0.2
             }
            },
            "type": "barpolar"
           }
          ],
          "carpet": [
           {
            "aaxis": {
             "endlinecolor": "#2a3f5f",
             "gridcolor": "white",
             "linecolor": "white",
             "minorgridcolor": "white",
             "startlinecolor": "#2a3f5f"
            },
            "baxis": {
             "endlinecolor": "#2a3f5f",
             "gridcolor": "white",
             "linecolor": "white",
             "minorgridcolor": "white",
             "startlinecolor": "#2a3f5f"
            },
            "type": "carpet"
           }
          ],
          "choropleth": [
           {
            "colorbar": {
             "outlinewidth": 0,
             "ticks": ""
            },
            "type": "choropleth"
           }
          ],
          "contour": [
           {
            "colorbar": {
             "outlinewidth": 0,
             "ticks": ""
            },
            "colorscale": [
             [
              0,
              "#0d0887"
             ],
             [
              0.1111111111111111,
              "#46039f"
             ],
             [
              0.2222222222222222,
              "#7201a8"
             ],
             [
              0.3333333333333333,
              "#9c179e"
             ],
             [
              0.4444444444444444,
              "#bd3786"
             ],
             [
              0.5555555555555556,
              "#d8576b"
             ],
             [
              0.6666666666666666,
              "#ed7953"
             ],
             [
              0.7777777777777778,
              "#fb9f3a"
             ],
             [
              0.8888888888888888,
              "#fdca26"
             ],
             [
              1,
              "#f0f921"
             ]
            ],
            "type": "contour"
           }
          ],
          "contourcarpet": [
           {
            "colorbar": {
             "outlinewidth": 0,
             "ticks": ""
            },
            "type": "contourcarpet"
           }
          ],
          "heatmap": [
           {
            "colorbar": {
             "outlinewidth": 0,
             "ticks": ""
            },
            "colorscale": [
             [
              0,
              "#0d0887"
             ],
             [
              0.1111111111111111,
              "#46039f"
             ],
             [
              0.2222222222222222,
              "#7201a8"
             ],
             [
              0.3333333333333333,
              "#9c179e"
             ],
             [
              0.4444444444444444,
              "#bd3786"
             ],
             [
              0.5555555555555556,
              "#d8576b"
             ],
             [
              0.6666666666666666,
              "#ed7953"
             ],
             [
              0.7777777777777778,
              "#fb9f3a"
             ],
             [
              0.8888888888888888,
              "#fdca26"
             ],
             [
              1,
              "#f0f921"
             ]
            ],
            "type": "heatmap"
           }
          ],
          "histogram": [
           {
            "marker": {
             "pattern": {
              "fillmode": "overlay",
              "size": 10,
              "solidity": 0.2
             }
            },
            "type": "histogram"
           }
          ],
          "histogram2d": [
           {
            "colorbar": {
             "outlinewidth": 0,
             "ticks": ""
            },
            "colorscale": [
             [
              0,
              "#0d0887"
             ],
             [
              0.1111111111111111,
              "#46039f"
             ],
             [
              0.2222222222222222,
              "#7201a8"
             ],
             [
              0.3333333333333333,
              "#9c179e"
             ],
             [
              0.4444444444444444,
              "#bd3786"
             ],
             [
              0.5555555555555556,
              "#d8576b"
             ],
             [
              0.6666666666666666,
              "#ed7953"
             ],
             [
              0.7777777777777778,
              "#fb9f3a"
             ],
             [
              0.8888888888888888,
              "#fdca26"
             ],
             [
              1,
              "#f0f921"
             ]
            ],
            "type": "histogram2d"
           }
          ],
          "histogram2dcontour": [
           {
            "colorbar": {
             "outlinewidth": 0,
             "ticks": ""
            },
            "colorscale": [
             [
              0,
              "#0d0887"
             ],
             [
              0.1111111111111111,
              "#46039f"
             ],
             [
              0.2222222222222222,
              "#7201a8"
             ],
             [
              0.3333333333333333,
              "#9c179e"
             ],
             [
              0.4444444444444444,
              "#bd3786"
             ],
             [
              0.5555555555555556,
              "#d8576b"
             ],
             [
              0.6666666666666666,
              "#ed7953"
             ],
             [
              0.7777777777777778,
              "#fb9f3a"
             ],
             [
              0.8888888888888888,
              "#fdca26"
             ],
             [
              1,
              "#f0f921"
             ]
            ],
            "type": "histogram2dcontour"
           }
          ],
          "mesh3d": [
           {
            "colorbar": {
             "outlinewidth": 0,
             "ticks": ""
            },
            "type": "mesh3d"
           }
          ],
          "parcoords": [
           {
            "line": {
             "colorbar": {
              "outlinewidth": 0,
              "ticks": ""
             }
            },
            "type": "parcoords"
           }
          ],
          "pie": [
           {
            "automargin": true,
            "type": "pie"
           }
          ],
          "scatter": [
           {
            "fillpattern": {
             "fillmode": "overlay",
             "size": 10,
             "solidity": 0.2
            },
            "type": "scatter"
           }
          ],
          "scatter3d": [
           {
            "line": {
             "colorbar": {
              "outlinewidth": 0,
              "ticks": ""
             }
            },
            "marker": {
             "colorbar": {
              "outlinewidth": 0,
              "ticks": ""
             }
            },
            "type": "scatter3d"
           }
          ],
          "scattercarpet": [
           {
            "marker": {
             "colorbar": {
              "outlinewidth": 0,
              "ticks": ""
             }
            },
            "type": "scattercarpet"
           }
          ],
          "scattergeo": [
           {
            "marker": {
             "colorbar": {
              "outlinewidth": 0,
              "ticks": ""
             }
            },
            "type": "scattergeo"
           }
          ],
          "scattergl": [
           {
            "marker": {
             "colorbar": {
              "outlinewidth": 0,
              "ticks": ""
             }
            },
            "type": "scattergl"
           }
          ],
          "scattermap": [
           {
            "marker": {
             "colorbar": {
              "outlinewidth": 0,
              "ticks": ""
             }
            },
            "type": "scattermap"
           }
          ],
          "scattermapbox": [
           {
            "marker": {
             "colorbar": {
              "outlinewidth": 0,
              "ticks": ""
             }
            },
            "type": "scattermapbox"
           }
          ],
          "scatterpolar": [
           {
            "marker": {
             "colorbar": {
              "outlinewidth": 0,
              "ticks": ""
             }
            },
            "type": "scatterpolar"
           }
          ],
          "scatterpolargl": [
           {
            "marker": {
             "colorbar": {
              "outlinewidth": 0,
              "ticks": ""
             }
            },
            "type": "scatterpolargl"
           }
          ],
          "scatterternary": [
           {
            "marker": {
             "colorbar": {
              "outlinewidth": 0,
              "ticks": ""
             }
            },
            "type": "scatterternary"
           }
          ],
          "surface": [
           {
            "colorbar": {
             "outlinewidth": 0,
             "ticks": ""
            },
            "colorscale": [
             [
              0,
              "#0d0887"
             ],
             [
              0.1111111111111111,
              "#46039f"
             ],
             [
              0.2222222222222222,
              "#7201a8"
             ],
             [
              0.3333333333333333,
              "#9c179e"
             ],
             [
              0.4444444444444444,
              "#bd3786"
             ],
             [
              0.5555555555555556,
              "#d8576b"
             ],
             [
              0.6666666666666666,
              "#ed7953"
             ],
             [
              0.7777777777777778,
              "#fb9f3a"
             ],
             [
              0.8888888888888888,
              "#fdca26"
             ],
             [
              1,
              "#f0f921"
             ]
            ],
            "type": "surface"
           }
          ],
          "table": [
           {
            "cells": {
             "fill": {
              "color": "#EBF0F8"
             },
             "line": {
              "color": "white"
             }
            },
            "header": {
             "fill": {
              "color": "#C8D4E3"
             },
             "line": {
              "color": "white"
             }
            },
            "type": "table"
           }
          ]
         },
         "layout": {
          "annotationdefaults": {
           "arrowcolor": "#2a3f5f",
           "arrowhead": 0,
           "arrowwidth": 1
          },
          "autotypenumbers": "strict",
          "coloraxis": {
           "colorbar": {
            "outlinewidth": 0,
            "ticks": ""
           }
          },
          "colorscale": {
           "diverging": [
            [
             0,
             "#8e0152"
            ],
            [
             0.1,
             "#c51b7d"
            ],
            [
             0.2,
             "#de77ae"
            ],
            [
             0.3,
             "#f1b6da"
            ],
            [
             0.4,
             "#fde0ef"
            ],
            [
             0.5,
             "#f7f7f7"
            ],
            [
             0.6,
             "#e6f5d0"
            ],
            [
             0.7,
             "#b8e186"
            ],
            [
             0.8,
             "#7fbc41"
            ],
            [
             0.9,
             "#4d9221"
            ],
            [
             1,
             "#276419"
            ]
           ],
           "sequential": [
            [
             0,
             "#0d0887"
            ],
            [
             0.1111111111111111,
             "#46039f"
            ],
            [
             0.2222222222222222,
             "#7201a8"
            ],
            [
             0.3333333333333333,
             "#9c179e"
            ],
            [
             0.4444444444444444,
             "#bd3786"
            ],
            [
             0.5555555555555556,
             "#d8576b"
            ],
            [
             0.6666666666666666,
             "#ed7953"
            ],
            [
             0.7777777777777778,
             "#fb9f3a"
            ],
            [
             0.8888888888888888,
             "#fdca26"
            ],
            [
             1,
             "#f0f921"
            ]
           ],
           "sequentialminus": [
            [
             0,
             "#0d0887"
            ],
            [
             0.1111111111111111,
             "#46039f"
            ],
            [
             0.2222222222222222,
             "#7201a8"
            ],
            [
             0.3333333333333333,
             "#9c179e"
            ],
            [
             0.4444444444444444,
             "#bd3786"
            ],
            [
             0.5555555555555556,
             "#d8576b"
            ],
            [
             0.6666666666666666,
             "#ed7953"
            ],
            [
             0.7777777777777778,
             "#fb9f3a"
            ],
            [
             0.8888888888888888,
             "#fdca26"
            ],
            [
             1,
             "#f0f921"
            ]
           ]
          },
          "colorway": [
           "#636efa",
           "#EF553B",
           "#00cc96",
           "#ab63fa",
           "#FFA15A",
           "#19d3f3",
           "#FF6692",
           "#B6E880",
           "#FF97FF",
           "#FECB52"
          ],
          "font": {
           "color": "#2a3f5f"
          },
          "geo": {
           "bgcolor": "white",
           "lakecolor": "white",
           "landcolor": "#E5ECF6",
           "showlakes": true,
           "showland": true,
           "subunitcolor": "white"
          },
          "hoverlabel": {
           "align": "left"
          },
          "hovermode": "closest",
          "mapbox": {
           "style": "light"
          },
          "paper_bgcolor": "white",
          "plot_bgcolor": "#E5ECF6",
          "polar": {
           "angularaxis": {
            "gridcolor": "white",
            "linecolor": "white",
            "ticks": ""
           },
           "bgcolor": "#E5ECF6",
           "radialaxis": {
            "gridcolor": "white",
            "linecolor": "white",
            "ticks": ""
           }
          },
          "scene": {
           "xaxis": {
            "backgroundcolor": "#E5ECF6",
            "gridcolor": "white",
            "gridwidth": 2,
            "linecolor": "white",
            "showbackground": true,
            "ticks": "",
            "zerolinecolor": "white"
           },
           "yaxis": {
            "backgroundcolor": "#E5ECF6",
            "gridcolor": "white",
            "gridwidth": 2,
            "linecolor": "white",
            "showbackground": true,
            "ticks": "",
            "zerolinecolor": "white"
           },
           "zaxis": {
            "backgroundcolor": "#E5ECF6",
            "gridcolor": "white",
            "gridwidth": 2,
            "linecolor": "white",
            "showbackground": true,
            "ticks": "",
            "zerolinecolor": "white"
           }
          },
          "shapedefaults": {
           "line": {
            "color": "#2a3f5f"
           }
          },
          "ternary": {
           "aaxis": {
            "gridcolor": "white",
            "linecolor": "white",
            "ticks": ""
           },
           "baxis": {
            "gridcolor": "white",
            "linecolor": "white",
            "ticks": ""
           },
           "bgcolor": "#E5ECF6",
           "caxis": {
            "gridcolor": "white",
            "linecolor": "white",
            "ticks": ""
           }
          },
          "title": {
           "x": 0.05
          },
          "xaxis": {
           "automargin": true,
           "gridcolor": "white",
           "linecolor": "white",
           "ticks": "",
           "title": {
            "standoff": 15
           },
           "zerolinecolor": "white",
           "zerolinewidth": 2
          },
          "yaxis": {
           "automargin": true,
           "gridcolor": "white",
           "linecolor": "white",
           "ticks": "",
           "title": {
            "standoff": 15
           },
           "zerolinecolor": "white",
           "zerolinewidth": 2
          }
         }
        },
        "title": {
         "text": "Resultado Medio de las Simulaciones - Elecciones Presidenciales 2020"
        },
        "width": 1200
       }
      }
     },
     "metadata": {},
     "output_type": "display_data"
    }
   ],
   "source": [
    "# Crear el mapa coroplético usando Plotly Express con códigos de estado\n",
    "fig = px.choropleth(accumulated_pred_state,\n",
    "                    locations='state_code',  # Usar la nueva columna con códigos de estado\n",
    "                    locationmode=\"USA-states\",  # Modo de localización para los códigos de estado\n",
    "                    color='Winner',  # Métrica que deseas visualizar\n",
    "                    hover_name='state_code',  # Mostrar el código del estado en hover\n",
    "                    hover_data={\n",
    "                        'state_code': True,  # Mostrar el código del estado\n",
    "                        \"Per_dem\": ':.2%',  # Mostrar el porcentaje de Biden en formato de porcentaje\n",
    "                        \"Per_gop\": ':.2%'  # Mostrar el porcentaje de Trump en formato de porcentaje\n",
    "                    },\n",
    "                    scope='usa',  # Limitar el mapa a EE.UU.\n",
    "                    color_discrete_map={'dem': '#3951a2', 'gop': '#af2b39'},  # Colores asignados\n",
    "                    labels={f'Winner': 'Ganador {ELECTORAL_YEAR}'},  # Etiqueta para la barra de color\n",
    "                    title=f\"Resultado Medio de las Simulaciones - Elecciones Presidenciales {ELECTORAL_YEAR}\"\n",
    "                   )\n",
    "\n",
    "# # Crear un nuevo rastro para añadir los códigos de los estados en el mapa\n",
    "# fig.add_trace(go.Scattergeo(\n",
    "#     locationmode='USA-states',\n",
    "#     locations=accumulated_pred_state['state_code'],  # Usar los códigos de los estados\n",
    "#     text=accumulated_pred_state['state_code'],  # Mostrar los códigos dentro del mapa\n",
    "#     mode='text',  # Solo texto\n",
    "#     textfont=dict(size=12, color=\"black\"),  # Tamaño y color de la fuente\n",
    "# ))\n",
    "\n",
    "# Ajustar el tamaño del gráfico\n",
    "fig.update_layout(\n",
    "    width=1200,  # Ajustar el ancho del gráfico\n",
    "    height=800   # Ajustar la altura del gráfico\n",
    ")\n",
    "\n",
    "# Ajustar visualización y mostrar el gráfico\n",
    "fig.update_geos(fitbounds=\"locations\", visible=False)  # Ajustar el mapa a las ubicaciones\n",
    "fig.show()\n"
   ]
  },
  {
   "cell_type": "code",
   "execution_count": 16,
   "metadata": {},
   "outputs": [
    {
     "data": {
      "application/vnd.plotly.v1+json": {
       "config": {
        "plotlyServerURL": "https://plot.ly"
       },
       "data": [
        {
         "colorscale": [
          [
           0,
           "#af2b39"
          ],
          [
           1,
           "#af2b39"
          ]
         ],
         "customdata": [
          [
           "AL",
           0.3731856962582592,
           0.6268143037417409
          ],
          [
           "AR",
           0.3646069089461674,
           0.6353930910538319
          ],
          [
           "ID",
           0.2946063269813644,
           0.7053936730186356
          ],
          [
           "IN",
           0.41874475612643597,
           0.5812552438735642
          ],
          [
           "KS",
           0.424458550104973,
           0.5755414498950266
          ],
          [
           "KY",
           0.3702278000346859,
           0.6297721999653135
          ],
          [
           "LA",
           0.4124070999130102,
           0.5875929000869899
          ],
          [
           "MS",
           0.4132091546062314,
           0.5867908453937689
          ],
          [
           "MO",
           0.4231604671966622,
           0.5768395328033381
          ],
          [
           "MT",
           0.4159738460319386,
           0.5840261539680608
          ],
          [
           "NV",
           0.4481507101209176,
           0.5518492898790825
          ],
          [
           "ND",
           0.3279280940835534,
           0.6720719059164465
          ],
          [
           "OK",
           0.3524388419729344,
           0.6475611580270654
          ],
          [
           "SC",
           0.44211948098222276,
           0.5578805190177774
          ],
          [
           "SD",
           0.36233566266244677,
           0.6376643373375532
          ],
          [
           "TN",
           0.38759881997482565,
           0.6124011800251741
          ],
          [
           "UT",
           0.4194633259865422,
           0.5805366740134572
          ],
          [
           "WV",
           0.3093711083388454,
           0.6906288916611546
          ],
          [
           "WY",
           0.2787423074192468,
           0.7212576925807538
          ]
         ],
         "geo": "geo",
         "hovertemplate": "<b>%{hovertext}</b><br><br>Status=Safe Republican<br>state_code=%{customdata[0]}<br>Per_dem=%{customdata[1]:.2%}<br>Per_gop=%{customdata[2]:.2%}<extra></extra>",
         "hovertext": [
          "AL",
          "AR",
          "ID",
          "IN",
          "KS",
          "KY",
          "LA",
          "MS",
          "MO",
          "MT",
          "NV",
          "ND",
          "OK",
          "SC",
          "SD",
          "TN",
          "UT",
          "WV",
          "WY"
         ],
         "locationmode": "USA-states",
         "locations": [
          "AL",
          "AR",
          "ID",
          "IN",
          "KS",
          "KY",
          "LA",
          "MS",
          "MO",
          "MT",
          "NV",
          "ND",
          "OK",
          "SC",
          "SD",
          "TN",
          "UT",
          "WV",
          "WY"
         ],
         "name": "Safe Republican",
         "showlegend": true,
         "showscale": false,
         "type": "choropleth",
         "z": [
          1,
          1,
          1,
          1,
          1,
          1,
          1,
          1,
          1,
          1,
          1,
          1,
          1,
          1,
          1,
          1,
          1,
          1,
          1
         ]
        },
        {
         "colorscale": [
          [
           0,
           "#b6b164"
          ],
          [
           1,
           "#b6b164"
          ]
         ],
         "customdata": [
          [
           "AZ",
           0.5063573146705067,
           0.4936426853294933
          ],
          [
           "GA",
           0.5008601774148094,
           0.49913982258519063
          ],
          [
           "MI",
           0.510819334846464,
           0.489180665153536
          ],
          [
           "NC",
           0.4907711916006313,
           0.5092288083993689
          ],
          [
           "PA",
           0.4950687365511708,
           0.5049312634488291
          ],
          [
           "WI",
           0.4984922771492426,
           0.5015077228507574
          ]
         ],
         "geo": "geo",
         "hovertemplate": "<b>%{hovertext}</b><br><br>Status=Toss-Up<br>state_code=%{customdata[0]}<br>Per_dem=%{customdata[1]:.2%}<br>Per_gop=%{customdata[2]:.2%}<extra></extra>",
         "hovertext": [
          "AZ",
          "GA",
          "MI",
          "NC",
          "PA",
          "WI"
         ],
         "locationmode": "USA-states",
         "locations": [
          "AZ",
          "GA",
          "MI",
          "NC",
          "PA",
          "WI"
         ],
         "name": "Toss-Up",
         "showlegend": true,
         "showscale": false,
         "type": "choropleth",
         "z": [
          1,
          1,
          1,
          1,
          1,
          1
         ]
        },
        {
         "colorscale": [
          [
           0,
           "#3951a2"
          ],
          [
           1,
           "#3951a2"
          ]
         ],
         "customdata": [
          [
           "CA",
           0.6445828916227856,
           0.355417108377215
          ],
          [
           "CO",
           0.5676125237063944,
           0.4323874762936059
          ],
          [
           "CT",
           0.5938111167167937,
           0.40618888328320657
          ],
          [
           "DE",
           0.7480642471041488,
           0.25193575289585
          ],
          [
           "DC",
           0.6242616744177074,
           0.37573832558228915
          ],
          [
           "HI",
           0.5781012969672512,
           0.42189870303274785
          ],
          [
           "IL",
           0.5774769786220665,
           0.42252302137793313
          ],
          [
           "MD",
           0.6731636231964528,
           0.3268363768035469
          ],
          [
           "MA",
           0.6650033855177648,
           0.3349966144822347
          ],
          [
           "NH",
           0.5542803843160714,
           0.44571961568392876
          ],
          [
           "NJ",
           0.5822823012802936,
           0.4177176987197062
          ],
          [
           "NY",
           0.6095060070719075,
           0.39049399292809267
          ],
          [
           "OR",
           0.5798409525240301,
           0.42015904747597016
          ],
          [
           "RI",
           0.5662390364894788,
           0.4337609635105212
          ],
          [
           "VT",
           0.6572167862129951,
           0.34278321378700444
          ],
          [
           "WA",
           0.5927315391377371,
           0.40726846086226265
          ]
         ],
         "geo": "geo",
         "hovertemplate": "<b>%{hovertext}</b><br><br>Status=Safe Democrat<br>state_code=%{customdata[0]}<br>Per_dem=%{customdata[1]:.2%}<br>Per_gop=%{customdata[2]:.2%}<extra></extra>",
         "hovertext": [
          "CA",
          "CO",
          "CT",
          "DE",
          "DC",
          "HI",
          "IL",
          "MD",
          "MA",
          "NH",
          "NJ",
          "NY",
          "OR",
          "RI",
          "VT",
          "WA"
         ],
         "locationmode": "USA-states",
         "locations": [
          "CA",
          "CO",
          "CT",
          "DE",
          "DC",
          "HI",
          "IL",
          "MD",
          "MA",
          "NH",
          "NJ",
          "NY",
          "OR",
          "RI",
          "VT",
          "WA"
         ],
         "name": "Safe Democrat",
         "showlegend": true,
         "showscale": false,
         "type": "choropleth",
         "z": [
          1,
          1,
          1,
          1,
          1,
          1,
          1,
          1,
          1,
          1,
          1,
          1,
          1,
          1,
          1,
          1
         ]
        },
        {
         "colorscale": [
          [
           0,
           "#d56062"
          ],
          [
           1,
           "#d56062"
          ]
         ],
         "customdata": [
          [
           "FL",
           0.4822745023897523,
           0.5177254976102478
          ],
          [
           "IA",
           0.4526928641174049,
           0.5473071358825946
          ],
          [
           "NE",
           0.478789981375317,
           0.5212100186246831
          ],
          [
           "OH",
           0.4606435770800816,
           0.5393564229199186
          ],
          [
           "TX",
           0.47449177640727214,
           0.5255082235927281
          ]
         ],
         "geo": "geo",
         "hovertemplate": "<b>%{hovertext}</b><br><br>Status=Likely Republican<br>state_code=%{customdata[0]}<br>Per_dem=%{customdata[1]:.2%}<br>Per_gop=%{customdata[2]:.2%}<extra></extra>",
         "hovertext": [
          "FL",
          "IA",
          "NE",
          "OH",
          "TX"
         ],
         "locationmode": "USA-states",
         "locations": [
          "FL",
          "IA",
          "NE",
          "OH",
          "TX"
         ],
         "name": "Likely Republican",
         "showlegend": true,
         "showscale": false,
         "type": "choropleth",
         "z": [
          1,
          1,
          1,
          1,
          1
         ]
        },
        {
         "colorscale": [
          [
           0,
           "#a3cef1"
          ],
          [
           1,
           "#a3cef1"
          ]
         ],
         "customdata": [
          [
           "ME",
           0.5494300070760051,
           0.450569992923995
          ],
          [
           "MN",
           0.5337618735259322,
           0.4662381264740678
          ],
          [
           "NM",
           0.5357418474021424,
           0.4642581525978576
          ],
          [
           "VA",
           0.5444073102702638,
           0.4555926897297361
          ]
         ],
         "geo": "geo",
         "hovertemplate": "<b>%{hovertext}</b><br><br>Status=Likely Democrat<br>state_code=%{customdata[0]}<br>Per_dem=%{customdata[1]:.2%}<br>Per_gop=%{customdata[2]:.2%}<extra></extra>",
         "hovertext": [
          "ME",
          "MN",
          "NM",
          "VA"
         ],
         "locationmode": "USA-states",
         "locations": [
          "ME",
          "MN",
          "NM",
          "VA"
         ],
         "name": "Likely Democrat",
         "showlegend": true,
         "showscale": false,
         "type": "choropleth",
         "z": [
          1,
          1,
          1,
          1
         ]
        }
       ],
       "layout": {
        "geo": {
         "center": {},
         "domain": {
          "x": [
           0,
           1
          ],
          "y": [
           0,
           1
          ]
         },
         "fitbounds": "locations",
         "scope": "usa",
         "visible": false
        },
        "height": 800,
        "legend": {
         "title": {
          "text": "Status"
         },
         "tracegroupgap": 0
        },
        "template": {
         "data": {
          "bar": [
           {
            "error_x": {
             "color": "#2a3f5f"
            },
            "error_y": {
             "color": "#2a3f5f"
            },
            "marker": {
             "line": {
              "color": "#E5ECF6",
              "width": 0.5
             },
             "pattern": {
              "fillmode": "overlay",
              "size": 10,
              "solidity": 0.2
             }
            },
            "type": "bar"
           }
          ],
          "barpolar": [
           {
            "marker": {
             "line": {
              "color": "#E5ECF6",
              "width": 0.5
             },
             "pattern": {
              "fillmode": "overlay",
              "size": 10,
              "solidity": 0.2
             }
            },
            "type": "barpolar"
           }
          ],
          "carpet": [
           {
            "aaxis": {
             "endlinecolor": "#2a3f5f",
             "gridcolor": "white",
             "linecolor": "white",
             "minorgridcolor": "white",
             "startlinecolor": "#2a3f5f"
            },
            "baxis": {
             "endlinecolor": "#2a3f5f",
             "gridcolor": "white",
             "linecolor": "white",
             "minorgridcolor": "white",
             "startlinecolor": "#2a3f5f"
            },
            "type": "carpet"
           }
          ],
          "choropleth": [
           {
            "colorbar": {
             "outlinewidth": 0,
             "ticks": ""
            },
            "type": "choropleth"
           }
          ],
          "contour": [
           {
            "colorbar": {
             "outlinewidth": 0,
             "ticks": ""
            },
            "colorscale": [
             [
              0,
              "#0d0887"
             ],
             [
              0.1111111111111111,
              "#46039f"
             ],
             [
              0.2222222222222222,
              "#7201a8"
             ],
             [
              0.3333333333333333,
              "#9c179e"
             ],
             [
              0.4444444444444444,
              "#bd3786"
             ],
             [
              0.5555555555555556,
              "#d8576b"
             ],
             [
              0.6666666666666666,
              "#ed7953"
             ],
             [
              0.7777777777777778,
              "#fb9f3a"
             ],
             [
              0.8888888888888888,
              "#fdca26"
             ],
             [
              1,
              "#f0f921"
             ]
            ],
            "type": "contour"
           }
          ],
          "contourcarpet": [
           {
            "colorbar": {
             "outlinewidth": 0,
             "ticks": ""
            },
            "type": "contourcarpet"
           }
          ],
          "heatmap": [
           {
            "colorbar": {
             "outlinewidth": 0,
             "ticks": ""
            },
            "colorscale": [
             [
              0,
              "#0d0887"
             ],
             [
              0.1111111111111111,
              "#46039f"
             ],
             [
              0.2222222222222222,
              "#7201a8"
             ],
             [
              0.3333333333333333,
              "#9c179e"
             ],
             [
              0.4444444444444444,
              "#bd3786"
             ],
             [
              0.5555555555555556,
              "#d8576b"
             ],
             [
              0.6666666666666666,
              "#ed7953"
             ],
             [
              0.7777777777777778,
              "#fb9f3a"
             ],
             [
              0.8888888888888888,
              "#fdca26"
             ],
             [
              1,
              "#f0f921"
             ]
            ],
            "type": "heatmap"
           }
          ],
          "histogram": [
           {
            "marker": {
             "pattern": {
              "fillmode": "overlay",
              "size": 10,
              "solidity": 0.2
             }
            },
            "type": "histogram"
           }
          ],
          "histogram2d": [
           {
            "colorbar": {
             "outlinewidth": 0,
             "ticks": ""
            },
            "colorscale": [
             [
              0,
              "#0d0887"
             ],
             [
              0.1111111111111111,
              "#46039f"
             ],
             [
              0.2222222222222222,
              "#7201a8"
             ],
             [
              0.3333333333333333,
              "#9c179e"
             ],
             [
              0.4444444444444444,
              "#bd3786"
             ],
             [
              0.5555555555555556,
              "#d8576b"
             ],
             [
              0.6666666666666666,
              "#ed7953"
             ],
             [
              0.7777777777777778,
              "#fb9f3a"
             ],
             [
              0.8888888888888888,
              "#fdca26"
             ],
             [
              1,
              "#f0f921"
             ]
            ],
            "type": "histogram2d"
           }
          ],
          "histogram2dcontour": [
           {
            "colorbar": {
             "outlinewidth": 0,
             "ticks": ""
            },
            "colorscale": [
             [
              0,
              "#0d0887"
             ],
             [
              0.1111111111111111,
              "#46039f"
             ],
             [
              0.2222222222222222,
              "#7201a8"
             ],
             [
              0.3333333333333333,
              "#9c179e"
             ],
             [
              0.4444444444444444,
              "#bd3786"
             ],
             [
              0.5555555555555556,
              "#d8576b"
             ],
             [
              0.6666666666666666,
              "#ed7953"
             ],
             [
              0.7777777777777778,
              "#fb9f3a"
             ],
             [
              0.8888888888888888,
              "#fdca26"
             ],
             [
              1,
              "#f0f921"
             ]
            ],
            "type": "histogram2dcontour"
           }
          ],
          "mesh3d": [
           {
            "colorbar": {
             "outlinewidth": 0,
             "ticks": ""
            },
            "type": "mesh3d"
           }
          ],
          "parcoords": [
           {
            "line": {
             "colorbar": {
              "outlinewidth": 0,
              "ticks": ""
             }
            },
            "type": "parcoords"
           }
          ],
          "pie": [
           {
            "automargin": true,
            "type": "pie"
           }
          ],
          "scatter": [
           {
            "fillpattern": {
             "fillmode": "overlay",
             "size": 10,
             "solidity": 0.2
            },
            "type": "scatter"
           }
          ],
          "scatter3d": [
           {
            "line": {
             "colorbar": {
              "outlinewidth": 0,
              "ticks": ""
             }
            },
            "marker": {
             "colorbar": {
              "outlinewidth": 0,
              "ticks": ""
             }
            },
            "type": "scatter3d"
           }
          ],
          "scattercarpet": [
           {
            "marker": {
             "colorbar": {
              "outlinewidth": 0,
              "ticks": ""
             }
            },
            "type": "scattercarpet"
           }
          ],
          "scattergeo": [
           {
            "marker": {
             "colorbar": {
              "outlinewidth": 0,
              "ticks": ""
             }
            },
            "type": "scattergeo"
           }
          ],
          "scattergl": [
           {
            "marker": {
             "colorbar": {
              "outlinewidth": 0,
              "ticks": ""
             }
            },
            "type": "scattergl"
           }
          ],
          "scattermap": [
           {
            "marker": {
             "colorbar": {
              "outlinewidth": 0,
              "ticks": ""
             }
            },
            "type": "scattermap"
           }
          ],
          "scattermapbox": [
           {
            "marker": {
             "colorbar": {
              "outlinewidth": 0,
              "ticks": ""
             }
            },
            "type": "scattermapbox"
           }
          ],
          "scatterpolar": [
           {
            "marker": {
             "colorbar": {
              "outlinewidth": 0,
              "ticks": ""
             }
            },
            "type": "scatterpolar"
           }
          ],
          "scatterpolargl": [
           {
            "marker": {
             "colorbar": {
              "outlinewidth": 0,
              "ticks": ""
             }
            },
            "type": "scatterpolargl"
           }
          ],
          "scatterternary": [
           {
            "marker": {
             "colorbar": {
              "outlinewidth": 0,
              "ticks": ""
             }
            },
            "type": "scatterternary"
           }
          ],
          "surface": [
           {
            "colorbar": {
             "outlinewidth": 0,
             "ticks": ""
            },
            "colorscale": [
             [
              0,
              "#0d0887"
             ],
             [
              0.1111111111111111,
              "#46039f"
             ],
             [
              0.2222222222222222,
              "#7201a8"
             ],
             [
              0.3333333333333333,
              "#9c179e"
             ],
             [
              0.4444444444444444,
              "#bd3786"
             ],
             [
              0.5555555555555556,
              "#d8576b"
             ],
             [
              0.6666666666666666,
              "#ed7953"
             ],
             [
              0.7777777777777778,
              "#fb9f3a"
             ],
             [
              0.8888888888888888,
              "#fdca26"
             ],
             [
              1,
              "#f0f921"
             ]
            ],
            "type": "surface"
           }
          ],
          "table": [
           {
            "cells": {
             "fill": {
              "color": "#EBF0F8"
             },
             "line": {
              "color": "white"
             }
            },
            "header": {
             "fill": {
              "color": "#C8D4E3"
             },
             "line": {
              "color": "white"
             }
            },
            "type": "table"
           }
          ]
         },
         "layout": {
          "annotationdefaults": {
           "arrowcolor": "#2a3f5f",
           "arrowhead": 0,
           "arrowwidth": 1
          },
          "autotypenumbers": "strict",
          "coloraxis": {
           "colorbar": {
            "outlinewidth": 0,
            "ticks": ""
           }
          },
          "colorscale": {
           "diverging": [
            [
             0,
             "#8e0152"
            ],
            [
             0.1,
             "#c51b7d"
            ],
            [
             0.2,
             "#de77ae"
            ],
            [
             0.3,
             "#f1b6da"
            ],
            [
             0.4,
             "#fde0ef"
            ],
            [
             0.5,
             "#f7f7f7"
            ],
            [
             0.6,
             "#e6f5d0"
            ],
            [
             0.7,
             "#b8e186"
            ],
            [
             0.8,
             "#7fbc41"
            ],
            [
             0.9,
             "#4d9221"
            ],
            [
             1,
             "#276419"
            ]
           ],
           "sequential": [
            [
             0,
             "#0d0887"
            ],
            [
             0.1111111111111111,
             "#46039f"
            ],
            [
             0.2222222222222222,
             "#7201a8"
            ],
            [
             0.3333333333333333,
             "#9c179e"
            ],
            [
             0.4444444444444444,
             "#bd3786"
            ],
            [
             0.5555555555555556,
             "#d8576b"
            ],
            [
             0.6666666666666666,
             "#ed7953"
            ],
            [
             0.7777777777777778,
             "#fb9f3a"
            ],
            [
             0.8888888888888888,
             "#fdca26"
            ],
            [
             1,
             "#f0f921"
            ]
           ],
           "sequentialminus": [
            [
             0,
             "#0d0887"
            ],
            [
             0.1111111111111111,
             "#46039f"
            ],
            [
             0.2222222222222222,
             "#7201a8"
            ],
            [
             0.3333333333333333,
             "#9c179e"
            ],
            [
             0.4444444444444444,
             "#bd3786"
            ],
            [
             0.5555555555555556,
             "#d8576b"
            ],
            [
             0.6666666666666666,
             "#ed7953"
            ],
            [
             0.7777777777777778,
             "#fb9f3a"
            ],
            [
             0.8888888888888888,
             "#fdca26"
            ],
            [
             1,
             "#f0f921"
            ]
           ]
          },
          "colorway": [
           "#636efa",
           "#EF553B",
           "#00cc96",
           "#ab63fa",
           "#FFA15A",
           "#19d3f3",
           "#FF6692",
           "#B6E880",
           "#FF97FF",
           "#FECB52"
          ],
          "font": {
           "color": "#2a3f5f"
          },
          "geo": {
           "bgcolor": "white",
           "lakecolor": "white",
           "landcolor": "#E5ECF6",
           "showlakes": true,
           "showland": true,
           "subunitcolor": "white"
          },
          "hoverlabel": {
           "align": "left"
          },
          "hovermode": "closest",
          "mapbox": {
           "style": "light"
          },
          "paper_bgcolor": "white",
          "plot_bgcolor": "#E5ECF6",
          "polar": {
           "angularaxis": {
            "gridcolor": "white",
            "linecolor": "white",
            "ticks": ""
           },
           "bgcolor": "#E5ECF6",
           "radialaxis": {
            "gridcolor": "white",
            "linecolor": "white",
            "ticks": ""
           }
          },
          "scene": {
           "xaxis": {
            "backgroundcolor": "#E5ECF6",
            "gridcolor": "white",
            "gridwidth": 2,
            "linecolor": "white",
            "showbackground": true,
            "ticks": "",
            "zerolinecolor": "white"
           },
           "yaxis": {
            "backgroundcolor": "#E5ECF6",
            "gridcolor": "white",
            "gridwidth": 2,
            "linecolor": "white",
            "showbackground": true,
            "ticks": "",
            "zerolinecolor": "white"
           },
           "zaxis": {
            "backgroundcolor": "#E5ECF6",
            "gridcolor": "white",
            "gridwidth": 2,
            "linecolor": "white",
            "showbackground": true,
            "ticks": "",
            "zerolinecolor": "white"
           }
          },
          "shapedefaults": {
           "line": {
            "color": "#2a3f5f"
           }
          },
          "ternary": {
           "aaxis": {
            "gridcolor": "white",
            "linecolor": "white",
            "ticks": ""
           },
           "baxis": {
            "gridcolor": "white",
            "linecolor": "white",
            "ticks": ""
           },
           "bgcolor": "#E5ECF6",
           "caxis": {
            "gridcolor": "white",
            "linecolor": "white",
            "ticks": ""
           }
          },
          "title": {
           "x": 0.05
          },
          "xaxis": {
           "automargin": true,
           "gridcolor": "white",
           "linecolor": "white",
           "ticks": "",
           "title": {
            "standoff": 15
           },
           "zerolinecolor": "white",
           "zerolinewidth": 2
          },
          "yaxis": {
           "automargin": true,
           "gridcolor": "white",
           "linecolor": "white",
           "ticks": "",
           "title": {
            "standoff": 15
           },
           "zerolinecolor": "white",
           "zerolinewidth": 2
          }
         }
        },
        "title": {
         "text": "Status de los Estados en las Simulaciones - Elecciones Presidenciales 2020"
        },
        "width": 1200
       }
      }
     },
     "metadata": {},
     "output_type": "display_data"
    }
   ],
   "source": [
    "# Crear el mapa coroplético usando Plotly Express con códigos de estado\n",
    "fig = px.choropleth(accumulated_pred_state,\n",
    "                    locations='state_code',  # Usar la nueva columna con códigos de estado\n",
    "                    locationmode=\"USA-states\",  # Modo de localización para los códigos de estado\n",
    "                    color='Status',  # Métrica que deseas visualizar\n",
    "                    hover_name='state_code',  # Mostrar el código del estado en hover\n",
    "                    hover_data={\n",
    "                        'state_code': True,  # Mostrar el código del estado\n",
    "                        \"Per_dem\": ':.2%',  # Mostrar el porcentaje de Biden en formato de porcentaje\n",
    "                        \"Per_gop\": ':.2%'  # Mostrar el porcentaje de Trump en formato de porcentaje\n",
    "                    },\n",
    "                    scope='usa',  # Limitar el mapa a EE.UU.\n",
    "                    color_discrete_map={'Safe Democrat': '#3951a2', \n",
    "                                        'Likely Democrat': '#a3cef1', \n",
    "                                        'Toss-Up': '#b6b164', \n",
    "                                        'Likely Republican': '#d56062', \n",
    "                                        'Safe Republican': '#af2b39'},\n",
    "                    labels={f'Winner': 'Ganador {ELECTORAL_YEAR}'},  # Etiqueta para la barra de color\n",
    "                    title=f\"Status de los Estados en las Simulaciones - Elecciones Presidenciales {ELECTORAL_YEAR}\"\n",
    "                   )\n",
    "\n",
    "# # Crear un nuevo rastro para añadir los códigos de los estados en el mapa\n",
    "# fig.add_trace(go.Scattergeo(\n",
    "#     locationmode='USA-states',\n",
    "#     locations=accumulated_pred_state['state_code'],  # Usar los códigos de los estados\n",
    "#     text=accumulated_pred_state['state_code'],  # Mostrar los códigos dentro del mapa\n",
    "#     mode='text',  # Solo texto\n",
    "#     textfont=dict(size=12, color=\"black\"),  # Tamaño y color de la fuente\n",
    "# ))\n",
    "\n",
    "# Ajustar el tamaño del gráfico\n",
    "fig.update_layout(\n",
    "    width=1200,  # Ajustar el ancho del gráfico\n",
    "    height=800   # Ajustar la altura del gráfico\n",
    ")\n",
    "\n",
    "# Ajustar visualización y mostrar el gráfico\n",
    "fig.update_geos(fitbounds=\"locations\", visible=False)  # Ajustar el mapa a las ubicaciones\n",
    "fig.show()\n"
   ]
  },
  {
   "cell_type": "markdown",
   "metadata": {},
   "source": [
    "### Real"
   ]
  },
  {
   "cell_type": "code",
   "execution_count": 17,
   "metadata": {},
   "outputs": [
    {
     "data": {
      "application/vnd.plotly.v1+json": {
       "config": {
        "plotlyServerURL": "https://plot.ly"
       },
       "data": [
        {
         "colorscale": [
          [
           0,
           "#3951a2"
          ],
          [
           1,
           "#3951a2"
          ]
         ],
         "customdata": [
          [
           "CA",
           0.6349922090345022,
           0.3432780788831399
          ],
          [
           "NY",
           0.6061846947622673,
           0.3798656215293819
          ],
          [
           "IL",
           0.572033509920564,
           0.40801139478262893
          ],
          [
           "MI",
           0.5052557579527882,
           0.47895304793601273
          ],
          [
           "GA",
           0.498426279362003,
           0.4888935503058809
          ],
          [
           "NJ",
           0.5753105858841533,
           0.40794875665558
          ],
          [
           "VA",
           0.5389447310471128,
           0.4420752024578333
          ],
          [
           "WA",
           0.577076959227525,
           0.3904574336911311
          ],
          [
           "MA",
           0.6553966896695222,
           0.32195298860806326
          ],
          [
           "AZ",
           0.49364690614366613,
           0.4905598103046474
          ],
          [
           "WI",
           0.4941989842315366,
           0.48839009241033265
          ],
          [
           "MN",
           0.5260838790971174,
           0.4509418638416585
          ],
          [
           "MD",
           0.6670411777121726,
           0.30875129177185867
          ],
          [
           "CO",
           0.5540000116673468,
           0.4189827117554352
          ],
          [
           "OR",
           0.566154904587754,
           0.4062760256363834
          ],
          [
           "CT",
           0.588724457896568,
           0.3956982271275385
          ],
          [
           "NM",
           0.529935860896715,
           0.4484049955580205
          ],
          [
           "RI",
           0.5592424663903852,
           0.42212782719754394
          ],
          [
           "NH",
           0.5480444416557347,
           0.43590937147509934
          ],
          [
           "ME",
           0.5387982577427103,
           0.4325045184489569
          ],
          [
           "HI",
           0.5626208333702291,
           0.4139415513307536
          ],
          [
           "VT",
           0.6522777527714032,
           0.31796794100791265
          ],
          [
           "DE",
           0.7474167291660373,
           0.23403442084427345
          ],
          [
           "DC",
           0.629042663599899,
           0.35743737903565115
          ]
         ],
         "geo": "geo",
         "hovertemplate": "<b>%{hovertext}</b><br><br>Ganador {ELECTORAL_YEAR}=dem<br>state_code=%{customdata[0]}<br>Per_dem=%{customdata[1]:.2%}<br>Per_gop=%{customdata[2]:.2%}<extra></extra>",
         "hovertext": [
          "CA",
          "NY",
          "IL",
          "MI",
          "GA",
          "NJ",
          "VA",
          "WA",
          "MA",
          "AZ",
          "WI",
          "MN",
          "MD",
          "CO",
          "OR",
          "CT",
          "NM",
          "RI",
          "NH",
          "ME",
          "HI",
          "VT",
          "DE",
          "DC"
         ],
         "locationmode": "USA-states",
         "locations": [
          "CA",
          "NY",
          "IL",
          "MI",
          "GA",
          "NJ",
          "VA",
          "WA",
          "MA",
          "AZ",
          "WI",
          "MN",
          "MD",
          "CO",
          "OR",
          "CT",
          "NM",
          "RI",
          "NH",
          "ME",
          "HI",
          "VT",
          "DE",
          "DC"
         ],
         "name": "dem",
         "showlegend": true,
         "showscale": false,
         "type": "choropleth",
         "z": [
          1,
          1,
          1,
          1,
          1,
          1,
          1,
          1,
          1,
          1,
          1,
          1,
          1,
          1,
          1,
          1,
          1,
          1,
          1,
          1,
          1,
          1,
          1,
          1
         ]
        },
        {
         "colorscale": [
          [
           0,
           "#af2b39"
          ],
          [
           1,
           "#af2b39"
          ]
         ],
         "customdata": [
          [
           "TX",
           0.46446835223477134,
           0.5205832438689995
          ],
          [
           "FL",
           0.4764483398428389,
           0.514424632693578
          ],
          [
           "PA",
           0.49130050537496595,
           0.496320736813493
          ],
          [
           "OH",
           0.45380479444413885,
           0.5312872301270851
          ],
          [
           "NC",
           0.4872350104362739,
           0.4979215926542788
          ],
          [
           "TN",
           0.37441006678277133,
           0.6067520797491505
          ],
          [
           "IN",
           0.4088789333124201,
           0.5712152043032738
          ],
          [
           "MO",
           0.41476117081780806,
           0.5673133378797136
          ],
          [
           "SC",
           0.4362636369898981,
           0.5491133765118924
          ],
          [
           "AL",
           0.36570676932506463,
           0.6203096968799606
          ],
          [
           "LA",
           0.4037853630210318,
           0.5788529587892646
          ],
          [
           "KY",
           0.36023990308182546,
           0.6221758278543316
          ],
          [
           "OK",
           0.3348351362402885,
           0.6412072661487181
          ],
          [
           "UT",
           0.38858198402554633,
           0.5692901590381743
          ],
          [
           "NV",
           0.4314125861041568,
           0.5422746750565892
          ],
          [
           "MS",
           0.4095593461265103,
           0.5758752420165184
          ],
          [
           "KS",
           0.41187229270684766,
           0.5639593060199376
          ],
          [
           "IA",
           0.448378958453358,
           0.5314067207525429
          ],
          [
           "AR",
           0.34775061953014963,
           0.6239572985614432
          ],
          [
           "WV",
           0.299163160571455,
           0.6845174798385765
          ],
          [
           "NE",
           0.46519417553961623,
           0.5115404230630665
          ],
          [
           "ID",
           0.2734593216063972,
           0.6962424604768622
          ],
          [
           "WY",
           0.2520285582972789,
           0.7138544192459468
          ],
          [
           "SD",
           0.35035762968209033,
           0.6244301710180233
          ],
          [
           "ND",
           0.3110522816619132,
           0.6601017497880213
          ],
          [
           "MT",
           0.3998950355395972,
           0.5715184478298924
          ]
         ],
         "geo": "geo",
         "hovertemplate": "<b>%{hovertext}</b><br><br>Ganador {ELECTORAL_YEAR}=gop<br>state_code=%{customdata[0]}<br>Per_dem=%{customdata[1]:.2%}<br>Per_gop=%{customdata[2]:.2%}<extra></extra>",
         "hovertext": [
          "TX",
          "FL",
          "PA",
          "OH",
          "NC",
          "TN",
          "IN",
          "MO",
          "SC",
          "AL",
          "LA",
          "KY",
          "OK",
          "UT",
          "NV",
          "MS",
          "KS",
          "IA",
          "AR",
          "WV",
          "NE",
          "ID",
          "WY",
          "SD",
          "ND",
          "MT"
         ],
         "locationmode": "USA-states",
         "locations": [
          "TX",
          "FL",
          "PA",
          "OH",
          "NC",
          "TN",
          "IN",
          "MO",
          "SC",
          "AL",
          "LA",
          "KY",
          "OK",
          "UT",
          "NV",
          "MS",
          "KS",
          "IA",
          "AR",
          "WV",
          "NE",
          "ID",
          "WY",
          "SD",
          "ND",
          "MT"
         ],
         "name": "gop",
         "showlegend": true,
         "showscale": false,
         "type": "choropleth",
         "z": [
          1,
          1,
          1,
          1,
          1,
          1,
          1,
          1,
          1,
          1,
          1,
          1,
          1,
          1,
          1,
          1,
          1,
          1,
          1,
          1,
          1,
          1,
          1,
          1,
          1,
          1
         ]
        }
       ],
       "layout": {
        "geo": {
         "center": {},
         "domain": {
          "x": [
           0,
           1
          ],
          "y": [
           0,
           1
          ]
         },
         "fitbounds": "locations",
         "scope": "usa",
         "visible": false
        },
        "height": 800,
        "legend": {
         "title": {
          "text": "Ganador {ELECTORAL_YEAR}"
         },
         "tracegroupgap": 0
        },
        "template": {
         "data": {
          "bar": [
           {
            "error_x": {
             "color": "#2a3f5f"
            },
            "error_y": {
             "color": "#2a3f5f"
            },
            "marker": {
             "line": {
              "color": "#E5ECF6",
              "width": 0.5
             },
             "pattern": {
              "fillmode": "overlay",
              "size": 10,
              "solidity": 0.2
             }
            },
            "type": "bar"
           }
          ],
          "barpolar": [
           {
            "marker": {
             "line": {
              "color": "#E5ECF6",
              "width": 0.5
             },
             "pattern": {
              "fillmode": "overlay",
              "size": 10,
              "solidity": 0.2
             }
            },
            "type": "barpolar"
           }
          ],
          "carpet": [
           {
            "aaxis": {
             "endlinecolor": "#2a3f5f",
             "gridcolor": "white",
             "linecolor": "white",
             "minorgridcolor": "white",
             "startlinecolor": "#2a3f5f"
            },
            "baxis": {
             "endlinecolor": "#2a3f5f",
             "gridcolor": "white",
             "linecolor": "white",
             "minorgridcolor": "white",
             "startlinecolor": "#2a3f5f"
            },
            "type": "carpet"
           }
          ],
          "choropleth": [
           {
            "colorbar": {
             "outlinewidth": 0,
             "ticks": ""
            },
            "type": "choropleth"
           }
          ],
          "contour": [
           {
            "colorbar": {
             "outlinewidth": 0,
             "ticks": ""
            },
            "colorscale": [
             [
              0,
              "#0d0887"
             ],
             [
              0.1111111111111111,
              "#46039f"
             ],
             [
              0.2222222222222222,
              "#7201a8"
             ],
             [
              0.3333333333333333,
              "#9c179e"
             ],
             [
              0.4444444444444444,
              "#bd3786"
             ],
             [
              0.5555555555555556,
              "#d8576b"
             ],
             [
              0.6666666666666666,
              "#ed7953"
             ],
             [
              0.7777777777777778,
              "#fb9f3a"
             ],
             [
              0.8888888888888888,
              "#fdca26"
             ],
             [
              1,
              "#f0f921"
             ]
            ],
            "type": "contour"
           }
          ],
          "contourcarpet": [
           {
            "colorbar": {
             "outlinewidth": 0,
             "ticks": ""
            },
            "type": "contourcarpet"
           }
          ],
          "heatmap": [
           {
            "colorbar": {
             "outlinewidth": 0,
             "ticks": ""
            },
            "colorscale": [
             [
              0,
              "#0d0887"
             ],
             [
              0.1111111111111111,
              "#46039f"
             ],
             [
              0.2222222222222222,
              "#7201a8"
             ],
             [
              0.3333333333333333,
              "#9c179e"
             ],
             [
              0.4444444444444444,
              "#bd3786"
             ],
             [
              0.5555555555555556,
              "#d8576b"
             ],
             [
              0.6666666666666666,
              "#ed7953"
             ],
             [
              0.7777777777777778,
              "#fb9f3a"
             ],
             [
              0.8888888888888888,
              "#fdca26"
             ],
             [
              1,
              "#f0f921"
             ]
            ],
            "type": "heatmap"
           }
          ],
          "histogram": [
           {
            "marker": {
             "pattern": {
              "fillmode": "overlay",
              "size": 10,
              "solidity": 0.2
             }
            },
            "type": "histogram"
           }
          ],
          "histogram2d": [
           {
            "colorbar": {
             "outlinewidth": 0,
             "ticks": ""
            },
            "colorscale": [
             [
              0,
              "#0d0887"
             ],
             [
              0.1111111111111111,
              "#46039f"
             ],
             [
              0.2222222222222222,
              "#7201a8"
             ],
             [
              0.3333333333333333,
              "#9c179e"
             ],
             [
              0.4444444444444444,
              "#bd3786"
             ],
             [
              0.5555555555555556,
              "#d8576b"
             ],
             [
              0.6666666666666666,
              "#ed7953"
             ],
             [
              0.7777777777777778,
              "#fb9f3a"
             ],
             [
              0.8888888888888888,
              "#fdca26"
             ],
             [
              1,
              "#f0f921"
             ]
            ],
            "type": "histogram2d"
           }
          ],
          "histogram2dcontour": [
           {
            "colorbar": {
             "outlinewidth": 0,
             "ticks": ""
            },
            "colorscale": [
             [
              0,
              "#0d0887"
             ],
             [
              0.1111111111111111,
              "#46039f"
             ],
             [
              0.2222222222222222,
              "#7201a8"
             ],
             [
              0.3333333333333333,
              "#9c179e"
             ],
             [
              0.4444444444444444,
              "#bd3786"
             ],
             [
              0.5555555555555556,
              "#d8576b"
             ],
             [
              0.6666666666666666,
              "#ed7953"
             ],
             [
              0.7777777777777778,
              "#fb9f3a"
             ],
             [
              0.8888888888888888,
              "#fdca26"
             ],
             [
              1,
              "#f0f921"
             ]
            ],
            "type": "histogram2dcontour"
           }
          ],
          "mesh3d": [
           {
            "colorbar": {
             "outlinewidth": 0,
             "ticks": ""
            },
            "type": "mesh3d"
           }
          ],
          "parcoords": [
           {
            "line": {
             "colorbar": {
              "outlinewidth": 0,
              "ticks": ""
             }
            },
            "type": "parcoords"
           }
          ],
          "pie": [
           {
            "automargin": true,
            "type": "pie"
           }
          ],
          "scatter": [
           {
            "fillpattern": {
             "fillmode": "overlay",
             "size": 10,
             "solidity": 0.2
            },
            "type": "scatter"
           }
          ],
          "scatter3d": [
           {
            "line": {
             "colorbar": {
              "outlinewidth": 0,
              "ticks": ""
             }
            },
            "marker": {
             "colorbar": {
              "outlinewidth": 0,
              "ticks": ""
             }
            },
            "type": "scatter3d"
           }
          ],
          "scattercarpet": [
           {
            "marker": {
             "colorbar": {
              "outlinewidth": 0,
              "ticks": ""
             }
            },
            "type": "scattercarpet"
           }
          ],
          "scattergeo": [
           {
            "marker": {
             "colorbar": {
              "outlinewidth": 0,
              "ticks": ""
             }
            },
            "type": "scattergeo"
           }
          ],
          "scattergl": [
           {
            "marker": {
             "colorbar": {
              "outlinewidth": 0,
              "ticks": ""
             }
            },
            "type": "scattergl"
           }
          ],
          "scattermap": [
           {
            "marker": {
             "colorbar": {
              "outlinewidth": 0,
              "ticks": ""
             }
            },
            "type": "scattermap"
           }
          ],
          "scattermapbox": [
           {
            "marker": {
             "colorbar": {
              "outlinewidth": 0,
              "ticks": ""
             }
            },
            "type": "scattermapbox"
           }
          ],
          "scatterpolar": [
           {
            "marker": {
             "colorbar": {
              "outlinewidth": 0,
              "ticks": ""
             }
            },
            "type": "scatterpolar"
           }
          ],
          "scatterpolargl": [
           {
            "marker": {
             "colorbar": {
              "outlinewidth": 0,
              "ticks": ""
             }
            },
            "type": "scatterpolargl"
           }
          ],
          "scatterternary": [
           {
            "marker": {
             "colorbar": {
              "outlinewidth": 0,
              "ticks": ""
             }
            },
            "type": "scatterternary"
           }
          ],
          "surface": [
           {
            "colorbar": {
             "outlinewidth": 0,
             "ticks": ""
            },
            "colorscale": [
             [
              0,
              "#0d0887"
             ],
             [
              0.1111111111111111,
              "#46039f"
             ],
             [
              0.2222222222222222,
              "#7201a8"
             ],
             [
              0.3333333333333333,
              "#9c179e"
             ],
             [
              0.4444444444444444,
              "#bd3786"
             ],
             [
              0.5555555555555556,
              "#d8576b"
             ],
             [
              0.6666666666666666,
              "#ed7953"
             ],
             [
              0.7777777777777778,
              "#fb9f3a"
             ],
             [
              0.8888888888888888,
              "#fdca26"
             ],
             [
              1,
              "#f0f921"
             ]
            ],
            "type": "surface"
           }
          ],
          "table": [
           {
            "cells": {
             "fill": {
              "color": "#EBF0F8"
             },
             "line": {
              "color": "white"
             }
            },
            "header": {
             "fill": {
              "color": "#C8D4E3"
             },
             "line": {
              "color": "white"
             }
            },
            "type": "table"
           }
          ]
         },
         "layout": {
          "annotationdefaults": {
           "arrowcolor": "#2a3f5f",
           "arrowhead": 0,
           "arrowwidth": 1
          },
          "autotypenumbers": "strict",
          "coloraxis": {
           "colorbar": {
            "outlinewidth": 0,
            "ticks": ""
           }
          },
          "colorscale": {
           "diverging": [
            [
             0,
             "#8e0152"
            ],
            [
             0.1,
             "#c51b7d"
            ],
            [
             0.2,
             "#de77ae"
            ],
            [
             0.3,
             "#f1b6da"
            ],
            [
             0.4,
             "#fde0ef"
            ],
            [
             0.5,
             "#f7f7f7"
            ],
            [
             0.6,
             "#e6f5d0"
            ],
            [
             0.7,
             "#b8e186"
            ],
            [
             0.8,
             "#7fbc41"
            ],
            [
             0.9,
             "#4d9221"
            ],
            [
             1,
             "#276419"
            ]
           ],
           "sequential": [
            [
             0,
             "#0d0887"
            ],
            [
             0.1111111111111111,
             "#46039f"
            ],
            [
             0.2222222222222222,
             "#7201a8"
            ],
            [
             0.3333333333333333,
             "#9c179e"
            ],
            [
             0.4444444444444444,
             "#bd3786"
            ],
            [
             0.5555555555555556,
             "#d8576b"
            ],
            [
             0.6666666666666666,
             "#ed7953"
            ],
            [
             0.7777777777777778,
             "#fb9f3a"
            ],
            [
             0.8888888888888888,
             "#fdca26"
            ],
            [
             1,
             "#f0f921"
            ]
           ],
           "sequentialminus": [
            [
             0,
             "#0d0887"
            ],
            [
             0.1111111111111111,
             "#46039f"
            ],
            [
             0.2222222222222222,
             "#7201a8"
            ],
            [
             0.3333333333333333,
             "#9c179e"
            ],
            [
             0.4444444444444444,
             "#bd3786"
            ],
            [
             0.5555555555555556,
             "#d8576b"
            ],
            [
             0.6666666666666666,
             "#ed7953"
            ],
            [
             0.7777777777777778,
             "#fb9f3a"
            ],
            [
             0.8888888888888888,
             "#fdca26"
            ],
            [
             1,
             "#f0f921"
            ]
           ]
          },
          "colorway": [
           "#636efa",
           "#EF553B",
           "#00cc96",
           "#ab63fa",
           "#FFA15A",
           "#19d3f3",
           "#FF6692",
           "#B6E880",
           "#FF97FF",
           "#FECB52"
          ],
          "font": {
           "color": "#2a3f5f"
          },
          "geo": {
           "bgcolor": "white",
           "lakecolor": "white",
           "landcolor": "#E5ECF6",
           "showlakes": true,
           "showland": true,
           "subunitcolor": "white"
          },
          "hoverlabel": {
           "align": "left"
          },
          "hovermode": "closest",
          "mapbox": {
           "style": "light"
          },
          "paper_bgcolor": "white",
          "plot_bgcolor": "#E5ECF6",
          "polar": {
           "angularaxis": {
            "gridcolor": "white",
            "linecolor": "white",
            "ticks": ""
           },
           "bgcolor": "#E5ECF6",
           "radialaxis": {
            "gridcolor": "white",
            "linecolor": "white",
            "ticks": ""
           }
          },
          "scene": {
           "xaxis": {
            "backgroundcolor": "#E5ECF6",
            "gridcolor": "white",
            "gridwidth": 2,
            "linecolor": "white",
            "showbackground": true,
            "ticks": "",
            "zerolinecolor": "white"
           },
           "yaxis": {
            "backgroundcolor": "#E5ECF6",
            "gridcolor": "white",
            "gridwidth": 2,
            "linecolor": "white",
            "showbackground": true,
            "ticks": "",
            "zerolinecolor": "white"
           },
           "zaxis": {
            "backgroundcolor": "#E5ECF6",
            "gridcolor": "white",
            "gridwidth": 2,
            "linecolor": "white",
            "showbackground": true,
            "ticks": "",
            "zerolinecolor": "white"
           }
          },
          "shapedefaults": {
           "line": {
            "color": "#2a3f5f"
           }
          },
          "ternary": {
           "aaxis": {
            "gridcolor": "white",
            "linecolor": "white",
            "ticks": ""
           },
           "baxis": {
            "gridcolor": "white",
            "linecolor": "white",
            "ticks": ""
           },
           "bgcolor": "#E5ECF6",
           "caxis": {
            "gridcolor": "white",
            "linecolor": "white",
            "ticks": ""
           }
          },
          "title": {
           "x": 0.05
          },
          "xaxis": {
           "automargin": true,
           "gridcolor": "white",
           "linecolor": "white",
           "ticks": "",
           "title": {
            "standoff": 15
           },
           "zerolinecolor": "white",
           "zerolinewidth": 2
          },
          "yaxis": {
           "automargin": true,
           "gridcolor": "white",
           "linecolor": "white",
           "ticks": "",
           "title": {
            "standoff": 15
           },
           "zerolinecolor": "white",
           "zerolinewidth": 2
          }
         }
        },
        "title": {
         "text": "Resultado Real de las Simulaciones - Elecciones Presidenciales 2020"
        },
        "width": 1200
       }
      }
     },
     "metadata": {},
     "output_type": "display_data"
    }
   ],
   "source": [
    "# Crear el mapa coroplético usando Plotly Express con códigos de estado\n",
    "fig = px.choropleth(full_df_actual_state,\n",
    "                    locations='state_code',  # Usar la nueva columna con códigos de estado\n",
    "                    locationmode=\"USA-states\",  # Modo de localización para los códigos de estado\n",
    "                    color=\"Winner\",  # Métrica que deseas visualizar\n",
    "                    hover_name='state_code',  # Mostrar el código del estado en hover\n",
    "                    hover_data={\n",
    "                        'state_code': True,  # Mostrar el código del estado\n",
    "                        \"Per_dem\": ':.2%',  # Mostrar el porcentaje de Biden en formato de porcentaje\n",
    "                        \"Per_gop\": ':.2%'  # Mostrar el porcentaje de Trump en formato de porcentaje\n",
    "                    },\n",
    "                    scope='usa',  # Limitar el mapa a EE.UU.\n",
    "                    color_discrete_map={'dem': '#3951a2', 'gop': '#af2b39'},  # Colores asignados\n",
    "                    labels={\"Winner\": 'Ganador {ELECTORAL_YEAR}'},  # Etiqueta para la barra de color\n",
    "                    title=f\"Resultado Real de las Simulaciones - Elecciones Presidenciales {ELECTORAL_YEAR}\"\n",
    "                   )\n",
    "\n",
    "# # Crear un nuevo rastro para añadir los códigos de los estados en el mapa\n",
    "# fig.add_trace(go.Scattergeo(\n",
    "#     locationmode='USA-states',\n",
    "#     locations=accumulated_pred_state['state_code'],  # Usar los códigos de los estados\n",
    "#     text=accumulated_pred_state['state_code'],  # Mostrar los códigos dentro del mapa\n",
    "#     mode='text',  # Solo texto\n",
    "#     textfont=dict(size=8, color=\"white\"),  # Tamaño y color de la fuente\n",
    "# ))\n",
    "\n",
    "# Ajustar el tamaño del gráfico\n",
    "fig.update_layout(\n",
    "    width=1200,  # Ajustar el ancho del gráfico\n",
    "    height=800   # Ajustar la altura del gráfico\n",
    ")\n",
    "\n",
    "# Ajustar visualización y mostrar el gráfico\n",
    "fig.update_geos(fitbounds=\"locations\", visible=False)  # Ajustar el mapa a las ubicaciones\n",
    "fig.show()\n"
   ]
  },
  {
   "cell_type": "code",
   "execution_count": 18,
   "metadata": {},
   "outputs": [
    {
     "data": {
      "application/vnd.plotly.v1+json": {
       "config": {
        "plotlyServerURL": "https://plot.ly"
       },
       "data": [
        {
         "colorscale": [
          [
           0,
           "#3951a2"
          ],
          [
           1,
           "#3951a2"
          ]
         ],
         "customdata": [
          [
           "CA",
           0.6349922090345022,
           0.3432780788831399
          ],
          [
           "NY",
           0.6061846947622673,
           0.3798656215293819
          ],
          [
           "IL",
           0.572033509920564,
           0.40801139478262893
          ],
          [
           "NJ",
           0.5753105858841533,
           0.40794875665558
          ],
          [
           "WA",
           0.577076959227525,
           0.3904574336911311
          ],
          [
           "MA",
           0.6553966896695222,
           0.32195298860806326
          ],
          [
           "MD",
           0.6670411777121726,
           0.30875129177185867
          ],
          [
           "CO",
           0.5540000116673468,
           0.4189827117554352
          ],
          [
           "OR",
           0.566154904587754,
           0.4062760256363834
          ],
          [
           "CT",
           0.588724457896568,
           0.3956982271275385
          ],
          [
           "RI",
           0.5592424663903852,
           0.42212782719754394
          ],
          [
           "NH",
           0.5480444416557347,
           0.43590937147509934
          ],
          [
           "ME",
           0.5387982577427103,
           0.4325045184489569
          ],
          [
           "HI",
           0.5626208333702291,
           0.4139415513307536
          ],
          [
           "VT",
           0.6522777527714032,
           0.31796794100791265
          ],
          [
           "DE",
           0.7474167291660373,
           0.23403442084427345
          ],
          [
           "DC",
           0.629042663599899,
           0.35743737903565115
          ]
         ],
         "geo": "geo",
         "hovertemplate": "<b>%{hovertext}</b><br><br>Status=Safe Democrat<br>state_code=%{customdata[0]}<br>Per_dem=%{customdata[1]:.2%}<br>Per_gop=%{customdata[2]:.2%}<extra></extra>",
         "hovertext": [
          "CA",
          "NY",
          "IL",
          "NJ",
          "WA",
          "MA",
          "MD",
          "CO",
          "OR",
          "CT",
          "RI",
          "NH",
          "ME",
          "HI",
          "VT",
          "DE",
          "DC"
         ],
         "locationmode": "USA-states",
         "locations": [
          "CA",
          "NY",
          "IL",
          "NJ",
          "WA",
          "MA",
          "MD",
          "CO",
          "OR",
          "CT",
          "RI",
          "NH",
          "ME",
          "HI",
          "VT",
          "DE",
          "DC"
         ],
         "name": "Safe Democrat",
         "showlegend": true,
         "showscale": false,
         "type": "choropleth",
         "z": [
          1,
          1,
          1,
          1,
          1,
          1,
          1,
          1,
          1,
          1,
          1,
          1,
          1,
          1,
          1,
          1,
          1
         ]
        },
        {
         "colorscale": [
          [
           0,
           "#d56062"
          ],
          [
           1,
           "#d56062"
          ]
         ],
         "customdata": [
          [
           "TX",
           0.46446835223477134,
           0.5205832438689995
          ],
          [
           "FL",
           0.4764483398428389,
           0.514424632693578
          ],
          [
           "OH",
           0.45380479444413885,
           0.5312872301270851
          ],
          [
           "IA",
           0.448378958453358,
           0.5314067207525429
          ],
          [
           "NE",
           0.46519417553961623,
           0.5115404230630665
          ]
         ],
         "geo": "geo",
         "hovertemplate": "<b>%{hovertext}</b><br><br>Status=Likely Republican<br>state_code=%{customdata[0]}<br>Per_dem=%{customdata[1]:.2%}<br>Per_gop=%{customdata[2]:.2%}<extra></extra>",
         "hovertext": [
          "TX",
          "FL",
          "OH",
          "IA",
          "NE"
         ],
         "locationmode": "USA-states",
         "locations": [
          "TX",
          "FL",
          "OH",
          "IA",
          "NE"
         ],
         "name": "Likely Republican",
         "showlegend": true,
         "showscale": false,
         "type": "choropleth",
         "z": [
          1,
          1,
          1,
          1,
          1
         ]
        },
        {
         "colorscale": [
          [
           0,
           "#b6b164"
          ],
          [
           1,
           "#b6b164"
          ]
         ],
         "customdata": [
          [
           "PA",
           0.49130050537496595,
           0.496320736813493
          ],
          [
           "GA",
           0.498426279362003,
           0.4888935503058809
          ],
          [
           "NC",
           0.4872350104362739,
           0.4979215926542788
          ],
          [
           "AZ",
           0.49364690614366613,
           0.4905598103046474
          ],
          [
           "WI",
           0.4941989842315366,
           0.48839009241033265
          ]
         ],
         "geo": "geo",
         "hovertemplate": "<b>%{hovertext}</b><br><br>Status=Toss-Up<br>state_code=%{customdata[0]}<br>Per_dem=%{customdata[1]:.2%}<br>Per_gop=%{customdata[2]:.2%}<extra></extra>",
         "hovertext": [
          "PA",
          "GA",
          "NC",
          "AZ",
          "WI"
         ],
         "locationmode": "USA-states",
         "locations": [
          "PA",
          "GA",
          "NC",
          "AZ",
          "WI"
         ],
         "name": "Toss-Up",
         "showlegend": true,
         "showscale": false,
         "type": "choropleth",
         "z": [
          1,
          1,
          1,
          1,
          1
         ]
        },
        {
         "colorscale": [
          [
           0,
           "#a3cef1"
          ],
          [
           1,
           "#a3cef1"
          ]
         ],
         "customdata": [
          [
           "MI",
           0.5052557579527882,
           0.47895304793601273
          ],
          [
           "VA",
           0.5389447310471128,
           0.4420752024578333
          ],
          [
           "MN",
           0.5260838790971174,
           0.4509418638416585
          ],
          [
           "NM",
           0.529935860896715,
           0.4484049955580205
          ]
         ],
         "geo": "geo",
         "hovertemplate": "<b>%{hovertext}</b><br><br>Status=Likely Democrat<br>state_code=%{customdata[0]}<br>Per_dem=%{customdata[1]:.2%}<br>Per_gop=%{customdata[2]:.2%}<extra></extra>",
         "hovertext": [
          "MI",
          "VA",
          "MN",
          "NM"
         ],
         "locationmode": "USA-states",
         "locations": [
          "MI",
          "VA",
          "MN",
          "NM"
         ],
         "name": "Likely Democrat",
         "showlegend": true,
         "showscale": false,
         "type": "choropleth",
         "z": [
          1,
          1,
          1,
          1
         ]
        },
        {
         "colorscale": [
          [
           0,
           "#af2b39"
          ],
          [
           1,
           "#af2b39"
          ]
         ],
         "customdata": [
          [
           "TN",
           0.37441006678277133,
           0.6067520797491505
          ],
          [
           "IN",
           0.4088789333124201,
           0.5712152043032738
          ],
          [
           "MO",
           0.41476117081780806,
           0.5673133378797136
          ],
          [
           "SC",
           0.4362636369898981,
           0.5491133765118924
          ],
          [
           "AL",
           0.36570676932506463,
           0.6203096968799606
          ],
          [
           "LA",
           0.4037853630210318,
           0.5788529587892646
          ],
          [
           "KY",
           0.36023990308182546,
           0.6221758278543316
          ],
          [
           "OK",
           0.3348351362402885,
           0.6412072661487181
          ],
          [
           "UT",
           0.38858198402554633,
           0.5692901590381743
          ],
          [
           "NV",
           0.4314125861041568,
           0.5422746750565892
          ],
          [
           "MS",
           0.4095593461265103,
           0.5758752420165184
          ],
          [
           "KS",
           0.41187229270684766,
           0.5639593060199376
          ],
          [
           "AR",
           0.34775061953014963,
           0.6239572985614432
          ],
          [
           "WV",
           0.299163160571455,
           0.6845174798385765
          ],
          [
           "ID",
           0.2734593216063972,
           0.6962424604768622
          ],
          [
           "WY",
           0.2520285582972789,
           0.7138544192459468
          ],
          [
           "SD",
           0.35035762968209033,
           0.6244301710180233
          ],
          [
           "ND",
           0.3110522816619132,
           0.6601017497880213
          ],
          [
           "MT",
           0.3998950355395972,
           0.5715184478298924
          ]
         ],
         "geo": "geo",
         "hovertemplate": "<b>%{hovertext}</b><br><br>Status=Safe Republican<br>state_code=%{customdata[0]}<br>Per_dem=%{customdata[1]:.2%}<br>Per_gop=%{customdata[2]:.2%}<extra></extra>",
         "hovertext": [
          "TN",
          "IN",
          "MO",
          "SC",
          "AL",
          "LA",
          "KY",
          "OK",
          "UT",
          "NV",
          "MS",
          "KS",
          "AR",
          "WV",
          "ID",
          "WY",
          "SD",
          "ND",
          "MT"
         ],
         "locationmode": "USA-states",
         "locations": [
          "TN",
          "IN",
          "MO",
          "SC",
          "AL",
          "LA",
          "KY",
          "OK",
          "UT",
          "NV",
          "MS",
          "KS",
          "AR",
          "WV",
          "ID",
          "WY",
          "SD",
          "ND",
          "MT"
         ],
         "name": "Safe Republican",
         "showlegend": true,
         "showscale": false,
         "type": "choropleth",
         "z": [
          1,
          1,
          1,
          1,
          1,
          1,
          1,
          1,
          1,
          1,
          1,
          1,
          1,
          1,
          1,
          1,
          1,
          1,
          1
         ]
        }
       ],
       "layout": {
        "geo": {
         "center": {},
         "domain": {
          "x": [
           0,
           1
          ],
          "y": [
           0,
           1
          ]
         },
         "fitbounds": "locations",
         "scope": "usa",
         "visible": false
        },
        "height": 800,
        "legend": {
         "title": {
          "text": "Status"
         },
         "tracegroupgap": 0
        },
        "template": {
         "data": {
          "bar": [
           {
            "error_x": {
             "color": "#2a3f5f"
            },
            "error_y": {
             "color": "#2a3f5f"
            },
            "marker": {
             "line": {
              "color": "#E5ECF6",
              "width": 0.5
             },
             "pattern": {
              "fillmode": "overlay",
              "size": 10,
              "solidity": 0.2
             }
            },
            "type": "bar"
           }
          ],
          "barpolar": [
           {
            "marker": {
             "line": {
              "color": "#E5ECF6",
              "width": 0.5
             },
             "pattern": {
              "fillmode": "overlay",
              "size": 10,
              "solidity": 0.2
             }
            },
            "type": "barpolar"
           }
          ],
          "carpet": [
           {
            "aaxis": {
             "endlinecolor": "#2a3f5f",
             "gridcolor": "white",
             "linecolor": "white",
             "minorgridcolor": "white",
             "startlinecolor": "#2a3f5f"
            },
            "baxis": {
             "endlinecolor": "#2a3f5f",
             "gridcolor": "white",
             "linecolor": "white",
             "minorgridcolor": "white",
             "startlinecolor": "#2a3f5f"
            },
            "type": "carpet"
           }
          ],
          "choropleth": [
           {
            "colorbar": {
             "outlinewidth": 0,
             "ticks": ""
            },
            "type": "choropleth"
           }
          ],
          "contour": [
           {
            "colorbar": {
             "outlinewidth": 0,
             "ticks": ""
            },
            "colorscale": [
             [
              0,
              "#0d0887"
             ],
             [
              0.1111111111111111,
              "#46039f"
             ],
             [
              0.2222222222222222,
              "#7201a8"
             ],
             [
              0.3333333333333333,
              "#9c179e"
             ],
             [
              0.4444444444444444,
              "#bd3786"
             ],
             [
              0.5555555555555556,
              "#d8576b"
             ],
             [
              0.6666666666666666,
              "#ed7953"
             ],
             [
              0.7777777777777778,
              "#fb9f3a"
             ],
             [
              0.8888888888888888,
              "#fdca26"
             ],
             [
              1,
              "#f0f921"
             ]
            ],
            "type": "contour"
           }
          ],
          "contourcarpet": [
           {
            "colorbar": {
             "outlinewidth": 0,
             "ticks": ""
            },
            "type": "contourcarpet"
           }
          ],
          "heatmap": [
           {
            "colorbar": {
             "outlinewidth": 0,
             "ticks": ""
            },
            "colorscale": [
             [
              0,
              "#0d0887"
             ],
             [
              0.1111111111111111,
              "#46039f"
             ],
             [
              0.2222222222222222,
              "#7201a8"
             ],
             [
              0.3333333333333333,
              "#9c179e"
             ],
             [
              0.4444444444444444,
              "#bd3786"
             ],
             [
              0.5555555555555556,
              "#d8576b"
             ],
             [
              0.6666666666666666,
              "#ed7953"
             ],
             [
              0.7777777777777778,
              "#fb9f3a"
             ],
             [
              0.8888888888888888,
              "#fdca26"
             ],
             [
              1,
              "#f0f921"
             ]
            ],
            "type": "heatmap"
           }
          ],
          "histogram": [
           {
            "marker": {
             "pattern": {
              "fillmode": "overlay",
              "size": 10,
              "solidity": 0.2
             }
            },
            "type": "histogram"
           }
          ],
          "histogram2d": [
           {
            "colorbar": {
             "outlinewidth": 0,
             "ticks": ""
            },
            "colorscale": [
             [
              0,
              "#0d0887"
             ],
             [
              0.1111111111111111,
              "#46039f"
             ],
             [
              0.2222222222222222,
              "#7201a8"
             ],
             [
              0.3333333333333333,
              "#9c179e"
             ],
             [
              0.4444444444444444,
              "#bd3786"
             ],
             [
              0.5555555555555556,
              "#d8576b"
             ],
             [
              0.6666666666666666,
              "#ed7953"
             ],
             [
              0.7777777777777778,
              "#fb9f3a"
             ],
             [
              0.8888888888888888,
              "#fdca26"
             ],
             [
              1,
              "#f0f921"
             ]
            ],
            "type": "histogram2d"
           }
          ],
          "histogram2dcontour": [
           {
            "colorbar": {
             "outlinewidth": 0,
             "ticks": ""
            },
            "colorscale": [
             [
              0,
              "#0d0887"
             ],
             [
              0.1111111111111111,
              "#46039f"
             ],
             [
              0.2222222222222222,
              "#7201a8"
             ],
             [
              0.3333333333333333,
              "#9c179e"
             ],
             [
              0.4444444444444444,
              "#bd3786"
             ],
             [
              0.5555555555555556,
              "#d8576b"
             ],
             [
              0.6666666666666666,
              "#ed7953"
             ],
             [
              0.7777777777777778,
              "#fb9f3a"
             ],
             [
              0.8888888888888888,
              "#fdca26"
             ],
             [
              1,
              "#f0f921"
             ]
            ],
            "type": "histogram2dcontour"
           }
          ],
          "mesh3d": [
           {
            "colorbar": {
             "outlinewidth": 0,
             "ticks": ""
            },
            "type": "mesh3d"
           }
          ],
          "parcoords": [
           {
            "line": {
             "colorbar": {
              "outlinewidth": 0,
              "ticks": ""
             }
            },
            "type": "parcoords"
           }
          ],
          "pie": [
           {
            "automargin": true,
            "type": "pie"
           }
          ],
          "scatter": [
           {
            "fillpattern": {
             "fillmode": "overlay",
             "size": 10,
             "solidity": 0.2
            },
            "type": "scatter"
           }
          ],
          "scatter3d": [
           {
            "line": {
             "colorbar": {
              "outlinewidth": 0,
              "ticks": ""
             }
            },
            "marker": {
             "colorbar": {
              "outlinewidth": 0,
              "ticks": ""
             }
            },
            "type": "scatter3d"
           }
          ],
          "scattercarpet": [
           {
            "marker": {
             "colorbar": {
              "outlinewidth": 0,
              "ticks": ""
             }
            },
            "type": "scattercarpet"
           }
          ],
          "scattergeo": [
           {
            "marker": {
             "colorbar": {
              "outlinewidth": 0,
              "ticks": ""
             }
            },
            "type": "scattergeo"
           }
          ],
          "scattergl": [
           {
            "marker": {
             "colorbar": {
              "outlinewidth": 0,
              "ticks": ""
             }
            },
            "type": "scattergl"
           }
          ],
          "scattermap": [
           {
            "marker": {
             "colorbar": {
              "outlinewidth": 0,
              "ticks": ""
             }
            },
            "type": "scattermap"
           }
          ],
          "scattermapbox": [
           {
            "marker": {
             "colorbar": {
              "outlinewidth": 0,
              "ticks": ""
             }
            },
            "type": "scattermapbox"
           }
          ],
          "scatterpolar": [
           {
            "marker": {
             "colorbar": {
              "outlinewidth": 0,
              "ticks": ""
             }
            },
            "type": "scatterpolar"
           }
          ],
          "scatterpolargl": [
           {
            "marker": {
             "colorbar": {
              "outlinewidth": 0,
              "ticks": ""
             }
            },
            "type": "scatterpolargl"
           }
          ],
          "scatterternary": [
           {
            "marker": {
             "colorbar": {
              "outlinewidth": 0,
              "ticks": ""
             }
            },
            "type": "scatterternary"
           }
          ],
          "surface": [
           {
            "colorbar": {
             "outlinewidth": 0,
             "ticks": ""
            },
            "colorscale": [
             [
              0,
              "#0d0887"
             ],
             [
              0.1111111111111111,
              "#46039f"
             ],
             [
              0.2222222222222222,
              "#7201a8"
             ],
             [
              0.3333333333333333,
              "#9c179e"
             ],
             [
              0.4444444444444444,
              "#bd3786"
             ],
             [
              0.5555555555555556,
              "#d8576b"
             ],
             [
              0.6666666666666666,
              "#ed7953"
             ],
             [
              0.7777777777777778,
              "#fb9f3a"
             ],
             [
              0.8888888888888888,
              "#fdca26"
             ],
             [
              1,
              "#f0f921"
             ]
            ],
            "type": "surface"
           }
          ],
          "table": [
           {
            "cells": {
             "fill": {
              "color": "#EBF0F8"
             },
             "line": {
              "color": "white"
             }
            },
            "header": {
             "fill": {
              "color": "#C8D4E3"
             },
             "line": {
              "color": "white"
             }
            },
            "type": "table"
           }
          ]
         },
         "layout": {
          "annotationdefaults": {
           "arrowcolor": "#2a3f5f",
           "arrowhead": 0,
           "arrowwidth": 1
          },
          "autotypenumbers": "strict",
          "coloraxis": {
           "colorbar": {
            "outlinewidth": 0,
            "ticks": ""
           }
          },
          "colorscale": {
           "diverging": [
            [
             0,
             "#8e0152"
            ],
            [
             0.1,
             "#c51b7d"
            ],
            [
             0.2,
             "#de77ae"
            ],
            [
             0.3,
             "#f1b6da"
            ],
            [
             0.4,
             "#fde0ef"
            ],
            [
             0.5,
             "#f7f7f7"
            ],
            [
             0.6,
             "#e6f5d0"
            ],
            [
             0.7,
             "#b8e186"
            ],
            [
             0.8,
             "#7fbc41"
            ],
            [
             0.9,
             "#4d9221"
            ],
            [
             1,
             "#276419"
            ]
           ],
           "sequential": [
            [
             0,
             "#0d0887"
            ],
            [
             0.1111111111111111,
             "#46039f"
            ],
            [
             0.2222222222222222,
             "#7201a8"
            ],
            [
             0.3333333333333333,
             "#9c179e"
            ],
            [
             0.4444444444444444,
             "#bd3786"
            ],
            [
             0.5555555555555556,
             "#d8576b"
            ],
            [
             0.6666666666666666,
             "#ed7953"
            ],
            [
             0.7777777777777778,
             "#fb9f3a"
            ],
            [
             0.8888888888888888,
             "#fdca26"
            ],
            [
             1,
             "#f0f921"
            ]
           ],
           "sequentialminus": [
            [
             0,
             "#0d0887"
            ],
            [
             0.1111111111111111,
             "#46039f"
            ],
            [
             0.2222222222222222,
             "#7201a8"
            ],
            [
             0.3333333333333333,
             "#9c179e"
            ],
            [
             0.4444444444444444,
             "#bd3786"
            ],
            [
             0.5555555555555556,
             "#d8576b"
            ],
            [
             0.6666666666666666,
             "#ed7953"
            ],
            [
             0.7777777777777778,
             "#fb9f3a"
            ],
            [
             0.8888888888888888,
             "#fdca26"
            ],
            [
             1,
             "#f0f921"
            ]
           ]
          },
          "colorway": [
           "#636efa",
           "#EF553B",
           "#00cc96",
           "#ab63fa",
           "#FFA15A",
           "#19d3f3",
           "#FF6692",
           "#B6E880",
           "#FF97FF",
           "#FECB52"
          ],
          "font": {
           "color": "#2a3f5f"
          },
          "geo": {
           "bgcolor": "white",
           "lakecolor": "white",
           "landcolor": "#E5ECF6",
           "showlakes": true,
           "showland": true,
           "subunitcolor": "white"
          },
          "hoverlabel": {
           "align": "left"
          },
          "hovermode": "closest",
          "mapbox": {
           "style": "light"
          },
          "paper_bgcolor": "white",
          "plot_bgcolor": "#E5ECF6",
          "polar": {
           "angularaxis": {
            "gridcolor": "white",
            "linecolor": "white",
            "ticks": ""
           },
           "bgcolor": "#E5ECF6",
           "radialaxis": {
            "gridcolor": "white",
            "linecolor": "white",
            "ticks": ""
           }
          },
          "scene": {
           "xaxis": {
            "backgroundcolor": "#E5ECF6",
            "gridcolor": "white",
            "gridwidth": 2,
            "linecolor": "white",
            "showbackground": true,
            "ticks": "",
            "zerolinecolor": "white"
           },
           "yaxis": {
            "backgroundcolor": "#E5ECF6",
            "gridcolor": "white",
            "gridwidth": 2,
            "linecolor": "white",
            "showbackground": true,
            "ticks": "",
            "zerolinecolor": "white"
           },
           "zaxis": {
            "backgroundcolor": "#E5ECF6",
            "gridcolor": "white",
            "gridwidth": 2,
            "linecolor": "white",
            "showbackground": true,
            "ticks": "",
            "zerolinecolor": "white"
           }
          },
          "shapedefaults": {
           "line": {
            "color": "#2a3f5f"
           }
          },
          "ternary": {
           "aaxis": {
            "gridcolor": "white",
            "linecolor": "white",
            "ticks": ""
           },
           "baxis": {
            "gridcolor": "white",
            "linecolor": "white",
            "ticks": ""
           },
           "bgcolor": "#E5ECF6",
           "caxis": {
            "gridcolor": "white",
            "linecolor": "white",
            "ticks": ""
           }
          },
          "title": {
           "x": 0.05
          },
          "xaxis": {
           "automargin": true,
           "gridcolor": "white",
           "linecolor": "white",
           "ticks": "",
           "title": {
            "standoff": 15
           },
           "zerolinecolor": "white",
           "zerolinewidth": 2
          },
          "yaxis": {
           "automargin": true,
           "gridcolor": "white",
           "linecolor": "white",
           "ticks": "",
           "title": {
            "standoff": 15
           },
           "zerolinecolor": "white",
           "zerolinewidth": 2
          }
         }
        },
        "title": {
         "text": "Status de los Estados en las Simulaciones - Elecciones Presidenciales 2020"
        },
        "width": 1200
       }
      }
     },
     "metadata": {},
     "output_type": "display_data"
    }
   ],
   "source": [
    "# Crear el mapa coroplético usando Plotly Express con códigos de estado\n",
    "fig = px.choropleth(full_df_actual_state,\n",
    "                    locations='state_code',  # Usar la nueva columna con códigos de estado\n",
    "                    locationmode=\"USA-states\",  # Modo de localización para los códigos de estado\n",
    "                    color='Status',  # Métrica que deseas visualizar\n",
    "                    hover_name='state_code',  # Mostrar el código del estado en hover\n",
    "                    hover_data={\n",
    "                        'state_code': True,  # Mostrar el código del estado\n",
    "                        'Per_dem': ':.2%',  # Mostrar el porcentaje de Biden en formato de porcentaje\n",
    "                        'Per_gop': ':.2%'  # Mostrar el porcentaje de Trump en formato de porcentaje\n",
    "                    },\n",
    "                    scope='usa',  # Limitar el mapa a EE.UU.\n",
    "                    color_discrete_map={'Safe Democrat': '#3951a2', \n",
    "                                        'Likely Democrat': '#a3cef1', \n",
    "                                        'Toss-Up': '#b6b164', \n",
    "                                        'Likely Republican': '#d56062', \n",
    "                                        'Safe Republican': '#af2b39'},\n",
    "                    labels={\"Winner\": 'Ganador {ELECTORAL_YEAR}'},  # Etiqueta para la barra de color\n",
    "                    title=f\"Status de los Estados en las Simulaciones - Elecciones Presidenciales {ELECTORAL_YEAR}\"\n",
    "                   )\n",
    "\n",
    "# # Crear un nuevo rastro para añadir los códigos de los estados en el mapa\n",
    "# fig.add_trace(go.Scattergeo(\n",
    "#     locationmode='USA-states',\n",
    "#     locations=accumulated_pred_state['state_code'],  # Usar los códigos de los estados\n",
    "#     text=accumulated_pred_state['state_code'],  # Mostrar los códigos dentro del mapa\n",
    "#     mode='text',  # Solo texto\n",
    "#     textfont=dict(size=12, color=\"black\"),  # Tamaño y color de la fuente\n",
    "# ))\n",
    "\n",
    "# Ajustar el tamaño del gráfico\n",
    "fig.update_layout(\n",
    "    width=1200,  # Ajustar el ancho del gráfico\n",
    "    height=800   # Ajustar la altura del gráfico\n",
    ")\n",
    "\n",
    "\n",
    "\n",
    "# Ajustar visualización y mostrar el gráfico\n",
    "fig.update_geos(fitbounds=\"locations\", visible=False)  # Ajustar el mapa a las ubicaciones\n",
    "fig.show()\n"
   ]
  }
 ],
 "metadata": {
  "kernelspec": {
   "display_name": ".venv",
   "language": "python",
   "name": "python3"
  },
  "language_info": {
   "codemirror_mode": {
    "name": "ipython",
    "version": 3
   },
   "file_extension": ".py",
   "mimetype": "text/x-python",
   "name": "python",
   "nbconvert_exporter": "python",
   "pygments_lexer": "ipython3",
   "version": "3.9.6"
  }
 },
 "nbformat": 4,
 "nbformat_minor": 2
}
