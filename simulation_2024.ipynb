{
 "cells": [
  {
   "cell_type": "markdown",
   "metadata": {},
   "source": [
    "## 📊 Simulación"
   ]
  },
  {
   "cell_type": "markdown",
   "metadata": {},
   "source": [
    "🧑‍💻 Lucía Cordero | Jorge Garcelán"
   ]
  },
  {
   "cell_type": "markdown",
   "metadata": {},
   "source": [
    "![Election Results](https://elordenmundial.com/wp-content/uploads/2020/10/editable-portada-especial-.png)\n"
   ]
  },
  {
   "cell_type": "markdown",
   "metadata": {},
   "source": [
    "<div class=\"warning\" style='padding:0.1em; border-left: 4px solid #17a2b8; background-color:#e8f8ff;'>\n",
    "<span>\n",
    "<p style='margin-top:1em; margin-left:1em; text-align:left'>\n",
    "<b>💡Interpretación de la simulación</b></p>\n",
    "<p style='margin-left:1em;'>\n",
    "Imaginemos que estamos en el día de las elecciones y nos van llegando datos de condados (equivalentes a dataset de train) y queremos hacer un forecast de cómo van a acabar las elecciones, es decir, hacer un forecast de los condados que todavía no tenemos los datos (test). En ese sentido, podríamos hacer un modelo con los datos que sí tenemos (train) y predecir los condados que todavía no tenemos (test). Y así podemos repetir el proceso N veces y crear una simulación.\n",
    "</p>\n",
    "</span>\n",
    "</div>"
   ]
  },
  {
   "cell_type": "markdown",
   "metadata": {},
   "source": [
    "## Libraries"
   ]
  },
  {
   "cell_type": "code",
   "execution_count": 154,
   "metadata": {},
   "outputs": [],
   "source": [
    "import pandas as pd\n",
    "from pandas import read_csv\n",
    "import numpy as np\n",
    "from sklearn.linear_model import LinearRegression\n",
    "from sklearn.ensemble import RandomForestRegressor\n",
    "from sklearn.neighbors import KNeighborsRegressor\n",
    "from sklearn.model_selection import train_test_split\n",
    "import json\n",
    "import plotly.express as px\n",
    "import plotly.graph_objects as go\n",
    "import seaborn as sns\n",
    "import matplotlib.pyplot as plt\n",
    "from scipy.stats import gaussian_kde"
   ]
  },
  {
   "cell_type": "markdown",
   "metadata": {},
   "source": [
    "## Load data"
   ]
  },
  {
   "cell_type": "code",
   "execution_count": 155,
   "metadata": {},
   "outputs": [],
   "source": [
    "CENSUS_YEAR = 2023\n",
    "ELECTORAL_YEAR = CENSUS_YEAR + 1\n"
   ]
  },
  {
   "cell_type": "code",
   "execution_count": 156,
   "metadata": {},
   "outputs": [],
   "source": [
    "def load_seats_data(path, state_to_code):\n",
    "    # Cargar datos\n",
    "    seats_data = pd.read_csv(path, header=0, sep=\",\")\n",
    "\n",
    "    # Seleccionar las primeras tres columnas y las columnas que contienen \"2019\"\n",
    "    seats_data = seats_data.iloc[:, [0, 1]]\n",
    "\n",
    "    # Renombrar columnas\n",
    "    seats_data.columns = [\"state\", \"electoral_votes_number\"]\n",
    "\n",
    "    # Añadir District of Columbia pues no aparece\n",
    "    new_row = pd.DataFrame({\n",
    "        'state': ['District of Columbia'],\n",
    "        'electoral_votes_number': [3]\n",
    "    })\n",
    "\n",
    "    # Añadir la nueva fila al DataFrame utilizando pd.concat\n",
    "    seats_data = pd.concat([seats_data, new_row], ignore_index=True)\n",
    "\n",
    "    \n",
    "    seats_data[\"state_code\"] = seats_data['state'].map(state_to_code)\n",
    "\n",
    "    return seats_data"
   ]
  },
  {
   "cell_type": "code",
   "execution_count": 157,
   "metadata": {},
   "outputs": [],
   "source": [
    "# Cargar codigo de estados\n",
    "with open(\"data/state_to_code.json\", \"r\") as file:\n",
    "    state_to_code = json.load(file)\n",
    "\n",
    "\n",
    "# Cargar datos de escaños por estado\n",
    "seats_data = load_seats_data(f\"data/seats2020.csv\", state_to_code)\n",
    "\n",
    "# Cargar datos de state, county, fips\n",
    "state_fips_county = read_csv('data/state_fips_county.csv')\n",
    "state_names = state_fips_county['state']\n",
    "fips_codes = state_fips_county['fips']\n",
    "county_names = state_fips_county['county']"
   ]
  },
  {
   "cell_type": "markdown",
   "metadata": {},
   "source": [
    "### 2016"
   ]
  },
  {
   "cell_type": "code",
   "execution_count": 158,
   "metadata": {},
   "outputs": [],
   "source": [
    "# Cargar datos\n",
    "data_2016 = read_csv(f\"data/final_data_{2016}.csv\")"
   ]
  },
  {
   "cell_type": "code",
   "execution_count": 159,
   "metadata": {},
   "outputs": [
    {
     "data": {
      "text/html": [
       "<div>\n",
       "<style scoped>\n",
       "    .dataframe tbody tr th:only-of-type {\n",
       "        vertical-align: middle;\n",
       "    }\n",
       "\n",
       "    .dataframe tbody tr th {\n",
       "        vertical-align: top;\n",
       "    }\n",
       "\n",
       "    .dataframe thead th {\n",
       "        text-align: right;\n",
       "    }\n",
       "</style>\n",
       "<table border=\"1\" class=\"dataframe\">\n",
       "  <thead>\n",
       "    <tr style=\"text-align: right;\">\n",
       "      <th></th>\n",
       "      <th>state</th>\n",
       "      <th>electoral_votes_number</th>\n",
       "      <th>state_code</th>\n",
       "      <th>Votes_dem</th>\n",
       "      <th>Votes_gop</th>\n",
       "      <th>Votes_other</th>\n",
       "      <th>Votes_total</th>\n",
       "      <th>Per_dem_2016</th>\n",
       "      <th>Per_gop_2016</th>\n",
       "      <th>Winner</th>\n",
       "      <th>Difference</th>\n",
       "      <th>Status</th>\n",
       "    </tr>\n",
       "  </thead>\n",
       "  <tbody>\n",
       "    <tr>\n",
       "      <th>0</th>\n",
       "      <td>California</td>\n",
       "      <td>55</td>\n",
       "      <td>CA</td>\n",
       "      <td>7362490.0</td>\n",
       "      <td>3916209.0</td>\n",
       "      <td>675618.0</td>\n",
       "      <td>11954317.0</td>\n",
       "      <td>0.615885</td>\n",
       "      <td>0.327598</td>\n",
       "      <td>dem</td>\n",
       "      <td>28.828757</td>\n",
       "      <td>Safe Democrat</td>\n",
       "    </tr>\n",
       "    <tr>\n",
       "      <th>1</th>\n",
       "      <td>Texas</td>\n",
       "      <td>38</td>\n",
       "      <td>TX</td>\n",
       "      <td>3866536.0</td>\n",
       "      <td>4677007.0</td>\n",
       "      <td>370961.0</td>\n",
       "      <td>8914504.0</td>\n",
       "      <td>0.433735</td>\n",
       "      <td>0.524651</td>\n",
       "      <td>gop</td>\n",
       "      <td>-9.091599</td>\n",
       "      <td>Likely Republican</td>\n",
       "    </tr>\n",
       "    <tr>\n",
       "      <th>2</th>\n",
       "      <td>New York</td>\n",
       "      <td>29</td>\n",
       "      <td>NY</td>\n",
       "      <td>4097644.0</td>\n",
       "      <td>2636692.0</td>\n",
       "      <td>256359.0</td>\n",
       "      <td>6990695.0</td>\n",
       "      <td>0.586157</td>\n",
       "      <td>0.377172</td>\n",
       "      <td>dem</td>\n",
       "      <td>20.898523</td>\n",
       "      <td>Safe Democrat</td>\n",
       "    </tr>\n",
       "    <tr>\n",
       "      <th>3</th>\n",
       "      <td>Florida</td>\n",
       "      <td>29</td>\n",
       "      <td>FL</td>\n",
       "      <td>4411809.0</td>\n",
       "      <td>4564423.0</td>\n",
       "      <td>289694.0</td>\n",
       "      <td>9265926.0</td>\n",
       "      <td>0.476133</td>\n",
       "      <td>0.492603</td>\n",
       "      <td>gop</td>\n",
       "      <td>-1.647045</td>\n",
       "      <td>Toss-Up</td>\n",
       "    </tr>\n",
       "    <tr>\n",
       "      <th>4</th>\n",
       "      <td>Pennsylvania</td>\n",
       "      <td>20</td>\n",
       "      <td>PA</td>\n",
       "      <td>2519725.0</td>\n",
       "      <td>2671255.0</td>\n",
       "      <td>193198.0</td>\n",
       "      <td>5384178.0</td>\n",
       "      <td>0.467987</td>\n",
       "      <td>0.496131</td>\n",
       "      <td>gop</td>\n",
       "      <td>-2.814357</td>\n",
       "      <td>Likely Republican</td>\n",
       "    </tr>\n",
       "    <tr>\n",
       "      <th>5</th>\n",
       "      <td>Illinois</td>\n",
       "      <td>20</td>\n",
       "      <td>IL</td>\n",
       "      <td>2972667.0</td>\n",
       "      <td>2105089.0</td>\n",
       "      <td>277793.0</td>\n",
       "      <td>5355549.0</td>\n",
       "      <td>0.555063</td>\n",
       "      <td>0.393067</td>\n",
       "      <td>dem</td>\n",
       "      <td>16.199609</td>\n",
       "      <td>Safe Democrat</td>\n",
       "    </tr>\n",
       "    <tr>\n",
       "      <th>6</th>\n",
       "      <td>Ohio</td>\n",
       "      <td>18</td>\n",
       "      <td>OH</td>\n",
       "      <td>2303483.0</td>\n",
       "      <td>2740365.0</td>\n",
       "      <td>234572.0</td>\n",
       "      <td>5278420.0</td>\n",
       "      <td>0.436396</td>\n",
       "      <td>0.519164</td>\n",
       "      <td>gop</td>\n",
       "      <td>-8.276757</td>\n",
       "      <td>Likely Republican</td>\n",
       "    </tr>\n",
       "    <tr>\n",
       "      <th>7</th>\n",
       "      <td>Michigan</td>\n",
       "      <td>16</td>\n",
       "      <td>MI</td>\n",
       "      <td>2269595.0</td>\n",
       "      <td>2281120.0</td>\n",
       "      <td>243208.0</td>\n",
       "      <td>4793923.0</td>\n",
       "      <td>0.473432</td>\n",
       "      <td>0.475836</td>\n",
       "      <td>gop</td>\n",
       "      <td>-0.240409</td>\n",
       "      <td>Toss-Up</td>\n",
       "    </tr>\n",
       "    <tr>\n",
       "      <th>8</th>\n",
       "      <td>Georgia</td>\n",
       "      <td>16</td>\n",
       "      <td>GA</td>\n",
       "      <td>1877124.0</td>\n",
       "      <td>2080631.0</td>\n",
       "      <td>129671.0</td>\n",
       "      <td>4087426.0</td>\n",
       "      <td>0.459244</td>\n",
       "      <td>0.509032</td>\n",
       "      <td>gop</td>\n",
       "      <td>-4.978855</td>\n",
       "      <td>Likely Republican</td>\n",
       "    </tr>\n",
       "    <tr>\n",
       "      <th>9</th>\n",
       "      <td>North Carolina</td>\n",
       "      <td>15</td>\n",
       "      <td>NC</td>\n",
       "      <td>2130869.0</td>\n",
       "      <td>2291602.0</td>\n",
       "      <td>126184.0</td>\n",
       "      <td>4548655.0</td>\n",
       "      <td>0.468461</td>\n",
       "      <td>0.503798</td>\n",
       "      <td>gop</td>\n",
       "      <td>-3.533638</td>\n",
       "      <td>Likely Republican</td>\n",
       "    </tr>\n",
       "    <tr>\n",
       "      <th>10</th>\n",
       "      <td>New Jersey</td>\n",
       "      <td>14</td>\n",
       "      <td>NJ</td>\n",
       "      <td>1900419.0</td>\n",
       "      <td>1419738.0</td>\n",
       "      <td>136918.0</td>\n",
       "      <td>3457075.0</td>\n",
       "      <td>0.549719</td>\n",
       "      <td>0.410676</td>\n",
       "      <td>dem</td>\n",
       "      <td>13.904269</td>\n",
       "      <td>Safe Democrat</td>\n",
       "    </tr>\n",
       "    <tr>\n",
       "      <th>11</th>\n",
       "      <td>Virginia</td>\n",
       "      <td>13</td>\n",
       "      <td>VA</td>\n",
       "      <td>1922843.0</td>\n",
       "      <td>1768923.0</td>\n",
       "      <td>202699.0</td>\n",
       "      <td>3894465.0</td>\n",
       "      <td>0.493737</td>\n",
       "      <td>0.454215</td>\n",
       "      <td>dem</td>\n",
       "      <td>3.952276</td>\n",
       "      <td>Likely Democrat</td>\n",
       "    </tr>\n",
       "    <tr>\n",
       "      <th>12</th>\n",
       "      <td>Washington</td>\n",
       "      <td>12</td>\n",
       "      <td>WA</td>\n",
       "      <td>1574338.0</td>\n",
       "      <td>1093611.0</td>\n",
       "      <td>210972.0</td>\n",
       "      <td>2878921.0</td>\n",
       "      <td>0.546850</td>\n",
       "      <td>0.379868</td>\n",
       "      <td>dem</td>\n",
       "      <td>16.698166</td>\n",
       "      <td>Safe Democrat</td>\n",
       "    </tr>\n",
       "    <tr>\n",
       "      <th>13</th>\n",
       "      <td>Tennessee</td>\n",
       "      <td>11</td>\n",
       "      <td>TN</td>\n",
       "      <td>864974.0</td>\n",
       "      <td>1520787.0</td>\n",
       "      <td>99268.0</td>\n",
       "      <td>2485029.0</td>\n",
       "      <td>0.348074</td>\n",
       "      <td>0.611980</td>\n",
       "      <td>gop</td>\n",
       "      <td>-26.390557</td>\n",
       "      <td>Safe Republican</td>\n",
       "    </tr>\n",
       "    <tr>\n",
       "      <th>14</th>\n",
       "      <td>Massachusetts</td>\n",
       "      <td>11</td>\n",
       "      <td>MA</td>\n",
       "      <td>1894868.0</td>\n",
       "      <td>1033428.0</td>\n",
       "      <td>176747.0</td>\n",
       "      <td>3105043.0</td>\n",
       "      <td>0.610255</td>\n",
       "      <td>0.332822</td>\n",
       "      <td>dem</td>\n",
       "      <td>27.743255</td>\n",
       "      <td>Safe Democrat</td>\n",
       "    </tr>\n",
       "    <tr>\n",
       "      <th>15</th>\n",
       "      <td>Indiana</td>\n",
       "      <td>11</td>\n",
       "      <td>IN</td>\n",
       "      <td>1030278.0</td>\n",
       "      <td>1549034.0</td>\n",
       "      <td>133437.0</td>\n",
       "      <td>2712749.0</td>\n",
       "      <td>0.379791</td>\n",
       "      <td>0.571020</td>\n",
       "      <td>gop</td>\n",
       "      <td>-19.122890</td>\n",
       "      <td>Safe Republican</td>\n",
       "    </tr>\n",
       "    <tr>\n",
       "      <th>16</th>\n",
       "      <td>Arizona</td>\n",
       "      <td>11</td>\n",
       "      <td>AZ</td>\n",
       "      <td>936250.0</td>\n",
       "      <td>1021154.0</td>\n",
       "      <td>105406.0</td>\n",
       "      <td>2062810.0</td>\n",
       "      <td>0.453871</td>\n",
       "      <td>0.495031</td>\n",
       "      <td>gop</td>\n",
       "      <td>-4.115939</td>\n",
       "      <td>Likely Republican</td>\n",
       "    </tr>\n",
       "    <tr>\n",
       "      <th>17</th>\n",
       "      <td>Wisconsin</td>\n",
       "      <td>10</td>\n",
       "      <td>WI</td>\n",
       "      <td>1317468.0</td>\n",
       "      <td>1346746.0</td>\n",
       "      <td>147763.0</td>\n",
       "      <td>2811977.0</td>\n",
       "      <td>0.468520</td>\n",
       "      <td>0.478932</td>\n",
       "      <td>gop</td>\n",
       "      <td>-1.041189</td>\n",
       "      <td>Toss-Up</td>\n",
       "    </tr>\n",
       "    <tr>\n",
       "      <th>18</th>\n",
       "      <td>Missouri</td>\n",
       "      <td>10</td>\n",
       "      <td>MO</td>\n",
       "      <td>1052509.0</td>\n",
       "      <td>1582977.0</td>\n",
       "      <td>134151.0</td>\n",
       "      <td>2769637.0</td>\n",
       "      <td>0.380017</td>\n",
       "      <td>0.571547</td>\n",
       "      <td>gop</td>\n",
       "      <td>-19.152979</td>\n",
       "      <td>Safe Republican</td>\n",
       "    </tr>\n",
       "    <tr>\n",
       "      <th>19</th>\n",
       "      <td>Minnesota</td>\n",
       "      <td>10</td>\n",
       "      <td>MN</td>\n",
       "      <td>1370463.0</td>\n",
       "      <td>1322500.0</td>\n",
       "      <td>226470.0</td>\n",
       "      <td>2919433.0</td>\n",
       "      <td>0.469428</td>\n",
       "      <td>0.452999</td>\n",
       "      <td>dem</td>\n",
       "      <td>1.642888</td>\n",
       "      <td>Toss-Up</td>\n",
       "    </tr>\n",
       "    <tr>\n",
       "      <th>20</th>\n",
       "      <td>Maryland</td>\n",
       "      <td>10</td>\n",
       "      <td>MD</td>\n",
       "      <td>1562918.0</td>\n",
       "      <td>907463.0</td>\n",
       "      <td>109025.0</td>\n",
       "      <td>2579406.0</td>\n",
       "      <td>0.605922</td>\n",
       "      <td>0.351811</td>\n",
       "      <td>dem</td>\n",
       "      <td>25.411083</td>\n",
       "      <td>Safe Democrat</td>\n",
       "    </tr>\n",
       "    <tr>\n",
       "      <th>21</th>\n",
       "      <td>South Carolina</td>\n",
       "      <td>9</td>\n",
       "      <td>SC</td>\n",
       "      <td>822583.0</td>\n",
       "      <td>1096317.0</td>\n",
       "      <td>88226.0</td>\n",
       "      <td>2007126.0</td>\n",
       "      <td>0.409831</td>\n",
       "      <td>0.546212</td>\n",
       "      <td>gop</td>\n",
       "      <td>-13.638107</td>\n",
       "      <td>Safe Republican</td>\n",
       "    </tr>\n",
       "    <tr>\n",
       "      <th>22</th>\n",
       "      <td>Colorado</td>\n",
       "      <td>9</td>\n",
       "      <td>CO</td>\n",
       "      <td>1212209.0</td>\n",
       "      <td>1137455.0</td>\n",
       "      <td>214521.0</td>\n",
       "      <td>2564185.0</td>\n",
       "      <td>0.472746</td>\n",
       "      <td>0.443593</td>\n",
       "      <td>dem</td>\n",
       "      <td>2.915312</td>\n",
       "      <td>Likely Democrat</td>\n",
       "    </tr>\n",
       "    <tr>\n",
       "      <th>23</th>\n",
       "      <td>Alabama</td>\n",
       "      <td>9</td>\n",
       "      <td>AL</td>\n",
       "      <td>718084.0</td>\n",
       "      <td>1306925.0</td>\n",
       "      <td>53156.0</td>\n",
       "      <td>2078165.0</td>\n",
       "      <td>0.345538</td>\n",
       "      <td>0.628884</td>\n",
       "      <td>gop</td>\n",
       "      <td>-28.334661</td>\n",
       "      <td>Safe Republican</td>\n",
       "    </tr>\n",
       "    <tr>\n",
       "      <th>24</th>\n",
       "      <td>Louisiana</td>\n",
       "      <td>8</td>\n",
       "      <td>LA</td>\n",
       "      <td>796872.0</td>\n",
       "      <td>1185034.0</td>\n",
       "      <td>73779.0</td>\n",
       "      <td>2055685.0</td>\n",
       "      <td>0.387643</td>\n",
       "      <td>0.576467</td>\n",
       "      <td>gop</td>\n",
       "      <td>-18.882368</td>\n",
       "      <td>Safe Republican</td>\n",
       "    </tr>\n",
       "    <tr>\n",
       "      <th>25</th>\n",
       "      <td>Kentucky</td>\n",
       "      <td>8</td>\n",
       "      <td>KY</td>\n",
       "      <td>633149.0</td>\n",
       "      <td>1217464.0</td>\n",
       "      <td>90763.0</td>\n",
       "      <td>1941376.0</td>\n",
       "      <td>0.326134</td>\n",
       "      <td>0.627114</td>\n",
       "      <td>gop</td>\n",
       "      <td>-30.097982</td>\n",
       "      <td>Safe Republican</td>\n",
       "    </tr>\n",
       "    <tr>\n",
       "      <th>26</th>\n",
       "      <td>Oregon</td>\n",
       "      <td>7</td>\n",
       "      <td>OR</td>\n",
       "      <td>1281513.0</td>\n",
       "      <td>1012053.0</td>\n",
       "      <td>151264.0</td>\n",
       "      <td>2444830.0</td>\n",
       "      <td>0.524173</td>\n",
       "      <td>0.413956</td>\n",
       "      <td>dem</td>\n",
       "      <td>11.021625</td>\n",
       "      <td>Safe Democrat</td>\n",
       "    </tr>\n",
       "    <tr>\n",
       "      <th>27</th>\n",
       "      <td>Oklahoma</td>\n",
       "      <td>7</td>\n",
       "      <td>OK</td>\n",
       "      <td>448410.0</td>\n",
       "      <td>960440.0</td>\n",
       "      <td>87538.0</td>\n",
       "      <td>1496388.0</td>\n",
       "      <td>0.299662</td>\n",
       "      <td>0.641839</td>\n",
       "      <td>gop</td>\n",
       "      <td>-34.217730</td>\n",
       "      <td>Safe Republican</td>\n",
       "    </tr>\n",
       "    <tr>\n",
       "      <th>28</th>\n",
       "      <td>Connecticut</td>\n",
       "      <td>7</td>\n",
       "      <td>CT</td>\n",
       "      <td>917779.0</td>\n",
       "      <td>705255.0</td>\n",
       "      <td>74761.0</td>\n",
       "      <td>1697795.0</td>\n",
       "      <td>0.540571</td>\n",
       "      <td>0.415395</td>\n",
       "      <td>dem</td>\n",
       "      <td>12.517648</td>\n",
       "      <td>Safe Democrat</td>\n",
       "    </tr>\n",
       "    <tr>\n",
       "      <th>29</th>\n",
       "      <td>Utah</td>\n",
       "      <td>6</td>\n",
       "      <td>UT</td>\n",
       "      <td>346316.0</td>\n",
       "      <td>454331.0</td>\n",
       "      <td>247982.0</td>\n",
       "      <td>1048629.0</td>\n",
       "      <td>0.330256</td>\n",
       "      <td>0.433262</td>\n",
       "      <td>gop</td>\n",
       "      <td>-10.300592</td>\n",
       "      <td>Safe Republican</td>\n",
       "    </tr>\n",
       "    <tr>\n",
       "      <th>30</th>\n",
       "      <td>Nevada</td>\n",
       "      <td>6</td>\n",
       "      <td>NV</td>\n",
       "      <td>561295.0</td>\n",
       "      <td>535825.0</td>\n",
       "      <td>75901.0</td>\n",
       "      <td>1173021.0</td>\n",
       "      <td>0.478504</td>\n",
       "      <td>0.456791</td>\n",
       "      <td>dem</td>\n",
       "      <td>2.171317</td>\n",
       "      <td>Toss-Up</td>\n",
       "    </tr>\n",
       "    <tr>\n",
       "      <th>31</th>\n",
       "      <td>Mississippi</td>\n",
       "      <td>6</td>\n",
       "      <td>MS</td>\n",
       "      <td>458575.0</td>\n",
       "      <td>679351.0</td>\n",
       "      <td>22984.0</td>\n",
       "      <td>1160910.0</td>\n",
       "      <td>0.395013</td>\n",
       "      <td>0.585188</td>\n",
       "      <td>gop</td>\n",
       "      <td>-19.017495</td>\n",
       "      <td>Safe Republican</td>\n",
       "    </tr>\n",
       "    <tr>\n",
       "      <th>32</th>\n",
       "      <td>Kansas</td>\n",
       "      <td>6</td>\n",
       "      <td>KS</td>\n",
       "      <td>414713.0</td>\n",
       "      <td>659071.0</td>\n",
       "      <td>76273.0</td>\n",
       "      <td>1150057.0</td>\n",
       "      <td>0.360602</td>\n",
       "      <td>0.573077</td>\n",
       "      <td>gop</td>\n",
       "      <td>-21.247469</td>\n",
       "      <td>Safe Republican</td>\n",
       "    </tr>\n",
       "    <tr>\n",
       "      <th>33</th>\n",
       "      <td>Iowa</td>\n",
       "      <td>6</td>\n",
       "      <td>IA</td>\n",
       "      <td>651061.0</td>\n",
       "      <td>800042.0</td>\n",
       "      <td>93332.0</td>\n",
       "      <td>1544435.0</td>\n",
       "      <td>0.421553</td>\n",
       "      <td>0.518016</td>\n",
       "      <td>gop</td>\n",
       "      <td>-9.646311</td>\n",
       "      <td>Likely Republican</td>\n",
       "    </tr>\n",
       "    <tr>\n",
       "      <th>34</th>\n",
       "      <td>Arkansas</td>\n",
       "      <td>6</td>\n",
       "      <td>AR</td>\n",
       "      <td>378729.0</td>\n",
       "      <td>677904.0</td>\n",
       "      <td>51982.0</td>\n",
       "      <td>1108615.0</td>\n",
       "      <td>0.341624</td>\n",
       "      <td>0.611487</td>\n",
       "      <td>gop</td>\n",
       "      <td>-26.986375</td>\n",
       "      <td>Safe Republican</td>\n",
       "    </tr>\n",
       "    <tr>\n",
       "      <th>35</th>\n",
       "      <td>West Virginia</td>\n",
       "      <td>5</td>\n",
       "      <td>WV</td>\n",
       "      <td>242418.0</td>\n",
       "      <td>531229.0</td>\n",
       "      <td>40063.0</td>\n",
       "      <td>813710.0</td>\n",
       "      <td>0.297917</td>\n",
       "      <td>0.652848</td>\n",
       "      <td>gop</td>\n",
       "      <td>-35.493112</td>\n",
       "      <td>Safe Republican</td>\n",
       "    </tr>\n",
       "    <tr>\n",
       "      <th>36</th>\n",
       "      <td>New Mexico</td>\n",
       "      <td>5</td>\n",
       "      <td>NM</td>\n",
       "      <td>317586.0</td>\n",
       "      <td>276487.0</td>\n",
       "      <td>59924.0</td>\n",
       "      <td>653997.0</td>\n",
       "      <td>0.485608</td>\n",
       "      <td>0.422765</td>\n",
       "      <td>dem</td>\n",
       "      <td>6.284280</td>\n",
       "      <td>Likely Democrat</td>\n",
       "    </tr>\n",
       "    <tr>\n",
       "      <th>37</th>\n",
       "      <td>Nebraska</td>\n",
       "      <td>5</td>\n",
       "      <td>NE</td>\n",
       "      <td>272796.0</td>\n",
       "      <td>484442.0</td>\n",
       "      <td>46164.0</td>\n",
       "      <td>803402.0</td>\n",
       "      <td>0.339551</td>\n",
       "      <td>0.602988</td>\n",
       "      <td>gop</td>\n",
       "      <td>-26.343723</td>\n",
       "      <td>Safe Republican</td>\n",
       "    </tr>\n",
       "    <tr>\n",
       "      <th>38</th>\n",
       "      <td>Rhode Island</td>\n",
       "      <td>4</td>\n",
       "      <td>RI</td>\n",
       "      <td>226926.0</td>\n",
       "      <td>185093.0</td>\n",
       "      <td>19217.0</td>\n",
       "      <td>431236.0</td>\n",
       "      <td>0.526222</td>\n",
       "      <td>0.429215</td>\n",
       "      <td>dem</td>\n",
       "      <td>9.700721</td>\n",
       "      <td>Likely Democrat</td>\n",
       "    </tr>\n",
       "    <tr>\n",
       "      <th>39</th>\n",
       "      <td>New Hampshire</td>\n",
       "      <td>4</td>\n",
       "      <td>NH</td>\n",
       "      <td>585740.0</td>\n",
       "      <td>522941.0</td>\n",
       "      <td>49050.0</td>\n",
       "      <td>1157731.0</td>\n",
       "      <td>0.505938</td>\n",
       "      <td>0.451695</td>\n",
       "      <td>dem</td>\n",
       "      <td>5.424317</td>\n",
       "      <td>Likely Democrat</td>\n",
       "    </tr>\n",
       "    <tr>\n",
       "      <th>40</th>\n",
       "      <td>Maine</td>\n",
       "      <td>4</td>\n",
       "      <td>ME</td>\n",
       "      <td>338563.0</td>\n",
       "      <td>326674.0</td>\n",
       "      <td>48777.0</td>\n",
       "      <td>714014.0</td>\n",
       "      <td>0.474169</td>\n",
       "      <td>0.457518</td>\n",
       "      <td>dem</td>\n",
       "      <td>1.665093</td>\n",
       "      <td>Toss-Up</td>\n",
       "    </tr>\n",
       "    <tr>\n",
       "      <th>41</th>\n",
       "      <td>Idaho</td>\n",
       "      <td>4</td>\n",
       "      <td>ID</td>\n",
       "      <td>121634.0</td>\n",
       "      <td>336183.0</td>\n",
       "      <td>66601.0</td>\n",
       "      <td>524418.0</td>\n",
       "      <td>0.231941</td>\n",
       "      <td>0.641059</td>\n",
       "      <td>gop</td>\n",
       "      <td>-40.911830</td>\n",
       "      <td>Safe Republican</td>\n",
       "    </tr>\n",
       "    <tr>\n",
       "      <th>42</th>\n",
       "      <td>Hawaii</td>\n",
       "      <td>4</td>\n",
       "      <td>HI</td>\n",
       "      <td>301245.0</td>\n",
       "      <td>205063.0</td>\n",
       "      <td>53239.0</td>\n",
       "      <td>559547.0</td>\n",
       "      <td>0.538373</td>\n",
       "      <td>0.366480</td>\n",
       "      <td>dem</td>\n",
       "      <td>17.189262</td>\n",
       "      <td>Safe Democrat</td>\n",
       "    </tr>\n",
       "    <tr>\n",
       "      <th>43</th>\n",
       "      <td>Wyoming</td>\n",
       "      <td>3</td>\n",
       "      <td>WY</td>\n",
       "      <td>45196.0</td>\n",
       "      <td>136873.0</td>\n",
       "      <td>14487.0</td>\n",
       "      <td>196556.0</td>\n",
       "      <td>0.229940</td>\n",
       "      <td>0.696356</td>\n",
       "      <td>gop</td>\n",
       "      <td>-46.641670</td>\n",
       "      <td>Safe Republican</td>\n",
       "    </tr>\n",
       "    <tr>\n",
       "      <th>44</th>\n",
       "      <td>Vermont</td>\n",
       "      <td>3</td>\n",
       "      <td>VT</td>\n",
       "      <td>144831.0</td>\n",
       "      <td>105528.0</td>\n",
       "      <td>15576.0</td>\n",
       "      <td>265935.0</td>\n",
       "      <td>0.544611</td>\n",
       "      <td>0.396819</td>\n",
       "      <td>dem</td>\n",
       "      <td>14.779175</td>\n",
       "      <td>Safe Democrat</td>\n",
       "    </tr>\n",
       "    <tr>\n",
       "      <th>45</th>\n",
       "      <td>South Dakota</td>\n",
       "      <td>3</td>\n",
       "      <td>SD</td>\n",
       "      <td>126554.0</td>\n",
       "      <td>257402.0</td>\n",
       "      <td>26361.0</td>\n",
       "      <td>410317.0</td>\n",
       "      <td>0.308430</td>\n",
       "      <td>0.627325</td>\n",
       "      <td>gop</td>\n",
       "      <td>-31.889490</td>\n",
       "      <td>Safe Republican</td>\n",
       "    </tr>\n",
       "    <tr>\n",
       "      <th>46</th>\n",
       "      <td>North Dakota</td>\n",
       "      <td>3</td>\n",
       "      <td>ND</td>\n",
       "      <td>106821.0</td>\n",
       "      <td>250376.0</td>\n",
       "      <td>29011.0</td>\n",
       "      <td>386208.0</td>\n",
       "      <td>0.276589</td>\n",
       "      <td>0.648293</td>\n",
       "      <td>gop</td>\n",
       "      <td>-37.170385</td>\n",
       "      <td>Safe Republican</td>\n",
       "    </tr>\n",
       "    <tr>\n",
       "      <th>47</th>\n",
       "      <td>Montana</td>\n",
       "      <td>3</td>\n",
       "      <td>MT</td>\n",
       "      <td>176678.0</td>\n",
       "      <td>280082.0</td>\n",
       "      <td>35310.0</td>\n",
       "      <td>492070.0</td>\n",
       "      <td>0.359051</td>\n",
       "      <td>0.569191</td>\n",
       "      <td>gop</td>\n",
       "      <td>-21.014083</td>\n",
       "      <td>Safe Republican</td>\n",
       "    </tr>\n",
       "    <tr>\n",
       "      <th>48</th>\n",
       "      <td>Delaware</td>\n",
       "      <td>3</td>\n",
       "      <td>DE</td>\n",
       "      <td>462457.0</td>\n",
       "      <td>159667.0</td>\n",
       "      <td>25430.0</td>\n",
       "      <td>647554.0</td>\n",
       "      <td>0.714160</td>\n",
       "      <td>0.246569</td>\n",
       "      <td>dem</td>\n",
       "      <td>46.759035</td>\n",
       "      <td>Safe Democrat</td>\n",
       "    </tr>\n",
       "    <tr>\n",
       "      <th>49</th>\n",
       "      <td>District of Columbia</td>\n",
       "      <td>3</td>\n",
       "      <td>DC</td>\n",
       "      <td>75370.0</td>\n",
       "      <td>46584.0</td>\n",
       "      <td>5873.0</td>\n",
       "      <td>127827.0</td>\n",
       "      <td>0.589625</td>\n",
       "      <td>0.364430</td>\n",
       "      <td>dem</td>\n",
       "      <td>22.519499</td>\n",
       "      <td>Safe Democrat</td>\n",
       "    </tr>\n",
       "  </tbody>\n",
       "</table>\n",
       "</div>"
      ],
      "text/plain": [
       "                   state  electoral_votes_number state_code  Votes_dem  \\\n",
       "0             California                      55         CA  7362490.0   \n",
       "1                  Texas                      38         TX  3866536.0   \n",
       "2               New York                      29         NY  4097644.0   \n",
       "3                Florida                      29         FL  4411809.0   \n",
       "4           Pennsylvania                      20         PA  2519725.0   \n",
       "5               Illinois                      20         IL  2972667.0   \n",
       "6                   Ohio                      18         OH  2303483.0   \n",
       "7               Michigan                      16         MI  2269595.0   \n",
       "8                Georgia                      16         GA  1877124.0   \n",
       "9         North Carolina                      15         NC  2130869.0   \n",
       "10            New Jersey                      14         NJ  1900419.0   \n",
       "11              Virginia                      13         VA  1922843.0   \n",
       "12            Washington                      12         WA  1574338.0   \n",
       "13             Tennessee                      11         TN   864974.0   \n",
       "14         Massachusetts                      11         MA  1894868.0   \n",
       "15               Indiana                      11         IN  1030278.0   \n",
       "16               Arizona                      11         AZ   936250.0   \n",
       "17             Wisconsin                      10         WI  1317468.0   \n",
       "18              Missouri                      10         MO  1052509.0   \n",
       "19             Minnesota                      10         MN  1370463.0   \n",
       "20              Maryland                      10         MD  1562918.0   \n",
       "21        South Carolina                       9         SC   822583.0   \n",
       "22              Colorado                       9         CO  1212209.0   \n",
       "23               Alabama                       9         AL   718084.0   \n",
       "24             Louisiana                       8         LA   796872.0   \n",
       "25              Kentucky                       8         KY   633149.0   \n",
       "26                Oregon                       7         OR  1281513.0   \n",
       "27              Oklahoma                       7         OK   448410.0   \n",
       "28           Connecticut                       7         CT   917779.0   \n",
       "29                  Utah                       6         UT   346316.0   \n",
       "30                Nevada                       6         NV   561295.0   \n",
       "31           Mississippi                       6         MS   458575.0   \n",
       "32                Kansas                       6         KS   414713.0   \n",
       "33                  Iowa                       6         IA   651061.0   \n",
       "34              Arkansas                       6         AR   378729.0   \n",
       "35         West Virginia                       5         WV   242418.0   \n",
       "36            New Mexico                       5         NM   317586.0   \n",
       "37              Nebraska                       5         NE   272796.0   \n",
       "38          Rhode Island                       4         RI   226926.0   \n",
       "39         New Hampshire                       4         NH   585740.0   \n",
       "40                 Maine                       4         ME   338563.0   \n",
       "41                 Idaho                       4         ID   121634.0   \n",
       "42                Hawaii                       4         HI   301245.0   \n",
       "43               Wyoming                       3         WY    45196.0   \n",
       "44               Vermont                       3         VT   144831.0   \n",
       "45          South Dakota                       3         SD   126554.0   \n",
       "46          North Dakota                       3         ND   106821.0   \n",
       "47               Montana                       3         MT   176678.0   \n",
       "48              Delaware                       3         DE   462457.0   \n",
       "49  District of Columbia                       3         DC    75370.0   \n",
       "\n",
       "    Votes_gop  Votes_other  Votes_total  Per_dem_2016  Per_gop_2016 Winner  \\\n",
       "0   3916209.0     675618.0   11954317.0      0.615885      0.327598    dem   \n",
       "1   4677007.0     370961.0    8914504.0      0.433735      0.524651    gop   \n",
       "2   2636692.0     256359.0    6990695.0      0.586157      0.377172    dem   \n",
       "3   4564423.0     289694.0    9265926.0      0.476133      0.492603    gop   \n",
       "4   2671255.0     193198.0    5384178.0      0.467987      0.496131    gop   \n",
       "5   2105089.0     277793.0    5355549.0      0.555063      0.393067    dem   \n",
       "6   2740365.0     234572.0    5278420.0      0.436396      0.519164    gop   \n",
       "7   2281120.0     243208.0    4793923.0      0.473432      0.475836    gop   \n",
       "8   2080631.0     129671.0    4087426.0      0.459244      0.509032    gop   \n",
       "9   2291602.0     126184.0    4548655.0      0.468461      0.503798    gop   \n",
       "10  1419738.0     136918.0    3457075.0      0.549719      0.410676    dem   \n",
       "11  1768923.0     202699.0    3894465.0      0.493737      0.454215    dem   \n",
       "12  1093611.0     210972.0    2878921.0      0.546850      0.379868    dem   \n",
       "13  1520787.0      99268.0    2485029.0      0.348074      0.611980    gop   \n",
       "14  1033428.0     176747.0    3105043.0      0.610255      0.332822    dem   \n",
       "15  1549034.0     133437.0    2712749.0      0.379791      0.571020    gop   \n",
       "16  1021154.0     105406.0    2062810.0      0.453871      0.495031    gop   \n",
       "17  1346746.0     147763.0    2811977.0      0.468520      0.478932    gop   \n",
       "18  1582977.0     134151.0    2769637.0      0.380017      0.571547    gop   \n",
       "19  1322500.0     226470.0    2919433.0      0.469428      0.452999    dem   \n",
       "20   907463.0     109025.0    2579406.0      0.605922      0.351811    dem   \n",
       "21  1096317.0      88226.0    2007126.0      0.409831      0.546212    gop   \n",
       "22  1137455.0     214521.0    2564185.0      0.472746      0.443593    dem   \n",
       "23  1306925.0      53156.0    2078165.0      0.345538      0.628884    gop   \n",
       "24  1185034.0      73779.0    2055685.0      0.387643      0.576467    gop   \n",
       "25  1217464.0      90763.0    1941376.0      0.326134      0.627114    gop   \n",
       "26  1012053.0     151264.0    2444830.0      0.524173      0.413956    dem   \n",
       "27   960440.0      87538.0    1496388.0      0.299662      0.641839    gop   \n",
       "28   705255.0      74761.0    1697795.0      0.540571      0.415395    dem   \n",
       "29   454331.0     247982.0    1048629.0      0.330256      0.433262    gop   \n",
       "30   535825.0      75901.0    1173021.0      0.478504      0.456791    dem   \n",
       "31   679351.0      22984.0    1160910.0      0.395013      0.585188    gop   \n",
       "32   659071.0      76273.0    1150057.0      0.360602      0.573077    gop   \n",
       "33   800042.0      93332.0    1544435.0      0.421553      0.518016    gop   \n",
       "34   677904.0      51982.0    1108615.0      0.341624      0.611487    gop   \n",
       "35   531229.0      40063.0     813710.0      0.297917      0.652848    gop   \n",
       "36   276487.0      59924.0     653997.0      0.485608      0.422765    dem   \n",
       "37   484442.0      46164.0     803402.0      0.339551      0.602988    gop   \n",
       "38   185093.0      19217.0     431236.0      0.526222      0.429215    dem   \n",
       "39   522941.0      49050.0    1157731.0      0.505938      0.451695    dem   \n",
       "40   326674.0      48777.0     714014.0      0.474169      0.457518    dem   \n",
       "41   336183.0      66601.0     524418.0      0.231941      0.641059    gop   \n",
       "42   205063.0      53239.0     559547.0      0.538373      0.366480    dem   \n",
       "43   136873.0      14487.0     196556.0      0.229940      0.696356    gop   \n",
       "44   105528.0      15576.0     265935.0      0.544611      0.396819    dem   \n",
       "45   257402.0      26361.0     410317.0      0.308430      0.627325    gop   \n",
       "46   250376.0      29011.0     386208.0      0.276589      0.648293    gop   \n",
       "47   280082.0      35310.0     492070.0      0.359051      0.569191    gop   \n",
       "48   159667.0      25430.0     647554.0      0.714160      0.246569    dem   \n",
       "49    46584.0       5873.0     127827.0      0.589625      0.364430    dem   \n",
       "\n",
       "    Difference             Status  \n",
       "0    28.828757      Safe Democrat  \n",
       "1    -9.091599  Likely Republican  \n",
       "2    20.898523      Safe Democrat  \n",
       "3    -1.647045            Toss-Up  \n",
       "4    -2.814357  Likely Republican  \n",
       "5    16.199609      Safe Democrat  \n",
       "6    -8.276757  Likely Republican  \n",
       "7    -0.240409            Toss-Up  \n",
       "8    -4.978855  Likely Republican  \n",
       "9    -3.533638  Likely Republican  \n",
       "10   13.904269      Safe Democrat  \n",
       "11    3.952276    Likely Democrat  \n",
       "12   16.698166      Safe Democrat  \n",
       "13  -26.390557    Safe Republican  \n",
       "14   27.743255      Safe Democrat  \n",
       "15  -19.122890    Safe Republican  \n",
       "16   -4.115939  Likely Republican  \n",
       "17   -1.041189            Toss-Up  \n",
       "18  -19.152979    Safe Republican  \n",
       "19    1.642888            Toss-Up  \n",
       "20   25.411083      Safe Democrat  \n",
       "21  -13.638107    Safe Republican  \n",
       "22    2.915312    Likely Democrat  \n",
       "23  -28.334661    Safe Republican  \n",
       "24  -18.882368    Safe Republican  \n",
       "25  -30.097982    Safe Republican  \n",
       "26   11.021625      Safe Democrat  \n",
       "27  -34.217730    Safe Republican  \n",
       "28   12.517648      Safe Democrat  \n",
       "29  -10.300592    Safe Republican  \n",
       "30    2.171317            Toss-Up  \n",
       "31  -19.017495    Safe Republican  \n",
       "32  -21.247469    Safe Republican  \n",
       "33   -9.646311  Likely Republican  \n",
       "34  -26.986375    Safe Republican  \n",
       "35  -35.493112    Safe Republican  \n",
       "36    6.284280    Likely Democrat  \n",
       "37  -26.343723    Safe Republican  \n",
       "38    9.700721    Likely Democrat  \n",
       "39    5.424317    Likely Democrat  \n",
       "40    1.665093            Toss-Up  \n",
       "41  -40.911830    Safe Republican  \n",
       "42   17.189262      Safe Democrat  \n",
       "43  -46.641670    Safe Republican  \n",
       "44   14.779175      Safe Democrat  \n",
       "45  -31.889490    Safe Republican  \n",
       "46  -37.170385    Safe Republican  \n",
       "47  -21.014083    Safe Republican  \n",
       "48   46.759035      Safe Democrat  \n",
       "49   22.519499      Safe Democrat  "
      ]
     },
     "execution_count": 159,
     "metadata": {},
     "output_type": "execute_result"
    }
   ],
   "source": [
    "# Cargar datos electorales reales\n",
    "df_actual = pd.DataFrame({'Votes_dem': data_2016['votes_dem'], \n",
    "                            'Votes_gop': data_2016['total_votes'] - data_2016['votes_dem'] - data_2016['votes_others'], \n",
    "                            'Votes_other': data_2016['votes_others'],\n",
    "                            'Votes_total': data_2016['total_votes'], \n",
    "                            'state': state_names,\n",
    "                            'county': county_names,\n",
    "                            'fips': fips_codes})\n",
    "df_actual_state = df_actual.groupby('state').agg(Votes_dem=(f'Votes_dem', 'sum'), \n",
    "                                                    Votes_gop=(f'Votes_gop', 'sum'),\n",
    "                                                    Votes_other=(f'Votes_other', 'sum'),\n",
    "                                                    Votes_total=(f'Votes_total', 'sum'))\n",
    "\n",
    "df_actual_state[\"Per_dem_2016\"] = df_actual_state[\"Votes_dem\"] / df_actual_state[\"Votes_total\"]\n",
    "df_actual_state[\"Per_gop_2016\"] = df_actual_state[\"Votes_gop\"] / df_actual_state[\"Votes_total\"]\n",
    "\n",
    "# Añadir la columna \"Winner\" basado en los porcentajes predichos de Biden y Trump\n",
    "df_actual_state[\"Winner\"] = np.where(df_actual_state[\"Per_dem_2016\"] < df_actual_state[\"Per_gop_2016\"], 'gop', 'dem')\n",
    "\n",
    "\n",
    "full_df_actual_state = pd.merge(seats_data, df_actual_state, how='inner', on=[\"state\"])\n",
    "\n",
    "\n",
    "\n",
    "# Añadir diferencia entre Biden y Trump\n",
    "full_df_actual_state['Difference'] = (full_df_actual_state[\"Per_dem_2016\"] - full_df_actual_state[\"Per_gop_2016\"]) * 100\n",
    "\n",
    "\n",
    "# Definir las condiciones y los valores a asignar\n",
    "conditions = [\n",
    "    full_df_actual_state[\"Difference\"] > 10,\n",
    "    full_df_actual_state[\"Difference\"].between(2.5, 10),\n",
    "    full_df_actual_state[\"Difference\"].between(-2.5, 2.5),\n",
    "    full_df_actual_state[\"Difference\"].between(-10, -2.5),\n",
    "    full_df_actual_state[\"Difference\"] < -10\n",
    "]\n",
    "\n",
    "choices = [\n",
    "    \"Safe Democrat\",\n",
    "    \"Likely Democrat\",\n",
    "    \"Toss-Up\",\n",
    "    \"Likely Republican\",\n",
    "    \"Safe Republican\"\n",
    "]\n",
    "\n",
    "# Usar np.select para asignar el \"Status\" basado en las condiciones, con un valor por defecto \"Unknown\"\n",
    "full_df_actual_state[\"Status\"] = np.select(conditions, choices, default=\"Unknown\")\n",
    "\n",
    "full_df_actual_state_2016 = full_df_actual_state.copy()\n",
    "full_df_actual_state_2016"
   ]
  },
  {
   "cell_type": "code",
   "execution_count": 160,
   "metadata": {},
   "outputs": [],
   "source": [
    "# columns_to_drop = ['Total_2020', 'Other_2020', 'Winner_2020', \"Biden_2020\"]  # Nombres de las columnas a eliminar\n",
    "columns_to_drop = [\"votes_dem\", \"total_votes\", \"votes_others\", \"per_votes_others\", \"winner\"]  # Nombres de las columnas a eliminar\n",
    "\n",
    "data_2016 = data_2016.drop(columns=columns_to_drop)"
   ]
  },
  {
   "cell_type": "markdown",
   "metadata": {},
   "source": [
    "### 2020"
   ]
  },
  {
   "cell_type": "code",
   "execution_count": 161,
   "metadata": {},
   "outputs": [],
   "source": [
    "# Cargar datos\n",
    "data_2020 = read_csv(f\"data/final_data_{2020}.csv\")"
   ]
  },
  {
   "cell_type": "code",
   "execution_count": 162,
   "metadata": {},
   "outputs": [
    {
     "data": {
      "text/html": [
       "<div>\n",
       "<style scoped>\n",
       "    .dataframe tbody tr th:only-of-type {\n",
       "        vertical-align: middle;\n",
       "    }\n",
       "\n",
       "    .dataframe tbody tr th {\n",
       "        vertical-align: top;\n",
       "    }\n",
       "\n",
       "    .dataframe thead th {\n",
       "        text-align: right;\n",
       "    }\n",
       "</style>\n",
       "<table border=\"1\" class=\"dataframe\">\n",
       "  <thead>\n",
       "    <tr style=\"text-align: right;\">\n",
       "      <th></th>\n",
       "      <th>state</th>\n",
       "      <th>electoral_votes_number</th>\n",
       "      <th>state_code</th>\n",
       "      <th>Votes_dem</th>\n",
       "      <th>Votes_gop</th>\n",
       "      <th>Votes_other</th>\n",
       "      <th>Votes_total</th>\n",
       "      <th>Per_dem_2020</th>\n",
       "      <th>Per_gop_2020</th>\n",
       "      <th>Winner</th>\n",
       "      <th>Difference</th>\n",
       "      <th>Status</th>\n",
       "    </tr>\n",
       "  </thead>\n",
       "  <tbody>\n",
       "    <tr>\n",
       "      <th>0</th>\n",
       "      <td>California</td>\n",
       "      <td>55</td>\n",
       "      <td>CA</td>\n",
       "      <td>11109764.0</td>\n",
       "      <td>6005961.0</td>\n",
       "      <td>380181.0</td>\n",
       "      <td>17495906.0</td>\n",
       "      <td>0.634992</td>\n",
       "      <td>0.343278</td>\n",
       "      <td>dem</td>\n",
       "      <td>29.171413</td>\n",
       "      <td>Safe Democrat</td>\n",
       "    </tr>\n",
       "    <tr>\n",
       "      <th>1</th>\n",
       "      <td>Texas</td>\n",
       "      <td>38</td>\n",
       "      <td>TX</td>\n",
       "      <td>5255528.0</td>\n",
       "      <td>5877932.0</td>\n",
       "      <td>168324.0</td>\n",
       "      <td>11301784.0</td>\n",
       "      <td>0.465018</td>\n",
       "      <td>0.520089</td>\n",
       "      <td>gop</td>\n",
       "      <td>-5.507131</td>\n",
       "      <td>Likely Republican</td>\n",
       "    </tr>\n",
       "    <tr>\n",
       "      <th>2</th>\n",
       "      <td>New York</td>\n",
       "      <td>29</td>\n",
       "      <td>NY</td>\n",
       "      <td>5183357.0</td>\n",
       "      <td>3245205.0</td>\n",
       "      <td>119633.0</td>\n",
       "      <td>8548195.0</td>\n",
       "      <td>0.606369</td>\n",
       "      <td>0.379636</td>\n",
       "      <td>dem</td>\n",
       "      <td>22.673231</td>\n",
       "      <td>Safe Democrat</td>\n",
       "    </tr>\n",
       "    <tr>\n",
       "      <th>3</th>\n",
       "      <td>Florida</td>\n",
       "      <td>29</td>\n",
       "      <td>FL</td>\n",
       "      <td>5209125.0</td>\n",
       "      <td>5624329.0</td>\n",
       "      <td>99788.0</td>\n",
       "      <td>10933242.0</td>\n",
       "      <td>0.476448</td>\n",
       "      <td>0.514425</td>\n",
       "      <td>gop</td>\n",
       "      <td>-3.797629</td>\n",
       "      <td>Likely Republican</td>\n",
       "    </tr>\n",
       "    <tr>\n",
       "      <th>4</th>\n",
       "      <td>Pennsylvania</td>\n",
       "      <td>20</td>\n",
       "      <td>PA</td>\n",
       "      <td>3459766.0</td>\n",
       "      <td>3350485.0</td>\n",
       "      <td>86705.0</td>\n",
       "      <td>6896956.0</td>\n",
       "      <td>0.501637</td>\n",
       "      <td>0.485792</td>\n",
       "      <td>dem</td>\n",
       "      <td>1.584482</td>\n",
       "      <td>Toss-Up</td>\n",
       "    </tr>\n",
       "    <tr>\n",
       "      <th>5</th>\n",
       "      <td>Illinois</td>\n",
       "      <td>20</td>\n",
       "      <td>IL</td>\n",
       "      <td>3466518.0</td>\n",
       "      <td>2433357.0</td>\n",
       "      <td>119657.0</td>\n",
       "      <td>6019532.0</td>\n",
       "      <td>0.575878</td>\n",
       "      <td>0.404244</td>\n",
       "      <td>dem</td>\n",
       "      <td>17.163477</td>\n",
       "      <td>Safe Democrat</td>\n",
       "    </tr>\n",
       "    <tr>\n",
       "      <th>6</th>\n",
       "      <td>Ohio</td>\n",
       "      <td>18</td>\n",
       "      <td>OH</td>\n",
       "      <td>2678396.0</td>\n",
       "      <td>3150549.0</td>\n",
       "      <td>88220.0</td>\n",
       "      <td>5917165.0</td>\n",
       "      <td>0.452649</td>\n",
       "      <td>0.532442</td>\n",
       "      <td>gop</td>\n",
       "      <td>-7.979379</td>\n",
       "      <td>Likely Republican</td>\n",
       "    </tr>\n",
       "    <tr>\n",
       "      <th>7</th>\n",
       "      <td>Michigan</td>\n",
       "      <td>16</td>\n",
       "      <td>MI</td>\n",
       "      <td>2805505.0</td>\n",
       "      <td>2651262.0</td>\n",
       "      <td>85496.0</td>\n",
       "      <td>5542263.0</td>\n",
       "      <td>0.506202</td>\n",
       "      <td>0.478372</td>\n",
       "      <td>dem</td>\n",
       "      <td>2.783033</td>\n",
       "      <td>Likely Democrat</td>\n",
       "    </tr>\n",
       "    <tr>\n",
       "      <th>8</th>\n",
       "      <td>Georgia</td>\n",
       "      <td>16</td>\n",
       "      <td>GA</td>\n",
       "      <td>2530580.0</td>\n",
       "      <td>2482181.0</td>\n",
       "      <td>64379.0</td>\n",
       "      <td>5077140.0</td>\n",
       "      <td>0.498426</td>\n",
       "      <td>0.488894</td>\n",
       "      <td>dem</td>\n",
       "      <td>0.953273</td>\n",
       "      <td>Toss-Up</td>\n",
       "    </tr>\n",
       "    <tr>\n",
       "      <th>9</th>\n",
       "      <td>North Carolina</td>\n",
       "      <td>15</td>\n",
       "      <td>NC</td>\n",
       "      <td>2645725.0</td>\n",
       "      <td>2713698.0</td>\n",
       "      <td>80556.0</td>\n",
       "      <td>5439979.0</td>\n",
       "      <td>0.486348</td>\n",
       "      <td>0.498843</td>\n",
       "      <td>gop</td>\n",
       "      <td>-1.249508</td>\n",
       "      <td>Toss-Up</td>\n",
       "    </tr>\n",
       "    <tr>\n",
       "      <th>10</th>\n",
       "      <td>New Jersey</td>\n",
       "      <td>14</td>\n",
       "      <td>NJ</td>\n",
       "      <td>2728284.0</td>\n",
       "      <td>1934971.0</td>\n",
       "      <td>78128.0</td>\n",
       "      <td>4741383.0</td>\n",
       "      <td>0.575419</td>\n",
       "      <td>0.408103</td>\n",
       "      <td>dem</td>\n",
       "      <td>16.731679</td>\n",
       "      <td>Safe Democrat</td>\n",
       "    </tr>\n",
       "    <tr>\n",
       "      <th>11</th>\n",
       "      <td>Virginia</td>\n",
       "      <td>13</td>\n",
       "      <td>VA</td>\n",
       "      <td>2407804.0</td>\n",
       "      <td>1957165.0</td>\n",
       "      <td>84455.0</td>\n",
       "      <td>4449424.0</td>\n",
       "      <td>0.541150</td>\n",
       "      <td>0.439869</td>\n",
       "      <td>dem</td>\n",
       "      <td>10.128030</td>\n",
       "      <td>Safe Democrat</td>\n",
       "    </tr>\n",
       "    <tr>\n",
       "      <th>12</th>\n",
       "      <td>Washington</td>\n",
       "      <td>12</td>\n",
       "      <td>WA</td>\n",
       "      <td>2369255.0</td>\n",
       "      <td>1585860.0</td>\n",
       "      <td>133331.0</td>\n",
       "      <td>4088446.0</td>\n",
       "      <td>0.579500</td>\n",
       "      <td>0.387888</td>\n",
       "      <td>dem</td>\n",
       "      <td>19.161192</td>\n",
       "      <td>Safe Democrat</td>\n",
       "    </tr>\n",
       "    <tr>\n",
       "      <th>13</th>\n",
       "      <td>Tennessee</td>\n",
       "      <td>11</td>\n",
       "      <td>TN</td>\n",
       "      <td>1135925.0</td>\n",
       "      <td>1844401.0</td>\n",
       "      <td>57182.0</td>\n",
       "      <td>3037508.0</td>\n",
       "      <td>0.373966</td>\n",
       "      <td>0.607209</td>\n",
       "      <td>gop</td>\n",
       "      <td>-23.324251</td>\n",
       "      <td>Safe Republican</td>\n",
       "    </tr>\n",
       "    <tr>\n",
       "      <th>14</th>\n",
       "      <td>Massachusetts</td>\n",
       "      <td>11</td>\n",
       "      <td>MA</td>\n",
       "      <td>2292350.0</td>\n",
       "      <td>1116739.0</td>\n",
       "      <td>79052.0</td>\n",
       "      <td>3488141.0</td>\n",
       "      <td>0.657184</td>\n",
       "      <td>0.320153</td>\n",
       "      <td>dem</td>\n",
       "      <td>33.703081</td>\n",
       "      <td>Safe Democrat</td>\n",
       "    </tr>\n",
       "    <tr>\n",
       "      <th>15</th>\n",
       "      <td>Indiana</td>\n",
       "      <td>11</td>\n",
       "      <td>IN</td>\n",
       "      <td>1240457.0</td>\n",
       "      <td>1722083.0</td>\n",
       "      <td>60626.0</td>\n",
       "      <td>3023166.0</td>\n",
       "      <td>0.410317</td>\n",
       "      <td>0.569629</td>\n",
       "      <td>gop</td>\n",
       "      <td>-15.931179</td>\n",
       "      <td>Safe Republican</td>\n",
       "    </tr>\n",
       "    <tr>\n",
       "      <th>16</th>\n",
       "      <td>Arizona</td>\n",
       "      <td>11</td>\n",
       "      <td>AZ</td>\n",
       "      <td>1672143.0</td>\n",
       "      <td>1661686.0</td>\n",
       "      <td>53497.0</td>\n",
       "      <td>3387326.0</td>\n",
       "      <td>0.493647</td>\n",
       "      <td>0.490560</td>\n",
       "      <td>dem</td>\n",
       "      <td>0.308710</td>\n",
       "      <td>Toss-Up</td>\n",
       "    </tr>\n",
       "    <tr>\n",
       "      <th>17</th>\n",
       "      <td>Wisconsin</td>\n",
       "      <td>10</td>\n",
       "      <td>WI</td>\n",
       "      <td>1635436.0</td>\n",
       "      <td>1611282.0</td>\n",
       "      <td>57433.0</td>\n",
       "      <td>3304151.0</td>\n",
       "      <td>0.494964</td>\n",
       "      <td>0.487654</td>\n",
       "      <td>dem</td>\n",
       "      <td>0.731020</td>\n",
       "      <td>Toss-Up</td>\n",
       "    </tr>\n",
       "    <tr>\n",
       "      <th>18</th>\n",
       "      <td>Missouri</td>\n",
       "      <td>10</td>\n",
       "      <td>MO</td>\n",
       "      <td>1250912.0</td>\n",
       "      <td>1716246.0</td>\n",
       "      <td>54129.0</td>\n",
       "      <td>3021287.0</td>\n",
       "      <td>0.414033</td>\n",
       "      <td>0.568051</td>\n",
       "      <td>gop</td>\n",
       "      <td>-15.401847</td>\n",
       "      <td>Safe Republican</td>\n",
       "    </tr>\n",
       "    <tr>\n",
       "      <th>19</th>\n",
       "      <td>Minnesota</td>\n",
       "      <td>10</td>\n",
       "      <td>MN</td>\n",
       "      <td>1721387.0</td>\n",
       "      <td>1483503.0</td>\n",
       "      <td>76015.0</td>\n",
       "      <td>3280905.0</td>\n",
       "      <td>0.524668</td>\n",
       "      <td>0.452163</td>\n",
       "      <td>dem</td>\n",
       "      <td>7.250560</td>\n",
       "      <td>Likely Democrat</td>\n",
       "    </tr>\n",
       "    <tr>\n",
       "      <th>20</th>\n",
       "      <td>Maryland</td>\n",
       "      <td>10</td>\n",
       "      <td>MD</td>\n",
       "      <td>2067859.0</td>\n",
       "      <td>1010839.0</td>\n",
       "      <td>78016.0</td>\n",
       "      <td>3156714.0</td>\n",
       "      <td>0.655067</td>\n",
       "      <td>0.320219</td>\n",
       "      <td>dem</td>\n",
       "      <td>33.484820</td>\n",
       "      <td>Safe Democrat</td>\n",
       "    </tr>\n",
       "    <tr>\n",
       "      <th>21</th>\n",
       "      <td>South Carolina</td>\n",
       "      <td>9</td>\n",
       "      <td>SC</td>\n",
       "      <td>1087757.0</td>\n",
       "      <td>1377940.0</td>\n",
       "      <td>36604.0</td>\n",
       "      <td>2502301.0</td>\n",
       "      <td>0.434703</td>\n",
       "      <td>0.550669</td>\n",
       "      <td>gop</td>\n",
       "      <td>-11.596646</td>\n",
       "      <td>Safe Republican</td>\n",
       "    </tr>\n",
       "    <tr>\n",
       "      <th>22</th>\n",
       "      <td>Colorado</td>\n",
       "      <td>9</td>\n",
       "      <td>CO</td>\n",
       "      <td>1804352.0</td>\n",
       "      <td>1364607.0</td>\n",
       "      <td>87994.0</td>\n",
       "      <td>3256953.0</td>\n",
       "      <td>0.554000</td>\n",
       "      <td>0.418983</td>\n",
       "      <td>dem</td>\n",
       "      <td>13.501730</td>\n",
       "      <td>Safe Democrat</td>\n",
       "    </tr>\n",
       "    <tr>\n",
       "      <th>23</th>\n",
       "      <td>Alabama</td>\n",
       "      <td>9</td>\n",
       "      <td>AL</td>\n",
       "      <td>849648.0</td>\n",
       "      <td>1441168.0</td>\n",
       "      <td>32488.0</td>\n",
       "      <td>2323304.0</td>\n",
       "      <td>0.365707</td>\n",
       "      <td>0.620310</td>\n",
       "      <td>gop</td>\n",
       "      <td>-25.460293</td>\n",
       "      <td>Safe Republican</td>\n",
       "    </tr>\n",
       "    <tr>\n",
       "      <th>24</th>\n",
       "      <td>Louisiana</td>\n",
       "      <td>8</td>\n",
       "      <td>LA</td>\n",
       "      <td>878208.0</td>\n",
       "      <td>1262448.0</td>\n",
       "      <td>37688.0</td>\n",
       "      <td>2178344.0</td>\n",
       "      <td>0.403154</td>\n",
       "      <td>0.579545</td>\n",
       "      <td>gop</td>\n",
       "      <td>-17.639087</td>\n",
       "      <td>Safe Republican</td>\n",
       "    </tr>\n",
       "    <tr>\n",
       "      <th>25</th>\n",
       "      <td>Kentucky</td>\n",
       "      <td>8</td>\n",
       "      <td>KY</td>\n",
       "      <td>776525.0</td>\n",
       "      <td>1341966.0</td>\n",
       "      <td>37934.0</td>\n",
       "      <td>2156425.0</td>\n",
       "      <td>0.360098</td>\n",
       "      <td>0.622311</td>\n",
       "      <td>gop</td>\n",
       "      <td>-26.221223</td>\n",
       "      <td>Safe Republican</td>\n",
       "    </tr>\n",
       "    <tr>\n",
       "      <th>26</th>\n",
       "      <td>Oregon</td>\n",
       "      <td>7</td>\n",
       "      <td>OR</td>\n",
       "      <td>1356244.0</td>\n",
       "      <td>988619.0</td>\n",
       "      <td>76240.0</td>\n",
       "      <td>2421103.0</td>\n",
       "      <td>0.560176</td>\n",
       "      <td>0.408334</td>\n",
       "      <td>dem</td>\n",
       "      <td>15.184195</td>\n",
       "      <td>Safe Democrat</td>\n",
       "    </tr>\n",
       "    <tr>\n",
       "      <th>27</th>\n",
       "      <td>Oklahoma</td>\n",
       "      <td>7</td>\n",
       "      <td>OK</td>\n",
       "      <td>504849.0</td>\n",
       "      <td>1022047.0</td>\n",
       "      <td>36627.0</td>\n",
       "      <td>1563523.0</td>\n",
       "      <td>0.322892</td>\n",
       "      <td>0.653682</td>\n",
       "      <td>gop</td>\n",
       "      <td>-33.079015</td>\n",
       "      <td>Safe Republican</td>\n",
       "    </tr>\n",
       "    <tr>\n",
       "      <th>28</th>\n",
       "      <td>Connecticut</td>\n",
       "      <td>7</td>\n",
       "      <td>CT</td>\n",
       "      <td>1125232.0</td>\n",
       "      <td>756300.0</td>\n",
       "      <td>29773.0</td>\n",
       "      <td>1911305.0</td>\n",
       "      <td>0.588724</td>\n",
       "      <td>0.395698</td>\n",
       "      <td>dem</td>\n",
       "      <td>19.302623</td>\n",
       "      <td>Safe Democrat</td>\n",
       "    </tr>\n",
       "    <tr>\n",
       "      <th>29</th>\n",
       "      <td>Utah</td>\n",
       "      <td>6</td>\n",
       "      <td>UT</td>\n",
       "      <td>574892.0</td>\n",
       "      <td>868737.0</td>\n",
       "      <td>63582.0</td>\n",
       "      <td>1507211.0</td>\n",
       "      <td>0.381428</td>\n",
       "      <td>0.576387</td>\n",
       "      <td>gop</td>\n",
       "      <td>-19.495943</td>\n",
       "      <td>Safe Republican</td>\n",
       "    </tr>\n",
       "    <tr>\n",
       "      <th>30</th>\n",
       "      <td>Nevada</td>\n",
       "      <td>6</td>\n",
       "      <td>NV</td>\n",
       "      <td>717329.0</td>\n",
       "      <td>681417.0</td>\n",
       "      <td>32193.0</td>\n",
       "      <td>1430939.0</td>\n",
       "      <td>0.501299</td>\n",
       "      <td>0.476203</td>\n",
       "      <td>dem</td>\n",
       "      <td>2.509681</td>\n",
       "      <td>Likely Democrat</td>\n",
       "    </tr>\n",
       "    <tr>\n",
       "      <th>31</th>\n",
       "      <td>Mississippi</td>\n",
       "      <td>6</td>\n",
       "      <td>MS</td>\n",
       "      <td>535191.0</td>\n",
       "      <td>757481.0</td>\n",
       "      <td>19083.0</td>\n",
       "      <td>1311755.0</td>\n",
       "      <td>0.407996</td>\n",
       "      <td>0.577456</td>\n",
       "      <td>gop</td>\n",
       "      <td>-16.946000</td>\n",
       "      <td>Safe Republican</td>\n",
       "    </tr>\n",
       "    <tr>\n",
       "      <th>32</th>\n",
       "      <td>Kansas</td>\n",
       "      <td>6</td>\n",
       "      <td>KS</td>\n",
       "      <td>558502.0</td>\n",
       "      <td>761221.0</td>\n",
       "      <td>32770.0</td>\n",
       "      <td>1352493.0</td>\n",
       "      <td>0.412943</td>\n",
       "      <td>0.562828</td>\n",
       "      <td>gop</td>\n",
       "      <td>-14.988543</td>\n",
       "      <td>Safe Republican</td>\n",
       "    </tr>\n",
       "    <tr>\n",
       "      <th>33</th>\n",
       "      <td>Iowa</td>\n",
       "      <td>6</td>\n",
       "      <td>IA</td>\n",
       "      <td>759422.0</td>\n",
       "      <td>898910.0</td>\n",
       "      <td>34204.0</td>\n",
       "      <td>1692536.0</td>\n",
       "      <td>0.448689</td>\n",
       "      <td>0.531102</td>\n",
       "      <td>gop</td>\n",
       "      <td>-8.241361</td>\n",
       "      <td>Likely Republican</td>\n",
       "    </tr>\n",
       "    <tr>\n",
       "      <th>34</th>\n",
       "      <td>Arkansas</td>\n",
       "      <td>6</td>\n",
       "      <td>AR</td>\n",
       "      <td>423932.0</td>\n",
       "      <td>760647.0</td>\n",
       "      <td>34490.0</td>\n",
       "      <td>1219069.0</td>\n",
       "      <td>0.347751</td>\n",
       "      <td>0.623957</td>\n",
       "      <td>gop</td>\n",
       "      <td>-27.620668</td>\n",
       "      <td>Safe Republican</td>\n",
       "    </tr>\n",
       "    <tr>\n",
       "      <th>35</th>\n",
       "      <td>West Virginia</td>\n",
       "      <td>5</td>\n",
       "      <td>WV</td>\n",
       "      <td>238856.0</td>\n",
       "      <td>547628.0</td>\n",
       "      <td>13309.0</td>\n",
       "      <td>799793.0</td>\n",
       "      <td>0.298647</td>\n",
       "      <td>0.684712</td>\n",
       "      <td>gop</td>\n",
       "      <td>-38.606489</td>\n",
       "      <td>Safe Republican</td>\n",
       "    </tr>\n",
       "    <tr>\n",
       "      <th>36</th>\n",
       "      <td>New Mexico</td>\n",
       "      <td>5</td>\n",
       "      <td>NM</td>\n",
       "      <td>407331.0</td>\n",
       "      <td>336840.0</td>\n",
       "      <td>16305.0</td>\n",
       "      <td>760476.0</td>\n",
       "      <td>0.535626</td>\n",
       "      <td>0.442933</td>\n",
       "      <td>dem</td>\n",
       "      <td>9.269326</td>\n",
       "      <td>Likely Democrat</td>\n",
       "    </tr>\n",
       "    <tr>\n",
       "      <th>37</th>\n",
       "      <td>Nebraska</td>\n",
       "      <td>5</td>\n",
       "      <td>NE</td>\n",
       "      <td>373421.0</td>\n",
       "      <td>556133.0</td>\n",
       "      <td>25062.0</td>\n",
       "      <td>954616.0</td>\n",
       "      <td>0.391174</td>\n",
       "      <td>0.582572</td>\n",
       "      <td>gop</td>\n",
       "      <td>-19.139843</td>\n",
       "      <td>Safe Republican</td>\n",
       "    </tr>\n",
       "    <tr>\n",
       "      <th>38</th>\n",
       "      <td>Rhode Island</td>\n",
       "      <td>4</td>\n",
       "      <td>RI</td>\n",
       "      <td>292261.0</td>\n",
       "      <td>198307.0</td>\n",
       "      <td>9833.0</td>\n",
       "      <td>500401.0</td>\n",
       "      <td>0.584054</td>\n",
       "      <td>0.396296</td>\n",
       "      <td>dem</td>\n",
       "      <td>18.775742</td>\n",
       "      <td>Safe Democrat</td>\n",
       "    </tr>\n",
       "    <tr>\n",
       "      <th>39</th>\n",
       "      <td>New Hampshire</td>\n",
       "      <td>4</td>\n",
       "      <td>NH</td>\n",
       "      <td>481835.0</td>\n",
       "      <td>409193.0</td>\n",
       "      <td>15390.0</td>\n",
       "      <td>906418.0</td>\n",
       "      <td>0.531581</td>\n",
       "      <td>0.451440</td>\n",
       "      <td>dem</td>\n",
       "      <td>8.014183</td>\n",
       "      <td>Likely Democrat</td>\n",
       "    </tr>\n",
       "    <tr>\n",
       "      <th>40</th>\n",
       "      <td>Maine</td>\n",
       "      <td>4</td>\n",
       "      <td>ME</td>\n",
       "      <td>412014.0</td>\n",
       "      <td>351517.0</td>\n",
       "      <td>22143.0</td>\n",
       "      <td>785674.0</td>\n",
       "      <td>0.524408</td>\n",
       "      <td>0.447408</td>\n",
       "      <td>dem</td>\n",
       "      <td>7.700013</td>\n",
       "      <td>Likely Democrat</td>\n",
       "    </tr>\n",
       "    <tr>\n",
       "      <th>41</th>\n",
       "      <td>Idaho</td>\n",
       "      <td>4</td>\n",
       "      <td>ID</td>\n",
       "      <td>175115.0</td>\n",
       "      <td>447639.0</td>\n",
       "      <td>19489.0</td>\n",
       "      <td>642243.0</td>\n",
       "      <td>0.272662</td>\n",
       "      <td>0.696993</td>\n",
       "      <td>gop</td>\n",
       "      <td>-42.433160</td>\n",
       "      <td>Safe Republican</td>\n",
       "    </tr>\n",
       "    <tr>\n",
       "      <th>42</th>\n",
       "      <td>Hawaii</td>\n",
       "      <td>4</td>\n",
       "      <td>HI</td>\n",
       "      <td>427938.0</td>\n",
       "      <td>300666.0</td>\n",
       "      <td>17440.0</td>\n",
       "      <td>746044.0</td>\n",
       "      <td>0.573610</td>\n",
       "      <td>0.403014</td>\n",
       "      <td>dem</td>\n",
       "      <td>17.059584</td>\n",
       "      <td>Safe Democrat</td>\n",
       "    </tr>\n",
       "    <tr>\n",
       "      <th>43</th>\n",
       "      <td>Wyoming</td>\n",
       "      <td>3</td>\n",
       "      <td>WY</td>\n",
       "      <td>64399.0</td>\n",
       "      <td>184980.0</td>\n",
       "      <td>8769.0</td>\n",
       "      <td>258148.0</td>\n",
       "      <td>0.249465</td>\n",
       "      <td>0.716566</td>\n",
       "      <td>gop</td>\n",
       "      <td>-46.710027</td>\n",
       "      <td>Safe Republican</td>\n",
       "    </tr>\n",
       "    <tr>\n",
       "      <th>44</th>\n",
       "      <td>Vermont</td>\n",
       "      <td>3</td>\n",
       "      <td>VT</td>\n",
       "      <td>235431.0</td>\n",
       "      <td>115584.0</td>\n",
       "      <td>11353.0</td>\n",
       "      <td>362368.0</td>\n",
       "      <td>0.649701</td>\n",
       "      <td>0.318969</td>\n",
       "      <td>dem</td>\n",
       "      <td>33.073285</td>\n",
       "      <td>Safe Democrat</td>\n",
       "    </tr>\n",
       "    <tr>\n",
       "      <th>45</th>\n",
       "      <td>South Dakota</td>\n",
       "      <td>3</td>\n",
       "      <td>SD</td>\n",
       "      <td>161895.0</td>\n",
       "      <td>283175.0</td>\n",
       "      <td>11704.0</td>\n",
       "      <td>456774.0</td>\n",
       "      <td>0.354431</td>\n",
       "      <td>0.619946</td>\n",
       "      <td>gop</td>\n",
       "      <td>-26.551424</td>\n",
       "      <td>Safe Republican</td>\n",
       "    </tr>\n",
       "    <tr>\n",
       "      <th>46</th>\n",
       "      <td>North Dakota</td>\n",
       "      <td>3</td>\n",
       "      <td>ND</td>\n",
       "      <td>116800.0</td>\n",
       "      <td>244484.0</td>\n",
       "      <td>11411.0</td>\n",
       "      <td>372695.0</td>\n",
       "      <td>0.313393</td>\n",
       "      <td>0.655989</td>\n",
       "      <td>gop</td>\n",
       "      <td>-34.259649</td>\n",
       "      <td>Safe Republican</td>\n",
       "    </tr>\n",
       "    <tr>\n",
       "      <th>47</th>\n",
       "      <td>Montana</td>\n",
       "      <td>3</td>\n",
       "      <td>MT</td>\n",
       "      <td>247391.0</td>\n",
       "      <td>349764.0</td>\n",
       "      <td>17587.0</td>\n",
       "      <td>614742.0</td>\n",
       "      <td>0.402431</td>\n",
       "      <td>0.568961</td>\n",
       "      <td>gop</td>\n",
       "      <td>-16.653002</td>\n",
       "      <td>Safe Republican</td>\n",
       "    </tr>\n",
       "    <tr>\n",
       "      <th>48</th>\n",
       "      <td>Delaware</td>\n",
       "      <td>3</td>\n",
       "      <td>DE</td>\n",
       "      <td>569039.0</td>\n",
       "      <td>178180.0</td>\n",
       "      <td>14122.0</td>\n",
       "      <td>761341.0</td>\n",
       "      <td>0.747417</td>\n",
       "      <td>0.234034</td>\n",
       "      <td>dem</td>\n",
       "      <td>51.338231</td>\n",
       "      <td>Safe Democrat</td>\n",
       "    </tr>\n",
       "    <tr>\n",
       "      <th>49</th>\n",
       "      <td>District of Columbia</td>\n",
       "      <td>3</td>\n",
       "      <td>DC</td>\n",
       "      <td>89704.0</td>\n",
       "      <td>50972.0</td>\n",
       "      <td>1928.0</td>\n",
       "      <td>142604.0</td>\n",
       "      <td>0.629043</td>\n",
       "      <td>0.357437</td>\n",
       "      <td>dem</td>\n",
       "      <td>27.160528</td>\n",
       "      <td>Safe Democrat</td>\n",
       "    </tr>\n",
       "  </tbody>\n",
       "</table>\n",
       "</div>"
      ],
      "text/plain": [
       "                   state  electoral_votes_number state_code   Votes_dem  \\\n",
       "0             California                      55         CA  11109764.0   \n",
       "1                  Texas                      38         TX   5255528.0   \n",
       "2               New York                      29         NY   5183357.0   \n",
       "3                Florida                      29         FL   5209125.0   \n",
       "4           Pennsylvania                      20         PA   3459766.0   \n",
       "5               Illinois                      20         IL   3466518.0   \n",
       "6                   Ohio                      18         OH   2678396.0   \n",
       "7               Michigan                      16         MI   2805505.0   \n",
       "8                Georgia                      16         GA   2530580.0   \n",
       "9         North Carolina                      15         NC   2645725.0   \n",
       "10            New Jersey                      14         NJ   2728284.0   \n",
       "11              Virginia                      13         VA   2407804.0   \n",
       "12            Washington                      12         WA   2369255.0   \n",
       "13             Tennessee                      11         TN   1135925.0   \n",
       "14         Massachusetts                      11         MA   2292350.0   \n",
       "15               Indiana                      11         IN   1240457.0   \n",
       "16               Arizona                      11         AZ   1672143.0   \n",
       "17             Wisconsin                      10         WI   1635436.0   \n",
       "18              Missouri                      10         MO   1250912.0   \n",
       "19             Minnesota                      10         MN   1721387.0   \n",
       "20              Maryland                      10         MD   2067859.0   \n",
       "21        South Carolina                       9         SC   1087757.0   \n",
       "22              Colorado                       9         CO   1804352.0   \n",
       "23               Alabama                       9         AL    849648.0   \n",
       "24             Louisiana                       8         LA    878208.0   \n",
       "25              Kentucky                       8         KY    776525.0   \n",
       "26                Oregon                       7         OR   1356244.0   \n",
       "27              Oklahoma                       7         OK    504849.0   \n",
       "28           Connecticut                       7         CT   1125232.0   \n",
       "29                  Utah                       6         UT    574892.0   \n",
       "30                Nevada                       6         NV    717329.0   \n",
       "31           Mississippi                       6         MS    535191.0   \n",
       "32                Kansas                       6         KS    558502.0   \n",
       "33                  Iowa                       6         IA    759422.0   \n",
       "34              Arkansas                       6         AR    423932.0   \n",
       "35         West Virginia                       5         WV    238856.0   \n",
       "36            New Mexico                       5         NM    407331.0   \n",
       "37              Nebraska                       5         NE    373421.0   \n",
       "38          Rhode Island                       4         RI    292261.0   \n",
       "39         New Hampshire                       4         NH    481835.0   \n",
       "40                 Maine                       4         ME    412014.0   \n",
       "41                 Idaho                       4         ID    175115.0   \n",
       "42                Hawaii                       4         HI    427938.0   \n",
       "43               Wyoming                       3         WY     64399.0   \n",
       "44               Vermont                       3         VT    235431.0   \n",
       "45          South Dakota                       3         SD    161895.0   \n",
       "46          North Dakota                       3         ND    116800.0   \n",
       "47               Montana                       3         MT    247391.0   \n",
       "48              Delaware                       3         DE    569039.0   \n",
       "49  District of Columbia                       3         DC     89704.0   \n",
       "\n",
       "    Votes_gop  Votes_other  Votes_total  Per_dem_2020  Per_gop_2020 Winner  \\\n",
       "0   6005961.0     380181.0   17495906.0      0.634992      0.343278    dem   \n",
       "1   5877932.0     168324.0   11301784.0      0.465018      0.520089    gop   \n",
       "2   3245205.0     119633.0    8548195.0      0.606369      0.379636    dem   \n",
       "3   5624329.0      99788.0   10933242.0      0.476448      0.514425    gop   \n",
       "4   3350485.0      86705.0    6896956.0      0.501637      0.485792    dem   \n",
       "5   2433357.0     119657.0    6019532.0      0.575878      0.404244    dem   \n",
       "6   3150549.0      88220.0    5917165.0      0.452649      0.532442    gop   \n",
       "7   2651262.0      85496.0    5542263.0      0.506202      0.478372    dem   \n",
       "8   2482181.0      64379.0    5077140.0      0.498426      0.488894    dem   \n",
       "9   2713698.0      80556.0    5439979.0      0.486348      0.498843    gop   \n",
       "10  1934971.0      78128.0    4741383.0      0.575419      0.408103    dem   \n",
       "11  1957165.0      84455.0    4449424.0      0.541150      0.439869    dem   \n",
       "12  1585860.0     133331.0    4088446.0      0.579500      0.387888    dem   \n",
       "13  1844401.0      57182.0    3037508.0      0.373966      0.607209    gop   \n",
       "14  1116739.0      79052.0    3488141.0      0.657184      0.320153    dem   \n",
       "15  1722083.0      60626.0    3023166.0      0.410317      0.569629    gop   \n",
       "16  1661686.0      53497.0    3387326.0      0.493647      0.490560    dem   \n",
       "17  1611282.0      57433.0    3304151.0      0.494964      0.487654    dem   \n",
       "18  1716246.0      54129.0    3021287.0      0.414033      0.568051    gop   \n",
       "19  1483503.0      76015.0    3280905.0      0.524668      0.452163    dem   \n",
       "20  1010839.0      78016.0    3156714.0      0.655067      0.320219    dem   \n",
       "21  1377940.0      36604.0    2502301.0      0.434703      0.550669    gop   \n",
       "22  1364607.0      87994.0    3256953.0      0.554000      0.418983    dem   \n",
       "23  1441168.0      32488.0    2323304.0      0.365707      0.620310    gop   \n",
       "24  1262448.0      37688.0    2178344.0      0.403154      0.579545    gop   \n",
       "25  1341966.0      37934.0    2156425.0      0.360098      0.622311    gop   \n",
       "26   988619.0      76240.0    2421103.0      0.560176      0.408334    dem   \n",
       "27  1022047.0      36627.0    1563523.0      0.322892      0.653682    gop   \n",
       "28   756300.0      29773.0    1911305.0      0.588724      0.395698    dem   \n",
       "29   868737.0      63582.0    1507211.0      0.381428      0.576387    gop   \n",
       "30   681417.0      32193.0    1430939.0      0.501299      0.476203    dem   \n",
       "31   757481.0      19083.0    1311755.0      0.407996      0.577456    gop   \n",
       "32   761221.0      32770.0    1352493.0      0.412943      0.562828    gop   \n",
       "33   898910.0      34204.0    1692536.0      0.448689      0.531102    gop   \n",
       "34   760647.0      34490.0    1219069.0      0.347751      0.623957    gop   \n",
       "35   547628.0      13309.0     799793.0      0.298647      0.684712    gop   \n",
       "36   336840.0      16305.0     760476.0      0.535626      0.442933    dem   \n",
       "37   556133.0      25062.0     954616.0      0.391174      0.582572    gop   \n",
       "38   198307.0       9833.0     500401.0      0.584054      0.396296    dem   \n",
       "39   409193.0      15390.0     906418.0      0.531581      0.451440    dem   \n",
       "40   351517.0      22143.0     785674.0      0.524408      0.447408    dem   \n",
       "41   447639.0      19489.0     642243.0      0.272662      0.696993    gop   \n",
       "42   300666.0      17440.0     746044.0      0.573610      0.403014    dem   \n",
       "43   184980.0       8769.0     258148.0      0.249465      0.716566    gop   \n",
       "44   115584.0      11353.0     362368.0      0.649701      0.318969    dem   \n",
       "45   283175.0      11704.0     456774.0      0.354431      0.619946    gop   \n",
       "46   244484.0      11411.0     372695.0      0.313393      0.655989    gop   \n",
       "47   349764.0      17587.0     614742.0      0.402431      0.568961    gop   \n",
       "48   178180.0      14122.0     761341.0      0.747417      0.234034    dem   \n",
       "49    50972.0       1928.0     142604.0      0.629043      0.357437    dem   \n",
       "\n",
       "    Difference             Status  \n",
       "0    29.171413      Safe Democrat  \n",
       "1    -5.507131  Likely Republican  \n",
       "2    22.673231      Safe Democrat  \n",
       "3    -3.797629  Likely Republican  \n",
       "4     1.584482            Toss-Up  \n",
       "5    17.163477      Safe Democrat  \n",
       "6    -7.979379  Likely Republican  \n",
       "7     2.783033    Likely Democrat  \n",
       "8     0.953273            Toss-Up  \n",
       "9    -1.249508            Toss-Up  \n",
       "10   16.731679      Safe Democrat  \n",
       "11   10.128030      Safe Democrat  \n",
       "12   19.161192      Safe Democrat  \n",
       "13  -23.324251    Safe Republican  \n",
       "14   33.703081      Safe Democrat  \n",
       "15  -15.931179    Safe Republican  \n",
       "16    0.308710            Toss-Up  \n",
       "17    0.731020            Toss-Up  \n",
       "18  -15.401847    Safe Republican  \n",
       "19    7.250560    Likely Democrat  \n",
       "20   33.484820      Safe Democrat  \n",
       "21  -11.596646    Safe Republican  \n",
       "22   13.501730      Safe Democrat  \n",
       "23  -25.460293    Safe Republican  \n",
       "24  -17.639087    Safe Republican  \n",
       "25  -26.221223    Safe Republican  \n",
       "26   15.184195      Safe Democrat  \n",
       "27  -33.079015    Safe Republican  \n",
       "28   19.302623      Safe Democrat  \n",
       "29  -19.495943    Safe Republican  \n",
       "30    2.509681    Likely Democrat  \n",
       "31  -16.946000    Safe Republican  \n",
       "32  -14.988543    Safe Republican  \n",
       "33   -8.241361  Likely Republican  \n",
       "34  -27.620668    Safe Republican  \n",
       "35  -38.606489    Safe Republican  \n",
       "36    9.269326    Likely Democrat  \n",
       "37  -19.139843    Safe Republican  \n",
       "38   18.775742      Safe Democrat  \n",
       "39    8.014183    Likely Democrat  \n",
       "40    7.700013    Likely Democrat  \n",
       "41  -42.433160    Safe Republican  \n",
       "42   17.059584      Safe Democrat  \n",
       "43  -46.710027    Safe Republican  \n",
       "44   33.073285      Safe Democrat  \n",
       "45  -26.551424    Safe Republican  \n",
       "46  -34.259649    Safe Republican  \n",
       "47  -16.653002    Safe Republican  \n",
       "48   51.338231      Safe Democrat  \n",
       "49   27.160528      Safe Democrat  "
      ]
     },
     "execution_count": 162,
     "metadata": {},
     "output_type": "execute_result"
    }
   ],
   "source": [
    "# Cargar datos electorales reales\n",
    "df_actual = pd.DataFrame({'Votes_dem': data_2020['votes_dem'], \n",
    "                            'Votes_gop': data_2020['total_votes'] - data_2020['votes_dem'] - data_2020['votes_others'], \n",
    "                            'Votes_other': data_2020['votes_others'],\n",
    "                            'Votes_total': data_2020['total_votes'], \n",
    "                            'state': state_names,\n",
    "                            'county': county_names,\n",
    "                            'fips': fips_codes})\n",
    "df_actual_state = df_actual.groupby('state').agg(Votes_dem=(f'Votes_dem', 'sum'), \n",
    "                                                    Votes_gop=(f'Votes_gop', 'sum'),\n",
    "                                                    Votes_other=(f'Votes_other', 'sum'),\n",
    "                                                    Votes_total=(f'Votes_total', 'sum'))\n",
    "\n",
    "df_actual_state[\"Per_dem_2020\"] = df_actual_state[\"Votes_dem\"] / df_actual_state[\"Votes_total\"]\n",
    "df_actual_state[\"Per_gop_2020\"] = df_actual_state[\"Votes_gop\"] / df_actual_state[\"Votes_total\"]\n",
    "\n",
    "# Añadir la columna \"Winner\" basado en los porcentajes predichos de Biden y Trump\n",
    "df_actual_state[\"Winner\"] = np.where(df_actual_state[\"Per_dem_2020\"] < df_actual_state[\"Per_gop_2020\"], 'gop', 'dem')\n",
    "\n",
    "\n",
    "full_df_actual_state = pd.merge(seats_data, df_actual_state, how='inner', on=[\"state\"])\n",
    "\n",
    "\n",
    "\n",
    "# Añadir diferencia entre Biden y Trump\n",
    "full_df_actual_state['Difference'] = (full_df_actual_state[\"Per_dem_2020\"] - full_df_actual_state[\"Per_gop_2020\"]) * 100\n",
    "\n",
    "\n",
    "# Definir las condiciones y los valores a asignar\n",
    "conditions = [\n",
    "    full_df_actual_state[\"Difference\"] > 10,\n",
    "    full_df_actual_state[\"Difference\"].between(2.5, 10),\n",
    "    full_df_actual_state[\"Difference\"].between(-2.5, 2.5),\n",
    "    full_df_actual_state[\"Difference\"].between(-10, -2.5),\n",
    "    full_df_actual_state[\"Difference\"] < -10\n",
    "]\n",
    "\n",
    "choices = [\n",
    "    \"Safe Democrat\",\n",
    "    \"Likely Democrat\",\n",
    "    \"Toss-Up\",\n",
    "    \"Likely Republican\",\n",
    "    \"Safe Republican\"\n",
    "]\n",
    "\n",
    "# Usar np.select para asignar el \"Status\" basado en las condiciones, con un valor por defecto \"Unknown\"\n",
    "full_df_actual_state[\"Status\"] = np.select(conditions, choices, default=\"Unknown\")\n",
    "\n",
    "full_df_actual_state_2020 = full_df_actual_state.copy()\n",
    "full_df_actual_state_2020"
   ]
  },
  {
   "cell_type": "code",
   "execution_count": 163,
   "metadata": {},
   "outputs": [],
   "source": [
    "# columns_to_drop = ['Total_2020', 'Other_2020', 'Winner_2020', \"Biden_2020\"]  # Nombres de las columnas a eliminar\n",
    "columns_to_drop = [\"votes_dem\", \"total_votes\", \"votes_others\", \"per_votes_others\", \"winner\"]  # Nombres de las columnas a eliminar\n",
    "\n",
    "data_2020 = data_2020.drop(columns=columns_to_drop)"
   ]
  },
  {
   "cell_type": "markdown",
   "metadata": {},
   "source": [
    "### Historical data"
   ]
  },
  {
   "cell_type": "code",
   "execution_count": 164,
   "metadata": {},
   "outputs": [
    {
     "name": "stdout",
     "output_type": "stream",
     "text": [
      "2016 Columns: Index(['state', 'electoral_votes_number', 'state_code', 'Votes_dem',\n",
      "       'Votes_gop', 'Votes_other', 'Votes_total', 'Per_dem_2016',\n",
      "       'Per_gop_2016', 'Winner', 'Difference', 'Status'],\n",
      "      dtype='object')\n",
      "2020 Columns: Index(['state', 'electoral_votes_number', 'state_code', 'Votes_dem',\n",
      "       'Votes_gop', 'Votes_other', 'Votes_total', 'Per_dem_2020',\n",
      "       'Per_gop_2020', 'Winner', 'Difference', 'Status'],\n",
      "      dtype='object')\n"
     ]
    }
   ],
   "source": [
    "# Revisar nombres de columnas\n",
    "print(\"2016 Columns:\", full_df_actual_state_2016.columns)\n",
    "print(\"2020 Columns:\", full_df_actual_state_2020.columns)"
   ]
  },
  {
   "cell_type": "code",
   "execution_count": 165,
   "metadata": {},
   "outputs": [
    {
     "data": {
      "text/html": [
       "<div>\n",
       "<style scoped>\n",
       "    .dataframe tbody tr th:only-of-type {\n",
       "        vertical-align: middle;\n",
       "    }\n",
       "\n",
       "    .dataframe tbody tr th {\n",
       "        vertical-align: top;\n",
       "    }\n",
       "\n",
       "    .dataframe thead th {\n",
       "        text-align: right;\n",
       "    }\n",
       "</style>\n",
       "<table border=\"1\" class=\"dataframe\">\n",
       "  <thead>\n",
       "    <tr style=\"text-align: right;\">\n",
       "      <th></th>\n",
       "      <th>state</th>\n",
       "      <th>per_dem_2016</th>\n",
       "      <th>per_gop_2016</th>\n",
       "      <th>per_dem_2020</th>\n",
       "      <th>per_gop_2020</th>\n",
       "      <th>swing_dem</th>\n",
       "      <th>swing_gop</th>\n",
       "    </tr>\n",
       "  </thead>\n",
       "  <tbody>\n",
       "    <tr>\n",
       "      <th>0</th>\n",
       "      <td>California</td>\n",
       "      <td>0.615885</td>\n",
       "      <td>0.327598</td>\n",
       "      <td>0.634992</td>\n",
       "      <td>0.343278</td>\n",
       "      <td>0.019107</td>\n",
       "      <td>0.015680</td>\n",
       "    </tr>\n",
       "    <tr>\n",
       "      <th>1</th>\n",
       "      <td>Texas</td>\n",
       "      <td>0.433735</td>\n",
       "      <td>0.524651</td>\n",
       "      <td>0.465018</td>\n",
       "      <td>0.520089</td>\n",
       "      <td>0.031282</td>\n",
       "      <td>-0.004563</td>\n",
       "    </tr>\n",
       "    <tr>\n",
       "      <th>2</th>\n",
       "      <td>New York</td>\n",
       "      <td>0.586157</td>\n",
       "      <td>0.377172</td>\n",
       "      <td>0.606369</td>\n",
       "      <td>0.379636</td>\n",
       "      <td>0.020212</td>\n",
       "      <td>0.002465</td>\n",
       "    </tr>\n",
       "    <tr>\n",
       "      <th>3</th>\n",
       "      <td>Florida</td>\n",
       "      <td>0.476133</td>\n",
       "      <td>0.492603</td>\n",
       "      <td>0.476448</td>\n",
       "      <td>0.514425</td>\n",
       "      <td>0.000316</td>\n",
       "      <td>0.021822</td>\n",
       "    </tr>\n",
       "    <tr>\n",
       "      <th>4</th>\n",
       "      <td>Pennsylvania</td>\n",
       "      <td>0.467987</td>\n",
       "      <td>0.496131</td>\n",
       "      <td>0.501637</td>\n",
       "      <td>0.485792</td>\n",
       "      <td>0.033650</td>\n",
       "      <td>-0.010339</td>\n",
       "    </tr>\n",
       "    <tr>\n",
       "      <th>5</th>\n",
       "      <td>Illinois</td>\n",
       "      <td>0.555063</td>\n",
       "      <td>0.393067</td>\n",
       "      <td>0.575878</td>\n",
       "      <td>0.404244</td>\n",
       "      <td>0.020815</td>\n",
       "      <td>0.011177</td>\n",
       "    </tr>\n",
       "    <tr>\n",
       "      <th>6</th>\n",
       "      <td>Ohio</td>\n",
       "      <td>0.436396</td>\n",
       "      <td>0.519164</td>\n",
       "      <td>0.452649</td>\n",
       "      <td>0.532442</td>\n",
       "      <td>0.016252</td>\n",
       "      <td>0.013278</td>\n",
       "    </tr>\n",
       "    <tr>\n",
       "      <th>7</th>\n",
       "      <td>Michigan</td>\n",
       "      <td>0.473432</td>\n",
       "      <td>0.475836</td>\n",
       "      <td>0.506202</td>\n",
       "      <td>0.478372</td>\n",
       "      <td>0.032770</td>\n",
       "      <td>0.002536</td>\n",
       "    </tr>\n",
       "    <tr>\n",
       "      <th>8</th>\n",
       "      <td>Georgia</td>\n",
       "      <td>0.459244</td>\n",
       "      <td>0.509032</td>\n",
       "      <td>0.498426</td>\n",
       "      <td>0.488894</td>\n",
       "      <td>0.039183</td>\n",
       "      <td>-0.020139</td>\n",
       "    </tr>\n",
       "    <tr>\n",
       "      <th>9</th>\n",
       "      <td>North Carolina</td>\n",
       "      <td>0.468461</td>\n",
       "      <td>0.503798</td>\n",
       "      <td>0.486348</td>\n",
       "      <td>0.498843</td>\n",
       "      <td>0.017887</td>\n",
       "      <td>-0.004954</td>\n",
       "    </tr>\n",
       "    <tr>\n",
       "      <th>10</th>\n",
       "      <td>New Jersey</td>\n",
       "      <td>0.549719</td>\n",
       "      <td>0.410676</td>\n",
       "      <td>0.575419</td>\n",
       "      <td>0.408103</td>\n",
       "      <td>0.025701</td>\n",
       "      <td>-0.002573</td>\n",
       "    </tr>\n",
       "    <tr>\n",
       "      <th>11</th>\n",
       "      <td>Virginia</td>\n",
       "      <td>0.493737</td>\n",
       "      <td>0.454215</td>\n",
       "      <td>0.541150</td>\n",
       "      <td>0.439869</td>\n",
       "      <td>0.047412</td>\n",
       "      <td>-0.014345</td>\n",
       "    </tr>\n",
       "    <tr>\n",
       "      <th>12</th>\n",
       "      <td>Washington</td>\n",
       "      <td>0.546850</td>\n",
       "      <td>0.379868</td>\n",
       "      <td>0.579500</td>\n",
       "      <td>0.387888</td>\n",
       "      <td>0.032650</td>\n",
       "      <td>0.008020</td>\n",
       "    </tr>\n",
       "    <tr>\n",
       "      <th>13</th>\n",
       "      <td>Tennessee</td>\n",
       "      <td>0.348074</td>\n",
       "      <td>0.611980</td>\n",
       "      <td>0.373966</td>\n",
       "      <td>0.607209</td>\n",
       "      <td>0.025892</td>\n",
       "      <td>-0.004771</td>\n",
       "    </tr>\n",
       "    <tr>\n",
       "      <th>14</th>\n",
       "      <td>Massachusetts</td>\n",
       "      <td>0.610255</td>\n",
       "      <td>0.332822</td>\n",
       "      <td>0.657184</td>\n",
       "      <td>0.320153</td>\n",
       "      <td>0.046929</td>\n",
       "      <td>-0.012669</td>\n",
       "    </tr>\n",
       "    <tr>\n",
       "      <th>15</th>\n",
       "      <td>Indiana</td>\n",
       "      <td>0.379791</td>\n",
       "      <td>0.571020</td>\n",
       "      <td>0.410317</td>\n",
       "      <td>0.569629</td>\n",
       "      <td>0.030526</td>\n",
       "      <td>-0.001391</td>\n",
       "    </tr>\n",
       "    <tr>\n",
       "      <th>16</th>\n",
       "      <td>Arizona</td>\n",
       "      <td>0.453871</td>\n",
       "      <td>0.495031</td>\n",
       "      <td>0.493647</td>\n",
       "      <td>0.490560</td>\n",
       "      <td>0.039776</td>\n",
       "      <td>-0.004471</td>\n",
       "    </tr>\n",
       "    <tr>\n",
       "      <th>17</th>\n",
       "      <td>Wisconsin</td>\n",
       "      <td>0.468520</td>\n",
       "      <td>0.478932</td>\n",
       "      <td>0.494964</td>\n",
       "      <td>0.487654</td>\n",
       "      <td>0.026444</td>\n",
       "      <td>0.008722</td>\n",
       "    </tr>\n",
       "    <tr>\n",
       "      <th>18</th>\n",
       "      <td>Missouri</td>\n",
       "      <td>0.380017</td>\n",
       "      <td>0.571547</td>\n",
       "      <td>0.414033</td>\n",
       "      <td>0.568051</td>\n",
       "      <td>0.034016</td>\n",
       "      <td>-0.003495</td>\n",
       "    </tr>\n",
       "    <tr>\n",
       "      <th>19</th>\n",
       "      <td>Minnesota</td>\n",
       "      <td>0.469428</td>\n",
       "      <td>0.452999</td>\n",
       "      <td>0.524668</td>\n",
       "      <td>0.452163</td>\n",
       "      <td>0.055241</td>\n",
       "      <td>-0.000836</td>\n",
       "    </tr>\n",
       "    <tr>\n",
       "      <th>20</th>\n",
       "      <td>Maryland</td>\n",
       "      <td>0.605922</td>\n",
       "      <td>0.351811</td>\n",
       "      <td>0.655067</td>\n",
       "      <td>0.320219</td>\n",
       "      <td>0.049145</td>\n",
       "      <td>-0.031592</td>\n",
       "    </tr>\n",
       "    <tr>\n",
       "      <th>21</th>\n",
       "      <td>South Carolina</td>\n",
       "      <td>0.409831</td>\n",
       "      <td>0.546212</td>\n",
       "      <td>0.434703</td>\n",
       "      <td>0.550669</td>\n",
       "      <td>0.024871</td>\n",
       "      <td>0.004457</td>\n",
       "    </tr>\n",
       "    <tr>\n",
       "      <th>22</th>\n",
       "      <td>Colorado</td>\n",
       "      <td>0.472746</td>\n",
       "      <td>0.443593</td>\n",
       "      <td>0.554000</td>\n",
       "      <td>0.418983</td>\n",
       "      <td>0.081254</td>\n",
       "      <td>-0.024610</td>\n",
       "    </tr>\n",
       "    <tr>\n",
       "      <th>23</th>\n",
       "      <td>Alabama</td>\n",
       "      <td>0.345538</td>\n",
       "      <td>0.628884</td>\n",
       "      <td>0.365707</td>\n",
       "      <td>0.620310</td>\n",
       "      <td>0.020169</td>\n",
       "      <td>-0.008574</td>\n",
       "    </tr>\n",
       "    <tr>\n",
       "      <th>24</th>\n",
       "      <td>Louisiana</td>\n",
       "      <td>0.387643</td>\n",
       "      <td>0.576467</td>\n",
       "      <td>0.403154</td>\n",
       "      <td>0.579545</td>\n",
       "      <td>0.015511</td>\n",
       "      <td>0.003078</td>\n",
       "    </tr>\n",
       "    <tr>\n",
       "      <th>25</th>\n",
       "      <td>Kentucky</td>\n",
       "      <td>0.326134</td>\n",
       "      <td>0.627114</td>\n",
       "      <td>0.360098</td>\n",
       "      <td>0.622311</td>\n",
       "      <td>0.033964</td>\n",
       "      <td>-0.004803</td>\n",
       "    </tr>\n",
       "    <tr>\n",
       "      <th>26</th>\n",
       "      <td>Oregon</td>\n",
       "      <td>0.524173</td>\n",
       "      <td>0.413956</td>\n",
       "      <td>0.560176</td>\n",
       "      <td>0.408334</td>\n",
       "      <td>0.036003</td>\n",
       "      <td>-0.005622</td>\n",
       "    </tr>\n",
       "    <tr>\n",
       "      <th>27</th>\n",
       "      <td>Oklahoma</td>\n",
       "      <td>0.299662</td>\n",
       "      <td>0.641839</td>\n",
       "      <td>0.322892</td>\n",
       "      <td>0.653682</td>\n",
       "      <td>0.023230</td>\n",
       "      <td>0.011843</td>\n",
       "    </tr>\n",
       "    <tr>\n",
       "      <th>28</th>\n",
       "      <td>Connecticut</td>\n",
       "      <td>0.540571</td>\n",
       "      <td>0.415395</td>\n",
       "      <td>0.588724</td>\n",
       "      <td>0.395698</td>\n",
       "      <td>0.048153</td>\n",
       "      <td>-0.019696</td>\n",
       "    </tr>\n",
       "    <tr>\n",
       "      <th>29</th>\n",
       "      <td>Utah</td>\n",
       "      <td>0.330256</td>\n",
       "      <td>0.433262</td>\n",
       "      <td>0.381428</td>\n",
       "      <td>0.576387</td>\n",
       "      <td>0.051172</td>\n",
       "      <td>0.143125</td>\n",
       "    </tr>\n",
       "    <tr>\n",
       "      <th>30</th>\n",
       "      <td>Nevada</td>\n",
       "      <td>0.478504</td>\n",
       "      <td>0.456791</td>\n",
       "      <td>0.501299</td>\n",
       "      <td>0.476203</td>\n",
       "      <td>0.022796</td>\n",
       "      <td>0.019412</td>\n",
       "    </tr>\n",
       "    <tr>\n",
       "      <th>31</th>\n",
       "      <td>Mississippi</td>\n",
       "      <td>0.395013</td>\n",
       "      <td>0.585188</td>\n",
       "      <td>0.407996</td>\n",
       "      <td>0.577456</td>\n",
       "      <td>0.012983</td>\n",
       "      <td>-0.007732</td>\n",
       "    </tr>\n",
       "    <tr>\n",
       "      <th>32</th>\n",
       "      <td>Kansas</td>\n",
       "      <td>0.360602</td>\n",
       "      <td>0.573077</td>\n",
       "      <td>0.412943</td>\n",
       "      <td>0.562828</td>\n",
       "      <td>0.052340</td>\n",
       "      <td>-0.010249</td>\n",
       "    </tr>\n",
       "    <tr>\n",
       "      <th>33</th>\n",
       "      <td>Iowa</td>\n",
       "      <td>0.421553</td>\n",
       "      <td>0.518016</td>\n",
       "      <td>0.448689</td>\n",
       "      <td>0.531102</td>\n",
       "      <td>0.027136</td>\n",
       "      <td>0.013086</td>\n",
       "    </tr>\n",
       "    <tr>\n",
       "      <th>34</th>\n",
       "      <td>Arkansas</td>\n",
       "      <td>0.341624</td>\n",
       "      <td>0.611487</td>\n",
       "      <td>0.347751</td>\n",
       "      <td>0.623957</td>\n",
       "      <td>0.006127</td>\n",
       "      <td>0.012470</td>\n",
       "    </tr>\n",
       "    <tr>\n",
       "      <th>35</th>\n",
       "      <td>West Virginia</td>\n",
       "      <td>0.297917</td>\n",
       "      <td>0.652848</td>\n",
       "      <td>0.298647</td>\n",
       "      <td>0.684712</td>\n",
       "      <td>0.000730</td>\n",
       "      <td>0.031864</td>\n",
       "    </tr>\n",
       "    <tr>\n",
       "      <th>36</th>\n",
       "      <td>New Mexico</td>\n",
       "      <td>0.485608</td>\n",
       "      <td>0.422765</td>\n",
       "      <td>0.535626</td>\n",
       "      <td>0.442933</td>\n",
       "      <td>0.050019</td>\n",
       "      <td>0.020168</td>\n",
       "    </tr>\n",
       "    <tr>\n",
       "      <th>37</th>\n",
       "      <td>Nebraska</td>\n",
       "      <td>0.339551</td>\n",
       "      <td>0.602988</td>\n",
       "      <td>0.391174</td>\n",
       "      <td>0.582572</td>\n",
       "      <td>0.051623</td>\n",
       "      <td>-0.020416</td>\n",
       "    </tr>\n",
       "    <tr>\n",
       "      <th>38</th>\n",
       "      <td>Rhode Island</td>\n",
       "      <td>0.526222</td>\n",
       "      <td>0.429215</td>\n",
       "      <td>0.584054</td>\n",
       "      <td>0.396296</td>\n",
       "      <td>0.057831</td>\n",
       "      <td>-0.032919</td>\n",
       "    </tr>\n",
       "    <tr>\n",
       "      <th>39</th>\n",
       "      <td>New Hampshire</td>\n",
       "      <td>0.505938</td>\n",
       "      <td>0.451695</td>\n",
       "      <td>0.531581</td>\n",
       "      <td>0.451440</td>\n",
       "      <td>0.025644</td>\n",
       "      <td>-0.000255</td>\n",
       "    </tr>\n",
       "    <tr>\n",
       "      <th>40</th>\n",
       "      <td>Maine</td>\n",
       "      <td>0.474169</td>\n",
       "      <td>0.457518</td>\n",
       "      <td>0.524408</td>\n",
       "      <td>0.447408</td>\n",
       "      <td>0.050240</td>\n",
       "      <td>-0.010109</td>\n",
       "    </tr>\n",
       "    <tr>\n",
       "      <th>41</th>\n",
       "      <td>Idaho</td>\n",
       "      <td>0.231941</td>\n",
       "      <td>0.641059</td>\n",
       "      <td>0.272662</td>\n",
       "      <td>0.696993</td>\n",
       "      <td>0.040721</td>\n",
       "      <td>0.055934</td>\n",
       "    </tr>\n",
       "    <tr>\n",
       "      <th>42</th>\n",
       "      <td>Hawaii</td>\n",
       "      <td>0.538373</td>\n",
       "      <td>0.366480</td>\n",
       "      <td>0.573610</td>\n",
       "      <td>0.403014</td>\n",
       "      <td>0.035237</td>\n",
       "      <td>0.036533</td>\n",
       "    </tr>\n",
       "    <tr>\n",
       "      <th>43</th>\n",
       "      <td>Wyoming</td>\n",
       "      <td>0.229940</td>\n",
       "      <td>0.696356</td>\n",
       "      <td>0.249465</td>\n",
       "      <td>0.716566</td>\n",
       "      <td>0.019526</td>\n",
       "      <td>0.020209</td>\n",
       "    </tr>\n",
       "    <tr>\n",
       "      <th>44</th>\n",
       "      <td>Vermont</td>\n",
       "      <td>0.544611</td>\n",
       "      <td>0.396819</td>\n",
       "      <td>0.649701</td>\n",
       "      <td>0.318969</td>\n",
       "      <td>0.105091</td>\n",
       "      <td>-0.077850</td>\n",
       "    </tr>\n",
       "    <tr>\n",
       "      <th>45</th>\n",
       "      <td>South Dakota</td>\n",
       "      <td>0.308430</td>\n",
       "      <td>0.627325</td>\n",
       "      <td>0.354431</td>\n",
       "      <td>0.619946</td>\n",
       "      <td>0.046001</td>\n",
       "      <td>-0.007379</td>\n",
       "    </tr>\n",
       "    <tr>\n",
       "      <th>46</th>\n",
       "      <td>North Dakota</td>\n",
       "      <td>0.276589</td>\n",
       "      <td>0.648293</td>\n",
       "      <td>0.313393</td>\n",
       "      <td>0.655989</td>\n",
       "      <td>0.036804</td>\n",
       "      <td>0.007696</td>\n",
       "    </tr>\n",
       "    <tr>\n",
       "      <th>47</th>\n",
       "      <td>Montana</td>\n",
       "      <td>0.359051</td>\n",
       "      <td>0.569191</td>\n",
       "      <td>0.402431</td>\n",
       "      <td>0.568961</td>\n",
       "      <td>0.043380</td>\n",
       "      <td>-0.000231</td>\n",
       "    </tr>\n",
       "    <tr>\n",
       "      <th>48</th>\n",
       "      <td>Delaware</td>\n",
       "      <td>0.714160</td>\n",
       "      <td>0.246569</td>\n",
       "      <td>0.747417</td>\n",
       "      <td>0.234034</td>\n",
       "      <td>0.033257</td>\n",
       "      <td>-0.012535</td>\n",
       "    </tr>\n",
       "    <tr>\n",
       "      <th>49</th>\n",
       "      <td>District of Columbia</td>\n",
       "      <td>0.589625</td>\n",
       "      <td>0.364430</td>\n",
       "      <td>0.629043</td>\n",
       "      <td>0.357437</td>\n",
       "      <td>0.039418</td>\n",
       "      <td>-0.006993</td>\n",
       "    </tr>\n",
       "  </tbody>\n",
       "</table>\n",
       "</div>"
      ],
      "text/plain": [
       "                   state  per_dem_2016  per_gop_2016  per_dem_2020  \\\n",
       "0             California      0.615885      0.327598      0.634992   \n",
       "1                  Texas      0.433735      0.524651      0.465018   \n",
       "2               New York      0.586157      0.377172      0.606369   \n",
       "3                Florida      0.476133      0.492603      0.476448   \n",
       "4           Pennsylvania      0.467987      0.496131      0.501637   \n",
       "5               Illinois      0.555063      0.393067      0.575878   \n",
       "6                   Ohio      0.436396      0.519164      0.452649   \n",
       "7               Michigan      0.473432      0.475836      0.506202   \n",
       "8                Georgia      0.459244      0.509032      0.498426   \n",
       "9         North Carolina      0.468461      0.503798      0.486348   \n",
       "10            New Jersey      0.549719      0.410676      0.575419   \n",
       "11              Virginia      0.493737      0.454215      0.541150   \n",
       "12            Washington      0.546850      0.379868      0.579500   \n",
       "13             Tennessee      0.348074      0.611980      0.373966   \n",
       "14         Massachusetts      0.610255      0.332822      0.657184   \n",
       "15               Indiana      0.379791      0.571020      0.410317   \n",
       "16               Arizona      0.453871      0.495031      0.493647   \n",
       "17             Wisconsin      0.468520      0.478932      0.494964   \n",
       "18              Missouri      0.380017      0.571547      0.414033   \n",
       "19             Minnesota      0.469428      0.452999      0.524668   \n",
       "20              Maryland      0.605922      0.351811      0.655067   \n",
       "21        South Carolina      0.409831      0.546212      0.434703   \n",
       "22              Colorado      0.472746      0.443593      0.554000   \n",
       "23               Alabama      0.345538      0.628884      0.365707   \n",
       "24             Louisiana      0.387643      0.576467      0.403154   \n",
       "25              Kentucky      0.326134      0.627114      0.360098   \n",
       "26                Oregon      0.524173      0.413956      0.560176   \n",
       "27              Oklahoma      0.299662      0.641839      0.322892   \n",
       "28           Connecticut      0.540571      0.415395      0.588724   \n",
       "29                  Utah      0.330256      0.433262      0.381428   \n",
       "30                Nevada      0.478504      0.456791      0.501299   \n",
       "31           Mississippi      0.395013      0.585188      0.407996   \n",
       "32                Kansas      0.360602      0.573077      0.412943   \n",
       "33                  Iowa      0.421553      0.518016      0.448689   \n",
       "34              Arkansas      0.341624      0.611487      0.347751   \n",
       "35         West Virginia      0.297917      0.652848      0.298647   \n",
       "36            New Mexico      0.485608      0.422765      0.535626   \n",
       "37              Nebraska      0.339551      0.602988      0.391174   \n",
       "38          Rhode Island      0.526222      0.429215      0.584054   \n",
       "39         New Hampshire      0.505938      0.451695      0.531581   \n",
       "40                 Maine      0.474169      0.457518      0.524408   \n",
       "41                 Idaho      0.231941      0.641059      0.272662   \n",
       "42                Hawaii      0.538373      0.366480      0.573610   \n",
       "43               Wyoming      0.229940      0.696356      0.249465   \n",
       "44               Vermont      0.544611      0.396819      0.649701   \n",
       "45          South Dakota      0.308430      0.627325      0.354431   \n",
       "46          North Dakota      0.276589      0.648293      0.313393   \n",
       "47               Montana      0.359051      0.569191      0.402431   \n",
       "48              Delaware      0.714160      0.246569      0.747417   \n",
       "49  District of Columbia      0.589625      0.364430      0.629043   \n",
       "\n",
       "    per_gop_2020  swing_dem  swing_gop  \n",
       "0       0.343278   0.019107   0.015680  \n",
       "1       0.520089   0.031282  -0.004563  \n",
       "2       0.379636   0.020212   0.002465  \n",
       "3       0.514425   0.000316   0.021822  \n",
       "4       0.485792   0.033650  -0.010339  \n",
       "5       0.404244   0.020815   0.011177  \n",
       "6       0.532442   0.016252   0.013278  \n",
       "7       0.478372   0.032770   0.002536  \n",
       "8       0.488894   0.039183  -0.020139  \n",
       "9       0.498843   0.017887  -0.004954  \n",
       "10      0.408103   0.025701  -0.002573  \n",
       "11      0.439869   0.047412  -0.014345  \n",
       "12      0.387888   0.032650   0.008020  \n",
       "13      0.607209   0.025892  -0.004771  \n",
       "14      0.320153   0.046929  -0.012669  \n",
       "15      0.569629   0.030526  -0.001391  \n",
       "16      0.490560   0.039776  -0.004471  \n",
       "17      0.487654   0.026444   0.008722  \n",
       "18      0.568051   0.034016  -0.003495  \n",
       "19      0.452163   0.055241  -0.000836  \n",
       "20      0.320219   0.049145  -0.031592  \n",
       "21      0.550669   0.024871   0.004457  \n",
       "22      0.418983   0.081254  -0.024610  \n",
       "23      0.620310   0.020169  -0.008574  \n",
       "24      0.579545   0.015511   0.003078  \n",
       "25      0.622311   0.033964  -0.004803  \n",
       "26      0.408334   0.036003  -0.005622  \n",
       "27      0.653682   0.023230   0.011843  \n",
       "28      0.395698   0.048153  -0.019696  \n",
       "29      0.576387   0.051172   0.143125  \n",
       "30      0.476203   0.022796   0.019412  \n",
       "31      0.577456   0.012983  -0.007732  \n",
       "32      0.562828   0.052340  -0.010249  \n",
       "33      0.531102   0.027136   0.013086  \n",
       "34      0.623957   0.006127   0.012470  \n",
       "35      0.684712   0.000730   0.031864  \n",
       "36      0.442933   0.050019   0.020168  \n",
       "37      0.582572   0.051623  -0.020416  \n",
       "38      0.396296   0.057831  -0.032919  \n",
       "39      0.451440   0.025644  -0.000255  \n",
       "40      0.447408   0.050240  -0.010109  \n",
       "41      0.696993   0.040721   0.055934  \n",
       "42      0.403014   0.035237   0.036533  \n",
       "43      0.716566   0.019526   0.020209  \n",
       "44      0.318969   0.105091  -0.077850  \n",
       "45      0.619946   0.046001  -0.007379  \n",
       "46      0.655989   0.036804   0.007696  \n",
       "47      0.568961   0.043380  -0.000231  \n",
       "48      0.234034   0.033257  -0.012535  \n",
       "49      0.357437   0.039418  -0.006993  "
      ]
     },
     "execution_count": 165,
     "metadata": {},
     "output_type": "execute_result"
    }
   ],
   "source": [
    "# Combinar ambos años en historical_data usando \"state\"\n",
    "historical_data = full_df_actual_state_2016[['state', 'Per_dem_2016', 'Per_gop_2016']].rename(\n",
    "    columns={\"Per_dem_2016\": \"per_dem_2016\", \"Per_gop_2016\": \"per_gop_2016\"}\n",
    ").merge(\n",
    "    full_df_actual_state_2020[['state', 'Per_dem_2020', 'Per_gop_2020']].rename(\n",
    "        columns={\"Per_dem_2020\": \"per_dem_2020\", \"Per_gop_2020\": \"per_gop_2020\"}\n",
    "    ),\n",
    "    on=\"state\",\n",
    "    how=\"inner\"\n",
    ")\n",
    "\n",
    "# Calcular la diferencia en porcentaje de votos entre 2016 y 2020\n",
    "historical_data[\"swing_dem\"] = historical_data[\"per_dem_2020\"] - historical_data[\"per_dem_2016\"]\n",
    "historical_data[\"swing_gop\"] = historical_data[\"per_gop_2020\"] - historical_data[\"per_gop_2016\"]\n",
    "\n",
    "historical_data"
   ]
  },
  {
   "cell_type": "markdown",
   "metadata": {},
   "source": [
    "### 2024"
   ]
  },
  {
   "cell_type": "code",
   "execution_count": 166,
   "metadata": {},
   "outputs": [],
   "source": [
    "# Cargar datos\n",
    "data = read_csv(f\"data/final_data_{ELECTORAL_YEAR}.csv\")\n",
    "\n",
    "# Crear data para simulación\n",
    "# columns_to_drop = ['Total_2020', 'Other_2020', 'Winner_2020', \"Biden_2020\"]  # Nombres de las columnas a eliminar\n",
    "columns_to_drop = [\"votes_dem\", \"total_votes\", \"votes_others\", \"per_votes_others\", \"winner\"]  # Nombres de las columnas a eliminar\n",
    "\n",
    "data_sim = data.drop(columns=columns_to_drop)"
   ]
  },
  {
   "cell_type": "code",
   "execution_count": 167,
   "metadata": {},
   "outputs": [
    {
     "data": {
      "text/html": [
       "<div>\n",
       "<style scoped>\n",
       "    .dataframe tbody tr th:only-of-type {\n",
       "        vertical-align: middle;\n",
       "    }\n",
       "\n",
       "    .dataframe tbody tr th {\n",
       "        vertical-align: top;\n",
       "    }\n",
       "\n",
       "    .dataframe thead th {\n",
       "        text-align: right;\n",
       "    }\n",
       "</style>\n",
       "<table border=\"1\" class=\"dataframe\">\n",
       "  <thead>\n",
       "    <tr style=\"text-align: right;\">\n",
       "      <th></th>\n",
       "      <th>state</th>\n",
       "      <th>electoral_votes_number</th>\n",
       "      <th>state_code</th>\n",
       "      <th>Votes_dem</th>\n",
       "      <th>Votes_gop</th>\n",
       "      <th>Votes_other</th>\n",
       "      <th>Votes_total</th>\n",
       "      <th>Per_dem</th>\n",
       "      <th>Per_gop</th>\n",
       "      <th>Winner</th>\n",
       "      <th>Difference</th>\n",
       "      <th>Status</th>\n",
       "    </tr>\n",
       "  </thead>\n",
       "  <tbody>\n",
       "    <tr>\n",
       "      <th>0</th>\n",
       "      <td>California</td>\n",
       "      <td>55</td>\n",
       "      <td>CA</td>\n",
       "      <td>9276179.0</td>\n",
       "      <td>6081697.0</td>\n",
       "      <td>504660.0</td>\n",
       "      <td>15862536.0</td>\n",
       "      <td>0.584785</td>\n",
       "      <td>0.383400</td>\n",
       "      <td>dem</td>\n",
       "      <td>20.138533</td>\n",
       "      <td>Safe Democrat</td>\n",
       "    </tr>\n",
       "    <tr>\n",
       "      <th>1</th>\n",
       "      <td>Texas</td>\n",
       "      <td>38</td>\n",
       "      <td>TX</td>\n",
       "      <td>4835250.0</td>\n",
       "      <td>6393597.0</td>\n",
       "      <td>151258.0</td>\n",
       "      <td>11380105.0</td>\n",
       "      <td>0.424886</td>\n",
       "      <td>0.561822</td>\n",
       "      <td>gop</td>\n",
       "      <td>-13.693608</td>\n",
       "      <td>Safe Republican</td>\n",
       "    </tr>\n",
       "    <tr>\n",
       "      <th>2</th>\n",
       "      <td>New York</td>\n",
       "      <td>29</td>\n",
       "      <td>NY</td>\n",
       "      <td>4619195.0</td>\n",
       "      <td>3578899.0</td>\n",
       "      <td>0.0</td>\n",
       "      <td>8198094.0</td>\n",
       "      <td>0.563447</td>\n",
       "      <td>0.436553</td>\n",
       "      <td>dem</td>\n",
       "      <td>12.689486</td>\n",
       "      <td>Safe Democrat</td>\n",
       "    </tr>\n",
       "    <tr>\n",
       "      <th>3</th>\n",
       "      <td>Florida</td>\n",
       "      <td>29</td>\n",
       "      <td>FL</td>\n",
       "      <td>4683038.0</td>\n",
       "      <td>6110125.0</td>\n",
       "      <td>100384.0</td>\n",
       "      <td>10893547.0</td>\n",
       "      <td>0.429891</td>\n",
       "      <td>0.560894</td>\n",
       "      <td>gop</td>\n",
       "      <td>-13.100297</td>\n",
       "      <td>Safe Republican</td>\n",
       "    </tr>\n",
       "    <tr>\n",
       "      <th>4</th>\n",
       "      <td>Pennsylvania</td>\n",
       "      <td>20</td>\n",
       "      <td>PA</td>\n",
       "      <td>3423042.0</td>\n",
       "      <td>3543308.0</td>\n",
       "      <td>67856.0</td>\n",
       "      <td>7034206.0</td>\n",
       "      <td>0.486628</td>\n",
       "      <td>0.503725</td>\n",
       "      <td>gop</td>\n",
       "      <td>-1.709731</td>\n",
       "      <td>Toss-Up</td>\n",
       "    </tr>\n",
       "    <tr>\n",
       "      <th>5</th>\n",
       "      <td>Illinois</td>\n",
       "      <td>20</td>\n",
       "      <td>IL</td>\n",
       "      <td>3062863.0</td>\n",
       "      <td>2449079.0</td>\n",
       "      <td>80426.0</td>\n",
       "      <td>5592368.0</td>\n",
       "      <td>0.547686</td>\n",
       "      <td>0.437932</td>\n",
       "      <td>dem</td>\n",
       "      <td>10.975386</td>\n",
       "      <td>Safe Democrat</td>\n",
       "    </tr>\n",
       "    <tr>\n",
       "      <th>6</th>\n",
       "      <td>Ohio</td>\n",
       "      <td>18</td>\n",
       "      <td>OH</td>\n",
       "      <td>2533699.0</td>\n",
       "      <td>3180116.0</td>\n",
       "      <td>51202.0</td>\n",
       "      <td>5765017.0</td>\n",
       "      <td>0.439495</td>\n",
       "      <td>0.551623</td>\n",
       "      <td>gop</td>\n",
       "      <td>-11.212751</td>\n",
       "      <td>Safe Republican</td>\n",
       "    </tr>\n",
       "    <tr>\n",
       "      <th>7</th>\n",
       "      <td>Michigan</td>\n",
       "      <td>16</td>\n",
       "      <td>MI</td>\n",
       "      <td>2736533.0</td>\n",
       "      <td>2816636.0</td>\n",
       "      <td>109335.0</td>\n",
       "      <td>5662504.0</td>\n",
       "      <td>0.483273</td>\n",
       "      <td>0.497419</td>\n",
       "      <td>gop</td>\n",
       "      <td>-1.414622</td>\n",
       "      <td>Toss-Up</td>\n",
       "    </tr>\n",
       "    <tr>\n",
       "      <th>8</th>\n",
       "      <td>Georgia</td>\n",
       "      <td>16</td>\n",
       "      <td>GA</td>\n",
       "      <td>2548017.0</td>\n",
       "      <td>2663117.0</td>\n",
       "      <td>38913.0</td>\n",
       "      <td>5250047.0</td>\n",
       "      <td>0.485332</td>\n",
       "      <td>0.507256</td>\n",
       "      <td>gop</td>\n",
       "      <td>-2.192361</td>\n",
       "      <td>Toss-Up</td>\n",
       "    </tr>\n",
       "    <tr>\n",
       "      <th>9</th>\n",
       "      <td>North Carolina</td>\n",
       "      <td>15</td>\n",
       "      <td>NC</td>\n",
       "      <td>2715375.0</td>\n",
       "      <td>2898423.0</td>\n",
       "      <td>65849.0</td>\n",
       "      <td>5679647.0</td>\n",
       "      <td>0.478089</td>\n",
       "      <td>0.510317</td>\n",
       "      <td>gop</td>\n",
       "      <td>-3.222876</td>\n",
       "      <td>Likely Republican</td>\n",
       "    </tr>\n",
       "    <tr>\n",
       "      <th>10</th>\n",
       "      <td>New Jersey</td>\n",
       "      <td>14</td>\n",
       "      <td>NJ</td>\n",
       "      <td>2220713.0</td>\n",
       "      <td>1968215.0</td>\n",
       "      <td>83797.0</td>\n",
       "      <td>4272725.0</td>\n",
       "      <td>0.519742</td>\n",
       "      <td>0.460646</td>\n",
       "      <td>dem</td>\n",
       "      <td>5.909531</td>\n",
       "      <td>Likely Democrat</td>\n",
       "    </tr>\n",
       "    <tr>\n",
       "      <th>11</th>\n",
       "      <td>Virginia</td>\n",
       "      <td>13</td>\n",
       "      <td>VA</td>\n",
       "      <td>2335395.0</td>\n",
       "      <td>2075085.0</td>\n",
       "      <td>72096.0</td>\n",
       "      <td>4482576.0</td>\n",
       "      <td>0.520994</td>\n",
       "      <td>0.462922</td>\n",
       "      <td>dem</td>\n",
       "      <td>5.807152</td>\n",
       "      <td>Likely Democrat</td>\n",
       "    </tr>\n",
       "    <tr>\n",
       "      <th>12</th>\n",
       "      <td>Washington</td>\n",
       "      <td>12</td>\n",
       "      <td>WA</td>\n",
       "      <td>2245849.0</td>\n",
       "      <td>1530923.0</td>\n",
       "      <td>122063.0</td>\n",
       "      <td>3898835.0</td>\n",
       "      <td>0.576031</td>\n",
       "      <td>0.392662</td>\n",
       "      <td>dem</td>\n",
       "      <td>18.336913</td>\n",
       "      <td>Safe Democrat</td>\n",
       "    </tr>\n",
       "    <tr>\n",
       "      <th>13</th>\n",
       "      <td>Tennessee</td>\n",
       "      <td>11</td>\n",
       "      <td>TN</td>\n",
       "      <td>1056265.0</td>\n",
       "      <td>1966865.0</td>\n",
       "      <td>40812.0</td>\n",
       "      <td>3063942.0</td>\n",
       "      <td>0.344741</td>\n",
       "      <td>0.641939</td>\n",
       "      <td>gop</td>\n",
       "      <td>-29.719884</td>\n",
       "      <td>Safe Republican</td>\n",
       "    </tr>\n",
       "    <tr>\n",
       "      <th>14</th>\n",
       "      <td>Massachusetts</td>\n",
       "      <td>11</td>\n",
       "      <td>MA</td>\n",
       "      <td>2126545.0</td>\n",
       "      <td>1251308.0</td>\n",
       "      <td>75584.0</td>\n",
       "      <td>3453437.0</td>\n",
       "      <td>0.615776</td>\n",
       "      <td>0.362337</td>\n",
       "      <td>dem</td>\n",
       "      <td>25.343940</td>\n",
       "      <td>Safe Democrat</td>\n",
       "    </tr>\n",
       "    <tr>\n",
       "      <th>15</th>\n",
       "      <td>Indiana</td>\n",
       "      <td>11</td>\n",
       "      <td>IN</td>\n",
       "      <td>1163603.0</td>\n",
       "      <td>1720347.0</td>\n",
       "      <td>49750.0</td>\n",
       "      <td>2933700.0</td>\n",
       "      <td>0.396633</td>\n",
       "      <td>0.586409</td>\n",
       "      <td>gop</td>\n",
       "      <td>-18.977537</td>\n",
       "      <td>Safe Republican</td>\n",
       "    </tr>\n",
       "    <tr>\n",
       "      <th>16</th>\n",
       "      <td>Arizona</td>\n",
       "      <td>11</td>\n",
       "      <td>AZ</td>\n",
       "      <td>1582860.0</td>\n",
       "      <td>1770242.0</td>\n",
       "      <td>36217.0</td>\n",
       "      <td>3389319.0</td>\n",
       "      <td>0.467014</td>\n",
       "      <td>0.522300</td>\n",
       "      <td>gop</td>\n",
       "      <td>-5.528603</td>\n",
       "      <td>Likely Republican</td>\n",
       "    </tr>\n",
       "    <tr>\n",
       "      <th>17</th>\n",
       "      <td>Wisconsin</td>\n",
       "      <td>10</td>\n",
       "      <td>WI</td>\n",
       "      <td>1668229.0</td>\n",
       "      <td>1697626.0</td>\n",
       "      <td>49358.0</td>\n",
       "      <td>3415213.0</td>\n",
       "      <td>0.488470</td>\n",
       "      <td>0.497078</td>\n",
       "      <td>gop</td>\n",
       "      <td>-0.860766</td>\n",
       "      <td>Toss-Up</td>\n",
       "    </tr>\n",
       "    <tr>\n",
       "      <th>18</th>\n",
       "      <td>Missouri</td>\n",
       "      <td>10</td>\n",
       "      <td>MO</td>\n",
       "      <td>1200599.0</td>\n",
       "      <td>1751986.0</td>\n",
       "      <td>41011.0</td>\n",
       "      <td>2993596.0</td>\n",
       "      <td>0.401056</td>\n",
       "      <td>0.585245</td>\n",
       "      <td>gop</td>\n",
       "      <td>-18.418885</td>\n",
       "      <td>Safe Republican</td>\n",
       "    </tr>\n",
       "    <tr>\n",
       "      <th>19</th>\n",
       "      <td>Minnesota</td>\n",
       "      <td>10</td>\n",
       "      <td>MN</td>\n",
       "      <td>1656979.0</td>\n",
       "      <td>1519032.0</td>\n",
       "      <td>64905.0</td>\n",
       "      <td>3240916.0</td>\n",
       "      <td>0.511269</td>\n",
       "      <td>0.468705</td>\n",
       "      <td>dem</td>\n",
       "      <td>4.256420</td>\n",
       "      <td>Likely Democrat</td>\n",
       "    </tr>\n",
       "    <tr>\n",
       "      <th>20</th>\n",
       "      <td>Maryland</td>\n",
       "      <td>10</td>\n",
       "      <td>MD</td>\n",
       "      <td>1902577.0</td>\n",
       "      <td>1035550.0</td>\n",
       "      <td>77523.0</td>\n",
       "      <td>3015650.0</td>\n",
       "      <td>0.630901</td>\n",
       "      <td>0.343392</td>\n",
       "      <td>dem</td>\n",
       "      <td>28.750916</td>\n",
       "      <td>Safe Democrat</td>\n",
       "    </tr>\n",
       "    <tr>\n",
       "      <th>21</th>\n",
       "      <td>South Carolina</td>\n",
       "      <td>9</td>\n",
       "      <td>SC</td>\n",
       "      <td>1028452.0</td>\n",
       "      <td>1483747.0</td>\n",
       "      <td>35941.0</td>\n",
       "      <td>2548140.0</td>\n",
       "      <td>0.403609</td>\n",
       "      <td>0.582286</td>\n",
       "      <td>gop</td>\n",
       "      <td>-17.867739</td>\n",
       "      <td>Safe Republican</td>\n",
       "    </tr>\n",
       "    <tr>\n",
       "      <th>22</th>\n",
       "      <td>Colorado</td>\n",
       "      <td>9</td>\n",
       "      <td>CO</td>\n",
       "      <td>1728159.0</td>\n",
       "      <td>1377441.0</td>\n",
       "      <td>85273.0</td>\n",
       "      <td>3190873.0</td>\n",
       "      <td>0.541594</td>\n",
       "      <td>0.431682</td>\n",
       "      <td>dem</td>\n",
       "      <td>10.991287</td>\n",
       "      <td>Safe Democrat</td>\n",
       "    </tr>\n",
       "    <tr>\n",
       "      <th>23</th>\n",
       "      <td>Alabama</td>\n",
       "      <td>9</td>\n",
       "      <td>AL</td>\n",
       "      <td>772412.0</td>\n",
       "      <td>1462616.0</td>\n",
       "      <td>21324.0</td>\n",
       "      <td>2256352.0</td>\n",
       "      <td>0.342328</td>\n",
       "      <td>0.648222</td>\n",
       "      <td>gop</td>\n",
       "      <td>-30.589376</td>\n",
       "      <td>Safe Republican</td>\n",
       "    </tr>\n",
       "    <tr>\n",
       "      <th>24</th>\n",
       "      <td>Louisiana</td>\n",
       "      <td>8</td>\n",
       "      <td>LA</td>\n",
       "      <td>766870.0</td>\n",
       "      <td>1208505.0</td>\n",
       "      <td>31600.0</td>\n",
       "      <td>2006975.0</td>\n",
       "      <td>0.382102</td>\n",
       "      <td>0.602152</td>\n",
       "      <td>gop</td>\n",
       "      <td>-22.005008</td>\n",
       "      <td>Safe Republican</td>\n",
       "    </tr>\n",
       "    <tr>\n",
       "      <th>25</th>\n",
       "      <td>Kentucky</td>\n",
       "      <td>8</td>\n",
       "      <td>KY</td>\n",
       "      <td>704043.0</td>\n",
       "      <td>1337494.0</td>\n",
       "      <td>31772.0</td>\n",
       "      <td>2073309.0</td>\n",
       "      <td>0.339575</td>\n",
       "      <td>0.645101</td>\n",
       "      <td>gop</td>\n",
       "      <td>-30.552658</td>\n",
       "      <td>Safe Republican</td>\n",
       "    </tr>\n",
       "    <tr>\n",
       "      <th>26</th>\n",
       "      <td>Oregon</td>\n",
       "      <td>7</td>\n",
       "      <td>OR</td>\n",
       "      <td>1228410.0</td>\n",
       "      <td>910702.0</td>\n",
       "      <td>68480.0</td>\n",
       "      <td>2207592.0</td>\n",
       "      <td>0.556448</td>\n",
       "      <td>0.412532</td>\n",
       "      <td>dem</td>\n",
       "      <td>14.391609</td>\n",
       "      <td>Safe Democrat</td>\n",
       "    </tr>\n",
       "    <tr>\n",
       "      <th>27</th>\n",
       "      <td>Oklahoma</td>\n",
       "      <td>7</td>\n",
       "      <td>OK</td>\n",
       "      <td>499599.0</td>\n",
       "      <td>1036213.0</td>\n",
       "      <td>30361.0</td>\n",
       "      <td>1566173.0</td>\n",
       "      <td>0.318993</td>\n",
       "      <td>0.661621</td>\n",
       "      <td>gop</td>\n",
       "      <td>-34.262754</td>\n",
       "      <td>Safe Republican</td>\n",
       "    </tr>\n",
       "    <tr>\n",
       "      <th>28</th>\n",
       "      <td>Connecticut</td>\n",
       "      <td>7</td>\n",
       "      <td>CT</td>\n",
       "      <td>992053.0</td>\n",
       "      <td>736918.0</td>\n",
       "      <td>29458.0</td>\n",
       "      <td>1758429.0</td>\n",
       "      <td>0.564170</td>\n",
       "      <td>0.419077</td>\n",
       "      <td>dem</td>\n",
       "      <td>14.509258</td>\n",
       "      <td>Safe Democrat</td>\n",
       "    </tr>\n",
       "    <tr>\n",
       "      <th>29</th>\n",
       "      <td>Utah</td>\n",
       "      <td>6</td>\n",
       "      <td>UT</td>\n",
       "      <td>562566.0</td>\n",
       "      <td>883818.0</td>\n",
       "      <td>41567.0</td>\n",
       "      <td>1487951.0</td>\n",
       "      <td>0.378081</td>\n",
       "      <td>0.593983</td>\n",
       "      <td>gop</td>\n",
       "      <td>-21.590227</td>\n",
       "      <td>Safe Republican</td>\n",
       "    </tr>\n",
       "    <tr>\n",
       "      <th>30</th>\n",
       "      <td>Nevada</td>\n",
       "      <td>6</td>\n",
       "      <td>NV</td>\n",
       "      <td>705197.0</td>\n",
       "      <td>751205.0</td>\n",
       "      <td>28438.0</td>\n",
       "      <td>1484840.0</td>\n",
       "      <td>0.474931</td>\n",
       "      <td>0.505916</td>\n",
       "      <td>gop</td>\n",
       "      <td>-3.098516</td>\n",
       "      <td>Likely Republican</td>\n",
       "    </tr>\n",
       "    <tr>\n",
       "      <th>31</th>\n",
       "      <td>Mississippi</td>\n",
       "      <td>6</td>\n",
       "      <td>MS</td>\n",
       "      <td>466668.0</td>\n",
       "      <td>747744.0</td>\n",
       "      <td>13596.0</td>\n",
       "      <td>1228008.0</td>\n",
       "      <td>0.380020</td>\n",
       "      <td>0.608908</td>\n",
       "      <td>gop</td>\n",
       "      <td>-22.888776</td>\n",
       "      <td>Safe Republican</td>\n",
       "    </tr>\n",
       "    <tr>\n",
       "      <th>32</th>\n",
       "      <td>Kansas</td>\n",
       "      <td>6</td>\n",
       "      <td>KS</td>\n",
       "      <td>544853.0</td>\n",
       "      <td>758802.0</td>\n",
       "      <td>23936.0</td>\n",
       "      <td>1327591.0</td>\n",
       "      <td>0.410407</td>\n",
       "      <td>0.571563</td>\n",
       "      <td>gop</td>\n",
       "      <td>-16.115581</td>\n",
       "      <td>Safe Republican</td>\n",
       "    </tr>\n",
       "    <tr>\n",
       "      <th>33</th>\n",
       "      <td>Iowa</td>\n",
       "      <td>6</td>\n",
       "      <td>IA</td>\n",
       "      <td>707278.0</td>\n",
       "      <td>927019.0</td>\n",
       "      <td>22552.0</td>\n",
       "      <td>1656849.0</td>\n",
       "      <td>0.426881</td>\n",
       "      <td>0.559507</td>\n",
       "      <td>gop</td>\n",
       "      <td>-13.262585</td>\n",
       "      <td>Safe Republican</td>\n",
       "    </tr>\n",
       "    <tr>\n",
       "      <th>34</th>\n",
       "      <td>Arkansas</td>\n",
       "      <td>6</td>\n",
       "      <td>AR</td>\n",
       "      <td>396905.0</td>\n",
       "      <td>759241.0</td>\n",
       "      <td>26530.0</td>\n",
       "      <td>1182676.0</td>\n",
       "      <td>0.335599</td>\n",
       "      <td>0.641969</td>\n",
       "      <td>gop</td>\n",
       "      <td>-30.636962</td>\n",
       "      <td>Safe Republican</td>\n",
       "    </tr>\n",
       "    <tr>\n",
       "      <th>35</th>\n",
       "      <td>West Virginia</td>\n",
       "      <td>5</td>\n",
       "      <td>WV</td>\n",
       "      <td>214309.0</td>\n",
       "      <td>533556.0</td>\n",
       "      <td>14525.0</td>\n",
       "      <td>762390.0</td>\n",
       "      <td>0.281102</td>\n",
       "      <td>0.699847</td>\n",
       "      <td>gop</td>\n",
       "      <td>-41.874500</td>\n",
       "      <td>Safe Republican</td>\n",
       "    </tr>\n",
       "    <tr>\n",
       "      <th>36</th>\n",
       "      <td>New Mexico</td>\n",
       "      <td>5</td>\n",
       "      <td>NM</td>\n",
       "      <td>478802.0</td>\n",
       "      <td>423391.0</td>\n",
       "      <td>21210.0</td>\n",
       "      <td>923403.0</td>\n",
       "      <td>0.518519</td>\n",
       "      <td>0.458512</td>\n",
       "      <td>dem</td>\n",
       "      <td>6.000739</td>\n",
       "      <td>Likely Democrat</td>\n",
       "    </tr>\n",
       "    <tr>\n",
       "      <th>37</th>\n",
       "      <td>Nebraska</td>\n",
       "      <td>5</td>\n",
       "      <td>NE</td>\n",
       "      <td>369995.0</td>\n",
       "      <td>564816.0</td>\n",
       "      <td>12348.0</td>\n",
       "      <td>947159.0</td>\n",
       "      <td>0.390637</td>\n",
       "      <td>0.596326</td>\n",
       "      <td>gop</td>\n",
       "      <td>-20.568986</td>\n",
       "      <td>Safe Republican</td>\n",
       "    </tr>\n",
       "    <tr>\n",
       "      <th>38</th>\n",
       "      <td>Rhode Island</td>\n",
       "      <td>4</td>\n",
       "      <td>RI</td>\n",
       "      <td>285156.0</td>\n",
       "      <td>214406.0</td>\n",
       "      <td>11097.0</td>\n",
       "      <td>510659.0</td>\n",
       "      <td>0.558408</td>\n",
       "      <td>0.419861</td>\n",
       "      <td>dem</td>\n",
       "      <td>13.854647</td>\n",
       "      <td>Safe Democrat</td>\n",
       "    </tr>\n",
       "    <tr>\n",
       "      <th>39</th>\n",
       "      <td>New Hampshire</td>\n",
       "      <td>4</td>\n",
       "      <td>NH</td>\n",
       "      <td>418496.0</td>\n",
       "      <td>395578.0</td>\n",
       "      <td>8079.0</td>\n",
       "      <td>822153.0</td>\n",
       "      <td>0.509024</td>\n",
       "      <td>0.481149</td>\n",
       "      <td>dem</td>\n",
       "      <td>2.787559</td>\n",
       "      <td>Likely Democrat</td>\n",
       "    </tr>\n",
       "    <tr>\n",
       "      <th>40</th>\n",
       "      <td>Maine</td>\n",
       "      <td>4</td>\n",
       "      <td>ME</td>\n",
       "      <td>435652.0</td>\n",
       "      <td>377977.0</td>\n",
       "      <td>17746.0</td>\n",
       "      <td>831375.0</td>\n",
       "      <td>0.524014</td>\n",
       "      <td>0.454641</td>\n",
       "      <td>dem</td>\n",
       "      <td>6.937303</td>\n",
       "      <td>Likely Democrat</td>\n",
       "    </tr>\n",
       "    <tr>\n",
       "      <th>41</th>\n",
       "      <td>Idaho</td>\n",
       "      <td>4</td>\n",
       "      <td>ID</td>\n",
       "      <td>274972.0</td>\n",
       "      <td>605246.0</td>\n",
       "      <td>24594.0</td>\n",
       "      <td>904812.0</td>\n",
       "      <td>0.303900</td>\n",
       "      <td>0.668919</td>\n",
       "      <td>gop</td>\n",
       "      <td>-36.501947</td>\n",
       "      <td>Safe Republican</td>\n",
       "    </tr>\n",
       "    <tr>\n",
       "      <th>42</th>\n",
       "      <td>Hawaii</td>\n",
       "      <td>4</td>\n",
       "      <td>HI</td>\n",
       "      <td>313044.0</td>\n",
       "      <td>193661.0</td>\n",
       "      <td>9996.0</td>\n",
       "      <td>516701.0</td>\n",
       "      <td>0.605851</td>\n",
       "      <td>0.374803</td>\n",
       "      <td>dem</td>\n",
       "      <td>23.104852</td>\n",
       "      <td>Safe Democrat</td>\n",
       "    </tr>\n",
       "    <tr>\n",
       "      <th>43</th>\n",
       "      <td>Wyoming</td>\n",
       "      <td>3</td>\n",
       "      <td>WY</td>\n",
       "      <td>69527.0</td>\n",
       "      <td>192633.0</td>\n",
       "      <td>4193.0</td>\n",
       "      <td>266353.0</td>\n",
       "      <td>0.261033</td>\n",
       "      <td>0.723224</td>\n",
       "      <td>gop</td>\n",
       "      <td>-46.219115</td>\n",
       "      <td>Safe Republican</td>\n",
       "    </tr>\n",
       "    <tr>\n",
       "      <th>44</th>\n",
       "      <td>Vermont</td>\n",
       "      <td>3</td>\n",
       "      <td>VT</td>\n",
       "      <td>235791.0</td>\n",
       "      <td>119395.0</td>\n",
       "      <td>11203.0</td>\n",
       "      <td>366389.0</td>\n",
       "      <td>0.643554</td>\n",
       "      <td>0.325869</td>\n",
       "      <td>dem</td>\n",
       "      <td>31.768421</td>\n",
       "      <td>Safe Democrat</td>\n",
       "    </tr>\n",
       "    <tr>\n",
       "      <th>45</th>\n",
       "      <td>South Dakota</td>\n",
       "      <td>3</td>\n",
       "      <td>SD</td>\n",
       "      <td>146859.0</td>\n",
       "      <td>272081.0</td>\n",
       "      <td>9982.0</td>\n",
       "      <td>428922.0</td>\n",
       "      <td>0.342391</td>\n",
       "      <td>0.634337</td>\n",
       "      <td>gop</td>\n",
       "      <td>-29.194585</td>\n",
       "      <td>Safe Republican</td>\n",
       "    </tr>\n",
       "    <tr>\n",
       "      <th>46</th>\n",
       "      <td>North Dakota</td>\n",
       "      <td>3</td>\n",
       "      <td>ND</td>\n",
       "      <td>112327.0</td>\n",
       "      <td>246505.0</td>\n",
       "      <td>6227.0</td>\n",
       "      <td>365059.0</td>\n",
       "      <td>0.307695</td>\n",
       "      <td>0.675247</td>\n",
       "      <td>gop</td>\n",
       "      <td>-36.755155</td>\n",
       "      <td>Safe Republican</td>\n",
       "    </tr>\n",
       "    <tr>\n",
       "      <th>47</th>\n",
       "      <td>Montana</td>\n",
       "      <td>3</td>\n",
       "      <td>MT</td>\n",
       "      <td>231906.0</td>\n",
       "      <td>352079.0</td>\n",
       "      <td>18978.0</td>\n",
       "      <td>602963.0</td>\n",
       "      <td>0.384611</td>\n",
       "      <td>0.583915</td>\n",
       "      <td>gop</td>\n",
       "      <td>-19.930410</td>\n",
       "      <td>Safe Republican</td>\n",
       "    </tr>\n",
       "    <tr>\n",
       "      <th>48</th>\n",
       "      <td>Delaware</td>\n",
       "      <td>3</td>\n",
       "      <td>DE</td>\n",
       "      <td>289758.0</td>\n",
       "      <td>214351.0</td>\n",
       "      <td>7588.0</td>\n",
       "      <td>511697.0</td>\n",
       "      <td>0.566269</td>\n",
       "      <td>0.418902</td>\n",
       "      <td>dem</td>\n",
       "      <td>14.736651</td>\n",
       "      <td>Safe Democrat</td>\n",
       "    </tr>\n",
       "    <tr>\n",
       "      <th>49</th>\n",
       "      <td>District of Columbia</td>\n",
       "      <td>3</td>\n",
       "      <td>DC</td>\n",
       "      <td>36882.0</td>\n",
       "      <td>2056.0</td>\n",
       "      <td>1525.0</td>\n",
       "      <td>40463.0</td>\n",
       "      <td>0.911499</td>\n",
       "      <td>0.050812</td>\n",
       "      <td>dem</td>\n",
       "      <td>86.068754</td>\n",
       "      <td>Safe Democrat</td>\n",
       "    </tr>\n",
       "  </tbody>\n",
       "</table>\n",
       "</div>"
      ],
      "text/plain": [
       "                   state  electoral_votes_number state_code  Votes_dem  \\\n",
       "0             California                      55         CA  9276179.0   \n",
       "1                  Texas                      38         TX  4835250.0   \n",
       "2               New York                      29         NY  4619195.0   \n",
       "3                Florida                      29         FL  4683038.0   \n",
       "4           Pennsylvania                      20         PA  3423042.0   \n",
       "5               Illinois                      20         IL  3062863.0   \n",
       "6                   Ohio                      18         OH  2533699.0   \n",
       "7               Michigan                      16         MI  2736533.0   \n",
       "8                Georgia                      16         GA  2548017.0   \n",
       "9         North Carolina                      15         NC  2715375.0   \n",
       "10            New Jersey                      14         NJ  2220713.0   \n",
       "11              Virginia                      13         VA  2335395.0   \n",
       "12            Washington                      12         WA  2245849.0   \n",
       "13             Tennessee                      11         TN  1056265.0   \n",
       "14         Massachusetts                      11         MA  2126545.0   \n",
       "15               Indiana                      11         IN  1163603.0   \n",
       "16               Arizona                      11         AZ  1582860.0   \n",
       "17             Wisconsin                      10         WI  1668229.0   \n",
       "18              Missouri                      10         MO  1200599.0   \n",
       "19             Minnesota                      10         MN  1656979.0   \n",
       "20              Maryland                      10         MD  1902577.0   \n",
       "21        South Carolina                       9         SC  1028452.0   \n",
       "22              Colorado                       9         CO  1728159.0   \n",
       "23               Alabama                       9         AL   772412.0   \n",
       "24             Louisiana                       8         LA   766870.0   \n",
       "25              Kentucky                       8         KY   704043.0   \n",
       "26                Oregon                       7         OR  1228410.0   \n",
       "27              Oklahoma                       7         OK   499599.0   \n",
       "28           Connecticut                       7         CT   992053.0   \n",
       "29                  Utah                       6         UT   562566.0   \n",
       "30                Nevada                       6         NV   705197.0   \n",
       "31           Mississippi                       6         MS   466668.0   \n",
       "32                Kansas                       6         KS   544853.0   \n",
       "33                  Iowa                       6         IA   707278.0   \n",
       "34              Arkansas                       6         AR   396905.0   \n",
       "35         West Virginia                       5         WV   214309.0   \n",
       "36            New Mexico                       5         NM   478802.0   \n",
       "37              Nebraska                       5         NE   369995.0   \n",
       "38          Rhode Island                       4         RI   285156.0   \n",
       "39         New Hampshire                       4         NH   418496.0   \n",
       "40                 Maine                       4         ME   435652.0   \n",
       "41                 Idaho                       4         ID   274972.0   \n",
       "42                Hawaii                       4         HI   313044.0   \n",
       "43               Wyoming                       3         WY    69527.0   \n",
       "44               Vermont                       3         VT   235791.0   \n",
       "45          South Dakota                       3         SD   146859.0   \n",
       "46          North Dakota                       3         ND   112327.0   \n",
       "47               Montana                       3         MT   231906.0   \n",
       "48              Delaware                       3         DE   289758.0   \n",
       "49  District of Columbia                       3         DC    36882.0   \n",
       "\n",
       "    Votes_gop  Votes_other  Votes_total   Per_dem   Per_gop Winner  \\\n",
       "0   6081697.0     504660.0   15862536.0  0.584785  0.383400    dem   \n",
       "1   6393597.0     151258.0   11380105.0  0.424886  0.561822    gop   \n",
       "2   3578899.0          0.0    8198094.0  0.563447  0.436553    dem   \n",
       "3   6110125.0     100384.0   10893547.0  0.429891  0.560894    gop   \n",
       "4   3543308.0      67856.0    7034206.0  0.486628  0.503725    gop   \n",
       "5   2449079.0      80426.0    5592368.0  0.547686  0.437932    dem   \n",
       "6   3180116.0      51202.0    5765017.0  0.439495  0.551623    gop   \n",
       "7   2816636.0     109335.0    5662504.0  0.483273  0.497419    gop   \n",
       "8   2663117.0      38913.0    5250047.0  0.485332  0.507256    gop   \n",
       "9   2898423.0      65849.0    5679647.0  0.478089  0.510317    gop   \n",
       "10  1968215.0      83797.0    4272725.0  0.519742  0.460646    dem   \n",
       "11  2075085.0      72096.0    4482576.0  0.520994  0.462922    dem   \n",
       "12  1530923.0     122063.0    3898835.0  0.576031  0.392662    dem   \n",
       "13  1966865.0      40812.0    3063942.0  0.344741  0.641939    gop   \n",
       "14  1251308.0      75584.0    3453437.0  0.615776  0.362337    dem   \n",
       "15  1720347.0      49750.0    2933700.0  0.396633  0.586409    gop   \n",
       "16  1770242.0      36217.0    3389319.0  0.467014  0.522300    gop   \n",
       "17  1697626.0      49358.0    3415213.0  0.488470  0.497078    gop   \n",
       "18  1751986.0      41011.0    2993596.0  0.401056  0.585245    gop   \n",
       "19  1519032.0      64905.0    3240916.0  0.511269  0.468705    dem   \n",
       "20  1035550.0      77523.0    3015650.0  0.630901  0.343392    dem   \n",
       "21  1483747.0      35941.0    2548140.0  0.403609  0.582286    gop   \n",
       "22  1377441.0      85273.0    3190873.0  0.541594  0.431682    dem   \n",
       "23  1462616.0      21324.0    2256352.0  0.342328  0.648222    gop   \n",
       "24  1208505.0      31600.0    2006975.0  0.382102  0.602152    gop   \n",
       "25  1337494.0      31772.0    2073309.0  0.339575  0.645101    gop   \n",
       "26   910702.0      68480.0    2207592.0  0.556448  0.412532    dem   \n",
       "27  1036213.0      30361.0    1566173.0  0.318993  0.661621    gop   \n",
       "28   736918.0      29458.0    1758429.0  0.564170  0.419077    dem   \n",
       "29   883818.0      41567.0    1487951.0  0.378081  0.593983    gop   \n",
       "30   751205.0      28438.0    1484840.0  0.474931  0.505916    gop   \n",
       "31   747744.0      13596.0    1228008.0  0.380020  0.608908    gop   \n",
       "32   758802.0      23936.0    1327591.0  0.410407  0.571563    gop   \n",
       "33   927019.0      22552.0    1656849.0  0.426881  0.559507    gop   \n",
       "34   759241.0      26530.0    1182676.0  0.335599  0.641969    gop   \n",
       "35   533556.0      14525.0     762390.0  0.281102  0.699847    gop   \n",
       "36   423391.0      21210.0     923403.0  0.518519  0.458512    dem   \n",
       "37   564816.0      12348.0     947159.0  0.390637  0.596326    gop   \n",
       "38   214406.0      11097.0     510659.0  0.558408  0.419861    dem   \n",
       "39   395578.0       8079.0     822153.0  0.509024  0.481149    dem   \n",
       "40   377977.0      17746.0     831375.0  0.524014  0.454641    dem   \n",
       "41   605246.0      24594.0     904812.0  0.303900  0.668919    gop   \n",
       "42   193661.0       9996.0     516701.0  0.605851  0.374803    dem   \n",
       "43   192633.0       4193.0     266353.0  0.261033  0.723224    gop   \n",
       "44   119395.0      11203.0     366389.0  0.643554  0.325869    dem   \n",
       "45   272081.0       9982.0     428922.0  0.342391  0.634337    gop   \n",
       "46   246505.0       6227.0     365059.0  0.307695  0.675247    gop   \n",
       "47   352079.0      18978.0     602963.0  0.384611  0.583915    gop   \n",
       "48   214351.0       7588.0     511697.0  0.566269  0.418902    dem   \n",
       "49     2056.0       1525.0      40463.0  0.911499  0.050812    dem   \n",
       "\n",
       "    Difference             Status  \n",
       "0    20.138533      Safe Democrat  \n",
       "1   -13.693608    Safe Republican  \n",
       "2    12.689486      Safe Democrat  \n",
       "3   -13.100297    Safe Republican  \n",
       "4    -1.709731            Toss-Up  \n",
       "5    10.975386      Safe Democrat  \n",
       "6   -11.212751    Safe Republican  \n",
       "7    -1.414622            Toss-Up  \n",
       "8    -2.192361            Toss-Up  \n",
       "9    -3.222876  Likely Republican  \n",
       "10    5.909531    Likely Democrat  \n",
       "11    5.807152    Likely Democrat  \n",
       "12   18.336913      Safe Democrat  \n",
       "13  -29.719884    Safe Republican  \n",
       "14   25.343940      Safe Democrat  \n",
       "15  -18.977537    Safe Republican  \n",
       "16   -5.528603  Likely Republican  \n",
       "17   -0.860766            Toss-Up  \n",
       "18  -18.418885    Safe Republican  \n",
       "19    4.256420    Likely Democrat  \n",
       "20   28.750916      Safe Democrat  \n",
       "21  -17.867739    Safe Republican  \n",
       "22   10.991287      Safe Democrat  \n",
       "23  -30.589376    Safe Republican  \n",
       "24  -22.005008    Safe Republican  \n",
       "25  -30.552658    Safe Republican  \n",
       "26   14.391609      Safe Democrat  \n",
       "27  -34.262754    Safe Republican  \n",
       "28   14.509258      Safe Democrat  \n",
       "29  -21.590227    Safe Republican  \n",
       "30   -3.098516  Likely Republican  \n",
       "31  -22.888776    Safe Republican  \n",
       "32  -16.115581    Safe Republican  \n",
       "33  -13.262585    Safe Republican  \n",
       "34  -30.636962    Safe Republican  \n",
       "35  -41.874500    Safe Republican  \n",
       "36    6.000739    Likely Democrat  \n",
       "37  -20.568986    Safe Republican  \n",
       "38   13.854647      Safe Democrat  \n",
       "39    2.787559    Likely Democrat  \n",
       "40    6.937303    Likely Democrat  \n",
       "41  -36.501947    Safe Republican  \n",
       "42   23.104852      Safe Democrat  \n",
       "43  -46.219115    Safe Republican  \n",
       "44   31.768421      Safe Democrat  \n",
       "45  -29.194585    Safe Republican  \n",
       "46  -36.755155    Safe Republican  \n",
       "47  -19.930410    Safe Republican  \n",
       "48   14.736651      Safe Democrat  \n",
       "49   86.068754      Safe Democrat  "
      ]
     },
     "execution_count": 167,
     "metadata": {},
     "output_type": "execute_result"
    }
   ],
   "source": [
    "# Cargar datos electorales reales\n",
    "df_actual = pd.DataFrame({'Votes_dem': data['votes_dem'], \n",
    "                            'Votes_gop': data['total_votes'] - data['votes_dem'] - data['votes_others'], \n",
    "                            'Votes_other': data['votes_others'],\n",
    "                            'Votes_total': data['total_votes'], \n",
    "                            'state': state_names,\n",
    "                            'county': county_names,\n",
    "                            'fips': fips_codes})\n",
    "df_actual_state = df_actual.groupby('state').agg(Votes_dem=(f'Votes_dem', 'sum'), \n",
    "                                                    Votes_gop=(f'Votes_gop', 'sum'),\n",
    "                                                    Votes_other=(f'Votes_other', 'sum'),\n",
    "                                                    Votes_total=(f'Votes_total', 'sum'))\n",
    "\n",
    "df_actual_state[\"Per_dem\"] = df_actual_state[\"Votes_dem\"] / df_actual_state[\"Votes_total\"]\n",
    "df_actual_state[\"Per_gop\"] = df_actual_state[\"Votes_gop\"] / df_actual_state[\"Votes_total\"]\n",
    "\n",
    "# Añadir la columna \"Winner\" basado en los porcentajes predichos de Biden y Trump\n",
    "df_actual_state[\"Winner\"] = np.where(df_actual_state[\"Per_dem\"] < df_actual_state[\"Per_gop\"], 'gop', 'dem')\n",
    "\n",
    "\n",
    "full_df_actual_state = pd.merge(seats_data, df_actual_state, how='inner', on=[\"state\"])\n",
    "\n",
    "\n",
    "\n",
    "# Añadir diferencia entre Biden y Trump\n",
    "full_df_actual_state['Difference'] = (full_df_actual_state[\"Per_dem\"] - full_df_actual_state[\"Per_gop\"]) * 100\n",
    "\n",
    "\n",
    "# Definir las condiciones y los valores a asignar\n",
    "conditions = [\n",
    "    full_df_actual_state[\"Difference\"] > 10,\n",
    "    full_df_actual_state[\"Difference\"].between(2.5, 10),\n",
    "    full_df_actual_state[\"Difference\"].between(-2.5, 2.5),\n",
    "    full_df_actual_state[\"Difference\"].between(-10, -2.5),\n",
    "    full_df_actual_state[\"Difference\"] < -10\n",
    "]\n",
    "\n",
    "choices = [\n",
    "    \"Safe Democrat\",\n",
    "    \"Likely Democrat\",\n",
    "    \"Toss-Up\",\n",
    "    \"Likely Republican\",\n",
    "    \"Safe Republican\"\n",
    "]\n",
    "\n",
    "# Usar np.select para asignar el \"Status\" basado en las condiciones, con un valor por defecto \"Unknown\"\n",
    "full_df_actual_state[\"Status\"] = np.select(conditions, choices, default=\"Unknown\")\n",
    "\n",
    "full_df_actual_state"
   ]
  },
  {
   "cell_type": "code",
   "execution_count": 168,
   "metadata": {},
   "outputs": [
    {
     "name": "stdout",
     "output_type": "stream",
     "text": [
      "Condados comunes en los tres datasets: 3100\n"
     ]
    }
   ],
   "source": [
    "# Encontrar los `county_fips` comunes en los tres conjuntos de datos\n",
    "common_fips = set(data_2016[\"county_fips\"]).intersection(data_2020[\"county_fips\"]).intersection(data_sim[\"county_fips\"])\n",
    "\n",
    "# Filtrar cada dataset para que solo contenga esos condados comunes\n",
    "data_2016 = data_2016[data_2016[\"county_fips\"].isin(common_fips)].sort_values(by=\"county_fips\").reset_index(drop=True)\n",
    "data_2020 = data_2020[data_2020[\"county_fips\"].isin(common_fips)].sort_values(by=\"county_fips\").reset_index(drop=True)\n",
    "data_sim = data_sim[data_sim[\"county_fips\"].isin(common_fips)].sort_values(by=\"county_fips\").reset_index(drop=True)\n",
    "data = data[data[\"county_fips\"].isin(common_fips)].sort_values(by=\"county_fips\").reset_index(drop=True)\n",
    "\n",
    "# Ahora los tres datasets tienen los mismos condados en el mismo orden\n",
    "print(f\"Condados comunes en los tres datasets: {len(common_fips)}\")\n"
   ]
  },
  {
   "cell_type": "code",
   "execution_count": 169,
   "metadata": {},
   "outputs": [
    {
     "name": "stdout",
     "output_type": "stream",
     "text": [
      "3100 3100 3100 3100\n"
     ]
    }
   ],
   "source": [
    "# Guardamos las variables en vectores para uso futuro\n",
    "state_names = data['state']\n",
    "fips_codes = data['county_fips']\n",
    "county_names = data['county']\n",
    "\n",
    "print(len(state_names), len(county_names), len(fips_codes), len(data[\"total_votes\"]))"
   ]
  },
  {
   "cell_type": "code",
   "execution_count": 170,
   "metadata": {},
   "outputs": [],
   "source": [
    "# Ordenar ambos DataFrames por 'fips' antes de cualquier split\n",
    "data_2016 = data_2016.sort_values(by=\"county_fips\").reset_index(drop=True)\n",
    "data_2020 = data_2020.sort_values(by=\"county_fips\").reset_index(drop=True)\n",
    "data_sim = data_sim.sort_values(by=\"county_fips\").reset_index(drop=True)\n",
    "data = data.sort_values(by=\"county_fips\").reset_index(drop=True)"
   ]
  },
  {
   "cell_type": "code",
   "execution_count": 171,
   "metadata": {},
   "outputs": [],
   "source": [
    "columns_to_drop = ['county_fips', \"state\", \"county\", \"state_code\", \"county_code\"]  # Nombres de las columnas a eliminar\n",
    "data_2016 = data_2016.drop(columns=columns_to_drop)\n",
    "data_2020 = data_2020.drop(columns=columns_to_drop)\n",
    "data_sim = data_sim.drop(columns=columns_to_drop)"
   ]
  },
  {
   "cell_type": "code",
   "execution_count": 172,
   "metadata": {},
   "outputs": [
    {
     "data": {
      "text/html": [
       "<div>\n",
       "<style scoped>\n",
       "    .dataframe tbody tr th:only-of-type {\n",
       "        vertical-align: middle;\n",
       "    }\n",
       "\n",
       "    .dataframe tbody tr th {\n",
       "        vertical-align: top;\n",
       "    }\n",
       "\n",
       "    .dataframe thead th {\n",
       "        text-align: right;\n",
       "    }\n",
       "</style>\n",
       "<table border=\"1\" class=\"dataframe\">\n",
       "  <thead>\n",
       "    <tr style=\"text-align: right;\">\n",
       "      <th></th>\n",
       "      <th>per_dem</th>\n",
       "      <th>per_gop</th>\n",
       "      <th>pop_total</th>\n",
       "      <th>median_age</th>\n",
       "      <th>median_income</th>\n",
       "      <th>households_median_value</th>\n",
       "      <th>households_avg_size</th>\n",
       "      <th>households_total</th>\n",
       "      <th>households_median_gross_rent</th>\n",
       "      <th>mean_travel_time</th>\n",
       "      <th>...</th>\n",
       "      <th>hispanic_rate</th>\n",
       "      <th>two_more_races_rate</th>\n",
       "      <th>high_school_rate</th>\n",
       "      <th>bachelors_rate</th>\n",
       "      <th>poverty_rate</th>\n",
       "      <th>households_renter_rate</th>\n",
       "      <th>households_owner_rate</th>\n",
       "      <th>unemployment_rate</th>\n",
       "      <th>public_transport_rate</th>\n",
       "      <th>no_health_insurance_rate</th>\n",
       "    </tr>\n",
       "  </thead>\n",
       "  <tbody>\n",
       "    <tr>\n",
       "      <th>0</th>\n",
       "      <td>0.263888</td>\n",
       "      <td>0.726641</td>\n",
       "      <td>59285</td>\n",
       "      <td>39.2</td>\n",
       "      <td>69841</td>\n",
       "      <td>197900</td>\n",
       "      <td>2.61</td>\n",
       "      <td>22523</td>\n",
       "      <td>1200</td>\n",
       "      <td>25415</td>\n",
       "      <td>...</td>\n",
       "      <td>3.69</td>\n",
       "      <td>4.59</td>\n",
       "      <td>18.70</td>\n",
       "      <td>10.99</td>\n",
       "      <td>10.58</td>\n",
       "      <td>25.09</td>\n",
       "      <td>74.91</td>\n",
       "      <td>2.54</td>\n",
       "      <td>0.11</td>\n",
       "      <td>7.20</td>\n",
       "    </tr>\n",
       "    <tr>\n",
       "      <th>1</th>\n",
       "      <td>0.204699</td>\n",
       "      <td>0.786467</td>\n",
       "      <td>239945</td>\n",
       "      <td>43.7</td>\n",
       "      <td>75019</td>\n",
       "      <td>287000</td>\n",
       "      <td>2.50</td>\n",
       "      <td>94642</td>\n",
       "      <td>1211</td>\n",
       "      <td>97455</td>\n",
       "      <td>...</td>\n",
       "      <td>5.58</td>\n",
       "      <td>5.54</td>\n",
       "      <td>16.15</td>\n",
       "      <td>14.73</td>\n",
       "      <td>10.34</td>\n",
       "      <td>22.46</td>\n",
       "      <td>77.54</td>\n",
       "      <td>3.19</td>\n",
       "      <td>0.04</td>\n",
       "      <td>8.06</td>\n",
       "    </tr>\n",
       "    <tr>\n",
       "      <th>2</th>\n",
       "      <td>0.422905</td>\n",
       "      <td>0.570179</td>\n",
       "      <td>24757</td>\n",
       "      <td>40.7</td>\n",
       "      <td>44290</td>\n",
       "      <td>109900</td>\n",
       "      <td>2.39</td>\n",
       "      <td>9080</td>\n",
       "      <td>644</td>\n",
       "      <td>7989</td>\n",
       "      <td>...</td>\n",
       "      <td>6.02</td>\n",
       "      <td>2.95</td>\n",
       "      <td>21.48</td>\n",
       "      <td>4.76</td>\n",
       "      <td>19.17</td>\n",
       "      <td>32.51</td>\n",
       "      <td>67.49</td>\n",
       "      <td>5.71</td>\n",
       "      <td>0.07</td>\n",
       "      <td>9.49</td>\n",
       "    </tr>\n",
       "    <tr>\n",
       "      <th>3</th>\n",
       "      <td>0.175197</td>\n",
       "      <td>0.819392</td>\n",
       "      <td>22152</td>\n",
       "      <td>41.3</td>\n",
       "      <td>51215</td>\n",
       "      <td>132600</td>\n",
       "      <td>2.74</td>\n",
       "      <td>7571</td>\n",
       "      <td>802</td>\n",
       "      <td>7999</td>\n",
       "      <td>...</td>\n",
       "      <td>3.36</td>\n",
       "      <td>2.82</td>\n",
       "      <td>24.60</td>\n",
       "      <td>5.06</td>\n",
       "      <td>19.22</td>\n",
       "      <td>22.82</td>\n",
       "      <td>77.18</td>\n",
       "      <td>9.98</td>\n",
       "      <td>0.04</td>\n",
       "      <td>7.81</td>\n",
       "    </tr>\n",
       "    <tr>\n",
       "      <th>4</th>\n",
       "      <td>0.091624</td>\n",
       "      <td>0.901796</td>\n",
       "      <td>59292</td>\n",
       "      <td>40.9</td>\n",
       "      <td>61096</td>\n",
       "      <td>169700</td>\n",
       "      <td>2.67</td>\n",
       "      <td>21977</td>\n",
       "      <td>743</td>\n",
       "      <td>23976</td>\n",
       "      <td>...</td>\n",
       "      <td>10.06</td>\n",
       "      <td>5.15</td>\n",
       "      <td>19.58</td>\n",
       "      <td>6.89</td>\n",
       "      <td>13.95</td>\n",
       "      <td>20.49</td>\n",
       "      <td>79.51</td>\n",
       "      <td>5.84</td>\n",
       "      <td>0.00</td>\n",
       "      <td>10.11</td>\n",
       "    </tr>\n",
       "  </tbody>\n",
       "</table>\n",
       "<p>5 rows × 36 columns</p>\n",
       "</div>"
      ],
      "text/plain": [
       "    per_dem   per_gop  pop_total  median_age  median_income  \\\n",
       "0  0.263888  0.726641      59285        39.2          69841   \n",
       "1  0.204699  0.786467     239945        43.7          75019   \n",
       "2  0.422905  0.570179      24757        40.7          44290   \n",
       "3  0.175197  0.819392      22152        41.3          51215   \n",
       "4  0.091624  0.901796      59292        40.9          61096   \n",
       "\n",
       "   households_median_value  households_avg_size  households_total  \\\n",
       "0                   197900                 2.61             22523   \n",
       "1                   287000                 2.50             94642   \n",
       "2                   109900                 2.39              9080   \n",
       "3                   132600                 2.74              7571   \n",
       "4                   169700                 2.67             21977   \n",
       "\n",
       "   households_median_gross_rent  mean_travel_time  ...  hispanic_rate  \\\n",
       "0                          1200             25415  ...           3.69   \n",
       "1                          1211             97455  ...           5.58   \n",
       "2                           644              7989  ...           6.02   \n",
       "3                           802              7999  ...           3.36   \n",
       "4                           743             23976  ...          10.06   \n",
       "\n",
       "   two_more_races_rate  high_school_rate  bachelors_rate  poverty_rate  \\\n",
       "0                 4.59             18.70           10.99         10.58   \n",
       "1                 5.54             16.15           14.73         10.34   \n",
       "2                 2.95             21.48            4.76         19.17   \n",
       "3                 2.82             24.60            5.06         19.22   \n",
       "4                 5.15             19.58            6.89         13.95   \n",
       "\n",
       "   households_renter_rate  households_owner_rate  unemployment_rate  \\\n",
       "0                   25.09                  74.91               2.54   \n",
       "1                   22.46                  77.54               3.19   \n",
       "2                   32.51                  67.49               5.71   \n",
       "3                   22.82                  77.18               9.98   \n",
       "4                   20.49                  79.51               5.84   \n",
       "\n",
       "   public_transport_rate  no_health_insurance_rate  \n",
       "0                   0.11                      7.20  \n",
       "1                   0.04                      8.06  \n",
       "2                   0.07                      9.49  \n",
       "3                   0.04                      7.81  \n",
       "4                   0.00                     10.11  \n",
       "\n",
       "[5 rows x 36 columns]"
      ]
     },
     "execution_count": 172,
     "metadata": {},
     "output_type": "execute_result"
    }
   ],
   "source": [
    "columns_to_drop = [\"votes_gop\"]  # Nombres de las columnas a eliminar\n",
    "\n",
    "data_sim = data_sim.drop(columns=columns_to_drop)\n",
    "data_sim.head()"
   ]
  },
  {
   "cell_type": "code",
   "execution_count": 173,
   "metadata": {},
   "outputs": [],
   "source": [
    "# from sklearn.preprocessing import StandardScaler\n",
    "\n",
    "# # Definir las columnas a excluir del escalado\n",
    "# cols_excluir = ['per_dem', 'per_gop'] \n",
    "\n",
    "# # Seleccionar solo las columnas que deben ser escaladas\n",
    "# cols_escalar = [col for col in data_sim.columns if col not in cols_excluir]\n",
    "\n",
    "# # Aplicar StandardScaler solo a las columnas seleccionadas\n",
    "# scaler = StandardScaler()\n",
    "# data_sim[cols_escalar] = scaler.fit_transform(data_sim[cols_escalar])\n",
    "\n",
    "# # Mostrar los primeros registros\n",
    "# data_sim.head()"
   ]
  },
  {
   "cell_type": "markdown",
   "metadata": {},
   "source": [
    "## Algorithm"
   ]
  },
  {
   "cell_type": "code",
   "execution_count": 174,
   "metadata": {},
   "outputs": [],
   "source": [
    "n_sim = 100"
   ]
  },
  {
   "cell_type": "code",
   "execution_count": 175,
   "metadata": {},
   "outputs": [
    {
     "name": "stdout",
     "output_type": "stream",
     "text": [
      "Simulation 0\n",
      "weight_2016=0.5288198308632093\n",
      "per_dem_pred=array([0.33298996, 0.36934364, 0.48943873, ..., 0.24244502, 0.20355915,\n",
      "       0.24674952])\n",
      "per_gop_pred=array([0.62766079, 0.6034905 , 0.49759227, ..., 0.68632012, 0.75233969,\n",
      "       0.70952498])\n",
      "per_other_pred=array([0.03934926, 0.02716586, 0.012969  , ..., 0.07123486, 0.04410116,\n",
      "       0.0437255 ])\n",
      "Simulation 1\n",
      "weight_2016=0.9557369568472562\n",
      "per_dem_pred=array([0.3314711 , 0.36032605, 0.4956128 , ..., 0.23786988, 0.19932905,\n",
      "       0.24578724])\n",
      "per_gop_pred=array([0.61742853, 0.5968041 , 0.48582966, ..., 0.67038636, 0.74874636,\n",
      "       0.70059234])\n",
      "per_other_pred=array([0.05110038, 0.04286985, 0.01855754, ..., 0.09174376, 0.05192459,\n",
      "       0.05362042])\n",
      "Simulation 2\n",
      "weight_2016=0.7477361770553425\n",
      "per_dem_pred=array([0.33221111, 0.36471956, 0.4926047 , ..., 0.24009896, 0.20139002,\n",
      "       0.24625608])\n",
      "per_gop_pred=array([0.62241385, 0.60006182, 0.49156059, ..., 0.67814954, 0.75049709,\n",
      "       0.70494446])\n",
      "per_other_pred=array([0.04537505, 0.03521862, 0.01583472, ..., 0.0817515 , 0.04811289,\n",
      "       0.04879946])\n",
      "Simulation 3\n",
      "weight_2016=0.367848889829682\n",
      "per_dem_pred=array([0.33356265, 0.37274377, 0.48711077, ..., 0.2441701 , 0.20515413,\n",
      "       0.24711236])\n",
      "per_gop_pred=array([0.6315189 , 0.60601163, 0.50202741, ..., 0.69232801, 0.75369457,\n",
      "       0.71289307])\n",
      "per_other_pred=array([0.03491845, 0.0212446 , 0.01086183, ..., 0.06350189, 0.0411513 ,\n",
      "       0.03999457])\n",
      "Simulation 4\n",
      "weight_2016=0.643769826266169\n",
      "per_dem_pred=array([0.33258099, 0.3669156 , 0.49110114, ..., 0.24121314, 0.20242017,\n",
      "       0.24649042])\n",
      "per_gop_pred=array([0.62490569, 0.60169014, 0.49442511, ..., 0.68202986, 0.75137216,\n",
      "       0.70711981])\n",
      "per_other_pred=array([0.04251332, 0.03139425, 0.01447375, ..., 0.076757  , 0.04620766,\n",
      "       0.04638977])\n",
      "Simulation 5\n",
      "weight_2016=0.7633748733633899\n",
      "per_dem_pred=array([0.33215547, 0.36438923, 0.49283086, ..., 0.23993137, 0.20123507,\n",
      "       0.24622083])\n",
      "per_gop_pred=array([0.62203902, 0.59981689, 0.4911297 , ..., 0.67756586, 0.75036546,\n",
      "       0.70461725])\n",
      "per_other_pred=array([0.04580551, 0.03579388, 0.01603943, ..., 0.08250277, 0.04839947,\n",
      "       0.04916193])\n",
      "Simulation 6\n",
      "weight_2016=0.8702255721696603\n",
      "per_dem_pred=array([0.33177532, 0.36213227, 0.49437614, ..., 0.23878628, 0.20017634,\n",
      "       0.24597998])\n",
      "per_gop_pred=array([0.61947804, 0.59814339, 0.48818571, ..., 0.67357789, 0.7494661 ,\n",
      "       0.70238154])\n",
      "per_other_pred=array([0.04874663, 0.03972435, 0.01743815, ..., 0.08763583, 0.05035756,\n",
      "       0.05163847])\n",
      "Simulation 7\n",
      "weight_2016=0.8327723468837909\n",
      "per_dem_pred=array([0.33190857, 0.36292338, 0.49383449, ..., 0.23918766, 0.20054745,\n",
      "       0.2460644 ])\n",
      "per_gop_pred=array([0.62037572, 0.59872998, 0.48921763, ..., 0.67497575, 0.74978134,\n",
      "       0.7031652 ])\n",
      "per_other_pred=array([0.04771571, 0.03834664, 0.01694788, ..., 0.0858366 , 0.04967121,\n",
      "       0.0507704 ])\n",
      "Simulation 8\n",
      "weight_2016=0.3982492763823709\n",
      "per_dem_pred=array([0.33345449, 0.37210163, 0.48755042, ..., 0.24384431, 0.20485291,\n",
      "       0.24704383])\n",
      "per_gop_pred=array([0.63079027, 0.6055355 , 0.5011898 , ..., 0.69119338, 0.75343869,\n",
      "       0.71225698])\n",
      "per_other_pred=array([0.03575523, 0.02236287, 0.01125978, ..., 0.06496231, 0.0417084 ,\n",
      "       0.04069918])\n",
      "Simulation 9\n",
      "weight_2016=0.8762176043028862\n",
      "per_dem_pred=array([0.33175401, 0.3620057 , 0.4944628 , ..., 0.23872207, 0.20011697,\n",
      "       0.24596648])\n",
      "per_gop_pred=array([0.61933443, 0.59804954, 0.48802061, ..., 0.67335425, 0.74941567,\n",
      "       0.70225617])\n",
      "per_other_pred=array([0.04891157, 0.03994476, 0.01751659, ..., 0.08792369, 0.05046736,\n",
      "       0.05177735])\n",
      "Simulation 10\n",
      "weight_2016=0.43396473465430113\n",
      "per_dem_pred=array([0.33332743, 0.37134723, 0.48806694, ..., 0.24346156, 0.20449902,\n",
      "       0.24696333])\n",
      "per_gop_pred=array([0.62993425, 0.60497612, 0.50020575, ..., 0.68986038, 0.75313808,\n",
      "       0.71150969])\n",
      "per_other_pred=array([0.03673832, 0.02367665, 0.01172731, ..., 0.06667807, 0.0423629 ,\n",
      "       0.04152698])\n",
      "Simulation 11\n",
      "weight_2016=0.8638389047921812\n",
      "per_dem_pred=array([0.33179805, 0.36226717, 0.49428378, ..., 0.23885472, 0.20023962,\n",
      "       0.24599438])\n",
      "per_gop_pred=array([0.61963112, 0.59824341, 0.48836167, ..., 0.67381626, 0.74951986,\n",
      "       0.70251518])\n",
      "per_other_pred=array([0.04857084, 0.03948941, 0.01735455, ..., 0.08732902, 0.05024052,\n",
      "       0.05149045])\n",
      "Simulation 12\n",
      "weight_2016=0.5427781710661893\n",
      "per_dem_pred=array([0.3329403 , 0.36904881, 0.48964059, ..., 0.24229544, 0.20342085,\n",
      "       0.24671806])\n",
      "per_gop_pred=array([0.62732624, 0.60327188, 0.49720768, ..., 0.68579915, 0.7522222 ,\n",
      "       0.70923292])\n",
      "per_other_pred=array([0.03973347, 0.02767931, 0.01315173, ..., 0.07190541, 0.04435695,\n",
      "       0.04404902])\n",
      "Simulation 13\n",
      "weight_2016=0.8379514373790844\n",
      "per_dem_pred=array([0.33189015, 0.36281398, 0.49390939, ..., 0.23913215, 0.20049613,\n",
      "       0.24605273])\n",
      "per_gop_pred=array([0.62025158, 0.59864887, 0.48907494, ..., 0.67478245, 0.74973775,\n",
      "       0.70305684])\n",
      "per_other_pred=array([0.04785827, 0.03853715, 0.01701567, ..., 0.0860854 , 0.04976612,\n",
      "       0.05089044])\n",
      "Simulation 14\n",
      "weight_2016=0.5297362498880227\n",
      "per_dem_pred=array([0.3329867 , 0.36932429, 0.48945198, ..., 0.2424352 , 0.20355007,\n",
      "       0.24674746])\n",
      "per_gop_pred=array([0.62763882, 0.60347614, 0.49756702, ..., 0.68628591, 0.75233198,\n",
      "       0.7095058 ])\n",
      "per_other_pred=array([0.03937448, 0.02719957, 0.012981  , ..., 0.07127889, 0.04411795,\n",
      "       0.04374674])\n",
      "Simulation 15\n",
      "weight_2016=0.8891921132071823\n",
      "per_dem_pred=array([0.33170785, 0.36173165, 0.49465043, ..., 0.23858302, 0.19998841,\n",
      "       0.24593723])\n",
      "per_gop_pred=array([0.61902346, 0.59784633, 0.48766313, ..., 0.67287   , 0.74930646,\n",
      "       0.7019847 ])\n",
      "per_other_pred=array([0.0492687 , 0.04042202, 0.01768643, ..., 0.08854697, 0.05070513,\n",
      "       0.05207807])\n",
      "Simulation 16\n",
      "weight_2016=0.8690392224106829\n",
      "per_dem_pred=array([0.33177954, 0.36215733, 0.49435898, ..., 0.23879899, 0.2001881 ,\n",
      "       0.24598266])\n",
      "per_gop_pred=array([0.61950648, 0.59816197, 0.48821839, ..., 0.67362217, 0.74947609,\n",
      "       0.70240637])\n",
      "per_other_pred=array([0.04871398, 0.03968071, 0.01742262, ..., 0.08757884, 0.05033582,\n",
      "       0.05161098])\n",
      "Simulation 17\n",
      "weight_2016=0.3275596277167502\n",
      "per_dem_pred=array([0.33370599, 0.37359478, 0.4865281 , ..., 0.24460187, 0.20555334,\n",
      "       0.24720317])\n",
      "per_gop_pred=array([0.63248455, 0.60664264, 0.50313747, ..., 0.69383172, 0.75403368,\n",
      "       0.71373606])\n",
      "per_other_pred=array([0.03380946, 0.01976258, 0.01033442, ..., 0.06156642, 0.04041298,\n",
      "       0.03906076])\n",
      "Simulation 18\n",
      "weight_2016=0.8891175912268318\n",
      "per_dem_pred=array([0.33170811, 0.36173322, 0.49464936, ..., 0.23858382, 0.19998915,\n",
      "       0.2459374 ])\n",
      "per_gop_pred=array([0.61902524, 0.5978475 , 0.48766519, ..., 0.67287278, 0.74930709,\n",
      "       0.70198626])\n",
      "per_other_pred=array([0.04926664, 0.04041928, 0.01768546, ..., 0.08854339, 0.05070376,\n",
      "       0.05207635])\n",
      "Simulation 19\n",
      "weight_2016=0.6900800364897498\n",
      "per_dem_pred=array([0.33241623, 0.36593741, 0.49177087, ..., 0.24071685, 0.20196131,\n",
      "       0.24638604])\n",
      "per_gop_pred=array([0.62379574, 0.60096483, 0.49314915, ..., 0.68030143, 0.75098237,\n",
      "       0.70615084])\n",
      "per_other_pred=array([0.04378803, 0.03309776, 0.01507997, ..., 0.07898172, 0.04705632,\n",
      "       0.04746313])\n",
      "Simulation 20\n",
      "weight_2016=0.40608486223434953\n",
      "per_dem_pred=array([0.33342662, 0.37193613, 0.48766374, ..., 0.24376034, 0.20477527,\n",
      "       0.24702617])\n",
      "per_gop_pred=array([0.63060247, 0.60541278, 0.50097391, ..., 0.69090093, 0.75337274,\n",
      "       0.71209303])\n",
      "per_other_pred=array([0.03597091, 0.0226511 , 0.01136235, ..., 0.06533873, 0.04185199,\n",
      "       0.04088079])\n",
      "Simulation 21\n",
      "weight_2016=0.8356144929371138\n",
      "per_dem_pred=array([0.33189846, 0.36286334, 0.49387559, ..., 0.2391572 , 0.20051928,\n",
      "       0.246058  ])\n",
      "per_gop_pred=array([0.6203076 , 0.59868547, 0.48913933, ..., 0.67486967, 0.74975742,\n",
      "       0.70310573])\n",
      "per_other_pred=array([0.04779394, 0.03845119, 0.01698508, ..., 0.08597313, 0.04972329,\n",
      "       0.05083627])\n",
      "Simulation 22\n",
      "weight_2016=0.491562176364139\n",
      "per_dem_pred=array([0.33312251, 0.37013062, 0.48889991, ..., 0.2428443 , 0.20392832,\n",
      "       0.2468335 ])\n",
      "per_gop_pred=array([0.62855377, 0.60407403, 0.4986188 , ..., 0.68771068, 0.75265328,\n",
      "       0.71030454])\n",
      "per_other_pred=array([0.03832372, 0.02579535, 0.01248129, ..., 0.06944502, 0.0434184 ,\n",
      "       0.04286195])\n",
      "Simulation 23\n",
      "weight_2016=0.9178287985221619\n",
      "per_dem_pred=array([0.33160596, 0.36112676, 0.49506458, ..., 0.23827613, 0.19970466,\n",
      "       0.24587268])\n",
      "per_gop_pred=array([0.6183371 , 0.59739782, 0.48687412, ..., 0.6718012 , 0.74906543,\n",
      "       0.70138551])\n",
      "per_other_pred=array([0.05005694, 0.04147541, 0.0180613 , ..., 0.08992267, 0.0512299 ,\n",
      "       0.0527418 ])\n",
      "Simulation 24\n",
      "weight_2016=0.5334660636036327\n",
      "per_dem_pred=array([0.33297343, 0.3692455 , 0.48950592, ..., 0.24239523, 0.20351312,\n",
      "       0.24673905])\n",
      "per_gop_pred=array([0.62754943, 0.60341773, 0.49746425, ..., 0.68614671, 0.75230058,\n",
      "       0.70942776])\n",
      "per_other_pred=array([0.03947715, 0.02733677, 0.01302983, ..., 0.07145806, 0.0441863 ,\n",
      "       0.04383319])\n",
      "Simulation 25\n",
      "weight_2016=0.7821603656863523\n",
      "per_dem_pred=array([0.33208864, 0.36399243, 0.49310254, ..., 0.23973005, 0.20104893,\n",
      "       0.24617848])\n",
      "per_gop_pred=array([0.62158877, 0.59952267, 0.49061212, ..., 0.67686473, 0.75020734,\n",
      "       0.70422419])\n",
      "per_other_pred=array([0.04632259, 0.0364849 , 0.01628534, ..., 0.08340522, 0.04874373,\n",
      "       0.04959733])\n",
      "Simulation 26\n",
      "weight_2016=0.8742385823317026\n",
      "per_dem_pred=array([0.33176105, 0.3620475 , 0.49443418, ..., 0.23874327, 0.20013658,\n",
      "       0.24597094])\n",
      "per_gop_pred=array([0.61938186, 0.59808053, 0.48807514, ..., 0.67342811, 0.74943233,\n",
      "       0.70229758])\n",
      "per_other_pred=array([0.04885709, 0.03987196, 0.01749069, ..., 0.08782861, 0.0504311 ,\n",
      "       0.05173149])\n",
      "Simulation 27\n",
      "weight_2016=0.6506647066066373\n",
      "per_dem_pred=array([0.33255646, 0.36676996, 0.49120085, ..., 0.24113925, 0.20235186,\n",
      "       0.24647488])\n",
      "per_gop_pred=array([0.62474043, 0.60158216, 0.49423514, ..., 0.68177252, 0.75131413,\n",
      "       0.70697555])\n",
      "per_other_pred=array([0.0427031 , 0.03164788, 0.01456401, ..., 0.07708823, 0.04633401,\n",
      "       0.04654957])\n",
      "Simulation 28\n",
      "weight_2016=0.7693050995109518\n",
      "per_dem_pred=array([0.33213437, 0.36426397, 0.49291663, ..., 0.23986782, 0.20117631,\n",
      "       0.24620746])\n",
      "per_gop_pred=array([0.62189689, 0.59972401, 0.49096631, ..., 0.67734453, 0.75031554,\n",
      "       0.70449316])\n",
      "per_other_pred=array([0.04596874, 0.03601202, 0.01611706, ..., 0.08278766, 0.04850815,\n",
      "       0.04929938])\n",
      "Simulation 29\n",
      "weight_2016=0.4800255653559154\n",
      "per_dem_pred=array([0.33316355, 0.37037431, 0.48873307, ..., 0.24296794, 0.20404263,\n",
      "       0.24685951])\n",
      "per_gop_pred=array([0.62883028, 0.60425471, 0.49893667, ..., 0.68814126, 0.75275039,\n",
      "       0.71054593])\n",
      "per_other_pred=array([0.03800617, 0.02537098, 0.01233027, ..., 0.06889081, 0.04320698,\n",
      "       0.04259456])\n",
      "Simulation 30\n",
      "weight_2016=0.6996963253406586\n",
      "per_dem_pred=array([0.33238202, 0.36573429, 0.49190995, ..., 0.24061379, 0.20186603,\n",
      "       0.24636436])\n",
      "per_gop_pred=array([0.62356525, 0.60081422, 0.4928842 , ..., 0.67994252, 0.75090143,\n",
      "       0.70594963])\n",
      "per_other_pred=array([0.04405272, 0.03345149, 0.01520585, ..., 0.07944369, 0.04723254,\n",
      "       0.04768601])\n",
      "Simulation 31\n",
      "weight_2016=0.9479549055812783\n",
      "per_dem_pred=array([0.33149878, 0.36049042, 0.49550026, ..., 0.23795328, 0.19940616,\n",
      "       0.24580478])\n",
      "per_gop_pred=array([0.61761504, 0.59692599, 0.48604407, ..., 0.67067681, 0.74881186,\n",
      "       0.70075517])\n",
      "per_other_pred=array([0.05088617, 0.04258359, 0.01845567, ..., 0.09136991, 0.05178198,\n",
      "       0.05344005])\n",
      "Simulation 32\n",
      "weight_2016=0.9900785444724047\n",
      "per_dem_pred=array([0.33134892, 0.35960066, 0.49610945, ..., 0.23750185, 0.19898878,\n",
      "       0.24570983])\n",
      "per_gop_pred=array([0.61660543, 0.59626624, 0.48488346, ..., 0.66910464, 0.74845731,\n",
      "       0.69987379])\n",
      "per_other_pred=array([0.05204565, 0.04413309, 0.01900708, ..., 0.09339351, 0.05255391,\n",
      "       0.05441638])\n",
      "Simulation 33\n",
      "weight_2016=0.8127144936718977\n",
      "per_dem_pred=array([0.33197993, 0.36334705, 0.49354441, ..., 0.23940261, 0.20074619,\n",
      "       0.24610961])\n",
      "per_gop_pred=array([0.62085646, 0.59904413, 0.48977028, ..., 0.67572436, 0.74995017,\n",
      "       0.70358488])\n",
      "per_other_pred=array([0.04716361, 0.03760882, 0.01668531, ..., 0.08487303, 0.04930364,\n",
      "       0.0503055 ])\n",
      "Simulation 34\n",
      "weight_2016=0.9847411092756875\n",
      "per_dem_pred=array([0.33136791, 0.3597134 , 0.49603226, ..., 0.23755905, 0.19904167,\n",
      "       0.24572186])\n",
      "per_gop_pred=array([0.61673336, 0.59634984, 0.48503052, ..., 0.66930384, 0.74850223,\n",
      "       0.69998547])\n",
      "per_other_pred=array([0.05189873, 0.04393676, 0.01893721, ..., 0.0931371 , 0.0524561 ,\n",
      "       0.05429267])\n",
      "Simulation 35\n",
      "weight_2016=0.4236744444057443\n",
      "per_dem_pred=array([0.33336404, 0.37156459, 0.48791812, ..., 0.24357183, 0.20460098,\n",
      "       0.24698653])\n",
      "per_gop_pred=array([0.63018089, 0.60513729, 0.50048928, ..., 0.69024444, 0.75322469,\n",
      "       0.711725  ])\n",
      "per_other_pred=array([0.03645507, 0.02329813, 0.01159261, ..., 0.06618373, 0.04217433,\n",
      "       0.04128848])\n",
      "Simulation 36\n",
      "weight_2016=0.44402692137324573\n",
      "per_dem_pred=array([0.33329163, 0.37113469, 0.48821245, ..., 0.24335372, 0.20439932,\n",
      "       0.24694065])\n",
      "per_gop_pred=array([0.62969309, 0.60481853, 0.49992852, ..., 0.68948483, 0.75305338,\n",
      "       0.71129915])\n",
      "per_other_pred=array([0.03701529, 0.02404678, 0.01185903, ..., 0.06716145, 0.04254729,\n",
      "       0.0417602 ])\n",
      "Simulation 37\n",
      "weight_2016=0.5679236664489776\n",
      "per_dem_pred=array([0.33285084, 0.36851767, 0.49000425, ..., 0.24202596, 0.20317169,\n",
      "       0.24666138])\n",
      "per_gop_pred=array([0.62672355, 0.60287805, 0.49651486, ..., 0.68486065, 0.75201055,\n",
      "       0.70870679])\n",
      "per_other_pred=array([0.04042561, 0.02860428, 0.01348089, ..., 0.07311339, 0.04481775,\n",
      "       0.04463183])\n",
      "Simulation 38\n",
      "weight_2016=0.411284492224165\n",
      "per_dem_pred=array([0.33340812, 0.3718263 , 0.48773893, ..., 0.24370461, 0.20472375,\n",
      "       0.24701445])\n",
      "per_gop_pred=array([0.63047785, 0.60533134, 0.50083065, ..., 0.69070687, 0.75332897,\n",
      "       0.71198424])\n",
      "per_other_pred=array([0.03611403, 0.02284237, 0.01143042, ..., 0.06558852, 0.04194728,\n",
      "       0.04100131])\n",
      "Simulation 39\n",
      "weight_2016=0.6478102283418427\n",
      "per_dem_pred=array([0.33256662, 0.36683026, 0.49115957, ..., 0.24116984, 0.20238014,\n",
      "       0.24648131])\n",
      "per_gop_pred=array([0.62480885, 0.60162686, 0.49431379, ..., 0.68187906, 0.75133816,\n",
      "       0.70703527])\n",
      "per_other_pred=array([0.04262453, 0.03154288, 0.01452664, ..., 0.0769511 , 0.04628171,\n",
      "       0.04648341])\n",
      "Simulation 40\n",
      "weight_2016=0.6440824823135713\n",
      "per_dem_pred=array([0.33257988, 0.366909  , 0.49110566, ..., 0.24120979, 0.20241708,\n",
      "       0.24648972])\n",
      "per_gop_pred=array([0.6248982 , 0.60168525, 0.4944165 , ..., 0.68201819, 0.75136953,\n",
      "       0.70711327])\n",
      "per_other_pred=array([0.04252192, 0.03140575, 0.01447784, ..., 0.07677202, 0.04621339,\n",
      "       0.04639701])\n",
      "Simulation 41\n",
      "weight_2016=0.946914487038448\n",
      "per_dem_pred=array([0.33150248, 0.3605124 , 0.49548521, ..., 0.23796443, 0.19941647,\n",
      "       0.24580712])\n",
      "per_gop_pred=array([0.61763998, 0.59694228, 0.48607274, ..., 0.67071564, 0.74882062,\n",
      "       0.70077694])\n",
      "per_other_pred=array([0.05085754, 0.04254532, 0.01844205, ..., 0.09131993, 0.05176291,\n",
      "       0.05341594])\n",
      "Simulation 42\n",
      "weight_2016=0.8886464497014968\n",
      "per_dem_pred=array([0.33170979, 0.36174317, 0.49464254, ..., 0.23858887, 0.19999382,\n",
      "       0.24593846])\n",
      "per_gop_pred=array([0.61903654, 0.59785488, 0.48767817, ..., 0.67289037, 0.74931106,\n",
      "       0.70199611])\n",
      "per_other_pred=array([0.04925368, 0.04040195, 0.01767929, ..., 0.08852076, 0.05069513,\n",
      "       0.05206543])\n",
      "Simulation 43\n",
      "weight_2016=0.904143636737011\n",
      "per_dem_pred=array([0.33165465, 0.36141583, 0.49486666, ..., 0.23842279, 0.19984026,\n",
      "       0.24590353])\n",
      "per_gop_pred=array([0.6186651 , 0.59761216, 0.48725118, ..., 0.67231197, 0.74918062,\n",
      "       0.70167186])\n",
      "per_other_pred=array([0.04968024, 0.04097201, 0.01788216, ..., 0.08926524, 0.05097912,\n",
      "       0.05242461])\n",
      "Simulation 44\n",
      "weight_2016=0.4419091196862232\n",
      "per_dem_pred=array([0.33329916, 0.37117942, 0.48818183, ..., 0.24337642, 0.20442031,\n",
      "       0.24694542])\n",
      "per_gop_pred=array([0.62974384, 0.60485169, 0.49998687, ..., 0.68956387, 0.75307121,\n",
      "       0.71134346])\n",
      "per_other_pred=array([0.03695699, 0.02396888, 0.01183131, ..., 0.06705971, 0.04250848,\n",
      "       0.04171111])\n",
      "Simulation 45\n",
      "weight_2016=0.9668999798080231\n",
      "per_dem_pred=array([0.33143138, 0.36009025, 0.49577424, ..., 0.23775025, 0.19921844,\n",
      "       0.24576207])\n",
      "per_gop_pred=array([0.61716097, 0.59662927, 0.48552209, ..., 0.66996973, 0.7486524 ,\n",
      "       0.70035877])\n",
      "per_other_pred=array([0.05140765, 0.04328048, 0.01870366, ..., 0.09228002, 0.05212915,\n",
      "       0.05387916])\n",
      "Simulation 46\n",
      "weight_2016=0.7932784886920975\n",
      "per_dem_pred=array([0.33204908, 0.36375759, 0.49326333, ..., 0.2396109 , 0.20093877,\n",
      "       0.24615342])\n",
      "per_gop_pred=array([0.6213223 , 0.59934853, 0.49030579, ..., 0.67644977, 0.75011376,\n",
      "       0.70399155])\n",
      "per_other_pred=array([0.04662862, 0.03689387, 0.01643088, ..., 0.08393933, 0.04894747,\n",
      "       0.04985502])\n",
      "Simulation 47\n",
      "weight_2016=0.9280434242930661\n",
      "per_dem_pred=array([0.33156962, 0.36091101, 0.4952123 , ..., 0.23816666, 0.19960345,\n",
      "       0.24584966])\n",
      "per_gop_pred=array([0.61809228, 0.59723784, 0.48659268, ..., 0.67141996, 0.74897945,\n",
      "       0.70117179])\n",
      "per_other_pred=array([0.0503381 , 0.04185115, 0.01819502, ..., 0.09041337, 0.05141709,\n",
      "       0.05297855])\n",
      "Simulation 48\n",
      "weight_2016=0.8601443528180995\n",
      "per_dem_pred=array([0.33181119, 0.36234521, 0.49423034, ..., 0.23889432, 0.20027623,\n",
      "       0.24600271])\n",
      "per_gop_pred=array([0.61971967, 0.59830128, 0.48846347, ..., 0.67395415, 0.74955096,\n",
      "       0.70259248])\n",
      "per_other_pred=array([0.04846914, 0.03935351, 0.01730619, ..., 0.08715153, 0.05017281,\n",
      "       0.05140481])\n",
      "Simulation 49\n",
      "weight_2016=0.6851374206104992\n",
      "per_dem_pred=array([0.33243382, 0.36604181, 0.49169939, ..., 0.24076981, 0.20201028,\n",
      "       0.24639718])\n",
      "per_gop_pred=array([0.6239142 , 0.60104224, 0.49328534, ..., 0.6804859 , 0.75102398,\n",
      "       0.70625425])\n",
      "per_other_pred=array([0.04365198, 0.03291595, 0.01501527, ..., 0.07874428, 0.04696574,\n",
      "       0.04734857])\n",
      "Simulation 50\n",
      "weight_2016=0.325601162716126\n",
      "per_dem_pred=array([0.33371296, 0.37363615, 0.48649978, ..., 0.24462286, 0.20557274,\n",
      "       0.24720759])\n",
      "per_gop_pred=array([0.63253149, 0.60667331, 0.50319143, ..., 0.69390481, 0.75405016,\n",
      "       0.71377704])\n",
      "per_other_pred=array([0.03375556, 0.01969054, 0.01030878, ..., 0.06147233, 0.04037709,\n",
      "       0.03901537])\n",
      "Simulation 51\n",
      "weight_2016=0.3207501296127628\n",
      "per_dem_pred=array([0.33373021, 0.37373862, 0.48642963, ..., 0.24467484, 0.20562081,\n",
      "       0.24721852])\n",
      "per_gop_pred=array([0.63264776, 0.60674929, 0.50332509, ..., 0.69408587, 0.754091  ,\n",
      "       0.71387854])\n",
      "per_other_pred=array([0.03362203, 0.01951209, 0.01024528, ..., 0.06123929, 0.0402882 ,\n",
      "       0.03890294])\n",
      "Simulation 52\n",
      "weight_2016=0.39967403335299834\n",
      "per_dem_pred=array([0.33344942, 0.37207154, 0.48757102, ..., 0.24382904, 0.20483879,\n",
      "       0.24704062])\n",
      "per_gop_pred=array([0.63075613, 0.60551318, 0.50115055, ..., 0.6911402 , 0.7534267 ,\n",
      "       0.71222717])\n",
      "per_other_pred=array([0.03579445, 0.02241528, 0.01127843, ..., 0.06503076, 0.04173451,\n",
      "       0.0407322 ])\n",
      "Simulation 53\n",
      "weight_2016=0.34127856668753376\n",
      "per_dem_pred=array([0.33365718, 0.373305  , 0.48672651, ..., 0.24445485, 0.2054174 ,\n",
      "       0.24717225])\n",
      "per_gop_pred=array([0.63215574, 0.60642777, 0.50275948, ..., 0.69331969, 0.75391821,\n",
      "       0.71344902])\n",
      "per_other_pred=array([0.03418708, 0.02026722, 0.01051401, ..., 0.06222547, 0.04066439,\n",
      "       0.03937874])\n",
      "Simulation 54\n",
      "weight_2016=0.9813848948000996\n",
      "per_dem_pred=array([0.33137985, 0.3597843 , 0.49598373, ..., 0.23759502, 0.19907492,\n",
      "       0.24572942])\n",
      "per_gop_pred=array([0.6168138 , 0.59640241, 0.485123  , ..., 0.66942911, 0.74853048,\n",
      "       0.70005569])\n",
      "per_other_pred=array([0.05180635, 0.0438133 , 0.01889328, ..., 0.09297587, 0.0523946 ,\n",
      "       0.05421488])\n",
      "Simulation 55\n",
      "weight_2016=0.3387612528812605\n",
      "per_dem_pred=array([0.33366614, 0.37335817, 0.4866901 , ..., 0.24448182, 0.20544235,\n",
      "       0.24717792])\n",
      "per_gop_pred=array([0.63221607, 0.6064672 , 0.50282884, ..., 0.69341364, 0.7539394 ,\n",
      "       0.71350169])\n",
      "per_other_pred=array([0.03411779, 0.02017463, 0.01048106, ..., 0.06210454, 0.04061826,\n",
      "       0.03932039])\n",
      "Simulation 56\n",
      "weight_2016=0.8275370891906221\n",
      "per_dem_pred=array([0.3319272 , 0.36303396, 0.49375878, ..., 0.23924376, 0.20059932,\n",
      "       0.2460762 ])\n",
      "per_gop_pred=array([0.62050119, 0.59881197, 0.48936188, ..., 0.67517114, 0.74982541,\n",
      "       0.70327474])\n",
      "per_other_pred=array([0.04757161, 0.03815406, 0.01687934, ..., 0.0855851 , 0.04957527,\n",
      "       0.05064906])\n",
      "Simulation 57\n",
      "weight_2016=0.8572103333332508\n",
      "per_dem_pred=array([0.33182163, 0.36240718, 0.49418791, ..., 0.23892576, 0.2003053 ,\n",
      "       0.24600932])\n",
      "per_gop_pred=array([0.61978999, 0.59834723, 0.48854431, ..., 0.67406365, 0.74957565,\n",
      "       0.70265387])\n",
      "per_other_pred=array([0.04838838, 0.03924558, 0.01726778, ..., 0.08701059, 0.05011905,\n",
      "       0.05133681])\n",
      "Simulation 58\n",
      "weight_2016=0.47169591418733353\n",
      "per_dem_pred=array([0.33319319, 0.37055025, 0.4886126 , ..., 0.2430572 , 0.20412516,\n",
      "       0.24687828])\n",
      "per_gop_pred=array([0.62902992, 0.60438517, 0.49916617, ..., 0.68845214, 0.7528205 ,\n",
      "       0.71072022])\n",
      "per_other_pred=array([0.03777689, 0.02506458, 0.01222123, ..., 0.06849065, 0.04305434,\n",
      "       0.0424015 ])\n",
      "Simulation 59\n",
      "weight_2016=0.31939658639293483\n",
      "per_dem_pred=array([0.33373503, 0.37376721, 0.48641005, ..., 0.24468935, 0.20563422,\n",
      "       0.24722157])\n",
      "per_gop_pred=array([0.6326802 , 0.60677049, 0.50336239, ..., 0.69413638, 0.75410239,\n",
      "       0.71390686])\n",
      "per_other_pred=array([0.03358477, 0.0194623 , 0.01022756, ..., 0.06117427, 0.04026339,\n",
      "       0.03887156])\n",
      "Simulation 60\n",
      "weight_2016=0.4820043900350696\n",
      "per_dem_pred=array([0.33315651, 0.37033251, 0.48876168, ..., 0.24294673, 0.20402302,\n",
      "       0.24685505])\n",
      "per_gop_pred=array([0.62878285, 0.60422372, 0.49888215, ..., 0.6880674 , 0.75273373,\n",
      "       0.71050453])\n",
      "per_other_pred=array([0.03806064, 0.02544377, 0.01235617, ..., 0.06898587, 0.04324325,\n",
      "       0.04264043])\n",
      "Simulation 61\n",
      "weight_2016=0.839900877663327\n",
      "per_dem_pred=array([0.33188321, 0.3627728 , 0.49393758, ..., 0.23911126, 0.20047681,\n",
      "       0.24604834])\n",
      "per_gop_pred=array([0.62020486, 0.59861833, 0.48902123, ..., 0.67470969, 0.74972134,\n",
      "       0.70301605])\n",
      "per_other_pred=array([0.04791193, 0.03860886, 0.01704119, ..., 0.08617905, 0.04980184,\n",
      "       0.05093562])\n",
      "Simulation 62\n",
      "weight_2016=0.6506841025373528\n",
      "per_dem_pred=array([0.33255639, 0.36676955, 0.49120113, ..., 0.24113904, 0.20235166,\n",
      "       0.24647484])\n",
      "per_gop_pred=array([0.62473997, 0.60158185, 0.49423461, ..., 0.6817718 , 0.75131397,\n",
      "       0.70697514])\n",
      "per_other_pred=array([0.04270364, 0.03164859, 0.01456426, ..., 0.07708916, 0.04633437,\n",
      "       0.04655002])\n",
      "Simulation 63\n",
      "weight_2016=0.8178401947931595\n",
      "per_dem_pred=array([0.3319617 , 0.36323878, 0.49361854, ..., 0.23934768, 0.2006954 ,\n",
      "       0.24609806])\n",
      "per_gop_pred=array([0.62073361, 0.59896385, 0.48962905, ..., 0.67553306, 0.74990703,\n",
      "       0.70347763])\n",
      "per_other_pred=array([0.0473047 , 0.03779737, 0.01675241, ..., 0.08511926, 0.04939757,\n",
      "       0.0504243 ])\n",
      "Simulation 64\n",
      "weight_2016=0.7478305309290507\n",
      "per_dem_pred=array([0.33221077, 0.36471757, 0.49260606, ..., 0.24009795, 0.20138909,\n",
      "       0.24625587])\n",
      "per_gop_pred=array([0.62241158, 0.60006034, 0.49155799, ..., 0.67814602, 0.75049629,\n",
      "       0.70494249])\n",
      "per_other_pred=array([0.04537764, 0.03522209, 0.01583595, ..., 0.08175603, 0.04811462,\n",
      "       0.04880165])\n",
      "Simulation 65\n",
      "weight_2016=0.49373819795421225\n",
      "per_dem_pred=array([0.33311477, 0.37008466, 0.48893138, ..., 0.24282098, 0.20390676,\n",
      "       0.2468286 ])\n",
      "per_gop_pred=array([0.62850162, 0.60403995, 0.49855885, ..., 0.68762946, 0.75263497,\n",
      "       0.71025901])\n",
      "per_other_pred=array([0.03838362, 0.0258754 , 0.01250977, ..., 0.06954956, 0.04345827,\n",
      "       0.04291239])\n",
      "Simulation 66\n",
      "weight_2016=0.5653119757255998\n",
      "per_dem_pred=array([0.33286013, 0.36857284, 0.48996648, ..., 0.24205395, 0.20319757,\n",
      "       0.24666727])\n",
      "per_gop_pred=array([0.62678615, 0.60291895, 0.49658682, ..., 0.68495813, 0.75203254,\n",
      "       0.70876143])\n",
      "per_other_pred=array([0.04035372, 0.02850821, 0.0134467 , ..., 0.07298793, 0.04476989,\n",
      "       0.0445713 ])\n",
      "Simulation 67\n",
      "weight_2016=0.6878166649486089\n",
      "per_dem_pred=array([0.33242429, 0.36598522, 0.49173814, ..., 0.2407411 , 0.20198374,\n",
      "       0.24639114])\n",
      "per_gop_pred=array([0.62384998, 0.60100028, 0.49321152, ..., 0.6803859 , 0.75100142,\n",
      "       0.70619819])\n",
      "per_other_pred=array([0.04372573, 0.0330145 , 0.01505034, ..., 0.07887299, 0.04701484,\n",
      "       0.04741067])\n",
      "Simulation 68\n",
      "weight_2016=0.3686368811731374\n",
      "per_dem_pred=array([0.33355985, 0.37272712, 0.48712216, ..., 0.24416166, 0.20514632,\n",
      "       0.24711058])\n",
      "per_gop_pred=array([0.63150002, 0.60599929, 0.5020057 , ..., 0.6922986 , 0.75368794,\n",
      "       0.71287658])\n",
      "per_other_pred=array([0.03494014, 0.02127359, 0.01087214, ..., 0.06353975, 0.04116574,\n",
      "       0.04001284])\n",
      "Simulation 69\n",
      "weight_2016=0.990611765105191\n",
      "per_dem_pred=array([0.33134702, 0.3595894 , 0.49611716, ..., 0.23749614, 0.1989835 ,\n",
      "       0.24570863])\n",
      "per_gop_pred=array([0.61659265, 0.59625789, 0.48486877, ..., 0.66908473, 0.74845282,\n",
      "       0.69986263])\n",
      "per_other_pred=array([0.05206033, 0.04415271, 0.01901406, ..., 0.09341913, 0.05256368,\n",
      "       0.05442874])\n",
      "Simulation 70\n",
      "weight_2016=0.7930229899521631\n",
      "per_dem_pred=array([0.33204999, 0.36376299, 0.49325964, ..., 0.23961364, 0.2009413 ,\n",
      "       0.246154  ])\n",
      "per_gop_pred=array([0.62132842, 0.59935254, 0.49031283, ..., 0.67645931, 0.75011591,\n",
      "       0.7039969 ])\n",
      "per_other_pred=array([0.04662159, 0.03688448, 0.01642754, ..., 0.08392706, 0.04894279,\n",
      "       0.0498491 ])\n",
      "Simulation 71\n",
      "weight_2016=0.964360373768806\n",
      "per_dem_pred=array([0.33144042, 0.3601439 , 0.49573752, ..., 0.23777747, 0.19924361,\n",
      "       0.2457678 ])\n",
      "per_gop_pred=array([0.61722184, 0.59666904, 0.48559206, ..., 0.67006451, 0.74867378,\n",
      "       0.70041191])\n",
      "per_other_pred=array([0.05133774, 0.04318706, 0.01867042, ..., 0.09215802, 0.05208261,\n",
      "       0.05382029])\n",
      "Simulation 72\n",
      "weight_2016=0.3098409074765864\n",
      "per_dem_pred=array([0.33376903, 0.37396905, 0.48627186, ..., 0.24479175, 0.2057289 ,\n",
      "       0.24724311])\n",
      "per_gop_pred=array([0.63290923, 0.60692015, 0.50362567, ..., 0.69449303, 0.75418282,\n",
      "       0.7141068 ])\n",
      "per_other_pred=array([0.03332175, 0.0191108 , 0.01010248, ..., 0.06071522, 0.04008828,\n",
      "       0.03865009])\n",
      "Simulation 73\n",
      "weight_2016=0.39012118560178666\n",
      "per_dem_pred=array([0.33348341, 0.37227332, 0.48743287, ..., 0.24393141, 0.20493345,\n",
      "       0.24706216])\n",
      "per_gop_pred=array([0.63098509, 0.6056628 , 0.50141375, ..., 0.69149674, 0.7535071 ,\n",
      "       0.71242705])\n",
      "per_other_pred=array([0.0355315 , 0.02206388, 0.01115338, ..., 0.06457184, 0.04155945,\n",
      "       0.04051079])\n",
      "Simulation 74\n",
      "weight_2016=0.7567672823160332\n",
      "per_dem_pred=array([0.33217898, 0.3645288 , 0.49273531, ..., 0.24000218, 0.20130054,\n",
      "       0.24623572])\n",
      "per_gop_pred=array([0.62219739, 0.59992037, 0.49131176, ..., 0.67781247, 0.75042107,\n",
      "       0.7047555 ])\n",
      "per_other_pred=array([0.04562363, 0.03555082, 0.01595294, ..., 0.08218535, 0.04827839,\n",
      "       0.04900878])\n",
      "Simulation 75\n",
      "weight_2016=0.3127058865035665\n",
      "per_dem_pred=array([0.33375883, 0.37390853, 0.48631329, ..., 0.24476105, 0.20570051,\n",
      "       0.24723665])\n",
      "per_gop_pred=array([0.63284056, 0.60687528, 0.50354673, ..., 0.6943861 , 0.7541587 ,\n",
      "       0.71404686])\n",
      "per_other_pred=array([0.03340061, 0.01921619, 0.01013998, ..., 0.06085285, 0.04014078,\n",
      "       0.03871649])\n",
      "Simulation 76\n",
      "weight_2016=0.49808859094082125\n",
      "per_dem_pred=array([0.33309929, 0.36999277, 0.48899429, ..., 0.24277436, 0.20386365,\n",
      "       0.24681879])\n",
      "per_gop_pred=array([0.62839735, 0.60397181, 0.49843899, ..., 0.68746709, 0.75259835,\n",
      "       0.71016799])\n",
      "per_other_pred=array([0.03850336, 0.02603542, 0.01256672, ..., 0.06975855, 0.043538  ,\n",
      "       0.04301322])\n",
      "Simulation 77\n",
      "weight_2016=0.9405640562719321\n",
      "per_dem_pred=array([0.33152508, 0.36064654, 0.49539337, ..., 0.23803248, 0.19947939,\n",
      "       0.24582144])\n",
      "per_gop_pred=array([0.61779219, 0.59704174, 0.48624771, ..., 0.67095266, 0.74887407,\n",
      "       0.70090981])\n",
      "per_other_pred=array([0.05068274, 0.04231172, 0.01835892, ..., 0.09101486, 0.05164654,\n",
      "       0.05326875])\n",
      "Simulation 78\n",
      "weight_2016=0.43057998379497686\n",
      "per_dem_pred=array([0.33333947, 0.37141872, 0.48801798, ..., 0.24349783, 0.20453256,\n",
      "       0.24697096])\n",
      "per_gop_pred=array([0.63001538, 0.60502913, 0.50029901, ..., 0.68998671, 0.75316657,\n",
      "       0.71158051])\n",
      "per_other_pred=array([0.03664515, 0.02355214, 0.011683  , ..., 0.06651546, 0.04230087,\n",
      "       0.04144853])\n",
      "Simulation 79\n",
      "weight_2016=0.9061970177864753\n",
      "per_dem_pred=array([0.33164735, 0.36137246, 0.49489636, ..., 0.23840079, 0.19981992,\n",
      "       0.2458989 ])\n",
      "per_gop_pred=array([0.61861589, 0.59758   , 0.48719461, ..., 0.67223533, 0.74916333,\n",
      "       0.70162889])\n",
      "per_other_pred=array([0.04973677, 0.04104754, 0.01790904, ..., 0.08936388, 0.05101675,\n",
      "       0.05247221])\n",
      "Simulation 80\n",
      "weight_2016=0.43658447485897567\n",
      "per_dem_pred=array([0.33331811, 0.37129189, 0.48810482, ..., 0.24343348, 0.20447307,\n",
      "       0.24695743])\n",
      "per_gop_pred=array([0.62987146, 0.60493509, 0.50013357, ..., 0.6897626 , 0.75311603,\n",
      "       0.71145487])\n",
      "per_other_pred=array([0.03681043, 0.02377302, 0.0117616 , ..., 0.06680392, 0.04241091,\n",
      "       0.0415877 ])\n",
      "Simulation 81\n",
      "weight_2016=0.6831513497456407\n",
      "per_dem_pred=array([0.33244088, 0.36608376, 0.49167067, ..., 0.2407911 , 0.20202996,\n",
      "       0.24640165])\n",
      "per_gop_pred=array([0.6239618 , 0.60107335, 0.49334006, ..., 0.68056003, 0.75104069,\n",
      "       0.70629581])\n",
      "per_other_pred=array([0.04359731, 0.03284289, 0.01498927, ..., 0.07864887, 0.04692935,\n",
      "       0.04730254])\n",
      "Simulation 82\n",
      "weight_2016=0.8175248578890367\n",
      "per_dem_pred=array([0.33196282, 0.36324544, 0.49361398, ..., 0.23935106, 0.20069852,\n",
      "       0.24609877])\n",
      "per_gop_pred=array([0.62074116, 0.59896879, 0.48963774, ..., 0.67554483, 0.74990968,\n",
      "       0.70348423])\n",
      "per_other_pred=array([0.04729602, 0.03778577, 0.01674828, ..., 0.08510411, 0.04939179,\n",
      "       0.050417  ])\n",
      "Simulation 83\n",
      "weight_2016=0.3380380170232321\n",
      "per_dem_pred=array([0.33366871, 0.37337345, 0.48667964, ..., 0.24448957, 0.20544951,\n",
      "       0.24717955])\n",
      "per_gop_pred=array([0.63223341, 0.60647853, 0.50284877, ..., 0.69344063, 0.75394548,\n",
      "       0.71351682])\n",
      "per_other_pred=array([0.03409789, 0.02014802, 0.01047159, ..., 0.06206979, 0.040605  ,\n",
      "       0.03930363])\n",
      "Simulation 84\n",
      "weight_2016=0.9696709315295758\n",
      "per_dem_pred=array([0.33142152, 0.36003172, 0.49581432, ..., 0.23772056, 0.19919099,\n",
      "       0.24575583])\n",
      "per_gop_pred=array([0.61709456, 0.59658587, 0.48544574, ..., 0.66986631, 0.74862908,\n",
      "       0.70030079])\n",
      "per_other_pred=array([0.05148392, 0.04338241, 0.01873994, ..., 0.09241314, 0.05217993,\n",
      "       0.05394338])\n",
      "Simulation 85\n",
      "weight_2016=0.8108602112122761\n",
      "per_dem_pred=array([0.33198653, 0.36338622, 0.4935176 , ..., 0.23942248, 0.20076456,\n",
      "       0.24611379])\n",
      "per_gop_pred=array([0.6209009 , 0.59907317, 0.48982137, ..., 0.67579357, 0.74996578,\n",
      "       0.70362368])\n",
      "per_other_pred=array([0.04711257, 0.03754061, 0.01666104, ..., 0.08478395, 0.04926966,\n",
      "       0.05026252])\n",
      "Simulation 86\n",
      "weight_2016=0.6785271823404352\n",
      "per_dem_pred=array([0.33245734, 0.36618144, 0.4916038 , ..., 0.24084065, 0.20207578,\n",
      "       0.24641208])\n",
      "per_gop_pred=array([0.62407263, 0.60114577, 0.49346746, ..., 0.68073261, 0.75107961,\n",
      "       0.70639256])\n",
      "per_other_pred=array([0.04347003, 0.03267279, 0.01492874, ..., 0.07842673, 0.04684461,\n",
      "       0.04719536])\n",
      "Simulation 87\n",
      "weight_2016=0.784691059600231\n",
      "per_dem_pred=array([0.33207963, 0.36393898, 0.49313914, ..., 0.23970293, 0.20102386,\n",
      "       0.24617278])\n",
      "per_gop_pred=array([0.62152812, 0.59948303, 0.49054239, ..., 0.67677028, 0.75018604,\n",
      "       0.70417123])\n",
      "per_other_pred=array([0.04639225, 0.03657799, 0.01631847, ..., 0.08352679, 0.0487901 ,\n",
      "       0.04965599])\n",
      "Simulation 88\n",
      "weight_2016=0.3712858107199813\n",
      "per_dem_pred=array([0.33355042, 0.37267117, 0.48716047, ..., 0.24413327, 0.20512008,\n",
      "       0.24710461])\n",
      "per_gop_pred=array([0.63143653, 0.6059578 , 0.50193271, ..., 0.69219973, 0.75366564,\n",
      "       0.71282116])\n",
      "per_other_pred=array([0.03501305, 0.02137103, 0.01090682, ..., 0.063667  , 0.04121428,\n",
      "       0.04007423])\n",
      "Simulation 89\n",
      "weight_2016=0.39205916241715355\n",
      "per_dem_pred=array([0.33347652, 0.37223238, 0.4874609 , ..., 0.24391065, 0.20491424,\n",
      "       0.24705779])\n",
      "per_gop_pred=array([0.63093864, 0.60563245, 0.50136036, ..., 0.69142441, 0.75349079,\n",
      "       0.7123865 ])\n",
      "per_other_pred=array([0.03558485, 0.02213517, 0.01117875, ..., 0.06466494, 0.04159496,\n",
      "       0.04055571])\n",
      "Simulation 90\n",
      "weight_2016=0.36842883074774113\n",
      "per_dem_pred=array([0.33356059, 0.37273152, 0.48711915, ..., 0.24416389, 0.20514838,\n",
      "       0.24711105])\n",
      "per_gop_pred=array([0.631505  , 0.60600255, 0.50201143, ..., 0.69230636, 0.75368969,\n",
      "       0.71288093])\n",
      "per_other_pred=array([0.03493441, 0.02126594, 0.01086942, ..., 0.06352975, 0.04116193,\n",
      "       0.04000801])\n",
      "Simulation 91\n",
      "weight_2016=0.8598608187908946\n",
      "per_dem_pred=array([0.3318122 , 0.3623512 , 0.49422624, ..., 0.23889736, 0.20027904,\n",
      "       0.24600334])\n",
      "per_gop_pred=array([0.61972647, 0.59830572, 0.48847128, ..., 0.67396473, 0.74955334,\n",
      "       0.70259841])\n",
      "per_other_pred=array([0.04846134, 0.03934308, 0.01730248, ..., 0.08713791, 0.05016762,\n",
      "       0.05139824])\n",
      "Simulation 92\n",
      "weight_2016=0.5112798720637772\n",
      "per_dem_pred=array([0.33305236, 0.36971413, 0.48918507, ..., 0.24263299, 0.20373295,\n",
      "       0.24678906])\n",
      "per_gop_pred=array([0.62808118, 0.60376521, 0.49807553, ..., 0.68697476, 0.75248732,\n",
      "       0.70989198])\n",
      "per_other_pred=array([0.03886646, 0.02652066, 0.0127394 , ..., 0.07039225, 0.04377973,\n",
      "       0.04331896])\n",
      "Simulation 93\n",
      "weight_2016=0.4436236591578629\n",
      "per_dem_pred=array([0.33329306, 0.37114321, 0.48820662, ..., 0.24335804, 0.20440332,\n",
      "       0.24694156])\n",
      "per_gop_pred=array([0.62970275, 0.60482484, 0.49993963, ..., 0.68949988, 0.75305678,\n",
      "       0.71130759])\n",
      "per_other_pred=array([0.03700419, 0.02403195, 0.01185375, ..., 0.06714208, 0.0425399 ,\n",
      "       0.04175085])\n",
      "Simulation 94\n",
      "weight_2016=0.6974130520106379\n",
      "per_dem_pred=array([0.33239015, 0.36578252, 0.49187692, ..., 0.24063826, 0.20188865,\n",
      "       0.24636951])\n",
      "per_gop_pred=array([0.62361998, 0.60084998, 0.49294711, ..., 0.68002774, 0.75092065,\n",
      "       0.7059974 ])\n",
      "per_other_pred=array([0.04398988, 0.0333675 , 0.01517596, ..., 0.079334  , 0.0471907 ,\n",
      "       0.04763309])\n",
      "Simulation 95\n",
      "weight_2016=0.4118746191896253\n",
      "per_dem_pred=array([0.33340602, 0.37181383, 0.48774747, ..., 0.24369829, 0.2047179 ,\n",
      "       0.24701312])\n",
      "per_gop_pred=array([0.63046371, 0.6053221 , 0.50081439, ..., 0.69068484, 0.75332401,\n",
      "       0.71197189])\n",
      "per_other_pred=array([0.03613028, 0.02286407, 0.01143814, ..., 0.06561687, 0.04195809,\n",
      "       0.04101499])\n",
      "Simulation 96\n",
      "weight_2016=0.9874376538057473\n",
      "per_dem_pred=array([0.33135831, 0.35965645, 0.49607126, ..., 0.23753015, 0.19901495,\n",
      "       0.24571578])\n",
      "per_gop_pred=array([0.61666873, 0.59630761, 0.48495623, ..., 0.6692032 , 0.74847954,\n",
      "       0.69992905])\n",
      "per_other_pred=array([0.05197296, 0.04403595, 0.01897251, ..., 0.09326664, 0.05250552,\n",
      "       0.05435517])\n",
      "Simulation 97\n",
      "weight_2016=0.8285167269012254\n",
      "per_dem_pred=array([0.33192371, 0.36301327, 0.49377295, ..., 0.23923326, 0.20058961,\n",
      "       0.246074  ])\n",
      "per_gop_pred=array([0.62047771, 0.59879663, 0.48933489, ..., 0.67513458, 0.74981716,\n",
      "       0.70325424])\n",
      "per_other_pred=array([0.04759857, 0.0381901 , 0.01689217, ..., 0.08563216, 0.04959322,\n",
      "       0.05067176])\n",
      "Simulation 98\n",
      "weight_2016=0.48204866875214997\n",
      "per_dem_pred=array([0.33315636, 0.37033157, 0.48876232, ..., 0.24294626, 0.20402258,\n",
      "       0.24685495])\n",
      "per_gop_pred=array([0.62878179, 0.60422303, 0.49888093, ..., 0.68806575, 0.75273336,\n",
      "       0.7105036 ])\n",
      "per_other_pred=array([0.03806186, 0.0254454 , 0.01235675, ..., 0.068988  , 0.04324406,\n",
      "       0.04264145])\n",
      "Simulation 99\n",
      "weight_2016=0.99902635117304\n",
      "per_dem_pred=array([0.33131708, 0.35941166, 0.49623886, ..., 0.23740596, 0.19890012,\n",
      "       0.24568966])\n",
      "per_gop_pred=array([0.61639097, 0.5961261 , 0.48463693, ..., 0.66877068, 0.748382  ,\n",
      "       0.69968657])\n",
      "per_other_pred=array([0.05229194, 0.04446223, 0.01912421, ..., 0.09382336, 0.05271788,\n",
      "       0.05462377])\n"
     ]
    }
   ],
   "source": [
    "import joblib\n",
    "import statsmodels.api as sm\n",
    "\n",
    "# Inicializar un DataFrame para guardar los resultados de las simulaciones\n",
    "# simulation_results = pd.DataFrame(columns=['Pred_dem', 'Pred_gop', 'dem', 'gop'])\n",
    "simulation_results = pd.DataFrame(columns=['Pred_dem', 'Pred_gop'])\n",
    "\n",
    "\n",
    "# Inicializar un DataFrame para acumular los resultados por estado\n",
    "accumulated_pred_state = pd.DataFrame()\n",
    "\n",
    "for i in range(0, n_sim):\n",
    "\n",
    "    print(f\"Simulation {i}\")\n",
    "\n",
    "    ## ------------------------------\n",
    "    ## SPLIT DEL DATASET (ENTRENAMIENTO)\n",
    "    # X_2016 = data_2016.drop(columns=['per_dem', 'per_gop'])\n",
    "    # y_dem_2016 = data_2016['per_dem']\n",
    "    # y_gop_2016 = data_2016['per_gop']\n",
    "\n",
    "    # X_2020 = data_2020.drop(columns=['per_dem', 'per_gop'])\n",
    "    # y_dem_2020 = data_2020['per_dem']\n",
    "    # y_gop_2020 = data_2020['per_gop']\n",
    "\n",
    "    # # Hacer un split en cada simulación (80% train, 20% test)\n",
    "    # X_train_2016, X_test_2016, y_train_dem_2016, y_test_dem_2016 = train_test_split(X_2016, y_dem_2016, test_size=0.2, random_state=i)\n",
    "    # _, _, y_train_gop_2016, y_test_gop_2016 = train_test_split(X_2016, y_gop_2016, test_size=0.2, random_state=i)\n",
    "\n",
    "    # X_train_2020, X_test_2020, y_train_dem_2020, y_test_dem_2020 = train_test_split(X_2020, y_dem_2020, test_size=0.2, random_state=i)\n",
    "    # _, _, y_train_gop_2020, y_test_gop_2020 = train_test_split(X_2020, y_gop_2020, test_size=0.2, random_state=i)\n",
    "\n",
    "    # Imprimir los índices del train para 2016 y 2020\n",
    "    # print(f\"Train indices 2016: {X_train_2016.index}\")\n",
    "    # print(f\"Train indices 2020: {X_train_2020.index}\")\n",
    "\n",
    "    ## ------------------------------\n",
    "    ## ENTRENAR MODELOS\n",
    "    # # Modelos para per_dem 2016\n",
    "    # lr_model_dem_2016 = LinearRegression().fit(X_train_2016, y_train_dem_2016)\n",
    "    # rf_model_dem_2016 = RandomForestRegressor(n_estimators=100, random_state=i).fit(X_train_2016, y_train_dem_2016)\n",
    "    # knn_model_dem_2016 = KNeighborsRegressor(n_neighbors=5).fit(X_train_2016, y_train_dem_2016)\n",
    "    # # Modelos para per_dem 2020\n",
    "    # lr_model_dem_2020 = LinearRegression().fit(X_train_2020, y_train_dem_2020)\n",
    "    # rf_model_dem_2020 = RandomForestRegressor(n_estimators=100, random_state=i).fit(X_train_2020, y_train_dem_2020)\n",
    "    # knn_model_dem_2020 = KNeighborsRegressor(n_neighbors=5).fit(X_train_2020, y_train_dem_2020)\n",
    "\n",
    "    # # Modelos para per_gop 2016\n",
    "    # lr_model_gop_2016 = LinearRegression().fit(X_train_2016, y_train_gop_2016)\n",
    "    # rf_model_gop_2016 = RandomForestRegressor(n_estimators=100, random_state=i).fit(X_train_2016, y_train_gop_2016)\n",
    "    # knn_model_gop_2016 = KNeighborsRegressor(n_neighbors=5).fit(X_train_2016, y_train_gop_2016)\n",
    "    # # Modelos para per_gop 2020\n",
    "    # lr_model_gop_2020 = LinearRegression().fit(X_train_2020, y_train_gop_2020)\n",
    "    # rf_model_gop_2020 = RandomForestRegressor(n_estimators=100, random_state=i).fit(X_train_2020, y_train_gop_2020)\n",
    "    # knn_model_gop_2020 = KNeighborsRegressor(n_neighbors=5).fit(X_train_2020, y_train_gop_2020)\n",
    "\n",
    "    ## ------------------------------\n",
    "    ## CARGAR MODELOS DESDE ARCHIVOS GUARDADOS\n",
    "    # Modelos para per_dem 2016\n",
    "    lr_model_dem_2016 = joblib.load(f'models/ridge_dem_2016.pkl')\n",
    "    rf_model_dem_2016 = joblib.load(f'models/random_forest_dem_2016.pkl')\n",
    "    knn_model_dem_2016 = joblib.load(f'models/knn_dem_2016.pkl')\n",
    "    \n",
    "    # Modelos para per_dem 2020\n",
    "    lr_model_dem_2020 = joblib.load(f'models/ridge_dem_2020.pkl')\n",
    "    rf_model_dem_2020 = joblib.load(f'models/random_forest_dem_2020.pkl')\n",
    "    knn_model_dem_2020 = joblib.load(f'models/knn_dem_2020.pkl')\n",
    "\n",
    "    # Modelos para per_gop 2016\n",
    "    lr_model_gop_2016 = joblib.load(f'models/ridge_gop_2016.pkl')\n",
    "    rf_model_gop_2016 = joblib.load(f'models/random_forest_gop_2016.pkl')\n",
    "    knn_model_gop_2016 = joblib.load(f'models/knn_gop_2016.pkl')\n",
    "\n",
    "    # Modelos para per_gop 2020\n",
    "    lr_model_gop_2020 = joblib.load(f'models/ridge_gop_2020.pkl')\n",
    "    rf_model_gop_2020 = joblib.load(f'models/random_forest_gop_2020.pkl')\n",
    "    knn_model_gop_2020 = joblib.load(f'models/knn_gop_2020.pkl')\n",
    "\n",
    "\n",
    "\n",
    "    ## ------------------------------\n",
    "    ## PREDICCIONES CON data_sim\n",
    "    X_sim = data_sim.drop(columns=['per_dem', 'per_gop'])\n",
    "\n",
    "    # Predicciones per_dem 2016\n",
    "    # pred_lr_dem_2016 = lr_model_dem_2016.predict(X_sim)\n",
    "    pred_rf_dem_2016 = rf_model_dem_2016.predict(X_sim)\n",
    "    # pred_knn_dem_2016 = knn_model_dem_2016.predict(X_sim)\n",
    "    # Predicciones per_dem 2020\n",
    "    # pred_lr_dem_2020 = lr_model_dem_2020.predict(X_sim)\n",
    "    pred_rf_dem_2020 = rf_model_dem_2020.predict(X_sim)\n",
    "    # pred_knn_dem_2020 = knn_model_dem_2020.predict(X_sim)\n",
    "\n",
    "    # Predicciones per_gop 2016\n",
    "    # pred_lr_gop_2016 = lr_model_gop_2016.predict(X_sim)\n",
    "    pred_rf_gop_2016 = rf_model_gop_2016.predict(X_sim)\n",
    "    # pred_knn_gop_2016 = knn_model_gop_2016.predict(X_sim)\n",
    "    # Predicciones per_gop 2020\n",
    "    # pred_lr_gop_2020 = lr_model_gop_2020.predict(X_sim)\n",
    "    pred_rf_gop_2020 = rf_model_gop_2020.predict(X_sim)\n",
    "    # pred_knn_gop_2020 = knn_model_gop_2020.predict(X_sim)\n",
    "\n",
    "    # Promedio de predicciones 2016\n",
    "    per_dem_pred_2016 = pred_rf_dem_2016 # (pred_lr_dem_2016 + pred_rf_dem_2016 + pred_knn_dem_2016) / 3\n",
    "    per_gop_pred_2016 = pred_rf_gop_2016 # (pred_lr_gop_2016 + pred_rf_gop_2016 + pred_knn_gop_2016) / 3\n",
    "    # Promedio de predicciones 2020\n",
    "    per_dem_pred_2020 = pred_rf_dem_2020 # (pred_lr_dem_2020 + pred_rf_dem_2020 + pred_knn_dem_2020) / 3\n",
    "    per_gop_pred_2020 = pred_rf_gop_2020 # (pred_lr_gop_2020 + pred_rf_gop_2020 + pred_knn_gop_2020) / 3\n",
    "\n",
    "    # Calcular per_other de manera residual 2016\n",
    "    per_other_pred_2016 = 1 - (per_dem_pred_2016 + per_gop_pred_2016)\n",
    "    # Calcular per_other de manera residual 2020\n",
    "    per_other_pred_2020 = 1 - (per_dem_pred_2020 + per_gop_pred_2020)\n",
    "    \n",
    "    # Asegurar que per_other no sea negativo (si es menor a 0, ajustamos) 2016\n",
    "    per_other_pred_2016 = np.clip(per_other_pred_2016, 0, 1)\n",
    "    # Asegurar que per_other no sea negativo (si es menor a 0, ajustamos) 2020\n",
    "    per_other_pred_2020 = np.clip(per_other_pred_2020, 0, 1)\n",
    "\n",
    "    # Weighted sum of predictions 2016 and 2020\n",
    "    weight_2016 = np.random.uniform(0.3, 1)  # Puede ser entre 0% y 100%\n",
    "    weight_2020 = 1 - weight_2016\n",
    "    print(f\"{weight_2016=}\")\n",
    "\n",
    "    per_dem_pred = (weight_2016 * per_dem_pred_2016 + weight_2020 * per_dem_pred_2020) / (weight_2016 + weight_2020)\n",
    "    per_gop_pred = (weight_2016 * per_gop_pred_2016 + weight_2020 * per_gop_pred_2020) / (weight_2016 + weight_2020)\n",
    "    per_other_pred = (weight_2016 * per_other_pred_2016 + weight_2020 * per_other_pred_2020) / (weight_2016 + weight_2020)\n",
    "    print(f\"{per_dem_pred=}\")\n",
    "    print(f\"{per_gop_pred=}\")\n",
    "    print(f\"{per_other_pred=}\")\n",
    "\n",
    "    ## PROCESAMIENTO DE RESULTADOS\n",
    "    df_pred = pd.DataFrame({\n",
    "        'Votes_dem': per_dem_pred * data['total_votes'], \n",
    "        'Votes_gop': per_gop_pred * data['total_votes'],\n",
    "        'Votes_other': per_other_pred * data['total_votes'],\n",
    "        'Votes_total': data['total_votes'], \n",
    "        'state': state_names,\n",
    "        'county': county_names,\n",
    "        'fips': fips_codes\n",
    "    })\n",
    "\n",
    "    df_pred_state = df_pred.groupby(\"state\").agg(Votes_dem=(\"Votes_dem\", 'sum'), \n",
    "                                                 Votes_gop=(\"Votes_gop\", 'sum'),\n",
    "                                                 Votes_other=(\"Votes_other\", 'sum'),\n",
    "                                                 Votes_total=(\"Votes_total\", 'sum'))\n",
    "    \n",
    "    \n",
    "    # Calcular porcentaje de cada candidato en el estado\n",
    "    df_pred_state[\"Per_dem\"] = df_pred_state[\"Votes_dem\"] / df_pred_state[\"Votes_total\"] \n",
    "    df_pred_state[\"Per_gop\"] = 1 - df_pred_state[\"Per_dem\"]\n",
    "\n",
    "    # # Ajustar las predicciones en función de la desviación histórica\n",
    "    # df_pred_state[\"Per_dem\"] += (state_adjustments[\"per_dem_2020\"] - state_adjustments[\"per_dem_2016\"])\n",
    "    # df_pred_state[\"Per_gop\"] += (state_adjustments[\"per_gop_2020\"] - state_adjustments[\"per_gop_2016\"])\n",
    "\n",
    "    # # Normalizar para que sumen 1\n",
    "    # df_pred_state[\"Per_other\"] = 1 - (df_pred_state[\"Per_dem\"] + df_pred_state[\"Per_gop\"])\n",
    "    # df_pred_state[\"Per_other\"] = np.clip(df_pred_state[\"Per_other\"], 0, 1)\n",
    "\n",
    "\n",
    "    # Acumular los resultados de cada simulación\n",
    "    if accumulated_pred_state.empty:\n",
    "        accumulated_pred_state = df_pred_state.copy()  # Primera iteración, simplemente copiamos los datos\n",
    "    else:\n",
    "        accumulated_pred_state['Votes_dem'] += df_pred_state['Votes_dem']\n",
    "        accumulated_pred_state['Votes_gop'] += df_pred_state['Votes_gop']\n",
    "        accumulated_pred_state['Votes_total'] += df_pred_state['Votes_total']\n",
    "        accumulated_pred_state[\"Per_dem\"] += df_pred_state[\"Per_dem\"]\n",
    "        accumulated_pred_state[\"Per_gop\"] += df_pred_state[\"Per_gop\"]\n",
    "\n",
    "\n",
    "    # Predicción y ganadores\n",
    "    df_pred_state[\"Winner\"] = np.where(df_pred_state[\"Per_dem\"] < df_pred_state[\"Per_gop\"], 'gop', 'dem')    \n",
    "\n",
    "    # Añadir votos electorales (escaños) a cada estado\n",
    "    full_df_pred_state = pd.merge(seats_data, df_pred_state, how='inner', on=[\"state\"])\n",
    "\n",
    "    # Agrupar por estado y sumar los votos\n",
    "    df_pred_winner = full_df_pred_state.groupby(\"Winner\").agg({\n",
    "        \"electoral_votes_number\": \"sum\",  # Sumar los votos electorales de cada candidato\n",
    "    }).reset_index()\n",
    "\n",
    "    df_pred_winner.loc[df_pred_winner[\"Winner\"] == 'gop', 'electoral_votes_number'] += 3 # Añadir 3 al número de votos electorales de Trump por Alaska\n",
    "\n",
    "    # Crear un nuevo DataFrame con los resultados de esta simulación\n",
    "    dem_votes = df_pred_winner.loc[df_pred_winner[\"Winner\"] == 'dem', 'electoral_votes_number'].values[0]\n",
    "    gop_votes = df_pred_winner.loc[df_pred_winner[\"Winner\"] == 'gop', 'electoral_votes_number'].values[0]\n",
    "\n",
    "    # Determinar el ganador considerando empates\n",
    "    if dem_votes > gop_votes:\n",
    "        winner = 'dem'\n",
    "    elif gop_votes > dem_votes:\n",
    "        winner = 'gop'\n",
    "    else:\n",
    "        winner = 'tie'  # En caso de empate\n",
    "\n",
    "    # Crear un nuevo DataFrame con los resultados de esta simulación\n",
    "    new_row = pd.DataFrame({\n",
    "        'Pred_dem': [dem_votes],\n",
    "        'Pred_gop': [gop_votes],\n",
    "        'Winner': [winner]\n",
    "    })\n",
    "\n",
    "\n",
    "    # Usar concat para añadir la nueva fila\n",
    "    simulation_results = pd.concat([simulation_results, new_row], ignore_index=True)\n",
    "\n",
    "# Después de todas las simulaciones, calcular la media\n",
    "accumulated_pred_state['Votes_dem'] /= n_sim\n",
    "accumulated_pred_state['Votes_gop'] /= n_sim\n",
    "accumulated_pred_state['Votes_total'] /= n_sim\n",
    "accumulated_pred_state['Per_dem'] /= n_sim\n",
    "accumulated_pred_state['Per_gop'] /= n_sim\n"
   ]
  },
  {
   "cell_type": "markdown",
   "metadata": {},
   "source": [
    "## Results"
   ]
  },
  {
   "cell_type": "code",
   "execution_count": 176,
   "metadata": {},
   "outputs": [
    {
     "data": {
      "text/plain": [
       "Winner\n",
       "dem    53\n",
       "gop    47\n",
       "Name: count, dtype: int64"
      ]
     },
     "execution_count": 176,
     "metadata": {},
     "output_type": "execute_result"
    }
   ],
   "source": [
    "simulation_results[\"Winner\"].value_counts()"
   ]
  },
  {
   "cell_type": "code",
   "execution_count": 177,
   "metadata": {},
   "outputs": [
    {
     "data": {
      "text/plain": [
       "Winner\n",
       "dem    0.53\n",
       "gop    0.47\n",
       "Name: proportion, dtype: float64"
      ]
     },
     "execution_count": 177,
     "metadata": {},
     "output_type": "execute_result"
    }
   ],
   "source": [
    "simulation_results[\"Winner\"].value_counts(normalize=True)"
   ]
  },
  {
   "cell_type": "code",
   "execution_count": 178,
   "metadata": {},
   "outputs": [
    {
     "data": {
      "text/html": [
       "<div>\n",
       "<style scoped>\n",
       "    .dataframe tbody tr th:only-of-type {\n",
       "        vertical-align: middle;\n",
       "    }\n",
       "\n",
       "    .dataframe tbody tr th {\n",
       "        vertical-align: top;\n",
       "    }\n",
       "\n",
       "    .dataframe thead th {\n",
       "        text-align: right;\n",
       "    }\n",
       "</style>\n",
       "<table border=\"1\" class=\"dataframe\">\n",
       "  <thead>\n",
       "    <tr style=\"text-align: right;\">\n",
       "      <th></th>\n",
       "      <th>Pred_dem</th>\n",
       "      <th>Pred_gop</th>\n",
       "      <th>Winner</th>\n",
       "    </tr>\n",
       "  </thead>\n",
       "  <tbody>\n",
       "    <tr>\n",
       "      <th>0</th>\n",
       "      <td>294</td>\n",
       "      <td>237</td>\n",
       "      <td>dem</td>\n",
       "    </tr>\n",
       "    <tr>\n",
       "      <th>1</th>\n",
       "      <td>208</td>\n",
       "      <td>323</td>\n",
       "      <td>gop</td>\n",
       "    </tr>\n",
       "    <tr>\n",
       "      <th>2</th>\n",
       "      <td>249</td>\n",
       "      <td>282</td>\n",
       "      <td>gop</td>\n",
       "    </tr>\n",
       "    <tr>\n",
       "      <th>3</th>\n",
       "      <td>294</td>\n",
       "      <td>237</td>\n",
       "      <td>dem</td>\n",
       "    </tr>\n",
       "    <tr>\n",
       "      <th>4</th>\n",
       "      <td>294</td>\n",
       "      <td>237</td>\n",
       "      <td>dem</td>\n",
       "    </tr>\n",
       "    <tr>\n",
       "      <th>...</th>\n",
       "      <td>...</td>\n",
       "      <td>...</td>\n",
       "      <td>...</td>\n",
       "    </tr>\n",
       "    <tr>\n",
       "      <th>95</th>\n",
       "      <td>294</td>\n",
       "      <td>237</td>\n",
       "      <td>dem</td>\n",
       "    </tr>\n",
       "    <tr>\n",
       "      <th>96</th>\n",
       "      <td>208</td>\n",
       "      <td>323</td>\n",
       "      <td>gop</td>\n",
       "    </tr>\n",
       "    <tr>\n",
       "      <th>97</th>\n",
       "      <td>211</td>\n",
       "      <td>320</td>\n",
       "      <td>gop</td>\n",
       "    </tr>\n",
       "    <tr>\n",
       "      <th>98</th>\n",
       "      <td>294</td>\n",
       "      <td>237</td>\n",
       "      <td>dem</td>\n",
       "    </tr>\n",
       "    <tr>\n",
       "      <th>99</th>\n",
       "      <td>208</td>\n",
       "      <td>323</td>\n",
       "      <td>gop</td>\n",
       "    </tr>\n",
       "  </tbody>\n",
       "</table>\n",
       "<p>100 rows × 3 columns</p>\n",
       "</div>"
      ],
      "text/plain": [
       "   Pred_dem Pred_gop Winner\n",
       "0       294      237    dem\n",
       "1       208      323    gop\n",
       "2       249      282    gop\n",
       "3       294      237    dem\n",
       "4       294      237    dem\n",
       "..      ...      ...    ...\n",
       "95      294      237    dem\n",
       "96      208      323    gop\n",
       "97      211      320    gop\n",
       "98      294      237    dem\n",
       "99      208      323    gop\n",
       "\n",
       "[100 rows x 3 columns]"
      ]
     },
     "execution_count": 178,
     "metadata": {},
     "output_type": "execute_result"
    }
   ],
   "source": [
    "simulation_results"
   ]
  },
  {
   "cell_type": "code",
   "execution_count": 179,
   "metadata": {},
   "outputs": [
    {
     "data": {
      "text/html": [
       "<div>\n",
       "<style scoped>\n",
       "    .dataframe tbody tr th:only-of-type {\n",
       "        vertical-align: middle;\n",
       "    }\n",
       "\n",
       "    .dataframe tbody tr th {\n",
       "        vertical-align: top;\n",
       "    }\n",
       "\n",
       "    .dataframe thead th {\n",
       "        text-align: right;\n",
       "    }\n",
       "</style>\n",
       "<table border=\"1\" class=\"dataframe\">\n",
       "  <thead>\n",
       "    <tr style=\"text-align: right;\">\n",
       "      <th></th>\n",
       "      <th>Votes_dem</th>\n",
       "      <th>Votes_gop</th>\n",
       "      <th>Votes_other</th>\n",
       "      <th>Votes_total</th>\n",
       "      <th>Per_dem</th>\n",
       "      <th>Per_gop</th>\n",
       "      <th>Winner</th>\n",
       "      <th>state_code</th>\n",
       "      <th>Difference</th>\n",
       "      <th>Status</th>\n",
       "    </tr>\n",
       "    <tr>\n",
       "      <th>state</th>\n",
       "      <th></th>\n",
       "      <th></th>\n",
       "      <th></th>\n",
       "      <th></th>\n",
       "      <th></th>\n",
       "      <th></th>\n",
       "      <th></th>\n",
       "      <th></th>\n",
       "      <th></th>\n",
       "      <th></th>\n",
       "    </tr>\n",
       "  </thead>\n",
       "  <tbody>\n",
       "    <tr>\n",
       "      <th>Alabama</th>\n",
       "      <td>9.205790e+05</td>\n",
       "      <td>1.262141e+06</td>\n",
       "      <td>65885.832801</td>\n",
       "      <td>2256352.0</td>\n",
       "      <td>0.407994</td>\n",
       "      <td>0.592006</td>\n",
       "      <td>gop</td>\n",
       "      <td>AL</td>\n",
       "      <td>-18.401118</td>\n",
       "      <td>Safe Republican</td>\n",
       "    </tr>\n",
       "    <tr>\n",
       "      <th>Arizona</th>\n",
       "      <td>1.749147e+06</td>\n",
       "      <td>1.481743e+06</td>\n",
       "      <td>135295.147379</td>\n",
       "      <td>3389319.0</td>\n",
       "      <td>0.516076</td>\n",
       "      <td>0.483924</td>\n",
       "      <td>dem</td>\n",
       "      <td>AZ</td>\n",
       "      <td>3.215225</td>\n",
       "      <td>Likely Democrat</td>\n",
       "    </tr>\n",
       "    <tr>\n",
       "      <th>Arkansas</th>\n",
       "      <td>4.570836e+05</td>\n",
       "      <td>6.837281e+05</td>\n",
       "      <td>38217.036577</td>\n",
       "      <td>1182676.0</td>\n",
       "      <td>0.386483</td>\n",
       "      <td>0.613517</td>\n",
       "      <td>gop</td>\n",
       "      <td>AR</td>\n",
       "      <td>-22.703496</td>\n",
       "      <td>Safe Republican</td>\n",
       "    </tr>\n",
       "    <tr>\n",
       "      <th>California</th>\n",
       "      <td>9.859630e+06</td>\n",
       "      <td>5.258674e+06</td>\n",
       "      <td>637331.027151</td>\n",
       "      <td>15862536.0</td>\n",
       "      <td>0.621567</td>\n",
       "      <td>0.378433</td>\n",
       "      <td>dem</td>\n",
       "      <td>CA</td>\n",
       "      <td>24.313411</td>\n",
       "      <td>Safe Democrat</td>\n",
       "    </tr>\n",
       "    <tr>\n",
       "      <th>Colorado</th>\n",
       "      <td>1.660972e+06</td>\n",
       "      <td>1.349013e+06</td>\n",
       "      <td>157709.789809</td>\n",
       "      <td>3190873.0</td>\n",
       "      <td>0.520538</td>\n",
       "      <td>0.479462</td>\n",
       "      <td>dem</td>\n",
       "      <td>CO</td>\n",
       "      <td>4.107685</td>\n",
       "      <td>Likely Democrat</td>\n",
       "    </tr>\n",
       "    <tr>\n",
       "      <th>Delaware</th>\n",
       "      <td>2.624163e+05</td>\n",
       "      <td>2.298479e+05</td>\n",
       "      <td>16802.779288</td>\n",
       "      <td>511697.0</td>\n",
       "      <td>0.512835</td>\n",
       "      <td>0.487165</td>\n",
       "      <td>dem</td>\n",
       "      <td>DE</td>\n",
       "      <td>2.567073</td>\n",
       "      <td>Likely Democrat</td>\n",
       "    </tr>\n",
       "    <tr>\n",
       "      <th>District of Columbia</th>\n",
       "      <td>3.253520e+04</td>\n",
       "      <td>6.706799e+03</td>\n",
       "      <td>1153.783976</td>\n",
       "      <td>40463.0</td>\n",
       "      <td>0.804073</td>\n",
       "      <td>0.195927</td>\n",
       "      <td>dem</td>\n",
       "      <td>DC</td>\n",
       "      <td>60.814596</td>\n",
       "      <td>Safe Democrat</td>\n",
       "    </tr>\n",
       "    <tr>\n",
       "      <th>Florida</th>\n",
       "      <td>5.459420e+06</td>\n",
       "      <td>5.104309e+06</td>\n",
       "      <td>289060.072251</td>\n",
       "      <td>10893547.0</td>\n",
       "      <td>0.501161</td>\n",
       "      <td>0.498839</td>\n",
       "      <td>dem</td>\n",
       "      <td>FL</td>\n",
       "      <td>0.232176</td>\n",
       "      <td>Toss-Up</td>\n",
       "    </tr>\n",
       "    <tr>\n",
       "      <th>Georgia</th>\n",
       "      <td>2.624854e+06</td>\n",
       "      <td>2.455289e+06</td>\n",
       "      <td>151106.005324</td>\n",
       "      <td>5250047.0</td>\n",
       "      <td>0.499968</td>\n",
       "      <td>0.500032</td>\n",
       "      <td>gop</td>\n",
       "      <td>GA</td>\n",
       "      <td>-0.006471</td>\n",
       "      <td>Toss-Up</td>\n",
       "    </tr>\n",
       "    <tr>\n",
       "      <th>Hawaii</th>\n",
       "      <td>3.218325e+05</td>\n",
       "      <td>1.737116e+05</td>\n",
       "      <td>19234.808591</td>\n",
       "      <td>516701.0</td>\n",
       "      <td>0.622860</td>\n",
       "      <td>0.377140</td>\n",
       "      <td>dem</td>\n",
       "      <td>HI</td>\n",
       "      <td>24.572059</td>\n",
       "      <td>Safe Democrat</td>\n",
       "    </tr>\n",
       "    <tr>\n",
       "      <th>Idaho</th>\n",
       "      <td>3.397788e+05</td>\n",
       "      <td>5.112545e+05</td>\n",
       "      <td>48294.269818</td>\n",
       "      <td>904812.0</td>\n",
       "      <td>0.375524</td>\n",
       "      <td>0.624476</td>\n",
       "      <td>gop</td>\n",
       "      <td>ID</td>\n",
       "      <td>-24.895170</td>\n",
       "      <td>Safe Republican</td>\n",
       "    </tr>\n",
       "    <tr>\n",
       "      <th>Illinois</th>\n",
       "      <td>2.996842e+06</td>\n",
       "      <td>2.341437e+06</td>\n",
       "      <td>225987.314667</td>\n",
       "      <td>5592368.0</td>\n",
       "      <td>0.535881</td>\n",
       "      <td>0.464119</td>\n",
       "      <td>dem</td>\n",
       "      <td>IL</td>\n",
       "      <td>7.176146</td>\n",
       "      <td>Likely Democrat</td>\n",
       "    </tr>\n",
       "    <tr>\n",
       "      <th>Indiana</th>\n",
       "      <td>1.188938e+06</td>\n",
       "      <td>1.611547e+06</td>\n",
       "      <td>117669.526802</td>\n",
       "      <td>2933700.0</td>\n",
       "      <td>0.405269</td>\n",
       "      <td>0.594731</td>\n",
       "      <td>gop</td>\n",
       "      <td>IN</td>\n",
       "      <td>-18.946190</td>\n",
       "      <td>Safe Republican</td>\n",
       "    </tr>\n",
       "    <tr>\n",
       "      <th>Iowa</th>\n",
       "      <td>6.465010e+05</td>\n",
       "      <td>9.278469e+05</td>\n",
       "      <td>72745.439323</td>\n",
       "      <td>1656849.0</td>\n",
       "      <td>0.390199</td>\n",
       "      <td>0.609801</td>\n",
       "      <td>gop</td>\n",
       "      <td>IA</td>\n",
       "      <td>-21.960184</td>\n",
       "      <td>Safe Republican</td>\n",
       "    </tr>\n",
       "    <tr>\n",
       "      <th>Kansas</th>\n",
       "      <td>5.226896e+05</td>\n",
       "      <td>7.437292e+05</td>\n",
       "      <td>54005.130579</td>\n",
       "      <td>1327591.0</td>\n",
       "      <td>0.393713</td>\n",
       "      <td>0.606287</td>\n",
       "      <td>gop</td>\n",
       "      <td>KS</td>\n",
       "      <td>-21.257439</td>\n",
       "      <td>Safe Republican</td>\n",
       "    </tr>\n",
       "    <tr>\n",
       "      <th>Kentucky</th>\n",
       "      <td>7.932625e+05</td>\n",
       "      <td>1.197092e+06</td>\n",
       "      <td>73744.905429</td>\n",
       "      <td>2073309.0</td>\n",
       "      <td>0.382607</td>\n",
       "      <td>0.617393</td>\n",
       "      <td>gop</td>\n",
       "      <td>KY</td>\n",
       "      <td>-23.478599</td>\n",
       "      <td>Safe Republican</td>\n",
       "    </tr>\n",
       "    <tr>\n",
       "      <th>Louisiana</th>\n",
       "      <td>9.242087e+05</td>\n",
       "      <td>1.022117e+06</td>\n",
       "      <td>54906.114933</td>\n",
       "      <td>2006975.0</td>\n",
       "      <td>0.460498</td>\n",
       "      <td>0.539502</td>\n",
       "      <td>gop</td>\n",
       "      <td>LA</td>\n",
       "      <td>-7.900328</td>\n",
       "      <td>Likely Republican</td>\n",
       "    </tr>\n",
       "    <tr>\n",
       "      <th>Maine</th>\n",
       "      <td>3.480021e+05</td>\n",
       "      <td>4.449181e+05</td>\n",
       "      <td>34738.020667</td>\n",
       "      <td>831375.0</td>\n",
       "      <td>0.418586</td>\n",
       "      <td>0.581414</td>\n",
       "      <td>gop</td>\n",
       "      <td>ME</td>\n",
       "      <td>-16.282750</td>\n",
       "      <td>Safe Republican</td>\n",
       "    </tr>\n",
       "    <tr>\n",
       "      <th>Maryland</th>\n",
       "      <td>1.772590e+06</td>\n",
       "      <td>1.143331e+06</td>\n",
       "      <td>91676.558046</td>\n",
       "      <td>3015650.0</td>\n",
       "      <td>0.587797</td>\n",
       "      <td>0.412203</td>\n",
       "      <td>dem</td>\n",
       "      <td>MD</td>\n",
       "      <td>17.559407</td>\n",
       "      <td>Safe Democrat</td>\n",
       "    </tr>\n",
       "    <tr>\n",
       "      <th>Massachusetts</th>\n",
       "      <td>2.079550e+06</td>\n",
       "      <td>1.202195e+06</td>\n",
       "      <td>150390.418353</td>\n",
       "      <td>3453437.0</td>\n",
       "      <td>0.602168</td>\n",
       "      <td>0.397832</td>\n",
       "      <td>dem</td>\n",
       "      <td>MA</td>\n",
       "      <td>20.433622</td>\n",
       "      <td>Safe Democrat</td>\n",
       "    </tr>\n",
       "    <tr>\n",
       "      <th>Michigan</th>\n",
       "      <td>2.579233e+06</td>\n",
       "      <td>2.856491e+06</td>\n",
       "      <td>199479.749159</td>\n",
       "      <td>5662504.0</td>\n",
       "      <td>0.455493</td>\n",
       "      <td>0.544507</td>\n",
       "      <td>gop</td>\n",
       "      <td>MI</td>\n",
       "      <td>-8.901339</td>\n",
       "      <td>Likely Republican</td>\n",
       "    </tr>\n",
       "    <tr>\n",
       "      <th>Minnesota</th>\n",
       "      <td>1.558532e+06</td>\n",
       "      <td>1.502927e+06</td>\n",
       "      <td>154682.767360</td>\n",
       "      <td>3240916.0</td>\n",
       "      <td>0.480893</td>\n",
       "      <td>0.519107</td>\n",
       "      <td>gop</td>\n",
       "      <td>MN</td>\n",
       "      <td>-3.821482</td>\n",
       "      <td>Likely Republican</td>\n",
       "    </tr>\n",
       "    <tr>\n",
       "      <th>Mississippi</th>\n",
       "      <td>5.263710e+05</td>\n",
       "      <td>6.742125e+05</td>\n",
       "      <td>24995.382152</td>\n",
       "      <td>1228008.0</td>\n",
       "      <td>0.428638</td>\n",
       "      <td>0.571362</td>\n",
       "      <td>gop</td>\n",
       "      <td>MS</td>\n",
       "      <td>-14.272384</td>\n",
       "      <td>Safe Republican</td>\n",
       "    </tr>\n",
       "    <tr>\n",
       "      <th>Missouri</th>\n",
       "      <td>1.230399e+06</td>\n",
       "      <td>1.647893e+06</td>\n",
       "      <td>102000.692598</td>\n",
       "      <td>2993596.0</td>\n",
       "      <td>0.411010</td>\n",
       "      <td>0.588990</td>\n",
       "      <td>gop</td>\n",
       "      <td>MO</td>\n",
       "      <td>-17.797942</td>\n",
       "      <td>Safe Republican</td>\n",
       "    </tr>\n",
       "    <tr>\n",
       "      <th>Montana</th>\n",
       "      <td>2.396489e+05</td>\n",
       "      <td>3.320498e+05</td>\n",
       "      <td>27358.226639</td>\n",
       "      <td>602963.0</td>\n",
       "      <td>0.397452</td>\n",
       "      <td>0.602548</td>\n",
       "      <td>gop</td>\n",
       "      <td>MT</td>\n",
       "      <td>-20.509569</td>\n",
       "      <td>Safe Republican</td>\n",
       "    </tr>\n",
       "    <tr>\n",
       "      <th>Nebraska</th>\n",
       "      <td>3.814664e+05</td>\n",
       "      <td>5.198583e+05</td>\n",
       "      <td>40902.086662</td>\n",
       "      <td>947159.0</td>\n",
       "      <td>0.402748</td>\n",
       "      <td>0.597252</td>\n",
       "      <td>gop</td>\n",
       "      <td>NE</td>\n",
       "      <td>-19.450400</td>\n",
       "      <td>Safe Republican</td>\n",
       "    </tr>\n",
       "    <tr>\n",
       "      <th>Nevada</th>\n",
       "      <td>8.471873e+05</td>\n",
       "      <td>5.615495e+05</td>\n",
       "      <td>63807.344484</td>\n",
       "      <td>1481765.0</td>\n",
       "      <td>0.571742</td>\n",
       "      <td>0.428258</td>\n",
       "      <td>dem</td>\n",
       "      <td>NV</td>\n",
       "      <td>14.348401</td>\n",
       "      <td>Safe Democrat</td>\n",
       "    </tr>\n",
       "    <tr>\n",
       "      <th>New Hampshire</th>\n",
       "      <td>3.630881e+05</td>\n",
       "      <td>4.254640e+05</td>\n",
       "      <td>30096.873707</td>\n",
       "      <td>822153.0</td>\n",
       "      <td>0.441631</td>\n",
       "      <td>0.558369</td>\n",
       "      <td>gop</td>\n",
       "      <td>NH</td>\n",
       "      <td>-11.673833</td>\n",
       "      <td>Safe Republican</td>\n",
       "    </tr>\n",
       "    <tr>\n",
       "      <th>New Jersey</th>\n",
       "      <td>2.537460e+06</td>\n",
       "      <td>1.569349e+06</td>\n",
       "      <td>150335.931741</td>\n",
       "      <td>4272725.0</td>\n",
       "      <td>0.593874</td>\n",
       "      <td>0.406126</td>\n",
       "      <td>dem</td>\n",
       "      <td>NJ</td>\n",
       "      <td>18.774765</td>\n",
       "      <td>Safe Democrat</td>\n",
       "    </tr>\n",
       "    <tr>\n",
       "      <th>New Mexico</th>\n",
       "      <td>4.303537e+05</td>\n",
       "      <td>4.560055e+05</td>\n",
       "      <td>31944.922513</td>\n",
       "      <td>923403.0</td>\n",
       "      <td>0.466052</td>\n",
       "      <td>0.533948</td>\n",
       "      <td>gop</td>\n",
       "      <td>NM</td>\n",
       "      <td>-6.789622</td>\n",
       "      <td>Likely Republican</td>\n",
       "    </tr>\n",
       "    <tr>\n",
       "      <th>New York</th>\n",
       "      <td>4.898334e+06</td>\n",
       "      <td>2.964297e+06</td>\n",
       "      <td>292578.128090</td>\n",
       "      <td>8198094.0</td>\n",
       "      <td>0.597497</td>\n",
       "      <td>0.402503</td>\n",
       "      <td>dem</td>\n",
       "      <td>NY</td>\n",
       "      <td>19.499339</td>\n",
       "      <td>Safe Democrat</td>\n",
       "    </tr>\n",
       "    <tr>\n",
       "      <th>North Carolina</th>\n",
       "      <td>2.696549e+06</td>\n",
       "      <td>2.781014e+06</td>\n",
       "      <td>177364.974787</td>\n",
       "      <td>5679647.0</td>\n",
       "      <td>0.474774</td>\n",
       "      <td>0.525226</td>\n",
       "      <td>gop</td>\n",
       "      <td>NC</td>\n",
       "      <td>-5.045202</td>\n",
       "      <td>Likely Republican</td>\n",
       "    </tr>\n",
       "    <tr>\n",
       "      <th>North Dakota</th>\n",
       "      <td>1.391714e+05</td>\n",
       "      <td>2.062954e+05</td>\n",
       "      <td>17318.002174</td>\n",
       "      <td>365059.0</td>\n",
       "      <td>0.381230</td>\n",
       "      <td>0.618770</td>\n",
       "      <td>gop</td>\n",
       "      <td>ND</td>\n",
       "      <td>-23.754045</td>\n",
       "      <td>Safe Republican</td>\n",
       "    </tr>\n",
       "    <tr>\n",
       "      <th>Ohio</th>\n",
       "      <td>2.576831e+06</td>\n",
       "      <td>2.973026e+06</td>\n",
       "      <td>190190.973797</td>\n",
       "      <td>5765017.0</td>\n",
       "      <td>0.446977</td>\n",
       "      <td>0.553023</td>\n",
       "      <td>gop</td>\n",
       "      <td>OH</td>\n",
       "      <td>-10.604558</td>\n",
       "      <td>Safe Republican</td>\n",
       "    </tr>\n",
       "    <tr>\n",
       "      <th>Oklahoma</th>\n",
       "      <td>5.916933e+05</td>\n",
       "      <td>9.153969e+05</td>\n",
       "      <td>52253.162859</td>\n",
       "      <td>1566173.0</td>\n",
       "      <td>0.377796</td>\n",
       "      <td>0.622204</td>\n",
       "      <td>gop</td>\n",
       "      <td>OK</td>\n",
       "      <td>-24.440880</td>\n",
       "      <td>Safe Republican</td>\n",
       "    </tr>\n",
       "    <tr>\n",
       "      <th>Oregon</th>\n",
       "      <td>1.170952e+06</td>\n",
       "      <td>9.152235e+05</td>\n",
       "      <td>108521.311675</td>\n",
       "      <td>2207592.0</td>\n",
       "      <td>0.530420</td>\n",
       "      <td>0.469580</td>\n",
       "      <td>dem</td>\n",
       "      <td>OR</td>\n",
       "      <td>6.084067</td>\n",
       "      <td>Likely Democrat</td>\n",
       "    </tr>\n",
       "    <tr>\n",
       "      <th>Pennsylvania</th>\n",
       "      <td>3.447699e+06</td>\n",
       "      <td>3.285428e+06</td>\n",
       "      <td>266076.338712</td>\n",
       "      <td>7034206.0</td>\n",
       "      <td>0.490133</td>\n",
       "      <td>0.509867</td>\n",
       "      <td>gop</td>\n",
       "      <td>PA</td>\n",
       "      <td>-1.973331</td>\n",
       "      <td>Toss-Up</td>\n",
       "    </tr>\n",
       "    <tr>\n",
       "      <th>Rhode Island</th>\n",
       "      <td>2.803852e+05</td>\n",
       "      <td>2.027977e+05</td>\n",
       "      <td>24203.948459</td>\n",
       "      <td>510659.0</td>\n",
       "      <td>0.549065</td>\n",
       "      <td>0.450935</td>\n",
       "      <td>dem</td>\n",
       "      <td>RI</td>\n",
       "      <td>9.813098</td>\n",
       "      <td>Likely Democrat</td>\n",
       "    </tr>\n",
       "    <tr>\n",
       "      <th>South Carolina</th>\n",
       "      <td>1.120136e+06</td>\n",
       "      <td>1.342067e+06</td>\n",
       "      <td>76475.538474</td>\n",
       "      <td>2548140.0</td>\n",
       "      <td>0.439590</td>\n",
       "      <td>0.560410</td>\n",
       "      <td>gop</td>\n",
       "      <td>SC</td>\n",
       "      <td>-12.082080</td>\n",
       "      <td>Safe Republican</td>\n",
       "    </tr>\n",
       "    <tr>\n",
       "      <th>South Dakota</th>\n",
       "      <td>1.551079e+05</td>\n",
       "      <td>2.481397e+05</td>\n",
       "      <td>19937.262004</td>\n",
       "      <td>425860.0</td>\n",
       "      <td>0.364223</td>\n",
       "      <td>0.635777</td>\n",
       "      <td>gop</td>\n",
       "      <td>SD</td>\n",
       "      <td>-27.155430</td>\n",
       "      <td>Safe Republican</td>\n",
       "    </tr>\n",
       "    <tr>\n",
       "      <th>Tennessee</th>\n",
       "      <td>1.290899e+06</td>\n",
       "      <td>1.670876e+06</td>\n",
       "      <td>93081.375949</td>\n",
       "      <td>3063942.0</td>\n",
       "      <td>0.421320</td>\n",
       "      <td>0.578680</td>\n",
       "      <td>gop</td>\n",
       "      <td>TN</td>\n",
       "      <td>-15.736060</td>\n",
       "      <td>Safe Republican</td>\n",
       "    </tr>\n",
       "    <tr>\n",
       "      <th>Texas</th>\n",
       "      <td>5.710008e+06</td>\n",
       "      <td>5.220169e+06</td>\n",
       "      <td>389494.192113</td>\n",
       "      <td>11379850.0</td>\n",
       "      <td>0.501765</td>\n",
       "      <td>0.498235</td>\n",
       "      <td>dem</td>\n",
       "      <td>TX</td>\n",
       "      <td>0.352956</td>\n",
       "      <td>Toss-Up</td>\n",
       "    </tr>\n",
       "    <tr>\n",
       "      <th>Utah</th>\n",
       "      <td>6.582039e+05</td>\n",
       "      <td>7.061628e+05</td>\n",
       "      <td>106432.187829</td>\n",
       "      <td>1487951.0</td>\n",
       "      <td>0.442356</td>\n",
       "      <td>0.557644</td>\n",
       "      <td>gop</td>\n",
       "      <td>UT</td>\n",
       "      <td>-11.528827</td>\n",
       "      <td>Safe Republican</td>\n",
       "    </tr>\n",
       "    <tr>\n",
       "      <th>Vermont</th>\n",
       "      <td>1.681911e+05</td>\n",
       "      <td>1.791375e+05</td>\n",
       "      <td>16734.515562</td>\n",
       "      <td>366389.0</td>\n",
       "      <td>0.459051</td>\n",
       "      <td>0.540949</td>\n",
       "      <td>gop</td>\n",
       "      <td>VT</td>\n",
       "      <td>-8.189852</td>\n",
       "      <td>Likely Republican</td>\n",
       "    </tr>\n",
       "    <tr>\n",
       "      <th>Virginia</th>\n",
       "      <td>2.306863e+06</td>\n",
       "      <td>1.999306e+06</td>\n",
       "      <td>155506.998129</td>\n",
       "      <td>4482576.0</td>\n",
       "      <td>0.514629</td>\n",
       "      <td>0.485371</td>\n",
       "      <td>dem</td>\n",
       "      <td>VA</td>\n",
       "      <td>2.925760</td>\n",
       "      <td>Likely Democrat</td>\n",
       "    </tr>\n",
       "    <tr>\n",
       "      <th>Washington</th>\n",
       "      <td>2.216519e+06</td>\n",
       "      <td>1.475517e+06</td>\n",
       "      <td>180534.483980</td>\n",
       "      <td>3898835.0</td>\n",
       "      <td>0.568508</td>\n",
       "      <td>0.431492</td>\n",
       "      <td>dem</td>\n",
       "      <td>WA</td>\n",
       "      <td>13.701631</td>\n",
       "      <td>Safe Democrat</td>\n",
       "    </tr>\n",
       "    <tr>\n",
       "      <th>West Virginia</th>\n",
       "      <td>2.551928e+05</td>\n",
       "      <td>4.750330e+05</td>\n",
       "      <td>28381.745653</td>\n",
       "      <td>762390.0</td>\n",
       "      <td>0.334727</td>\n",
       "      <td>0.665273</td>\n",
       "      <td>gop</td>\n",
       "      <td>WV</td>\n",
       "      <td>-33.054539</td>\n",
       "      <td>Safe Republican</td>\n",
       "    </tr>\n",
       "    <tr>\n",
       "      <th>Wisconsin</th>\n",
       "      <td>1.543520e+06</td>\n",
       "      <td>1.722449e+06</td>\n",
       "      <td>131611.343239</td>\n",
       "      <td>3415213.0</td>\n",
       "      <td>0.451954</td>\n",
       "      <td>0.548046</td>\n",
       "      <td>gop</td>\n",
       "      <td>WI</td>\n",
       "      <td>-9.609134</td>\n",
       "      <td>Likely Republican</td>\n",
       "    </tr>\n",
       "    <tr>\n",
       "      <th>Wyoming</th>\n",
       "      <td>9.144601e+04</td>\n",
       "      <td>1.588901e+05</td>\n",
       "      <td>14618.307269</td>\n",
       "      <td>266353.0</td>\n",
       "      <td>0.343326</td>\n",
       "      <td>0.656674</td>\n",
       "      <td>gop</td>\n",
       "      <td>WY</td>\n",
       "      <td>-31.334725</td>\n",
       "      <td>Safe Republican</td>\n",
       "    </tr>\n",
       "  </tbody>\n",
       "</table>\n",
       "</div>"
      ],
      "text/plain": [
       "                         Votes_dem     Votes_gop    Votes_other  Votes_total  \\\n",
       "state                                                                          \n",
       "Alabama               9.205790e+05  1.262141e+06   65885.832801    2256352.0   \n",
       "Arizona               1.749147e+06  1.481743e+06  135295.147379    3389319.0   \n",
       "Arkansas              4.570836e+05  6.837281e+05   38217.036577    1182676.0   \n",
       "California            9.859630e+06  5.258674e+06  637331.027151   15862536.0   \n",
       "Colorado              1.660972e+06  1.349013e+06  157709.789809    3190873.0   \n",
       "Delaware              2.624163e+05  2.298479e+05   16802.779288     511697.0   \n",
       "District of Columbia  3.253520e+04  6.706799e+03    1153.783976      40463.0   \n",
       "Florida               5.459420e+06  5.104309e+06  289060.072251   10893547.0   \n",
       "Georgia               2.624854e+06  2.455289e+06  151106.005324    5250047.0   \n",
       "Hawaii                3.218325e+05  1.737116e+05   19234.808591     516701.0   \n",
       "Idaho                 3.397788e+05  5.112545e+05   48294.269818     904812.0   \n",
       "Illinois              2.996842e+06  2.341437e+06  225987.314667    5592368.0   \n",
       "Indiana               1.188938e+06  1.611547e+06  117669.526802    2933700.0   \n",
       "Iowa                  6.465010e+05  9.278469e+05   72745.439323    1656849.0   \n",
       "Kansas                5.226896e+05  7.437292e+05   54005.130579    1327591.0   \n",
       "Kentucky              7.932625e+05  1.197092e+06   73744.905429    2073309.0   \n",
       "Louisiana             9.242087e+05  1.022117e+06   54906.114933    2006975.0   \n",
       "Maine                 3.480021e+05  4.449181e+05   34738.020667     831375.0   \n",
       "Maryland              1.772590e+06  1.143331e+06   91676.558046    3015650.0   \n",
       "Massachusetts         2.079550e+06  1.202195e+06  150390.418353    3453437.0   \n",
       "Michigan              2.579233e+06  2.856491e+06  199479.749159    5662504.0   \n",
       "Minnesota             1.558532e+06  1.502927e+06  154682.767360    3240916.0   \n",
       "Mississippi           5.263710e+05  6.742125e+05   24995.382152    1228008.0   \n",
       "Missouri              1.230399e+06  1.647893e+06  102000.692598    2993596.0   \n",
       "Montana               2.396489e+05  3.320498e+05   27358.226639     602963.0   \n",
       "Nebraska              3.814664e+05  5.198583e+05   40902.086662     947159.0   \n",
       "Nevada                8.471873e+05  5.615495e+05   63807.344484    1481765.0   \n",
       "New Hampshire         3.630881e+05  4.254640e+05   30096.873707     822153.0   \n",
       "New Jersey            2.537460e+06  1.569349e+06  150335.931741    4272725.0   \n",
       "New Mexico            4.303537e+05  4.560055e+05   31944.922513     923403.0   \n",
       "New York              4.898334e+06  2.964297e+06  292578.128090    8198094.0   \n",
       "North Carolina        2.696549e+06  2.781014e+06  177364.974787    5679647.0   \n",
       "North Dakota          1.391714e+05  2.062954e+05   17318.002174     365059.0   \n",
       "Ohio                  2.576831e+06  2.973026e+06  190190.973797    5765017.0   \n",
       "Oklahoma              5.916933e+05  9.153969e+05   52253.162859    1566173.0   \n",
       "Oregon                1.170952e+06  9.152235e+05  108521.311675    2207592.0   \n",
       "Pennsylvania          3.447699e+06  3.285428e+06  266076.338712    7034206.0   \n",
       "Rhode Island          2.803852e+05  2.027977e+05   24203.948459     510659.0   \n",
       "South Carolina        1.120136e+06  1.342067e+06   76475.538474    2548140.0   \n",
       "South Dakota          1.551079e+05  2.481397e+05   19937.262004     425860.0   \n",
       "Tennessee             1.290899e+06  1.670876e+06   93081.375949    3063942.0   \n",
       "Texas                 5.710008e+06  5.220169e+06  389494.192113   11379850.0   \n",
       "Utah                  6.582039e+05  7.061628e+05  106432.187829    1487951.0   \n",
       "Vermont               1.681911e+05  1.791375e+05   16734.515562     366389.0   \n",
       "Virginia              2.306863e+06  1.999306e+06  155506.998129    4482576.0   \n",
       "Washington            2.216519e+06  1.475517e+06  180534.483980    3898835.0   \n",
       "West Virginia         2.551928e+05  4.750330e+05   28381.745653     762390.0   \n",
       "Wisconsin             1.543520e+06  1.722449e+06  131611.343239    3415213.0   \n",
       "Wyoming               9.144601e+04  1.588901e+05   14618.307269     266353.0   \n",
       "\n",
       "                       Per_dem   Per_gop Winner state_code  Difference  \\\n",
       "state                                                                    \n",
       "Alabama               0.407994  0.592006    gop         AL  -18.401118   \n",
       "Arizona               0.516076  0.483924    dem         AZ    3.215225   \n",
       "Arkansas              0.386483  0.613517    gop         AR  -22.703496   \n",
       "California            0.621567  0.378433    dem         CA   24.313411   \n",
       "Colorado              0.520538  0.479462    dem         CO    4.107685   \n",
       "Delaware              0.512835  0.487165    dem         DE    2.567073   \n",
       "District of Columbia  0.804073  0.195927    dem         DC   60.814596   \n",
       "Florida               0.501161  0.498839    dem         FL    0.232176   \n",
       "Georgia               0.499968  0.500032    gop         GA   -0.006471   \n",
       "Hawaii                0.622860  0.377140    dem         HI   24.572059   \n",
       "Idaho                 0.375524  0.624476    gop         ID  -24.895170   \n",
       "Illinois              0.535881  0.464119    dem         IL    7.176146   \n",
       "Indiana               0.405269  0.594731    gop         IN  -18.946190   \n",
       "Iowa                  0.390199  0.609801    gop         IA  -21.960184   \n",
       "Kansas                0.393713  0.606287    gop         KS  -21.257439   \n",
       "Kentucky              0.382607  0.617393    gop         KY  -23.478599   \n",
       "Louisiana             0.460498  0.539502    gop         LA   -7.900328   \n",
       "Maine                 0.418586  0.581414    gop         ME  -16.282750   \n",
       "Maryland              0.587797  0.412203    dem         MD   17.559407   \n",
       "Massachusetts         0.602168  0.397832    dem         MA   20.433622   \n",
       "Michigan              0.455493  0.544507    gop         MI   -8.901339   \n",
       "Minnesota             0.480893  0.519107    gop         MN   -3.821482   \n",
       "Mississippi           0.428638  0.571362    gop         MS  -14.272384   \n",
       "Missouri              0.411010  0.588990    gop         MO  -17.797942   \n",
       "Montana               0.397452  0.602548    gop         MT  -20.509569   \n",
       "Nebraska              0.402748  0.597252    gop         NE  -19.450400   \n",
       "Nevada                0.571742  0.428258    dem         NV   14.348401   \n",
       "New Hampshire         0.441631  0.558369    gop         NH  -11.673833   \n",
       "New Jersey            0.593874  0.406126    dem         NJ   18.774765   \n",
       "New Mexico            0.466052  0.533948    gop         NM   -6.789622   \n",
       "New York              0.597497  0.402503    dem         NY   19.499339   \n",
       "North Carolina        0.474774  0.525226    gop         NC   -5.045202   \n",
       "North Dakota          0.381230  0.618770    gop         ND  -23.754045   \n",
       "Ohio                  0.446977  0.553023    gop         OH  -10.604558   \n",
       "Oklahoma              0.377796  0.622204    gop         OK  -24.440880   \n",
       "Oregon                0.530420  0.469580    dem         OR    6.084067   \n",
       "Pennsylvania          0.490133  0.509867    gop         PA   -1.973331   \n",
       "Rhode Island          0.549065  0.450935    dem         RI    9.813098   \n",
       "South Carolina        0.439590  0.560410    gop         SC  -12.082080   \n",
       "South Dakota          0.364223  0.635777    gop         SD  -27.155430   \n",
       "Tennessee             0.421320  0.578680    gop         TN  -15.736060   \n",
       "Texas                 0.501765  0.498235    dem         TX    0.352956   \n",
       "Utah                  0.442356  0.557644    gop         UT  -11.528827   \n",
       "Vermont               0.459051  0.540949    gop         VT   -8.189852   \n",
       "Virginia              0.514629  0.485371    dem         VA    2.925760   \n",
       "Washington            0.568508  0.431492    dem         WA   13.701631   \n",
       "West Virginia         0.334727  0.665273    gop         WV  -33.054539   \n",
       "Wisconsin             0.451954  0.548046    gop         WI   -9.609134   \n",
       "Wyoming               0.343326  0.656674    gop         WY  -31.334725   \n",
       "\n",
       "                                 Status  \n",
       "state                                    \n",
       "Alabama                 Safe Republican  \n",
       "Arizona                 Likely Democrat  \n",
       "Arkansas                Safe Republican  \n",
       "California                Safe Democrat  \n",
       "Colorado                Likely Democrat  \n",
       "Delaware                Likely Democrat  \n",
       "District of Columbia      Safe Democrat  \n",
       "Florida                         Toss-Up  \n",
       "Georgia                         Toss-Up  \n",
       "Hawaii                    Safe Democrat  \n",
       "Idaho                   Safe Republican  \n",
       "Illinois                Likely Democrat  \n",
       "Indiana                 Safe Republican  \n",
       "Iowa                    Safe Republican  \n",
       "Kansas                  Safe Republican  \n",
       "Kentucky                Safe Republican  \n",
       "Louisiana             Likely Republican  \n",
       "Maine                   Safe Republican  \n",
       "Maryland                  Safe Democrat  \n",
       "Massachusetts             Safe Democrat  \n",
       "Michigan              Likely Republican  \n",
       "Minnesota             Likely Republican  \n",
       "Mississippi             Safe Republican  \n",
       "Missouri                Safe Republican  \n",
       "Montana                 Safe Republican  \n",
       "Nebraska                Safe Republican  \n",
       "Nevada                    Safe Democrat  \n",
       "New Hampshire           Safe Republican  \n",
       "New Jersey                Safe Democrat  \n",
       "New Mexico            Likely Republican  \n",
       "New York                  Safe Democrat  \n",
       "North Carolina        Likely Republican  \n",
       "North Dakota            Safe Republican  \n",
       "Ohio                    Safe Republican  \n",
       "Oklahoma                Safe Republican  \n",
       "Oregon                  Likely Democrat  \n",
       "Pennsylvania                    Toss-Up  \n",
       "Rhode Island            Likely Democrat  \n",
       "South Carolina          Safe Republican  \n",
       "South Dakota            Safe Republican  \n",
       "Tennessee               Safe Republican  \n",
       "Texas                           Toss-Up  \n",
       "Utah                    Safe Republican  \n",
       "Vermont               Likely Republican  \n",
       "Virginia                Likely Democrat  \n",
       "Washington                Safe Democrat  \n",
       "West Virginia           Safe Republican  \n",
       "Wisconsin             Likely Republican  \n",
       "Wyoming                 Safe Republican  "
      ]
     },
     "execution_count": 179,
     "metadata": {},
     "output_type": "execute_result"
    }
   ],
   "source": [
    "# Añadir la columna \"Winner\" basado en los porcentajes predichos de Biden y Trump\n",
    "accumulated_pred_state['Winner'] = np.where(\n",
    "    accumulated_pred_state[\"Per_dem\"] >= accumulated_pred_state[\"Per_gop\"], 'dem', 'gop'\n",
    ")\n",
    "\n",
    "# Añadir los códigos de los estados usando el diccionario state_to_code\n",
    "accumulated_pred_state['state_code'] = accumulated_pred_state.index.map(state_to_code)\n",
    "\n",
    "# Añadir diferencia entre Biden y Trump\n",
    "accumulated_pred_state['Difference'] = (accumulated_pred_state[\"Per_dem\"] - accumulated_pred_state[\"Per_gop\"]) * 100\n",
    "\n",
    "\n",
    "# Definir las condiciones y los valores a asignar\n",
    "conditions = [\n",
    "    accumulated_pred_state[\"Difference\"] > 10,\n",
    "    accumulated_pred_state[\"Difference\"].between(2.5, 10),\n",
    "    accumulated_pred_state[\"Difference\"].between(-2.5, 2.5),\n",
    "    accumulated_pred_state[\"Difference\"].between(-10, -2.5),\n",
    "    accumulated_pred_state[\"Difference\"] < -10\n",
    "]\n",
    "\n",
    "choices = [\n",
    "    \"Safe Democrat\",\n",
    "    \"Likely Democrat\",\n",
    "    \"Toss-Up\",\n",
    "    \"Likely Republican\",\n",
    "    \"Safe Republican\"\n",
    "]\n",
    "\n",
    "# Usar np.select para asignar el \"Status\" basado en las condiciones, con un valor por defecto \"Unknown\"\n",
    "accumulated_pred_state[\"Status\"] = np.select(conditions, choices, default=\"Unknown\")\n",
    "\n",
    "\n",
    "# Mostrar el DataFrame\n",
    "accumulated_pred_state\n"
   ]
  },
  {
   "cell_type": "markdown",
   "metadata": {},
   "source": [
    "## Gráficos"
   ]
  },
  {
   "cell_type": "markdown",
   "metadata": {},
   "source": [
    "### Simulación"
   ]
  },
  {
   "cell_type": "code",
   "execution_count": 180,
   "metadata": {},
   "outputs": [
    {
     "data": {
      "image/png": "[encoded data removed]",
      "text/plain": [
       "<Figure size 1200x800 with 1 Axes>"
      ]
     },
     "metadata": {},
     "output_type": "display_data"
    }
   ],
   "source": [
    "# Asegurarse de que los valores de Trump_Pred y Biden_Pred sean numéricos\n",
    "simulation_results['Pred_gop'] = pd.to_numeric(simulation_results['Pred_gop'], errors='coerce')\n",
    "simulation_results['Pred_dem'] = pd.to_numeric(simulation_results['Pred_dem'], errors='coerce')\n",
    "\n",
    "# Eliminar cualquier fila con valores NaN (si es necesario)\n",
    "simulation_results = simulation_results.dropna(subset=['Pred_gop', 'Pred_dem'])\n",
    "\n",
    "# Crear un gráfico de densidad para las predicciones de Biden y Trump\n",
    "plt.figure(figsize=(12, 8))\n",
    "\n",
    "# Gráfico de densidad para Biden (positivo)\n",
    "sns.kdeplot(simulation_results['Pred_dem'], color=\"#3951a2\", fill=True, alpha=0.8, label=\"Biden Pred\")\n",
    "\n",
    "# Crear la densidad para Trump usando gaussian_kde\n",
    "density_trump = gaussian_kde(simulation_results['Pred_gop'])\n",
    "x_vals = np.linspace(min(simulation_results['Pred_gop']), max(simulation_results['Pred_dem']), 1000)\n",
    "y_vals = density_trump(x_vals)\n",
    "\n",
    "# Graficar la densidad de Trump invertida\n",
    "plt.fill_between(x_vals, -y_vals, color=\"#af2b39\", alpha=0.8, label=\"Trump Pred\")\n",
    "\n",
    "# Línea vertical en 270 votos\n",
    "plt.axvline(x=270, color=\"black\", linestyle=\"--\", linewidth=1, label=\"Límite para ganar (270)\")\n",
    "plt.text(270-6, 0.02, '270', color=\"black\", verticalalignment='bottom', fontsize=12)  # Añadir el valor '270' dentro del gráfico\n",
    "\n",
    "# Línea vertical para la media de las predicciones de Biden\n",
    "plt.axvline(x=np.mean(simulation_results['Pred_dem']), color=\"white\", linestyle=\"--\", linewidth=1, label=\"Media Biden Pred\")\n",
    "mean_biden = np.mean(simulation_results['Pred_dem'])\n",
    "plt.text(mean_biden + 1, 0.01, f'{mean_biden:.0f}', color=\"white\", verticalalignment='bottom', fontsize=12)  # Añadir el valor de la media de Biden\n",
    "\n",
    "# Línea vertical para la media de las predicciones de Trump\n",
    "plt.axvline(x=np.mean(simulation_results['Pred_gop']), color=\"white\", linestyle=\"--\", linewidth=1, label=\"Media Trump Pred\")\n",
    "mean_trump = np.mean(simulation_results['Pred_gop'])\n",
    "plt.text(mean_trump + 1, -0.01, f'{mean_trump:.0f}', color=\"white\", verticalalignment='top', fontsize=12)  # Añadir el valor de la media de Trump\n",
    "\n",
    "# Ajustar el eje Y para que sea simétrico\n",
    "plt.ylim(-1.1 * max(y_vals), 1.1 * max(y_vals))\n",
    "\n",
    "# Ajustar el eje X para ver más a la izquierda\n",
    "plt.xlim(min(simulation_results['Pred_gop']), max(simulation_results['Pred_dem']))\n",
    "\n",
    "# Añadir título\n",
    "plt.title(f\"{ELECTORAL_YEAR} Distribución Biden Pred. vs Trump Pred.\", fontsize=16)\n",
    "\n",
    "# Añadir leyenda\n",
    "plt.legend()\n",
    "\n",
    "# Eliminar el fondo del gráfico\n",
    "plt.gca().patch.set_alpha(0)  # Fondo del área del gráfico transparente\n",
    "\n",
    "# Eliminar los bordes y la línea negra alrededor del gráfico\n",
    "plt.gca().spines['top'].set_visible(False)\n",
    "plt.gca().spines['right'].set_visible(False)\n",
    "plt.gca().spines['left'].set_visible(False)\n",
    "plt.gca().spines['bottom'].set_visible(False)\n",
    "\n",
    "# Guardar el gráfico como PNG con fondo transparente\n",
    "plt.savefig(f\"imgs/densidad_biden_trump_transparente_{ELECTORAL_YEAR}.png\", format=\"png\", transparent=True)\n",
    "\n",
    "# Mostrar el gráfico\n",
    "plt.show()"
   ]
  },
  {
   "cell_type": "code",
   "execution_count": 181,
   "metadata": {},
   "outputs": [
    {
     "data": {
      "image/png": "[encoded data removed]",
      "text/plain": [
       "<Figure size 1000x1200 with 1 Axes>"
      ]
     },
     "metadata": {},
     "output_type": "display_data"
    }
   ],
   "source": [
    "# Ordenar los estados por orden alfabético\n",
    "accumulated_pred_state_sorted = accumulated_pred_state.sort_values('state', ascending=False)\n",
    "\n",
    "# Crear el gráfico de barras apiladas\n",
    "plt.figure(figsize=(10, 12))\n",
    "\n",
    "# Primero, graficar la barra de Trump\n",
    "sns.barplot(x=accumulated_pred_state_sorted[\"Per_dem\"] + accumulated_pred_state_sorted[\"Per_gop\"], \n",
    "            y='state', data=accumulated_pred_state_sorted, color=\"#ac2a37\", label=\"gop\")\n",
    "\n",
    "# Luego, graficar la barra de Biden encima de Trump\n",
    "sns.barplot(x=\"Per_dem\", y='state', data=accumulated_pred_state_sorted, color=\"#3951a2\", label=\"dem\")\n",
    "\n",
    "# Añadir una línea vertical en el 50%\n",
    "plt.axvline(x=0.50, color=\"white\", linestyle=\"--\", linewidth=1)\n",
    "\n",
    "# Añadir leyenda\n",
    "plt.legend(loc='best')\n",
    "\n",
    "# Invertir el eje Y para que los estados se vean de arriba hacia abajo\n",
    "plt.gca().invert_yaxis()\n",
    "\n",
    "# Añadir etiquetas y título\n",
    "plt.title(f'{ELECTORAL_YEAR} Resultados Medios por Estado - Simulaciones de Trump vs Biden', fontsize=16)\n",
    "plt.xlabel('Proporción de Votos Simulados')\n",
    "plt.ylabel('Estado')\n",
    "\n",
    "# Ajustar el eje X para que las barras lleguen al 100%\n",
    "plt.xlim(0, 1)\n",
    "\n",
    "# Guardar el gráfico como PNG con fondo transparente\n",
    "plt.savefig(\"imgs/porc_estado_transparente_{ELECTORAL_YEAR}.png\", format=\"png\", transparent=True)\n",
    "\n",
    "# Mostrar el gráfico\n",
    "plt.show()"
   ]
  },
  {
   "cell_type": "code",
   "execution_count": 182,
   "metadata": {},
   "outputs": [
    {
     "data": {
      "image/png": "[encoded data removed]",
      "text/plain": [
       "<Figure size 2600x1200 with 1 Axes>"
      ]
     },
     "metadata": {},
     "output_type": "display_data"
    }
   ],
   "source": [
    "plt.figure(figsize=(26, 12))\n",
    "\n",
    "# Graficar la barra de Trump (en la parte inferior)\n",
    "sns.barplot(y=accumulated_pred_state_sorted[\"Per_dem\"] + accumulated_pred_state_sorted[\"Per_gop\"], \n",
    "            x='state', data=accumulated_pred_state_sorted, color=\"#ac2a37\", label=\"gop\")\n",
    "\n",
    "# Graficar la barra de Biden encima de Trump\n",
    "sns.barplot(y=\"Per_dem\", x='state', data=accumulated_pred_state_sorted, color=\"#3951a2\", label=\"dem\")\n",
    "\n",
    "# Añadir una línea horizontal en el 50%\n",
    "plt.axhline(y=0.50, color=\"white\", linestyle=\"--\", linewidth=1)\n",
    "\n",
    "# Añadir leyenda\n",
    "plt.legend(loc='best', fontsize=22)\n",
    "\n",
    "# Añadir etiquetas y título\n",
    "# plt.title('Resultados Medios por Estado - Simulaciones de Trump vs Biden', fontsize=16)\n",
    "plt.ylabel('Proporción de Votos Simulados', fontsize=22)\n",
    "plt.xlabel('Estado', fontsize=22)\n",
    "\n",
    "# Ajustar el eje Y para que las barras lleguen al 100%\n",
    "plt.ylim(0, 1)\n",
    "\n",
    "# Rotar los nombres de los estados para mejor visibilidad y aumentar el tamaño de las etiquetas\n",
    "plt.xticks(rotation=90, fontsize=24)\n",
    "plt.yticks(fontsize=24)\n",
    "\n",
    "# Ajustar los márgenes del gráfico para evitar que los xticks se corten\n",
    "plt.tight_layout()\n",
    "\n",
    "\n",
    "# Guardar el gráfico como PNG con fondo transparente\n",
    "plt.savefig(f\"imgs/porc_estado_inv_transparente_{ELECTORAL_YEAR}.png\", format=\"png\", transparent=True)\n",
    "\n",
    "# Mostrar el gráfico\n",
    "plt.show()"
   ]
  },
  {
   "cell_type": "code",
   "execution_count": 183,
   "metadata": {},
   "outputs": [
    {
     "data": {
      "application/vnd.plotly.v1+json": {
       "config": {
        "plotlyServerURL": "https://plot.ly"
       },
       "data": [
        {
         "colorscale": [
          [
           0,
           "#af2b39"
          ],
          [
           1,
           "#af2b39"
          ]
         ],
         "customdata": [
          [
           "AL",
           0.40799441228069777,
           0.5920055877193022
          ],
          [
           "AR",
           0.3864825176234249,
           0.6135174823765752
          ],
          [
           "GA",
           0.4999676455269565,
           0.5000323544730435
          ],
          [
           "ID",
           0.37552414838777604,
           0.6244758516122242
          ],
          [
           "IN",
           0.40526905021139936,
           0.5947309497886006
          ],
          [
           "IA",
           0.39019907976641366,
           0.6098009202335861
          ],
          [
           "KS",
           0.3937128051083228,
           0.6062871948916774
          ],
          [
           "KY",
           0.3826070055274823,
           0.6173929944725177
          ],
          [
           "LA",
           0.4604983613384157,
           0.5395016386615843
          ],
          [
           "ME",
           0.41858624798117255,
           0.5814137520188275
          ],
          [
           "MI",
           0.45549330264572724,
           0.5445066973542729
          ],
          [
           "MN",
           0.4808925887861875,
           0.5191074112138125
          ],
          [
           "MS",
           0.42863807946486704,
           0.571361920535133
          ],
          [
           "MO",
           0.4110102902057461,
           0.5889897097942538
          ],
          [
           "MT",
           0.3974521566628442,
           0.6025478433371556
          ],
          [
           "NE",
           0.40274799901773756,
           0.5972520009822624
          ],
          [
           "NH",
           0.4416308334702174,
           0.5583691665297829
          ],
          [
           "NM",
           0.46605188791137403,
           0.533948112088626
          ],
          [
           "NC",
           0.47477398865615617,
           0.5252260113438436
          ],
          [
           "ND",
           0.3812297736797782,
           0.6187702263202217
          ],
          [
           "OH",
           0.4469772080030451,
           0.5530227919969546
          ],
          [
           "OK",
           0.377795598161063,
           0.6222044018389372
          ],
          [
           "PA",
           0.4901333466032261,
           0.5098666533967738
          ],
          [
           "SC",
           0.43958959754482474,
           0.5604104024551755
          ],
          [
           "SD",
           0.3642228504915044,
           0.6357771495084956
          ],
          [
           "TN",
           0.4213196988389419,
           0.578680301161058
          ],
          [
           "UT",
           0.4423558651186944,
           0.5576441348813057
          ],
          [
           "VT",
           0.45905073962480314,
           0.5409492603751969
          ],
          [
           "WV",
           0.3347273065083782,
           0.665272693491622
          ],
          [
           "WI",
           0.45195433146732944,
           0.5480456685326703
          ],
          [
           "WY",
           0.343326374225872,
           0.656673625774128
          ]
         ],
         "geo": "geo",
         "hovertemplate": "<b>%{hovertext}</b><br><br>Ganador {ELECTORAL_YEAR}=gop<br>state_code=%{customdata[0]}<br>Per_dem=%{customdata[1]:.2%}<br>Per_gop=%{customdata[2]:.2%}<extra></extra>",
         "hovertext": [
          "AL",
          "AR",
          "GA",
          "ID",
          "IN",
          "IA",
          "KS",
          "KY",
          "LA",
          "ME",
          "MI",
          "MN",
          "MS",
          "MO",
          "MT",
          "NE",
          "NH",
          "NM",
          "NC",
          "ND",
          "OH",
          "OK",
          "PA",
          "SC",
          "SD",
          "TN",
          "UT",
          "VT",
          "WV",
          "WI",
          "WY"
         ],
         "locationmode": "USA-states",
         "locations": [
          "AL",
          "AR",
          "GA",
          "ID",
          "IN",
          "IA",
          "KS",
          "KY",
          "LA",
          "ME",
          "MI",
          "MN",
          "MS",
          "MO",
          "MT",
          "NE",
          "NH",
          "NM",
          "NC",
          "ND",
          "OH",
          "OK",
          "PA",
          "SC",
          "SD",
          "TN",
          "UT",
          "VT",
          "WV",
          "WI",
          "WY"
         ],
         "name": "gop",
         "showlegend": true,
         "showscale": false,
         "type": "choropleth",
         "z": [
          1,
          1,
          1,
          1,
          1,
          1,
          1,
          1,
          1,
          1,
          1,
          1,
          1,
          1,
          1,
          1,
          1,
          1,
          1,
          1,
          1,
          1,
          1,
          1,
          1,
          1,
          1,
          1,
          1,
          1,
          1
         ]
        },
        {
         "colorscale": [
          [
           0,
           "#3951a2"
          ],
          [
           1,
           "#3951a2"
          ]
         ],
         "customdata": [
          [
           "AZ",
           0.5160761248958761,
           0.48392387510412394
          ],
          [
           "CA",
           0.6215670569642888,
           0.3784329430357111
          ],
          [
           "CO",
           0.5205384273969581,
           0.47946157260304206
          ],
          [
           "DE",
           0.5128353640691623,
           0.48716463593083775
          ],
          [
           "DC",
           0.8040729782543344,
           0.19592702174566567
          ],
          [
           "FL",
           0.5011608818388396,
           0.49883911816116056
          ],
          [
           "HI",
           0.6228602960002171,
           0.37713970399978314
          ],
          [
           "IL",
           0.5358807288738368,
           0.4641192711261633
          ],
          [
           "MD",
           0.5877970345618507,
           0.4122029654381493
          ],
          [
           "MA",
           0.6021681085647477,
           0.39783189143525205
          ],
          [
           "NV",
           0.5717420046684546,
           0.4282579953315455
          ],
          [
           "NJ",
           0.5938738270962841,
           0.4061261729037157
          ],
          [
           "NY",
           0.5974966957684019,
           0.40250330423159797
          ],
          [
           "OR",
           0.5304203360437364,
           0.46957966395626366
          ],
          [
           "RI",
           0.5490654923892453,
           0.4509345076107547
          ],
          [
           "TX",
           0.5017647792718458,
           0.498235220728154
          ],
          [
           "VA",
           0.5146288009267392,
           0.4853711990732608
          ],
          [
           "WA",
           0.568508154087261,
           0.43149184591273915
          ]
         ],
         "geo": "geo",
         "hovertemplate": "<b>%{hovertext}</b><br><br>Ganador {ELECTORAL_YEAR}=dem<br>state_code=%{customdata[0]}<br>Per_dem=%{customdata[1]:.2%}<br>Per_gop=%{customdata[2]:.2%}<extra></extra>",
         "hovertext": [
          "AZ",
          "CA",
          "CO",
          "DE",
          "DC",
          "FL",
          "HI",
          "IL",
          "MD",
          "MA",
          "NV",
          "NJ",
          "NY",
          "OR",
          "RI",
          "TX",
          "VA",
          "WA"
         ],
         "locationmode": "USA-states",
         "locations": [
          "AZ",
          "CA",
          "CO",
          "DE",
          "DC",
          "FL",
          "HI",
          "IL",
          "MD",
          "MA",
          "NV",
          "NJ",
          "NY",
          "OR",
          "RI",
          "TX",
          "VA",
          "WA"
         ],
         "name": "dem",
         "showlegend": true,
         "showscale": false,
         "type": "choropleth",
         "z": [
          1,
          1,
          1,
          1,
          1,
          1,
          1,
          1,
          1,
          1,
          1,
          1,
          1,
          1,
          1,
          1,
          1,
          1
         ]
        }
       ],
       "layout": {
        "geo": {
         "center": {},
         "domain": {
          "x": [
           0,
           1
          ],
          "y": [
           0,
           1
          ]
         },
         "fitbounds": "locations",
         "scope": "usa",
         "visible": false
        },
        "height": 800,
        "legend": {
         "title": {
          "text": "Ganador {ELECTORAL_YEAR}"
         },
         "tracegroupgap": 0
        },
        "template": {
         "data": {
          "bar": [
           {
            "error_x": {
             "color": "#2a3f5f"
            },
            "error_y": {
             "color": "#2a3f5f"
            },
            "marker": {
             "line": {
              "color": "#E5ECF6",
              "width": 0.5
             },
             "pattern": {
              "fillmode": "overlay",
              "size": 10,
              "solidity": 0.2
             }
            },
            "type": "bar"
           }
          ],
          "barpolar": [
           {
            "marker": {
             "line": {
              "color": "#E5ECF6",
              "width": 0.5
             },
             "pattern": {
              "fillmode": "overlay",
              "size": 10,
              "solidity": 0.2
             }
            },
            "type": "barpolar"
           }
          ],
          "carpet": [
           {
            "aaxis": {
             "endlinecolor": "#2a3f5f",
             "gridcolor": "white",
             "linecolor": "white",
             "minorgridcolor": "white",
             "startlinecolor": "#2a3f5f"
            },
            "baxis": {
             "endlinecolor": "#2a3f5f",
             "gridcolor": "white",
             "linecolor": "white",
             "minorgridcolor": "white",
             "startlinecolor": "#2a3f5f"
            },
            "type": "carpet"
           }
          ],
          "choropleth": [
           {
            "colorbar": {
             "outlinewidth": 0,
             "ticks": ""
            },
            "type": "choropleth"
           }
          ],
          "contour": [
           {
            "colorbar": {
             "outlinewidth": 0,
             "ticks": ""
            },
            "colorscale": [
             [
              0,
              "#0d0887"
             ],
             [
              0.1111111111111111,
              "#46039f"
             ],
             [
              0.2222222222222222,
              "#7201a8"
             ],
             [
              0.3333333333333333,
              "#9c179e"
             ],
             [
              0.4444444444444444,
              "#bd3786"
             ],
             [
              0.5555555555555556,
              "#d8576b"
             ],
             [
              0.6666666666666666,
              "#ed7953"
             ],
             [
              0.7777777777777778,
              "#fb9f3a"
             ],
             [
              0.8888888888888888,
              "#fdca26"
             ],
             [
              1,
              "#f0f921"
             ]
            ],
            "type": "contour"
           }
          ],
          "contourcarpet": [
           {
            "colorbar": {
             "outlinewidth": 0,
             "ticks": ""
            },
            "type": "contourcarpet"
           }
          ],
          "heatmap": [
           {
            "colorbar": {
             "outlinewidth": 0,
             "ticks": ""
            },
            "colorscale": [
             [
              0,
              "#0d0887"
             ],
             [
              0.1111111111111111,
              "#46039f"
             ],
             [
              0.2222222222222222,
              "#7201a8"
             ],
             [
              0.3333333333333333,
              "#9c179e"
             ],
             [
              0.4444444444444444,
              "#bd3786"
             ],
             [
              0.5555555555555556,
              "#d8576b"
             ],
             [
              0.6666666666666666,
              "#ed7953"
             ],
             [
              0.7777777777777778,
              "#fb9f3a"
             ],
             [
              0.8888888888888888,
              "#fdca26"
             ],
             [
              1,
              "#f0f921"
             ]
            ],
            "type": "heatmap"
           }
          ],
          "histogram": [
           {
            "marker": {
             "pattern": {
              "fillmode": "overlay",
              "size": 10,
              "solidity": 0.2
             }
            },
            "type": "histogram"
           }
          ],
          "histogram2d": [
           {
            "colorbar": {
             "outlinewidth": 0,
             "ticks": ""
            },
            "colorscale": [
             [
              0,
              "#0d0887"
             ],
             [
              0.1111111111111111,
              "#46039f"
             ],
             [
              0.2222222222222222,
              "#7201a8"
             ],
             [
              0.3333333333333333,
              "#9c179e"
             ],
             [
              0.4444444444444444,
              "#bd3786"
             ],
             [
              0.5555555555555556,
              "#d8576b"
             ],
             [
              0.6666666666666666,
              "#ed7953"
             ],
             [
              0.7777777777777778,
              "#fb9f3a"
             ],
             [
              0.8888888888888888,
              "#fdca26"
             ],
             [
              1,
              "#f0f921"
             ]
            ],
            "type": "histogram2d"
           }
          ],
          "histogram2dcontour": [
           {
            "colorbar": {
             "outlinewidth": 0,
             "ticks": ""
            },
            "colorscale": [
             [
              0,
              "#0d0887"
             ],
             [
              0.1111111111111111,
              "#46039f"
             ],
             [
              0.2222222222222222,
              "#7201a8"
             ],
             [
              0.3333333333333333,
              "#9c179e"
             ],
             [
              0.4444444444444444,
              "#bd3786"
             ],
             [
              0.5555555555555556,
              "#d8576b"
             ],
             [
              0.6666666666666666,
              "#ed7953"
             ],
             [
              0.7777777777777778,
              "#fb9f3a"
             ],
             [
              0.8888888888888888,
              "#fdca26"
             ],
             [
              1,
              "#f0f921"
             ]
            ],
            "type": "histogram2dcontour"
           }
          ],
          "mesh3d": [
           {
            "colorbar": {
             "outlinewidth": 0,
             "ticks": ""
            },
            "type": "mesh3d"
           }
          ],
          "parcoords": [
           {
            "line": {
             "colorbar": {
              "outlinewidth": 0,
              "ticks": ""
             }
            },
            "type": "parcoords"
           }
          ],
          "pie": [
           {
            "automargin": true,
            "type": "pie"
           }
          ],
          "scatter": [
           {
            "fillpattern": {
             "fillmode": "overlay",
             "size": 10,
             "solidity": 0.2
            },
            "type": "scatter"
           }
          ],
          "scatter3d": [
           {
            "line": {
             "colorbar": {
              "outlinewidth": 0,
              "ticks": ""
             }
            },
            "marker": {
             "colorbar": {
              "outlinewidth": 0,
              "ticks": ""
             }
            },
            "type": "scatter3d"
           }
          ],
          "scattercarpet": [
           {
            "marker": {
             "colorbar": {
              "outlinewidth": 0,
              "ticks": ""
             }
            },
            "type": "scattercarpet"
           }
          ],
          "scattergeo": [
           {
            "marker": {
             "colorbar": {
              "outlinewidth": 0,
              "ticks": ""
             }
            },
            "type": "scattergeo"
           }
          ],
          "scattergl": [
           {
            "marker": {
             "colorbar": {
              "outlinewidth": 0,
              "ticks": ""
             }
            },
            "type": "scattergl"
           }
          ],
          "scattermap": [
           {
            "marker": {
             "colorbar": {
              "outlinewidth": 0,
              "ticks": ""
             }
            },
            "type": "scattermap"
           }
          ],
          "scattermapbox": [
           {
            "marker": {
             "colorbar": {
              "outlinewidth": 0,
              "ticks": ""
             }
            },
            "type": "scattermapbox"
           }
          ],
          "scatterpolar": [
           {
            "marker": {
             "colorbar": {
              "outlinewidth": 0,
              "ticks": ""
             }
            },
            "type": "scatterpolar"
           }
          ],
          "scatterpolargl": [
           {
            "marker": {
             "colorbar": {
              "outlinewidth": 0,
              "ticks": ""
             }
            },
            "type": "scatterpolargl"
           }
          ],
          "scatterternary": [
           {
            "marker": {
             "colorbar": {
              "outlinewidth": 0,
              "ticks": ""
             }
            },
            "type": "scatterternary"
           }
          ],
          "surface": [
           {
            "colorbar": {
             "outlinewidth": 0,
             "ticks": ""
            },
            "colorscale": [
             [
              0,
              "#0d0887"
             ],
             [
              0.1111111111111111,
              "#46039f"
             ],
             [
              0.2222222222222222,
              "#7201a8"
             ],
             [
              0.3333333333333333,
              "#9c179e"
             ],
             [
              0.4444444444444444,
              "#bd3786"
             ],
             [
              0.5555555555555556,
              "#d8576b"
             ],
             [
              0.6666666666666666,
              "#ed7953"
             ],
             [
              0.7777777777777778,
              "#fb9f3a"
             ],
             [
              0.8888888888888888,
              "#fdca26"
             ],
             [
              1,
              "#f0f921"
             ]
            ],
            "type": "surface"
           }
          ],
          "table": [
           {
            "cells": {
             "fill": {
              "color": "#EBF0F8"
             },
             "line": {
              "color": "white"
             }
            },
            "header": {
             "fill": {
              "color": "#C8D4E3"
             },
             "line": {
              "color": "white"
             }
            },
            "type": "table"
           }
          ]
         },
         "layout": {
          "annotationdefaults": {
           "arrowcolor": "#2a3f5f",
           "arrowhead": 0,
           "arrowwidth": 1
          },
          "autotypenumbers": "strict",
          "coloraxis": {
           "colorbar": {
            "outlinewidth": 0,
            "ticks": ""
           }
          },
          "colorscale": {
           "diverging": [
            [
             0,
             "#8e0152"
            ],
            [
             0.1,
             "#c51b7d"
            ],
            [
             0.2,
             "#de77ae"
            ],
            [
             0.3,
             "#f1b6da"
            ],
            [
             0.4,
             "#fde0ef"
            ],
            [
             0.5,
             "#f7f7f7"
            ],
            [
             0.6,
             "#e6f5d0"
            ],
            [
             0.7,
             "#b8e186"
            ],
            [
             0.8,
             "#7fbc41"
            ],
            [
             0.9,
             "#4d9221"
            ],
            [
             1,
             "#276419"
            ]
           ],
           "sequential": [
            [
             0,
             "#0d0887"
            ],
            [
             0.1111111111111111,
             "#46039f"
            ],
            [
             0.2222222222222222,
             "#7201a8"
            ],
            [
             0.3333333333333333,
             "#9c179e"
            ],
            [
             0.4444444444444444,
             "#bd3786"
            ],
            [
             0.5555555555555556,
             "#d8576b"
            ],
            [
             0.6666666666666666,
             "#ed7953"
            ],
            [
             0.7777777777777778,
             "#fb9f3a"
            ],
            [
             0.8888888888888888,
             "#fdca26"
            ],
            [
             1,
             "#f0f921"
            ]
           ],
           "sequentialminus": [
            [
             0,
             "#0d0887"
            ],
            [
             0.1111111111111111,
             "#46039f"
            ],
            [
             0.2222222222222222,
             "#7201a8"
            ],
            [
             0.3333333333333333,
             "#9c179e"
            ],
            [
             0.4444444444444444,
             "#bd3786"
            ],
            [
             0.5555555555555556,
             "#d8576b"
            ],
            [
             0.6666666666666666,
             "#ed7953"
            ],
            [
             0.7777777777777778,
             "#fb9f3a"
            ],
            [
             0.8888888888888888,
             "#fdca26"
            ],
            [
             1,
             "#f0f921"
            ]
           ]
          },
          "colorway": [
           "#636efa",
           "#EF553B",
           "#00cc96",
           "#ab63fa",
           "#FFA15A",
           "#19d3f3",
           "#FF6692",
           "#B6E880",
           "#FF97FF",
           "#FECB52"
          ],
          "font": {
           "color": "#2a3f5f"
          },
          "geo": {
           "bgcolor": "white",
           "lakecolor": "white",
           "landcolor": "#E5ECF6",
           "showlakes": true,
           "showland": true,
           "subunitcolor": "white"
          },
          "hoverlabel": {
           "align": "left"
          },
          "hovermode": "closest",
          "mapbox": {
           "style": "light"
          },
          "paper_bgcolor": "white",
          "plot_bgcolor": "#E5ECF6",
          "polar": {
           "angularaxis": {
            "gridcolor": "white",
            "linecolor": "white",
            "ticks": ""
           },
           "bgcolor": "#E5ECF6",
           "radialaxis": {
            "gridcolor": "white",
            "linecolor": "white",
            "ticks": ""
           }
          },
          "scene": {
           "xaxis": {
            "backgroundcolor": "#E5ECF6",
            "gridcolor": "white",
            "gridwidth": 2,
            "linecolor": "white",
            "showbackground": true,
            "ticks": "",
            "zerolinecolor": "white"
           },
           "yaxis": {
            "backgroundcolor": "#E5ECF6",
            "gridcolor": "white",
            "gridwidth": 2,
            "linecolor": "white",
            "showbackground": true,
            "ticks": "",
            "zerolinecolor": "white"
           },
           "zaxis": {
            "backgroundcolor": "#E5ECF6",
            "gridcolor": "white",
            "gridwidth": 2,
            "linecolor": "white",
            "showbackground": true,
            "ticks": "",
            "zerolinecolor": "white"
           }
          },
          "shapedefaults": {
           "line": {
            "color": "#2a3f5f"
           }
          },
          "ternary": {
           "aaxis": {
            "gridcolor": "white",
            "linecolor": "white",
            "ticks": ""
           },
           "baxis": {
            "gridcolor": "white",
            "linecolor": "white",
            "ticks": ""
           },
           "bgcolor": "#E5ECF6",
           "caxis": {
            "gridcolor": "white",
            "linecolor": "white",
            "ticks": ""
           }
          },
          "title": {
           "x": 0.05
          },
          "xaxis": {
           "automargin": true,
           "gridcolor": "white",
           "linecolor": "white",
           "ticks": "",
           "title": {
            "standoff": 15
           },
           "zerolinecolor": "white",
           "zerolinewidth": 2
          },
          "yaxis": {
           "automargin": true,
           "gridcolor": "white",
           "linecolor": "white",
           "ticks": "",
           "title": {
            "standoff": 15
           },
           "zerolinecolor": "white",
           "zerolinewidth": 2
          }
         }
        },
        "title": {
         "text": "Resultado Medio de las Simulaciones - Elecciones Presidenciales 2024"
        },
        "width": 1200
       }
      }
     },
     "metadata": {},
     "output_type": "display_data"
    }
   ],
   "source": [
    "# Crear el mapa coroplético usando Plotly Express con códigos de estado\n",
    "fig = px.choropleth(accumulated_pred_state,\n",
    "                    locations='state_code',  # Usar la nueva columna con códigos de estado\n",
    "                    locationmode=\"USA-states\",  # Modo de localización para los códigos de estado\n",
    "                    color='Winner',  # Métrica que deseas visualizar\n",
    "                    hover_name='state_code',  # Mostrar el código del estado en hover\n",
    "                    hover_data={\n",
    "                        'state_code': True,  # Mostrar el código del estado\n",
    "                        \"Per_dem\": ':.2%',  # Mostrar el porcentaje de Biden en formato de porcentaje\n",
    "                        \"Per_gop\": ':.2%'  # Mostrar el porcentaje de Trump en formato de porcentaje\n",
    "                    },\n",
    "                    scope='usa',  # Limitar el mapa a EE.UU.\n",
    "                    color_discrete_map={'dem': '#3951a2', 'gop': '#af2b39'},  # Colores asignados\n",
    "                    labels={f'Winner': 'Ganador {ELECTORAL_YEAR}'},  # Etiqueta para la barra de color\n",
    "                    title=f\"Resultado Medio de las Simulaciones - Elecciones Presidenciales {ELECTORAL_YEAR}\"\n",
    "                   )\n",
    "\n",
    "# # Crear un nuevo rastro para añadir los códigos de los estados en el mapa\n",
    "# fig.add_trace(go.Scattergeo(\n",
    "#     locationmode='USA-states',\n",
    "#     locations=accumulated_pred_state['state_code'],  # Usar los códigos de los estados\n",
    "#     text=accumulated_pred_state['state_code'],  # Mostrar los códigos dentro del mapa\n",
    "#     mode='text',  # Solo texto\n",
    "#     textfont=dict(size=12, color=\"black\"),  # Tamaño y color de la fuente\n",
    "# ))\n",
    "\n",
    "# Ajustar el tamaño del gráfico\n",
    "fig.update_layout(\n",
    "    width=1200,  # Ajustar el ancho del gráfico\n",
    "    height=800   # Ajustar la altura del gráfico\n",
    ")\n",
    "\n",
    "# Ajustar visualización y mostrar el gráfico\n",
    "fig.update_geos(fitbounds=\"locations\", visible=False)  # Ajustar el mapa a las ubicaciones\n",
    "fig.show()\n"
   ]
  },
  {
   "cell_type": "code",
   "execution_count": 184,
   "metadata": {},
   "outputs": [
    {
     "data": {
      "application/vnd.plotly.v1+json": {
       "config": {
        "plotlyServerURL": "https://plot.ly"
       },
       "data": [
        {
         "colorscale": [
          [
           0,
           "#af2b39"
          ],
          [
           1,
           "#af2b39"
          ]
         ],
         "customdata": [
          [
           "AL",
           0.40799441228069777,
           0.5920055877193022
          ],
          [
           "AR",
           0.3864825176234249,
           0.6135174823765752
          ],
          [
           "ID",
           0.37552414838777604,
           0.6244758516122242
          ],
          [
           "IN",
           0.40526905021139936,
           0.5947309497886006
          ],
          [
           "IA",
           0.39019907976641366,
           0.6098009202335861
          ],
          [
           "KS",
           0.3937128051083228,
           0.6062871948916774
          ],
          [
           "KY",
           0.3826070055274823,
           0.6173929944725177
          ],
          [
           "ME",
           0.41858624798117255,
           0.5814137520188275
          ],
          [
           "MS",
           0.42863807946486704,
           0.571361920535133
          ],
          [
           "MO",
           0.4110102902057461,
           0.5889897097942538
          ],
          [
           "MT",
           0.3974521566628442,
           0.6025478433371556
          ],
          [
           "NE",
           0.40274799901773756,
           0.5972520009822624
          ],
          [
           "NH",
           0.4416308334702174,
           0.5583691665297829
          ],
          [
           "ND",
           0.3812297736797782,
           0.6187702263202217
          ],
          [
           "OH",
           0.4469772080030451,
           0.5530227919969546
          ],
          [
           "OK",
           0.377795598161063,
           0.6222044018389372
          ],
          [
           "SC",
           0.43958959754482474,
           0.5604104024551755
          ],
          [
           "SD",
           0.3642228504915044,
           0.6357771495084956
          ],
          [
           "TN",
           0.4213196988389419,
           0.578680301161058
          ],
          [
           "UT",
           0.4423558651186944,
           0.5576441348813057
          ],
          [
           "WV",
           0.3347273065083782,
           0.665272693491622
          ],
          [
           "WY",
           0.343326374225872,
           0.656673625774128
          ]
         ],
         "geo": "geo",
         "hovertemplate": "<b>%{hovertext}</b><br><br>Status=Safe Republican<br>state_code=%{customdata[0]}<br>Per_dem=%{customdata[1]:.2%}<br>Per_gop=%{customdata[2]:.2%}<extra></extra>",
         "hovertext": [
          "AL",
          "AR",
          "ID",
          "IN",
          "IA",
          "KS",
          "KY",
          "ME",
          "MS",
          "MO",
          "MT",
          "NE",
          "NH",
          "ND",
          "OH",
          "OK",
          "SC",
          "SD",
          "TN",
          "UT",
          "WV",
          "WY"
         ],
         "locationmode": "USA-states",
         "locations": [
          "AL",
          "AR",
          "ID",
          "IN",
          "IA",
          "KS",
          "KY",
          "ME",
          "MS",
          "MO",
          "MT",
          "NE",
          "NH",
          "ND",
          "OH",
          "OK",
          "SC",
          "SD",
          "TN",
          "UT",
          "WV",
          "WY"
         ],
         "name": "Safe Republican",
         "showlegend": true,
         "showscale": false,
         "type": "choropleth",
         "z": [
          1,
          1,
          1,
          1,
          1,
          1,
          1,
          1,
          1,
          1,
          1,
          1,
          1,
          1,
          1,
          1,
          1,
          1,
          1,
          1,
          1,
          1
         ]
        },
        {
         "colorscale": [
          [
           0,
           "#a3cef1"
          ],
          [
           1,
           "#a3cef1"
          ]
         ],
         "customdata": [
          [
           "AZ",
           0.5160761248958761,
           0.48392387510412394
          ],
          [
           "CO",
           0.5205384273969581,
           0.47946157260304206
          ],
          [
           "DE",
           0.5128353640691623,
           0.48716463593083775
          ],
          [
           "IL",
           0.5358807288738368,
           0.4641192711261633
          ],
          [
           "OR",
           0.5304203360437364,
           0.46957966395626366
          ],
          [
           "RI",
           0.5490654923892453,
           0.4509345076107547
          ],
          [
           "VA",
           0.5146288009267392,
           0.4853711990732608
          ]
         ],
         "geo": "geo",
         "hovertemplate": "<b>%{hovertext}</b><br><br>Status=Likely Democrat<br>state_code=%{customdata[0]}<br>Per_dem=%{customdata[1]:.2%}<br>Per_gop=%{customdata[2]:.2%}<extra></extra>",
         "hovertext": [
          "AZ",
          "CO",
          "DE",
          "IL",
          "OR",
          "RI",
          "VA"
         ],
         "locationmode": "USA-states",
         "locations": [
          "AZ",
          "CO",
          "DE",
          "IL",
          "OR",
          "RI",
          "VA"
         ],
         "name": "Likely Democrat",
         "showlegend": true,
         "showscale": false,
         "type": "choropleth",
         "z": [
          1,
          1,
          1,
          1,
          1,
          1,
          1
         ]
        },
        {
         "colorscale": [
          [
           0,
           "#3951a2"
          ],
          [
           1,
           "#3951a2"
          ]
         ],
         "customdata": [
          [
           "CA",
           0.6215670569642888,
           0.3784329430357111
          ],
          [
           "DC",
           0.8040729782543344,
           0.19592702174566567
          ],
          [
           "HI",
           0.6228602960002171,
           0.37713970399978314
          ],
          [
           "MD",
           0.5877970345618507,
           0.4122029654381493
          ],
          [
           "MA",
           0.6021681085647477,
           0.39783189143525205
          ],
          [
           "NV",
           0.5717420046684546,
           0.4282579953315455
          ],
          [
           "NJ",
           0.5938738270962841,
           0.4061261729037157
          ],
          [
           "NY",
           0.5974966957684019,
           0.40250330423159797
          ],
          [
           "WA",
           0.568508154087261,
           0.43149184591273915
          ]
         ],
         "geo": "geo",
         "hovertemplate": "<b>%{hovertext}</b><br><br>Status=Safe Democrat<br>state_code=%{customdata[0]}<br>Per_dem=%{customdata[1]:.2%}<br>Per_gop=%{customdata[2]:.2%}<extra></extra>",
         "hovertext": [
          "CA",
          "DC",
          "HI",
          "MD",
          "MA",
          "NV",
          "NJ",
          "NY",
          "WA"
         ],
         "locationmode": "USA-states",
         "locations": [
          "CA",
          "DC",
          "HI",
          "MD",
          "MA",
          "NV",
          "NJ",
          "NY",
          "WA"
         ],
         "name": "Safe Democrat",
         "showlegend": true,
         "showscale": false,
         "type": "choropleth",
         "z": [
          1,
          1,
          1,
          1,
          1,
          1,
          1,
          1,
          1
         ]
        },
        {
         "colorscale": [
          [
           0,
           "#b6b164"
          ],
          [
           1,
           "#b6b164"
          ]
         ],
         "customdata": [
          [
           "FL",
           0.5011608818388396,
           0.49883911816116056
          ],
          [
           "GA",
           0.4999676455269565,
           0.5000323544730435
          ],
          [
           "PA",
           0.4901333466032261,
           0.5098666533967738
          ],
          [
           "TX",
           0.5017647792718458,
           0.498235220728154
          ]
         ],
         "geo": "geo",
         "hovertemplate": "<b>%{hovertext}</b><br><br>Status=Toss-Up<br>state_code=%{customdata[0]}<br>Per_dem=%{customdata[1]:.2%}<br>Per_gop=%{customdata[2]:.2%}<extra></extra>",
         "hovertext": [
          "FL",
          "GA",
          "PA",
          "TX"
         ],
         "locationmode": "USA-states",
         "locations": [
          "FL",
          "GA",
          "PA",
          "TX"
         ],
         "name": "Toss-Up",
         "showlegend": true,
         "showscale": false,
         "type": "choropleth",
         "z": [
          1,
          1,
          1,
          1
         ]
        },
        {
         "colorscale": [
          [
           0,
           "#d56062"
          ],
          [
           1,
           "#d56062"
          ]
         ],
         "customdata": [
          [
           "LA",
           0.4604983613384157,
           0.5395016386615843
          ],
          [
           "MI",
           0.45549330264572724,
           0.5445066973542729
          ],
          [
           "MN",
           0.4808925887861875,
           0.5191074112138125
          ],
          [
           "NM",
           0.46605188791137403,
           0.533948112088626
          ],
          [
           "NC",
           0.47477398865615617,
           0.5252260113438436
          ],
          [
           "VT",
           0.45905073962480314,
           0.5409492603751969
          ],
          [
           "WI",
           0.45195433146732944,
           0.5480456685326703
          ]
         ],
         "geo": "geo",
         "hovertemplate": "<b>%{hovertext}</b><br><br>Status=Likely Republican<br>state_code=%{customdata[0]}<br>Per_dem=%{customdata[1]:.2%}<br>Per_gop=%{customdata[2]:.2%}<extra></extra>",
         "hovertext": [
          "LA",
          "MI",
          "MN",
          "NM",
          "NC",
          "VT",
          "WI"
         ],
         "locationmode": "USA-states",
         "locations": [
          "LA",
          "MI",
          "MN",
          "NM",
          "NC",
          "VT",
          "WI"
         ],
         "name": "Likely Republican",
         "showlegend": true,
         "showscale": false,
         "type": "choropleth",
         "z": [
          1,
          1,
          1,
          1,
          1,
          1,
          1
         ]
        }
       ],
       "layout": {
        "geo": {
         "center": {},
         "domain": {
          "x": [
           0,
           1
          ],
          "y": [
           0,
           1
          ]
         },
         "fitbounds": "locations",
         "scope": "usa",
         "visible": false
        },
        "height": 800,
        "legend": {
         "title": {
          "text": "Status"
         },
         "tracegroupgap": 0
        },
        "template": {
         "data": {
          "bar": [
           {
            "error_x": {
             "color": "#2a3f5f"
            },
            "error_y": {
             "color": "#2a3f5f"
            },
            "marker": {
             "line": {
              "color": "#E5ECF6",
              "width": 0.5
             },
             "pattern": {
              "fillmode": "overlay",
              "size": 10,
              "solidity": 0.2
             }
            },
            "type": "bar"
           }
          ],
          "barpolar": [
           {
            "marker": {
             "line": {
              "color": "#E5ECF6",
              "width": 0.5
             },
             "pattern": {
              "fillmode": "overlay",
              "size": 10,
              "solidity": 0.2
             }
            },
            "type": "barpolar"
           }
          ],
          "carpet": [
           {
            "aaxis": {
             "endlinecolor": "#2a3f5f",
             "gridcolor": "white",
             "linecolor": "white",
             "minorgridcolor": "white",
             "startlinecolor": "#2a3f5f"
            },
            "baxis": {
             "endlinecolor": "#2a3f5f",
             "gridcolor": "white",
             "linecolor": "white",
             "minorgridcolor": "white",
             "startlinecolor": "#2a3f5f"
            },
            "type": "carpet"
           }
          ],
          "choropleth": [
           {
            "colorbar": {
             "outlinewidth": 0,
             "ticks": ""
            },
            "type": "choropleth"
           }
          ],
          "contour": [
           {
            "colorbar": {
             "outlinewidth": 0,
             "ticks": ""
            },
            "colorscale": [
             [
              0,
              "#0d0887"
             ],
             [
              0.1111111111111111,
              "#46039f"
             ],
             [
              0.2222222222222222,
              "#7201a8"
             ],
             [
              0.3333333333333333,
              "#9c179e"
             ],
             [
              0.4444444444444444,
              "#bd3786"
             ],
             [
              0.5555555555555556,
              "#d8576b"
             ],
             [
              0.6666666666666666,
              "#ed7953"
             ],
             [
              0.7777777777777778,
              "#fb9f3a"
             ],
             [
              0.8888888888888888,
              "#fdca26"
             ],
             [
              1,
              "#f0f921"
             ]
            ],
            "type": "contour"
           }
          ],
          "contourcarpet": [
           {
            "colorbar": {
             "outlinewidth": 0,
             "ticks": ""
            },
            "type": "contourcarpet"
           }
          ],
          "heatmap": [
           {
            "colorbar": {
             "outlinewidth": 0,
             "ticks": ""
            },
            "colorscale": [
             [
              0,
              "#0d0887"
             ],
             [
              0.1111111111111111,
              "#46039f"
             ],
             [
              0.2222222222222222,
              "#7201a8"
             ],
             [
              0.3333333333333333,
              "#9c179e"
             ],
             [
              0.4444444444444444,
              "#bd3786"
             ],
             [
              0.5555555555555556,
              "#d8576b"
             ],
             [
              0.6666666666666666,
              "#ed7953"
             ],
             [
              0.7777777777777778,
              "#fb9f3a"
             ],
             [
              0.8888888888888888,
              "#fdca26"
             ],
             [
              1,
              "#f0f921"
             ]
            ],
            "type": "heatmap"
           }
          ],
          "histogram": [
           {
            "marker": {
             "pattern": {
              "fillmode": "overlay",
              "size": 10,
              "solidity": 0.2
             }
            },
            "type": "histogram"
           }
          ],
          "histogram2d": [
           {
            "colorbar": {
             "outlinewidth": 0,
             "ticks": ""
            },
            "colorscale": [
             [
              0,
              "#0d0887"
             ],
             [
              0.1111111111111111,
              "#46039f"
             ],
             [
              0.2222222222222222,
              "#7201a8"
             ],
             [
              0.3333333333333333,
              "#9c179e"
             ],
             [
              0.4444444444444444,
              "#bd3786"
             ],
             [
              0.5555555555555556,
              "#d8576b"
             ],
             [
              0.6666666666666666,
              "#ed7953"
             ],
             [
              0.7777777777777778,
              "#fb9f3a"
             ],
             [
              0.8888888888888888,
              "#fdca26"
             ],
             [
              1,
              "#f0f921"
             ]
            ],
            "type": "histogram2d"
           }
          ],
          "histogram2dcontour": [
           {
            "colorbar": {
             "outlinewidth": 0,
             "ticks": ""
            },
            "colorscale": [
             [
              0,
              "#0d0887"
             ],
             [
              0.1111111111111111,
              "#46039f"
             ],
             [
              0.2222222222222222,
              "#7201a8"
             ],
             [
              0.3333333333333333,
              "#9c179e"
             ],
             [
              0.4444444444444444,
              "#bd3786"
             ],
             [
              0.5555555555555556,
              "#d8576b"
             ],
             [
              0.6666666666666666,
              "#ed7953"
             ],
             [
              0.7777777777777778,
              "#fb9f3a"
             ],
             [
              0.8888888888888888,
              "#fdca26"
             ],
             [
              1,
              "#f0f921"
             ]
            ],
            "type": "histogram2dcontour"
           }
          ],
          "mesh3d": [
           {
            "colorbar": {
             "outlinewidth": 0,
             "ticks": ""
            },
            "type": "mesh3d"
           }
          ],
          "parcoords": [
           {
            "line": {
             "colorbar": {
              "outlinewidth": 0,
              "ticks": ""
             }
            },
            "type": "parcoords"
           }
          ],
          "pie": [
           {
            "automargin": true,
            "type": "pie"
           }
          ],
          "scatter": [
           {
            "fillpattern": {
             "fillmode": "overlay",
             "size": 10,
             "solidity": 0.2
            },
            "type": "scatter"
           }
          ],
          "scatter3d": [
           {
            "line": {
             "colorbar": {
              "outlinewidth": 0,
              "ticks": ""
             }
            },
            "marker": {
             "colorbar": {
              "outlinewidth": 0,
              "ticks": ""
             }
            },
            "type": "scatter3d"
           }
          ],
          "scattercarpet": [
           {
            "marker": {
             "colorbar": {
              "outlinewidth": 0,
              "ticks": ""
             }
            },
            "type": "scattercarpet"
           }
          ],
          "scattergeo": [
           {
            "marker": {
             "colorbar": {
              "outlinewidth": 0,
              "ticks": ""
             }
            },
            "type": "scattergeo"
           }
          ],
          "scattergl": [
           {
            "marker": {
             "colorbar": {
              "outlinewidth": 0,
              "ticks": ""
             }
            },
            "type": "scattergl"
           }
          ],
          "scattermap": [
           {
            "marker": {
             "colorbar": {
              "outlinewidth": 0,
              "ticks": ""
             }
            },
            "type": "scattermap"
           }
          ],
          "scattermapbox": [
           {
            "marker": {
             "colorbar": {
              "outlinewidth": 0,
              "ticks": ""
             }
            },
            "type": "scattermapbox"
           }
          ],
          "scatterpolar": [
           {
            "marker": {
             "colorbar": {
              "outlinewidth": 0,
              "ticks": ""
             }
            },
            "type": "scatterpolar"
           }
          ],
          "scatterpolargl": [
           {
            "marker": {
             "colorbar": {
              "outlinewidth": 0,
              "ticks": ""
             }
            },
            "type": "scatterpolargl"
           }
          ],
          "scatterternary": [
           {
            "marker": {
             "colorbar": {
              "outlinewidth": 0,
              "ticks": ""
             }
            },
            "type": "scatterternary"
           }
          ],
          "surface": [
           {
            "colorbar": {
             "outlinewidth": 0,
             "ticks": ""
            },
            "colorscale": [
             [
              0,
              "#0d0887"
             ],
             [
              0.1111111111111111,
              "#46039f"
             ],
             [
              0.2222222222222222,
              "#7201a8"
             ],
             [
              0.3333333333333333,
              "#9c179e"
             ],
             [
              0.4444444444444444,
              "#bd3786"
             ],
             [
              0.5555555555555556,
              "#d8576b"
             ],
             [
              0.6666666666666666,
              "#ed7953"
             ],
             [
              0.7777777777777778,
              "#fb9f3a"
             ],
             [
              0.8888888888888888,
              "#fdca26"
             ],
             [
              1,
              "#f0f921"
             ]
            ],
            "type": "surface"
           }
          ],
          "table": [
           {
            "cells": {
             "fill": {
              "color": "#EBF0F8"
             },
             "line": {
              "color": "white"
             }
            },
            "header": {
             "fill": {
              "color": "#C8D4E3"
             },
             "line": {
              "color": "white"
             }
            },
            "type": "table"
           }
          ]
         },
         "layout": {
          "annotationdefaults": {
           "arrowcolor": "#2a3f5f",
           "arrowhead": 0,
           "arrowwidth": 1
          },
          "autotypenumbers": "strict",
          "coloraxis": {
           "colorbar": {
            "outlinewidth": 0,
            "ticks": ""
           }
          },
          "colorscale": {
           "diverging": [
            [
             0,
             "#8e0152"
            ],
            [
             0.1,
             "#c51b7d"
            ],
            [
             0.2,
             "#de77ae"
            ],
            [
             0.3,
             "#f1b6da"
            ],
            [
             0.4,
             "#fde0ef"
            ],
            [
             0.5,
             "#f7f7f7"
            ],
            [
             0.6,
             "#e6f5d0"
            ],
            [
             0.7,
             "#b8e186"
            ],
            [
             0.8,
             "#7fbc41"
            ],
            [
             0.9,
             "#4d9221"
            ],
            [
             1,
             "#276419"
            ]
           ],
           "sequential": [
            [
             0,
             "#0d0887"
            ],
            [
             0.1111111111111111,
             "#46039f"
            ],
            [
             0.2222222222222222,
             "#7201a8"
            ],
            [
             0.3333333333333333,
             "#9c179e"
            ],
            [
             0.4444444444444444,
             "#bd3786"
            ],
            [
             0.5555555555555556,
             "#d8576b"
            ],
            [
             0.6666666666666666,
             "#ed7953"
            ],
            [
             0.7777777777777778,
             "#fb9f3a"
            ],
            [
             0.8888888888888888,
             "#fdca26"
            ],
            [
             1,
             "#f0f921"
            ]
           ],
           "sequentialminus": [
            [
             0,
             "#0d0887"
            ],
            [
             0.1111111111111111,
             "#46039f"
            ],
            [
             0.2222222222222222,
             "#7201a8"
            ],
            [
             0.3333333333333333,
             "#9c179e"
            ],
            [
             0.4444444444444444,
             "#bd3786"
            ],
            [
             0.5555555555555556,
             "#d8576b"
            ],
            [
             0.6666666666666666,
             "#ed7953"
            ],
            [
             0.7777777777777778,
             "#fb9f3a"
            ],
            [
             0.8888888888888888,
             "#fdca26"
            ],
            [
             1,
             "#f0f921"
            ]
           ]
          },
          "colorway": [
           "#636efa",
           "#EF553B",
           "#00cc96",
           "#ab63fa",
           "#FFA15A",
           "#19d3f3",
           "#FF6692",
           "#B6E880",
           "#FF97FF",
           "#FECB52"
          ],
          "font": {
           "color": "#2a3f5f"
          },
          "geo": {
           "bgcolor": "white",
           "lakecolor": "white",
           "landcolor": "#E5ECF6",
           "showlakes": true,
           "showland": true,
           "subunitcolor": "white"
          },
          "hoverlabel": {
           "align": "left"
          },
          "hovermode": "closest",
          "mapbox": {
           "style": "light"
          },
          "paper_bgcolor": "white",
          "plot_bgcolor": "#E5ECF6",
          "polar": {
           "angularaxis": {
            "gridcolor": "white",
            "linecolor": "white",
            "ticks": ""
           },
           "bgcolor": "#E5ECF6",
           "radialaxis": {
            "gridcolor": "white",
            "linecolor": "white",
            "ticks": ""
           }
          },
          "scene": {
           "xaxis": {
            "backgroundcolor": "#E5ECF6",
            "gridcolor": "white",
            "gridwidth": 2,
            "linecolor": "white",
            "showbackground": true,
            "ticks": "",
            "zerolinecolor": "white"
           },
           "yaxis": {
            "backgroundcolor": "#E5ECF6",
            "gridcolor": "white",
            "gridwidth": 2,
            "linecolor": "white",
            "showbackground": true,
            "ticks": "",
            "zerolinecolor": "white"
           },
           "zaxis": {
            "backgroundcolor": "#E5ECF6",
            "gridcolor": "white",
            "gridwidth": 2,
            "linecolor": "white",
            "showbackground": true,
            "ticks": "",
            "zerolinecolor": "white"
           }
          },
          "shapedefaults": {
           "line": {
            "color": "#2a3f5f"
           }
          },
          "ternary": {
           "aaxis": {
            "gridcolor": "white",
            "linecolor": "white",
            "ticks": ""
           },
           "baxis": {
            "gridcolor": "white",
            "linecolor": "white",
            "ticks": ""
           },
           "bgcolor": "#E5ECF6",
           "caxis": {
            "gridcolor": "white",
            "linecolor": "white",
            "ticks": ""
           }
          },
          "title": {
           "x": 0.05
          },
          "xaxis": {
           "automargin": true,
           "gridcolor": "white",
           "linecolor": "white",
           "ticks": "",
           "title": {
            "standoff": 15
           },
           "zerolinecolor": "white",
           "zerolinewidth": 2
          },
          "yaxis": {
           "automargin": true,
           "gridcolor": "white",
           "linecolor": "white",
           "ticks": "",
           "title": {
            "standoff": 15
           },
           "zerolinecolor": "white",
           "zerolinewidth": 2
          }
         }
        },
        "title": {
         "text": "Status de los Estados en las Simulaciones - Elecciones Presidenciales 2024"
        },
        "width": 1200
       }
      }
     },
     "metadata": {},
     "output_type": "display_data"
    }
   ],
   "source": [
    "# Crear el mapa coroplético usando Plotly Express con códigos de estado\n",
    "fig = px.choropleth(accumulated_pred_state,\n",
    "                    locations='state_code',  # Usar la nueva columna con códigos de estado\n",
    "                    locationmode=\"USA-states\",  # Modo de localización para los códigos de estado\n",
    "                    color='Status',  # Métrica que deseas visualizar\n",
    "                    hover_name='state_code',  # Mostrar el código del estado en hover\n",
    "                    hover_data={\n",
    "                        'state_code': True,  # Mostrar el código del estado\n",
    "                        \"Per_dem\": ':.2%',  # Mostrar el porcentaje de Biden en formato de porcentaje\n",
    "                        \"Per_gop\": ':.2%'  # Mostrar el porcentaje de Trump en formato de porcentaje\n",
    "                    },\n",
    "                    scope='usa',  # Limitar el mapa a EE.UU.\n",
    "                    color_discrete_map={'Safe Democrat': '#3951a2', \n",
    "                                        'Likely Democrat': '#a3cef1', \n",
    "                                        'Toss-Up': '#b6b164', \n",
    "                                        'Likely Republican': '#d56062', \n",
    "                                        'Safe Republican': '#af2b39'},\n",
    "                    labels={f'Winner': 'Ganador {ELECTORAL_YEAR}'},  # Etiqueta para la barra de color\n",
    "                    title=f\"Status de los Estados en las Simulaciones - Elecciones Presidenciales {ELECTORAL_YEAR}\"\n",
    "                   )\n",
    "\n",
    "# # Crear un nuevo rastro para añadir los códigos de los estados en el mapa\n",
    "# fig.add_trace(go.Scattergeo(\n",
    "#     locationmode='USA-states',\n",
    "#     locations=accumulated_pred_state['state_code'],  # Usar los códigos de los estados\n",
    "#     text=accumulated_pred_state['state_code'],  # Mostrar los códigos dentro del mapa\n",
    "#     mode='text',  # Solo texto\n",
    "#     textfont=dict(size=12, color=\"black\"),  # Tamaño y color de la fuente\n",
    "# ))\n",
    "\n",
    "# Ajustar el tamaño del gráfico\n",
    "fig.update_layout(\n",
    "    width=1200,  # Ajustar el ancho del gráfico\n",
    "    height=800   # Ajustar la altura del gráfico\n",
    ")\n",
    "\n",
    "# Ajustar visualización y mostrar el gráfico\n",
    "fig.update_geos(fitbounds=\"locations\", visible=False)  # Ajustar el mapa a las ubicaciones\n",
    "fig.show()\n"
   ]
  },
  {
   "cell_type": "markdown",
   "metadata": {},
   "source": [
    "### Real"
   ]
  },
  {
   "cell_type": "code",
   "execution_count": 185,
   "metadata": {},
   "outputs": [
    {
     "data": {
      "application/vnd.plotly.v1+json": {
       "config": {
        "plotlyServerURL": "https://plot.ly"
       },
       "data": [
        {
         "colorscale": [
          [
           0,
           "#3951a2"
          ],
          [
           1,
           "#3951a2"
          ]
         ],
         "customdata": [
          [
           "CA",
           0.584785371015076,
           0.38340004397783556
          ],
          [
           "NY",
           0.5634474305856947,
           0.4365525694143053
          ],
          [
           "IL",
           0.5476862395321624,
           0.43793237497961507
          ],
          [
           "NJ",
           0.5197416168838388,
           0.4606463088544196
          ],
          [
           "VA",
           0.520993955261439,
           0.4629224356709178
          ],
          [
           "WA",
           0.5760307886843121,
           0.3926616540581994
          ],
          [
           "MA",
           0.6157763989903392,
           0.36233699934297336
          ],
          [
           "MN",
           0.5112687277300615,
           0.4687045267449079
          ],
          [
           "MD",
           0.6309011324258452,
           0.34339197188002585
          ],
          [
           "CO",
           0.54159441632431,
           0.4316815492186621
          ],
          [
           "OR",
           0.5564479305958709,
           0.4125318446524539
          ],
          [
           "CT",
           0.5641700631643359,
           0.41907748336725564
          ],
          [
           "NM",
           0.5185189998299767,
           0.4585116141056505
          ],
          [
           "RI",
           0.5584078612146266,
           0.4198613947859531
          ],
          [
           "NH",
           0.5090244759795318,
           0.4811488859129627
          ],
          [
           "ME",
           0.52401383250639,
           0.45464080589385053
          ],
          [
           "HI",
           0.6058513531036325,
           0.3748028356825321
          ],
          [
           "VT",
           0.6435537093089585,
           0.3258694993572405
          ],
          [
           "DE",
           0.5662687098028716,
           0.4189022018890085
          ],
          [
           "DC",
           0.9114993945085634,
           0.05081185280379606
          ]
         ],
         "geo": "geo",
         "hovertemplate": "<b>%{hovertext}</b><br><br>Ganador {ELECTORAL_YEAR}=dem<br>state_code=%{customdata[0]}<br>Per_dem=%{customdata[1]:.2%}<br>Per_gop=%{customdata[2]:.2%}<extra></extra>",
         "hovertext": [
          "CA",
          "NY",
          "IL",
          "NJ",
          "VA",
          "WA",
          "MA",
          "MN",
          "MD",
          "CO",
          "OR",
          "CT",
          "NM",
          "RI",
          "NH",
          "ME",
          "HI",
          "VT",
          "DE",
          "DC"
         ],
         "locationmode": "USA-states",
         "locations": [
          "CA",
          "NY",
          "IL",
          "NJ",
          "VA",
          "WA",
          "MA",
          "MN",
          "MD",
          "CO",
          "OR",
          "CT",
          "NM",
          "RI",
          "NH",
          "ME",
          "HI",
          "VT",
          "DE",
          "DC"
         ],
         "name": "dem",
         "showlegend": true,
         "showscale": false,
         "type": "choropleth",
         "z": [
          1,
          1,
          1,
          1,
          1,
          1,
          1,
          1,
          1,
          1,
          1,
          1,
          1,
          1,
          1,
          1,
          1,
          1,
          1,
          1
         ]
        },
        {
         "colorscale": [
          [
           0,
           "#af2b39"
          ],
          [
           1,
           "#af2b39"
          ]
         ],
         "customdata": [
          [
           "TX",
           0.4248862378686313,
           0.5618223206200645
          ],
          [
           "FL",
           0.42989101713151834,
           0.5608939861369304
          ],
          [
           "PA",
           0.4866280572391539,
           0.5037253671558666
          ],
          [
           "OH",
           0.43949549498292895,
           0.5516230047543659
          ],
          [
           "MI",
           0.48327259459772565,
           0.4974188097703772
          ],
          [
           "GA",
           0.4853322265495909,
           0.5072558398048627
          ],
          [
           "NC",
           0.47808869107534324,
           0.5103174545882869
          ],
          [
           "TN",
           0.3447405336001791,
           0.6419393709149847
          ],
          [
           "IN",
           0.396633261751372,
           0.5864086307393394
          ],
          [
           "AZ",
           0.46701417010319773,
           0.5223002024890546
          ],
          [
           "WI",
           0.4884699724438856,
           0.4970776346892566
          ],
          [
           "MO",
           0.4010557870868347,
           0.5852446355486846
          ],
          [
           "SC",
           0.40360890688894646,
           0.5822862951015251
          ],
          [
           "AL",
           0.34232779282665116,
           0.64822155408376
          ],
          [
           "LA",
           0.3821024178178602,
           0.6021524931800346
          ],
          [
           "KY",
           0.33957456413877524,
           0.64510114025454
          ],
          [
           "OK",
           0.3189934956099997,
           0.6616210342024795
          ],
          [
           "UT",
           0.3780809986350357,
           0.5939832696103567
          ],
          [
           "NV",
           0.47493130572991027,
           0.505916462379785
          ],
          [
           "MS",
           0.3800203256004847,
           0.6089080852893467
          ],
          [
           "KS",
           0.4104072715166041,
           0.5715630792917397
          ],
          [
           "IA",
           0.4268813875012147,
           0.5595072333085273
          ],
          [
           "AR",
           0.3355990989924544,
           0.6419687217800987
          ],
          [
           "WV",
           0.28110153595928594,
           0.6998465352378703
          ],
          [
           "NE",
           0.3906366301750815,
           0.5963264879497528
          ],
          [
           "ID",
           0.3038995946119194,
           0.6689190682705357
          ],
          [
           "WY",
           0.26103329040784223,
           0.7232244427507856
          ],
          [
           "SD",
           0.34239092422398476,
           0.6343367791812964
          ],
          [
           "ND",
           0.30769546840373746,
           0.6752470148660902
          ],
          [
           "MT",
           0.38461066433595426,
           0.583914767572803
          ]
         ],
         "geo": "geo",
         "hovertemplate": "<b>%{hovertext}</b><br><br>Ganador {ELECTORAL_YEAR}=gop<br>state_code=%{customdata[0]}<br>Per_dem=%{customdata[1]:.2%}<br>Per_gop=%{customdata[2]:.2%}<extra></extra>",
         "hovertext": [
          "TX",
          "FL",
          "PA",
          "OH",
          "MI",
          "GA",
          "NC",
          "TN",
          "IN",
          "AZ",
          "WI",
          "MO",
          "SC",
          "AL",
          "LA",
          "KY",
          "OK",
          "UT",
          "NV",
          "MS",
          "KS",
          "IA",
          "AR",
          "WV",
          "NE",
          "ID",
          "WY",
          "SD",
          "ND",
          "MT"
         ],
         "locationmode": "USA-states",
         "locations": [
          "TX",
          "FL",
          "PA",
          "OH",
          "MI",
          "GA",
          "NC",
          "TN",
          "IN",
          "AZ",
          "WI",
          "MO",
          "SC",
          "AL",
          "LA",
          "KY",
          "OK",
          "UT",
          "NV",
          "MS",
          "KS",
          "IA",
          "AR",
          "WV",
          "NE",
          "ID",
          "WY",
          "SD",
          "ND",
          "MT"
         ],
         "name": "gop",
         "showlegend": true,
         "showscale": false,
         "type": "choropleth",
         "z": [
          1,
          1,
          1,
          1,
          1,
          1,
          1,
          1,
          1,
          1,
          1,
          1,
          1,
          1,
          1,
          1,
          1,
          1,
          1,
          1,
          1,
          1,
          1,
          1,
          1,
          1,
          1,
          1,
          1,
          1
         ]
        }
       ],
       "layout": {
        "geo": {
         "center": {},
         "domain": {
          "x": [
           0,
           1
          ],
          "y": [
           0,
           1
          ]
         },
         "fitbounds": "locations",
         "scope": "usa",
         "visible": false
        },
        "height": 800,
        "legend": {
         "title": {
          "text": "Ganador {ELECTORAL_YEAR}"
         },
         "tracegroupgap": 0
        },
        "template": {
         "data": {
          "bar": [
           {
            "error_x": {
             "color": "#2a3f5f"
            },
            "error_y": {
             "color": "#2a3f5f"
            },
            "marker": {
             "line": {
              "color": "#E5ECF6",
              "width": 0.5
             },
             "pattern": {
              "fillmode": "overlay",
              "size": 10,
              "solidity": 0.2
             }
            },
            "type": "bar"
           }
          ],
          "barpolar": [
           {
            "marker": {
             "line": {
              "color": "#E5ECF6",
              "width": 0.5
             },
             "pattern": {
              "fillmode": "overlay",
              "size": 10,
              "solidity": 0.2
             }
            },
            "type": "barpolar"
           }
          ],
          "carpet": [
           {
            "aaxis": {
             "endlinecolor": "#2a3f5f",
             "gridcolor": "white",
             "linecolor": "white",
             "minorgridcolor": "white",
             "startlinecolor": "#2a3f5f"
            },
            "baxis": {
             "endlinecolor": "#2a3f5f",
             "gridcolor": "white",
             "linecolor": "white",
             "minorgridcolor": "white",
             "startlinecolor": "#2a3f5f"
            },
            "type": "carpet"
           }
          ],
          "choropleth": [
           {
            "colorbar": {
             "outlinewidth": 0,
             "ticks": ""
            },
            "type": "choropleth"
           }
          ],
          "contour": [
           {
            "colorbar": {
             "outlinewidth": 0,
             "ticks": ""
            },
            "colorscale": [
             [
              0,
              "#0d0887"
             ],
             [
              0.1111111111111111,
              "#46039f"
             ],
             [
              0.2222222222222222,
              "#7201a8"
             ],
             [
              0.3333333333333333,
              "#9c179e"
             ],
             [
              0.4444444444444444,
              "#bd3786"
             ],
             [
              0.5555555555555556,
              "#d8576b"
             ],
             [
              0.6666666666666666,
              "#ed7953"
             ],
             [
              0.7777777777777778,
              "#fb9f3a"
             ],
             [
              0.8888888888888888,
              "#fdca26"
             ],
             [
              1,
              "#f0f921"
             ]
            ],
            "type": "contour"
           }
          ],
          "contourcarpet": [
           {
            "colorbar": {
             "outlinewidth": 0,
             "ticks": ""
            },
            "type": "contourcarpet"
           }
          ],
          "heatmap": [
           {
            "colorbar": {
             "outlinewidth": 0,
             "ticks": ""
            },
            "colorscale": [
             [
              0,
              "#0d0887"
             ],
             [
              0.1111111111111111,
              "#46039f"
             ],
             [
              0.2222222222222222,
              "#7201a8"
             ],
             [
              0.3333333333333333,
              "#9c179e"
             ],
             [
              0.4444444444444444,
              "#bd3786"
             ],
             [
              0.5555555555555556,
              "#d8576b"
             ],
             [
              0.6666666666666666,
              "#ed7953"
             ],
             [
              0.7777777777777778,
              "#fb9f3a"
             ],
             [
              0.8888888888888888,
              "#fdca26"
             ],
             [
              1,
              "#f0f921"
             ]
            ],
            "type": "heatmap"
           }
          ],
          "histogram": [
           {
            "marker": {
             "pattern": {
              "fillmode": "overlay",
              "size": 10,
              "solidity": 0.2
             }
            },
            "type": "histogram"
           }
          ],
          "histogram2d": [
           {
            "colorbar": {
             "outlinewidth": 0,
             "ticks": ""
            },
            "colorscale": [
             [
              0,
              "#0d0887"
             ],
             [
              0.1111111111111111,
              "#46039f"
             ],
             [
              0.2222222222222222,
              "#7201a8"
             ],
             [
              0.3333333333333333,
              "#9c179e"
             ],
             [
              0.4444444444444444,
              "#bd3786"
             ],
             [
              0.5555555555555556,
              "#d8576b"
             ],
             [
              0.6666666666666666,
              "#ed7953"
             ],
             [
              0.7777777777777778,
              "#fb9f3a"
             ],
             [
              0.8888888888888888,
              "#fdca26"
             ],
             [
              1,
              "#f0f921"
             ]
            ],
            "type": "histogram2d"
           }
          ],
          "histogram2dcontour": [
           {
            "colorbar": {
             "outlinewidth": 0,
             "ticks": ""
            },
            "colorscale": [
             [
              0,
              "#0d0887"
             ],
             [
              0.1111111111111111,
              "#46039f"
             ],
             [
              0.2222222222222222,
              "#7201a8"
             ],
             [
              0.3333333333333333,
              "#9c179e"
             ],
             [
              0.4444444444444444,
              "#bd3786"
             ],
             [
              0.5555555555555556,
              "#d8576b"
             ],
             [
              0.6666666666666666,
              "#ed7953"
             ],
             [
              0.7777777777777778,
              "#fb9f3a"
             ],
             [
              0.8888888888888888,
              "#fdca26"
             ],
             [
              1,
              "#f0f921"
             ]
            ],
            "type": "histogram2dcontour"
           }
          ],
          "mesh3d": [
           {
            "colorbar": {
             "outlinewidth": 0,
             "ticks": ""
            },
            "type": "mesh3d"
           }
          ],
          "parcoords": [
           {
            "line": {
             "colorbar": {
              "outlinewidth": 0,
              "ticks": ""
             }
            },
            "type": "parcoords"
           }
          ],
          "pie": [
           {
            "automargin": true,
            "type": "pie"
           }
          ],
          "scatter": [
           {
            "fillpattern": {
             "fillmode": "overlay",
             "size": 10,
             "solidity": 0.2
            },
            "type": "scatter"
           }
          ],
          "scatter3d": [
           {
            "line": {
             "colorbar": {
              "outlinewidth": 0,
              "ticks": ""
             }
            },
            "marker": {
             "colorbar": {
              "outlinewidth": 0,
              "ticks": ""
             }
            },
            "type": "scatter3d"
           }
          ],
          "scattercarpet": [
           {
            "marker": {
             "colorbar": {
              "outlinewidth": 0,
              "ticks": ""
             }
            },
            "type": "scattercarpet"
           }
          ],
          "scattergeo": [
           {
            "marker": {
             "colorbar": {
              "outlinewidth": 0,
              "ticks": ""
             }
            },
            "type": "scattergeo"
           }
          ],
          "scattergl": [
           {
            "marker": {
             "colorbar": {
              "outlinewidth": 0,
              "ticks": ""
             }
            },
            "type": "scattergl"
           }
          ],
          "scattermap": [
           {
            "marker": {
             "colorbar": {
              "outlinewidth": 0,
              "ticks": ""
             }
            },
            "type": "scattermap"
           }
          ],
          "scattermapbox": [
           {
            "marker": {
             "colorbar": {
              "outlinewidth": 0,
              "ticks": ""
             }
            },
            "type": "scattermapbox"
           }
          ],
          "scatterpolar": [
           {
            "marker": {
             "colorbar": {
              "outlinewidth": 0,
              "ticks": ""
             }
            },
            "type": "scatterpolar"
           }
          ],
          "scatterpolargl": [
           {
            "marker": {
             "colorbar": {
              "outlinewidth": 0,
              "ticks": ""
             }
            },
            "type": "scatterpolargl"
           }
          ],
          "scatterternary": [
           {
            "marker": {
             "colorbar": {
              "outlinewidth": 0,
              "ticks": ""
             }
            },
            "type": "scatterternary"
           }
          ],
          "surface": [
           {
            "colorbar": {
             "outlinewidth": 0,
             "ticks": ""
            },
            "colorscale": [
             [
              0,
              "#0d0887"
             ],
             [
              0.1111111111111111,
              "#46039f"
             ],
             [
              0.2222222222222222,
              "#7201a8"
             ],
             [
              0.3333333333333333,
              "#9c179e"
             ],
             [
              0.4444444444444444,
              "#bd3786"
             ],
             [
              0.5555555555555556,
              "#d8576b"
             ],
             [
              0.6666666666666666,
              "#ed7953"
             ],
             [
              0.7777777777777778,
              "#fb9f3a"
             ],
             [
              0.8888888888888888,
              "#fdca26"
             ],
             [
              1,
              "#f0f921"
             ]
            ],
            "type": "surface"
           }
          ],
          "table": [
           {
            "cells": {
             "fill": {
              "color": "#EBF0F8"
             },
             "line": {
              "color": "white"
             }
            },
            "header": {
             "fill": {
              "color": "#C8D4E3"
             },
             "line": {
              "color": "white"
             }
            },
            "type": "table"
           }
          ]
         },
         "layout": {
          "annotationdefaults": {
           "arrowcolor": "#2a3f5f",
           "arrowhead": 0,
           "arrowwidth": 1
          },
          "autotypenumbers": "strict",
          "coloraxis": {
           "colorbar": {
            "outlinewidth": 0,
            "ticks": ""
           }
          },
          "colorscale": {
           "diverging": [
            [
             0,
             "#8e0152"
            ],
            [
             0.1,
             "#c51b7d"
            ],
            [
             0.2,
             "#de77ae"
            ],
            [
             0.3,
             "#f1b6da"
            ],
            [
             0.4,
             "#fde0ef"
            ],
            [
             0.5,
             "#f7f7f7"
            ],
            [
             0.6,
             "#e6f5d0"
            ],
            [
             0.7,
             "#b8e186"
            ],
            [
             0.8,
             "#7fbc41"
            ],
            [
             0.9,
             "#4d9221"
            ],
            [
             1,
             "#276419"
            ]
           ],
           "sequential": [
            [
             0,
             "#0d0887"
            ],
            [
             0.1111111111111111,
             "#46039f"
            ],
            [
             0.2222222222222222,
             "#7201a8"
            ],
            [
             0.3333333333333333,
             "#9c179e"
            ],
            [
             0.4444444444444444,
             "#bd3786"
            ],
            [
             0.5555555555555556,
             "#d8576b"
            ],
            [
             0.6666666666666666,
             "#ed7953"
            ],
            [
             0.7777777777777778,
             "#fb9f3a"
            ],
            [
             0.8888888888888888,
             "#fdca26"
            ],
            [
             1,
             "#f0f921"
            ]
           ],
           "sequentialminus": [
            [
             0,
             "#0d0887"
            ],
            [
             0.1111111111111111,
             "#46039f"
            ],
            [
             0.2222222222222222,
             "#7201a8"
            ],
            [
             0.3333333333333333,
             "#9c179e"
            ],
            [
             0.4444444444444444,
             "#bd3786"
            ],
            [
             0.5555555555555556,
             "#d8576b"
            ],
            [
             0.6666666666666666,
             "#ed7953"
            ],
            [
             0.7777777777777778,
             "#fb9f3a"
            ],
            [
             0.8888888888888888,
             "#fdca26"
            ],
            [
             1,
             "#f0f921"
            ]
           ]
          },
          "colorway": [
           "#636efa",
           "#EF553B",
           "#00cc96",
           "#ab63fa",
           "#FFA15A",
           "#19d3f3",
           "#FF6692",
           "#B6E880",
           "#FF97FF",
           "#FECB52"
          ],
          "font": {
           "color": "#2a3f5f"
          },
          "geo": {
           "bgcolor": "white",
           "lakecolor": "white",
           "landcolor": "#E5ECF6",
           "showlakes": true,
           "showland": true,
           "subunitcolor": "white"
          },
          "hoverlabel": {
           "align": "left"
          },
          "hovermode": "closest",
          "mapbox": {
           "style": "light"
          },
          "paper_bgcolor": "white",
          "plot_bgcolor": "#E5ECF6",
          "polar": {
           "angularaxis": {
            "gridcolor": "white",
            "linecolor": "white",
            "ticks": ""
           },
           "bgcolor": "#E5ECF6",
           "radialaxis": {
            "gridcolor": "white",
            "linecolor": "white",
            "ticks": ""
           }
          },
          "scene": {
           "xaxis": {
            "backgroundcolor": "#E5ECF6",
            "gridcolor": "white",
            "gridwidth": 2,
            "linecolor": "white",
            "showbackground": true,
            "ticks": "",
            "zerolinecolor": "white"
           },
           "yaxis": {
            "backgroundcolor": "#E5ECF6",
            "gridcolor": "white",
            "gridwidth": 2,
            "linecolor": "white",
            "showbackground": true,
            "ticks": "",
            "zerolinecolor": "white"
           },
           "zaxis": {
            "backgroundcolor": "#E5ECF6",
            "gridcolor": "white",
            "gridwidth": 2,
            "linecolor": "white",
            "showbackground": true,
            "ticks": "",
            "zerolinecolor": "white"
           }
          },
          "shapedefaults": {
           "line": {
            "color": "#2a3f5f"
           }
          },
          "ternary": {
           "aaxis": {
            "gridcolor": "white",
            "linecolor": "white",
            "ticks": ""
           },
           "baxis": {
            "gridcolor": "white",
            "linecolor": "white",
            "ticks": ""
           },
           "bgcolor": "#E5ECF6",
           "caxis": {
            "gridcolor": "white",
            "linecolor": "white",
            "ticks": ""
           }
          },
          "title": {
           "x": 0.05
          },
          "xaxis": {
           "automargin": true,
           "gridcolor": "white",
           "linecolor": "white",
           "ticks": "",
           "title": {
            "standoff": 15
           },
           "zerolinecolor": "white",
           "zerolinewidth": 2
          },
          "yaxis": {
           "automargin": true,
           "gridcolor": "white",
           "linecolor": "white",
           "ticks": "",
           "title": {
            "standoff": 15
           },
           "zerolinecolor": "white",
           "zerolinewidth": 2
          }
         }
        },
        "title": {
         "text": "Resultado Real de las Simulaciones - Elecciones Presidenciales 2024"
        },
        "width": 1200
       }
      }
     },
     "metadata": {},
     "output_type": "display_data"
    }
   ],
   "source": [
    "# Crear el mapa coroplético usando Plotly Express con códigos de estado\n",
    "fig = px.choropleth(full_df_actual_state,\n",
    "                    locations='state_code',  # Usar la nueva columna con códigos de estado\n",
    "                    locationmode=\"USA-states\",  # Modo de localización para los códigos de estado\n",
    "                    color=\"Winner\",  # Métrica que deseas visualizar\n",
    "                    hover_name='state_code',  # Mostrar el código del estado en hover\n",
    "                    hover_data={\n",
    "                        'state_code': True,  # Mostrar el código del estado\n",
    "                        \"Per_dem\": ':.2%',  # Mostrar el porcentaje de Biden en formato de porcentaje\n",
    "                        \"Per_gop\": ':.2%'  # Mostrar el porcentaje de Trump en formato de porcentaje\n",
    "                    },\n",
    "                    scope='usa',  # Limitar el mapa a EE.UU.\n",
    "                    color_discrete_map={'dem': '#3951a2', 'gop': '#af2b39'},  # Colores asignados\n",
    "                    labels={\"Winner\": 'Ganador {ELECTORAL_YEAR}'},  # Etiqueta para la barra de color\n",
    "                    title=f\"Resultado Real de las Simulaciones - Elecciones Presidenciales {ELECTORAL_YEAR}\"\n",
    "                   )\n",
    "\n",
    "# # Crear un nuevo rastro para añadir los códigos de los estados en el mapa\n",
    "# fig.add_trace(go.Scattergeo(\n",
    "#     locationmode='USA-states',\n",
    "#     locations=accumulated_pred_state['state_code'],  # Usar los códigos de los estados\n",
    "#     text=accumulated_pred_state['state_code'],  # Mostrar los códigos dentro del mapa\n",
    "#     mode='text',  # Solo texto\n",
    "#     textfont=dict(size=8, color=\"white\"),  # Tamaño y color de la fuente\n",
    "# ))\n",
    "\n",
    "# Ajustar el tamaño del gráfico\n",
    "fig.update_layout(\n",
    "    width=1200,  # Ajustar el ancho del gráfico\n",
    "    height=800   # Ajustar la altura del gráfico\n",
    ")\n",
    "\n",
    "# Ajustar visualización y mostrar el gráfico\n",
    "fig.update_geos(fitbounds=\"locations\", visible=False)  # Ajustar el mapa a las ubicaciones\n",
    "fig.show()\n"
   ]
  },
  {
   "cell_type": "code",
   "execution_count": 186,
   "metadata": {},
   "outputs": [
    {
     "data": {
      "application/vnd.plotly.v1+json": {
       "config": {
        "plotlyServerURL": "https://plot.ly"
       },
       "data": [
        {
         "colorscale": [
          [
           0,
           "#3951a2"
          ],
          [
           1,
           "#3951a2"
          ]
         ],
         "customdata": [
          [
           "CA",
           0.584785371015076,
           0.38340004397783556
          ],
          [
           "NY",
           0.5634474305856947,
           0.4365525694143053
          ],
          [
           "IL",
           0.5476862395321624,
           0.43793237497961507
          ],
          [
           "WA",
           0.5760307886843121,
           0.3926616540581994
          ],
          [
           "MA",
           0.6157763989903392,
           0.36233699934297336
          ],
          [
           "MD",
           0.6309011324258452,
           0.34339197188002585
          ],
          [
           "CO",
           0.54159441632431,
           0.4316815492186621
          ],
          [
           "OR",
           0.5564479305958709,
           0.4125318446524539
          ],
          [
           "CT",
           0.5641700631643359,
           0.41907748336725564
          ],
          [
           "RI",
           0.5584078612146266,
           0.4198613947859531
          ],
          [
           "HI",
           0.6058513531036325,
           0.3748028356825321
          ],
          [
           "VT",
           0.6435537093089585,
           0.3258694993572405
          ],
          [
           "DE",
           0.5662687098028716,
           0.4189022018890085
          ],
          [
           "DC",
           0.9114993945085634,
           0.05081185280379606
          ]
         ],
         "geo": "geo",
         "hovertemplate": "<b>%{hovertext}</b><br><br>Status=Safe Democrat<br>state_code=%{customdata[0]}<br>Per_dem=%{customdata[1]:.2%}<br>Per_gop=%{customdata[2]:.2%}<extra></extra>",
         "hovertext": [
          "CA",
          "NY",
          "IL",
          "WA",
          "MA",
          "MD",
          "CO",
          "OR",
          "CT",
          "RI",
          "HI",
          "VT",
          "DE",
          "DC"
         ],
         "locationmode": "USA-states",
         "locations": [
          "CA",
          "NY",
          "IL",
          "WA",
          "MA",
          "MD",
          "CO",
          "OR",
          "CT",
          "RI",
          "HI",
          "VT",
          "DE",
          "DC"
         ],
         "name": "Safe Democrat",
         "showlegend": true,
         "showscale": false,
         "type": "choropleth",
         "z": [
          1,
          1,
          1,
          1,
          1,
          1,
          1,
          1,
          1,
          1,
          1,
          1,
          1,
          1
         ]
        },
        {
         "colorscale": [
          [
           0,
           "#af2b39"
          ],
          [
           1,
           "#af2b39"
          ]
         ],
         "customdata": [
          [
           "TX",
           0.4248862378686313,
           0.5618223206200645
          ],
          [
           "FL",
           0.42989101713151834,
           0.5608939861369304
          ],
          [
           "OH",
           0.43949549498292895,
           0.5516230047543659
          ],
          [
           "TN",
           0.3447405336001791,
           0.6419393709149847
          ],
          [
           "IN",
           0.396633261751372,
           0.5864086307393394
          ],
          [
           "MO",
           0.4010557870868347,
           0.5852446355486846
          ],
          [
           "SC",
           0.40360890688894646,
           0.5822862951015251
          ],
          [
           "AL",
           0.34232779282665116,
           0.64822155408376
          ],
          [
           "LA",
           0.3821024178178602,
           0.6021524931800346
          ],
          [
           "KY",
           0.33957456413877524,
           0.64510114025454
          ],
          [
           "OK",
           0.3189934956099997,
           0.6616210342024795
          ],
          [
           "UT",
           0.3780809986350357,
           0.5939832696103567
          ],
          [
           "MS",
           0.3800203256004847,
           0.6089080852893467
          ],
          [
           "KS",
           0.4104072715166041,
           0.5715630792917397
          ],
          [
           "IA",
           0.4268813875012147,
           0.5595072333085273
          ],
          [
           "AR",
           0.3355990989924544,
           0.6419687217800987
          ],
          [
           "WV",
           0.28110153595928594,
           0.6998465352378703
          ],
          [
           "NE",
           0.3906366301750815,
           0.5963264879497528
          ],
          [
           "ID",
           0.3038995946119194,
           0.6689190682705357
          ],
          [
           "WY",
           0.26103329040784223,
           0.7232244427507856
          ],
          [
           "SD",
           0.34239092422398476,
           0.6343367791812964
          ],
          [
           "ND",
           0.30769546840373746,
           0.6752470148660902
          ],
          [
           "MT",
           0.38461066433595426,
           0.583914767572803
          ]
         ],
         "geo": "geo",
         "hovertemplate": "<b>%{hovertext}</b><br><br>Status=Safe Republican<br>state_code=%{customdata[0]}<br>Per_dem=%{customdata[1]:.2%}<br>Per_gop=%{customdata[2]:.2%}<extra></extra>",
         "hovertext": [
          "TX",
          "FL",
          "OH",
          "TN",
          "IN",
          "MO",
          "SC",
          "AL",
          "LA",
          "KY",
          "OK",
          "UT",
          "MS",
          "KS",
          "IA",
          "AR",
          "WV",
          "NE",
          "ID",
          "WY",
          "SD",
          "ND",
          "MT"
         ],
         "locationmode": "USA-states",
         "locations": [
          "TX",
          "FL",
          "OH",
          "TN",
          "IN",
          "MO",
          "SC",
          "AL",
          "LA",
          "KY",
          "OK",
          "UT",
          "MS",
          "KS",
          "IA",
          "AR",
          "WV",
          "NE",
          "ID",
          "WY",
          "SD",
          "ND",
          "MT"
         ],
         "name": "Safe Republican",
         "showlegend": true,
         "showscale": false,
         "type": "choropleth",
         "z": [
          1,
          1,
          1,
          1,
          1,
          1,
          1,
          1,
          1,
          1,
          1,
          1,
          1,
          1,
          1,
          1,
          1,
          1,
          1,
          1,
          1,
          1,
          1
         ]
        },
        {
         "colorscale": [
          [
           0,
           "#b6b164"
          ],
          [
           1,
           "#b6b164"
          ]
         ],
         "customdata": [
          [
           "PA",
           0.4866280572391539,
           0.5037253671558666
          ],
          [
           "MI",
           0.48327259459772565,
           0.4974188097703772
          ],
          [
           "GA",
           0.4853322265495909,
           0.5072558398048627
          ],
          [
           "WI",
           0.4884699724438856,
           0.4970776346892566
          ]
         ],
         "geo": "geo",
         "hovertemplate": "<b>%{hovertext}</b><br><br>Status=Toss-Up<br>state_code=%{customdata[0]}<br>Per_dem=%{customdata[1]:.2%}<br>Per_gop=%{customdata[2]:.2%}<extra></extra>",
         "hovertext": [
          "PA",
          "MI",
          "GA",
          "WI"
         ],
         "locationmode": "USA-states",
         "locations": [
          "PA",
          "MI",
          "GA",
          "WI"
         ],
         "name": "Toss-Up",
         "showlegend": true,
         "showscale": false,
         "type": "choropleth",
         "z": [
          1,
          1,
          1,
          1
         ]
        },
        {
         "colorscale": [
          [
           0,
           "#d56062"
          ],
          [
           1,
           "#d56062"
          ]
         ],
         "customdata": [
          [
           "NC",
           0.47808869107534324,
           0.5103174545882869
          ],
          [
           "AZ",
           0.46701417010319773,
           0.5223002024890546
          ],
          [
           "NV",
           0.47493130572991027,
           0.505916462379785
          ]
         ],
         "geo": "geo",
         "hovertemplate": "<b>%{hovertext}</b><br><br>Status=Likely Republican<br>state_code=%{customdata[0]}<br>Per_dem=%{customdata[1]:.2%}<br>Per_gop=%{customdata[2]:.2%}<extra></extra>",
         "hovertext": [
          "NC",
          "AZ",
          "NV"
         ],
         "locationmode": "USA-states",
         "locations": [
          "NC",
          "AZ",
          "NV"
         ],
         "name": "Likely Republican",
         "showlegend": true,
         "showscale": false,
         "type": "choropleth",
         "z": [
          1,
          1,
          1
         ]
        },
        {
         "colorscale": [
          [
           0,
           "#a3cef1"
          ],
          [
           1,
           "#a3cef1"
          ]
         ],
         "customdata": [
          [
           "NJ",
           0.5197416168838388,
           0.4606463088544196
          ],
          [
           "VA",
           0.520993955261439,
           0.4629224356709178
          ],
          [
           "MN",
           0.5112687277300615,
           0.4687045267449079
          ],
          [
           "NM",
           0.5185189998299767,
           0.4585116141056505
          ],
          [
           "NH",
           0.5090244759795318,
           0.4811488859129627
          ],
          [
           "ME",
           0.52401383250639,
           0.45464080589385053
          ]
         ],
         "geo": "geo",
         "hovertemplate": "<b>%{hovertext}</b><br><br>Status=Likely Democrat<br>state_code=%{customdata[0]}<br>Per_dem=%{customdata[1]:.2%}<br>Per_gop=%{customdata[2]:.2%}<extra></extra>",
         "hovertext": [
          "NJ",
          "VA",
          "MN",
          "NM",
          "NH",
          "ME"
         ],
         "locationmode": "USA-states",
         "locations": [
          "NJ",
          "VA",
          "MN",
          "NM",
          "NH",
          "ME"
         ],
         "name": "Likely Democrat",
         "showlegend": true,
         "showscale": false,
         "type": "choropleth",
         "z": [
          1,
          1,
          1,
          1,
          1,
          1
         ]
        }
       ],
       "layout": {
        "geo": {
         "center": {},
         "domain": {
          "x": [
           0,
           1
          ],
          "y": [
           0,
           1
          ]
         },
         "fitbounds": "locations",
         "scope": "usa",
         "visible": false
        },
        "height": 800,
        "legend": {
         "title": {
          "text": "Status"
         },
         "tracegroupgap": 0
        },
        "template": {
         "data": {
          "bar": [
           {
            "error_x": {
             "color": "#2a3f5f"
            },
            "error_y": {
             "color": "#2a3f5f"
            },
            "marker": {
             "line": {
              "color": "#E5ECF6",
              "width": 0.5
             },
             "pattern": {
              "fillmode": "overlay",
              "size": 10,
              "solidity": 0.2
             }
            },
            "type": "bar"
           }
          ],
          "barpolar": [
           {
            "marker": {
             "line": {
              "color": "#E5ECF6",
              "width": 0.5
             },
             "pattern": {
              "fillmode": "overlay",
              "size": 10,
              "solidity": 0.2
             }
            },
            "type": "barpolar"
           }
          ],
          "carpet": [
           {
            "aaxis": {
             "endlinecolor": "#2a3f5f",
             "gridcolor": "white",
             "linecolor": "white",
             "minorgridcolor": "white",
             "startlinecolor": "#2a3f5f"
            },
            "baxis": {
             "endlinecolor": "#2a3f5f",
             "gridcolor": "white",
             "linecolor": "white",
             "minorgridcolor": "white",
             "startlinecolor": "#2a3f5f"
            },
            "type": "carpet"
           }
          ],
          "choropleth": [
           {
            "colorbar": {
             "outlinewidth": 0,
             "ticks": ""
            },
            "type": "choropleth"
           }
          ],
          "contour": [
           {
            "colorbar": {
             "outlinewidth": 0,
             "ticks": ""
            },
            "colorscale": [
             [
              0,
              "#0d0887"
             ],
             [
              0.1111111111111111,
              "#46039f"
             ],
             [
              0.2222222222222222,
              "#7201a8"
             ],
             [
              0.3333333333333333,
              "#9c179e"
             ],
             [
              0.4444444444444444,
              "#bd3786"
             ],
             [
              0.5555555555555556,
              "#d8576b"
             ],
             [
              0.6666666666666666,
              "#ed7953"
             ],
             [
              0.7777777777777778,
              "#fb9f3a"
             ],
             [
              0.8888888888888888,
              "#fdca26"
             ],
             [
              1,
              "#f0f921"
             ]
            ],
            "type": "contour"
           }
          ],
          "contourcarpet": [
           {
            "colorbar": {
             "outlinewidth": 0,
             "ticks": ""
            },
            "type": "contourcarpet"
           }
          ],
          "heatmap": [
           {
            "colorbar": {
             "outlinewidth": 0,
             "ticks": ""
            },
            "colorscale": [
             [
              0,
              "#0d0887"
             ],
             [
              0.1111111111111111,
              "#46039f"
             ],
             [
              0.2222222222222222,
              "#7201a8"
             ],
             [
              0.3333333333333333,
              "#9c179e"
             ],
             [
              0.4444444444444444,
              "#bd3786"
             ],
             [
              0.5555555555555556,
              "#d8576b"
             ],
             [
              0.6666666666666666,
              "#ed7953"
             ],
             [
              0.7777777777777778,
              "#fb9f3a"
             ],
             [
              0.8888888888888888,
              "#fdca26"
             ],
             [
              1,
              "#f0f921"
             ]
            ],
            "type": "heatmap"
           }
          ],
          "histogram": [
           {
            "marker": {
             "pattern": {
              "fillmode": "overlay",
              "size": 10,
              "solidity": 0.2
             }
            },
            "type": "histogram"
           }
          ],
          "histogram2d": [
           {
            "colorbar": {
             "outlinewidth": 0,
             "ticks": ""
            },
            "colorscale": [
             [
              0,
              "#0d0887"
             ],
             [
              0.1111111111111111,
              "#46039f"
             ],
             [
              0.2222222222222222,
              "#7201a8"
             ],
             [
              0.3333333333333333,
              "#9c179e"
             ],
             [
              0.4444444444444444,
              "#bd3786"
             ],
             [
              0.5555555555555556,
              "#d8576b"
             ],
             [
              0.6666666666666666,
              "#ed7953"
             ],
             [
              0.7777777777777778,
              "#fb9f3a"
             ],
             [
              0.8888888888888888,
              "#fdca26"
             ],
             [
              1,
              "#f0f921"
             ]
            ],
            "type": "histogram2d"
           }
          ],
          "histogram2dcontour": [
           {
            "colorbar": {
             "outlinewidth": 0,
             "ticks": ""
            },
            "colorscale": [
             [
              0,
              "#0d0887"
             ],
             [
              0.1111111111111111,
              "#46039f"
             ],
             [
              0.2222222222222222,
              "#7201a8"
             ],
             [
              0.3333333333333333,
              "#9c179e"
             ],
             [
              0.4444444444444444,
              "#bd3786"
             ],
             [
              0.5555555555555556,
              "#d8576b"
             ],
             [
              0.6666666666666666,
              "#ed7953"
             ],
             [
              0.7777777777777778,
              "#fb9f3a"
             ],
             [
              0.8888888888888888,
              "#fdca26"
             ],
             [
              1,
              "#f0f921"
             ]
            ],
            "type": "histogram2dcontour"
           }
          ],
          "mesh3d": [
           {
            "colorbar": {
             "outlinewidth": 0,
             "ticks": ""
            },
            "type": "mesh3d"
           }
          ],
          "parcoords": [
           {
            "line": {
             "colorbar": {
              "outlinewidth": 0,
              "ticks": ""
             }
            },
            "type": "parcoords"
           }
          ],
          "pie": [
           {
            "automargin": true,
            "type": "pie"
           }
          ],
          "scatter": [
           {
            "fillpattern": {
             "fillmode": "overlay",
             "size": 10,
             "solidity": 0.2
            },
            "type": "scatter"
           }
          ],
          "scatter3d": [
           {
            "line": {
             "colorbar": {
              "outlinewidth": 0,
              "ticks": ""
             }
            },
            "marker": {
             "colorbar": {
              "outlinewidth": 0,
              "ticks": ""
             }
            },
            "type": "scatter3d"
           }
          ],
          "scattercarpet": [
           {
            "marker": {
             "colorbar": {
              "outlinewidth": 0,
              "ticks": ""
             }
            },
            "type": "scattercarpet"
           }
          ],
          "scattergeo": [
           {
            "marker": {
             "colorbar": {
              "outlinewidth": 0,
              "ticks": ""
             }
            },
            "type": "scattergeo"
           }
          ],
          "scattergl": [
           {
            "marker": {
             "colorbar": {
              "outlinewidth": 0,
              "ticks": ""
             }
            },
            "type": "scattergl"
           }
          ],
          "scattermap": [
           {
            "marker": {
             "colorbar": {
              "outlinewidth": 0,
              "ticks": ""
             }
            },
            "type": "scattermap"
           }
          ],
          "scattermapbox": [
           {
            "marker": {
             "colorbar": {
              "outlinewidth": 0,
              "ticks": ""
             }
            },
            "type": "scattermapbox"
           }
          ],
          "scatterpolar": [
           {
            "marker": {
             "colorbar": {
              "outlinewidth": 0,
              "ticks": ""
             }
            },
            "type": "scatterpolar"
           }
          ],
          "scatterpolargl": [
           {
            "marker": {
             "colorbar": {
              "outlinewidth": 0,
              "ticks": ""
             }
            },
            "type": "scatterpolargl"
           }
          ],
          "scatterternary": [
           {
            "marker": {
             "colorbar": {
              "outlinewidth": 0,
              "ticks": ""
             }
            },
            "type": "scatterternary"
           }
          ],
          "surface": [
           {
            "colorbar": {
             "outlinewidth": 0,
             "ticks": ""
            },
            "colorscale": [
             [
              0,
              "#0d0887"
             ],
             [
              0.1111111111111111,
              "#46039f"
             ],
             [
              0.2222222222222222,
              "#7201a8"
             ],
             [
              0.3333333333333333,
              "#9c179e"
             ],
             [
              0.4444444444444444,
              "#bd3786"
             ],
             [
              0.5555555555555556,
              "#d8576b"
             ],
             [
              0.6666666666666666,
              "#ed7953"
             ],
             [
              0.7777777777777778,
              "#fb9f3a"
             ],
             [
              0.8888888888888888,
              "#fdca26"
             ],
             [
              1,
              "#f0f921"
             ]
            ],
            "type": "surface"
           }
          ],
          "table": [
           {
            "cells": {
             "fill": {
              "color": "#EBF0F8"
             },
             "line": {
              "color": "white"
             }
            },
            "header": {
             "fill": {
              "color": "#C8D4E3"
             },
             "line": {
              "color": "white"
             }
            },
            "type": "table"
           }
          ]
         },
         "layout": {
          "annotationdefaults": {
           "arrowcolor": "#2a3f5f",
           "arrowhead": 0,
           "arrowwidth": 1
          },
          "autotypenumbers": "strict",
          "coloraxis": {
           "colorbar": {
            "outlinewidth": 0,
            "ticks": ""
           }
          },
          "colorscale": {
           "diverging": [
            [
             0,
             "#8e0152"
            ],
            [
             0.1,
             "#c51b7d"
            ],
            [
             0.2,
             "#de77ae"
            ],
            [
             0.3,
             "#f1b6da"
            ],
            [
             0.4,
             "#fde0ef"
            ],
            [
             0.5,
             "#f7f7f7"
            ],
            [
             0.6,
             "#e6f5d0"
            ],
            [
             0.7,
             "#b8e186"
            ],
            [
             0.8,
             "#7fbc41"
            ],
            [
             0.9,
             "#4d9221"
            ],
            [
             1,
             "#276419"
            ]
           ],
           "sequential": [
            [
             0,
             "#0d0887"
            ],
            [
             0.1111111111111111,
             "#46039f"
            ],
            [
             0.2222222222222222,
             "#7201a8"
            ],
            [
             0.3333333333333333,
             "#9c179e"
            ],
            [
             0.4444444444444444,
             "#bd3786"
            ],
            [
             0.5555555555555556,
             "#d8576b"
            ],
            [
             0.6666666666666666,
             "#ed7953"
            ],
            [
             0.7777777777777778,
             "#fb9f3a"
            ],
            [
             0.8888888888888888,
             "#fdca26"
            ],
            [
             1,
             "#f0f921"
            ]
           ],
           "sequentialminus": [
            [
             0,
             "#0d0887"
            ],
            [
             0.1111111111111111,
             "#46039f"
            ],
            [
             0.2222222222222222,
             "#7201a8"
            ],
            [
             0.3333333333333333,
             "#9c179e"
            ],
            [
             0.4444444444444444,
             "#bd3786"
            ],
            [
             0.5555555555555556,
             "#d8576b"
            ],
            [
             0.6666666666666666,
             "#ed7953"
            ],
            [
             0.7777777777777778,
             "#fb9f3a"
            ],
            [
             0.8888888888888888,
             "#fdca26"
            ],
            [
             1,
             "#f0f921"
            ]
           ]
          },
          "colorway": [
           "#636efa",
           "#EF553B",
           "#00cc96",
           "#ab63fa",
           "#FFA15A",
           "#19d3f3",
           "#FF6692",
           "#B6E880",
           "#FF97FF",
           "#FECB52"
          ],
          "font": {
           "color": "#2a3f5f"
          },
          "geo": {
           "bgcolor": "white",
           "lakecolor": "white",
           "landcolor": "#E5ECF6",
           "showlakes": true,
           "showland": true,
           "subunitcolor": "white"
          },
          "hoverlabel": {
           "align": "left"
          },
          "hovermode": "closest",
          "mapbox": {
           "style": "light"
          },
          "paper_bgcolor": "white",
          "plot_bgcolor": "#E5ECF6",
          "polar": {
           "angularaxis": {
            "gridcolor": "white",
            "linecolor": "white",
            "ticks": ""
           },
           "bgcolor": "#E5ECF6",
           "radialaxis": {
            "gridcolor": "white",
            "linecolor": "white",
            "ticks": ""
           }
          },
          "scene": {
           "xaxis": {
            "backgroundcolor": "#E5ECF6",
            "gridcolor": "white",
            "gridwidth": 2,
            "linecolor": "white",
            "showbackground": true,
            "ticks": "",
            "zerolinecolor": "white"
           },
           "yaxis": {
            "backgroundcolor": "#E5ECF6",
            "gridcolor": "white",
            "gridwidth": 2,
            "linecolor": "white",
            "showbackground": true,
            "ticks": "",
            "zerolinecolor": "white"
           },
           "zaxis": {
            "backgroundcolor": "#E5ECF6",
            "gridcolor": "white",
            "gridwidth": 2,
            "linecolor": "white",
            "showbackground": true,
            "ticks": "",
            "zerolinecolor": "white"
           }
          },
          "shapedefaults": {
           "line": {
            "color": "#2a3f5f"
           }
          },
          "ternary": {
           "aaxis": {
            "gridcolor": "white",
            "linecolor": "white",
            "ticks": ""
           },
           "baxis": {
            "gridcolor": "white",
            "linecolor": "white",
            "ticks": ""
           },
           "bgcolor": "#E5ECF6",
           "caxis": {
            "gridcolor": "white",
            "linecolor": "white",
            "ticks": ""
           }
          },
          "title": {
           "x": 0.05
          },
          "xaxis": {
           "automargin": true,
           "gridcolor": "white",
           "linecolor": "white",
           "ticks": "",
           "title": {
            "standoff": 15
           },
           "zerolinecolor": "white",
           "zerolinewidth": 2
          },
          "yaxis": {
           "automargin": true,
           "gridcolor": "white",
           "linecolor": "white",
           "ticks": "",
           "title": {
            "standoff": 15
           },
           "zerolinecolor": "white",
           "zerolinewidth": 2
          }
         }
        },
        "title": {
         "text": "Status de los Estados en las Simulaciones - Elecciones Presidenciales 2024"
        },
        "width": 1200
       }
      }
     },
     "metadata": {},
     "output_type": "display_data"
    }
   ],
   "source": [
    "# Crear el mapa coroplético usando Plotly Express con códigos de estado\n",
    "fig = px.choropleth(full_df_actual_state,\n",
    "                    locations='state_code',  # Usar la nueva columna con códigos de estado\n",
    "                    locationmode=\"USA-states\",  # Modo de localización para los códigos de estado\n",
    "                    color='Status',  # Métrica que deseas visualizar\n",
    "                    hover_name='state_code',  # Mostrar el código del estado en hover\n",
    "                    hover_data={\n",
    "                        'state_code': True,  # Mostrar el código del estado\n",
    "                        'Per_dem': ':.2%',  # Mostrar el porcentaje de Biden en formato de porcentaje\n",
    "                        'Per_gop': ':.2%'  # Mostrar el porcentaje de Trump en formato de porcentaje\n",
    "                    },\n",
    "                    scope='usa',  # Limitar el mapa a EE.UU.\n",
    "                    color_discrete_map={'Safe Democrat': '#3951a2', \n",
    "                                        'Likely Democrat': '#a3cef1', \n",
    "                                        'Toss-Up': '#b6b164', \n",
    "                                        'Likely Republican': '#d56062', \n",
    "                                        'Safe Republican': '#af2b39'},\n",
    "                    labels={\"Winner\": 'Ganador {ELECTORAL_YEAR}'},  # Etiqueta para la barra de color\n",
    "                    title=f\"Status de los Estados en las Simulaciones - Elecciones Presidenciales {ELECTORAL_YEAR}\"\n",
    "                   )\n",
    "\n",
    "# # Crear un nuevo rastro para añadir los códigos de los estados en el mapa\n",
    "# fig.add_trace(go.Scattergeo(\n",
    "#     locationmode='USA-states',\n",
    "#     locations=accumulated_pred_state['state_code'],  # Usar los códigos de los estados\n",
    "#     text=accumulated_pred_state['state_code'],  # Mostrar los códigos dentro del mapa\n",
    "#     mode='text',  # Solo texto\n",
    "#     textfont=dict(size=12, color=\"black\"),  # Tamaño y color de la fuente\n",
    "# ))\n",
    "\n",
    "# Ajustar el tamaño del gráfico\n",
    "fig.update_layout(\n",
    "    width=1200,  # Ajustar el ancho del gráfico\n",
    "    height=800   # Ajustar la altura del gráfico\n",
    ")\n",
    "\n",
    "\n",
    "\n",
    "# Ajustar visualización y mostrar el gráfico\n",
    "fig.update_geos(fitbounds=\"locations\", visible=False)  # Ajustar el mapa a las ubicaciones\n",
    "fig.show()\n"
   ]
  }
 ],
 "metadata": {
  "kernelspec": {
   "display_name": ".venv",
   "language": "python",
   "name": "python3"
  },
  "language_info": {
   "codemirror_mode": {
    "name": "ipython",
    "version": 3
   },
   "file_extension": ".py",
   "mimetype": "text/x-python",
   "name": "python",
   "nbconvert_exporter": "python",
   "pygments_lexer": "ipython3",
   "version": "3.9.6"
  }
 },
 "nbformat": 4,
 "nbformat_minor": 2
}
