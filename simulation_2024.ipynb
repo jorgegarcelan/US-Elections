{
 "cells": [
  {
   "cell_type": "markdown",
   "metadata": {},
   "source": [
    "## 📊 Simulación"
   ]
  },
  {
   "cell_type": "markdown",
   "metadata": {},
   "source": [
    "🧑‍💻 Lucía Cordero | Jorge Garcelán"
   ]
  },
  {
   "cell_type": "markdown",
   "metadata": {},
   "source": [
    "![Election Results](https://elordenmundial.com/wp-content/uploads/2020/10/editable-portada-especial-.png)\n"
   ]
  },
  {
   "cell_type": "markdown",
   "metadata": {},
   "source": [
    "<div class=\"warning\" style='padding:0.1em; border-left: 4px solid #17a2b8; background-color:#e8f8ff;'>\n",
    "<span>\n",
    "<p style='margin-top:1em; margin-left:1em; text-align:left'>\n",
    "<b>💡Interpretación de la simulación</b></p>\n",
    "<p style='margin-left:1em;'>\n",
    "Imaginemos que estamos en el día de las elecciones y nos van llegando datos de condados (equivalentes a dataset de train) y queremos hacer un forecast de cómo van a acabar las elecciones, es decir, hacer un forecast de los condados que todavía no tenemos los datos (test). En ese sentido, podríamos hacer un modelo con los datos que sí tenemos (train) y predecir los condados que todavía no tenemos (test). Y así podemos repetir el proceso N veces y crear una simulación.\n",
    "</p>\n",
    "</span>\n",
    "</div>"
   ]
  },
  {
   "cell_type": "markdown",
   "metadata": {},
   "source": [
    "## Libraries"
   ]
  },
  {
   "cell_type": "code",
   "execution_count": 187,
   "metadata": {},
   "outputs": [],
   "source": [
    "import pandas as pd\n",
    "from pandas import read_csv\n",
    "import numpy as np\n",
    "from sklearn.linear_model import LinearRegression\n",
    "from sklearn.ensemble import RandomForestRegressor\n",
    "from sklearn.neighbors import KNeighborsRegressor\n",
    "from sklearn.model_selection import train_test_split\n",
    "import json\n",
    "import plotly.express as px\n",
    "import plotly.graph_objects as go\n",
    "import seaborn as sns\n",
    "import matplotlib.pyplot as plt\n",
    "from scipy.stats import gaussian_kde"
   ]
  },
  {
   "cell_type": "markdown",
   "metadata": {},
   "source": [
    "## Load data"
   ]
  },
  {
   "cell_type": "code",
   "execution_count": 188,
   "metadata": {},
   "outputs": [],
   "source": [
    "CENSUS_YEAR = 2023\n",
    "ELECTORAL_YEAR = CENSUS_YEAR + 1\n"
   ]
  },
  {
   "cell_type": "code",
   "execution_count": 189,
   "metadata": {},
   "outputs": [],
   "source": [
    "def load_seats_data(path, state_to_code):\n",
    "    # Cargar datos\n",
    "    seats_data = pd.read_csv(path, header=0, sep=\",\")\n",
    "\n",
    "    # Seleccionar las primeras tres columnas y las columnas que contienen \"2019\"\n",
    "    seats_data = seats_data.iloc[:, [0, 1]]\n",
    "\n",
    "    # Renombrar columnas\n",
    "    seats_data.columns = [\"state\", \"electoral_votes_number\"]\n",
    "\n",
    "    # Añadir District of Columbia pues no aparece\n",
    "    new_row = pd.DataFrame({\n",
    "        'state': ['District of Columbia'],\n",
    "        'electoral_votes_number': [3]\n",
    "    })\n",
    "\n",
    "    # Añadir la nueva fila al DataFrame utilizando pd.concat\n",
    "    seats_data = pd.concat([seats_data, new_row], ignore_index=True)\n",
    "\n",
    "    \n",
    "    seats_data[\"state_code\"] = seats_data['state'].map(state_to_code)\n",
    "\n",
    "    return seats_data"
   ]
  },
  {
   "cell_type": "code",
   "execution_count": 190,
   "metadata": {},
   "outputs": [],
   "source": [
    "# Cargar codigo de estados\n",
    "with open(\"data/state_to_code.json\", \"r\") as file:\n",
    "    state_to_code = json.load(file)\n",
    "\n",
    "\n",
    "# Cargar datos de escaños por estado\n",
    "seats_data = load_seats_data(f\"data/seats2020.csv\", state_to_code)\n",
    "\n",
    "# Cargar datos de state, county, fips\n",
    "state_fips_county = read_csv('data/state_fips_county.csv')\n",
    "state_names = state_fips_county['state']\n",
    "fips_codes = state_fips_county['fips']\n",
    "county_names = state_fips_county['county']"
   ]
  },
  {
   "cell_type": "markdown",
   "metadata": {},
   "source": [
    "### 2016"
   ]
  },
  {
   "cell_type": "code",
   "execution_count": 191,
   "metadata": {},
   "outputs": [],
   "source": [
    "# Cargar datos\n",
    "data_2016 = read_csv(f\"data/final_data_{2016}.csv\")"
   ]
  },
  {
   "cell_type": "code",
   "execution_count": 192,
   "metadata": {},
   "outputs": [
    {
     "data": {
      "text/html": [
       "<div>\n",
       "<style scoped>\n",
       "    .dataframe tbody tr th:only-of-type {\n",
       "        vertical-align: middle;\n",
       "    }\n",
       "\n",
       "    .dataframe tbody tr th {\n",
       "        vertical-align: top;\n",
       "    }\n",
       "\n",
       "    .dataframe thead th {\n",
       "        text-align: right;\n",
       "    }\n",
       "</style>\n",
       "<table border=\"1\" class=\"dataframe\">\n",
       "  <thead>\n",
       "    <tr style=\"text-align: right;\">\n",
       "      <th></th>\n",
       "      <th>state</th>\n",
       "      <th>electoral_votes_number</th>\n",
       "      <th>state_code</th>\n",
       "      <th>Votes_dem</th>\n",
       "      <th>Votes_gop</th>\n",
       "      <th>Votes_other</th>\n",
       "      <th>Votes_total</th>\n",
       "      <th>Per_dem_2016</th>\n",
       "      <th>Per_gop_2016</th>\n",
       "      <th>Winner</th>\n",
       "      <th>Difference</th>\n",
       "      <th>Status</th>\n",
       "    </tr>\n",
       "  </thead>\n",
       "  <tbody>\n",
       "    <tr>\n",
       "      <th>0</th>\n",
       "      <td>California</td>\n",
       "      <td>55</td>\n",
       "      <td>CA</td>\n",
       "      <td>7362490.0</td>\n",
       "      <td>3916209.0</td>\n",
       "      <td>675618.0</td>\n",
       "      <td>11954317.0</td>\n",
       "      <td>0.615885</td>\n",
       "      <td>0.327598</td>\n",
       "      <td>dem</td>\n",
       "      <td>28.828757</td>\n",
       "      <td>Safe Democrat</td>\n",
       "    </tr>\n",
       "    <tr>\n",
       "      <th>1</th>\n",
       "      <td>Texas</td>\n",
       "      <td>38</td>\n",
       "      <td>TX</td>\n",
       "      <td>3866536.0</td>\n",
       "      <td>4677007.0</td>\n",
       "      <td>370961.0</td>\n",
       "      <td>8914504.0</td>\n",
       "      <td>0.433735</td>\n",
       "      <td>0.524651</td>\n",
       "      <td>gop</td>\n",
       "      <td>-9.091599</td>\n",
       "      <td>Likely Republican</td>\n",
       "    </tr>\n",
       "    <tr>\n",
       "      <th>2</th>\n",
       "      <td>New York</td>\n",
       "      <td>29</td>\n",
       "      <td>NY</td>\n",
       "      <td>4097644.0</td>\n",
       "      <td>2636692.0</td>\n",
       "      <td>256359.0</td>\n",
       "      <td>6990695.0</td>\n",
       "      <td>0.586157</td>\n",
       "      <td>0.377172</td>\n",
       "      <td>dem</td>\n",
       "      <td>20.898523</td>\n",
       "      <td>Safe Democrat</td>\n",
       "    </tr>\n",
       "    <tr>\n",
       "      <th>3</th>\n",
       "      <td>Florida</td>\n",
       "      <td>29</td>\n",
       "      <td>FL</td>\n",
       "      <td>4411809.0</td>\n",
       "      <td>4564423.0</td>\n",
       "      <td>289694.0</td>\n",
       "      <td>9265926.0</td>\n",
       "      <td>0.476133</td>\n",
       "      <td>0.492603</td>\n",
       "      <td>gop</td>\n",
       "      <td>-1.647045</td>\n",
       "      <td>Toss-Up</td>\n",
       "    </tr>\n",
       "    <tr>\n",
       "      <th>4</th>\n",
       "      <td>Pennsylvania</td>\n",
       "      <td>20</td>\n",
       "      <td>PA</td>\n",
       "      <td>2519725.0</td>\n",
       "      <td>2671255.0</td>\n",
       "      <td>193198.0</td>\n",
       "      <td>5384178.0</td>\n",
       "      <td>0.467987</td>\n",
       "      <td>0.496131</td>\n",
       "      <td>gop</td>\n",
       "      <td>-2.814357</td>\n",
       "      <td>Likely Republican</td>\n",
       "    </tr>\n",
       "    <tr>\n",
       "      <th>5</th>\n",
       "      <td>Illinois</td>\n",
       "      <td>20</td>\n",
       "      <td>IL</td>\n",
       "      <td>2972667.0</td>\n",
       "      <td>2105089.0</td>\n",
       "      <td>277793.0</td>\n",
       "      <td>5355549.0</td>\n",
       "      <td>0.555063</td>\n",
       "      <td>0.393067</td>\n",
       "      <td>dem</td>\n",
       "      <td>16.199609</td>\n",
       "      <td>Safe Democrat</td>\n",
       "    </tr>\n",
       "    <tr>\n",
       "      <th>6</th>\n",
       "      <td>Ohio</td>\n",
       "      <td>18</td>\n",
       "      <td>OH</td>\n",
       "      <td>2303483.0</td>\n",
       "      <td>2740365.0</td>\n",
       "      <td>234572.0</td>\n",
       "      <td>5278420.0</td>\n",
       "      <td>0.436396</td>\n",
       "      <td>0.519164</td>\n",
       "      <td>gop</td>\n",
       "      <td>-8.276757</td>\n",
       "      <td>Likely Republican</td>\n",
       "    </tr>\n",
       "    <tr>\n",
       "      <th>7</th>\n",
       "      <td>Michigan</td>\n",
       "      <td>16</td>\n",
       "      <td>MI</td>\n",
       "      <td>2269595.0</td>\n",
       "      <td>2281120.0</td>\n",
       "      <td>243208.0</td>\n",
       "      <td>4793923.0</td>\n",
       "      <td>0.473432</td>\n",
       "      <td>0.475836</td>\n",
       "      <td>gop</td>\n",
       "      <td>-0.240409</td>\n",
       "      <td>Toss-Up</td>\n",
       "    </tr>\n",
       "    <tr>\n",
       "      <th>8</th>\n",
       "      <td>Georgia</td>\n",
       "      <td>16</td>\n",
       "      <td>GA</td>\n",
       "      <td>1877124.0</td>\n",
       "      <td>2080631.0</td>\n",
       "      <td>129671.0</td>\n",
       "      <td>4087426.0</td>\n",
       "      <td>0.459244</td>\n",
       "      <td>0.509032</td>\n",
       "      <td>gop</td>\n",
       "      <td>-4.978855</td>\n",
       "      <td>Likely Republican</td>\n",
       "    </tr>\n",
       "    <tr>\n",
       "      <th>9</th>\n",
       "      <td>North Carolina</td>\n",
       "      <td>15</td>\n",
       "      <td>NC</td>\n",
       "      <td>2130869.0</td>\n",
       "      <td>2291602.0</td>\n",
       "      <td>126184.0</td>\n",
       "      <td>4548655.0</td>\n",
       "      <td>0.468461</td>\n",
       "      <td>0.503798</td>\n",
       "      <td>gop</td>\n",
       "      <td>-3.533638</td>\n",
       "      <td>Likely Republican</td>\n",
       "    </tr>\n",
       "    <tr>\n",
       "      <th>10</th>\n",
       "      <td>New Jersey</td>\n",
       "      <td>14</td>\n",
       "      <td>NJ</td>\n",
       "      <td>1900419.0</td>\n",
       "      <td>1419738.0</td>\n",
       "      <td>136918.0</td>\n",
       "      <td>3457075.0</td>\n",
       "      <td>0.549719</td>\n",
       "      <td>0.410676</td>\n",
       "      <td>dem</td>\n",
       "      <td>13.904269</td>\n",
       "      <td>Safe Democrat</td>\n",
       "    </tr>\n",
       "    <tr>\n",
       "      <th>11</th>\n",
       "      <td>Virginia</td>\n",
       "      <td>13</td>\n",
       "      <td>VA</td>\n",
       "      <td>1922843.0</td>\n",
       "      <td>1768923.0</td>\n",
       "      <td>202699.0</td>\n",
       "      <td>3894465.0</td>\n",
       "      <td>0.493737</td>\n",
       "      <td>0.454215</td>\n",
       "      <td>dem</td>\n",
       "      <td>3.952276</td>\n",
       "      <td>Likely Democrat</td>\n",
       "    </tr>\n",
       "    <tr>\n",
       "      <th>12</th>\n",
       "      <td>Washington</td>\n",
       "      <td>12</td>\n",
       "      <td>WA</td>\n",
       "      <td>1574338.0</td>\n",
       "      <td>1093611.0</td>\n",
       "      <td>210972.0</td>\n",
       "      <td>2878921.0</td>\n",
       "      <td>0.546850</td>\n",
       "      <td>0.379868</td>\n",
       "      <td>dem</td>\n",
       "      <td>16.698166</td>\n",
       "      <td>Safe Democrat</td>\n",
       "    </tr>\n",
       "    <tr>\n",
       "      <th>13</th>\n",
       "      <td>Tennessee</td>\n",
       "      <td>11</td>\n",
       "      <td>TN</td>\n",
       "      <td>864974.0</td>\n",
       "      <td>1520787.0</td>\n",
       "      <td>99268.0</td>\n",
       "      <td>2485029.0</td>\n",
       "      <td>0.348074</td>\n",
       "      <td>0.611980</td>\n",
       "      <td>gop</td>\n",
       "      <td>-26.390557</td>\n",
       "      <td>Safe Republican</td>\n",
       "    </tr>\n",
       "    <tr>\n",
       "      <th>14</th>\n",
       "      <td>Massachusetts</td>\n",
       "      <td>11</td>\n",
       "      <td>MA</td>\n",
       "      <td>1894868.0</td>\n",
       "      <td>1033428.0</td>\n",
       "      <td>176747.0</td>\n",
       "      <td>3105043.0</td>\n",
       "      <td>0.610255</td>\n",
       "      <td>0.332822</td>\n",
       "      <td>dem</td>\n",
       "      <td>27.743255</td>\n",
       "      <td>Safe Democrat</td>\n",
       "    </tr>\n",
       "    <tr>\n",
       "      <th>15</th>\n",
       "      <td>Indiana</td>\n",
       "      <td>11</td>\n",
       "      <td>IN</td>\n",
       "      <td>1030278.0</td>\n",
       "      <td>1549034.0</td>\n",
       "      <td>133437.0</td>\n",
       "      <td>2712749.0</td>\n",
       "      <td>0.379791</td>\n",
       "      <td>0.571020</td>\n",
       "      <td>gop</td>\n",
       "      <td>-19.122890</td>\n",
       "      <td>Safe Republican</td>\n",
       "    </tr>\n",
       "    <tr>\n",
       "      <th>16</th>\n",
       "      <td>Arizona</td>\n",
       "      <td>11</td>\n",
       "      <td>AZ</td>\n",
       "      <td>936250.0</td>\n",
       "      <td>1021154.0</td>\n",
       "      <td>105406.0</td>\n",
       "      <td>2062810.0</td>\n",
       "      <td>0.453871</td>\n",
       "      <td>0.495031</td>\n",
       "      <td>gop</td>\n",
       "      <td>-4.115939</td>\n",
       "      <td>Likely Republican</td>\n",
       "    </tr>\n",
       "    <tr>\n",
       "      <th>17</th>\n",
       "      <td>Wisconsin</td>\n",
       "      <td>10</td>\n",
       "      <td>WI</td>\n",
       "      <td>1317468.0</td>\n",
       "      <td>1346746.0</td>\n",
       "      <td>147763.0</td>\n",
       "      <td>2811977.0</td>\n",
       "      <td>0.468520</td>\n",
       "      <td>0.478932</td>\n",
       "      <td>gop</td>\n",
       "      <td>-1.041189</td>\n",
       "      <td>Toss-Up</td>\n",
       "    </tr>\n",
       "    <tr>\n",
       "      <th>18</th>\n",
       "      <td>Missouri</td>\n",
       "      <td>10</td>\n",
       "      <td>MO</td>\n",
       "      <td>1052509.0</td>\n",
       "      <td>1582977.0</td>\n",
       "      <td>134151.0</td>\n",
       "      <td>2769637.0</td>\n",
       "      <td>0.380017</td>\n",
       "      <td>0.571547</td>\n",
       "      <td>gop</td>\n",
       "      <td>-19.152979</td>\n",
       "      <td>Safe Republican</td>\n",
       "    </tr>\n",
       "    <tr>\n",
       "      <th>19</th>\n",
       "      <td>Minnesota</td>\n",
       "      <td>10</td>\n",
       "      <td>MN</td>\n",
       "      <td>1370463.0</td>\n",
       "      <td>1322500.0</td>\n",
       "      <td>226470.0</td>\n",
       "      <td>2919433.0</td>\n",
       "      <td>0.469428</td>\n",
       "      <td>0.452999</td>\n",
       "      <td>dem</td>\n",
       "      <td>1.642888</td>\n",
       "      <td>Toss-Up</td>\n",
       "    </tr>\n",
       "    <tr>\n",
       "      <th>20</th>\n",
       "      <td>Maryland</td>\n",
       "      <td>10</td>\n",
       "      <td>MD</td>\n",
       "      <td>1562918.0</td>\n",
       "      <td>907463.0</td>\n",
       "      <td>109025.0</td>\n",
       "      <td>2579406.0</td>\n",
       "      <td>0.605922</td>\n",
       "      <td>0.351811</td>\n",
       "      <td>dem</td>\n",
       "      <td>25.411083</td>\n",
       "      <td>Safe Democrat</td>\n",
       "    </tr>\n",
       "    <tr>\n",
       "      <th>21</th>\n",
       "      <td>South Carolina</td>\n",
       "      <td>9</td>\n",
       "      <td>SC</td>\n",
       "      <td>822583.0</td>\n",
       "      <td>1096317.0</td>\n",
       "      <td>88226.0</td>\n",
       "      <td>2007126.0</td>\n",
       "      <td>0.409831</td>\n",
       "      <td>0.546212</td>\n",
       "      <td>gop</td>\n",
       "      <td>-13.638107</td>\n",
       "      <td>Safe Republican</td>\n",
       "    </tr>\n",
       "    <tr>\n",
       "      <th>22</th>\n",
       "      <td>Colorado</td>\n",
       "      <td>9</td>\n",
       "      <td>CO</td>\n",
       "      <td>1212209.0</td>\n",
       "      <td>1137455.0</td>\n",
       "      <td>214521.0</td>\n",
       "      <td>2564185.0</td>\n",
       "      <td>0.472746</td>\n",
       "      <td>0.443593</td>\n",
       "      <td>dem</td>\n",
       "      <td>2.915312</td>\n",
       "      <td>Likely Democrat</td>\n",
       "    </tr>\n",
       "    <tr>\n",
       "      <th>23</th>\n",
       "      <td>Alabama</td>\n",
       "      <td>9</td>\n",
       "      <td>AL</td>\n",
       "      <td>718084.0</td>\n",
       "      <td>1306925.0</td>\n",
       "      <td>53156.0</td>\n",
       "      <td>2078165.0</td>\n",
       "      <td>0.345538</td>\n",
       "      <td>0.628884</td>\n",
       "      <td>gop</td>\n",
       "      <td>-28.334661</td>\n",
       "      <td>Safe Republican</td>\n",
       "    </tr>\n",
       "    <tr>\n",
       "      <th>24</th>\n",
       "      <td>Louisiana</td>\n",
       "      <td>8</td>\n",
       "      <td>LA</td>\n",
       "      <td>796872.0</td>\n",
       "      <td>1185034.0</td>\n",
       "      <td>73779.0</td>\n",
       "      <td>2055685.0</td>\n",
       "      <td>0.387643</td>\n",
       "      <td>0.576467</td>\n",
       "      <td>gop</td>\n",
       "      <td>-18.882368</td>\n",
       "      <td>Safe Republican</td>\n",
       "    </tr>\n",
       "    <tr>\n",
       "      <th>25</th>\n",
       "      <td>Kentucky</td>\n",
       "      <td>8</td>\n",
       "      <td>KY</td>\n",
       "      <td>633149.0</td>\n",
       "      <td>1217464.0</td>\n",
       "      <td>90763.0</td>\n",
       "      <td>1941376.0</td>\n",
       "      <td>0.326134</td>\n",
       "      <td>0.627114</td>\n",
       "      <td>gop</td>\n",
       "      <td>-30.097982</td>\n",
       "      <td>Safe Republican</td>\n",
       "    </tr>\n",
       "    <tr>\n",
       "      <th>26</th>\n",
       "      <td>Oregon</td>\n",
       "      <td>7</td>\n",
       "      <td>OR</td>\n",
       "      <td>1281513.0</td>\n",
       "      <td>1012053.0</td>\n",
       "      <td>151264.0</td>\n",
       "      <td>2444830.0</td>\n",
       "      <td>0.524173</td>\n",
       "      <td>0.413956</td>\n",
       "      <td>dem</td>\n",
       "      <td>11.021625</td>\n",
       "      <td>Safe Democrat</td>\n",
       "    </tr>\n",
       "    <tr>\n",
       "      <th>27</th>\n",
       "      <td>Oklahoma</td>\n",
       "      <td>7</td>\n",
       "      <td>OK</td>\n",
       "      <td>448410.0</td>\n",
       "      <td>960440.0</td>\n",
       "      <td>87538.0</td>\n",
       "      <td>1496388.0</td>\n",
       "      <td>0.299662</td>\n",
       "      <td>0.641839</td>\n",
       "      <td>gop</td>\n",
       "      <td>-34.217730</td>\n",
       "      <td>Safe Republican</td>\n",
       "    </tr>\n",
       "    <tr>\n",
       "      <th>28</th>\n",
       "      <td>Connecticut</td>\n",
       "      <td>7</td>\n",
       "      <td>CT</td>\n",
       "      <td>917779.0</td>\n",
       "      <td>705255.0</td>\n",
       "      <td>74761.0</td>\n",
       "      <td>1697795.0</td>\n",
       "      <td>0.540571</td>\n",
       "      <td>0.415395</td>\n",
       "      <td>dem</td>\n",
       "      <td>12.517648</td>\n",
       "      <td>Safe Democrat</td>\n",
       "    </tr>\n",
       "    <tr>\n",
       "      <th>29</th>\n",
       "      <td>Utah</td>\n",
       "      <td>6</td>\n",
       "      <td>UT</td>\n",
       "      <td>346316.0</td>\n",
       "      <td>454331.0</td>\n",
       "      <td>247982.0</td>\n",
       "      <td>1048629.0</td>\n",
       "      <td>0.330256</td>\n",
       "      <td>0.433262</td>\n",
       "      <td>gop</td>\n",
       "      <td>-10.300592</td>\n",
       "      <td>Safe Republican</td>\n",
       "    </tr>\n",
       "    <tr>\n",
       "      <th>30</th>\n",
       "      <td>Nevada</td>\n",
       "      <td>6</td>\n",
       "      <td>NV</td>\n",
       "      <td>561295.0</td>\n",
       "      <td>535825.0</td>\n",
       "      <td>75901.0</td>\n",
       "      <td>1173021.0</td>\n",
       "      <td>0.478504</td>\n",
       "      <td>0.456791</td>\n",
       "      <td>dem</td>\n",
       "      <td>2.171317</td>\n",
       "      <td>Toss-Up</td>\n",
       "    </tr>\n",
       "    <tr>\n",
       "      <th>31</th>\n",
       "      <td>Mississippi</td>\n",
       "      <td>6</td>\n",
       "      <td>MS</td>\n",
       "      <td>458575.0</td>\n",
       "      <td>679351.0</td>\n",
       "      <td>22984.0</td>\n",
       "      <td>1160910.0</td>\n",
       "      <td>0.395013</td>\n",
       "      <td>0.585188</td>\n",
       "      <td>gop</td>\n",
       "      <td>-19.017495</td>\n",
       "      <td>Safe Republican</td>\n",
       "    </tr>\n",
       "    <tr>\n",
       "      <th>32</th>\n",
       "      <td>Kansas</td>\n",
       "      <td>6</td>\n",
       "      <td>KS</td>\n",
       "      <td>414713.0</td>\n",
       "      <td>659071.0</td>\n",
       "      <td>76273.0</td>\n",
       "      <td>1150057.0</td>\n",
       "      <td>0.360602</td>\n",
       "      <td>0.573077</td>\n",
       "      <td>gop</td>\n",
       "      <td>-21.247469</td>\n",
       "      <td>Safe Republican</td>\n",
       "    </tr>\n",
       "    <tr>\n",
       "      <th>33</th>\n",
       "      <td>Iowa</td>\n",
       "      <td>6</td>\n",
       "      <td>IA</td>\n",
       "      <td>651061.0</td>\n",
       "      <td>800042.0</td>\n",
       "      <td>93332.0</td>\n",
       "      <td>1544435.0</td>\n",
       "      <td>0.421553</td>\n",
       "      <td>0.518016</td>\n",
       "      <td>gop</td>\n",
       "      <td>-9.646311</td>\n",
       "      <td>Likely Republican</td>\n",
       "    </tr>\n",
       "    <tr>\n",
       "      <th>34</th>\n",
       "      <td>Arkansas</td>\n",
       "      <td>6</td>\n",
       "      <td>AR</td>\n",
       "      <td>378729.0</td>\n",
       "      <td>677904.0</td>\n",
       "      <td>51982.0</td>\n",
       "      <td>1108615.0</td>\n",
       "      <td>0.341624</td>\n",
       "      <td>0.611487</td>\n",
       "      <td>gop</td>\n",
       "      <td>-26.986375</td>\n",
       "      <td>Safe Republican</td>\n",
       "    </tr>\n",
       "    <tr>\n",
       "      <th>35</th>\n",
       "      <td>West Virginia</td>\n",
       "      <td>5</td>\n",
       "      <td>WV</td>\n",
       "      <td>242418.0</td>\n",
       "      <td>531229.0</td>\n",
       "      <td>40063.0</td>\n",
       "      <td>813710.0</td>\n",
       "      <td>0.297917</td>\n",
       "      <td>0.652848</td>\n",
       "      <td>gop</td>\n",
       "      <td>-35.493112</td>\n",
       "      <td>Safe Republican</td>\n",
       "    </tr>\n",
       "    <tr>\n",
       "      <th>36</th>\n",
       "      <td>New Mexico</td>\n",
       "      <td>5</td>\n",
       "      <td>NM</td>\n",
       "      <td>317586.0</td>\n",
       "      <td>276487.0</td>\n",
       "      <td>59924.0</td>\n",
       "      <td>653997.0</td>\n",
       "      <td>0.485608</td>\n",
       "      <td>0.422765</td>\n",
       "      <td>dem</td>\n",
       "      <td>6.284280</td>\n",
       "      <td>Likely Democrat</td>\n",
       "    </tr>\n",
       "    <tr>\n",
       "      <th>37</th>\n",
       "      <td>Nebraska</td>\n",
       "      <td>5</td>\n",
       "      <td>NE</td>\n",
       "      <td>272796.0</td>\n",
       "      <td>484442.0</td>\n",
       "      <td>46164.0</td>\n",
       "      <td>803402.0</td>\n",
       "      <td>0.339551</td>\n",
       "      <td>0.602988</td>\n",
       "      <td>gop</td>\n",
       "      <td>-26.343723</td>\n",
       "      <td>Safe Republican</td>\n",
       "    </tr>\n",
       "    <tr>\n",
       "      <th>38</th>\n",
       "      <td>Rhode Island</td>\n",
       "      <td>4</td>\n",
       "      <td>RI</td>\n",
       "      <td>226926.0</td>\n",
       "      <td>185093.0</td>\n",
       "      <td>19217.0</td>\n",
       "      <td>431236.0</td>\n",
       "      <td>0.526222</td>\n",
       "      <td>0.429215</td>\n",
       "      <td>dem</td>\n",
       "      <td>9.700721</td>\n",
       "      <td>Likely Democrat</td>\n",
       "    </tr>\n",
       "    <tr>\n",
       "      <th>39</th>\n",
       "      <td>New Hampshire</td>\n",
       "      <td>4</td>\n",
       "      <td>NH</td>\n",
       "      <td>585740.0</td>\n",
       "      <td>522941.0</td>\n",
       "      <td>49050.0</td>\n",
       "      <td>1157731.0</td>\n",
       "      <td>0.505938</td>\n",
       "      <td>0.451695</td>\n",
       "      <td>dem</td>\n",
       "      <td>5.424317</td>\n",
       "      <td>Likely Democrat</td>\n",
       "    </tr>\n",
       "    <tr>\n",
       "      <th>40</th>\n",
       "      <td>Maine</td>\n",
       "      <td>4</td>\n",
       "      <td>ME</td>\n",
       "      <td>338563.0</td>\n",
       "      <td>326674.0</td>\n",
       "      <td>48777.0</td>\n",
       "      <td>714014.0</td>\n",
       "      <td>0.474169</td>\n",
       "      <td>0.457518</td>\n",
       "      <td>dem</td>\n",
       "      <td>1.665093</td>\n",
       "      <td>Toss-Up</td>\n",
       "    </tr>\n",
       "    <tr>\n",
       "      <th>41</th>\n",
       "      <td>Idaho</td>\n",
       "      <td>4</td>\n",
       "      <td>ID</td>\n",
       "      <td>121634.0</td>\n",
       "      <td>336183.0</td>\n",
       "      <td>66601.0</td>\n",
       "      <td>524418.0</td>\n",
       "      <td>0.231941</td>\n",
       "      <td>0.641059</td>\n",
       "      <td>gop</td>\n",
       "      <td>-40.911830</td>\n",
       "      <td>Safe Republican</td>\n",
       "    </tr>\n",
       "    <tr>\n",
       "      <th>42</th>\n",
       "      <td>Hawaii</td>\n",
       "      <td>4</td>\n",
       "      <td>HI</td>\n",
       "      <td>301245.0</td>\n",
       "      <td>205063.0</td>\n",
       "      <td>53239.0</td>\n",
       "      <td>559547.0</td>\n",
       "      <td>0.538373</td>\n",
       "      <td>0.366480</td>\n",
       "      <td>dem</td>\n",
       "      <td>17.189262</td>\n",
       "      <td>Safe Democrat</td>\n",
       "    </tr>\n",
       "    <tr>\n",
       "      <th>43</th>\n",
       "      <td>Wyoming</td>\n",
       "      <td>3</td>\n",
       "      <td>WY</td>\n",
       "      <td>45196.0</td>\n",
       "      <td>136873.0</td>\n",
       "      <td>14487.0</td>\n",
       "      <td>196556.0</td>\n",
       "      <td>0.229940</td>\n",
       "      <td>0.696356</td>\n",
       "      <td>gop</td>\n",
       "      <td>-46.641670</td>\n",
       "      <td>Safe Republican</td>\n",
       "    </tr>\n",
       "    <tr>\n",
       "      <th>44</th>\n",
       "      <td>Vermont</td>\n",
       "      <td>3</td>\n",
       "      <td>VT</td>\n",
       "      <td>144831.0</td>\n",
       "      <td>105528.0</td>\n",
       "      <td>15576.0</td>\n",
       "      <td>265935.0</td>\n",
       "      <td>0.544611</td>\n",
       "      <td>0.396819</td>\n",
       "      <td>dem</td>\n",
       "      <td>14.779175</td>\n",
       "      <td>Safe Democrat</td>\n",
       "    </tr>\n",
       "    <tr>\n",
       "      <th>45</th>\n",
       "      <td>South Dakota</td>\n",
       "      <td>3</td>\n",
       "      <td>SD</td>\n",
       "      <td>126554.0</td>\n",
       "      <td>257402.0</td>\n",
       "      <td>26361.0</td>\n",
       "      <td>410317.0</td>\n",
       "      <td>0.308430</td>\n",
       "      <td>0.627325</td>\n",
       "      <td>gop</td>\n",
       "      <td>-31.889490</td>\n",
       "      <td>Safe Republican</td>\n",
       "    </tr>\n",
       "    <tr>\n",
       "      <th>46</th>\n",
       "      <td>North Dakota</td>\n",
       "      <td>3</td>\n",
       "      <td>ND</td>\n",
       "      <td>106821.0</td>\n",
       "      <td>250376.0</td>\n",
       "      <td>29011.0</td>\n",
       "      <td>386208.0</td>\n",
       "      <td>0.276589</td>\n",
       "      <td>0.648293</td>\n",
       "      <td>gop</td>\n",
       "      <td>-37.170385</td>\n",
       "      <td>Safe Republican</td>\n",
       "    </tr>\n",
       "    <tr>\n",
       "      <th>47</th>\n",
       "      <td>Montana</td>\n",
       "      <td>3</td>\n",
       "      <td>MT</td>\n",
       "      <td>176678.0</td>\n",
       "      <td>280082.0</td>\n",
       "      <td>35310.0</td>\n",
       "      <td>492070.0</td>\n",
       "      <td>0.359051</td>\n",
       "      <td>0.569191</td>\n",
       "      <td>gop</td>\n",
       "      <td>-21.014083</td>\n",
       "      <td>Safe Republican</td>\n",
       "    </tr>\n",
       "    <tr>\n",
       "      <th>48</th>\n",
       "      <td>Delaware</td>\n",
       "      <td>3</td>\n",
       "      <td>DE</td>\n",
       "      <td>462457.0</td>\n",
       "      <td>159667.0</td>\n",
       "      <td>25430.0</td>\n",
       "      <td>647554.0</td>\n",
       "      <td>0.714160</td>\n",
       "      <td>0.246569</td>\n",
       "      <td>dem</td>\n",
       "      <td>46.759035</td>\n",
       "      <td>Safe Democrat</td>\n",
       "    </tr>\n",
       "    <tr>\n",
       "      <th>49</th>\n",
       "      <td>District of Columbia</td>\n",
       "      <td>3</td>\n",
       "      <td>DC</td>\n",
       "      <td>75370.0</td>\n",
       "      <td>46584.0</td>\n",
       "      <td>5873.0</td>\n",
       "      <td>127827.0</td>\n",
       "      <td>0.589625</td>\n",
       "      <td>0.364430</td>\n",
       "      <td>dem</td>\n",
       "      <td>22.519499</td>\n",
       "      <td>Safe Democrat</td>\n",
       "    </tr>\n",
       "  </tbody>\n",
       "</table>\n",
       "</div>"
      ],
      "text/plain": [
       "                   state  electoral_votes_number state_code  Votes_dem  \\\n",
       "0             California                      55         CA  7362490.0   \n",
       "1                  Texas                      38         TX  3866536.0   \n",
       "2               New York                      29         NY  4097644.0   \n",
       "3                Florida                      29         FL  4411809.0   \n",
       "4           Pennsylvania                      20         PA  2519725.0   \n",
       "5               Illinois                      20         IL  2972667.0   \n",
       "6                   Ohio                      18         OH  2303483.0   \n",
       "7               Michigan                      16         MI  2269595.0   \n",
       "8                Georgia                      16         GA  1877124.0   \n",
       "9         North Carolina                      15         NC  2130869.0   \n",
       "10            New Jersey                      14         NJ  1900419.0   \n",
       "11              Virginia                      13         VA  1922843.0   \n",
       "12            Washington                      12         WA  1574338.0   \n",
       "13             Tennessee                      11         TN   864974.0   \n",
       "14         Massachusetts                      11         MA  1894868.0   \n",
       "15               Indiana                      11         IN  1030278.0   \n",
       "16               Arizona                      11         AZ   936250.0   \n",
       "17             Wisconsin                      10         WI  1317468.0   \n",
       "18              Missouri                      10         MO  1052509.0   \n",
       "19             Minnesota                      10         MN  1370463.0   \n",
       "20              Maryland                      10         MD  1562918.0   \n",
       "21        South Carolina                       9         SC   822583.0   \n",
       "22              Colorado                       9         CO  1212209.0   \n",
       "23               Alabama                       9         AL   718084.0   \n",
       "24             Louisiana                       8         LA   796872.0   \n",
       "25              Kentucky                       8         KY   633149.0   \n",
       "26                Oregon                       7         OR  1281513.0   \n",
       "27              Oklahoma                       7         OK   448410.0   \n",
       "28           Connecticut                       7         CT   917779.0   \n",
       "29                  Utah                       6         UT   346316.0   \n",
       "30                Nevada                       6         NV   561295.0   \n",
       "31           Mississippi                       6         MS   458575.0   \n",
       "32                Kansas                       6         KS   414713.0   \n",
       "33                  Iowa                       6         IA   651061.0   \n",
       "34              Arkansas                       6         AR   378729.0   \n",
       "35         West Virginia                       5         WV   242418.0   \n",
       "36            New Mexico                       5         NM   317586.0   \n",
       "37              Nebraska                       5         NE   272796.0   \n",
       "38          Rhode Island                       4         RI   226926.0   \n",
       "39         New Hampshire                       4         NH   585740.0   \n",
       "40                 Maine                       4         ME   338563.0   \n",
       "41                 Idaho                       4         ID   121634.0   \n",
       "42                Hawaii                       4         HI   301245.0   \n",
       "43               Wyoming                       3         WY    45196.0   \n",
       "44               Vermont                       3         VT   144831.0   \n",
       "45          South Dakota                       3         SD   126554.0   \n",
       "46          North Dakota                       3         ND   106821.0   \n",
       "47               Montana                       3         MT   176678.0   \n",
       "48              Delaware                       3         DE   462457.0   \n",
       "49  District of Columbia                       3         DC    75370.0   \n",
       "\n",
       "    Votes_gop  Votes_other  Votes_total  Per_dem_2016  Per_gop_2016 Winner  \\\n",
       "0   3916209.0     675618.0   11954317.0      0.615885      0.327598    dem   \n",
       "1   4677007.0     370961.0    8914504.0      0.433735      0.524651    gop   \n",
       "2   2636692.0     256359.0    6990695.0      0.586157      0.377172    dem   \n",
       "3   4564423.0     289694.0    9265926.0      0.476133      0.492603    gop   \n",
       "4   2671255.0     193198.0    5384178.0      0.467987      0.496131    gop   \n",
       "5   2105089.0     277793.0    5355549.0      0.555063      0.393067    dem   \n",
       "6   2740365.0     234572.0    5278420.0      0.436396      0.519164    gop   \n",
       "7   2281120.0     243208.0    4793923.0      0.473432      0.475836    gop   \n",
       "8   2080631.0     129671.0    4087426.0      0.459244      0.509032    gop   \n",
       "9   2291602.0     126184.0    4548655.0      0.468461      0.503798    gop   \n",
       "10  1419738.0     136918.0    3457075.0      0.549719      0.410676    dem   \n",
       "11  1768923.0     202699.0    3894465.0      0.493737      0.454215    dem   \n",
       "12  1093611.0     210972.0    2878921.0      0.546850      0.379868    dem   \n",
       "13  1520787.0      99268.0    2485029.0      0.348074      0.611980    gop   \n",
       "14  1033428.0     176747.0    3105043.0      0.610255      0.332822    dem   \n",
       "15  1549034.0     133437.0    2712749.0      0.379791      0.571020    gop   \n",
       "16  1021154.0     105406.0    2062810.0      0.453871      0.495031    gop   \n",
       "17  1346746.0     147763.0    2811977.0      0.468520      0.478932    gop   \n",
       "18  1582977.0     134151.0    2769637.0      0.380017      0.571547    gop   \n",
       "19  1322500.0     226470.0    2919433.0      0.469428      0.452999    dem   \n",
       "20   907463.0     109025.0    2579406.0      0.605922      0.351811    dem   \n",
       "21  1096317.0      88226.0    2007126.0      0.409831      0.546212    gop   \n",
       "22  1137455.0     214521.0    2564185.0      0.472746      0.443593    dem   \n",
       "23  1306925.0      53156.0    2078165.0      0.345538      0.628884    gop   \n",
       "24  1185034.0      73779.0    2055685.0      0.387643      0.576467    gop   \n",
       "25  1217464.0      90763.0    1941376.0      0.326134      0.627114    gop   \n",
       "26  1012053.0     151264.0    2444830.0      0.524173      0.413956    dem   \n",
       "27   960440.0      87538.0    1496388.0      0.299662      0.641839    gop   \n",
       "28   705255.0      74761.0    1697795.0      0.540571      0.415395    dem   \n",
       "29   454331.0     247982.0    1048629.0      0.330256      0.433262    gop   \n",
       "30   535825.0      75901.0    1173021.0      0.478504      0.456791    dem   \n",
       "31   679351.0      22984.0    1160910.0      0.395013      0.585188    gop   \n",
       "32   659071.0      76273.0    1150057.0      0.360602      0.573077    gop   \n",
       "33   800042.0      93332.0    1544435.0      0.421553      0.518016    gop   \n",
       "34   677904.0      51982.0    1108615.0      0.341624      0.611487    gop   \n",
       "35   531229.0      40063.0     813710.0      0.297917      0.652848    gop   \n",
       "36   276487.0      59924.0     653997.0      0.485608      0.422765    dem   \n",
       "37   484442.0      46164.0     803402.0      0.339551      0.602988    gop   \n",
       "38   185093.0      19217.0     431236.0      0.526222      0.429215    dem   \n",
       "39   522941.0      49050.0    1157731.0      0.505938      0.451695    dem   \n",
       "40   326674.0      48777.0     714014.0      0.474169      0.457518    dem   \n",
       "41   336183.0      66601.0     524418.0      0.231941      0.641059    gop   \n",
       "42   205063.0      53239.0     559547.0      0.538373      0.366480    dem   \n",
       "43   136873.0      14487.0     196556.0      0.229940      0.696356    gop   \n",
       "44   105528.0      15576.0     265935.0      0.544611      0.396819    dem   \n",
       "45   257402.0      26361.0     410317.0      0.308430      0.627325    gop   \n",
       "46   250376.0      29011.0     386208.0      0.276589      0.648293    gop   \n",
       "47   280082.0      35310.0     492070.0      0.359051      0.569191    gop   \n",
       "48   159667.0      25430.0     647554.0      0.714160      0.246569    dem   \n",
       "49    46584.0       5873.0     127827.0      0.589625      0.364430    dem   \n",
       "\n",
       "    Difference             Status  \n",
       "0    28.828757      Safe Democrat  \n",
       "1    -9.091599  Likely Republican  \n",
       "2    20.898523      Safe Democrat  \n",
       "3    -1.647045            Toss-Up  \n",
       "4    -2.814357  Likely Republican  \n",
       "5    16.199609      Safe Democrat  \n",
       "6    -8.276757  Likely Republican  \n",
       "7    -0.240409            Toss-Up  \n",
       "8    -4.978855  Likely Republican  \n",
       "9    -3.533638  Likely Republican  \n",
       "10   13.904269      Safe Democrat  \n",
       "11    3.952276    Likely Democrat  \n",
       "12   16.698166      Safe Democrat  \n",
       "13  -26.390557    Safe Republican  \n",
       "14   27.743255      Safe Democrat  \n",
       "15  -19.122890    Safe Republican  \n",
       "16   -4.115939  Likely Republican  \n",
       "17   -1.041189            Toss-Up  \n",
       "18  -19.152979    Safe Republican  \n",
       "19    1.642888            Toss-Up  \n",
       "20   25.411083      Safe Democrat  \n",
       "21  -13.638107    Safe Republican  \n",
       "22    2.915312    Likely Democrat  \n",
       "23  -28.334661    Safe Republican  \n",
       "24  -18.882368    Safe Republican  \n",
       "25  -30.097982    Safe Republican  \n",
       "26   11.021625      Safe Democrat  \n",
       "27  -34.217730    Safe Republican  \n",
       "28   12.517648      Safe Democrat  \n",
       "29  -10.300592    Safe Republican  \n",
       "30    2.171317            Toss-Up  \n",
       "31  -19.017495    Safe Republican  \n",
       "32  -21.247469    Safe Republican  \n",
       "33   -9.646311  Likely Republican  \n",
       "34  -26.986375    Safe Republican  \n",
       "35  -35.493112    Safe Republican  \n",
       "36    6.284280    Likely Democrat  \n",
       "37  -26.343723    Safe Republican  \n",
       "38    9.700721    Likely Democrat  \n",
       "39    5.424317    Likely Democrat  \n",
       "40    1.665093            Toss-Up  \n",
       "41  -40.911830    Safe Republican  \n",
       "42   17.189262      Safe Democrat  \n",
       "43  -46.641670    Safe Republican  \n",
       "44   14.779175      Safe Democrat  \n",
       "45  -31.889490    Safe Republican  \n",
       "46  -37.170385    Safe Republican  \n",
       "47  -21.014083    Safe Republican  \n",
       "48   46.759035      Safe Democrat  \n",
       "49   22.519499      Safe Democrat  "
      ]
     },
     "execution_count": 192,
     "metadata": {},
     "output_type": "execute_result"
    }
   ],
   "source": [
    "# Cargar datos electorales reales\n",
    "df_actual = pd.DataFrame({'Votes_dem': data_2016['votes_dem'], \n",
    "                            'Votes_gop': data_2016['total_votes'] - data_2016['votes_dem'] - data_2016['votes_others'], \n",
    "                            'Votes_other': data_2016['votes_others'],\n",
    "                            'Votes_total': data_2016['total_votes'], \n",
    "                            'state': state_names,\n",
    "                            'county': county_names,\n",
    "                            'fips': fips_codes})\n",
    "df_actual_state = df_actual.groupby('state').agg(Votes_dem=(f'Votes_dem', 'sum'), \n",
    "                                                    Votes_gop=(f'Votes_gop', 'sum'),\n",
    "                                                    Votes_other=(f'Votes_other', 'sum'),\n",
    "                                                    Votes_total=(f'Votes_total', 'sum'))\n",
    "\n",
    "df_actual_state[\"Per_dem_2016\"] = df_actual_state[\"Votes_dem\"] / df_actual_state[\"Votes_total\"]\n",
    "df_actual_state[\"Per_gop_2016\"] = df_actual_state[\"Votes_gop\"] / df_actual_state[\"Votes_total\"]\n",
    "\n",
    "# Añadir la columna \"Winner\" basado en los porcentajes predichos de Biden y Trump\n",
    "df_actual_state[\"Winner\"] = np.where(df_actual_state[\"Per_dem_2016\"] < df_actual_state[\"Per_gop_2016\"], 'gop', 'dem')\n",
    "\n",
    "\n",
    "full_df_actual_state = pd.merge(seats_data, df_actual_state, how='inner', on=[\"state\"])\n",
    "\n",
    "\n",
    "\n",
    "# Añadir diferencia entre Biden y Trump\n",
    "full_df_actual_state['Difference'] = (full_df_actual_state[\"Per_dem_2016\"] - full_df_actual_state[\"Per_gop_2016\"]) * 100\n",
    "\n",
    "\n",
    "# Definir las condiciones y los valores a asignar\n",
    "conditions = [\n",
    "    full_df_actual_state[\"Difference\"] > 10,\n",
    "    full_df_actual_state[\"Difference\"].between(2.5, 10),\n",
    "    full_df_actual_state[\"Difference\"].between(-2.5, 2.5),\n",
    "    full_df_actual_state[\"Difference\"].between(-10, -2.5),\n",
    "    full_df_actual_state[\"Difference\"] < -10\n",
    "]\n",
    "\n",
    "choices = [\n",
    "    \"Safe Democrat\",\n",
    "    \"Likely Democrat\",\n",
    "    \"Toss-Up\",\n",
    "    \"Likely Republican\",\n",
    "    \"Safe Republican\"\n",
    "]\n",
    "\n",
    "# Usar np.select para asignar el \"Status\" basado en las condiciones, con un valor por defecto \"Unknown\"\n",
    "full_df_actual_state[\"Status\"] = np.select(conditions, choices, default=\"Unknown\")\n",
    "\n",
    "full_df_actual_state_2016 = full_df_actual_state.copy()\n",
    "full_df_actual_state_2016"
   ]
  },
  {
   "cell_type": "code",
   "execution_count": 193,
   "metadata": {},
   "outputs": [],
   "source": [
    "# columns_to_drop = ['Total_2020', 'Other_2020', 'Winner_2020', \"Biden_2020\"]  # Nombres de las columnas a eliminar\n",
    "columns_to_drop = [\"votes_dem\", \"total_votes\", \"votes_others\", \"per_votes_others\", \"winner\"]  # Nombres de las columnas a eliminar\n",
    "\n",
    "data_2016 = data_2016.drop(columns=columns_to_drop)"
   ]
  },
  {
   "cell_type": "markdown",
   "metadata": {},
   "source": [
    "### 2020"
   ]
  },
  {
   "cell_type": "code",
   "execution_count": 194,
   "metadata": {},
   "outputs": [],
   "source": [
    "# Cargar datos\n",
    "data_2020 = read_csv(f\"data/final_data_{2020}.csv\")"
   ]
  },
  {
   "cell_type": "code",
   "execution_count": 195,
   "metadata": {},
   "outputs": [
    {
     "data": {
      "text/html": [
       "<div>\n",
       "<style scoped>\n",
       "    .dataframe tbody tr th:only-of-type {\n",
       "        vertical-align: middle;\n",
       "    }\n",
       "\n",
       "    .dataframe tbody tr th {\n",
       "        vertical-align: top;\n",
       "    }\n",
       "\n",
       "    .dataframe thead th {\n",
       "        text-align: right;\n",
       "    }\n",
       "</style>\n",
       "<table border=\"1\" class=\"dataframe\">\n",
       "  <thead>\n",
       "    <tr style=\"text-align: right;\">\n",
       "      <th></th>\n",
       "      <th>state</th>\n",
       "      <th>electoral_votes_number</th>\n",
       "      <th>state_code</th>\n",
       "      <th>Votes_dem</th>\n",
       "      <th>Votes_gop</th>\n",
       "      <th>Votes_other</th>\n",
       "      <th>Votes_total</th>\n",
       "      <th>Per_dem_2020</th>\n",
       "      <th>Per_gop_2020</th>\n",
       "      <th>Winner</th>\n",
       "      <th>Difference</th>\n",
       "      <th>Status</th>\n",
       "    </tr>\n",
       "  </thead>\n",
       "  <tbody>\n",
       "    <tr>\n",
       "      <th>0</th>\n",
       "      <td>California</td>\n",
       "      <td>55</td>\n",
       "      <td>CA</td>\n",
       "      <td>11109764.0</td>\n",
       "      <td>6005961.0</td>\n",
       "      <td>380181.0</td>\n",
       "      <td>17495906.0</td>\n",
       "      <td>0.634992</td>\n",
       "      <td>0.343278</td>\n",
       "      <td>dem</td>\n",
       "      <td>29.171413</td>\n",
       "      <td>Safe Democrat</td>\n",
       "    </tr>\n",
       "    <tr>\n",
       "      <th>1</th>\n",
       "      <td>Texas</td>\n",
       "      <td>38</td>\n",
       "      <td>TX</td>\n",
       "      <td>5255528.0</td>\n",
       "      <td>5877932.0</td>\n",
       "      <td>168324.0</td>\n",
       "      <td>11301784.0</td>\n",
       "      <td>0.465018</td>\n",
       "      <td>0.520089</td>\n",
       "      <td>gop</td>\n",
       "      <td>-5.507131</td>\n",
       "      <td>Likely Republican</td>\n",
       "    </tr>\n",
       "    <tr>\n",
       "      <th>2</th>\n",
       "      <td>New York</td>\n",
       "      <td>29</td>\n",
       "      <td>NY</td>\n",
       "      <td>5183357.0</td>\n",
       "      <td>3245205.0</td>\n",
       "      <td>119633.0</td>\n",
       "      <td>8548195.0</td>\n",
       "      <td>0.606369</td>\n",
       "      <td>0.379636</td>\n",
       "      <td>dem</td>\n",
       "      <td>22.673231</td>\n",
       "      <td>Safe Democrat</td>\n",
       "    </tr>\n",
       "    <tr>\n",
       "      <th>3</th>\n",
       "      <td>Florida</td>\n",
       "      <td>29</td>\n",
       "      <td>FL</td>\n",
       "      <td>5209125.0</td>\n",
       "      <td>5624329.0</td>\n",
       "      <td>99788.0</td>\n",
       "      <td>10933242.0</td>\n",
       "      <td>0.476448</td>\n",
       "      <td>0.514425</td>\n",
       "      <td>gop</td>\n",
       "      <td>-3.797629</td>\n",
       "      <td>Likely Republican</td>\n",
       "    </tr>\n",
       "    <tr>\n",
       "      <th>4</th>\n",
       "      <td>Pennsylvania</td>\n",
       "      <td>20</td>\n",
       "      <td>PA</td>\n",
       "      <td>3459766.0</td>\n",
       "      <td>3350485.0</td>\n",
       "      <td>86705.0</td>\n",
       "      <td>6896956.0</td>\n",
       "      <td>0.501637</td>\n",
       "      <td>0.485792</td>\n",
       "      <td>dem</td>\n",
       "      <td>1.584482</td>\n",
       "      <td>Toss-Up</td>\n",
       "    </tr>\n",
       "    <tr>\n",
       "      <th>5</th>\n",
       "      <td>Illinois</td>\n",
       "      <td>20</td>\n",
       "      <td>IL</td>\n",
       "      <td>3466518.0</td>\n",
       "      <td>2433357.0</td>\n",
       "      <td>119657.0</td>\n",
       "      <td>6019532.0</td>\n",
       "      <td>0.575878</td>\n",
       "      <td>0.404244</td>\n",
       "      <td>dem</td>\n",
       "      <td>17.163477</td>\n",
       "      <td>Safe Democrat</td>\n",
       "    </tr>\n",
       "    <tr>\n",
       "      <th>6</th>\n",
       "      <td>Ohio</td>\n",
       "      <td>18</td>\n",
       "      <td>OH</td>\n",
       "      <td>2678396.0</td>\n",
       "      <td>3150549.0</td>\n",
       "      <td>88220.0</td>\n",
       "      <td>5917165.0</td>\n",
       "      <td>0.452649</td>\n",
       "      <td>0.532442</td>\n",
       "      <td>gop</td>\n",
       "      <td>-7.979379</td>\n",
       "      <td>Likely Republican</td>\n",
       "    </tr>\n",
       "    <tr>\n",
       "      <th>7</th>\n",
       "      <td>Michigan</td>\n",
       "      <td>16</td>\n",
       "      <td>MI</td>\n",
       "      <td>2805505.0</td>\n",
       "      <td>2651262.0</td>\n",
       "      <td>85496.0</td>\n",
       "      <td>5542263.0</td>\n",
       "      <td>0.506202</td>\n",
       "      <td>0.478372</td>\n",
       "      <td>dem</td>\n",
       "      <td>2.783033</td>\n",
       "      <td>Likely Democrat</td>\n",
       "    </tr>\n",
       "    <tr>\n",
       "      <th>8</th>\n",
       "      <td>Georgia</td>\n",
       "      <td>16</td>\n",
       "      <td>GA</td>\n",
       "      <td>2530580.0</td>\n",
       "      <td>2482181.0</td>\n",
       "      <td>64379.0</td>\n",
       "      <td>5077140.0</td>\n",
       "      <td>0.498426</td>\n",
       "      <td>0.488894</td>\n",
       "      <td>dem</td>\n",
       "      <td>0.953273</td>\n",
       "      <td>Toss-Up</td>\n",
       "    </tr>\n",
       "    <tr>\n",
       "      <th>9</th>\n",
       "      <td>North Carolina</td>\n",
       "      <td>15</td>\n",
       "      <td>NC</td>\n",
       "      <td>2645725.0</td>\n",
       "      <td>2713698.0</td>\n",
       "      <td>80556.0</td>\n",
       "      <td>5439979.0</td>\n",
       "      <td>0.486348</td>\n",
       "      <td>0.498843</td>\n",
       "      <td>gop</td>\n",
       "      <td>-1.249508</td>\n",
       "      <td>Toss-Up</td>\n",
       "    </tr>\n",
       "    <tr>\n",
       "      <th>10</th>\n",
       "      <td>New Jersey</td>\n",
       "      <td>14</td>\n",
       "      <td>NJ</td>\n",
       "      <td>2728284.0</td>\n",
       "      <td>1934971.0</td>\n",
       "      <td>78128.0</td>\n",
       "      <td>4741383.0</td>\n",
       "      <td>0.575419</td>\n",
       "      <td>0.408103</td>\n",
       "      <td>dem</td>\n",
       "      <td>16.731679</td>\n",
       "      <td>Safe Democrat</td>\n",
       "    </tr>\n",
       "    <tr>\n",
       "      <th>11</th>\n",
       "      <td>Virginia</td>\n",
       "      <td>13</td>\n",
       "      <td>VA</td>\n",
       "      <td>2407804.0</td>\n",
       "      <td>1957165.0</td>\n",
       "      <td>84455.0</td>\n",
       "      <td>4449424.0</td>\n",
       "      <td>0.541150</td>\n",
       "      <td>0.439869</td>\n",
       "      <td>dem</td>\n",
       "      <td>10.128030</td>\n",
       "      <td>Safe Democrat</td>\n",
       "    </tr>\n",
       "    <tr>\n",
       "      <th>12</th>\n",
       "      <td>Washington</td>\n",
       "      <td>12</td>\n",
       "      <td>WA</td>\n",
       "      <td>2369255.0</td>\n",
       "      <td>1585860.0</td>\n",
       "      <td>133331.0</td>\n",
       "      <td>4088446.0</td>\n",
       "      <td>0.579500</td>\n",
       "      <td>0.387888</td>\n",
       "      <td>dem</td>\n",
       "      <td>19.161192</td>\n",
       "      <td>Safe Democrat</td>\n",
       "    </tr>\n",
       "    <tr>\n",
       "      <th>13</th>\n",
       "      <td>Tennessee</td>\n",
       "      <td>11</td>\n",
       "      <td>TN</td>\n",
       "      <td>1135925.0</td>\n",
       "      <td>1844401.0</td>\n",
       "      <td>57182.0</td>\n",
       "      <td>3037508.0</td>\n",
       "      <td>0.373966</td>\n",
       "      <td>0.607209</td>\n",
       "      <td>gop</td>\n",
       "      <td>-23.324251</td>\n",
       "      <td>Safe Republican</td>\n",
       "    </tr>\n",
       "    <tr>\n",
       "      <th>14</th>\n",
       "      <td>Massachusetts</td>\n",
       "      <td>11</td>\n",
       "      <td>MA</td>\n",
       "      <td>2292350.0</td>\n",
       "      <td>1116739.0</td>\n",
       "      <td>79052.0</td>\n",
       "      <td>3488141.0</td>\n",
       "      <td>0.657184</td>\n",
       "      <td>0.320153</td>\n",
       "      <td>dem</td>\n",
       "      <td>33.703081</td>\n",
       "      <td>Safe Democrat</td>\n",
       "    </tr>\n",
       "    <tr>\n",
       "      <th>15</th>\n",
       "      <td>Indiana</td>\n",
       "      <td>11</td>\n",
       "      <td>IN</td>\n",
       "      <td>1240457.0</td>\n",
       "      <td>1722083.0</td>\n",
       "      <td>60626.0</td>\n",
       "      <td>3023166.0</td>\n",
       "      <td>0.410317</td>\n",
       "      <td>0.569629</td>\n",
       "      <td>gop</td>\n",
       "      <td>-15.931179</td>\n",
       "      <td>Safe Republican</td>\n",
       "    </tr>\n",
       "    <tr>\n",
       "      <th>16</th>\n",
       "      <td>Arizona</td>\n",
       "      <td>11</td>\n",
       "      <td>AZ</td>\n",
       "      <td>1672143.0</td>\n",
       "      <td>1661686.0</td>\n",
       "      <td>53497.0</td>\n",
       "      <td>3387326.0</td>\n",
       "      <td>0.493647</td>\n",
       "      <td>0.490560</td>\n",
       "      <td>dem</td>\n",
       "      <td>0.308710</td>\n",
       "      <td>Toss-Up</td>\n",
       "    </tr>\n",
       "    <tr>\n",
       "      <th>17</th>\n",
       "      <td>Wisconsin</td>\n",
       "      <td>10</td>\n",
       "      <td>WI</td>\n",
       "      <td>1635436.0</td>\n",
       "      <td>1611282.0</td>\n",
       "      <td>57433.0</td>\n",
       "      <td>3304151.0</td>\n",
       "      <td>0.494964</td>\n",
       "      <td>0.487654</td>\n",
       "      <td>dem</td>\n",
       "      <td>0.731020</td>\n",
       "      <td>Toss-Up</td>\n",
       "    </tr>\n",
       "    <tr>\n",
       "      <th>18</th>\n",
       "      <td>Missouri</td>\n",
       "      <td>10</td>\n",
       "      <td>MO</td>\n",
       "      <td>1250912.0</td>\n",
       "      <td>1716246.0</td>\n",
       "      <td>54129.0</td>\n",
       "      <td>3021287.0</td>\n",
       "      <td>0.414033</td>\n",
       "      <td>0.568051</td>\n",
       "      <td>gop</td>\n",
       "      <td>-15.401847</td>\n",
       "      <td>Safe Republican</td>\n",
       "    </tr>\n",
       "    <tr>\n",
       "      <th>19</th>\n",
       "      <td>Minnesota</td>\n",
       "      <td>10</td>\n",
       "      <td>MN</td>\n",
       "      <td>1721387.0</td>\n",
       "      <td>1483503.0</td>\n",
       "      <td>76015.0</td>\n",
       "      <td>3280905.0</td>\n",
       "      <td>0.524668</td>\n",
       "      <td>0.452163</td>\n",
       "      <td>dem</td>\n",
       "      <td>7.250560</td>\n",
       "      <td>Likely Democrat</td>\n",
       "    </tr>\n",
       "    <tr>\n",
       "      <th>20</th>\n",
       "      <td>Maryland</td>\n",
       "      <td>10</td>\n",
       "      <td>MD</td>\n",
       "      <td>2067859.0</td>\n",
       "      <td>1010839.0</td>\n",
       "      <td>78016.0</td>\n",
       "      <td>3156714.0</td>\n",
       "      <td>0.655067</td>\n",
       "      <td>0.320219</td>\n",
       "      <td>dem</td>\n",
       "      <td>33.484820</td>\n",
       "      <td>Safe Democrat</td>\n",
       "    </tr>\n",
       "    <tr>\n",
       "      <th>21</th>\n",
       "      <td>South Carolina</td>\n",
       "      <td>9</td>\n",
       "      <td>SC</td>\n",
       "      <td>1087757.0</td>\n",
       "      <td>1377940.0</td>\n",
       "      <td>36604.0</td>\n",
       "      <td>2502301.0</td>\n",
       "      <td>0.434703</td>\n",
       "      <td>0.550669</td>\n",
       "      <td>gop</td>\n",
       "      <td>-11.596646</td>\n",
       "      <td>Safe Republican</td>\n",
       "    </tr>\n",
       "    <tr>\n",
       "      <th>22</th>\n",
       "      <td>Colorado</td>\n",
       "      <td>9</td>\n",
       "      <td>CO</td>\n",
       "      <td>1804352.0</td>\n",
       "      <td>1364607.0</td>\n",
       "      <td>87994.0</td>\n",
       "      <td>3256953.0</td>\n",
       "      <td>0.554000</td>\n",
       "      <td>0.418983</td>\n",
       "      <td>dem</td>\n",
       "      <td>13.501730</td>\n",
       "      <td>Safe Democrat</td>\n",
       "    </tr>\n",
       "    <tr>\n",
       "      <th>23</th>\n",
       "      <td>Alabama</td>\n",
       "      <td>9</td>\n",
       "      <td>AL</td>\n",
       "      <td>849648.0</td>\n",
       "      <td>1441168.0</td>\n",
       "      <td>32488.0</td>\n",
       "      <td>2323304.0</td>\n",
       "      <td>0.365707</td>\n",
       "      <td>0.620310</td>\n",
       "      <td>gop</td>\n",
       "      <td>-25.460293</td>\n",
       "      <td>Safe Republican</td>\n",
       "    </tr>\n",
       "    <tr>\n",
       "      <th>24</th>\n",
       "      <td>Louisiana</td>\n",
       "      <td>8</td>\n",
       "      <td>LA</td>\n",
       "      <td>878208.0</td>\n",
       "      <td>1262448.0</td>\n",
       "      <td>37688.0</td>\n",
       "      <td>2178344.0</td>\n",
       "      <td>0.403154</td>\n",
       "      <td>0.579545</td>\n",
       "      <td>gop</td>\n",
       "      <td>-17.639087</td>\n",
       "      <td>Safe Republican</td>\n",
       "    </tr>\n",
       "    <tr>\n",
       "      <th>25</th>\n",
       "      <td>Kentucky</td>\n",
       "      <td>8</td>\n",
       "      <td>KY</td>\n",
       "      <td>776525.0</td>\n",
       "      <td>1341966.0</td>\n",
       "      <td>37934.0</td>\n",
       "      <td>2156425.0</td>\n",
       "      <td>0.360098</td>\n",
       "      <td>0.622311</td>\n",
       "      <td>gop</td>\n",
       "      <td>-26.221223</td>\n",
       "      <td>Safe Republican</td>\n",
       "    </tr>\n",
       "    <tr>\n",
       "      <th>26</th>\n",
       "      <td>Oregon</td>\n",
       "      <td>7</td>\n",
       "      <td>OR</td>\n",
       "      <td>1356244.0</td>\n",
       "      <td>988619.0</td>\n",
       "      <td>76240.0</td>\n",
       "      <td>2421103.0</td>\n",
       "      <td>0.560176</td>\n",
       "      <td>0.408334</td>\n",
       "      <td>dem</td>\n",
       "      <td>15.184195</td>\n",
       "      <td>Safe Democrat</td>\n",
       "    </tr>\n",
       "    <tr>\n",
       "      <th>27</th>\n",
       "      <td>Oklahoma</td>\n",
       "      <td>7</td>\n",
       "      <td>OK</td>\n",
       "      <td>504849.0</td>\n",
       "      <td>1022047.0</td>\n",
       "      <td>36627.0</td>\n",
       "      <td>1563523.0</td>\n",
       "      <td>0.322892</td>\n",
       "      <td>0.653682</td>\n",
       "      <td>gop</td>\n",
       "      <td>-33.079015</td>\n",
       "      <td>Safe Republican</td>\n",
       "    </tr>\n",
       "    <tr>\n",
       "      <th>28</th>\n",
       "      <td>Connecticut</td>\n",
       "      <td>7</td>\n",
       "      <td>CT</td>\n",
       "      <td>1125232.0</td>\n",
       "      <td>756300.0</td>\n",
       "      <td>29773.0</td>\n",
       "      <td>1911305.0</td>\n",
       "      <td>0.588724</td>\n",
       "      <td>0.395698</td>\n",
       "      <td>dem</td>\n",
       "      <td>19.302623</td>\n",
       "      <td>Safe Democrat</td>\n",
       "    </tr>\n",
       "    <tr>\n",
       "      <th>29</th>\n",
       "      <td>Utah</td>\n",
       "      <td>6</td>\n",
       "      <td>UT</td>\n",
       "      <td>574892.0</td>\n",
       "      <td>868737.0</td>\n",
       "      <td>63582.0</td>\n",
       "      <td>1507211.0</td>\n",
       "      <td>0.381428</td>\n",
       "      <td>0.576387</td>\n",
       "      <td>gop</td>\n",
       "      <td>-19.495943</td>\n",
       "      <td>Safe Republican</td>\n",
       "    </tr>\n",
       "    <tr>\n",
       "      <th>30</th>\n",
       "      <td>Nevada</td>\n",
       "      <td>6</td>\n",
       "      <td>NV</td>\n",
       "      <td>717329.0</td>\n",
       "      <td>681417.0</td>\n",
       "      <td>32193.0</td>\n",
       "      <td>1430939.0</td>\n",
       "      <td>0.501299</td>\n",
       "      <td>0.476203</td>\n",
       "      <td>dem</td>\n",
       "      <td>2.509681</td>\n",
       "      <td>Likely Democrat</td>\n",
       "    </tr>\n",
       "    <tr>\n",
       "      <th>31</th>\n",
       "      <td>Mississippi</td>\n",
       "      <td>6</td>\n",
       "      <td>MS</td>\n",
       "      <td>535191.0</td>\n",
       "      <td>757481.0</td>\n",
       "      <td>19083.0</td>\n",
       "      <td>1311755.0</td>\n",
       "      <td>0.407996</td>\n",
       "      <td>0.577456</td>\n",
       "      <td>gop</td>\n",
       "      <td>-16.946000</td>\n",
       "      <td>Safe Republican</td>\n",
       "    </tr>\n",
       "    <tr>\n",
       "      <th>32</th>\n",
       "      <td>Kansas</td>\n",
       "      <td>6</td>\n",
       "      <td>KS</td>\n",
       "      <td>558502.0</td>\n",
       "      <td>761221.0</td>\n",
       "      <td>32770.0</td>\n",
       "      <td>1352493.0</td>\n",
       "      <td>0.412943</td>\n",
       "      <td>0.562828</td>\n",
       "      <td>gop</td>\n",
       "      <td>-14.988543</td>\n",
       "      <td>Safe Republican</td>\n",
       "    </tr>\n",
       "    <tr>\n",
       "      <th>33</th>\n",
       "      <td>Iowa</td>\n",
       "      <td>6</td>\n",
       "      <td>IA</td>\n",
       "      <td>759422.0</td>\n",
       "      <td>898910.0</td>\n",
       "      <td>34204.0</td>\n",
       "      <td>1692536.0</td>\n",
       "      <td>0.448689</td>\n",
       "      <td>0.531102</td>\n",
       "      <td>gop</td>\n",
       "      <td>-8.241361</td>\n",
       "      <td>Likely Republican</td>\n",
       "    </tr>\n",
       "    <tr>\n",
       "      <th>34</th>\n",
       "      <td>Arkansas</td>\n",
       "      <td>6</td>\n",
       "      <td>AR</td>\n",
       "      <td>423932.0</td>\n",
       "      <td>760647.0</td>\n",
       "      <td>34490.0</td>\n",
       "      <td>1219069.0</td>\n",
       "      <td>0.347751</td>\n",
       "      <td>0.623957</td>\n",
       "      <td>gop</td>\n",
       "      <td>-27.620668</td>\n",
       "      <td>Safe Republican</td>\n",
       "    </tr>\n",
       "    <tr>\n",
       "      <th>35</th>\n",
       "      <td>West Virginia</td>\n",
       "      <td>5</td>\n",
       "      <td>WV</td>\n",
       "      <td>238856.0</td>\n",
       "      <td>547628.0</td>\n",
       "      <td>13309.0</td>\n",
       "      <td>799793.0</td>\n",
       "      <td>0.298647</td>\n",
       "      <td>0.684712</td>\n",
       "      <td>gop</td>\n",
       "      <td>-38.606489</td>\n",
       "      <td>Safe Republican</td>\n",
       "    </tr>\n",
       "    <tr>\n",
       "      <th>36</th>\n",
       "      <td>New Mexico</td>\n",
       "      <td>5</td>\n",
       "      <td>NM</td>\n",
       "      <td>407331.0</td>\n",
       "      <td>336840.0</td>\n",
       "      <td>16305.0</td>\n",
       "      <td>760476.0</td>\n",
       "      <td>0.535626</td>\n",
       "      <td>0.442933</td>\n",
       "      <td>dem</td>\n",
       "      <td>9.269326</td>\n",
       "      <td>Likely Democrat</td>\n",
       "    </tr>\n",
       "    <tr>\n",
       "      <th>37</th>\n",
       "      <td>Nebraska</td>\n",
       "      <td>5</td>\n",
       "      <td>NE</td>\n",
       "      <td>373421.0</td>\n",
       "      <td>556133.0</td>\n",
       "      <td>25062.0</td>\n",
       "      <td>954616.0</td>\n",
       "      <td>0.391174</td>\n",
       "      <td>0.582572</td>\n",
       "      <td>gop</td>\n",
       "      <td>-19.139843</td>\n",
       "      <td>Safe Republican</td>\n",
       "    </tr>\n",
       "    <tr>\n",
       "      <th>38</th>\n",
       "      <td>Rhode Island</td>\n",
       "      <td>4</td>\n",
       "      <td>RI</td>\n",
       "      <td>292261.0</td>\n",
       "      <td>198307.0</td>\n",
       "      <td>9833.0</td>\n",
       "      <td>500401.0</td>\n",
       "      <td>0.584054</td>\n",
       "      <td>0.396296</td>\n",
       "      <td>dem</td>\n",
       "      <td>18.775742</td>\n",
       "      <td>Safe Democrat</td>\n",
       "    </tr>\n",
       "    <tr>\n",
       "      <th>39</th>\n",
       "      <td>New Hampshire</td>\n",
       "      <td>4</td>\n",
       "      <td>NH</td>\n",
       "      <td>481835.0</td>\n",
       "      <td>409193.0</td>\n",
       "      <td>15390.0</td>\n",
       "      <td>906418.0</td>\n",
       "      <td>0.531581</td>\n",
       "      <td>0.451440</td>\n",
       "      <td>dem</td>\n",
       "      <td>8.014183</td>\n",
       "      <td>Likely Democrat</td>\n",
       "    </tr>\n",
       "    <tr>\n",
       "      <th>40</th>\n",
       "      <td>Maine</td>\n",
       "      <td>4</td>\n",
       "      <td>ME</td>\n",
       "      <td>412014.0</td>\n",
       "      <td>351517.0</td>\n",
       "      <td>22143.0</td>\n",
       "      <td>785674.0</td>\n",
       "      <td>0.524408</td>\n",
       "      <td>0.447408</td>\n",
       "      <td>dem</td>\n",
       "      <td>7.700013</td>\n",
       "      <td>Likely Democrat</td>\n",
       "    </tr>\n",
       "    <tr>\n",
       "      <th>41</th>\n",
       "      <td>Idaho</td>\n",
       "      <td>4</td>\n",
       "      <td>ID</td>\n",
       "      <td>175115.0</td>\n",
       "      <td>447639.0</td>\n",
       "      <td>19489.0</td>\n",
       "      <td>642243.0</td>\n",
       "      <td>0.272662</td>\n",
       "      <td>0.696993</td>\n",
       "      <td>gop</td>\n",
       "      <td>-42.433160</td>\n",
       "      <td>Safe Republican</td>\n",
       "    </tr>\n",
       "    <tr>\n",
       "      <th>42</th>\n",
       "      <td>Hawaii</td>\n",
       "      <td>4</td>\n",
       "      <td>HI</td>\n",
       "      <td>427938.0</td>\n",
       "      <td>300666.0</td>\n",
       "      <td>17440.0</td>\n",
       "      <td>746044.0</td>\n",
       "      <td>0.573610</td>\n",
       "      <td>0.403014</td>\n",
       "      <td>dem</td>\n",
       "      <td>17.059584</td>\n",
       "      <td>Safe Democrat</td>\n",
       "    </tr>\n",
       "    <tr>\n",
       "      <th>43</th>\n",
       "      <td>Wyoming</td>\n",
       "      <td>3</td>\n",
       "      <td>WY</td>\n",
       "      <td>64399.0</td>\n",
       "      <td>184980.0</td>\n",
       "      <td>8769.0</td>\n",
       "      <td>258148.0</td>\n",
       "      <td>0.249465</td>\n",
       "      <td>0.716566</td>\n",
       "      <td>gop</td>\n",
       "      <td>-46.710027</td>\n",
       "      <td>Safe Republican</td>\n",
       "    </tr>\n",
       "    <tr>\n",
       "      <th>44</th>\n",
       "      <td>Vermont</td>\n",
       "      <td>3</td>\n",
       "      <td>VT</td>\n",
       "      <td>235431.0</td>\n",
       "      <td>115584.0</td>\n",
       "      <td>11353.0</td>\n",
       "      <td>362368.0</td>\n",
       "      <td>0.649701</td>\n",
       "      <td>0.318969</td>\n",
       "      <td>dem</td>\n",
       "      <td>33.073285</td>\n",
       "      <td>Safe Democrat</td>\n",
       "    </tr>\n",
       "    <tr>\n",
       "      <th>45</th>\n",
       "      <td>South Dakota</td>\n",
       "      <td>3</td>\n",
       "      <td>SD</td>\n",
       "      <td>161895.0</td>\n",
       "      <td>283175.0</td>\n",
       "      <td>11704.0</td>\n",
       "      <td>456774.0</td>\n",
       "      <td>0.354431</td>\n",
       "      <td>0.619946</td>\n",
       "      <td>gop</td>\n",
       "      <td>-26.551424</td>\n",
       "      <td>Safe Republican</td>\n",
       "    </tr>\n",
       "    <tr>\n",
       "      <th>46</th>\n",
       "      <td>North Dakota</td>\n",
       "      <td>3</td>\n",
       "      <td>ND</td>\n",
       "      <td>116800.0</td>\n",
       "      <td>244484.0</td>\n",
       "      <td>11411.0</td>\n",
       "      <td>372695.0</td>\n",
       "      <td>0.313393</td>\n",
       "      <td>0.655989</td>\n",
       "      <td>gop</td>\n",
       "      <td>-34.259649</td>\n",
       "      <td>Safe Republican</td>\n",
       "    </tr>\n",
       "    <tr>\n",
       "      <th>47</th>\n",
       "      <td>Montana</td>\n",
       "      <td>3</td>\n",
       "      <td>MT</td>\n",
       "      <td>247391.0</td>\n",
       "      <td>349764.0</td>\n",
       "      <td>17587.0</td>\n",
       "      <td>614742.0</td>\n",
       "      <td>0.402431</td>\n",
       "      <td>0.568961</td>\n",
       "      <td>gop</td>\n",
       "      <td>-16.653002</td>\n",
       "      <td>Safe Republican</td>\n",
       "    </tr>\n",
       "    <tr>\n",
       "      <th>48</th>\n",
       "      <td>Delaware</td>\n",
       "      <td>3</td>\n",
       "      <td>DE</td>\n",
       "      <td>569039.0</td>\n",
       "      <td>178180.0</td>\n",
       "      <td>14122.0</td>\n",
       "      <td>761341.0</td>\n",
       "      <td>0.747417</td>\n",
       "      <td>0.234034</td>\n",
       "      <td>dem</td>\n",
       "      <td>51.338231</td>\n",
       "      <td>Safe Democrat</td>\n",
       "    </tr>\n",
       "    <tr>\n",
       "      <th>49</th>\n",
       "      <td>District of Columbia</td>\n",
       "      <td>3</td>\n",
       "      <td>DC</td>\n",
       "      <td>89704.0</td>\n",
       "      <td>50972.0</td>\n",
       "      <td>1928.0</td>\n",
       "      <td>142604.0</td>\n",
       "      <td>0.629043</td>\n",
       "      <td>0.357437</td>\n",
       "      <td>dem</td>\n",
       "      <td>27.160528</td>\n",
       "      <td>Safe Democrat</td>\n",
       "    </tr>\n",
       "  </tbody>\n",
       "</table>\n",
       "</div>"
      ],
      "text/plain": [
       "                   state  electoral_votes_number state_code   Votes_dem  \\\n",
       "0             California                      55         CA  11109764.0   \n",
       "1                  Texas                      38         TX   5255528.0   \n",
       "2               New York                      29         NY   5183357.0   \n",
       "3                Florida                      29         FL   5209125.0   \n",
       "4           Pennsylvania                      20         PA   3459766.0   \n",
       "5               Illinois                      20         IL   3466518.0   \n",
       "6                   Ohio                      18         OH   2678396.0   \n",
       "7               Michigan                      16         MI   2805505.0   \n",
       "8                Georgia                      16         GA   2530580.0   \n",
       "9         North Carolina                      15         NC   2645725.0   \n",
       "10            New Jersey                      14         NJ   2728284.0   \n",
       "11              Virginia                      13         VA   2407804.0   \n",
       "12            Washington                      12         WA   2369255.0   \n",
       "13             Tennessee                      11         TN   1135925.0   \n",
       "14         Massachusetts                      11         MA   2292350.0   \n",
       "15               Indiana                      11         IN   1240457.0   \n",
       "16               Arizona                      11         AZ   1672143.0   \n",
       "17             Wisconsin                      10         WI   1635436.0   \n",
       "18              Missouri                      10         MO   1250912.0   \n",
       "19             Minnesota                      10         MN   1721387.0   \n",
       "20              Maryland                      10         MD   2067859.0   \n",
       "21        South Carolina                       9         SC   1087757.0   \n",
       "22              Colorado                       9         CO   1804352.0   \n",
       "23               Alabama                       9         AL    849648.0   \n",
       "24             Louisiana                       8         LA    878208.0   \n",
       "25              Kentucky                       8         KY    776525.0   \n",
       "26                Oregon                       7         OR   1356244.0   \n",
       "27              Oklahoma                       7         OK    504849.0   \n",
       "28           Connecticut                       7         CT   1125232.0   \n",
       "29                  Utah                       6         UT    574892.0   \n",
       "30                Nevada                       6         NV    717329.0   \n",
       "31           Mississippi                       6         MS    535191.0   \n",
       "32                Kansas                       6         KS    558502.0   \n",
       "33                  Iowa                       6         IA    759422.0   \n",
       "34              Arkansas                       6         AR    423932.0   \n",
       "35         West Virginia                       5         WV    238856.0   \n",
       "36            New Mexico                       5         NM    407331.0   \n",
       "37              Nebraska                       5         NE    373421.0   \n",
       "38          Rhode Island                       4         RI    292261.0   \n",
       "39         New Hampshire                       4         NH    481835.0   \n",
       "40                 Maine                       4         ME    412014.0   \n",
       "41                 Idaho                       4         ID    175115.0   \n",
       "42                Hawaii                       4         HI    427938.0   \n",
       "43               Wyoming                       3         WY     64399.0   \n",
       "44               Vermont                       3         VT    235431.0   \n",
       "45          South Dakota                       3         SD    161895.0   \n",
       "46          North Dakota                       3         ND    116800.0   \n",
       "47               Montana                       3         MT    247391.0   \n",
       "48              Delaware                       3         DE    569039.0   \n",
       "49  District of Columbia                       3         DC     89704.0   \n",
       "\n",
       "    Votes_gop  Votes_other  Votes_total  Per_dem_2020  Per_gop_2020 Winner  \\\n",
       "0   6005961.0     380181.0   17495906.0      0.634992      0.343278    dem   \n",
       "1   5877932.0     168324.0   11301784.0      0.465018      0.520089    gop   \n",
       "2   3245205.0     119633.0    8548195.0      0.606369      0.379636    dem   \n",
       "3   5624329.0      99788.0   10933242.0      0.476448      0.514425    gop   \n",
       "4   3350485.0      86705.0    6896956.0      0.501637      0.485792    dem   \n",
       "5   2433357.0     119657.0    6019532.0      0.575878      0.404244    dem   \n",
       "6   3150549.0      88220.0    5917165.0      0.452649      0.532442    gop   \n",
       "7   2651262.0      85496.0    5542263.0      0.506202      0.478372    dem   \n",
       "8   2482181.0      64379.0    5077140.0      0.498426      0.488894    dem   \n",
       "9   2713698.0      80556.0    5439979.0      0.486348      0.498843    gop   \n",
       "10  1934971.0      78128.0    4741383.0      0.575419      0.408103    dem   \n",
       "11  1957165.0      84455.0    4449424.0      0.541150      0.439869    dem   \n",
       "12  1585860.0     133331.0    4088446.0      0.579500      0.387888    dem   \n",
       "13  1844401.0      57182.0    3037508.0      0.373966      0.607209    gop   \n",
       "14  1116739.0      79052.0    3488141.0      0.657184      0.320153    dem   \n",
       "15  1722083.0      60626.0    3023166.0      0.410317      0.569629    gop   \n",
       "16  1661686.0      53497.0    3387326.0      0.493647      0.490560    dem   \n",
       "17  1611282.0      57433.0    3304151.0      0.494964      0.487654    dem   \n",
       "18  1716246.0      54129.0    3021287.0      0.414033      0.568051    gop   \n",
       "19  1483503.0      76015.0    3280905.0      0.524668      0.452163    dem   \n",
       "20  1010839.0      78016.0    3156714.0      0.655067      0.320219    dem   \n",
       "21  1377940.0      36604.0    2502301.0      0.434703      0.550669    gop   \n",
       "22  1364607.0      87994.0    3256953.0      0.554000      0.418983    dem   \n",
       "23  1441168.0      32488.0    2323304.0      0.365707      0.620310    gop   \n",
       "24  1262448.0      37688.0    2178344.0      0.403154      0.579545    gop   \n",
       "25  1341966.0      37934.0    2156425.0      0.360098      0.622311    gop   \n",
       "26   988619.0      76240.0    2421103.0      0.560176      0.408334    dem   \n",
       "27  1022047.0      36627.0    1563523.0      0.322892      0.653682    gop   \n",
       "28   756300.0      29773.0    1911305.0      0.588724      0.395698    dem   \n",
       "29   868737.0      63582.0    1507211.0      0.381428      0.576387    gop   \n",
       "30   681417.0      32193.0    1430939.0      0.501299      0.476203    dem   \n",
       "31   757481.0      19083.0    1311755.0      0.407996      0.577456    gop   \n",
       "32   761221.0      32770.0    1352493.0      0.412943      0.562828    gop   \n",
       "33   898910.0      34204.0    1692536.0      0.448689      0.531102    gop   \n",
       "34   760647.0      34490.0    1219069.0      0.347751      0.623957    gop   \n",
       "35   547628.0      13309.0     799793.0      0.298647      0.684712    gop   \n",
       "36   336840.0      16305.0     760476.0      0.535626      0.442933    dem   \n",
       "37   556133.0      25062.0     954616.0      0.391174      0.582572    gop   \n",
       "38   198307.0       9833.0     500401.0      0.584054      0.396296    dem   \n",
       "39   409193.0      15390.0     906418.0      0.531581      0.451440    dem   \n",
       "40   351517.0      22143.0     785674.0      0.524408      0.447408    dem   \n",
       "41   447639.0      19489.0     642243.0      0.272662      0.696993    gop   \n",
       "42   300666.0      17440.0     746044.0      0.573610      0.403014    dem   \n",
       "43   184980.0       8769.0     258148.0      0.249465      0.716566    gop   \n",
       "44   115584.0      11353.0     362368.0      0.649701      0.318969    dem   \n",
       "45   283175.0      11704.0     456774.0      0.354431      0.619946    gop   \n",
       "46   244484.0      11411.0     372695.0      0.313393      0.655989    gop   \n",
       "47   349764.0      17587.0     614742.0      0.402431      0.568961    gop   \n",
       "48   178180.0      14122.0     761341.0      0.747417      0.234034    dem   \n",
       "49    50972.0       1928.0     142604.0      0.629043      0.357437    dem   \n",
       "\n",
       "    Difference             Status  \n",
       "0    29.171413      Safe Democrat  \n",
       "1    -5.507131  Likely Republican  \n",
       "2    22.673231      Safe Democrat  \n",
       "3    -3.797629  Likely Republican  \n",
       "4     1.584482            Toss-Up  \n",
       "5    17.163477      Safe Democrat  \n",
       "6    -7.979379  Likely Republican  \n",
       "7     2.783033    Likely Democrat  \n",
       "8     0.953273            Toss-Up  \n",
       "9    -1.249508            Toss-Up  \n",
       "10   16.731679      Safe Democrat  \n",
       "11   10.128030      Safe Democrat  \n",
       "12   19.161192      Safe Democrat  \n",
       "13  -23.324251    Safe Republican  \n",
       "14   33.703081      Safe Democrat  \n",
       "15  -15.931179    Safe Republican  \n",
       "16    0.308710            Toss-Up  \n",
       "17    0.731020            Toss-Up  \n",
       "18  -15.401847    Safe Republican  \n",
       "19    7.250560    Likely Democrat  \n",
       "20   33.484820      Safe Democrat  \n",
       "21  -11.596646    Safe Republican  \n",
       "22   13.501730      Safe Democrat  \n",
       "23  -25.460293    Safe Republican  \n",
       "24  -17.639087    Safe Republican  \n",
       "25  -26.221223    Safe Republican  \n",
       "26   15.184195      Safe Democrat  \n",
       "27  -33.079015    Safe Republican  \n",
       "28   19.302623      Safe Democrat  \n",
       "29  -19.495943    Safe Republican  \n",
       "30    2.509681    Likely Democrat  \n",
       "31  -16.946000    Safe Republican  \n",
       "32  -14.988543    Safe Republican  \n",
       "33   -8.241361  Likely Republican  \n",
       "34  -27.620668    Safe Republican  \n",
       "35  -38.606489    Safe Republican  \n",
       "36    9.269326    Likely Democrat  \n",
       "37  -19.139843    Safe Republican  \n",
       "38   18.775742      Safe Democrat  \n",
       "39    8.014183    Likely Democrat  \n",
       "40    7.700013    Likely Democrat  \n",
       "41  -42.433160    Safe Republican  \n",
       "42   17.059584      Safe Democrat  \n",
       "43  -46.710027    Safe Republican  \n",
       "44   33.073285      Safe Democrat  \n",
       "45  -26.551424    Safe Republican  \n",
       "46  -34.259649    Safe Republican  \n",
       "47  -16.653002    Safe Republican  \n",
       "48   51.338231      Safe Democrat  \n",
       "49   27.160528      Safe Democrat  "
      ]
     },
     "execution_count": 195,
     "metadata": {},
     "output_type": "execute_result"
    }
   ],
   "source": [
    "# Cargar datos electorales reales\n",
    "df_actual = pd.DataFrame({'Votes_dem': data_2020['votes_dem'], \n",
    "                            'Votes_gop': data_2020['total_votes'] - data_2020['votes_dem'] - data_2020['votes_others'], \n",
    "                            'Votes_other': data_2020['votes_others'],\n",
    "                            'Votes_total': data_2020['total_votes'], \n",
    "                            'state': state_names,\n",
    "                            'county': county_names,\n",
    "                            'fips': fips_codes})\n",
    "df_actual_state = df_actual.groupby('state').agg(Votes_dem=(f'Votes_dem', 'sum'), \n",
    "                                                    Votes_gop=(f'Votes_gop', 'sum'),\n",
    "                                                    Votes_other=(f'Votes_other', 'sum'),\n",
    "                                                    Votes_total=(f'Votes_total', 'sum'))\n",
    "\n",
    "df_actual_state[\"Per_dem_2020\"] = df_actual_state[\"Votes_dem\"] / df_actual_state[\"Votes_total\"]\n",
    "df_actual_state[\"Per_gop_2020\"] = df_actual_state[\"Votes_gop\"] / df_actual_state[\"Votes_total\"]\n",
    "\n",
    "# Añadir la columna \"Winner\" basado en los porcentajes predichos de Biden y Trump\n",
    "df_actual_state[\"Winner\"] = np.where(df_actual_state[\"Per_dem_2020\"] < df_actual_state[\"Per_gop_2020\"], 'gop', 'dem')\n",
    "\n",
    "\n",
    "full_df_actual_state = pd.merge(seats_data, df_actual_state, how='inner', on=[\"state\"])\n",
    "\n",
    "\n",
    "\n",
    "# Añadir diferencia entre Biden y Trump\n",
    "full_df_actual_state['Difference'] = (full_df_actual_state[\"Per_dem_2020\"] - full_df_actual_state[\"Per_gop_2020\"]) * 100\n",
    "\n",
    "\n",
    "# Definir las condiciones y los valores a asignar\n",
    "conditions = [\n",
    "    full_df_actual_state[\"Difference\"] > 10,\n",
    "    full_df_actual_state[\"Difference\"].between(2.5, 10),\n",
    "    full_df_actual_state[\"Difference\"].between(-2.5, 2.5),\n",
    "    full_df_actual_state[\"Difference\"].between(-10, -2.5),\n",
    "    full_df_actual_state[\"Difference\"] < -10\n",
    "]\n",
    "\n",
    "choices = [\n",
    "    \"Safe Democrat\",\n",
    "    \"Likely Democrat\",\n",
    "    \"Toss-Up\",\n",
    "    \"Likely Republican\",\n",
    "    \"Safe Republican\"\n",
    "]\n",
    "\n",
    "# Usar np.select para asignar el \"Status\" basado en las condiciones, con un valor por defecto \"Unknown\"\n",
    "full_df_actual_state[\"Status\"] = np.select(conditions, choices, default=\"Unknown\")\n",
    "\n",
    "full_df_actual_state_2020 = full_df_actual_state.copy()\n",
    "full_df_actual_state_2020"
   ]
  },
  {
   "cell_type": "code",
   "execution_count": 196,
   "metadata": {},
   "outputs": [],
   "source": [
    "# columns_to_drop = ['Total_2020', 'Other_2020', 'Winner_2020', \"Biden_2020\"]  # Nombres de las columnas a eliminar\n",
    "columns_to_drop = [\"votes_dem\", \"total_votes\", \"votes_others\", \"per_votes_others\", \"winner\"]  # Nombres de las columnas a eliminar\n",
    "\n",
    "data_2020 = data_2020.drop(columns=columns_to_drop)"
   ]
  },
  {
   "cell_type": "markdown",
   "metadata": {},
   "source": [
    "### Historical data"
   ]
  },
  {
   "cell_type": "code",
   "execution_count": 197,
   "metadata": {},
   "outputs": [
    {
     "name": "stdout",
     "output_type": "stream",
     "text": [
      "2016 Columns: Index(['state', 'electoral_votes_number', 'state_code', 'Votes_dem',\n",
      "       'Votes_gop', 'Votes_other', 'Votes_total', 'Per_dem_2016',\n",
      "       'Per_gop_2016', 'Winner', 'Difference', 'Status'],\n",
      "      dtype='object')\n",
      "2020 Columns: Index(['state', 'electoral_votes_number', 'state_code', 'Votes_dem',\n",
      "       'Votes_gop', 'Votes_other', 'Votes_total', 'Per_dem_2020',\n",
      "       'Per_gop_2020', 'Winner', 'Difference', 'Status'],\n",
      "      dtype='object')\n"
     ]
    }
   ],
   "source": [
    "# Revisar nombres de columnas\n",
    "print(\"2016 Columns:\", full_df_actual_state_2016.columns)\n",
    "print(\"2020 Columns:\", full_df_actual_state_2020.columns)"
   ]
  },
  {
   "cell_type": "code",
   "execution_count": 198,
   "metadata": {},
   "outputs": [
    {
     "data": {
      "text/html": [
       "<div>\n",
       "<style scoped>\n",
       "    .dataframe tbody tr th:only-of-type {\n",
       "        vertical-align: middle;\n",
       "    }\n",
       "\n",
       "    .dataframe tbody tr th {\n",
       "        vertical-align: top;\n",
       "    }\n",
       "\n",
       "    .dataframe thead th {\n",
       "        text-align: right;\n",
       "    }\n",
       "</style>\n",
       "<table border=\"1\" class=\"dataframe\">\n",
       "  <thead>\n",
       "    <tr style=\"text-align: right;\">\n",
       "      <th></th>\n",
       "      <th>state</th>\n",
       "      <th>per_dem_2016</th>\n",
       "      <th>per_gop_2016</th>\n",
       "      <th>per_dem_2020</th>\n",
       "      <th>per_gop_2020</th>\n",
       "      <th>swing_dem</th>\n",
       "      <th>swing_gop</th>\n",
       "    </tr>\n",
       "  </thead>\n",
       "  <tbody>\n",
       "    <tr>\n",
       "      <th>0</th>\n",
       "      <td>California</td>\n",
       "      <td>0.615885</td>\n",
       "      <td>0.327598</td>\n",
       "      <td>0.634992</td>\n",
       "      <td>0.343278</td>\n",
       "      <td>0.019107</td>\n",
       "      <td>0.015680</td>\n",
       "    </tr>\n",
       "    <tr>\n",
       "      <th>1</th>\n",
       "      <td>Texas</td>\n",
       "      <td>0.433735</td>\n",
       "      <td>0.524651</td>\n",
       "      <td>0.465018</td>\n",
       "      <td>0.520089</td>\n",
       "      <td>0.031282</td>\n",
       "      <td>-0.004563</td>\n",
       "    </tr>\n",
       "    <tr>\n",
       "      <th>2</th>\n",
       "      <td>New York</td>\n",
       "      <td>0.586157</td>\n",
       "      <td>0.377172</td>\n",
       "      <td>0.606369</td>\n",
       "      <td>0.379636</td>\n",
       "      <td>0.020212</td>\n",
       "      <td>0.002465</td>\n",
       "    </tr>\n",
       "    <tr>\n",
       "      <th>3</th>\n",
       "      <td>Florida</td>\n",
       "      <td>0.476133</td>\n",
       "      <td>0.492603</td>\n",
       "      <td>0.476448</td>\n",
       "      <td>0.514425</td>\n",
       "      <td>0.000316</td>\n",
       "      <td>0.021822</td>\n",
       "    </tr>\n",
       "    <tr>\n",
       "      <th>4</th>\n",
       "      <td>Pennsylvania</td>\n",
       "      <td>0.467987</td>\n",
       "      <td>0.496131</td>\n",
       "      <td>0.501637</td>\n",
       "      <td>0.485792</td>\n",
       "      <td>0.033650</td>\n",
       "      <td>-0.010339</td>\n",
       "    </tr>\n",
       "    <tr>\n",
       "      <th>5</th>\n",
       "      <td>Illinois</td>\n",
       "      <td>0.555063</td>\n",
       "      <td>0.393067</td>\n",
       "      <td>0.575878</td>\n",
       "      <td>0.404244</td>\n",
       "      <td>0.020815</td>\n",
       "      <td>0.011177</td>\n",
       "    </tr>\n",
       "    <tr>\n",
       "      <th>6</th>\n",
       "      <td>Ohio</td>\n",
       "      <td>0.436396</td>\n",
       "      <td>0.519164</td>\n",
       "      <td>0.452649</td>\n",
       "      <td>0.532442</td>\n",
       "      <td>0.016252</td>\n",
       "      <td>0.013278</td>\n",
       "    </tr>\n",
       "    <tr>\n",
       "      <th>7</th>\n",
       "      <td>Michigan</td>\n",
       "      <td>0.473432</td>\n",
       "      <td>0.475836</td>\n",
       "      <td>0.506202</td>\n",
       "      <td>0.478372</td>\n",
       "      <td>0.032770</td>\n",
       "      <td>0.002536</td>\n",
       "    </tr>\n",
       "    <tr>\n",
       "      <th>8</th>\n",
       "      <td>Georgia</td>\n",
       "      <td>0.459244</td>\n",
       "      <td>0.509032</td>\n",
       "      <td>0.498426</td>\n",
       "      <td>0.488894</td>\n",
       "      <td>0.039183</td>\n",
       "      <td>-0.020139</td>\n",
       "    </tr>\n",
       "    <tr>\n",
       "      <th>9</th>\n",
       "      <td>North Carolina</td>\n",
       "      <td>0.468461</td>\n",
       "      <td>0.503798</td>\n",
       "      <td>0.486348</td>\n",
       "      <td>0.498843</td>\n",
       "      <td>0.017887</td>\n",
       "      <td>-0.004954</td>\n",
       "    </tr>\n",
       "    <tr>\n",
       "      <th>10</th>\n",
       "      <td>New Jersey</td>\n",
       "      <td>0.549719</td>\n",
       "      <td>0.410676</td>\n",
       "      <td>0.575419</td>\n",
       "      <td>0.408103</td>\n",
       "      <td>0.025701</td>\n",
       "      <td>-0.002573</td>\n",
       "    </tr>\n",
       "    <tr>\n",
       "      <th>11</th>\n",
       "      <td>Virginia</td>\n",
       "      <td>0.493737</td>\n",
       "      <td>0.454215</td>\n",
       "      <td>0.541150</td>\n",
       "      <td>0.439869</td>\n",
       "      <td>0.047412</td>\n",
       "      <td>-0.014345</td>\n",
       "    </tr>\n",
       "    <tr>\n",
       "      <th>12</th>\n",
       "      <td>Washington</td>\n",
       "      <td>0.546850</td>\n",
       "      <td>0.379868</td>\n",
       "      <td>0.579500</td>\n",
       "      <td>0.387888</td>\n",
       "      <td>0.032650</td>\n",
       "      <td>0.008020</td>\n",
       "    </tr>\n",
       "    <tr>\n",
       "      <th>13</th>\n",
       "      <td>Tennessee</td>\n",
       "      <td>0.348074</td>\n",
       "      <td>0.611980</td>\n",
       "      <td>0.373966</td>\n",
       "      <td>0.607209</td>\n",
       "      <td>0.025892</td>\n",
       "      <td>-0.004771</td>\n",
       "    </tr>\n",
       "    <tr>\n",
       "      <th>14</th>\n",
       "      <td>Massachusetts</td>\n",
       "      <td>0.610255</td>\n",
       "      <td>0.332822</td>\n",
       "      <td>0.657184</td>\n",
       "      <td>0.320153</td>\n",
       "      <td>0.046929</td>\n",
       "      <td>-0.012669</td>\n",
       "    </tr>\n",
       "    <tr>\n",
       "      <th>15</th>\n",
       "      <td>Indiana</td>\n",
       "      <td>0.379791</td>\n",
       "      <td>0.571020</td>\n",
       "      <td>0.410317</td>\n",
       "      <td>0.569629</td>\n",
       "      <td>0.030526</td>\n",
       "      <td>-0.001391</td>\n",
       "    </tr>\n",
       "    <tr>\n",
       "      <th>16</th>\n",
       "      <td>Arizona</td>\n",
       "      <td>0.453871</td>\n",
       "      <td>0.495031</td>\n",
       "      <td>0.493647</td>\n",
       "      <td>0.490560</td>\n",
       "      <td>0.039776</td>\n",
       "      <td>-0.004471</td>\n",
       "    </tr>\n",
       "    <tr>\n",
       "      <th>17</th>\n",
       "      <td>Wisconsin</td>\n",
       "      <td>0.468520</td>\n",
       "      <td>0.478932</td>\n",
       "      <td>0.494964</td>\n",
       "      <td>0.487654</td>\n",
       "      <td>0.026444</td>\n",
       "      <td>0.008722</td>\n",
       "    </tr>\n",
       "    <tr>\n",
       "      <th>18</th>\n",
       "      <td>Missouri</td>\n",
       "      <td>0.380017</td>\n",
       "      <td>0.571547</td>\n",
       "      <td>0.414033</td>\n",
       "      <td>0.568051</td>\n",
       "      <td>0.034016</td>\n",
       "      <td>-0.003495</td>\n",
       "    </tr>\n",
       "    <tr>\n",
       "      <th>19</th>\n",
       "      <td>Minnesota</td>\n",
       "      <td>0.469428</td>\n",
       "      <td>0.452999</td>\n",
       "      <td>0.524668</td>\n",
       "      <td>0.452163</td>\n",
       "      <td>0.055241</td>\n",
       "      <td>-0.000836</td>\n",
       "    </tr>\n",
       "    <tr>\n",
       "      <th>20</th>\n",
       "      <td>Maryland</td>\n",
       "      <td>0.605922</td>\n",
       "      <td>0.351811</td>\n",
       "      <td>0.655067</td>\n",
       "      <td>0.320219</td>\n",
       "      <td>0.049145</td>\n",
       "      <td>-0.031592</td>\n",
       "    </tr>\n",
       "    <tr>\n",
       "      <th>21</th>\n",
       "      <td>South Carolina</td>\n",
       "      <td>0.409831</td>\n",
       "      <td>0.546212</td>\n",
       "      <td>0.434703</td>\n",
       "      <td>0.550669</td>\n",
       "      <td>0.024871</td>\n",
       "      <td>0.004457</td>\n",
       "    </tr>\n",
       "    <tr>\n",
       "      <th>22</th>\n",
       "      <td>Colorado</td>\n",
       "      <td>0.472746</td>\n",
       "      <td>0.443593</td>\n",
       "      <td>0.554000</td>\n",
       "      <td>0.418983</td>\n",
       "      <td>0.081254</td>\n",
       "      <td>-0.024610</td>\n",
       "    </tr>\n",
       "    <tr>\n",
       "      <th>23</th>\n",
       "      <td>Alabama</td>\n",
       "      <td>0.345538</td>\n",
       "      <td>0.628884</td>\n",
       "      <td>0.365707</td>\n",
       "      <td>0.620310</td>\n",
       "      <td>0.020169</td>\n",
       "      <td>-0.008574</td>\n",
       "    </tr>\n",
       "    <tr>\n",
       "      <th>24</th>\n",
       "      <td>Louisiana</td>\n",
       "      <td>0.387643</td>\n",
       "      <td>0.576467</td>\n",
       "      <td>0.403154</td>\n",
       "      <td>0.579545</td>\n",
       "      <td>0.015511</td>\n",
       "      <td>0.003078</td>\n",
       "    </tr>\n",
       "    <tr>\n",
       "      <th>25</th>\n",
       "      <td>Kentucky</td>\n",
       "      <td>0.326134</td>\n",
       "      <td>0.627114</td>\n",
       "      <td>0.360098</td>\n",
       "      <td>0.622311</td>\n",
       "      <td>0.033964</td>\n",
       "      <td>-0.004803</td>\n",
       "    </tr>\n",
       "    <tr>\n",
       "      <th>26</th>\n",
       "      <td>Oregon</td>\n",
       "      <td>0.524173</td>\n",
       "      <td>0.413956</td>\n",
       "      <td>0.560176</td>\n",
       "      <td>0.408334</td>\n",
       "      <td>0.036003</td>\n",
       "      <td>-0.005622</td>\n",
       "    </tr>\n",
       "    <tr>\n",
       "      <th>27</th>\n",
       "      <td>Oklahoma</td>\n",
       "      <td>0.299662</td>\n",
       "      <td>0.641839</td>\n",
       "      <td>0.322892</td>\n",
       "      <td>0.653682</td>\n",
       "      <td>0.023230</td>\n",
       "      <td>0.011843</td>\n",
       "    </tr>\n",
       "    <tr>\n",
       "      <th>28</th>\n",
       "      <td>Connecticut</td>\n",
       "      <td>0.540571</td>\n",
       "      <td>0.415395</td>\n",
       "      <td>0.588724</td>\n",
       "      <td>0.395698</td>\n",
       "      <td>0.048153</td>\n",
       "      <td>-0.019696</td>\n",
       "    </tr>\n",
       "    <tr>\n",
       "      <th>29</th>\n",
       "      <td>Utah</td>\n",
       "      <td>0.330256</td>\n",
       "      <td>0.433262</td>\n",
       "      <td>0.381428</td>\n",
       "      <td>0.576387</td>\n",
       "      <td>0.051172</td>\n",
       "      <td>0.143125</td>\n",
       "    </tr>\n",
       "    <tr>\n",
       "      <th>30</th>\n",
       "      <td>Nevada</td>\n",
       "      <td>0.478504</td>\n",
       "      <td>0.456791</td>\n",
       "      <td>0.501299</td>\n",
       "      <td>0.476203</td>\n",
       "      <td>0.022796</td>\n",
       "      <td>0.019412</td>\n",
       "    </tr>\n",
       "    <tr>\n",
       "      <th>31</th>\n",
       "      <td>Mississippi</td>\n",
       "      <td>0.395013</td>\n",
       "      <td>0.585188</td>\n",
       "      <td>0.407996</td>\n",
       "      <td>0.577456</td>\n",
       "      <td>0.012983</td>\n",
       "      <td>-0.007732</td>\n",
       "    </tr>\n",
       "    <tr>\n",
       "      <th>32</th>\n",
       "      <td>Kansas</td>\n",
       "      <td>0.360602</td>\n",
       "      <td>0.573077</td>\n",
       "      <td>0.412943</td>\n",
       "      <td>0.562828</td>\n",
       "      <td>0.052340</td>\n",
       "      <td>-0.010249</td>\n",
       "    </tr>\n",
       "    <tr>\n",
       "      <th>33</th>\n",
       "      <td>Iowa</td>\n",
       "      <td>0.421553</td>\n",
       "      <td>0.518016</td>\n",
       "      <td>0.448689</td>\n",
       "      <td>0.531102</td>\n",
       "      <td>0.027136</td>\n",
       "      <td>0.013086</td>\n",
       "    </tr>\n",
       "    <tr>\n",
       "      <th>34</th>\n",
       "      <td>Arkansas</td>\n",
       "      <td>0.341624</td>\n",
       "      <td>0.611487</td>\n",
       "      <td>0.347751</td>\n",
       "      <td>0.623957</td>\n",
       "      <td>0.006127</td>\n",
       "      <td>0.012470</td>\n",
       "    </tr>\n",
       "    <tr>\n",
       "      <th>35</th>\n",
       "      <td>West Virginia</td>\n",
       "      <td>0.297917</td>\n",
       "      <td>0.652848</td>\n",
       "      <td>0.298647</td>\n",
       "      <td>0.684712</td>\n",
       "      <td>0.000730</td>\n",
       "      <td>0.031864</td>\n",
       "    </tr>\n",
       "    <tr>\n",
       "      <th>36</th>\n",
       "      <td>New Mexico</td>\n",
       "      <td>0.485608</td>\n",
       "      <td>0.422765</td>\n",
       "      <td>0.535626</td>\n",
       "      <td>0.442933</td>\n",
       "      <td>0.050019</td>\n",
       "      <td>0.020168</td>\n",
       "    </tr>\n",
       "    <tr>\n",
       "      <th>37</th>\n",
       "      <td>Nebraska</td>\n",
       "      <td>0.339551</td>\n",
       "      <td>0.602988</td>\n",
       "      <td>0.391174</td>\n",
       "      <td>0.582572</td>\n",
       "      <td>0.051623</td>\n",
       "      <td>-0.020416</td>\n",
       "    </tr>\n",
       "    <tr>\n",
       "      <th>38</th>\n",
       "      <td>Rhode Island</td>\n",
       "      <td>0.526222</td>\n",
       "      <td>0.429215</td>\n",
       "      <td>0.584054</td>\n",
       "      <td>0.396296</td>\n",
       "      <td>0.057831</td>\n",
       "      <td>-0.032919</td>\n",
       "    </tr>\n",
       "    <tr>\n",
       "      <th>39</th>\n",
       "      <td>New Hampshire</td>\n",
       "      <td>0.505938</td>\n",
       "      <td>0.451695</td>\n",
       "      <td>0.531581</td>\n",
       "      <td>0.451440</td>\n",
       "      <td>0.025644</td>\n",
       "      <td>-0.000255</td>\n",
       "    </tr>\n",
       "    <tr>\n",
       "      <th>40</th>\n",
       "      <td>Maine</td>\n",
       "      <td>0.474169</td>\n",
       "      <td>0.457518</td>\n",
       "      <td>0.524408</td>\n",
       "      <td>0.447408</td>\n",
       "      <td>0.050240</td>\n",
       "      <td>-0.010109</td>\n",
       "    </tr>\n",
       "    <tr>\n",
       "      <th>41</th>\n",
       "      <td>Idaho</td>\n",
       "      <td>0.231941</td>\n",
       "      <td>0.641059</td>\n",
       "      <td>0.272662</td>\n",
       "      <td>0.696993</td>\n",
       "      <td>0.040721</td>\n",
       "      <td>0.055934</td>\n",
       "    </tr>\n",
       "    <tr>\n",
       "      <th>42</th>\n",
       "      <td>Hawaii</td>\n",
       "      <td>0.538373</td>\n",
       "      <td>0.366480</td>\n",
       "      <td>0.573610</td>\n",
       "      <td>0.403014</td>\n",
       "      <td>0.035237</td>\n",
       "      <td>0.036533</td>\n",
       "    </tr>\n",
       "    <tr>\n",
       "      <th>43</th>\n",
       "      <td>Wyoming</td>\n",
       "      <td>0.229940</td>\n",
       "      <td>0.696356</td>\n",
       "      <td>0.249465</td>\n",
       "      <td>0.716566</td>\n",
       "      <td>0.019526</td>\n",
       "      <td>0.020209</td>\n",
       "    </tr>\n",
       "    <tr>\n",
       "      <th>44</th>\n",
       "      <td>Vermont</td>\n",
       "      <td>0.544611</td>\n",
       "      <td>0.396819</td>\n",
       "      <td>0.649701</td>\n",
       "      <td>0.318969</td>\n",
       "      <td>0.105091</td>\n",
       "      <td>-0.077850</td>\n",
       "    </tr>\n",
       "    <tr>\n",
       "      <th>45</th>\n",
       "      <td>South Dakota</td>\n",
       "      <td>0.308430</td>\n",
       "      <td>0.627325</td>\n",
       "      <td>0.354431</td>\n",
       "      <td>0.619946</td>\n",
       "      <td>0.046001</td>\n",
       "      <td>-0.007379</td>\n",
       "    </tr>\n",
       "    <tr>\n",
       "      <th>46</th>\n",
       "      <td>North Dakota</td>\n",
       "      <td>0.276589</td>\n",
       "      <td>0.648293</td>\n",
       "      <td>0.313393</td>\n",
       "      <td>0.655989</td>\n",
       "      <td>0.036804</td>\n",
       "      <td>0.007696</td>\n",
       "    </tr>\n",
       "    <tr>\n",
       "      <th>47</th>\n",
       "      <td>Montana</td>\n",
       "      <td>0.359051</td>\n",
       "      <td>0.569191</td>\n",
       "      <td>0.402431</td>\n",
       "      <td>0.568961</td>\n",
       "      <td>0.043380</td>\n",
       "      <td>-0.000231</td>\n",
       "    </tr>\n",
       "    <tr>\n",
       "      <th>48</th>\n",
       "      <td>Delaware</td>\n",
       "      <td>0.714160</td>\n",
       "      <td>0.246569</td>\n",
       "      <td>0.747417</td>\n",
       "      <td>0.234034</td>\n",
       "      <td>0.033257</td>\n",
       "      <td>-0.012535</td>\n",
       "    </tr>\n",
       "    <tr>\n",
       "      <th>49</th>\n",
       "      <td>District of Columbia</td>\n",
       "      <td>0.589625</td>\n",
       "      <td>0.364430</td>\n",
       "      <td>0.629043</td>\n",
       "      <td>0.357437</td>\n",
       "      <td>0.039418</td>\n",
       "      <td>-0.006993</td>\n",
       "    </tr>\n",
       "  </tbody>\n",
       "</table>\n",
       "</div>"
      ],
      "text/plain": [
       "                   state  per_dem_2016  per_gop_2016  per_dem_2020  \\\n",
       "0             California      0.615885      0.327598      0.634992   \n",
       "1                  Texas      0.433735      0.524651      0.465018   \n",
       "2               New York      0.586157      0.377172      0.606369   \n",
       "3                Florida      0.476133      0.492603      0.476448   \n",
       "4           Pennsylvania      0.467987      0.496131      0.501637   \n",
       "5               Illinois      0.555063      0.393067      0.575878   \n",
       "6                   Ohio      0.436396      0.519164      0.452649   \n",
       "7               Michigan      0.473432      0.475836      0.506202   \n",
       "8                Georgia      0.459244      0.509032      0.498426   \n",
       "9         North Carolina      0.468461      0.503798      0.486348   \n",
       "10            New Jersey      0.549719      0.410676      0.575419   \n",
       "11              Virginia      0.493737      0.454215      0.541150   \n",
       "12            Washington      0.546850      0.379868      0.579500   \n",
       "13             Tennessee      0.348074      0.611980      0.373966   \n",
       "14         Massachusetts      0.610255      0.332822      0.657184   \n",
       "15               Indiana      0.379791      0.571020      0.410317   \n",
       "16               Arizona      0.453871      0.495031      0.493647   \n",
       "17             Wisconsin      0.468520      0.478932      0.494964   \n",
       "18              Missouri      0.380017      0.571547      0.414033   \n",
       "19             Minnesota      0.469428      0.452999      0.524668   \n",
       "20              Maryland      0.605922      0.351811      0.655067   \n",
       "21        South Carolina      0.409831      0.546212      0.434703   \n",
       "22              Colorado      0.472746      0.443593      0.554000   \n",
       "23               Alabama      0.345538      0.628884      0.365707   \n",
       "24             Louisiana      0.387643      0.576467      0.403154   \n",
       "25              Kentucky      0.326134      0.627114      0.360098   \n",
       "26                Oregon      0.524173      0.413956      0.560176   \n",
       "27              Oklahoma      0.299662      0.641839      0.322892   \n",
       "28           Connecticut      0.540571      0.415395      0.588724   \n",
       "29                  Utah      0.330256      0.433262      0.381428   \n",
       "30                Nevada      0.478504      0.456791      0.501299   \n",
       "31           Mississippi      0.395013      0.585188      0.407996   \n",
       "32                Kansas      0.360602      0.573077      0.412943   \n",
       "33                  Iowa      0.421553      0.518016      0.448689   \n",
       "34              Arkansas      0.341624      0.611487      0.347751   \n",
       "35         West Virginia      0.297917      0.652848      0.298647   \n",
       "36            New Mexico      0.485608      0.422765      0.535626   \n",
       "37              Nebraska      0.339551      0.602988      0.391174   \n",
       "38          Rhode Island      0.526222      0.429215      0.584054   \n",
       "39         New Hampshire      0.505938      0.451695      0.531581   \n",
       "40                 Maine      0.474169      0.457518      0.524408   \n",
       "41                 Idaho      0.231941      0.641059      0.272662   \n",
       "42                Hawaii      0.538373      0.366480      0.573610   \n",
       "43               Wyoming      0.229940      0.696356      0.249465   \n",
       "44               Vermont      0.544611      0.396819      0.649701   \n",
       "45          South Dakota      0.308430      0.627325      0.354431   \n",
       "46          North Dakota      0.276589      0.648293      0.313393   \n",
       "47               Montana      0.359051      0.569191      0.402431   \n",
       "48              Delaware      0.714160      0.246569      0.747417   \n",
       "49  District of Columbia      0.589625      0.364430      0.629043   \n",
       "\n",
       "    per_gop_2020  swing_dem  swing_gop  \n",
       "0       0.343278   0.019107   0.015680  \n",
       "1       0.520089   0.031282  -0.004563  \n",
       "2       0.379636   0.020212   0.002465  \n",
       "3       0.514425   0.000316   0.021822  \n",
       "4       0.485792   0.033650  -0.010339  \n",
       "5       0.404244   0.020815   0.011177  \n",
       "6       0.532442   0.016252   0.013278  \n",
       "7       0.478372   0.032770   0.002536  \n",
       "8       0.488894   0.039183  -0.020139  \n",
       "9       0.498843   0.017887  -0.004954  \n",
       "10      0.408103   0.025701  -0.002573  \n",
       "11      0.439869   0.047412  -0.014345  \n",
       "12      0.387888   0.032650   0.008020  \n",
       "13      0.607209   0.025892  -0.004771  \n",
       "14      0.320153   0.046929  -0.012669  \n",
       "15      0.569629   0.030526  -0.001391  \n",
       "16      0.490560   0.039776  -0.004471  \n",
       "17      0.487654   0.026444   0.008722  \n",
       "18      0.568051   0.034016  -0.003495  \n",
       "19      0.452163   0.055241  -0.000836  \n",
       "20      0.320219   0.049145  -0.031592  \n",
       "21      0.550669   0.024871   0.004457  \n",
       "22      0.418983   0.081254  -0.024610  \n",
       "23      0.620310   0.020169  -0.008574  \n",
       "24      0.579545   0.015511   0.003078  \n",
       "25      0.622311   0.033964  -0.004803  \n",
       "26      0.408334   0.036003  -0.005622  \n",
       "27      0.653682   0.023230   0.011843  \n",
       "28      0.395698   0.048153  -0.019696  \n",
       "29      0.576387   0.051172   0.143125  \n",
       "30      0.476203   0.022796   0.019412  \n",
       "31      0.577456   0.012983  -0.007732  \n",
       "32      0.562828   0.052340  -0.010249  \n",
       "33      0.531102   0.027136   0.013086  \n",
       "34      0.623957   0.006127   0.012470  \n",
       "35      0.684712   0.000730   0.031864  \n",
       "36      0.442933   0.050019   0.020168  \n",
       "37      0.582572   0.051623  -0.020416  \n",
       "38      0.396296   0.057831  -0.032919  \n",
       "39      0.451440   0.025644  -0.000255  \n",
       "40      0.447408   0.050240  -0.010109  \n",
       "41      0.696993   0.040721   0.055934  \n",
       "42      0.403014   0.035237   0.036533  \n",
       "43      0.716566   0.019526   0.020209  \n",
       "44      0.318969   0.105091  -0.077850  \n",
       "45      0.619946   0.046001  -0.007379  \n",
       "46      0.655989   0.036804   0.007696  \n",
       "47      0.568961   0.043380  -0.000231  \n",
       "48      0.234034   0.033257  -0.012535  \n",
       "49      0.357437   0.039418  -0.006993  "
      ]
     },
     "execution_count": 198,
     "metadata": {},
     "output_type": "execute_result"
    }
   ],
   "source": [
    "# Combinar ambos años en historical_data usando \"state\"\n",
    "historical_data = full_df_actual_state_2016[['state', 'Per_dem_2016', 'Per_gop_2016']].rename(\n",
    "    columns={\"Per_dem_2016\": \"per_dem_2016\", \"Per_gop_2016\": \"per_gop_2016\"}\n",
    ").merge(\n",
    "    full_df_actual_state_2020[['state', 'Per_dem_2020', 'Per_gop_2020']].rename(\n",
    "        columns={\"Per_dem_2020\": \"per_dem_2020\", \"Per_gop_2020\": \"per_gop_2020\"}\n",
    "    ),\n",
    "    on=\"state\",\n",
    "    how=\"inner\"\n",
    ")\n",
    "\n",
    "# Calcular la diferencia en porcentaje de votos entre 2016 y 2020\n",
    "historical_data[\"swing_dem\"] = historical_data[\"per_dem_2020\"] - historical_data[\"per_dem_2016\"]\n",
    "historical_data[\"swing_gop\"] = historical_data[\"per_gop_2020\"] - historical_data[\"per_gop_2016\"]\n",
    "\n",
    "historical_data"
   ]
  },
  {
   "cell_type": "markdown",
   "metadata": {},
   "source": [
    "### 2024"
   ]
  },
  {
   "cell_type": "code",
   "execution_count": 199,
   "metadata": {},
   "outputs": [],
   "source": [
    "# Cargar datos\n",
    "data = read_csv(f\"data/final_data_{ELECTORAL_YEAR}.csv\")\n",
    "\n",
    "# Crear data para simulación\n",
    "# columns_to_drop = ['Total_2020', 'Other_2020', 'Winner_2020', \"Biden_2020\"]  # Nombres de las columnas a eliminar\n",
    "columns_to_drop = [\"votes_dem\", \"total_votes\", \"votes_others\", \"per_votes_others\", \"winner\"]  # Nombres de las columnas a eliminar\n",
    "\n",
    "data_sim = data.drop(columns=columns_to_drop)"
   ]
  },
  {
   "cell_type": "code",
   "execution_count": 200,
   "metadata": {},
   "outputs": [
    {
     "data": {
      "text/html": [
       "<div>\n",
       "<style scoped>\n",
       "    .dataframe tbody tr th:only-of-type {\n",
       "        vertical-align: middle;\n",
       "    }\n",
       "\n",
       "    .dataframe tbody tr th {\n",
       "        vertical-align: top;\n",
       "    }\n",
       "\n",
       "    .dataframe thead th {\n",
       "        text-align: right;\n",
       "    }\n",
       "</style>\n",
       "<table border=\"1\" class=\"dataframe\">\n",
       "  <thead>\n",
       "    <tr style=\"text-align: right;\">\n",
       "      <th></th>\n",
       "      <th>state</th>\n",
       "      <th>electoral_votes_number</th>\n",
       "      <th>state_code</th>\n",
       "      <th>Votes_dem</th>\n",
       "      <th>Votes_gop</th>\n",
       "      <th>Votes_other</th>\n",
       "      <th>Votes_total</th>\n",
       "      <th>Per_dem</th>\n",
       "      <th>Per_gop</th>\n",
       "      <th>Winner</th>\n",
       "      <th>Difference</th>\n",
       "      <th>Status</th>\n",
       "    </tr>\n",
       "  </thead>\n",
       "  <tbody>\n",
       "    <tr>\n",
       "      <th>0</th>\n",
       "      <td>California</td>\n",
       "      <td>55</td>\n",
       "      <td>CA</td>\n",
       "      <td>9276179.0</td>\n",
       "      <td>6081697.0</td>\n",
       "      <td>504660.0</td>\n",
       "      <td>15862536.0</td>\n",
       "      <td>0.584785</td>\n",
       "      <td>0.383400</td>\n",
       "      <td>dem</td>\n",
       "      <td>20.138533</td>\n",
       "      <td>Safe Democrat</td>\n",
       "    </tr>\n",
       "    <tr>\n",
       "      <th>1</th>\n",
       "      <td>Texas</td>\n",
       "      <td>38</td>\n",
       "      <td>TX</td>\n",
       "      <td>4835250.0</td>\n",
       "      <td>6393597.0</td>\n",
       "      <td>151258.0</td>\n",
       "      <td>11380105.0</td>\n",
       "      <td>0.424886</td>\n",
       "      <td>0.561822</td>\n",
       "      <td>gop</td>\n",
       "      <td>-13.693608</td>\n",
       "      <td>Safe Republican</td>\n",
       "    </tr>\n",
       "    <tr>\n",
       "      <th>2</th>\n",
       "      <td>New York</td>\n",
       "      <td>29</td>\n",
       "      <td>NY</td>\n",
       "      <td>4619195.0</td>\n",
       "      <td>3578899.0</td>\n",
       "      <td>0.0</td>\n",
       "      <td>8198094.0</td>\n",
       "      <td>0.563447</td>\n",
       "      <td>0.436553</td>\n",
       "      <td>dem</td>\n",
       "      <td>12.689486</td>\n",
       "      <td>Safe Democrat</td>\n",
       "    </tr>\n",
       "    <tr>\n",
       "      <th>3</th>\n",
       "      <td>Florida</td>\n",
       "      <td>29</td>\n",
       "      <td>FL</td>\n",
       "      <td>4683038.0</td>\n",
       "      <td>6110125.0</td>\n",
       "      <td>100384.0</td>\n",
       "      <td>10893547.0</td>\n",
       "      <td>0.429891</td>\n",
       "      <td>0.560894</td>\n",
       "      <td>gop</td>\n",
       "      <td>-13.100297</td>\n",
       "      <td>Safe Republican</td>\n",
       "    </tr>\n",
       "    <tr>\n",
       "      <th>4</th>\n",
       "      <td>Pennsylvania</td>\n",
       "      <td>20</td>\n",
       "      <td>PA</td>\n",
       "      <td>3423042.0</td>\n",
       "      <td>3543308.0</td>\n",
       "      <td>67856.0</td>\n",
       "      <td>7034206.0</td>\n",
       "      <td>0.486628</td>\n",
       "      <td>0.503725</td>\n",
       "      <td>gop</td>\n",
       "      <td>-1.709731</td>\n",
       "      <td>Toss-Up</td>\n",
       "    </tr>\n",
       "    <tr>\n",
       "      <th>5</th>\n",
       "      <td>Illinois</td>\n",
       "      <td>20</td>\n",
       "      <td>IL</td>\n",
       "      <td>3062863.0</td>\n",
       "      <td>2449079.0</td>\n",
       "      <td>80426.0</td>\n",
       "      <td>5592368.0</td>\n",
       "      <td>0.547686</td>\n",
       "      <td>0.437932</td>\n",
       "      <td>dem</td>\n",
       "      <td>10.975386</td>\n",
       "      <td>Safe Democrat</td>\n",
       "    </tr>\n",
       "    <tr>\n",
       "      <th>6</th>\n",
       "      <td>Ohio</td>\n",
       "      <td>18</td>\n",
       "      <td>OH</td>\n",
       "      <td>2533699.0</td>\n",
       "      <td>3180116.0</td>\n",
       "      <td>51202.0</td>\n",
       "      <td>5765017.0</td>\n",
       "      <td>0.439495</td>\n",
       "      <td>0.551623</td>\n",
       "      <td>gop</td>\n",
       "      <td>-11.212751</td>\n",
       "      <td>Safe Republican</td>\n",
       "    </tr>\n",
       "    <tr>\n",
       "      <th>7</th>\n",
       "      <td>Michigan</td>\n",
       "      <td>16</td>\n",
       "      <td>MI</td>\n",
       "      <td>2736533.0</td>\n",
       "      <td>2816636.0</td>\n",
       "      <td>109335.0</td>\n",
       "      <td>5662504.0</td>\n",
       "      <td>0.483273</td>\n",
       "      <td>0.497419</td>\n",
       "      <td>gop</td>\n",
       "      <td>-1.414622</td>\n",
       "      <td>Toss-Up</td>\n",
       "    </tr>\n",
       "    <tr>\n",
       "      <th>8</th>\n",
       "      <td>Georgia</td>\n",
       "      <td>16</td>\n",
       "      <td>GA</td>\n",
       "      <td>2548017.0</td>\n",
       "      <td>2663117.0</td>\n",
       "      <td>38913.0</td>\n",
       "      <td>5250047.0</td>\n",
       "      <td>0.485332</td>\n",
       "      <td>0.507256</td>\n",
       "      <td>gop</td>\n",
       "      <td>-2.192361</td>\n",
       "      <td>Toss-Up</td>\n",
       "    </tr>\n",
       "    <tr>\n",
       "      <th>9</th>\n",
       "      <td>North Carolina</td>\n",
       "      <td>15</td>\n",
       "      <td>NC</td>\n",
       "      <td>2715375.0</td>\n",
       "      <td>2898423.0</td>\n",
       "      <td>65849.0</td>\n",
       "      <td>5679647.0</td>\n",
       "      <td>0.478089</td>\n",
       "      <td>0.510317</td>\n",
       "      <td>gop</td>\n",
       "      <td>-3.222876</td>\n",
       "      <td>Likely Republican</td>\n",
       "    </tr>\n",
       "    <tr>\n",
       "      <th>10</th>\n",
       "      <td>New Jersey</td>\n",
       "      <td>14</td>\n",
       "      <td>NJ</td>\n",
       "      <td>2220713.0</td>\n",
       "      <td>1968215.0</td>\n",
       "      <td>83797.0</td>\n",
       "      <td>4272725.0</td>\n",
       "      <td>0.519742</td>\n",
       "      <td>0.460646</td>\n",
       "      <td>dem</td>\n",
       "      <td>5.909531</td>\n",
       "      <td>Likely Democrat</td>\n",
       "    </tr>\n",
       "    <tr>\n",
       "      <th>11</th>\n",
       "      <td>Virginia</td>\n",
       "      <td>13</td>\n",
       "      <td>VA</td>\n",
       "      <td>2335395.0</td>\n",
       "      <td>2075085.0</td>\n",
       "      <td>72096.0</td>\n",
       "      <td>4482576.0</td>\n",
       "      <td>0.520994</td>\n",
       "      <td>0.462922</td>\n",
       "      <td>dem</td>\n",
       "      <td>5.807152</td>\n",
       "      <td>Likely Democrat</td>\n",
       "    </tr>\n",
       "    <tr>\n",
       "      <th>12</th>\n",
       "      <td>Washington</td>\n",
       "      <td>12</td>\n",
       "      <td>WA</td>\n",
       "      <td>2245849.0</td>\n",
       "      <td>1530923.0</td>\n",
       "      <td>122063.0</td>\n",
       "      <td>3898835.0</td>\n",
       "      <td>0.576031</td>\n",
       "      <td>0.392662</td>\n",
       "      <td>dem</td>\n",
       "      <td>18.336913</td>\n",
       "      <td>Safe Democrat</td>\n",
       "    </tr>\n",
       "    <tr>\n",
       "      <th>13</th>\n",
       "      <td>Tennessee</td>\n",
       "      <td>11</td>\n",
       "      <td>TN</td>\n",
       "      <td>1056265.0</td>\n",
       "      <td>1966865.0</td>\n",
       "      <td>40812.0</td>\n",
       "      <td>3063942.0</td>\n",
       "      <td>0.344741</td>\n",
       "      <td>0.641939</td>\n",
       "      <td>gop</td>\n",
       "      <td>-29.719884</td>\n",
       "      <td>Safe Republican</td>\n",
       "    </tr>\n",
       "    <tr>\n",
       "      <th>14</th>\n",
       "      <td>Massachusetts</td>\n",
       "      <td>11</td>\n",
       "      <td>MA</td>\n",
       "      <td>2126545.0</td>\n",
       "      <td>1251308.0</td>\n",
       "      <td>75584.0</td>\n",
       "      <td>3453437.0</td>\n",
       "      <td>0.615776</td>\n",
       "      <td>0.362337</td>\n",
       "      <td>dem</td>\n",
       "      <td>25.343940</td>\n",
       "      <td>Safe Democrat</td>\n",
       "    </tr>\n",
       "    <tr>\n",
       "      <th>15</th>\n",
       "      <td>Indiana</td>\n",
       "      <td>11</td>\n",
       "      <td>IN</td>\n",
       "      <td>1163603.0</td>\n",
       "      <td>1720347.0</td>\n",
       "      <td>49750.0</td>\n",
       "      <td>2933700.0</td>\n",
       "      <td>0.396633</td>\n",
       "      <td>0.586409</td>\n",
       "      <td>gop</td>\n",
       "      <td>-18.977537</td>\n",
       "      <td>Safe Republican</td>\n",
       "    </tr>\n",
       "    <tr>\n",
       "      <th>16</th>\n",
       "      <td>Arizona</td>\n",
       "      <td>11</td>\n",
       "      <td>AZ</td>\n",
       "      <td>1582860.0</td>\n",
       "      <td>1770242.0</td>\n",
       "      <td>36217.0</td>\n",
       "      <td>3389319.0</td>\n",
       "      <td>0.467014</td>\n",
       "      <td>0.522300</td>\n",
       "      <td>gop</td>\n",
       "      <td>-5.528603</td>\n",
       "      <td>Likely Republican</td>\n",
       "    </tr>\n",
       "    <tr>\n",
       "      <th>17</th>\n",
       "      <td>Wisconsin</td>\n",
       "      <td>10</td>\n",
       "      <td>WI</td>\n",
       "      <td>1668229.0</td>\n",
       "      <td>1697626.0</td>\n",
       "      <td>49358.0</td>\n",
       "      <td>3415213.0</td>\n",
       "      <td>0.488470</td>\n",
       "      <td>0.497078</td>\n",
       "      <td>gop</td>\n",
       "      <td>-0.860766</td>\n",
       "      <td>Toss-Up</td>\n",
       "    </tr>\n",
       "    <tr>\n",
       "      <th>18</th>\n",
       "      <td>Missouri</td>\n",
       "      <td>10</td>\n",
       "      <td>MO</td>\n",
       "      <td>1200599.0</td>\n",
       "      <td>1751986.0</td>\n",
       "      <td>41011.0</td>\n",
       "      <td>2993596.0</td>\n",
       "      <td>0.401056</td>\n",
       "      <td>0.585245</td>\n",
       "      <td>gop</td>\n",
       "      <td>-18.418885</td>\n",
       "      <td>Safe Republican</td>\n",
       "    </tr>\n",
       "    <tr>\n",
       "      <th>19</th>\n",
       "      <td>Minnesota</td>\n",
       "      <td>10</td>\n",
       "      <td>MN</td>\n",
       "      <td>1656979.0</td>\n",
       "      <td>1519032.0</td>\n",
       "      <td>64905.0</td>\n",
       "      <td>3240916.0</td>\n",
       "      <td>0.511269</td>\n",
       "      <td>0.468705</td>\n",
       "      <td>dem</td>\n",
       "      <td>4.256420</td>\n",
       "      <td>Likely Democrat</td>\n",
       "    </tr>\n",
       "    <tr>\n",
       "      <th>20</th>\n",
       "      <td>Maryland</td>\n",
       "      <td>10</td>\n",
       "      <td>MD</td>\n",
       "      <td>1902577.0</td>\n",
       "      <td>1035550.0</td>\n",
       "      <td>77523.0</td>\n",
       "      <td>3015650.0</td>\n",
       "      <td>0.630901</td>\n",
       "      <td>0.343392</td>\n",
       "      <td>dem</td>\n",
       "      <td>28.750916</td>\n",
       "      <td>Safe Democrat</td>\n",
       "    </tr>\n",
       "    <tr>\n",
       "      <th>21</th>\n",
       "      <td>South Carolina</td>\n",
       "      <td>9</td>\n",
       "      <td>SC</td>\n",
       "      <td>1028452.0</td>\n",
       "      <td>1483747.0</td>\n",
       "      <td>35941.0</td>\n",
       "      <td>2548140.0</td>\n",
       "      <td>0.403609</td>\n",
       "      <td>0.582286</td>\n",
       "      <td>gop</td>\n",
       "      <td>-17.867739</td>\n",
       "      <td>Safe Republican</td>\n",
       "    </tr>\n",
       "    <tr>\n",
       "      <th>22</th>\n",
       "      <td>Colorado</td>\n",
       "      <td>9</td>\n",
       "      <td>CO</td>\n",
       "      <td>1728159.0</td>\n",
       "      <td>1377441.0</td>\n",
       "      <td>85273.0</td>\n",
       "      <td>3190873.0</td>\n",
       "      <td>0.541594</td>\n",
       "      <td>0.431682</td>\n",
       "      <td>dem</td>\n",
       "      <td>10.991287</td>\n",
       "      <td>Safe Democrat</td>\n",
       "    </tr>\n",
       "    <tr>\n",
       "      <th>23</th>\n",
       "      <td>Alabama</td>\n",
       "      <td>9</td>\n",
       "      <td>AL</td>\n",
       "      <td>772412.0</td>\n",
       "      <td>1462616.0</td>\n",
       "      <td>21324.0</td>\n",
       "      <td>2256352.0</td>\n",
       "      <td>0.342328</td>\n",
       "      <td>0.648222</td>\n",
       "      <td>gop</td>\n",
       "      <td>-30.589376</td>\n",
       "      <td>Safe Republican</td>\n",
       "    </tr>\n",
       "    <tr>\n",
       "      <th>24</th>\n",
       "      <td>Louisiana</td>\n",
       "      <td>8</td>\n",
       "      <td>LA</td>\n",
       "      <td>766870.0</td>\n",
       "      <td>1208505.0</td>\n",
       "      <td>31600.0</td>\n",
       "      <td>2006975.0</td>\n",
       "      <td>0.382102</td>\n",
       "      <td>0.602152</td>\n",
       "      <td>gop</td>\n",
       "      <td>-22.005008</td>\n",
       "      <td>Safe Republican</td>\n",
       "    </tr>\n",
       "    <tr>\n",
       "      <th>25</th>\n",
       "      <td>Kentucky</td>\n",
       "      <td>8</td>\n",
       "      <td>KY</td>\n",
       "      <td>704043.0</td>\n",
       "      <td>1337494.0</td>\n",
       "      <td>31772.0</td>\n",
       "      <td>2073309.0</td>\n",
       "      <td>0.339575</td>\n",
       "      <td>0.645101</td>\n",
       "      <td>gop</td>\n",
       "      <td>-30.552658</td>\n",
       "      <td>Safe Republican</td>\n",
       "    </tr>\n",
       "    <tr>\n",
       "      <th>26</th>\n",
       "      <td>Oregon</td>\n",
       "      <td>7</td>\n",
       "      <td>OR</td>\n",
       "      <td>1228410.0</td>\n",
       "      <td>910702.0</td>\n",
       "      <td>68480.0</td>\n",
       "      <td>2207592.0</td>\n",
       "      <td>0.556448</td>\n",
       "      <td>0.412532</td>\n",
       "      <td>dem</td>\n",
       "      <td>14.391609</td>\n",
       "      <td>Safe Democrat</td>\n",
       "    </tr>\n",
       "    <tr>\n",
       "      <th>27</th>\n",
       "      <td>Oklahoma</td>\n",
       "      <td>7</td>\n",
       "      <td>OK</td>\n",
       "      <td>499599.0</td>\n",
       "      <td>1036213.0</td>\n",
       "      <td>30361.0</td>\n",
       "      <td>1566173.0</td>\n",
       "      <td>0.318993</td>\n",
       "      <td>0.661621</td>\n",
       "      <td>gop</td>\n",
       "      <td>-34.262754</td>\n",
       "      <td>Safe Republican</td>\n",
       "    </tr>\n",
       "    <tr>\n",
       "      <th>28</th>\n",
       "      <td>Connecticut</td>\n",
       "      <td>7</td>\n",
       "      <td>CT</td>\n",
       "      <td>992053.0</td>\n",
       "      <td>736918.0</td>\n",
       "      <td>29458.0</td>\n",
       "      <td>1758429.0</td>\n",
       "      <td>0.564170</td>\n",
       "      <td>0.419077</td>\n",
       "      <td>dem</td>\n",
       "      <td>14.509258</td>\n",
       "      <td>Safe Democrat</td>\n",
       "    </tr>\n",
       "    <tr>\n",
       "      <th>29</th>\n",
       "      <td>Utah</td>\n",
       "      <td>6</td>\n",
       "      <td>UT</td>\n",
       "      <td>562566.0</td>\n",
       "      <td>883818.0</td>\n",
       "      <td>41567.0</td>\n",
       "      <td>1487951.0</td>\n",
       "      <td>0.378081</td>\n",
       "      <td>0.593983</td>\n",
       "      <td>gop</td>\n",
       "      <td>-21.590227</td>\n",
       "      <td>Safe Republican</td>\n",
       "    </tr>\n",
       "    <tr>\n",
       "      <th>30</th>\n",
       "      <td>Nevada</td>\n",
       "      <td>6</td>\n",
       "      <td>NV</td>\n",
       "      <td>705197.0</td>\n",
       "      <td>751205.0</td>\n",
       "      <td>28438.0</td>\n",
       "      <td>1484840.0</td>\n",
       "      <td>0.474931</td>\n",
       "      <td>0.505916</td>\n",
       "      <td>gop</td>\n",
       "      <td>-3.098516</td>\n",
       "      <td>Likely Republican</td>\n",
       "    </tr>\n",
       "    <tr>\n",
       "      <th>31</th>\n",
       "      <td>Mississippi</td>\n",
       "      <td>6</td>\n",
       "      <td>MS</td>\n",
       "      <td>466668.0</td>\n",
       "      <td>747744.0</td>\n",
       "      <td>13596.0</td>\n",
       "      <td>1228008.0</td>\n",
       "      <td>0.380020</td>\n",
       "      <td>0.608908</td>\n",
       "      <td>gop</td>\n",
       "      <td>-22.888776</td>\n",
       "      <td>Safe Republican</td>\n",
       "    </tr>\n",
       "    <tr>\n",
       "      <th>32</th>\n",
       "      <td>Kansas</td>\n",
       "      <td>6</td>\n",
       "      <td>KS</td>\n",
       "      <td>544853.0</td>\n",
       "      <td>758802.0</td>\n",
       "      <td>23936.0</td>\n",
       "      <td>1327591.0</td>\n",
       "      <td>0.410407</td>\n",
       "      <td>0.571563</td>\n",
       "      <td>gop</td>\n",
       "      <td>-16.115581</td>\n",
       "      <td>Safe Republican</td>\n",
       "    </tr>\n",
       "    <tr>\n",
       "      <th>33</th>\n",
       "      <td>Iowa</td>\n",
       "      <td>6</td>\n",
       "      <td>IA</td>\n",
       "      <td>707278.0</td>\n",
       "      <td>927019.0</td>\n",
       "      <td>22552.0</td>\n",
       "      <td>1656849.0</td>\n",
       "      <td>0.426881</td>\n",
       "      <td>0.559507</td>\n",
       "      <td>gop</td>\n",
       "      <td>-13.262585</td>\n",
       "      <td>Safe Republican</td>\n",
       "    </tr>\n",
       "    <tr>\n",
       "      <th>34</th>\n",
       "      <td>Arkansas</td>\n",
       "      <td>6</td>\n",
       "      <td>AR</td>\n",
       "      <td>396905.0</td>\n",
       "      <td>759241.0</td>\n",
       "      <td>26530.0</td>\n",
       "      <td>1182676.0</td>\n",
       "      <td>0.335599</td>\n",
       "      <td>0.641969</td>\n",
       "      <td>gop</td>\n",
       "      <td>-30.636962</td>\n",
       "      <td>Safe Republican</td>\n",
       "    </tr>\n",
       "    <tr>\n",
       "      <th>35</th>\n",
       "      <td>West Virginia</td>\n",
       "      <td>5</td>\n",
       "      <td>WV</td>\n",
       "      <td>214309.0</td>\n",
       "      <td>533556.0</td>\n",
       "      <td>14525.0</td>\n",
       "      <td>762390.0</td>\n",
       "      <td>0.281102</td>\n",
       "      <td>0.699847</td>\n",
       "      <td>gop</td>\n",
       "      <td>-41.874500</td>\n",
       "      <td>Safe Republican</td>\n",
       "    </tr>\n",
       "    <tr>\n",
       "      <th>36</th>\n",
       "      <td>New Mexico</td>\n",
       "      <td>5</td>\n",
       "      <td>NM</td>\n",
       "      <td>478802.0</td>\n",
       "      <td>423391.0</td>\n",
       "      <td>21210.0</td>\n",
       "      <td>923403.0</td>\n",
       "      <td>0.518519</td>\n",
       "      <td>0.458512</td>\n",
       "      <td>dem</td>\n",
       "      <td>6.000739</td>\n",
       "      <td>Likely Democrat</td>\n",
       "    </tr>\n",
       "    <tr>\n",
       "      <th>37</th>\n",
       "      <td>Nebraska</td>\n",
       "      <td>5</td>\n",
       "      <td>NE</td>\n",
       "      <td>369995.0</td>\n",
       "      <td>564816.0</td>\n",
       "      <td>12348.0</td>\n",
       "      <td>947159.0</td>\n",
       "      <td>0.390637</td>\n",
       "      <td>0.596326</td>\n",
       "      <td>gop</td>\n",
       "      <td>-20.568986</td>\n",
       "      <td>Safe Republican</td>\n",
       "    </tr>\n",
       "    <tr>\n",
       "      <th>38</th>\n",
       "      <td>Rhode Island</td>\n",
       "      <td>4</td>\n",
       "      <td>RI</td>\n",
       "      <td>285156.0</td>\n",
       "      <td>214406.0</td>\n",
       "      <td>11097.0</td>\n",
       "      <td>510659.0</td>\n",
       "      <td>0.558408</td>\n",
       "      <td>0.419861</td>\n",
       "      <td>dem</td>\n",
       "      <td>13.854647</td>\n",
       "      <td>Safe Democrat</td>\n",
       "    </tr>\n",
       "    <tr>\n",
       "      <th>39</th>\n",
       "      <td>New Hampshire</td>\n",
       "      <td>4</td>\n",
       "      <td>NH</td>\n",
       "      <td>418496.0</td>\n",
       "      <td>395578.0</td>\n",
       "      <td>8079.0</td>\n",
       "      <td>822153.0</td>\n",
       "      <td>0.509024</td>\n",
       "      <td>0.481149</td>\n",
       "      <td>dem</td>\n",
       "      <td>2.787559</td>\n",
       "      <td>Likely Democrat</td>\n",
       "    </tr>\n",
       "    <tr>\n",
       "      <th>40</th>\n",
       "      <td>Maine</td>\n",
       "      <td>4</td>\n",
       "      <td>ME</td>\n",
       "      <td>435652.0</td>\n",
       "      <td>377977.0</td>\n",
       "      <td>17746.0</td>\n",
       "      <td>831375.0</td>\n",
       "      <td>0.524014</td>\n",
       "      <td>0.454641</td>\n",
       "      <td>dem</td>\n",
       "      <td>6.937303</td>\n",
       "      <td>Likely Democrat</td>\n",
       "    </tr>\n",
       "    <tr>\n",
       "      <th>41</th>\n",
       "      <td>Idaho</td>\n",
       "      <td>4</td>\n",
       "      <td>ID</td>\n",
       "      <td>274972.0</td>\n",
       "      <td>605246.0</td>\n",
       "      <td>24594.0</td>\n",
       "      <td>904812.0</td>\n",
       "      <td>0.303900</td>\n",
       "      <td>0.668919</td>\n",
       "      <td>gop</td>\n",
       "      <td>-36.501947</td>\n",
       "      <td>Safe Republican</td>\n",
       "    </tr>\n",
       "    <tr>\n",
       "      <th>42</th>\n",
       "      <td>Hawaii</td>\n",
       "      <td>4</td>\n",
       "      <td>HI</td>\n",
       "      <td>313044.0</td>\n",
       "      <td>193661.0</td>\n",
       "      <td>9996.0</td>\n",
       "      <td>516701.0</td>\n",
       "      <td>0.605851</td>\n",
       "      <td>0.374803</td>\n",
       "      <td>dem</td>\n",
       "      <td>23.104852</td>\n",
       "      <td>Safe Democrat</td>\n",
       "    </tr>\n",
       "    <tr>\n",
       "      <th>43</th>\n",
       "      <td>Wyoming</td>\n",
       "      <td>3</td>\n",
       "      <td>WY</td>\n",
       "      <td>69527.0</td>\n",
       "      <td>192633.0</td>\n",
       "      <td>4193.0</td>\n",
       "      <td>266353.0</td>\n",
       "      <td>0.261033</td>\n",
       "      <td>0.723224</td>\n",
       "      <td>gop</td>\n",
       "      <td>-46.219115</td>\n",
       "      <td>Safe Republican</td>\n",
       "    </tr>\n",
       "    <tr>\n",
       "      <th>44</th>\n",
       "      <td>Vermont</td>\n",
       "      <td>3</td>\n",
       "      <td>VT</td>\n",
       "      <td>235791.0</td>\n",
       "      <td>119395.0</td>\n",
       "      <td>11203.0</td>\n",
       "      <td>366389.0</td>\n",
       "      <td>0.643554</td>\n",
       "      <td>0.325869</td>\n",
       "      <td>dem</td>\n",
       "      <td>31.768421</td>\n",
       "      <td>Safe Democrat</td>\n",
       "    </tr>\n",
       "    <tr>\n",
       "      <th>45</th>\n",
       "      <td>South Dakota</td>\n",
       "      <td>3</td>\n",
       "      <td>SD</td>\n",
       "      <td>146859.0</td>\n",
       "      <td>272081.0</td>\n",
       "      <td>9982.0</td>\n",
       "      <td>428922.0</td>\n",
       "      <td>0.342391</td>\n",
       "      <td>0.634337</td>\n",
       "      <td>gop</td>\n",
       "      <td>-29.194585</td>\n",
       "      <td>Safe Republican</td>\n",
       "    </tr>\n",
       "    <tr>\n",
       "      <th>46</th>\n",
       "      <td>North Dakota</td>\n",
       "      <td>3</td>\n",
       "      <td>ND</td>\n",
       "      <td>112327.0</td>\n",
       "      <td>246505.0</td>\n",
       "      <td>6227.0</td>\n",
       "      <td>365059.0</td>\n",
       "      <td>0.307695</td>\n",
       "      <td>0.675247</td>\n",
       "      <td>gop</td>\n",
       "      <td>-36.755155</td>\n",
       "      <td>Safe Republican</td>\n",
       "    </tr>\n",
       "    <tr>\n",
       "      <th>47</th>\n",
       "      <td>Montana</td>\n",
       "      <td>3</td>\n",
       "      <td>MT</td>\n",
       "      <td>231906.0</td>\n",
       "      <td>352079.0</td>\n",
       "      <td>18978.0</td>\n",
       "      <td>602963.0</td>\n",
       "      <td>0.384611</td>\n",
       "      <td>0.583915</td>\n",
       "      <td>gop</td>\n",
       "      <td>-19.930410</td>\n",
       "      <td>Safe Republican</td>\n",
       "    </tr>\n",
       "    <tr>\n",
       "      <th>48</th>\n",
       "      <td>Delaware</td>\n",
       "      <td>3</td>\n",
       "      <td>DE</td>\n",
       "      <td>289758.0</td>\n",
       "      <td>214351.0</td>\n",
       "      <td>7588.0</td>\n",
       "      <td>511697.0</td>\n",
       "      <td>0.566269</td>\n",
       "      <td>0.418902</td>\n",
       "      <td>dem</td>\n",
       "      <td>14.736651</td>\n",
       "      <td>Safe Democrat</td>\n",
       "    </tr>\n",
       "    <tr>\n",
       "      <th>49</th>\n",
       "      <td>District of Columbia</td>\n",
       "      <td>3</td>\n",
       "      <td>DC</td>\n",
       "      <td>36882.0</td>\n",
       "      <td>2056.0</td>\n",
       "      <td>1525.0</td>\n",
       "      <td>40463.0</td>\n",
       "      <td>0.911499</td>\n",
       "      <td>0.050812</td>\n",
       "      <td>dem</td>\n",
       "      <td>86.068754</td>\n",
       "      <td>Safe Democrat</td>\n",
       "    </tr>\n",
       "  </tbody>\n",
       "</table>\n",
       "</div>"
      ],
      "text/plain": [
       "                   state  electoral_votes_number state_code  Votes_dem  \\\n",
       "0             California                      55         CA  9276179.0   \n",
       "1                  Texas                      38         TX  4835250.0   \n",
       "2               New York                      29         NY  4619195.0   \n",
       "3                Florida                      29         FL  4683038.0   \n",
       "4           Pennsylvania                      20         PA  3423042.0   \n",
       "5               Illinois                      20         IL  3062863.0   \n",
       "6                   Ohio                      18         OH  2533699.0   \n",
       "7               Michigan                      16         MI  2736533.0   \n",
       "8                Georgia                      16         GA  2548017.0   \n",
       "9         North Carolina                      15         NC  2715375.0   \n",
       "10            New Jersey                      14         NJ  2220713.0   \n",
       "11              Virginia                      13         VA  2335395.0   \n",
       "12            Washington                      12         WA  2245849.0   \n",
       "13             Tennessee                      11         TN  1056265.0   \n",
       "14         Massachusetts                      11         MA  2126545.0   \n",
       "15               Indiana                      11         IN  1163603.0   \n",
       "16               Arizona                      11         AZ  1582860.0   \n",
       "17             Wisconsin                      10         WI  1668229.0   \n",
       "18              Missouri                      10         MO  1200599.0   \n",
       "19             Minnesota                      10         MN  1656979.0   \n",
       "20              Maryland                      10         MD  1902577.0   \n",
       "21        South Carolina                       9         SC  1028452.0   \n",
       "22              Colorado                       9         CO  1728159.0   \n",
       "23               Alabama                       9         AL   772412.0   \n",
       "24             Louisiana                       8         LA   766870.0   \n",
       "25              Kentucky                       8         KY   704043.0   \n",
       "26                Oregon                       7         OR  1228410.0   \n",
       "27              Oklahoma                       7         OK   499599.0   \n",
       "28           Connecticut                       7         CT   992053.0   \n",
       "29                  Utah                       6         UT   562566.0   \n",
       "30                Nevada                       6         NV   705197.0   \n",
       "31           Mississippi                       6         MS   466668.0   \n",
       "32                Kansas                       6         KS   544853.0   \n",
       "33                  Iowa                       6         IA   707278.0   \n",
       "34              Arkansas                       6         AR   396905.0   \n",
       "35         West Virginia                       5         WV   214309.0   \n",
       "36            New Mexico                       5         NM   478802.0   \n",
       "37              Nebraska                       5         NE   369995.0   \n",
       "38          Rhode Island                       4         RI   285156.0   \n",
       "39         New Hampshire                       4         NH   418496.0   \n",
       "40                 Maine                       4         ME   435652.0   \n",
       "41                 Idaho                       4         ID   274972.0   \n",
       "42                Hawaii                       4         HI   313044.0   \n",
       "43               Wyoming                       3         WY    69527.0   \n",
       "44               Vermont                       3         VT   235791.0   \n",
       "45          South Dakota                       3         SD   146859.0   \n",
       "46          North Dakota                       3         ND   112327.0   \n",
       "47               Montana                       3         MT   231906.0   \n",
       "48              Delaware                       3         DE   289758.0   \n",
       "49  District of Columbia                       3         DC    36882.0   \n",
       "\n",
       "    Votes_gop  Votes_other  Votes_total   Per_dem   Per_gop Winner  \\\n",
       "0   6081697.0     504660.0   15862536.0  0.584785  0.383400    dem   \n",
       "1   6393597.0     151258.0   11380105.0  0.424886  0.561822    gop   \n",
       "2   3578899.0          0.0    8198094.0  0.563447  0.436553    dem   \n",
       "3   6110125.0     100384.0   10893547.0  0.429891  0.560894    gop   \n",
       "4   3543308.0      67856.0    7034206.0  0.486628  0.503725    gop   \n",
       "5   2449079.0      80426.0    5592368.0  0.547686  0.437932    dem   \n",
       "6   3180116.0      51202.0    5765017.0  0.439495  0.551623    gop   \n",
       "7   2816636.0     109335.0    5662504.0  0.483273  0.497419    gop   \n",
       "8   2663117.0      38913.0    5250047.0  0.485332  0.507256    gop   \n",
       "9   2898423.0      65849.0    5679647.0  0.478089  0.510317    gop   \n",
       "10  1968215.0      83797.0    4272725.0  0.519742  0.460646    dem   \n",
       "11  2075085.0      72096.0    4482576.0  0.520994  0.462922    dem   \n",
       "12  1530923.0     122063.0    3898835.0  0.576031  0.392662    dem   \n",
       "13  1966865.0      40812.0    3063942.0  0.344741  0.641939    gop   \n",
       "14  1251308.0      75584.0    3453437.0  0.615776  0.362337    dem   \n",
       "15  1720347.0      49750.0    2933700.0  0.396633  0.586409    gop   \n",
       "16  1770242.0      36217.0    3389319.0  0.467014  0.522300    gop   \n",
       "17  1697626.0      49358.0    3415213.0  0.488470  0.497078    gop   \n",
       "18  1751986.0      41011.0    2993596.0  0.401056  0.585245    gop   \n",
       "19  1519032.0      64905.0    3240916.0  0.511269  0.468705    dem   \n",
       "20  1035550.0      77523.0    3015650.0  0.630901  0.343392    dem   \n",
       "21  1483747.0      35941.0    2548140.0  0.403609  0.582286    gop   \n",
       "22  1377441.0      85273.0    3190873.0  0.541594  0.431682    dem   \n",
       "23  1462616.0      21324.0    2256352.0  0.342328  0.648222    gop   \n",
       "24  1208505.0      31600.0    2006975.0  0.382102  0.602152    gop   \n",
       "25  1337494.0      31772.0    2073309.0  0.339575  0.645101    gop   \n",
       "26   910702.0      68480.0    2207592.0  0.556448  0.412532    dem   \n",
       "27  1036213.0      30361.0    1566173.0  0.318993  0.661621    gop   \n",
       "28   736918.0      29458.0    1758429.0  0.564170  0.419077    dem   \n",
       "29   883818.0      41567.0    1487951.0  0.378081  0.593983    gop   \n",
       "30   751205.0      28438.0    1484840.0  0.474931  0.505916    gop   \n",
       "31   747744.0      13596.0    1228008.0  0.380020  0.608908    gop   \n",
       "32   758802.0      23936.0    1327591.0  0.410407  0.571563    gop   \n",
       "33   927019.0      22552.0    1656849.0  0.426881  0.559507    gop   \n",
       "34   759241.0      26530.0    1182676.0  0.335599  0.641969    gop   \n",
       "35   533556.0      14525.0     762390.0  0.281102  0.699847    gop   \n",
       "36   423391.0      21210.0     923403.0  0.518519  0.458512    dem   \n",
       "37   564816.0      12348.0     947159.0  0.390637  0.596326    gop   \n",
       "38   214406.0      11097.0     510659.0  0.558408  0.419861    dem   \n",
       "39   395578.0       8079.0     822153.0  0.509024  0.481149    dem   \n",
       "40   377977.0      17746.0     831375.0  0.524014  0.454641    dem   \n",
       "41   605246.0      24594.0     904812.0  0.303900  0.668919    gop   \n",
       "42   193661.0       9996.0     516701.0  0.605851  0.374803    dem   \n",
       "43   192633.0       4193.0     266353.0  0.261033  0.723224    gop   \n",
       "44   119395.0      11203.0     366389.0  0.643554  0.325869    dem   \n",
       "45   272081.0       9982.0     428922.0  0.342391  0.634337    gop   \n",
       "46   246505.0       6227.0     365059.0  0.307695  0.675247    gop   \n",
       "47   352079.0      18978.0     602963.0  0.384611  0.583915    gop   \n",
       "48   214351.0       7588.0     511697.0  0.566269  0.418902    dem   \n",
       "49     2056.0       1525.0      40463.0  0.911499  0.050812    dem   \n",
       "\n",
       "    Difference             Status  \n",
       "0    20.138533      Safe Democrat  \n",
       "1   -13.693608    Safe Republican  \n",
       "2    12.689486      Safe Democrat  \n",
       "3   -13.100297    Safe Republican  \n",
       "4    -1.709731            Toss-Up  \n",
       "5    10.975386      Safe Democrat  \n",
       "6   -11.212751    Safe Republican  \n",
       "7    -1.414622            Toss-Up  \n",
       "8    -2.192361            Toss-Up  \n",
       "9    -3.222876  Likely Republican  \n",
       "10    5.909531    Likely Democrat  \n",
       "11    5.807152    Likely Democrat  \n",
       "12   18.336913      Safe Democrat  \n",
       "13  -29.719884    Safe Republican  \n",
       "14   25.343940      Safe Democrat  \n",
       "15  -18.977537    Safe Republican  \n",
       "16   -5.528603  Likely Republican  \n",
       "17   -0.860766            Toss-Up  \n",
       "18  -18.418885    Safe Republican  \n",
       "19    4.256420    Likely Democrat  \n",
       "20   28.750916      Safe Democrat  \n",
       "21  -17.867739    Safe Republican  \n",
       "22   10.991287      Safe Democrat  \n",
       "23  -30.589376    Safe Republican  \n",
       "24  -22.005008    Safe Republican  \n",
       "25  -30.552658    Safe Republican  \n",
       "26   14.391609      Safe Democrat  \n",
       "27  -34.262754    Safe Republican  \n",
       "28   14.509258      Safe Democrat  \n",
       "29  -21.590227    Safe Republican  \n",
       "30   -3.098516  Likely Republican  \n",
       "31  -22.888776    Safe Republican  \n",
       "32  -16.115581    Safe Republican  \n",
       "33  -13.262585    Safe Republican  \n",
       "34  -30.636962    Safe Republican  \n",
       "35  -41.874500    Safe Republican  \n",
       "36    6.000739    Likely Democrat  \n",
       "37  -20.568986    Safe Republican  \n",
       "38   13.854647      Safe Democrat  \n",
       "39    2.787559    Likely Democrat  \n",
       "40    6.937303    Likely Democrat  \n",
       "41  -36.501947    Safe Republican  \n",
       "42   23.104852      Safe Democrat  \n",
       "43  -46.219115    Safe Republican  \n",
       "44   31.768421      Safe Democrat  \n",
       "45  -29.194585    Safe Republican  \n",
       "46  -36.755155    Safe Republican  \n",
       "47  -19.930410    Safe Republican  \n",
       "48   14.736651      Safe Democrat  \n",
       "49   86.068754      Safe Democrat  "
      ]
     },
     "execution_count": 200,
     "metadata": {},
     "output_type": "execute_result"
    }
   ],
   "source": [
    "# Cargar datos electorales reales\n",
    "df_actual = pd.DataFrame({'Votes_dem': data['votes_dem'], \n",
    "                            'Votes_gop': data['total_votes'] - data['votes_dem'] - data['votes_others'], \n",
    "                            'Votes_other': data['votes_others'],\n",
    "                            'Votes_total': data['total_votes'], \n",
    "                            'state': state_names,\n",
    "                            'county': county_names,\n",
    "                            'fips': fips_codes})\n",
    "df_actual_state = df_actual.groupby('state').agg(Votes_dem=(f'Votes_dem', 'sum'), \n",
    "                                                    Votes_gop=(f'Votes_gop', 'sum'),\n",
    "                                                    Votes_other=(f'Votes_other', 'sum'),\n",
    "                                                    Votes_total=(f'Votes_total', 'sum'))\n",
    "\n",
    "df_actual_state[\"Per_dem\"] = df_actual_state[\"Votes_dem\"] / df_actual_state[\"Votes_total\"]\n",
    "df_actual_state[\"Per_gop\"] = df_actual_state[\"Votes_gop\"] / df_actual_state[\"Votes_total\"]\n",
    "\n",
    "# Añadir la columna \"Winner\" basado en los porcentajes predichos de Biden y Trump\n",
    "df_actual_state[\"Winner\"] = np.where(df_actual_state[\"Per_dem\"] < df_actual_state[\"Per_gop\"], 'gop', 'dem')\n",
    "\n",
    "\n",
    "full_df_actual_state = pd.merge(seats_data, df_actual_state, how='inner', on=[\"state\"])\n",
    "\n",
    "\n",
    "\n",
    "# Añadir diferencia entre Biden y Trump\n",
    "full_df_actual_state['Difference'] = (full_df_actual_state[\"Per_dem\"] - full_df_actual_state[\"Per_gop\"]) * 100\n",
    "\n",
    "\n",
    "# Definir las condiciones y los valores a asignar\n",
    "conditions = [\n",
    "    full_df_actual_state[\"Difference\"] > 10,\n",
    "    full_df_actual_state[\"Difference\"].between(2.5, 10),\n",
    "    full_df_actual_state[\"Difference\"].between(-2.5, 2.5),\n",
    "    full_df_actual_state[\"Difference\"].between(-10, -2.5),\n",
    "    full_df_actual_state[\"Difference\"] < -10\n",
    "]\n",
    "\n",
    "choices = [\n",
    "    \"Safe Democrat\",\n",
    "    \"Likely Democrat\",\n",
    "    \"Toss-Up\",\n",
    "    \"Likely Republican\",\n",
    "    \"Safe Republican\"\n",
    "]\n",
    "\n",
    "# Usar np.select para asignar el \"Status\" basado en las condiciones, con un valor por defecto \"Unknown\"\n",
    "full_df_actual_state[\"Status\"] = np.select(conditions, choices, default=\"Unknown\")\n",
    "\n",
    "full_df_actual_state"
   ]
  },
  {
   "cell_type": "code",
   "execution_count": 201,
   "metadata": {},
   "outputs": [
    {
     "name": "stdout",
     "output_type": "stream",
     "text": [
      "Condados comunes en los tres datasets: 3100\n"
     ]
    }
   ],
   "source": [
    "# Encontrar los `county_fips` comunes en los tres conjuntos de datos\n",
    "common_fips = set(data_2016[\"county_fips\"]).intersection(data_2020[\"county_fips\"]).intersection(data_sim[\"county_fips\"])\n",
    "\n",
    "# Filtrar cada dataset para que solo contenga esos condados comunes\n",
    "data_2016 = data_2016[data_2016[\"county_fips\"].isin(common_fips)].sort_values(by=\"county_fips\").reset_index(drop=True)\n",
    "data_2020 = data_2020[data_2020[\"county_fips\"].isin(common_fips)].sort_values(by=\"county_fips\").reset_index(drop=True)\n",
    "data_sim = data_sim[data_sim[\"county_fips\"].isin(common_fips)].sort_values(by=\"county_fips\").reset_index(drop=True)\n",
    "data = data[data[\"county_fips\"].isin(common_fips)].sort_values(by=\"county_fips\").reset_index(drop=True)\n",
    "\n",
    "# Ahora los tres datasets tienen los mismos condados en el mismo orden\n",
    "print(f\"Condados comunes en los tres datasets: {len(common_fips)}\")\n"
   ]
  },
  {
   "cell_type": "code",
   "execution_count": 202,
   "metadata": {},
   "outputs": [
    {
     "name": "stdout",
     "output_type": "stream",
     "text": [
      "3100 3100 3100 3100\n"
     ]
    }
   ],
   "source": [
    "# Guardamos las variables en vectores para uso futuro\n",
    "state_names = data['state']\n",
    "fips_codes = data['county_fips']\n",
    "county_names = data['county']\n",
    "\n",
    "print(len(state_names), len(county_names), len(fips_codes), len(data[\"total_votes\"]))"
   ]
  },
  {
   "cell_type": "code",
   "execution_count": 203,
   "metadata": {},
   "outputs": [],
   "source": [
    "# Ordenar ambos DataFrames por 'fips' antes de cualquier split\n",
    "data_2016 = data_2016.sort_values(by=\"county_fips\").reset_index(drop=True)\n",
    "data_2020 = data_2020.sort_values(by=\"county_fips\").reset_index(drop=True)\n",
    "data_sim = data_sim.sort_values(by=\"county_fips\").reset_index(drop=True)\n",
    "data = data.sort_values(by=\"county_fips\").reset_index(drop=True)"
   ]
  },
  {
   "cell_type": "code",
   "execution_count": 204,
   "metadata": {},
   "outputs": [],
   "source": [
    "columns_to_drop = ['county_fips', \"state\", \"county\", \"state_code\", \"county_code\"]  # Nombres de las columnas a eliminar\n",
    "data_2016 = data_2016.drop(columns=columns_to_drop)\n",
    "data_2020 = data_2020.drop(columns=columns_to_drop)\n",
    "data_sim = data_sim.drop(columns=columns_to_drop)"
   ]
  },
  {
   "cell_type": "code",
   "execution_count": 205,
   "metadata": {},
   "outputs": [
    {
     "data": {
      "text/html": [
       "<div>\n",
       "<style scoped>\n",
       "    .dataframe tbody tr th:only-of-type {\n",
       "        vertical-align: middle;\n",
       "    }\n",
       "\n",
       "    .dataframe tbody tr th {\n",
       "        vertical-align: top;\n",
       "    }\n",
       "\n",
       "    .dataframe thead th {\n",
       "        text-align: right;\n",
       "    }\n",
       "</style>\n",
       "<table border=\"1\" class=\"dataframe\">\n",
       "  <thead>\n",
       "    <tr style=\"text-align: right;\">\n",
       "      <th></th>\n",
       "      <th>per_dem</th>\n",
       "      <th>per_gop</th>\n",
       "      <th>pop_total</th>\n",
       "      <th>median_age</th>\n",
       "      <th>median_income</th>\n",
       "      <th>households_median_value</th>\n",
       "      <th>households_avg_size</th>\n",
       "      <th>households_total</th>\n",
       "      <th>households_median_gross_rent</th>\n",
       "      <th>mean_travel_time</th>\n",
       "      <th>...</th>\n",
       "      <th>hispanic_rate</th>\n",
       "      <th>two_more_races_rate</th>\n",
       "      <th>high_school_rate</th>\n",
       "      <th>bachelors_rate</th>\n",
       "      <th>poverty_rate</th>\n",
       "      <th>households_renter_rate</th>\n",
       "      <th>households_owner_rate</th>\n",
       "      <th>unemployment_rate</th>\n",
       "      <th>public_transport_rate</th>\n",
       "      <th>no_health_insurance_rate</th>\n",
       "    </tr>\n",
       "  </thead>\n",
       "  <tbody>\n",
       "    <tr>\n",
       "      <th>0</th>\n",
       "      <td>0.263888</td>\n",
       "      <td>0.726641</td>\n",
       "      <td>59285</td>\n",
       "      <td>39.2</td>\n",
       "      <td>69841</td>\n",
       "      <td>197900</td>\n",
       "      <td>2.61</td>\n",
       "      <td>22523</td>\n",
       "      <td>1200</td>\n",
       "      <td>25415</td>\n",
       "      <td>...</td>\n",
       "      <td>3.69</td>\n",
       "      <td>4.59</td>\n",
       "      <td>18.70</td>\n",
       "      <td>10.99</td>\n",
       "      <td>10.58</td>\n",
       "      <td>25.09</td>\n",
       "      <td>74.91</td>\n",
       "      <td>2.54</td>\n",
       "      <td>0.11</td>\n",
       "      <td>7.20</td>\n",
       "    </tr>\n",
       "    <tr>\n",
       "      <th>1</th>\n",
       "      <td>0.204699</td>\n",
       "      <td>0.786467</td>\n",
       "      <td>239945</td>\n",
       "      <td>43.7</td>\n",
       "      <td>75019</td>\n",
       "      <td>287000</td>\n",
       "      <td>2.50</td>\n",
       "      <td>94642</td>\n",
       "      <td>1211</td>\n",
       "      <td>97455</td>\n",
       "      <td>...</td>\n",
       "      <td>5.58</td>\n",
       "      <td>5.54</td>\n",
       "      <td>16.15</td>\n",
       "      <td>14.73</td>\n",
       "      <td>10.34</td>\n",
       "      <td>22.46</td>\n",
       "      <td>77.54</td>\n",
       "      <td>3.19</td>\n",
       "      <td>0.04</td>\n",
       "      <td>8.06</td>\n",
       "    </tr>\n",
       "    <tr>\n",
       "      <th>2</th>\n",
       "      <td>0.422905</td>\n",
       "      <td>0.570179</td>\n",
       "      <td>24757</td>\n",
       "      <td>40.7</td>\n",
       "      <td>44290</td>\n",
       "      <td>109900</td>\n",
       "      <td>2.39</td>\n",
       "      <td>9080</td>\n",
       "      <td>644</td>\n",
       "      <td>7989</td>\n",
       "      <td>...</td>\n",
       "      <td>6.02</td>\n",
       "      <td>2.95</td>\n",
       "      <td>21.48</td>\n",
       "      <td>4.76</td>\n",
       "      <td>19.17</td>\n",
       "      <td>32.51</td>\n",
       "      <td>67.49</td>\n",
       "      <td>5.71</td>\n",
       "      <td>0.07</td>\n",
       "      <td>9.49</td>\n",
       "    </tr>\n",
       "    <tr>\n",
       "      <th>3</th>\n",
       "      <td>0.175197</td>\n",
       "      <td>0.819392</td>\n",
       "      <td>22152</td>\n",
       "      <td>41.3</td>\n",
       "      <td>51215</td>\n",
       "      <td>132600</td>\n",
       "      <td>2.74</td>\n",
       "      <td>7571</td>\n",
       "      <td>802</td>\n",
       "      <td>7999</td>\n",
       "      <td>...</td>\n",
       "      <td>3.36</td>\n",
       "      <td>2.82</td>\n",
       "      <td>24.60</td>\n",
       "      <td>5.06</td>\n",
       "      <td>19.22</td>\n",
       "      <td>22.82</td>\n",
       "      <td>77.18</td>\n",
       "      <td>9.98</td>\n",
       "      <td>0.04</td>\n",
       "      <td>7.81</td>\n",
       "    </tr>\n",
       "    <tr>\n",
       "      <th>4</th>\n",
       "      <td>0.091624</td>\n",
       "      <td>0.901796</td>\n",
       "      <td>59292</td>\n",
       "      <td>40.9</td>\n",
       "      <td>61096</td>\n",
       "      <td>169700</td>\n",
       "      <td>2.67</td>\n",
       "      <td>21977</td>\n",
       "      <td>743</td>\n",
       "      <td>23976</td>\n",
       "      <td>...</td>\n",
       "      <td>10.06</td>\n",
       "      <td>5.15</td>\n",
       "      <td>19.58</td>\n",
       "      <td>6.89</td>\n",
       "      <td>13.95</td>\n",
       "      <td>20.49</td>\n",
       "      <td>79.51</td>\n",
       "      <td>5.84</td>\n",
       "      <td>0.00</td>\n",
       "      <td>10.11</td>\n",
       "    </tr>\n",
       "  </tbody>\n",
       "</table>\n",
       "<p>5 rows × 36 columns</p>\n",
       "</div>"
      ],
      "text/plain": [
       "    per_dem   per_gop  pop_total  median_age  median_income  \\\n",
       "0  0.263888  0.726641      59285        39.2          69841   \n",
       "1  0.204699  0.786467     239945        43.7          75019   \n",
       "2  0.422905  0.570179      24757        40.7          44290   \n",
       "3  0.175197  0.819392      22152        41.3          51215   \n",
       "4  0.091624  0.901796      59292        40.9          61096   \n",
       "\n",
       "   households_median_value  households_avg_size  households_total  \\\n",
       "0                   197900                 2.61             22523   \n",
       "1                   287000                 2.50             94642   \n",
       "2                   109900                 2.39              9080   \n",
       "3                   132600                 2.74              7571   \n",
       "4                   169700                 2.67             21977   \n",
       "\n",
       "   households_median_gross_rent  mean_travel_time  ...  hispanic_rate  \\\n",
       "0                          1200             25415  ...           3.69   \n",
       "1                          1211             97455  ...           5.58   \n",
       "2                           644              7989  ...           6.02   \n",
       "3                           802              7999  ...           3.36   \n",
       "4                           743             23976  ...          10.06   \n",
       "\n",
       "   two_more_races_rate  high_school_rate  bachelors_rate  poverty_rate  \\\n",
       "0                 4.59             18.70           10.99         10.58   \n",
       "1                 5.54             16.15           14.73         10.34   \n",
       "2                 2.95             21.48            4.76         19.17   \n",
       "3                 2.82             24.60            5.06         19.22   \n",
       "4                 5.15             19.58            6.89         13.95   \n",
       "\n",
       "   households_renter_rate  households_owner_rate  unemployment_rate  \\\n",
       "0                   25.09                  74.91               2.54   \n",
       "1                   22.46                  77.54               3.19   \n",
       "2                   32.51                  67.49               5.71   \n",
       "3                   22.82                  77.18               9.98   \n",
       "4                   20.49                  79.51               5.84   \n",
       "\n",
       "   public_transport_rate  no_health_insurance_rate  \n",
       "0                   0.11                      7.20  \n",
       "1                   0.04                      8.06  \n",
       "2                   0.07                      9.49  \n",
       "3                   0.04                      7.81  \n",
       "4                   0.00                     10.11  \n",
       "\n",
       "[5 rows x 36 columns]"
      ]
     },
     "execution_count": 205,
     "metadata": {},
     "output_type": "execute_result"
    }
   ],
   "source": [
    "columns_to_drop = [\"votes_gop\"]  # Nombres de las columnas a eliminar\n",
    "\n",
    "data_sim = data_sim.drop(columns=columns_to_drop)\n",
    "data_sim.head()"
   ]
  },
  {
   "cell_type": "code",
   "execution_count": 206,
   "metadata": {},
   "outputs": [],
   "source": [
    "# from sklearn.preprocessing import StandardScaler\n",
    "\n",
    "# # Definir las columnas a excluir del escalado\n",
    "# cols_excluir = ['per_dem', 'per_gop'] \n",
    "\n",
    "# # Seleccionar solo las columnas que deben ser escaladas\n",
    "# cols_escalar = [col for col in data_sim.columns if col not in cols_excluir]\n",
    "\n",
    "# # Aplicar StandardScaler solo a las columnas seleccionadas\n",
    "# scaler = StandardScaler()\n",
    "# data_sim[cols_escalar] = scaler.fit_transform(data_sim[cols_escalar])\n",
    "\n",
    "# # Mostrar los primeros registros\n",
    "# data_sim.head()"
   ]
  },
  {
   "cell_type": "markdown",
   "metadata": {},
   "source": [
    "## Algorithm"
   ]
  },
  {
   "cell_type": "code",
   "execution_count": 207,
   "metadata": {},
   "outputs": [],
   "source": [
    "n_sim = 100"
   ]
  },
  {
   "cell_type": "code",
   "execution_count": 208,
   "metadata": {},
   "outputs": [
    {
     "name": "stdout",
     "output_type": "stream",
     "text": [
      "Simulation 0\n",
      "weight_2016=0.5351100102684346\n",
      "per_dem_pred=array([0.35477411, 0.39970261, 0.39263427, ..., 0.25935843, 0.21702502,\n",
      "       0.20017883])\n",
      "per_gop_pred=array([0.60824066, 0.56518758, 0.58876918, ..., 0.68370677, 0.74346019,\n",
      "       0.76275503])\n",
      "per_other_pred=array([0.03698524, 0.03510981, 0.01859655, ..., 0.0569348 , 0.03951479,\n",
      "       0.03706615])\n",
      "Simulation 1\n",
      "weight_2016=0.47067869315703953\n",
      "per_dem_pred=array([0.35486758, 0.40112414, 0.39227287, ..., 0.25907363, 0.21964404,\n",
      "       0.20063141])\n",
      "per_gop_pred=array([0.61010263, 0.56608662, 0.59007467, ..., 0.68724854, 0.74265622,\n",
      "       0.76402859])\n",
      "per_other_pred=array([0.03502978, 0.03278925, 0.01765246, ..., 0.05367783, 0.03769974,\n",
      "       0.03534   ])\n",
      "Simulation 2\n",
      "weight_2016=0.4508381512916902\n",
      "per_dem_pred=array([0.35489637, 0.40156187, 0.39216159, ..., 0.25898593, 0.22045053,\n",
      "       0.20077078])\n",
      "per_gop_pred=array([0.610676  , 0.56636346, 0.59047667, ..., 0.68833917, 0.74240865,\n",
      "       0.76442076])\n",
      "per_other_pred=array([0.03442764, 0.03207467, 0.01736174, ..., 0.0526749 , 0.03714082,\n",
      "       0.03480847])\n",
      "Simulation 3\n",
      "weight_2016=0.9635752994848994\n",
      "per_dem_pred=array([0.35415251, 0.39024954, 0.39503754, ..., 0.26125234, 0.19960867,\n",
      "       0.19716917])\n",
      "per_gop_pred=array([0.59585859, 0.559209  , 0.58008777, ..., 0.66015414, 0.74880655,\n",
      "       0.75428592])\n",
      "per_other_pred=array([0.0499889 , 0.05054146, 0.02487469, ..., 0.07859351, 0.05158478,\n",
      "       0.04854491])\n",
      "Simulation 4\n",
      "weight_2016=0.8818287045359688\n",
      "per_dem_pred=array([0.35427111, 0.39205308, 0.39457902, ..., 0.26089101, 0.20293152,\n",
      "       0.19774338])\n",
      "per_gop_pred=array([0.59822096, 0.56034965, 0.58174409, ..., 0.66464773, 0.74778652,\n",
      "       0.75590174])\n",
      "per_other_pred=array([0.04750794, 0.04759727, 0.02367689, ..., 0.07446126, 0.04928195,\n",
      "       0.04635488])\n",
      "Simulation 5\n",
      "weight_2016=0.6987122641881809\n",
      "per_dem_pred=array([0.35453676, 0.39609311, 0.39355192, ..., 0.26008159, 0.21037488,\n",
      "       0.19902964])\n",
      "per_gop_pred=array([0.60351277, 0.56290476, 0.58545433, ..., 0.67471359, 0.74550161,\n",
      "       0.75952124])\n",
      "per_other_pred=array([0.04195047, 0.04100213, 0.02099375, ..., 0.06520482, 0.04412351,\n",
      "       0.04144912])\n",
      "Simulation 6\n",
      "weight_2016=0.9300189933153298\n",
      "per_dem_pred=array([0.35420119, 0.39098988, 0.39484932, ..., 0.26110402, 0.20097267,\n",
      "       0.19740488])\n",
      "per_gop_pred=array([0.59682832, 0.55967723, 0.58076768, ..., 0.66199872, 0.74838784,\n",
      "       0.7549492 ])\n",
      "per_other_pred=array([0.04897048, 0.04933289, 0.02438301, ..., 0.07689726, 0.05063949,\n",
      "       0.04764592])\n",
      "Simulation 7\n",
      "weight_2016=0.6531077766441423\n",
      "per_dem_pred=array([0.35460292, 0.39709927, 0.39329612, ..., 0.25988001, 0.21222862,\n",
      "       0.19934998])\n",
      "per_gop_pred=array([0.60483068, 0.5635411 , 0.58637835, ..., 0.67722046, 0.74493256,\n",
      "       0.76042267])\n",
      "per_other_pred=array([0.0405664 , 0.03935963, 0.02032553, ..., 0.06289953, 0.04283882,\n",
      "       0.04022735])\n",
      "Simulation 8\n",
      "weight_2016=0.32006924363203365\n",
      "per_dem_pred=array([0.35508608, 0.40444698, 0.3914281 , ..., 0.2584079 , 0.22576605,\n",
      "       0.20168933])\n",
      "per_gop_pred=array([0.61445504, 0.56818814, 0.59312626, ..., 0.6955275 , 0.74077693,\n",
      "       0.76700555])\n",
      "per_other_pred=array([0.03045888, 0.02736488, 0.01544564, ..., 0.0460646 , 0.03345702,\n",
      "       0.03130512])\n",
      "Simulation 9\n",
      "weight_2016=0.6374636830640877\n",
      "per_dem_pred=array([0.35462562, 0.39744442, 0.39320837, ..., 0.25981086, 0.21286453,\n",
      "       0.19945987])\n",
      "per_gop_pred=array([0.60528277, 0.56375939, 0.58669533, ..., 0.67808041, 0.74473735,\n",
      "       0.76073189])\n",
      "per_other_pred=array([0.04009161, 0.03879619, 0.0200963 , ..., 0.06210873, 0.04239812,\n",
      "       0.03980824])\n",
      "Simulation 10\n",
      "weight_2016=0.7356167261879717\n",
      "per_dem_pred=array([0.35448322, 0.3952789 , 0.39375891, ..., 0.26024472, 0.20887478,\n",
      "       0.19877041])\n",
      "per_gop_pred=array([0.60244628, 0.56238981, 0.58470659, ..., 0.67268496, 0.7459621 ,\n",
      "       0.75879178])\n",
      "per_other_pred=array([0.04307049, 0.04233128, 0.0215345 , ..., 0.06707032, 0.04516312,\n",
      "       0.0424378 ])\n",
      "Simulation 11\n",
      "weight_2016=0.5497825514572039\n",
      "per_dem_pred=array([0.35475282, 0.3993789 , 0.39271657, ..., 0.25942329, 0.21642861,\n",
      "       0.20007576])\n",
      "per_gop_pred=array([0.60781664, 0.56498284, 0.58847189, ..., 0.68290022, 0.74364327,\n",
      "       0.76246501])\n",
      "per_other_pred=array([0.03743054, 0.03563826, 0.01881154, ..., 0.05767649, 0.03992811,\n",
      "       0.03745923])\n",
      "Simulation 12\n",
      "weight_2016=0.7154904372655412\n",
      "per_dem_pred=array([0.35451242, 0.39572294, 0.39364603, ..., 0.26015575, 0.20969288,\n",
      "       0.19891179])\n",
      "per_gop_pred=array([0.60302791, 0.56267064, 0.58511438, ..., 0.6737913 , 0.74571097,\n",
      "       0.7591896 ])\n",
      "per_other_pred=array([0.04245967, 0.04160641, 0.0212396 , ..., 0.06605295, 0.04459615,\n",
      "       0.04189861])\n",
      "Simulation 13\n",
      "weight_2016=0.6791695679029508\n",
      "per_dem_pred=array([0.35456511, 0.39652428, 0.3934423 , ..., 0.25999521, 0.21116926,\n",
      "       0.19916691])\n",
      "per_gop_pred=array([0.60407753, 0.56317745, 0.5858503 , ..., 0.67578785, 0.74525776,\n",
      "       0.75990753])\n",
      "per_other_pred=array([0.04135736, 0.04029828, 0.0207074 , ..., 0.06421694, 0.04357299,\n",
      "       0.04092556])\n",
      "Simulation 14\n",
      "weight_2016=0.3398796299188881\n",
      "per_dem_pred=array([0.35505734, 0.40400991, 0.39153922, ..., 0.25849547, 0.22496079,\n",
      "       0.20155018])\n",
      "per_gop_pred=array([0.61388255, 0.56791172, 0.59272487, ..., 0.69443853, 0.74102412,\n",
      "       0.76661398])\n",
      "per_other_pred=array([0.03106011, 0.02807837, 0.01573591, ..., 0.047066  , 0.03401509,\n",
      "       0.03183584])\n",
      "Simulation 15\n",
      "weight_2016=0.6419588849721839\n",
      "per_dem_pred=array([0.3546191 , 0.39734524, 0.39323359, ..., 0.25983073, 0.21268181,\n",
      "       0.19942829])\n",
      "per_gop_pred=array([0.60515287, 0.56369666, 0.58660425, ..., 0.67783331, 0.74479344,\n",
      "       0.76064304])\n",
      "per_other_pred=array([0.04022803, 0.03895809, 0.02016217, ..., 0.06233596, 0.04252475,\n",
      "       0.03992867])\n",
      "Simulation 16\n",
      "weight_2016=0.7779302778882435\n",
      "per_dem_pred=array([0.35442184, 0.39434536, 0.39399625, ..., 0.26043175, 0.20715481,\n",
      "       0.19847319])\n",
      "per_gop_pred=array([0.60122348, 0.56179939, 0.58384924, ..., 0.670359  , 0.74649009,\n",
      "       0.75795541])\n",
      "per_other_pred=array([0.04435468, 0.04385525, 0.02215451, ..., 0.06920925, 0.0463551 ,\n",
      "       0.0435714 ])\n",
      "Simulation 17\n",
      "weight_2016=0.7008182456643848\n",
      "per_dem_pred=array([0.35453371, 0.39604665, 0.39356373, ..., 0.2600909 , 0.21028928,\n",
      "       0.19901485])\n",
      "per_gop_pred=array([0.60345191, 0.56287537, 0.58541166, ..., 0.67459783, 0.74552789,\n",
      "       0.75947962])\n",
      "per_other_pred=array([0.04201438, 0.04107798, 0.02102461, ..., 0.06531127, 0.04418283,\n",
      "       0.04150554])\n",
      "Simulation 18\n",
      "weight_2016=0.9196452398767124\n",
      "per_dem_pred=array([0.35421624, 0.39121875, 0.39479113, ..., 0.26105816, 0.20139435,\n",
      "       0.19747775])\n",
      "per_gop_pred=array([0.59712811, 0.55982198, 0.58097786, ..., 0.66256897, 0.7482584 ,\n",
      "       0.75515425])\n",
      "per_other_pred=array([0.04865565, 0.04895927, 0.024231  , ..., 0.07637287, 0.05034726,\n",
      "       0.047368  ])\n",
      "Simulation 19\n",
      "weight_2016=0.41637591963161097\n",
      "per_dem_pred=array([0.35494636, 0.4023222 , 0.39196829, ..., 0.2588336 , 0.22185135,\n",
      "       0.20101285])\n",
      "per_gop_pred=array([0.61167191, 0.56684433, 0.59117493, ..., 0.69023355, 0.74197864,\n",
      "       0.76510194])\n",
      "per_other_pred=array([0.03338173, 0.03083347, 0.01685678, ..., 0.05093285, 0.03617001,\n",
      "       0.03388521])\n",
      "Simulation 20\n",
      "weight_2016=0.7832761062365562\n",
      "per_dem_pred=array([0.35441408, 0.39422741, 0.39402624, ..., 0.26045538, 0.20693751,\n",
      "       0.19843564])\n",
      "per_gop_pred=array([0.60106899, 0.5617248 , 0.58374093, ..., 0.67006514, 0.74655679,\n",
      "       0.75784974])\n",
      "per_other_pred=array([0.04451693, 0.04404779, 0.02223284, ..., 0.06947948, 0.0465057 ,\n",
      "       0.04371462])\n",
      "Simulation 21\n",
      "weight_2016=0.9898076026610699\n",
      "per_dem_pred=array([0.35411446, 0.38967078, 0.39518467, ..., 0.2613683 , 0.19854237,\n",
      "       0.19698491])\n",
      "per_gop_pred=array([0.59510051, 0.55884297, 0.57955626, ..., 0.65871216, 0.74913388,\n",
      "       0.75376741])\n",
      "per_other_pred=array([0.05078503, 0.05148625, 0.02525907, ..., 0.07991954, 0.05232375,\n",
      "       0.04924768])\n",
      "Simulation 22\n",
      "weight_2016=0.40753760709771447\n",
      "per_dem_pred=array([0.35495918, 0.4025172 , 0.39191871, ..., 0.25879453, 0.22221062,\n",
      "       0.20107493])\n",
      "per_gop_pred=array([0.61192733, 0.56696765, 0.59135401, ..., 0.69071939, 0.74186835,\n",
      "       0.76527664])\n",
      "per_other_pred=array([0.03311349, 0.03051515, 0.01672728, ..., 0.05048608, 0.03592103,\n",
      "       0.03364843])\n",
      "Simulation 23\n",
      "weight_2016=0.7482800404868023\n",
      "per_dem_pred=array([0.35446485, 0.39499952, 0.39382994, ..., 0.26030069, 0.20836004,\n",
      "       0.19868146])\n",
      "per_gop_pred=array([0.60208033, 0.56221312, 0.58445001, ..., 0.67198887, 0.74612011,\n",
      "       0.75854148])\n",
      "per_other_pred=array([0.04345482, 0.04278737, 0.02172005, ..., 0.06771044, 0.04551985,\n",
      "       0.04277706])\n",
      "Simulation 24\n",
      "weight_2016=0.5682745516243523\n",
      "per_dem_pred=array([0.35472599, 0.39897091, 0.39282029, ..., 0.25950503, 0.21567694,\n",
      "       0.19994587])\n",
      "per_gop_pred=array([0.60728225, 0.56472482, 0.58809721, ..., 0.68188372, 0.74387402,\n",
      "       0.76209949])\n",
      "per_other_pred=array([0.03799176, 0.03630427, 0.0190825 , ..., 0.05861126, 0.04044904,\n",
      "       0.03795464])\n",
      "Simulation 25\n",
      "weight_2016=0.7759010389217387\n",
      "per_dem_pred=array([0.35442478, 0.39439013, 0.39398487, ..., 0.26042278, 0.2072373 ,\n",
      "       0.19848745])\n",
      "per_gop_pred=array([0.60128212, 0.56182771, 0.58389036, ..., 0.67047055, 0.74646477,\n",
      "       0.75799552])\n",
      "per_other_pred=array([0.0442931 , 0.04378217, 0.02212477, ..., 0.06910667, 0.04629794,\n",
      "       0.04351704])\n",
      "Simulation 26\n",
      "weight_2016=0.6315502970761772\n",
      "per_dem_pred=array([0.3546342 , 0.39757488, 0.3931752 , ..., 0.25978472, 0.2131049 ,\n",
      "       0.1995014 ])\n",
      "per_gop_pred=array([0.60545366, 0.5638419 , 0.58681514, ..., 0.67840547, 0.74466357,\n",
      "       0.76084878])\n",
      "per_other_pred=array([0.03991214, 0.03858322, 0.02000965, ..., 0.06180981, 0.04223154,\n",
      "       0.03964982])\n",
      "Simulation 27\n",
      "weight_2016=0.5619961777051595\n",
      "per_dem_pred=array([0.3547351 , 0.39910943, 0.39278507, ..., 0.25947727, 0.21593215,\n",
      "       0.19998997])\n",
      "per_gop_pred=array([0.60746368, 0.56481242, 0.58822442, ..., 0.68222884, 0.74379567,\n",
      "       0.76222359])\n",
      "per_other_pred=array([0.03780122, 0.03607815, 0.0189905 , ..., 0.05829389, 0.04027218,\n",
      "       0.03778644])\n",
      "Simulation 28\n",
      "weight_2016=0.6922437687173617\n",
      "per_dem_pred=array([0.35454615, 0.39623583, 0.39351563, ..., 0.260053  , 0.21063782,\n",
      "       0.19907508])\n",
      "per_gop_pred=array([0.6036997 , 0.56299502, 0.58558539, ..., 0.67506916, 0.7454209 ,\n",
      "       0.7596491 ])\n",
      "per_other_pred=array([0.04175415, 0.04076916, 0.02089897, ..., 0.06487784, 0.04394129,\n",
      "       0.04127582])\n",
      "Simulation 29\n",
      "weight_2016=0.8110887584046985\n",
      "per_dem_pred=array([0.35437373, 0.39361379, 0.39418224, ..., 0.26057832, 0.20580698,\n",
      "       0.19824028])\n",
      "per_gop_pred=array([0.60026524, 0.56133672, 0.5831774 , ..., 0.66853629, 0.74690384,\n",
      "       0.75729999])\n",
      "per_other_pred=array([0.04536102, 0.04504949, 0.02264036, ..., 0.07088539, 0.04728919,\n",
      "       0.04445973])\n",
      "Simulation 30\n",
      "weight_2016=0.4516963636017844\n",
      "per_dem_pred=array([0.35489512, 0.40154294, 0.3921664 , ..., 0.25898972, 0.22041564,\n",
      "       0.20076475])\n",
      "per_gop_pred=array([0.6106512 , 0.56635149, 0.59045928, ..., 0.68829199, 0.74241936,\n",
      "       0.76440379])\n",
      "per_other_pred=array([0.03445368, 0.03210558, 0.01737432, ..., 0.05271828, 0.037165  ,\n",
      "       0.03483146])\n",
      "Simulation 31\n",
      "weight_2016=0.6415910749968042\n",
      "per_dem_pred=array([0.35461963, 0.39735336, 0.39323152, ..., 0.2598291 , 0.21269676,\n",
      "       0.19943088])\n",
      "per_gop_pred=array([0.6051635 , 0.5637018 , 0.5866117 , ..., 0.67785353, 0.74478885,\n",
      "       0.76065031])\n",
      "per_other_pred=array([0.04021687, 0.03894484, 0.02015678, ..., 0.06231737, 0.04251439,\n",
      "       0.03991882])\n",
      "Simulation 32\n",
      "weight_2016=0.5063229405523314\n",
      "per_dem_pred=array([0.35481587, 0.40033773, 0.3924728 , ..., 0.25923119, 0.21819517,\n",
      "       0.20038104])\n",
      "per_gop_pred=array([0.60907256, 0.56558926, 0.58935245, ..., 0.68528918, 0.74310099,\n",
      "       0.76332404])\n",
      "per_other_pred=array([0.03611157, 0.03407301, 0.01817474, ..., 0.05547963, 0.03870384,\n",
      "       0.03629493])\n",
      "Simulation 33\n",
      "weight_2016=0.5092902390869934\n",
      "per_dem_pred=array([0.35481157, 0.40027226, 0.39248945, ..., 0.2592443 , 0.21807455,\n",
      "       0.20036019])\n",
      "per_gop_pred=array([0.60898681, 0.56554785, 0.58929233, ..., 0.68512607, 0.74313801,\n",
      "       0.76326538])\n",
      "per_other_pred=array([0.03620162, 0.03417988, 0.01821822, ..., 0.05562963, 0.03878743,\n",
      "       0.03637442])\n",
      "Simulation 34\n",
      "weight_2016=0.7266024037516354\n",
      "per_dem_pred=array([0.3544963 , 0.39547778, 0.39370835, ..., 0.26020487, 0.2092412 ,\n",
      "       0.19883373])\n",
      "per_gop_pred=array([0.60270679, 0.56251559, 0.58488923, ..., 0.67318048, 0.74584962,\n",
      "       0.75896996])\n",
      "per_other_pred=array([0.04279691, 0.04200662, 0.02140242, ..., 0.06661465, 0.04490918,\n",
      "       0.0421963 ])\n",
      "Simulation 35\n",
      "weight_2016=0.9336961359371503\n",
      "per_dem_pred=array([0.35419586, 0.39090875, 0.39486994, ..., 0.26112027, 0.20082321,\n",
      "       0.19737905])\n",
      "per_gop_pred=array([0.59672206, 0.55962592, 0.58069317, ..., 0.66179659, 0.74843372,\n",
      "       0.75487652])\n",
      "per_other_pred=array([0.04908208, 0.04946533, 0.02443689, ..., 0.07708314, 0.05074307,\n",
      "       0.04774443])\n",
      "Simulation 36\n",
      "weight_2016=0.4724646825734556\n",
      "per_dem_pred=array([0.35486499, 0.40108473, 0.39228289, ..., 0.25908152, 0.21957145,\n",
      "       0.20061887])\n",
      "per_gop_pred=array([0.61005102, 0.5660617 , 0.59003848, ..., 0.68715036, 0.74267851,\n",
      "       0.76399328])\n",
      "per_other_pred=array([0.03508399, 0.03285357, 0.01767863, ..., 0.05376811, 0.03775005,\n",
      "       0.03538785])\n",
      "Simulation 37\n",
      "weight_2016=0.4199342762214286\n",
      "per_dem_pred=array([0.3549412 , 0.40224369, 0.39198825, ..., 0.25884933, 0.22170671,\n",
      "       0.20098785])\n",
      "per_gop_pred=array([0.61156908, 0.56679468, 0.59110283, ..., 0.69003794, 0.74202304,\n",
      "       0.76503161])\n",
      "per_other_pred=array([0.03348972, 0.03096163, 0.01690892, ..., 0.05111273, 0.03627025,\n",
      "       0.03398054])\n",
      "Simulation 38\n",
      "weight_2016=0.5354222560271897\n",
      "per_dem_pred=array([0.35477365, 0.39969572, 0.39263602, ..., 0.25935981, 0.21701233,\n",
      "       0.20017663])\n",
      "per_gop_pred=array([0.60823163, 0.56518322, 0.58876285, ..., 0.6836896 , 0.74346409,\n",
      "       0.76274886])\n",
      "per_other_pred=array([0.03699471, 0.03512106, 0.01860112, ..., 0.05695059, 0.03952358,\n",
      "       0.03707451])\n",
      "Simulation 39\n",
      "weight_2016=0.6488861850542641\n",
      "per_dem_pred=array([0.35460905, 0.39719241, 0.39327244, ..., 0.25986135, 0.21240022,\n",
      "       0.19937963])\n",
      "per_gop_pred=array([0.60495268, 0.5636    , 0.58646389, ..., 0.67745252, 0.74487988,\n",
      "       0.76050611])\n",
      "per_other_pred=array([0.04043827, 0.03920759, 0.02026367, ..., 0.06268613, 0.04271989,\n",
      "       0.04011426])\n",
      "Simulation 40\n",
      "weight_2016=0.9950101533231579\n",
      "per_dem_pred=array([0.35410691, 0.389556  , 0.39521385, ..., 0.26139129, 0.1983309 ,\n",
      "       0.19694836])\n",
      "per_gop_pred=array([0.59495017, 0.55877038, 0.57945085, ..., 0.65842618, 0.74919879,\n",
      "       0.75366458])\n",
      "per_other_pred=array([0.05094293, 0.05167362, 0.0253353 , ..., 0.08018253, 0.05247031,\n",
      "       0.04938706])\n",
      "Simulation 41\n",
      "weight_2016=0.8922860032911402\n",
      "per_dem_pred=array([0.35425593, 0.39182237, 0.39463767, ..., 0.26093723, 0.20250645,\n",
      "       0.19766993])\n",
      "per_gop_pred=array([0.59791875, 0.56020373, 0.58153221, ..., 0.6640729 , 0.74791701,\n",
      "       0.75569504])\n",
      "per_other_pred=array([0.04782531, 0.0479739 , 0.02383012, ..., 0.07498987, 0.04957654,\n",
      "       0.04663504])\n",
      "Simulation 42\n",
      "weight_2016=0.7603946398720353\n",
      "per_dem_pred=array([0.35444728, 0.39473224, 0.39389789, ..., 0.26035424, 0.2078676 ,\n",
      "       0.19859637])\n",
      "per_gop_pred=array([0.60173024, 0.56204407, 0.58420454, ..., 0.67132293, 0.74627128,\n",
      "       0.75830202])\n",
      "per_other_pred=array([0.04382249, 0.04322369, 0.02189756, ..., 0.06832283, 0.04586112,\n",
      "       0.04310161])\n",
      "Simulation 43\n",
      "weight_2016=0.5555687303344419\n",
      "per_dem_pred=array([0.35474443, 0.39925124, 0.39274902, ..., 0.25944886, 0.21619341,\n",
      "       0.20003512])\n",
      "per_gop_pred=array([0.60764943, 0.56490211, 0.58835465, ..., 0.68258215, 0.74371547,\n",
      "       0.76235064])\n",
      "per_other_pred=array([0.03760615, 0.03584666, 0.01889632, ..., 0.05796898, 0.04009111,\n",
      "       0.03761424])\n",
      "Simulation 44\n",
      "weight_2016=0.35611089225598097\n",
      "per_dem_pred=array([0.35503379, 0.4036518 , 0.39163026, ..., 0.25856721, 0.22430102,\n",
      "       0.20143617])\n",
      "per_gop_pred=array([0.61341349, 0.56768523, 0.592396  , ..., 0.6935463 , 0.74122665,\n",
      "       0.76629315])\n",
      "per_other_pred=array([0.03155272, 0.02866296, 0.01597374, ..., 0.04788649, 0.03447233,\n",
      "       0.03227069])\n",
      "Simulation 45\n",
      "weight_2016=0.7152582994064474\n",
      "per_dem_pred=array([0.35451276, 0.39572807, 0.39364472, ..., 0.26015473, 0.20970232,\n",
      "       0.19891342])\n",
      "per_gop_pred=array([0.60303461, 0.56267388, 0.58511908, ..., 0.67380406, 0.74570807,\n",
      "       0.75919419])\n",
      "per_other_pred=array([0.04245263, 0.04159805, 0.0212362 , ..., 0.06604121, 0.04458962,\n",
      "       0.04189239])\n",
      "Simulation 46\n",
      "weight_2016=0.7068124906867194\n",
      "per_dem_pred=array([0.35452501, 0.3959144 , 0.39359735, ..., 0.26011739, 0.21004562,\n",
      "       0.19897274])\n",
      "per_gop_pred=array([0.60327869, 0.56279173, 0.58529021, ..., 0.67426833, 0.74560268,\n",
      "       0.75936113])\n",
      "per_other_pred=array([0.0421963 , 0.04129387, 0.02111244, ..., 0.06561428, 0.04435169,\n",
      "       0.04166613])\n",
      "Simulation 47\n",
      "weight_2016=0.610251023257197\n",
      "per_dem_pred=array([0.3546651 , 0.3980448 , 0.39305574, ..., 0.25969057, 0.21397068,\n",
      "       0.19965102])\n",
      "per_gop_pred=array([0.60606918, 0.5641391 , 0.5872467 , ..., 0.67957628, 0.7443978 ,\n",
      "       0.76126978])\n",
      "per_other_pred=array([0.03926572, 0.0378161 , 0.01969756, ..., 0.06073315, 0.04163153,\n",
      "       0.0390792 ])\n",
      "Simulation 48\n",
      "weight_2016=0.9851015958605042\n",
      "per_dem_pred=array([0.35412128, 0.38977461, 0.39515828, ..., 0.26134749, 0.19873366,\n",
      "       0.19701796])\n",
      "per_gop_pred=array([0.59523651, 0.55890863, 0.57965161, ..., 0.65897085, 0.74907516,\n",
      "       0.75386043])\n",
      "per_other_pred=array([0.05064221, 0.05131676, 0.02519011, ..., 0.07968166, 0.05219118,\n",
      "       0.0491216 ])\n",
      "Simulation 49\n",
      "weight_2016=0.4157500106270572\n",
      "per_dem_pred=array([0.35494727, 0.40233601, 0.39196478, ..., 0.25883083, 0.2218768 ,\n",
      "       0.20101724])\n",
      "per_gop_pred=array([0.61169   , 0.56685306, 0.59118761, ..., 0.69026795, 0.74197083,\n",
      "       0.76511431])\n",
      "per_other_pred=array([0.03336273, 0.03081093, 0.01684761, ..., 0.05090121, 0.03615238,\n",
      "       0.03386844])\n",
      "Simulation 50\n",
      "weight_2016=0.9435419303978196\n",
      "per_dem_pred=array([0.35418158, 0.39069153, 0.39492517, ..., 0.26116379, 0.20042299,\n",
      "       0.19730989])\n",
      "per_gop_pred=array([0.59643753, 0.55948854, 0.58049368, ..., 0.66125537, 0.74855658,\n",
      "       0.75468191])\n",
      "per_other_pred=array([0.0493809 , 0.04981994, 0.02458115, ..., 0.07758084, 0.05102043,\n",
      "       0.0480082 ])\n",
      "Simulation 51\n",
      "weight_2016=0.4033747468245969\n",
      "per_dem_pred=array([0.35496522, 0.40260904, 0.39189537, ..., 0.25877613, 0.22237983,\n",
      "       0.20110417])\n",
      "per_gop_pred=array([0.61204763, 0.56702574, 0.59143835, ..., 0.69094822, 0.74181641,\n",
      "       0.76535892])\n",
      "per_other_pred=array([0.03298715, 0.03036522, 0.01666628, ..., 0.05027565, 0.03580376,\n",
      "       0.0335369 ])\n",
      "Simulation 52\n",
      "weight_2016=0.5126789870074799\n",
      "per_dem_pred=array([0.35480665, 0.4001975 , 0.39250845, ..., 0.25925928, 0.21793681,\n",
      "       0.20033639])\n",
      "per_gop_pred=array([0.60888888, 0.56550057, 0.58922367, ..., 0.68493979, 0.7431803 ,\n",
      "       0.7631984 ])\n",
      "per_other_pred=array([0.03630447, 0.03430193, 0.01826788, ..., 0.05580093, 0.0388829 ,\n",
      "       0.03646521])\n",
      "Simulation 53\n",
      "weight_2016=0.912835384712714\n",
      "per_dem_pred=array([0.35422612, 0.39136899, 0.39475294, ..., 0.26102806, 0.20167116,\n",
      "       0.19752558])\n",
      "per_gop_pred=array([0.5973249 , 0.559917  , 0.58111584, ..., 0.6629433 , 0.74817342,\n",
      "       0.75528886])\n",
      "per_other_pred=array([0.04844897, 0.04871401, 0.02413122, ..., 0.07602864, 0.05015542,\n",
      "       0.04718556])\n",
      "Simulation 54\n",
      "weight_2016=0.48766012898327504\n",
      "per_dem_pred=array([0.35484295, 0.40074948, 0.39236812, ..., 0.25914869, 0.21895378,\n",
      "       0.20051213])\n",
      "per_gop_pred=array([0.60961189, 0.56584967, 0.58973059, ..., 0.68631507, 0.74286811,\n",
      "       0.76369293])\n",
      "per_other_pred=array([0.03554516, 0.03340085, 0.01790128, ..., 0.05453624, 0.03817811,\n",
      "       0.03579494])\n",
      "Simulation 55\n",
      "weight_2016=0.8159647121369485\n",
      "per_dem_pred=array([0.35436666, 0.39350622, 0.39420959, ..., 0.26059987, 0.20560878,\n",
      "       0.19820603])\n",
      "per_gop_pred=array([0.60012434, 0.56126868, 0.5830786 , ..., 0.66826826, 0.74696468,\n",
      "       0.75720362])\n",
      "per_other_pred=array([0.04550901, 0.0452251 , 0.02271181, ..., 0.07113187, 0.04742654,\n",
      "       0.04459036])\n",
      "Simulation 56\n",
      "weight_2016=0.9532895391974269\n",
      "per_dem_pred=array([0.35416743, 0.39047647, 0.39497984, ..., 0.26120688, 0.20002677,\n",
      "       0.19724142])\n",
      "per_gop_pred=array([0.59615583, 0.55935252, 0.58029618, ..., 0.66071955, 0.74867821,\n",
      "       0.75448923])\n",
      "per_other_pred=array([0.04967673, 0.05017101, 0.02472398, ..., 0.07807357, 0.05129502,\n",
      "       0.04826935])\n",
      "Simulation 57\n",
      "weight_2016=0.45001777496387263\n",
      "per_dem_pred=array([0.35489756, 0.40157997, 0.39215699, ..., 0.2589823 , 0.22048387,\n",
      "       0.20077654])\n",
      "per_gop_pred=array([0.61069971, 0.56637491, 0.59049329, ..., 0.68838426, 0.74239842,\n",
      "       0.76443697])\n",
      "per_other_pred=array([0.03440274, 0.03204512, 0.01734972, ..., 0.05263343, 0.03711771,\n",
      "       0.03478649])\n",
      "Simulation 58\n",
      "weight_2016=0.4376926829962183\n",
      "per_dem_pred=array([0.35491544, 0.40185189, 0.39208785, ..., 0.25892782, 0.22098487,\n",
      "       0.20086311])\n",
      "per_gop_pred=array([0.61105588, 0.56654689, 0.59074302, ..., 0.68906177, 0.74224462,\n",
      "       0.76468059])\n",
      "per_other_pred=array([0.03402868, 0.03160122, 0.01716913, ..., 0.05201041, 0.03677051,\n",
      "       0.0344563 ])\n",
      "Simulation 59\n",
      "weight_2016=0.7608152272631655\n",
      "per_dem_pred=array([0.35444667, 0.39472296, 0.39390025, ..., 0.2603561 , 0.20785051,\n",
      "       0.19859341])\n",
      "per_gop_pred=array([0.60171808, 0.56203821, 0.58419602, ..., 0.67129981, 0.74627653,\n",
      "       0.75829371])\n",
      "per_other_pred=array([0.04383525, 0.04323883, 0.02190373, ..., 0.06834409, 0.04587297,\n",
      "       0.04311288])\n",
      "Simulation 60\n",
      "weight_2016=0.6738743602137637\n",
      "per_dem_pred=array([0.3545728 , 0.3966411 , 0.3934126 , ..., 0.2599718 , 0.2113845 ,\n",
      "       0.19920411])\n",
      "per_gop_pred=array([0.60423055, 0.56325133, 0.58595759, ..., 0.67607893, 0.74519168,\n",
      "       0.76001219])\n",
      "per_other_pred=array([0.04119665, 0.04010756, 0.02062981, ..., 0.06394927, 0.04342382,\n",
      "       0.0407837 ])\n",
      "Simulation 61\n",
      "weight_2016=0.5469956318683067\n",
      "per_dem_pred=array([0.35475686, 0.39944038, 0.39270094, ..., 0.25941097, 0.21654189,\n",
      "       0.20009534])\n",
      "per_gop_pred=array([0.60789718, 0.56502173, 0.58852836, ..., 0.68305342, 0.7436085 ,\n",
      "       0.76252009])\n",
      "per_other_pred=array([0.03734596, 0.03553789, 0.01877071, ..., 0.05753562, 0.03984961,\n",
      "       0.03738457])\n",
      "Simulation 62\n",
      "weight_2016=0.6589875550310157\n",
      "per_dem_pred=array([0.35459439, 0.39696955, 0.3933291 , ..., 0.259906  , 0.21198962,\n",
      "       0.19930868])\n",
      "per_gop_pred=array([0.60466076, 0.56345906, 0.58625922, ..., 0.67689725, 0.74500593,\n",
      "       0.76030645])\n",
      "per_other_pred=array([0.04074484, 0.0395714 , 0.02041168, ..., 0.06319675, 0.04300445,\n",
      "       0.04038488])\n",
      "Simulation 63\n",
      "weight_2016=0.7428045449274067\n",
      "per_dem_pred=array([0.35447279, 0.39512032, 0.39379923, ..., 0.26027649, 0.20858261,\n",
      "       0.19871992])\n",
      "per_gop_pred=array([0.60223857, 0.56228952, 0.58456095, ..., 0.67228985, 0.74605179,\n",
      "       0.75864971])\n",
      "per_other_pred=array([0.04328864, 0.04259016, 0.02163982, ..., 0.06743366, 0.0453656 ,\n",
      "       0.04263037])\n",
      "Simulation 64\n",
      "weight_2016=0.5769023304797759\n",
      "per_dem_pred=array([0.35471348, 0.39878056, 0.39286868, ..., 0.25954316, 0.21532624,\n",
      "       0.19988527])\n",
      "per_gop_pred=array([0.60703291, 0.56460443, 0.5879224 , ..., 0.68140945, 0.74398167,\n",
      "       0.76192895])\n",
      "per_other_pred=array([0.03825361, 0.03661501, 0.01920892, ..., 0.05904739, 0.04069209,\n",
      "       0.03818578])\n",
      "Simulation 65\n",
      "weight_2016=0.7567787066943861\n",
      "per_dem_pred=array([0.35445252, 0.39481202, 0.39387761, ..., 0.26033826, 0.20801458,\n",
      "       0.19862177])\n",
      "per_gop_pred=array([0.60183473, 0.56209453, 0.58427781, ..., 0.6715217 , 0.74622616,\n",
      "       0.75837349])\n",
      "per_other_pred=array([0.04371275, 0.04309345, 0.02184458, ..., 0.06814005, 0.04575926,\n",
      "       0.04300474])\n",
      "Simulation 66\n",
      "weight_2016=0.765336835380656\n",
      "per_dem_pred=array([0.35444011, 0.3946232 , 0.39392561, ..., 0.26037609, 0.20766671,\n",
      "       0.19856165])\n",
      "per_gop_pred=array([0.60158741, 0.56197511, 0.58410441, ..., 0.67105126, 0.74633295,\n",
      "       0.75820433])\n",
      "per_other_pred=array([0.04397248, 0.04340168, 0.02196998, ..., 0.06857266, 0.04600034,\n",
      "       0.04323402])\n",
      "Simulation 67\n",
      "weight_2016=0.6524135095920303\n",
      "per_dem_pred=array([0.35460393, 0.39711459, 0.39329223, ..., 0.25987694, 0.21225684,\n",
      "       0.19935486])\n",
      "per_gop_pred=array([0.60485074, 0.56355079, 0.58639242, ..., 0.67725862, 0.7449239 ,\n",
      "       0.76043639])\n",
      "per_other_pred=array([0.04054533, 0.03933463, 0.02031535, ..., 0.06286444, 0.04281926,\n",
      "       0.04020875])\n",
      "Simulation 68\n",
      "weight_2016=0.6903368996919361\n",
      "per_dem_pred=array([0.35454891, 0.3962779 , 0.39350494, ..., 0.26004457, 0.21071533,\n",
      "       0.19908847])\n",
      "per_gop_pred=array([0.60375481, 0.56302162, 0.58562403, ..., 0.67517398, 0.7453971 ,\n",
      "       0.75968679])\n",
      "per_other_pred=array([0.04169628, 0.04070048, 0.02087103, ..., 0.06478145, 0.04388757,\n",
      "       0.04122474])\n",
      "Simulation 69\n",
      "weight_2016=0.6512265673011002\n",
      "per_dem_pred=array([0.35460565, 0.39714077, 0.39328557, ..., 0.25987169, 0.21230509,\n",
      "       0.19936319])\n",
      "per_gop_pred=array([0.60488504, 0.56356735, 0.58641647, ..., 0.67732387, 0.74490909,\n",
      "       0.76045985])\n",
      "per_other_pred=array([0.0405093 , 0.03929188, 0.02029796, ..., 0.06280444, 0.04278582,\n",
      "       0.04017696])\n",
      "Simulation 70\n",
      "weight_2016=0.4178895637132929\n",
      "per_dem_pred=array([0.35494417, 0.4022888 , 0.39197678, ..., 0.25884029, 0.22178983,\n",
      "       0.20100222])\n",
      "per_gop_pred=array([0.61162817, 0.56682321, 0.59114426, ..., 0.69015034, 0.74199752,\n",
      "       0.76507202])\n",
      "per_other_pred=array([0.03342767, 0.03088799, 0.01687896, ..., 0.05100937, 0.03621265,\n",
      "       0.03392576])\n",
      "Simulation 71\n",
      "weight_2016=0.5496406283287525\n",
      "per_dem_pred=array([0.35475303, 0.39938203, 0.39271577, ..., 0.25942266, 0.21643438,\n",
      "       0.20007676])\n",
      "per_gop_pred=array([0.60782074, 0.56498482, 0.58847477, ..., 0.68290802, 0.7436415 ,\n",
      "       0.76246781])\n",
      "per_other_pred=array([0.03742623, 0.03563315, 0.01880946, ..., 0.05766932, 0.03992412,\n",
      "       0.03745543])\n",
      "Simulation 72\n",
      "weight_2016=0.5337271406225609\n",
      "per_dem_pred=array([0.35477611, 0.39973312, 0.39262651, ..., 0.25935232, 0.21708124,\n",
      "       0.20018854])\n",
      "per_gop_pred=array([0.60828062, 0.56520687, 0.5887972 , ..., 0.68378278, 0.74344294,\n",
      "       0.76278236])\n",
      "per_other_pred=array([0.03694327, 0.03506001, 0.01857629, ..., 0.0568649 , 0.03947583,\n",
      "       0.0370291 ])\n",
      "Simulation 73\n",
      "weight_2016=0.656084321207503\n",
      "per_dem_pred=array([0.3545986 , 0.3970336 , 0.39331282, ..., 0.25989316, 0.21210763,\n",
      "       0.19932907])\n",
      "per_gop_pred=array([0.60474466, 0.56349957, 0.58631804, ..., 0.67705684, 0.7449697 ,\n",
      "       0.76036383])\n",
      "per_other_pred=array([0.04065673, 0.03946683, 0.02036914, ..., 0.06305   , 0.04292267,\n",
      "       0.0403071 ])\n",
      "Simulation 74\n",
      "weight_2016=0.8560723723458508\n",
      "per_dem_pred=array([0.35430847, 0.39262134, 0.39443455, ..., 0.26077716, 0.20397847,\n",
      "       0.1979243 ])\n",
      "per_gop_pred=array([0.59896528, 0.56070904, 0.58226596, ..., 0.66606355, 0.74746514,\n",
      "       0.75641084])\n",
      "per_other_pred=array([0.04672625, 0.04666963, 0.02329949, ..., 0.07315929, 0.04855639,\n",
      "       0.04566486])\n",
      "Simulation 75\n",
      "weight_2016=0.4062293962932632\n",
      "per_dem_pred=array([0.35496108, 0.40254606, 0.39191138, ..., 0.25878875, 0.22226379,\n",
      "       0.20108412])\n",
      "per_gop_pred=array([0.61196513, 0.56698591, 0.59138051, ..., 0.6907913 , 0.74185203,\n",
      "       0.7653025 ])\n",
      "per_other_pred=array([0.03307379, 0.03046803, 0.01670811, ..., 0.05041995, 0.03588418,\n",
      "       0.03361338])\n",
      "Simulation 76\n",
      "weight_2016=0.9327678768518536\n",
      "per_dem_pred=array([0.35419721, 0.39092923, 0.39486474, ..., 0.26111617, 0.20086094,\n",
      "       0.19738557])\n",
      "per_gop_pred=array([0.59674888, 0.55963887, 0.58071198, ..., 0.66184762, 0.74842214,\n",
      "       0.75489487])\n",
      "per_other_pred=array([0.04905391, 0.0494319 , 0.02442328, ..., 0.07703621, 0.05071692,\n",
      "       0.04771956])\n",
      "Simulation 77\n",
      "weight_2016=0.8407032024207223\n",
      "per_dem_pred=array([0.35433077, 0.39296042, 0.39434835, ..., 0.26070922, 0.2046032 ,\n",
      "       0.19803226])\n",
      "per_gop_pred=array([0.59940943, 0.56092349, 0.58257736, ..., 0.66690839, 0.74727336,\n",
      "       0.75671463])\n",
      "per_other_pred=array([0.0462598 , 0.04611609, 0.02307429, ..., 0.07238239, 0.04812343,\n",
      "       0.04525311])\n",
      "Simulation 78\n",
      "weight_2016=0.40102484454487447\n",
      "per_dem_pred=array([0.35496863, 0.40266088, 0.39188218, ..., 0.25876574, 0.22247535,\n",
      "       0.20112068])\n",
      "per_gop_pred=array([0.61211554, 0.56705853, 0.59148597, ..., 0.69107739, 0.74178709,\n",
      "       0.76540537])\n",
      "per_other_pred=array([0.03291583, 0.03028059, 0.01663185, ..., 0.05015686, 0.03573757,\n",
      "       0.03347395])\n",
      "Simulation 79\n",
      "weight_2016=0.52651356726129\n",
      "per_dem_pred=array([0.35478658, 0.39989227, 0.39258605, ..., 0.25932043, 0.21737445,\n",
      "       0.20023921])\n",
      "per_gop_pred=array([0.60848908, 0.56530753, 0.58894336, ..., 0.68417931, 0.74335293,\n",
      "       0.76292495])\n",
      "per_other_pred=array([0.03672434, 0.0348002 , 0.01847059, ..., 0.05650026, 0.03927262,\n",
      "       0.03683584])\n",
      "Simulation 80\n",
      "weight_2016=0.4296694614850379\n",
      "per_dem_pred=array([0.35492708, 0.40202891, 0.39204285, ..., 0.25889236, 0.221311  ,\n",
      "       0.20091947])\n",
      "per_gop_pred=array([0.61128774, 0.56665884, 0.59090558, ..., 0.6895028 , 0.74214451,\n",
      "       0.76483918])\n",
      "per_other_pred=array([0.03378518, 0.03131225, 0.01705157, ..., 0.05160484, 0.03654449,\n",
      "       0.03424135])\n",
      "Simulation 81\n",
      "weight_2016=0.894263247991977\n",
      "per_dem_pred=array([0.35425307, 0.39177874, 0.39464876, ..., 0.26094597, 0.20242608,\n",
      "       0.19765604])\n",
      "per_gop_pred=array([0.59786161, 0.56017614, 0.58149215, ..., 0.66396421, 0.74794168,\n",
      "       0.75565596])\n",
      "per_other_pred=array([0.04788532, 0.04804511, 0.02385909, ..., 0.07508982, 0.04963224,\n",
      "       0.04668801])\n",
      "Simulation 82\n",
      "weight_2016=0.3059875940032282\n",
      "per_dem_pred=array([0.35510651, 0.40475766, 0.39134912, ..., 0.25834566, 0.22633844,\n",
      "       0.20178825])\n",
      "per_gop_pred=array([0.61486198, 0.56838463, 0.59341158, ..., 0.69630156, 0.74060122,\n",
      "       0.76728389])\n",
      "per_other_pred=array([0.03003151, 0.02685772, 0.0152393 , ..., 0.04535278, 0.03306034,\n",
      "       0.03092786])\n",
      "Simulation 83\n",
      "weight_2016=0.3980367852503234\n",
      "per_dem_pred=array([0.35497297, 0.40272681, 0.39186542, ..., 0.25875254, 0.22259681,\n",
      "       0.20114167])\n",
      "per_gop_pred=array([0.61220189, 0.56710022, 0.59154651, ..., 0.69124164, 0.7417498 ,\n",
      "       0.76546444])\n",
      "per_other_pred=array([0.03282515, 0.03017297, 0.01658807, ..., 0.05000582, 0.03565339,\n",
      "       0.0333939 ])\n",
      "Simulation 84\n",
      "weight_2016=0.3398429161107063\n",
      "per_dem_pred=array([0.35505739, 0.40401072, 0.39153901, ..., 0.25849531, 0.22496228,\n",
      "       0.20155044])\n",
      "per_gop_pred=array([0.61388361, 0.56791223, 0.59272561, ..., 0.69444055, 0.74102366,\n",
      "       0.7666147 ])\n",
      "per_other_pred=array([0.031059  , 0.02807705, 0.01573537, ..., 0.04706415, 0.03401405,\n",
      "       0.03183486])\n",
      "Simulation 85\n",
      "weight_2016=0.4140184014801827\n",
      "per_dem_pred=array([0.35494978, 0.40237421, 0.39195507, ..., 0.25882318, 0.22194718,\n",
      "       0.20102941])\n",
      "per_gop_pred=array([0.61174004, 0.56687722, 0.5912227 , ..., 0.69036314, 0.74194922,\n",
      "       0.76514854])\n",
      "per_other_pred=array([0.03331018, 0.03074856, 0.01682224, ..., 0.05081368, 0.0361036 ,\n",
      "       0.03382205])\n",
      "Simulation 86\n",
      "weight_2016=0.6649055709187598\n",
      "per_dem_pred=array([0.35458581, 0.39683898, 0.39336229, ..., 0.25993216, 0.21174906,\n",
      "       0.19926711])\n",
      "per_gop_pred=array([0.60448974, 0.56337648, 0.58613931, ..., 0.67657194, 0.74507977,\n",
      "       0.76018947])\n",
      "per_other_pred=array([0.04092445, 0.03978454, 0.0204984 , ..., 0.06349591, 0.04317116,\n",
      "       0.04054342])\n",
      "Simulation 87\n",
      "weight_2016=0.5881669829013967\n",
      "per_dem_pred=array([0.35469714, 0.39853204, 0.39293187, ..., 0.25959295, 0.21486835,\n",
      "       0.19980614])\n",
      "per_gop_pred=array([0.60670738, 0.56444725, 0.58769416, ..., 0.68079024, 0.74412223,\n",
      "       0.7617063 ])\n",
      "per_other_pred=array([0.03859548, 0.03702072, 0.01937397, ..., 0.05961681, 0.04100942,\n",
      "       0.03848756])\n",
      "Simulation 88\n",
      "weight_2016=0.3325877432492694\n",
      "per_dem_pred=array([0.35506792, 0.40417079, 0.39149832, ..., 0.25846324, 0.22525719,\n",
      "       0.2016014 ])\n",
      "per_gop_pred=array([0.61409327, 0.56801346, 0.59287262, ..., 0.69483936, 0.74093313,\n",
      "       0.76675811])\n",
      "per_other_pred=array([0.03083881, 0.02781575, 0.01562907, ..., 0.0466974 , 0.03380967,\n",
      "       0.03164049])\n",
      "Simulation 89\n",
      "weight_2016=0.600191923918864\n",
      "per_dem_pred=array([0.35467969, 0.39826673, 0.39299931, ..., 0.25964611, 0.21437956,\n",
      "       0.19972167])\n",
      "per_gop_pred=array([0.60635988, 0.56427946, 0.58745051, ..., 0.68012923, 0.74427228,\n",
      "       0.76146861])\n",
      "per_other_pred=array([0.03896043, 0.03745381, 0.01955017, ..., 0.06022466, 0.04134816,\n",
      "       0.03880972])\n",
      "Simulation 90\n",
      "weight_2016=0.5997577073378567\n",
      "per_dem_pred=array([0.35468032, 0.39827631, 0.39299688, ..., 0.25964419, 0.21439721,\n",
      "       0.19972472])\n",
      "per_gop_pred=array([0.60637243, 0.56428552, 0.58745931, ..., 0.6801531 , 0.74426686,\n",
      "       0.76147719])\n",
      "per_other_pred=array([0.03894725, 0.03743817, 0.01954381, ..., 0.06020271, 0.04133593,\n",
      "       0.03879808])\n",
      "Simulation 91\n",
      "weight_2016=0.9722578901259485\n",
      "per_dem_pred=array([0.35413992, 0.39005798, 0.39508624, ..., 0.26129072, 0.19925574,\n",
      "       0.19710818])\n",
      "per_gop_pred=array([0.59560767, 0.55908785, 0.57991185, ..., 0.65967686, 0.74891489,\n",
      "       0.7541143 ])\n",
      "per_other_pred=array([0.05025241, 0.05085417, 0.02500192, ..., 0.07903241, 0.05182937,\n",
      "       0.04877752])\n",
      "Simulation 92\n",
      "weight_2016=0.6624252265886115\n",
      "per_dem_pred=array([0.35458941, 0.3968937 , 0.39334838, ..., 0.25992119, 0.21184989,\n",
      "       0.19928453])\n",
      "per_gop_pred=array([0.60456142, 0.56341109, 0.58618957, ..., 0.67670828, 0.74504882,\n",
      "       0.7602385 ])\n",
      "per_other_pred=array([0.04084918, 0.03969521, 0.02046205, ..., 0.06337053, 0.04310129,\n",
      "       0.04047697])\n",
      "Simulation 93\n",
      "weight_2016=0.6288771745303148\n",
      "per_dem_pred=array([0.35463808, 0.39763386, 0.39316021, ..., 0.2597729 , 0.21321356,\n",
      "       0.19952018])\n",
      "per_gop_pred=array([0.60553091, 0.5638792 , 0.5868693 , ..., 0.67855241, 0.74463021,\n",
      "       0.76090161])\n",
      "per_other_pred=array([0.03983101, 0.03848694, 0.01997049, ..., 0.06167469, 0.04215623,\n",
      "       0.03957821])\n",
      "Simulation 94\n",
      "weight_2016=0.5768240628470036\n",
      "per_dem_pred=array([0.35471359, 0.39878229, 0.39286824, ..., 0.25954282, 0.21532942,\n",
      "       0.19988582])\n",
      "per_gop_pred=array([0.60703518, 0.56460552, 0.58792399, ..., 0.68141375, 0.7439807 ,\n",
      "       0.7619305 ])\n",
      "per_other_pred=array([0.03825123, 0.03661219, 0.01920777, ..., 0.05904343, 0.04068988,\n",
      "       0.03818368])\n",
      "Simulation 95\n",
      "weight_2016=0.4505448587673471\n",
      "per_dem_pred=array([0.35489679, 0.40156834, 0.39215994, ..., 0.25898463, 0.22046245,\n",
      "       0.20077284])\n",
      "per_gop_pred=array([0.61068447, 0.56636755, 0.59048261, ..., 0.68835529, 0.74240499,\n",
      "       0.76442655])\n",
      "per_other_pred=array([0.03441874, 0.0320641 , 0.01735745, ..., 0.05266008, 0.03713256,\n",
      "       0.03480061])\n",
      "Simulation 96\n",
      "weight_2016=0.5092035810353852\n",
      "per_dem_pred=array([0.35481169, 0.40027418, 0.39248896, ..., 0.25924392, 0.21807807,\n",
      "       0.2003608 ])\n",
      "per_gop_pred=array([0.60898932, 0.56554906, 0.58929409, ..., 0.68513083, 0.74313693,\n",
      "       0.7632671 ])\n",
      "per_other_pred=array([0.03619899, 0.03417676, 0.01821695, ..., 0.05562525, 0.03878499,\n",
      "       0.0363721 ])\n",
      "Simulation 97\n",
      "weight_2016=0.8954479909860148\n",
      "per_dem_pred=array([0.35425135, 0.39175261, 0.39465541, ..., 0.26095121, 0.20237792,\n",
      "       0.19764771])\n",
      "per_gop_pred=array([0.59782738, 0.56015961, 0.58146814, ..., 0.66389908, 0.74795646,\n",
      "       0.75563254])\n",
      "per_other_pred=array([0.04792128, 0.04808778, 0.02387645, ..., 0.07514971, 0.04966561,\n",
      "       0.04671975])\n",
      "Simulation 98\n",
      "weight_2016=0.6284973489647974\n",
      "per_dem_pred=array([0.35463863, 0.39764224, 0.39315808, ..., 0.25977122, 0.21322899,\n",
      "       0.19952285])\n",
      "per_gop_pred=array([0.60554189, 0.5638845 , 0.586877  , ..., 0.67857329, 0.74462547,\n",
      "       0.76090912])\n",
      "per_other_pred=array([0.03981949, 0.03847326, 0.01996492, ..., 0.06165549, 0.04214553,\n",
      "       0.03956803])\n",
      "Simulation 99\n",
      "weight_2016=0.40967455583599527\n",
      "per_dem_pred=array([0.35495608, 0.40247005, 0.3919307 , ..., 0.25880398, 0.22212375,\n",
      "       0.20105992])\n",
      "per_gop_pred=array([0.61186557, 0.56693784, 0.59131071, ..., 0.69060192, 0.74189502,\n",
      "       0.7652344 ])\n",
      "per_other_pred=array([0.03317835, 0.03059212, 0.01675859, ..., 0.0505941 , 0.03598123,\n",
      "       0.03370568])\n"
     ]
    }
   ],
   "source": [
    "import joblib\n",
    "import statsmodels.api as sm\n",
    "\n",
    "# Inicializar un DataFrame para guardar los resultados de las simulaciones\n",
    "# simulation_results = pd.DataFrame(columns=['Pred_dem', 'Pred_gop', 'dem', 'gop'])\n",
    "simulation_results = pd.DataFrame(columns=['Pred_dem', 'Pred_gop'])\n",
    "\n",
    "\n",
    "# Inicializar un DataFrame para acumular los resultados por estado\n",
    "accumulated_pred_state = pd.DataFrame()\n",
    "\n",
    "for i in range(0, n_sim):\n",
    "\n",
    "    print(f\"Simulation {i}\")\n",
    "\n",
    "    ## ------------------------------\n",
    "    ## SPLIT DEL DATASET (ENTRENAMIENTO)\n",
    "    # X_2016 = data_2016.drop(columns=['per_dem', 'per_gop'])\n",
    "    # y_dem_2016 = data_2016['per_dem']\n",
    "    # y_gop_2016 = data_2016['per_gop']\n",
    "\n",
    "    # X_2020 = data_2020.drop(columns=['per_dem', 'per_gop'])\n",
    "    # y_dem_2020 = data_2020['per_dem']\n",
    "    # y_gop_2020 = data_2020['per_gop']\n",
    "\n",
    "    # # Hacer un split en cada simulación (80% train, 20% test)\n",
    "    # X_train_2016, X_test_2016, y_train_dem_2016, y_test_dem_2016 = train_test_split(X_2016, y_dem_2016, test_size=0.2, random_state=i)\n",
    "    # _, _, y_train_gop_2016, y_test_gop_2016 = train_test_split(X_2016, y_gop_2016, test_size=0.2, random_state=i)\n",
    "\n",
    "    # X_train_2020, X_test_2020, y_train_dem_2020, y_test_dem_2020 = train_test_split(X_2020, y_dem_2020, test_size=0.2, random_state=i)\n",
    "    # _, _, y_train_gop_2020, y_test_gop_2020 = train_test_split(X_2020, y_gop_2020, test_size=0.2, random_state=i)\n",
    "\n",
    "    # Imprimir los índices del train para 2016 y 2020\n",
    "    # print(f\"Train indices 2016: {X_train_2016.index}\")\n",
    "    # print(f\"Train indices 2020: {X_train_2020.index}\")\n",
    "\n",
    "    ## ------------------------------\n",
    "    ## ENTRENAR MODELOS\n",
    "    # # Modelos para per_dem 2016\n",
    "    # lr_model_dem_2016 = LinearRegression().fit(X_train_2016, y_train_dem_2016)\n",
    "    # rf_model_dem_2016 = RandomForestRegressor(n_estimators=100, random_state=i).fit(X_train_2016, y_train_dem_2016)\n",
    "    # knn_model_dem_2016 = KNeighborsRegressor(n_neighbors=5).fit(X_train_2016, y_train_dem_2016)\n",
    "    # # Modelos para per_dem 2020\n",
    "    # lr_model_dem_2020 = LinearRegression().fit(X_train_2020, y_train_dem_2020)\n",
    "    # rf_model_dem_2020 = RandomForestRegressor(n_estimators=100, random_state=i).fit(X_train_2020, y_train_dem_2020)\n",
    "    # knn_model_dem_2020 = KNeighborsRegressor(n_neighbors=5).fit(X_train_2020, y_train_dem_2020)\n",
    "\n",
    "    # # Modelos para per_gop 2016\n",
    "    # lr_model_gop_2016 = LinearRegression().fit(X_train_2016, y_train_gop_2016)\n",
    "    # rf_model_gop_2016 = RandomForestRegressor(n_estimators=100, random_state=i).fit(X_train_2016, y_train_gop_2016)\n",
    "    # knn_model_gop_2016 = KNeighborsRegressor(n_neighbors=5).fit(X_train_2016, y_train_gop_2016)\n",
    "    # # Modelos para per_gop 2020\n",
    "    # lr_model_gop_2020 = LinearRegression().fit(X_train_2020, y_train_gop_2020)\n",
    "    # rf_model_gop_2020 = RandomForestRegressor(n_estimators=100, random_state=i).fit(X_train_2020, y_train_gop_2020)\n",
    "    # knn_model_gop_2020 = KNeighborsRegressor(n_neighbors=5).fit(X_train_2020, y_train_gop_2020)\n",
    "\n",
    "    ## ------------------------------\n",
    "    ## CARGAR MODELOS DESDE ARCHIVOS GUARDADOS\n",
    "    # Modelos para per_dem 2016\n",
    "    lr_model_dem_2016 = joblib.load(f'models/ridge_dem_2016.pkl')\n",
    "    rf_model_dem_2016 = joblib.load(f'models/random_forest_dem_2016.pkl')\n",
    "    knn_model_dem_2016 = joblib.load(f'models/knn_dem_2016.pkl')\n",
    "    \n",
    "    # Modelos para per_dem 2020\n",
    "    lr_model_dem_2020 = joblib.load(f'models/ridge_dem_2020.pkl')\n",
    "    rf_model_dem_2020 = joblib.load(f'models/random_forest_dem_2020.pkl')\n",
    "    knn_model_dem_2020 = joblib.load(f'models/knn_dem_2020.pkl')\n",
    "\n",
    "    # Modelos para per_gop 2016\n",
    "    lr_model_gop_2016 = joblib.load(f'models/ridge_gop_2016.pkl')\n",
    "    rf_model_gop_2016 = joblib.load(f'models/random_forest_gop_2016.pkl')\n",
    "    knn_model_gop_2016 = joblib.load(f'models/knn_gop_2016.pkl')\n",
    "\n",
    "    # Modelos para per_gop 2020\n",
    "    lr_model_gop_2020 = joblib.load(f'models/ridge_gop_2020.pkl')\n",
    "    rf_model_gop_2020 = joblib.load(f'models/random_forest_gop_2020.pkl')\n",
    "    knn_model_gop_2020 = joblib.load(f'models/knn_gop_2020.pkl')\n",
    "\n",
    "\n",
    "\n",
    "    ## ------------------------------\n",
    "    ## PREDICCIONES CON data_sim\n",
    "    X_sim = data_sim.drop(columns=['per_dem', 'per_gop'])\n",
    "\n",
    "    # Predicciones per_dem 2016\n",
    "    pred_lr_dem_2016 = lr_model_dem_2016.predict(X_sim)\n",
    "    pred_rf_dem_2016 = rf_model_dem_2016.predict(X_sim)\n",
    "    pred_knn_dem_2016 = knn_model_dem_2016.predict(X_sim)\n",
    "    # Predicciones per_dem 2020\n",
    "    pred_lr_dem_2020 = lr_model_dem_2020.predict(X_sim)\n",
    "    pred_rf_dem_2020 = rf_model_dem_2020.predict(X_sim)\n",
    "    pred_knn_dem_2020 = knn_model_dem_2020.predict(X_sim)\n",
    "\n",
    "    # Predicciones per_gop 2016\n",
    "    pred_lr_gop_2016 = lr_model_gop_2016.predict(X_sim)\n",
    "    pred_rf_gop_2016 = rf_model_gop_2016.predict(X_sim)\n",
    "    pred_knn_gop_2016 = knn_model_gop_2016.predict(X_sim)\n",
    "    # Predicciones per_gop 2020\n",
    "    pred_lr_gop_2020 = lr_model_gop_2020.predict(X_sim)\n",
    "    pred_rf_gop_2020 = rf_model_gop_2020.predict(X_sim)\n",
    "    pred_knn_gop_2020 = knn_model_gop_2020.predict(X_sim)\n",
    "\n",
    "    # Promedio de predicciones 2016\n",
    "    per_dem_pred_2016 = (pred_lr_dem_2016 + pred_rf_dem_2016 + pred_knn_dem_2016) / 3\n",
    "    per_gop_pred_2016 = (pred_lr_gop_2016 + pred_rf_gop_2016 + pred_knn_gop_2016) / 3\n",
    "    # Promedio de predicciones 2020\n",
    "    per_dem_pred_2020 = (pred_lr_dem_2020 + pred_rf_dem_2020 + pred_knn_dem_2020) / 3\n",
    "    per_gop_pred_2020 = (pred_lr_gop_2020 + pred_rf_gop_2020 + pred_knn_gop_2020) / 3\n",
    "\n",
    "    # Calcular per_other de manera residual 2016\n",
    "    per_other_pred_2016 = 1 - (per_dem_pred_2016 + per_gop_pred_2016)\n",
    "    # Calcular per_other de manera residual 2020\n",
    "    per_other_pred_2020 = 1 - (per_dem_pred_2020 + per_gop_pred_2020)\n",
    "    \n",
    "    # Asegurar que per_other no sea negativo (si es menor a 0, ajustamos) 2016\n",
    "    per_other_pred_2016 = np.clip(per_other_pred_2016, 0, 1)\n",
    "    # Asegurar que per_other no sea negativo (si es menor a 0, ajustamos) 2020\n",
    "    per_other_pred_2020 = np.clip(per_other_pred_2020, 0, 1)\n",
    "\n",
    "    # Weighted sum of predictions 2016 and 2020\n",
    "    weight_2016 = np.random.uniform(0.3, 1)  # Puede ser entre 0% y 100%\n",
    "    weight_2020 = 1 - weight_2016\n",
    "    print(f\"{weight_2016=}\")\n",
    "\n",
    "    per_dem_pred = (weight_2016 * per_dem_pred_2016 + weight_2020 * per_dem_pred_2020) / (weight_2016 + weight_2020)\n",
    "    per_gop_pred = (weight_2016 * per_gop_pred_2016 + weight_2020 * per_gop_pred_2020) / (weight_2016 + weight_2020)\n",
    "    per_other_pred = (weight_2016 * per_other_pred_2016 + weight_2020 * per_other_pred_2020) / (weight_2016 + weight_2020)\n",
    "    print(f\"{per_dem_pred=}\")\n",
    "    print(f\"{per_gop_pred=}\")\n",
    "    print(f\"{per_other_pred=}\")\n",
    "\n",
    "    ## PROCESAMIENTO DE RESULTADOS\n",
    "    df_pred = pd.DataFrame({\n",
    "        'Votes_dem': per_dem_pred * data['total_votes'], \n",
    "        'Votes_gop': per_gop_pred * data['total_votes'],\n",
    "        'Votes_other': per_other_pred * data['total_votes'],\n",
    "        'Votes_total': data['total_votes'], \n",
    "        'state': state_names,\n",
    "        'county': county_names,\n",
    "        'fips': fips_codes\n",
    "    })\n",
    "\n",
    "    df_pred_state = df_pred.groupby(\"state\").agg(Votes_dem=(\"Votes_dem\", 'sum'), \n",
    "                                                 Votes_gop=(\"Votes_gop\", 'sum'),\n",
    "                                                 Votes_other=(\"Votes_other\", 'sum'),\n",
    "                                                 Votes_total=(\"Votes_total\", 'sum'))\n",
    "    \n",
    "    \n",
    "    # Calcular porcentaje de cada candidato en el estado\n",
    "    df_pred_state[\"Per_dem\"] = df_pred_state[\"Votes_dem\"] / df_pred_state[\"Votes_total\"] \n",
    "    df_pred_state[\"Per_gop\"] = 1 - df_pred_state[\"Per_dem\"]\n",
    "\n",
    "    # # Ajustar las predicciones en función de la desviación histórica\n",
    "    # df_pred_state[\"Per_dem\"] += (state_adjustments[\"per_dem_2020\"] - state_adjustments[\"per_dem_2016\"])\n",
    "    # df_pred_state[\"Per_gop\"] += (state_adjustments[\"per_gop_2020\"] - state_adjustments[\"per_gop_2016\"])\n",
    "\n",
    "    # # Normalizar para que sumen 1\n",
    "    # df_pred_state[\"Per_other\"] = 1 - (df_pred_state[\"Per_dem\"] + df_pred_state[\"Per_gop\"])\n",
    "    # df_pred_state[\"Per_other\"] = np.clip(df_pred_state[\"Per_other\"], 0, 1)\n",
    "\n",
    "\n",
    "    # Acumular los resultados de cada simulación\n",
    "    if accumulated_pred_state.empty:\n",
    "        accumulated_pred_state = df_pred_state.copy()  # Primera iteración, simplemente copiamos los datos\n",
    "    else:\n",
    "        accumulated_pred_state['Votes_dem'] += df_pred_state['Votes_dem']\n",
    "        accumulated_pred_state['Votes_gop'] += df_pred_state['Votes_gop']\n",
    "        accumulated_pred_state['Votes_total'] += df_pred_state['Votes_total']\n",
    "        accumulated_pred_state[\"Per_dem\"] += df_pred_state[\"Per_dem\"]\n",
    "        accumulated_pred_state[\"Per_gop\"] += df_pred_state[\"Per_gop\"]\n",
    "\n",
    "\n",
    "    # Predicción y ganadores\n",
    "    df_pred_state[\"Winner\"] = np.where(df_pred_state[\"Per_dem\"] < df_pred_state[\"Per_gop\"], 'gop', 'dem')    \n",
    "\n",
    "    # Añadir votos electorales (escaños) a cada estado\n",
    "    full_df_pred_state = pd.merge(seats_data, df_pred_state, how='inner', on=[\"state\"])\n",
    "\n",
    "    # Agrupar por estado y sumar los votos\n",
    "    df_pred_winner = full_df_pred_state.groupby(\"Winner\").agg({\n",
    "        \"electoral_votes_number\": \"sum\",  # Sumar los votos electorales de cada candidato\n",
    "    }).reset_index()\n",
    "\n",
    "    df_pred_winner.loc[df_pred_winner[\"Winner\"] == 'gop', 'electoral_votes_number'] += 3 # Añadir 3 al número de votos electorales de Trump por Alaska\n",
    "\n",
    "    # Crear un nuevo DataFrame con los resultados de esta simulación\n",
    "    dem_votes = df_pred_winner.loc[df_pred_winner[\"Winner\"] == 'dem', 'electoral_votes_number'].values[0]\n",
    "    gop_votes = df_pred_winner.loc[df_pred_winner[\"Winner\"] == 'gop', 'electoral_votes_number'].values[0]\n",
    "\n",
    "    # Determinar el ganador considerando empates\n",
    "    if dem_votes > gop_votes:\n",
    "        winner = 'dem'\n",
    "    elif gop_votes > dem_votes:\n",
    "        winner = 'gop'\n",
    "    else:\n",
    "        winner = 'tie'  # En caso de empate\n",
    "\n",
    "    # Crear un nuevo DataFrame con los resultados de esta simulación\n",
    "    new_row = pd.DataFrame({\n",
    "        'Pred_dem': [dem_votes],\n",
    "        'Pred_gop': [gop_votes],\n",
    "        'Winner': [winner]\n",
    "    })\n",
    "\n",
    "\n",
    "    # Usar concat para añadir la nueva fila\n",
    "    simulation_results = pd.concat([simulation_results, new_row], ignore_index=True)\n",
    "\n",
    "# Después de todas las simulaciones, calcular la media\n",
    "accumulated_pred_state['Votes_dem'] /= n_sim\n",
    "accumulated_pred_state['Votes_gop'] /= n_sim\n",
    "accumulated_pred_state['Votes_total'] /= n_sim\n",
    "accumulated_pred_state['Per_dem'] /= n_sim\n",
    "accumulated_pred_state['Per_gop'] /= n_sim\n"
   ]
  },
  {
   "cell_type": "markdown",
   "metadata": {},
   "source": [
    "## Results"
   ]
  },
  {
   "cell_type": "code",
   "execution_count": 209,
   "metadata": {},
   "outputs": [
    {
     "data": {
      "text/plain": [
       "Winner\n",
       "gop    60\n",
       "dem    40\n",
       "Name: count, dtype: int64"
      ]
     },
     "execution_count": 209,
     "metadata": {},
     "output_type": "execute_result"
    }
   ],
   "source": [
    "simulation_results[\"Winner\"].value_counts()"
   ]
  },
  {
   "cell_type": "code",
   "execution_count": 210,
   "metadata": {},
   "outputs": [
    {
     "data": {
      "text/plain": [
       "Winner\n",
       "gop    0.6\n",
       "dem    0.4\n",
       "Name: proportion, dtype: float64"
      ]
     },
     "execution_count": 210,
     "metadata": {},
     "output_type": "execute_result"
    }
   ],
   "source": [
    "simulation_results[\"Winner\"].value_counts(normalize=True)"
   ]
  },
  {
   "cell_type": "code",
   "execution_count": 211,
   "metadata": {},
   "outputs": [
    {
     "data": {
      "text/html": [
       "<div>\n",
       "<style scoped>\n",
       "    .dataframe tbody tr th:only-of-type {\n",
       "        vertical-align: middle;\n",
       "    }\n",
       "\n",
       "    .dataframe tbody tr th {\n",
       "        vertical-align: top;\n",
       "    }\n",
       "\n",
       "    .dataframe thead th {\n",
       "        text-align: right;\n",
       "    }\n",
       "</style>\n",
       "<table border=\"1\" class=\"dataframe\">\n",
       "  <thead>\n",
       "    <tr style=\"text-align: right;\">\n",
       "      <th></th>\n",
       "      <th>Pred_dem</th>\n",
       "      <th>Pred_gop</th>\n",
       "      <th>Winner</th>\n",
       "    </tr>\n",
       "  </thead>\n",
       "  <tbody>\n",
       "    <tr>\n",
       "      <th>0</th>\n",
       "      <td>276</td>\n",
       "      <td>255</td>\n",
       "      <td>dem</td>\n",
       "    </tr>\n",
       "    <tr>\n",
       "      <th>1</th>\n",
       "      <td>276</td>\n",
       "      <td>255</td>\n",
       "      <td>dem</td>\n",
       "    </tr>\n",
       "    <tr>\n",
       "      <th>2</th>\n",
       "      <td>276</td>\n",
       "      <td>255</td>\n",
       "      <td>dem</td>\n",
       "    </tr>\n",
       "    <tr>\n",
       "      <th>3</th>\n",
       "      <td>240</td>\n",
       "      <td>291</td>\n",
       "      <td>gop</td>\n",
       "    </tr>\n",
       "    <tr>\n",
       "      <th>4</th>\n",
       "      <td>256</td>\n",
       "      <td>275</td>\n",
       "      <td>gop</td>\n",
       "    </tr>\n",
       "    <tr>\n",
       "      <th>...</th>\n",
       "      <td>...</td>\n",
       "      <td>...</td>\n",
       "      <td>...</td>\n",
       "    </tr>\n",
       "    <tr>\n",
       "      <th>95</th>\n",
       "      <td>276</td>\n",
       "      <td>255</td>\n",
       "      <td>dem</td>\n",
       "    </tr>\n",
       "    <tr>\n",
       "      <th>96</th>\n",
       "      <td>276</td>\n",
       "      <td>255</td>\n",
       "      <td>dem</td>\n",
       "    </tr>\n",
       "    <tr>\n",
       "      <th>97</th>\n",
       "      <td>256</td>\n",
       "      <td>275</td>\n",
       "      <td>gop</td>\n",
       "    </tr>\n",
       "    <tr>\n",
       "      <th>98</th>\n",
       "      <td>256</td>\n",
       "      <td>275</td>\n",
       "      <td>gop</td>\n",
       "    </tr>\n",
       "    <tr>\n",
       "      <th>99</th>\n",
       "      <td>276</td>\n",
       "      <td>255</td>\n",
       "      <td>dem</td>\n",
       "    </tr>\n",
       "  </tbody>\n",
       "</table>\n",
       "<p>100 rows × 3 columns</p>\n",
       "</div>"
      ],
      "text/plain": [
       "   Pred_dem Pred_gop Winner\n",
       "0       276      255    dem\n",
       "1       276      255    dem\n",
       "2       276      255    dem\n",
       "3       240      291    gop\n",
       "4       256      275    gop\n",
       "..      ...      ...    ...\n",
       "95      276      255    dem\n",
       "96      276      255    dem\n",
       "97      256      275    gop\n",
       "98      256      275    gop\n",
       "99      276      255    dem\n",
       "\n",
       "[100 rows x 3 columns]"
      ]
     },
     "execution_count": 211,
     "metadata": {},
     "output_type": "execute_result"
    }
   ],
   "source": [
    "simulation_results"
   ]
  },
  {
   "cell_type": "code",
   "execution_count": 212,
   "metadata": {},
   "outputs": [
    {
     "data": {
      "text/html": [
       "<div>\n",
       "<style scoped>\n",
       "    .dataframe tbody tr th:only-of-type {\n",
       "        vertical-align: middle;\n",
       "    }\n",
       "\n",
       "    .dataframe tbody tr th {\n",
       "        vertical-align: top;\n",
       "    }\n",
       "\n",
       "    .dataframe thead th {\n",
       "        text-align: right;\n",
       "    }\n",
       "</style>\n",
       "<table border=\"1\" class=\"dataframe\">\n",
       "  <thead>\n",
       "    <tr style=\"text-align: right;\">\n",
       "      <th></th>\n",
       "      <th>Votes_dem</th>\n",
       "      <th>Votes_gop</th>\n",
       "      <th>Votes_other</th>\n",
       "      <th>Votes_total</th>\n",
       "      <th>Per_dem</th>\n",
       "      <th>Per_gop</th>\n",
       "      <th>Winner</th>\n",
       "      <th>state_code</th>\n",
       "      <th>Difference</th>\n",
       "      <th>Status</th>\n",
       "    </tr>\n",
       "    <tr>\n",
       "      <th>state</th>\n",
       "      <th></th>\n",
       "      <th></th>\n",
       "      <th></th>\n",
       "      <th></th>\n",
       "      <th></th>\n",
       "      <th></th>\n",
       "      <th></th>\n",
       "      <th></th>\n",
       "      <th></th>\n",
       "      <th></th>\n",
       "    </tr>\n",
       "  </thead>\n",
       "  <tbody>\n",
       "    <tr>\n",
       "      <th>Alabama</th>\n",
       "      <td>9.493708e+05</td>\n",
       "      <td>1.227881e+06</td>\n",
       "      <td>72577.153097</td>\n",
       "      <td>2256352.0</td>\n",
       "      <td>0.420755</td>\n",
       "      <td>0.579245</td>\n",
       "      <td>gop</td>\n",
       "      <td>AL</td>\n",
       "      <td>-15.849049</td>\n",
       "      <td>Safe Republican</td>\n",
       "    </tr>\n",
       "    <tr>\n",
       "      <th>Arizona</th>\n",
       "      <td>1.973560e+06</td>\n",
       "      <td>1.281557e+06</td>\n",
       "      <td>120496.482056</td>\n",
       "      <td>3389319.0</td>\n",
       "      <td>0.582288</td>\n",
       "      <td>0.417712</td>\n",
       "      <td>dem</td>\n",
       "      <td>AZ</td>\n",
       "      <td>16.457630</td>\n",
       "      <td>Safe Democrat</td>\n",
       "    </tr>\n",
       "    <tr>\n",
       "      <th>Arkansas</th>\n",
       "      <td>4.450751e+05</td>\n",
       "      <td>6.906883e+05</td>\n",
       "      <td>43143.657475</td>\n",
       "      <td>1182676.0</td>\n",
       "      <td>0.376329</td>\n",
       "      <td>0.623671</td>\n",
       "      <td>gop</td>\n",
       "      <td>AR</td>\n",
       "      <td>-24.734228</td>\n",
       "      <td>Safe Republican</td>\n",
       "    </tr>\n",
       "    <tr>\n",
       "      <th>California</th>\n",
       "      <td>1.072142e+07</td>\n",
       "      <td>2.164950e+06</td>\n",
       "      <td>653750.149672</td>\n",
       "      <td>15862536.0</td>\n",
       "      <td>0.675896</td>\n",
       "      <td>0.324104</td>\n",
       "      <td>dem</td>\n",
       "      <td>CA</td>\n",
       "      <td>35.179124</td>\n",
       "      <td>Safe Democrat</td>\n",
       "    </tr>\n",
       "    <tr>\n",
       "      <th>Colorado</th>\n",
       "      <td>1.845481e+06</td>\n",
       "      <td>1.177472e+06</td>\n",
       "      <td>153169.545636</td>\n",
       "      <td>3190873.0</td>\n",
       "      <td>0.578363</td>\n",
       "      <td>0.421637</td>\n",
       "      <td>dem</td>\n",
       "      <td>CO</td>\n",
       "      <td>15.672506</td>\n",
       "      <td>Safe Democrat</td>\n",
       "    </tr>\n",
       "    <tr>\n",
       "      <th>Delaware</th>\n",
       "      <td>2.711218e+05</td>\n",
       "      <td>2.215987e+05</td>\n",
       "      <td>17376.860723</td>\n",
       "      <td>511697.0</td>\n",
       "      <td>0.529848</td>\n",
       "      <td>0.470152</td>\n",
       "      <td>dem</td>\n",
       "      <td>DE</td>\n",
       "      <td>5.969660</td>\n",
       "      <td>Likely Democrat</td>\n",
       "    </tr>\n",
       "    <tr>\n",
       "      <th>District of Columbia</th>\n",
       "      <td>3.470584e+04</td>\n",
       "      <td>4.207896e+03</td>\n",
       "      <td>1445.643974</td>\n",
       "      <td>40463.0</td>\n",
       "      <td>0.857718</td>\n",
       "      <td>0.142282</td>\n",
       "      <td>dem</td>\n",
       "      <td>DC</td>\n",
       "      <td>71.543570</td>\n",
       "      <td>Safe Democrat</td>\n",
       "    </tr>\n",
       "    <tr>\n",
       "      <th>Florida</th>\n",
       "      <td>5.948966e+06</td>\n",
       "      <td>4.606124e+06</td>\n",
       "      <td>310583.739834</td>\n",
       "      <td>10893547.0</td>\n",
       "      <td>0.546100</td>\n",
       "      <td>0.453900</td>\n",
       "      <td>dem</td>\n",
       "      <td>FL</td>\n",
       "      <td>9.220002</td>\n",
       "      <td>Likely Democrat</td>\n",
       "    </tr>\n",
       "    <tr>\n",
       "      <th>Georgia</th>\n",
       "      <td>2.648412e+06</td>\n",
       "      <td>2.429197e+06</td>\n",
       "      <td>157944.961086</td>\n",
       "      <td>5250047.0</td>\n",
       "      <td>0.504455</td>\n",
       "      <td>0.495545</td>\n",
       "      <td>dem</td>\n",
       "      <td>GA</td>\n",
       "      <td>0.890978</td>\n",
       "      <td>Toss-Up</td>\n",
       "    </tr>\n",
       "    <tr>\n",
       "      <th>Hawaii</th>\n",
       "      <td>3.623745e+05</td>\n",
       "      <td>1.253452e+05</td>\n",
       "      <td>26294.549349</td>\n",
       "      <td>516701.0</td>\n",
       "      <td>0.701323</td>\n",
       "      <td>0.298677</td>\n",
       "      <td>dem</td>\n",
       "      <td>HI</td>\n",
       "      <td>40.264693</td>\n",
       "      <td>Safe Democrat</td>\n",
       "    </tr>\n",
       "    <tr>\n",
       "      <th>Idaho</th>\n",
       "      <td>3.768276e+05</td>\n",
       "      <td>4.764224e+05</td>\n",
       "      <td>47135.844178</td>\n",
       "      <td>904812.0</td>\n",
       "      <td>0.416471</td>\n",
       "      <td>0.583529</td>\n",
       "      <td>gop</td>\n",
       "      <td>ID</td>\n",
       "      <td>-16.705872</td>\n",
       "      <td>Safe Republican</td>\n",
       "    </tr>\n",
       "    <tr>\n",
       "      <th>Illinois</th>\n",
       "      <td>3.169958e+06</td>\n",
       "      <td>2.226303e+06</td>\n",
       "      <td>179330.223200</td>\n",
       "      <td>5592368.0</td>\n",
       "      <td>0.566836</td>\n",
       "      <td>0.433164</td>\n",
       "      <td>dem</td>\n",
       "      <td>IL</td>\n",
       "      <td>13.367292</td>\n",
       "      <td>Safe Democrat</td>\n",
       "    </tr>\n",
       "    <tr>\n",
       "      <th>Indiana</th>\n",
       "      <td>1.172046e+06</td>\n",
       "      <td>1.638625e+06</td>\n",
       "      <td>112603.791483</td>\n",
       "      <td>2933700.0</td>\n",
       "      <td>0.399511</td>\n",
       "      <td>0.600489</td>\n",
       "      <td>gop</td>\n",
       "      <td>IN</td>\n",
       "      <td>-20.097765</td>\n",
       "      <td>Safe Republican</td>\n",
       "    </tr>\n",
       "    <tr>\n",
       "      <th>Iowa</th>\n",
       "      <td>6.147349e+05</td>\n",
       "      <td>9.652672e+05</td>\n",
       "      <td>70163.046643</td>\n",
       "      <td>1656849.0</td>\n",
       "      <td>0.371027</td>\n",
       "      <td>0.628973</td>\n",
       "      <td>gop</td>\n",
       "      <td>IA</td>\n",
       "      <td>-25.794699</td>\n",
       "      <td>Safe Republican</td>\n",
       "    </tr>\n",
       "    <tr>\n",
       "      <th>Kansas</th>\n",
       "      <td>5.165348e+05</td>\n",
       "      <td>7.518494e+05</td>\n",
       "      <td>54195.567549</td>\n",
       "      <td>1327591.0</td>\n",
       "      <td>0.389077</td>\n",
       "      <td>0.610923</td>\n",
       "      <td>gop</td>\n",
       "      <td>KS</td>\n",
       "      <td>-22.184646</td>\n",
       "      <td>Safe Republican</td>\n",
       "    </tr>\n",
       "    <tr>\n",
       "      <th>Kentucky</th>\n",
       "      <td>7.884590e+05</td>\n",
       "      <td>1.199857e+06</td>\n",
       "      <td>77838.667178</td>\n",
       "      <td>2073309.0</td>\n",
       "      <td>0.380290</td>\n",
       "      <td>0.619710</td>\n",
       "      <td>gop</td>\n",
       "      <td>KY</td>\n",
       "      <td>-23.941966</td>\n",
       "      <td>Safe Republican</td>\n",
       "    </tr>\n",
       "    <tr>\n",
       "      <th>Louisiana</th>\n",
       "      <td>-1.658494e+06</td>\n",
       "      <td>-6.654319e+06</td>\n",
       "      <td>68983.259043</td>\n",
       "      <td>2006975.0</td>\n",
       "      <td>-0.826365</td>\n",
       "      <td>1.826365</td>\n",
       "      <td>gop</td>\n",
       "      <td>LA</td>\n",
       "      <td>-265.272981</td>\n",
       "      <td>Safe Republican</td>\n",
       "    </tr>\n",
       "    <tr>\n",
       "      <th>Maine</th>\n",
       "      <td>3.491111e+05</td>\n",
       "      <td>4.452409e+05</td>\n",
       "      <td>34085.921244</td>\n",
       "      <td>831375.0</td>\n",
       "      <td>0.419920</td>\n",
       "      <td>0.580080</td>\n",
       "      <td>gop</td>\n",
       "      <td>ME</td>\n",
       "      <td>-16.015963</td>\n",
       "      <td>Safe Republican</td>\n",
       "    </tr>\n",
       "    <tr>\n",
       "      <th>Maryland</th>\n",
       "      <td>1.812906e+06</td>\n",
       "      <td>1.105647e+06</td>\n",
       "      <td>90859.346435</td>\n",
       "      <td>3015650.0</td>\n",
       "      <td>0.601166</td>\n",
       "      <td>0.398834</td>\n",
       "      <td>dem</td>\n",
       "      <td>MD</td>\n",
       "      <td>20.233200</td>\n",
       "      <td>Safe Democrat</td>\n",
       "    </tr>\n",
       "    <tr>\n",
       "      <th>Massachusetts</th>\n",
       "      <td>2.221357e+06</td>\n",
       "      <td>1.084080e+06</td>\n",
       "      <td>135662.263031</td>\n",
       "      <td>3453437.0</td>\n",
       "      <td>0.643231</td>\n",
       "      <td>0.356769</td>\n",
       "      <td>dem</td>\n",
       "      <td>MA</td>\n",
       "      <td>28.646148</td>\n",
       "      <td>Safe Democrat</td>\n",
       "    </tr>\n",
       "    <tr>\n",
       "      <th>Michigan</th>\n",
       "      <td>2.673678e+06</td>\n",
       "      <td>2.774490e+06</td>\n",
       "      <td>195766.908986</td>\n",
       "      <td>5662504.0</td>\n",
       "      <td>0.472172</td>\n",
       "      <td>0.527828</td>\n",
       "      <td>gop</td>\n",
       "      <td>MI</td>\n",
       "      <td>-5.565511</td>\n",
       "      <td>Likely Republican</td>\n",
       "    </tr>\n",
       "    <tr>\n",
       "      <th>Minnesota</th>\n",
       "      <td>1.550241e+06</td>\n",
       "      <td>1.537771e+06</td>\n",
       "      <td>138965.827815</td>\n",
       "      <td>3240916.0</td>\n",
       "      <td>0.478334</td>\n",
       "      <td>0.521666</td>\n",
       "      <td>gop</td>\n",
       "      <td>MN</td>\n",
       "      <td>-4.333164</td>\n",
       "      <td>Likely Republican</td>\n",
       "    </tr>\n",
       "    <tr>\n",
       "      <th>Mississippi</th>\n",
       "      <td>4.947990e+05</td>\n",
       "      <td>6.984449e+05</td>\n",
       "      <td>32068.907818</td>\n",
       "      <td>1228008.0</td>\n",
       "      <td>0.402928</td>\n",
       "      <td>0.597072</td>\n",
       "      <td>gop</td>\n",
       "      <td>MS</td>\n",
       "      <td>-19.414366</td>\n",
       "      <td>Safe Republican</td>\n",
       "    </tr>\n",
       "    <tr>\n",
       "      <th>Missouri</th>\n",
       "      <td>1.231474e+06</td>\n",
       "      <td>1.644175e+06</td>\n",
       "      <td>107850.204499</td>\n",
       "      <td>2993596.0</td>\n",
       "      <td>0.411370</td>\n",
       "      <td>0.588630</td>\n",
       "      <td>gop</td>\n",
       "      <td>MO</td>\n",
       "      <td>-17.726081</td>\n",
       "      <td>Safe Republican</td>\n",
       "    </tr>\n",
       "    <tr>\n",
       "      <th>Montana</th>\n",
       "      <td>2.618749e+05</td>\n",
       "      <td>3.072893e+05</td>\n",
       "      <td>30661.316327</td>\n",
       "      <td>602963.0</td>\n",
       "      <td>0.434313</td>\n",
       "      <td>0.565687</td>\n",
       "      <td>gop</td>\n",
       "      <td>MT</td>\n",
       "      <td>-13.137340</td>\n",
       "      <td>Safe Republican</td>\n",
       "    </tr>\n",
       "    <tr>\n",
       "      <th>Nebraska</th>\n",
       "      <td>3.695823e+05</td>\n",
       "      <td>5.318058e+05</td>\n",
       "      <td>41913.502519</td>\n",
       "      <td>947159.0</td>\n",
       "      <td>0.390201</td>\n",
       "      <td>0.609799</td>\n",
       "      <td>gop</td>\n",
       "      <td>NE</td>\n",
       "      <td>-21.959813</td>\n",
       "      <td>Safe Republican</td>\n",
       "    </tr>\n",
       "    <tr>\n",
       "      <th>Nevada</th>\n",
       "      <td>8.592102e+05</td>\n",
       "      <td>5.301498e+05</td>\n",
       "      <td>56088.431444</td>\n",
       "      <td>1481765.0</td>\n",
       "      <td>0.579856</td>\n",
       "      <td>0.420144</td>\n",
       "      <td>dem</td>\n",
       "      <td>NV</td>\n",
       "      <td>15.971183</td>\n",
       "      <td>Safe Democrat</td>\n",
       "    </tr>\n",
       "    <tr>\n",
       "      <th>New Hampshire</th>\n",
       "      <td>3.807544e+05</td>\n",
       "      <td>4.069826e+05</td>\n",
       "      <td>31740.284585</td>\n",
       "      <td>822153.0</td>\n",
       "      <td>0.463119</td>\n",
       "      <td>0.536881</td>\n",
       "      <td>gop</td>\n",
       "      <td>NH</td>\n",
       "      <td>-7.376271</td>\n",
       "      <td>Likely Republican</td>\n",
       "    </tr>\n",
       "    <tr>\n",
       "      <th>New Jersey</th>\n",
       "      <td>2.592441e+06</td>\n",
       "      <td>1.532266e+06</td>\n",
       "      <td>137833.044300</td>\n",
       "      <td>4272725.0</td>\n",
       "      <td>0.606742</td>\n",
       "      <td>0.393258</td>\n",
       "      <td>dem</td>\n",
       "      <td>NJ</td>\n",
       "      <td>21.348359</td>\n",
       "      <td>Safe Democrat</td>\n",
       "    </tr>\n",
       "    <tr>\n",
       "      <th>New Mexico</th>\n",
       "      <td>4.501598e+05</td>\n",
       "      <td>4.333838e+05</td>\n",
       "      <td>36259.308733</td>\n",
       "      <td>923403.0</td>\n",
       "      <td>0.487501</td>\n",
       "      <td>0.512499</td>\n",
       "      <td>gop</td>\n",
       "      <td>NM</td>\n",
       "      <td>-2.499810</td>\n",
       "      <td>Toss-Up</td>\n",
       "    </tr>\n",
       "    <tr>\n",
       "      <th>New York</th>\n",
       "      <td>5.158462e+06</td>\n",
       "      <td>2.736463e+06</td>\n",
       "      <td>276073.412633</td>\n",
       "      <td>8198094.0</td>\n",
       "      <td>0.629227</td>\n",
       "      <td>0.370773</td>\n",
       "      <td>dem</td>\n",
       "      <td>NY</td>\n",
       "      <td>25.845407</td>\n",
       "      <td>Safe Democrat</td>\n",
       "    </tr>\n",
       "    <tr>\n",
       "      <th>North Carolina</th>\n",
       "      <td>2.771072e+06</td>\n",
       "      <td>2.691773e+06</td>\n",
       "      <td>198251.831594</td>\n",
       "      <td>5679647.0</td>\n",
       "      <td>0.487895</td>\n",
       "      <td>0.512105</td>\n",
       "      <td>gop</td>\n",
       "      <td>NC</td>\n",
       "      <td>-2.420988</td>\n",
       "      <td>Toss-Up</td>\n",
       "    </tr>\n",
       "    <tr>\n",
       "      <th>North Dakota</th>\n",
       "      <td>1.362722e+05</td>\n",
       "      <td>2.095356e+05</td>\n",
       "      <td>17593.375834</td>\n",
       "      <td>365059.0</td>\n",
       "      <td>0.373288</td>\n",
       "      <td>0.626712</td>\n",
       "      <td>gop</td>\n",
       "      <td>ND</td>\n",
       "      <td>-25.342383</td>\n",
       "      <td>Safe Republican</td>\n",
       "    </tr>\n",
       "    <tr>\n",
       "      <th>Ohio</th>\n",
       "      <td>2.601539e+06</td>\n",
       "      <td>2.947070e+06</td>\n",
       "      <td>197903.873188</td>\n",
       "      <td>5765017.0</td>\n",
       "      <td>0.451263</td>\n",
       "      <td>0.548737</td>\n",
       "      <td>gop</td>\n",
       "      <td>OH</td>\n",
       "      <td>-9.747391</td>\n",
       "      <td>Likely Republican</td>\n",
       "    </tr>\n",
       "    <tr>\n",
       "      <th>Oklahoma</th>\n",
       "      <td>6.018111e+05</td>\n",
       "      <td>9.017498e+05</td>\n",
       "      <td>57333.511199</td>\n",
       "      <td>1566173.0</td>\n",
       "      <td>0.384256</td>\n",
       "      <td>0.615744</td>\n",
       "      <td>gop</td>\n",
       "      <td>OK</td>\n",
       "      <td>-23.148833</td>\n",
       "      <td>Safe Republican</td>\n",
       "    </tr>\n",
       "    <tr>\n",
       "      <th>Oregon</th>\n",
       "      <td>1.207921e+06</td>\n",
       "      <td>8.864833e+05</td>\n",
       "      <td>103846.982606</td>\n",
       "      <td>2207592.0</td>\n",
       "      <td>0.547167</td>\n",
       "      <td>0.452833</td>\n",
       "      <td>dem</td>\n",
       "      <td>OR</td>\n",
       "      <td>9.433387</td>\n",
       "      <td>Likely Democrat</td>\n",
       "    </tr>\n",
       "    <tr>\n",
       "      <th>Pennsylvania</th>\n",
       "      <td>3.506144e+06</td>\n",
       "      <td>3.263650e+06</td>\n",
       "      <td>242066.381656</td>\n",
       "      <td>7034206.0</td>\n",
       "      <td>0.498442</td>\n",
       "      <td>0.501558</td>\n",
       "      <td>gop</td>\n",
       "      <td>PA</td>\n",
       "      <td>-0.311594</td>\n",
       "      <td>Toss-Up</td>\n",
       "    </tr>\n",
       "    <tr>\n",
       "      <th>Rhode Island</th>\n",
       "      <td>2.832771e+05</td>\n",
       "      <td>2.033439e+05</td>\n",
       "      <td>22080.184018</td>\n",
       "      <td>510659.0</td>\n",
       "      <td>0.554728</td>\n",
       "      <td>0.445272</td>\n",
       "      <td>dem</td>\n",
       "      <td>RI</td>\n",
       "      <td>10.945692</td>\n",
       "      <td>Safe Democrat</td>\n",
       "    </tr>\n",
       "    <tr>\n",
       "      <th>South Carolina</th>\n",
       "      <td>1.168238e+06</td>\n",
       "      <td>1.286559e+06</td>\n",
       "      <td>85629.482655</td>\n",
       "      <td>2548140.0</td>\n",
       "      <td>0.458467</td>\n",
       "      <td>0.541533</td>\n",
       "      <td>gop</td>\n",
       "      <td>SC</td>\n",
       "      <td>-8.306613</td>\n",
       "      <td>Likely Republican</td>\n",
       "    </tr>\n",
       "    <tr>\n",
       "      <th>South Dakota</th>\n",
       "      <td>1.490493e+05</td>\n",
       "      <td>2.549611e+05</td>\n",
       "      <td>19936.456852</td>\n",
       "      <td>425860.0</td>\n",
       "      <td>0.349996</td>\n",
       "      <td>0.650004</td>\n",
       "      <td>gop</td>\n",
       "      <td>SD</td>\n",
       "      <td>-30.000791</td>\n",
       "      <td>Safe Republican</td>\n",
       "    </tr>\n",
       "    <tr>\n",
       "      <th>Tennessee</th>\n",
       "      <td>1.361725e+06</td>\n",
       "      <td>1.585632e+06</td>\n",
       "      <td>107133.371416</td>\n",
       "      <td>3063942.0</td>\n",
       "      <td>0.444435</td>\n",
       "      <td>0.555565</td>\n",
       "      <td>gop</td>\n",
       "      <td>TN</td>\n",
       "      <td>-11.112905</td>\n",
       "      <td>Safe Republican</td>\n",
       "    </tr>\n",
       "    <tr>\n",
       "      <th>Texas</th>\n",
       "      <td>2.174828e+06</td>\n",
       "      <td>-4.673504e+06</td>\n",
       "      <td>365712.319603</td>\n",
       "      <td>11379850.0</td>\n",
       "      <td>0.191112</td>\n",
       "      <td>0.808888</td>\n",
       "      <td>gop</td>\n",
       "      <td>TX</td>\n",
       "      <td>-61.777559</td>\n",
       "      <td>Safe Republican</td>\n",
       "    </tr>\n",
       "    <tr>\n",
       "      <th>Utah</th>\n",
       "      <td>7.014334e+05</td>\n",
       "      <td>6.863357e+05</td>\n",
       "      <td>90347.337594</td>\n",
       "      <td>1487951.0</td>\n",
       "      <td>0.471409</td>\n",
       "      <td>0.528591</td>\n",
       "      <td>gop</td>\n",
       "      <td>UT</td>\n",
       "      <td>-5.718211</td>\n",
       "      <td>Likely Republican</td>\n",
       "    </tr>\n",
       "    <tr>\n",
       "      <th>Vermont</th>\n",
       "      <td>1.628627e+05</td>\n",
       "      <td>1.857044e+05</td>\n",
       "      <td>16298.389358</td>\n",
       "      <td>366389.0</td>\n",
       "      <td>0.444508</td>\n",
       "      <td>0.555492</td>\n",
       "      <td>gop</td>\n",
       "      <td>VT</td>\n",
       "      <td>-11.098489</td>\n",
       "      <td>Safe Republican</td>\n",
       "    </tr>\n",
       "    <tr>\n",
       "      <th>Virginia</th>\n",
       "      <td>2.346292e+06</td>\n",
       "      <td>1.959872e+06</td>\n",
       "      <td>162253.224814</td>\n",
       "      <td>4482576.0</td>\n",
       "      <td>0.523425</td>\n",
       "      <td>0.476575</td>\n",
       "      <td>dem</td>\n",
       "      <td>VA</td>\n",
       "      <td>4.684996</td>\n",
       "      <td>Likely Democrat</td>\n",
       "    </tr>\n",
       "    <tr>\n",
       "      <th>Washington</th>\n",
       "      <td>2.377196e+06</td>\n",
       "      <td>1.332718e+06</td>\n",
       "      <td>171924.879517</td>\n",
       "      <td>3898835.0</td>\n",
       "      <td>0.609720</td>\n",
       "      <td>0.390280</td>\n",
       "      <td>dem</td>\n",
       "      <td>WA</td>\n",
       "      <td>21.943901</td>\n",
       "      <td>Safe Democrat</td>\n",
       "    </tr>\n",
       "    <tr>\n",
       "      <th>West Virginia</th>\n",
       "      <td>2.459239e+05</td>\n",
       "      <td>4.862361e+05</td>\n",
       "      <td>27612.356706</td>\n",
       "      <td>762390.0</td>\n",
       "      <td>0.322570</td>\n",
       "      <td>0.677430</td>\n",
       "      <td>gop</td>\n",
       "      <td>WV</td>\n",
       "      <td>-35.486064</td>\n",
       "      <td>Safe Republican</td>\n",
       "    </tr>\n",
       "    <tr>\n",
       "      <th>Wisconsin</th>\n",
       "      <td>1.512543e+06</td>\n",
       "      <td>1.753795e+06</td>\n",
       "      <td>136119.059102</td>\n",
       "      <td>3415213.0</td>\n",
       "      <td>0.442884</td>\n",
       "      <td>0.557116</td>\n",
       "      <td>gop</td>\n",
       "      <td>WI</td>\n",
       "      <td>-11.423184</td>\n",
       "      <td>Safe Republican</td>\n",
       "    </tr>\n",
       "    <tr>\n",
       "      <th>Wyoming</th>\n",
       "      <td>9.647382e+04</td>\n",
       "      <td>1.549690e+05</td>\n",
       "      <td>13708.082660</td>\n",
       "      <td>266353.0</td>\n",
       "      <td>0.362203</td>\n",
       "      <td>0.637797</td>\n",
       "      <td>gop</td>\n",
       "      <td>WY</td>\n",
       "      <td>-27.559426</td>\n",
       "      <td>Safe Republican</td>\n",
       "    </tr>\n",
       "  </tbody>\n",
       "</table>\n",
       "</div>"
      ],
      "text/plain": [
       "                         Votes_dem     Votes_gop    Votes_other  Votes_total  \\\n",
       "state                                                                          \n",
       "Alabama               9.493708e+05  1.227881e+06   72577.153097    2256352.0   \n",
       "Arizona               1.973560e+06  1.281557e+06  120496.482056    3389319.0   \n",
       "Arkansas              4.450751e+05  6.906883e+05   43143.657475    1182676.0   \n",
       "California            1.072142e+07  2.164950e+06  653750.149672   15862536.0   \n",
       "Colorado              1.845481e+06  1.177472e+06  153169.545636    3190873.0   \n",
       "Delaware              2.711218e+05  2.215987e+05   17376.860723     511697.0   \n",
       "District of Columbia  3.470584e+04  4.207896e+03    1445.643974      40463.0   \n",
       "Florida               5.948966e+06  4.606124e+06  310583.739834   10893547.0   \n",
       "Georgia               2.648412e+06  2.429197e+06  157944.961086    5250047.0   \n",
       "Hawaii                3.623745e+05  1.253452e+05   26294.549349     516701.0   \n",
       "Idaho                 3.768276e+05  4.764224e+05   47135.844178     904812.0   \n",
       "Illinois              3.169958e+06  2.226303e+06  179330.223200    5592368.0   \n",
       "Indiana               1.172046e+06  1.638625e+06  112603.791483    2933700.0   \n",
       "Iowa                  6.147349e+05  9.652672e+05   70163.046643    1656849.0   \n",
       "Kansas                5.165348e+05  7.518494e+05   54195.567549    1327591.0   \n",
       "Kentucky              7.884590e+05  1.199857e+06   77838.667178    2073309.0   \n",
       "Louisiana            -1.658494e+06 -6.654319e+06   68983.259043    2006975.0   \n",
       "Maine                 3.491111e+05  4.452409e+05   34085.921244     831375.0   \n",
       "Maryland              1.812906e+06  1.105647e+06   90859.346435    3015650.0   \n",
       "Massachusetts         2.221357e+06  1.084080e+06  135662.263031    3453437.0   \n",
       "Michigan              2.673678e+06  2.774490e+06  195766.908986    5662504.0   \n",
       "Minnesota             1.550241e+06  1.537771e+06  138965.827815    3240916.0   \n",
       "Mississippi           4.947990e+05  6.984449e+05   32068.907818    1228008.0   \n",
       "Missouri              1.231474e+06  1.644175e+06  107850.204499    2993596.0   \n",
       "Montana               2.618749e+05  3.072893e+05   30661.316327     602963.0   \n",
       "Nebraska              3.695823e+05  5.318058e+05   41913.502519     947159.0   \n",
       "Nevada                8.592102e+05  5.301498e+05   56088.431444    1481765.0   \n",
       "New Hampshire         3.807544e+05  4.069826e+05   31740.284585     822153.0   \n",
       "New Jersey            2.592441e+06  1.532266e+06  137833.044300    4272725.0   \n",
       "New Mexico            4.501598e+05  4.333838e+05   36259.308733     923403.0   \n",
       "New York              5.158462e+06  2.736463e+06  276073.412633    8198094.0   \n",
       "North Carolina        2.771072e+06  2.691773e+06  198251.831594    5679647.0   \n",
       "North Dakota          1.362722e+05  2.095356e+05   17593.375834     365059.0   \n",
       "Ohio                  2.601539e+06  2.947070e+06  197903.873188    5765017.0   \n",
       "Oklahoma              6.018111e+05  9.017498e+05   57333.511199    1566173.0   \n",
       "Oregon                1.207921e+06  8.864833e+05  103846.982606    2207592.0   \n",
       "Pennsylvania          3.506144e+06  3.263650e+06  242066.381656    7034206.0   \n",
       "Rhode Island          2.832771e+05  2.033439e+05   22080.184018     510659.0   \n",
       "South Carolina        1.168238e+06  1.286559e+06   85629.482655    2548140.0   \n",
       "South Dakota          1.490493e+05  2.549611e+05   19936.456852     425860.0   \n",
       "Tennessee             1.361725e+06  1.585632e+06  107133.371416    3063942.0   \n",
       "Texas                 2.174828e+06 -4.673504e+06  365712.319603   11379850.0   \n",
       "Utah                  7.014334e+05  6.863357e+05   90347.337594    1487951.0   \n",
       "Vermont               1.628627e+05  1.857044e+05   16298.389358     366389.0   \n",
       "Virginia              2.346292e+06  1.959872e+06  162253.224814    4482576.0   \n",
       "Washington            2.377196e+06  1.332718e+06  171924.879517    3898835.0   \n",
       "West Virginia         2.459239e+05  4.862361e+05   27612.356706     762390.0   \n",
       "Wisconsin             1.512543e+06  1.753795e+06  136119.059102    3415213.0   \n",
       "Wyoming               9.647382e+04  1.549690e+05   13708.082660     266353.0   \n",
       "\n",
       "                       Per_dem   Per_gop Winner state_code  Difference  \\\n",
       "state                                                                    \n",
       "Alabama               0.420755  0.579245    gop         AL  -15.849049   \n",
       "Arizona               0.582288  0.417712    dem         AZ   16.457630   \n",
       "Arkansas              0.376329  0.623671    gop         AR  -24.734228   \n",
       "California            0.675896  0.324104    dem         CA   35.179124   \n",
       "Colorado              0.578363  0.421637    dem         CO   15.672506   \n",
       "Delaware              0.529848  0.470152    dem         DE    5.969660   \n",
       "District of Columbia  0.857718  0.142282    dem         DC   71.543570   \n",
       "Florida               0.546100  0.453900    dem         FL    9.220002   \n",
       "Georgia               0.504455  0.495545    dem         GA    0.890978   \n",
       "Hawaii                0.701323  0.298677    dem         HI   40.264693   \n",
       "Idaho                 0.416471  0.583529    gop         ID  -16.705872   \n",
       "Illinois              0.566836  0.433164    dem         IL   13.367292   \n",
       "Indiana               0.399511  0.600489    gop         IN  -20.097765   \n",
       "Iowa                  0.371027  0.628973    gop         IA  -25.794699   \n",
       "Kansas                0.389077  0.610923    gop         KS  -22.184646   \n",
       "Kentucky              0.380290  0.619710    gop         KY  -23.941966   \n",
       "Louisiana            -0.826365  1.826365    gop         LA -265.272981   \n",
       "Maine                 0.419920  0.580080    gop         ME  -16.015963   \n",
       "Maryland              0.601166  0.398834    dem         MD   20.233200   \n",
       "Massachusetts         0.643231  0.356769    dem         MA   28.646148   \n",
       "Michigan              0.472172  0.527828    gop         MI   -5.565511   \n",
       "Minnesota             0.478334  0.521666    gop         MN   -4.333164   \n",
       "Mississippi           0.402928  0.597072    gop         MS  -19.414366   \n",
       "Missouri              0.411370  0.588630    gop         MO  -17.726081   \n",
       "Montana               0.434313  0.565687    gop         MT  -13.137340   \n",
       "Nebraska              0.390201  0.609799    gop         NE  -21.959813   \n",
       "Nevada                0.579856  0.420144    dem         NV   15.971183   \n",
       "New Hampshire         0.463119  0.536881    gop         NH   -7.376271   \n",
       "New Jersey            0.606742  0.393258    dem         NJ   21.348359   \n",
       "New Mexico            0.487501  0.512499    gop         NM   -2.499810   \n",
       "New York              0.629227  0.370773    dem         NY   25.845407   \n",
       "North Carolina        0.487895  0.512105    gop         NC   -2.420988   \n",
       "North Dakota          0.373288  0.626712    gop         ND  -25.342383   \n",
       "Ohio                  0.451263  0.548737    gop         OH   -9.747391   \n",
       "Oklahoma              0.384256  0.615744    gop         OK  -23.148833   \n",
       "Oregon                0.547167  0.452833    dem         OR    9.433387   \n",
       "Pennsylvania          0.498442  0.501558    gop         PA   -0.311594   \n",
       "Rhode Island          0.554728  0.445272    dem         RI   10.945692   \n",
       "South Carolina        0.458467  0.541533    gop         SC   -8.306613   \n",
       "South Dakota          0.349996  0.650004    gop         SD  -30.000791   \n",
       "Tennessee             0.444435  0.555565    gop         TN  -11.112905   \n",
       "Texas                 0.191112  0.808888    gop         TX  -61.777559   \n",
       "Utah                  0.471409  0.528591    gop         UT   -5.718211   \n",
       "Vermont               0.444508  0.555492    gop         VT  -11.098489   \n",
       "Virginia              0.523425  0.476575    dem         VA    4.684996   \n",
       "Washington            0.609720  0.390280    dem         WA   21.943901   \n",
       "West Virginia         0.322570  0.677430    gop         WV  -35.486064   \n",
       "Wisconsin             0.442884  0.557116    gop         WI  -11.423184   \n",
       "Wyoming               0.362203  0.637797    gop         WY  -27.559426   \n",
       "\n",
       "                                 Status  \n",
       "state                                    \n",
       "Alabama                 Safe Republican  \n",
       "Arizona                   Safe Democrat  \n",
       "Arkansas                Safe Republican  \n",
       "California                Safe Democrat  \n",
       "Colorado                  Safe Democrat  \n",
       "Delaware                Likely Democrat  \n",
       "District of Columbia      Safe Democrat  \n",
       "Florida                 Likely Democrat  \n",
       "Georgia                         Toss-Up  \n",
       "Hawaii                    Safe Democrat  \n",
       "Idaho                   Safe Republican  \n",
       "Illinois                  Safe Democrat  \n",
       "Indiana                 Safe Republican  \n",
       "Iowa                    Safe Republican  \n",
       "Kansas                  Safe Republican  \n",
       "Kentucky                Safe Republican  \n",
       "Louisiana               Safe Republican  \n",
       "Maine                   Safe Republican  \n",
       "Maryland                  Safe Democrat  \n",
       "Massachusetts             Safe Democrat  \n",
       "Michigan              Likely Republican  \n",
       "Minnesota             Likely Republican  \n",
       "Mississippi             Safe Republican  \n",
       "Missouri                Safe Republican  \n",
       "Montana                 Safe Republican  \n",
       "Nebraska                Safe Republican  \n",
       "Nevada                    Safe Democrat  \n",
       "New Hampshire         Likely Republican  \n",
       "New Jersey                Safe Democrat  \n",
       "New Mexico                      Toss-Up  \n",
       "New York                  Safe Democrat  \n",
       "North Carolina                  Toss-Up  \n",
       "North Dakota            Safe Republican  \n",
       "Ohio                  Likely Republican  \n",
       "Oklahoma                Safe Republican  \n",
       "Oregon                  Likely Democrat  \n",
       "Pennsylvania                    Toss-Up  \n",
       "Rhode Island              Safe Democrat  \n",
       "South Carolina        Likely Republican  \n",
       "South Dakota            Safe Republican  \n",
       "Tennessee               Safe Republican  \n",
       "Texas                   Safe Republican  \n",
       "Utah                  Likely Republican  \n",
       "Vermont                 Safe Republican  \n",
       "Virginia                Likely Democrat  \n",
       "Washington                Safe Democrat  \n",
       "West Virginia           Safe Republican  \n",
       "Wisconsin               Safe Republican  \n",
       "Wyoming                 Safe Republican  "
      ]
     },
     "execution_count": 212,
     "metadata": {},
     "output_type": "execute_result"
    }
   ],
   "source": [
    "# Añadir la columna \"Winner\" basado en los porcentajes predichos de Biden y Trump\n",
    "accumulated_pred_state['Winner'] = np.where(\n",
    "    accumulated_pred_state[\"Per_dem\"] >= accumulated_pred_state[\"Per_gop\"], 'dem', 'gop'\n",
    ")\n",
    "\n",
    "# Añadir los códigos de los estados usando el diccionario state_to_code\n",
    "accumulated_pred_state['state_code'] = accumulated_pred_state.index.map(state_to_code)\n",
    "\n",
    "# Añadir diferencia entre Biden y Trump\n",
    "accumulated_pred_state['Difference'] = (accumulated_pred_state[\"Per_dem\"] - accumulated_pred_state[\"Per_gop\"]) * 100\n",
    "\n",
    "\n",
    "# Definir las condiciones y los valores a asignar\n",
    "conditions = [\n",
    "    accumulated_pred_state[\"Difference\"] > 10,\n",
    "    accumulated_pred_state[\"Difference\"].between(2.5, 10),\n",
    "    accumulated_pred_state[\"Difference\"].between(-2.5, 2.5),\n",
    "    accumulated_pred_state[\"Difference\"].between(-10, -2.5),\n",
    "    accumulated_pred_state[\"Difference\"] < -10\n",
    "]\n",
    "\n",
    "choices = [\n",
    "    \"Safe Democrat\",\n",
    "    \"Likely Democrat\",\n",
    "    \"Toss-Up\",\n",
    "    \"Likely Republican\",\n",
    "    \"Safe Republican\"\n",
    "]\n",
    "\n",
    "# Usar np.select para asignar el \"Status\" basado en las condiciones, con un valor por defecto \"Unknown\"\n",
    "accumulated_pred_state[\"Status\"] = np.select(conditions, choices, default=\"Unknown\")\n",
    "\n",
    "\n",
    "# Mostrar el DataFrame\n",
    "accumulated_pred_state\n"
   ]
  },
  {
   "cell_type": "markdown",
   "metadata": {},
   "source": [
    "## Gráficos"
   ]
  },
  {
   "cell_type": "markdown",
   "metadata": {},
   "source": [
    "### Simulación"
   ]
  },
  {
   "cell_type": "code",
   "execution_count": 213,
   "metadata": {},
   "outputs": [
    {
     "data": {
      "image/png": "[encoded data removed]",
      "text/plain": [
       "<Figure size 1200x800 with 1 Axes>"
      ]
     },
     "metadata": {},
     "output_type": "display_data"
    }
   ],
   "source": [
    "# Asegurarse de que los valores de Trump_Pred y Biden_Pred sean numéricos\n",
    "simulation_results['Pred_gop'] = pd.to_numeric(simulation_results['Pred_gop'], errors='coerce')\n",
    "simulation_results['Pred_dem'] = pd.to_numeric(simulation_results['Pred_dem'], errors='coerce')\n",
    "\n",
    "# Eliminar cualquier fila con valores NaN (si es necesario)\n",
    "simulation_results = simulation_results.dropna(subset=['Pred_gop', 'Pred_dem'])\n",
    "\n",
    "# Crear un gráfico de densidad para las predicciones de Biden y Trump\n",
    "plt.figure(figsize=(12, 8))\n",
    "\n",
    "# Gráfico de densidad para Biden (positivo)\n",
    "sns.kdeplot(simulation_results['Pred_dem'], color=\"#3951a2\", fill=True, alpha=0.8, label=\"Biden Pred\")\n",
    "\n",
    "# Crear la densidad para Trump usando gaussian_kde\n",
    "density_trump = gaussian_kde(simulation_results['Pred_gop'])\n",
    "x_vals = np.linspace(min(simulation_results['Pred_gop']), max(simulation_results['Pred_dem']), 1000)\n",
    "y_vals = density_trump(x_vals)\n",
    "\n",
    "# Graficar la densidad de Trump invertida\n",
    "plt.fill_between(x_vals, -y_vals, color=\"#af2b39\", alpha=0.8, label=\"Trump Pred\")\n",
    "\n",
    "# Línea vertical en 270 votos\n",
    "plt.axvline(x=270, color=\"black\", linestyle=\"--\", linewidth=1, label=\"Límite para ganar (270)\")\n",
    "plt.text(270-6, 0.02, '270', color=\"black\", verticalalignment='bottom', fontsize=12)  # Añadir el valor '270' dentro del gráfico\n",
    "\n",
    "# Línea vertical para la media de las predicciones de Biden\n",
    "plt.axvline(x=np.mean(simulation_results['Pred_dem']), color=\"white\", linestyle=\"--\", linewidth=1, label=\"Media Biden Pred\")\n",
    "mean_biden = np.mean(simulation_results['Pred_dem'])\n",
    "plt.text(mean_biden + 1, 0.01, f'{mean_biden:.0f}', color=\"white\", verticalalignment='bottom', fontsize=12)  # Añadir el valor de la media de Biden\n",
    "\n",
    "# Línea vertical para la media de las predicciones de Trump\n",
    "plt.axvline(x=np.mean(simulation_results['Pred_gop']), color=\"white\", linestyle=\"--\", linewidth=1, label=\"Media Trump Pred\")\n",
    "mean_trump = np.mean(simulation_results['Pred_gop'])\n",
    "plt.text(mean_trump + 1, -0.01, f'{mean_trump:.0f}', color=\"white\", verticalalignment='top', fontsize=12)  # Añadir el valor de la media de Trump\n",
    "\n",
    "# Ajustar el eje Y para que sea simétrico\n",
    "plt.ylim(-1.1 * max(y_vals), 1.1 * max(y_vals))\n",
    "\n",
    "# Ajustar el eje X para ver más a la izquierda\n",
    "plt.xlim(min(simulation_results['Pred_gop']), max(simulation_results['Pred_dem']))\n",
    "\n",
    "# Añadir título\n",
    "plt.title(f\"{ELECTORAL_YEAR} Distribución Biden Pred. vs Trump Pred.\", fontsize=16)\n",
    "\n",
    "# Añadir leyenda\n",
    "plt.legend()\n",
    "\n",
    "# Eliminar el fondo del gráfico\n",
    "plt.gca().patch.set_alpha(0)  # Fondo del área del gráfico transparente\n",
    "\n",
    "# Eliminar los bordes y la línea negra alrededor del gráfico\n",
    "plt.gca().spines['top'].set_visible(False)\n",
    "plt.gca().spines['right'].set_visible(False)\n",
    "plt.gca().spines['left'].set_visible(False)\n",
    "plt.gca().spines['bottom'].set_visible(False)\n",
    "\n",
    "# Guardar el gráfico como PNG con fondo transparente\n",
    "plt.savefig(f\"imgs/densidad_biden_trump_transparente_{ELECTORAL_YEAR}.png\", format=\"png\", transparent=True)\n",
    "\n",
    "# Mostrar el gráfico\n",
    "plt.show()"
   ]
  },
  {
   "cell_type": "code",
   "execution_count": 214,
   "metadata": {},
   "outputs": [
    {
     "data": {
      "image/png": "[encoded data removed]",
      "text/plain": [
       "<Figure size 1000x1200 with 1 Axes>"
      ]
     },
     "metadata": {},
     "output_type": "display_data"
    }
   ],
   "source": [
    "# Ordenar los estados por orden alfabético\n",
    "accumulated_pred_state_sorted = accumulated_pred_state.sort_values('state', ascending=False)\n",
    "\n",
    "# Crear el gráfico de barras apiladas\n",
    "plt.figure(figsize=(10, 12))\n",
    "\n",
    "# Primero, graficar la barra de Trump\n",
    "sns.barplot(x=accumulated_pred_state_sorted[\"Per_dem\"] + accumulated_pred_state_sorted[\"Per_gop\"], \n",
    "            y='state', data=accumulated_pred_state_sorted, color=\"#ac2a37\", label=\"gop\")\n",
    "\n",
    "# Luego, graficar la barra de Biden encima de Trump\n",
    "sns.barplot(x=\"Per_dem\", y='state', data=accumulated_pred_state_sorted, color=\"#3951a2\", label=\"dem\")\n",
    "\n",
    "# Añadir una línea vertical en el 50%\n",
    "plt.axvline(x=0.50, color=\"white\", linestyle=\"--\", linewidth=1)\n",
    "\n",
    "# Añadir leyenda\n",
    "plt.legend(loc='best')\n",
    "\n",
    "# Invertir el eje Y para que los estados se vean de arriba hacia abajo\n",
    "plt.gca().invert_yaxis()\n",
    "\n",
    "# Añadir etiquetas y título\n",
    "plt.title(f'{ELECTORAL_YEAR} Resultados Medios por Estado - Simulaciones de Trump vs Biden', fontsize=16)\n",
    "plt.xlabel('Proporción de Votos Simulados')\n",
    "plt.ylabel('Estado')\n",
    "\n",
    "# Ajustar el eje X para que las barras lleguen al 100%\n",
    "plt.xlim(0, 1)\n",
    "\n",
    "# Guardar el gráfico como PNG con fondo transparente\n",
    "plt.savefig(\"imgs/porc_estado_transparente_{ELECTORAL_YEAR}.png\", format=\"png\", transparent=True)\n",
    "\n",
    "# Mostrar el gráfico\n",
    "plt.show()"
   ]
  },
  {
   "cell_type": "code",
   "execution_count": 215,
   "metadata": {},
   "outputs": [
    {
     "data": {
      "image/png": "[encoded data removed]",
      "text/plain": [
       "<Figure size 2600x1200 with 1 Axes>"
      ]
     },
     "metadata": {},
     "output_type": "display_data"
    }
   ],
   "source": [
    "plt.figure(figsize=(26, 12))\n",
    "\n",
    "# Graficar la barra de Trump (en la parte inferior)\n",
    "sns.barplot(y=accumulated_pred_state_sorted[\"Per_dem\"] + accumulated_pred_state_sorted[\"Per_gop\"], \n",
    "            x='state', data=accumulated_pred_state_sorted, color=\"#ac2a37\", label=\"gop\")\n",
    "\n",
    "# Graficar la barra de Biden encima de Trump\n",
    "sns.barplot(y=\"Per_dem\", x='state', data=accumulated_pred_state_sorted, color=\"#3951a2\", label=\"dem\")\n",
    "\n",
    "# Añadir una línea horizontal en el 50%\n",
    "plt.axhline(y=0.50, color=\"white\", linestyle=\"--\", linewidth=1)\n",
    "\n",
    "# Añadir leyenda\n",
    "plt.legend(loc='best', fontsize=22)\n",
    "\n",
    "# Añadir etiquetas y título\n",
    "# plt.title('Resultados Medios por Estado - Simulaciones de Trump vs Biden', fontsize=16)\n",
    "plt.ylabel('Proporción de Votos Simulados', fontsize=22)\n",
    "plt.xlabel('Estado', fontsize=22)\n",
    "\n",
    "# Ajustar el eje Y para que las barras lleguen al 100%\n",
    "plt.ylim(0, 1)\n",
    "\n",
    "# Rotar los nombres de los estados para mejor visibilidad y aumentar el tamaño de las etiquetas\n",
    "plt.xticks(rotation=90, fontsize=24)\n",
    "plt.yticks(fontsize=24)\n",
    "\n",
    "# Ajustar los márgenes del gráfico para evitar que los xticks se corten\n",
    "plt.tight_layout()\n",
    "\n",
    "\n",
    "# Guardar el gráfico como PNG con fondo transparente\n",
    "plt.savefig(f\"imgs/porc_estado_inv_transparente_{ELECTORAL_YEAR}.png\", format=\"png\", transparent=True)\n",
    "\n",
    "# Mostrar el gráfico\n",
    "plt.show()"
   ]
  },
  {
   "cell_type": "code",
   "execution_count": 216,
   "metadata": {},
   "outputs": [
    {
     "data": {
      "application/vnd.plotly.v1+json": {
       "config": {
        "plotlyServerURL": "https://plot.ly"
       },
       "data": [
        {
         "colorscale": [
          [
           0,
           "#af2b39"
          ],
          [
           1,
           "#af2b39"
          ]
         ],
         "customdata": [
          [
           "AL",
           0.42075475471390306,
           0.5792452452860968
          ],
          [
           "AR",
           0.37632886161683254,
           0.6236711383831676
          ],
          [
           "ID",
           0.4164706388318456,
           0.5835293611681547
          ],
          [
           "IN",
           0.3995111736192822,
           0.6004888263807178
          ],
          [
           "IA",
           0.3710265032583228,
           0.628973496741677
          ],
          [
           "KS",
           0.3890767683411837,
           0.6109232316588167
          ],
          [
           "KY",
           0.38029016854937453,
           0.6197098314506253
          ],
          [
           "LA",
           -0.8263649065342555,
           1.826364906534255
          ],
          [
           "ME",
           0.41992018468523434,
           0.5800798153147654
          ],
          [
           "MI",
           0.47217244581483947,
           0.5278275541851606
          ],
          [
           "MN",
           0.4783341784881636,
           0.5216658215118364
          ],
          [
           "MS",
           0.40292816869089326,
           0.5970718313091069
          ],
          [
           "MO",
           0.41136959485920693,
           0.5886304051407929
          ],
          [
           "MT",
           0.4343133009363525,
           0.5656866990636477
          ],
          [
           "NE",
           0.39020093297653724,
           0.6097990670234629
          ],
          [
           "NH",
           0.46311864504585354,
           0.5368813549541465
          ],
          [
           "NM",
           0.48750094775621255,
           0.5124990522437876
          ],
          [
           "NC",
           0.4878950613900714,
           0.5121049386099287
          ],
          [
           "ND",
           0.3732880825535922,
           0.626711917446408
          ],
          [
           "OH",
           0.4512630460980852,
           0.5487369539019148
          ],
          [
           "OK",
           0.3842558374998299,
           0.6157441625001698
          ],
          [
           "PA",
           0.49844203014429367,
           0.5015579698557063
          ],
          [
           "SC",
           0.45846693347666945,
           0.5415330665233307
          ],
          [
           "SD",
           0.3499960461065431,
           0.6500039538934571
          ],
          [
           "TN",
           0.4444354754521128,
           0.5555645245478871
          ],
          [
           "TX",
           0.19111220670178813,
           0.8088877932982118
          ],
          [
           "UT",
           0.4714089437833081,
           0.5285910562166919
          ],
          [
           "VT",
           0.4445075547721005,
           0.5554924452278993
          ],
          [
           "WV",
           0.32256968150446097,
           0.6774303184955389
          ],
          [
           "WI",
           0.44288408225553055,
           0.5571159177444696
          ],
          [
           "WY",
           0.36220287106754,
           0.6377971289324599
          ]
         ],
         "geo": "geo",
         "hovertemplate": "<b>%{hovertext}</b><br><br>Ganador {ELECTORAL_YEAR}=gop<br>state_code=%{customdata[0]}<br>Per_dem=%{customdata[1]:.2%}<br>Per_gop=%{customdata[2]:.2%}<extra></extra>",
         "hovertext": [
          "AL",
          "AR",
          "ID",
          "IN",
          "IA",
          "KS",
          "KY",
          "LA",
          "ME",
          "MI",
          "MN",
          "MS",
          "MO",
          "MT",
          "NE",
          "NH",
          "NM",
          "NC",
          "ND",
          "OH",
          "OK",
          "PA",
          "SC",
          "SD",
          "TN",
          "TX",
          "UT",
          "VT",
          "WV",
          "WI",
          "WY"
         ],
         "locationmode": "USA-states",
         "locations": [
          "AL",
          "AR",
          "ID",
          "IN",
          "IA",
          "KS",
          "KY",
          "LA",
          "ME",
          "MI",
          "MN",
          "MS",
          "MO",
          "MT",
          "NE",
          "NH",
          "NM",
          "NC",
          "ND",
          "OH",
          "OK",
          "PA",
          "SC",
          "SD",
          "TN",
          "TX",
          "UT",
          "VT",
          "WV",
          "WI",
          "WY"
         ],
         "name": "gop",
         "showlegend": true,
         "showscale": false,
         "type": "choropleth",
         "z": [
          1,
          1,
          1,
          1,
          1,
          1,
          1,
          1,
          1,
          1,
          1,
          1,
          1,
          1,
          1,
          1,
          1,
          1,
          1,
          1,
          1,
          1,
          1,
          1,
          1,
          1,
          1,
          1,
          1,
          1,
          1
         ]
        },
        {
         "colorscale": [
          [
           0,
           "#3951a2"
          ],
          [
           1,
           "#3951a2"
          ]
         ],
         "customdata": [
          [
           "AZ",
           0.5822881496005771,
           0.4177118503994229
          ],
          [
           "CA",
           0.6758956198454562,
           0.32410438015454346
          ],
          [
           "CO",
           0.5783625321537826,
           0.4216374678462172
          ],
          [
           "DE",
           0.5298483023152122,
           0.470151697684788
          ],
          [
           "DC",
           0.8577178485055462,
           0.14228215149445356
          ],
          [
           "FL",
           0.5461000113807379,
           0.4538999886192622
          ],
          [
           "GA",
           0.5044548923873429,
           0.49554510761265713
          ],
          [
           "HI",
           0.7013234654025392,
           0.2986765345974611
          ],
          [
           "IL",
           0.5668364583859921,
           0.43316354161400794
          ],
          [
           "MD",
           0.6011659985557457,
           0.39883400144425424
          ],
          [
           "MA",
           0.6432307413447389,
           0.3567692586552611
          ],
          [
           "NV",
           0.5798559169907412,
           0.42014408300925843
          ],
          [
           "NJ",
           0.6067417960866005,
           0.3932582039133996
          ],
          [
           "NY",
           0.6292270330412219,
           0.3707729669587782
          ],
          [
           "OR",
           0.5471669349232978,
           0.4528330650767022
          ],
          [
           "RI",
           0.5547284604146053,
           0.44527153958539456
          ],
          [
           "VA",
           0.5234249801308453,
           0.4765750198691547
          ],
          [
           "WA",
           0.6097195071178073,
           0.3902804928821926
          ]
         ],
         "geo": "geo",
         "hovertemplate": "<b>%{hovertext}</b><br><br>Ganador {ELECTORAL_YEAR}=dem<br>state_code=%{customdata[0]}<br>Per_dem=%{customdata[1]:.2%}<br>Per_gop=%{customdata[2]:.2%}<extra></extra>",
         "hovertext": [
          "AZ",
          "CA",
          "CO",
          "DE",
          "DC",
          "FL",
          "GA",
          "HI",
          "IL",
          "MD",
          "MA",
          "NV",
          "NJ",
          "NY",
          "OR",
          "RI",
          "VA",
          "WA"
         ],
         "locationmode": "USA-states",
         "locations": [
          "AZ",
          "CA",
          "CO",
          "DE",
          "DC",
          "FL",
          "GA",
          "HI",
          "IL",
          "MD",
          "MA",
          "NV",
          "NJ",
          "NY",
          "OR",
          "RI",
          "VA",
          "WA"
         ],
         "name": "dem",
         "showlegend": true,
         "showscale": false,
         "type": "choropleth",
         "z": [
          1,
          1,
          1,
          1,
          1,
          1,
          1,
          1,
          1,
          1,
          1,
          1,
          1,
          1,
          1,
          1,
          1,
          1
         ]
        }
       ],
       "layout": {
        "geo": {
         "center": {},
         "domain": {
          "x": [
           0,
           1
          ],
          "y": [
           0,
           1
          ]
         },
         "fitbounds": "locations",
         "scope": "usa",
         "visible": false
        },
        "height": 800,
        "legend": {
         "title": {
          "text": "Ganador {ELECTORAL_YEAR}"
         },
         "tracegroupgap": 0
        },
        "template": {
         "data": {
          "bar": [
           {
            "error_x": {
             "color": "#2a3f5f"
            },
            "error_y": {
             "color": "#2a3f5f"
            },
            "marker": {
             "line": {
              "color": "#E5ECF6",
              "width": 0.5
             },
             "pattern": {
              "fillmode": "overlay",
              "size": 10,
              "solidity": 0.2
             }
            },
            "type": "bar"
           }
          ],
          "barpolar": [
           {
            "marker": {
             "line": {
              "color": "#E5ECF6",
              "width": 0.5
             },
             "pattern": {
              "fillmode": "overlay",
              "size": 10,
              "solidity": 0.2
             }
            },
            "type": "barpolar"
           }
          ],
          "carpet": [
           {
            "aaxis": {
             "endlinecolor": "#2a3f5f",
             "gridcolor": "white",
             "linecolor": "white",
             "minorgridcolor": "white",
             "startlinecolor": "#2a3f5f"
            },
            "baxis": {
             "endlinecolor": "#2a3f5f",
             "gridcolor": "white",
             "linecolor": "white",
             "minorgridcolor": "white",
             "startlinecolor": "#2a3f5f"
            },
            "type": "carpet"
           }
          ],
          "choropleth": [
           {
            "colorbar": {
             "outlinewidth": 0,
             "ticks": ""
            },
            "type": "choropleth"
           }
          ],
          "contour": [
           {
            "colorbar": {
             "outlinewidth": 0,
             "ticks": ""
            },
            "colorscale": [
             [
              0,
              "#0d0887"
             ],
             [
              0.1111111111111111,
              "#46039f"
             ],
             [
              0.2222222222222222,
              "#7201a8"
             ],
             [
              0.3333333333333333,
              "#9c179e"
             ],
             [
              0.4444444444444444,
              "#bd3786"
             ],
             [
              0.5555555555555556,
              "#d8576b"
             ],
             [
              0.6666666666666666,
              "#ed7953"
             ],
             [
              0.7777777777777778,
              "#fb9f3a"
             ],
             [
              0.8888888888888888,
              "#fdca26"
             ],
             [
              1,
              "#f0f921"
             ]
            ],
            "type": "contour"
           }
          ],
          "contourcarpet": [
           {
            "colorbar": {
             "outlinewidth": 0,
             "ticks": ""
            },
            "type": "contourcarpet"
           }
          ],
          "heatmap": [
           {
            "colorbar": {
             "outlinewidth": 0,
             "ticks": ""
            },
            "colorscale": [
             [
              0,
              "#0d0887"
             ],
             [
              0.1111111111111111,
              "#46039f"
             ],
             [
              0.2222222222222222,
              "#7201a8"
             ],
             [
              0.3333333333333333,
              "#9c179e"
             ],
             [
              0.4444444444444444,
              "#bd3786"
             ],
             [
              0.5555555555555556,
              "#d8576b"
             ],
             [
              0.6666666666666666,
              "#ed7953"
             ],
             [
              0.7777777777777778,
              "#fb9f3a"
             ],
             [
              0.8888888888888888,
              "#fdca26"
             ],
             [
              1,
              "#f0f921"
             ]
            ],
            "type": "heatmap"
           }
          ],
          "histogram": [
           {
            "marker": {
             "pattern": {
              "fillmode": "overlay",
              "size": 10,
              "solidity": 0.2
             }
            },
            "type": "histogram"
           }
          ],
          "histogram2d": [
           {
            "colorbar": {
             "outlinewidth": 0,
             "ticks": ""
            },
            "colorscale": [
             [
              0,
              "#0d0887"
             ],
             [
              0.1111111111111111,
              "#46039f"
             ],
             [
              0.2222222222222222,
              "#7201a8"
             ],
             [
              0.3333333333333333,
              "#9c179e"
             ],
             [
              0.4444444444444444,
              "#bd3786"
             ],
             [
              0.5555555555555556,
              "#d8576b"
             ],
             [
              0.6666666666666666,
              "#ed7953"
             ],
             [
              0.7777777777777778,
              "#fb9f3a"
             ],
             [
              0.8888888888888888,
              "#fdca26"
             ],
             [
              1,
              "#f0f921"
             ]
            ],
            "type": "histogram2d"
           }
          ],
          "histogram2dcontour": [
           {
            "colorbar": {
             "outlinewidth": 0,
             "ticks": ""
            },
            "colorscale": [
             [
              0,
              "#0d0887"
             ],
             [
              0.1111111111111111,
              "#46039f"
             ],
             [
              0.2222222222222222,
              "#7201a8"
             ],
             [
              0.3333333333333333,
              "#9c179e"
             ],
             [
              0.4444444444444444,
              "#bd3786"
             ],
             [
              0.5555555555555556,
              "#d8576b"
             ],
             [
              0.6666666666666666,
              "#ed7953"
             ],
             [
              0.7777777777777778,
              "#fb9f3a"
             ],
             [
              0.8888888888888888,
              "#fdca26"
             ],
             [
              1,
              "#f0f921"
             ]
            ],
            "type": "histogram2dcontour"
           }
          ],
          "mesh3d": [
           {
            "colorbar": {
             "outlinewidth": 0,
             "ticks": ""
            },
            "type": "mesh3d"
           }
          ],
          "parcoords": [
           {
            "line": {
             "colorbar": {
              "outlinewidth": 0,
              "ticks": ""
             }
            },
            "type": "parcoords"
           }
          ],
          "pie": [
           {
            "automargin": true,
            "type": "pie"
           }
          ],
          "scatter": [
           {
            "fillpattern": {
             "fillmode": "overlay",
             "size": 10,
             "solidity": 0.2
            },
            "type": "scatter"
           }
          ],
          "scatter3d": [
           {
            "line": {
             "colorbar": {
              "outlinewidth": 0,
              "ticks": ""
             }
            },
            "marker": {
             "colorbar": {
              "outlinewidth": 0,
              "ticks": ""
             }
            },
            "type": "scatter3d"
           }
          ],
          "scattercarpet": [
           {
            "marker": {
             "colorbar": {
              "outlinewidth": 0,
              "ticks": ""
             }
            },
            "type": "scattercarpet"
           }
          ],
          "scattergeo": [
           {
            "marker": {
             "colorbar": {
              "outlinewidth": 0,
              "ticks": ""
             }
            },
            "type": "scattergeo"
           }
          ],
          "scattergl": [
           {
            "marker": {
             "colorbar": {
              "outlinewidth": 0,
              "ticks": ""
             }
            },
            "type": "scattergl"
           }
          ],
          "scattermap": [
           {
            "marker": {
             "colorbar": {
              "outlinewidth": 0,
              "ticks": ""
             }
            },
            "type": "scattermap"
           }
          ],
          "scattermapbox": [
           {
            "marker": {
             "colorbar": {
              "outlinewidth": 0,
              "ticks": ""
             }
            },
            "type": "scattermapbox"
           }
          ],
          "scatterpolar": [
           {
            "marker": {
             "colorbar": {
              "outlinewidth": 0,
              "ticks": ""
             }
            },
            "type": "scatterpolar"
           }
          ],
          "scatterpolargl": [
           {
            "marker": {
             "colorbar": {
              "outlinewidth": 0,
              "ticks": ""
             }
            },
            "type": "scatterpolargl"
           }
          ],
          "scatterternary": [
           {
            "marker": {
             "colorbar": {
              "outlinewidth": 0,
              "ticks": ""
             }
            },
            "type": "scatterternary"
           }
          ],
          "surface": [
           {
            "colorbar": {
             "outlinewidth": 0,
             "ticks": ""
            },
            "colorscale": [
             [
              0,
              "#0d0887"
             ],
             [
              0.1111111111111111,
              "#46039f"
             ],
             [
              0.2222222222222222,
              "#7201a8"
             ],
             [
              0.3333333333333333,
              "#9c179e"
             ],
             [
              0.4444444444444444,
              "#bd3786"
             ],
             [
              0.5555555555555556,
              "#d8576b"
             ],
             [
              0.6666666666666666,
              "#ed7953"
             ],
             [
              0.7777777777777778,
              "#fb9f3a"
             ],
             [
              0.8888888888888888,
              "#fdca26"
             ],
             [
              1,
              "#f0f921"
             ]
            ],
            "type": "surface"
           }
          ],
          "table": [
           {
            "cells": {
             "fill": {
              "color": "#EBF0F8"
             },
             "line": {
              "color": "white"
             }
            },
            "header": {
             "fill": {
              "color": "#C8D4E3"
             },
             "line": {
              "color": "white"
             }
            },
            "type": "table"
           }
          ]
         },
         "layout": {
          "annotationdefaults": {
           "arrowcolor": "#2a3f5f",
           "arrowhead": 0,
           "arrowwidth": 1
          },
          "autotypenumbers": "strict",
          "coloraxis": {
           "colorbar": {
            "outlinewidth": 0,
            "ticks": ""
           }
          },
          "colorscale": {
           "diverging": [
            [
             0,
             "#8e0152"
            ],
            [
             0.1,
             "#c51b7d"
            ],
            [
             0.2,
             "#de77ae"
            ],
            [
             0.3,
             "#f1b6da"
            ],
            [
             0.4,
             "#fde0ef"
            ],
            [
             0.5,
             "#f7f7f7"
            ],
            [
             0.6,
             "#e6f5d0"
            ],
            [
             0.7,
             "#b8e186"
            ],
            [
             0.8,
             "#7fbc41"
            ],
            [
             0.9,
             "#4d9221"
            ],
            [
             1,
             "#276419"
            ]
           ],
           "sequential": [
            [
             0,
             "#0d0887"
            ],
            [
             0.1111111111111111,
             "#46039f"
            ],
            [
             0.2222222222222222,
             "#7201a8"
            ],
            [
             0.3333333333333333,
             "#9c179e"
            ],
            [
             0.4444444444444444,
             "#bd3786"
            ],
            [
             0.5555555555555556,
             "#d8576b"
            ],
            [
             0.6666666666666666,
             "#ed7953"
            ],
            [
             0.7777777777777778,
             "#fb9f3a"
            ],
            [
             0.8888888888888888,
             "#fdca26"
            ],
            [
             1,
             "#f0f921"
            ]
           ],
           "sequentialminus": [
            [
             0,
             "#0d0887"
            ],
            [
             0.1111111111111111,
             "#46039f"
            ],
            [
             0.2222222222222222,
             "#7201a8"
            ],
            [
             0.3333333333333333,
             "#9c179e"
            ],
            [
             0.4444444444444444,
             "#bd3786"
            ],
            [
             0.5555555555555556,
             "#d8576b"
            ],
            [
             0.6666666666666666,
             "#ed7953"
            ],
            [
             0.7777777777777778,
             "#fb9f3a"
            ],
            [
             0.8888888888888888,
             "#fdca26"
            ],
            [
             1,
             "#f0f921"
            ]
           ]
          },
          "colorway": [
           "#636efa",
           "#EF553B",
           "#00cc96",
           "#ab63fa",
           "#FFA15A",
           "#19d3f3",
           "#FF6692",
           "#B6E880",
           "#FF97FF",
           "#FECB52"
          ],
          "font": {
           "color": "#2a3f5f"
          },
          "geo": {
           "bgcolor": "white",
           "lakecolor": "white",
           "landcolor": "#E5ECF6",
           "showlakes": true,
           "showland": true,
           "subunitcolor": "white"
          },
          "hoverlabel": {
           "align": "left"
          },
          "hovermode": "closest",
          "mapbox": {
           "style": "light"
          },
          "paper_bgcolor": "white",
          "plot_bgcolor": "#E5ECF6",
          "polar": {
           "angularaxis": {
            "gridcolor": "white",
            "linecolor": "white",
            "ticks": ""
           },
           "bgcolor": "#E5ECF6",
           "radialaxis": {
            "gridcolor": "white",
            "linecolor": "white",
            "ticks": ""
           }
          },
          "scene": {
           "xaxis": {
            "backgroundcolor": "#E5ECF6",
            "gridcolor": "white",
            "gridwidth": 2,
            "linecolor": "white",
            "showbackground": true,
            "ticks": "",
            "zerolinecolor": "white"
           },
           "yaxis": {
            "backgroundcolor": "#E5ECF6",
            "gridcolor": "white",
            "gridwidth": 2,
            "linecolor": "white",
            "showbackground": true,
            "ticks": "",
            "zerolinecolor": "white"
           },
           "zaxis": {
            "backgroundcolor": "#E5ECF6",
            "gridcolor": "white",
            "gridwidth": 2,
            "linecolor": "white",
            "showbackground": true,
            "ticks": "",
            "zerolinecolor": "white"
           }
          },
          "shapedefaults": {
           "line": {
            "color": "#2a3f5f"
           }
          },
          "ternary": {
           "aaxis": {
            "gridcolor": "white",
            "linecolor": "white",
            "ticks": ""
           },
           "baxis": {
            "gridcolor": "white",
            "linecolor": "white",
            "ticks": ""
           },
           "bgcolor": "#E5ECF6",
           "caxis": {
            "gridcolor": "white",
            "linecolor": "white",
            "ticks": ""
           }
          },
          "title": {
           "x": 0.05
          },
          "xaxis": {
           "automargin": true,
           "gridcolor": "white",
           "linecolor": "white",
           "ticks": "",
           "title": {
            "standoff": 15
           },
           "zerolinecolor": "white",
           "zerolinewidth": 2
          },
          "yaxis": {
           "automargin": true,
           "gridcolor": "white",
           "linecolor": "white",
           "ticks": "",
           "title": {
            "standoff": 15
           },
           "zerolinecolor": "white",
           "zerolinewidth": 2
          }
         }
        },
        "title": {
         "text": "Resultado Medio de las Simulaciones - Elecciones Presidenciales 2024"
        },
        "width": 1200
       }
      }
     },
     "metadata": {},
     "output_type": "display_data"
    }
   ],
   "source": [
    "# Crear el mapa coroplético usando Plotly Express con códigos de estado\n",
    "fig = px.choropleth(accumulated_pred_state,\n",
    "                    locations='state_code',  # Usar la nueva columna con códigos de estado\n",
    "                    locationmode=\"USA-states\",  # Modo de localización para los códigos de estado\n",
    "                    color='Winner',  # Métrica que deseas visualizar\n",
    "                    hover_name='state_code',  # Mostrar el código del estado en hover\n",
    "                    hover_data={\n",
    "                        'state_code': True,  # Mostrar el código del estado\n",
    "                        \"Per_dem\": ':.2%',  # Mostrar el porcentaje de Biden en formato de porcentaje\n",
    "                        \"Per_gop\": ':.2%'  # Mostrar el porcentaje de Trump en formato de porcentaje\n",
    "                    },\n",
    "                    scope='usa',  # Limitar el mapa a EE.UU.\n",
    "                    color_discrete_map={'dem': '#3951a2', 'gop': '#af2b39'},  # Colores asignados\n",
    "                    labels={f'Winner': 'Ganador {ELECTORAL_YEAR}'},  # Etiqueta para la barra de color\n",
    "                    title=f\"Resultado Medio de las Simulaciones - Elecciones Presidenciales {ELECTORAL_YEAR}\"\n",
    "                   )\n",
    "\n",
    "# # Crear un nuevo rastro para añadir los códigos de los estados en el mapa\n",
    "# fig.add_trace(go.Scattergeo(\n",
    "#     locationmode='USA-states',\n",
    "#     locations=accumulated_pred_state['state_code'],  # Usar los códigos de los estados\n",
    "#     text=accumulated_pred_state['state_code'],  # Mostrar los códigos dentro del mapa\n",
    "#     mode='text',  # Solo texto\n",
    "#     textfont=dict(size=12, color=\"black\"),  # Tamaño y color de la fuente\n",
    "# ))\n",
    "\n",
    "# Ajustar el tamaño del gráfico\n",
    "fig.update_layout(\n",
    "    width=1200,  # Ajustar el ancho del gráfico\n",
    "    height=800   # Ajustar la altura del gráfico\n",
    ")\n",
    "\n",
    "# Ajustar visualización y mostrar el gráfico\n",
    "fig.update_geos(fitbounds=\"locations\", visible=False)  # Ajustar el mapa a las ubicaciones\n",
    "fig.show()\n"
   ]
  },
  {
   "cell_type": "code",
   "execution_count": 217,
   "metadata": {},
   "outputs": [
    {
     "data": {
      "application/vnd.plotly.v1+json": {
       "config": {
        "plotlyServerURL": "https://plot.ly"
       },
       "data": [
        {
         "colorscale": [
          [
           0,
           "#af2b39"
          ],
          [
           1,
           "#af2b39"
          ]
         ],
         "customdata": [
          [
           "AL",
           0.42075475471390306,
           0.5792452452860968
          ],
          [
           "AR",
           0.37632886161683254,
           0.6236711383831676
          ],
          [
           "ID",
           0.4164706388318456,
           0.5835293611681547
          ],
          [
           "IN",
           0.3995111736192822,
           0.6004888263807178
          ],
          [
           "IA",
           0.3710265032583228,
           0.628973496741677
          ],
          [
           "KS",
           0.3890767683411837,
           0.6109232316588167
          ],
          [
           "KY",
           0.38029016854937453,
           0.6197098314506253
          ],
          [
           "LA",
           -0.8263649065342555,
           1.826364906534255
          ],
          [
           "ME",
           0.41992018468523434,
           0.5800798153147654
          ],
          [
           "MS",
           0.40292816869089326,
           0.5970718313091069
          ],
          [
           "MO",
           0.41136959485920693,
           0.5886304051407929
          ],
          [
           "MT",
           0.4343133009363525,
           0.5656866990636477
          ],
          [
           "NE",
           0.39020093297653724,
           0.6097990670234629
          ],
          [
           "ND",
           0.3732880825535922,
           0.626711917446408
          ],
          [
           "OK",
           0.3842558374998299,
           0.6157441625001698
          ],
          [
           "SD",
           0.3499960461065431,
           0.6500039538934571
          ],
          [
           "TN",
           0.4444354754521128,
           0.5555645245478871
          ],
          [
           "TX",
           0.19111220670178813,
           0.8088877932982118
          ],
          [
           "VT",
           0.4445075547721005,
           0.5554924452278993
          ],
          [
           "WV",
           0.32256968150446097,
           0.6774303184955389
          ],
          [
           "WI",
           0.44288408225553055,
           0.5571159177444696
          ],
          [
           "WY",
           0.36220287106754,
           0.6377971289324599
          ]
         ],
         "geo": "geo",
         "hovertemplate": "<b>%{hovertext}</b><br><br>Status=Safe Republican<br>state_code=%{customdata[0]}<br>Per_dem=%{customdata[1]:.2%}<br>Per_gop=%{customdata[2]:.2%}<extra></extra>",
         "hovertext": [
          "AL",
          "AR",
          "ID",
          "IN",
          "IA",
          "KS",
          "KY",
          "LA",
          "ME",
          "MS",
          "MO",
          "MT",
          "NE",
          "ND",
          "OK",
          "SD",
          "TN",
          "TX",
          "VT",
          "WV",
          "WI",
          "WY"
         ],
         "locationmode": "USA-states",
         "locations": [
          "AL",
          "AR",
          "ID",
          "IN",
          "IA",
          "KS",
          "KY",
          "LA",
          "ME",
          "MS",
          "MO",
          "MT",
          "NE",
          "ND",
          "OK",
          "SD",
          "TN",
          "TX",
          "VT",
          "WV",
          "WI",
          "WY"
         ],
         "name": "Safe Republican",
         "showlegend": true,
         "showscale": false,
         "type": "choropleth",
         "z": [
          1,
          1,
          1,
          1,
          1,
          1,
          1,
          1,
          1,
          1,
          1,
          1,
          1,
          1,
          1,
          1,
          1,
          1,
          1,
          1,
          1,
          1
         ]
        },
        {
         "colorscale": [
          [
           0,
           "#3951a2"
          ],
          [
           1,
           "#3951a2"
          ]
         ],
         "customdata": [
          [
           "AZ",
           0.5822881496005771,
           0.4177118503994229
          ],
          [
           "CA",
           0.6758956198454562,
           0.32410438015454346
          ],
          [
           "CO",
           0.5783625321537826,
           0.4216374678462172
          ],
          [
           "DC",
           0.8577178485055462,
           0.14228215149445356
          ],
          [
           "HI",
           0.7013234654025392,
           0.2986765345974611
          ],
          [
           "IL",
           0.5668364583859921,
           0.43316354161400794
          ],
          [
           "MD",
           0.6011659985557457,
           0.39883400144425424
          ],
          [
           "MA",
           0.6432307413447389,
           0.3567692586552611
          ],
          [
           "NV",
           0.5798559169907412,
           0.42014408300925843
          ],
          [
           "NJ",
           0.6067417960866005,
           0.3932582039133996
          ],
          [
           "NY",
           0.6292270330412219,
           0.3707729669587782
          ],
          [
           "RI",
           0.5547284604146053,
           0.44527153958539456
          ],
          [
           "WA",
           0.6097195071178073,
           0.3902804928821926
          ]
         ],
         "geo": "geo",
         "hovertemplate": "<b>%{hovertext}</b><br><br>Status=Safe Democrat<br>state_code=%{customdata[0]}<br>Per_dem=%{customdata[1]:.2%}<br>Per_gop=%{customdata[2]:.2%}<extra></extra>",
         "hovertext": [
          "AZ",
          "CA",
          "CO",
          "DC",
          "HI",
          "IL",
          "MD",
          "MA",
          "NV",
          "NJ",
          "NY",
          "RI",
          "WA"
         ],
         "locationmode": "USA-states",
         "locations": [
          "AZ",
          "CA",
          "CO",
          "DC",
          "HI",
          "IL",
          "MD",
          "MA",
          "NV",
          "NJ",
          "NY",
          "RI",
          "WA"
         ],
         "name": "Safe Democrat",
         "showlegend": true,
         "showscale": false,
         "type": "choropleth",
         "z": [
          1,
          1,
          1,
          1,
          1,
          1,
          1,
          1,
          1,
          1,
          1,
          1,
          1
         ]
        },
        {
         "colorscale": [
          [
           0,
           "#a3cef1"
          ],
          [
           1,
           "#a3cef1"
          ]
         ],
         "customdata": [
          [
           "DE",
           0.5298483023152122,
           0.470151697684788
          ],
          [
           "FL",
           0.5461000113807379,
           0.4538999886192622
          ],
          [
           "OR",
           0.5471669349232978,
           0.4528330650767022
          ],
          [
           "VA",
           0.5234249801308453,
           0.4765750198691547
          ]
         ],
         "geo": "geo",
         "hovertemplate": "<b>%{hovertext}</b><br><br>Status=Likely Democrat<br>state_code=%{customdata[0]}<br>Per_dem=%{customdata[1]:.2%}<br>Per_gop=%{customdata[2]:.2%}<extra></extra>",
         "hovertext": [
          "DE",
          "FL",
          "OR",
          "VA"
         ],
         "locationmode": "USA-states",
         "locations": [
          "DE",
          "FL",
          "OR",
          "VA"
         ],
         "name": "Likely Democrat",
         "showlegend": true,
         "showscale": false,
         "type": "choropleth",
         "z": [
          1,
          1,
          1,
          1
         ]
        },
        {
         "colorscale": [
          [
           0,
           "#b6b164"
          ],
          [
           1,
           "#b6b164"
          ]
         ],
         "customdata": [
          [
           "GA",
           0.5044548923873429,
           0.49554510761265713
          ],
          [
           "NM",
           0.48750094775621255,
           0.5124990522437876
          ],
          [
           "NC",
           0.4878950613900714,
           0.5121049386099287
          ],
          [
           "PA",
           0.49844203014429367,
           0.5015579698557063
          ]
         ],
         "geo": "geo",
         "hovertemplate": "<b>%{hovertext}</b><br><br>Status=Toss-Up<br>state_code=%{customdata[0]}<br>Per_dem=%{customdata[1]:.2%}<br>Per_gop=%{customdata[2]:.2%}<extra></extra>",
         "hovertext": [
          "GA",
          "NM",
          "NC",
          "PA"
         ],
         "locationmode": "USA-states",
         "locations": [
          "GA",
          "NM",
          "NC",
          "PA"
         ],
         "name": "Toss-Up",
         "showlegend": true,
         "showscale": false,
         "type": "choropleth",
         "z": [
          1,
          1,
          1,
          1
         ]
        },
        {
         "colorscale": [
          [
           0,
           "#d56062"
          ],
          [
           1,
           "#d56062"
          ]
         ],
         "customdata": [
          [
           "MI",
           0.47217244581483947,
           0.5278275541851606
          ],
          [
           "MN",
           0.4783341784881636,
           0.5216658215118364
          ],
          [
           "NH",
           0.46311864504585354,
           0.5368813549541465
          ],
          [
           "OH",
           0.4512630460980852,
           0.5487369539019148
          ],
          [
           "SC",
           0.45846693347666945,
           0.5415330665233307
          ],
          [
           "UT",
           0.4714089437833081,
           0.5285910562166919
          ]
         ],
         "geo": "geo",
         "hovertemplate": "<b>%{hovertext}</b><br><br>Status=Likely Republican<br>state_code=%{customdata[0]}<br>Per_dem=%{customdata[1]:.2%}<br>Per_gop=%{customdata[2]:.2%}<extra></extra>",
         "hovertext": [
          "MI",
          "MN",
          "NH",
          "OH",
          "SC",
          "UT"
         ],
         "locationmode": "USA-states",
         "locations": [
          "MI",
          "MN",
          "NH",
          "OH",
          "SC",
          "UT"
         ],
         "name": "Likely Republican",
         "showlegend": true,
         "showscale": false,
         "type": "choropleth",
         "z": [
          1,
          1,
          1,
          1,
          1,
          1
         ]
        }
       ],
       "layout": {
        "geo": {
         "center": {},
         "domain": {
          "x": [
           0,
           1
          ],
          "y": [
           0,
           1
          ]
         },
         "fitbounds": "locations",
         "scope": "usa",
         "visible": false
        },
        "height": 800,
        "legend": {
         "title": {
          "text": "Status"
         },
         "tracegroupgap": 0
        },
        "template": {
         "data": {
          "bar": [
           {
            "error_x": {
             "color": "#2a3f5f"
            },
            "error_y": {
             "color": "#2a3f5f"
            },
            "marker": {
             "line": {
              "color": "#E5ECF6",
              "width": 0.5
             },
             "pattern": {
              "fillmode": "overlay",
              "size": 10,
              "solidity": 0.2
             }
            },
            "type": "bar"
           }
          ],
          "barpolar": [
           {
            "marker": {
             "line": {
              "color": "#E5ECF6",
              "width": 0.5
             },
             "pattern": {
              "fillmode": "overlay",
              "size": 10,
              "solidity": 0.2
             }
            },
            "type": "barpolar"
           }
          ],
          "carpet": [
           {
            "aaxis": {
             "endlinecolor": "#2a3f5f",
             "gridcolor": "white",
             "linecolor": "white",
             "minorgridcolor": "white",
             "startlinecolor": "#2a3f5f"
            },
            "baxis": {
             "endlinecolor": "#2a3f5f",
             "gridcolor": "white",
             "linecolor": "white",
             "minorgridcolor": "white",
             "startlinecolor": "#2a3f5f"
            },
            "type": "carpet"
           }
          ],
          "choropleth": [
           {
            "colorbar": {
             "outlinewidth": 0,
             "ticks": ""
            },
            "type": "choropleth"
           }
          ],
          "contour": [
           {
            "colorbar": {
             "outlinewidth": 0,
             "ticks": ""
            },
            "colorscale": [
             [
              0,
              "#0d0887"
             ],
             [
              0.1111111111111111,
              "#46039f"
             ],
             [
              0.2222222222222222,
              "#7201a8"
             ],
             [
              0.3333333333333333,
              "#9c179e"
             ],
             [
              0.4444444444444444,
              "#bd3786"
             ],
             [
              0.5555555555555556,
              "#d8576b"
             ],
             [
              0.6666666666666666,
              "#ed7953"
             ],
             [
              0.7777777777777778,
              "#fb9f3a"
             ],
             [
              0.8888888888888888,
              "#fdca26"
             ],
             [
              1,
              "#f0f921"
             ]
            ],
            "type": "contour"
           }
          ],
          "contourcarpet": [
           {
            "colorbar": {
             "outlinewidth": 0,
             "ticks": ""
            },
            "type": "contourcarpet"
           }
          ],
          "heatmap": [
           {
            "colorbar": {
             "outlinewidth": 0,
             "ticks": ""
            },
            "colorscale": [
             [
              0,
              "#0d0887"
             ],
             [
              0.1111111111111111,
              "#46039f"
             ],
             [
              0.2222222222222222,
              "#7201a8"
             ],
             [
              0.3333333333333333,
              "#9c179e"
             ],
             [
              0.4444444444444444,
              "#bd3786"
             ],
             [
              0.5555555555555556,
              "#d8576b"
             ],
             [
              0.6666666666666666,
              "#ed7953"
             ],
             [
              0.7777777777777778,
              "#fb9f3a"
             ],
             [
              0.8888888888888888,
              "#fdca26"
             ],
             [
              1,
              "#f0f921"
             ]
            ],
            "type": "heatmap"
           }
          ],
          "histogram": [
           {
            "marker": {
             "pattern": {
              "fillmode": "overlay",
              "size": 10,
              "solidity": 0.2
             }
            },
            "type": "histogram"
           }
          ],
          "histogram2d": [
           {
            "colorbar": {
             "outlinewidth": 0,
             "ticks": ""
            },
            "colorscale": [
             [
              0,
              "#0d0887"
             ],
             [
              0.1111111111111111,
              "#46039f"
             ],
             [
              0.2222222222222222,
              "#7201a8"
             ],
             [
              0.3333333333333333,
              "#9c179e"
             ],
             [
              0.4444444444444444,
              "#bd3786"
             ],
             [
              0.5555555555555556,
              "#d8576b"
             ],
             [
              0.6666666666666666,
              "#ed7953"
             ],
             [
              0.7777777777777778,
              "#fb9f3a"
             ],
             [
              0.8888888888888888,
              "#fdca26"
             ],
             [
              1,
              "#f0f921"
             ]
            ],
            "type": "histogram2d"
           }
          ],
          "histogram2dcontour": [
           {
            "colorbar": {
             "outlinewidth": 0,
             "ticks": ""
            },
            "colorscale": [
             [
              0,
              "#0d0887"
             ],
             [
              0.1111111111111111,
              "#46039f"
             ],
             [
              0.2222222222222222,
              "#7201a8"
             ],
             [
              0.3333333333333333,
              "#9c179e"
             ],
             [
              0.4444444444444444,
              "#bd3786"
             ],
             [
              0.5555555555555556,
              "#d8576b"
             ],
             [
              0.6666666666666666,
              "#ed7953"
             ],
             [
              0.7777777777777778,
              "#fb9f3a"
             ],
             [
              0.8888888888888888,
              "#fdca26"
             ],
             [
              1,
              "#f0f921"
             ]
            ],
            "type": "histogram2dcontour"
           }
          ],
          "mesh3d": [
           {
            "colorbar": {
             "outlinewidth": 0,
             "ticks": ""
            },
            "type": "mesh3d"
           }
          ],
          "parcoords": [
           {
            "line": {
             "colorbar": {
              "outlinewidth": 0,
              "ticks": ""
             }
            },
            "type": "parcoords"
           }
          ],
          "pie": [
           {
            "automargin": true,
            "type": "pie"
           }
          ],
          "scatter": [
           {
            "fillpattern": {
             "fillmode": "overlay",
             "size": 10,
             "solidity": 0.2
            },
            "type": "scatter"
           }
          ],
          "scatter3d": [
           {
            "line": {
             "colorbar": {
              "outlinewidth": 0,
              "ticks": ""
             }
            },
            "marker": {
             "colorbar": {
              "outlinewidth": 0,
              "ticks": ""
             }
            },
            "type": "scatter3d"
           }
          ],
          "scattercarpet": [
           {
            "marker": {
             "colorbar": {
              "outlinewidth": 0,
              "ticks": ""
             }
            },
            "type": "scattercarpet"
           }
          ],
          "scattergeo": [
           {
            "marker": {
             "colorbar": {
              "outlinewidth": 0,
              "ticks": ""
             }
            },
            "type": "scattergeo"
           }
          ],
          "scattergl": [
           {
            "marker": {
             "colorbar": {
              "outlinewidth": 0,
              "ticks": ""
             }
            },
            "type": "scattergl"
           }
          ],
          "scattermap": [
           {
            "marker": {
             "colorbar": {
              "outlinewidth": 0,
              "ticks": ""
             }
            },
            "type": "scattermap"
           }
          ],
          "scattermapbox": [
           {
            "marker": {
             "colorbar": {
              "outlinewidth": 0,
              "ticks": ""
             }
            },
            "type": "scattermapbox"
           }
          ],
          "scatterpolar": [
           {
            "marker": {
             "colorbar": {
              "outlinewidth": 0,
              "ticks": ""
             }
            },
            "type": "scatterpolar"
           }
          ],
          "scatterpolargl": [
           {
            "marker": {
             "colorbar": {
              "outlinewidth": 0,
              "ticks": ""
             }
            },
            "type": "scatterpolargl"
           }
          ],
          "scatterternary": [
           {
            "marker": {
             "colorbar": {
              "outlinewidth": 0,
              "ticks": ""
             }
            },
            "type": "scatterternary"
           }
          ],
          "surface": [
           {
            "colorbar": {
             "outlinewidth": 0,
             "ticks": ""
            },
            "colorscale": [
             [
              0,
              "#0d0887"
             ],
             [
              0.1111111111111111,
              "#46039f"
             ],
             [
              0.2222222222222222,
              "#7201a8"
             ],
             [
              0.3333333333333333,
              "#9c179e"
             ],
             [
              0.4444444444444444,
              "#bd3786"
             ],
             [
              0.5555555555555556,
              "#d8576b"
             ],
             [
              0.6666666666666666,
              "#ed7953"
             ],
             [
              0.7777777777777778,
              "#fb9f3a"
             ],
             [
              0.8888888888888888,
              "#fdca26"
             ],
             [
              1,
              "#f0f921"
             ]
            ],
            "type": "surface"
           }
          ],
          "table": [
           {
            "cells": {
             "fill": {
              "color": "#EBF0F8"
             },
             "line": {
              "color": "white"
             }
            },
            "header": {
             "fill": {
              "color": "#C8D4E3"
             },
             "line": {
              "color": "white"
             }
            },
            "type": "table"
           }
          ]
         },
         "layout": {
          "annotationdefaults": {
           "arrowcolor": "#2a3f5f",
           "arrowhead": 0,
           "arrowwidth": 1
          },
          "autotypenumbers": "strict",
          "coloraxis": {
           "colorbar": {
            "outlinewidth": 0,
            "ticks": ""
           }
          },
          "colorscale": {
           "diverging": [
            [
             0,
             "#8e0152"
            ],
            [
             0.1,
             "#c51b7d"
            ],
            [
             0.2,
             "#de77ae"
            ],
            [
             0.3,
             "#f1b6da"
            ],
            [
             0.4,
             "#fde0ef"
            ],
            [
             0.5,
             "#f7f7f7"
            ],
            [
             0.6,
             "#e6f5d0"
            ],
            [
             0.7,
             "#b8e186"
            ],
            [
             0.8,
             "#7fbc41"
            ],
            [
             0.9,
             "#4d9221"
            ],
            [
             1,
             "#276419"
            ]
           ],
           "sequential": [
            [
             0,
             "#0d0887"
            ],
            [
             0.1111111111111111,
             "#46039f"
            ],
            [
             0.2222222222222222,
             "#7201a8"
            ],
            [
             0.3333333333333333,
             "#9c179e"
            ],
            [
             0.4444444444444444,
             "#bd3786"
            ],
            [
             0.5555555555555556,
             "#d8576b"
            ],
            [
             0.6666666666666666,
             "#ed7953"
            ],
            [
             0.7777777777777778,
             "#fb9f3a"
            ],
            [
             0.8888888888888888,
             "#fdca26"
            ],
            [
             1,
             "#f0f921"
            ]
           ],
           "sequentialminus": [
            [
             0,
             "#0d0887"
            ],
            [
             0.1111111111111111,
             "#46039f"
            ],
            [
             0.2222222222222222,
             "#7201a8"
            ],
            [
             0.3333333333333333,
             "#9c179e"
            ],
            [
             0.4444444444444444,
             "#bd3786"
            ],
            [
             0.5555555555555556,
             "#d8576b"
            ],
            [
             0.6666666666666666,
             "#ed7953"
            ],
            [
             0.7777777777777778,
             "#fb9f3a"
            ],
            [
             0.8888888888888888,
             "#fdca26"
            ],
            [
             1,
             "#f0f921"
            ]
           ]
          },
          "colorway": [
           "#636efa",
           "#EF553B",
           "#00cc96",
           "#ab63fa",
           "#FFA15A",
           "#19d3f3",
           "#FF6692",
           "#B6E880",
           "#FF97FF",
           "#FECB52"
          ],
          "font": {
           "color": "#2a3f5f"
          },
          "geo": {
           "bgcolor": "white",
           "lakecolor": "white",
           "landcolor": "#E5ECF6",
           "showlakes": true,
           "showland": true,
           "subunitcolor": "white"
          },
          "hoverlabel": {
           "align": "left"
          },
          "hovermode": "closest",
          "mapbox": {
           "style": "light"
          },
          "paper_bgcolor": "white",
          "plot_bgcolor": "#E5ECF6",
          "polar": {
           "angularaxis": {
            "gridcolor": "white",
            "linecolor": "white",
            "ticks": ""
           },
           "bgcolor": "#E5ECF6",
           "radialaxis": {
            "gridcolor": "white",
            "linecolor": "white",
            "ticks": ""
           }
          },
          "scene": {
           "xaxis": {
            "backgroundcolor": "#E5ECF6",
            "gridcolor": "white",
            "gridwidth": 2,
            "linecolor": "white",
            "showbackground": true,
            "ticks": "",
            "zerolinecolor": "white"
           },
           "yaxis": {
            "backgroundcolor": "#E5ECF6",
            "gridcolor": "white",
            "gridwidth": 2,
            "linecolor": "white",
            "showbackground": true,
            "ticks": "",
            "zerolinecolor": "white"
           },
           "zaxis": {
            "backgroundcolor": "#E5ECF6",
            "gridcolor": "white",
            "gridwidth": 2,
            "linecolor": "white",
            "showbackground": true,
            "ticks": "",
            "zerolinecolor": "white"
           }
          },
          "shapedefaults": {
           "line": {
            "color": "#2a3f5f"
           }
          },
          "ternary": {
           "aaxis": {
            "gridcolor": "white",
            "linecolor": "white",
            "ticks": ""
           },
           "baxis": {
            "gridcolor": "white",
            "linecolor": "white",
            "ticks": ""
           },
           "bgcolor": "#E5ECF6",
           "caxis": {
            "gridcolor": "white",
            "linecolor": "white",
            "ticks": ""
           }
          },
          "title": {
           "x": 0.05
          },
          "xaxis": {
           "automargin": true,
           "gridcolor": "white",
           "linecolor": "white",
           "ticks": "",
           "title": {
            "standoff": 15
           },
           "zerolinecolor": "white",
           "zerolinewidth": 2
          },
          "yaxis": {
           "automargin": true,
           "gridcolor": "white",
           "linecolor": "white",
           "ticks": "",
           "title": {
            "standoff": 15
           },
           "zerolinecolor": "white",
           "zerolinewidth": 2
          }
         }
        },
        "title": {
         "text": "Status de los Estados en las Simulaciones - Elecciones Presidenciales 2024"
        },
        "width": 1200
       }
      }
     },
     "metadata": {},
     "output_type": "display_data"
    }
   ],
   "source": [
    "# Crear el mapa coroplético usando Plotly Express con códigos de estado\n",
    "fig = px.choropleth(accumulated_pred_state,\n",
    "                    locations='state_code',  # Usar la nueva columna con códigos de estado\n",
    "                    locationmode=\"USA-states\",  # Modo de localización para los códigos de estado\n",
    "                    color='Status',  # Métrica que deseas visualizar\n",
    "                    hover_name='state_code',  # Mostrar el código del estado en hover\n",
    "                    hover_data={\n",
    "                        'state_code': True,  # Mostrar el código del estado\n",
    "                        \"Per_dem\": ':.2%',  # Mostrar el porcentaje de Biden en formato de porcentaje\n",
    "                        \"Per_gop\": ':.2%'  # Mostrar el porcentaje de Trump en formato de porcentaje\n",
    "                    },\n",
    "                    scope='usa',  # Limitar el mapa a EE.UU.\n",
    "                    color_discrete_map={'Safe Democrat': '#3951a2', \n",
    "                                        'Likely Democrat': '#a3cef1', \n",
    "                                        'Toss-Up': '#b6b164', \n",
    "                                        'Likely Republican': '#d56062', \n",
    "                                        'Safe Republican': '#af2b39'},\n",
    "                    labels={f'Winner': 'Ganador {ELECTORAL_YEAR}'},  # Etiqueta para la barra de color\n",
    "                    title=f\"Status de los Estados en las Simulaciones - Elecciones Presidenciales {ELECTORAL_YEAR}\"\n",
    "                   )\n",
    "\n",
    "# # Crear un nuevo rastro para añadir los códigos de los estados en el mapa\n",
    "# fig.add_trace(go.Scattergeo(\n",
    "#     locationmode='USA-states',\n",
    "#     locations=accumulated_pred_state['state_code'],  # Usar los códigos de los estados\n",
    "#     text=accumulated_pred_state['state_code'],  # Mostrar los códigos dentro del mapa\n",
    "#     mode='text',  # Solo texto\n",
    "#     textfont=dict(size=12, color=\"black\"),  # Tamaño y color de la fuente\n",
    "# ))\n",
    "\n",
    "# Ajustar el tamaño del gráfico\n",
    "fig.update_layout(\n",
    "    width=1200,  # Ajustar el ancho del gráfico\n",
    "    height=800   # Ajustar la altura del gráfico\n",
    ")\n",
    "\n",
    "# Ajustar visualización y mostrar el gráfico\n",
    "fig.update_geos(fitbounds=\"locations\", visible=False)  # Ajustar el mapa a las ubicaciones\n",
    "fig.show()\n"
   ]
  },
  {
   "cell_type": "markdown",
   "metadata": {},
   "source": [
    "### Real"
   ]
  },
  {
   "cell_type": "code",
   "execution_count": 218,
   "metadata": {},
   "outputs": [
    {
     "data": {
      "application/vnd.plotly.v1+json": {
       "config": {
        "plotlyServerURL": "https://plot.ly"
       },
       "data": [
        {
         "colorscale": [
          [
           0,
           "#3951a2"
          ],
          [
           1,
           "#3951a2"
          ]
         ],
         "customdata": [
          [
           "CA",
           0.584785371015076,
           0.38340004397783556
          ],
          [
           "NY",
           0.5634474305856947,
           0.4365525694143053
          ],
          [
           "IL",
           0.5476862395321624,
           0.43793237497961507
          ],
          [
           "NJ",
           0.5197416168838388,
           0.4606463088544196
          ],
          [
           "VA",
           0.520993955261439,
           0.4629224356709178
          ],
          [
           "WA",
           0.5760307886843121,
           0.3926616540581994
          ],
          [
           "MA",
           0.6157763989903392,
           0.36233699934297336
          ],
          [
           "MN",
           0.5112687277300615,
           0.4687045267449079
          ],
          [
           "MD",
           0.6309011324258452,
           0.34339197188002585
          ],
          [
           "CO",
           0.54159441632431,
           0.4316815492186621
          ],
          [
           "OR",
           0.5564479305958709,
           0.4125318446524539
          ],
          [
           "CT",
           0.5641700631643359,
           0.41907748336725564
          ],
          [
           "NM",
           0.5185189998299767,
           0.4585116141056505
          ],
          [
           "RI",
           0.5584078612146266,
           0.4198613947859531
          ],
          [
           "NH",
           0.5090244759795318,
           0.4811488859129627
          ],
          [
           "ME",
           0.52401383250639,
           0.45464080589385053
          ],
          [
           "HI",
           0.6058513531036325,
           0.3748028356825321
          ],
          [
           "VT",
           0.6435537093089585,
           0.3258694993572405
          ],
          [
           "DE",
           0.5662687098028716,
           0.4189022018890085
          ],
          [
           "DC",
           0.9114993945085634,
           0.05081185280379606
          ]
         ],
         "geo": "geo",
         "hovertemplate": "<b>%{hovertext}</b><br><br>Ganador {ELECTORAL_YEAR}=dem<br>state_code=%{customdata[0]}<br>Per_dem=%{customdata[1]:.2%}<br>Per_gop=%{customdata[2]:.2%}<extra></extra>",
         "hovertext": [
          "CA",
          "NY",
          "IL",
          "NJ",
          "VA",
          "WA",
          "MA",
          "MN",
          "MD",
          "CO",
          "OR",
          "CT",
          "NM",
          "RI",
          "NH",
          "ME",
          "HI",
          "VT",
          "DE",
          "DC"
         ],
         "locationmode": "USA-states",
         "locations": [
          "CA",
          "NY",
          "IL",
          "NJ",
          "VA",
          "WA",
          "MA",
          "MN",
          "MD",
          "CO",
          "OR",
          "CT",
          "NM",
          "RI",
          "NH",
          "ME",
          "HI",
          "VT",
          "DE",
          "DC"
         ],
         "name": "dem",
         "showlegend": true,
         "showscale": false,
         "type": "choropleth",
         "z": [
          1,
          1,
          1,
          1,
          1,
          1,
          1,
          1,
          1,
          1,
          1,
          1,
          1,
          1,
          1,
          1,
          1,
          1,
          1,
          1
         ]
        },
        {
         "colorscale": [
          [
           0,
           "#af2b39"
          ],
          [
           1,
           "#af2b39"
          ]
         ],
         "customdata": [
          [
           "TX",
           0.4248862378686313,
           0.5618223206200645
          ],
          [
           "FL",
           0.42989101713151834,
           0.5608939861369304
          ],
          [
           "PA",
           0.4866280572391539,
           0.5037253671558666
          ],
          [
           "OH",
           0.43949549498292895,
           0.5516230047543659
          ],
          [
           "MI",
           0.48327259459772565,
           0.4974188097703772
          ],
          [
           "GA",
           0.4853322265495909,
           0.5072558398048627
          ],
          [
           "NC",
           0.47808869107534324,
           0.5103174545882869
          ],
          [
           "TN",
           0.3447405336001791,
           0.6419393709149847
          ],
          [
           "IN",
           0.396633261751372,
           0.5864086307393394
          ],
          [
           "AZ",
           0.46701417010319773,
           0.5223002024890546
          ],
          [
           "WI",
           0.4884699724438856,
           0.4970776346892566
          ],
          [
           "MO",
           0.4010557870868347,
           0.5852446355486846
          ],
          [
           "SC",
           0.40360890688894646,
           0.5822862951015251
          ],
          [
           "AL",
           0.34232779282665116,
           0.64822155408376
          ],
          [
           "LA",
           0.3821024178178602,
           0.6021524931800346
          ],
          [
           "KY",
           0.33957456413877524,
           0.64510114025454
          ],
          [
           "OK",
           0.3189934956099997,
           0.6616210342024795
          ],
          [
           "UT",
           0.3780809986350357,
           0.5939832696103567
          ],
          [
           "NV",
           0.47493130572991027,
           0.505916462379785
          ],
          [
           "MS",
           0.3800203256004847,
           0.6089080852893467
          ],
          [
           "KS",
           0.4104072715166041,
           0.5715630792917397
          ],
          [
           "IA",
           0.4268813875012147,
           0.5595072333085273
          ],
          [
           "AR",
           0.3355990989924544,
           0.6419687217800987
          ],
          [
           "WV",
           0.28110153595928594,
           0.6998465352378703
          ],
          [
           "NE",
           0.3906366301750815,
           0.5963264879497528
          ],
          [
           "ID",
           0.3038995946119194,
           0.6689190682705357
          ],
          [
           "WY",
           0.26103329040784223,
           0.7232244427507856
          ],
          [
           "SD",
           0.34239092422398476,
           0.6343367791812964
          ],
          [
           "ND",
           0.30769546840373746,
           0.6752470148660902
          ],
          [
           "MT",
           0.38461066433595426,
           0.583914767572803
          ]
         ],
         "geo": "geo",
         "hovertemplate": "<b>%{hovertext}</b><br><br>Ganador {ELECTORAL_YEAR}=gop<br>state_code=%{customdata[0]}<br>Per_dem=%{customdata[1]:.2%}<br>Per_gop=%{customdata[2]:.2%}<extra></extra>",
         "hovertext": [
          "TX",
          "FL",
          "PA",
          "OH",
          "MI",
          "GA",
          "NC",
          "TN",
          "IN",
          "AZ",
          "WI",
          "MO",
          "SC",
          "AL",
          "LA",
          "KY",
          "OK",
          "UT",
          "NV",
          "MS",
          "KS",
          "IA",
          "AR",
          "WV",
          "NE",
          "ID",
          "WY",
          "SD",
          "ND",
          "MT"
         ],
         "locationmode": "USA-states",
         "locations": [
          "TX",
          "FL",
          "PA",
          "OH",
          "MI",
          "GA",
          "NC",
          "TN",
          "IN",
          "AZ",
          "WI",
          "MO",
          "SC",
          "AL",
          "LA",
          "KY",
          "OK",
          "UT",
          "NV",
          "MS",
          "KS",
          "IA",
          "AR",
          "WV",
          "NE",
          "ID",
          "WY",
          "SD",
          "ND",
          "MT"
         ],
         "name": "gop",
         "showlegend": true,
         "showscale": false,
         "type": "choropleth",
         "z": [
          1,
          1,
          1,
          1,
          1,
          1,
          1,
          1,
          1,
          1,
          1,
          1,
          1,
          1,
          1,
          1,
          1,
          1,
          1,
          1,
          1,
          1,
          1,
          1,
          1,
          1,
          1,
          1,
          1,
          1
         ]
        }
       ],
       "layout": {
        "geo": {
         "center": {},
         "domain": {
          "x": [
           0,
           1
          ],
          "y": [
           0,
           1
          ]
         },
         "fitbounds": "locations",
         "scope": "usa",
         "visible": false
        },
        "height": 800,
        "legend": {
         "title": {
          "text": "Ganador {ELECTORAL_YEAR}"
         },
         "tracegroupgap": 0
        },
        "template": {
         "data": {
          "bar": [
           {
            "error_x": {
             "color": "#2a3f5f"
            },
            "error_y": {
             "color": "#2a3f5f"
            },
            "marker": {
             "line": {
              "color": "#E5ECF6",
              "width": 0.5
             },
             "pattern": {
              "fillmode": "overlay",
              "size": 10,
              "solidity": 0.2
             }
            },
            "type": "bar"
           }
          ],
          "barpolar": [
           {
            "marker": {
             "line": {
              "color": "#E5ECF6",
              "width": 0.5
             },
             "pattern": {
              "fillmode": "overlay",
              "size": 10,
              "solidity": 0.2
             }
            },
            "type": "barpolar"
           }
          ],
          "carpet": [
           {
            "aaxis": {
             "endlinecolor": "#2a3f5f",
             "gridcolor": "white",
             "linecolor": "white",
             "minorgridcolor": "white",
             "startlinecolor": "#2a3f5f"
            },
            "baxis": {
             "endlinecolor": "#2a3f5f",
             "gridcolor": "white",
             "linecolor": "white",
             "minorgridcolor": "white",
             "startlinecolor": "#2a3f5f"
            },
            "type": "carpet"
           }
          ],
          "choropleth": [
           {
            "colorbar": {
             "outlinewidth": 0,
             "ticks": ""
            },
            "type": "choropleth"
           }
          ],
          "contour": [
           {
            "colorbar": {
             "outlinewidth": 0,
             "ticks": ""
            },
            "colorscale": [
             [
              0,
              "#0d0887"
             ],
             [
              0.1111111111111111,
              "#46039f"
             ],
             [
              0.2222222222222222,
              "#7201a8"
             ],
             [
              0.3333333333333333,
              "#9c179e"
             ],
             [
              0.4444444444444444,
              "#bd3786"
             ],
             [
              0.5555555555555556,
              "#d8576b"
             ],
             [
              0.6666666666666666,
              "#ed7953"
             ],
             [
              0.7777777777777778,
              "#fb9f3a"
             ],
             [
              0.8888888888888888,
              "#fdca26"
             ],
             [
              1,
              "#f0f921"
             ]
            ],
            "type": "contour"
           }
          ],
          "contourcarpet": [
           {
            "colorbar": {
             "outlinewidth": 0,
             "ticks": ""
            },
            "type": "contourcarpet"
           }
          ],
          "heatmap": [
           {
            "colorbar": {
             "outlinewidth": 0,
             "ticks": ""
            },
            "colorscale": [
             [
              0,
              "#0d0887"
             ],
             [
              0.1111111111111111,
              "#46039f"
             ],
             [
              0.2222222222222222,
              "#7201a8"
             ],
             [
              0.3333333333333333,
              "#9c179e"
             ],
             [
              0.4444444444444444,
              "#bd3786"
             ],
             [
              0.5555555555555556,
              "#d8576b"
             ],
             [
              0.6666666666666666,
              "#ed7953"
             ],
             [
              0.7777777777777778,
              "#fb9f3a"
             ],
             [
              0.8888888888888888,
              "#fdca26"
             ],
             [
              1,
              "#f0f921"
             ]
            ],
            "type": "heatmap"
           }
          ],
          "histogram": [
           {
            "marker": {
             "pattern": {
              "fillmode": "overlay",
              "size": 10,
              "solidity": 0.2
             }
            },
            "type": "histogram"
           }
          ],
          "histogram2d": [
           {
            "colorbar": {
             "outlinewidth": 0,
             "ticks": ""
            },
            "colorscale": [
             [
              0,
              "#0d0887"
             ],
             [
              0.1111111111111111,
              "#46039f"
             ],
             [
              0.2222222222222222,
              "#7201a8"
             ],
             [
              0.3333333333333333,
              "#9c179e"
             ],
             [
              0.4444444444444444,
              "#bd3786"
             ],
             [
              0.5555555555555556,
              "#d8576b"
             ],
             [
              0.6666666666666666,
              "#ed7953"
             ],
             [
              0.7777777777777778,
              "#fb9f3a"
             ],
             [
              0.8888888888888888,
              "#fdca26"
             ],
             [
              1,
              "#f0f921"
             ]
            ],
            "type": "histogram2d"
           }
          ],
          "histogram2dcontour": [
           {
            "colorbar": {
             "outlinewidth": 0,
             "ticks": ""
            },
            "colorscale": [
             [
              0,
              "#0d0887"
             ],
             [
              0.1111111111111111,
              "#46039f"
             ],
             [
              0.2222222222222222,
              "#7201a8"
             ],
             [
              0.3333333333333333,
              "#9c179e"
             ],
             [
              0.4444444444444444,
              "#bd3786"
             ],
             [
              0.5555555555555556,
              "#d8576b"
             ],
             [
              0.6666666666666666,
              "#ed7953"
             ],
             [
              0.7777777777777778,
              "#fb9f3a"
             ],
             [
              0.8888888888888888,
              "#fdca26"
             ],
             [
              1,
              "#f0f921"
             ]
            ],
            "type": "histogram2dcontour"
           }
          ],
          "mesh3d": [
           {
            "colorbar": {
             "outlinewidth": 0,
             "ticks": ""
            },
            "type": "mesh3d"
           }
          ],
          "parcoords": [
           {
            "line": {
             "colorbar": {
              "outlinewidth": 0,
              "ticks": ""
             }
            },
            "type": "parcoords"
           }
          ],
          "pie": [
           {
            "automargin": true,
            "type": "pie"
           }
          ],
          "scatter": [
           {
            "fillpattern": {
             "fillmode": "overlay",
             "size": 10,
             "solidity": 0.2
            },
            "type": "scatter"
           }
          ],
          "scatter3d": [
           {
            "line": {
             "colorbar": {
              "outlinewidth": 0,
              "ticks": ""
             }
            },
            "marker": {
             "colorbar": {
              "outlinewidth": 0,
              "ticks": ""
             }
            },
            "type": "scatter3d"
           }
          ],
          "scattercarpet": [
           {
            "marker": {
             "colorbar": {
              "outlinewidth": 0,
              "ticks": ""
             }
            },
            "type": "scattercarpet"
           }
          ],
          "scattergeo": [
           {
            "marker": {
             "colorbar": {
              "outlinewidth": 0,
              "ticks": ""
             }
            },
            "type": "scattergeo"
           }
          ],
          "scattergl": [
           {
            "marker": {
             "colorbar": {
              "outlinewidth": 0,
              "ticks": ""
             }
            },
            "type": "scattergl"
           }
          ],
          "scattermap": [
           {
            "marker": {
             "colorbar": {
              "outlinewidth": 0,
              "ticks": ""
             }
            },
            "type": "scattermap"
           }
          ],
          "scattermapbox": [
           {
            "marker": {
             "colorbar": {
              "outlinewidth": 0,
              "ticks": ""
             }
            },
            "type": "scattermapbox"
           }
          ],
          "scatterpolar": [
           {
            "marker": {
             "colorbar": {
              "outlinewidth": 0,
              "ticks": ""
             }
            },
            "type": "scatterpolar"
           }
          ],
          "scatterpolargl": [
           {
            "marker": {
             "colorbar": {
              "outlinewidth": 0,
              "ticks": ""
             }
            },
            "type": "scatterpolargl"
           }
          ],
          "scatterternary": [
           {
            "marker": {
             "colorbar": {
              "outlinewidth": 0,
              "ticks": ""
             }
            },
            "type": "scatterternary"
           }
          ],
          "surface": [
           {
            "colorbar": {
             "outlinewidth": 0,
             "ticks": ""
            },
            "colorscale": [
             [
              0,
              "#0d0887"
             ],
             [
              0.1111111111111111,
              "#46039f"
             ],
             [
              0.2222222222222222,
              "#7201a8"
             ],
             [
              0.3333333333333333,
              "#9c179e"
             ],
             [
              0.4444444444444444,
              "#bd3786"
             ],
             [
              0.5555555555555556,
              "#d8576b"
             ],
             [
              0.6666666666666666,
              "#ed7953"
             ],
             [
              0.7777777777777778,
              "#fb9f3a"
             ],
             [
              0.8888888888888888,
              "#fdca26"
             ],
             [
              1,
              "#f0f921"
             ]
            ],
            "type": "surface"
           }
          ],
          "table": [
           {
            "cells": {
             "fill": {
              "color": "#EBF0F8"
             },
             "line": {
              "color": "white"
             }
            },
            "header": {
             "fill": {
              "color": "#C8D4E3"
             },
             "line": {
              "color": "white"
             }
            },
            "type": "table"
           }
          ]
         },
         "layout": {
          "annotationdefaults": {
           "arrowcolor": "#2a3f5f",
           "arrowhead": 0,
           "arrowwidth": 1
          },
          "autotypenumbers": "strict",
          "coloraxis": {
           "colorbar": {
            "outlinewidth": 0,
            "ticks": ""
           }
          },
          "colorscale": {
           "diverging": [
            [
             0,
             "#8e0152"
            ],
            [
             0.1,
             "#c51b7d"
            ],
            [
             0.2,
             "#de77ae"
            ],
            [
             0.3,
             "#f1b6da"
            ],
            [
             0.4,
             "#fde0ef"
            ],
            [
             0.5,
             "#f7f7f7"
            ],
            [
             0.6,
             "#e6f5d0"
            ],
            [
             0.7,
             "#b8e186"
            ],
            [
             0.8,
             "#7fbc41"
            ],
            [
             0.9,
             "#4d9221"
            ],
            [
             1,
             "#276419"
            ]
           ],
           "sequential": [
            [
             0,
             "#0d0887"
            ],
            [
             0.1111111111111111,
             "#46039f"
            ],
            [
             0.2222222222222222,
             "#7201a8"
            ],
            [
             0.3333333333333333,
             "#9c179e"
            ],
            [
             0.4444444444444444,
             "#bd3786"
            ],
            [
             0.5555555555555556,
             "#d8576b"
            ],
            [
             0.6666666666666666,
             "#ed7953"
            ],
            [
             0.7777777777777778,
             "#fb9f3a"
            ],
            [
             0.8888888888888888,
             "#fdca26"
            ],
            [
             1,
             "#f0f921"
            ]
           ],
           "sequentialminus": [
            [
             0,
             "#0d0887"
            ],
            [
             0.1111111111111111,
             "#46039f"
            ],
            [
             0.2222222222222222,
             "#7201a8"
            ],
            [
             0.3333333333333333,
             "#9c179e"
            ],
            [
             0.4444444444444444,
             "#bd3786"
            ],
            [
             0.5555555555555556,
             "#d8576b"
            ],
            [
             0.6666666666666666,
             "#ed7953"
            ],
            [
             0.7777777777777778,
             "#fb9f3a"
            ],
            [
             0.8888888888888888,
             "#fdca26"
            ],
            [
             1,
             "#f0f921"
            ]
           ]
          },
          "colorway": [
           "#636efa",
           "#EF553B",
           "#00cc96",
           "#ab63fa",
           "#FFA15A",
           "#19d3f3",
           "#FF6692",
           "#B6E880",
           "#FF97FF",
           "#FECB52"
          ],
          "font": {
           "color": "#2a3f5f"
          },
          "geo": {
           "bgcolor": "white",
           "lakecolor": "white",
           "landcolor": "#E5ECF6",
           "showlakes": true,
           "showland": true,
           "subunitcolor": "white"
          },
          "hoverlabel": {
           "align": "left"
          },
          "hovermode": "closest",
          "mapbox": {
           "style": "light"
          },
          "paper_bgcolor": "white",
          "plot_bgcolor": "#E5ECF6",
          "polar": {
           "angularaxis": {
            "gridcolor": "white",
            "linecolor": "white",
            "ticks": ""
           },
           "bgcolor": "#E5ECF6",
           "radialaxis": {
            "gridcolor": "white",
            "linecolor": "white",
            "ticks": ""
           }
          },
          "scene": {
           "xaxis": {
            "backgroundcolor": "#E5ECF6",
            "gridcolor": "white",
            "gridwidth": 2,
            "linecolor": "white",
            "showbackground": true,
            "ticks": "",
            "zerolinecolor": "white"
           },
           "yaxis": {
            "backgroundcolor": "#E5ECF6",
            "gridcolor": "white",
            "gridwidth": 2,
            "linecolor": "white",
            "showbackground": true,
            "ticks": "",
            "zerolinecolor": "white"
           },
           "zaxis": {
            "backgroundcolor": "#E5ECF6",
            "gridcolor": "white",
            "gridwidth": 2,
            "linecolor": "white",
            "showbackground": true,
            "ticks": "",
            "zerolinecolor": "white"
           }
          },
          "shapedefaults": {
           "line": {
            "color": "#2a3f5f"
           }
          },
          "ternary": {
           "aaxis": {
            "gridcolor": "white",
            "linecolor": "white",
            "ticks": ""
           },
           "baxis": {
            "gridcolor": "white",
            "linecolor": "white",
            "ticks": ""
           },
           "bgcolor": "#E5ECF6",
           "caxis": {
            "gridcolor": "white",
            "linecolor": "white",
            "ticks": ""
           }
          },
          "title": {
           "x": 0.05
          },
          "xaxis": {
           "automargin": true,
           "gridcolor": "white",
           "linecolor": "white",
           "ticks": "",
           "title": {
            "standoff": 15
           },
           "zerolinecolor": "white",
           "zerolinewidth": 2
          },
          "yaxis": {
           "automargin": true,
           "gridcolor": "white",
           "linecolor": "white",
           "ticks": "",
           "title": {
            "standoff": 15
           },
           "zerolinecolor": "white",
           "zerolinewidth": 2
          }
         }
        },
        "title": {
         "text": "Resultado Real de las Simulaciones - Elecciones Presidenciales 2024"
        },
        "width": 1200
       }
      }
     },
     "metadata": {},
     "output_type": "display_data"
    }
   ],
   "source": [
    "# Crear el mapa coroplético usando Plotly Express con códigos de estado\n",
    "fig = px.choropleth(full_df_actual_state,\n",
    "                    locations='state_code',  # Usar la nueva columna con códigos de estado\n",
    "                    locationmode=\"USA-states\",  # Modo de localización para los códigos de estado\n",
    "                    color=\"Winner\",  # Métrica que deseas visualizar\n",
    "                    hover_name='state_code',  # Mostrar el código del estado en hover\n",
    "                    hover_data={\n",
    "                        'state_code': True,  # Mostrar el código del estado\n",
    "                        \"Per_dem\": ':.2%',  # Mostrar el porcentaje de Biden en formato de porcentaje\n",
    "                        \"Per_gop\": ':.2%'  # Mostrar el porcentaje de Trump en formato de porcentaje\n",
    "                    },\n",
    "                    scope='usa',  # Limitar el mapa a EE.UU.\n",
    "                    color_discrete_map={'dem': '#3951a2', 'gop': '#af2b39'},  # Colores asignados\n",
    "                    labels={\"Winner\": 'Ganador {ELECTORAL_YEAR}'},  # Etiqueta para la barra de color\n",
    "                    title=f\"Resultado Real de las Simulaciones - Elecciones Presidenciales {ELECTORAL_YEAR}\"\n",
    "                   )\n",
    "\n",
    "# # Crear un nuevo rastro para añadir los códigos de los estados en el mapa\n",
    "# fig.add_trace(go.Scattergeo(\n",
    "#     locationmode='USA-states',\n",
    "#     locations=accumulated_pred_state['state_code'],  # Usar los códigos de los estados\n",
    "#     text=accumulated_pred_state['state_code'],  # Mostrar los códigos dentro del mapa\n",
    "#     mode='text',  # Solo texto\n",
    "#     textfont=dict(size=8, color=\"white\"),  # Tamaño y color de la fuente\n",
    "# ))\n",
    "\n",
    "# Ajustar el tamaño del gráfico\n",
    "fig.update_layout(\n",
    "    width=1200,  # Ajustar el ancho del gráfico\n",
    "    height=800   # Ajustar la altura del gráfico\n",
    ")\n",
    "\n",
    "# Ajustar visualización y mostrar el gráfico\n",
    "fig.update_geos(fitbounds=\"locations\", visible=False)  # Ajustar el mapa a las ubicaciones\n",
    "fig.show()\n"
   ]
  },
  {
   "cell_type": "code",
   "execution_count": 219,
   "metadata": {},
   "outputs": [
    {
     "data": {
      "application/vnd.plotly.v1+json": {
       "config": {
        "plotlyServerURL": "https://plot.ly"
       },
       "data": [
        {
         "colorscale": [
          [
           0,
           "#3951a2"
          ],
          [
           1,
           "#3951a2"
          ]
         ],
         "customdata": [
          [
           "CA",
           0.584785371015076,
           0.38340004397783556
          ],
          [
           "NY",
           0.5634474305856947,
           0.4365525694143053
          ],
          [
           "IL",
           0.5476862395321624,
           0.43793237497961507
          ],
          [
           "WA",
           0.5760307886843121,
           0.3926616540581994
          ],
          [
           "MA",
           0.6157763989903392,
           0.36233699934297336
          ],
          [
           "MD",
           0.6309011324258452,
           0.34339197188002585
          ],
          [
           "CO",
           0.54159441632431,
           0.4316815492186621
          ],
          [
           "OR",
           0.5564479305958709,
           0.4125318446524539
          ],
          [
           "CT",
           0.5641700631643359,
           0.41907748336725564
          ],
          [
           "RI",
           0.5584078612146266,
           0.4198613947859531
          ],
          [
           "HI",
           0.6058513531036325,
           0.3748028356825321
          ],
          [
           "VT",
           0.6435537093089585,
           0.3258694993572405
          ],
          [
           "DE",
           0.5662687098028716,
           0.4189022018890085
          ],
          [
           "DC",
           0.9114993945085634,
           0.05081185280379606
          ]
         ],
         "geo": "geo",
         "hovertemplate": "<b>%{hovertext}</b><br><br>Status=Safe Democrat<br>state_code=%{customdata[0]}<br>Per_dem=%{customdata[1]:.2%}<br>Per_gop=%{customdata[2]:.2%}<extra></extra>",
         "hovertext": [
          "CA",
          "NY",
          "IL",
          "WA",
          "MA",
          "MD",
          "CO",
          "OR",
          "CT",
          "RI",
          "HI",
          "VT",
          "DE",
          "DC"
         ],
         "locationmode": "USA-states",
         "locations": [
          "CA",
          "NY",
          "IL",
          "WA",
          "MA",
          "MD",
          "CO",
          "OR",
          "CT",
          "RI",
          "HI",
          "VT",
          "DE",
          "DC"
         ],
         "name": "Safe Democrat",
         "showlegend": true,
         "showscale": false,
         "type": "choropleth",
         "z": [
          1,
          1,
          1,
          1,
          1,
          1,
          1,
          1,
          1,
          1,
          1,
          1,
          1,
          1
         ]
        },
        {
         "colorscale": [
          [
           0,
           "#af2b39"
          ],
          [
           1,
           "#af2b39"
          ]
         ],
         "customdata": [
          [
           "TX",
           0.4248862378686313,
           0.5618223206200645
          ],
          [
           "FL",
           0.42989101713151834,
           0.5608939861369304
          ],
          [
           "OH",
           0.43949549498292895,
           0.5516230047543659
          ],
          [
           "TN",
           0.3447405336001791,
           0.6419393709149847
          ],
          [
           "IN",
           0.396633261751372,
           0.5864086307393394
          ],
          [
           "MO",
           0.4010557870868347,
           0.5852446355486846
          ],
          [
           "SC",
           0.40360890688894646,
           0.5822862951015251
          ],
          [
           "AL",
           0.34232779282665116,
           0.64822155408376
          ],
          [
           "LA",
           0.3821024178178602,
           0.6021524931800346
          ],
          [
           "KY",
           0.33957456413877524,
           0.64510114025454
          ],
          [
           "OK",
           0.3189934956099997,
           0.6616210342024795
          ],
          [
           "UT",
           0.3780809986350357,
           0.5939832696103567
          ],
          [
           "MS",
           0.3800203256004847,
           0.6089080852893467
          ],
          [
           "KS",
           0.4104072715166041,
           0.5715630792917397
          ],
          [
           "IA",
           0.4268813875012147,
           0.5595072333085273
          ],
          [
           "AR",
           0.3355990989924544,
           0.6419687217800987
          ],
          [
           "WV",
           0.28110153595928594,
           0.6998465352378703
          ],
          [
           "NE",
           0.3906366301750815,
           0.5963264879497528
          ],
          [
           "ID",
           0.3038995946119194,
           0.6689190682705357
          ],
          [
           "WY",
           0.26103329040784223,
           0.7232244427507856
          ],
          [
           "SD",
           0.34239092422398476,
           0.6343367791812964
          ],
          [
           "ND",
           0.30769546840373746,
           0.6752470148660902
          ],
          [
           "MT",
           0.38461066433595426,
           0.583914767572803
          ]
         ],
         "geo": "geo",
         "hovertemplate": "<b>%{hovertext}</b><br><br>Status=Safe Republican<br>state_code=%{customdata[0]}<br>Per_dem=%{customdata[1]:.2%}<br>Per_gop=%{customdata[2]:.2%}<extra></extra>",
         "hovertext": [
          "TX",
          "FL",
          "OH",
          "TN",
          "IN",
          "MO",
          "SC",
          "AL",
          "LA",
          "KY",
          "OK",
          "UT",
          "MS",
          "KS",
          "IA",
          "AR",
          "WV",
          "NE",
          "ID",
          "WY",
          "SD",
          "ND",
          "MT"
         ],
         "locationmode": "USA-states",
         "locations": [
          "TX",
          "FL",
          "OH",
          "TN",
          "IN",
          "MO",
          "SC",
          "AL",
          "LA",
          "KY",
          "OK",
          "UT",
          "MS",
          "KS",
          "IA",
          "AR",
          "WV",
          "NE",
          "ID",
          "WY",
          "SD",
          "ND",
          "MT"
         ],
         "name": "Safe Republican",
         "showlegend": true,
         "showscale": false,
         "type": "choropleth",
         "z": [
          1,
          1,
          1,
          1,
          1,
          1,
          1,
          1,
          1,
          1,
          1,
          1,
          1,
          1,
          1,
          1,
          1,
          1,
          1,
          1,
          1,
          1,
          1
         ]
        },
        {
         "colorscale": [
          [
           0,
           "#b6b164"
          ],
          [
           1,
           "#b6b164"
          ]
         ],
         "customdata": [
          [
           "PA",
           0.4866280572391539,
           0.5037253671558666
          ],
          [
           "MI",
           0.48327259459772565,
           0.4974188097703772
          ],
          [
           "GA",
           0.4853322265495909,
           0.5072558398048627
          ],
          [
           "WI",
           0.4884699724438856,
           0.4970776346892566
          ]
         ],
         "geo": "geo",
         "hovertemplate": "<b>%{hovertext}</b><br><br>Status=Toss-Up<br>state_code=%{customdata[0]}<br>Per_dem=%{customdata[1]:.2%}<br>Per_gop=%{customdata[2]:.2%}<extra></extra>",
         "hovertext": [
          "PA",
          "MI",
          "GA",
          "WI"
         ],
         "locationmode": "USA-states",
         "locations": [
          "PA",
          "MI",
          "GA",
          "WI"
         ],
         "name": "Toss-Up",
         "showlegend": true,
         "showscale": false,
         "type": "choropleth",
         "z": [
          1,
          1,
          1,
          1
         ]
        },
        {
         "colorscale": [
          [
           0,
           "#d56062"
          ],
          [
           1,
           "#d56062"
          ]
         ],
         "customdata": [
          [
           "NC",
           0.47808869107534324,
           0.5103174545882869
          ],
          [
           "AZ",
           0.46701417010319773,
           0.5223002024890546
          ],
          [
           "NV",
           0.47493130572991027,
           0.505916462379785
          ]
         ],
         "geo": "geo",
         "hovertemplate": "<b>%{hovertext}</b><br><br>Status=Likely Republican<br>state_code=%{customdata[0]}<br>Per_dem=%{customdata[1]:.2%}<br>Per_gop=%{customdata[2]:.2%}<extra></extra>",
         "hovertext": [
          "NC",
          "AZ",
          "NV"
         ],
         "locationmode": "USA-states",
         "locations": [
          "NC",
          "AZ",
          "NV"
         ],
         "name": "Likely Republican",
         "showlegend": true,
         "showscale": false,
         "type": "choropleth",
         "z": [
          1,
          1,
          1
         ]
        },
        {
         "colorscale": [
          [
           0,
           "#a3cef1"
          ],
          [
           1,
           "#a3cef1"
          ]
         ],
         "customdata": [
          [
           "NJ",
           0.5197416168838388,
           0.4606463088544196
          ],
          [
           "VA",
           0.520993955261439,
           0.4629224356709178
          ],
          [
           "MN",
           0.5112687277300615,
           0.4687045267449079
          ],
          [
           "NM",
           0.5185189998299767,
           0.4585116141056505
          ],
          [
           "NH",
           0.5090244759795318,
           0.4811488859129627
          ],
          [
           "ME",
           0.52401383250639,
           0.45464080589385053
          ]
         ],
         "geo": "geo",
         "hovertemplate": "<b>%{hovertext}</b><br><br>Status=Likely Democrat<br>state_code=%{customdata[0]}<br>Per_dem=%{customdata[1]:.2%}<br>Per_gop=%{customdata[2]:.2%}<extra></extra>",
         "hovertext": [
          "NJ",
          "VA",
          "MN",
          "NM",
          "NH",
          "ME"
         ],
         "locationmode": "USA-states",
         "locations": [
          "NJ",
          "VA",
          "MN",
          "NM",
          "NH",
          "ME"
         ],
         "name": "Likely Democrat",
         "showlegend": true,
         "showscale": false,
         "type": "choropleth",
         "z": [
          1,
          1,
          1,
          1,
          1,
          1
         ]
        }
       ],
       "layout": {
        "geo": {
         "center": {},
         "domain": {
          "x": [
           0,
           1
          ],
          "y": [
           0,
           1
          ]
         },
         "fitbounds": "locations",
         "scope": "usa",
         "visible": false
        },
        "height": 800,
        "legend": {
         "title": {
          "text": "Status"
         },
         "tracegroupgap": 0
        },
        "template": {
         "data": {
          "bar": [
           {
            "error_x": {
             "color": "#2a3f5f"
            },
            "error_y": {
             "color": "#2a3f5f"
            },
            "marker": {
             "line": {
              "color": "#E5ECF6",
              "width": 0.5
             },
             "pattern": {
              "fillmode": "overlay",
              "size": 10,
              "solidity": 0.2
             }
            },
            "type": "bar"
           }
          ],
          "barpolar": [
           {
            "marker": {
             "line": {
              "color": "#E5ECF6",
              "width": 0.5
             },
             "pattern": {
              "fillmode": "overlay",
              "size": 10,
              "solidity": 0.2
             }
            },
            "type": "barpolar"
           }
          ],
          "carpet": [
           {
            "aaxis": {
             "endlinecolor": "#2a3f5f",
             "gridcolor": "white",
             "linecolor": "white",
             "minorgridcolor": "white",
             "startlinecolor": "#2a3f5f"
            },
            "baxis": {
             "endlinecolor": "#2a3f5f",
             "gridcolor": "white",
             "linecolor": "white",
             "minorgridcolor": "white",
             "startlinecolor": "#2a3f5f"
            },
            "type": "carpet"
           }
          ],
          "choropleth": [
           {
            "colorbar": {
             "outlinewidth": 0,
             "ticks": ""
            },
            "type": "choropleth"
           }
          ],
          "contour": [
           {
            "colorbar": {
             "outlinewidth": 0,
             "ticks": ""
            },
            "colorscale": [
             [
              0,
              "#0d0887"
             ],
             [
              0.1111111111111111,
              "#46039f"
             ],
             [
              0.2222222222222222,
              "#7201a8"
             ],
             [
              0.3333333333333333,
              "#9c179e"
             ],
             [
              0.4444444444444444,
              "#bd3786"
             ],
             [
              0.5555555555555556,
              "#d8576b"
             ],
             [
              0.6666666666666666,
              "#ed7953"
             ],
             [
              0.7777777777777778,
              "#fb9f3a"
             ],
             [
              0.8888888888888888,
              "#fdca26"
             ],
             [
              1,
              "#f0f921"
             ]
            ],
            "type": "contour"
           }
          ],
          "contourcarpet": [
           {
            "colorbar": {
             "outlinewidth": 0,
             "ticks": ""
            },
            "type": "contourcarpet"
           }
          ],
          "heatmap": [
           {
            "colorbar": {
             "outlinewidth": 0,
             "ticks": ""
            },
            "colorscale": [
             [
              0,
              "#0d0887"
             ],
             [
              0.1111111111111111,
              "#46039f"
             ],
             [
              0.2222222222222222,
              "#7201a8"
             ],
             [
              0.3333333333333333,
              "#9c179e"
             ],
             [
              0.4444444444444444,
              "#bd3786"
             ],
             [
              0.5555555555555556,
              "#d8576b"
             ],
             [
              0.6666666666666666,
              "#ed7953"
             ],
             [
              0.7777777777777778,
              "#fb9f3a"
             ],
             [
              0.8888888888888888,
              "#fdca26"
             ],
             [
              1,
              "#f0f921"
             ]
            ],
            "type": "heatmap"
           }
          ],
          "histogram": [
           {
            "marker": {
             "pattern": {
              "fillmode": "overlay",
              "size": 10,
              "solidity": 0.2
             }
            },
            "type": "histogram"
           }
          ],
          "histogram2d": [
           {
            "colorbar": {
             "outlinewidth": 0,
             "ticks": ""
            },
            "colorscale": [
             [
              0,
              "#0d0887"
             ],
             [
              0.1111111111111111,
              "#46039f"
             ],
             [
              0.2222222222222222,
              "#7201a8"
             ],
             [
              0.3333333333333333,
              "#9c179e"
             ],
             [
              0.4444444444444444,
              "#bd3786"
             ],
             [
              0.5555555555555556,
              "#d8576b"
             ],
             [
              0.6666666666666666,
              "#ed7953"
             ],
             [
              0.7777777777777778,
              "#fb9f3a"
             ],
             [
              0.8888888888888888,
              "#fdca26"
             ],
             [
              1,
              "#f0f921"
             ]
            ],
            "type": "histogram2d"
           }
          ],
          "histogram2dcontour": [
           {
            "colorbar": {
             "outlinewidth": 0,
             "ticks": ""
            },
            "colorscale": [
             [
              0,
              "#0d0887"
             ],
             [
              0.1111111111111111,
              "#46039f"
             ],
             [
              0.2222222222222222,
              "#7201a8"
             ],
             [
              0.3333333333333333,
              "#9c179e"
             ],
             [
              0.4444444444444444,
              "#bd3786"
             ],
             [
              0.5555555555555556,
              "#d8576b"
             ],
             [
              0.6666666666666666,
              "#ed7953"
             ],
             [
              0.7777777777777778,
              "#fb9f3a"
             ],
             [
              0.8888888888888888,
              "#fdca26"
             ],
             [
              1,
              "#f0f921"
             ]
            ],
            "type": "histogram2dcontour"
           }
          ],
          "mesh3d": [
           {
            "colorbar": {
             "outlinewidth": 0,
             "ticks": ""
            },
            "type": "mesh3d"
           }
          ],
          "parcoords": [
           {
            "line": {
             "colorbar": {
              "outlinewidth": 0,
              "ticks": ""
             }
            },
            "type": "parcoords"
           }
          ],
          "pie": [
           {
            "automargin": true,
            "type": "pie"
           }
          ],
          "scatter": [
           {
            "fillpattern": {
             "fillmode": "overlay",
             "size": 10,
             "solidity": 0.2
            },
            "type": "scatter"
           }
          ],
          "scatter3d": [
           {
            "line": {
             "colorbar": {
              "outlinewidth": 0,
              "ticks": ""
             }
            },
            "marker": {
             "colorbar": {
              "outlinewidth": 0,
              "ticks": ""
             }
            },
            "type": "scatter3d"
           }
          ],
          "scattercarpet": [
           {
            "marker": {
             "colorbar": {
              "outlinewidth": 0,
              "ticks": ""
             }
            },
            "type": "scattercarpet"
           }
          ],
          "scattergeo": [
           {
            "marker": {
             "colorbar": {
              "outlinewidth": 0,
              "ticks": ""
             }
            },
            "type": "scattergeo"
           }
          ],
          "scattergl": [
           {
            "marker": {
             "colorbar": {
              "outlinewidth": 0,
              "ticks": ""
             }
            },
            "type": "scattergl"
           }
          ],
          "scattermap": [
           {
            "marker": {
             "colorbar": {
              "outlinewidth": 0,
              "ticks": ""
             }
            },
            "type": "scattermap"
           }
          ],
          "scattermapbox": [
           {
            "marker": {
             "colorbar": {
              "outlinewidth": 0,
              "ticks": ""
             }
            },
            "type": "scattermapbox"
           }
          ],
          "scatterpolar": [
           {
            "marker": {
             "colorbar": {
              "outlinewidth": 0,
              "ticks": ""
             }
            },
            "type": "scatterpolar"
           }
          ],
          "scatterpolargl": [
           {
            "marker": {
             "colorbar": {
              "outlinewidth": 0,
              "ticks": ""
             }
            },
            "type": "scatterpolargl"
           }
          ],
          "scatterternary": [
           {
            "marker": {
             "colorbar": {
              "outlinewidth": 0,
              "ticks": ""
             }
            },
            "type": "scatterternary"
           }
          ],
          "surface": [
           {
            "colorbar": {
             "outlinewidth": 0,
             "ticks": ""
            },
            "colorscale": [
             [
              0,
              "#0d0887"
             ],
             [
              0.1111111111111111,
              "#46039f"
             ],
             [
              0.2222222222222222,
              "#7201a8"
             ],
             [
              0.3333333333333333,
              "#9c179e"
             ],
             [
              0.4444444444444444,
              "#bd3786"
             ],
             [
              0.5555555555555556,
              "#d8576b"
             ],
             [
              0.6666666666666666,
              "#ed7953"
             ],
             [
              0.7777777777777778,
              "#fb9f3a"
             ],
             [
              0.8888888888888888,
              "#fdca26"
             ],
             [
              1,
              "#f0f921"
             ]
            ],
            "type": "surface"
           }
          ],
          "table": [
           {
            "cells": {
             "fill": {
              "color": "#EBF0F8"
             },
             "line": {
              "color": "white"
             }
            },
            "header": {
             "fill": {
              "color": "#C8D4E3"
             },
             "line": {
              "color": "white"
             }
            },
            "type": "table"
           }
          ]
         },
         "layout": {
          "annotationdefaults": {
           "arrowcolor": "#2a3f5f",
           "arrowhead": 0,
           "arrowwidth": 1
          },
          "autotypenumbers": "strict",
          "coloraxis": {
           "colorbar": {
            "outlinewidth": 0,
            "ticks": ""
           }
          },
          "colorscale": {
           "diverging": [
            [
             0,
             "#8e0152"
            ],
            [
             0.1,
             "#c51b7d"
            ],
            [
             0.2,
             "#de77ae"
            ],
            [
             0.3,
             "#f1b6da"
            ],
            [
             0.4,
             "#fde0ef"
            ],
            [
             0.5,
             "#f7f7f7"
            ],
            [
             0.6,
             "#e6f5d0"
            ],
            [
             0.7,
             "#b8e186"
            ],
            [
             0.8,
             "#7fbc41"
            ],
            [
             0.9,
             "#4d9221"
            ],
            [
             1,
             "#276419"
            ]
           ],
           "sequential": [
            [
             0,
             "#0d0887"
            ],
            [
             0.1111111111111111,
             "#46039f"
            ],
            [
             0.2222222222222222,
             "#7201a8"
            ],
            [
             0.3333333333333333,
             "#9c179e"
            ],
            [
             0.4444444444444444,
             "#bd3786"
            ],
            [
             0.5555555555555556,
             "#d8576b"
            ],
            [
             0.6666666666666666,
             "#ed7953"
            ],
            [
             0.7777777777777778,
             "#fb9f3a"
            ],
            [
             0.8888888888888888,
             "#fdca26"
            ],
            [
             1,
             "#f0f921"
            ]
           ],
           "sequentialminus": [
            [
             0,
             "#0d0887"
            ],
            [
             0.1111111111111111,
             "#46039f"
            ],
            [
             0.2222222222222222,
             "#7201a8"
            ],
            [
             0.3333333333333333,
             "#9c179e"
            ],
            [
             0.4444444444444444,
             "#bd3786"
            ],
            [
             0.5555555555555556,
             "#d8576b"
            ],
            [
             0.6666666666666666,
             "#ed7953"
            ],
            [
             0.7777777777777778,
             "#fb9f3a"
            ],
            [
             0.8888888888888888,
             "#fdca26"
            ],
            [
             1,
             "#f0f921"
            ]
           ]
          },
          "colorway": [
           "#636efa",
           "#EF553B",
           "#00cc96",
           "#ab63fa",
           "#FFA15A",
           "#19d3f3",
           "#FF6692",
           "#B6E880",
           "#FF97FF",
           "#FECB52"
          ],
          "font": {
           "color": "#2a3f5f"
          },
          "geo": {
           "bgcolor": "white",
           "lakecolor": "white",
           "landcolor": "#E5ECF6",
           "showlakes": true,
           "showland": true,
           "subunitcolor": "white"
          },
          "hoverlabel": {
           "align": "left"
          },
          "hovermode": "closest",
          "mapbox": {
           "style": "light"
          },
          "paper_bgcolor": "white",
          "plot_bgcolor": "#E5ECF6",
          "polar": {
           "angularaxis": {
            "gridcolor": "white",
            "linecolor": "white",
            "ticks": ""
           },
           "bgcolor": "#E5ECF6",
           "radialaxis": {
            "gridcolor": "white",
            "linecolor": "white",
            "ticks": ""
           }
          },
          "scene": {
           "xaxis": {
            "backgroundcolor": "#E5ECF6",
            "gridcolor": "white",
            "gridwidth": 2,
            "linecolor": "white",
            "showbackground": true,
            "ticks": "",
            "zerolinecolor": "white"
           },
           "yaxis": {
            "backgroundcolor": "#E5ECF6",
            "gridcolor": "white",
            "gridwidth": 2,
            "linecolor": "white",
            "showbackground": true,
            "ticks": "",
            "zerolinecolor": "white"
           },
           "zaxis": {
            "backgroundcolor": "#E5ECF6",
            "gridcolor": "white",
            "gridwidth": 2,
            "linecolor": "white",
            "showbackground": true,
            "ticks": "",
            "zerolinecolor": "white"
           }
          },
          "shapedefaults": {
           "line": {
            "color": "#2a3f5f"
           }
          },
          "ternary": {
           "aaxis": {
            "gridcolor": "white",
            "linecolor": "white",
            "ticks": ""
           },
           "baxis": {
            "gridcolor": "white",
            "linecolor": "white",
            "ticks": ""
           },
           "bgcolor": "#E5ECF6",
           "caxis": {
            "gridcolor": "white",
            "linecolor": "white",
            "ticks": ""
           }
          },
          "title": {
           "x": 0.05
          },
          "xaxis": {
           "automargin": true,
           "gridcolor": "white",
           "linecolor": "white",
           "ticks": "",
           "title": {
            "standoff": 15
           },
           "zerolinecolor": "white",
           "zerolinewidth": 2
          },
          "yaxis": {
           "automargin": true,
           "gridcolor": "white",
           "linecolor": "white",
           "ticks": "",
           "title": {
            "standoff": 15
           },
           "zerolinecolor": "white",
           "zerolinewidth": 2
          }
         }
        },
        "title": {
         "text": "Status de los Estados en las Simulaciones - Elecciones Presidenciales 2024"
        },
        "width": 1200
       }
      }
     },
     "metadata": {},
     "output_type": "display_data"
    }
   ],
   "source": [
    "# Crear el mapa coroplético usando Plotly Express con códigos de estado\n",
    "fig = px.choropleth(full_df_actual_state,\n",
    "                    locations='state_code',  # Usar la nueva columna con códigos de estado\n",
    "                    locationmode=\"USA-states\",  # Modo de localización para los códigos de estado\n",
    "                    color='Status',  # Métrica que deseas visualizar\n",
    "                    hover_name='state_code',  # Mostrar el código del estado en hover\n",
    "                    hover_data={\n",
    "                        'state_code': True,  # Mostrar el código del estado\n",
    "                        'Per_dem': ':.2%',  # Mostrar el porcentaje de Biden en formato de porcentaje\n",
    "                        'Per_gop': ':.2%'  # Mostrar el porcentaje de Trump en formato de porcentaje\n",
    "                    },\n",
    "                    scope='usa',  # Limitar el mapa a EE.UU.\n",
    "                    color_discrete_map={'Safe Democrat': '#3951a2', \n",
    "                                        'Likely Democrat': '#a3cef1', \n",
    "                                        'Toss-Up': '#b6b164', \n",
    "                                        'Likely Republican': '#d56062', \n",
    "                                        'Safe Republican': '#af2b39'},\n",
    "                    labels={\"Winner\": 'Ganador {ELECTORAL_YEAR}'},  # Etiqueta para la barra de color\n",
    "                    title=f\"Status de los Estados en las Simulaciones - Elecciones Presidenciales {ELECTORAL_YEAR}\"\n",
    "                   )\n",
    "\n",
    "# # Crear un nuevo rastro para añadir los códigos de los estados en el mapa\n",
    "# fig.add_trace(go.Scattergeo(\n",
    "#     locationmode='USA-states',\n",
    "#     locations=accumulated_pred_state['state_code'],  # Usar los códigos de los estados\n",
    "#     text=accumulated_pred_state['state_code'],  # Mostrar los códigos dentro del mapa\n",
    "#     mode='text',  # Solo texto\n",
    "#     textfont=dict(size=12, color=\"black\"),  # Tamaño y color de la fuente\n",
    "# ))\n",
    "\n",
    "# Ajustar el tamaño del gráfico\n",
    "fig.update_layout(\n",
    "    width=1200,  # Ajustar el ancho del gráfico\n",
    "    height=800   # Ajustar la altura del gráfico\n",
    ")\n",
    "\n",
    "\n",
    "\n",
    "# Ajustar visualización y mostrar el gráfico\n",
    "fig.update_geos(fitbounds=\"locations\", visible=False)  # Ajustar el mapa a las ubicaciones\n",
    "fig.show()\n"
   ]
  }
 ],
 "metadata": {
  "kernelspec": {
   "display_name": ".venv",
   "language": "python",
   "name": "python3"
  },
  "language_info": {
   "codemirror_mode": {
    "name": "ipython",
    "version": 3
   },
   "file_extension": ".py",
   "mimetype": "text/x-python",
   "name": "python",
   "nbconvert_exporter": "python",
   "pygments_lexer": "ipython3",
   "version": "3.9.6"
  }
 },
 "nbformat": 4,
 "nbformat_minor": 2
}
