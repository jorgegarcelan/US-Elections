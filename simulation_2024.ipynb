{
 "cells": [
  {
   "cell_type": "markdown",
   "metadata": {},
   "source": [
    "## 📊 Simulación"
   ]
  },
  {
   "cell_type": "markdown",
   "metadata": {},
   "source": [
    "🧑‍💻 Lucía Cordero | Jorge Garcelán"
   ]
  },
  {
   "cell_type": "markdown",
   "metadata": {},
   "source": [
    "![Election Results](https://elordenmundial.com/wp-content/uploads/2020/10/editable-portada-especial-.png)\n"
   ]
  },
  {
   "cell_type": "markdown",
   "metadata": {},
   "source": [
    "<div class=\"warning\" style='padding:0.1em; border-left: 4px solid #17a2b8; background-color:#e8f8ff;'>\n",
    "<span>\n",
    "<p style='margin-top:1em; margin-left:1em; text-align:left'>\n",
    "<b>💡Interpretación de la simulación</b></p>\n",
    "<p style='margin-left:1em;'>\n",
    "Imaginemos que estamos en el día de las elecciones y nos van llegando datos de condados (equivalentes a dataset de train) y queremos hacer un forecast de cómo van a acabar las elecciones, es decir, hacer un forecast de los condados que todavía no tenemos los datos (test). En ese sentido, podríamos hacer un modelo con los datos que sí tenemos (train) y predecir los condados que todavía no tenemos (test). Y así podemos repetir el proceso N veces y crear una simulación.\n",
    "</p>\n",
    "</span>\n",
    "</div>"
   ]
  },
  {
   "cell_type": "markdown",
   "metadata": {},
   "source": [
    "## Libraries"
   ]
  },
  {
   "cell_type": "code",
   "execution_count": 51,
   "metadata": {},
   "outputs": [],
   "source": [
    "import pandas as pd\n",
    "from pandas import read_csv\n",
    "import numpy as np\n",
    "from sklearn.linear_model import LinearRegression\n",
    "from sklearn.ensemble import RandomForestRegressor\n",
    "from sklearn.neighbors import KNeighborsRegressor\n",
    "from sklearn.model_selection import train_test_split\n",
    "import json\n",
    "import plotly.express as px\n",
    "import plotly.graph_objects as go\n",
    "import seaborn as sns\n",
    "import matplotlib.pyplot as plt\n",
    "from scipy.stats import gaussian_kde"
   ]
  },
  {
   "cell_type": "markdown",
   "metadata": {},
   "source": [
    "## Load data"
   ]
  },
  {
   "cell_type": "code",
   "execution_count": 52,
   "metadata": {},
   "outputs": [],
   "source": [
    "CENSUS_YEAR = 2023\n",
    "ELECTORAL_YEAR = CENSUS_YEAR + 1\n"
   ]
  },
  {
   "cell_type": "code",
   "execution_count": 53,
   "metadata": {},
   "outputs": [],
   "source": [
    "def load_seats_data(path, state_to_code):\n",
    "    # Cargar datos\n",
    "    seats_data = pd.read_csv(path, header=0, sep=\",\")\n",
    "\n",
    "    # Seleccionar las primeras tres columnas y las columnas que contienen \"2019\"\n",
    "    seats_data = seats_data.iloc[:, [0, 1]]\n",
    "\n",
    "    # Renombrar columnas\n",
    "    seats_data.columns = [\"state\", \"electoral_votes_number\"]\n",
    "\n",
    "    # Añadir District of Columbia pues no aparece\n",
    "    new_row = pd.DataFrame({\n",
    "        'state': ['District of Columbia'],\n",
    "        'electoral_votes_number': [3]\n",
    "    })\n",
    "\n",
    "    # Añadir la nueva fila al DataFrame utilizando pd.concat\n",
    "    seats_data = pd.concat([seats_data, new_row], ignore_index=True)\n",
    "\n",
    "    \n",
    "    seats_data[\"state_code\"] = seats_data['state'].map(state_to_code)\n",
    "\n",
    "    return seats_data"
   ]
  },
  {
   "cell_type": "code",
   "execution_count": 54,
   "metadata": {},
   "outputs": [],
   "source": [
    "# Cargar datos\n",
    "data = read_csv(f\"data/final_data_{ELECTORAL_YEAR}.csv\")\n",
    "\n",
    "# Crear data para simulación\n",
    "# columns_to_drop = ['Total_2020', 'Other_2020', 'Winner_2020', \"Biden_2020\"]  # Nombres de las columnas a eliminar\n",
    "columns_to_drop = [f\"votes_dem_{ELECTORAL_YEAR}\", f\"total_votes_{ELECTORAL_YEAR}\", f\"votes_others_{ELECTORAL_YEAR}\", f\"per_votes_others_{ELECTORAL_YEAR}\", f\"winner_{ELECTORAL_YEAR}\"]  # Nombres de las columnas a eliminar\n",
    "\n",
    "data_sim = data.drop(columns=columns_to_drop)\n",
    "\n",
    "# Cargar codigo de estados\n",
    "with open(\"data/state_to_code.json\", \"r\") as file:\n",
    "    state_to_code = json.load(file)\n",
    "\n",
    "\n",
    "# Cargar datos de escaños por estado\n",
    "seats_data = load_seats_data(f\"data/seats2020.csv\", state_to_code)\n",
    "\n",
    "# Cargar datos de state, county, fips\n",
    "state_fips_county = read_csv('data/state_fips_county.csv')\n",
    "state_names = state_fips_county['state']\n",
    "fips_codes = state_fips_county['fips']\n",
    "county_names = state_fips_county['county']"
   ]
  },
  {
   "cell_type": "code",
   "execution_count": 55,
   "metadata": {},
   "outputs": [
    {
     "data": {
      "text/html": [
       "<div>\n",
       "<style scoped>\n",
       "    .dataframe tbody tr th:only-of-type {\n",
       "        vertical-align: middle;\n",
       "    }\n",
       "\n",
       "    .dataframe tbody tr th {\n",
       "        vertical-align: top;\n",
       "    }\n",
       "\n",
       "    .dataframe thead th {\n",
       "        text-align: right;\n",
       "    }\n",
       "</style>\n",
       "<table border=\"1\" class=\"dataframe\">\n",
       "  <thead>\n",
       "    <tr style=\"text-align: right;\">\n",
       "      <th></th>\n",
       "      <th>state</th>\n",
       "      <th>electoral_votes_number</th>\n",
       "      <th>state_code</th>\n",
       "      <th>Votes_dem</th>\n",
       "      <th>Votes_gop</th>\n",
       "      <th>Votes_other</th>\n",
       "      <th>Votes_total</th>\n",
       "      <th>Per_dem</th>\n",
       "      <th>Per_gop</th>\n",
       "      <th>Winner</th>\n",
       "      <th>Difference</th>\n",
       "      <th>Status</th>\n",
       "    </tr>\n",
       "  </thead>\n",
       "  <tbody>\n",
       "    <tr>\n",
       "      <th>0</th>\n",
       "      <td>California</td>\n",
       "      <td>55</td>\n",
       "      <td>CA</td>\n",
       "      <td>9276179.0</td>\n",
       "      <td>6081697.0</td>\n",
       "      <td>504660.0</td>\n",
       "      <td>15862536.0</td>\n",
       "      <td>0.584785</td>\n",
       "      <td>0.383400</td>\n",
       "      <td>dem</td>\n",
       "      <td>20.138533</td>\n",
       "      <td>Safe Democrat</td>\n",
       "    </tr>\n",
       "    <tr>\n",
       "      <th>1</th>\n",
       "      <td>Texas</td>\n",
       "      <td>38</td>\n",
       "      <td>TX</td>\n",
       "      <td>4832009.0</td>\n",
       "      <td>6380781.0</td>\n",
       "      <td>151174.0</td>\n",
       "      <td>11363964.0</td>\n",
       "      <td>0.425205</td>\n",
       "      <td>0.561493</td>\n",
       "      <td>gop</td>\n",
       "      <td>-13.628801</td>\n",
       "      <td>Safe Republican</td>\n",
       "    </tr>\n",
       "    <tr>\n",
       "      <th>2</th>\n",
       "      <td>New York</td>\n",
       "      <td>29</td>\n",
       "      <td>NY</td>\n",
       "      <td>4567230.0</td>\n",
       "      <td>3572276.0</td>\n",
       "      <td>1007.0</td>\n",
       "      <td>8140513.0</td>\n",
       "      <td>0.561049</td>\n",
       "      <td>0.438827</td>\n",
       "      <td>dem</td>\n",
       "      <td>12.222252</td>\n",
       "      <td>Safe Democrat</td>\n",
       "    </tr>\n",
       "    <tr>\n",
       "      <th>3</th>\n",
       "      <td>Florida</td>\n",
       "      <td>29</td>\n",
       "      <td>FL</td>\n",
       "      <td>4683038.0</td>\n",
       "      <td>6110125.0</td>\n",
       "      <td>100384.0</td>\n",
       "      <td>10893547.0</td>\n",
       "      <td>0.429891</td>\n",
       "      <td>0.560894</td>\n",
       "      <td>gop</td>\n",
       "      <td>-13.100297</td>\n",
       "      <td>Safe Republican</td>\n",
       "    </tr>\n",
       "    <tr>\n",
       "      <th>4</th>\n",
       "      <td>Pennsylvania</td>\n",
       "      <td>20</td>\n",
       "      <td>PA</td>\n",
       "      <td>3420658.0</td>\n",
       "      <td>3513108.0</td>\n",
       "      <td>67907.0</td>\n",
       "      <td>7001673.0</td>\n",
       "      <td>0.488549</td>\n",
       "      <td>0.501753</td>\n",
       "      <td>gop</td>\n",
       "      <td>-1.320399</td>\n",
       "      <td>Toss-Up</td>\n",
       "    </tr>\n",
       "    <tr>\n",
       "      <th>5</th>\n",
       "      <td>Illinois</td>\n",
       "      <td>20</td>\n",
       "      <td>IL</td>\n",
       "      <td>3057931.0</td>\n",
       "      <td>2436446.0</td>\n",
       "      <td>80206.0</td>\n",
       "      <td>5574583.0</td>\n",
       "      <td>0.548549</td>\n",
       "      <td>0.437063</td>\n",
       "      <td>dem</td>\n",
       "      <td>11.148547</td>\n",
       "      <td>Safe Democrat</td>\n",
       "    </tr>\n",
       "    <tr>\n",
       "      <th>6</th>\n",
       "      <td>Ohio</td>\n",
       "      <td>18</td>\n",
       "      <td>OH</td>\n",
       "      <td>2532890.0</td>\n",
       "      <td>3175707.0</td>\n",
       "      <td>51247.0</td>\n",
       "      <td>5759844.0</td>\n",
       "      <td>0.439750</td>\n",
       "      <td>0.551353</td>\n",
       "      <td>gop</td>\n",
       "      <td>-11.160320</td>\n",
       "      <td>Safe Republican</td>\n",
       "    </tr>\n",
       "    <tr>\n",
       "      <th>7</th>\n",
       "      <td>Michigan</td>\n",
       "      <td>16</td>\n",
       "      <td>MI</td>\n",
       "      <td>2737917.0</td>\n",
       "      <td>2818120.0</td>\n",
       "      <td>109405.0</td>\n",
       "      <td>5665442.0</td>\n",
       "      <td>0.483266</td>\n",
       "      <td>0.497423</td>\n",
       "      <td>gop</td>\n",
       "      <td>-1.415653</td>\n",
       "      <td>Toss-Up</td>\n",
       "    </tr>\n",
       "    <tr>\n",
       "      <th>8</th>\n",
       "      <td>Georgia</td>\n",
       "      <td>16</td>\n",
       "      <td>GA</td>\n",
       "      <td>2548017.0</td>\n",
       "      <td>2663117.0</td>\n",
       "      <td>38913.0</td>\n",
       "      <td>5250047.0</td>\n",
       "      <td>0.485332</td>\n",
       "      <td>0.507256</td>\n",
       "      <td>gop</td>\n",
       "      <td>-2.192361</td>\n",
       "      <td>Toss-Up</td>\n",
       "    </tr>\n",
       "    <tr>\n",
       "      <th>9</th>\n",
       "      <td>North Carolina</td>\n",
       "      <td>15</td>\n",
       "      <td>NC</td>\n",
       "      <td>2674966.0</td>\n",
       "      <td>2851448.0</td>\n",
       "      <td>64856.0</td>\n",
       "      <td>5591270.0</td>\n",
       "      <td>0.478418</td>\n",
       "      <td>0.509982</td>\n",
       "      <td>gop</td>\n",
       "      <td>-3.156385</td>\n",
       "      <td>Likely Republican</td>\n",
       "    </tr>\n",
       "    <tr>\n",
       "      <th>10</th>\n",
       "      <td>New Jersey</td>\n",
       "      <td>14</td>\n",
       "      <td>NJ</td>\n",
       "      <td>2342951.0</td>\n",
       "      <td>2021160.0</td>\n",
       "      <td>89699.0</td>\n",
       "      <td>4453810.0</td>\n",
       "      <td>0.526055</td>\n",
       "      <td>0.453805</td>\n",
       "      <td>dem</td>\n",
       "      <td>7.225072</td>\n",
       "      <td>Likely Democrat</td>\n",
       "    </tr>\n",
       "    <tr>\n",
       "      <th>11</th>\n",
       "      <td>Virginia</td>\n",
       "      <td>13</td>\n",
       "      <td>VA</td>\n",
       "      <td>2329476.0</td>\n",
       "      <td>2069193.0</td>\n",
       "      <td>72108.0</td>\n",
       "      <td>4470777.0</td>\n",
       "      <td>0.521045</td>\n",
       "      <td>0.462826</td>\n",
       "      <td>dem</td>\n",
       "      <td>5.821874</td>\n",
       "      <td>Likely Democrat</td>\n",
       "    </tr>\n",
       "    <tr>\n",
       "      <th>12</th>\n",
       "      <td>Washington</td>\n",
       "      <td>12</td>\n",
       "      <td>WA</td>\n",
       "      <td>2245593.0</td>\n",
       "      <td>1532227.0</td>\n",
       "      <td>122065.0</td>\n",
       "      <td>3899885.0</td>\n",
       "      <td>0.575810</td>\n",
       "      <td>0.392890</td>\n",
       "      <td>dem</td>\n",
       "      <td>18.291975</td>\n",
       "      <td>Safe Democrat</td>\n",
       "    </tr>\n",
       "    <tr>\n",
       "      <th>13</th>\n",
       "      <td>Tennessee</td>\n",
       "      <td>11</td>\n",
       "      <td>TN</td>\n",
       "      <td>1048375.0</td>\n",
       "      <td>1957880.0</td>\n",
       "      <td>40492.0</td>\n",
       "      <td>3046747.0</td>\n",
       "      <td>0.344097</td>\n",
       "      <td>0.642613</td>\n",
       "      <td>gop</td>\n",
       "      <td>-29.851675</td>\n",
       "      <td>Safe Republican</td>\n",
       "    </tr>\n",
       "    <tr>\n",
       "      <th>14</th>\n",
       "      <td>Massachusetts</td>\n",
       "      <td>11</td>\n",
       "      <td>MA</td>\n",
       "      <td>2040556.0</td>\n",
       "      <td>1199114.0</td>\n",
       "      <td>73400.0</td>\n",
       "      <td>3313070.0</td>\n",
       "      <td>0.615911</td>\n",
       "      <td>0.361934</td>\n",
       "      <td>dem</td>\n",
       "      <td>25.397652</td>\n",
       "      <td>Safe Democrat</td>\n",
       "    </tr>\n",
       "    <tr>\n",
       "      <th>15</th>\n",
       "      <td>Indiana</td>\n",
       "      <td>11</td>\n",
       "      <td>IN</td>\n",
       "      <td>1161510.0</td>\n",
       "      <td>1712735.0</td>\n",
       "      <td>49560.0</td>\n",
       "      <td>2923805.0</td>\n",
       "      <td>0.397260</td>\n",
       "      <td>0.585790</td>\n",
       "      <td>gop</td>\n",
       "      <td>-18.853001</td>\n",
       "      <td>Safe Republican</td>\n",
       "    </tr>\n",
       "    <tr>\n",
       "      <th>16</th>\n",
       "      <td>Arizona</td>\n",
       "      <td>11</td>\n",
       "      <td>AZ</td>\n",
       "      <td>1582860.0</td>\n",
       "      <td>1770242.0</td>\n",
       "      <td>36217.0</td>\n",
       "      <td>3389319.0</td>\n",
       "      <td>0.467014</td>\n",
       "      <td>0.522300</td>\n",
       "      <td>gop</td>\n",
       "      <td>-5.528603</td>\n",
       "      <td>Likely Republican</td>\n",
       "    </tr>\n",
       "    <tr>\n",
       "      <th>17</th>\n",
       "      <td>Wisconsin</td>\n",
       "      <td>10</td>\n",
       "      <td>WI</td>\n",
       "      <td>1672157.0</td>\n",
       "      <td>1698793.0</td>\n",
       "      <td>49049.0</td>\n",
       "      <td>3419999.0</td>\n",
       "      <td>0.488935</td>\n",
       "      <td>0.496723</td>\n",
       "      <td>gop</td>\n",
       "      <td>-0.778831</td>\n",
       "      <td>Toss-Up</td>\n",
       "    </tr>\n",
       "    <tr>\n",
       "      <th>18</th>\n",
       "      <td>Missouri</td>\n",
       "      <td>10</td>\n",
       "      <td>MO</td>\n",
       "      <td>1198808.0</td>\n",
       "      <td>1749273.0</td>\n",
       "      <td>41075.0</td>\n",
       "      <td>2989156.0</td>\n",
       "      <td>0.401052</td>\n",
       "      <td>0.585206</td>\n",
       "      <td>gop</td>\n",
       "      <td>-18.415399</td>\n",
       "      <td>Safe Republican</td>\n",
       "    </tr>\n",
       "    <tr>\n",
       "      <th>19</th>\n",
       "      <td>Minnesota</td>\n",
       "      <td>10</td>\n",
       "      <td>MN</td>\n",
       "      <td>1660198.0</td>\n",
       "      <td>1517372.0</td>\n",
       "      <td>64855.0</td>\n",
       "      <td>3242425.0</td>\n",
       "      <td>0.512024</td>\n",
       "      <td>0.467974</td>\n",
       "      <td>dem</td>\n",
       "      <td>4.404913</td>\n",
       "      <td>Likely Democrat</td>\n",
       "    </tr>\n",
       "    <tr>\n",
       "      <th>20</th>\n",
       "      <td>Maryland</td>\n",
       "      <td>10</td>\n",
       "      <td>MD</td>\n",
       "      <td>1981475.0</td>\n",
       "      <td>1070860.0</td>\n",
       "      <td>79162.0</td>\n",
       "      <td>3131497.0</td>\n",
       "      <td>0.632756</td>\n",
       "      <td>0.341964</td>\n",
       "      <td>dem</td>\n",
       "      <td>29.079223</td>\n",
       "      <td>Safe Democrat</td>\n",
       "    </tr>\n",
       "    <tr>\n",
       "      <th>21</th>\n",
       "      <td>South Carolina</td>\n",
       "      <td>9</td>\n",
       "      <td>SC</td>\n",
       "      <td>1025355.0</td>\n",
       "      <td>1476294.0</td>\n",
       "      <td>35836.0</td>\n",
       "      <td>2537485.0</td>\n",
       "      <td>0.404083</td>\n",
       "      <td>0.581794</td>\n",
       "      <td>gop</td>\n",
       "      <td>-17.771100</td>\n",
       "      <td>Safe Republican</td>\n",
       "    </tr>\n",
       "    <tr>\n",
       "      <th>22</th>\n",
       "      <td>Colorado</td>\n",
       "      <td>9</td>\n",
       "      <td>CO</td>\n",
       "      <td>1728159.0</td>\n",
       "      <td>1377441.0</td>\n",
       "      <td>85273.0</td>\n",
       "      <td>3190873.0</td>\n",
       "      <td>0.541594</td>\n",
       "      <td>0.431682</td>\n",
       "      <td>dem</td>\n",
       "      <td>10.991287</td>\n",
       "      <td>Safe Democrat</td>\n",
       "    </tr>\n",
       "    <tr>\n",
       "      <th>23</th>\n",
       "      <td>Alabama</td>\n",
       "      <td>9</td>\n",
       "      <td>AL</td>\n",
       "      <td>772412.0</td>\n",
       "      <td>1462616.0</td>\n",
       "      <td>21324.0</td>\n",
       "      <td>2256352.0</td>\n",
       "      <td>0.342328</td>\n",
       "      <td>0.648222</td>\n",
       "      <td>gop</td>\n",
       "      <td>-30.589376</td>\n",
       "      <td>Safe Republican</td>\n",
       "    </tr>\n",
       "    <tr>\n",
       "      <th>24</th>\n",
       "      <td>Louisiana</td>\n",
       "      <td>8</td>\n",
       "      <td>LA</td>\n",
       "      <td>789194.0</td>\n",
       "      <td>1217327.0</td>\n",
       "      <td>32581.0</td>\n",
       "      <td>2039102.0</td>\n",
       "      <td>0.387030</td>\n",
       "      <td>0.596992</td>\n",
       "      <td>gop</td>\n",
       "      <td>-20.996154</td>\n",
       "      <td>Safe Republican</td>\n",
       "    </tr>\n",
       "    <tr>\n",
       "      <th>25</th>\n",
       "      <td>Kentucky</td>\n",
       "      <td>8</td>\n",
       "      <td>KY</td>\n",
       "      <td>707481.0</td>\n",
       "      <td>1351634.0</td>\n",
       "      <td>31943.0</td>\n",
       "      <td>2091058.0</td>\n",
       "      <td>0.338336</td>\n",
       "      <td>0.646388</td>\n",
       "      <td>gop</td>\n",
       "      <td>-30.805124</td>\n",
       "      <td>Safe Republican</td>\n",
       "    </tr>\n",
       "    <tr>\n",
       "      <th>26</th>\n",
       "      <td>Oregon</td>\n",
       "      <td>7</td>\n",
       "      <td>OR</td>\n",
       "      <td>1245951.0</td>\n",
       "      <td>943966.0</td>\n",
       "      <td>68802.0</td>\n",
       "      <td>2258719.0</td>\n",
       "      <td>0.551618</td>\n",
       "      <td>0.417921</td>\n",
       "      <td>dem</td>\n",
       "      <td>13.369746</td>\n",
       "      <td>Safe Democrat</td>\n",
       "    </tr>\n",
       "    <tr>\n",
       "      <th>27</th>\n",
       "      <td>Oklahoma</td>\n",
       "      <td>7</td>\n",
       "      <td>OK</td>\n",
       "      <td>500611.0</td>\n",
       "      <td>1037337.0</td>\n",
       "      <td>30492.0</td>\n",
       "      <td>1568440.0</td>\n",
       "      <td>0.319178</td>\n",
       "      <td>0.661381</td>\n",
       "      <td>gop</td>\n",
       "      <td>-34.220372</td>\n",
       "      <td>Safe Republican</td>\n",
       "    </tr>\n",
       "    <tr>\n",
       "      <th>28</th>\n",
       "      <td>Connecticut</td>\n",
       "      <td>7</td>\n",
       "      <td>CT</td>\n",
       "      <td>992053.0</td>\n",
       "      <td>736918.0</td>\n",
       "      <td>29458.0</td>\n",
       "      <td>1758429.0</td>\n",
       "      <td>0.564170</td>\n",
       "      <td>0.419077</td>\n",
       "      <td>dem</td>\n",
       "      <td>14.509258</td>\n",
       "      <td>Safe Democrat</td>\n",
       "    </tr>\n",
       "    <tr>\n",
       "      <th>29</th>\n",
       "      <td>Utah</td>\n",
       "      <td>6</td>\n",
       "      <td>UT</td>\n",
       "      <td>577051.0</td>\n",
       "      <td>887878.0</td>\n",
       "      <td>42206.0</td>\n",
       "      <td>1507135.0</td>\n",
       "      <td>0.382879</td>\n",
       "      <td>0.589116</td>\n",
       "      <td>gop</td>\n",
       "      <td>-20.623700</td>\n",
       "      <td>Safe Republican</td>\n",
       "    </tr>\n",
       "    <tr>\n",
       "      <th>30</th>\n",
       "      <td>Nevada</td>\n",
       "      <td>6</td>\n",
       "      <td>NV</td>\n",
       "      <td>719487.0</td>\n",
       "      <td>764008.0</td>\n",
       "      <td>28392.0</td>\n",
       "      <td>1511887.0</td>\n",
       "      <td>0.475887</td>\n",
       "      <td>0.505334</td>\n",
       "      <td>gop</td>\n",
       "      <td>-2.944731</td>\n",
       "      <td>Likely Republican</td>\n",
       "    </tr>\n",
       "    <tr>\n",
       "      <th>31</th>\n",
       "      <td>Mississippi</td>\n",
       "      <td>6</td>\n",
       "      <td>MS</td>\n",
       "      <td>463259.0</td>\n",
       "      <td>749434.0</td>\n",
       "      <td>13621.0</td>\n",
       "      <td>1226314.0</td>\n",
       "      <td>0.377765</td>\n",
       "      <td>0.611127</td>\n",
       "      <td>gop</td>\n",
       "      <td>-23.336193</td>\n",
       "      <td>Safe Republican</td>\n",
       "    </tr>\n",
       "    <tr>\n",
       "      <th>32</th>\n",
       "      <td>Kansas</td>\n",
       "      <td>6</td>\n",
       "      <td>KS</td>\n",
       "      <td>544665.0</td>\n",
       "      <td>762416.0</td>\n",
       "      <td>23881.0</td>\n",
       "      <td>1330962.0</td>\n",
       "      <td>0.409227</td>\n",
       "      <td>0.572831</td>\n",
       "      <td>gop</td>\n",
       "      <td>-16.360422</td>\n",
       "      <td>Safe Republican</td>\n",
       "    </tr>\n",
       "    <tr>\n",
       "      <th>33</th>\n",
       "      <td>Iowa</td>\n",
       "      <td>6</td>\n",
       "      <td>IA</td>\n",
       "      <td>707637.0</td>\n",
       "      <td>928132.0</td>\n",
       "      <td>22616.0</td>\n",
       "      <td>1658385.0</td>\n",
       "      <td>0.426702</td>\n",
       "      <td>0.559660</td>\n",
       "      <td>gop</td>\n",
       "      <td>-13.295767</td>\n",
       "      <td>Safe Republican</td>\n",
       "    </tr>\n",
       "    <tr>\n",
       "      <th>34</th>\n",
       "      <td>Arkansas</td>\n",
       "      <td>6</td>\n",
       "      <td>AR</td>\n",
       "      <td>396905.0</td>\n",
       "      <td>759241.0</td>\n",
       "      <td>26530.0</td>\n",
       "      <td>1182676.0</td>\n",
       "      <td>0.335599</td>\n",
       "      <td>0.641969</td>\n",
       "      <td>gop</td>\n",
       "      <td>-30.636962</td>\n",
       "      <td>Safe Republican</td>\n",
       "    </tr>\n",
       "    <tr>\n",
       "      <th>35</th>\n",
       "      <td>West Virginia</td>\n",
       "      <td>5</td>\n",
       "      <td>WV</td>\n",
       "      <td>217553.0</td>\n",
       "      <td>536248.0</td>\n",
       "      <td>15047.0</td>\n",
       "      <td>768848.0</td>\n",
       "      <td>0.282960</td>\n",
       "      <td>0.697469</td>\n",
       "      <td>gop</td>\n",
       "      <td>-41.450976</td>\n",
       "      <td>Safe Republican</td>\n",
       "    </tr>\n",
       "    <tr>\n",
       "      <th>36</th>\n",
       "      <td>New Mexico</td>\n",
       "      <td>5</td>\n",
       "      <td>NM</td>\n",
       "      <td>387274.0</td>\n",
       "      <td>359189.0</td>\n",
       "      <td>13245.0</td>\n",
       "      <td>759708.0</td>\n",
       "      <td>0.509767</td>\n",
       "      <td>0.472799</td>\n",
       "      <td>dem</td>\n",
       "      <td>3.696815</td>\n",
       "      <td>Likely Democrat</td>\n",
       "    </tr>\n",
       "    <tr>\n",
       "      <th>37</th>\n",
       "      <td>Nebraska</td>\n",
       "      <td>5</td>\n",
       "      <td>NE</td>\n",
       "      <td>369074.0</td>\n",
       "      <td>564701.0</td>\n",
       "      <td>12523.0</td>\n",
       "      <td>946298.0</td>\n",
       "      <td>0.390019</td>\n",
       "      <td>0.596748</td>\n",
       "      <td>gop</td>\n",
       "      <td>-20.672875</td>\n",
       "      <td>Safe Republican</td>\n",
       "    </tr>\n",
       "    <tr>\n",
       "      <th>38</th>\n",
       "      <td>Rhode Island</td>\n",
       "      <td>4</td>\n",
       "      <td>RI</td>\n",
       "      <td>271097.0</td>\n",
       "      <td>212867.0</td>\n",
       "      <td>10626.0</td>\n",
       "      <td>494590.0</td>\n",
       "      <td>0.548125</td>\n",
       "      <td>0.430391</td>\n",
       "      <td>dem</td>\n",
       "      <td>11.773388</td>\n",
       "      <td>Safe Democrat</td>\n",
       "    </tr>\n",
       "    <tr>\n",
       "      <th>39</th>\n",
       "      <td>New Hampshire</td>\n",
       "      <td>4</td>\n",
       "      <td>NH</td>\n",
       "      <td>462906.0</td>\n",
       "      <td>438630.0</td>\n",
       "      <td>9826.0</td>\n",
       "      <td>911362.0</td>\n",
       "      <td>0.507928</td>\n",
       "      <td>0.481291</td>\n",
       "      <td>dem</td>\n",
       "      <td>2.663706</td>\n",
       "      <td>Likely Democrat</td>\n",
       "    </tr>\n",
       "    <tr>\n",
       "      <th>40</th>\n",
       "      <td>Maine</td>\n",
       "      <td>4</td>\n",
       "      <td>ME</td>\n",
       "      <td>417864.0</td>\n",
       "      <td>369513.0</td>\n",
       "      <td>17152.0</td>\n",
       "      <td>804529.0</td>\n",
       "      <td>0.519390</td>\n",
       "      <td>0.459291</td>\n",
       "      <td>dem</td>\n",
       "      <td>6.009852</td>\n",
       "      <td>Likely Democrat</td>\n",
       "    </tr>\n",
       "    <tr>\n",
       "      <th>41</th>\n",
       "      <td>Idaho</td>\n",
       "      <td>4</td>\n",
       "      <td>ID</td>\n",
       "      <td>166967.0</td>\n",
       "      <td>484648.0</td>\n",
       "      <td>17601.0</td>\n",
       "      <td>669216.0</td>\n",
       "      <td>0.249496</td>\n",
       "      <td>0.724203</td>\n",
       "      <td>gop</td>\n",
       "      <td>-47.470622</td>\n",
       "      <td>Safe Republican</td>\n",
       "    </tr>\n",
       "    <tr>\n",
       "      <th>42</th>\n",
       "      <td>Hawaii</td>\n",
       "      <td>4</td>\n",
       "      <td>HI</td>\n",
       "      <td>411485.0</td>\n",
       "      <td>325617.0</td>\n",
       "      <td>16875.0</td>\n",
       "      <td>753977.0</td>\n",
       "      <td>0.545753</td>\n",
       "      <td>0.431866</td>\n",
       "      <td>dem</td>\n",
       "      <td>11.388676</td>\n",
       "      <td>Safe Democrat</td>\n",
       "    </tr>\n",
       "    <tr>\n",
       "      <th>43</th>\n",
       "      <td>Wyoming</td>\n",
       "      <td>3</td>\n",
       "      <td>WY</td>\n",
       "      <td>61156.0</td>\n",
       "      <td>183703.0</td>\n",
       "      <td>3855.0</td>\n",
       "      <td>248714.0</td>\n",
       "      <td>0.245889</td>\n",
       "      <td>0.738611</td>\n",
       "      <td>gop</td>\n",
       "      <td>-49.272256</td>\n",
       "      <td>Safe Republican</td>\n",
       "    </tr>\n",
       "    <tr>\n",
       "      <th>44</th>\n",
       "      <td>Vermont</td>\n",
       "      <td>3</td>\n",
       "      <td>VT</td>\n",
       "      <td>228286.0</td>\n",
       "      <td>122213.0</td>\n",
       "      <td>10638.0</td>\n",
       "      <td>361137.0</td>\n",
       "      <td>0.632131</td>\n",
       "      <td>0.338412</td>\n",
       "      <td>dem</td>\n",
       "      <td>29.371956</td>\n",
       "      <td>Safe Democrat</td>\n",
       "    </tr>\n",
       "    <tr>\n",
       "      <th>45</th>\n",
       "      <td>South Dakota</td>\n",
       "      <td>3</td>\n",
       "      <td>SD</td>\n",
       "      <td>158082.0</td>\n",
       "      <td>295607.0</td>\n",
       "      <td>10388.0</td>\n",
       "      <td>464077.0</td>\n",
       "      <td>0.340637</td>\n",
       "      <td>0.636978</td>\n",
       "      <td>gop</td>\n",
       "      <td>-29.634091</td>\n",
       "      <td>Safe Republican</td>\n",
       "    </tr>\n",
       "    <tr>\n",
       "      <th>46</th>\n",
       "      <td>North Dakota</td>\n",
       "      <td>3</td>\n",
       "      <td>ND</td>\n",
       "      <td>114210.0</td>\n",
       "      <td>255812.0</td>\n",
       "      <td>6275.0</td>\n",
       "      <td>376297.0</td>\n",
       "      <td>0.303510</td>\n",
       "      <td>0.679814</td>\n",
       "      <td>gop</td>\n",
       "      <td>-37.630382</td>\n",
       "      <td>Safe Republican</td>\n",
       "    </tr>\n",
       "    <tr>\n",
       "      <th>47</th>\n",
       "      <td>Montana</td>\n",
       "      <td>3</td>\n",
       "      <td>MT</td>\n",
       "      <td>234463.0</td>\n",
       "      <td>358098.0</td>\n",
       "      <td>18972.0</td>\n",
       "      <td>611533.0</td>\n",
       "      <td>0.383402</td>\n",
       "      <td>0.585574</td>\n",
       "      <td>gop</td>\n",
       "      <td>-20.217225</td>\n",
       "      <td>Safe Republican</td>\n",
       "    </tr>\n",
       "    <tr>\n",
       "      <th>48</th>\n",
       "      <td>Delaware</td>\n",
       "      <td>3</td>\n",
       "      <td>DE</td>\n",
       "      <td>289758.0</td>\n",
       "      <td>214351.0</td>\n",
       "      <td>7588.0</td>\n",
       "      <td>511697.0</td>\n",
       "      <td>0.566269</td>\n",
       "      <td>0.418902</td>\n",
       "      <td>dem</td>\n",
       "      <td>14.736651</td>\n",
       "      <td>Safe Democrat</td>\n",
       "    </tr>\n",
       "    <tr>\n",
       "      <th>49</th>\n",
       "      <td>District of Columbia</td>\n",
       "      <td>3</td>\n",
       "      <td>DC</td>\n",
       "      <td>36882.0</td>\n",
       "      <td>2056.0</td>\n",
       "      <td>1525.0</td>\n",
       "      <td>40463.0</td>\n",
       "      <td>0.911499</td>\n",
       "      <td>0.050812</td>\n",
       "      <td>dem</td>\n",
       "      <td>86.068754</td>\n",
       "      <td>Safe Democrat</td>\n",
       "    </tr>\n",
       "  </tbody>\n",
       "</table>\n",
       "</div>"
      ],
      "text/plain": [
       "                   state  electoral_votes_number state_code  Votes_dem  \\\n",
       "0             California                      55         CA  9276179.0   \n",
       "1                  Texas                      38         TX  4832009.0   \n",
       "2               New York                      29         NY  4567230.0   \n",
       "3                Florida                      29         FL  4683038.0   \n",
       "4           Pennsylvania                      20         PA  3420658.0   \n",
       "5               Illinois                      20         IL  3057931.0   \n",
       "6                   Ohio                      18         OH  2532890.0   \n",
       "7               Michigan                      16         MI  2737917.0   \n",
       "8                Georgia                      16         GA  2548017.0   \n",
       "9         North Carolina                      15         NC  2674966.0   \n",
       "10            New Jersey                      14         NJ  2342951.0   \n",
       "11              Virginia                      13         VA  2329476.0   \n",
       "12            Washington                      12         WA  2245593.0   \n",
       "13             Tennessee                      11         TN  1048375.0   \n",
       "14         Massachusetts                      11         MA  2040556.0   \n",
       "15               Indiana                      11         IN  1161510.0   \n",
       "16               Arizona                      11         AZ  1582860.0   \n",
       "17             Wisconsin                      10         WI  1672157.0   \n",
       "18              Missouri                      10         MO  1198808.0   \n",
       "19             Minnesota                      10         MN  1660198.0   \n",
       "20              Maryland                      10         MD  1981475.0   \n",
       "21        South Carolina                       9         SC  1025355.0   \n",
       "22              Colorado                       9         CO  1728159.0   \n",
       "23               Alabama                       9         AL   772412.0   \n",
       "24             Louisiana                       8         LA   789194.0   \n",
       "25              Kentucky                       8         KY   707481.0   \n",
       "26                Oregon                       7         OR  1245951.0   \n",
       "27              Oklahoma                       7         OK   500611.0   \n",
       "28           Connecticut                       7         CT   992053.0   \n",
       "29                  Utah                       6         UT   577051.0   \n",
       "30                Nevada                       6         NV   719487.0   \n",
       "31           Mississippi                       6         MS   463259.0   \n",
       "32                Kansas                       6         KS   544665.0   \n",
       "33                  Iowa                       6         IA   707637.0   \n",
       "34              Arkansas                       6         AR   396905.0   \n",
       "35         West Virginia                       5         WV   217553.0   \n",
       "36            New Mexico                       5         NM   387274.0   \n",
       "37              Nebraska                       5         NE   369074.0   \n",
       "38          Rhode Island                       4         RI   271097.0   \n",
       "39         New Hampshire                       4         NH   462906.0   \n",
       "40                 Maine                       4         ME   417864.0   \n",
       "41                 Idaho                       4         ID   166967.0   \n",
       "42                Hawaii                       4         HI   411485.0   \n",
       "43               Wyoming                       3         WY    61156.0   \n",
       "44               Vermont                       3         VT   228286.0   \n",
       "45          South Dakota                       3         SD   158082.0   \n",
       "46          North Dakota                       3         ND   114210.0   \n",
       "47               Montana                       3         MT   234463.0   \n",
       "48              Delaware                       3         DE   289758.0   \n",
       "49  District of Columbia                       3         DC    36882.0   \n",
       "\n",
       "    Votes_gop  Votes_other  Votes_total   Per_dem   Per_gop Winner  \\\n",
       "0   6081697.0     504660.0   15862536.0  0.584785  0.383400    dem   \n",
       "1   6380781.0     151174.0   11363964.0  0.425205  0.561493    gop   \n",
       "2   3572276.0       1007.0    8140513.0  0.561049  0.438827    dem   \n",
       "3   6110125.0     100384.0   10893547.0  0.429891  0.560894    gop   \n",
       "4   3513108.0      67907.0    7001673.0  0.488549  0.501753    gop   \n",
       "5   2436446.0      80206.0    5574583.0  0.548549  0.437063    dem   \n",
       "6   3175707.0      51247.0    5759844.0  0.439750  0.551353    gop   \n",
       "7   2818120.0     109405.0    5665442.0  0.483266  0.497423    gop   \n",
       "8   2663117.0      38913.0    5250047.0  0.485332  0.507256    gop   \n",
       "9   2851448.0      64856.0    5591270.0  0.478418  0.509982    gop   \n",
       "10  2021160.0      89699.0    4453810.0  0.526055  0.453805    dem   \n",
       "11  2069193.0      72108.0    4470777.0  0.521045  0.462826    dem   \n",
       "12  1532227.0     122065.0    3899885.0  0.575810  0.392890    dem   \n",
       "13  1957880.0      40492.0    3046747.0  0.344097  0.642613    gop   \n",
       "14  1199114.0      73400.0    3313070.0  0.615911  0.361934    dem   \n",
       "15  1712735.0      49560.0    2923805.0  0.397260  0.585790    gop   \n",
       "16  1770242.0      36217.0    3389319.0  0.467014  0.522300    gop   \n",
       "17  1698793.0      49049.0    3419999.0  0.488935  0.496723    gop   \n",
       "18  1749273.0      41075.0    2989156.0  0.401052  0.585206    gop   \n",
       "19  1517372.0      64855.0    3242425.0  0.512024  0.467974    dem   \n",
       "20  1070860.0      79162.0    3131497.0  0.632756  0.341964    dem   \n",
       "21  1476294.0      35836.0    2537485.0  0.404083  0.581794    gop   \n",
       "22  1377441.0      85273.0    3190873.0  0.541594  0.431682    dem   \n",
       "23  1462616.0      21324.0    2256352.0  0.342328  0.648222    gop   \n",
       "24  1217327.0      32581.0    2039102.0  0.387030  0.596992    gop   \n",
       "25  1351634.0      31943.0    2091058.0  0.338336  0.646388    gop   \n",
       "26   943966.0      68802.0    2258719.0  0.551618  0.417921    dem   \n",
       "27  1037337.0      30492.0    1568440.0  0.319178  0.661381    gop   \n",
       "28   736918.0      29458.0    1758429.0  0.564170  0.419077    dem   \n",
       "29   887878.0      42206.0    1507135.0  0.382879  0.589116    gop   \n",
       "30   764008.0      28392.0    1511887.0  0.475887  0.505334    gop   \n",
       "31   749434.0      13621.0    1226314.0  0.377765  0.611127    gop   \n",
       "32   762416.0      23881.0    1330962.0  0.409227  0.572831    gop   \n",
       "33   928132.0      22616.0    1658385.0  0.426702  0.559660    gop   \n",
       "34   759241.0      26530.0    1182676.0  0.335599  0.641969    gop   \n",
       "35   536248.0      15047.0     768848.0  0.282960  0.697469    gop   \n",
       "36   359189.0      13245.0     759708.0  0.509767  0.472799    dem   \n",
       "37   564701.0      12523.0     946298.0  0.390019  0.596748    gop   \n",
       "38   212867.0      10626.0     494590.0  0.548125  0.430391    dem   \n",
       "39   438630.0       9826.0     911362.0  0.507928  0.481291    dem   \n",
       "40   369513.0      17152.0     804529.0  0.519390  0.459291    dem   \n",
       "41   484648.0      17601.0     669216.0  0.249496  0.724203    gop   \n",
       "42   325617.0      16875.0     753977.0  0.545753  0.431866    dem   \n",
       "43   183703.0       3855.0     248714.0  0.245889  0.738611    gop   \n",
       "44   122213.0      10638.0     361137.0  0.632131  0.338412    dem   \n",
       "45   295607.0      10388.0     464077.0  0.340637  0.636978    gop   \n",
       "46   255812.0       6275.0     376297.0  0.303510  0.679814    gop   \n",
       "47   358098.0      18972.0     611533.0  0.383402  0.585574    gop   \n",
       "48   214351.0       7588.0     511697.0  0.566269  0.418902    dem   \n",
       "49     2056.0       1525.0      40463.0  0.911499  0.050812    dem   \n",
       "\n",
       "    Difference             Status  \n",
       "0    20.138533      Safe Democrat  \n",
       "1   -13.628801    Safe Republican  \n",
       "2    12.222252      Safe Democrat  \n",
       "3   -13.100297    Safe Republican  \n",
       "4    -1.320399            Toss-Up  \n",
       "5    11.148547      Safe Democrat  \n",
       "6   -11.160320    Safe Republican  \n",
       "7    -1.415653            Toss-Up  \n",
       "8    -2.192361            Toss-Up  \n",
       "9    -3.156385  Likely Republican  \n",
       "10    7.225072    Likely Democrat  \n",
       "11    5.821874    Likely Democrat  \n",
       "12   18.291975      Safe Democrat  \n",
       "13  -29.851675    Safe Republican  \n",
       "14   25.397652      Safe Democrat  \n",
       "15  -18.853001    Safe Republican  \n",
       "16   -5.528603  Likely Republican  \n",
       "17   -0.778831            Toss-Up  \n",
       "18  -18.415399    Safe Republican  \n",
       "19    4.404913    Likely Democrat  \n",
       "20   29.079223      Safe Democrat  \n",
       "21  -17.771100    Safe Republican  \n",
       "22   10.991287      Safe Democrat  \n",
       "23  -30.589376    Safe Republican  \n",
       "24  -20.996154    Safe Republican  \n",
       "25  -30.805124    Safe Republican  \n",
       "26   13.369746      Safe Democrat  \n",
       "27  -34.220372    Safe Republican  \n",
       "28   14.509258      Safe Democrat  \n",
       "29  -20.623700    Safe Republican  \n",
       "30   -2.944731  Likely Republican  \n",
       "31  -23.336193    Safe Republican  \n",
       "32  -16.360422    Safe Republican  \n",
       "33  -13.295767    Safe Republican  \n",
       "34  -30.636962    Safe Republican  \n",
       "35  -41.450976    Safe Republican  \n",
       "36    3.696815    Likely Democrat  \n",
       "37  -20.672875    Safe Republican  \n",
       "38   11.773388      Safe Democrat  \n",
       "39    2.663706    Likely Democrat  \n",
       "40    6.009852    Likely Democrat  \n",
       "41  -47.470622    Safe Republican  \n",
       "42   11.388676      Safe Democrat  \n",
       "43  -49.272256    Safe Republican  \n",
       "44   29.371956      Safe Democrat  \n",
       "45  -29.634091    Safe Republican  \n",
       "46  -37.630382    Safe Republican  \n",
       "47  -20.217225    Safe Republican  \n",
       "48   14.736651      Safe Democrat  \n",
       "49   86.068754      Safe Democrat  "
      ]
     },
     "execution_count": 55,
     "metadata": {},
     "output_type": "execute_result"
    }
   ],
   "source": [
    "# Cargar datos electorales reales\n",
    "df_actual = pd.DataFrame({f'Votes_dem': data[f'votes_dem_{ELECTORAL_YEAR}'], \n",
    "                            f'Votes_gop': data[f'total_votes_{ELECTORAL_YEAR}'] - data[f'votes_dem_{ELECTORAL_YEAR}'] - data[f'votes_others_{ELECTORAL_YEAR}'], \n",
    "                            f'Votes_other': data[f'votes_others_{ELECTORAL_YEAR}'],\n",
    "                            f'Votes_total': data[f'total_votes_{ELECTORAL_YEAR}'], \n",
    "                            'state': state_names,\n",
    "                            'county': county_names,\n",
    "                            'fips': fips_codes})\n",
    "df_actual_state = df_actual.groupby('state').agg(Votes_dem=(f'Votes_dem', 'sum'), \n",
    "                                                    Votes_gop=(f'Votes_gop', 'sum'),\n",
    "                                                    Votes_other=(f'Votes_other', 'sum'),\n",
    "                                                    Votes_total=(f'Votes_total', 'sum'))\n",
    "\n",
    "df_actual_state[\"Per_dem\"] = df_actual_state[\"Votes_dem\"] / df_actual_state[\"Votes_total\"]\n",
    "df_actual_state[\"Per_gop\"] = df_actual_state[\"Votes_gop\"] / df_actual_state[\"Votes_total\"]\n",
    "\n",
    "# Añadir la columna \"Winner\" basado en los porcentajes predichos de Biden y Trump\n",
    "df_actual_state[\"Winner\"] = np.where(df_actual_state[\"Per_dem\"] < df_actual_state[\"Per_gop\"], 'gop', 'dem')\n",
    "\n",
    "\n",
    "full_df_actual_state = pd.merge(seats_data, df_actual_state, how='inner', on=[\"state\"])\n",
    "\n",
    "\n",
    "\n",
    "# Añadir diferencia entre Biden y Trump\n",
    "full_df_actual_state['Difference'] = (full_df_actual_state[\"Per_dem\"] - full_df_actual_state[\"Per_gop\"]) * 100\n",
    "\n",
    "\n",
    "# Definir las condiciones y los valores a asignar\n",
    "conditions = [\n",
    "    full_df_actual_state[\"Difference\"] > 10,\n",
    "    full_df_actual_state[\"Difference\"].between(2.5, 10),\n",
    "    full_df_actual_state[\"Difference\"].between(-2.5, 2.5),\n",
    "    full_df_actual_state[\"Difference\"].between(-10, -2.5),\n",
    "    full_df_actual_state[\"Difference\"] < -10\n",
    "]\n",
    "\n",
    "choices = [\n",
    "    \"Safe Democrat\",\n",
    "    \"Likely Democrat\",\n",
    "    \"Toss-Up\",\n",
    "    \"Likely Republican\",\n",
    "    \"Safe Republican\"\n",
    "]\n",
    "\n",
    "# Usar np.select para asignar el \"Status\" basado en las condiciones, con un valor por defecto \"Unknown\"\n",
    "full_df_actual_state[\"Status\"] = np.select(conditions, choices, default=\"Unknown\")\n",
    "\n",
    "full_df_actual_state"
   ]
  },
  {
   "cell_type": "markdown",
   "metadata": {},
   "source": [
    "## Algorithm"
   ]
  },
  {
   "cell_type": "code",
   "execution_count": 56,
   "metadata": {},
   "outputs": [],
   "source": [
    "n_sim = 500"
   ]
  },
  {
   "cell_type": "code",
   "execution_count": 57,
   "metadata": {},
   "outputs": [
    {
     "name": "stdout",
     "output_type": "stream",
     "text": [
      "Simulation 0\n",
      "Simulation 1\n",
      "Simulation 2\n",
      "Simulation 3\n",
      "Simulation 4\n",
      "Simulation 5\n",
      "Simulation 6\n",
      "Simulation 7\n",
      "Simulation 8\n",
      "Simulation 9\n",
      "Simulation 10\n",
      "Simulation 11\n",
      "Simulation 12\n",
      "Simulation 13\n",
      "Simulation 14\n",
      "Simulation 15\n",
      "Simulation 16\n",
      "Simulation 17\n",
      "Simulation 18\n",
      "Simulation 19\n",
      "Simulation 20\n",
      "Simulation 21\n",
      "Simulation 22\n",
      "Simulation 23\n",
      "Simulation 24\n",
      "Simulation 25\n",
      "Simulation 26\n",
      "Simulation 27\n",
      "Simulation 28\n",
      "Simulation 29\n",
      "Simulation 30\n",
      "Simulation 31\n",
      "Simulation 32\n",
      "Simulation 33\n",
      "Simulation 34\n",
      "Simulation 35\n",
      "Simulation 36\n",
      "Simulation 37\n",
      "Simulation 38\n",
      "Simulation 39\n",
      "Simulation 40\n",
      "Simulation 41\n",
      "Simulation 42\n",
      "Simulation 43\n",
      "Simulation 44\n",
      "Simulation 45\n",
      "Simulation 46\n",
      "Simulation 47\n",
      "Simulation 48\n",
      "Simulation 49\n",
      "Simulation 50\n",
      "Simulation 51\n",
      "Simulation 52\n",
      "Simulation 53\n",
      "Simulation 54\n",
      "Simulation 55\n",
      "Simulation 56\n",
      "Simulation 57\n",
      "Simulation 58\n",
      "Simulation 59\n",
      "Simulation 60\n",
      "Simulation 61\n",
      "Simulation 62\n",
      "Simulation 63\n",
      "Simulation 64\n",
      "Simulation 65\n",
      "Simulation 66\n",
      "Simulation 67\n",
      "Simulation 68\n",
      "Simulation 69\n",
      "Simulation 70\n",
      "Simulation 71\n",
      "Simulation 72\n",
      "Simulation 73\n",
      "Simulation 74\n",
      "Simulation 75\n",
      "Simulation 76\n",
      "Simulation 77\n",
      "Simulation 78\n",
      "Simulation 79\n",
      "Simulation 80\n",
      "Simulation 81\n",
      "Simulation 82\n",
      "Simulation 83\n",
      "Simulation 84\n",
      "Simulation 85\n",
      "Simulation 86\n",
      "Simulation 87\n",
      "Simulation 88\n",
      "Simulation 89\n",
      "Simulation 90\n",
      "Simulation 91\n",
      "Simulation 92\n",
      "Simulation 93\n",
      "Simulation 94\n",
      "Simulation 95\n",
      "Simulation 96\n",
      "Simulation 97\n",
      "Simulation 98\n",
      "Simulation 99\n",
      "Simulation 100\n",
      "Simulation 101\n",
      "Simulation 102\n",
      "Simulation 103\n",
      "Simulation 104\n",
      "Simulation 105\n",
      "Simulation 106\n",
      "Simulation 107\n",
      "Simulation 108\n",
      "Simulation 109\n",
      "Simulation 110\n",
      "Simulation 111\n",
      "Simulation 112\n",
      "Simulation 113\n",
      "Simulation 114\n",
      "Simulation 115\n",
      "Simulation 116\n",
      "Simulation 117\n",
      "Simulation 118\n",
      "Simulation 119\n",
      "Simulation 120\n",
      "Simulation 121\n",
      "Simulation 122\n",
      "Simulation 123\n",
      "Simulation 124\n",
      "Simulation 125\n",
      "Simulation 126\n",
      "Simulation 127\n",
      "Simulation 128\n",
      "Simulation 129\n",
      "Simulation 130\n",
      "Simulation 131\n",
      "Simulation 132\n",
      "Simulation 133\n",
      "Simulation 134\n",
      "Simulation 135\n",
      "Simulation 136\n",
      "Simulation 137\n",
      "Simulation 138\n",
      "Simulation 139\n",
      "Simulation 140\n",
      "Simulation 141\n",
      "Simulation 142\n",
      "Simulation 143\n",
      "Simulation 144\n",
      "Simulation 145\n",
      "Simulation 146\n",
      "Simulation 147\n",
      "Simulation 148\n",
      "Simulation 149\n",
      "Simulation 150\n",
      "Simulation 151\n",
      "Simulation 152\n",
      "Simulation 153\n",
      "Simulation 154\n",
      "Simulation 155\n",
      "Simulation 156\n",
      "Simulation 157\n",
      "Simulation 158\n",
      "Simulation 159\n",
      "Simulation 160\n",
      "Simulation 161\n",
      "Simulation 162\n",
      "Simulation 163\n",
      "Simulation 164\n",
      "Simulation 165\n",
      "Simulation 166\n",
      "Simulation 167\n",
      "Simulation 168\n",
      "Simulation 169\n",
      "Simulation 170\n",
      "Simulation 171\n",
      "Simulation 172\n",
      "Simulation 173\n",
      "Simulation 174\n",
      "Simulation 175\n",
      "Simulation 176\n",
      "Simulation 177\n",
      "Simulation 178\n",
      "Simulation 179\n",
      "Simulation 180\n",
      "Simulation 181\n",
      "Simulation 182\n",
      "Simulation 183\n",
      "Simulation 184\n",
      "Simulation 185\n",
      "Simulation 186\n",
      "Simulation 187\n",
      "Simulation 188\n",
      "Simulation 189\n",
      "Simulation 190\n",
      "Simulation 191\n",
      "Simulation 192\n",
      "Simulation 193\n",
      "Simulation 194\n",
      "Simulation 195\n",
      "Simulation 196\n",
      "Simulation 197\n",
      "Simulation 198\n",
      "Simulation 199\n",
      "Simulation 200\n",
      "Simulation 201\n",
      "Simulation 202\n",
      "Simulation 203\n",
      "Simulation 204\n",
      "Simulation 205\n",
      "Simulation 206\n",
      "Simulation 207\n",
      "Simulation 208\n",
      "Simulation 209\n",
      "Simulation 210\n",
      "Simulation 211\n",
      "Simulation 212\n",
      "Simulation 213\n",
      "Simulation 214\n",
      "Simulation 215\n",
      "Simulation 216\n",
      "Simulation 217\n",
      "Simulation 218\n",
      "Simulation 219\n",
      "Simulation 220\n",
      "Simulation 221\n",
      "Simulation 222\n",
      "Simulation 223\n",
      "Simulation 224\n",
      "Simulation 225\n",
      "Simulation 226\n",
      "Simulation 227\n",
      "Simulation 228\n",
      "Simulation 229\n",
      "Simulation 230\n",
      "Simulation 231\n",
      "Simulation 232\n",
      "Simulation 233\n",
      "Simulation 234\n",
      "Simulation 235\n",
      "Simulation 236\n",
      "Simulation 237\n",
      "Simulation 238\n",
      "Simulation 239\n",
      "Simulation 240\n",
      "Simulation 241\n",
      "Simulation 242\n",
      "Simulation 243\n",
      "Simulation 244\n",
      "Simulation 245\n",
      "Simulation 246\n",
      "Simulation 247\n",
      "Simulation 248\n",
      "Simulation 249\n",
      "Simulation 250\n",
      "Simulation 251\n",
      "Simulation 252\n",
      "Simulation 253\n",
      "Simulation 254\n",
      "Simulation 255\n",
      "Simulation 256\n",
      "Simulation 257\n",
      "Simulation 258\n",
      "Simulation 259\n",
      "Simulation 260\n",
      "Simulation 261\n",
      "Simulation 262\n",
      "Simulation 263\n",
      "Simulation 264\n",
      "Simulation 265\n",
      "Simulation 266\n",
      "Simulation 267\n",
      "Simulation 268\n",
      "Simulation 269\n",
      "Simulation 270\n",
      "Simulation 271\n",
      "Simulation 272\n",
      "Simulation 273\n",
      "Simulation 274\n",
      "Simulation 275\n",
      "Simulation 276\n",
      "Simulation 277\n",
      "Simulation 278\n",
      "Simulation 279\n",
      "Simulation 280\n",
      "Simulation 281\n",
      "Simulation 282\n",
      "Simulation 283\n",
      "Simulation 284\n",
      "Simulation 285\n",
      "Simulation 286\n",
      "Simulation 287\n",
      "Simulation 288\n",
      "Simulation 289\n",
      "Simulation 290\n",
      "Simulation 291\n",
      "Simulation 292\n",
      "Simulation 293\n",
      "Simulation 294\n",
      "Simulation 295\n",
      "Simulation 296\n",
      "Simulation 297\n",
      "Simulation 298\n",
      "Simulation 299\n",
      "Simulation 300\n",
      "Simulation 301\n",
      "Simulation 302\n",
      "Simulation 303\n",
      "Simulation 304\n",
      "Simulation 305\n",
      "Simulation 306\n",
      "Simulation 307\n",
      "Simulation 308\n",
      "Simulation 309\n",
      "Simulation 310\n",
      "Simulation 311\n",
      "Simulation 312\n",
      "Simulation 313\n",
      "Simulation 314\n",
      "Simulation 315\n",
      "Simulation 316\n",
      "Simulation 317\n",
      "Simulation 318\n",
      "Simulation 319\n",
      "Simulation 320\n",
      "Simulation 321\n",
      "Simulation 322\n",
      "Simulation 323\n",
      "Simulation 324\n",
      "Simulation 325\n",
      "Simulation 326\n",
      "Simulation 327\n",
      "Simulation 328\n",
      "Simulation 329\n",
      "Simulation 330\n",
      "Simulation 331\n",
      "Simulation 332\n",
      "Simulation 333\n",
      "Simulation 334\n",
      "Simulation 335\n",
      "Simulation 336\n",
      "Simulation 337\n",
      "Simulation 338\n",
      "Simulation 339\n",
      "Simulation 340\n",
      "Simulation 341\n",
      "Simulation 342\n",
      "Simulation 343\n",
      "Simulation 344\n",
      "Simulation 345\n",
      "Simulation 346\n",
      "Simulation 347\n",
      "Simulation 348\n",
      "Simulation 349\n",
      "Simulation 350\n",
      "Simulation 351\n",
      "Simulation 352\n",
      "Simulation 353\n",
      "Simulation 354\n",
      "Simulation 355\n",
      "Simulation 356\n",
      "Simulation 357\n",
      "Simulation 358\n",
      "Simulation 359\n",
      "Simulation 360\n",
      "Simulation 361\n",
      "Simulation 362\n",
      "Simulation 363\n",
      "Simulation 364\n",
      "Simulation 365\n",
      "Simulation 366\n",
      "Simulation 367\n",
      "Simulation 368\n",
      "Simulation 369\n",
      "Simulation 370\n",
      "Simulation 371\n",
      "Simulation 372\n",
      "Simulation 373\n",
      "Simulation 374\n",
      "Simulation 375\n",
      "Simulation 376\n",
      "Simulation 377\n",
      "Simulation 378\n",
      "Simulation 379\n",
      "Simulation 380\n",
      "Simulation 381\n",
      "Simulation 382\n",
      "Simulation 383\n",
      "Simulation 384\n",
      "Simulation 385\n",
      "Simulation 386\n",
      "Simulation 387\n",
      "Simulation 388\n",
      "Simulation 389\n",
      "Simulation 390\n",
      "Simulation 391\n",
      "Simulation 392\n",
      "Simulation 393\n",
      "Simulation 394\n",
      "Simulation 395\n",
      "Simulation 396\n",
      "Simulation 397\n",
      "Simulation 398\n",
      "Simulation 399\n",
      "Simulation 400\n",
      "Simulation 401\n",
      "Simulation 402\n",
      "Simulation 403\n",
      "Simulation 404\n",
      "Simulation 405\n",
      "Simulation 406\n",
      "Simulation 407\n",
      "Simulation 408\n",
      "Simulation 409\n",
      "Simulation 410\n",
      "Simulation 411\n",
      "Simulation 412\n",
      "Simulation 413\n",
      "Simulation 414\n",
      "Simulation 415\n",
      "Simulation 416\n",
      "Simulation 417\n",
      "Simulation 418\n",
      "Simulation 419\n",
      "Simulation 420\n",
      "Simulation 421\n",
      "Simulation 422\n",
      "Simulation 423\n",
      "Simulation 424\n",
      "Simulation 425\n",
      "Simulation 426\n",
      "Simulation 427\n",
      "Simulation 428\n",
      "Simulation 429\n",
      "Simulation 430\n",
      "Simulation 431\n",
      "Simulation 432\n",
      "Simulation 433\n",
      "Simulation 434\n",
      "Simulation 435\n",
      "Simulation 436\n",
      "Simulation 437\n",
      "Simulation 438\n",
      "Simulation 439\n",
      "Simulation 440\n",
      "Simulation 441\n",
      "Simulation 442\n",
      "Simulation 443\n",
      "Simulation 444\n",
      "Simulation 445\n",
      "Simulation 446\n",
      "Simulation 447\n",
      "Simulation 448\n",
      "Simulation 449\n",
      "Simulation 450\n",
      "Simulation 451\n",
      "Simulation 452\n",
      "Simulation 453\n",
      "Simulation 454\n",
      "Simulation 455\n",
      "Simulation 456\n",
      "Simulation 457\n",
      "Simulation 458\n",
      "Simulation 459\n",
      "Simulation 460\n",
      "Simulation 461\n",
      "Simulation 462\n",
      "Simulation 463\n",
      "Simulation 464\n",
      "Simulation 465\n",
      "Simulation 466\n",
      "Simulation 467\n",
      "Simulation 468\n",
      "Simulation 469\n",
      "Simulation 470\n",
      "Simulation 471\n",
      "Simulation 472\n",
      "Simulation 473\n",
      "Simulation 474\n",
      "Simulation 475\n",
      "Simulation 476\n",
      "Simulation 477\n",
      "Simulation 478\n",
      "Simulation 479\n",
      "Simulation 480\n",
      "Simulation 481\n",
      "Simulation 482\n",
      "Simulation 483\n",
      "Simulation 484\n",
      "Simulation 485\n",
      "Simulation 486\n",
      "Simulation 487\n",
      "Simulation 488\n",
      "Simulation 489\n",
      "Simulation 490\n",
      "Simulation 491\n",
      "Simulation 492\n",
      "Simulation 493\n",
      "Simulation 494\n",
      "Simulation 495\n",
      "Simulation 496\n",
      "Simulation 497\n",
      "Simulation 498\n",
      "Simulation 499\n"
     ]
    }
   ],
   "source": [
    "# Inicializar un DataFrame para guardar los resultados de las simulaciones\n",
    "# simulation_results = pd.DataFrame(columns=['Pred_dem', 'Pred_gop', 'dem', 'gop'])\n",
    "simulation_results = pd.DataFrame(columns=['Pred_dem', 'Pred_gop'])\n",
    "\n",
    "\n",
    "# Inicializar un DataFrame para acumular los resultados por estado\n",
    "accumulated_pred_state = pd.DataFrame()\n",
    "\n",
    "for i in range(0, n_sim):\n",
    "\n",
    "    print(f\"Simulation {i}\")\n",
    "\n",
    "    ## Data splitting\n",
    "    # Quitar la columna objetivo (f'per_dem_{ELECTORAL_YEAR}') del conjunto de datos\n",
    "    X = data_sim.drop(columns=[f'per_dem_{ELECTORAL_YEAR}'])  # Características (sin la columna objetivo)\n",
    "    y = data_sim[f'per_dem_{ELECTORAL_YEAR}']  # Columna objetivo\n",
    "\n",
    "    # Dividir los datos en 80% para train y 20% para test (cada sim es distinto)\n",
    "    X_train, X_test, y_train, y_test = train_test_split(X, y, test_size=0.2)\n",
    "\n",
    "    ## Models\n",
    "    # Linear Regression\n",
    "    lr_model = LinearRegression()\n",
    "    lr_model.fit(X_train, y_train)\n",
    "    pred_lr = lr_model.predict(X_test)\n",
    "\n",
    "    # Random Forest\n",
    "    rf_model = RandomForestRegressor(n_estimators=100, random_state=i)\n",
    "    rf_model.fit(X_train, y_train)\n",
    "    pred_rf = rf_model.predict(X_test)\n",
    "\n",
    "    # KNN\n",
    "    knn_model = KNeighborsRegressor(n_neighbors=5)  # Puedes ajustar el número de vecinos\n",
    "    knn_model.fit(X_train, y_train)\n",
    "    pred_knn = knn_model.predict(X_test)\n",
    "\n",
    "    # Predicciones combinadas\n",
    "    predictions = (pred_lr + pred_rf + pred_knn) / 3  # Promedio de predicciones de los tres modelos\n",
    "\n",
    "    # Todos los votos por condado, pero usando predicciones\n",
    "    per_dem_pred = data[f'per_dem_{ELECTORAL_YEAR}'].copy()\n",
    "    per_dem_pred.iloc[X_test.index] = predictions\n",
    "\n",
    "    # Agrupar por estado para calcular las predicciones por estado\n",
    "    df_pred = pd.DataFrame({'Votes_dem': per_dem_pred * data[f'total_votes_{ELECTORAL_YEAR}'], \n",
    "                            'Votes_gop': (1 - per_dem_pred - data[f'per_votes_others_{ELECTORAL_YEAR}']) * data[f'total_votes_{ELECTORAL_YEAR}'],\n",
    "                            'Votes_other':  data[f'votes_others_{ELECTORAL_YEAR}'],\n",
    "                            'Votes_total': data[f'total_votes_{ELECTORAL_YEAR}'], \n",
    "                            'state': state_names,\n",
    "                            'county': county_names,\n",
    "                            'fips': fips_codes})\n",
    "    df_pred_state = df_pred.groupby('state').agg(Votes_dem=(\"Votes_dem\", 'sum'), \n",
    "                                                 Votes_gop=(\"Votes_gop\", 'sum'),\n",
    "                                                 Votes_other=(\"Votes_other\", 'sum'),\n",
    "                                                 Votes_total=(\"Votes_total\", 'sum'))\n",
    "    \n",
    "    \n",
    "    # Calcular porcentaje de cada candidato en el estado\n",
    "    df_pred_state[\"Per_dem\"] = df_pred_state[\"Votes_dem\"] / df_pred_state[\"Votes_total\"] + 1/2*(df_pred_state[\"Votes_other\"] / df_pred_state[\"Votes_total\"]) # asumimos que el voto a \"otros\" se reparte por igual para biden y trump\n",
    "    df_pred_state[\"Per_gop\"] = 1 - df_pred_state[\"Per_dem\"]\n",
    "\n",
    "    # Acumular los resultados de cada simulación\n",
    "    if accumulated_pred_state.empty:\n",
    "        accumulated_pred_state = df_pred_state.copy()  # Primera iteración, simplemente copiamos los datos\n",
    "    else:\n",
    "        accumulated_pred_state['Votes_dem'] += df_pred_state['Votes_dem']\n",
    "        accumulated_pred_state['Votes_gop'] += df_pred_state['Votes_gop']\n",
    "        accumulated_pred_state['Votes_total'] += df_pred_state['Votes_total']\n",
    "        accumulated_pred_state[\"Per_dem\"] += df_pred_state[\"Per_dem\"]\n",
    "        accumulated_pred_state[\"Per_gop\"] += df_pred_state[\"Per_gop\"]\n",
    "\n",
    "    # Predicción y ganadores\n",
    "    df_pred_state[\"Winner\"] = np.where(df_pred_state[\"Per_dem\"] < df_pred_state[\"Per_gop\"], 'gop', 'dem')    \n",
    "\n",
    "    # Añadir votos electorales (escaños) a cada estado\n",
    "    full_df_pred_state = pd.merge(seats_data, df_pred_state, how='inner', on=[\"state\"])\n",
    "\n",
    "    # Agrupar por estado y sumar los votos\n",
    "    df_pred_winner = full_df_pred_state.groupby(\"Winner\").agg({\n",
    "        \"electoral_votes_number\": \"sum\",  # Sumar los votos electorales de cada candidato\n",
    "    }).reset_index()\n",
    "\n",
    "    df_pred_winner.loc[df_pred_winner[\"Winner\"] == 'gop', 'electoral_votes_number'] += 3 # Añadir 3 al número de votos electorales de Trump por Alaska\n",
    "\n",
    "    # Crear un nuevo DataFrame con los resultados de esta simulación\n",
    "    new_row = pd.DataFrame({\n",
    "        'Pred_dem': [df_pred_winner.loc[df_pred_winner[\"Winner\"] == 'dem', 'electoral_votes_number'].values[0]],\n",
    "        'Pred_gop': [df_pred_winner.loc[df_pred_winner[\"Winner\"] == 'gop', 'electoral_votes_number'].values[0]],\n",
    "        'Winner': ['dem' if df_pred_winner.loc[df_pred_winner[\"Winner\"] == 'dem', 'electoral_votes_number'].values[0] > df_pred_winner.loc[df_pred_winner[\"Winner\"] == 'gop', 'electoral_votes_number'].values[0] else 'gop']\n",
    "    })\n",
    "\n",
    "    # Usar concat para añadir la nueva fila\n",
    "    simulation_results = pd.concat([simulation_results, new_row], ignore_index=True)\n",
    "\n",
    "# Después de todas las simulaciones, calcular la media\n",
    "accumulated_pred_state['Votes_dem'] /= n_sim\n",
    "accumulated_pred_state['Votes_gop'] /= n_sim\n",
    "accumulated_pred_state['Votes_total'] /= n_sim\n",
    "accumulated_pred_state['Per_dem'] /= n_sim\n",
    "accumulated_pred_state['Per_gop'] /= n_sim\n"
   ]
  },
  {
   "cell_type": "markdown",
   "metadata": {},
   "source": [
    "## Results"
   ]
  },
  {
   "cell_type": "code",
   "execution_count": 69,
   "metadata": {},
   "outputs": [
    {
     "data": {
      "text/plain": [
       "Winner\n",
       "gop    500\n",
       "Name: count, dtype: int64"
      ]
     },
     "execution_count": 69,
     "metadata": {},
     "output_type": "execute_result"
    }
   ],
   "source": [
    "simulation_results[\"Winner\"].value_counts()"
   ]
  },
  {
   "cell_type": "code",
   "execution_count": 70,
   "metadata": {},
   "outputs": [
    {
     "data": {
      "text/plain": [
       "Winner\n",
       "gop    1.0\n",
       "Name: proportion, dtype: float64"
      ]
     },
     "execution_count": 70,
     "metadata": {},
     "output_type": "execute_result"
    }
   ],
   "source": [
    "simulation_results[\"Winner\"].value_counts(normalize=True)"
   ]
  },
  {
   "cell_type": "code",
   "execution_count": 71,
   "metadata": {},
   "outputs": [
    {
     "data": {
      "text/html": [
       "<div>\n",
       "<style scoped>\n",
       "    .dataframe tbody tr th:only-of-type {\n",
       "        vertical-align: middle;\n",
       "    }\n",
       "\n",
       "    .dataframe tbody tr th {\n",
       "        vertical-align: top;\n",
       "    }\n",
       "\n",
       "    .dataframe thead th {\n",
       "        text-align: right;\n",
       "    }\n",
       "</style>\n",
       "<table border=\"1\" class=\"dataframe\">\n",
       "  <thead>\n",
       "    <tr style=\"text-align: right;\">\n",
       "      <th></th>\n",
       "      <th>Pred_dem</th>\n",
       "      <th>Pred_gop</th>\n",
       "      <th>Winner</th>\n",
       "    </tr>\n",
       "  </thead>\n",
       "  <tbody>\n",
       "    <tr>\n",
       "      <th>0</th>\n",
       "      <td>222</td>\n",
       "      <td>316</td>\n",
       "      <td>gop</td>\n",
       "    </tr>\n",
       "    <tr>\n",
       "      <th>1</th>\n",
       "      <td>227</td>\n",
       "      <td>311</td>\n",
       "      <td>gop</td>\n",
       "    </tr>\n",
       "    <tr>\n",
       "      <th>2</th>\n",
       "      <td>227</td>\n",
       "      <td>311</td>\n",
       "      <td>gop</td>\n",
       "    </tr>\n",
       "    <tr>\n",
       "      <th>3</th>\n",
       "      <td>227</td>\n",
       "      <td>311</td>\n",
       "      <td>gop</td>\n",
       "    </tr>\n",
       "    <tr>\n",
       "      <th>4</th>\n",
       "      <td>227</td>\n",
       "      <td>311</td>\n",
       "      <td>gop</td>\n",
       "    </tr>\n",
       "    <tr>\n",
       "      <th>...</th>\n",
       "      <td>...</td>\n",
       "      <td>...</td>\n",
       "      <td>...</td>\n",
       "    </tr>\n",
       "    <tr>\n",
       "      <th>495</th>\n",
       "      <td>238</td>\n",
       "      <td>300</td>\n",
       "      <td>gop</td>\n",
       "    </tr>\n",
       "    <tr>\n",
       "      <th>496</th>\n",
       "      <td>227</td>\n",
       "      <td>311</td>\n",
       "      <td>gop</td>\n",
       "    </tr>\n",
       "    <tr>\n",
       "      <th>497</th>\n",
       "      <td>227</td>\n",
       "      <td>311</td>\n",
       "      <td>gop</td>\n",
       "    </tr>\n",
       "    <tr>\n",
       "      <th>498</th>\n",
       "      <td>227</td>\n",
       "      <td>311</td>\n",
       "      <td>gop</td>\n",
       "    </tr>\n",
       "    <tr>\n",
       "      <th>499</th>\n",
       "      <td>227</td>\n",
       "      <td>311</td>\n",
       "      <td>gop</td>\n",
       "    </tr>\n",
       "  </tbody>\n",
       "</table>\n",
       "<p>500 rows × 3 columns</p>\n",
       "</div>"
      ],
      "text/plain": [
       "     Pred_dem  Pred_gop Winner\n",
       "0         222       316    gop\n",
       "1         227       311    gop\n",
       "2         227       311    gop\n",
       "3         227       311    gop\n",
       "4         227       311    gop\n",
       "..        ...       ...    ...\n",
       "495       238       300    gop\n",
       "496       227       311    gop\n",
       "497       227       311    gop\n",
       "498       227       311    gop\n",
       "499       227       311    gop\n",
       "\n",
       "[500 rows x 3 columns]"
      ]
     },
     "execution_count": 71,
     "metadata": {},
     "output_type": "execute_result"
    }
   ],
   "source": [
    "simulation_results"
   ]
  },
  {
   "cell_type": "code",
   "execution_count": 61,
   "metadata": {},
   "outputs": [
    {
     "data": {
      "text/html": [
       "<div>\n",
       "<style scoped>\n",
       "    .dataframe tbody tr th:only-of-type {\n",
       "        vertical-align: middle;\n",
       "    }\n",
       "\n",
       "    .dataframe tbody tr th {\n",
       "        vertical-align: top;\n",
       "    }\n",
       "\n",
       "    .dataframe thead th {\n",
       "        text-align: right;\n",
       "    }\n",
       "</style>\n",
       "<table border=\"1\" class=\"dataframe\">\n",
       "  <thead>\n",
       "    <tr style=\"text-align: right;\">\n",
       "      <th></th>\n",
       "      <th>Votes_dem</th>\n",
       "      <th>Votes_gop</th>\n",
       "      <th>Votes_other</th>\n",
       "      <th>Votes_total</th>\n",
       "      <th>Per_dem</th>\n",
       "      <th>Per_gop</th>\n",
       "      <th>Winner</th>\n",
       "      <th>state_code</th>\n",
       "      <th>Difference</th>\n",
       "      <th>Status</th>\n",
       "    </tr>\n",
       "    <tr>\n",
       "      <th>state</th>\n",
       "      <th></th>\n",
       "      <th></th>\n",
       "      <th></th>\n",
       "      <th></th>\n",
       "      <th></th>\n",
       "      <th></th>\n",
       "      <th></th>\n",
       "      <th></th>\n",
       "      <th></th>\n",
       "      <th></th>\n",
       "    </tr>\n",
       "  </thead>\n",
       "  <tbody>\n",
       "    <tr>\n",
       "      <th>Alabama</th>\n",
       "      <td>7.767065e+05</td>\n",
       "      <td>1.458321e+06</td>\n",
       "      <td>21324.0</td>\n",
       "      <td>2256352.0</td>\n",
       "      <td>0.348956</td>\n",
       "      <td>0.651044</td>\n",
       "      <td>gop</td>\n",
       "      <td>AL</td>\n",
       "      <td>-30.208714</td>\n",
       "      <td>Safe Republican</td>\n",
       "    </tr>\n",
       "    <tr>\n",
       "      <th>Arizona</th>\n",
       "      <td>1.596020e+06</td>\n",
       "      <td>1.757082e+06</td>\n",
       "      <td>36217.0</td>\n",
       "      <td>3389319.0</td>\n",
       "      <td>0.476240</td>\n",
       "      <td>0.523760</td>\n",
       "      <td>gop</td>\n",
       "      <td>AZ</td>\n",
       "      <td>-4.752071</td>\n",
       "      <td>Likely Republican</td>\n",
       "    </tr>\n",
       "    <tr>\n",
       "      <th>Arkansas</th>\n",
       "      <td>3.996257e+05</td>\n",
       "      <td>7.565203e+05</td>\n",
       "      <td>26530.0</td>\n",
       "      <td>1182676.0</td>\n",
       "      <td>0.349116</td>\n",
       "      <td>0.650884</td>\n",
       "      <td>gop</td>\n",
       "      <td>AR</td>\n",
       "      <td>-30.176874</td>\n",
       "      <td>Safe Republican</td>\n",
       "    </tr>\n",
       "    <tr>\n",
       "      <th>California</th>\n",
       "      <td>9.268052e+06</td>\n",
       "      <td>6.089824e+06</td>\n",
       "      <td>504660.0</td>\n",
       "      <td>15862536.0</td>\n",
       "      <td>0.600180</td>\n",
       "      <td>0.399820</td>\n",
       "      <td>dem</td>\n",
       "      <td>CA</td>\n",
       "      <td>20.036067</td>\n",
       "      <td>Safe Democrat</td>\n",
       "    </tr>\n",
       "    <tr>\n",
       "      <th>Colorado</th>\n",
       "      <td>1.722970e+06</td>\n",
       "      <td>1.382630e+06</td>\n",
       "      <td>85273.0</td>\n",
       "      <td>3190873.0</td>\n",
       "      <td>0.553330</td>\n",
       "      <td>0.446670</td>\n",
       "      <td>dem</td>\n",
       "      <td>CO</td>\n",
       "      <td>10.666030</td>\n",
       "      <td>Safe Democrat</td>\n",
       "    </tr>\n",
       "    <tr>\n",
       "      <th>Connecticut</th>\n",
       "      <td>9.878829e+05</td>\n",
       "      <td>7.410881e+05</td>\n",
       "      <td>29458.0</td>\n",
       "      <td>1758429.0</td>\n",
       "      <td>0.570175</td>\n",
       "      <td>0.429825</td>\n",
       "      <td>dem</td>\n",
       "      <td>CT</td>\n",
       "      <td>14.034961</td>\n",
       "      <td>Safe Democrat</td>\n",
       "    </tr>\n",
       "    <tr>\n",
       "      <th>Delaware</th>\n",
       "      <td>2.882305e+05</td>\n",
       "      <td>2.158785e+05</td>\n",
       "      <td>7588.0</td>\n",
       "      <td>511697.0</td>\n",
       "      <td>0.570698</td>\n",
       "      <td>0.429302</td>\n",
       "      <td>dem</td>\n",
       "      <td>DE</td>\n",
       "      <td>14.139607</td>\n",
       "      <td>Safe Democrat</td>\n",
       "    </tr>\n",
       "    <tr>\n",
       "      <th>District of Columbia</th>\n",
       "      <td>3.609610e+04</td>\n",
       "      <td>2.841905e+03</td>\n",
       "      <td>1525.0</td>\n",
       "      <td>40463.0</td>\n",
       "      <td>0.910921</td>\n",
       "      <td>0.089079</td>\n",
       "      <td>dem</td>\n",
       "      <td>DC</td>\n",
       "      <td>82.184195</td>\n",
       "      <td>Safe Democrat</td>\n",
       "    </tr>\n",
       "    <tr>\n",
       "      <th>Florida</th>\n",
       "      <td>4.719925e+06</td>\n",
       "      <td>6.073238e+06</td>\n",
       "      <td>100384.0</td>\n",
       "      <td>10893547.0</td>\n",
       "      <td>0.437885</td>\n",
       "      <td>0.562115</td>\n",
       "      <td>gop</td>\n",
       "      <td>FL</td>\n",
       "      <td>-12.423077</td>\n",
       "      <td>Safe Republican</td>\n",
       "    </tr>\n",
       "    <tr>\n",
       "      <th>Georgia</th>\n",
       "      <td>2.523630e+06</td>\n",
       "      <td>2.687504e+06</td>\n",
       "      <td>38913.0</td>\n",
       "      <td>5250047.0</td>\n",
       "      <td>0.484393</td>\n",
       "      <td>0.515607</td>\n",
       "      <td>gop</td>\n",
       "      <td>GA</td>\n",
       "      <td>-3.121384</td>\n",
       "      <td>Likely Republican</td>\n",
       "    </tr>\n",
       "    <tr>\n",
       "      <th>Hawaii</th>\n",
       "      <td>4.121798e+05</td>\n",
       "      <td>3.249222e+05</td>\n",
       "      <td>16875.0</td>\n",
       "      <td>753977.0</td>\n",
       "      <td>0.557865</td>\n",
       "      <td>0.442135</td>\n",
       "      <td>dem</td>\n",
       "      <td>HI</td>\n",
       "      <td>11.572976</td>\n",
       "      <td>Safe Democrat</td>\n",
       "    </tr>\n",
       "    <tr>\n",
       "      <th>Idaho</th>\n",
       "      <td>1.743675e+05</td>\n",
       "      <td>4.772475e+05</td>\n",
       "      <td>17601.0</td>\n",
       "      <td>669216.0</td>\n",
       "      <td>0.273705</td>\n",
       "      <td>0.726295</td>\n",
       "      <td>gop</td>\n",
       "      <td>ID</td>\n",
       "      <td>-45.258921</td>\n",
       "      <td>Safe Republican</td>\n",
       "    </tr>\n",
       "    <tr>\n",
       "      <th>Illinois</th>\n",
       "      <td>3.029276e+06</td>\n",
       "      <td>2.465101e+06</td>\n",
       "      <td>80206.0</td>\n",
       "      <td>5574583.0</td>\n",
       "      <td>0.550602</td>\n",
       "      <td>0.449398</td>\n",
       "      <td>dem</td>\n",
       "      <td>IL</td>\n",
       "      <td>10.120494</td>\n",
       "      <td>Safe Democrat</td>\n",
       "    </tr>\n",
       "    <tr>\n",
       "      <th>Indiana</th>\n",
       "      <td>1.164599e+06</td>\n",
       "      <td>1.709646e+06</td>\n",
       "      <td>49560.0</td>\n",
       "      <td>2923805.0</td>\n",
       "      <td>0.406791</td>\n",
       "      <td>0.593209</td>\n",
       "      <td>gop</td>\n",
       "      <td>IN</td>\n",
       "      <td>-18.641734</td>\n",
       "      <td>Safe Republican</td>\n",
       "    </tr>\n",
       "    <tr>\n",
       "      <th>Iowa</th>\n",
       "      <td>6.985566e+05</td>\n",
       "      <td>9.372124e+05</td>\n",
       "      <td>22616.0</td>\n",
       "      <td>1658385.0</td>\n",
       "      <td>0.428046</td>\n",
       "      <td>0.571954</td>\n",
       "      <td>gop</td>\n",
       "      <td>IA</td>\n",
       "      <td>-14.390853</td>\n",
       "      <td>Safe Republican</td>\n",
       "    </tr>\n",
       "    <tr>\n",
       "      <th>Kansas</th>\n",
       "      <td>5.447955e+05</td>\n",
       "      <td>7.622855e+05</td>\n",
       "      <td>23881.0</td>\n",
       "      <td>1330962.0</td>\n",
       "      <td>0.418296</td>\n",
       "      <td>0.581704</td>\n",
       "      <td>gop</td>\n",
       "      <td>KS</td>\n",
       "      <td>-16.340818</td>\n",
       "      <td>Safe Republican</td>\n",
       "    </tr>\n",
       "    <tr>\n",
       "      <th>Kentucky</th>\n",
       "      <td>7.119806e+05</td>\n",
       "      <td>1.347134e+06</td>\n",
       "      <td>31943.0</td>\n",
       "      <td>2091058.0</td>\n",
       "      <td>0.348126</td>\n",
       "      <td>0.651874</td>\n",
       "      <td>gop</td>\n",
       "      <td>KY</td>\n",
       "      <td>-30.374758</td>\n",
       "      <td>Safe Republican</td>\n",
       "    </tr>\n",
       "    <tr>\n",
       "      <th>Louisiana</th>\n",
       "      <td>7.912823e+05</td>\n",
       "      <td>1.215239e+06</td>\n",
       "      <td>32581.0</td>\n",
       "      <td>2039102.0</td>\n",
       "      <td>0.396043</td>\n",
       "      <td>0.603957</td>\n",
       "      <td>gop</td>\n",
       "      <td>LA</td>\n",
       "      <td>-20.791331</td>\n",
       "      <td>Safe Republican</td>\n",
       "    </tr>\n",
       "    <tr>\n",
       "      <th>Maine</th>\n",
       "      <td>4.101208e+05</td>\n",
       "      <td>3.772562e+05</td>\n",
       "      <td>17152.0</td>\n",
       "      <td>804529.0</td>\n",
       "      <td>0.520425</td>\n",
       "      <td>0.479575</td>\n",
       "      <td>dem</td>\n",
       "      <td>ME</td>\n",
       "      <td>4.084944</td>\n",
       "      <td>Likely Democrat</td>\n",
       "    </tr>\n",
       "    <tr>\n",
       "      <th>Maryland</th>\n",
       "      <td>1.959905e+06</td>\n",
       "      <td>1.092430e+06</td>\n",
       "      <td>79162.0</td>\n",
       "      <td>3131497.0</td>\n",
       "      <td>0.638508</td>\n",
       "      <td>0.361492</td>\n",
       "      <td>dem</td>\n",
       "      <td>MD</td>\n",
       "      <td>27.701626</td>\n",
       "      <td>Safe Democrat</td>\n",
       "    </tr>\n",
       "    <tr>\n",
       "      <th>Massachusetts</th>\n",
       "      <td>2.032560e+06</td>\n",
       "      <td>1.207110e+06</td>\n",
       "      <td>73400.0</td>\n",
       "      <td>3313070.0</td>\n",
       "      <td>0.624575</td>\n",
       "      <td>0.375425</td>\n",
       "      <td>dem</td>\n",
       "      <td>MA</td>\n",
       "      <td>24.914980</td>\n",
       "      <td>Safe Democrat</td>\n",
       "    </tr>\n",
       "    <tr>\n",
       "      <th>Michigan</th>\n",
       "      <td>2.726800e+06</td>\n",
       "      <td>2.829237e+06</td>\n",
       "      <td>109405.0</td>\n",
       "      <td>5665442.0</td>\n",
       "      <td>0.490959</td>\n",
       "      <td>0.509041</td>\n",
       "      <td>gop</td>\n",
       "      <td>MI</td>\n",
       "      <td>-1.808114</td>\n",
       "      <td>Toss-Up</td>\n",
       "    </tr>\n",
       "    <tr>\n",
       "      <th>Minnesota</th>\n",
       "      <td>1.647627e+06</td>\n",
       "      <td>1.529943e+06</td>\n",
       "      <td>64855.0</td>\n",
       "      <td>3242425.0</td>\n",
       "      <td>0.518147</td>\n",
       "      <td>0.481853</td>\n",
       "      <td>dem</td>\n",
       "      <td>MN</td>\n",
       "      <td>3.629479</td>\n",
       "      <td>Likely Democrat</td>\n",
       "    </tr>\n",
       "    <tr>\n",
       "      <th>Mississippi</th>\n",
       "      <td>4.610636e+05</td>\n",
       "      <td>7.516294e+05</td>\n",
       "      <td>13621.0</td>\n",
       "      <td>1226314.0</td>\n",
       "      <td>0.381529</td>\n",
       "      <td>0.618471</td>\n",
       "      <td>gop</td>\n",
       "      <td>MS</td>\n",
       "      <td>-23.694240</td>\n",
       "      <td>Safe Republican</td>\n",
       "    </tr>\n",
       "    <tr>\n",
       "      <th>Missouri</th>\n",
       "      <td>1.197933e+06</td>\n",
       "      <td>1.750148e+06</td>\n",
       "      <td>41075.0</td>\n",
       "      <td>2989156.0</td>\n",
       "      <td>0.407630</td>\n",
       "      <td>0.592370</td>\n",
       "      <td>gop</td>\n",
       "      <td>MO</td>\n",
       "      <td>-18.473916</td>\n",
       "      <td>Safe Republican</td>\n",
       "    </tr>\n",
       "    <tr>\n",
       "      <th>Montana</th>\n",
       "      <td>2.369388e+05</td>\n",
       "      <td>3.556222e+05</td>\n",
       "      <td>18972.0</td>\n",
       "      <td>611533.0</td>\n",
       "      <td>0.402962</td>\n",
       "      <td>0.597038</td>\n",
       "      <td>gop</td>\n",
       "      <td>MT</td>\n",
       "      <td>-19.407524</td>\n",
       "      <td>Safe Republican</td>\n",
       "    </tr>\n",
       "    <tr>\n",
       "      <th>Nebraska</th>\n",
       "      <td>3.687005e+05</td>\n",
       "      <td>5.650745e+05</td>\n",
       "      <td>12523.0</td>\n",
       "      <td>946298.0</td>\n",
       "      <td>0.396241</td>\n",
       "      <td>0.603759</td>\n",
       "      <td>gop</td>\n",
       "      <td>NE</td>\n",
       "      <td>-20.751804</td>\n",
       "      <td>Safe Republican</td>\n",
       "    </tr>\n",
       "    <tr>\n",
       "      <th>Nevada</th>\n",
       "      <td>7.226446e+05</td>\n",
       "      <td>7.608504e+05</td>\n",
       "      <td>28392.0</td>\n",
       "      <td>1511887.0</td>\n",
       "      <td>0.487365</td>\n",
       "      <td>0.512635</td>\n",
       "      <td>gop</td>\n",
       "      <td>NV</td>\n",
       "      <td>-2.527031</td>\n",
       "      <td>Likely Republican</td>\n",
       "    </tr>\n",
       "    <tr>\n",
       "      <th>New Hampshire</th>\n",
       "      <td>4.579580e+05</td>\n",
       "      <td>4.435780e+05</td>\n",
       "      <td>9826.0</td>\n",
       "      <td>911362.0</td>\n",
       "      <td>0.507889</td>\n",
       "      <td>0.492111</td>\n",
       "      <td>dem</td>\n",
       "      <td>NH</td>\n",
       "      <td>1.577857</td>\n",
       "      <td>Toss-Up</td>\n",
       "    </tr>\n",
       "    <tr>\n",
       "      <th>New Jersey</th>\n",
       "      <td>2.346631e+06</td>\n",
       "      <td>2.017480e+06</td>\n",
       "      <td>89699.0</td>\n",
       "      <td>4453810.0</td>\n",
       "      <td>0.536952</td>\n",
       "      <td>0.463048</td>\n",
       "      <td>dem</td>\n",
       "      <td>NJ</td>\n",
       "      <td>7.390341</td>\n",
       "      <td>Likely Democrat</td>\n",
       "    </tr>\n",
       "    <tr>\n",
       "      <th>New Mexico</th>\n",
       "      <td>3.825444e+05</td>\n",
       "      <td>3.639186e+05</td>\n",
       "      <td>13245.0</td>\n",
       "      <td>759708.0</td>\n",
       "      <td>0.512258</td>\n",
       "      <td>0.487742</td>\n",
       "      <td>dem</td>\n",
       "      <td>NM</td>\n",
       "      <td>2.451700</td>\n",
       "      <td>Toss-Up</td>\n",
       "    </tr>\n",
       "    <tr>\n",
       "      <th>New York</th>\n",
       "      <td>4.530787e+06</td>\n",
       "      <td>3.608719e+06</td>\n",
       "      <td>1007.0</td>\n",
       "      <td>8140513.0</td>\n",
       "      <td>0.556635</td>\n",
       "      <td>0.443365</td>\n",
       "      <td>dem</td>\n",
       "      <td>NY</td>\n",
       "      <td>11.326902</td>\n",
       "      <td>Safe Democrat</td>\n",
       "    </tr>\n",
       "    <tr>\n",
       "      <th>North Carolina</th>\n",
       "      <td>2.651343e+06</td>\n",
       "      <td>2.875071e+06</td>\n",
       "      <td>64856.0</td>\n",
       "      <td>5591270.0</td>\n",
       "      <td>0.479993</td>\n",
       "      <td>0.520007</td>\n",
       "      <td>gop</td>\n",
       "      <td>NC</td>\n",
       "      <td>-4.001397</td>\n",
       "      <td>Likely Republican</td>\n",
       "    </tr>\n",
       "    <tr>\n",
       "      <th>North Dakota</th>\n",
       "      <td>1.148275e+05</td>\n",
       "      <td>2.551945e+05</td>\n",
       "      <td>6275.0</td>\n",
       "      <td>376297.0</td>\n",
       "      <td>0.313489</td>\n",
       "      <td>0.686511</td>\n",
       "      <td>gop</td>\n",
       "      <td>ND</td>\n",
       "      <td>-37.302167</td>\n",
       "      <td>Safe Republican</td>\n",
       "    </tr>\n",
       "    <tr>\n",
       "      <th>Ohio</th>\n",
       "      <td>2.530138e+06</td>\n",
       "      <td>3.178459e+06</td>\n",
       "      <td>51247.0</td>\n",
       "      <td>5759844.0</td>\n",
       "      <td>0.443721</td>\n",
       "      <td>0.556279</td>\n",
       "      <td>gop</td>\n",
       "      <td>OH</td>\n",
       "      <td>-11.255885</td>\n",
       "      <td>Safe Republican</td>\n",
       "    </tr>\n",
       "    <tr>\n",
       "      <th>Oklahoma</th>\n",
       "      <td>5.087809e+05</td>\n",
       "      <td>1.029167e+06</td>\n",
       "      <td>30492.0</td>\n",
       "      <td>1568440.0</td>\n",
       "      <td>0.334107</td>\n",
       "      <td>0.665893</td>\n",
       "      <td>gop</td>\n",
       "      <td>OK</td>\n",
       "      <td>-33.178590</td>\n",
       "      <td>Safe Republican</td>\n",
       "    </tr>\n",
       "    <tr>\n",
       "      <th>Oregon</th>\n",
       "      <td>1.241262e+06</td>\n",
       "      <td>9.486547e+05</td>\n",
       "      <td>68802.0</td>\n",
       "      <td>2258719.0</td>\n",
       "      <td>0.564773</td>\n",
       "      <td>0.435227</td>\n",
       "      <td>dem</td>\n",
       "      <td>OR</td>\n",
       "      <td>12.954584</td>\n",
       "      <td>Safe Democrat</td>\n",
       "    </tr>\n",
       "    <tr>\n",
       "      <th>Pennsylvania</th>\n",
       "      <td>3.400404e+06</td>\n",
       "      <td>3.533362e+06</td>\n",
       "      <td>67907.0</td>\n",
       "      <td>7001673.0</td>\n",
       "      <td>0.490505</td>\n",
       "      <td>0.509495</td>\n",
       "      <td>gop</td>\n",
       "      <td>PA</td>\n",
       "      <td>-1.898945</td>\n",
       "      <td>Toss-Up</td>\n",
       "    </tr>\n",
       "    <tr>\n",
       "      <th>Rhode Island</th>\n",
       "      <td>2.706659e+05</td>\n",
       "      <td>2.132981e+05</td>\n",
       "      <td>10626.0</td>\n",
       "      <td>494590.0</td>\n",
       "      <td>0.557995</td>\n",
       "      <td>0.442005</td>\n",
       "      <td>dem</td>\n",
       "      <td>RI</td>\n",
       "      <td>11.599075</td>\n",
       "      <td>Safe Democrat</td>\n",
       "    </tr>\n",
       "    <tr>\n",
       "      <th>South Carolina</th>\n",
       "      <td>1.027108e+06</td>\n",
       "      <td>1.474541e+06</td>\n",
       "      <td>35836.0</td>\n",
       "      <td>2537485.0</td>\n",
       "      <td>0.411835</td>\n",
       "      <td>0.588165</td>\n",
       "      <td>gop</td>\n",
       "      <td>SC</td>\n",
       "      <td>-17.632969</td>\n",
       "      <td>Safe Republican</td>\n",
       "    </tr>\n",
       "    <tr>\n",
       "      <th>South Dakota</th>\n",
       "      <td>1.576286e+05</td>\n",
       "      <td>2.960604e+05</td>\n",
       "      <td>10388.0</td>\n",
       "      <td>464077.0</td>\n",
       "      <td>0.350853</td>\n",
       "      <td>0.649147</td>\n",
       "      <td>gop</td>\n",
       "      <td>SD</td>\n",
       "      <td>-29.829491</td>\n",
       "      <td>Safe Republican</td>\n",
       "    </tr>\n",
       "    <tr>\n",
       "      <th>Tennessee</th>\n",
       "      <td>1.064009e+06</td>\n",
       "      <td>1.942246e+06</td>\n",
       "      <td>40492.0</td>\n",
       "      <td>3046747.0</td>\n",
       "      <td>0.355873</td>\n",
       "      <td>0.644127</td>\n",
       "      <td>gop</td>\n",
       "      <td>TN</td>\n",
       "      <td>-28.825406</td>\n",
       "      <td>Safe Republican</td>\n",
       "    </tr>\n",
       "    <tr>\n",
       "      <th>Texas</th>\n",
       "      <td>4.867264e+06</td>\n",
       "      <td>6.345526e+06</td>\n",
       "      <td>151174.0</td>\n",
       "      <td>11363964.0</td>\n",
       "      <td>0.434958</td>\n",
       "      <td>0.565042</td>\n",
       "      <td>gop</td>\n",
       "      <td>TX</td>\n",
       "      <td>-13.008337</td>\n",
       "      <td>Safe Republican</td>\n",
       "    </tr>\n",
       "    <tr>\n",
       "      <th>Utah</th>\n",
       "      <td>5.921369e+05</td>\n",
       "      <td>8.727921e+05</td>\n",
       "      <td>42206.0</td>\n",
       "      <td>1507135.0</td>\n",
       "      <td>0.406891</td>\n",
       "      <td>0.593109</td>\n",
       "      <td>gop</td>\n",
       "      <td>UT</td>\n",
       "      <td>-18.621765</td>\n",
       "      <td>Safe Republican</td>\n",
       "    </tr>\n",
       "    <tr>\n",
       "      <th>Vermont</th>\n",
       "      <td>2.230842e+05</td>\n",
       "      <td>1.274148e+05</td>\n",
       "      <td>10638.0</td>\n",
       "      <td>361137.0</td>\n",
       "      <td>0.632456</td>\n",
       "      <td>0.367544</td>\n",
       "      <td>dem</td>\n",
       "      <td>VT</td>\n",
       "      <td>26.491176</td>\n",
       "      <td>Safe Democrat</td>\n",
       "    </tr>\n",
       "    <tr>\n",
       "      <th>Virginia</th>\n",
       "      <td>2.307402e+06</td>\n",
       "      <td>2.091267e+06</td>\n",
       "      <td>72108.0</td>\n",
       "      <td>4470777.0</td>\n",
       "      <td>0.524172</td>\n",
       "      <td>0.475828</td>\n",
       "      <td>dem</td>\n",
       "      <td>VA</td>\n",
       "      <td>4.834414</td>\n",
       "      <td>Likely Democrat</td>\n",
       "    </tr>\n",
       "    <tr>\n",
       "      <th>Washington</th>\n",
       "      <td>2.238386e+06</td>\n",
       "      <td>1.539434e+06</td>\n",
       "      <td>122065.0</td>\n",
       "      <td>3899885.0</td>\n",
       "      <td>0.589612</td>\n",
       "      <td>0.410388</td>\n",
       "      <td>dem</td>\n",
       "      <td>WA</td>\n",
       "      <td>17.922356</td>\n",
       "      <td>Safe Democrat</td>\n",
       "    </tr>\n",
       "    <tr>\n",
       "      <th>West Virginia</th>\n",
       "      <td>2.203732e+05</td>\n",
       "      <td>5.334278e+05</td>\n",
       "      <td>15047.0</td>\n",
       "      <td>768848.0</td>\n",
       "      <td>0.296413</td>\n",
       "      <td>0.703587</td>\n",
       "      <td>gop</td>\n",
       "      <td>WV</td>\n",
       "      <td>-40.717368</td>\n",
       "      <td>Safe Republican</td>\n",
       "    </tr>\n",
       "    <tr>\n",
       "      <th>Wisconsin</th>\n",
       "      <td>1.655604e+06</td>\n",
       "      <td>1.715346e+06</td>\n",
       "      <td>49049.0</td>\n",
       "      <td>3419999.0</td>\n",
       "      <td>0.491266</td>\n",
       "      <td>0.508734</td>\n",
       "      <td>gop</td>\n",
       "      <td>WI</td>\n",
       "      <td>-1.746825</td>\n",
       "      <td>Toss-Up</td>\n",
       "    </tr>\n",
       "    <tr>\n",
       "      <th>Wyoming</th>\n",
       "      <td>6.301367e+04</td>\n",
       "      <td>1.818453e+05</td>\n",
       "      <td>3855.0</td>\n",
       "      <td>248714.0</td>\n",
       "      <td>0.261108</td>\n",
       "      <td>0.738892</td>\n",
       "      <td>gop</td>\n",
       "      <td>WY</td>\n",
       "      <td>-47.778438</td>\n",
       "      <td>Safe Republican</td>\n",
       "    </tr>\n",
       "  </tbody>\n",
       "</table>\n",
       "</div>"
      ],
      "text/plain": [
       "                         Votes_dem     Votes_gop  Votes_other  Votes_total  \\\n",
       "state                                                                        \n",
       "Alabama               7.767065e+05  1.458321e+06      21324.0    2256352.0   \n",
       "Arizona               1.596020e+06  1.757082e+06      36217.0    3389319.0   \n",
       "Arkansas              3.996257e+05  7.565203e+05      26530.0    1182676.0   \n",
       "California            9.268052e+06  6.089824e+06     504660.0   15862536.0   \n",
       "Colorado              1.722970e+06  1.382630e+06      85273.0    3190873.0   \n",
       "Connecticut           9.878829e+05  7.410881e+05      29458.0    1758429.0   \n",
       "Delaware              2.882305e+05  2.158785e+05       7588.0     511697.0   \n",
       "District of Columbia  3.609610e+04  2.841905e+03       1525.0      40463.0   \n",
       "Florida               4.719925e+06  6.073238e+06     100384.0   10893547.0   \n",
       "Georgia               2.523630e+06  2.687504e+06      38913.0    5250047.0   \n",
       "Hawaii                4.121798e+05  3.249222e+05      16875.0     753977.0   \n",
       "Idaho                 1.743675e+05  4.772475e+05      17601.0     669216.0   \n",
       "Illinois              3.029276e+06  2.465101e+06      80206.0    5574583.0   \n",
       "Indiana               1.164599e+06  1.709646e+06      49560.0    2923805.0   \n",
       "Iowa                  6.985566e+05  9.372124e+05      22616.0    1658385.0   \n",
       "Kansas                5.447955e+05  7.622855e+05      23881.0    1330962.0   \n",
       "Kentucky              7.119806e+05  1.347134e+06      31943.0    2091058.0   \n",
       "Louisiana             7.912823e+05  1.215239e+06      32581.0    2039102.0   \n",
       "Maine                 4.101208e+05  3.772562e+05      17152.0     804529.0   \n",
       "Maryland              1.959905e+06  1.092430e+06      79162.0    3131497.0   \n",
       "Massachusetts         2.032560e+06  1.207110e+06      73400.0    3313070.0   \n",
       "Michigan              2.726800e+06  2.829237e+06     109405.0    5665442.0   \n",
       "Minnesota             1.647627e+06  1.529943e+06      64855.0    3242425.0   \n",
       "Mississippi           4.610636e+05  7.516294e+05      13621.0    1226314.0   \n",
       "Missouri              1.197933e+06  1.750148e+06      41075.0    2989156.0   \n",
       "Montana               2.369388e+05  3.556222e+05      18972.0     611533.0   \n",
       "Nebraska              3.687005e+05  5.650745e+05      12523.0     946298.0   \n",
       "Nevada                7.226446e+05  7.608504e+05      28392.0    1511887.0   \n",
       "New Hampshire         4.579580e+05  4.435780e+05       9826.0     911362.0   \n",
       "New Jersey            2.346631e+06  2.017480e+06      89699.0    4453810.0   \n",
       "New Mexico            3.825444e+05  3.639186e+05      13245.0     759708.0   \n",
       "New York              4.530787e+06  3.608719e+06       1007.0    8140513.0   \n",
       "North Carolina        2.651343e+06  2.875071e+06      64856.0    5591270.0   \n",
       "North Dakota          1.148275e+05  2.551945e+05       6275.0     376297.0   \n",
       "Ohio                  2.530138e+06  3.178459e+06      51247.0    5759844.0   \n",
       "Oklahoma              5.087809e+05  1.029167e+06      30492.0    1568440.0   \n",
       "Oregon                1.241262e+06  9.486547e+05      68802.0    2258719.0   \n",
       "Pennsylvania          3.400404e+06  3.533362e+06      67907.0    7001673.0   \n",
       "Rhode Island          2.706659e+05  2.132981e+05      10626.0     494590.0   \n",
       "South Carolina        1.027108e+06  1.474541e+06      35836.0    2537485.0   \n",
       "South Dakota          1.576286e+05  2.960604e+05      10388.0     464077.0   \n",
       "Tennessee             1.064009e+06  1.942246e+06      40492.0    3046747.0   \n",
       "Texas                 4.867264e+06  6.345526e+06     151174.0   11363964.0   \n",
       "Utah                  5.921369e+05  8.727921e+05      42206.0    1507135.0   \n",
       "Vermont               2.230842e+05  1.274148e+05      10638.0     361137.0   \n",
       "Virginia              2.307402e+06  2.091267e+06      72108.0    4470777.0   \n",
       "Washington            2.238386e+06  1.539434e+06     122065.0    3899885.0   \n",
       "West Virginia         2.203732e+05  5.334278e+05      15047.0     768848.0   \n",
       "Wisconsin             1.655604e+06  1.715346e+06      49049.0    3419999.0   \n",
       "Wyoming               6.301367e+04  1.818453e+05       3855.0     248714.0   \n",
       "\n",
       "                       Per_dem   Per_gop Winner state_code  Difference  \\\n",
       "state                                                                    \n",
       "Alabama               0.348956  0.651044    gop         AL  -30.208714   \n",
       "Arizona               0.476240  0.523760    gop         AZ   -4.752071   \n",
       "Arkansas              0.349116  0.650884    gop         AR  -30.176874   \n",
       "California            0.600180  0.399820    dem         CA   20.036067   \n",
       "Colorado              0.553330  0.446670    dem         CO   10.666030   \n",
       "Connecticut           0.570175  0.429825    dem         CT   14.034961   \n",
       "Delaware              0.570698  0.429302    dem         DE   14.139607   \n",
       "District of Columbia  0.910921  0.089079    dem         DC   82.184195   \n",
       "Florida               0.437885  0.562115    gop         FL  -12.423077   \n",
       "Georgia               0.484393  0.515607    gop         GA   -3.121384   \n",
       "Hawaii                0.557865  0.442135    dem         HI   11.572976   \n",
       "Idaho                 0.273705  0.726295    gop         ID  -45.258921   \n",
       "Illinois              0.550602  0.449398    dem         IL   10.120494   \n",
       "Indiana               0.406791  0.593209    gop         IN  -18.641734   \n",
       "Iowa                  0.428046  0.571954    gop         IA  -14.390853   \n",
       "Kansas                0.418296  0.581704    gop         KS  -16.340818   \n",
       "Kentucky              0.348126  0.651874    gop         KY  -30.374758   \n",
       "Louisiana             0.396043  0.603957    gop         LA  -20.791331   \n",
       "Maine                 0.520425  0.479575    dem         ME    4.084944   \n",
       "Maryland              0.638508  0.361492    dem         MD   27.701626   \n",
       "Massachusetts         0.624575  0.375425    dem         MA   24.914980   \n",
       "Michigan              0.490959  0.509041    gop         MI   -1.808114   \n",
       "Minnesota             0.518147  0.481853    dem         MN    3.629479   \n",
       "Mississippi           0.381529  0.618471    gop         MS  -23.694240   \n",
       "Missouri              0.407630  0.592370    gop         MO  -18.473916   \n",
       "Montana               0.402962  0.597038    gop         MT  -19.407524   \n",
       "Nebraska              0.396241  0.603759    gop         NE  -20.751804   \n",
       "Nevada                0.487365  0.512635    gop         NV   -2.527031   \n",
       "New Hampshire         0.507889  0.492111    dem         NH    1.577857   \n",
       "New Jersey            0.536952  0.463048    dem         NJ    7.390341   \n",
       "New Mexico            0.512258  0.487742    dem         NM    2.451700   \n",
       "New York              0.556635  0.443365    dem         NY   11.326902   \n",
       "North Carolina        0.479993  0.520007    gop         NC   -4.001397   \n",
       "North Dakota          0.313489  0.686511    gop         ND  -37.302167   \n",
       "Ohio                  0.443721  0.556279    gop         OH  -11.255885   \n",
       "Oklahoma              0.334107  0.665893    gop         OK  -33.178590   \n",
       "Oregon                0.564773  0.435227    dem         OR   12.954584   \n",
       "Pennsylvania          0.490505  0.509495    gop         PA   -1.898945   \n",
       "Rhode Island          0.557995  0.442005    dem         RI   11.599075   \n",
       "South Carolina        0.411835  0.588165    gop         SC  -17.632969   \n",
       "South Dakota          0.350853  0.649147    gop         SD  -29.829491   \n",
       "Tennessee             0.355873  0.644127    gop         TN  -28.825406   \n",
       "Texas                 0.434958  0.565042    gop         TX  -13.008337   \n",
       "Utah                  0.406891  0.593109    gop         UT  -18.621765   \n",
       "Vermont               0.632456  0.367544    dem         VT   26.491176   \n",
       "Virginia              0.524172  0.475828    dem         VA    4.834414   \n",
       "Washington            0.589612  0.410388    dem         WA   17.922356   \n",
       "West Virginia         0.296413  0.703587    gop         WV  -40.717368   \n",
       "Wisconsin             0.491266  0.508734    gop         WI   -1.746825   \n",
       "Wyoming               0.261108  0.738892    gop         WY  -47.778438   \n",
       "\n",
       "                                 Status  \n",
       "state                                    \n",
       "Alabama                 Safe Republican  \n",
       "Arizona               Likely Republican  \n",
       "Arkansas                Safe Republican  \n",
       "California                Safe Democrat  \n",
       "Colorado                  Safe Democrat  \n",
       "Connecticut               Safe Democrat  \n",
       "Delaware                  Safe Democrat  \n",
       "District of Columbia      Safe Democrat  \n",
       "Florida                 Safe Republican  \n",
       "Georgia               Likely Republican  \n",
       "Hawaii                    Safe Democrat  \n",
       "Idaho                   Safe Republican  \n",
       "Illinois                  Safe Democrat  \n",
       "Indiana                 Safe Republican  \n",
       "Iowa                    Safe Republican  \n",
       "Kansas                  Safe Republican  \n",
       "Kentucky                Safe Republican  \n",
       "Louisiana               Safe Republican  \n",
       "Maine                   Likely Democrat  \n",
       "Maryland                  Safe Democrat  \n",
       "Massachusetts             Safe Democrat  \n",
       "Michigan                        Toss-Up  \n",
       "Minnesota               Likely Democrat  \n",
       "Mississippi             Safe Republican  \n",
       "Missouri                Safe Republican  \n",
       "Montana                 Safe Republican  \n",
       "Nebraska                Safe Republican  \n",
       "Nevada                Likely Republican  \n",
       "New Hampshire                   Toss-Up  \n",
       "New Jersey              Likely Democrat  \n",
       "New Mexico                      Toss-Up  \n",
       "New York                  Safe Democrat  \n",
       "North Carolina        Likely Republican  \n",
       "North Dakota            Safe Republican  \n",
       "Ohio                    Safe Republican  \n",
       "Oklahoma                Safe Republican  \n",
       "Oregon                    Safe Democrat  \n",
       "Pennsylvania                    Toss-Up  \n",
       "Rhode Island              Safe Democrat  \n",
       "South Carolina          Safe Republican  \n",
       "South Dakota            Safe Republican  \n",
       "Tennessee               Safe Republican  \n",
       "Texas                   Safe Republican  \n",
       "Utah                    Safe Republican  \n",
       "Vermont                   Safe Democrat  \n",
       "Virginia                Likely Democrat  \n",
       "Washington                Safe Democrat  \n",
       "West Virginia           Safe Republican  \n",
       "Wisconsin                       Toss-Up  \n",
       "Wyoming                 Safe Republican  "
      ]
     },
     "execution_count": 61,
     "metadata": {},
     "output_type": "execute_result"
    }
   ],
   "source": [
    "# Añadir la columna \"Winner\" basado en los porcentajes predichos de Biden y Trump\n",
    "accumulated_pred_state['Winner'] = np.where(\n",
    "    accumulated_pred_state[\"Per_dem\"] >= accumulated_pred_state[\"Per_gop\"], 'dem', 'gop'\n",
    ")\n",
    "\n",
    "# Añadir los códigos de los estados usando el diccionario state_to_code\n",
    "accumulated_pred_state['state_code'] = accumulated_pred_state.index.map(state_to_code)\n",
    "\n",
    "# Añadir diferencia entre Biden y Trump\n",
    "accumulated_pred_state['Difference'] = (accumulated_pred_state[\"Per_dem\"] - accumulated_pred_state[\"Per_gop\"]) * 100\n",
    "\n",
    "\n",
    "# Definir las condiciones y los valores a asignar\n",
    "conditions = [\n",
    "    accumulated_pred_state[\"Difference\"] > 10,\n",
    "    accumulated_pred_state[\"Difference\"].between(2.5, 10),\n",
    "    accumulated_pred_state[\"Difference\"].between(-2.5, 2.5),\n",
    "    accumulated_pred_state[\"Difference\"].between(-10, -2.5),\n",
    "    accumulated_pred_state[\"Difference\"] < -10\n",
    "]\n",
    "\n",
    "choices = [\n",
    "    \"Safe Democrat\",\n",
    "    \"Likely Democrat\",\n",
    "    \"Toss-Up\",\n",
    "    \"Likely Republican\",\n",
    "    \"Safe Republican\"\n",
    "]\n",
    "\n",
    "# Usar np.select para asignar el \"Status\" basado en las condiciones, con un valor por defecto \"Unknown\"\n",
    "accumulated_pred_state[\"Status\"] = np.select(conditions, choices, default=\"Unknown\")\n",
    "\n",
    "\n",
    "# Mostrar el DataFrame\n",
    "accumulated_pred_state\n"
   ]
  },
  {
   "cell_type": "markdown",
   "metadata": {},
   "source": [
    "## Gráficos"
   ]
  },
  {
   "cell_type": "markdown",
   "metadata": {},
   "source": [
    "### Simulación"
   ]
  },
  {
   "cell_type": "code",
   "execution_count": 62,
   "metadata": {},
   "outputs": [
    {
     "data": {
      "image/png": "[encoded data removed]",
      "text/plain": [
       "<Figure size 1200x800 with 1 Axes>"
      ]
     },
     "metadata": {},
     "output_type": "display_data"
    }
   ],
   "source": [
    "# Asegurarse de que los valores de Trump_Pred y Biden_Pred sean numéricos\n",
    "simulation_results['Pred_gop'] = pd.to_numeric(simulation_results['Pred_gop'], errors='coerce')\n",
    "simulation_results['Pred_dem'] = pd.to_numeric(simulation_results['Pred_dem'], errors='coerce')\n",
    "\n",
    "# Eliminar cualquier fila con valores NaN (si es necesario)\n",
    "simulation_results = simulation_results.dropna(subset=['Pred_gop', 'Pred_dem'])\n",
    "\n",
    "# Crear un gráfico de densidad para las predicciones de Biden y Trump\n",
    "plt.figure(figsize=(12, 8))\n",
    "\n",
    "# Gráfico de densidad para Biden (positivo)\n",
    "sns.kdeplot(simulation_results['Pred_dem'], color=\"#3951a2\", fill=True, alpha=0.8, label=\"Biden Pred\")\n",
    "\n",
    "# Crear la densidad para Trump usando gaussian_kde\n",
    "density_trump = gaussian_kde(simulation_results['Pred_gop'])\n",
    "x_vals = np.linspace(min(simulation_results['Pred_gop']), max(simulation_results['Pred_dem']), 1000)\n",
    "y_vals = density_trump(x_vals)\n",
    "\n",
    "# Graficar la densidad de Trump invertida\n",
    "plt.fill_between(x_vals, -y_vals, color=\"#af2b39\", alpha=0.8, label=\"Trump Pred\")\n",
    "\n",
    "# Línea vertical en 270 votos\n",
    "plt.axvline(x=270, color=\"black\", linestyle=\"--\", linewidth=1, label=\"Límite para ganar (270)\")\n",
    "plt.text(270-6, 0.02, '270', color=\"black\", verticalalignment='bottom', fontsize=12)  # Añadir el valor '270' dentro del gráfico\n",
    "\n",
    "# Línea vertical para la media de las predicciones de Biden\n",
    "plt.axvline(x=np.mean(simulation_results['Pred_dem']), color=\"white\", linestyle=\"--\", linewidth=1, label=\"Media Biden Pred\")\n",
    "mean_biden = np.mean(simulation_results['Pred_dem'])\n",
    "plt.text(mean_biden + 1, 0.01, f'{mean_biden:.0f}', color=\"white\", verticalalignment='bottom', fontsize=12)  # Añadir el valor de la media de Biden\n",
    "\n",
    "# Línea vertical para la media de las predicciones de Trump\n",
    "plt.axvline(x=np.mean(simulation_results['Pred_gop']), color=\"white\", linestyle=\"--\", linewidth=1, label=\"Media Trump Pred\")\n",
    "mean_trump = np.mean(simulation_results['Pred_gop'])\n",
    "plt.text(mean_trump + 1, -0.01, f'{mean_trump:.0f}', color=\"white\", verticalalignment='top', fontsize=12)  # Añadir el valor de la media de Trump\n",
    "\n",
    "# Ajustar el eje Y para que sea simétrico\n",
    "plt.ylim(-1.1 * max(y_vals), 1.1 * max(y_vals))\n",
    "\n",
    "# Ajustar el eje X para ver más a la izquierda\n",
    "plt.xlim(min(simulation_results['Pred_gop']), max(simulation_results['Pred_dem']))\n",
    "\n",
    "# Añadir título\n",
    "plt.title(f\"{ELECTORAL_YEAR} Distribución Biden Pred. vs Trump Pred.\", fontsize=16)\n",
    "\n",
    "# Añadir leyenda\n",
    "plt.legend()\n",
    "\n",
    "# Eliminar el fondo del gráfico\n",
    "plt.gca().patch.set_alpha(0)  # Fondo del área del gráfico transparente\n",
    "\n",
    "# Eliminar los bordes y la línea negra alrededor del gráfico\n",
    "plt.gca().spines['top'].set_visible(False)\n",
    "plt.gca().spines['right'].set_visible(False)\n",
    "plt.gca().spines['left'].set_visible(False)\n",
    "plt.gca().spines['bottom'].set_visible(False)\n",
    "\n",
    "# Guardar el gráfico como PNG con fondo transparente\n",
    "plt.savefig(f\"imgs/densidad_biden_trump_transparente_{ELECTORAL_YEAR}.png\", format=\"png\", transparent=True)\n",
    "\n",
    "# Mostrar el gráfico\n",
    "plt.show()"
   ]
  },
  {
   "cell_type": "code",
   "execution_count": 63,
   "metadata": {},
   "outputs": [
    {
     "data": {
      "image/png": "[encoded data removed]",
      "text/plain": [
       "<Figure size 1000x1200 with 1 Axes>"
      ]
     },
     "metadata": {},
     "output_type": "display_data"
    }
   ],
   "source": [
    "# Ordenar los estados por orden alfabético\n",
    "accumulated_pred_state_sorted = accumulated_pred_state.sort_values('state', ascending=False)\n",
    "\n",
    "# Crear el gráfico de barras apiladas\n",
    "plt.figure(figsize=(10, 12))\n",
    "\n",
    "# Primero, graficar la barra de Trump\n",
    "sns.barplot(x=accumulated_pred_state_sorted[\"Per_dem\"] + accumulated_pred_state_sorted[\"Per_gop\"], \n",
    "            y='state', data=accumulated_pred_state_sorted, color=\"#ac2a37\", label=\"gop\")\n",
    "\n",
    "# Luego, graficar la barra de Biden encima de Trump\n",
    "sns.barplot(x=\"Per_dem\", y='state', data=accumulated_pred_state_sorted, color=\"#3951a2\", label=\"dem\")\n",
    "\n",
    "# Añadir una línea vertical en el 50%\n",
    "plt.axvline(x=0.50, color=\"white\", linestyle=\"--\", linewidth=1)\n",
    "\n",
    "# Añadir leyenda\n",
    "plt.legend(loc='best')\n",
    "\n",
    "# Invertir el eje Y para que los estados se vean de arriba hacia abajo\n",
    "plt.gca().invert_yaxis()\n",
    "\n",
    "# Añadir etiquetas y título\n",
    "plt.title(f'{ELECTORAL_YEAR} Resultados Medios por Estado - Simulaciones de Trump vs Biden', fontsize=16)\n",
    "plt.xlabel('Proporción de Votos Simulados')\n",
    "plt.ylabel('Estado')\n",
    "\n",
    "# Ajustar el eje X para que las barras lleguen al 100%\n",
    "plt.xlim(0, 1)\n",
    "\n",
    "# Guardar el gráfico como PNG con fondo transparente\n",
    "plt.savefig(\"imgs/porc_estado_transparente_{ELECTORAL_YEAR}.png\", format=\"png\", transparent=True)\n",
    "\n",
    "# Mostrar el gráfico\n",
    "plt.show()"
   ]
  },
  {
   "cell_type": "code",
   "execution_count": 64,
   "metadata": {},
   "outputs": [
    {
     "data": {
      "image/png": "[encoded data removed]",
      "text/plain": [
       "<Figure size 2600x1200 with 1 Axes>"
      ]
     },
     "metadata": {},
     "output_type": "display_data"
    }
   ],
   "source": [
    "plt.figure(figsize=(26, 12))\n",
    "\n",
    "# Graficar la barra de Trump (en la parte inferior)\n",
    "sns.barplot(y=accumulated_pred_state_sorted[\"Per_dem\"] + accumulated_pred_state_sorted[\"Per_gop\"], \n",
    "            x='state', data=accumulated_pred_state_sorted, color=\"#ac2a37\", label=\"gop\")\n",
    "\n",
    "# Graficar la barra de Biden encima de Trump\n",
    "sns.barplot(y=\"Per_dem\", x='state', data=accumulated_pred_state_sorted, color=\"#3951a2\", label=\"dem\")\n",
    "\n",
    "# Añadir una línea horizontal en el 50%\n",
    "plt.axhline(y=0.50, color=\"white\", linestyle=\"--\", linewidth=1)\n",
    "\n",
    "# Añadir leyenda\n",
    "plt.legend(loc='best', fontsize=22)\n",
    "\n",
    "# Añadir etiquetas y título\n",
    "# plt.title('Resultados Medios por Estado - Simulaciones de Trump vs Biden', fontsize=16)\n",
    "plt.ylabel('Proporción de Votos Simulados', fontsize=22)\n",
    "plt.xlabel('Estado', fontsize=22)\n",
    "\n",
    "# Ajustar el eje Y para que las barras lleguen al 100%\n",
    "plt.ylim(0, 1)\n",
    "\n",
    "# Rotar los nombres de los estados para mejor visibilidad y aumentar el tamaño de las etiquetas\n",
    "plt.xticks(rotation=90, fontsize=24)\n",
    "plt.yticks(fontsize=24)\n",
    "\n",
    "# Ajustar los márgenes del gráfico para evitar que los xticks se corten\n",
    "plt.tight_layout()\n",
    "\n",
    "\n",
    "# Guardar el gráfico como PNG con fondo transparente\n",
    "plt.savefig(f\"imgs/porc_estado_inv_transparente_{ELECTORAL_YEAR}.png\", format=\"png\", transparent=True)\n",
    "\n",
    "# Mostrar el gráfico\n",
    "plt.show()"
   ]
  },
  {
   "cell_type": "code",
   "execution_count": 65,
   "metadata": {},
   "outputs": [
    {
     "data": {
      "application/vnd.plotly.v1+json": {
       "config": {
        "plotlyServerURL": "https://plot.ly"
       },
       "data": [
        {
         "colorscale": [
          [
           0,
           "#af2b39"
          ],
          [
           1,
           "#af2b39"
          ]
         ],
         "customdata": [
          [
           "AL",
           0.34895643125659404,
           0.6510435687434059
          ],
          [
           "AZ",
           0.47623964591799833,
           0.5237603540820016
          ],
          [
           "AR",
           0.3491156281328624,
           0.6508843718671383
          ],
          [
           "FL",
           0.4378846141488706,
           0.5621153858511301
          ],
          [
           "GA",
           0.4843930818534607,
           0.5156069181465396
          ],
          [
           "ID",
           0.27370539716960696,
           0.7262946028303932
          ],
          [
           "IN",
           0.4067913282269539,
           0.593208671773046
          ],
          [
           "IA",
           0.42804573638050336,
           0.5719542636194966
          ],
          [
           "KS",
           0.4182959082536469,
           0.5817040917463537
          ],
          [
           "KY",
           0.3481262111797122,
           0.6518737888202879
          ],
          [
           "LA",
           0.3960433425525628,
           0.6039566574474379
          ],
          [
           "MI",
           0.4909594315173084,
           0.5090405684826916
          ],
          [
           "MS",
           0.3815288023994377,
           0.618471197600562
          ],
          [
           "MO",
           0.40763042225568047,
           0.5923695777443195
          ],
          [
           "MT",
           0.4029623788342935,
           0.5970376211657068
          ],
          [
           "NE",
           0.3962409775029387,
           0.6037590224970618
          ],
          [
           "NV",
           0.48736484483600334,
           0.5126351551639966
          ],
          [
           "NC",
           0.4799930154069615,
           0.5200069845930385
          ],
          [
           "ND",
           0.31348916645222424,
           0.6865108335477763
          ],
          [
           "OH",
           0.4437205758954929,
           0.5562794241045068
          ],
          [
           "OK",
           0.33410704976727706,
           0.6658929502327231
          ],
          [
           "PA",
           0.49050527501011976,
           0.5094947249898802
          ],
          [
           "SC",
           0.4118351539563169,
           0.5881648460436832
          ],
          [
           "SD",
           0.35085254261019627,
           0.6491474573898043
          ],
          [
           "TN",
           0.35587297138831314,
           0.6441270286116875
          ],
          [
           "TX",
           0.4349583170676566,
           0.5650416829323434
          ],
          [
           "UT",
           0.4068911742691184,
           0.5931088257308815
          ],
          [
           "WV",
           0.29641316220125274,
           0.7035868377987468
          ],
          [
           "WI",
           0.49126587358018176,
           0.5087341264198182
          ],
          [
           "WY",
           0.26110781045929987,
           0.738892189540699
          ]
         ],
         "geo": "geo",
         "hovertemplate": "<b>%{hovertext}</b><br><br>Ganador {ELECTORAL_YEAR}=gop<br>state_code=%{customdata[0]}<br>Per_dem=%{customdata[1]:.2%}<br>Per_gop=%{customdata[2]:.2%}<extra></extra>",
         "hovertext": [
          "AL",
          "AZ",
          "AR",
          "FL",
          "GA",
          "ID",
          "IN",
          "IA",
          "KS",
          "KY",
          "LA",
          "MI",
          "MS",
          "MO",
          "MT",
          "NE",
          "NV",
          "NC",
          "ND",
          "OH",
          "OK",
          "PA",
          "SC",
          "SD",
          "TN",
          "TX",
          "UT",
          "WV",
          "WI",
          "WY"
         ],
         "locationmode": "USA-states",
         "locations": [
          "AL",
          "AZ",
          "AR",
          "FL",
          "GA",
          "ID",
          "IN",
          "IA",
          "KS",
          "KY",
          "LA",
          "MI",
          "MS",
          "MO",
          "MT",
          "NE",
          "NV",
          "NC",
          "ND",
          "OH",
          "OK",
          "PA",
          "SC",
          "SD",
          "TN",
          "TX",
          "UT",
          "WV",
          "WI",
          "WY"
         ],
         "name": "gop",
         "showlegend": true,
         "showscale": false,
         "type": "choropleth",
         "z": [
          1,
          1,
          1,
          1,
          1,
          1,
          1,
          1,
          1,
          1,
          1,
          1,
          1,
          1,
          1,
          1,
          1,
          1,
          1,
          1,
          1,
          1,
          1,
          1,
          1,
          1,
          1,
          1,
          1,
          1
         ]
        },
        {
         "colorscale": [
          [
           0,
           "#3951a2"
          ],
          [
           1,
           "#3951a2"
          ]
         ],
         "customdata": [
          [
           "CA",
           0.6001803333307963,
           0.39981966666920304
          ],
          [
           "CO",
           0.5533301504321141,
           0.4466698495678858
          ],
          [
           "CT",
           0.5701748041499993,
           0.4298251958500009
          ],
          [
           "DE",
           0.5706980329742278,
           0.4293019670257713
          ],
          [
           "DC",
           0.9109209725767962,
           0.08907902742320835
          ],
          [
           "HI",
           0.5578648799345832,
           0.44213512006541733
          ],
          [
           "IL",
           0.5506024683045185,
           0.44939753169548097
          ],
          [
           "ME",
           0.5204247180440981,
           0.47957528195590204
          ],
          [
           "MD",
           0.6385081303848267,
           0.3614918696151725
          ],
          [
           "MA",
           0.6245749023511444,
           0.37542509764885573
          ],
          [
           "MN",
           0.5181473929072001,
           0.48185260709279987
          ],
          [
           "NH",
           0.5078892827762697,
           0.49211071722373034
          ],
          [
           "NJ",
           0.5369517059675937,
           0.4630482940324061
          ],
          [
           "NM",
           0.5122584999155788,
           0.48774150008442113
          ],
          [
           "NY",
           0.556634510698357,
           0.4433654893016427
          ],
          [
           "OR",
           0.5647729182102667,
           0.4352270817897333
          ],
          [
           "RI",
           0.5579953759664686,
           0.44200462403353047
          ],
          [
           "VT",
           0.6324558804491955,
           0.3675441195508048
          ],
          [
           "VA",
           0.524172070658823,
           0.4758279293411771
          ],
          [
           "WA",
           0.5896117812835514,
           0.4103882187164482
          ]
         ],
         "geo": "geo",
         "hovertemplate": "<b>%{hovertext}</b><br><br>Ganador {ELECTORAL_YEAR}=dem<br>state_code=%{customdata[0]}<br>Per_dem=%{customdata[1]:.2%}<br>Per_gop=%{customdata[2]:.2%}<extra></extra>",
         "hovertext": [
          "CA",
          "CO",
          "CT",
          "DE",
          "DC",
          "HI",
          "IL",
          "ME",
          "MD",
          "MA",
          "MN",
          "NH",
          "NJ",
          "NM",
          "NY",
          "OR",
          "RI",
          "VT",
          "VA",
          "WA"
         ],
         "locationmode": "USA-states",
         "locations": [
          "CA",
          "CO",
          "CT",
          "DE",
          "DC",
          "HI",
          "IL",
          "ME",
          "MD",
          "MA",
          "MN",
          "NH",
          "NJ",
          "NM",
          "NY",
          "OR",
          "RI",
          "VT",
          "VA",
          "WA"
         ],
         "name": "dem",
         "showlegend": true,
         "showscale": false,
         "type": "choropleth",
         "z": [
          1,
          1,
          1,
          1,
          1,
          1,
          1,
          1,
          1,
          1,
          1,
          1,
          1,
          1,
          1,
          1,
          1,
          1,
          1,
          1
         ]
        }
       ],
       "layout": {
        "geo": {
         "center": {},
         "domain": {
          "x": [
           0,
           1
          ],
          "y": [
           0,
           1
          ]
         },
         "fitbounds": "locations",
         "scope": "usa",
         "visible": false
        },
        "height": 800,
        "legend": {
         "title": {
          "text": "Ganador {ELECTORAL_YEAR}"
         },
         "tracegroupgap": 0
        },
        "template": {
         "data": {
          "bar": [
           {
            "error_x": {
             "color": "#2a3f5f"
            },
            "error_y": {
             "color": "#2a3f5f"
            },
            "marker": {
             "line": {
              "color": "#E5ECF6",
              "width": 0.5
             },
             "pattern": {
              "fillmode": "overlay",
              "size": 10,
              "solidity": 0.2
             }
            },
            "type": "bar"
           }
          ],
          "barpolar": [
           {
            "marker": {
             "line": {
              "color": "#E5ECF6",
              "width": 0.5
             },
             "pattern": {
              "fillmode": "overlay",
              "size": 10,
              "solidity": 0.2
             }
            },
            "type": "barpolar"
           }
          ],
          "carpet": [
           {
            "aaxis": {
             "endlinecolor": "#2a3f5f",
             "gridcolor": "white",
             "linecolor": "white",
             "minorgridcolor": "white",
             "startlinecolor": "#2a3f5f"
            },
            "baxis": {
             "endlinecolor": "#2a3f5f",
             "gridcolor": "white",
             "linecolor": "white",
             "minorgridcolor": "white",
             "startlinecolor": "#2a3f5f"
            },
            "type": "carpet"
           }
          ],
          "choropleth": [
           {
            "colorbar": {
             "outlinewidth": 0,
             "ticks": ""
            },
            "type": "choropleth"
           }
          ],
          "contour": [
           {
            "colorbar": {
             "outlinewidth": 0,
             "ticks": ""
            },
            "colorscale": [
             [
              0,
              "#0d0887"
             ],
             [
              0.1111111111111111,
              "#46039f"
             ],
             [
              0.2222222222222222,
              "#7201a8"
             ],
             [
              0.3333333333333333,
              "#9c179e"
             ],
             [
              0.4444444444444444,
              "#bd3786"
             ],
             [
              0.5555555555555556,
              "#d8576b"
             ],
             [
              0.6666666666666666,
              "#ed7953"
             ],
             [
              0.7777777777777778,
              "#fb9f3a"
             ],
             [
              0.8888888888888888,
              "#fdca26"
             ],
             [
              1,
              "#f0f921"
             ]
            ],
            "type": "contour"
           }
          ],
          "contourcarpet": [
           {
            "colorbar": {
             "outlinewidth": 0,
             "ticks": ""
            },
            "type": "contourcarpet"
           }
          ],
          "heatmap": [
           {
            "colorbar": {
             "outlinewidth": 0,
             "ticks": ""
            },
            "colorscale": [
             [
              0,
              "#0d0887"
             ],
             [
              0.1111111111111111,
              "#46039f"
             ],
             [
              0.2222222222222222,
              "#7201a8"
             ],
             [
              0.3333333333333333,
              "#9c179e"
             ],
             [
              0.4444444444444444,
              "#bd3786"
             ],
             [
              0.5555555555555556,
              "#d8576b"
             ],
             [
              0.6666666666666666,
              "#ed7953"
             ],
             [
              0.7777777777777778,
              "#fb9f3a"
             ],
             [
              0.8888888888888888,
              "#fdca26"
             ],
             [
              1,
              "#f0f921"
             ]
            ],
            "type": "heatmap"
           }
          ],
          "histogram": [
           {
            "marker": {
             "pattern": {
              "fillmode": "overlay",
              "size": 10,
              "solidity": 0.2
             }
            },
            "type": "histogram"
           }
          ],
          "histogram2d": [
           {
            "colorbar": {
             "outlinewidth": 0,
             "ticks": ""
            },
            "colorscale": [
             [
              0,
              "#0d0887"
             ],
             [
              0.1111111111111111,
              "#46039f"
             ],
             [
              0.2222222222222222,
              "#7201a8"
             ],
             [
              0.3333333333333333,
              "#9c179e"
             ],
             [
              0.4444444444444444,
              "#bd3786"
             ],
             [
              0.5555555555555556,
              "#d8576b"
             ],
             [
              0.6666666666666666,
              "#ed7953"
             ],
             [
              0.7777777777777778,
              "#fb9f3a"
             ],
             [
              0.8888888888888888,
              "#fdca26"
             ],
             [
              1,
              "#f0f921"
             ]
            ],
            "type": "histogram2d"
           }
          ],
          "histogram2dcontour": [
           {
            "colorbar": {
             "outlinewidth": 0,
             "ticks": ""
            },
            "colorscale": [
             [
              0,
              "#0d0887"
             ],
             [
              0.1111111111111111,
              "#46039f"
             ],
             [
              0.2222222222222222,
              "#7201a8"
             ],
             [
              0.3333333333333333,
              "#9c179e"
             ],
             [
              0.4444444444444444,
              "#bd3786"
             ],
             [
              0.5555555555555556,
              "#d8576b"
             ],
             [
              0.6666666666666666,
              "#ed7953"
             ],
             [
              0.7777777777777778,
              "#fb9f3a"
             ],
             [
              0.8888888888888888,
              "#fdca26"
             ],
             [
              1,
              "#f0f921"
             ]
            ],
            "type": "histogram2dcontour"
           }
          ],
          "mesh3d": [
           {
            "colorbar": {
             "outlinewidth": 0,
             "ticks": ""
            },
            "type": "mesh3d"
           }
          ],
          "parcoords": [
           {
            "line": {
             "colorbar": {
              "outlinewidth": 0,
              "ticks": ""
             }
            },
            "type": "parcoords"
           }
          ],
          "pie": [
           {
            "automargin": true,
            "type": "pie"
           }
          ],
          "scatter": [
           {
            "fillpattern": {
             "fillmode": "overlay",
             "size": 10,
             "solidity": 0.2
            },
            "type": "scatter"
           }
          ],
          "scatter3d": [
           {
            "line": {
             "colorbar": {
              "outlinewidth": 0,
              "ticks": ""
             }
            },
            "marker": {
             "colorbar": {
              "outlinewidth": 0,
              "ticks": ""
             }
            },
            "type": "scatter3d"
           }
          ],
          "scattercarpet": [
           {
            "marker": {
             "colorbar": {
              "outlinewidth": 0,
              "ticks": ""
             }
            },
            "type": "scattercarpet"
           }
          ],
          "scattergeo": [
           {
            "marker": {
             "colorbar": {
              "outlinewidth": 0,
              "ticks": ""
             }
            },
            "type": "scattergeo"
           }
          ],
          "scattergl": [
           {
            "marker": {
             "colorbar": {
              "outlinewidth": 0,
              "ticks": ""
             }
            },
            "type": "scattergl"
           }
          ],
          "scattermap": [
           {
            "marker": {
             "colorbar": {
              "outlinewidth": 0,
              "ticks": ""
             }
            },
            "type": "scattermap"
           }
          ],
          "scattermapbox": [
           {
            "marker": {
             "colorbar": {
              "outlinewidth": 0,
              "ticks": ""
             }
            },
            "type": "scattermapbox"
           }
          ],
          "scatterpolar": [
           {
            "marker": {
             "colorbar": {
              "outlinewidth": 0,
              "ticks": ""
             }
            },
            "type": "scatterpolar"
           }
          ],
          "scatterpolargl": [
           {
            "marker": {
             "colorbar": {
              "outlinewidth": 0,
              "ticks": ""
             }
            },
            "type": "scatterpolargl"
           }
          ],
          "scatterternary": [
           {
            "marker": {
             "colorbar": {
              "outlinewidth": 0,
              "ticks": ""
             }
            },
            "type": "scatterternary"
           }
          ],
          "surface": [
           {
            "colorbar": {
             "outlinewidth": 0,
             "ticks": ""
            },
            "colorscale": [
             [
              0,
              "#0d0887"
             ],
             [
              0.1111111111111111,
              "#46039f"
             ],
             [
              0.2222222222222222,
              "#7201a8"
             ],
             [
              0.3333333333333333,
              "#9c179e"
             ],
             [
              0.4444444444444444,
              "#bd3786"
             ],
             [
              0.5555555555555556,
              "#d8576b"
             ],
             [
              0.6666666666666666,
              "#ed7953"
             ],
             [
              0.7777777777777778,
              "#fb9f3a"
             ],
             [
              0.8888888888888888,
              "#fdca26"
             ],
             [
              1,
              "#f0f921"
             ]
            ],
            "type": "surface"
           }
          ],
          "table": [
           {
            "cells": {
             "fill": {
              "color": "#EBF0F8"
             },
             "line": {
              "color": "white"
             }
            },
            "header": {
             "fill": {
              "color": "#C8D4E3"
             },
             "line": {
              "color": "white"
             }
            },
            "type": "table"
           }
          ]
         },
         "layout": {
          "annotationdefaults": {
           "arrowcolor": "#2a3f5f",
           "arrowhead": 0,
           "arrowwidth": 1
          },
          "autotypenumbers": "strict",
          "coloraxis": {
           "colorbar": {
            "outlinewidth": 0,
            "ticks": ""
           }
          },
          "colorscale": {
           "diverging": [
            [
             0,
             "#8e0152"
            ],
            [
             0.1,
             "#c51b7d"
            ],
            [
             0.2,
             "#de77ae"
            ],
            [
             0.3,
             "#f1b6da"
            ],
            [
             0.4,
             "#fde0ef"
            ],
            [
             0.5,
             "#f7f7f7"
            ],
            [
             0.6,
             "#e6f5d0"
            ],
            [
             0.7,
             "#b8e186"
            ],
            [
             0.8,
             "#7fbc41"
            ],
            [
             0.9,
             "#4d9221"
            ],
            [
             1,
             "#276419"
            ]
           ],
           "sequential": [
            [
             0,
             "#0d0887"
            ],
            [
             0.1111111111111111,
             "#46039f"
            ],
            [
             0.2222222222222222,
             "#7201a8"
            ],
            [
             0.3333333333333333,
             "#9c179e"
            ],
            [
             0.4444444444444444,
             "#bd3786"
            ],
            [
             0.5555555555555556,
             "#d8576b"
            ],
            [
             0.6666666666666666,
             "#ed7953"
            ],
            [
             0.7777777777777778,
             "#fb9f3a"
            ],
            [
             0.8888888888888888,
             "#fdca26"
            ],
            [
             1,
             "#f0f921"
            ]
           ],
           "sequentialminus": [
            [
             0,
             "#0d0887"
            ],
            [
             0.1111111111111111,
             "#46039f"
            ],
            [
             0.2222222222222222,
             "#7201a8"
            ],
            [
             0.3333333333333333,
             "#9c179e"
            ],
            [
             0.4444444444444444,
             "#bd3786"
            ],
            [
             0.5555555555555556,
             "#d8576b"
            ],
            [
             0.6666666666666666,
             "#ed7953"
            ],
            [
             0.7777777777777778,
             "#fb9f3a"
            ],
            [
             0.8888888888888888,
             "#fdca26"
            ],
            [
             1,
             "#f0f921"
            ]
           ]
          },
          "colorway": [
           "#636efa",
           "#EF553B",
           "#00cc96",
           "#ab63fa",
           "#FFA15A",
           "#19d3f3",
           "#FF6692",
           "#B6E880",
           "#FF97FF",
           "#FECB52"
          ],
          "font": {
           "color": "#2a3f5f"
          },
          "geo": {
           "bgcolor": "white",
           "lakecolor": "white",
           "landcolor": "#E5ECF6",
           "showlakes": true,
           "showland": true,
           "subunitcolor": "white"
          },
          "hoverlabel": {
           "align": "left"
          },
          "hovermode": "closest",
          "mapbox": {
           "style": "light"
          },
          "paper_bgcolor": "white",
          "plot_bgcolor": "#E5ECF6",
          "polar": {
           "angularaxis": {
            "gridcolor": "white",
            "linecolor": "white",
            "ticks": ""
           },
           "bgcolor": "#E5ECF6",
           "radialaxis": {
            "gridcolor": "white",
            "linecolor": "white",
            "ticks": ""
           }
          },
          "scene": {
           "xaxis": {
            "backgroundcolor": "#E5ECF6",
            "gridcolor": "white",
            "gridwidth": 2,
            "linecolor": "white",
            "showbackground": true,
            "ticks": "",
            "zerolinecolor": "white"
           },
           "yaxis": {
            "backgroundcolor": "#E5ECF6",
            "gridcolor": "white",
            "gridwidth": 2,
            "linecolor": "white",
            "showbackground": true,
            "ticks": "",
            "zerolinecolor": "white"
           },
           "zaxis": {
            "backgroundcolor": "#E5ECF6",
            "gridcolor": "white",
            "gridwidth": 2,
            "linecolor": "white",
            "showbackground": true,
            "ticks": "",
            "zerolinecolor": "white"
           }
          },
          "shapedefaults": {
           "line": {
            "color": "#2a3f5f"
           }
          },
          "ternary": {
           "aaxis": {
            "gridcolor": "white",
            "linecolor": "white",
            "ticks": ""
           },
           "baxis": {
            "gridcolor": "white",
            "linecolor": "white",
            "ticks": ""
           },
           "bgcolor": "#E5ECF6",
           "caxis": {
            "gridcolor": "white",
            "linecolor": "white",
            "ticks": ""
           }
          },
          "title": {
           "x": 0.05
          },
          "xaxis": {
           "automargin": true,
           "gridcolor": "white",
           "linecolor": "white",
           "ticks": "",
           "title": {
            "standoff": 15
           },
           "zerolinecolor": "white",
           "zerolinewidth": 2
          },
          "yaxis": {
           "automargin": true,
           "gridcolor": "white",
           "linecolor": "white",
           "ticks": "",
           "title": {
            "standoff": 15
           },
           "zerolinecolor": "white",
           "zerolinewidth": 2
          }
         }
        },
        "title": {
         "text": "Resultado Medio de las Simulaciones - Elecciones Presidenciales 2024"
        },
        "width": 1200
       }
      }
     },
     "metadata": {},
     "output_type": "display_data"
    }
   ],
   "source": [
    "# Crear el mapa coroplético usando Plotly Express con códigos de estado\n",
    "fig = px.choropleth(accumulated_pred_state,\n",
    "                    locations='state_code',  # Usar la nueva columna con códigos de estado\n",
    "                    locationmode=\"USA-states\",  # Modo de localización para los códigos de estado\n",
    "                    color='Winner',  # Métrica que deseas visualizar\n",
    "                    hover_name='state_code',  # Mostrar el código del estado en hover\n",
    "                    hover_data={\n",
    "                        'state_code': True,  # Mostrar el código del estado\n",
    "                        \"Per_dem\": ':.2%',  # Mostrar el porcentaje de Biden en formato de porcentaje\n",
    "                        \"Per_gop\": ':.2%'  # Mostrar el porcentaje de Trump en formato de porcentaje\n",
    "                    },\n",
    "                    scope='usa',  # Limitar el mapa a EE.UU.\n",
    "                    color_discrete_map={'dem': '#3951a2', 'gop': '#af2b39'},  # Colores asignados\n",
    "                    labels={f'Winner': 'Ganador {ELECTORAL_YEAR}'},  # Etiqueta para la barra de color\n",
    "                    title=f\"Resultado Medio de las Simulaciones - Elecciones Presidenciales {ELECTORAL_YEAR}\"\n",
    "                   )\n",
    "\n",
    "# # Crear un nuevo rastro para añadir los códigos de los estados en el mapa\n",
    "# fig.add_trace(go.Scattergeo(\n",
    "#     locationmode='USA-states',\n",
    "#     locations=accumulated_pred_state['state_code'],  # Usar los códigos de los estados\n",
    "#     text=accumulated_pred_state['state_code'],  # Mostrar los códigos dentro del mapa\n",
    "#     mode='text',  # Solo texto\n",
    "#     textfont=dict(size=12, color=\"black\"),  # Tamaño y color de la fuente\n",
    "# ))\n",
    "\n",
    "# Ajustar el tamaño del gráfico\n",
    "fig.update_layout(\n",
    "    width=1200,  # Ajustar el ancho del gráfico\n",
    "    height=800   # Ajustar la altura del gráfico\n",
    ")\n",
    "\n",
    "# Ajustar visualización y mostrar el gráfico\n",
    "fig.update_geos(fitbounds=\"locations\", visible=False)  # Ajustar el mapa a las ubicaciones\n",
    "fig.show()\n"
   ]
  },
  {
   "cell_type": "code",
   "execution_count": 66,
   "metadata": {},
   "outputs": [
    {
     "data": {
      "application/vnd.plotly.v1+json": {
       "config": {
        "plotlyServerURL": "https://plot.ly"
       },
       "data": [
        {
         "colorscale": [
          [
           0,
           "#af2b39"
          ],
          [
           1,
           "#af2b39"
          ]
         ],
         "customdata": [
          [
           "AL",
           0.34895643125659404,
           0.6510435687434059
          ],
          [
           "AR",
           0.3491156281328624,
           0.6508843718671383
          ],
          [
           "FL",
           0.4378846141488706,
           0.5621153858511301
          ],
          [
           "ID",
           0.27370539716960696,
           0.7262946028303932
          ],
          [
           "IN",
           0.4067913282269539,
           0.593208671773046
          ],
          [
           "IA",
           0.42804573638050336,
           0.5719542636194966
          ],
          [
           "KS",
           0.4182959082536469,
           0.5817040917463537
          ],
          [
           "KY",
           0.3481262111797122,
           0.6518737888202879
          ],
          [
           "LA",
           0.3960433425525628,
           0.6039566574474379
          ],
          [
           "MS",
           0.3815288023994377,
           0.618471197600562
          ],
          [
           "MO",
           0.40763042225568047,
           0.5923695777443195
          ],
          [
           "MT",
           0.4029623788342935,
           0.5970376211657068
          ],
          [
           "NE",
           0.3962409775029387,
           0.6037590224970618
          ],
          [
           "ND",
           0.31348916645222424,
           0.6865108335477763
          ],
          [
           "OH",
           0.4437205758954929,
           0.5562794241045068
          ],
          [
           "OK",
           0.33410704976727706,
           0.6658929502327231
          ],
          [
           "SC",
           0.4118351539563169,
           0.5881648460436832
          ],
          [
           "SD",
           0.35085254261019627,
           0.6491474573898043
          ],
          [
           "TN",
           0.35587297138831314,
           0.6441270286116875
          ],
          [
           "TX",
           0.4349583170676566,
           0.5650416829323434
          ],
          [
           "UT",
           0.4068911742691184,
           0.5931088257308815
          ],
          [
           "WV",
           0.29641316220125274,
           0.7035868377987468
          ],
          [
           "WY",
           0.26110781045929987,
           0.738892189540699
          ]
         ],
         "geo": "geo",
         "hovertemplate": "<b>%{hovertext}</b><br><br>Status=Safe Republican<br>state_code=%{customdata[0]}<br>Per_dem=%{customdata[1]:.2%}<br>Per_gop=%{customdata[2]:.2%}<extra></extra>",
         "hovertext": [
          "AL",
          "AR",
          "FL",
          "ID",
          "IN",
          "IA",
          "KS",
          "KY",
          "LA",
          "MS",
          "MO",
          "MT",
          "NE",
          "ND",
          "OH",
          "OK",
          "SC",
          "SD",
          "TN",
          "TX",
          "UT",
          "WV",
          "WY"
         ],
         "locationmode": "USA-states",
         "locations": [
          "AL",
          "AR",
          "FL",
          "ID",
          "IN",
          "IA",
          "KS",
          "KY",
          "LA",
          "MS",
          "MO",
          "MT",
          "NE",
          "ND",
          "OH",
          "OK",
          "SC",
          "SD",
          "TN",
          "TX",
          "UT",
          "WV",
          "WY"
         ],
         "name": "Safe Republican",
         "showlegend": true,
         "showscale": false,
         "type": "choropleth",
         "z": [
          1,
          1,
          1,
          1,
          1,
          1,
          1,
          1,
          1,
          1,
          1,
          1,
          1,
          1,
          1,
          1,
          1,
          1,
          1,
          1,
          1,
          1,
          1
         ]
        },
        {
         "colorscale": [
          [
           0,
           "#d56062"
          ],
          [
           1,
           "#d56062"
          ]
         ],
         "customdata": [
          [
           "AZ",
           0.47623964591799833,
           0.5237603540820016
          ],
          [
           "GA",
           0.4843930818534607,
           0.5156069181465396
          ],
          [
           "NV",
           0.48736484483600334,
           0.5126351551639966
          ],
          [
           "NC",
           0.4799930154069615,
           0.5200069845930385
          ]
         ],
         "geo": "geo",
         "hovertemplate": "<b>%{hovertext}</b><br><br>Status=Likely Republican<br>state_code=%{customdata[0]}<br>Per_dem=%{customdata[1]:.2%}<br>Per_gop=%{customdata[2]:.2%}<extra></extra>",
         "hovertext": [
          "AZ",
          "GA",
          "NV",
          "NC"
         ],
         "locationmode": "USA-states",
         "locations": [
          "AZ",
          "GA",
          "NV",
          "NC"
         ],
         "name": "Likely Republican",
         "showlegend": true,
         "showscale": false,
         "type": "choropleth",
         "z": [
          1,
          1,
          1,
          1
         ]
        },
        {
         "colorscale": [
          [
           0,
           "#3951a2"
          ],
          [
           1,
           "#3951a2"
          ]
         ],
         "customdata": [
          [
           "CA",
           0.6001803333307963,
           0.39981966666920304
          ],
          [
           "CO",
           0.5533301504321141,
           0.4466698495678858
          ],
          [
           "CT",
           0.5701748041499993,
           0.4298251958500009
          ],
          [
           "DE",
           0.5706980329742278,
           0.4293019670257713
          ],
          [
           "DC",
           0.9109209725767962,
           0.08907902742320835
          ],
          [
           "HI",
           0.5578648799345832,
           0.44213512006541733
          ],
          [
           "IL",
           0.5506024683045185,
           0.44939753169548097
          ],
          [
           "MD",
           0.6385081303848267,
           0.3614918696151725
          ],
          [
           "MA",
           0.6245749023511444,
           0.37542509764885573
          ],
          [
           "NY",
           0.556634510698357,
           0.4433654893016427
          ],
          [
           "OR",
           0.5647729182102667,
           0.4352270817897333
          ],
          [
           "RI",
           0.5579953759664686,
           0.44200462403353047
          ],
          [
           "VT",
           0.6324558804491955,
           0.3675441195508048
          ],
          [
           "WA",
           0.5896117812835514,
           0.4103882187164482
          ]
         ],
         "geo": "geo",
         "hovertemplate": "<b>%{hovertext}</b><br><br>Status=Safe Democrat<br>state_code=%{customdata[0]}<br>Per_dem=%{customdata[1]:.2%}<br>Per_gop=%{customdata[2]:.2%}<extra></extra>",
         "hovertext": [
          "CA",
          "CO",
          "CT",
          "DE",
          "DC",
          "HI",
          "IL",
          "MD",
          "MA",
          "NY",
          "OR",
          "RI",
          "VT",
          "WA"
         ],
         "locationmode": "USA-states",
         "locations": [
          "CA",
          "CO",
          "CT",
          "DE",
          "DC",
          "HI",
          "IL",
          "MD",
          "MA",
          "NY",
          "OR",
          "RI",
          "VT",
          "WA"
         ],
         "name": "Safe Democrat",
         "showlegend": true,
         "showscale": false,
         "type": "choropleth",
         "z": [
          1,
          1,
          1,
          1,
          1,
          1,
          1,
          1,
          1,
          1,
          1,
          1,
          1,
          1
         ]
        },
        {
         "colorscale": [
          [
           0,
           "#a3cef1"
          ],
          [
           1,
           "#a3cef1"
          ]
         ],
         "customdata": [
          [
           "ME",
           0.5204247180440981,
           0.47957528195590204
          ],
          [
           "MN",
           0.5181473929072001,
           0.48185260709279987
          ],
          [
           "NJ",
           0.5369517059675937,
           0.4630482940324061
          ],
          [
           "VA",
           0.524172070658823,
           0.4758279293411771
          ]
         ],
         "geo": "geo",
         "hovertemplate": "<b>%{hovertext}</b><br><br>Status=Likely Democrat<br>state_code=%{customdata[0]}<br>Per_dem=%{customdata[1]:.2%}<br>Per_gop=%{customdata[2]:.2%}<extra></extra>",
         "hovertext": [
          "ME",
          "MN",
          "NJ",
          "VA"
         ],
         "locationmode": "USA-states",
         "locations": [
          "ME",
          "MN",
          "NJ",
          "VA"
         ],
         "name": "Likely Democrat",
         "showlegend": true,
         "showscale": false,
         "type": "choropleth",
         "z": [
          1,
          1,
          1,
          1
         ]
        },
        {
         "colorscale": [
          [
           0,
           "#b6b164"
          ],
          [
           1,
           "#b6b164"
          ]
         ],
         "customdata": [
          [
           "MI",
           0.4909594315173084,
           0.5090405684826916
          ],
          [
           "NH",
           0.5078892827762697,
           0.49211071722373034
          ],
          [
           "NM",
           0.5122584999155788,
           0.48774150008442113
          ],
          [
           "PA",
           0.49050527501011976,
           0.5094947249898802
          ],
          [
           "WI",
           0.49126587358018176,
           0.5087341264198182
          ]
         ],
         "geo": "geo",
         "hovertemplate": "<b>%{hovertext}</b><br><br>Status=Toss-Up<br>state_code=%{customdata[0]}<br>Per_dem=%{customdata[1]:.2%}<br>Per_gop=%{customdata[2]:.2%}<extra></extra>",
         "hovertext": [
          "MI",
          "NH",
          "NM",
          "PA",
          "WI"
         ],
         "locationmode": "USA-states",
         "locations": [
          "MI",
          "NH",
          "NM",
          "PA",
          "WI"
         ],
         "name": "Toss-Up",
         "showlegend": true,
         "showscale": false,
         "type": "choropleth",
         "z": [
          1,
          1,
          1,
          1,
          1
         ]
        }
       ],
       "layout": {
        "geo": {
         "center": {},
         "domain": {
          "x": [
           0,
           1
          ],
          "y": [
           0,
           1
          ]
         },
         "fitbounds": "locations",
         "scope": "usa",
         "visible": false
        },
        "height": 800,
        "legend": {
         "title": {
          "text": "Status"
         },
         "tracegroupgap": 0
        },
        "template": {
         "data": {
          "bar": [
           {
            "error_x": {
             "color": "#2a3f5f"
            },
            "error_y": {
             "color": "#2a3f5f"
            },
            "marker": {
             "line": {
              "color": "#E5ECF6",
              "width": 0.5
             },
             "pattern": {
              "fillmode": "overlay",
              "size": 10,
              "solidity": 0.2
             }
            },
            "type": "bar"
           }
          ],
          "barpolar": [
           {
            "marker": {
             "line": {
              "color": "#E5ECF6",
              "width": 0.5
             },
             "pattern": {
              "fillmode": "overlay",
              "size": 10,
              "solidity": 0.2
             }
            },
            "type": "barpolar"
           }
          ],
          "carpet": [
           {
            "aaxis": {
             "endlinecolor": "#2a3f5f",
             "gridcolor": "white",
             "linecolor": "white",
             "minorgridcolor": "white",
             "startlinecolor": "#2a3f5f"
            },
            "baxis": {
             "endlinecolor": "#2a3f5f",
             "gridcolor": "white",
             "linecolor": "white",
             "minorgridcolor": "white",
             "startlinecolor": "#2a3f5f"
            },
            "type": "carpet"
           }
          ],
          "choropleth": [
           {
            "colorbar": {
             "outlinewidth": 0,
             "ticks": ""
            },
            "type": "choropleth"
           }
          ],
          "contour": [
           {
            "colorbar": {
             "outlinewidth": 0,
             "ticks": ""
            },
            "colorscale": [
             [
              0,
              "#0d0887"
             ],
             [
              0.1111111111111111,
              "#46039f"
             ],
             [
              0.2222222222222222,
              "#7201a8"
             ],
             [
              0.3333333333333333,
              "#9c179e"
             ],
             [
              0.4444444444444444,
              "#bd3786"
             ],
             [
              0.5555555555555556,
              "#d8576b"
             ],
             [
              0.6666666666666666,
              "#ed7953"
             ],
             [
              0.7777777777777778,
              "#fb9f3a"
             ],
             [
              0.8888888888888888,
              "#fdca26"
             ],
             [
              1,
              "#f0f921"
             ]
            ],
            "type": "contour"
           }
          ],
          "contourcarpet": [
           {
            "colorbar": {
             "outlinewidth": 0,
             "ticks": ""
            },
            "type": "contourcarpet"
           }
          ],
          "heatmap": [
           {
            "colorbar": {
             "outlinewidth": 0,
             "ticks": ""
            },
            "colorscale": [
             [
              0,
              "#0d0887"
             ],
             [
              0.1111111111111111,
              "#46039f"
             ],
             [
              0.2222222222222222,
              "#7201a8"
             ],
             [
              0.3333333333333333,
              "#9c179e"
             ],
             [
              0.4444444444444444,
              "#bd3786"
             ],
             [
              0.5555555555555556,
              "#d8576b"
             ],
             [
              0.6666666666666666,
              "#ed7953"
             ],
             [
              0.7777777777777778,
              "#fb9f3a"
             ],
             [
              0.8888888888888888,
              "#fdca26"
             ],
             [
              1,
              "#f0f921"
             ]
            ],
            "type": "heatmap"
           }
          ],
          "histogram": [
           {
            "marker": {
             "pattern": {
              "fillmode": "overlay",
              "size": 10,
              "solidity": 0.2
             }
            },
            "type": "histogram"
           }
          ],
          "histogram2d": [
           {
            "colorbar": {
             "outlinewidth": 0,
             "ticks": ""
            },
            "colorscale": [
             [
              0,
              "#0d0887"
             ],
             [
              0.1111111111111111,
              "#46039f"
             ],
             [
              0.2222222222222222,
              "#7201a8"
             ],
             [
              0.3333333333333333,
              "#9c179e"
             ],
             [
              0.4444444444444444,
              "#bd3786"
             ],
             [
              0.5555555555555556,
              "#d8576b"
             ],
             [
              0.6666666666666666,
              "#ed7953"
             ],
             [
              0.7777777777777778,
              "#fb9f3a"
             ],
             [
              0.8888888888888888,
              "#fdca26"
             ],
             [
              1,
              "#f0f921"
             ]
            ],
            "type": "histogram2d"
           }
          ],
          "histogram2dcontour": [
           {
            "colorbar": {
             "outlinewidth": 0,
             "ticks": ""
            },
            "colorscale": [
             [
              0,
              "#0d0887"
             ],
             [
              0.1111111111111111,
              "#46039f"
             ],
             [
              0.2222222222222222,
              "#7201a8"
             ],
             [
              0.3333333333333333,
              "#9c179e"
             ],
             [
              0.4444444444444444,
              "#bd3786"
             ],
             [
              0.5555555555555556,
              "#d8576b"
             ],
             [
              0.6666666666666666,
              "#ed7953"
             ],
             [
              0.7777777777777778,
              "#fb9f3a"
             ],
             [
              0.8888888888888888,
              "#fdca26"
             ],
             [
              1,
              "#f0f921"
             ]
            ],
            "type": "histogram2dcontour"
           }
          ],
          "mesh3d": [
           {
            "colorbar": {
             "outlinewidth": 0,
             "ticks": ""
            },
            "type": "mesh3d"
           }
          ],
          "parcoords": [
           {
            "line": {
             "colorbar": {
              "outlinewidth": 0,
              "ticks": ""
             }
            },
            "type": "parcoords"
           }
          ],
          "pie": [
           {
            "automargin": true,
            "type": "pie"
           }
          ],
          "scatter": [
           {
            "fillpattern": {
             "fillmode": "overlay",
             "size": 10,
             "solidity": 0.2
            },
            "type": "scatter"
           }
          ],
          "scatter3d": [
           {
            "line": {
             "colorbar": {
              "outlinewidth": 0,
              "ticks": ""
             }
            },
            "marker": {
             "colorbar": {
              "outlinewidth": 0,
              "ticks": ""
             }
            },
            "type": "scatter3d"
           }
          ],
          "scattercarpet": [
           {
            "marker": {
             "colorbar": {
              "outlinewidth": 0,
              "ticks": ""
             }
            },
            "type": "scattercarpet"
           }
          ],
          "scattergeo": [
           {
            "marker": {
             "colorbar": {
              "outlinewidth": 0,
              "ticks": ""
             }
            },
            "type": "scattergeo"
           }
          ],
          "scattergl": [
           {
            "marker": {
             "colorbar": {
              "outlinewidth": 0,
              "ticks": ""
             }
            },
            "type": "scattergl"
           }
          ],
          "scattermap": [
           {
            "marker": {
             "colorbar": {
              "outlinewidth": 0,
              "ticks": ""
             }
            },
            "type": "scattermap"
           }
          ],
          "scattermapbox": [
           {
            "marker": {
             "colorbar": {
              "outlinewidth": 0,
              "ticks": ""
             }
            },
            "type": "scattermapbox"
           }
          ],
          "scatterpolar": [
           {
            "marker": {
             "colorbar": {
              "outlinewidth": 0,
              "ticks": ""
             }
            },
            "type": "scatterpolar"
           }
          ],
          "scatterpolargl": [
           {
            "marker": {
             "colorbar": {
              "outlinewidth": 0,
              "ticks": ""
             }
            },
            "type": "scatterpolargl"
           }
          ],
          "scatterternary": [
           {
            "marker": {
             "colorbar": {
              "outlinewidth": 0,
              "ticks": ""
             }
            },
            "type": "scatterternary"
           }
          ],
          "surface": [
           {
            "colorbar": {
             "outlinewidth": 0,
             "ticks": ""
            },
            "colorscale": [
             [
              0,
              "#0d0887"
             ],
             [
              0.1111111111111111,
              "#46039f"
             ],
             [
              0.2222222222222222,
              "#7201a8"
             ],
             [
              0.3333333333333333,
              "#9c179e"
             ],
             [
              0.4444444444444444,
              "#bd3786"
             ],
             [
              0.5555555555555556,
              "#d8576b"
             ],
             [
              0.6666666666666666,
              "#ed7953"
             ],
             [
              0.7777777777777778,
              "#fb9f3a"
             ],
             [
              0.8888888888888888,
              "#fdca26"
             ],
             [
              1,
              "#f0f921"
             ]
            ],
            "type": "surface"
           }
          ],
          "table": [
           {
            "cells": {
             "fill": {
              "color": "#EBF0F8"
             },
             "line": {
              "color": "white"
             }
            },
            "header": {
             "fill": {
              "color": "#C8D4E3"
             },
             "line": {
              "color": "white"
             }
            },
            "type": "table"
           }
          ]
         },
         "layout": {
          "annotationdefaults": {
           "arrowcolor": "#2a3f5f",
           "arrowhead": 0,
           "arrowwidth": 1
          },
          "autotypenumbers": "strict",
          "coloraxis": {
           "colorbar": {
            "outlinewidth": 0,
            "ticks": ""
           }
          },
          "colorscale": {
           "diverging": [
            [
             0,
             "#8e0152"
            ],
            [
             0.1,
             "#c51b7d"
            ],
            [
             0.2,
             "#de77ae"
            ],
            [
             0.3,
             "#f1b6da"
            ],
            [
             0.4,
             "#fde0ef"
            ],
            [
             0.5,
             "#f7f7f7"
            ],
            [
             0.6,
             "#e6f5d0"
            ],
            [
             0.7,
             "#b8e186"
            ],
            [
             0.8,
             "#7fbc41"
            ],
            [
             0.9,
             "#4d9221"
            ],
            [
             1,
             "#276419"
            ]
           ],
           "sequential": [
            [
             0,
             "#0d0887"
            ],
            [
             0.1111111111111111,
             "#46039f"
            ],
            [
             0.2222222222222222,
             "#7201a8"
            ],
            [
             0.3333333333333333,
             "#9c179e"
            ],
            [
             0.4444444444444444,
             "#bd3786"
            ],
            [
             0.5555555555555556,
             "#d8576b"
            ],
            [
             0.6666666666666666,
             "#ed7953"
            ],
            [
             0.7777777777777778,
             "#fb9f3a"
            ],
            [
             0.8888888888888888,
             "#fdca26"
            ],
            [
             1,
             "#f0f921"
            ]
           ],
           "sequentialminus": [
            [
             0,
             "#0d0887"
            ],
            [
             0.1111111111111111,
             "#46039f"
            ],
            [
             0.2222222222222222,
             "#7201a8"
            ],
            [
             0.3333333333333333,
             "#9c179e"
            ],
            [
             0.4444444444444444,
             "#bd3786"
            ],
            [
             0.5555555555555556,
             "#d8576b"
            ],
            [
             0.6666666666666666,
             "#ed7953"
            ],
            [
             0.7777777777777778,
             "#fb9f3a"
            ],
            [
             0.8888888888888888,
             "#fdca26"
            ],
            [
             1,
             "#f0f921"
            ]
           ]
          },
          "colorway": [
           "#636efa",
           "#EF553B",
           "#00cc96",
           "#ab63fa",
           "#FFA15A",
           "#19d3f3",
           "#FF6692",
           "#B6E880",
           "#FF97FF",
           "#FECB52"
          ],
          "font": {
           "color": "#2a3f5f"
          },
          "geo": {
           "bgcolor": "white",
           "lakecolor": "white",
           "landcolor": "#E5ECF6",
           "showlakes": true,
           "showland": true,
           "subunitcolor": "white"
          },
          "hoverlabel": {
           "align": "left"
          },
          "hovermode": "closest",
          "mapbox": {
           "style": "light"
          },
          "paper_bgcolor": "white",
          "plot_bgcolor": "#E5ECF6",
          "polar": {
           "angularaxis": {
            "gridcolor": "white",
            "linecolor": "white",
            "ticks": ""
           },
           "bgcolor": "#E5ECF6",
           "radialaxis": {
            "gridcolor": "white",
            "linecolor": "white",
            "ticks": ""
           }
          },
          "scene": {
           "xaxis": {
            "backgroundcolor": "#E5ECF6",
            "gridcolor": "white",
            "gridwidth": 2,
            "linecolor": "white",
            "showbackground": true,
            "ticks": "",
            "zerolinecolor": "white"
           },
           "yaxis": {
            "backgroundcolor": "#E5ECF6",
            "gridcolor": "white",
            "gridwidth": 2,
            "linecolor": "white",
            "showbackground": true,
            "ticks": "",
            "zerolinecolor": "white"
           },
           "zaxis": {
            "backgroundcolor": "#E5ECF6",
            "gridcolor": "white",
            "gridwidth": 2,
            "linecolor": "white",
            "showbackground": true,
            "ticks": "",
            "zerolinecolor": "white"
           }
          },
          "shapedefaults": {
           "line": {
            "color": "#2a3f5f"
           }
          },
          "ternary": {
           "aaxis": {
            "gridcolor": "white",
            "linecolor": "white",
            "ticks": ""
           },
           "baxis": {
            "gridcolor": "white",
            "linecolor": "white",
            "ticks": ""
           },
           "bgcolor": "#E5ECF6",
           "caxis": {
            "gridcolor": "white",
            "linecolor": "white",
            "ticks": ""
           }
          },
          "title": {
           "x": 0.05
          },
          "xaxis": {
           "automargin": true,
           "gridcolor": "white",
           "linecolor": "white",
           "ticks": "",
           "title": {
            "standoff": 15
           },
           "zerolinecolor": "white",
           "zerolinewidth": 2
          },
          "yaxis": {
           "automargin": true,
           "gridcolor": "white",
           "linecolor": "white",
           "ticks": "",
           "title": {
            "standoff": 15
           },
           "zerolinecolor": "white",
           "zerolinewidth": 2
          }
         }
        },
        "title": {
         "text": "Status de los Estados en las Simulaciones - Elecciones Presidenciales 2024"
        },
        "width": 1200
       }
      }
     },
     "metadata": {},
     "output_type": "display_data"
    }
   ],
   "source": [
    "# Crear el mapa coroplético usando Plotly Express con códigos de estado\n",
    "fig = px.choropleth(accumulated_pred_state,\n",
    "                    locations='state_code',  # Usar la nueva columna con códigos de estado\n",
    "                    locationmode=\"USA-states\",  # Modo de localización para los códigos de estado\n",
    "                    color='Status',  # Métrica que deseas visualizar\n",
    "                    hover_name='state_code',  # Mostrar el código del estado en hover\n",
    "                    hover_data={\n",
    "                        'state_code': True,  # Mostrar el código del estado\n",
    "                        \"Per_dem\": ':.2%',  # Mostrar el porcentaje de Biden en formato de porcentaje\n",
    "                        \"Per_gop\": ':.2%'  # Mostrar el porcentaje de Trump en formato de porcentaje\n",
    "                    },\n",
    "                    scope='usa',  # Limitar el mapa a EE.UU.\n",
    "                    color_discrete_map={'Safe Democrat': '#3951a2', \n",
    "                                        'Likely Democrat': '#a3cef1', \n",
    "                                        'Toss-Up': '#b6b164', \n",
    "                                        'Likely Republican': '#d56062', \n",
    "                                        'Safe Republican': '#af2b39'},\n",
    "                    labels={f'Winner': 'Ganador {ELECTORAL_YEAR}'},  # Etiqueta para la barra de color\n",
    "                    title=f\"Status de los Estados en las Simulaciones - Elecciones Presidenciales {ELECTORAL_YEAR}\"\n",
    "                   )\n",
    "\n",
    "# # Crear un nuevo rastro para añadir los códigos de los estados en el mapa\n",
    "# fig.add_trace(go.Scattergeo(\n",
    "#     locationmode='USA-states',\n",
    "#     locations=accumulated_pred_state['state_code'],  # Usar los códigos de los estados\n",
    "#     text=accumulated_pred_state['state_code'],  # Mostrar los códigos dentro del mapa\n",
    "#     mode='text',  # Solo texto\n",
    "#     textfont=dict(size=12, color=\"black\"),  # Tamaño y color de la fuente\n",
    "# ))\n",
    "\n",
    "# Ajustar el tamaño del gráfico\n",
    "fig.update_layout(\n",
    "    width=1200,  # Ajustar el ancho del gráfico\n",
    "    height=800   # Ajustar la altura del gráfico\n",
    ")\n",
    "\n",
    "# Ajustar visualización y mostrar el gráfico\n",
    "fig.update_geos(fitbounds=\"locations\", visible=False)  # Ajustar el mapa a las ubicaciones\n",
    "fig.show()\n"
   ]
  },
  {
   "cell_type": "markdown",
   "metadata": {},
   "source": [
    "### Real"
   ]
  },
  {
   "cell_type": "code",
   "execution_count": 67,
   "metadata": {},
   "outputs": [
    {
     "data": {
      "application/vnd.plotly.v1+json": {
       "config": {
        "plotlyServerURL": "https://plot.ly"
       },
       "data": [
        {
         "colorscale": [
          [
           0,
           "#3951a2"
          ],
          [
           1,
           "#3951a2"
          ]
         ],
         "customdata": [
          [
           "CA",
           0.584785371015076,
           0.38340004397783556
          ],
          [
           "NY",
           0.5610494080655605,
           0.43882688965670835
          ],
          [
           "IL",
           0.5485488331593592,
           0.437063364201412
          ],
          [
           "NJ",
           0.5260554446642313,
           0.45380472000377203
          ],
          [
           "VA",
           0.5210449995604791,
           0.46282626040171543
          ],
          [
           "WA",
           0.5758100559375469,
           0.39289030317560647
          ],
          [
           "MA",
           0.6159109224978645,
           0.36193439921281473
          ],
          [
           "MN",
           0.5120235626113171,
           0.46797443271625405
          ],
          [
           "MD",
           0.632756473980336,
           0.3419642426609382
          ],
          [
           "CO",
           0.54159441632431,
           0.4316815492186621
          ],
          [
           "OR",
           0.551618417341865,
           0.4179209543108284
          ],
          [
           "CT",
           0.5641700631643359,
           0.41907748336725564
          ],
          [
           "NM",
           0.5097669104445393,
           0.47279875952339584
          ],
          [
           "RI",
           0.5481247093552235,
           0.43039082876726176
          ],
          [
           "NH",
           0.5079276950322704,
           0.4812906397238419
          ],
          [
           "ME",
           0.5193896055953234,
           0.45929108832621324
          ],
          [
           "HI",
           0.5457527219000049,
           0.4318659587759308
          ],
          [
           "VT",
           0.6321312964332095,
           0.3384117384815181
          ],
          [
           "DE",
           0.5662687098028716,
           0.4189022018890085
          ],
          [
           "DC",
           0.9114993945085634,
           0.05081185280379606
          ]
         ],
         "geo": "geo",
         "hovertemplate": "<b>%{hovertext}</b><br><br>Ganador {ELECTORAL_YEAR}=dem<br>state_code=%{customdata[0]}<br>Per_dem=%{customdata[1]:.2%}<br>Per_gop=%{customdata[2]:.2%}<extra></extra>",
         "hovertext": [
          "CA",
          "NY",
          "IL",
          "NJ",
          "VA",
          "WA",
          "MA",
          "MN",
          "MD",
          "CO",
          "OR",
          "CT",
          "NM",
          "RI",
          "NH",
          "ME",
          "HI",
          "VT",
          "DE",
          "DC"
         ],
         "locationmode": "USA-states",
         "locations": [
          "CA",
          "NY",
          "IL",
          "NJ",
          "VA",
          "WA",
          "MA",
          "MN",
          "MD",
          "CO",
          "OR",
          "CT",
          "NM",
          "RI",
          "NH",
          "ME",
          "HI",
          "VT",
          "DE",
          "DC"
         ],
         "name": "dem",
         "showlegend": true,
         "showscale": false,
         "type": "choropleth",
         "z": [
          1,
          1,
          1,
          1,
          1,
          1,
          1,
          1,
          1,
          1,
          1,
          1,
          1,
          1,
          1,
          1,
          1,
          1,
          1,
          1
         ]
        },
        {
         "colorscale": [
          [
           0,
           "#af2b39"
          ],
          [
           1,
           "#af2b39"
          ]
         ],
         "customdata": [
          [
           "TX",
           0.4252045325029189,
           0.5614925390471142
          ],
          [
           "FL",
           0.42989101713151834,
           0.5608939861369304
          ],
          [
           "PA",
           0.48854866544038833,
           0.5017526525446133
          ],
          [
           "OH",
           0.43974975711147735,
           0.5513529533091521
          ],
          [
           "MI",
           0.4832662658977005,
           0.49742279596190375
          ],
          [
           "GA",
           0.4853322265495909,
           0.5072558398048627
          ],
          [
           "NC",
           0.47841831998812434,
           0.5099821686307404
          ],
          [
           "TN",
           0.3440965068645345,
           0.6426132527577774
          ],
          [
           "IN",
           0.3972597351738574,
           0.5857897500004275
          ],
          [
           "AZ",
           0.46701417010319773,
           0.5223002024890546
          ],
          [
           "WI",
           0.4889349382850697,
           0.4967232446559195
          ],
          [
           "MO",
           0.40105233718146527,
           0.5852063257989881
          ],
          [
           "SC",
           0.4040831768463656,
           0.5817941780936636
          ],
          [
           "AL",
           0.34232779282665116,
           0.64822155408376
          ],
          [
           "LA",
           0.3870301730859957,
           0.5969917149804178
          ],
          [
           "KY",
           0.33833638282630135,
           0.6463876181339782
          ],
          [
           "OK",
           0.3191776542296805,
           0.6613813725740226
          ],
          [
           "UT",
           0.3828794368122298,
           0.5891164361520368
          ],
          [
           "NV",
           0.47588675608692976,
           0.5053340626647362
          ],
          [
           "MS",
           0.3777654010310573,
           0.611127329542026
          ],
          [
           "KS",
           0.40922655943595687,
           0.5728307795414144
          ],
          [
           "IA",
           0.426702484646207,
           0.5596601512917688
          ],
          [
           "AR",
           0.3355990989924544,
           0.6419687217800987
          ],
          [
           "WV",
           0.28295970074709176,
           0.6974694608036959
          ],
          [
           "NE",
           0.39001878900726833,
           0.5967475361883888
          ],
          [
           "ID",
           0.24949642566824462,
           0.7242026490699565
          ],
          [
           "WY",
           0.2458888522560049,
           0.7386114171297152
          ],
          [
           "SD",
           0.3406374373218237,
           0.6369783462658136
          ],
          [
           "ND",
           0.30351025918357044,
           0.6798140830248447
          ],
          [
           "MT",
           0.3834020404458958,
           0.5855742862609213
          ]
         ],
         "geo": "geo",
         "hovertemplate": "<b>%{hovertext}</b><br><br>Ganador {ELECTORAL_YEAR}=gop<br>state_code=%{customdata[0]}<br>Per_dem=%{customdata[1]:.2%}<br>Per_gop=%{customdata[2]:.2%}<extra></extra>",
         "hovertext": [
          "TX",
          "FL",
          "PA",
          "OH",
          "MI",
          "GA",
          "NC",
          "TN",
          "IN",
          "AZ",
          "WI",
          "MO",
          "SC",
          "AL",
          "LA",
          "KY",
          "OK",
          "UT",
          "NV",
          "MS",
          "KS",
          "IA",
          "AR",
          "WV",
          "NE",
          "ID",
          "WY",
          "SD",
          "ND",
          "MT"
         ],
         "locationmode": "USA-states",
         "locations": [
          "TX",
          "FL",
          "PA",
          "OH",
          "MI",
          "GA",
          "NC",
          "TN",
          "IN",
          "AZ",
          "WI",
          "MO",
          "SC",
          "AL",
          "LA",
          "KY",
          "OK",
          "UT",
          "NV",
          "MS",
          "KS",
          "IA",
          "AR",
          "WV",
          "NE",
          "ID",
          "WY",
          "SD",
          "ND",
          "MT"
         ],
         "name": "gop",
         "showlegend": true,
         "showscale": false,
         "type": "choropleth",
         "z": [
          1,
          1,
          1,
          1,
          1,
          1,
          1,
          1,
          1,
          1,
          1,
          1,
          1,
          1,
          1,
          1,
          1,
          1,
          1,
          1,
          1,
          1,
          1,
          1,
          1,
          1,
          1,
          1,
          1,
          1
         ]
        }
       ],
       "layout": {
        "geo": {
         "center": {},
         "domain": {
          "x": [
           0,
           1
          ],
          "y": [
           0,
           1
          ]
         },
         "fitbounds": "locations",
         "scope": "usa",
         "visible": false
        },
        "height": 800,
        "legend": {
         "title": {
          "text": "Ganador {ELECTORAL_YEAR}"
         },
         "tracegroupgap": 0
        },
        "template": {
         "data": {
          "bar": [
           {
            "error_x": {
             "color": "#2a3f5f"
            },
            "error_y": {
             "color": "#2a3f5f"
            },
            "marker": {
             "line": {
              "color": "#E5ECF6",
              "width": 0.5
             },
             "pattern": {
              "fillmode": "overlay",
              "size": 10,
              "solidity": 0.2
             }
            },
            "type": "bar"
           }
          ],
          "barpolar": [
           {
            "marker": {
             "line": {
              "color": "#E5ECF6",
              "width": 0.5
             },
             "pattern": {
              "fillmode": "overlay",
              "size": 10,
              "solidity": 0.2
             }
            },
            "type": "barpolar"
           }
          ],
          "carpet": [
           {
            "aaxis": {
             "endlinecolor": "#2a3f5f",
             "gridcolor": "white",
             "linecolor": "white",
             "minorgridcolor": "white",
             "startlinecolor": "#2a3f5f"
            },
            "baxis": {
             "endlinecolor": "#2a3f5f",
             "gridcolor": "white",
             "linecolor": "white",
             "minorgridcolor": "white",
             "startlinecolor": "#2a3f5f"
            },
            "type": "carpet"
           }
          ],
          "choropleth": [
           {
            "colorbar": {
             "outlinewidth": 0,
             "ticks": ""
            },
            "type": "choropleth"
           }
          ],
          "contour": [
           {
            "colorbar": {
             "outlinewidth": 0,
             "ticks": ""
            },
            "colorscale": [
             [
              0,
              "#0d0887"
             ],
             [
              0.1111111111111111,
              "#46039f"
             ],
             [
              0.2222222222222222,
              "#7201a8"
             ],
             [
              0.3333333333333333,
              "#9c179e"
             ],
             [
              0.4444444444444444,
              "#bd3786"
             ],
             [
              0.5555555555555556,
              "#d8576b"
             ],
             [
              0.6666666666666666,
              "#ed7953"
             ],
             [
              0.7777777777777778,
              "#fb9f3a"
             ],
             [
              0.8888888888888888,
              "#fdca26"
             ],
             [
              1,
              "#f0f921"
             ]
            ],
            "type": "contour"
           }
          ],
          "contourcarpet": [
           {
            "colorbar": {
             "outlinewidth": 0,
             "ticks": ""
            },
            "type": "contourcarpet"
           }
          ],
          "heatmap": [
           {
            "colorbar": {
             "outlinewidth": 0,
             "ticks": ""
            },
            "colorscale": [
             [
              0,
              "#0d0887"
             ],
             [
              0.1111111111111111,
              "#46039f"
             ],
             [
              0.2222222222222222,
              "#7201a8"
             ],
             [
              0.3333333333333333,
              "#9c179e"
             ],
             [
              0.4444444444444444,
              "#bd3786"
             ],
             [
              0.5555555555555556,
              "#d8576b"
             ],
             [
              0.6666666666666666,
              "#ed7953"
             ],
             [
              0.7777777777777778,
              "#fb9f3a"
             ],
             [
              0.8888888888888888,
              "#fdca26"
             ],
             [
              1,
              "#f0f921"
             ]
            ],
            "type": "heatmap"
           }
          ],
          "histogram": [
           {
            "marker": {
             "pattern": {
              "fillmode": "overlay",
              "size": 10,
              "solidity": 0.2
             }
            },
            "type": "histogram"
           }
          ],
          "histogram2d": [
           {
            "colorbar": {
             "outlinewidth": 0,
             "ticks": ""
            },
            "colorscale": [
             [
              0,
              "#0d0887"
             ],
             [
              0.1111111111111111,
              "#46039f"
             ],
             [
              0.2222222222222222,
              "#7201a8"
             ],
             [
              0.3333333333333333,
              "#9c179e"
             ],
             [
              0.4444444444444444,
              "#bd3786"
             ],
             [
              0.5555555555555556,
              "#d8576b"
             ],
             [
              0.6666666666666666,
              "#ed7953"
             ],
             [
              0.7777777777777778,
              "#fb9f3a"
             ],
             [
              0.8888888888888888,
              "#fdca26"
             ],
             [
              1,
              "#f0f921"
             ]
            ],
            "type": "histogram2d"
           }
          ],
          "histogram2dcontour": [
           {
            "colorbar": {
             "outlinewidth": 0,
             "ticks": ""
            },
            "colorscale": [
             [
              0,
              "#0d0887"
             ],
             [
              0.1111111111111111,
              "#46039f"
             ],
             [
              0.2222222222222222,
              "#7201a8"
             ],
             [
              0.3333333333333333,
              "#9c179e"
             ],
             [
              0.4444444444444444,
              "#bd3786"
             ],
             [
              0.5555555555555556,
              "#d8576b"
             ],
             [
              0.6666666666666666,
              "#ed7953"
             ],
             [
              0.7777777777777778,
              "#fb9f3a"
             ],
             [
              0.8888888888888888,
              "#fdca26"
             ],
             [
              1,
              "#f0f921"
             ]
            ],
            "type": "histogram2dcontour"
           }
          ],
          "mesh3d": [
           {
            "colorbar": {
             "outlinewidth": 0,
             "ticks": ""
            },
            "type": "mesh3d"
           }
          ],
          "parcoords": [
           {
            "line": {
             "colorbar": {
              "outlinewidth": 0,
              "ticks": ""
             }
            },
            "type": "parcoords"
           }
          ],
          "pie": [
           {
            "automargin": true,
            "type": "pie"
           }
          ],
          "scatter": [
           {
            "fillpattern": {
             "fillmode": "overlay",
             "size": 10,
             "solidity": 0.2
            },
            "type": "scatter"
           }
          ],
          "scatter3d": [
           {
            "line": {
             "colorbar": {
              "outlinewidth": 0,
              "ticks": ""
             }
            },
            "marker": {
             "colorbar": {
              "outlinewidth": 0,
              "ticks": ""
             }
            },
            "type": "scatter3d"
           }
          ],
          "scattercarpet": [
           {
            "marker": {
             "colorbar": {
              "outlinewidth": 0,
              "ticks": ""
             }
            },
            "type": "scattercarpet"
           }
          ],
          "scattergeo": [
           {
            "marker": {
             "colorbar": {
              "outlinewidth": 0,
              "ticks": ""
             }
            },
            "type": "scattergeo"
           }
          ],
          "scattergl": [
           {
            "marker": {
             "colorbar": {
              "outlinewidth": 0,
              "ticks": ""
             }
            },
            "type": "scattergl"
           }
          ],
          "scattermap": [
           {
            "marker": {
             "colorbar": {
              "outlinewidth": 0,
              "ticks": ""
             }
            },
            "type": "scattermap"
           }
          ],
          "scattermapbox": [
           {
            "marker": {
             "colorbar": {
              "outlinewidth": 0,
              "ticks": ""
             }
            },
            "type": "scattermapbox"
           }
          ],
          "scatterpolar": [
           {
            "marker": {
             "colorbar": {
              "outlinewidth": 0,
              "ticks": ""
             }
            },
            "type": "scatterpolar"
           }
          ],
          "scatterpolargl": [
           {
            "marker": {
             "colorbar": {
              "outlinewidth": 0,
              "ticks": ""
             }
            },
            "type": "scatterpolargl"
           }
          ],
          "scatterternary": [
           {
            "marker": {
             "colorbar": {
              "outlinewidth": 0,
              "ticks": ""
             }
            },
            "type": "scatterternary"
           }
          ],
          "surface": [
           {
            "colorbar": {
             "outlinewidth": 0,
             "ticks": ""
            },
            "colorscale": [
             [
              0,
              "#0d0887"
             ],
             [
              0.1111111111111111,
              "#46039f"
             ],
             [
              0.2222222222222222,
              "#7201a8"
             ],
             [
              0.3333333333333333,
              "#9c179e"
             ],
             [
              0.4444444444444444,
              "#bd3786"
             ],
             [
              0.5555555555555556,
              "#d8576b"
             ],
             [
              0.6666666666666666,
              "#ed7953"
             ],
             [
              0.7777777777777778,
              "#fb9f3a"
             ],
             [
              0.8888888888888888,
              "#fdca26"
             ],
             [
              1,
              "#f0f921"
             ]
            ],
            "type": "surface"
           }
          ],
          "table": [
           {
            "cells": {
             "fill": {
              "color": "#EBF0F8"
             },
             "line": {
              "color": "white"
             }
            },
            "header": {
             "fill": {
              "color": "#C8D4E3"
             },
             "line": {
              "color": "white"
             }
            },
            "type": "table"
           }
          ]
         },
         "layout": {
          "annotationdefaults": {
           "arrowcolor": "#2a3f5f",
           "arrowhead": 0,
           "arrowwidth": 1
          },
          "autotypenumbers": "strict",
          "coloraxis": {
           "colorbar": {
            "outlinewidth": 0,
            "ticks": ""
           }
          },
          "colorscale": {
           "diverging": [
            [
             0,
             "#8e0152"
            ],
            [
             0.1,
             "#c51b7d"
            ],
            [
             0.2,
             "#de77ae"
            ],
            [
             0.3,
             "#f1b6da"
            ],
            [
             0.4,
             "#fde0ef"
            ],
            [
             0.5,
             "#f7f7f7"
            ],
            [
             0.6,
             "#e6f5d0"
            ],
            [
             0.7,
             "#b8e186"
            ],
            [
             0.8,
             "#7fbc41"
            ],
            [
             0.9,
             "#4d9221"
            ],
            [
             1,
             "#276419"
            ]
           ],
           "sequential": [
            [
             0,
             "#0d0887"
            ],
            [
             0.1111111111111111,
             "#46039f"
            ],
            [
             0.2222222222222222,
             "#7201a8"
            ],
            [
             0.3333333333333333,
             "#9c179e"
            ],
            [
             0.4444444444444444,
             "#bd3786"
            ],
            [
             0.5555555555555556,
             "#d8576b"
            ],
            [
             0.6666666666666666,
             "#ed7953"
            ],
            [
             0.7777777777777778,
             "#fb9f3a"
            ],
            [
             0.8888888888888888,
             "#fdca26"
            ],
            [
             1,
             "#f0f921"
            ]
           ],
           "sequentialminus": [
            [
             0,
             "#0d0887"
            ],
            [
             0.1111111111111111,
             "#46039f"
            ],
            [
             0.2222222222222222,
             "#7201a8"
            ],
            [
             0.3333333333333333,
             "#9c179e"
            ],
            [
             0.4444444444444444,
             "#bd3786"
            ],
            [
             0.5555555555555556,
             "#d8576b"
            ],
            [
             0.6666666666666666,
             "#ed7953"
            ],
            [
             0.7777777777777778,
             "#fb9f3a"
            ],
            [
             0.8888888888888888,
             "#fdca26"
            ],
            [
             1,
             "#f0f921"
            ]
           ]
          },
          "colorway": [
           "#636efa",
           "#EF553B",
           "#00cc96",
           "#ab63fa",
           "#FFA15A",
           "#19d3f3",
           "#FF6692",
           "#B6E880",
           "#FF97FF",
           "#FECB52"
          ],
          "font": {
           "color": "#2a3f5f"
          },
          "geo": {
           "bgcolor": "white",
           "lakecolor": "white",
           "landcolor": "#E5ECF6",
           "showlakes": true,
           "showland": true,
           "subunitcolor": "white"
          },
          "hoverlabel": {
           "align": "left"
          },
          "hovermode": "closest",
          "mapbox": {
           "style": "light"
          },
          "paper_bgcolor": "white",
          "plot_bgcolor": "#E5ECF6",
          "polar": {
           "angularaxis": {
            "gridcolor": "white",
            "linecolor": "white",
            "ticks": ""
           },
           "bgcolor": "#E5ECF6",
           "radialaxis": {
            "gridcolor": "white",
            "linecolor": "white",
            "ticks": ""
           }
          },
          "scene": {
           "xaxis": {
            "backgroundcolor": "#E5ECF6",
            "gridcolor": "white",
            "gridwidth": 2,
            "linecolor": "white",
            "showbackground": true,
            "ticks": "",
            "zerolinecolor": "white"
           },
           "yaxis": {
            "backgroundcolor": "#E5ECF6",
            "gridcolor": "white",
            "gridwidth": 2,
            "linecolor": "white",
            "showbackground": true,
            "ticks": "",
            "zerolinecolor": "white"
           },
           "zaxis": {
            "backgroundcolor": "#E5ECF6",
            "gridcolor": "white",
            "gridwidth": 2,
            "linecolor": "white",
            "showbackground": true,
            "ticks": "",
            "zerolinecolor": "white"
           }
          },
          "shapedefaults": {
           "line": {
            "color": "#2a3f5f"
           }
          },
          "ternary": {
           "aaxis": {
            "gridcolor": "white",
            "linecolor": "white",
            "ticks": ""
           },
           "baxis": {
            "gridcolor": "white",
            "linecolor": "white",
            "ticks": ""
           },
           "bgcolor": "#E5ECF6",
           "caxis": {
            "gridcolor": "white",
            "linecolor": "white",
            "ticks": ""
           }
          },
          "title": {
           "x": 0.05
          },
          "xaxis": {
           "automargin": true,
           "gridcolor": "white",
           "linecolor": "white",
           "ticks": "",
           "title": {
            "standoff": 15
           },
           "zerolinecolor": "white",
           "zerolinewidth": 2
          },
          "yaxis": {
           "automargin": true,
           "gridcolor": "white",
           "linecolor": "white",
           "ticks": "",
           "title": {
            "standoff": 15
           },
           "zerolinecolor": "white",
           "zerolinewidth": 2
          }
         }
        },
        "title": {
         "text": "Resultado Real de las Simulaciones - Elecciones Presidenciales 2024"
        },
        "width": 1200
       }
      }
     },
     "metadata": {},
     "output_type": "display_data"
    }
   ],
   "source": [
    "# Crear el mapa coroplético usando Plotly Express con códigos de estado\n",
    "fig = px.choropleth(full_df_actual_state,\n",
    "                    locations='state_code',  # Usar la nueva columna con códigos de estado\n",
    "                    locationmode=\"USA-states\",  # Modo de localización para los códigos de estado\n",
    "                    color=\"Winner\",  # Métrica que deseas visualizar\n",
    "                    hover_name='state_code',  # Mostrar el código del estado en hover\n",
    "                    hover_data={\n",
    "                        'state_code': True,  # Mostrar el código del estado\n",
    "                        \"Per_dem\": ':.2%',  # Mostrar el porcentaje de Biden en formato de porcentaje\n",
    "                        \"Per_gop\": ':.2%'  # Mostrar el porcentaje de Trump en formato de porcentaje\n",
    "                    },\n",
    "                    scope='usa',  # Limitar el mapa a EE.UU.\n",
    "                    color_discrete_map={'dem': '#3951a2', 'gop': '#af2b39'},  # Colores asignados\n",
    "                    labels={\"Winner\": 'Ganador {ELECTORAL_YEAR}'},  # Etiqueta para la barra de color\n",
    "                    title=f\"Resultado Real de las Simulaciones - Elecciones Presidenciales {ELECTORAL_YEAR}\"\n",
    "                   )\n",
    "\n",
    "# # Crear un nuevo rastro para añadir los códigos de los estados en el mapa\n",
    "# fig.add_trace(go.Scattergeo(\n",
    "#     locationmode='USA-states',\n",
    "#     locations=accumulated_pred_state['state_code'],  # Usar los códigos de los estados\n",
    "#     text=accumulated_pred_state['state_code'],  # Mostrar los códigos dentro del mapa\n",
    "#     mode='text',  # Solo texto\n",
    "#     textfont=dict(size=8, color=\"white\"),  # Tamaño y color de la fuente\n",
    "# ))\n",
    "\n",
    "# Ajustar el tamaño del gráfico\n",
    "fig.update_layout(\n",
    "    width=1200,  # Ajustar el ancho del gráfico\n",
    "    height=800   # Ajustar la altura del gráfico\n",
    ")\n",
    "\n",
    "# Ajustar visualización y mostrar el gráfico\n",
    "fig.update_geos(fitbounds=\"locations\", visible=False)  # Ajustar el mapa a las ubicaciones\n",
    "fig.show()\n"
   ]
  },
  {
   "cell_type": "code",
   "execution_count": 72,
   "metadata": {},
   "outputs": [
    {
     "data": {
      "application/vnd.plotly.v1+json": {
       "config": {
        "plotlyServerURL": "https://plot.ly"
       },
       "data": [
        {
         "colorscale": [
          [
           0,
           "#3951a2"
          ],
          [
           1,
           "#3951a2"
          ]
         ],
         "customdata": [
          [
           "CA",
           0.584785371015076,
           0.38340004397783556
          ],
          [
           "NY",
           0.5610494080655605,
           0.43882688965670835
          ],
          [
           "IL",
           0.5485488331593592,
           0.437063364201412
          ],
          [
           "WA",
           0.5758100559375469,
           0.39289030317560647
          ],
          [
           "MA",
           0.6159109224978645,
           0.36193439921281473
          ],
          [
           "MD",
           0.632756473980336,
           0.3419642426609382
          ],
          [
           "CO",
           0.54159441632431,
           0.4316815492186621
          ],
          [
           "OR",
           0.551618417341865,
           0.4179209543108284
          ],
          [
           "CT",
           0.5641700631643359,
           0.41907748336725564
          ],
          [
           "RI",
           0.5481247093552235,
           0.43039082876726176
          ],
          [
           "HI",
           0.5457527219000049,
           0.4318659587759308
          ],
          [
           "VT",
           0.6321312964332095,
           0.3384117384815181
          ],
          [
           "DE",
           0.5662687098028716,
           0.4189022018890085
          ],
          [
           "DC",
           0.9114993945085634,
           0.05081185280379606
          ]
         ],
         "geo": "geo",
         "hovertemplate": "<b>%{hovertext}</b><br><br>Status=Safe Democrat<br>state_code=%{customdata[0]}<br>Per_dem=%{customdata[1]:.2%}<br>Per_gop=%{customdata[2]:.2%}<extra></extra>",
         "hovertext": [
          "CA",
          "NY",
          "IL",
          "WA",
          "MA",
          "MD",
          "CO",
          "OR",
          "CT",
          "RI",
          "HI",
          "VT",
          "DE",
          "DC"
         ],
         "locationmode": "USA-states",
         "locations": [
          "CA",
          "NY",
          "IL",
          "WA",
          "MA",
          "MD",
          "CO",
          "OR",
          "CT",
          "RI",
          "HI",
          "VT",
          "DE",
          "DC"
         ],
         "name": "Safe Democrat",
         "showlegend": true,
         "showscale": false,
         "type": "choropleth",
         "z": [
          1,
          1,
          1,
          1,
          1,
          1,
          1,
          1,
          1,
          1,
          1,
          1,
          1,
          1
         ]
        },
        {
         "colorscale": [
          [
           0,
           "#af2b39"
          ],
          [
           1,
           "#af2b39"
          ]
         ],
         "customdata": [
          [
           "TX",
           0.4252045325029189,
           0.5614925390471142
          ],
          [
           "FL",
           0.42989101713151834,
           0.5608939861369304
          ],
          [
           "OH",
           0.43974975711147735,
           0.5513529533091521
          ],
          [
           "TN",
           0.3440965068645345,
           0.6426132527577774
          ],
          [
           "IN",
           0.3972597351738574,
           0.5857897500004275
          ],
          [
           "MO",
           0.40105233718146527,
           0.5852063257989881
          ],
          [
           "SC",
           0.4040831768463656,
           0.5817941780936636
          ],
          [
           "AL",
           0.34232779282665116,
           0.64822155408376
          ],
          [
           "LA",
           0.3870301730859957,
           0.5969917149804178
          ],
          [
           "KY",
           0.33833638282630135,
           0.6463876181339782
          ],
          [
           "OK",
           0.3191776542296805,
           0.6613813725740226
          ],
          [
           "UT",
           0.3828794368122298,
           0.5891164361520368
          ],
          [
           "MS",
           0.3777654010310573,
           0.611127329542026
          ],
          [
           "KS",
           0.40922655943595687,
           0.5728307795414144
          ],
          [
           "IA",
           0.426702484646207,
           0.5596601512917688
          ],
          [
           "AR",
           0.3355990989924544,
           0.6419687217800987
          ],
          [
           "WV",
           0.28295970074709176,
           0.6974694608036959
          ],
          [
           "NE",
           0.39001878900726833,
           0.5967475361883888
          ],
          [
           "ID",
           0.24949642566824462,
           0.7242026490699565
          ],
          [
           "WY",
           0.2458888522560049,
           0.7386114171297152
          ],
          [
           "SD",
           0.3406374373218237,
           0.6369783462658136
          ],
          [
           "ND",
           0.30351025918357044,
           0.6798140830248447
          ],
          [
           "MT",
           0.3834020404458958,
           0.5855742862609213
          ]
         ],
         "geo": "geo",
         "hovertemplate": "<b>%{hovertext}</b><br><br>Status=Safe Republican<br>state_code=%{customdata[0]}<br>Per_dem=%{customdata[1]:.2%}<br>Per_gop=%{customdata[2]:.2%}<extra></extra>",
         "hovertext": [
          "TX",
          "FL",
          "OH",
          "TN",
          "IN",
          "MO",
          "SC",
          "AL",
          "LA",
          "KY",
          "OK",
          "UT",
          "MS",
          "KS",
          "IA",
          "AR",
          "WV",
          "NE",
          "ID",
          "WY",
          "SD",
          "ND",
          "MT"
         ],
         "locationmode": "USA-states",
         "locations": [
          "TX",
          "FL",
          "OH",
          "TN",
          "IN",
          "MO",
          "SC",
          "AL",
          "LA",
          "KY",
          "OK",
          "UT",
          "MS",
          "KS",
          "IA",
          "AR",
          "WV",
          "NE",
          "ID",
          "WY",
          "SD",
          "ND",
          "MT"
         ],
         "name": "Safe Republican",
         "showlegend": true,
         "showscale": false,
         "type": "choropleth",
         "z": [
          1,
          1,
          1,
          1,
          1,
          1,
          1,
          1,
          1,
          1,
          1,
          1,
          1,
          1,
          1,
          1,
          1,
          1,
          1,
          1,
          1,
          1,
          1
         ]
        },
        {
         "colorscale": [
          [
           0,
           "#b6b164"
          ],
          [
           1,
           "#b6b164"
          ]
         ],
         "customdata": [
          [
           "PA",
           0.48854866544038833,
           0.5017526525446133
          ],
          [
           "MI",
           0.4832662658977005,
           0.49742279596190375
          ],
          [
           "GA",
           0.4853322265495909,
           0.5072558398048627
          ],
          [
           "WI",
           0.4889349382850697,
           0.4967232446559195
          ]
         ],
         "geo": "geo",
         "hovertemplate": "<b>%{hovertext}</b><br><br>Status=Toss-Up<br>state_code=%{customdata[0]}<br>Per_dem=%{customdata[1]:.2%}<br>Per_gop=%{customdata[2]:.2%}<extra></extra>",
         "hovertext": [
          "PA",
          "MI",
          "GA",
          "WI"
         ],
         "locationmode": "USA-states",
         "locations": [
          "PA",
          "MI",
          "GA",
          "WI"
         ],
         "name": "Toss-Up",
         "showlegend": true,
         "showscale": false,
         "type": "choropleth",
         "z": [
          1,
          1,
          1,
          1
         ]
        },
        {
         "colorscale": [
          [
           0,
           "#d56062"
          ],
          [
           1,
           "#d56062"
          ]
         ],
         "customdata": [
          [
           "NC",
           0.47841831998812434,
           0.5099821686307404
          ],
          [
           "AZ",
           0.46701417010319773,
           0.5223002024890546
          ],
          [
           "NV",
           0.47588675608692976,
           0.5053340626647362
          ]
         ],
         "geo": "geo",
         "hovertemplate": "<b>%{hovertext}</b><br><br>Status=Likely Republican<br>state_code=%{customdata[0]}<br>Per_dem=%{customdata[1]:.2%}<br>Per_gop=%{customdata[2]:.2%}<extra></extra>",
         "hovertext": [
          "NC",
          "AZ",
          "NV"
         ],
         "locationmode": "USA-states",
         "locations": [
          "NC",
          "AZ",
          "NV"
         ],
         "name": "Likely Republican",
         "showlegend": true,
         "showscale": false,
         "type": "choropleth",
         "z": [
          1,
          1,
          1
         ]
        },
        {
         "colorscale": [
          [
           0,
           "#a3cef1"
          ],
          [
           1,
           "#a3cef1"
          ]
         ],
         "customdata": [
          [
           "NJ",
           0.5260554446642313,
           0.45380472000377203
          ],
          [
           "VA",
           0.5210449995604791,
           0.46282626040171543
          ],
          [
           "MN",
           0.5120235626113171,
           0.46797443271625405
          ],
          [
           "NM",
           0.5097669104445393,
           0.47279875952339584
          ],
          [
           "NH",
           0.5079276950322704,
           0.4812906397238419
          ],
          [
           "ME",
           0.5193896055953234,
           0.45929108832621324
          ]
         ],
         "geo": "geo",
         "hovertemplate": "<b>%{hovertext}</b><br><br>Status=Likely Democrat<br>state_code=%{customdata[0]}<br>Per_dem=%{customdata[1]:.2%}<br>Per_gop=%{customdata[2]:.2%}<extra></extra>",
         "hovertext": [
          "NJ",
          "VA",
          "MN",
          "NM",
          "NH",
          "ME"
         ],
         "locationmode": "USA-states",
         "locations": [
          "NJ",
          "VA",
          "MN",
          "NM",
          "NH",
          "ME"
         ],
         "name": "Likely Democrat",
         "showlegend": true,
         "showscale": false,
         "type": "choropleth",
         "z": [
          1,
          1,
          1,
          1,
          1,
          1
         ]
        }
       ],
       "layout": {
        "geo": {
         "center": {},
         "domain": {
          "x": [
           0,
           1
          ],
          "y": [
           0,
           1
          ]
         },
         "fitbounds": "locations",
         "scope": "usa",
         "visible": false
        },
        "height": 800,
        "legend": {
         "title": {
          "text": "Status"
         },
         "tracegroupgap": 0
        },
        "template": {
         "data": {
          "bar": [
           {
            "error_x": {
             "color": "#2a3f5f"
            },
            "error_y": {
             "color": "#2a3f5f"
            },
            "marker": {
             "line": {
              "color": "#E5ECF6",
              "width": 0.5
             },
             "pattern": {
              "fillmode": "overlay",
              "size": 10,
              "solidity": 0.2
             }
            },
            "type": "bar"
           }
          ],
          "barpolar": [
           {
            "marker": {
             "line": {
              "color": "#E5ECF6",
              "width": 0.5
             },
             "pattern": {
              "fillmode": "overlay",
              "size": 10,
              "solidity": 0.2
             }
            },
            "type": "barpolar"
           }
          ],
          "carpet": [
           {
            "aaxis": {
             "endlinecolor": "#2a3f5f",
             "gridcolor": "white",
             "linecolor": "white",
             "minorgridcolor": "white",
             "startlinecolor": "#2a3f5f"
            },
            "baxis": {
             "endlinecolor": "#2a3f5f",
             "gridcolor": "white",
             "linecolor": "white",
             "minorgridcolor": "white",
             "startlinecolor": "#2a3f5f"
            },
            "type": "carpet"
           }
          ],
          "choropleth": [
           {
            "colorbar": {
             "outlinewidth": 0,
             "ticks": ""
            },
            "type": "choropleth"
           }
          ],
          "contour": [
           {
            "colorbar": {
             "outlinewidth": 0,
             "ticks": ""
            },
            "colorscale": [
             [
              0,
              "#0d0887"
             ],
             [
              0.1111111111111111,
              "#46039f"
             ],
             [
              0.2222222222222222,
              "#7201a8"
             ],
             [
              0.3333333333333333,
              "#9c179e"
             ],
             [
              0.4444444444444444,
              "#bd3786"
             ],
             [
              0.5555555555555556,
              "#d8576b"
             ],
             [
              0.6666666666666666,
              "#ed7953"
             ],
             [
              0.7777777777777778,
              "#fb9f3a"
             ],
             [
              0.8888888888888888,
              "#fdca26"
             ],
             [
              1,
              "#f0f921"
             ]
            ],
            "type": "contour"
           }
          ],
          "contourcarpet": [
           {
            "colorbar": {
             "outlinewidth": 0,
             "ticks": ""
            },
            "type": "contourcarpet"
           }
          ],
          "heatmap": [
           {
            "colorbar": {
             "outlinewidth": 0,
             "ticks": ""
            },
            "colorscale": [
             [
              0,
              "#0d0887"
             ],
             [
              0.1111111111111111,
              "#46039f"
             ],
             [
              0.2222222222222222,
              "#7201a8"
             ],
             [
              0.3333333333333333,
              "#9c179e"
             ],
             [
              0.4444444444444444,
              "#bd3786"
             ],
             [
              0.5555555555555556,
              "#d8576b"
             ],
             [
              0.6666666666666666,
              "#ed7953"
             ],
             [
              0.7777777777777778,
              "#fb9f3a"
             ],
             [
              0.8888888888888888,
              "#fdca26"
             ],
             [
              1,
              "#f0f921"
             ]
            ],
            "type": "heatmap"
           }
          ],
          "histogram": [
           {
            "marker": {
             "pattern": {
              "fillmode": "overlay",
              "size": 10,
              "solidity": 0.2
             }
            },
            "type": "histogram"
           }
          ],
          "histogram2d": [
           {
            "colorbar": {
             "outlinewidth": 0,
             "ticks": ""
            },
            "colorscale": [
             [
              0,
              "#0d0887"
             ],
             [
              0.1111111111111111,
              "#46039f"
             ],
             [
              0.2222222222222222,
              "#7201a8"
             ],
             [
              0.3333333333333333,
              "#9c179e"
             ],
             [
              0.4444444444444444,
              "#bd3786"
             ],
             [
              0.5555555555555556,
              "#d8576b"
             ],
             [
              0.6666666666666666,
              "#ed7953"
             ],
             [
              0.7777777777777778,
              "#fb9f3a"
             ],
             [
              0.8888888888888888,
              "#fdca26"
             ],
             [
              1,
              "#f0f921"
             ]
            ],
            "type": "histogram2d"
           }
          ],
          "histogram2dcontour": [
           {
            "colorbar": {
             "outlinewidth": 0,
             "ticks": ""
            },
            "colorscale": [
             [
              0,
              "#0d0887"
             ],
             [
              0.1111111111111111,
              "#46039f"
             ],
             [
              0.2222222222222222,
              "#7201a8"
             ],
             [
              0.3333333333333333,
              "#9c179e"
             ],
             [
              0.4444444444444444,
              "#bd3786"
             ],
             [
              0.5555555555555556,
              "#d8576b"
             ],
             [
              0.6666666666666666,
              "#ed7953"
             ],
             [
              0.7777777777777778,
              "#fb9f3a"
             ],
             [
              0.8888888888888888,
              "#fdca26"
             ],
             [
              1,
              "#f0f921"
             ]
            ],
            "type": "histogram2dcontour"
           }
          ],
          "mesh3d": [
           {
            "colorbar": {
             "outlinewidth": 0,
             "ticks": ""
            },
            "type": "mesh3d"
           }
          ],
          "parcoords": [
           {
            "line": {
             "colorbar": {
              "outlinewidth": 0,
              "ticks": ""
             }
            },
            "type": "parcoords"
           }
          ],
          "pie": [
           {
            "automargin": true,
            "type": "pie"
           }
          ],
          "scatter": [
           {
            "fillpattern": {
             "fillmode": "overlay",
             "size": 10,
             "solidity": 0.2
            },
            "type": "scatter"
           }
          ],
          "scatter3d": [
           {
            "line": {
             "colorbar": {
              "outlinewidth": 0,
              "ticks": ""
             }
            },
            "marker": {
             "colorbar": {
              "outlinewidth": 0,
              "ticks": ""
             }
            },
            "type": "scatter3d"
           }
          ],
          "scattercarpet": [
           {
            "marker": {
             "colorbar": {
              "outlinewidth": 0,
              "ticks": ""
             }
            },
            "type": "scattercarpet"
           }
          ],
          "scattergeo": [
           {
            "marker": {
             "colorbar": {
              "outlinewidth": 0,
              "ticks": ""
             }
            },
            "type": "scattergeo"
           }
          ],
          "scattergl": [
           {
            "marker": {
             "colorbar": {
              "outlinewidth": 0,
              "ticks": ""
             }
            },
            "type": "scattergl"
           }
          ],
          "scattermap": [
           {
            "marker": {
             "colorbar": {
              "outlinewidth": 0,
              "ticks": ""
             }
            },
            "type": "scattermap"
           }
          ],
          "scattermapbox": [
           {
            "marker": {
             "colorbar": {
              "outlinewidth": 0,
              "ticks": ""
             }
            },
            "type": "scattermapbox"
           }
          ],
          "scatterpolar": [
           {
            "marker": {
             "colorbar": {
              "outlinewidth": 0,
              "ticks": ""
             }
            },
            "type": "scatterpolar"
           }
          ],
          "scatterpolargl": [
           {
            "marker": {
             "colorbar": {
              "outlinewidth": 0,
              "ticks": ""
             }
            },
            "type": "scatterpolargl"
           }
          ],
          "scatterternary": [
           {
            "marker": {
             "colorbar": {
              "outlinewidth": 0,
              "ticks": ""
             }
            },
            "type": "scatterternary"
           }
          ],
          "surface": [
           {
            "colorbar": {
             "outlinewidth": 0,
             "ticks": ""
            },
            "colorscale": [
             [
              0,
              "#0d0887"
             ],
             [
              0.1111111111111111,
              "#46039f"
             ],
             [
              0.2222222222222222,
              "#7201a8"
             ],
             [
              0.3333333333333333,
              "#9c179e"
             ],
             [
              0.4444444444444444,
              "#bd3786"
             ],
             [
              0.5555555555555556,
              "#d8576b"
             ],
             [
              0.6666666666666666,
              "#ed7953"
             ],
             [
              0.7777777777777778,
              "#fb9f3a"
             ],
             [
              0.8888888888888888,
              "#fdca26"
             ],
             [
              1,
              "#f0f921"
             ]
            ],
            "type": "surface"
           }
          ],
          "table": [
           {
            "cells": {
             "fill": {
              "color": "#EBF0F8"
             },
             "line": {
              "color": "white"
             }
            },
            "header": {
             "fill": {
              "color": "#C8D4E3"
             },
             "line": {
              "color": "white"
             }
            },
            "type": "table"
           }
          ]
         },
         "layout": {
          "annotationdefaults": {
           "arrowcolor": "#2a3f5f",
           "arrowhead": 0,
           "arrowwidth": 1
          },
          "autotypenumbers": "strict",
          "coloraxis": {
           "colorbar": {
            "outlinewidth": 0,
            "ticks": ""
           }
          },
          "colorscale": {
           "diverging": [
            [
             0,
             "#8e0152"
            ],
            [
             0.1,
             "#c51b7d"
            ],
            [
             0.2,
             "#de77ae"
            ],
            [
             0.3,
             "#f1b6da"
            ],
            [
             0.4,
             "#fde0ef"
            ],
            [
             0.5,
             "#f7f7f7"
            ],
            [
             0.6,
             "#e6f5d0"
            ],
            [
             0.7,
             "#b8e186"
            ],
            [
             0.8,
             "#7fbc41"
            ],
            [
             0.9,
             "#4d9221"
            ],
            [
             1,
             "#276419"
            ]
           ],
           "sequential": [
            [
             0,
             "#0d0887"
            ],
            [
             0.1111111111111111,
             "#46039f"
            ],
            [
             0.2222222222222222,
             "#7201a8"
            ],
            [
             0.3333333333333333,
             "#9c179e"
            ],
            [
             0.4444444444444444,
             "#bd3786"
            ],
            [
             0.5555555555555556,
             "#d8576b"
            ],
            [
             0.6666666666666666,
             "#ed7953"
            ],
            [
             0.7777777777777778,
             "#fb9f3a"
            ],
            [
             0.8888888888888888,
             "#fdca26"
            ],
            [
             1,
             "#f0f921"
            ]
           ],
           "sequentialminus": [
            [
             0,
             "#0d0887"
            ],
            [
             0.1111111111111111,
             "#46039f"
            ],
            [
             0.2222222222222222,
             "#7201a8"
            ],
            [
             0.3333333333333333,
             "#9c179e"
            ],
            [
             0.4444444444444444,
             "#bd3786"
            ],
            [
             0.5555555555555556,
             "#d8576b"
            ],
            [
             0.6666666666666666,
             "#ed7953"
            ],
            [
             0.7777777777777778,
             "#fb9f3a"
            ],
            [
             0.8888888888888888,
             "#fdca26"
            ],
            [
             1,
             "#f0f921"
            ]
           ]
          },
          "colorway": [
           "#636efa",
           "#EF553B",
           "#00cc96",
           "#ab63fa",
           "#FFA15A",
           "#19d3f3",
           "#FF6692",
           "#B6E880",
           "#FF97FF",
           "#FECB52"
          ],
          "font": {
           "color": "#2a3f5f"
          },
          "geo": {
           "bgcolor": "white",
           "lakecolor": "white",
           "landcolor": "#E5ECF6",
           "showlakes": true,
           "showland": true,
           "subunitcolor": "white"
          },
          "hoverlabel": {
           "align": "left"
          },
          "hovermode": "closest",
          "mapbox": {
           "style": "light"
          },
          "paper_bgcolor": "white",
          "plot_bgcolor": "#E5ECF6",
          "polar": {
           "angularaxis": {
            "gridcolor": "white",
            "linecolor": "white",
            "ticks": ""
           },
           "bgcolor": "#E5ECF6",
           "radialaxis": {
            "gridcolor": "white",
            "linecolor": "white",
            "ticks": ""
           }
          },
          "scene": {
           "xaxis": {
            "backgroundcolor": "#E5ECF6",
            "gridcolor": "white",
            "gridwidth": 2,
            "linecolor": "white",
            "showbackground": true,
            "ticks": "",
            "zerolinecolor": "white"
           },
           "yaxis": {
            "backgroundcolor": "#E5ECF6",
            "gridcolor": "white",
            "gridwidth": 2,
            "linecolor": "white",
            "showbackground": true,
            "ticks": "",
            "zerolinecolor": "white"
           },
           "zaxis": {
            "backgroundcolor": "#E5ECF6",
            "gridcolor": "white",
            "gridwidth": 2,
            "linecolor": "white",
            "showbackground": true,
            "ticks": "",
            "zerolinecolor": "white"
           }
          },
          "shapedefaults": {
           "line": {
            "color": "#2a3f5f"
           }
          },
          "ternary": {
           "aaxis": {
            "gridcolor": "white",
            "linecolor": "white",
            "ticks": ""
           },
           "baxis": {
            "gridcolor": "white",
            "linecolor": "white",
            "ticks": ""
           },
           "bgcolor": "#E5ECF6",
           "caxis": {
            "gridcolor": "white",
            "linecolor": "white",
            "ticks": ""
           }
          },
          "title": {
           "x": 0.05
          },
          "xaxis": {
           "automargin": true,
           "gridcolor": "white",
           "linecolor": "white",
           "ticks": "",
           "title": {
            "standoff": 15
           },
           "zerolinecolor": "white",
           "zerolinewidth": 2
          },
          "yaxis": {
           "automargin": true,
           "gridcolor": "white",
           "linecolor": "white",
           "ticks": "",
           "title": {
            "standoff": 15
           },
           "zerolinecolor": "white",
           "zerolinewidth": 2
          }
         }
        },
        "title": {
         "text": "Status de los Estados en las Simulaciones - Elecciones Presidenciales 2024"
        },
        "width": 1200
       }
      }
     },
     "metadata": {},
     "output_type": "display_data"
    }
   ],
   "source": [
    "# Crear el mapa coroplético usando Plotly Express con códigos de estado\n",
    "fig = px.choropleth(full_df_actual_state,\n",
    "                    locations='state_code',  # Usar la nueva columna con códigos de estado\n",
    "                    locationmode=\"USA-states\",  # Modo de localización para los códigos de estado\n",
    "                    color='Status',  # Métrica que deseas visualizar\n",
    "                    hover_name='state_code',  # Mostrar el código del estado en hover\n",
    "                    hover_data={\n",
    "                        'state_code': True,  # Mostrar el código del estado\n",
    "                        'Per_dem': ':.2%',  # Mostrar el porcentaje de Biden en formato de porcentaje\n",
    "                        'Per_gop': ':.2%'  # Mostrar el porcentaje de Trump en formato de porcentaje\n",
    "                    },\n",
    "                    scope='usa',  # Limitar el mapa a EE.UU.\n",
    "                    color_discrete_map={'Safe Democrat': '#3951a2', \n",
    "                                        'Likely Democrat': '#a3cef1', \n",
    "                                        'Toss-Up': '#b6b164', \n",
    "                                        'Likely Republican': '#d56062', \n",
    "                                        'Safe Republican': '#af2b39'},\n",
    "                    labels={\"Winner\": 'Ganador {ELECTORAL_YEAR}'},  # Etiqueta para la barra de color\n",
    "                    title=f\"Status de los Estados en las Simulaciones - Elecciones Presidenciales {ELECTORAL_YEAR}\"\n",
    "                   )\n",
    "\n",
    "# # Crear un nuevo rastro para añadir los códigos de los estados en el mapa\n",
    "# fig.add_trace(go.Scattergeo(\n",
    "#     locationmode='USA-states',\n",
    "#     locations=accumulated_pred_state['state_code'],  # Usar los códigos de los estados\n",
    "#     text=accumulated_pred_state['state_code'],  # Mostrar los códigos dentro del mapa\n",
    "#     mode='text',  # Solo texto\n",
    "#     textfont=dict(size=12, color=\"black\"),  # Tamaño y color de la fuente\n",
    "# ))\n",
    "\n",
    "# Ajustar el tamaño del gráfico\n",
    "fig.update_layout(\n",
    "    width=1200,  # Ajustar el ancho del gráfico\n",
    "    height=800   # Ajustar la altura del gráfico\n",
    ")\n",
    "\n",
    "\n",
    "\n",
    "# Ajustar visualización y mostrar el gráfico\n",
    "fig.update_geos(fitbounds=\"locations\", visible=False)  # Ajustar el mapa a las ubicaciones\n",
    "fig.show()\n"
   ]
  }
 ],
 "metadata": {
  "kernelspec": {
   "display_name": ".venv",
   "language": "python",
   "name": "python3"
  },
  "language_info": {
   "codemirror_mode": {
    "name": "ipython",
    "version": 3
   },
   "file_extension": ".py",
   "mimetype": "text/x-python",
   "name": "python",
   "nbconvert_exporter": "python",
   "pygments_lexer": "ipython3",
   "version": "3.9.6"
  }
 },
 "nbformat": 4,
 "nbformat_minor": 2
}
