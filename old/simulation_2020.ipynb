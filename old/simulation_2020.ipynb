{
 "cells": [
  {
   "cell_type": "markdown",
   "metadata": {},
   "source": [
    "## 📊 Simulación"
   ]
  },
  {
   "cell_type": "markdown",
   "metadata": {},
   "source": [
    "🧑‍💻 Lucía Cordero | Jorge Garcelán"
   ]
  },
  {
   "cell_type": "markdown",
   "metadata": {},
   "source": [
    "![Election Results](https://elordenmundial.com/wp-content/uploads/2020/10/editable-portada-especial-.png)\n"
   ]
  },
  {
   "cell_type": "markdown",
   "metadata": {},
   "source": [
    "<div class=\"warning\" style='padding:0.1em; border-left: 4px solid #17a2b8; background-color:#e8f8ff;'>\n",
    "<span>\n",
    "<p style='margin-top:1em; margin-left:1em; text-align:left'>\n",
    "<b>💡Interpretación de la simulación</b></p>\n",
    "<p style='margin-left:1em;'>\n",
    "Imaginemos que estamos en el día de las elecciones y nos van llegando datos de condados (equivalentes a dataset de train) y queremos hacer un forecast de cómo van a acabar las elecciones, es decir, hacer un forecast de los condados que todavía no tenemos los datos (test). En ese sentido, podríamos hacer un modelo con los datos que sí tenemos (train) y predecir los condados que todavía no tenemos (test). Y así podemos repetir el proceso N veces y crear una simulación.\n",
    "</p>\n",
    "</span>\n",
    "</div>"
   ]
  },
  {
   "cell_type": "markdown",
   "metadata": {},
   "source": [
    "## Libraries"
   ]
  },
  {
   "cell_type": "code",
   "execution_count": 50,
   "metadata": {},
   "outputs": [],
   "source": [
    "import pandas as pd\n",
    "from pandas import read_csv\n",
    "import numpy as np\n",
    "from sklearn.linear_model import LinearRegression\n",
    "from sklearn.ensemble import RandomForestRegressor\n",
    "from sklearn.neighbors import KNeighborsRegressor\n",
    "from sklearn.model_selection import train_test_split\n",
    "import json\n",
    "import plotly.express as px\n",
    "import plotly.graph_objects as go\n",
    "import seaborn as sns\n",
    "import matplotlib.pyplot as plt\n",
    "from scipy.stats import gaussian_kde"
   ]
  },
  {
   "cell_type": "markdown",
   "metadata": {},
   "source": [
    "## Load data"
   ]
  },
  {
   "cell_type": "code",
   "execution_count": 51,
   "metadata": {},
   "outputs": [],
   "source": [
    "CENSUS_YEAR = 2019\n",
    "ELECTORAL_YEAR = CENSUS_YEAR + 1\n"
   ]
  },
  {
   "cell_type": "code",
   "execution_count": 52,
   "metadata": {},
   "outputs": [],
   "source": [
    "def load_seats_data(path, state_to_code):\n",
    "    # Cargar datos\n",
    "    seats_data = pd.read_csv(path, header=0, sep=\",\")\n",
    "\n",
    "    # Seleccionar las primeras tres columnas y las columnas que contienen \"2019\"\n",
    "    seats_data = seats_data.iloc[:, [0, 1]]\n",
    "\n",
    "    # Renombrar columnas\n",
    "    seats_data.columns = [\"state\", \"electoral_votes_number\"]\n",
    "\n",
    "    # Añadir District of Columbia pues no aparece\n",
    "    new_row = pd.DataFrame({\n",
    "        'state': ['District of Columbia'],\n",
    "        'electoral_votes_number': [3]\n",
    "    })\n",
    "\n",
    "    # Añadir la nueva fila al DataFrame utilizando pd.concat\n",
    "    seats_data = pd.concat([seats_data, new_row], ignore_index=True)\n",
    "\n",
    "    \n",
    "    seats_data[\"state_code\"] = seats_data['state'].map(state_to_code)\n",
    "\n",
    "    return seats_data"
   ]
  },
  {
   "cell_type": "code",
   "execution_count": 53,
   "metadata": {},
   "outputs": [],
   "source": [
    "# Cargar datos\n",
    "data = read_csv(f\"data/final_data_{ELECTORAL_YEAR}.csv\")\n",
    "\n",
    "# Crear data para simulación\n",
    "# columns_to_drop = ['Total_2020', 'Other_2020', 'Winner_2020', \"Biden_2020\"]  # Nombres de las columnas a eliminar\n",
    "columns_to_drop = [f\"votes_dem_{ELECTORAL_YEAR}\", f\"total_votes_{ELECTORAL_YEAR}\", f\"votes_others_{ELECTORAL_YEAR}\", f\"per_votes_others_{ELECTORAL_YEAR}\", f\"winner_{ELECTORAL_YEAR}\"]  # Nombres de las columnas a eliminar\n",
    "\n",
    "data_sim = data.drop(columns=columns_to_drop)\n",
    "\n",
    "# Cargar codigo de estados\n",
    "with open(\"data/state_to_code.json\", \"r\") as file:\n",
    "    state_to_code = json.load(file)\n",
    "\n",
    "\n",
    "# Cargar datos de escaños por estado\n",
    "seats_data = load_seats_data(f\"data/seats2020.csv\", state_to_code)\n",
    "\n",
    "# Cargar datos de state, county, fips\n",
    "state_fips_county = read_csv('data/state_fips_county.csv')\n",
    "state_names = state_fips_county['state']\n",
    "fips_codes = state_fips_county['fips']\n",
    "county_names = state_fips_county['county']"
   ]
  },
  {
   "cell_type": "code",
   "execution_count": 54,
   "metadata": {},
   "outputs": [
    {
     "data": {
      "text/html": [
       "<div>\n",
       "<style scoped>\n",
       "    .dataframe tbody tr th:only-of-type {\n",
       "        vertical-align: middle;\n",
       "    }\n",
       "\n",
       "    .dataframe tbody tr th {\n",
       "        vertical-align: top;\n",
       "    }\n",
       "\n",
       "    .dataframe thead th {\n",
       "        text-align: right;\n",
       "    }\n",
       "</style>\n",
       "<table border=\"1\" class=\"dataframe\">\n",
       "  <thead>\n",
       "    <tr style=\"text-align: right;\">\n",
       "      <th></th>\n",
       "      <th>state</th>\n",
       "      <th>electoral_votes_number</th>\n",
       "      <th>state_code</th>\n",
       "      <th>Votes_dem</th>\n",
       "      <th>Votes_gop</th>\n",
       "      <th>Votes_other</th>\n",
       "      <th>Votes_total</th>\n",
       "      <th>Per_dem</th>\n",
       "      <th>Per_gop</th>\n",
       "      <th>Winner</th>\n",
       "      <th>Difference</th>\n",
       "      <th>Status</th>\n",
       "    </tr>\n",
       "  </thead>\n",
       "  <tbody>\n",
       "    <tr>\n",
       "      <th>0</th>\n",
       "      <td>California</td>\n",
       "      <td>55</td>\n",
       "      <td>CA</td>\n",
       "      <td>11109764.0</td>\n",
       "      <td>6005961.0</td>\n",
       "      <td>380181.0</td>\n",
       "      <td>17495906.0</td>\n",
       "      <td>0.634992</td>\n",
       "      <td>0.343278</td>\n",
       "      <td>dem</td>\n",
       "      <td>29.171413</td>\n",
       "      <td>Safe Democrat</td>\n",
       "    </tr>\n",
       "    <tr>\n",
       "      <th>1</th>\n",
       "      <td>Texas</td>\n",
       "      <td>38</td>\n",
       "      <td>TX</td>\n",
       "      <td>5259151.0</td>\n",
       "      <td>5894537.0</td>\n",
       "      <td>169260.0</td>\n",
       "      <td>11322948.0</td>\n",
       "      <td>0.464468</td>\n",
       "      <td>0.520583</td>\n",
       "      <td>gop</td>\n",
       "      <td>-5.611489</td>\n",
       "      <td>Likely Republican</td>\n",
       "    </tr>\n",
       "    <tr>\n",
       "      <th>2</th>\n",
       "      <td>New York</td>\n",
       "      <td>29</td>\n",
       "      <td>NY</td>\n",
       "      <td>5181454.0</td>\n",
       "      <td>3246958.0</td>\n",
       "      <td>119237.0</td>\n",
       "      <td>8547649.0</td>\n",
       "      <td>0.606185</td>\n",
       "      <td>0.379866</td>\n",
       "      <td>dem</td>\n",
       "      <td>22.631907</td>\n",
       "      <td>Safe Democrat</td>\n",
       "    </tr>\n",
       "    <tr>\n",
       "      <th>3</th>\n",
       "      <td>Florida</td>\n",
       "      <td>29</td>\n",
       "      <td>FL</td>\n",
       "      <td>5209125.0</td>\n",
       "      <td>5624329.0</td>\n",
       "      <td>99788.0</td>\n",
       "      <td>10933242.0</td>\n",
       "      <td>0.476448</td>\n",
       "      <td>0.514425</td>\n",
       "      <td>gop</td>\n",
       "      <td>-3.797629</td>\n",
       "      <td>Likely Republican</td>\n",
       "    </tr>\n",
       "    <tr>\n",
       "      <th>4</th>\n",
       "      <td>Pennsylvania</td>\n",
       "      <td>20</td>\n",
       "      <td>PA</td>\n",
       "      <td>3078120.0</td>\n",
       "      <td>3109573.0</td>\n",
       "      <td>77556.0</td>\n",
       "      <td>6265249.0</td>\n",
       "      <td>0.491301</td>\n",
       "      <td>0.496321</td>\n",
       "      <td>gop</td>\n",
       "      <td>-0.502023</td>\n",
       "      <td>Toss-Up</td>\n",
       "    </tr>\n",
       "    <tr>\n",
       "      <th>5</th>\n",
       "      <td>Illinois</td>\n",
       "      <td>20</td>\n",
       "      <td>IL</td>\n",
       "      <td>3538593.0</td>\n",
       "      <td>2523954.0</td>\n",
       "      <td>123442.0</td>\n",
       "      <td>6185989.0</td>\n",
       "      <td>0.572034</td>\n",
       "      <td>0.408011</td>\n",
       "      <td>dem</td>\n",
       "      <td>16.402212</td>\n",
       "      <td>Safe Democrat</td>\n",
       "    </tr>\n",
       "    <tr>\n",
       "      <th>6</th>\n",
       "      <td>Ohio</td>\n",
       "      <td>18</td>\n",
       "      <td>OH</td>\n",
       "      <td>2664479.0</td>\n",
       "      <td>3119411.0</td>\n",
       "      <td>87531.0</td>\n",
       "      <td>5871421.0</td>\n",
       "      <td>0.453805</td>\n",
       "      <td>0.531287</td>\n",
       "      <td>gop</td>\n",
       "      <td>-7.748244</td>\n",
       "      <td>Likely Republican</td>\n",
       "    </tr>\n",
       "    <tr>\n",
       "      <th>7</th>\n",
       "      <td>Michigan</td>\n",
       "      <td>16</td>\n",
       "      <td>MI</td>\n",
       "      <td>2904345.0</td>\n",
       "      <td>2753150.0</td>\n",
       "      <td>90772.0</td>\n",
       "      <td>5748267.0</td>\n",
       "      <td>0.505256</td>\n",
       "      <td>0.478953</td>\n",
       "      <td>dem</td>\n",
       "      <td>2.630271</td>\n",
       "      <td>Likely Democrat</td>\n",
       "    </tr>\n",
       "    <tr>\n",
       "      <th>8</th>\n",
       "      <td>Georgia</td>\n",
       "      <td>16</td>\n",
       "      <td>GA</td>\n",
       "      <td>2530580.0</td>\n",
       "      <td>2482181.0</td>\n",
       "      <td>64379.0</td>\n",
       "      <td>5077140.0</td>\n",
       "      <td>0.498426</td>\n",
       "      <td>0.488894</td>\n",
       "      <td>dem</td>\n",
       "      <td>0.953273</td>\n",
       "      <td>Toss-Up</td>\n",
       "    </tr>\n",
       "    <tr>\n",
       "      <th>9</th>\n",
       "      <td>North Carolina</td>\n",
       "      <td>15</td>\n",
       "      <td>NC</td>\n",
       "      <td>2643400.0</td>\n",
       "      <td>2701378.0</td>\n",
       "      <td>80530.0</td>\n",
       "      <td>5425308.0</td>\n",
       "      <td>0.487235</td>\n",
       "      <td>0.497922</td>\n",
       "      <td>gop</td>\n",
       "      <td>-1.068658</td>\n",
       "      <td>Toss-Up</td>\n",
       "    </tr>\n",
       "    <tr>\n",
       "      <th>10</th>\n",
       "      <td>New Jersey</td>\n",
       "      <td>14</td>\n",
       "      <td>NJ</td>\n",
       "      <td>2442912.0</td>\n",
       "      <td>1732252.0</td>\n",
       "      <td>71085.0</td>\n",
       "      <td>4246249.0</td>\n",
       "      <td>0.575311</td>\n",
       "      <td>0.407949</td>\n",
       "      <td>dem</td>\n",
       "      <td>16.736183</td>\n",
       "      <td>Safe Democrat</td>\n",
       "    </tr>\n",
       "    <tr>\n",
       "      <th>11</th>\n",
       "      <td>Virginia</td>\n",
       "      <td>13</td>\n",
       "      <td>VA</td>\n",
       "      <td>2369588.0</td>\n",
       "      <td>1943680.0</td>\n",
       "      <td>83450.0</td>\n",
       "      <td>4396718.0</td>\n",
       "      <td>0.538945</td>\n",
       "      <td>0.442075</td>\n",
       "      <td>dem</td>\n",
       "      <td>9.686953</td>\n",
       "      <td>Likely Democrat</td>\n",
       "    </tr>\n",
       "    <tr>\n",
       "      <th>12</th>\n",
       "      <td>Washington</td>\n",
       "      <td>12</td>\n",
       "      <td>WA</td>\n",
       "      <td>2382191.0</td>\n",
       "      <td>1611820.0</td>\n",
       "      <td>134019.0</td>\n",
       "      <td>4128030.0</td>\n",
       "      <td>0.577077</td>\n",
       "      <td>0.390457</td>\n",
       "      <td>dem</td>\n",
       "      <td>18.661953</td>\n",
       "      <td>Safe Democrat</td>\n",
       "    </tr>\n",
       "    <tr>\n",
       "      <th>13</th>\n",
       "      <td>Tennessee</td>\n",
       "      <td>11</td>\n",
       "      <td>TN</td>\n",
       "      <td>1132322.0</td>\n",
       "      <td>1834990.0</td>\n",
       "      <td>56971.0</td>\n",
       "      <td>3024283.0</td>\n",
       "      <td>0.374410</td>\n",
       "      <td>0.606752</td>\n",
       "      <td>gop</td>\n",
       "      <td>-23.234201</td>\n",
       "      <td>Safe Republican</td>\n",
       "    </tr>\n",
       "    <tr>\n",
       "      <th>14</th>\n",
       "      <td>Massachusetts</td>\n",
       "      <td>11</td>\n",
       "      <td>MA</td>\n",
       "      <td>2242698.0</td>\n",
       "      <td>1101689.0</td>\n",
       "      <td>77507.0</td>\n",
       "      <td>3421894.0</td>\n",
       "      <td>0.655397</td>\n",
       "      <td>0.321953</td>\n",
       "      <td>dem</td>\n",
       "      <td>33.344370</td>\n",
       "      <td>Safe Democrat</td>\n",
       "    </tr>\n",
       "    <tr>\n",
       "      <th>15</th>\n",
       "      <td>Indiana</td>\n",
       "      <td>11</td>\n",
       "      <td>IN</td>\n",
       "      <td>1167858.0</td>\n",
       "      <td>1631530.0</td>\n",
       "      <td>56856.0</td>\n",
       "      <td>2856244.0</td>\n",
       "      <td>0.408879</td>\n",
       "      <td>0.571215</td>\n",
       "      <td>gop</td>\n",
       "      <td>-16.233627</td>\n",
       "      <td>Safe Republican</td>\n",
       "    </tr>\n",
       "    <tr>\n",
       "      <th>16</th>\n",
       "      <td>Arizona</td>\n",
       "      <td>11</td>\n",
       "      <td>AZ</td>\n",
       "      <td>1672143.0</td>\n",
       "      <td>1661686.0</td>\n",
       "      <td>53497.0</td>\n",
       "      <td>3387326.0</td>\n",
       "      <td>0.493647</td>\n",
       "      <td>0.490560</td>\n",
       "      <td>dem</td>\n",
       "      <td>0.308710</td>\n",
       "      <td>Toss-Up</td>\n",
       "    </tr>\n",
       "    <tr>\n",
       "      <th>17</th>\n",
       "      <td>Wisconsin</td>\n",
       "      <td>10</td>\n",
       "      <td>WI</td>\n",
       "      <td>1631423.0</td>\n",
       "      <td>1612247.0</td>\n",
       "      <td>57476.0</td>\n",
       "      <td>3301146.0</td>\n",
       "      <td>0.494199</td>\n",
       "      <td>0.488390</td>\n",
       "      <td>dem</td>\n",
       "      <td>0.580889</td>\n",
       "      <td>Toss-Up</td>\n",
       "    </tr>\n",
       "    <tr>\n",
       "      <th>18</th>\n",
       "      <td>Missouri</td>\n",
       "      <td>10</td>\n",
       "      <td>MO</td>\n",
       "      <td>1251052.0</td>\n",
       "      <td>1711198.0</td>\n",
       "      <td>54069.0</td>\n",
       "      <td>3016319.0</td>\n",
       "      <td>0.414761</td>\n",
       "      <td>0.567313</td>\n",
       "      <td>gop</td>\n",
       "      <td>-15.255217</td>\n",
       "      <td>Safe Republican</td>\n",
       "    </tr>\n",
       "    <tr>\n",
       "      <th>19</th>\n",
       "      <td>Minnesota</td>\n",
       "      <td>10</td>\n",
       "      <td>MN</td>\n",
       "      <td>1623276.0</td>\n",
       "      <td>1391419.0</td>\n",
       "      <td>70889.0</td>\n",
       "      <td>3085584.0</td>\n",
       "      <td>0.526084</td>\n",
       "      <td>0.450942</td>\n",
       "      <td>dem</td>\n",
       "      <td>7.514202</td>\n",
       "      <td>Likely Democrat</td>\n",
       "    </tr>\n",
       "    <tr>\n",
       "      <th>20</th>\n",
       "      <td>Maryland</td>\n",
       "      <td>10</td>\n",
       "      <td>MD</td>\n",
       "      <td>1946741.0</td>\n",
       "      <td>901082.0</td>\n",
       "      <td>70649.0</td>\n",
       "      <td>2918472.0</td>\n",
       "      <td>0.667041</td>\n",
       "      <td>0.308751</td>\n",
       "      <td>dem</td>\n",
       "      <td>35.828989</td>\n",
       "      <td>Safe Democrat</td>\n",
       "    </tr>\n",
       "    <tr>\n",
       "      <th>21</th>\n",
       "      <td>South Carolina</td>\n",
       "      <td>9</td>\n",
       "      <td>SC</td>\n",
       "      <td>1057589.0</td>\n",
       "      <td>1331159.0</td>\n",
       "      <td>35449.0</td>\n",
       "      <td>2424197.0</td>\n",
       "      <td>0.436264</td>\n",
       "      <td>0.549113</td>\n",
       "      <td>gop</td>\n",
       "      <td>-11.284974</td>\n",
       "      <td>Safe Republican</td>\n",
       "    </tr>\n",
       "    <tr>\n",
       "      <th>22</th>\n",
       "      <td>Colorado</td>\n",
       "      <td>9</td>\n",
       "      <td>CO</td>\n",
       "      <td>1804352.0</td>\n",
       "      <td>1364607.0</td>\n",
       "      <td>87994.0</td>\n",
       "      <td>3256953.0</td>\n",
       "      <td>0.554000</td>\n",
       "      <td>0.418983</td>\n",
       "      <td>dem</td>\n",
       "      <td>13.501730</td>\n",
       "      <td>Safe Democrat</td>\n",
       "    </tr>\n",
       "    <tr>\n",
       "      <th>23</th>\n",
       "      <td>Alabama</td>\n",
       "      <td>9</td>\n",
       "      <td>AL</td>\n",
       "      <td>849648.0</td>\n",
       "      <td>1441168.0</td>\n",
       "      <td>32488.0</td>\n",
       "      <td>2323304.0</td>\n",
       "      <td>0.365707</td>\n",
       "      <td>0.620310</td>\n",
       "      <td>gop</td>\n",
       "      <td>-25.460293</td>\n",
       "      <td>Safe Republican</td>\n",
       "    </tr>\n",
       "    <tr>\n",
       "      <th>24</th>\n",
       "      <td>Louisiana</td>\n",
       "      <td>8</td>\n",
       "      <td>LA</td>\n",
       "      <td>890056.0</td>\n",
       "      <td>1275954.0</td>\n",
       "      <td>38270.0</td>\n",
       "      <td>2204280.0</td>\n",
       "      <td>0.403785</td>\n",
       "      <td>0.578853</td>\n",
       "      <td>gop</td>\n",
       "      <td>-17.506760</td>\n",
       "      <td>Safe Republican</td>\n",
       "    </tr>\n",
       "    <tr>\n",
       "      <th>25</th>\n",
       "      <td>Kentucky</td>\n",
       "      <td>8</td>\n",
       "      <td>KY</td>\n",
       "      <td>776991.0</td>\n",
       "      <td>1341953.0</td>\n",
       "      <td>37927.0</td>\n",
       "      <td>2156871.0</td>\n",
       "      <td>0.360240</td>\n",
       "      <td>0.622176</td>\n",
       "      <td>gop</td>\n",
       "      <td>-26.193592</td>\n",
       "      <td>Safe Republican</td>\n",
       "    </tr>\n",
       "    <tr>\n",
       "      <th>26</th>\n",
       "      <td>Oregon</td>\n",
       "      <td>7</td>\n",
       "      <td>OR</td>\n",
       "      <td>1751176.0</td>\n",
       "      <td>1256654.0</td>\n",
       "      <td>85274.0</td>\n",
       "      <td>3093104.0</td>\n",
       "      <td>0.566155</td>\n",
       "      <td>0.406276</td>\n",
       "      <td>dem</td>\n",
       "      <td>15.987888</td>\n",
       "      <td>Safe Democrat</td>\n",
       "    </tr>\n",
       "    <tr>\n",
       "      <th>27</th>\n",
       "      <td>Oklahoma</td>\n",
       "      <td>7</td>\n",
       "      <td>OK</td>\n",
       "      <td>540444.0</td>\n",
       "      <td>1034947.0</td>\n",
       "      <td>38669.0</td>\n",
       "      <td>1614060.0</td>\n",
       "      <td>0.334835</td>\n",
       "      <td>0.641207</td>\n",
       "      <td>gop</td>\n",
       "      <td>-30.637213</td>\n",
       "      <td>Safe Republican</td>\n",
       "    </tr>\n",
       "    <tr>\n",
       "      <th>28</th>\n",
       "      <td>Connecticut</td>\n",
       "      <td>7</td>\n",
       "      <td>CT</td>\n",
       "      <td>1125232.0</td>\n",
       "      <td>756300.0</td>\n",
       "      <td>29773.0</td>\n",
       "      <td>1911305.0</td>\n",
       "      <td>0.588724</td>\n",
       "      <td>0.395698</td>\n",
       "      <td>dem</td>\n",
       "      <td>19.302623</td>\n",
       "      <td>Safe Democrat</td>\n",
       "    </tr>\n",
       "    <tr>\n",
       "      <th>29</th>\n",
       "      <td>Utah</td>\n",
       "      <td>6</td>\n",
       "      <td>UT</td>\n",
       "      <td>583124.0</td>\n",
       "      <td>854303.0</td>\n",
       "      <td>63219.0</td>\n",
       "      <td>1500646.0</td>\n",
       "      <td>0.388582</td>\n",
       "      <td>0.569290</td>\n",
       "      <td>gop</td>\n",
       "      <td>-18.070818</td>\n",
       "      <td>Safe Republican</td>\n",
       "    </tr>\n",
       "    <tr>\n",
       "      <th>30</th>\n",
       "      <td>Nevada</td>\n",
       "      <td>6</td>\n",
       "      <td>NV</td>\n",
       "      <td>212126.0</td>\n",
       "      <td>266637.0</td>\n",
       "      <td>12938.0</td>\n",
       "      <td>491701.0</td>\n",
       "      <td>0.431413</td>\n",
       "      <td>0.542275</td>\n",
       "      <td>gop</td>\n",
       "      <td>-11.086209</td>\n",
       "      <td>Safe Republican</td>\n",
       "    </tr>\n",
       "    <tr>\n",
       "      <th>31</th>\n",
       "      <td>Mississippi</td>\n",
       "      <td>6</td>\n",
       "      <td>MS</td>\n",
       "      <td>534760.0</td>\n",
       "      <td>751918.0</td>\n",
       "      <td>19018.0</td>\n",
       "      <td>1305696.0</td>\n",
       "      <td>0.409559</td>\n",
       "      <td>0.575875</td>\n",
       "      <td>gop</td>\n",
       "      <td>-16.631590</td>\n",
       "      <td>Safe Republican</td>\n",
       "    </tr>\n",
       "    <tr>\n",
       "      <th>32</th>\n",
       "      <td>Kansas</td>\n",
       "      <td>6</td>\n",
       "      <td>KS</td>\n",
       "      <td>559379.0</td>\n",
       "      <td>765934.0</td>\n",
       "      <td>32824.0</td>\n",
       "      <td>1358137.0</td>\n",
       "      <td>0.411872</td>\n",
       "      <td>0.563959</td>\n",
       "      <td>gop</td>\n",
       "      <td>-15.208701</td>\n",
       "      <td>Safe Republican</td>\n",
       "    </tr>\n",
       "    <tr>\n",
       "      <th>33</th>\n",
       "      <td>Iowa</td>\n",
       "      <td>6</td>\n",
       "      <td>IA</td>\n",
       "      <td>759597.0</td>\n",
       "      <td>900254.0</td>\n",
       "      <td>34245.0</td>\n",
       "      <td>1694096.0</td>\n",
       "      <td>0.448379</td>\n",
       "      <td>0.531407</td>\n",
       "      <td>gop</td>\n",
       "      <td>-8.302776</td>\n",
       "      <td>Likely Republican</td>\n",
       "    </tr>\n",
       "    <tr>\n",
       "      <th>34</th>\n",
       "      <td>Arkansas</td>\n",
       "      <td>6</td>\n",
       "      <td>AR</td>\n",
       "      <td>423932.0</td>\n",
       "      <td>760647.0</td>\n",
       "      <td>34490.0</td>\n",
       "      <td>1219069.0</td>\n",
       "      <td>0.347751</td>\n",
       "      <td>0.623957</td>\n",
       "      <td>gop</td>\n",
       "      <td>-27.620668</td>\n",
       "      <td>Safe Republican</td>\n",
       "    </tr>\n",
       "    <tr>\n",
       "      <th>35</th>\n",
       "      <td>West Virginia</td>\n",
       "      <td>5</td>\n",
       "      <td>WV</td>\n",
       "      <td>226471.0</td>\n",
       "      <td>518190.0</td>\n",
       "      <td>12354.0</td>\n",
       "      <td>757015.0</td>\n",
       "      <td>0.299163</td>\n",
       "      <td>0.684517</td>\n",
       "      <td>gop</td>\n",
       "      <td>-38.535432</td>\n",
       "      <td>Safe Republican</td>\n",
       "    </tr>\n",
       "    <tr>\n",
       "      <th>36</th>\n",
       "      <td>New Mexico</td>\n",
       "      <td>5</td>\n",
       "      <td>NM</td>\n",
       "      <td>412784.0</td>\n",
       "      <td>349277.0</td>\n",
       "      <td>16871.0</td>\n",
       "      <td>778932.0</td>\n",
       "      <td>0.529936</td>\n",
       "      <td>0.448405</td>\n",
       "      <td>dem</td>\n",
       "      <td>8.153087</td>\n",
       "      <td>Likely Democrat</td>\n",
       "    </tr>\n",
       "    <tr>\n",
       "      <th>37</th>\n",
       "      <td>Nebraska</td>\n",
       "      <td>5</td>\n",
       "      <td>NE</td>\n",
       "      <td>894821.0</td>\n",
       "      <td>983970.0</td>\n",
       "      <td>44752.0</td>\n",
       "      <td>1923543.0</td>\n",
       "      <td>0.465194</td>\n",
       "      <td>0.511540</td>\n",
       "      <td>gop</td>\n",
       "      <td>-4.634625</td>\n",
       "      <td>Likely Republican</td>\n",
       "    </tr>\n",
       "    <tr>\n",
       "      <th>38</th>\n",
       "      <td>Rhode Island</td>\n",
       "      <td>4</td>\n",
       "      <td>RI</td>\n",
       "      <td>275423.0</td>\n",
       "      <td>207895.0</td>\n",
       "      <td>9175.0</td>\n",
       "      <td>492493.0</td>\n",
       "      <td>0.559242</td>\n",
       "      <td>0.422128</td>\n",
       "      <td>dem</td>\n",
       "      <td>13.711464</td>\n",
       "      <td>Safe Democrat</td>\n",
       "    </tr>\n",
       "    <tr>\n",
       "      <th>39</th>\n",
       "      <td>New Hampshire</td>\n",
       "      <td>4</td>\n",
       "      <td>NH</td>\n",
       "      <td>751153.0</td>\n",
       "      <td>597460.0</td>\n",
       "      <td>21993.0</td>\n",
       "      <td>1370606.0</td>\n",
       "      <td>0.548044</td>\n",
       "      <td>0.435909</td>\n",
       "      <td>dem</td>\n",
       "      <td>11.213507</td>\n",
       "      <td>Safe Democrat</td>\n",
       "    </tr>\n",
       "    <tr>\n",
       "      <th>40</th>\n",
       "      <td>Maine</td>\n",
       "      <td>4</td>\n",
       "      <td>ME</td>\n",
       "      <td>570881.0</td>\n",
       "      <td>458258.0</td>\n",
       "      <td>30406.0</td>\n",
       "      <td>1059545.0</td>\n",
       "      <td>0.538798</td>\n",
       "      <td>0.432505</td>\n",
       "      <td>dem</td>\n",
       "      <td>10.629374</td>\n",
       "      <td>Safe Democrat</td>\n",
       "    </tr>\n",
       "    <tr>\n",
       "      <th>41</th>\n",
       "      <td>Idaho</td>\n",
       "      <td>4</td>\n",
       "      <td>ID</td>\n",
       "      <td>175638.0</td>\n",
       "      <td>447184.0</td>\n",
       "      <td>19460.0</td>\n",
       "      <td>642282.0</td>\n",
       "      <td>0.273459</td>\n",
       "      <td>0.696242</td>\n",
       "      <td>gop</td>\n",
       "      <td>-42.278314</td>\n",
       "      <td>Safe Republican</td>\n",
       "    </tr>\n",
       "    <tr>\n",
       "      <th>42</th>\n",
       "      <td>Hawaii</td>\n",
       "      <td>4</td>\n",
       "      <td>HI</td>\n",
       "      <td>381224.0</td>\n",
       "      <td>280481.0</td>\n",
       "      <td>15881.0</td>\n",
       "      <td>677586.0</td>\n",
       "      <td>0.562621</td>\n",
       "      <td>0.413942</td>\n",
       "      <td>dem</td>\n",
       "      <td>14.867928</td>\n",
       "      <td>Safe Democrat</td>\n",
       "    </tr>\n",
       "    <tr>\n",
       "      <th>43</th>\n",
       "      <td>Wyoming</td>\n",
       "      <td>3</td>\n",
       "      <td>WY</td>\n",
       "      <td>63611.0</td>\n",
       "      <td>180174.0</td>\n",
       "      <td>8611.0</td>\n",
       "      <td>252396.0</td>\n",
       "      <td>0.252029</td>\n",
       "      <td>0.713854</td>\n",
       "      <td>gop</td>\n",
       "      <td>-46.182586</td>\n",
       "      <td>Safe Republican</td>\n",
       "    </tr>\n",
       "    <tr>\n",
       "      <th>44</th>\n",
       "      <td>Vermont</td>\n",
       "      <td>3</td>\n",
       "      <td>VT</td>\n",
       "      <td>265192.0</td>\n",
       "      <td>129274.0</td>\n",
       "      <td>12097.0</td>\n",
       "      <td>406563.0</td>\n",
       "      <td>0.652278</td>\n",
       "      <td>0.317968</td>\n",
       "      <td>dem</td>\n",
       "      <td>33.430981</td>\n",
       "      <td>Safe Democrat</td>\n",
       "    </tr>\n",
       "    <tr>\n",
       "      <th>45</th>\n",
       "      <td>South Dakota</td>\n",
       "      <td>3</td>\n",
       "      <td>SD</td>\n",
       "      <td>164241.0</td>\n",
       "      <td>292721.0</td>\n",
       "      <td>11819.0</td>\n",
       "      <td>468781.0</td>\n",
       "      <td>0.350358</td>\n",
       "      <td>0.624430</td>\n",
       "      <td>gop</td>\n",
       "      <td>-27.407254</td>\n",
       "      <td>Safe Republican</td>\n",
       "    </tr>\n",
       "    <tr>\n",
       "      <th>46</th>\n",
       "      <td>North Dakota</td>\n",
       "      <td>3</td>\n",
       "      <td>ND</td>\n",
       "      <td>129129.0</td>\n",
       "      <td>274032.0</td>\n",
       "      <td>11975.0</td>\n",
       "      <td>415136.0</td>\n",
       "      <td>0.311052</td>\n",
       "      <td>0.660102</td>\n",
       "      <td>gop</td>\n",
       "      <td>-34.904947</td>\n",
       "      <td>Safe Republican</td>\n",
       "    </tr>\n",
       "    <tr>\n",
       "      <th>47</th>\n",
       "      <td>Montana</td>\n",
       "      <td>3</td>\n",
       "      <td>MT</td>\n",
       "      <td>245352.0</td>\n",
       "      <td>350650.0</td>\n",
       "      <td>17539.0</td>\n",
       "      <td>613541.0</td>\n",
       "      <td>0.399895</td>\n",
       "      <td>0.571518</td>\n",
       "      <td>gop</td>\n",
       "      <td>-17.162341</td>\n",
       "      <td>Safe Republican</td>\n",
       "    </tr>\n",
       "    <tr>\n",
       "      <th>48</th>\n",
       "      <td>Delaware</td>\n",
       "      <td>3</td>\n",
       "      <td>DE</td>\n",
       "      <td>569039.0</td>\n",
       "      <td>178180.0</td>\n",
       "      <td>14122.0</td>\n",
       "      <td>761341.0</td>\n",
       "      <td>0.747417</td>\n",
       "      <td>0.234034</td>\n",
       "      <td>dem</td>\n",
       "      <td>51.338231</td>\n",
       "      <td>Safe Democrat</td>\n",
       "    </tr>\n",
       "    <tr>\n",
       "      <th>49</th>\n",
       "      <td>District of Columbia</td>\n",
       "      <td>3</td>\n",
       "      <td>DC</td>\n",
       "      <td>89704.0</td>\n",
       "      <td>50972.0</td>\n",
       "      <td>1928.0</td>\n",
       "      <td>142604.0</td>\n",
       "      <td>0.629043</td>\n",
       "      <td>0.357437</td>\n",
       "      <td>dem</td>\n",
       "      <td>27.160528</td>\n",
       "      <td>Safe Democrat</td>\n",
       "    </tr>\n",
       "  </tbody>\n",
       "</table>\n",
       "</div>"
      ],
      "text/plain": [
       "                   state  electoral_votes_number state_code   Votes_dem  \\\n",
       "0             California                      55         CA  11109764.0   \n",
       "1                  Texas                      38         TX   5259151.0   \n",
       "2               New York                      29         NY   5181454.0   \n",
       "3                Florida                      29         FL   5209125.0   \n",
       "4           Pennsylvania                      20         PA   3078120.0   \n",
       "5               Illinois                      20         IL   3538593.0   \n",
       "6                   Ohio                      18         OH   2664479.0   \n",
       "7               Michigan                      16         MI   2904345.0   \n",
       "8                Georgia                      16         GA   2530580.0   \n",
       "9         North Carolina                      15         NC   2643400.0   \n",
       "10            New Jersey                      14         NJ   2442912.0   \n",
       "11              Virginia                      13         VA   2369588.0   \n",
       "12            Washington                      12         WA   2382191.0   \n",
       "13             Tennessee                      11         TN   1132322.0   \n",
       "14         Massachusetts                      11         MA   2242698.0   \n",
       "15               Indiana                      11         IN   1167858.0   \n",
       "16               Arizona                      11         AZ   1672143.0   \n",
       "17             Wisconsin                      10         WI   1631423.0   \n",
       "18              Missouri                      10         MO   1251052.0   \n",
       "19             Minnesota                      10         MN   1623276.0   \n",
       "20              Maryland                      10         MD   1946741.0   \n",
       "21        South Carolina                       9         SC   1057589.0   \n",
       "22              Colorado                       9         CO   1804352.0   \n",
       "23               Alabama                       9         AL    849648.0   \n",
       "24             Louisiana                       8         LA    890056.0   \n",
       "25              Kentucky                       8         KY    776991.0   \n",
       "26                Oregon                       7         OR   1751176.0   \n",
       "27              Oklahoma                       7         OK    540444.0   \n",
       "28           Connecticut                       7         CT   1125232.0   \n",
       "29                  Utah                       6         UT    583124.0   \n",
       "30                Nevada                       6         NV    212126.0   \n",
       "31           Mississippi                       6         MS    534760.0   \n",
       "32                Kansas                       6         KS    559379.0   \n",
       "33                  Iowa                       6         IA    759597.0   \n",
       "34              Arkansas                       6         AR    423932.0   \n",
       "35         West Virginia                       5         WV    226471.0   \n",
       "36            New Mexico                       5         NM    412784.0   \n",
       "37              Nebraska                       5         NE    894821.0   \n",
       "38          Rhode Island                       4         RI    275423.0   \n",
       "39         New Hampshire                       4         NH    751153.0   \n",
       "40                 Maine                       4         ME    570881.0   \n",
       "41                 Idaho                       4         ID    175638.0   \n",
       "42                Hawaii                       4         HI    381224.0   \n",
       "43               Wyoming                       3         WY     63611.0   \n",
       "44               Vermont                       3         VT    265192.0   \n",
       "45          South Dakota                       3         SD    164241.0   \n",
       "46          North Dakota                       3         ND    129129.0   \n",
       "47               Montana                       3         MT    245352.0   \n",
       "48              Delaware                       3         DE    569039.0   \n",
       "49  District of Columbia                       3         DC     89704.0   \n",
       "\n",
       "    Votes_gop  Votes_other  Votes_total   Per_dem   Per_gop Winner  \\\n",
       "0   6005961.0     380181.0   17495906.0  0.634992  0.343278    dem   \n",
       "1   5894537.0     169260.0   11322948.0  0.464468  0.520583    gop   \n",
       "2   3246958.0     119237.0    8547649.0  0.606185  0.379866    dem   \n",
       "3   5624329.0      99788.0   10933242.0  0.476448  0.514425    gop   \n",
       "4   3109573.0      77556.0    6265249.0  0.491301  0.496321    gop   \n",
       "5   2523954.0     123442.0    6185989.0  0.572034  0.408011    dem   \n",
       "6   3119411.0      87531.0    5871421.0  0.453805  0.531287    gop   \n",
       "7   2753150.0      90772.0    5748267.0  0.505256  0.478953    dem   \n",
       "8   2482181.0      64379.0    5077140.0  0.498426  0.488894    dem   \n",
       "9   2701378.0      80530.0    5425308.0  0.487235  0.497922    gop   \n",
       "10  1732252.0      71085.0    4246249.0  0.575311  0.407949    dem   \n",
       "11  1943680.0      83450.0    4396718.0  0.538945  0.442075    dem   \n",
       "12  1611820.0     134019.0    4128030.0  0.577077  0.390457    dem   \n",
       "13  1834990.0      56971.0    3024283.0  0.374410  0.606752    gop   \n",
       "14  1101689.0      77507.0    3421894.0  0.655397  0.321953    dem   \n",
       "15  1631530.0      56856.0    2856244.0  0.408879  0.571215    gop   \n",
       "16  1661686.0      53497.0    3387326.0  0.493647  0.490560    dem   \n",
       "17  1612247.0      57476.0    3301146.0  0.494199  0.488390    dem   \n",
       "18  1711198.0      54069.0    3016319.0  0.414761  0.567313    gop   \n",
       "19  1391419.0      70889.0    3085584.0  0.526084  0.450942    dem   \n",
       "20   901082.0      70649.0    2918472.0  0.667041  0.308751    dem   \n",
       "21  1331159.0      35449.0    2424197.0  0.436264  0.549113    gop   \n",
       "22  1364607.0      87994.0    3256953.0  0.554000  0.418983    dem   \n",
       "23  1441168.0      32488.0    2323304.0  0.365707  0.620310    gop   \n",
       "24  1275954.0      38270.0    2204280.0  0.403785  0.578853    gop   \n",
       "25  1341953.0      37927.0    2156871.0  0.360240  0.622176    gop   \n",
       "26  1256654.0      85274.0    3093104.0  0.566155  0.406276    dem   \n",
       "27  1034947.0      38669.0    1614060.0  0.334835  0.641207    gop   \n",
       "28   756300.0      29773.0    1911305.0  0.588724  0.395698    dem   \n",
       "29   854303.0      63219.0    1500646.0  0.388582  0.569290    gop   \n",
       "30   266637.0      12938.0     491701.0  0.431413  0.542275    gop   \n",
       "31   751918.0      19018.0    1305696.0  0.409559  0.575875    gop   \n",
       "32   765934.0      32824.0    1358137.0  0.411872  0.563959    gop   \n",
       "33   900254.0      34245.0    1694096.0  0.448379  0.531407    gop   \n",
       "34   760647.0      34490.0    1219069.0  0.347751  0.623957    gop   \n",
       "35   518190.0      12354.0     757015.0  0.299163  0.684517    gop   \n",
       "36   349277.0      16871.0     778932.0  0.529936  0.448405    dem   \n",
       "37   983970.0      44752.0    1923543.0  0.465194  0.511540    gop   \n",
       "38   207895.0       9175.0     492493.0  0.559242  0.422128    dem   \n",
       "39   597460.0      21993.0    1370606.0  0.548044  0.435909    dem   \n",
       "40   458258.0      30406.0    1059545.0  0.538798  0.432505    dem   \n",
       "41   447184.0      19460.0     642282.0  0.273459  0.696242    gop   \n",
       "42   280481.0      15881.0     677586.0  0.562621  0.413942    dem   \n",
       "43   180174.0       8611.0     252396.0  0.252029  0.713854    gop   \n",
       "44   129274.0      12097.0     406563.0  0.652278  0.317968    dem   \n",
       "45   292721.0      11819.0     468781.0  0.350358  0.624430    gop   \n",
       "46   274032.0      11975.0     415136.0  0.311052  0.660102    gop   \n",
       "47   350650.0      17539.0     613541.0  0.399895  0.571518    gop   \n",
       "48   178180.0      14122.0     761341.0  0.747417  0.234034    dem   \n",
       "49    50972.0       1928.0     142604.0  0.629043  0.357437    dem   \n",
       "\n",
       "    Difference             Status  \n",
       "0    29.171413      Safe Democrat  \n",
       "1    -5.611489  Likely Republican  \n",
       "2    22.631907      Safe Democrat  \n",
       "3    -3.797629  Likely Republican  \n",
       "4    -0.502023            Toss-Up  \n",
       "5    16.402212      Safe Democrat  \n",
       "6    -7.748244  Likely Republican  \n",
       "7     2.630271    Likely Democrat  \n",
       "8     0.953273            Toss-Up  \n",
       "9    -1.068658            Toss-Up  \n",
       "10   16.736183      Safe Democrat  \n",
       "11    9.686953    Likely Democrat  \n",
       "12   18.661953      Safe Democrat  \n",
       "13  -23.234201    Safe Republican  \n",
       "14   33.344370      Safe Democrat  \n",
       "15  -16.233627    Safe Republican  \n",
       "16    0.308710            Toss-Up  \n",
       "17    0.580889            Toss-Up  \n",
       "18  -15.255217    Safe Republican  \n",
       "19    7.514202    Likely Democrat  \n",
       "20   35.828989      Safe Democrat  \n",
       "21  -11.284974    Safe Republican  \n",
       "22   13.501730      Safe Democrat  \n",
       "23  -25.460293    Safe Republican  \n",
       "24  -17.506760    Safe Republican  \n",
       "25  -26.193592    Safe Republican  \n",
       "26   15.987888      Safe Democrat  \n",
       "27  -30.637213    Safe Republican  \n",
       "28   19.302623      Safe Democrat  \n",
       "29  -18.070818    Safe Republican  \n",
       "30  -11.086209    Safe Republican  \n",
       "31  -16.631590    Safe Republican  \n",
       "32  -15.208701    Safe Republican  \n",
       "33   -8.302776  Likely Republican  \n",
       "34  -27.620668    Safe Republican  \n",
       "35  -38.535432    Safe Republican  \n",
       "36    8.153087    Likely Democrat  \n",
       "37   -4.634625  Likely Republican  \n",
       "38   13.711464      Safe Democrat  \n",
       "39   11.213507      Safe Democrat  \n",
       "40   10.629374      Safe Democrat  \n",
       "41  -42.278314    Safe Republican  \n",
       "42   14.867928      Safe Democrat  \n",
       "43  -46.182586    Safe Republican  \n",
       "44   33.430981      Safe Democrat  \n",
       "45  -27.407254    Safe Republican  \n",
       "46  -34.904947    Safe Republican  \n",
       "47  -17.162341    Safe Republican  \n",
       "48   51.338231      Safe Democrat  \n",
       "49   27.160528      Safe Democrat  "
      ]
     },
     "execution_count": 54,
     "metadata": {},
     "output_type": "execute_result"
    }
   ],
   "source": [
    "# Cargar datos electorales reales\n",
    "df_actual = pd.DataFrame({f'Votes_dem': data[f'votes_dem_{ELECTORAL_YEAR}'], \n",
    "                            f'Votes_gop': data[f'total_votes_{ELECTORAL_YEAR}'] - data[f'votes_dem_{ELECTORAL_YEAR}'] - data[f'votes_others_{ELECTORAL_YEAR}'], \n",
    "                            f'Votes_other': data[f'votes_others_{ELECTORAL_YEAR}'],\n",
    "                            f'Votes_total': data[f'total_votes_{ELECTORAL_YEAR}'], \n",
    "                            'state': state_names,\n",
    "                            'county': county_names,\n",
    "                            'fips': fips_codes})\n",
    "df_actual_state = df_actual.groupby('state').agg(Votes_dem=(f'Votes_dem', 'sum'), \n",
    "                                                    Votes_gop=(f'Votes_gop', 'sum'),\n",
    "                                                    Votes_other=(f'Votes_other', 'sum'),\n",
    "                                                    Votes_total=(f'Votes_total', 'sum'))\n",
    "\n",
    "df_actual_state[\"Per_dem\"] = df_actual_state[\"Votes_dem\"] / df_actual_state[\"Votes_total\"]\n",
    "df_actual_state[\"Per_gop\"] = df_actual_state[\"Votes_gop\"] / df_actual_state[\"Votes_total\"]\n",
    "\n",
    "# Añadir la columna \"Winner\" basado en los porcentajes predichos de Biden y Trump\n",
    "df_actual_state[\"Winner\"] = np.where(df_actual_state[\"Per_dem\"] < df_actual_state[\"Per_gop\"], 'gop', 'dem')\n",
    "\n",
    "\n",
    "full_df_actual_state = pd.merge(seats_data, df_actual_state, how='inner', on=[\"state\"])\n",
    "\n",
    "\n",
    "\n",
    "# Añadir diferencia entre Biden y Trump\n",
    "full_df_actual_state['Difference'] = (full_df_actual_state[\"Per_dem\"] - full_df_actual_state[\"Per_gop\"]) * 100\n",
    "\n",
    "\n",
    "# Definir las condiciones y los valores a asignar\n",
    "conditions = [\n",
    "    full_df_actual_state[\"Difference\"] > 10,\n",
    "    full_df_actual_state[\"Difference\"].between(2.5, 10),\n",
    "    full_df_actual_state[\"Difference\"].between(-2.5, 2.5),\n",
    "    full_df_actual_state[\"Difference\"].between(-10, -2.5),\n",
    "    full_df_actual_state[\"Difference\"] < -10\n",
    "]\n",
    "\n",
    "choices = [\n",
    "    \"Safe Democrat\",\n",
    "    \"Likely Democrat\",\n",
    "    \"Toss-Up\",\n",
    "    \"Likely Republican\",\n",
    "    \"Safe Republican\"\n",
    "]\n",
    "\n",
    "# Usar np.select para asignar el \"Status\" basado en las condiciones, con un valor por defecto \"Unknown\"\n",
    "full_df_actual_state[\"Status\"] = np.select(conditions, choices, default=\"Unknown\")\n",
    "\n",
    "full_df_actual_state"
   ]
  },
  {
   "cell_type": "markdown",
   "metadata": {},
   "source": [
    "## Algorithm (train/test random)"
   ]
  },
  {
   "cell_type": "code",
   "execution_count": 55,
   "metadata": {},
   "outputs": [],
   "source": [
    "n_sim = 100"
   ]
  },
  {
   "cell_type": "code",
   "execution_count": 56,
   "metadata": {},
   "outputs": [
    {
     "name": "stdout",
     "output_type": "stream",
     "text": [
      "Simulation 0\n",
      "Simulation 1\n",
      "Simulation 2\n",
      "Simulation 3\n",
      "Simulation 4\n",
      "Simulation 5\n",
      "Simulation 6\n",
      "Simulation 7\n",
      "Simulation 8\n",
      "Simulation 9\n",
      "Simulation 10\n",
      "Simulation 11\n",
      "Simulation 12\n",
      "Simulation 13\n",
      "Simulation 14\n",
      "Simulation 15\n",
      "Simulation 16\n",
      "Simulation 17\n",
      "Simulation 18\n",
      "Simulation 19\n",
      "Simulation 20\n",
      "Simulation 21\n",
      "Simulation 22\n",
      "Simulation 23\n",
      "Simulation 24\n",
      "Simulation 25\n",
      "Simulation 26\n",
      "Simulation 27\n",
      "Simulation 28\n",
      "Simulation 29\n",
      "Simulation 30\n",
      "Simulation 31\n",
      "Simulation 32\n",
      "Simulation 33\n",
      "Simulation 34\n",
      "Simulation 35\n",
      "Simulation 36\n",
      "Simulation 37\n",
      "Simulation 38\n",
      "Simulation 39\n",
      "Simulation 40\n",
      "Simulation 41\n",
      "Simulation 42\n",
      "Simulation 43\n",
      "Simulation 44\n",
      "Simulation 45\n",
      "Simulation 46\n",
      "Simulation 47\n",
      "Simulation 48\n",
      "Simulation 49\n",
      "Simulation 50\n",
      "Simulation 51\n",
      "Simulation 52\n",
      "Simulation 53\n",
      "Simulation 54\n",
      "Simulation 55\n",
      "Simulation 56\n",
      "Simulation 57\n",
      "Simulation 58\n",
      "Simulation 59\n",
      "Simulation 60\n",
      "Simulation 61\n",
      "Simulation 62\n",
      "Simulation 63\n",
      "Simulation 64\n",
      "Simulation 65\n",
      "Simulation 66\n",
      "Simulation 67\n",
      "Simulation 68\n",
      "Simulation 69\n",
      "Simulation 70\n",
      "Simulation 71\n",
      "Simulation 72\n",
      "Simulation 73\n",
      "Simulation 74\n",
      "Simulation 75\n",
      "Simulation 76\n",
      "Simulation 77\n",
      "Simulation 78\n",
      "Simulation 79\n",
      "Simulation 80\n",
      "Simulation 81\n",
      "Simulation 82\n",
      "Simulation 83\n",
      "Simulation 84\n",
      "Simulation 85\n",
      "Simulation 86\n",
      "Simulation 87\n",
      "Simulation 88\n",
      "Simulation 89\n",
      "Simulation 90\n",
      "Simulation 91\n",
      "Simulation 92\n",
      "Simulation 93\n",
      "Simulation 94\n",
      "Simulation 95\n",
      "Simulation 96\n",
      "Simulation 97\n",
      "Simulation 98\n",
      "Simulation 99\n"
     ]
    }
   ],
   "source": [
    "# Inicializar un DataFrame para guardar los resultados de las simulaciones\n",
    "# simulation_results = pd.DataFrame(columns=['Pred_dem', 'Pred_gop', 'dem', 'gop'])\n",
    "simulation_results = pd.DataFrame(columns=['Pred_dem', 'Pred_gop'])\n",
    "\n",
    "\n",
    "# Inicializar un DataFrame para acumular los resultados por estado\n",
    "accumulated_pred_state = pd.DataFrame()\n",
    "\n",
    "for i in range(0, n_sim):\n",
    "\n",
    "    print(f\"Simulation {i}\")\n",
    "\n",
    "    ## Data splitting\n",
    "    # Quitar la columna objetivo (f'per_dem_{ELECTORAL_YEAR}') del conjunto de datos\n",
    "    X = data_sim.drop(columns=[f'per_dem_{ELECTORAL_YEAR}'])  # Características (sin la columna objetivo)\n",
    "    y = data_sim[f'per_dem_{ELECTORAL_YEAR}']  # Columna objetivo\n",
    "\n",
    "    # Dividir los datos en 80% para train y 20% para test (cada sim es distinto)\n",
    "    X_train, X_test, y_train, y_test = train_test_split(X, y, test_size=0.2)\n",
    "\n",
    "    # Añadir ruido a los datos de entrenamiento con bootstrap\n",
    "    # X_train = X_train + np.random.normal(0, 0.01, X_train.shape)\n",
    "\n",
    "    ## Models\n",
    "    # Linear Regression\n",
    "    lr_model = LinearRegression()\n",
    "    lr_model.fit(X_train, y_train)\n",
    "    pred_lr = lr_model.predict(X_test)\n",
    "\n",
    "    # Random Forest\n",
    "    rf_model = RandomForestRegressor(n_estimators=100, random_state=i)\n",
    "    rf_model.fit(X_train, y_train)\n",
    "    pred_rf = rf_model.predict(X_test)\n",
    "\n",
    "    # KNN\n",
    "    knn_model = KNeighborsRegressor(n_neighbors=5)  # Puedes ajustar el número de vecinos\n",
    "    knn_model.fit(X_train, y_train)\n",
    "    pred_knn = knn_model.predict(X_test)\n",
    "\n",
    "    # Predicciones combinadas\n",
    "    predictions = (pred_lr + pred_rf + pred_knn) / 3  # Promedio de predicciones de los tres modelos\n",
    "\n",
    "    # Todos los votos por condado, pero usando predicciones\n",
    "    per_dem_pred = data[f'per_dem_{ELECTORAL_YEAR}'].copy()\n",
    "    per_dem_pred.iloc[X_test.index] = predictions\n",
    "\n",
    "    # Agrupar por estado para calcular las predicciones por estado\n",
    "    df_pred = pd.DataFrame({'Votes_dem': per_dem_pred * data[f'total_votes_{ELECTORAL_YEAR}'], \n",
    "                            'Votes_gop': (1 - per_dem_pred - data[f'per_votes_others_{ELECTORAL_YEAR}']) * data[f'total_votes_{ELECTORAL_YEAR}'],\n",
    "                            'Votes_other':  data[f'votes_others_{ELECTORAL_YEAR}'],\n",
    "                            'Votes_total': data[f'total_votes_{ELECTORAL_YEAR}'], \n",
    "                            'state': state_names,\n",
    "                            'county': county_names,\n",
    "                            'fips': fips_codes})\n",
    "    df_pred_state = df_pred.groupby('state').agg(Votes_dem=(\"Votes_dem\", 'sum'), \n",
    "                                                 Votes_gop=(\"Votes_gop\", 'sum'),\n",
    "                                                 Votes_other=(\"Votes_other\", 'sum'),\n",
    "                                                 Votes_total=(\"Votes_total\", 'sum'))\n",
    "    \n",
    "    \n",
    "    # Calcular porcentaje de cada candidato en el estado\n",
    "    df_pred_state[\"Per_dem\"] = df_pred_state[\"Votes_dem\"] / df_pred_state[\"Votes_total\"] + 1/2*(df_pred_state[\"Votes_other\"] / df_pred_state[\"Votes_total\"]) # asumimos que el voto a \"otros\" se reparte por igual para biden y trump\n",
    "    df_pred_state[\"Per_gop\"] = 1 - df_pred_state[\"Per_dem\"]\n",
    "\n",
    "    # Acumular los resultados de cada simulación\n",
    "    if accumulated_pred_state.empty:\n",
    "        accumulated_pred_state = df_pred_state.copy()  # Primera iteración, simplemente copiamos los datos\n",
    "    else:\n",
    "        accumulated_pred_state['Votes_dem'] += df_pred_state['Votes_dem']\n",
    "        accumulated_pred_state['Votes_gop'] += df_pred_state['Votes_gop']\n",
    "        accumulated_pred_state['Votes_total'] += df_pred_state['Votes_total']\n",
    "        accumulated_pred_state[\"Per_dem\"] += df_pred_state[\"Per_dem\"]\n",
    "        accumulated_pred_state[\"Per_gop\"] += df_pred_state[\"Per_gop\"]\n",
    "\n",
    "    # Predicción y ganadores\n",
    "    df_pred_state[\"Winner\"] = np.where(df_pred_state[\"Per_dem\"] < df_pred_state[\"Per_gop\"], 'gop', 'dem')    \n",
    "\n",
    "    # Añadir votos electorales (escaños) a cada estado\n",
    "    full_df_pred_state = pd.merge(seats_data, df_pred_state, how='inner', on=[\"state\"])\n",
    "\n",
    "    # Agrupar por estado y sumar los votos\n",
    "    df_pred_winner = full_df_pred_state.groupby(\"Winner\").agg({\n",
    "        \"electoral_votes_number\": \"sum\",  # Sumar los votos electorales de cada candidato\n",
    "    }).reset_index()\n",
    "\n",
    "    df_pred_winner.loc[df_pred_winner[\"Winner\"] == 'gop', 'electoral_votes_number'] += 3 # Añadir 3 al número de votos electorales de Trump por Alaska\n",
    "\n",
    "    # Crear un nuevo DataFrame con los resultados de esta simulación\n",
    "    new_row = pd.DataFrame({\n",
    "        'Pred_dem': [df_pred_winner.loc[df_pred_winner[\"Winner\"] == 'dem', 'electoral_votes_number'].values[0]],\n",
    "        'Pred_gop': [df_pred_winner.loc[df_pred_winner[\"Winner\"] == 'gop', 'electoral_votes_number'].values[0]],\n",
    "        'Winner': ['dem' if df_pred_winner.loc[df_pred_winner[\"Winner\"] == 'dem', 'electoral_votes_number'].values[0] > df_pred_winner.loc[df_pred_winner[\"Winner\"] == 'gop', 'electoral_votes_number'].values[0] else 'gop']\n",
    "    })\n",
    "\n",
    "    # Usar concat para añadir la nueva fila\n",
    "    simulation_results = pd.concat([simulation_results, new_row], ignore_index=True)\n",
    "\n",
    "# Después de todas las simulaciones, calcular la media\n",
    "accumulated_pred_state['Votes_dem'] /= n_sim\n",
    "accumulated_pred_state['Votes_gop'] /= n_sim\n",
    "accumulated_pred_state['Votes_total'] /= n_sim\n",
    "accumulated_pred_state['Per_dem'] /= n_sim\n",
    "accumulated_pred_state['Per_gop'] /= n_sim\n"
   ]
  },
  {
   "cell_type": "markdown",
   "metadata": {},
   "source": [
    "## Algorithm (test swing states)"
   ]
  },
  {
   "cell_type": "code",
   "execution_count": 21,
   "metadata": {},
   "outputs": [],
   "source": [
    "n_sim = 10"
   ]
  },
  {
   "cell_type": "code",
   "execution_count": null,
   "metadata": {},
   "outputs": [
    {
     "name": "stdout",
     "output_type": "stream",
     "text": [
      "Simulation 0\n",
      "Simulation 1\n",
      "Simulation 2\n",
      "Simulation 3\n",
      "Simulation 4\n",
      "Simulation 5\n",
      "Simulation 6\n",
      "Simulation 7\n",
      "Simulation 8\n",
      "Simulation 9\n"
     ]
    }
   ],
   "source": [
    "# Inicializar un DataFrame para guardar los resultados de las simulaciones\n",
    "# simulation_results = pd.DataFrame(columns=['Pred_dem', 'Pred_gop', 'dem', 'gop'])\n",
    "simulation_results = pd.DataFrame(columns=['Pred_dem', 'Pred_gop'])\n",
    "\n",
    "# Inicializar un DataFrame para acumular los resultados por estado\n",
    "accumulated_pred_state = pd.DataFrame()\n",
    "\n",
    "# Definir los nombres de los swing states\n",
    "swing_states = [\n",
    "    \"Arizona\", \"Georgia\", \"Michigan\", \"Nevada\", \"North Carolina\",\n",
    "    \"Pennsylvania\", \"Wisconsin\"\n",
    "]\n",
    "\n",
    "\n",
    "# Obtener los índices de los condados que están en swing states\n",
    "swing_indices = state_fips_county[state_fips_county['state'].isin(swing_states)].index\n",
    "\n",
    "\n",
    "for i in range(0, n_sim):\n",
    "\n",
    "    print(f\"Simulation {i}\")\n",
    "\n",
    "    ## Data splitting\n",
    "    # Quitar la columna objetivo (f'per_dem_{ELECTORAL_YEAR}') del conjunto de datos\n",
    "    X = data_sim.drop(columns=[f'per_dem_{ELECTORAL_YEAR}'])  # Características (sin la columna objetivo)\n",
    "    y = data_sim[f'per_dem_{ELECTORAL_YEAR}']  # Columna objetivo\n",
    "\n",
    "    # Dividir los datos en 80% para train y 20% para test (cada sim es distinto)\n",
    "    # X_train, X_test, y_train, y_test = train_test_split(X, y, test_size=0.2)\n",
    "    \n",
    "    # Dividir los datos\n",
    "    X_test = X.loc[swing_indices]\n",
    "    y_test = y.loc[swing_indices]\n",
    "\n",
    "    # El resto será el train set\n",
    "    X_test = X.drop(index=swing_indices)\n",
    "    y_train = y.drop(index=swing_indices)\n",
    "\n",
    "    ## Models\n",
    "    # Linear Regression\n",
    "    lr_model = LinearRegression()\n",
    "    lr_model.fit(X_train, y_train)\n",
    "    pred_lr = lr_model.predict(X_test)\n",
    "\n",
    "    # Random Forest\n",
    "    rf_model = RandomForestRegressor(n_estimators=100, random_state=i)\n",
    "    rf_model.fit(X_train, y_train)\n",
    "    pred_rf = rf_model.predict(X_test)\n",
    "\n",
    "    # KNN\n",
    "    knn_model = KNeighborsRegressor(n_neighbors=5)  # Puedes ajustar el número de vecinos\n",
    "    knn_model.fit(X_train, y_train)\n",
    "    pred_knn = knn_model.predict(X_test)\n",
    "\n",
    "    # Predicciones combinadas\n",
    "    predictions = (pred_lr + pred_rf + pred_knn) / 3  # Promedio de predicciones de los tres modelos\n",
    "\n",
    "    # Todos los votos por condado, pero usando predicciones\n",
    "    per_dem_pred = data[f'per_dem_{ELECTORAL_YEAR}'].copy()\n",
    "    per_dem_pred.iloc[X_test.index] = predictions\n",
    "\n",
    "    # Agrupar por estado para calcular las predicciones por estado\n",
    "    df_pred = pd.DataFrame({'Votes_dem': per_dem_pred * data[f'total_votes_{ELECTORAL_YEAR}'], \n",
    "                            'Votes_gop': (1 - per_dem_pred - data[f'per_votes_others_{ELECTORAL_YEAR}']) * data[f'total_votes_{ELECTORAL_YEAR}'],\n",
    "                            'Votes_other':  data[f'votes_others_{ELECTORAL_YEAR}'],\n",
    "                            'Votes_total': data[f'total_votes_{ELECTORAL_YEAR}'], \n",
    "                            'state': state_names,\n",
    "                            'county': county_names,\n",
    "                            'fips': fips_codes})\n",
    "    df_pred_state = df_pred.groupby('state').agg(Votes_dem=(\"Votes_dem\", 'sum'), \n",
    "                                                 Votes_gop=(\"Votes_gop\", 'sum'),\n",
    "                                                 Votes_other=(\"Votes_other\", 'sum'),\n",
    "                                                 Votes_total=(\"Votes_total\", 'sum'))\n",
    "    \n",
    "    \n",
    "    # Calcular porcentaje de cada candidato en el estado\n",
    "    df_pred_state[\"Per_dem\"] = df_pred_state[\"Votes_dem\"] / df_pred_state[\"Votes_total\"] + 1/2*(df_pred_state[\"Votes_other\"] / df_pred_state[\"Votes_total\"]) # asumimos que el voto a \"otros\" se reparte por igual para biden y trump\n",
    "    df_pred_state[\"Per_gop\"] = 1 - df_pred_state[\"Per_dem\"]\n",
    "\n",
    "    # Acumular los resultados de cada simulación\n",
    "    if accumulated_pred_state.empty:\n",
    "        accumulated_pred_state = df_pred_state.copy()  # Primera iteración, simplemente copiamos los datos\n",
    "    else:\n",
    "        accumulated_pred_state['Votes_dem'] += df_pred_state['Votes_dem']\n",
    "        accumulated_pred_state['Votes_gop'] += df_pred_state['Votes_gop']\n",
    "        accumulated_pred_state['Votes_total'] += df_pred_state['Votes_total']\n",
    "        accumulated_pred_state[\"Per_dem\"] += df_pred_state[\"Per_dem\"]\n",
    "        accumulated_pred_state[\"Per_gop\"] += df_pred_state[\"Per_gop\"]\n",
    "\n",
    "    # Predicción y ganadores\n",
    "    df_pred_state[\"Winner\"] = np.where(df_pred_state[\"Per_dem\"] < df_pred_state[\"Per_gop\"], 'gop', 'dem')    \n",
    "\n",
    "    # Añadir votos electorales (escaños) a cada estado\n",
    "    full_df_pred_state = pd.merge(seats_data, df_pred_state, how='inner', on=[\"state\"])\n",
    "\n",
    "    # Agrupar por estado y sumar los votos\n",
    "    df_pred_winner = full_df_pred_state.groupby(\"Winner\").agg({\n",
    "        \"electoral_votes_number\": \"sum\",  # Sumar los votos electorales de cada candidato\n",
    "    }).reset_index()\n",
    "\n",
    "    df_pred_winner.loc[df_pred_winner[\"Winner\"] == 'gop', 'electoral_votes_number'] += 3 # Añadir 3 al número de votos electorales de Trump por Alaska\n",
    "\n",
    "    # Crear un nuevo DataFrame con los resultados de esta simulación\n",
    "    new_row = pd.DataFrame({\n",
    "        'Pred_dem': [df_pred_winner.loc[df_pred_winner[\"Winner\"] == 'dem', 'electoral_votes_number'].values[0]],\n",
    "        'Pred_gop': [df_pred_winner.loc[df_pred_winner[\"Winner\"] == 'gop', 'electoral_votes_number'].values[0]],\n",
    "        'Winner': ['dem' if df_pred_winner.loc[df_pred_winner[\"Winner\"] == 'dem', 'electoral_votes_number'].values[0] > df_pred_winner.loc[df_pred_winner[\"Winner\"] == 'gop', 'electoral_votes_number'].values[0] else 'gop']\n",
    "    })\n",
    "\n",
    "    # Usar concat para añadir la nueva fila\n",
    "    simulation_results = pd.concat([simulation_results, new_row], ignore_index=True)\n",
    "\n",
    "# Después de todas las simulaciones, calcular la media\n",
    "accumulated_pred_state['Votes_dem'] /= n_sim\n",
    "accumulated_pred_state['Votes_gop'] /= n_sim\n",
    "accumulated_pred_state['Votes_total'] /= n_sim\n",
    "accumulated_pred_state['Per_dem'] /= n_sim\n",
    "accumulated_pred_state['Per_gop'] /= n_sim\n"
   ]
  },
  {
   "cell_type": "markdown",
   "metadata": {},
   "source": [
    "## Results"
   ]
  },
  {
   "cell_type": "code",
   "execution_count": 57,
   "metadata": {},
   "outputs": [
    {
     "data": {
      "text/plain": [
       "Winner\n",
       "dem    59\n",
       "gop    41\n",
       "Name: count, dtype: int64"
      ]
     },
     "execution_count": 57,
     "metadata": {},
     "output_type": "execute_result"
    }
   ],
   "source": [
    "simulation_results[\"Winner\"].value_counts()"
   ]
  },
  {
   "cell_type": "code",
   "execution_count": 58,
   "metadata": {},
   "outputs": [
    {
     "data": {
      "text/plain": [
       "Winner\n",
       "dem    0.59\n",
       "gop    0.41\n",
       "Name: proportion, dtype: float64"
      ]
     },
     "execution_count": 58,
     "metadata": {},
     "output_type": "execute_result"
    }
   ],
   "source": [
    "simulation_results[\"Winner\"].value_counts(normalize=True)"
   ]
  },
  {
   "cell_type": "code",
   "execution_count": 59,
   "metadata": {},
   "outputs": [
    {
     "data": {
      "text/html": [
       "<div>\n",
       "<style scoped>\n",
       "    .dataframe tbody tr th:only-of-type {\n",
       "        vertical-align: middle;\n",
       "    }\n",
       "\n",
       "    .dataframe tbody tr th {\n",
       "        vertical-align: top;\n",
       "    }\n",
       "\n",
       "    .dataframe thead th {\n",
       "        text-align: right;\n",
       "    }\n",
       "</style>\n",
       "<table border=\"1\" class=\"dataframe\">\n",
       "  <thead>\n",
       "    <tr style=\"text-align: right;\">\n",
       "      <th></th>\n",
       "      <th>Pred_dem</th>\n",
       "      <th>Pred_gop</th>\n",
       "      <th>Winner</th>\n",
       "    </tr>\n",
       "  </thead>\n",
       "  <tbody>\n",
       "    <tr>\n",
       "      <th>0</th>\n",
       "      <td>280</td>\n",
       "      <td>258</td>\n",
       "      <td>dem</td>\n",
       "    </tr>\n",
       "    <tr>\n",
       "      <th>1</th>\n",
       "      <td>270</td>\n",
       "      <td>268</td>\n",
       "      <td>dem</td>\n",
       "    </tr>\n",
       "    <tr>\n",
       "      <th>2</th>\n",
       "      <td>270</td>\n",
       "      <td>268</td>\n",
       "      <td>dem</td>\n",
       "    </tr>\n",
       "    <tr>\n",
       "      <th>3</th>\n",
       "      <td>280</td>\n",
       "      <td>258</td>\n",
       "      <td>dem</td>\n",
       "    </tr>\n",
       "    <tr>\n",
       "      <th>4</th>\n",
       "      <td>254</td>\n",
       "      <td>284</td>\n",
       "      <td>gop</td>\n",
       "    </tr>\n",
       "    <tr>\n",
       "      <th>...</th>\n",
       "      <td>...</td>\n",
       "      <td>...</td>\n",
       "      <td>...</td>\n",
       "    </tr>\n",
       "    <tr>\n",
       "      <th>95</th>\n",
       "      <td>254</td>\n",
       "      <td>284</td>\n",
       "      <td>gop</td>\n",
       "    </tr>\n",
       "    <tr>\n",
       "      <th>96</th>\n",
       "      <td>280</td>\n",
       "      <td>258</td>\n",
       "      <td>dem</td>\n",
       "    </tr>\n",
       "    <tr>\n",
       "      <th>97</th>\n",
       "      <td>270</td>\n",
       "      <td>268</td>\n",
       "      <td>dem</td>\n",
       "    </tr>\n",
       "    <tr>\n",
       "      <th>98</th>\n",
       "      <td>254</td>\n",
       "      <td>284</td>\n",
       "      <td>gop</td>\n",
       "    </tr>\n",
       "    <tr>\n",
       "      <th>99</th>\n",
       "      <td>264</td>\n",
       "      <td>274</td>\n",
       "      <td>gop</td>\n",
       "    </tr>\n",
       "  </tbody>\n",
       "</table>\n",
       "<p>100 rows × 3 columns</p>\n",
       "</div>"
      ],
      "text/plain": [
       "   Pred_dem Pred_gop Winner\n",
       "0       280      258    dem\n",
       "1       270      268    dem\n",
       "2       270      268    dem\n",
       "3       280      258    dem\n",
       "4       254      284    gop\n",
       "..      ...      ...    ...\n",
       "95      254      284    gop\n",
       "96      280      258    dem\n",
       "97      270      268    dem\n",
       "98      254      284    gop\n",
       "99      264      274    gop\n",
       "\n",
       "[100 rows x 3 columns]"
      ]
     },
     "execution_count": 59,
     "metadata": {},
     "output_type": "execute_result"
    }
   ],
   "source": [
    "simulation_results"
   ]
  },
  {
   "cell_type": "code",
   "execution_count": 60,
   "metadata": {},
   "outputs": [
    {
     "data": {
      "text/html": [
       "<div>\n",
       "<style scoped>\n",
       "    .dataframe tbody tr th:only-of-type {\n",
       "        vertical-align: middle;\n",
       "    }\n",
       "\n",
       "    .dataframe tbody tr th {\n",
       "        vertical-align: top;\n",
       "    }\n",
       "\n",
       "    .dataframe thead th {\n",
       "        text-align: right;\n",
       "    }\n",
       "</style>\n",
       "<table border=\"1\" class=\"dataframe\">\n",
       "  <thead>\n",
       "    <tr style=\"text-align: right;\">\n",
       "      <th></th>\n",
       "      <th>Votes_dem</th>\n",
       "      <th>Votes_gop</th>\n",
       "      <th>Votes_other</th>\n",
       "      <th>Votes_total</th>\n",
       "      <th>Per_dem</th>\n",
       "      <th>Per_gop</th>\n",
       "      <th>Winner</th>\n",
       "      <th>state_code</th>\n",
       "      <th>Difference</th>\n",
       "      <th>Status</th>\n",
       "    </tr>\n",
       "    <tr>\n",
       "      <th>state</th>\n",
       "      <th></th>\n",
       "      <th></th>\n",
       "      <th></th>\n",
       "      <th></th>\n",
       "      <th></th>\n",
       "      <th></th>\n",
       "      <th></th>\n",
       "      <th></th>\n",
       "      <th></th>\n",
       "      <th></th>\n",
       "    </tr>\n",
       "  </thead>\n",
       "  <tbody>\n",
       "    <tr>\n",
       "      <th>Alabama</th>\n",
       "      <td>8.512714e+05</td>\n",
       "      <td>1.439545e+06</td>\n",
       "      <td>32488.0</td>\n",
       "      <td>2323304.0</td>\n",
       "      <td>0.373397</td>\n",
       "      <td>0.626603</td>\n",
       "      <td>gop</td>\n",
       "      <td>AL</td>\n",
       "      <td>-25.320543</td>\n",
       "      <td>Safe Republican</td>\n",
       "    </tr>\n",
       "    <tr>\n",
       "      <th>Arizona</th>\n",
       "      <td>1.687684e+06</td>\n",
       "      <td>1.646145e+06</td>\n",
       "      <td>53497.0</td>\n",
       "      <td>3387326.0</td>\n",
       "      <td>0.506131</td>\n",
       "      <td>0.493869</td>\n",
       "      <td>dem</td>\n",
       "      <td>AZ</td>\n",
       "      <td>1.226284</td>\n",
       "      <td>Toss-Up</td>\n",
       "    </tr>\n",
       "    <tr>\n",
       "      <th>Arkansas</th>\n",
       "      <td>4.279741e+05</td>\n",
       "      <td>7.566049e+05</td>\n",
       "      <td>34490.0</td>\n",
       "      <td>1219069.0</td>\n",
       "      <td>0.365212</td>\n",
       "      <td>0.634788</td>\n",
       "      <td>gop</td>\n",
       "      <td>AR</td>\n",
       "      <td>-26.957518</td>\n",
       "      <td>Safe Republican</td>\n",
       "    </tr>\n",
       "    <tr>\n",
       "      <th>California</th>\n",
       "      <td>1.107604e+07</td>\n",
       "      <td>6.039685e+06</td>\n",
       "      <td>380181.0</td>\n",
       "      <td>17495906.0</td>\n",
       "      <td>0.643930</td>\n",
       "      <td>0.356070</td>\n",
       "      <td>dem</td>\n",
       "      <td>CA</td>\n",
       "      <td>28.785902</td>\n",
       "      <td>Safe Democrat</td>\n",
       "    </tr>\n",
       "    <tr>\n",
       "      <th>Colorado</th>\n",
       "      <td>1.804082e+06</td>\n",
       "      <td>1.364877e+06</td>\n",
       "      <td>87994.0</td>\n",
       "      <td>3256953.0</td>\n",
       "      <td>0.567426</td>\n",
       "      <td>0.432574</td>\n",
       "      <td>dem</td>\n",
       "      <td>CO</td>\n",
       "      <td>13.485168</td>\n",
       "      <td>Safe Democrat</td>\n",
       "    </tr>\n",
       "    <tr>\n",
       "      <th>Connecticut</th>\n",
       "      <td>1.118690e+06</td>\n",
       "      <td>7.628423e+05</td>\n",
       "      <td>29773.0</td>\n",
       "      <td>1911305.0</td>\n",
       "      <td>0.593090</td>\n",
       "      <td>0.406910</td>\n",
       "      <td>dem</td>\n",
       "      <td>CT</td>\n",
       "      <td>18.618035</td>\n",
       "      <td>Safe Democrat</td>\n",
       "    </tr>\n",
       "    <tr>\n",
       "      <th>Delaware</th>\n",
       "      <td>5.607657e+05</td>\n",
       "      <td>1.864533e+05</td>\n",
       "      <td>14122.0</td>\n",
       "      <td>761341.0</td>\n",
       "      <td>0.745824</td>\n",
       "      <td>0.254176</td>\n",
       "      <td>dem</td>\n",
       "      <td>DE</td>\n",
       "      <td>49.164878</td>\n",
       "      <td>Safe Democrat</td>\n",
       "    </tr>\n",
       "    <tr>\n",
       "      <th>District of Columbia</th>\n",
       "      <td>8.786132e+04</td>\n",
       "      <td>5.281468e+04</td>\n",
       "      <td>1928.0</td>\n",
       "      <td>142604.0</td>\n",
       "      <td>0.622881</td>\n",
       "      <td>0.377119</td>\n",
       "      <td>dem</td>\n",
       "      <td>DC</td>\n",
       "      <td>24.576195</td>\n",
       "      <td>Safe Democrat</td>\n",
       "    </tr>\n",
       "    <tr>\n",
       "      <th>Florida</th>\n",
       "      <td>5.223586e+06</td>\n",
       "      <td>5.609868e+06</td>\n",
       "      <td>99788.0</td>\n",
       "      <td>10933242.0</td>\n",
       "      <td>0.482335</td>\n",
       "      <td>0.517665</td>\n",
       "      <td>gop</td>\n",
       "      <td>FL</td>\n",
       "      <td>-3.533090</td>\n",
       "      <td>Likely Republican</td>\n",
       "    </tr>\n",
       "    <tr>\n",
       "      <th>Georgia</th>\n",
       "      <td>2.507850e+06</td>\n",
       "      <td>2.504911e+06</td>\n",
       "      <td>64379.0</td>\n",
       "      <td>5077140.0</td>\n",
       "      <td>0.500289</td>\n",
       "      <td>0.499711</td>\n",
       "      <td>dem</td>\n",
       "      <td>GA</td>\n",
       "      <td>0.057874</td>\n",
       "      <td>Toss-Up</td>\n",
       "    </tr>\n",
       "    <tr>\n",
       "      <th>Hawaii</th>\n",
       "      <td>3.829577e+05</td>\n",
       "      <td>2.787473e+05</td>\n",
       "      <td>15881.0</td>\n",
       "      <td>677586.0</td>\n",
       "      <td>0.576898</td>\n",
       "      <td>0.423102</td>\n",
       "      <td>dem</td>\n",
       "      <td>HI</td>\n",
       "      <td>15.379661</td>\n",
       "      <td>Safe Democrat</td>\n",
       "    </tr>\n",
       "    <tr>\n",
       "      <th>Idaho</th>\n",
       "      <td>1.793089e+05</td>\n",
       "      <td>4.435131e+05</td>\n",
       "      <td>19460.0</td>\n",
       "      <td>642282.0</td>\n",
       "      <td>0.294324</td>\n",
       "      <td>0.705676</td>\n",
       "      <td>gop</td>\n",
       "      <td>ID</td>\n",
       "      <td>-41.135222</td>\n",
       "      <td>Safe Republican</td>\n",
       "    </tr>\n",
       "    <tr>\n",
       "      <th>Illinois</th>\n",
       "      <td>3.498519e+06</td>\n",
       "      <td>2.564028e+06</td>\n",
       "      <td>123442.0</td>\n",
       "      <td>6185989.0</td>\n",
       "      <td>0.575533</td>\n",
       "      <td>0.424467</td>\n",
       "      <td>dem</td>\n",
       "      <td>IL</td>\n",
       "      <td>15.106584</td>\n",
       "      <td>Safe Democrat</td>\n",
       "    </tr>\n",
       "    <tr>\n",
       "      <th>Indiana</th>\n",
       "      <td>1.167497e+06</td>\n",
       "      <td>1.631891e+06</td>\n",
       "      <td>56856.0</td>\n",
       "      <td>2856244.0</td>\n",
       "      <td>0.418705</td>\n",
       "      <td>0.581295</td>\n",
       "      <td>gop</td>\n",
       "      <td>IN</td>\n",
       "      <td>-16.258924</td>\n",
       "      <td>Safe Republican</td>\n",
       "    </tr>\n",
       "    <tr>\n",
       "      <th>Iowa</th>\n",
       "      <td>7.492259e+05</td>\n",
       "      <td>9.106251e+05</td>\n",
       "      <td>34245.0</td>\n",
       "      <td>1694096.0</td>\n",
       "      <td>0.452364</td>\n",
       "      <td>0.547636</td>\n",
       "      <td>gop</td>\n",
       "      <td>IA</td>\n",
       "      <td>-9.527159</td>\n",
       "      <td>Likely Republican</td>\n",
       "    </tr>\n",
       "    <tr>\n",
       "      <th>Kansas</th>\n",
       "      <td>5.598573e+05</td>\n",
       "      <td>7.654557e+05</td>\n",
       "      <td>32824.0</td>\n",
       "      <td>1358137.0</td>\n",
       "      <td>0.424309</td>\n",
       "      <td>0.575691</td>\n",
       "      <td>gop</td>\n",
       "      <td>KS</td>\n",
       "      <td>-15.138269</td>\n",
       "      <td>Safe Republican</td>\n",
       "    </tr>\n",
       "    <tr>\n",
       "      <th>Kentucky</th>\n",
       "      <td>7.803611e+05</td>\n",
       "      <td>1.338583e+06</td>\n",
       "      <td>37927.0</td>\n",
       "      <td>2156871.0</td>\n",
       "      <td>0.370595</td>\n",
       "      <td>0.629405</td>\n",
       "      <td>gop</td>\n",
       "      <td>KY</td>\n",
       "      <td>-25.881097</td>\n",
       "      <td>Safe Republican</td>\n",
       "    </tr>\n",
       "    <tr>\n",
       "      <th>Louisiana</th>\n",
       "      <td>8.908676e+05</td>\n",
       "      <td>1.275142e+06</td>\n",
       "      <td>38270.0</td>\n",
       "      <td>2204280.0</td>\n",
       "      <td>0.412834</td>\n",
       "      <td>0.587166</td>\n",
       "      <td>gop</td>\n",
       "      <td>LA</td>\n",
       "      <td>-17.433123</td>\n",
       "      <td>Safe Republican</td>\n",
       "    </tr>\n",
       "    <tr>\n",
       "      <th>Maine</th>\n",
       "      <td>5.674781e+05</td>\n",
       "      <td>4.616609e+05</td>\n",
       "      <td>30406.0</td>\n",
       "      <td>1059545.0</td>\n",
       "      <td>0.549935</td>\n",
       "      <td>0.450065</td>\n",
       "      <td>dem</td>\n",
       "      <td>ME</td>\n",
       "      <td>9.987035</td>\n",
       "      <td>Likely Democrat</td>\n",
       "    </tr>\n",
       "    <tr>\n",
       "      <th>Maryland</th>\n",
       "      <td>1.925769e+06</td>\n",
       "      <td>9.220537e+05</td>\n",
       "      <td>70649.0</td>\n",
       "      <td>2918472.0</td>\n",
       "      <td>0.671959</td>\n",
       "      <td>0.328041</td>\n",
       "      <td>dem</td>\n",
       "      <td>MD</td>\n",
       "      <td>34.391820</td>\n",
       "      <td>Safe Democrat</td>\n",
       "    </tr>\n",
       "    <tr>\n",
       "      <th>Massachusetts</th>\n",
       "      <td>2.236550e+06</td>\n",
       "      <td>1.107837e+06</td>\n",
       "      <td>77507.0</td>\n",
       "      <td>3421894.0</td>\n",
       "      <td>0.664925</td>\n",
       "      <td>0.335075</td>\n",
       "      <td>dem</td>\n",
       "      <td>MA</td>\n",
       "      <td>32.985008</td>\n",
       "      <td>Safe Democrat</td>\n",
       "    </tr>\n",
       "    <tr>\n",
       "      <th>Michigan</th>\n",
       "      <td>2.891096e+06</td>\n",
       "      <td>2.766399e+06</td>\n",
       "      <td>90772.0</td>\n",
       "      <td>5748267.0</td>\n",
       "      <td>0.510847</td>\n",
       "      <td>0.489153</td>\n",
       "      <td>dem</td>\n",
       "      <td>MI</td>\n",
       "      <td>2.169312</td>\n",
       "      <td>Toss-Up</td>\n",
       "    </tr>\n",
       "    <tr>\n",
       "      <th>Minnesota</th>\n",
       "      <td>1.612689e+06</td>\n",
       "      <td>1.402006e+06</td>\n",
       "      <td>70889.0</td>\n",
       "      <td>3085584.0</td>\n",
       "      <td>0.534140</td>\n",
       "      <td>0.465860</td>\n",
       "      <td>dem</td>\n",
       "      <td>MN</td>\n",
       "      <td>6.827997</td>\n",
       "      <td>Likely Democrat</td>\n",
       "    </tr>\n",
       "    <tr>\n",
       "      <th>Mississippi</th>\n",
       "      <td>5.299152e+05</td>\n",
       "      <td>7.567628e+05</td>\n",
       "      <td>19018.0</td>\n",
       "      <td>1305696.0</td>\n",
       "      <td>0.413132</td>\n",
       "      <td>0.586868</td>\n",
       "      <td>gop</td>\n",
       "      <td>MS</td>\n",
       "      <td>-17.373691</td>\n",
       "      <td>Safe Republican</td>\n",
       "    </tr>\n",
       "    <tr>\n",
       "      <th>Missouri</th>\n",
       "      <td>1.249944e+06</td>\n",
       "      <td>1.712306e+06</td>\n",
       "      <td>54069.0</td>\n",
       "      <td>3016319.0</td>\n",
       "      <td>0.423356</td>\n",
       "      <td>0.576644</td>\n",
       "      <td>gop</td>\n",
       "      <td>MO</td>\n",
       "      <td>-15.328713</td>\n",
       "      <td>Safe Republican</td>\n",
       "    </tr>\n",
       "    <tr>\n",
       "      <th>Montana</th>\n",
       "      <td>2.464680e+05</td>\n",
       "      <td>3.495340e+05</td>\n",
       "      <td>17539.0</td>\n",
       "      <td>613541.0</td>\n",
       "      <td>0.416007</td>\n",
       "      <td>0.583993</td>\n",
       "      <td>gop</td>\n",
       "      <td>MT</td>\n",
       "      <td>-16.798539</td>\n",
       "      <td>Safe Republican</td>\n",
       "    </tr>\n",
       "    <tr>\n",
       "      <th>Nebraska</th>\n",
       "      <td>8.981011e+05</td>\n",
       "      <td>9.806899e+05</td>\n",
       "      <td>44752.0</td>\n",
       "      <td>1923543.0</td>\n",
       "      <td>0.478532</td>\n",
       "      <td>0.521468</td>\n",
       "      <td>gop</td>\n",
       "      <td>NE</td>\n",
       "      <td>-4.293578</td>\n",
       "      <td>Likely Republican</td>\n",
       "    </tr>\n",
       "    <tr>\n",
       "      <th>Nevada</th>\n",
       "      <td>2.141196e+05</td>\n",
       "      <td>2.646434e+05</td>\n",
       "      <td>12938.0</td>\n",
       "      <td>491701.0</td>\n",
       "      <td>0.448624</td>\n",
       "      <td>0.551376</td>\n",
       "      <td>gop</td>\n",
       "      <td>NV</td>\n",
       "      <td>-10.275299</td>\n",
       "      <td>Safe Republican</td>\n",
       "    </tr>\n",
       "    <tr>\n",
       "      <th>New Hampshire</th>\n",
       "      <td>7.490111e+05</td>\n",
       "      <td>5.996019e+05</td>\n",
       "      <td>21993.0</td>\n",
       "      <td>1370606.0</td>\n",
       "      <td>0.554505</td>\n",
       "      <td>0.445495</td>\n",
       "      <td>dem</td>\n",
       "      <td>NH</td>\n",
       "      <td>10.900959</td>\n",
       "      <td>Safe Democrat</td>\n",
       "    </tr>\n",
       "    <tr>\n",
       "      <th>New Jersey</th>\n",
       "      <td>2.439749e+06</td>\n",
       "      <td>1.735415e+06</td>\n",
       "      <td>71085.0</td>\n",
       "      <td>4246249.0</td>\n",
       "      <td>0.582936</td>\n",
       "      <td>0.417064</td>\n",
       "      <td>dem</td>\n",
       "      <td>NJ</td>\n",
       "      <td>16.587219</td>\n",
       "      <td>Safe Democrat</td>\n",
       "    </tr>\n",
       "    <tr>\n",
       "      <th>New Mexico</th>\n",
       "      <td>4.086741e+05</td>\n",
       "      <td>3.533869e+05</td>\n",
       "      <td>16871.0</td>\n",
       "      <td>778932.0</td>\n",
       "      <td>0.535489</td>\n",
       "      <td>0.464511</td>\n",
       "      <td>dem</td>\n",
       "      <td>NM</td>\n",
       "      <td>7.097831</td>\n",
       "      <td>Likely Democrat</td>\n",
       "    </tr>\n",
       "    <tr>\n",
       "      <th>New York</th>\n",
       "      <td>5.158689e+06</td>\n",
       "      <td>3.269723e+06</td>\n",
       "      <td>119237.0</td>\n",
       "      <td>8547649.0</td>\n",
       "      <td>0.610496</td>\n",
       "      <td>0.389504</td>\n",
       "      <td>dem</td>\n",
       "      <td>NY</td>\n",
       "      <td>22.099253</td>\n",
       "      <td>Safe Democrat</td>\n",
       "    </tr>\n",
       "    <tr>\n",
       "      <th>North Carolina</th>\n",
       "      <td>2.619197e+06</td>\n",
       "      <td>2.725581e+06</td>\n",
       "      <td>80530.0</td>\n",
       "      <td>5425308.0</td>\n",
       "      <td>0.490196</td>\n",
       "      <td>0.509804</td>\n",
       "      <td>gop</td>\n",
       "      <td>NC</td>\n",
       "      <td>-1.960884</td>\n",
       "      <td>Toss-Up</td>\n",
       "    </tr>\n",
       "    <tr>\n",
       "      <th>North Dakota</th>\n",
       "      <td>1.302490e+05</td>\n",
       "      <td>2.729120e+05</td>\n",
       "      <td>11975.0</td>\n",
       "      <td>415136.0</td>\n",
       "      <td>0.328173</td>\n",
       "      <td>0.671827</td>\n",
       "      <td>gop</td>\n",
       "      <td>ND</td>\n",
       "      <td>-34.365360</td>\n",
       "      <td>Safe Republican</td>\n",
       "    </tr>\n",
       "    <tr>\n",
       "      <th>Ohio</th>\n",
       "      <td>2.662374e+06</td>\n",
       "      <td>3.121516e+06</td>\n",
       "      <td>87531.0</td>\n",
       "      <td>5871421.0</td>\n",
       "      <td>0.460900</td>\n",
       "      <td>0.539100</td>\n",
       "      <td>gop</td>\n",
       "      <td>OH</td>\n",
       "      <td>-7.819949</td>\n",
       "      <td>Likely Republican</td>\n",
       "    </tr>\n",
       "    <tr>\n",
       "      <th>Oklahoma</th>\n",
       "      <td>5.503939e+05</td>\n",
       "      <td>1.024997e+06</td>\n",
       "      <td>38669.0</td>\n",
       "      <td>1614060.0</td>\n",
       "      <td>0.352978</td>\n",
       "      <td>0.647022</td>\n",
       "      <td>gop</td>\n",
       "      <td>OK</td>\n",
       "      <td>-29.404314</td>\n",
       "      <td>Safe Republican</td>\n",
       "    </tr>\n",
       "    <tr>\n",
       "      <th>Oregon</th>\n",
       "      <td>1.751446e+06</td>\n",
       "      <td>1.256384e+06</td>\n",
       "      <td>85274.0</td>\n",
       "      <td>3093104.0</td>\n",
       "      <td>0.580027</td>\n",
       "      <td>0.419973</td>\n",
       "      <td>dem</td>\n",
       "      <td>OR</td>\n",
       "      <td>16.005325</td>\n",
       "      <td>Safe Democrat</td>\n",
       "    </tr>\n",
       "    <tr>\n",
       "      <th>Pennsylvania</th>\n",
       "      <td>3.058575e+06</td>\n",
       "      <td>3.129118e+06</td>\n",
       "      <td>77556.0</td>\n",
       "      <td>6265249.0</td>\n",
       "      <td>0.494370</td>\n",
       "      <td>0.505630</td>\n",
       "      <td>gop</td>\n",
       "      <td>PA</td>\n",
       "      <td>-1.125941</td>\n",
       "      <td>Toss-Up</td>\n",
       "    </tr>\n",
       "    <tr>\n",
       "      <th>Rhode Island</th>\n",
       "      <td>2.742745e+05</td>\n",
       "      <td>2.090435e+05</td>\n",
       "      <td>9175.0</td>\n",
       "      <td>492493.0</td>\n",
       "      <td>0.566225</td>\n",
       "      <td>0.433775</td>\n",
       "      <td>dem</td>\n",
       "      <td>RI</td>\n",
       "      <td>13.245081</td>\n",
       "      <td>Safe Democrat</td>\n",
       "    </tr>\n",
       "    <tr>\n",
       "      <th>South Carolina</th>\n",
       "      <td>1.055401e+06</td>\n",
       "      <td>1.333347e+06</td>\n",
       "      <td>35449.0</td>\n",
       "      <td>2424197.0</td>\n",
       "      <td>0.442673</td>\n",
       "      <td>0.557327</td>\n",
       "      <td>gop</td>\n",
       "      <td>SC</td>\n",
       "      <td>-11.465495</td>\n",
       "      <td>Safe Republican</td>\n",
       "    </tr>\n",
       "    <tr>\n",
       "      <th>South Dakota</th>\n",
       "      <td>1.639248e+05</td>\n",
       "      <td>2.930372e+05</td>\n",
       "      <td>11819.0</td>\n",
       "      <td>468781.0</td>\n",
       "      <td>0.362289</td>\n",
       "      <td>0.637711</td>\n",
       "      <td>gop</td>\n",
       "      <td>SD</td>\n",
       "      <td>-27.542147</td>\n",
       "      <td>Safe Republican</td>\n",
       "    </tr>\n",
       "    <tr>\n",
       "      <th>Tennessee</th>\n",
       "      <td>1.142888e+06</td>\n",
       "      <td>1.824424e+06</td>\n",
       "      <td>56971.0</td>\n",
       "      <td>3024283.0</td>\n",
       "      <td>0.387323</td>\n",
       "      <td>0.612677</td>\n",
       "      <td>gop</td>\n",
       "      <td>TN</td>\n",
       "      <td>-22.535436</td>\n",
       "      <td>Safe Republican</td>\n",
       "    </tr>\n",
       "    <tr>\n",
       "      <th>Texas</th>\n",
       "      <td>5.287904e+06</td>\n",
       "      <td>5.865784e+06</td>\n",
       "      <td>169260.0</td>\n",
       "      <td>11322948.0</td>\n",
       "      <td>0.474482</td>\n",
       "      <td>0.525518</td>\n",
       "      <td>gop</td>\n",
       "      <td>TX</td>\n",
       "      <td>-5.103611</td>\n",
       "      <td>Likely Republican</td>\n",
       "    </tr>\n",
       "    <tr>\n",
       "      <th>Utah</th>\n",
       "      <td>6.006380e+05</td>\n",
       "      <td>8.367890e+05</td>\n",
       "      <td>63219.0</td>\n",
       "      <td>1500646.0</td>\n",
       "      <td>0.421317</td>\n",
       "      <td>0.578683</td>\n",
       "      <td>gop</td>\n",
       "      <td>UT</td>\n",
       "      <td>-15.736620</td>\n",
       "      <td>Safe Republican</td>\n",
       "    </tr>\n",
       "    <tr>\n",
       "      <th>Vermont</th>\n",
       "      <td>2.614191e+05</td>\n",
       "      <td>1.330469e+05</td>\n",
       "      <td>12097.0</td>\n",
       "      <td>406563.0</td>\n",
       "      <td>0.657875</td>\n",
       "      <td>0.342125</td>\n",
       "      <td>dem</td>\n",
       "      <td>VT</td>\n",
       "      <td>31.574999</td>\n",
       "      <td>Safe Democrat</td>\n",
       "    </tr>\n",
       "    <tr>\n",
       "      <th>Virginia</th>\n",
       "      <td>2.351221e+06</td>\n",
       "      <td>1.962047e+06</td>\n",
       "      <td>83450.0</td>\n",
       "      <td>4396718.0</td>\n",
       "      <td>0.544257</td>\n",
       "      <td>0.455743</td>\n",
       "      <td>dem</td>\n",
       "      <td>VA</td>\n",
       "      <td>8.851457</td>\n",
       "      <td>Likely Democrat</td>\n",
       "    </tr>\n",
       "    <tr>\n",
       "      <th>Washington</th>\n",
       "      <td>2.380392e+06</td>\n",
       "      <td>1.613619e+06</td>\n",
       "      <td>134019.0</td>\n",
       "      <td>4128030.0</td>\n",
       "      <td>0.592874</td>\n",
       "      <td>0.407126</td>\n",
       "      <td>dem</td>\n",
       "      <td>WA</td>\n",
       "      <td>18.574801</td>\n",
       "      <td>Safe Democrat</td>\n",
       "    </tr>\n",
       "    <tr>\n",
       "      <th>West Virginia</th>\n",
       "      <td>2.280972e+05</td>\n",
       "      <td>5.165638e+05</td>\n",
       "      <td>12354.0</td>\n",
       "      <td>757015.0</td>\n",
       "      <td>0.309471</td>\n",
       "      <td>0.690529</td>\n",
       "      <td>gop</td>\n",
       "      <td>WV</td>\n",
       "      <td>-38.105810</td>\n",
       "      <td>Safe Republican</td>\n",
       "    </tr>\n",
       "    <tr>\n",
       "      <th>Wisconsin</th>\n",
       "      <td>1.615659e+06</td>\n",
       "      <td>1.628011e+06</td>\n",
       "      <td>57476.0</td>\n",
       "      <td>3301146.0</td>\n",
       "      <td>0.498129</td>\n",
       "      <td>0.501871</td>\n",
       "      <td>gop</td>\n",
       "      <td>WI</td>\n",
       "      <td>-0.374178</td>\n",
       "      <td>Toss-Up</td>\n",
       "    </tr>\n",
       "    <tr>\n",
       "      <th>Wyoming</th>\n",
       "      <td>6.623835e+04</td>\n",
       "      <td>1.775466e+05</td>\n",
       "      <td>8611.0</td>\n",
       "      <td>252396.0</td>\n",
       "      <td>0.279497</td>\n",
       "      <td>0.720503</td>\n",
       "      <td>gop</td>\n",
       "      <td>WY</td>\n",
       "      <td>-44.100658</td>\n",
       "      <td>Safe Republican</td>\n",
       "    </tr>\n",
       "  </tbody>\n",
       "</table>\n",
       "</div>"
      ],
      "text/plain": [
       "                         Votes_dem     Votes_gop  Votes_other  Votes_total  \\\n",
       "state                                                                        \n",
       "Alabama               8.512714e+05  1.439545e+06      32488.0    2323304.0   \n",
       "Arizona               1.687684e+06  1.646145e+06      53497.0    3387326.0   \n",
       "Arkansas              4.279741e+05  7.566049e+05      34490.0    1219069.0   \n",
       "California            1.107604e+07  6.039685e+06     380181.0   17495906.0   \n",
       "Colorado              1.804082e+06  1.364877e+06      87994.0    3256953.0   \n",
       "Connecticut           1.118690e+06  7.628423e+05      29773.0    1911305.0   \n",
       "Delaware              5.607657e+05  1.864533e+05      14122.0     761341.0   \n",
       "District of Columbia  8.786132e+04  5.281468e+04       1928.0     142604.0   \n",
       "Florida               5.223586e+06  5.609868e+06      99788.0   10933242.0   \n",
       "Georgia               2.507850e+06  2.504911e+06      64379.0    5077140.0   \n",
       "Hawaii                3.829577e+05  2.787473e+05      15881.0     677586.0   \n",
       "Idaho                 1.793089e+05  4.435131e+05      19460.0     642282.0   \n",
       "Illinois              3.498519e+06  2.564028e+06     123442.0    6185989.0   \n",
       "Indiana               1.167497e+06  1.631891e+06      56856.0    2856244.0   \n",
       "Iowa                  7.492259e+05  9.106251e+05      34245.0    1694096.0   \n",
       "Kansas                5.598573e+05  7.654557e+05      32824.0    1358137.0   \n",
       "Kentucky              7.803611e+05  1.338583e+06      37927.0    2156871.0   \n",
       "Louisiana             8.908676e+05  1.275142e+06      38270.0    2204280.0   \n",
       "Maine                 5.674781e+05  4.616609e+05      30406.0    1059545.0   \n",
       "Maryland              1.925769e+06  9.220537e+05      70649.0    2918472.0   \n",
       "Massachusetts         2.236550e+06  1.107837e+06      77507.0    3421894.0   \n",
       "Michigan              2.891096e+06  2.766399e+06      90772.0    5748267.0   \n",
       "Minnesota             1.612689e+06  1.402006e+06      70889.0    3085584.0   \n",
       "Mississippi           5.299152e+05  7.567628e+05      19018.0    1305696.0   \n",
       "Missouri              1.249944e+06  1.712306e+06      54069.0    3016319.0   \n",
       "Montana               2.464680e+05  3.495340e+05      17539.0     613541.0   \n",
       "Nebraska              8.981011e+05  9.806899e+05      44752.0    1923543.0   \n",
       "Nevada                2.141196e+05  2.646434e+05      12938.0     491701.0   \n",
       "New Hampshire         7.490111e+05  5.996019e+05      21993.0    1370606.0   \n",
       "New Jersey            2.439749e+06  1.735415e+06      71085.0    4246249.0   \n",
       "New Mexico            4.086741e+05  3.533869e+05      16871.0     778932.0   \n",
       "New York              5.158689e+06  3.269723e+06     119237.0    8547649.0   \n",
       "North Carolina        2.619197e+06  2.725581e+06      80530.0    5425308.0   \n",
       "North Dakota          1.302490e+05  2.729120e+05      11975.0     415136.0   \n",
       "Ohio                  2.662374e+06  3.121516e+06      87531.0    5871421.0   \n",
       "Oklahoma              5.503939e+05  1.024997e+06      38669.0    1614060.0   \n",
       "Oregon                1.751446e+06  1.256384e+06      85274.0    3093104.0   \n",
       "Pennsylvania          3.058575e+06  3.129118e+06      77556.0    6265249.0   \n",
       "Rhode Island          2.742745e+05  2.090435e+05       9175.0     492493.0   \n",
       "South Carolina        1.055401e+06  1.333347e+06      35449.0    2424197.0   \n",
       "South Dakota          1.639248e+05  2.930372e+05      11819.0     468781.0   \n",
       "Tennessee             1.142888e+06  1.824424e+06      56971.0    3024283.0   \n",
       "Texas                 5.287904e+06  5.865784e+06     169260.0   11322948.0   \n",
       "Utah                  6.006380e+05  8.367890e+05      63219.0    1500646.0   \n",
       "Vermont               2.614191e+05  1.330469e+05      12097.0     406563.0   \n",
       "Virginia              2.351221e+06  1.962047e+06      83450.0    4396718.0   \n",
       "Washington            2.380392e+06  1.613619e+06     134019.0    4128030.0   \n",
       "West Virginia         2.280972e+05  5.165638e+05      12354.0     757015.0   \n",
       "Wisconsin             1.615659e+06  1.628011e+06      57476.0    3301146.0   \n",
       "Wyoming               6.623835e+04  1.775466e+05       8611.0     252396.0   \n",
       "\n",
       "                       Per_dem   Per_gop Winner state_code  Difference  \\\n",
       "state                                                                    \n",
       "Alabama               0.373397  0.626603    gop         AL  -25.320543   \n",
       "Arizona               0.506131  0.493869    dem         AZ    1.226284   \n",
       "Arkansas              0.365212  0.634788    gop         AR  -26.957518   \n",
       "California            0.643930  0.356070    dem         CA   28.785902   \n",
       "Colorado              0.567426  0.432574    dem         CO   13.485168   \n",
       "Connecticut           0.593090  0.406910    dem         CT   18.618035   \n",
       "Delaware              0.745824  0.254176    dem         DE   49.164878   \n",
       "District of Columbia  0.622881  0.377119    dem         DC   24.576195   \n",
       "Florida               0.482335  0.517665    gop         FL   -3.533090   \n",
       "Georgia               0.500289  0.499711    dem         GA    0.057874   \n",
       "Hawaii                0.576898  0.423102    dem         HI   15.379661   \n",
       "Idaho                 0.294324  0.705676    gop         ID  -41.135222   \n",
       "Illinois              0.575533  0.424467    dem         IL   15.106584   \n",
       "Indiana               0.418705  0.581295    gop         IN  -16.258924   \n",
       "Iowa                  0.452364  0.547636    gop         IA   -9.527159   \n",
       "Kansas                0.424309  0.575691    gop         KS  -15.138269   \n",
       "Kentucky              0.370595  0.629405    gop         KY  -25.881097   \n",
       "Louisiana             0.412834  0.587166    gop         LA  -17.433123   \n",
       "Maine                 0.549935  0.450065    dem         ME    9.987035   \n",
       "Maryland              0.671959  0.328041    dem         MD   34.391820   \n",
       "Massachusetts         0.664925  0.335075    dem         MA   32.985008   \n",
       "Michigan              0.510847  0.489153    dem         MI    2.169312   \n",
       "Minnesota             0.534140  0.465860    dem         MN    6.827997   \n",
       "Mississippi           0.413132  0.586868    gop         MS  -17.373691   \n",
       "Missouri              0.423356  0.576644    gop         MO  -15.328713   \n",
       "Montana               0.416007  0.583993    gop         MT  -16.798539   \n",
       "Nebraska              0.478532  0.521468    gop         NE   -4.293578   \n",
       "Nevada                0.448624  0.551376    gop         NV  -10.275299   \n",
       "New Hampshire         0.554505  0.445495    dem         NH   10.900959   \n",
       "New Jersey            0.582936  0.417064    dem         NJ   16.587219   \n",
       "New Mexico            0.535489  0.464511    dem         NM    7.097831   \n",
       "New York              0.610496  0.389504    dem         NY   22.099253   \n",
       "North Carolina        0.490196  0.509804    gop         NC   -1.960884   \n",
       "North Dakota          0.328173  0.671827    gop         ND  -34.365360   \n",
       "Ohio                  0.460900  0.539100    gop         OH   -7.819949   \n",
       "Oklahoma              0.352978  0.647022    gop         OK  -29.404314   \n",
       "Oregon                0.580027  0.419973    dem         OR   16.005325   \n",
       "Pennsylvania          0.494370  0.505630    gop         PA   -1.125941   \n",
       "Rhode Island          0.566225  0.433775    dem         RI   13.245081   \n",
       "South Carolina        0.442673  0.557327    gop         SC  -11.465495   \n",
       "South Dakota          0.362289  0.637711    gop         SD  -27.542147   \n",
       "Tennessee             0.387323  0.612677    gop         TN  -22.535436   \n",
       "Texas                 0.474482  0.525518    gop         TX   -5.103611   \n",
       "Utah                  0.421317  0.578683    gop         UT  -15.736620   \n",
       "Vermont               0.657875  0.342125    dem         VT   31.574999   \n",
       "Virginia              0.544257  0.455743    dem         VA    8.851457   \n",
       "Washington            0.592874  0.407126    dem         WA   18.574801   \n",
       "West Virginia         0.309471  0.690529    gop         WV  -38.105810   \n",
       "Wisconsin             0.498129  0.501871    gop         WI   -0.374178   \n",
       "Wyoming               0.279497  0.720503    gop         WY  -44.100658   \n",
       "\n",
       "                                 Status  \n",
       "state                                    \n",
       "Alabama                 Safe Republican  \n",
       "Arizona                         Toss-Up  \n",
       "Arkansas                Safe Republican  \n",
       "California                Safe Democrat  \n",
       "Colorado                  Safe Democrat  \n",
       "Connecticut               Safe Democrat  \n",
       "Delaware                  Safe Democrat  \n",
       "District of Columbia      Safe Democrat  \n",
       "Florida               Likely Republican  \n",
       "Georgia                         Toss-Up  \n",
       "Hawaii                    Safe Democrat  \n",
       "Idaho                   Safe Republican  \n",
       "Illinois                  Safe Democrat  \n",
       "Indiana                 Safe Republican  \n",
       "Iowa                  Likely Republican  \n",
       "Kansas                  Safe Republican  \n",
       "Kentucky                Safe Republican  \n",
       "Louisiana               Safe Republican  \n",
       "Maine                   Likely Democrat  \n",
       "Maryland                  Safe Democrat  \n",
       "Massachusetts             Safe Democrat  \n",
       "Michigan                        Toss-Up  \n",
       "Minnesota               Likely Democrat  \n",
       "Mississippi             Safe Republican  \n",
       "Missouri                Safe Republican  \n",
       "Montana                 Safe Republican  \n",
       "Nebraska              Likely Republican  \n",
       "Nevada                  Safe Republican  \n",
       "New Hampshire             Safe Democrat  \n",
       "New Jersey                Safe Democrat  \n",
       "New Mexico              Likely Democrat  \n",
       "New York                  Safe Democrat  \n",
       "North Carolina                  Toss-Up  \n",
       "North Dakota            Safe Republican  \n",
       "Ohio                  Likely Republican  \n",
       "Oklahoma                Safe Republican  \n",
       "Oregon                    Safe Democrat  \n",
       "Pennsylvania                    Toss-Up  \n",
       "Rhode Island              Safe Democrat  \n",
       "South Carolina          Safe Republican  \n",
       "South Dakota            Safe Republican  \n",
       "Tennessee               Safe Republican  \n",
       "Texas                 Likely Republican  \n",
       "Utah                    Safe Republican  \n",
       "Vermont                   Safe Democrat  \n",
       "Virginia                Likely Democrat  \n",
       "Washington                Safe Democrat  \n",
       "West Virginia           Safe Republican  \n",
       "Wisconsin                       Toss-Up  \n",
       "Wyoming                 Safe Republican  "
      ]
     },
     "execution_count": 60,
     "metadata": {},
     "output_type": "execute_result"
    }
   ],
   "source": [
    "# Añadir la columna \"Winner\" basado en los porcentajes predichos de Biden y Trump\n",
    "accumulated_pred_state['Winner'] = np.where(\n",
    "    accumulated_pred_state[\"Per_dem\"] >= accumulated_pred_state[\"Per_gop\"], 'dem', 'gop'\n",
    ")\n",
    "\n",
    "# Añadir los códigos de los estados usando el diccionario state_to_code\n",
    "accumulated_pred_state['state_code'] = accumulated_pred_state.index.map(state_to_code)\n",
    "\n",
    "# Añadir diferencia entre Biden y Trump\n",
    "accumulated_pred_state['Difference'] = (accumulated_pred_state[\"Per_dem\"] - accumulated_pred_state[\"Per_gop\"]) * 100\n",
    "\n",
    "\n",
    "# Definir las condiciones y los valores a asignar\n",
    "conditions = [\n",
    "    accumulated_pred_state[\"Difference\"] > 10,\n",
    "    accumulated_pred_state[\"Difference\"].between(2.5, 10),\n",
    "    accumulated_pred_state[\"Difference\"].between(-2.5, 2.5),\n",
    "    accumulated_pred_state[\"Difference\"].between(-10, -2.5),\n",
    "    accumulated_pred_state[\"Difference\"] < -10\n",
    "]\n",
    "\n",
    "choices = [\n",
    "    \"Safe Democrat\",\n",
    "    \"Likely Democrat\",\n",
    "    \"Toss-Up\",\n",
    "    \"Likely Republican\",\n",
    "    \"Safe Republican\"\n",
    "]\n",
    "\n",
    "# Usar np.select para asignar el \"Status\" basado en las condiciones, con un valor por defecto \"Unknown\"\n",
    "accumulated_pred_state[\"Status\"] = np.select(conditions, choices, default=\"Unknown\")\n",
    "\n",
    "\n",
    "# Mostrar el DataFrame\n",
    "accumulated_pred_state\n"
   ]
  },
  {
   "cell_type": "markdown",
   "metadata": {},
   "source": [
    "## Gráficos"
   ]
  },
  {
   "cell_type": "markdown",
   "metadata": {},
   "source": [
    "### Simulación"
   ]
  },
  {
   "cell_type": "code",
   "execution_count": 61,
   "metadata": {},
   "outputs": [
    {
     "data": {
      "image/png": "[encoded data removed]",
      "text/plain": [
       "<Figure size 1200x800 with 1 Axes>"
      ]
     },
     "metadata": {},
     "output_type": "display_data"
    }
   ],
   "source": [
    "# Asegurarse de que los valores de Trump_Pred y Biden_Pred sean numéricos\n",
    "simulation_results['Pred_gop'] = pd.to_numeric(simulation_results['Pred_gop'], errors='coerce')\n",
    "simulation_results['Pred_dem'] = pd.to_numeric(simulation_results['Pred_dem'], errors='coerce')\n",
    "\n",
    "# Eliminar cualquier fila con valores NaN (si es necesario)\n",
    "simulation_results = simulation_results.dropna(subset=['Pred_gop', 'Pred_dem'])\n",
    "\n",
    "# Crear un gráfico de densidad para las predicciones de Biden y Trump\n",
    "plt.figure(figsize=(12, 8))\n",
    "\n",
    "# Gráfico de densidad para Biden (positivo)\n",
    "sns.kdeplot(simulation_results['Pred_dem'], color=\"#3951a2\", fill=True, alpha=0.8, label=\"Biden Pred\")\n",
    "\n",
    "# Crear la densidad para Trump usando gaussian_kde\n",
    "density_trump = gaussian_kde(simulation_results['Pred_gop'])\n",
    "x_vals = np.linspace(min(simulation_results['Pred_gop']), max(simulation_results['Pred_dem']), 1000)\n",
    "y_vals = density_trump(x_vals)\n",
    "\n",
    "# Graficar la densidad de Trump invertida\n",
    "plt.fill_between(x_vals, -y_vals, color=\"#af2b39\", alpha=0.8, label=\"Trump Pred\")\n",
    "\n",
    "# Línea vertical en 270 votos\n",
    "plt.axvline(x=270, color=\"black\", linestyle=\"--\", linewidth=1, label=\"Límite para ganar (270)\")\n",
    "plt.text(270-6, 0.02, '270', color=\"black\", verticalalignment='bottom', fontsize=12)  # Añadir el valor '270' dentro del gráfico\n",
    "\n",
    "# Línea vertical para la media de las predicciones de Biden\n",
    "plt.axvline(x=np.mean(simulation_results['Pred_dem']), color=\"white\", linestyle=\"--\", linewidth=1, label=\"Media Biden Pred\")\n",
    "mean_biden = np.mean(simulation_results['Pred_dem'])\n",
    "plt.text(mean_biden + 1, 0.01, f'{mean_biden:.0f}', color=\"white\", verticalalignment='bottom', fontsize=12)  # Añadir el valor de la media de Biden\n",
    "\n",
    "# Línea vertical para la media de las predicciones de Trump\n",
    "plt.axvline(x=np.mean(simulation_results['Pred_gop']), color=\"white\", linestyle=\"--\", linewidth=1, label=\"Media Trump Pred\")\n",
    "mean_trump = np.mean(simulation_results['Pred_gop'])\n",
    "plt.text(mean_trump + 1, -0.01, f'{mean_trump:.0f}', color=\"white\", verticalalignment='top', fontsize=12)  # Añadir el valor de la media de Trump\n",
    "\n",
    "# Ajustar el eje Y para que sea simétrico\n",
    "plt.ylim(-1.1 * max(y_vals), 1.1 * max(y_vals))\n",
    "\n",
    "# Ajustar el eje X para ver más a la izquierda\n",
    "plt.xlim(min(simulation_results['Pred_gop']), max(simulation_results['Pred_dem']))\n",
    "\n",
    "# Añadir título\n",
    "plt.title(f\"{ELECTORAL_YEAR} Distribución Biden Pred. vs Trump Pred.\", fontsize=16)\n",
    "\n",
    "# Añadir leyenda\n",
    "plt.legend()\n",
    "\n",
    "# Eliminar el fondo del gráfico\n",
    "plt.gca().patch.set_alpha(0)  # Fondo del área del gráfico transparente\n",
    "\n",
    "# Eliminar los bordes y la línea negra alrededor del gráfico\n",
    "plt.gca().spines['top'].set_visible(False)\n",
    "plt.gca().spines['right'].set_visible(False)\n",
    "plt.gca().spines['left'].set_visible(False)\n",
    "plt.gca().spines['bottom'].set_visible(False)\n",
    "\n",
    "# Guardar el gráfico como PNG con fondo transparente\n",
    "plt.savefig(f\"imgs/densidad_biden_trump_transparente_{ELECTORAL_YEAR}.png\", format=\"png\", transparent=True)\n",
    "\n",
    "# Mostrar el gráfico\n",
    "plt.show()"
   ]
  },
  {
   "cell_type": "code",
   "execution_count": 62,
   "metadata": {},
   "outputs": [
    {
     "data": {
      "image/png": "[encoded data removed]",
      "text/plain": [
       "<Figure size 1000x1200 with 1 Axes>"
      ]
     },
     "metadata": {},
     "output_type": "display_data"
    }
   ],
   "source": [
    "# Ordenar los estados por orden alfabético\n",
    "accumulated_pred_state_sorted = accumulated_pred_state.sort_values('state', ascending=False)\n",
    "\n",
    "# Crear el gráfico de barras apiladas\n",
    "plt.figure(figsize=(10, 12))\n",
    "\n",
    "# Primero, graficar la barra de Trump\n",
    "sns.barplot(x=accumulated_pred_state_sorted[\"Per_dem\"] + accumulated_pred_state_sorted[\"Per_gop\"], \n",
    "            y='state', data=accumulated_pred_state_sorted, color=\"#ac2a37\", label=\"gop\")\n",
    "\n",
    "# Luego, graficar la barra de Biden encima de Trump\n",
    "sns.barplot(x=\"Per_dem\", y='state', data=accumulated_pred_state_sorted, color=\"#3951a2\", label=\"dem\")\n",
    "\n",
    "# Añadir una línea vertical en el 50%\n",
    "plt.axvline(x=0.50, color=\"white\", linestyle=\"--\", linewidth=1)\n",
    "\n",
    "# Añadir leyenda\n",
    "plt.legend(loc='best')\n",
    "\n",
    "# Invertir el eje Y para que los estados se vean de arriba hacia abajo\n",
    "plt.gca().invert_yaxis()\n",
    "\n",
    "# Añadir etiquetas y título\n",
    "plt.title(f'{ELECTORAL_YEAR} Resultados Medios por Estado - Simulaciones de Trump vs Biden', fontsize=16)\n",
    "plt.xlabel('Proporción de Votos Simulados')\n",
    "plt.ylabel('Estado')\n",
    "\n",
    "# Ajustar el eje X para que las barras lleguen al 100%\n",
    "plt.xlim(0, 1)\n",
    "\n",
    "# Guardar el gráfico como PNG con fondo transparente\n",
    "plt.savefig(\"imgs/porc_estado_transparente_{ELECTORAL_YEAR}.png\", format=\"png\", transparent=True)\n",
    "\n",
    "# Mostrar el gráfico\n",
    "plt.show()"
   ]
  },
  {
   "cell_type": "code",
   "execution_count": 63,
   "metadata": {},
   "outputs": [
    {
     "data": {
      "image/png": "[encoded data removed]",
      "text/plain": [
       "<Figure size 2600x1200 with 1 Axes>"
      ]
     },
     "metadata": {},
     "output_type": "display_data"
    }
   ],
   "source": [
    "plt.figure(figsize=(26, 12))\n",
    "\n",
    "# Graficar la barra de Trump (en la parte inferior)\n",
    "sns.barplot(y=accumulated_pred_state_sorted[\"Per_dem\"] + accumulated_pred_state_sorted[\"Per_gop\"], \n",
    "            x='state', data=accumulated_pred_state_sorted, color=\"#ac2a37\", label=\"gop\")\n",
    "\n",
    "# Graficar la barra de Biden encima de Trump\n",
    "sns.barplot(y=\"Per_dem\", x='state', data=accumulated_pred_state_sorted, color=\"#3951a2\", label=\"dem\")\n",
    "\n",
    "# Añadir una línea horizontal en el 50%\n",
    "plt.axhline(y=0.50, color=\"white\", linestyle=\"--\", linewidth=1)\n",
    "\n",
    "# Añadir leyenda\n",
    "plt.legend(loc='best', fontsize=22)\n",
    "\n",
    "# Añadir etiquetas y título\n",
    "# plt.title('Resultados Medios por Estado - Simulaciones de Trump vs Biden', fontsize=16)\n",
    "plt.ylabel('Proporción de Votos Simulados', fontsize=22)\n",
    "plt.xlabel('Estado', fontsize=22)\n",
    "\n",
    "# Ajustar el eje Y para que las barras lleguen al 100%\n",
    "plt.ylim(0, 1)\n",
    "\n",
    "# Rotar los nombres de los estados para mejor visibilidad y aumentar el tamaño de las etiquetas\n",
    "plt.xticks(rotation=90, fontsize=24)\n",
    "plt.yticks(fontsize=24)\n",
    "\n",
    "# Ajustar los márgenes del gráfico para evitar que los xticks se corten\n",
    "plt.tight_layout()\n",
    "\n",
    "\n",
    "# Guardar el gráfico como PNG con fondo transparente\n",
    "plt.savefig(f\"imgs/porc_estado_inv_transparente_{ELECTORAL_YEAR}.png\", format=\"png\", transparent=True)\n",
    "\n",
    "# Mostrar el gráfico\n",
    "plt.show()"
   ]
  },
  {
   "cell_type": "code",
   "execution_count": 64,
   "metadata": {},
   "outputs": [
    {
     "data": {
      "application/vnd.plotly.v1+json": {
       "config": {
        "plotlyServerURL": "https://plot.ly"
       },
       "data": [
        {
         "colorscale": [
          [
           0,
           "#af2b39"
          ],
          [
           1,
           "#af2b39"
          ]
         ],
         "customdata": [
          [
           "AL",
           0.3733972829561614,
           0.6266027170438386
          ],
          [
           "AR",
           0.3652124119103953,
           0.6347875880896047
          ],
          [
           "FL",
           0.48233454997339414,
           0.5176654500266058
          ],
          [
           "ID",
           0.29432388851429986,
           0.7056761114857005
          ],
          [
           "IN",
           0.4187053790762649,
           0.5812946209237352
          ],
          [
           "IA",
           0.4523642025307366,
           0.5476357974692633
          ],
          [
           "KS",
           0.4243086556873347,
           0.5756913443126652
          ],
          [
           "KY",
           0.3705945148728524,
           0.6294054851271477
          ],
          [
           "LA",
           0.41283438348431045,
           0.5871656165156895
          ],
          [
           "MS",
           0.4131315439301406,
           0.5868684560698594
          ],
          [
           "MO",
           0.42335643380953153,
           0.5766435661904684
          ],
          [
           "MT",
           0.4160073026265278,
           0.5839926973734721
          ],
          [
           "NE",
           0.4785321078982587,
           0.5214678921017412
          ],
          [
           "NV",
           0.44862350530099754,
           0.5513764946990025
          ],
          [
           "NC",
           0.49019557988833506,
           0.5098044201116649
          ],
          [
           "ND",
           0.3281731991931609,
           0.671826800806839
          ],
          [
           "OH",
           0.460900257229205,
           0.539099742770795
          ],
          [
           "OK",
           0.35297842800766815,
           0.6470215719923321
          ],
          [
           "PA",
           0.49437029498706003,
           0.50562970501294
          ],
          [
           "SC",
           0.44267252637371707,
           0.5573274736262831
          ],
          [
           "SD",
           0.3622892640618031,
           0.6377107359381967
          ],
          [
           "TN",
           0.3873228199671819,
           0.6126771800328181
          ],
          [
           "TX",
           0.47448194717618153,
           0.5255180528238185
          ],
          [
           "UT",
           0.4213168991804582,
           0.5786831008195417
          ],
          [
           "WV",
           0.3094709485191158,
           0.6905290514808844
          ],
          [
           "WI",
           0.49812910888420037,
           0.5018708911157996
          ],
          [
           "WY",
           0.2794967102178703,
           0.7205032897821293
          ]
         ],
         "geo": "geo",
         "hovertemplate": "<b>%{hovertext}</b><br><br>Ganador {ELECTORAL_YEAR}=gop<br>state_code=%{customdata[0]}<br>Per_dem=%{customdata[1]:.2%}<br>Per_gop=%{customdata[2]:.2%}<extra></extra>",
         "hovertext": [
          "AL",
          "AR",
          "FL",
          "ID",
          "IN",
          "IA",
          "KS",
          "KY",
          "LA",
          "MS",
          "MO",
          "MT",
          "NE",
          "NV",
          "NC",
          "ND",
          "OH",
          "OK",
          "PA",
          "SC",
          "SD",
          "TN",
          "TX",
          "UT",
          "WV",
          "WI",
          "WY"
         ],
         "locationmode": "USA-states",
         "locations": [
          "AL",
          "AR",
          "FL",
          "ID",
          "IN",
          "IA",
          "KS",
          "KY",
          "LA",
          "MS",
          "MO",
          "MT",
          "NE",
          "NV",
          "NC",
          "ND",
          "OH",
          "OK",
          "PA",
          "SC",
          "SD",
          "TN",
          "TX",
          "UT",
          "WV",
          "WI",
          "WY"
         ],
         "name": "gop",
         "showlegend": true,
         "showscale": false,
         "type": "choropleth",
         "z": [
          1,
          1,
          1,
          1,
          1,
          1,
          1,
          1,
          1,
          1,
          1,
          1,
          1,
          1,
          1,
          1,
          1,
          1,
          1,
          1,
          1,
          1,
          1,
          1,
          1,
          1,
          1
         ]
        },
        {
         "colorscale": [
          [
           0,
           "#3951a2"
          ],
          [
           1,
           "#3951a2"
          ]
         ],
         "customdata": [
          [
           "AZ",
           0.5061314210741817,
           0.49386857892581837
          ],
          [
           "CA",
           0.6439295094877084,
           0.35607049051229184
          ],
          [
           "CO",
           0.5674258424269525,
           0.4325741575730475
          ],
          [
           "CT",
           0.5930901755362108,
           0.40690982446378937
          ],
          [
           "DE",
           0.7458243897854812,
           0.2541756102145185
          ],
          [
           "DC",
           0.622880975640379,
           0.37711902435962075
          ],
          [
           "GA",
           0.5002893679254933,
           0.4997106320745068
          ],
          [
           "HI",
           0.5768983067462027,
           0.42310169325379776
          ],
          [
           "IL",
           0.5755329200385877,
           0.4244670799614125
          ],
          [
           "ME",
           0.5499351749270971,
           0.45006482507290285
          ],
          [
           "MD",
           0.6719590977757559,
           0.3280409022242441
          ],
          [
           "MA",
           0.6649250414559116,
           0.33507495854408853
          ],
          [
           "MI",
           0.5108465614685734,
           0.48915343853142657
          ],
          [
           "MN",
           0.5341399861673906,
           0.4658600138326093
          ],
          [
           "NH",
           0.5545047953418455,
           0.44549520465815456
          ],
          [
           "NJ",
           0.5829360941490425,
           0.41706390585095754
          ],
          [
           "NM",
           0.5354891541709312,
           0.4645108458290687
          ],
          [
           "NY",
           0.6104962656340187,
           0.3895037343659813
          ],
          [
           "OR",
           0.5800266248815642,
           0.4199733751184357
          ],
          [
           "RI",
           0.5662254035314208,
           0.43377459646857913
          ],
          [
           "VT",
           0.6578749936844878,
           0.34212500631551224
          ],
          [
           "VA",
           0.5442572855034177,
           0.4557427144965822
          ],
          [
           "WA",
           0.5928740061972047,
           0.40712599380279535
          ]
         ],
         "geo": "geo",
         "hovertemplate": "<b>%{hovertext}</b><br><br>Ganador {ELECTORAL_YEAR}=dem<br>state_code=%{customdata[0]}<br>Per_dem=%{customdata[1]:.2%}<br>Per_gop=%{customdata[2]:.2%}<extra></extra>",
         "hovertext": [
          "AZ",
          "CA",
          "CO",
          "CT",
          "DE",
          "DC",
          "GA",
          "HI",
          "IL",
          "ME",
          "MD",
          "MA",
          "MI",
          "MN",
          "NH",
          "NJ",
          "NM",
          "NY",
          "OR",
          "RI",
          "VT",
          "VA",
          "WA"
         ],
         "locationmode": "USA-states",
         "locations": [
          "AZ",
          "CA",
          "CO",
          "CT",
          "DE",
          "DC",
          "GA",
          "HI",
          "IL",
          "ME",
          "MD",
          "MA",
          "MI",
          "MN",
          "NH",
          "NJ",
          "NM",
          "NY",
          "OR",
          "RI",
          "VT",
          "VA",
          "WA"
         ],
         "name": "dem",
         "showlegend": true,
         "showscale": false,
         "type": "choropleth",
         "z": [
          1,
          1,
          1,
          1,
          1,
          1,
          1,
          1,
          1,
          1,
          1,
          1,
          1,
          1,
          1,
          1,
          1,
          1,
          1,
          1,
          1,
          1,
          1
         ]
        }
       ],
       "layout": {
        "geo": {
         "center": {},
         "domain": {
          "x": [
           0,
           1
          ],
          "y": [
           0,
           1
          ]
         },
         "fitbounds": "locations",
         "scope": "usa",
         "visible": false
        },
        "height": 800,
        "legend": {
         "title": {
          "text": "Ganador {ELECTORAL_YEAR}"
         },
         "tracegroupgap": 0
        },
        "template": {
         "data": {
          "bar": [
           {
            "error_x": {
             "color": "#2a3f5f"
            },
            "error_y": {
             "color": "#2a3f5f"
            },
            "marker": {
             "line": {
              "color": "#E5ECF6",
              "width": 0.5
             },
             "pattern": {
              "fillmode": "overlay",
              "size": 10,
              "solidity": 0.2
             }
            },
            "type": "bar"
           }
          ],
          "barpolar": [
           {
            "marker": {
             "line": {
              "color": "#E5ECF6",
              "width": 0.5
             },
             "pattern": {
              "fillmode": "overlay",
              "size": 10,
              "solidity": 0.2
             }
            },
            "type": "barpolar"
           }
          ],
          "carpet": [
           {
            "aaxis": {
             "endlinecolor": "#2a3f5f",
             "gridcolor": "white",
             "linecolor": "white",
             "minorgridcolor": "white",
             "startlinecolor": "#2a3f5f"
            },
            "baxis": {
             "endlinecolor": "#2a3f5f",
             "gridcolor": "white",
             "linecolor": "white",
             "minorgridcolor": "white",
             "startlinecolor": "#2a3f5f"
            },
            "type": "carpet"
           }
          ],
          "choropleth": [
           {
            "colorbar": {
             "outlinewidth": 0,
             "ticks": ""
            },
            "type": "choropleth"
           }
          ],
          "contour": [
           {
            "colorbar": {
             "outlinewidth": 0,
             "ticks": ""
            },
            "colorscale": [
             [
              0,
              "#0d0887"
             ],
             [
              0.1111111111111111,
              "#46039f"
             ],
             [
              0.2222222222222222,
              "#7201a8"
             ],
             [
              0.3333333333333333,
              "#9c179e"
             ],
             [
              0.4444444444444444,
              "#bd3786"
             ],
             [
              0.5555555555555556,
              "#d8576b"
             ],
             [
              0.6666666666666666,
              "#ed7953"
             ],
             [
              0.7777777777777778,
              "#fb9f3a"
             ],
             [
              0.8888888888888888,
              "#fdca26"
             ],
             [
              1,
              "#f0f921"
             ]
            ],
            "type": "contour"
           }
          ],
          "contourcarpet": [
           {
            "colorbar": {
             "outlinewidth": 0,
             "ticks": ""
            },
            "type": "contourcarpet"
           }
          ],
          "heatmap": [
           {
            "colorbar": {
             "outlinewidth": 0,
             "ticks": ""
            },
            "colorscale": [
             [
              0,
              "#0d0887"
             ],
             [
              0.1111111111111111,
              "#46039f"
             ],
             [
              0.2222222222222222,
              "#7201a8"
             ],
             [
              0.3333333333333333,
              "#9c179e"
             ],
             [
              0.4444444444444444,
              "#bd3786"
             ],
             [
              0.5555555555555556,
              "#d8576b"
             ],
             [
              0.6666666666666666,
              "#ed7953"
             ],
             [
              0.7777777777777778,
              "#fb9f3a"
             ],
             [
              0.8888888888888888,
              "#fdca26"
             ],
             [
              1,
              "#f0f921"
             ]
            ],
            "type": "heatmap"
           }
          ],
          "histogram": [
           {
            "marker": {
             "pattern": {
              "fillmode": "overlay",
              "size": 10,
              "solidity": 0.2
             }
            },
            "type": "histogram"
           }
          ],
          "histogram2d": [
           {
            "colorbar": {
             "outlinewidth": 0,
             "ticks": ""
            },
            "colorscale": [
             [
              0,
              "#0d0887"
             ],
             [
              0.1111111111111111,
              "#46039f"
             ],
             [
              0.2222222222222222,
              "#7201a8"
             ],
             [
              0.3333333333333333,
              "#9c179e"
             ],
             [
              0.4444444444444444,
              "#bd3786"
             ],
             [
              0.5555555555555556,
              "#d8576b"
             ],
             [
              0.6666666666666666,
              "#ed7953"
             ],
             [
              0.7777777777777778,
              "#fb9f3a"
             ],
             [
              0.8888888888888888,
              "#fdca26"
             ],
             [
              1,
              "#f0f921"
             ]
            ],
            "type": "histogram2d"
           }
          ],
          "histogram2dcontour": [
           {
            "colorbar": {
             "outlinewidth": 0,
             "ticks": ""
            },
            "colorscale": [
             [
              0,
              "#0d0887"
             ],
             [
              0.1111111111111111,
              "#46039f"
             ],
             [
              0.2222222222222222,
              "#7201a8"
             ],
             [
              0.3333333333333333,
              "#9c179e"
             ],
             [
              0.4444444444444444,
              "#bd3786"
             ],
             [
              0.5555555555555556,
              "#d8576b"
             ],
             [
              0.6666666666666666,
              "#ed7953"
             ],
             [
              0.7777777777777778,
              "#fb9f3a"
             ],
             [
              0.8888888888888888,
              "#fdca26"
             ],
             [
              1,
              "#f0f921"
             ]
            ],
            "type": "histogram2dcontour"
           }
          ],
          "mesh3d": [
           {
            "colorbar": {
             "outlinewidth": 0,
             "ticks": ""
            },
            "type": "mesh3d"
           }
          ],
          "parcoords": [
           {
            "line": {
             "colorbar": {
              "outlinewidth": 0,
              "ticks": ""
             }
            },
            "type": "parcoords"
           }
          ],
          "pie": [
           {
            "automargin": true,
            "type": "pie"
           }
          ],
          "scatter": [
           {
            "fillpattern": {
             "fillmode": "overlay",
             "size": 10,
             "solidity": 0.2
            },
            "type": "scatter"
           }
          ],
          "scatter3d": [
           {
            "line": {
             "colorbar": {
              "outlinewidth": 0,
              "ticks": ""
             }
            },
            "marker": {
             "colorbar": {
              "outlinewidth": 0,
              "ticks": ""
             }
            },
            "type": "scatter3d"
           }
          ],
          "scattercarpet": [
           {
            "marker": {
             "colorbar": {
              "outlinewidth": 0,
              "ticks": ""
             }
            },
            "type": "scattercarpet"
           }
          ],
          "scattergeo": [
           {
            "marker": {
             "colorbar": {
              "outlinewidth": 0,
              "ticks": ""
             }
            },
            "type": "scattergeo"
           }
          ],
          "scattergl": [
           {
            "marker": {
             "colorbar": {
              "outlinewidth": 0,
              "ticks": ""
             }
            },
            "type": "scattergl"
           }
          ],
          "scattermap": [
           {
            "marker": {
             "colorbar": {
              "outlinewidth": 0,
              "ticks": ""
             }
            },
            "type": "scattermap"
           }
          ],
          "scattermapbox": [
           {
            "marker": {
             "colorbar": {
              "outlinewidth": 0,
              "ticks": ""
             }
            },
            "type": "scattermapbox"
           }
          ],
          "scatterpolar": [
           {
            "marker": {
             "colorbar": {
              "outlinewidth": 0,
              "ticks": ""
             }
            },
            "type": "scatterpolar"
           }
          ],
          "scatterpolargl": [
           {
            "marker": {
             "colorbar": {
              "outlinewidth": 0,
              "ticks": ""
             }
            },
            "type": "scatterpolargl"
           }
          ],
          "scatterternary": [
           {
            "marker": {
             "colorbar": {
              "outlinewidth": 0,
              "ticks": ""
             }
            },
            "type": "scatterternary"
           }
          ],
          "surface": [
           {
            "colorbar": {
             "outlinewidth": 0,
             "ticks": ""
            },
            "colorscale": [
             [
              0,
              "#0d0887"
             ],
             [
              0.1111111111111111,
              "#46039f"
             ],
             [
              0.2222222222222222,
              "#7201a8"
             ],
             [
              0.3333333333333333,
              "#9c179e"
             ],
             [
              0.4444444444444444,
              "#bd3786"
             ],
             [
              0.5555555555555556,
              "#d8576b"
             ],
             [
              0.6666666666666666,
              "#ed7953"
             ],
             [
              0.7777777777777778,
              "#fb9f3a"
             ],
             [
              0.8888888888888888,
              "#fdca26"
             ],
             [
              1,
              "#f0f921"
             ]
            ],
            "type": "surface"
           }
          ],
          "table": [
           {
            "cells": {
             "fill": {
              "color": "#EBF0F8"
             },
             "line": {
              "color": "white"
             }
            },
            "header": {
             "fill": {
              "color": "#C8D4E3"
             },
             "line": {
              "color": "white"
             }
            },
            "type": "table"
           }
          ]
         },
         "layout": {
          "annotationdefaults": {
           "arrowcolor": "#2a3f5f",
           "arrowhead": 0,
           "arrowwidth": 1
          },
          "autotypenumbers": "strict",
          "coloraxis": {
           "colorbar": {
            "outlinewidth": 0,
            "ticks": ""
           }
          },
          "colorscale": {
           "diverging": [
            [
             0,
             "#8e0152"
            ],
            [
             0.1,
             "#c51b7d"
            ],
            [
             0.2,
             "#de77ae"
            ],
            [
             0.3,
             "#f1b6da"
            ],
            [
             0.4,
             "#fde0ef"
            ],
            [
             0.5,
             "#f7f7f7"
            ],
            [
             0.6,
             "#e6f5d0"
            ],
            [
             0.7,
             "#b8e186"
            ],
            [
             0.8,
             "#7fbc41"
            ],
            [
             0.9,
             "#4d9221"
            ],
            [
             1,
             "#276419"
            ]
           ],
           "sequential": [
            [
             0,
             "#0d0887"
            ],
            [
             0.1111111111111111,
             "#46039f"
            ],
            [
             0.2222222222222222,
             "#7201a8"
            ],
            [
             0.3333333333333333,
             "#9c179e"
            ],
            [
             0.4444444444444444,
             "#bd3786"
            ],
            [
             0.5555555555555556,
             "#d8576b"
            ],
            [
             0.6666666666666666,
             "#ed7953"
            ],
            [
             0.7777777777777778,
             "#fb9f3a"
            ],
            [
             0.8888888888888888,
             "#fdca26"
            ],
            [
             1,
             "#f0f921"
            ]
           ],
           "sequentialminus": [
            [
             0,
             "#0d0887"
            ],
            [
             0.1111111111111111,
             "#46039f"
            ],
            [
             0.2222222222222222,
             "#7201a8"
            ],
            [
             0.3333333333333333,
             "#9c179e"
            ],
            [
             0.4444444444444444,
             "#bd3786"
            ],
            [
             0.5555555555555556,
             "#d8576b"
            ],
            [
             0.6666666666666666,
             "#ed7953"
            ],
            [
             0.7777777777777778,
             "#fb9f3a"
            ],
            [
             0.8888888888888888,
             "#fdca26"
            ],
            [
             1,
             "#f0f921"
            ]
           ]
          },
          "colorway": [
           "#636efa",
           "#EF553B",
           "#00cc96",
           "#ab63fa",
           "#FFA15A",
           "#19d3f3",
           "#FF6692",
           "#B6E880",
           "#FF97FF",
           "#FECB52"
          ],
          "font": {
           "color": "#2a3f5f"
          },
          "geo": {
           "bgcolor": "white",
           "lakecolor": "white",
           "landcolor": "#E5ECF6",
           "showlakes": true,
           "showland": true,
           "subunitcolor": "white"
          },
          "hoverlabel": {
           "align": "left"
          },
          "hovermode": "closest",
          "mapbox": {
           "style": "light"
          },
          "paper_bgcolor": "white",
          "plot_bgcolor": "#E5ECF6",
          "polar": {
           "angularaxis": {
            "gridcolor": "white",
            "linecolor": "white",
            "ticks": ""
           },
           "bgcolor": "#E5ECF6",
           "radialaxis": {
            "gridcolor": "white",
            "linecolor": "white",
            "ticks": ""
           }
          },
          "scene": {
           "xaxis": {
            "backgroundcolor": "#E5ECF6",
            "gridcolor": "white",
            "gridwidth": 2,
            "linecolor": "white",
            "showbackground": true,
            "ticks": "",
            "zerolinecolor": "white"
           },
           "yaxis": {
            "backgroundcolor": "#E5ECF6",
            "gridcolor": "white",
            "gridwidth": 2,
            "linecolor": "white",
            "showbackground": true,
            "ticks": "",
            "zerolinecolor": "white"
           },
           "zaxis": {
            "backgroundcolor": "#E5ECF6",
            "gridcolor": "white",
            "gridwidth": 2,
            "linecolor": "white",
            "showbackground": true,
            "ticks": "",
            "zerolinecolor": "white"
           }
          },
          "shapedefaults": {
           "line": {
            "color": "#2a3f5f"
           }
          },
          "ternary": {
           "aaxis": {
            "gridcolor": "white",
            "linecolor": "white",
            "ticks": ""
           },
           "baxis": {
            "gridcolor": "white",
            "linecolor": "white",
            "ticks": ""
           },
           "bgcolor": "#E5ECF6",
           "caxis": {
            "gridcolor": "white",
            "linecolor": "white",
            "ticks": ""
           }
          },
          "title": {
           "x": 0.05
          },
          "xaxis": {
           "automargin": true,
           "gridcolor": "white",
           "linecolor": "white",
           "ticks": "",
           "title": {
            "standoff": 15
           },
           "zerolinecolor": "white",
           "zerolinewidth": 2
          },
          "yaxis": {
           "automargin": true,
           "gridcolor": "white",
           "linecolor": "white",
           "ticks": "",
           "title": {
            "standoff": 15
           },
           "zerolinecolor": "white",
           "zerolinewidth": 2
          }
         }
        },
        "title": {
         "text": "Resultado Medio de las Simulaciones - Elecciones Presidenciales 2020"
        },
        "width": 1200
       }
      }
     },
     "metadata": {},
     "output_type": "display_data"
    }
   ],
   "source": [
    "# Crear el mapa coroplético usando Plotly Express con códigos de estado\n",
    "fig = px.choropleth(accumulated_pred_state,\n",
    "                    locations='state_code',  # Usar la nueva columna con códigos de estado\n",
    "                    locationmode=\"USA-states\",  # Modo de localización para los códigos de estado\n",
    "                    color='Winner',  # Métrica que deseas visualizar\n",
    "                    hover_name='state_code',  # Mostrar el código del estado en hover\n",
    "                    hover_data={\n",
    "                        'state_code': True,  # Mostrar el código del estado\n",
    "                        \"Per_dem\": ':.2%',  # Mostrar el porcentaje de Biden en formato de porcentaje\n",
    "                        \"Per_gop\": ':.2%'  # Mostrar el porcentaje de Trump en formato de porcentaje\n",
    "                    },\n",
    "                    scope='usa',  # Limitar el mapa a EE.UU.\n",
    "                    color_discrete_map={'dem': '#3951a2', 'gop': '#af2b39'},  # Colores asignados\n",
    "                    labels={f'Winner': 'Ganador {ELECTORAL_YEAR}'},  # Etiqueta para la barra de color\n",
    "                    title=f\"Resultado Medio de las Simulaciones - Elecciones Presidenciales {ELECTORAL_YEAR}\"\n",
    "                   )\n",
    "\n",
    "# # Crear un nuevo rastro para añadir los códigos de los estados en el mapa\n",
    "# fig.add_trace(go.Scattergeo(\n",
    "#     locationmode='USA-states',\n",
    "#     locations=accumulated_pred_state['state_code'],  # Usar los códigos de los estados\n",
    "#     text=accumulated_pred_state['state_code'],  # Mostrar los códigos dentro del mapa\n",
    "#     mode='text',  # Solo texto\n",
    "#     textfont=dict(size=12, color=\"black\"),  # Tamaño y color de la fuente\n",
    "# ))\n",
    "\n",
    "# Ajustar el tamaño del gráfico\n",
    "fig.update_layout(\n",
    "    width=1200,  # Ajustar el ancho del gráfico\n",
    "    height=800   # Ajustar la altura del gráfico\n",
    ")\n",
    "\n",
    "# Ajustar visualización y mostrar el gráfico\n",
    "fig.update_geos(fitbounds=\"locations\", visible=False)  # Ajustar el mapa a las ubicaciones\n",
    "fig.show()\n"
   ]
  },
  {
   "cell_type": "code",
   "execution_count": 65,
   "metadata": {},
   "outputs": [
    {
     "data": {
      "application/vnd.plotly.v1+json": {
       "config": {
        "plotlyServerURL": "https://plot.ly"
       },
       "data": [
        {
         "colorscale": [
          [
           0,
           "#af2b39"
          ],
          [
           1,
           "#af2b39"
          ]
         ],
         "customdata": [
          [
           "AL",
           0.3733972829561614,
           0.6266027170438386
          ],
          [
           "AR",
           0.3652124119103953,
           0.6347875880896047
          ],
          [
           "ID",
           0.29432388851429986,
           0.7056761114857005
          ],
          [
           "IN",
           0.4187053790762649,
           0.5812946209237352
          ],
          [
           "KS",
           0.4243086556873347,
           0.5756913443126652
          ],
          [
           "KY",
           0.3705945148728524,
           0.6294054851271477
          ],
          [
           "LA",
           0.41283438348431045,
           0.5871656165156895
          ],
          [
           "MS",
           0.4131315439301406,
           0.5868684560698594
          ],
          [
           "MO",
           0.42335643380953153,
           0.5766435661904684
          ],
          [
           "MT",
           0.4160073026265278,
           0.5839926973734721
          ],
          [
           "NV",
           0.44862350530099754,
           0.5513764946990025
          ],
          [
           "ND",
           0.3281731991931609,
           0.671826800806839
          ],
          [
           "OK",
           0.35297842800766815,
           0.6470215719923321
          ],
          [
           "SC",
           0.44267252637371707,
           0.5573274736262831
          ],
          [
           "SD",
           0.3622892640618031,
           0.6377107359381967
          ],
          [
           "TN",
           0.3873228199671819,
           0.6126771800328181
          ],
          [
           "UT",
           0.4213168991804582,
           0.5786831008195417
          ],
          [
           "WV",
           0.3094709485191158,
           0.6905290514808844
          ],
          [
           "WY",
           0.2794967102178703,
           0.7205032897821293
          ]
         ],
         "geo": "geo",
         "hovertemplate": "<b>%{hovertext}</b><br><br>Status=Safe Republican<br>state_code=%{customdata[0]}<br>Per_dem=%{customdata[1]:.2%}<br>Per_gop=%{customdata[2]:.2%}<extra></extra>",
         "hovertext": [
          "AL",
          "AR",
          "ID",
          "IN",
          "KS",
          "KY",
          "LA",
          "MS",
          "MO",
          "MT",
          "NV",
          "ND",
          "OK",
          "SC",
          "SD",
          "TN",
          "UT",
          "WV",
          "WY"
         ],
         "locationmode": "USA-states",
         "locations": [
          "AL",
          "AR",
          "ID",
          "IN",
          "KS",
          "KY",
          "LA",
          "MS",
          "MO",
          "MT",
          "NV",
          "ND",
          "OK",
          "SC",
          "SD",
          "TN",
          "UT",
          "WV",
          "WY"
         ],
         "name": "Safe Republican",
         "showlegend": true,
         "showscale": false,
         "type": "choropleth",
         "z": [
          1,
          1,
          1,
          1,
          1,
          1,
          1,
          1,
          1,
          1,
          1,
          1,
          1,
          1,
          1,
          1,
          1,
          1,
          1
         ]
        },
        {
         "colorscale": [
          [
           0,
           "#b6b164"
          ],
          [
           1,
           "#b6b164"
          ]
         ],
         "customdata": [
          [
           "AZ",
           0.5061314210741817,
           0.49386857892581837
          ],
          [
           "GA",
           0.5002893679254933,
           0.4997106320745068
          ],
          [
           "MI",
           0.5108465614685734,
           0.48915343853142657
          ],
          [
           "NC",
           0.49019557988833506,
           0.5098044201116649
          ],
          [
           "PA",
           0.49437029498706003,
           0.50562970501294
          ],
          [
           "WI",
           0.49812910888420037,
           0.5018708911157996
          ]
         ],
         "geo": "geo",
         "hovertemplate": "<b>%{hovertext}</b><br><br>Status=Toss-Up<br>state_code=%{customdata[0]}<br>Per_dem=%{customdata[1]:.2%}<br>Per_gop=%{customdata[2]:.2%}<extra></extra>",
         "hovertext": [
          "AZ",
          "GA",
          "MI",
          "NC",
          "PA",
          "WI"
         ],
         "locationmode": "USA-states",
         "locations": [
          "AZ",
          "GA",
          "MI",
          "NC",
          "PA",
          "WI"
         ],
         "name": "Toss-Up",
         "showlegend": true,
         "showscale": false,
         "type": "choropleth",
         "z": [
          1,
          1,
          1,
          1,
          1,
          1
         ]
        },
        {
         "colorscale": [
          [
           0,
           "#3951a2"
          ],
          [
           1,
           "#3951a2"
          ]
         ],
         "customdata": [
          [
           "CA",
           0.6439295094877084,
           0.35607049051229184
          ],
          [
           "CO",
           0.5674258424269525,
           0.4325741575730475
          ],
          [
           "CT",
           0.5930901755362108,
           0.40690982446378937
          ],
          [
           "DE",
           0.7458243897854812,
           0.2541756102145185
          ],
          [
           "DC",
           0.622880975640379,
           0.37711902435962075
          ],
          [
           "HI",
           0.5768983067462027,
           0.42310169325379776
          ],
          [
           "IL",
           0.5755329200385877,
           0.4244670799614125
          ],
          [
           "MD",
           0.6719590977757559,
           0.3280409022242441
          ],
          [
           "MA",
           0.6649250414559116,
           0.33507495854408853
          ],
          [
           "NH",
           0.5545047953418455,
           0.44549520465815456
          ],
          [
           "NJ",
           0.5829360941490425,
           0.41706390585095754
          ],
          [
           "NY",
           0.6104962656340187,
           0.3895037343659813
          ],
          [
           "OR",
           0.5800266248815642,
           0.4199733751184357
          ],
          [
           "RI",
           0.5662254035314208,
           0.43377459646857913
          ],
          [
           "VT",
           0.6578749936844878,
           0.34212500631551224
          ],
          [
           "WA",
           0.5928740061972047,
           0.40712599380279535
          ]
         ],
         "geo": "geo",
         "hovertemplate": "<b>%{hovertext}</b><br><br>Status=Safe Democrat<br>state_code=%{customdata[0]}<br>Per_dem=%{customdata[1]:.2%}<br>Per_gop=%{customdata[2]:.2%}<extra></extra>",
         "hovertext": [
          "CA",
          "CO",
          "CT",
          "DE",
          "DC",
          "HI",
          "IL",
          "MD",
          "MA",
          "NH",
          "NJ",
          "NY",
          "OR",
          "RI",
          "VT",
          "WA"
         ],
         "locationmode": "USA-states",
         "locations": [
          "CA",
          "CO",
          "CT",
          "DE",
          "DC",
          "HI",
          "IL",
          "MD",
          "MA",
          "NH",
          "NJ",
          "NY",
          "OR",
          "RI",
          "VT",
          "WA"
         ],
         "name": "Safe Democrat",
         "showlegend": true,
         "showscale": false,
         "type": "choropleth",
         "z": [
          1,
          1,
          1,
          1,
          1,
          1,
          1,
          1,
          1,
          1,
          1,
          1,
          1,
          1,
          1,
          1
         ]
        },
        {
         "colorscale": [
          [
           0,
           "#d56062"
          ],
          [
           1,
           "#d56062"
          ]
         ],
         "customdata": [
          [
           "FL",
           0.48233454997339414,
           0.5176654500266058
          ],
          [
           "IA",
           0.4523642025307366,
           0.5476357974692633
          ],
          [
           "NE",
           0.4785321078982587,
           0.5214678921017412
          ],
          [
           "OH",
           0.460900257229205,
           0.539099742770795
          ],
          [
           "TX",
           0.47448194717618153,
           0.5255180528238185
          ]
         ],
         "geo": "geo",
         "hovertemplate": "<b>%{hovertext}</b><br><br>Status=Likely Republican<br>state_code=%{customdata[0]}<br>Per_dem=%{customdata[1]:.2%}<br>Per_gop=%{customdata[2]:.2%}<extra></extra>",
         "hovertext": [
          "FL",
          "IA",
          "NE",
          "OH",
          "TX"
         ],
         "locationmode": "USA-states",
         "locations": [
          "FL",
          "IA",
          "NE",
          "OH",
          "TX"
         ],
         "name": "Likely Republican",
         "showlegend": true,
         "showscale": false,
         "type": "choropleth",
         "z": [
          1,
          1,
          1,
          1,
          1
         ]
        },
        {
         "colorscale": [
          [
           0,
           "#a3cef1"
          ],
          [
           1,
           "#a3cef1"
          ]
         ],
         "customdata": [
          [
           "ME",
           0.5499351749270971,
           0.45006482507290285
          ],
          [
           "MN",
           0.5341399861673906,
           0.4658600138326093
          ],
          [
           "NM",
           0.5354891541709312,
           0.4645108458290687
          ],
          [
           "VA",
           0.5442572855034177,
           0.4557427144965822
          ]
         ],
         "geo": "geo",
         "hovertemplate": "<b>%{hovertext}</b><br><br>Status=Likely Democrat<br>state_code=%{customdata[0]}<br>Per_dem=%{customdata[1]:.2%}<br>Per_gop=%{customdata[2]:.2%}<extra></extra>",
         "hovertext": [
          "ME",
          "MN",
          "NM",
          "VA"
         ],
         "locationmode": "USA-states",
         "locations": [
          "ME",
          "MN",
          "NM",
          "VA"
         ],
         "name": "Likely Democrat",
         "showlegend": true,
         "showscale": false,
         "type": "choropleth",
         "z": [
          1,
          1,
          1,
          1
         ]
        }
       ],
       "layout": {
        "geo": {
         "center": {},
         "domain": {
          "x": [
           0,
           1
          ],
          "y": [
           0,
           1
          ]
         },
         "fitbounds": "locations",
         "scope": "usa",
         "visible": false
        },
        "height": 800,
        "legend": {
         "title": {
          "text": "Status"
         },
         "tracegroupgap": 0
        },
        "template": {
         "data": {
          "bar": [
           {
            "error_x": {
             "color": "#2a3f5f"
            },
            "error_y": {
             "color": "#2a3f5f"
            },
            "marker": {
             "line": {
              "color": "#E5ECF6",
              "width": 0.5
             },
             "pattern": {
              "fillmode": "overlay",
              "size": 10,
              "solidity": 0.2
             }
            },
            "type": "bar"
           }
          ],
          "barpolar": [
           {
            "marker": {
             "line": {
              "color": "#E5ECF6",
              "width": 0.5
             },
             "pattern": {
              "fillmode": "overlay",
              "size": 10,
              "solidity": 0.2
             }
            },
            "type": "barpolar"
           }
          ],
          "carpet": [
           {
            "aaxis": {
             "endlinecolor": "#2a3f5f",
             "gridcolor": "white",
             "linecolor": "white",
             "minorgridcolor": "white",
             "startlinecolor": "#2a3f5f"
            },
            "baxis": {
             "endlinecolor": "#2a3f5f",
             "gridcolor": "white",
             "linecolor": "white",
             "minorgridcolor": "white",
             "startlinecolor": "#2a3f5f"
            },
            "type": "carpet"
           }
          ],
          "choropleth": [
           {
            "colorbar": {
             "outlinewidth": 0,
             "ticks": ""
            },
            "type": "choropleth"
           }
          ],
          "contour": [
           {
            "colorbar": {
             "outlinewidth": 0,
             "ticks": ""
            },
            "colorscale": [
             [
              0,
              "#0d0887"
             ],
             [
              0.1111111111111111,
              "#46039f"
             ],
             [
              0.2222222222222222,
              "#7201a8"
             ],
             [
              0.3333333333333333,
              "#9c179e"
             ],
             [
              0.4444444444444444,
              "#bd3786"
             ],
             [
              0.5555555555555556,
              "#d8576b"
             ],
             [
              0.6666666666666666,
              "#ed7953"
             ],
             [
              0.7777777777777778,
              "#fb9f3a"
             ],
             [
              0.8888888888888888,
              "#fdca26"
             ],
             [
              1,
              "#f0f921"
             ]
            ],
            "type": "contour"
           }
          ],
          "contourcarpet": [
           {
            "colorbar": {
             "outlinewidth": 0,
             "ticks": ""
            },
            "type": "contourcarpet"
           }
          ],
          "heatmap": [
           {
            "colorbar": {
             "outlinewidth": 0,
             "ticks": ""
            },
            "colorscale": [
             [
              0,
              "#0d0887"
             ],
             [
              0.1111111111111111,
              "#46039f"
             ],
             [
              0.2222222222222222,
              "#7201a8"
             ],
             [
              0.3333333333333333,
              "#9c179e"
             ],
             [
              0.4444444444444444,
              "#bd3786"
             ],
             [
              0.5555555555555556,
              "#d8576b"
             ],
             [
              0.6666666666666666,
              "#ed7953"
             ],
             [
              0.7777777777777778,
              "#fb9f3a"
             ],
             [
              0.8888888888888888,
              "#fdca26"
             ],
             [
              1,
              "#f0f921"
             ]
            ],
            "type": "heatmap"
           }
          ],
          "histogram": [
           {
            "marker": {
             "pattern": {
              "fillmode": "overlay",
              "size": 10,
              "solidity": 0.2
             }
            },
            "type": "histogram"
           }
          ],
          "histogram2d": [
           {
            "colorbar": {
             "outlinewidth": 0,
             "ticks": ""
            },
            "colorscale": [
             [
              0,
              "#0d0887"
             ],
             [
              0.1111111111111111,
              "#46039f"
             ],
             [
              0.2222222222222222,
              "#7201a8"
             ],
             [
              0.3333333333333333,
              "#9c179e"
             ],
             [
              0.4444444444444444,
              "#bd3786"
             ],
             [
              0.5555555555555556,
              "#d8576b"
             ],
             [
              0.6666666666666666,
              "#ed7953"
             ],
             [
              0.7777777777777778,
              "#fb9f3a"
             ],
             [
              0.8888888888888888,
              "#fdca26"
             ],
             [
              1,
              "#f0f921"
             ]
            ],
            "type": "histogram2d"
           }
          ],
          "histogram2dcontour": [
           {
            "colorbar": {
             "outlinewidth": 0,
             "ticks": ""
            },
            "colorscale": [
             [
              0,
              "#0d0887"
             ],
             [
              0.1111111111111111,
              "#46039f"
             ],
             [
              0.2222222222222222,
              "#7201a8"
             ],
             [
              0.3333333333333333,
              "#9c179e"
             ],
             [
              0.4444444444444444,
              "#bd3786"
             ],
             [
              0.5555555555555556,
              "#d8576b"
             ],
             [
              0.6666666666666666,
              "#ed7953"
             ],
             [
              0.7777777777777778,
              "#fb9f3a"
             ],
             [
              0.8888888888888888,
              "#fdca26"
             ],
             [
              1,
              "#f0f921"
             ]
            ],
            "type": "histogram2dcontour"
           }
          ],
          "mesh3d": [
           {
            "colorbar": {
             "outlinewidth": 0,
             "ticks": ""
            },
            "type": "mesh3d"
           }
          ],
          "parcoords": [
           {
            "line": {
             "colorbar": {
              "outlinewidth": 0,
              "ticks": ""
             }
            },
            "type": "parcoords"
           }
          ],
          "pie": [
           {
            "automargin": true,
            "type": "pie"
           }
          ],
          "scatter": [
           {
            "fillpattern": {
             "fillmode": "overlay",
             "size": 10,
             "solidity": 0.2
            },
            "type": "scatter"
           }
          ],
          "scatter3d": [
           {
            "line": {
             "colorbar": {
              "outlinewidth": 0,
              "ticks": ""
             }
            },
            "marker": {
             "colorbar": {
              "outlinewidth": 0,
              "ticks": ""
             }
            },
            "type": "scatter3d"
           }
          ],
          "scattercarpet": [
           {
            "marker": {
             "colorbar": {
              "outlinewidth": 0,
              "ticks": ""
             }
            },
            "type": "scattercarpet"
           }
          ],
          "scattergeo": [
           {
            "marker": {
             "colorbar": {
              "outlinewidth": 0,
              "ticks": ""
             }
            },
            "type": "scattergeo"
           }
          ],
          "scattergl": [
           {
            "marker": {
             "colorbar": {
              "outlinewidth": 0,
              "ticks": ""
             }
            },
            "type": "scattergl"
           }
          ],
          "scattermap": [
           {
            "marker": {
             "colorbar": {
              "outlinewidth": 0,
              "ticks": ""
             }
            },
            "type": "scattermap"
           }
          ],
          "scattermapbox": [
           {
            "marker": {
             "colorbar": {
              "outlinewidth": 0,
              "ticks": ""
             }
            },
            "type": "scattermapbox"
           }
          ],
          "scatterpolar": [
           {
            "marker": {
             "colorbar": {
              "outlinewidth": 0,
              "ticks": ""
             }
            },
            "type": "scatterpolar"
           }
          ],
          "scatterpolargl": [
           {
            "marker": {
             "colorbar": {
              "outlinewidth": 0,
              "ticks": ""
             }
            },
            "type": "scatterpolargl"
           }
          ],
          "scatterternary": [
           {
            "marker": {
             "colorbar": {
              "outlinewidth": 0,
              "ticks": ""
             }
            },
            "type": "scatterternary"
           }
          ],
          "surface": [
           {
            "colorbar": {
             "outlinewidth": 0,
             "ticks": ""
            },
            "colorscale": [
             [
              0,
              "#0d0887"
             ],
             [
              0.1111111111111111,
              "#46039f"
             ],
             [
              0.2222222222222222,
              "#7201a8"
             ],
             [
              0.3333333333333333,
              "#9c179e"
             ],
             [
              0.4444444444444444,
              "#bd3786"
             ],
             [
              0.5555555555555556,
              "#d8576b"
             ],
             [
              0.6666666666666666,
              "#ed7953"
             ],
             [
              0.7777777777777778,
              "#fb9f3a"
             ],
             [
              0.8888888888888888,
              "#fdca26"
             ],
             [
              1,
              "#f0f921"
             ]
            ],
            "type": "surface"
           }
          ],
          "table": [
           {
            "cells": {
             "fill": {
              "color": "#EBF0F8"
             },
             "line": {
              "color": "white"
             }
            },
            "header": {
             "fill": {
              "color": "#C8D4E3"
             },
             "line": {
              "color": "white"
             }
            },
            "type": "table"
           }
          ]
         },
         "layout": {
          "annotationdefaults": {
           "arrowcolor": "#2a3f5f",
           "arrowhead": 0,
           "arrowwidth": 1
          },
          "autotypenumbers": "strict",
          "coloraxis": {
           "colorbar": {
            "outlinewidth": 0,
            "ticks": ""
           }
          },
          "colorscale": {
           "diverging": [
            [
             0,
             "#8e0152"
            ],
            [
             0.1,
             "#c51b7d"
            ],
            [
             0.2,
             "#de77ae"
            ],
            [
             0.3,
             "#f1b6da"
            ],
            [
             0.4,
             "#fde0ef"
            ],
            [
             0.5,
             "#f7f7f7"
            ],
            [
             0.6,
             "#e6f5d0"
            ],
            [
             0.7,
             "#b8e186"
            ],
            [
             0.8,
             "#7fbc41"
            ],
            [
             0.9,
             "#4d9221"
            ],
            [
             1,
             "#276419"
            ]
           ],
           "sequential": [
            [
             0,
             "#0d0887"
            ],
            [
             0.1111111111111111,
             "#46039f"
            ],
            [
             0.2222222222222222,
             "#7201a8"
            ],
            [
             0.3333333333333333,
             "#9c179e"
            ],
            [
             0.4444444444444444,
             "#bd3786"
            ],
            [
             0.5555555555555556,
             "#d8576b"
            ],
            [
             0.6666666666666666,
             "#ed7953"
            ],
            [
             0.7777777777777778,
             "#fb9f3a"
            ],
            [
             0.8888888888888888,
             "#fdca26"
            ],
            [
             1,
             "#f0f921"
            ]
           ],
           "sequentialminus": [
            [
             0,
             "#0d0887"
            ],
            [
             0.1111111111111111,
             "#46039f"
            ],
            [
             0.2222222222222222,
             "#7201a8"
            ],
            [
             0.3333333333333333,
             "#9c179e"
            ],
            [
             0.4444444444444444,
             "#bd3786"
            ],
            [
             0.5555555555555556,
             "#d8576b"
            ],
            [
             0.6666666666666666,
             "#ed7953"
            ],
            [
             0.7777777777777778,
             "#fb9f3a"
            ],
            [
             0.8888888888888888,
             "#fdca26"
            ],
            [
             1,
             "#f0f921"
            ]
           ]
          },
          "colorway": [
           "#636efa",
           "#EF553B",
           "#00cc96",
           "#ab63fa",
           "#FFA15A",
           "#19d3f3",
           "#FF6692",
           "#B6E880",
           "#FF97FF",
           "#FECB52"
          ],
          "font": {
           "color": "#2a3f5f"
          },
          "geo": {
           "bgcolor": "white",
           "lakecolor": "white",
           "landcolor": "#E5ECF6",
           "showlakes": true,
           "showland": true,
           "subunitcolor": "white"
          },
          "hoverlabel": {
           "align": "left"
          },
          "hovermode": "closest",
          "mapbox": {
           "style": "light"
          },
          "paper_bgcolor": "white",
          "plot_bgcolor": "#E5ECF6",
          "polar": {
           "angularaxis": {
            "gridcolor": "white",
            "linecolor": "white",
            "ticks": ""
           },
           "bgcolor": "#E5ECF6",
           "radialaxis": {
            "gridcolor": "white",
            "linecolor": "white",
            "ticks": ""
           }
          },
          "scene": {
           "xaxis": {
            "backgroundcolor": "#E5ECF6",
            "gridcolor": "white",
            "gridwidth": 2,
            "linecolor": "white",
            "showbackground": true,
            "ticks": "",
            "zerolinecolor": "white"
           },
           "yaxis": {
            "backgroundcolor": "#E5ECF6",
            "gridcolor": "white",
            "gridwidth": 2,
            "linecolor": "white",
            "showbackground": true,
            "ticks": "",
            "zerolinecolor": "white"
           },
           "zaxis": {
            "backgroundcolor": "#E5ECF6",
            "gridcolor": "white",
            "gridwidth": 2,
            "linecolor": "white",
            "showbackground": true,
            "ticks": "",
            "zerolinecolor": "white"
           }
          },
          "shapedefaults": {
           "line": {
            "color": "#2a3f5f"
           }
          },
          "ternary": {
           "aaxis": {
            "gridcolor": "white",
            "linecolor": "white",
            "ticks": ""
           },
           "baxis": {
            "gridcolor": "white",
            "linecolor": "white",
            "ticks": ""
           },
           "bgcolor": "#E5ECF6",
           "caxis": {
            "gridcolor": "white",
            "linecolor": "white",
            "ticks": ""
           }
          },
          "title": {
           "x": 0.05
          },
          "xaxis": {
           "automargin": true,
           "gridcolor": "white",
           "linecolor": "white",
           "ticks": "",
           "title": {
            "standoff": 15
           },
           "zerolinecolor": "white",
           "zerolinewidth": 2
          },
          "yaxis": {
           "automargin": true,
           "gridcolor": "white",
           "linecolor": "white",
           "ticks": "",
           "title": {
            "standoff": 15
           },
           "zerolinecolor": "white",
           "zerolinewidth": 2
          }
         }
        },
        "title": {
         "text": "Status de los Estados en las Simulaciones - Elecciones Presidenciales 2020"
        },
        "width": 1200
       }
      }
     },
     "metadata": {},
     "output_type": "display_data"
    }
   ],
   "source": [
    "# Crear el mapa coroplético usando Plotly Express con códigos de estado\n",
    "fig = px.choropleth(accumulated_pred_state,\n",
    "                    locations='state_code',  # Usar la nueva columna con códigos de estado\n",
    "                    locationmode=\"USA-states\",  # Modo de localización para los códigos de estado\n",
    "                    color='Status',  # Métrica que deseas visualizar\n",
    "                    hover_name='state_code',  # Mostrar el código del estado en hover\n",
    "                    hover_data={\n",
    "                        'state_code': True,  # Mostrar el código del estado\n",
    "                        \"Per_dem\": ':.2%',  # Mostrar el porcentaje de Biden en formato de porcentaje\n",
    "                        \"Per_gop\": ':.2%'  # Mostrar el porcentaje de Trump en formato de porcentaje\n",
    "                    },\n",
    "                    scope='usa',  # Limitar el mapa a EE.UU.\n",
    "                    color_discrete_map={'Safe Democrat': '#3951a2', \n",
    "                                        'Likely Democrat': '#a3cef1', \n",
    "                                        'Toss-Up': '#b6b164', \n",
    "                                        'Likely Republican': '#d56062', \n",
    "                                        'Safe Republican': '#af2b39'},\n",
    "                    labels={f'Winner': 'Ganador {ELECTORAL_YEAR}'},  # Etiqueta para la barra de color\n",
    "                    title=f\"Status de los Estados en las Simulaciones - Elecciones Presidenciales {ELECTORAL_YEAR}\"\n",
    "                   )\n",
    "\n",
    "# # Crear un nuevo rastro para añadir los códigos de los estados en el mapa\n",
    "# fig.add_trace(go.Scattergeo(\n",
    "#     locationmode='USA-states',\n",
    "#     locations=accumulated_pred_state['state_code'],  # Usar los códigos de los estados\n",
    "#     text=accumulated_pred_state['state_code'],  # Mostrar los códigos dentro del mapa\n",
    "#     mode='text',  # Solo texto\n",
    "#     textfont=dict(size=12, color=\"black\"),  # Tamaño y color de la fuente\n",
    "# ))\n",
    "\n",
    "# Ajustar el tamaño del gráfico\n",
    "fig.update_layout(\n",
    "    width=1200,  # Ajustar el ancho del gráfico\n",
    "    height=800   # Ajustar la altura del gráfico\n",
    ")\n",
    "\n",
    "# Ajustar visualización y mostrar el gráfico\n",
    "fig.update_geos(fitbounds=\"locations\", visible=False)  # Ajustar el mapa a las ubicaciones\n",
    "fig.show()\n"
   ]
  },
  {
   "cell_type": "markdown",
   "metadata": {},
   "source": [
    "### Real"
   ]
  },
  {
   "cell_type": "code",
   "execution_count": 17,
   "metadata": {},
   "outputs": [
    {
     "data": {
      "application/vnd.plotly.v1+json": {
       "config": {
        "plotlyServerURL": "https://plot.ly"
       },
       "data": [
        {
         "colorscale": [
          [
           0,
           "#3951a2"
          ],
          [
           1,
           "#3951a2"
          ]
         ],
         "customdata": [
          [
           "CA",
           0.6349922090345022,
           0.3432780788831399
          ],
          [
           "NY",
           0.6061846947622673,
           0.3798656215293819
          ],
          [
           "IL",
           0.572033509920564,
           0.40801139478262893
          ],
          [
           "MI",
           0.5052557579527882,
           0.47895304793601273
          ],
          [
           "GA",
           0.498426279362003,
           0.4888935503058809
          ],
          [
           "NJ",
           0.5753105858841533,
           0.40794875665558
          ],
          [
           "VA",
           0.5389447310471128,
           0.4420752024578333
          ],
          [
           "WA",
           0.577076959227525,
           0.3904574336911311
          ],
          [
           "MA",
           0.6553966896695222,
           0.32195298860806326
          ],
          [
           "AZ",
           0.49364690614366613,
           0.4905598103046474
          ],
          [
           "WI",
           0.4941989842315366,
           0.48839009241033265
          ],
          [
           "MN",
           0.5260838790971174,
           0.4509418638416585
          ],
          [
           "MD",
           0.6670411777121726,
           0.30875129177185867
          ],
          [
           "CO",
           0.5540000116673468,
           0.4189827117554352
          ],
          [
           "OR",
           0.566154904587754,
           0.4062760256363834
          ],
          [
           "CT",
           0.588724457896568,
           0.3956982271275385
          ],
          [
           "NM",
           0.529935860896715,
           0.4484049955580205
          ],
          [
           "RI",
           0.5592424663903852,
           0.42212782719754394
          ],
          [
           "NH",
           0.5480444416557347,
           0.43590937147509934
          ],
          [
           "ME",
           0.5387982577427103,
           0.4325045184489569
          ],
          [
           "HI",
           0.5626208333702291,
           0.4139415513307536
          ],
          [
           "VT",
           0.6522777527714032,
           0.31796794100791265
          ],
          [
           "DE",
           0.7474167291660373,
           0.23403442084427345
          ],
          [
           "DC",
           0.629042663599899,
           0.35743737903565115
          ]
         ],
         "geo": "geo",
         "hovertemplate": "<b>%{hovertext}</b><br><br>Ganador {ELECTORAL_YEAR}=dem<br>state_code=%{customdata[0]}<br>Per_dem=%{customdata[1]:.2%}<br>Per_gop=%{customdata[2]:.2%}<extra></extra>",
         "hovertext": [
          "CA",
          "NY",
          "IL",
          "MI",
          "GA",
          "NJ",
          "VA",
          "WA",
          "MA",
          "AZ",
          "WI",
          "MN",
          "MD",
          "CO",
          "OR",
          "CT",
          "NM",
          "RI",
          "NH",
          "ME",
          "HI",
          "VT",
          "DE",
          "DC"
         ],
         "locationmode": "USA-states",
         "locations": [
          "CA",
          "NY",
          "IL",
          "MI",
          "GA",
          "NJ",
          "VA",
          "WA",
          "MA",
          "AZ",
          "WI",
          "MN",
          "MD",
          "CO",
          "OR",
          "CT",
          "NM",
          "RI",
          "NH",
          "ME",
          "HI",
          "VT",
          "DE",
          "DC"
         ],
         "name": "dem",
         "showlegend": true,
         "showscale": false,
         "type": "choropleth",
         "z": [
          1,
          1,
          1,
          1,
          1,
          1,
          1,
          1,
          1,
          1,
          1,
          1,
          1,
          1,
          1,
          1,
          1,
          1,
          1,
          1,
          1,
          1,
          1,
          1
         ]
        },
        {
         "colorscale": [
          [
           0,
           "#af2b39"
          ],
          [
           1,
           "#af2b39"
          ]
         ],
         "customdata": [
          [
           "TX",
           0.46446835223477134,
           0.5205832438689995
          ],
          [
           "FL",
           0.4764483398428389,
           0.514424632693578
          ],
          [
           "PA",
           0.49130050537496595,
           0.496320736813493
          ],
          [
           "OH",
           0.45380479444413885,
           0.5312872301270851
          ],
          [
           "NC",
           0.4872350104362739,
           0.4979215926542788
          ],
          [
           "TN",
           0.37441006678277133,
           0.6067520797491505
          ],
          [
           "IN",
           0.4088789333124201,
           0.5712152043032738
          ],
          [
           "MO",
           0.41476117081780806,
           0.5673133378797136
          ],
          [
           "SC",
           0.4362636369898981,
           0.5491133765118924
          ],
          [
           "AL",
           0.36570676932506463,
           0.6203096968799606
          ],
          [
           "LA",
           0.4037853630210318,
           0.5788529587892646
          ],
          [
           "KY",
           0.36023990308182546,
           0.6221758278543316
          ],
          [
           "OK",
           0.3348351362402885,
           0.6412072661487181
          ],
          [
           "UT",
           0.38858198402554633,
           0.5692901590381743
          ],
          [
           "NV",
           0.4314125861041568,
           0.5422746750565892
          ],
          [
           "MS",
           0.4095593461265103,
           0.5758752420165184
          ],
          [
           "KS",
           0.41187229270684766,
           0.5639593060199376
          ],
          [
           "IA",
           0.448378958453358,
           0.5314067207525429
          ],
          [
           "AR",
           0.34775061953014963,
           0.6239572985614432
          ],
          [
           "WV",
           0.299163160571455,
           0.6845174798385765
          ],
          [
           "NE",
           0.46519417553961623,
           0.5115404230630665
          ],
          [
           "ID",
           0.2734593216063972,
           0.6962424604768622
          ],
          [
           "WY",
           0.2520285582972789,
           0.7138544192459468
          ],
          [
           "SD",
           0.35035762968209033,
           0.6244301710180233
          ],
          [
           "ND",
           0.3110522816619132,
           0.6601017497880213
          ],
          [
           "MT",
           0.3998950355395972,
           0.5715184478298924
          ]
         ],
         "geo": "geo",
         "hovertemplate": "<b>%{hovertext}</b><br><br>Ganador {ELECTORAL_YEAR}=gop<br>state_code=%{customdata[0]}<br>Per_dem=%{customdata[1]:.2%}<br>Per_gop=%{customdata[2]:.2%}<extra></extra>",
         "hovertext": [
          "TX",
          "FL",
          "PA",
          "OH",
          "NC",
          "TN",
          "IN",
          "MO",
          "SC",
          "AL",
          "LA",
          "KY",
          "OK",
          "UT",
          "NV",
          "MS",
          "KS",
          "IA",
          "AR",
          "WV",
          "NE",
          "ID",
          "WY",
          "SD",
          "ND",
          "MT"
         ],
         "locationmode": "USA-states",
         "locations": [
          "TX",
          "FL",
          "PA",
          "OH",
          "NC",
          "TN",
          "IN",
          "MO",
          "SC",
          "AL",
          "LA",
          "KY",
          "OK",
          "UT",
          "NV",
          "MS",
          "KS",
          "IA",
          "AR",
          "WV",
          "NE",
          "ID",
          "WY",
          "SD",
          "ND",
          "MT"
         ],
         "name": "gop",
         "showlegend": true,
         "showscale": false,
         "type": "choropleth",
         "z": [
          1,
          1,
          1,
          1,
          1,
          1,
          1,
          1,
          1,
          1,
          1,
          1,
          1,
          1,
          1,
          1,
          1,
          1,
          1,
          1,
          1,
          1,
          1,
          1,
          1,
          1
         ]
        }
       ],
       "layout": {
        "geo": {
         "center": {},
         "domain": {
          "x": [
           0,
           1
          ],
          "y": [
           0,
           1
          ]
         },
         "fitbounds": "locations",
         "scope": "usa",
         "visible": false
        },
        "height": 800,
        "legend": {
         "title": {
          "text": "Ganador {ELECTORAL_YEAR}"
         },
         "tracegroupgap": 0
        },
        "template": {
         "data": {
          "bar": [
           {
            "error_x": {
             "color": "#2a3f5f"
            },
            "error_y": {
             "color": "#2a3f5f"
            },
            "marker": {
             "line": {
              "color": "#E5ECF6",
              "width": 0.5
             },
             "pattern": {
              "fillmode": "overlay",
              "size": 10,
              "solidity": 0.2
             }
            },
            "type": "bar"
           }
          ],
          "barpolar": [
           {
            "marker": {
             "line": {
              "color": "#E5ECF6",
              "width": 0.5
             },
             "pattern": {
              "fillmode": "overlay",
              "size": 10,
              "solidity": 0.2
             }
            },
            "type": "barpolar"
           }
          ],
          "carpet": [
           {
            "aaxis": {
             "endlinecolor": "#2a3f5f",
             "gridcolor": "white",
             "linecolor": "white",
             "minorgridcolor": "white",
             "startlinecolor": "#2a3f5f"
            },
            "baxis": {
             "endlinecolor": "#2a3f5f",
             "gridcolor": "white",
             "linecolor": "white",
             "minorgridcolor": "white",
             "startlinecolor": "#2a3f5f"
            },
            "type": "carpet"
           }
          ],
          "choropleth": [
           {
            "colorbar": {
             "outlinewidth": 0,
             "ticks": ""
            },
            "type": "choropleth"
           }
          ],
          "contour": [
           {
            "colorbar": {
             "outlinewidth": 0,
             "ticks": ""
            },
            "colorscale": [
             [
              0,
              "#0d0887"
             ],
             [
              0.1111111111111111,
              "#46039f"
             ],
             [
              0.2222222222222222,
              "#7201a8"
             ],
             [
              0.3333333333333333,
              "#9c179e"
             ],
             [
              0.4444444444444444,
              "#bd3786"
             ],
             [
              0.5555555555555556,
              "#d8576b"
             ],
             [
              0.6666666666666666,
              "#ed7953"
             ],
             [
              0.7777777777777778,
              "#fb9f3a"
             ],
             [
              0.8888888888888888,
              "#fdca26"
             ],
             [
              1,
              "#f0f921"
             ]
            ],
            "type": "contour"
           }
          ],
          "contourcarpet": [
           {
            "colorbar": {
             "outlinewidth": 0,
             "ticks": ""
            },
            "type": "contourcarpet"
           }
          ],
          "heatmap": [
           {
            "colorbar": {
             "outlinewidth": 0,
             "ticks": ""
            },
            "colorscale": [
             [
              0,
              "#0d0887"
             ],
             [
              0.1111111111111111,
              "#46039f"
             ],
             [
              0.2222222222222222,
              "#7201a8"
             ],
             [
              0.3333333333333333,
              "#9c179e"
             ],
             [
              0.4444444444444444,
              "#bd3786"
             ],
             [
              0.5555555555555556,
              "#d8576b"
             ],
             [
              0.6666666666666666,
              "#ed7953"
             ],
             [
              0.7777777777777778,
              "#fb9f3a"
             ],
             [
              0.8888888888888888,
              "#fdca26"
             ],
             [
              1,
              "#f0f921"
             ]
            ],
            "type": "heatmap"
           }
          ],
          "histogram": [
           {
            "marker": {
             "pattern": {
              "fillmode": "overlay",
              "size": 10,
              "solidity": 0.2
             }
            },
            "type": "histogram"
           }
          ],
          "histogram2d": [
           {
            "colorbar": {
             "outlinewidth": 0,
             "ticks": ""
            },
            "colorscale": [
             [
              0,
              "#0d0887"
             ],
             [
              0.1111111111111111,
              "#46039f"
             ],
             [
              0.2222222222222222,
              "#7201a8"
             ],
             [
              0.3333333333333333,
              "#9c179e"
             ],
             [
              0.4444444444444444,
              "#bd3786"
             ],
             [
              0.5555555555555556,
              "#d8576b"
             ],
             [
              0.6666666666666666,
              "#ed7953"
             ],
             [
              0.7777777777777778,
              "#fb9f3a"
             ],
             [
              0.8888888888888888,
              "#fdca26"
             ],
             [
              1,
              "#f0f921"
             ]
            ],
            "type": "histogram2d"
           }
          ],
          "histogram2dcontour": [
           {
            "colorbar": {
             "outlinewidth": 0,
             "ticks": ""
            },
            "colorscale": [
             [
              0,
              "#0d0887"
             ],
             [
              0.1111111111111111,
              "#46039f"
             ],
             [
              0.2222222222222222,
              "#7201a8"
             ],
             [
              0.3333333333333333,
              "#9c179e"
             ],
             [
              0.4444444444444444,
              "#bd3786"
             ],
             [
              0.5555555555555556,
              "#d8576b"
             ],
             [
              0.6666666666666666,
              "#ed7953"
             ],
             [
              0.7777777777777778,
              "#fb9f3a"
             ],
             [
              0.8888888888888888,
              "#fdca26"
             ],
             [
              1,
              "#f0f921"
             ]
            ],
            "type": "histogram2dcontour"
           }
          ],
          "mesh3d": [
           {
            "colorbar": {
             "outlinewidth": 0,
             "ticks": ""
            },
            "type": "mesh3d"
           }
          ],
          "parcoords": [
           {
            "line": {
             "colorbar": {
              "outlinewidth": 0,
              "ticks": ""
             }
            },
            "type": "parcoords"
           }
          ],
          "pie": [
           {
            "automargin": true,
            "type": "pie"
           }
          ],
          "scatter": [
           {
            "fillpattern": {
             "fillmode": "overlay",
             "size": 10,
             "solidity": 0.2
            },
            "type": "scatter"
           }
          ],
          "scatter3d": [
           {
            "line": {
             "colorbar": {
              "outlinewidth": 0,
              "ticks": ""
             }
            },
            "marker": {
             "colorbar": {
              "outlinewidth": 0,
              "ticks": ""
             }
            },
            "type": "scatter3d"
           }
          ],
          "scattercarpet": [
           {
            "marker": {
             "colorbar": {
              "outlinewidth": 0,
              "ticks": ""
             }
            },
            "type": "scattercarpet"
           }
          ],
          "scattergeo": [
           {
            "marker": {
             "colorbar": {
              "outlinewidth": 0,
              "ticks": ""
             }
            },
            "type": "scattergeo"
           }
          ],
          "scattergl": [
           {
            "marker": {
             "colorbar": {
              "outlinewidth": 0,
              "ticks": ""
             }
            },
            "type": "scattergl"
           }
          ],
          "scattermap": [
           {
            "marker": {
             "colorbar": {
              "outlinewidth": 0,
              "ticks": ""
             }
            },
            "type": "scattermap"
           }
          ],
          "scattermapbox": [
           {
            "marker": {
             "colorbar": {
              "outlinewidth": 0,
              "ticks": ""
             }
            },
            "type": "scattermapbox"
           }
          ],
          "scatterpolar": [
           {
            "marker": {
             "colorbar": {
              "outlinewidth": 0,
              "ticks": ""
             }
            },
            "type": "scatterpolar"
           }
          ],
          "scatterpolargl": [
           {
            "marker": {
             "colorbar": {
              "outlinewidth": 0,
              "ticks": ""
             }
            },
            "type": "scatterpolargl"
           }
          ],
          "scatterternary": [
           {
            "marker": {
             "colorbar": {
              "outlinewidth": 0,
              "ticks": ""
             }
            },
            "type": "scatterternary"
           }
          ],
          "surface": [
           {
            "colorbar": {
             "outlinewidth": 0,
             "ticks": ""
            },
            "colorscale": [
             [
              0,
              "#0d0887"
             ],
             [
              0.1111111111111111,
              "#46039f"
             ],
             [
              0.2222222222222222,
              "#7201a8"
             ],
             [
              0.3333333333333333,
              "#9c179e"
             ],
             [
              0.4444444444444444,
              "#bd3786"
             ],
             [
              0.5555555555555556,
              "#d8576b"
             ],
             [
              0.6666666666666666,
              "#ed7953"
             ],
             [
              0.7777777777777778,
              "#fb9f3a"
             ],
             [
              0.8888888888888888,
              "#fdca26"
             ],
             [
              1,
              "#f0f921"
             ]
            ],
            "type": "surface"
           }
          ],
          "table": [
           {
            "cells": {
             "fill": {
              "color": "#EBF0F8"
             },
             "line": {
              "color": "white"
             }
            },
            "header": {
             "fill": {
              "color": "#C8D4E3"
             },
             "line": {
              "color": "white"
             }
            },
            "type": "table"
           }
          ]
         },
         "layout": {
          "annotationdefaults": {
           "arrowcolor": "#2a3f5f",
           "arrowhead": 0,
           "arrowwidth": 1
          },
          "autotypenumbers": "strict",
          "coloraxis": {
           "colorbar": {
            "outlinewidth": 0,
            "ticks": ""
           }
          },
          "colorscale": {
           "diverging": [
            [
             0,
             "#8e0152"
            ],
            [
             0.1,
             "#c51b7d"
            ],
            [
             0.2,
             "#de77ae"
            ],
            [
             0.3,
             "#f1b6da"
            ],
            [
             0.4,
             "#fde0ef"
            ],
            [
             0.5,
             "#f7f7f7"
            ],
            [
             0.6,
             "#e6f5d0"
            ],
            [
             0.7,
             "#b8e186"
            ],
            [
             0.8,
             "#7fbc41"
            ],
            [
             0.9,
             "#4d9221"
            ],
            [
             1,
             "#276419"
            ]
           ],
           "sequential": [
            [
             0,
             "#0d0887"
            ],
            [
             0.1111111111111111,
             "#46039f"
            ],
            [
             0.2222222222222222,
             "#7201a8"
            ],
            [
             0.3333333333333333,
             "#9c179e"
            ],
            [
             0.4444444444444444,
             "#bd3786"
            ],
            [
             0.5555555555555556,
             "#d8576b"
            ],
            [
             0.6666666666666666,
             "#ed7953"
            ],
            [
             0.7777777777777778,
             "#fb9f3a"
            ],
            [
             0.8888888888888888,
             "#fdca26"
            ],
            [
             1,
             "#f0f921"
            ]
           ],
           "sequentialminus": [
            [
             0,
             "#0d0887"
            ],
            [
             0.1111111111111111,
             "#46039f"
            ],
            [
             0.2222222222222222,
             "#7201a8"
            ],
            [
             0.3333333333333333,
             "#9c179e"
            ],
            [
             0.4444444444444444,
             "#bd3786"
            ],
            [
             0.5555555555555556,
             "#d8576b"
            ],
            [
             0.6666666666666666,
             "#ed7953"
            ],
            [
             0.7777777777777778,
             "#fb9f3a"
            ],
            [
             0.8888888888888888,
             "#fdca26"
            ],
            [
             1,
             "#f0f921"
            ]
           ]
          },
          "colorway": [
           "#636efa",
           "#EF553B",
           "#00cc96",
           "#ab63fa",
           "#FFA15A",
           "#19d3f3",
           "#FF6692",
           "#B6E880",
           "#FF97FF",
           "#FECB52"
          ],
          "font": {
           "color": "#2a3f5f"
          },
          "geo": {
           "bgcolor": "white",
           "lakecolor": "white",
           "landcolor": "#E5ECF6",
           "showlakes": true,
           "showland": true,
           "subunitcolor": "white"
          },
          "hoverlabel": {
           "align": "left"
          },
          "hovermode": "closest",
          "mapbox": {
           "style": "light"
          },
          "paper_bgcolor": "white",
          "plot_bgcolor": "#E5ECF6",
          "polar": {
           "angularaxis": {
            "gridcolor": "white",
            "linecolor": "white",
            "ticks": ""
           },
           "bgcolor": "#E5ECF6",
           "radialaxis": {
            "gridcolor": "white",
            "linecolor": "white",
            "ticks": ""
           }
          },
          "scene": {
           "xaxis": {
            "backgroundcolor": "#E5ECF6",
            "gridcolor": "white",
            "gridwidth": 2,
            "linecolor": "white",
            "showbackground": true,
            "ticks": "",
            "zerolinecolor": "white"
           },
           "yaxis": {
            "backgroundcolor": "#E5ECF6",
            "gridcolor": "white",
            "gridwidth": 2,
            "linecolor": "white",
            "showbackground": true,
            "ticks": "",
            "zerolinecolor": "white"
           },
           "zaxis": {
            "backgroundcolor": "#E5ECF6",
            "gridcolor": "white",
            "gridwidth": 2,
            "linecolor": "white",
            "showbackground": true,
            "ticks": "",
            "zerolinecolor": "white"
           }
          },
          "shapedefaults": {
           "line": {
            "color": "#2a3f5f"
           }
          },
          "ternary": {
           "aaxis": {
            "gridcolor": "white",
            "linecolor": "white",
            "ticks": ""
           },
           "baxis": {
            "gridcolor": "white",
            "linecolor": "white",
            "ticks": ""
           },
           "bgcolor": "#E5ECF6",
           "caxis": {
            "gridcolor": "white",
            "linecolor": "white",
            "ticks": ""
           }
          },
          "title": {
           "x": 0.05
          },
          "xaxis": {
           "automargin": true,
           "gridcolor": "white",
           "linecolor": "white",
           "ticks": "",
           "title": {
            "standoff": 15
           },
           "zerolinecolor": "white",
           "zerolinewidth": 2
          },
          "yaxis": {
           "automargin": true,
           "gridcolor": "white",
           "linecolor": "white",
           "ticks": "",
           "title": {
            "standoff": 15
           },
           "zerolinecolor": "white",
           "zerolinewidth": 2
          }
         }
        },
        "title": {
         "text": "Resultado Real de las Simulaciones - Elecciones Presidenciales 2020"
        },
        "width": 1200
       }
      }
     },
     "metadata": {},
     "output_type": "display_data"
    }
   ],
   "source": [
    "# Crear el mapa coroplético usando Plotly Express con códigos de estado\n",
    "fig = px.choropleth(full_df_actual_state,\n",
    "                    locations='state_code',  # Usar la nueva columna con códigos de estado\n",
    "                    locationmode=\"USA-states\",  # Modo de localización para los códigos de estado\n",
    "                    color=\"Winner\",  # Métrica que deseas visualizar\n",
    "                    hover_name='state_code',  # Mostrar el código del estado en hover\n",
    "                    hover_data={\n",
    "                        'state_code': True,  # Mostrar el código del estado\n",
    "                        \"Per_dem\": ':.2%',  # Mostrar el porcentaje de Biden en formato de porcentaje\n",
    "                        \"Per_gop\": ':.2%'  # Mostrar el porcentaje de Trump en formato de porcentaje\n",
    "                    },\n",
    "                    scope='usa',  # Limitar el mapa a EE.UU.\n",
    "                    color_discrete_map={'dem': '#3951a2', 'gop': '#af2b39'},  # Colores asignados\n",
    "                    labels={\"Winner\": 'Ganador {ELECTORAL_YEAR}'},  # Etiqueta para la barra de color\n",
    "                    title=f\"Resultado Real de las Simulaciones - Elecciones Presidenciales {ELECTORAL_YEAR}\"\n",
    "                   )\n",
    "\n",
    "# # Crear un nuevo rastro para añadir los códigos de los estados en el mapa\n",
    "# fig.add_trace(go.Scattergeo(\n",
    "#     locationmode='USA-states',\n",
    "#     locations=accumulated_pred_state['state_code'],  # Usar los códigos de los estados\n",
    "#     text=accumulated_pred_state['state_code'],  # Mostrar los códigos dentro del mapa\n",
    "#     mode='text',  # Solo texto\n",
    "#     textfont=dict(size=8, color=\"white\"),  # Tamaño y color de la fuente\n",
    "# ))\n",
    "\n",
    "# Ajustar el tamaño del gráfico\n",
    "fig.update_layout(\n",
    "    width=1200,  # Ajustar el ancho del gráfico\n",
    "    height=800   # Ajustar la altura del gráfico\n",
    ")\n",
    "\n",
    "# Ajustar visualización y mostrar el gráfico\n",
    "fig.update_geos(fitbounds=\"locations\", visible=False)  # Ajustar el mapa a las ubicaciones\n",
    "fig.show()\n"
   ]
  },
  {
   "cell_type": "code",
   "execution_count": 18,
   "metadata": {},
   "outputs": [
    {
     "data": {
      "application/vnd.plotly.v1+json": {
       "config": {
        "plotlyServerURL": "https://plot.ly"
       },
       "data": [
        {
         "colorscale": [
          [
           0,
           "#3951a2"
          ],
          [
           1,
           "#3951a2"
          ]
         ],
         "customdata": [
          [
           "CA",
           0.6349922090345022,
           0.3432780788831399
          ],
          [
           "NY",
           0.6061846947622673,
           0.3798656215293819
          ],
          [
           "IL",
           0.572033509920564,
           0.40801139478262893
          ],
          [
           "NJ",
           0.5753105858841533,
           0.40794875665558
          ],
          [
           "WA",
           0.577076959227525,
           0.3904574336911311
          ],
          [
           "MA",
           0.6553966896695222,
           0.32195298860806326
          ],
          [
           "MD",
           0.6670411777121726,
           0.30875129177185867
          ],
          [
           "CO",
           0.5540000116673468,
           0.4189827117554352
          ],
          [
           "OR",
           0.566154904587754,
           0.4062760256363834
          ],
          [
           "CT",
           0.588724457896568,
           0.3956982271275385
          ],
          [
           "RI",
           0.5592424663903852,
           0.42212782719754394
          ],
          [
           "NH",
           0.5480444416557347,
           0.43590937147509934
          ],
          [
           "ME",
           0.5387982577427103,
           0.4325045184489569
          ],
          [
           "HI",
           0.5626208333702291,
           0.4139415513307536
          ],
          [
           "VT",
           0.6522777527714032,
           0.31796794100791265
          ],
          [
           "DE",
           0.7474167291660373,
           0.23403442084427345
          ],
          [
           "DC",
           0.629042663599899,
           0.35743737903565115
          ]
         ],
         "geo": "geo",
         "hovertemplate": "<b>%{hovertext}</b><br><br>Status=Safe Democrat<br>state_code=%{customdata[0]}<br>Per_dem=%{customdata[1]:.2%}<br>Per_gop=%{customdata[2]:.2%}<extra></extra>",
         "hovertext": [
          "CA",
          "NY",
          "IL",
          "NJ",
          "WA",
          "MA",
          "MD",
          "CO",
          "OR",
          "CT",
          "RI",
          "NH",
          "ME",
          "HI",
          "VT",
          "DE",
          "DC"
         ],
         "locationmode": "USA-states",
         "locations": [
          "CA",
          "NY",
          "IL",
          "NJ",
          "WA",
          "MA",
          "MD",
          "CO",
          "OR",
          "CT",
          "RI",
          "NH",
          "ME",
          "HI",
          "VT",
          "DE",
          "DC"
         ],
         "name": "Safe Democrat",
         "showlegend": true,
         "showscale": false,
         "type": "choropleth",
         "z": [
          1,
          1,
          1,
          1,
          1,
          1,
          1,
          1,
          1,
          1,
          1,
          1,
          1,
          1,
          1,
          1,
          1
         ]
        },
        {
         "colorscale": [
          [
           0,
           "#d56062"
          ],
          [
           1,
           "#d56062"
          ]
         ],
         "customdata": [
          [
           "TX",
           0.46446835223477134,
           0.5205832438689995
          ],
          [
           "FL",
           0.4764483398428389,
           0.514424632693578
          ],
          [
           "OH",
           0.45380479444413885,
           0.5312872301270851
          ],
          [
           "IA",
           0.448378958453358,
           0.5314067207525429
          ],
          [
           "NE",
           0.46519417553961623,
           0.5115404230630665
          ]
         ],
         "geo": "geo",
         "hovertemplate": "<b>%{hovertext}</b><br><br>Status=Likely Republican<br>state_code=%{customdata[0]}<br>Per_dem=%{customdata[1]:.2%}<br>Per_gop=%{customdata[2]:.2%}<extra></extra>",
         "hovertext": [
          "TX",
          "FL",
          "OH",
          "IA",
          "NE"
         ],
         "locationmode": "USA-states",
         "locations": [
          "TX",
          "FL",
          "OH",
          "IA",
          "NE"
         ],
         "name": "Likely Republican",
         "showlegend": true,
         "showscale": false,
         "type": "choropleth",
         "z": [
          1,
          1,
          1,
          1,
          1
         ]
        },
        {
         "colorscale": [
          [
           0,
           "#b6b164"
          ],
          [
           1,
           "#b6b164"
          ]
         ],
         "customdata": [
          [
           "PA",
           0.49130050537496595,
           0.496320736813493
          ],
          [
           "GA",
           0.498426279362003,
           0.4888935503058809
          ],
          [
           "NC",
           0.4872350104362739,
           0.4979215926542788
          ],
          [
           "AZ",
           0.49364690614366613,
           0.4905598103046474
          ],
          [
           "WI",
           0.4941989842315366,
           0.48839009241033265
          ]
         ],
         "geo": "geo",
         "hovertemplate": "<b>%{hovertext}</b><br><br>Status=Toss-Up<br>state_code=%{customdata[0]}<br>Per_dem=%{customdata[1]:.2%}<br>Per_gop=%{customdata[2]:.2%}<extra></extra>",
         "hovertext": [
          "PA",
          "GA",
          "NC",
          "AZ",
          "WI"
         ],
         "locationmode": "USA-states",
         "locations": [
          "PA",
          "GA",
          "NC",
          "AZ",
          "WI"
         ],
         "name": "Toss-Up",
         "showlegend": true,
         "showscale": false,
         "type": "choropleth",
         "z": [
          1,
          1,
          1,
          1,
          1
         ]
        },
        {
         "colorscale": [
          [
           0,
           "#a3cef1"
          ],
          [
           1,
           "#a3cef1"
          ]
         ],
         "customdata": [
          [
           "MI",
           0.5052557579527882,
           0.47895304793601273
          ],
          [
           "VA",
           0.5389447310471128,
           0.4420752024578333
          ],
          [
           "MN",
           0.5260838790971174,
           0.4509418638416585
          ],
          [
           "NM",
           0.529935860896715,
           0.4484049955580205
          ]
         ],
         "geo": "geo",
         "hovertemplate": "<b>%{hovertext}</b><br><br>Status=Likely Democrat<br>state_code=%{customdata[0]}<br>Per_dem=%{customdata[1]:.2%}<br>Per_gop=%{customdata[2]:.2%}<extra></extra>",
         "hovertext": [
          "MI",
          "VA",
          "MN",
          "NM"
         ],
         "locationmode": "USA-states",
         "locations": [
          "MI",
          "VA",
          "MN",
          "NM"
         ],
         "name": "Likely Democrat",
         "showlegend": true,
         "showscale": false,
         "type": "choropleth",
         "z": [
          1,
          1,
          1,
          1
         ]
        },
        {
         "colorscale": [
          [
           0,
           "#af2b39"
          ],
          [
           1,
           "#af2b39"
          ]
         ],
         "customdata": [
          [
           "TN",
           0.37441006678277133,
           0.6067520797491505
          ],
          [
           "IN",
           0.4088789333124201,
           0.5712152043032738
          ],
          [
           "MO",
           0.41476117081780806,
           0.5673133378797136
          ],
          [
           "SC",
           0.4362636369898981,
           0.5491133765118924
          ],
          [
           "AL",
           0.36570676932506463,
           0.6203096968799606
          ],
          [
           "LA",
           0.4037853630210318,
           0.5788529587892646
          ],
          [
           "KY",
           0.36023990308182546,
           0.6221758278543316
          ],
          [
           "OK",
           0.3348351362402885,
           0.6412072661487181
          ],
          [
           "UT",
           0.38858198402554633,
           0.5692901590381743
          ],
          [
           "NV",
           0.4314125861041568,
           0.5422746750565892
          ],
          [
           "MS",
           0.4095593461265103,
           0.5758752420165184
          ],
          [
           "KS",
           0.41187229270684766,
           0.5639593060199376
          ],
          [
           "AR",
           0.34775061953014963,
           0.6239572985614432
          ],
          [
           "WV",
           0.299163160571455,
           0.6845174798385765
          ],
          [
           "ID",
           0.2734593216063972,
           0.6962424604768622
          ],
          [
           "WY",
           0.2520285582972789,
           0.7138544192459468
          ],
          [
           "SD",
           0.35035762968209033,
           0.6244301710180233
          ],
          [
           "ND",
           0.3110522816619132,
           0.6601017497880213
          ],
          [
           "MT",
           0.3998950355395972,
           0.5715184478298924
          ]
         ],
         "geo": "geo",
         "hovertemplate": "<b>%{hovertext}</b><br><br>Status=Safe Republican<br>state_code=%{customdata[0]}<br>Per_dem=%{customdata[1]:.2%}<br>Per_gop=%{customdata[2]:.2%}<extra></extra>",
         "hovertext": [
          "TN",
          "IN",
          "MO",
          "SC",
          "AL",
          "LA",
          "KY",
          "OK",
          "UT",
          "NV",
          "MS",
          "KS",
          "AR",
          "WV",
          "ID",
          "WY",
          "SD",
          "ND",
          "MT"
         ],
         "locationmode": "USA-states",
         "locations": [
          "TN",
          "IN",
          "MO",
          "SC",
          "AL",
          "LA",
          "KY",
          "OK",
          "UT",
          "NV",
          "MS",
          "KS",
          "AR",
          "WV",
          "ID",
          "WY",
          "SD",
          "ND",
          "MT"
         ],
         "name": "Safe Republican",
         "showlegend": true,
         "showscale": false,
         "type": "choropleth",
         "z": [
          1,
          1,
          1,
          1,
          1,
          1,
          1,
          1,
          1,
          1,
          1,
          1,
          1,
          1,
          1,
          1,
          1,
          1,
          1
         ]
        }
       ],
       "layout": {
        "geo": {
         "center": {},
         "domain": {
          "x": [
           0,
           1
          ],
          "y": [
           0,
           1
          ]
         },
         "fitbounds": "locations",
         "scope": "usa",
         "visible": false
        },
        "height": 800,
        "legend": {
         "title": {
          "text": "Status"
         },
         "tracegroupgap": 0
        },
        "template": {
         "data": {
          "bar": [
           {
            "error_x": {
             "color": "#2a3f5f"
            },
            "error_y": {
             "color": "#2a3f5f"
            },
            "marker": {
             "line": {
              "color": "#E5ECF6",
              "width": 0.5
             },
             "pattern": {
              "fillmode": "overlay",
              "size": 10,
              "solidity": 0.2
             }
            },
            "type": "bar"
           }
          ],
          "barpolar": [
           {
            "marker": {
             "line": {
              "color": "#E5ECF6",
              "width": 0.5
             },
             "pattern": {
              "fillmode": "overlay",
              "size": 10,
              "solidity": 0.2
             }
            },
            "type": "barpolar"
           }
          ],
          "carpet": [
           {
            "aaxis": {
             "endlinecolor": "#2a3f5f",
             "gridcolor": "white",
             "linecolor": "white",
             "minorgridcolor": "white",
             "startlinecolor": "#2a3f5f"
            },
            "baxis": {
             "endlinecolor": "#2a3f5f",
             "gridcolor": "white",
             "linecolor": "white",
             "minorgridcolor": "white",
             "startlinecolor": "#2a3f5f"
            },
            "type": "carpet"
           }
          ],
          "choropleth": [
           {
            "colorbar": {
             "outlinewidth": 0,
             "ticks": ""
            },
            "type": "choropleth"
           }
          ],
          "contour": [
           {
            "colorbar": {
             "outlinewidth": 0,
             "ticks": ""
            },
            "colorscale": [
             [
              0,
              "#0d0887"
             ],
             [
              0.1111111111111111,
              "#46039f"
             ],
             [
              0.2222222222222222,
              "#7201a8"
             ],
             [
              0.3333333333333333,
              "#9c179e"
             ],
             [
              0.4444444444444444,
              "#bd3786"
             ],
             [
              0.5555555555555556,
              "#d8576b"
             ],
             [
              0.6666666666666666,
              "#ed7953"
             ],
             [
              0.7777777777777778,
              "#fb9f3a"
             ],
             [
              0.8888888888888888,
              "#fdca26"
             ],
             [
              1,
              "#f0f921"
             ]
            ],
            "type": "contour"
           }
          ],
          "contourcarpet": [
           {
            "colorbar": {
             "outlinewidth": 0,
             "ticks": ""
            },
            "type": "contourcarpet"
           }
          ],
          "heatmap": [
           {
            "colorbar": {
             "outlinewidth": 0,
             "ticks": ""
            },
            "colorscale": [
             [
              0,
              "#0d0887"
             ],
             [
              0.1111111111111111,
              "#46039f"
             ],
             [
              0.2222222222222222,
              "#7201a8"
             ],
             [
              0.3333333333333333,
              "#9c179e"
             ],
             [
              0.4444444444444444,
              "#bd3786"
             ],
             [
              0.5555555555555556,
              "#d8576b"
             ],
             [
              0.6666666666666666,
              "#ed7953"
             ],
             [
              0.7777777777777778,
              "#fb9f3a"
             ],
             [
              0.8888888888888888,
              "#fdca26"
             ],
             [
              1,
              "#f0f921"
             ]
            ],
            "type": "heatmap"
           }
          ],
          "histogram": [
           {
            "marker": {
             "pattern": {
              "fillmode": "overlay",
              "size": 10,
              "solidity": 0.2
             }
            },
            "type": "histogram"
           }
          ],
          "histogram2d": [
           {
            "colorbar": {
             "outlinewidth": 0,
             "ticks": ""
            },
            "colorscale": [
             [
              0,
              "#0d0887"
             ],
             [
              0.1111111111111111,
              "#46039f"
             ],
             [
              0.2222222222222222,
              "#7201a8"
             ],
             [
              0.3333333333333333,
              "#9c179e"
             ],
             [
              0.4444444444444444,
              "#bd3786"
             ],
             [
              0.5555555555555556,
              "#d8576b"
             ],
             [
              0.6666666666666666,
              "#ed7953"
             ],
             [
              0.7777777777777778,
              "#fb9f3a"
             ],
             [
              0.8888888888888888,
              "#fdca26"
             ],
             [
              1,
              "#f0f921"
             ]
            ],
            "type": "histogram2d"
           }
          ],
          "histogram2dcontour": [
           {
            "colorbar": {
             "outlinewidth": 0,
             "ticks": ""
            },
            "colorscale": [
             [
              0,
              "#0d0887"
             ],
             [
              0.1111111111111111,
              "#46039f"
             ],
             [
              0.2222222222222222,
              "#7201a8"
             ],
             [
              0.3333333333333333,
              "#9c179e"
             ],
             [
              0.4444444444444444,
              "#bd3786"
             ],
             [
              0.5555555555555556,
              "#d8576b"
             ],
             [
              0.6666666666666666,
              "#ed7953"
             ],
             [
              0.7777777777777778,
              "#fb9f3a"
             ],
             [
              0.8888888888888888,
              "#fdca26"
             ],
             [
              1,
              "#f0f921"
             ]
            ],
            "type": "histogram2dcontour"
           }
          ],
          "mesh3d": [
           {
            "colorbar": {
             "outlinewidth": 0,
             "ticks": ""
            },
            "type": "mesh3d"
           }
          ],
          "parcoords": [
           {
            "line": {
             "colorbar": {
              "outlinewidth": 0,
              "ticks": ""
             }
            },
            "type": "parcoords"
           }
          ],
          "pie": [
           {
            "automargin": true,
            "type": "pie"
           }
          ],
          "scatter": [
           {
            "fillpattern": {
             "fillmode": "overlay",
             "size": 10,
             "solidity": 0.2
            },
            "type": "scatter"
           }
          ],
          "scatter3d": [
           {
            "line": {
             "colorbar": {
              "outlinewidth": 0,
              "ticks": ""
             }
            },
            "marker": {
             "colorbar": {
              "outlinewidth": 0,
              "ticks": ""
             }
            },
            "type": "scatter3d"
           }
          ],
          "scattercarpet": [
           {
            "marker": {
             "colorbar": {
              "outlinewidth": 0,
              "ticks": ""
             }
            },
            "type": "scattercarpet"
           }
          ],
          "scattergeo": [
           {
            "marker": {
             "colorbar": {
              "outlinewidth": 0,
              "ticks": ""
             }
            },
            "type": "scattergeo"
           }
          ],
          "scattergl": [
           {
            "marker": {
             "colorbar": {
              "outlinewidth": 0,
              "ticks": ""
             }
            },
            "type": "scattergl"
           }
          ],
          "scattermap": [
           {
            "marker": {
             "colorbar": {
              "outlinewidth": 0,
              "ticks": ""
             }
            },
            "type": "scattermap"
           }
          ],
          "scattermapbox": [
           {
            "marker": {
             "colorbar": {
              "outlinewidth": 0,
              "ticks": ""
             }
            },
            "type": "scattermapbox"
           }
          ],
          "scatterpolar": [
           {
            "marker": {
             "colorbar": {
              "outlinewidth": 0,
              "ticks": ""
             }
            },
            "type": "scatterpolar"
           }
          ],
          "scatterpolargl": [
           {
            "marker": {
             "colorbar": {
              "outlinewidth": 0,
              "ticks": ""
             }
            },
            "type": "scatterpolargl"
           }
          ],
          "scatterternary": [
           {
            "marker": {
             "colorbar": {
              "outlinewidth": 0,
              "ticks": ""
             }
            },
            "type": "scatterternary"
           }
          ],
          "surface": [
           {
            "colorbar": {
             "outlinewidth": 0,
             "ticks": ""
            },
            "colorscale": [
             [
              0,
              "#0d0887"
             ],
             [
              0.1111111111111111,
              "#46039f"
             ],
             [
              0.2222222222222222,
              "#7201a8"
             ],
             [
              0.3333333333333333,
              "#9c179e"
             ],
             [
              0.4444444444444444,
              "#bd3786"
             ],
             [
              0.5555555555555556,
              "#d8576b"
             ],
             [
              0.6666666666666666,
              "#ed7953"
             ],
             [
              0.7777777777777778,
              "#fb9f3a"
             ],
             [
              0.8888888888888888,
              "#fdca26"
             ],
             [
              1,
              "#f0f921"
             ]
            ],
            "type": "surface"
           }
          ],
          "table": [
           {
            "cells": {
             "fill": {
              "color": "#EBF0F8"
             },
             "line": {
              "color": "white"
             }
            },
            "header": {
             "fill": {
              "color": "#C8D4E3"
             },
             "line": {
              "color": "white"
             }
            },
            "type": "table"
           }
          ]
         },
         "layout": {
          "annotationdefaults": {
           "arrowcolor": "#2a3f5f",
           "arrowhead": 0,
           "arrowwidth": 1
          },
          "autotypenumbers": "strict",
          "coloraxis": {
           "colorbar": {
            "outlinewidth": 0,
            "ticks": ""
           }
          },
          "colorscale": {
           "diverging": [
            [
             0,
             "#8e0152"
            ],
            [
             0.1,
             "#c51b7d"
            ],
            [
             0.2,
             "#de77ae"
            ],
            [
             0.3,
             "#f1b6da"
            ],
            [
             0.4,
             "#fde0ef"
            ],
            [
             0.5,
             "#f7f7f7"
            ],
            [
             0.6,
             "#e6f5d0"
            ],
            [
             0.7,
             "#b8e186"
            ],
            [
             0.8,
             "#7fbc41"
            ],
            [
             0.9,
             "#4d9221"
            ],
            [
             1,
             "#276419"
            ]
           ],
           "sequential": [
            [
             0,
             "#0d0887"
            ],
            [
             0.1111111111111111,
             "#46039f"
            ],
            [
             0.2222222222222222,
             "#7201a8"
            ],
            [
             0.3333333333333333,
             "#9c179e"
            ],
            [
             0.4444444444444444,
             "#bd3786"
            ],
            [
             0.5555555555555556,
             "#d8576b"
            ],
            [
             0.6666666666666666,
             "#ed7953"
            ],
            [
             0.7777777777777778,
             "#fb9f3a"
            ],
            [
             0.8888888888888888,
             "#fdca26"
            ],
            [
             1,
             "#f0f921"
            ]
           ],
           "sequentialminus": [
            [
             0,
             "#0d0887"
            ],
            [
             0.1111111111111111,
             "#46039f"
            ],
            [
             0.2222222222222222,
             "#7201a8"
            ],
            [
             0.3333333333333333,
             "#9c179e"
            ],
            [
             0.4444444444444444,
             "#bd3786"
            ],
            [
             0.5555555555555556,
             "#d8576b"
            ],
            [
             0.6666666666666666,
             "#ed7953"
            ],
            [
             0.7777777777777778,
             "#fb9f3a"
            ],
            [
             0.8888888888888888,
             "#fdca26"
            ],
            [
             1,
             "#f0f921"
            ]
           ]
          },
          "colorway": [
           "#636efa",
           "#EF553B",
           "#00cc96",
           "#ab63fa",
           "#FFA15A",
           "#19d3f3",
           "#FF6692",
           "#B6E880",
           "#FF97FF",
           "#FECB52"
          ],
          "font": {
           "color": "#2a3f5f"
          },
          "geo": {
           "bgcolor": "white",
           "lakecolor": "white",
           "landcolor": "#E5ECF6",
           "showlakes": true,
           "showland": true,
           "subunitcolor": "white"
          },
          "hoverlabel": {
           "align": "left"
          },
          "hovermode": "closest",
          "mapbox": {
           "style": "light"
          },
          "paper_bgcolor": "white",
          "plot_bgcolor": "#E5ECF6",
          "polar": {
           "angularaxis": {
            "gridcolor": "white",
            "linecolor": "white",
            "ticks": ""
           },
           "bgcolor": "#E5ECF6",
           "radialaxis": {
            "gridcolor": "white",
            "linecolor": "white",
            "ticks": ""
           }
          },
          "scene": {
           "xaxis": {
            "backgroundcolor": "#E5ECF6",
            "gridcolor": "white",
            "gridwidth": 2,
            "linecolor": "white",
            "showbackground": true,
            "ticks": "",
            "zerolinecolor": "white"
           },
           "yaxis": {
            "backgroundcolor": "#E5ECF6",
            "gridcolor": "white",
            "gridwidth": 2,
            "linecolor": "white",
            "showbackground": true,
            "ticks": "",
            "zerolinecolor": "white"
           },
           "zaxis": {
            "backgroundcolor": "#E5ECF6",
            "gridcolor": "white",
            "gridwidth": 2,
            "linecolor": "white",
            "showbackground": true,
            "ticks": "",
            "zerolinecolor": "white"
           }
          },
          "shapedefaults": {
           "line": {
            "color": "#2a3f5f"
           }
          },
          "ternary": {
           "aaxis": {
            "gridcolor": "white",
            "linecolor": "white",
            "ticks": ""
           },
           "baxis": {
            "gridcolor": "white",
            "linecolor": "white",
            "ticks": ""
           },
           "bgcolor": "#E5ECF6",
           "caxis": {
            "gridcolor": "white",
            "linecolor": "white",
            "ticks": ""
           }
          },
          "title": {
           "x": 0.05
          },
          "xaxis": {
           "automargin": true,
           "gridcolor": "white",
           "linecolor": "white",
           "ticks": "",
           "title": {
            "standoff": 15
           },
           "zerolinecolor": "white",
           "zerolinewidth": 2
          },
          "yaxis": {
           "automargin": true,
           "gridcolor": "white",
           "linecolor": "white",
           "ticks": "",
           "title": {
            "standoff": 15
           },
           "zerolinecolor": "white",
           "zerolinewidth": 2
          }
         }
        },
        "title": {
         "text": "Status de los Estados en las Simulaciones - Elecciones Presidenciales 2020"
        },
        "width": 1200
       }
      }
     },
     "metadata": {},
     "output_type": "display_data"
    }
   ],
   "source": [
    "# Crear el mapa coroplético usando Plotly Express con códigos de estado\n",
    "fig = px.choropleth(full_df_actual_state,\n",
    "                    locations='state_code',  # Usar la nueva columna con códigos de estado\n",
    "                    locationmode=\"USA-states\",  # Modo de localización para los códigos de estado\n",
    "                    color='Status',  # Métrica que deseas visualizar\n",
    "                    hover_name='state_code',  # Mostrar el código del estado en hover\n",
    "                    hover_data={\n",
    "                        'state_code': True,  # Mostrar el código del estado\n",
    "                        'Per_dem': ':.2%',  # Mostrar el porcentaje de Biden en formato de porcentaje\n",
    "                        'Per_gop': ':.2%'  # Mostrar el porcentaje de Trump en formato de porcentaje\n",
    "                    },\n",
    "                    scope='usa',  # Limitar el mapa a EE.UU.\n",
    "                    color_discrete_map={'Safe Democrat': '#3951a2', \n",
    "                                        'Likely Democrat': '#a3cef1', \n",
    "                                        'Toss-Up': '#b6b164', \n",
    "                                        'Likely Republican': '#d56062', \n",
    "                                        'Safe Republican': '#af2b39'},\n",
    "                    labels={\"Winner\": 'Ganador {ELECTORAL_YEAR}'},  # Etiqueta para la barra de color\n",
    "                    title=f\"Status de los Estados en las Simulaciones - Elecciones Presidenciales {ELECTORAL_YEAR}\"\n",
    "                   )\n",
    "\n",
    "# # Crear un nuevo rastro para añadir los códigos de los estados en el mapa\n",
    "# fig.add_trace(go.Scattergeo(\n",
    "#     locationmode='USA-states',\n",
    "#     locations=accumulated_pred_state['state_code'],  # Usar los códigos de los estados\n",
    "#     text=accumulated_pred_state['state_code'],  # Mostrar los códigos dentro del mapa\n",
    "#     mode='text',  # Solo texto\n",
    "#     textfont=dict(size=12, color=\"black\"),  # Tamaño y color de la fuente\n",
    "# ))\n",
    "\n",
    "# Ajustar el tamaño del gráfico\n",
    "fig.update_layout(\n",
    "    width=1200,  # Ajustar el ancho del gráfico\n",
    "    height=800   # Ajustar la altura del gráfico\n",
    ")\n",
    "\n",
    "\n",
    "\n",
    "# Ajustar visualización y mostrar el gráfico\n",
    "fig.update_geos(fitbounds=\"locations\", visible=False)  # Ajustar el mapa a las ubicaciones\n",
    "fig.show()\n"
   ]
  }
 ],
 "metadata": {
  "kernelspec": {
   "display_name": ".venv",
   "language": "python",
   "name": "python3"
  },
  "language_info": {
   "codemirror_mode": {
    "name": "ipython",
    "version": 3
   },
   "file_extension": ".py",
   "mimetype": "text/x-python",
   "name": "python",
   "nbconvert_exporter": "python",
   "pygments_lexer": "ipython3",
   "version": "3.9.6"
  }
 },
 "nbformat": 4,
 "nbformat_minor": 2
}
