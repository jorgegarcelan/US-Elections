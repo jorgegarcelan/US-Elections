{
  "cells": [
    {
      "cell_type": "markdown",
      "metadata": {
        "id": "35cM3TrUCELr"
      },
      "source": [
        "# 🗳️ Elecciones EEUU"
      ]
    },
    {
      "cell_type": "markdown",
      "metadata": {},
      "source": [
        "🧑‍💻 Lucía Cordero | Jorge Garcelán"
      ]
    },
    {
      "cell_type": "markdown",
      "metadata": {},
      "source": [
        "![Election Results](https://www.porunmundomasjusto.es/wp-content/uploads/2020/11/mundomasjusto.png)\n"
      ]
    },
    {
      "cell_type": "markdown",
      "metadata": {},
      "source": [
        "<div class=\"warning\" style='padding:0.1em; border-left: 4px solid #17a2b8; background-color:#e8f8ff;'>\n",
        "<span>\n",
        "<p style='margin-top:1em; margin-left:1em; text-align:left'>\n",
        "<b>🎯Motivación y Objetivos</b></p>\n",
        "<p style='margin-left:1em;'>\n",
        "Este proyecto de análisis de datos está basado en los resultados de las <strong>elecciones presidenciales de Estados Unidos de 2020</strong>. Inspirados por nuestro interés en la política y teniendo en cuenta que las elecciones presidenciales de EE.UU. de 2024 son el 5 de noviembre, se nos ocurrió abordar este tema.\n",
        "<br><br>\n",
        "    El objetivo es aplicar técnicas de <strong>aprendizaje supervisado</strong> y <strong>no supervisado</strong> para explorar patrones y tendencias, así como predecir los resultados electorales en función de las características socioeconómicas y demográficas de cada condado. Este enfoque nos permite estudiar cómo estos factores influyen en los comportamientos de los votantes y cómo podrían anticiparse los resultados de futuras elecciones.\n",
        "</p>\n",
        "</span>\n",
        "</div>"
      ]
    },
    {
      "cell_type": "markdown",
      "metadata": {},
      "source": [
        "<div style=\"border-left: 4px solid #ffa500; background-color: #fff4e5; padding: 10px;\">\n",
        "    <strong>⚠️Warning:</strong> Es importante mencionar que no hemos podido utilizar los datos de 2024 como test pues no se encuentran disponibles todavía.\n",
        "</div>\n"
      ]
    },
    {
      "cell_type": "markdown",
      "metadata": {},
      "source": [
        "## Librerías"
      ]
    },
    {
      "cell_type": "code",
      "execution_count": 4,
      "metadata": {},
      "outputs": [],
      "source": [
        "import pandas as pd\n",
        "import seaborn as sns\n",
        "import matplotlib.pyplot as plt\n",
        "import plotly.express as px\n",
        "import numpy as np\n",
        "from sklearn.preprocessing import StandardScaler\n",
        "from sklearn.decomposition import PCA\n",
        "import plotly.graph_objs as go\n",
        "from sklearn.cluster import KMeans\n",
        "from sklearn.model_selection import train_test_split\n",
        "from sklearn.model_selection import RandomizedSearchCV\n",
        "from sklearn.tree import DecisionTreeClassifier\n",
        "from sklearn import tree\n",
        "from sklearn.metrics import accuracy_score, classification_report, confusion_matrix\n",
        "from sklearn.ensemble import RandomForestClassifier\n",
        "from sklearn.neighbors import KNeighborsClassifier\n",
        "from sklearn.discriminant_analysis import LinearDiscriminantAnalysis\n",
        "from sklearn.naive_bayes import GaussianNB\n",
        "from sklearn.linear_model import LogisticRegression\n"
      ]
    },
    {
      "cell_type": "markdown",
      "metadata": {
        "id": "MSM01bYuCELv"
      },
      "source": [
        "## Datasets"
      ]
    },
    {
      "cell_type": "markdown",
      "metadata": {},
      "source": [
        "### Seleccionar año"
      ]
    },
    {
      "cell_type": "code",
      "execution_count": 9,
      "metadata": {},
      "outputs": [],
      "source": [
        "CENSUS_YEAR = 2015 # 2015, 2019, 2023\n",
        "ELECTORAL_YEAR = CENSUS_YEAR + 1"
      ]
    },
    {
      "cell_type": "markdown",
      "metadata": {},
      "source": [
        "### Cargar datos"
      ]
    },
    {
      "cell_type": "code",
      "execution_count": 10,
      "metadata": {},
      "outputs": [],
      "source": [
        "data = pd.read_csv(f'data/final_data_{ELECTORAL_YEAR}.csv')"
      ]
    },
    {
      "cell_type": "markdown",
      "metadata": {
        "id": "utWxOOZVCEMG"
      },
      "source": [
        "## Aprendizaje No Supervisado"
      ]
    },
    {
      "cell_type": "markdown",
      "metadata": {},
      "source": [
        "En esta sección, utilizaremos métodos de aprendizaje no supervisado, específicamente **Análisis de Componentes Principales (PCA)**, para explorar y reducir la dimensionalidad de nuestro conjunto de datos, permitiendo identificar patrones y relaciones entre las características socioeconómicas y demográficas de los condados de Estados Unidos sin la necesidad de una variable objetivo.\n",
        "\n",
        "Además, hemos utilizado el PCA para evaluar cuántos componentes principales son necesarios para explicar un porcentaje significativo de la variabilidad en los datos, enfocándonos en lograr al menos un 90% de la varianza explicada. Este análisis nos permite identificar las características más relevantes de los condados y reducir el conjunto de datos sin perder información crítica."
      ]
    },
    {
      "cell_type": "markdown",
      "metadata": {
        "id": "HHFFbIe_CEMG"
      },
      "source": [
        "### Dataset"
      ]
    },
    {
      "cell_type": "code",
      "execution_count": 65,
      "metadata": {
        "id": "YzoCvd0eCEMH"
      },
      "outputs": [],
      "source": [
        "columns_to_drop = [f'winner_{ELECTORAL_YEAR}', f'votes_dem_{ELECTORAL_YEAR}', f'total_votes_{ELECTORAL_YEAR}', f'votes_others_{ELECTORAL_YEAR}', f'per_dem_{ELECTORAL_YEAR}', f'per_votes_others_{ELECTORAL_YEAR}']  # Nombres de las columnas a eliminar\n",
        "data_unsupervised = data.drop(columns=columns_to_drop)"
      ]
    },
    {
      "cell_type": "markdown",
      "metadata": {
        "id": "EHkRo16YCEMH"
      },
      "source": [
        "### PCA"
      ]
    },
    {
      "cell_type": "code",
      "execution_count": 66,
      "metadata": {
        "id": "UI-YC0arCEMH"
      },
      "outputs": [
        {
          "name": "stdout",
          "output_type": "stream",
          "text": [
            "Resultados de la matriz de PCA:\n",
            "           PC1       PC2       PC3\n",
            "0    -0.119065 -0.217482 -0.378834\n",
            "1     0.388855 -2.069612 -0.595007\n",
            "2    -0.830353  4.214988 -1.091920\n",
            "3     0.978707  2.217467  1.455736\n",
            "4     1.150449  0.191450  0.744899\n",
            "...        ...       ...       ...\n",
            "3107 -1.434277 -0.088007  2.768813\n",
            "3108 -3.729342 -2.853847  3.154062\n",
            "3109 -0.289482  0.100970  1.865868\n",
            "3110  1.582311 -0.663727  1.166699\n",
            "3111  2.234303 -0.953341  1.746440\n",
            "\n",
            "[3112 rows x 3 columns]\n",
            "Varianza explicada por los primeros tres componentes:\n",
            "[0.24557585 0.13926465 0.09123115]\n"
          ]
        }
      ],
      "source": [
        "# Normalizamos los datos\n",
        "scaler = StandardScaler()\n",
        "scaled_data = scaler.fit_transform(data_unsupervised)\n",
        "\n",
        "# Aplicamos PCA para tres componentes\n",
        "pca = PCA(n_components=3)\n",
        "pca_result = pca.fit_transform(scaled_data)\n",
        "\n",
        "# Creamos un dataframe para almacenar los resultados\n",
        "pca_df = pd.DataFrame(data=pca_result, columns=['PC1', 'PC2', 'PC3'])\n",
        "\n",
        "print(\"Resultados de la matriz de PCA:\")\n",
        "print(pca_df)\n",
        "\n",
        "# Return the variance explained by each principal component\n",
        "print(\"Varianza explicada por los primeros tres componentes:\")\n",
        "explained_variance = pca.explained_variance_ratio_\n",
        "print(explained_variance)"
      ]
    },
    {
      "cell_type": "markdown",
      "metadata": {
        "id": "YFQDmJ47CPPO"
      },
      "source": [
        "El DataFrame que tenemos representa los valores de las tres primeras componentes principales (PCA1, PCA2 y PCA3) para cada una de las 3111 observaciones del dataset, y cada fila en la matriz corresponde a una observación en los datos. Los valores en las columnas PCA1, PCA2 y PCA3 indican cómo se proyecta cada observación en estas nuevas dimensiones.\n",
        "\n",
        "* **PCA1** explica el **27.56% de la varianza total** de los datos. Esto significa que alrededor del 27% de la información original de los datos se puede representar utilizando solo esta primera componente. **PCA2** aporta un **16.17% adicional de la varianza total**, y **PC3**, **alrededor de un 1%** sobre el total.\n",
        "\n",
        "\n",
        "* En total, **las tres primeras componentes explican aproximadamente un 54.08% de la varianza de los datos originales**. Esto significa que, si solo usamos estas tres componentes, podemos capturar poco más de la mitad de la información original del conjunto de datos.\n",
        "\n",
        "Por otro lado, sería interesante estudiar qué mínimo de componentes es necesario para explicar una cantidad significativa de la varianza (alrededor de un 90%). Vamos a verlo:"
      ]
    },
    {
      "cell_type": "code",
      "execution_count": 67,
      "metadata": {
        "id": "MzdMwIsSCWph"
      },
      "outputs": [
        {
          "name": "stdout",
          "output_type": "stream",
          "text": [
            "Se necesitan 15 componentes principales para explicar el 90% de la varianza.\n",
            "Componentes: 1, Varianza Acumulada: 0.2456\n",
            "Componentes: 2, Varianza Acumulada: 0.3848\n",
            "Componentes: 3, Varianza Acumulada: 0.4761\n",
            "Componentes: 4, Varianza Acumulada: 0.5499\n",
            "Componentes: 5, Varianza Acumulada: 0.6101\n",
            "Componentes: 6, Varianza Acumulada: 0.6591\n",
            "Componentes: 7, Varianza Acumulada: 0.7004\n",
            "Componentes: 8, Varianza Acumulada: 0.7406\n",
            "Componentes: 9, Varianza Acumulada: 0.7790\n",
            "Componentes: 10, Varianza Acumulada: 0.8098\n",
            "Componentes: 11, Varianza Acumulada: 0.8345\n",
            "Componentes: 12, Varianza Acumulada: 0.8544\n",
            "Componentes: 13, Varianza Acumulada: 0.8716\n",
            "Componentes: 14, Varianza Acumulada: 0.8879\n",
            "Componentes: 15, Varianza Acumulada: 0.9035\n",
            "Componentes: 16, Varianza Acumulada: 0.9164\n",
            "Componentes: 17, Varianza Acumulada: 0.9280\n",
            "Componentes: 18, Varianza Acumulada: 0.9388\n",
            "Componentes: 19, Varianza Acumulada: 0.9476\n",
            "Componentes: 20, Varianza Acumulada: 0.9557\n",
            "Componentes: 21, Varianza Acumulada: 0.9623\n",
            "Componentes: 22, Varianza Acumulada: 0.9680\n",
            "Componentes: 23, Varianza Acumulada: 0.9735\n",
            "Componentes: 24, Varianza Acumulada: 0.9785\n",
            "Componentes: 25, Varianza Acumulada: 0.9827\n",
            "Componentes: 26, Varianza Acumulada: 0.9863\n",
            "Componentes: 27, Varianza Acumulada: 0.9895\n",
            "Componentes: 28, Varianza Acumulada: 0.9922\n",
            "Componentes: 29, Varianza Acumulada: 0.9947\n",
            "Componentes: 30, Varianza Acumulada: 0.9970\n",
            "Componentes: 31, Varianza Acumulada: 0.9988\n",
            "Componentes: 32, Varianza Acumulada: 0.9995\n",
            "Componentes: 33, Varianza Acumulada: 0.9999\n",
            "Componentes: 34, Varianza Acumulada: 1.0000\n",
            "Componentes: 35, Varianza Acumulada: 1.0000\n",
            "Componentes: 36, Varianza Acumulada: 1.0000\n",
            "Componentes: 37, Varianza Acumulada: 1.0000\n",
            "Componentes: 38, Varianza Acumulada: 1.0000\n"
          ]
        }
      ],
      "source": [
        "# Aplicamos PCA sin limitar el número de componentes para ver cuántos hacen faltapara explicar un 90% de la variabilidad\n",
        "pca = PCA()  # Calcula tantos componentes como variables tenga el dataset original\n",
        "pca.fit(scaled_data)\n",
        "\n",
        "# Obtener la varianza explicada por cada componente\n",
        "explained_variance_ratio = pca.explained_variance_ratio_\n",
        "\n",
        "# Acumulamos la varianza explicada para encontrar cuántos componentes se necesitan para explicar el 90%\n",
        "cumulative_variance = np.cumsum(explained_variance_ratio)\n",
        "\n",
        "# Encontramos el número mínimo de componentes que explican al menos el 90% de la varianza\n",
        "num_components_90_variance = np.argmax(cumulative_variance >= 0.90) + 1\n",
        "\n",
        "# Imprimimos los resultados\n",
        "print(f\"Se necesitan {num_components_90_variance} componentes principales para explicar el 90% de la varianza.\")\n",
        "\n",
        "# Opcional: Mostrar la varianza acumulada\n",
        "for i, var in enumerate(cumulative_variance, 1):\n",
        "    print(f\"Componentes: {i}, Varianza Acumulada: {var:.4f}\")"
      ]
    },
    {
      "cell_type": "code",
      "execution_count": 68,
      "metadata": {
        "id": "KPkdlvJVCX7r"
      },
      "outputs": [
        {
          "data": {
            "application/vnd.plotly.v1+json": {
              "config": {
                "plotlyServerURL": "https://plot.ly"
              },
              "data": [
                {
                  "hoverinfo": "text",
                  "hovertext": [
                    "Componente 1: Top Variables:<br>white_2019<br>per_capita_income_2019<br>avg_family_size_2019",
                    "Componente 2: Top Variables:<br>bachelors_2019",
                    "Componente 3: Top Variables:<br>pac_isl_2019<br>two_plus_races_2019<br>other_single_race_2019<br>native_2019",
                    "Componente 4: Top Variables:<br>asian_2019<br>per_capita_income_2019",
                    "Componente 5: Top Variables:<br>pop_2019<br>pac_isl_2019<br>other_single_race_2019<br>native_2019",
                    "Componente 6: Top Variables:<br>unemployment_rate_2019<br>veterans_2019",
                    "Componente 7: Top Variables:<br>hispanic_2019",
                    "Componente 8: Top Variables:<br>hispanic_2019<br>white_not_hispanic_2019<br>pop_2019<br>hs_grad_2019<br>black_2019",
                    "Componente 9: Top Variables:<br>age_over_65_2019<br>two_plus_races_2019<br>hs_grad_2019<br>black_2019",
                    "Componente 10: Top Variables:<br>",
                    "Componente 11: Top Variables:<br>veterans_2019",
                    "Componente 12: Top Variables:<br>two_plus_races_2019<br>veterans_2019",
                    "Componente 13: Top Variables:<br>white_not_hispanic_2019<br>hs_grad_2019<br>black_2019",
                    "Componente 14: Top Variables:<br>age_over_65_2019<br>pop_2019",
                    "Componente 15: Top Variables:<br>hispanic_2019<br>veterans_2019",
                    "Componente 16: Top Variables:<br>two_plus_races_2019<br>black_2019<br>hs_grad_2019",
                    "Componente 17: Top Variables:<br>veterans_2019",
                    "Componente 18: Top Variables:<br>age_over_65_2019",
                    "Componente 19: Top Variables:<br>white_2019<br>age_over_65_2019",
                    "Componente 20: Top Variables:<br>veterans_2019",
                    "Componente 21: Top Variables:<br>per_capita_income_2019<br>hispanic_2019",
                    "Componente 22: Top Variables:<br>hispanic_2019",
                    "Componente 23: Top Variables:<br>black_2019<br>per_capita_income_2019<br>pac_isl_2019<br>pop_2019<br>two_plus_races_2019",
                    "Componente 24: Top Variables:<br>white_2019<br>bachelors_2019",
                    "Componente 25: Top Variables:<br>age_over_65_2019<br>per_capita_income_2019",
                    "Componente 26: Top Variables:<br>age_over_65_2019",
                    "Componente 27: Top Variables:<br>per_capita_income_2019<br>age_over_65_2019<br>white_2019<br>pac_isl_2019",
                    "Componente 28: Top Variables:<br>bachelors_2019<br>per_capita_income_2019<br>uninsured_2019<br>unemployment_rate_2019",
                    "Componente 29: Top Variables:<br>uninsured_2019<br>white_2019",
                    "Componente 30: Top Variables:<br>per_capita_income_2019<br>unemployment_rate_2019<br>bachelors_2019",
                    "Componente 31: Top Variables:<br>white_2019<br>households_speak_limited_english_2019<br>asian_2019<br>median_age_2019<br>age_over_18_2019",
                    "Componente 32: Top Variables:<br>other_single_race_2019<br>per_capita_income_2019<br>unemployment_rate_2019<br>pac_isl_2019<br>uninsured_2019",
                    "Componente 33: Top Variables:<br>two_plus_races_2019<br>pop_2019<br>uninsured_2019<br>unemployment_rate_2019<br>avg_family_size_2019",
                    "Componente 34: Top Variables:<br>age_over_18_2019<br>median_age_2019<br>asian_2019<br>households_speak_limited_english_2019",
                    "Componente 35: Top Variables:<br>avg_family_size_2019<br>age_over_18_2019<br>households_speak_limited_english_2019<br>asian_2019<br>median_age_2019",
                    "Componente 36: Top Variables:<br>white_not_hispanic_2019",
                    "Componente 37: Top Variables:<br>white_not_hispanic_2019",
                    "Componente 38: Top Variables:<br>white_not_hispanic_2019<br>native_2019<br>other_single_race_2019"
                  ],
                  "marker": {
                    "color": "#377eb8"
                  },
                  "name": "Varianza Explicada",
                  "opacity": 0.7,
                  "type": "bar",
                  "x": [
                    "PC 1",
                    "PC 2",
                    "PC 3",
                    "PC 4",
                    "PC 5",
                    "PC 6",
                    "PC 7",
                    "PC 8",
                    "PC 9",
                    "PC 10",
                    "PC 11",
                    "PC 12",
                    "PC 13",
                    "PC 14",
                    "PC 15",
                    "PC 16",
                    "PC 17",
                    "PC 18",
                    "PC 19",
                    "PC 20",
                    "PC 21",
                    "PC 22",
                    "PC 23",
                    "PC 24",
                    "PC 25",
                    "PC 26",
                    "PC 27",
                    "PC 28",
                    "PC 29",
                    "PC 30",
                    "PC 31",
                    "PC 32",
                    "PC 33",
                    "PC 34",
                    "PC 35",
                    "PC 36",
                    "PC 37",
                    "PC 38"
                  ],
                  "y": {
                    "bdata": "el653b2OOECyrpmlWdorQAV2xusIPyJAj7YkET2LHUB1uXaIdxMYQHZRLe/cmRNAlx00biyCEEAhY374vhcQQHiWzqKAtQ5AgRTknqiqCEADKnct8LMDQEEwVLM56P8/OkwVYHZr+z+eDgZKezL6P0Tnk1Ni5Pg/RiKpLXef9D/LDhSL1ZvyP07pMukKVvE/m1wFLvcp7D+bb0jR7rDpP+hdww24JeU/kwv1tt5a4j9hPVdFTXrhP4I7MNafBOA/rToV+jg32z8B0ZMWY6rWP2UJPHuyedQ/S4Fx/Jw50T9fKADRCjnQPxKn/UJqOc0/UQbTsKSOxz8ht+IBmRqxP35E0QWQpaM/fgVBppt1gj+3Ns+rdBdrPw9FF2IP4ZA+cINGDsNcBT7/X2d79vLGPA==",
                    "dtype": "f8"
                  }
                },
                {
                  "hoverinfo": "y",
                  "line": {
                    "color": "black"
                  },
                  "mode": "lines+markers",
                  "name": "Varianza Cumulativa",
                  "type": "scatter",
                  "x": [
                    "PC 1",
                    "PC 2",
                    "PC 3",
                    "PC 4",
                    "PC 5",
                    "PC 6",
                    "PC 7",
                    "PC 8",
                    "PC 9",
                    "PC 10",
                    "PC 11",
                    "PC 12",
                    "PC 13",
                    "PC 14",
                    "PC 15",
                    "PC 16",
                    "PC 17",
                    "PC 18",
                    "PC 19",
                    "PC 20",
                    "PC 21",
                    "PC 22",
                    "PC 23",
                    "PC 24",
                    "PC 25",
                    "PC 26",
                    "PC 27",
                    "PC 28",
                    "PC 29",
                    "PC 30",
                    "PC 31",
                    "PC 32",
                    "PC 33",
                    "PC 34",
                    "PC 35",
                    "PC 36",
                    "PC 37",
                    "PC 38"
                  ],
                  "y": {
                    "bdata": "el653b2OOEDqGkNY9T1DQGu4NJO3zUdAPU9ZNR9/S0BrJmgmjoFOQE3oJuJkelBAJyoKqYeCUUBZEJKYA4RSQAyFqJ2veVNAsKWf4gQ/VEABXwtkpNxUQMKv2EpFXFVA8wRZJPPJVUAuHYERvTJWQMtsz5pOllZAVBGGd8zoVkCPYbLNOzNXQDQtV/mTeFdA7Tez5+ewV0DMyFXFSeRXQIhPcTWVDlhAnznf8kozWEAa6GmNP1ZYQJFIFs1IdlhAzF0QBoCRWECd8SZpKqhYQKctohukvFhAKJ+euN3NWEBQn2/DFt5YQCQekXiz7FhAp4fpynr4WEBVACpxwfxYQH26KiM2/1hAhewH0Mn/WEAkRPH+//9YQBpV/////1hAAAAAAAAAWUAAAAAAAABZQA==",
                    "dtype": "f8"
                  }
                },
                {
                  "marker": {
                    "color": "#e41a1c",
                    "size": 10,
                    "symbol": "x"
                  },
                  "mode": "markers",
                  "name": "90% Varianza Cumulativa",
                  "type": "scatter",
                  "x": [
                    "PC 15"
                  ],
                  "y": [
                    90.34854765182824
                  ]
                }
              ],
              "layout": {
                "showlegend": true,
                "template": {
                  "data": {
                    "bar": [
                      {
                        "error_x": {
                          "color": "#2a3f5f"
                        },
                        "error_y": {
                          "color": "#2a3f5f"
                        },
                        "marker": {
                          "line": {
                            "color": "#E5ECF6",
                            "width": 0.5
                          },
                          "pattern": {
                            "fillmode": "overlay",
                            "size": 10,
                            "solidity": 0.2
                          }
                        },
                        "type": "bar"
                      }
                    ],
                    "barpolar": [
                      {
                        "marker": {
                          "line": {
                            "color": "#E5ECF6",
                            "width": 0.5
                          },
                          "pattern": {
                            "fillmode": "overlay",
                            "size": 10,
                            "solidity": 0.2
                          }
                        },
                        "type": "barpolar"
                      }
                    ],
                    "carpet": [
                      {
                        "aaxis": {
                          "endlinecolor": "#2a3f5f",
                          "gridcolor": "white",
                          "linecolor": "white",
                          "minorgridcolor": "white",
                          "startlinecolor": "#2a3f5f"
                        },
                        "baxis": {
                          "endlinecolor": "#2a3f5f",
                          "gridcolor": "white",
                          "linecolor": "white",
                          "minorgridcolor": "white",
                          "startlinecolor": "#2a3f5f"
                        },
                        "type": "carpet"
                      }
                    ],
                    "choropleth": [
                      {
                        "colorbar": {
                          "outlinewidth": 0,
                          "ticks": ""
                        },
                        "type": "choropleth"
                      }
                    ],
                    "contour": [
                      {
                        "colorbar": {
                          "outlinewidth": 0,
                          "ticks": ""
                        },
                        "colorscale": [
                          [
                            0,
                            "#0d0887"
                          ],
                          [
                            0.1111111111111111,
                            "#46039f"
                          ],
                          [
                            0.2222222222222222,
                            "#7201a8"
                          ],
                          [
                            0.3333333333333333,
                            "#9c179e"
                          ],
                          [
                            0.4444444444444444,
                            "#bd3786"
                          ],
                          [
                            0.5555555555555556,
                            "#d8576b"
                          ],
                          [
                            0.6666666666666666,
                            "#ed7953"
                          ],
                          [
                            0.7777777777777778,
                            "#fb9f3a"
                          ],
                          [
                            0.8888888888888888,
                            "#fdca26"
                          ],
                          [
                            1,
                            "#f0f921"
                          ]
                        ],
                        "type": "contour"
                      }
                    ],
                    "contourcarpet": [
                      {
                        "colorbar": {
                          "outlinewidth": 0,
                          "ticks": ""
                        },
                        "type": "contourcarpet"
                      }
                    ],
                    "heatmap": [
                      {
                        "colorbar": {
                          "outlinewidth": 0,
                          "ticks": ""
                        },
                        "colorscale": [
                          [
                            0,
                            "#0d0887"
                          ],
                          [
                            0.1111111111111111,
                            "#46039f"
                          ],
                          [
                            0.2222222222222222,
                            "#7201a8"
                          ],
                          [
                            0.3333333333333333,
                            "#9c179e"
                          ],
                          [
                            0.4444444444444444,
                            "#bd3786"
                          ],
                          [
                            0.5555555555555556,
                            "#d8576b"
                          ],
                          [
                            0.6666666666666666,
                            "#ed7953"
                          ],
                          [
                            0.7777777777777778,
                            "#fb9f3a"
                          ],
                          [
                            0.8888888888888888,
                            "#fdca26"
                          ],
                          [
                            1,
                            "#f0f921"
                          ]
                        ],
                        "type": "heatmap"
                      }
                    ],
                    "histogram": [
                      {
                        "marker": {
                          "pattern": {
                            "fillmode": "overlay",
                            "size": 10,
                            "solidity": 0.2
                          }
                        },
                        "type": "histogram"
                      }
                    ],
                    "histogram2d": [
                      {
                        "colorbar": {
                          "outlinewidth": 0,
                          "ticks": ""
                        },
                        "colorscale": [
                          [
                            0,
                            "#0d0887"
                          ],
                          [
                            0.1111111111111111,
                            "#46039f"
                          ],
                          [
                            0.2222222222222222,
                            "#7201a8"
                          ],
                          [
                            0.3333333333333333,
                            "#9c179e"
                          ],
                          [
                            0.4444444444444444,
                            "#bd3786"
                          ],
                          [
                            0.5555555555555556,
                            "#d8576b"
                          ],
                          [
                            0.6666666666666666,
                            "#ed7953"
                          ],
                          [
                            0.7777777777777778,
                            "#fb9f3a"
                          ],
                          [
                            0.8888888888888888,
                            "#fdca26"
                          ],
                          [
                            1,
                            "#f0f921"
                          ]
                        ],
                        "type": "histogram2d"
                      }
                    ],
                    "histogram2dcontour": [
                      {
                        "colorbar": {
                          "outlinewidth": 0,
                          "ticks": ""
                        },
                        "colorscale": [
                          [
                            0,
                            "#0d0887"
                          ],
                          [
                            0.1111111111111111,
                            "#46039f"
                          ],
                          [
                            0.2222222222222222,
                            "#7201a8"
                          ],
                          [
                            0.3333333333333333,
                            "#9c179e"
                          ],
                          [
                            0.4444444444444444,
                            "#bd3786"
                          ],
                          [
                            0.5555555555555556,
                            "#d8576b"
                          ],
                          [
                            0.6666666666666666,
                            "#ed7953"
                          ],
                          [
                            0.7777777777777778,
                            "#fb9f3a"
                          ],
                          [
                            0.8888888888888888,
                            "#fdca26"
                          ],
                          [
                            1,
                            "#f0f921"
                          ]
                        ],
                        "type": "histogram2dcontour"
                      }
                    ],
                    "mesh3d": [
                      {
                        "colorbar": {
                          "outlinewidth": 0,
                          "ticks": ""
                        },
                        "type": "mesh3d"
                      }
                    ],
                    "parcoords": [
                      {
                        "line": {
                          "colorbar": {
                            "outlinewidth": 0,
                            "ticks": ""
                          }
                        },
                        "type": "parcoords"
                      }
                    ],
                    "pie": [
                      {
                        "automargin": true,
                        "type": "pie"
                      }
                    ],
                    "scatter": [
                      {
                        "fillpattern": {
                          "fillmode": "overlay",
                          "size": 10,
                          "solidity": 0.2
                        },
                        "type": "scatter"
                      }
                    ],
                    "scatter3d": [
                      {
                        "line": {
                          "colorbar": {
                            "outlinewidth": 0,
                            "ticks": ""
                          }
                        },
                        "marker": {
                          "colorbar": {
                            "outlinewidth": 0,
                            "ticks": ""
                          }
                        },
                        "type": "scatter3d"
                      }
                    ],
                    "scattercarpet": [
                      {
                        "marker": {
                          "colorbar": {
                            "outlinewidth": 0,
                            "ticks": ""
                          }
                        },
                        "type": "scattercarpet"
                      }
                    ],
                    "scattergeo": [
                      {
                        "marker": {
                          "colorbar": {
                            "outlinewidth": 0,
                            "ticks": ""
                          }
                        },
                        "type": "scattergeo"
                      }
                    ],
                    "scattergl": [
                      {
                        "marker": {
                          "colorbar": {
                            "outlinewidth": 0,
                            "ticks": ""
                          }
                        },
                        "type": "scattergl"
                      }
                    ],
                    "scattermap": [
                      {
                        "marker": {
                          "colorbar": {
                            "outlinewidth": 0,
                            "ticks": ""
                          }
                        },
                        "type": "scattermap"
                      }
                    ],
                    "scattermapbox": [
                      {
                        "marker": {
                          "colorbar": {
                            "outlinewidth": 0,
                            "ticks": ""
                          }
                        },
                        "type": "scattermapbox"
                      }
                    ],
                    "scatterpolar": [
                      {
                        "marker": {
                          "colorbar": {
                            "outlinewidth": 0,
                            "ticks": ""
                          }
                        },
                        "type": "scatterpolar"
                      }
                    ],
                    "scatterpolargl": [
                      {
                        "marker": {
                          "colorbar": {
                            "outlinewidth": 0,
                            "ticks": ""
                          }
                        },
                        "type": "scatterpolargl"
                      }
                    ],
                    "scatterternary": [
                      {
                        "marker": {
                          "colorbar": {
                            "outlinewidth": 0,
                            "ticks": ""
                          }
                        },
                        "type": "scatterternary"
                      }
                    ],
                    "surface": [
                      {
                        "colorbar": {
                          "outlinewidth": 0,
                          "ticks": ""
                        },
                        "colorscale": [
                          [
                            0,
                            "#0d0887"
                          ],
                          [
                            0.1111111111111111,
                            "#46039f"
                          ],
                          [
                            0.2222222222222222,
                            "#7201a8"
                          ],
                          [
                            0.3333333333333333,
                            "#9c179e"
                          ],
                          [
                            0.4444444444444444,
                            "#bd3786"
                          ],
                          [
                            0.5555555555555556,
                            "#d8576b"
                          ],
                          [
                            0.6666666666666666,
                            "#ed7953"
                          ],
                          [
                            0.7777777777777778,
                            "#fb9f3a"
                          ],
                          [
                            0.8888888888888888,
                            "#fdca26"
                          ],
                          [
                            1,
                            "#f0f921"
                          ]
                        ],
                        "type": "surface"
                      }
                    ],
                    "table": [
                      {
                        "cells": {
                          "fill": {
                            "color": "#EBF0F8"
                          },
                          "line": {
                            "color": "white"
                          }
                        },
                        "header": {
                          "fill": {
                            "color": "#C8D4E3"
                          },
                          "line": {
                            "color": "white"
                          }
                        },
                        "type": "table"
                      }
                    ]
                  },
                  "layout": {
                    "annotationdefaults": {
                      "arrowcolor": "#2a3f5f",
                      "arrowhead": 0,
                      "arrowwidth": 1
                    },
                    "autotypenumbers": "strict",
                    "coloraxis": {
                      "colorbar": {
                        "outlinewidth": 0,
                        "ticks": ""
                      }
                    },
                    "colorscale": {
                      "diverging": [
                        [
                          0,
                          "#8e0152"
                        ],
                        [
                          0.1,
                          "#c51b7d"
                        ],
                        [
                          0.2,
                          "#de77ae"
                        ],
                        [
                          0.3,
                          "#f1b6da"
                        ],
                        [
                          0.4,
                          "#fde0ef"
                        ],
                        [
                          0.5,
                          "#f7f7f7"
                        ],
                        [
                          0.6,
                          "#e6f5d0"
                        ],
                        [
                          0.7,
                          "#b8e186"
                        ],
                        [
                          0.8,
                          "#7fbc41"
                        ],
                        [
                          0.9,
                          "#4d9221"
                        ],
                        [
                          1,
                          "#276419"
                        ]
                      ],
                      "sequential": [
                        [
                          0,
                          "#0d0887"
                        ],
                        [
                          0.1111111111111111,
                          "#46039f"
                        ],
                        [
                          0.2222222222222222,
                          "#7201a8"
                        ],
                        [
                          0.3333333333333333,
                          "#9c179e"
                        ],
                        [
                          0.4444444444444444,
                          "#bd3786"
                        ],
                        [
                          0.5555555555555556,
                          "#d8576b"
                        ],
                        [
                          0.6666666666666666,
                          "#ed7953"
                        ],
                        [
                          0.7777777777777778,
                          "#fb9f3a"
                        ],
                        [
                          0.8888888888888888,
                          "#fdca26"
                        ],
                        [
                          1,
                          "#f0f921"
                        ]
                      ],
                      "sequentialminus": [
                        [
                          0,
                          "#0d0887"
                        ],
                        [
                          0.1111111111111111,
                          "#46039f"
                        ],
                        [
                          0.2222222222222222,
                          "#7201a8"
                        ],
                        [
                          0.3333333333333333,
                          "#9c179e"
                        ],
                        [
                          0.4444444444444444,
                          "#bd3786"
                        ],
                        [
                          0.5555555555555556,
                          "#d8576b"
                        ],
                        [
                          0.6666666666666666,
                          "#ed7953"
                        ],
                        [
                          0.7777777777777778,
                          "#fb9f3a"
                        ],
                        [
                          0.8888888888888888,
                          "#fdca26"
                        ],
                        [
                          1,
                          "#f0f921"
                        ]
                      ]
                    },
                    "colorway": [
                      "#636efa",
                      "#EF553B",
                      "#00cc96",
                      "#ab63fa",
                      "#FFA15A",
                      "#19d3f3",
                      "#FF6692",
                      "#B6E880",
                      "#FF97FF",
                      "#FECB52"
                    ],
                    "font": {
                      "color": "#2a3f5f"
                    },
                    "geo": {
                      "bgcolor": "white",
                      "lakecolor": "white",
                      "landcolor": "#E5ECF6",
                      "showlakes": true,
                      "showland": true,
                      "subunitcolor": "white"
                    },
                    "hoverlabel": {
                      "align": "left"
                    },
                    "hovermode": "closest",
                    "mapbox": {
                      "style": "light"
                    },
                    "paper_bgcolor": "white",
                    "plot_bgcolor": "#E5ECF6",
                    "polar": {
                      "angularaxis": {
                        "gridcolor": "white",
                        "linecolor": "white",
                        "ticks": ""
                      },
                      "bgcolor": "#E5ECF6",
                      "radialaxis": {
                        "gridcolor": "white",
                        "linecolor": "white",
                        "ticks": ""
                      }
                    },
                    "scene": {
                      "xaxis": {
                        "backgroundcolor": "#E5ECF6",
                        "gridcolor": "white",
                        "gridwidth": 2,
                        "linecolor": "white",
                        "showbackground": true,
                        "ticks": "",
                        "zerolinecolor": "white"
                      },
                      "yaxis": {
                        "backgroundcolor": "#E5ECF6",
                        "gridcolor": "white",
                        "gridwidth": 2,
                        "linecolor": "white",
                        "showbackground": true,
                        "ticks": "",
                        "zerolinecolor": "white"
                      },
                      "zaxis": {
                        "backgroundcolor": "#E5ECF6",
                        "gridcolor": "white",
                        "gridwidth": 2,
                        "linecolor": "white",
                        "showbackground": true,
                        "ticks": "",
                        "zerolinecolor": "white"
                      }
                    },
                    "shapedefaults": {
                      "line": {
                        "color": "#2a3f5f"
                      }
                    },
                    "ternary": {
                      "aaxis": {
                        "gridcolor": "white",
                        "linecolor": "white",
                        "ticks": ""
                      },
                      "baxis": {
                        "gridcolor": "white",
                        "linecolor": "white",
                        "ticks": ""
                      },
                      "bgcolor": "#E5ECF6",
                      "caxis": {
                        "gridcolor": "white",
                        "linecolor": "white",
                        "ticks": ""
                      }
                    },
                    "title": {
                      "x": 0.05
                    },
                    "xaxis": {
                      "automargin": true,
                      "gridcolor": "white",
                      "linecolor": "white",
                      "ticks": "",
                      "title": {
                        "standoff": 15
                      },
                      "zerolinecolor": "white",
                      "zerolinewidth": 2
                    },
                    "yaxis": {
                      "automargin": true,
                      "gridcolor": "white",
                      "linecolor": "white",
                      "ticks": "",
                      "title": {
                        "standoff": 15
                      },
                      "zerolinecolor": "white",
                      "zerolinewidth": 2
                    }
                  }
                },
                "title": {
                  "text": "Distribución de la varianza explicada por cada componente principal"
                },
                "xaxis": {
                  "title": {
                    "text": "Principal Components"
                  }
                },
                "yaxis": {
                  "title": {
                    "text": "Porcentaje de Varianza Explicada"
                  }
                }
              }
            }
          },
          "metadata": {},
          "output_type": "display_data"
        }
      ],
      "source": [
        "# Calculamos explained variance ratio y varianza cumulativa\n",
        "explained_variance_ratio = pca.explained_variance_ratio_\n",
        "cumulative_variance = np.cumsum(explained_variance_ratio)\n",
        "\n",
        "# Lista de variables de los datos\n",
        "feature_names = ['age_over_18_2019', 'age_over_65_2019', 'asian_2019',\n",
        "       'avg_family_size_2019', 'bachelors_2019', 'black_2019', 'hispanic_2019',\n",
        "       'households_speak_limited_english_2019', 'hs_grad_2019',\n",
        "       'median_age_2019', 'native_2019', 'other_single_race_2019',\n",
        "       'pac_isl_2019', 'per_capita_income_2019', 'pop_2019',\n",
        "       'two_plus_races_2019', 'unemployment_rate_2019', 'uninsured_2019',\n",
        "       'veterans_2019', 'white_2019', 'white_not_hispanic_2019']\n",
        "\n",
        "\n",
        "hover_text = []\n",
        "for i, component in enumerate(pca.components_):\n",
        "    # Obtener top 5 variables que más contribuyen\n",
        "    top_features_idx = np.argsort(np.abs(component))[-5:]\n",
        "    \n",
        "    # Verificar que no excedemos límites de la lista de variables\n",
        "    if max(top_features_idx) < len(feature_names):\n",
        "        top_features = [feature_names[idx] for idx in top_features_idx]\n",
        "    else:\n",
        "        top_features = [feature_names[idx] for idx in top_features_idx if idx < len(feature_names)]\n",
        "    \n",
        "    hover_text.append(f'Componente {i+1}: Top Variables:<br>' + '<br>'.join(top_features))\n",
        "\n",
        "# Gráfico para la varianza explicada\n",
        "trace1 = go.Bar(\n",
        "    x=[f'PC {i+1}' for i in range(len(explained_variance_ratio))],\n",
        "    y=explained_variance_ratio * 100,\n",
        "    name='Varianza Explicada',\n",
        "    hovertext=hover_text,\n",
        "    hoverinfo='text',\n",
        "    marker=dict(color='#377eb8'),\n",
        "    opacity=0.7\n",
        ")\n",
        "\n",
        "# Line plot para varianza cumulativa\n",
        "trace2 = go.Scatter(\n",
        "    x=[f'PC {i+1}' for i in range(len(cumulative_variance))],\n",
        "    y=cumulative_variance * 100,\n",
        "    mode='lines+markers',\n",
        "    name='Varianza Cumulativa',\n",
        "    line=dict(color='black'),\n",
        "    hoverinfo='y'\n",
        ")\n",
        "\n",
        "# Índice donde la varianza cumulativa está más cerca a 90%\n",
        "threshold_idx = np.argmax(cumulative_variance >= 0.90)\n",
        "\n",
        "# Aañdir cruz en el punto donde la varianza cumulativa es 90%\n",
        "red_cross = go.Scatter(\n",
        "    x=[f'PC {threshold_idx+1}'],\n",
        "    y=[cumulative_variance[threshold_idx] * 100],\n",
        "    mode='markers',\n",
        "    marker=dict(color='#e41a1c', size=10, symbol='x'),\n",
        "    name='90% Varianza Cumulativa'\n",
        ")\n",
        "\n",
        "# Layout\n",
        "layout = go.Layout(\n",
        "    title='Distribución de la varianza explicada por cada componente principal',\n",
        "    xaxis=dict(title='Principal Components'),\n",
        "    yaxis=dict(title='Porcentaje de Varianza Explicada'),\n",
        "    showlegend=True\n",
        ")\n",
        "\n",
        "# Crear gráfico\n",
        "fig = go.Figure(data=[trace1, trace2, red_cross], layout=layout)\n",
        "\n",
        "# Mostrar\n",
        "fig.show()"
      ]
    },
    {
      "cell_type": "code",
      "execution_count": 69,
      "metadata": {},
      "outputs": [
        {
          "ename": "FileNotFoundError",
          "evalue": "[Errno 2] No such file or directory: '../IMAGES/pca_cumulative.png'",
          "output_type": "error",
          "traceback": [
            "\u001b[0;31m---------------------------------------------------------------------------\u001b[0m",
            "\u001b[0;31mFileNotFoundError\u001b[0m                         Traceback (most recent call last)",
            "Cell \u001b[0;32mIn[69], line 44\u001b[0m\n\u001b[1;32m     41\u001b[0m plt\u001b[38;5;241m.\u001b[39mgca()\u001b[38;5;241m.\u001b[39mspines[\u001b[38;5;124m'\u001b[39m\u001b[38;5;124mbottom\u001b[39m\u001b[38;5;124m'\u001b[39m]\u001b[38;5;241m.\u001b[39mset_visible(\u001b[38;5;28;01mFalse\u001b[39;00m)\n\u001b[1;32m     43\u001b[0m \u001b[38;5;66;03m# Guardar el gráfico como PNG con fondo transparente\u001b[39;00m\n\u001b[0;32m---> 44\u001b[0m \u001b[43mplt\u001b[49m\u001b[38;5;241;43m.\u001b[39;49m\u001b[43msavefig\u001b[49m\u001b[43m(\u001b[49m\u001b[38;5;124;43m\"\u001b[39;49m\u001b[38;5;124;43m../IMAGES/pca_cumulative.png\u001b[39;49m\u001b[38;5;124;43m\"\u001b[39;49m\u001b[43m,\u001b[49m\u001b[43m \u001b[49m\u001b[38;5;28;43mformat\u001b[39;49m\u001b[38;5;241;43m=\u001b[39;49m\u001b[38;5;124;43m\"\u001b[39;49m\u001b[38;5;124;43mpng\u001b[39;49m\u001b[38;5;124;43m\"\u001b[39;49m\u001b[43m,\u001b[49m\u001b[43m \u001b[49m\u001b[43mtransparent\u001b[49m\u001b[38;5;241;43m=\u001b[39;49m\u001b[38;5;28;43;01mTrue\u001b[39;49;00m\u001b[43m)\u001b[49m\n\u001b[1;32m     46\u001b[0m \u001b[38;5;66;03m# Mostrar el gráfico\u001b[39;00m\n\u001b[1;32m     47\u001b[0m plt\u001b[38;5;241m.\u001b[39mshow()\n",
            "File \u001b[0;32m~/Desktop/T3CHFEST/US-Elections/.venv/lib/python3.9/site-packages/matplotlib/pyplot.py:1228\u001b[0m, in \u001b[0;36msavefig\u001b[0;34m(*args, **kwargs)\u001b[0m\n\u001b[1;32m   1225\u001b[0m fig \u001b[38;5;241m=\u001b[39m gcf()\n\u001b[1;32m   1226\u001b[0m \u001b[38;5;66;03m# savefig default implementation has no return, so mypy is unhappy\u001b[39;00m\n\u001b[1;32m   1227\u001b[0m \u001b[38;5;66;03m# presumably this is here because subclasses can return?\u001b[39;00m\n\u001b[0;32m-> 1228\u001b[0m res \u001b[38;5;241m=\u001b[39m \u001b[43mfig\u001b[49m\u001b[38;5;241;43m.\u001b[39;49m\u001b[43msavefig\u001b[49m\u001b[43m(\u001b[49m\u001b[38;5;241;43m*\u001b[39;49m\u001b[43margs\u001b[49m\u001b[43m,\u001b[49m\u001b[43m \u001b[49m\u001b[38;5;241;43m*\u001b[39;49m\u001b[38;5;241;43m*\u001b[39;49m\u001b[43mkwargs\u001b[49m\u001b[43m)\u001b[49m  \u001b[38;5;66;03m# type: ignore[func-returns-value]\u001b[39;00m\n\u001b[1;32m   1229\u001b[0m fig\u001b[38;5;241m.\u001b[39mcanvas\u001b[38;5;241m.\u001b[39mdraw_idle()  \u001b[38;5;66;03m# Need this if 'transparent=True', to reset colors.\u001b[39;00m\n\u001b[1;32m   1230\u001b[0m \u001b[38;5;28;01mreturn\u001b[39;00m res\n",
            "File \u001b[0;32m~/Desktop/T3CHFEST/US-Elections/.venv/lib/python3.9/site-packages/matplotlib/figure.py:3395\u001b[0m, in \u001b[0;36mFigure.savefig\u001b[0;34m(self, fname, transparent, **kwargs)\u001b[0m\n\u001b[1;32m   3393\u001b[0m     \u001b[38;5;28;01mfor\u001b[39;00m ax \u001b[38;5;129;01min\u001b[39;00m \u001b[38;5;28mself\u001b[39m\u001b[38;5;241m.\u001b[39maxes:\n\u001b[1;32m   3394\u001b[0m         _recursively_make_axes_transparent(stack, ax)\n\u001b[0;32m-> 3395\u001b[0m \u001b[38;5;28;43mself\u001b[39;49m\u001b[38;5;241;43m.\u001b[39;49m\u001b[43mcanvas\u001b[49m\u001b[38;5;241;43m.\u001b[39;49m\u001b[43mprint_figure\u001b[49m\u001b[43m(\u001b[49m\u001b[43mfname\u001b[49m\u001b[43m,\u001b[49m\u001b[43m \u001b[49m\u001b[38;5;241;43m*\u001b[39;49m\u001b[38;5;241;43m*\u001b[39;49m\u001b[43mkwargs\u001b[49m\u001b[43m)\u001b[49m\n",
            "File \u001b[0;32m~/Desktop/T3CHFEST/US-Elections/.venv/lib/python3.9/site-packages/matplotlib/backend_bases.py:2204\u001b[0m, in \u001b[0;36mFigureCanvasBase.print_figure\u001b[0;34m(self, filename, dpi, facecolor, edgecolor, orientation, format, bbox_inches, pad_inches, bbox_extra_artists, backend, **kwargs)\u001b[0m\n\u001b[1;32m   2200\u001b[0m \u001b[38;5;28;01mtry\u001b[39;00m:\n\u001b[1;32m   2201\u001b[0m     \u001b[38;5;66;03m# _get_renderer may change the figure dpi (as vector formats\u001b[39;00m\n\u001b[1;32m   2202\u001b[0m     \u001b[38;5;66;03m# force the figure dpi to 72), so we need to set it again here.\u001b[39;00m\n\u001b[1;32m   2203\u001b[0m     \u001b[38;5;28;01mwith\u001b[39;00m cbook\u001b[38;5;241m.\u001b[39m_setattr_cm(\u001b[38;5;28mself\u001b[39m\u001b[38;5;241m.\u001b[39mfigure, dpi\u001b[38;5;241m=\u001b[39mdpi):\n\u001b[0;32m-> 2204\u001b[0m         result \u001b[38;5;241m=\u001b[39m \u001b[43mprint_method\u001b[49m\u001b[43m(\u001b[49m\n\u001b[1;32m   2205\u001b[0m \u001b[43m            \u001b[49m\u001b[43mfilename\u001b[49m\u001b[43m,\u001b[49m\n\u001b[1;32m   2206\u001b[0m \u001b[43m            \u001b[49m\u001b[43mfacecolor\u001b[49m\u001b[38;5;241;43m=\u001b[39;49m\u001b[43mfacecolor\u001b[49m\u001b[43m,\u001b[49m\n\u001b[1;32m   2207\u001b[0m \u001b[43m            \u001b[49m\u001b[43medgecolor\u001b[49m\u001b[38;5;241;43m=\u001b[39;49m\u001b[43medgecolor\u001b[49m\u001b[43m,\u001b[49m\n\u001b[1;32m   2208\u001b[0m \u001b[43m            \u001b[49m\u001b[43morientation\u001b[49m\u001b[38;5;241;43m=\u001b[39;49m\u001b[43morientation\u001b[49m\u001b[43m,\u001b[49m\n\u001b[1;32m   2209\u001b[0m \u001b[43m            \u001b[49m\u001b[43mbbox_inches_restore\u001b[49m\u001b[38;5;241;43m=\u001b[39;49m\u001b[43m_bbox_inches_restore\u001b[49m\u001b[43m,\u001b[49m\n\u001b[1;32m   2210\u001b[0m \u001b[43m            \u001b[49m\u001b[38;5;241;43m*\u001b[39;49m\u001b[38;5;241;43m*\u001b[39;49m\u001b[43mkwargs\u001b[49m\u001b[43m)\u001b[49m\n\u001b[1;32m   2211\u001b[0m \u001b[38;5;28;01mfinally\u001b[39;00m:\n\u001b[1;32m   2212\u001b[0m     \u001b[38;5;28;01mif\u001b[39;00m bbox_inches \u001b[38;5;129;01mand\u001b[39;00m restore_bbox:\n",
            "File \u001b[0;32m~/Desktop/T3CHFEST/US-Elections/.venv/lib/python3.9/site-packages/matplotlib/backend_bases.py:2054\u001b[0m, in \u001b[0;36mFigureCanvasBase._switch_canvas_and_return_print_method.<locals>.<lambda>\u001b[0;34m(*args, **kwargs)\u001b[0m\n\u001b[1;32m   2050\u001b[0m     optional_kws \u001b[38;5;241m=\u001b[39m {  \u001b[38;5;66;03m# Passed by print_figure for other renderers.\u001b[39;00m\n\u001b[1;32m   2051\u001b[0m         \u001b[38;5;124m\"\u001b[39m\u001b[38;5;124mdpi\u001b[39m\u001b[38;5;124m\"\u001b[39m, \u001b[38;5;124m\"\u001b[39m\u001b[38;5;124mfacecolor\u001b[39m\u001b[38;5;124m\"\u001b[39m, \u001b[38;5;124m\"\u001b[39m\u001b[38;5;124medgecolor\u001b[39m\u001b[38;5;124m\"\u001b[39m, \u001b[38;5;124m\"\u001b[39m\u001b[38;5;124morientation\u001b[39m\u001b[38;5;124m\"\u001b[39m,\n\u001b[1;32m   2052\u001b[0m         \u001b[38;5;124m\"\u001b[39m\u001b[38;5;124mbbox_inches_restore\u001b[39m\u001b[38;5;124m\"\u001b[39m}\n\u001b[1;32m   2053\u001b[0m     skip \u001b[38;5;241m=\u001b[39m optional_kws \u001b[38;5;241m-\u001b[39m {\u001b[38;5;241m*\u001b[39minspect\u001b[38;5;241m.\u001b[39msignature(meth)\u001b[38;5;241m.\u001b[39mparameters}\n\u001b[0;32m-> 2054\u001b[0m     print_method \u001b[38;5;241m=\u001b[39m functools\u001b[38;5;241m.\u001b[39mwraps(meth)(\u001b[38;5;28;01mlambda\u001b[39;00m \u001b[38;5;241m*\u001b[39margs, \u001b[38;5;241m*\u001b[39m\u001b[38;5;241m*\u001b[39mkwargs: \u001b[43mmeth\u001b[49m\u001b[43m(\u001b[49m\n\u001b[1;32m   2055\u001b[0m \u001b[43m        \u001b[49m\u001b[38;5;241;43m*\u001b[39;49m\u001b[43margs\u001b[49m\u001b[43m,\u001b[49m\u001b[43m \u001b[49m\u001b[38;5;241;43m*\u001b[39;49m\u001b[38;5;241;43m*\u001b[39;49m\u001b[43m{\u001b[49m\u001b[43mk\u001b[49m\u001b[43m:\u001b[49m\u001b[43m \u001b[49m\u001b[43mv\u001b[49m\u001b[43m \u001b[49m\u001b[38;5;28;43;01mfor\u001b[39;49;00m\u001b[43m \u001b[49m\u001b[43mk\u001b[49m\u001b[43m,\u001b[49m\u001b[43m \u001b[49m\u001b[43mv\u001b[49m\u001b[43m \u001b[49m\u001b[38;5;129;43;01min\u001b[39;49;00m\u001b[43m \u001b[49m\u001b[43mkwargs\u001b[49m\u001b[38;5;241;43m.\u001b[39;49m\u001b[43mitems\u001b[49m\u001b[43m(\u001b[49m\u001b[43m)\u001b[49m\u001b[43m \u001b[49m\u001b[38;5;28;43;01mif\u001b[39;49;00m\u001b[43m \u001b[49m\u001b[43mk\u001b[49m\u001b[43m \u001b[49m\u001b[38;5;129;43;01mnot\u001b[39;49;00m\u001b[43m \u001b[49m\u001b[38;5;129;43;01min\u001b[39;49;00m\u001b[43m \u001b[49m\u001b[43mskip\u001b[49m\u001b[43m}\u001b[49m\u001b[43m)\u001b[49m)\n\u001b[1;32m   2056\u001b[0m \u001b[38;5;28;01melse\u001b[39;00m:  \u001b[38;5;66;03m# Let third-parties do as they see fit.\u001b[39;00m\n\u001b[1;32m   2057\u001b[0m     print_method \u001b[38;5;241m=\u001b[39m meth\n",
            "File \u001b[0;32m~/Desktop/T3CHFEST/US-Elections/.venv/lib/python3.9/site-packages/matplotlib/backends/backend_agg.py:496\u001b[0m, in \u001b[0;36mFigureCanvasAgg.print_png\u001b[0;34m(self, filename_or_obj, metadata, pil_kwargs)\u001b[0m\n\u001b[1;32m    449\u001b[0m \u001b[38;5;28;01mdef\u001b[39;00m\u001b[38;5;250m \u001b[39m\u001b[38;5;21mprint_png\u001b[39m(\u001b[38;5;28mself\u001b[39m, filename_or_obj, \u001b[38;5;241m*\u001b[39m, metadata\u001b[38;5;241m=\u001b[39m\u001b[38;5;28;01mNone\u001b[39;00m, pil_kwargs\u001b[38;5;241m=\u001b[39m\u001b[38;5;28;01mNone\u001b[39;00m):\n\u001b[1;32m    450\u001b[0m \u001b[38;5;250m    \u001b[39m\u001b[38;5;124;03m\"\"\"\u001b[39;00m\n\u001b[1;32m    451\u001b[0m \u001b[38;5;124;03m    Write the figure to a PNG file.\u001b[39;00m\n\u001b[1;32m    452\u001b[0m \n\u001b[0;32m   (...)\u001b[0m\n\u001b[1;32m    494\u001b[0m \u001b[38;5;124;03m        *metadata*, including the default 'Software' key.\u001b[39;00m\n\u001b[1;32m    495\u001b[0m \u001b[38;5;124;03m    \"\"\"\u001b[39;00m\n\u001b[0;32m--> 496\u001b[0m     \u001b[38;5;28;43mself\u001b[39;49m\u001b[38;5;241;43m.\u001b[39;49m\u001b[43m_print_pil\u001b[49m\u001b[43m(\u001b[49m\u001b[43mfilename_or_obj\u001b[49m\u001b[43m,\u001b[49m\u001b[43m \u001b[49m\u001b[38;5;124;43m\"\u001b[39;49m\u001b[38;5;124;43mpng\u001b[39;49m\u001b[38;5;124;43m\"\u001b[39;49m\u001b[43m,\u001b[49m\u001b[43m \u001b[49m\u001b[43mpil_kwargs\u001b[49m\u001b[43m,\u001b[49m\u001b[43m \u001b[49m\u001b[43mmetadata\u001b[49m\u001b[43m)\u001b[49m\n",
            "File \u001b[0;32m~/Desktop/T3CHFEST/US-Elections/.venv/lib/python3.9/site-packages/matplotlib/backends/backend_agg.py:445\u001b[0m, in \u001b[0;36mFigureCanvasAgg._print_pil\u001b[0;34m(self, filename_or_obj, fmt, pil_kwargs, metadata)\u001b[0m\n\u001b[1;32m    440\u001b[0m \u001b[38;5;250m\u001b[39m\u001b[38;5;124;03m\"\"\"\u001b[39;00m\n\u001b[1;32m    441\u001b[0m \u001b[38;5;124;03mDraw the canvas, then save it using `.image.imsave` (to which\u001b[39;00m\n\u001b[1;32m    442\u001b[0m \u001b[38;5;124;03m*pil_kwargs* and *metadata* are forwarded).\u001b[39;00m\n\u001b[1;32m    443\u001b[0m \u001b[38;5;124;03m\"\"\"\u001b[39;00m\n\u001b[1;32m    444\u001b[0m FigureCanvasAgg\u001b[38;5;241m.\u001b[39mdraw(\u001b[38;5;28mself\u001b[39m)\n\u001b[0;32m--> 445\u001b[0m \u001b[43mmpl\u001b[49m\u001b[38;5;241;43m.\u001b[39;49m\u001b[43mimage\u001b[49m\u001b[38;5;241;43m.\u001b[39;49m\u001b[43mimsave\u001b[49m\u001b[43m(\u001b[49m\n\u001b[1;32m    446\u001b[0m \u001b[43m    \u001b[49m\u001b[43mfilename_or_obj\u001b[49m\u001b[43m,\u001b[49m\u001b[43m \u001b[49m\u001b[38;5;28;43mself\u001b[39;49m\u001b[38;5;241;43m.\u001b[39;49m\u001b[43mbuffer_rgba\u001b[49m\u001b[43m(\u001b[49m\u001b[43m)\u001b[49m\u001b[43m,\u001b[49m\u001b[43m \u001b[49m\u001b[38;5;28;43mformat\u001b[39;49m\u001b[38;5;241;43m=\u001b[39;49m\u001b[43mfmt\u001b[49m\u001b[43m,\u001b[49m\u001b[43m \u001b[49m\u001b[43morigin\u001b[49m\u001b[38;5;241;43m=\u001b[39;49m\u001b[38;5;124;43m\"\u001b[39;49m\u001b[38;5;124;43mupper\u001b[39;49m\u001b[38;5;124;43m\"\u001b[39;49m\u001b[43m,\u001b[49m\n\u001b[1;32m    447\u001b[0m \u001b[43m    \u001b[49m\u001b[43mdpi\u001b[49m\u001b[38;5;241;43m=\u001b[39;49m\u001b[38;5;28;43mself\u001b[39;49m\u001b[38;5;241;43m.\u001b[39;49m\u001b[43mfigure\u001b[49m\u001b[38;5;241;43m.\u001b[39;49m\u001b[43mdpi\u001b[49m\u001b[43m,\u001b[49m\u001b[43m \u001b[49m\u001b[43mmetadata\u001b[49m\u001b[38;5;241;43m=\u001b[39;49m\u001b[43mmetadata\u001b[49m\u001b[43m,\u001b[49m\u001b[43m \u001b[49m\u001b[43mpil_kwargs\u001b[49m\u001b[38;5;241;43m=\u001b[39;49m\u001b[43mpil_kwargs\u001b[49m\u001b[43m)\u001b[49m\n",
            "File \u001b[0;32m~/Desktop/T3CHFEST/US-Elections/.venv/lib/python3.9/site-packages/matplotlib/image.py:1676\u001b[0m, in \u001b[0;36mimsave\u001b[0;34m(fname, arr, vmin, vmax, cmap, format, origin, dpi, metadata, pil_kwargs)\u001b[0m\n\u001b[1;32m   1674\u001b[0m pil_kwargs\u001b[38;5;241m.\u001b[39msetdefault(\u001b[38;5;124m\"\u001b[39m\u001b[38;5;124mformat\u001b[39m\u001b[38;5;124m\"\u001b[39m, \u001b[38;5;28mformat\u001b[39m)\n\u001b[1;32m   1675\u001b[0m pil_kwargs\u001b[38;5;241m.\u001b[39msetdefault(\u001b[38;5;124m\"\u001b[39m\u001b[38;5;124mdpi\u001b[39m\u001b[38;5;124m\"\u001b[39m, (dpi, dpi))\n\u001b[0;32m-> 1676\u001b[0m \u001b[43mimage\u001b[49m\u001b[38;5;241;43m.\u001b[39;49m\u001b[43msave\u001b[49m\u001b[43m(\u001b[49m\u001b[43mfname\u001b[49m\u001b[43m,\u001b[49m\u001b[43m \u001b[49m\u001b[38;5;241;43m*\u001b[39;49m\u001b[38;5;241;43m*\u001b[39;49m\u001b[43mpil_kwargs\u001b[49m\u001b[43m)\u001b[49m\n",
            "File \u001b[0;32m~/Desktop/T3CHFEST/US-Elections/.venv/lib/python3.9/site-packages/PIL/Image.py:2591\u001b[0m, in \u001b[0;36mImage.save\u001b[0;34m(self, fp, format, **params)\u001b[0m\n\u001b[1;32m   2589\u001b[0m         fp \u001b[38;5;241m=\u001b[39m builtins\u001b[38;5;241m.\u001b[39mopen(filename, \u001b[38;5;124m\"\u001b[39m\u001b[38;5;124mr+b\u001b[39m\u001b[38;5;124m\"\u001b[39m)\n\u001b[1;32m   2590\u001b[0m     \u001b[38;5;28;01melse\u001b[39;00m:\n\u001b[0;32m-> 2591\u001b[0m         fp \u001b[38;5;241m=\u001b[39m \u001b[43mbuiltins\u001b[49m\u001b[38;5;241;43m.\u001b[39;49m\u001b[43mopen\u001b[49m\u001b[43m(\u001b[49m\u001b[43mfilename\u001b[49m\u001b[43m,\u001b[49m\u001b[43m \u001b[49m\u001b[38;5;124;43m\"\u001b[39;49m\u001b[38;5;124;43mw+b\u001b[39;49m\u001b[38;5;124;43m\"\u001b[39;49m\u001b[43m)\u001b[49m\n\u001b[1;32m   2592\u001b[0m \u001b[38;5;28;01melse\u001b[39;00m:\n\u001b[1;32m   2593\u001b[0m     fp \u001b[38;5;241m=\u001b[39m cast(IO[\u001b[38;5;28mbytes\u001b[39m], fp)\n",
            "\u001b[0;31mFileNotFoundError\u001b[0m: [Errno 2] No such file or directory: '../IMAGES/pca_cumulative.png'"
          ]
        },
        {
          "data": {
            "image/png": "[encoded data removed]",
            "text/plain": [
              "<Figure size 1000x600 with 1 Axes>"
            ]
          },
          "metadata": {},
          "output_type": "display_data"
        }
      ],
      "source": [
        "# Calculamos explained variance ratio y varianza cumulativa\n",
        "explained_variance_ratio = pca.explained_variance_ratio_\n",
        "cumulative_variance = np.cumsum(explained_variance_ratio)\n",
        "\n",
        "# Crear gráfico de barras para la varianza explicada\n",
        "plt.figure(figsize=(10, 6))\n",
        "\n",
        "# Gráfico de barras para varianza explicada\n",
        "plt.bar(x=[f'PC {i+1}' for i in range(len(explained_variance_ratio))],\n",
        "        height=explained_variance_ratio * 100, color='#377eb8', alpha=0.7, label='Varianza Explicada')\n",
        "\n",
        "# Gráfico de líneas para la varianza cumulativa\n",
        "plt.plot([f'PC {i+1}' for i in range(len(cumulative_variance))],\n",
        "         cumulative_variance * 100, color='black', marker='o', label='Varianza Cumulativa')\n",
        "\n",
        "# Índice donde la varianza cumulativa está más cerca al 90%\n",
        "threshold_idx = np.argmax(cumulative_variance >= 0.90)\n",
        "\n",
        "# Añadir una cruz roja en el punto donde la varianza cumulativa es 90%\n",
        "plt.scatter([f'PC {threshold_idx+1}'], [cumulative_variance[threshold_idx] * 100],\n",
        "            color='#e41a1c', label='90% Varianza Cumulativa', marker='x', s=100)\n",
        "\n",
        "# Añadir títulos y etiquetas\n",
        "plt.title('Distribución de la varianza explicada por cada componente principal', fontsize=14)\n",
        "plt.xlabel('Componentes Principales', fontsize=12)\n",
        "plt.ylabel('Porcentaje de Varianza Explicada', fontsize=12)\n",
        "\n",
        "# Rotar las etiquetas del eje X\n",
        "plt.xticks(rotation=45, ha='right')\n",
        "\n",
        "# Añadir leyenda\n",
        "plt.legend()\n",
        "\n",
        "# Ajustar layout\n",
        "plt.tight_layout()\n",
        "\n",
        "# Eliminar los bordes y la línea negra alrededor del gráfico\n",
        "plt.gca().spines['top'].set_visible(False)\n",
        "plt.gca().spines['right'].set_visible(False)\n",
        "plt.gca().spines['left'].set_visible(False)\n",
        "plt.gca().spines['bottom'].set_visible(False)\n",
        "\n",
        "# Guardar el gráfico como PNG con fondo transparente\n",
        "plt.savefig(\"../IMAGES/pca_cumulative.png\", format=\"png\", transparent=True)\n",
        "\n",
        "# Mostrar el gráfico\n",
        "plt.show()"
      ]
    },
    {
      "cell_type": "markdown",
      "metadata": {
        "id": "3WASRcZ3Cc5o"
      },
      "source": [
        "Reducir las dimensiones de los datos permite construir modelos más simples, con menos riesgo de sobreajuste, ya que se eliminan las variables que contribuyen poco a la variación total, manteniendo solo las más relevantes.\n",
        "\n",
        "En términos prácticos, podemos **reducir nuestros datos de 25 dimensiones** (ya que originalmente teníamos 25 variables) **a 11 componentes**, preservando el 90% de la variabilidad original.\n",
        "\n",
        "Por otro lado, vemos colocando el ratón sobre el bar plot que los cinco atributos que más variabilidad explican sobre el dataset (los cinco que más contribuyen al PC1) son:\n",
        "- white_not_hispanic_2019\n",
        "- avg_family_size_2019\n",
        "- median_age_2019\n",
        "- white_2019\n",
        "- households_speak_limited_english\n",
        "\n",
        "Estas parecen ser variables que tienen mucha fluctuación dependiendo del condado, afectando también los resultados electorales. El siguiente gráfico muestra todas las variables que contribuyen al primer componente principal, y en qué medida.\n"
      ]
    },
    {
      "cell_type": "code",
      "execution_count": null,
      "metadata": {
        "id": "7ADds-mtChQ1"
      },
      "outputs": [],
      "source": [
        "# Explained variance ratio for PCA\n",
        "explained_variance_ratio = pca.explained_variance_ratio_\n",
        "\n",
        "# Loadings (how much each variable contributes to each component)\n",
        "loadings = pca.components_.T * np.sqrt(explained_variance_ratio)\n",
        "\n",
        "# Create a DataFrame for better handling of the loadings\n",
        "loadings_df = pd.DataFrame(loadings, columns=[f'PC{i+1}' for i in range(pca.n_components_)], index=data_unsupervised.columns)\n",
        "\n",
        "# Calculate mean contribution for PC1\n",
        "mean_contribution = loadings_df['PC1'].abs().mean()\n",
        "\n",
        "# Create an interactive bar plot using Plotly\n",
        "fig = go.Figure()\n",
        "\n",
        "# Add bars for PC1 contributions\n",
        "fig.add_trace(go.Bar(\n",
        "    x=loadings_df['PC1'].abs().sort_values(ascending=False).index,  # Variables\n",
        "    y=loadings_df['PC1'].abs().sort_values(ascending=False),         # Loadings (absolute)\n",
        "    name='PC1 Contribución',\n",
        "    marker_color='#377eb8',\n",
        "    opacity=0.7\n",
        "))\n",
        "\n",
        "# Add a horizontal dashed line for mean contribution\n",
        "fig.add_hline(y=mean_contribution, line_dash=\"dash\", line_color=\"#e41a1c\",\n",
        "              annotation_text=\"Contribución Media\", annotation_position=\"top right\")\n",
        "\n",
        "# Customize layout\n",
        "fig.update_layout(\n",
        "    title='Contribución de Variables a PC1',\n",
        "    xaxis_title='Variables',\n",
        "    yaxis_title='Contribución (%)',\n",
        "    xaxis_tickangle=-45,  # Rotate x labels\n",
        "    showlegend=True,\n",
        "    template='plotly_white'\n",
        ")\n",
        "\n",
        "# Show the interactive plot\n",
        "fig.show()"
      ]
    },
    {
      "cell_type": "code",
      "execution_count": null,
      "metadata": {},
      "outputs": [],
      "source": [
        "# Explained variance ratio for PCA\n",
        "explained_variance_ratio = pca.explained_variance_ratio_\n",
        "\n",
        "# Loadings (how much each variable contributes to each component)\n",
        "loadings = pca.components_.T * np.sqrt(explained_variance_ratio)\n",
        "\n",
        "# Crear un DataFrame para manejar mejor los \"loadings\"\n",
        "loadings_df = pd.DataFrame(loadings, columns=[f'PC{i+1}' for i in range(pca.n_components_)], index=data_unsupervised.columns)\n",
        "\n",
        "# Calcular la contribución media para PC1\n",
        "mean_contribution = loadings_df['PC1'].abs().mean()\n",
        "\n",
        "# Ordenar las contribuciones de PC1 de mayor a menor\n",
        "pc1_contributions = loadings_df['PC1'].abs().sort_values(ascending=False)\n",
        "\n",
        "# Crear el gráfico de barras\n",
        "plt.figure(figsize=(10, 6))\n",
        "plt.bar(pc1_contributions.index, pc1_contributions.values, color='#377eb8', alpha=0.7)\n",
        "\n",
        "# Añadir una línea horizontal para la contribución media\n",
        "plt.axhline(y=mean_contribution, color='#e41a1c', linestyle='--', label='Contribución Media')\n",
        "\n",
        "# Añadir etiquetas y título\n",
        "plt.title('Contribución de Variables a PC1', fontsize=14)\n",
        "plt.xlabel('Variables', fontsize=12)\n",
        "plt.ylabel('Contribución (%)', fontsize=12)\n",
        "\n",
        "# Rotar las etiquetas del eje X\n",
        "plt.xticks(rotation=45, ha='right')\n",
        "\n",
        "# Añadir la leyenda\n",
        "plt.legend()\n",
        "\n",
        "# Ajustar el layout para que las etiquetas no se solapen\n",
        "plt.tight_layout()\n",
        "\n",
        "# Eliminar los bordes y la línea negra alrededor del gráfico\n",
        "plt.gca().spines['top'].set_visible(False)\n",
        "plt.gca().spines['right'].set_visible(False)\n",
        "plt.gca().spines['left'].set_visible(False)\n",
        "plt.gca().spines['bottom'].set_visible(False)\n",
        "\n",
        "# Guardar el gráfico como PNG con fondo transparente\n",
        "plt.savefig(\"../IMAGES/pca_variables_pc1.png\", format=\"png\", transparent=True)\n",
        "\n",
        "# Mostrar el gráfico\n",
        "plt.show()"
      ]
    },
    {
      "cell_type": "markdown",
      "metadata": {
        "id": "6AVCj7nvCgpX"
      },
      "source": [
        "El PC1, el componente que más variabilidad de los datos explica, refleja tendencias demográficas y socioeconómicas en los condados. Aunque las que mencionábamos antes son las variables que cuyos cambios generan más fluctuaciones sobre el componente PCA1, habría que plantearse también si generan un cambio positivo o negativo sobre el mismo, vamos a verlo:"
      ]
    },
    {
      "cell_type": "code",
      "execution_count": null,
      "metadata": {
        "id": "g_4CyhKBCoK_"
      },
      "outputs": [],
      "source": [
        "plt.figure(figsize=(10, 6))\n",
        "loadings_df['PC1'].plot(kind='bar', color='#377eb8',  width=0.8, alpha=0.7)\n",
        "plt.title('Loadings de las Variables en PC1')\n",
        "plt.ylabel('Loading')\n",
        "plt.xlabel('Variables')\n",
        "plt.axhline(0, color='black', linewidth=1)  # Line at 0 to separate positive and negative loadings\n",
        "plt.xticks(rotation=45, ha='right')\n",
        "plt.tight_layout()\n",
        "\n",
        "# Eliminar los bordes y la línea negra alrededor del gráfico\n",
        "plt.gca().spines['top'].set_visible(False)\n",
        "plt.gca().spines['right'].set_visible(False)\n",
        "plt.gca().spines['left'].set_visible(False)\n",
        "plt.gca().spines['bottom'].set_visible(False)\n",
        "\n",
        "# Guardar el gráfico como PNG con fondo transparente\n",
        "plt.savefig(\"../IMAGES/pca_loadings_pc1.png\", format=\"png\", transparent=True)\n",
        "\n",
        "plt.show()"
      ]
    },
    {
      "cell_type": "markdown",
      "metadata": {
        "id": "eyRb2lFCCpKP"
      },
      "source": [
        "Basado en las cargas observadas en este gráfico:\n",
        "\n",
        "* PC1 está positivamente correlacionado con mayor porcentaje de población blanca no hispana (*white_not_hispanic_2019*), edad mayor (*age_over_65_2019*), y familias más grandes (*avg_family_size_2019*).\n",
        "\n",
        "* Está negativamente correlacionado con el porcentaje de población hispana (*hispanic_2019*), personas que hablan inglés limitado (*households_speak_limited_english_2019*), y tasa de desempleo (*unemployment_rate_2019*).\n",
        "\n",
        "En resumen, PC1 parece estar diferenciando condados en función de sus características demográficas y económicas, como la composición racial, el nivel de inglés, y la tasa de desempleo."
      ]
    },
    {
      "cell_type": "code",
      "execution_count": null,
      "metadata": {
        "id": "8MUzoXzmCvkl"
      },
      "outputs": [],
      "source": [
        "# Scale factor for the arrows\n",
        "arrow_scale = 18\n",
        "font_size = 10\n",
        "\n",
        "# Create the scatter plot\n",
        "plt.figure(figsize=(10, 8))\n",
        "plt.scatter(pca_df['PC1'], pca_df['PC2'], c='#377eb8', alpha=0.5, label=\"Condados\")\n",
        "\n",
        "# Add title and labels\n",
        "plt.title('PCA: Dos primeros componentes principales')\n",
        "plt.xlabel('PCA1')\n",
        "plt.ylabel('PCA2')\n",
        "\n",
        "# Plot the arrows without text\n",
        "for component_1, component_2 in zip(pca.components_[0], pca.components_[1]):\n",
        "    plt.arrow(0, 0, component_1 * arrow_scale, component_2 * arrow_scale,\n",
        "              color='#e41a1c', head_width=0.3, head_length=0.5)\n",
        "    \n",
        "# Plot the arrows with text\n",
        "for i, (component_1, component_2) in enumerate(zip(pca.components_[0], pca.components_[1])):\n",
        "    plt.arrow(0, 0, component_1 * arrow_scale, component_2 * arrow_scale,\n",
        "              color='#e41a1c', head_width=0.3, head_length=0.5)\n",
        "    plt.text(component_1 * arrow_scale * 1.3, component_2 * arrow_scale * 1.3,\n",
        "             feature_names[i], color='black', ha='center', va='center', fontsize=font_size)\n",
        "\n",
        "# Eliminar los bordes y la línea negra alrededor del gráfico\n",
        "plt.gca().spines['top'].set_visible(False)\n",
        "plt.gca().spines['right'].set_visible(False)\n",
        "plt.gca().spines['left'].set_visible(False)\n",
        "plt.gca().spines['bottom'].set_visible(False)\n",
        "\n",
        "# Guardar el gráfico como PNG con fondo transparente\n",
        "plt.savefig(\"../IMAGES/pca_pc1_pc2.png\", format=\"png\", transparent=True)\n",
        "\n",
        "# Add grid for better readability\n",
        "plt.grid(True)\n",
        "\n",
        "# Display the improved plot\n",
        "plt.legend()\n",
        "plt.show()"
      ]
    },
    {
      "cell_type": "markdown",
      "metadata": {
        "id": "_UGcekNqCvIM"
      },
      "source": [
        "Si lo vemos en el anterior diagrama de dispersión, podríamos asumir que los condados caracterizados por un mayor porcentaje de población blanca, familias más grandes, mayor porcentaje de militares y población más envejecida se encuentran en el cuadrante positivo del mapa (ya que tienen valores altos de variables que tienen carga positiva).\n",
        "\n",
        "Por otro lado, en el cuadrante izquierdo se encuentran condados con mayores tasas de paro, familias más pequeñas, más población hispana y con más población que tiene un nivel de inglés limitado."
      ]
    }
  ],
  "metadata": {
    "colab": {
      "provenance": [],
      "toc_visible": true
    },
    "kernelspec": {
      "display_name": ".venv",
      "language": "python",
      "name": "python3"
    },
    "language_info": {
      "codemirror_mode": {
        "name": "ipython",
        "version": 3
      },
      "file_extension": ".py",
      "mimetype": "text/x-python",
      "name": "python",
      "nbconvert_exporter": "python",
      "pygments_lexer": "ipython3",
      "version": "3.9.6"
    }
  },
  "nbformat": 4,
  "nbformat_minor": 0
}
