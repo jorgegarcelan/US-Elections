{
 "cells": [
  {
   "cell_type": "markdown",
   "metadata": {},
   "source": [
    "## 📊 Simulación"
   ]
  },
  {
   "cell_type": "markdown",
   "metadata": {},
   "source": [
    "🧑‍💻 Lucía Cordero | Jorge Garcelán"
   ]
  },
  {
   "cell_type": "markdown",
   "metadata": {},
   "source": [
    "![Election Results](https://elordenmundial.com/wp-content/uploads/2020/10/editable-portada-especial-.png)\n"
   ]
  },
  {
   "cell_type": "markdown",
   "metadata": {},
   "source": [
    "<div class=\"warning\" style='padding:0.1em; border-left: 4px solid #17a2b8; background-color:#e8f8ff;'>\n",
    "<span>\n",
    "<p style='margin-top:1em; margin-left:1em; text-align:left'>\n",
    "<b>💡Interpretación de la simulación</b></p>\n",
    "<p style='margin-left:1em;'>\n",
    "Imaginemos que estamos en el día de las elecciones y nos van llegando datos de condados (equivalentes a dataset de train) y queremos hacer un forecast de cómo van a acabar las elecciones, es decir, hacer un forecast de los condados que todavía no tenemos los datos (test). En ese sentido, podríamos hacer un modelo con los datos que sí tenemos (train) y predecir los condados que todavía no tenemos (test). Y así podemos repetir el proceso N veces y crear una simulación.\n",
    "</p>\n",
    "</span>\n",
    "</div>"
   ]
  },
  {
   "cell_type": "markdown",
   "metadata": {},
   "source": [
    "## Libraries"
   ]
  },
  {
   "cell_type": "code",
   "execution_count": 71,
   "metadata": {},
   "outputs": [],
   "source": [
    "import pandas as pd\n",
    "from pandas import read_csv\n",
    "import numpy as np\n",
    "from sklearn.linear_model import LinearRegression\n",
    "from sklearn.ensemble import RandomForestRegressor\n",
    "from sklearn.neighbors import KNeighborsRegressor\n",
    "from sklearn.model_selection import train_test_split\n",
    "import json\n",
    "import plotly.express as px\n",
    "import plotly.graph_objects as go\n",
    "import seaborn as sns\n",
    "import matplotlib.pyplot as plt\n",
    "from scipy.stats import gaussian_kde"
   ]
  },
  {
   "cell_type": "markdown",
   "metadata": {},
   "source": [
    "## Load data"
   ]
  },
  {
   "cell_type": "code",
   "execution_count": 72,
   "metadata": {},
   "outputs": [],
   "source": [
    "CENSUS_YEAR = 2023\n",
    "ELECTORAL_YEAR = CENSUS_YEAR + 1\n"
   ]
  },
  {
   "cell_type": "code",
   "execution_count": 73,
   "metadata": {},
   "outputs": [],
   "source": [
    "def load_seats_data(path, state_to_code):\n",
    "    # Cargar datos\n",
    "    seats_data = pd.read_csv(path, header=0, sep=\",\")\n",
    "\n",
    "    return seats_data"
   ]
  },
  {
   "cell_type": "code",
   "execution_count": 74,
   "metadata": {},
   "outputs": [],
   "source": [
    "# Cargar codigo de estados\n",
    "with open(\"data/state_to_code.json\", \"r\") as file:\n",
    "    state_to_code = json.load(file)\n",
    "\n",
    "\n",
    "# Cargar datos de escaños por estado\n",
    "seats_data = load_seats_data(f\"data/seats.csv\", state_to_code)\n",
    "\n",
    "# Cargar datos de state, county, fips\n",
    "state_fips_county = read_csv('data/state_fips_county.csv')\n",
    "state_names = state_fips_county['state']\n",
    "fips_codes = state_fips_county['fips']\n",
    "county_names = state_fips_county['county']"
   ]
  },
  {
   "cell_type": "markdown",
   "metadata": {},
   "source": [
    "### 2016"
   ]
  },
  {
   "cell_type": "code",
   "execution_count": 75,
   "metadata": {},
   "outputs": [],
   "source": [
    "# Cargar datos\n",
    "data_2016 = read_csv(f\"data/final_data_{2016}.csv\")"
   ]
  },
  {
   "cell_type": "code",
   "execution_count": 76,
   "metadata": {},
   "outputs": [
    {
     "data": {
      "text/html": [
       "<div>\n",
       "<style scoped>\n",
       "    .dataframe tbody tr th:only-of-type {\n",
       "        vertical-align: middle;\n",
       "    }\n",
       "\n",
       "    .dataframe tbody tr th {\n",
       "        vertical-align: top;\n",
       "    }\n",
       "\n",
       "    .dataframe thead th {\n",
       "        text-align: right;\n",
       "    }\n",
       "</style>\n",
       "<table border=\"1\" class=\"dataframe\">\n",
       "  <thead>\n",
       "    <tr style=\"text-align: right;\">\n",
       "      <th></th>\n",
       "      <th>state</th>\n",
       "      <th>state_code</th>\n",
       "      <th>ElectoralVotes2024</th>\n",
       "      <th>Votes_dem</th>\n",
       "      <th>Votes_gop</th>\n",
       "      <th>Votes_other</th>\n",
       "      <th>Votes_total</th>\n",
       "      <th>Per_dem_2016</th>\n",
       "      <th>Per_gop_2016</th>\n",
       "      <th>Winner</th>\n",
       "      <th>Difference</th>\n",
       "      <th>Status</th>\n",
       "    </tr>\n",
       "  </thead>\n",
       "  <tbody>\n",
       "    <tr>\n",
       "      <th>0</th>\n",
       "      <td>Alabama</td>\n",
       "      <td>AL</td>\n",
       "      <td>9</td>\n",
       "      <td>718084.0</td>\n",
       "      <td>1306925.0</td>\n",
       "      <td>53156.0</td>\n",
       "      <td>2078165.0</td>\n",
       "      <td>0.345538</td>\n",
       "      <td>0.628884</td>\n",
       "      <td>gop</td>\n",
       "      <td>-28.334661</td>\n",
       "      <td>Safe Republican</td>\n",
       "    </tr>\n",
       "    <tr>\n",
       "      <th>1</th>\n",
       "      <td>Arizona</td>\n",
       "      <td>AZ</td>\n",
       "      <td>11</td>\n",
       "      <td>936250.0</td>\n",
       "      <td>1021154.0</td>\n",
       "      <td>105406.0</td>\n",
       "      <td>2062810.0</td>\n",
       "      <td>0.453871</td>\n",
       "      <td>0.495031</td>\n",
       "      <td>gop</td>\n",
       "      <td>-4.115939</td>\n",
       "      <td>Likely Republican</td>\n",
       "    </tr>\n",
       "    <tr>\n",
       "      <th>2</th>\n",
       "      <td>Arkansas</td>\n",
       "      <td>AR</td>\n",
       "      <td>6</td>\n",
       "      <td>378729.0</td>\n",
       "      <td>677904.0</td>\n",
       "      <td>51982.0</td>\n",
       "      <td>1108615.0</td>\n",
       "      <td>0.341624</td>\n",
       "      <td>0.611487</td>\n",
       "      <td>gop</td>\n",
       "      <td>-26.986375</td>\n",
       "      <td>Safe Republican</td>\n",
       "    </tr>\n",
       "    <tr>\n",
       "      <th>3</th>\n",
       "      <td>California</td>\n",
       "      <td>CA</td>\n",
       "      <td>54</td>\n",
       "      <td>7362490.0</td>\n",
       "      <td>3916209.0</td>\n",
       "      <td>675618.0</td>\n",
       "      <td>11954317.0</td>\n",
       "      <td>0.615885</td>\n",
       "      <td>0.327598</td>\n",
       "      <td>dem</td>\n",
       "      <td>28.828757</td>\n",
       "      <td>Safe Democrat</td>\n",
       "    </tr>\n",
       "    <tr>\n",
       "      <th>4</th>\n",
       "      <td>Colorado</td>\n",
       "      <td>CO</td>\n",
       "      <td>10</td>\n",
       "      <td>1212209.0</td>\n",
       "      <td>1137455.0</td>\n",
       "      <td>214521.0</td>\n",
       "      <td>2564185.0</td>\n",
       "      <td>0.472746</td>\n",
       "      <td>0.443593</td>\n",
       "      <td>dem</td>\n",
       "      <td>2.915312</td>\n",
       "      <td>Likely Democrat</td>\n",
       "    </tr>\n",
       "    <tr>\n",
       "      <th>5</th>\n",
       "      <td>Connecticut</td>\n",
       "      <td>CT</td>\n",
       "      <td>7</td>\n",
       "      <td>884432.0</td>\n",
       "      <td>668266.0</td>\n",
       "      <td>70844.0</td>\n",
       "      <td>1623542.0</td>\n",
       "      <td>0.544755</td>\n",
       "      <td>0.411610</td>\n",
       "      <td>dem</td>\n",
       "      <td>13.314469</td>\n",
       "      <td>Safe Democrat</td>\n",
       "    </tr>\n",
       "    <tr>\n",
       "      <th>6</th>\n",
       "      <td>District of Columbia</td>\n",
       "      <td>DC</td>\n",
       "      <td>3</td>\n",
       "      <td>260223.0</td>\n",
       "      <td>11553.0</td>\n",
       "      <td>8496.0</td>\n",
       "      <td>280272.0</td>\n",
       "      <td>0.928466</td>\n",
       "      <td>0.041221</td>\n",
       "      <td>dem</td>\n",
       "      <td>88.724525</td>\n",
       "      <td>Safe Democrat</td>\n",
       "    </tr>\n",
       "    <tr>\n",
       "      <th>7</th>\n",
       "      <td>Delaware</td>\n",
       "      <td>DE</td>\n",
       "      <td>3</td>\n",
       "      <td>235581.0</td>\n",
       "      <td>185103.0</td>\n",
       "      <td>20851.0</td>\n",
       "      <td>441535.0</td>\n",
       "      <td>0.533550</td>\n",
       "      <td>0.419226</td>\n",
       "      <td>dem</td>\n",
       "      <td>11.432389</td>\n",
       "      <td>Safe Democrat</td>\n",
       "    </tr>\n",
       "    <tr>\n",
       "      <th>8</th>\n",
       "      <td>Florida</td>\n",
       "      <td>FL</td>\n",
       "      <td>30</td>\n",
       "      <td>4485745.0</td>\n",
       "      <td>4605515.0</td>\n",
       "      <td>295490.0</td>\n",
       "      <td>9386750.0</td>\n",
       "      <td>0.477881</td>\n",
       "      <td>0.490640</td>\n",
       "      <td>gop</td>\n",
       "      <td>-1.275947</td>\n",
       "      <td>Toss-Up</td>\n",
       "    </tr>\n",
       "    <tr>\n",
       "      <th>9</th>\n",
       "      <td>Georgia</td>\n",
       "      <td>GA</td>\n",
       "      <td>16</td>\n",
       "      <td>1837300.0</td>\n",
       "      <td>2068623.0</td>\n",
       "      <td>123641.0</td>\n",
       "      <td>4029564.0</td>\n",
       "      <td>0.455955</td>\n",
       "      <td>0.513361</td>\n",
       "      <td>gop</td>\n",
       "      <td>-5.740646</td>\n",
       "      <td>Likely Republican</td>\n",
       "    </tr>\n",
       "    <tr>\n",
       "      <th>10</th>\n",
       "      <td>Hawaii</td>\n",
       "      <td>HI</td>\n",
       "      <td>4</td>\n",
       "      <td>266827.0</td>\n",
       "      <td>128815.0</td>\n",
       "      <td>33183.0</td>\n",
       "      <td>428825.0</td>\n",
       "      <td>0.622228</td>\n",
       "      <td>0.300391</td>\n",
       "      <td>dem</td>\n",
       "      <td>32.183758</td>\n",
       "      <td>Safe Democrat</td>\n",
       "    </tr>\n",
       "    <tr>\n",
       "      <th>11</th>\n",
       "      <td>Idaho</td>\n",
       "      <td>ID</td>\n",
       "      <td>4</td>\n",
       "      <td>189677.0</td>\n",
       "      <td>407199.0</td>\n",
       "      <td>91359.0</td>\n",
       "      <td>688235.0</td>\n",
       "      <td>0.275599</td>\n",
       "      <td>0.591657</td>\n",
       "      <td>gop</td>\n",
       "      <td>-31.605774</td>\n",
       "      <td>Safe Republican</td>\n",
       "    </tr>\n",
       "    <tr>\n",
       "      <th>12</th>\n",
       "      <td>Illinois</td>\n",
       "      <td>IL</td>\n",
       "      <td>19</td>\n",
       "      <td>2977498.0</td>\n",
       "      <td>2118179.0</td>\n",
       "      <td>278603.0</td>\n",
       "      <td>5374280.0</td>\n",
       "      <td>0.554027</td>\n",
       "      <td>0.394133</td>\n",
       "      <td>dem</td>\n",
       "      <td>15.989472</td>\n",
       "      <td>Safe Democrat</td>\n",
       "    </tr>\n",
       "    <tr>\n",
       "      <th>13</th>\n",
       "      <td>Indiana</td>\n",
       "      <td>IN</td>\n",
       "      <td>11</td>\n",
       "      <td>1031953.0</td>\n",
       "      <td>1556220.0</td>\n",
       "      <td>133856.0</td>\n",
       "      <td>2722029.0</td>\n",
       "      <td>0.379112</td>\n",
       "      <td>0.571713</td>\n",
       "      <td>gop</td>\n",
       "      <td>-19.260155</td>\n",
       "      <td>Safe Republican</td>\n",
       "    </tr>\n",
       "    <tr>\n",
       "      <th>14</th>\n",
       "      <td>Iowa</td>\n",
       "      <td>IA</td>\n",
       "      <td>6</td>\n",
       "      <td>650790.0</td>\n",
       "      <td>798923.0</td>\n",
       "      <td>93167.0</td>\n",
       "      <td>1542880.0</td>\n",
       "      <td>0.421802</td>\n",
       "      <td>0.517813</td>\n",
       "      <td>gop</td>\n",
       "      <td>-9.601071</td>\n",
       "      <td>Likely Republican</td>\n",
       "    </tr>\n",
       "    <tr>\n",
       "      <th>15</th>\n",
       "      <td>Kansas</td>\n",
       "      <td>KS</td>\n",
       "      <td>6</td>\n",
       "      <td>414788.0</td>\n",
       "      <td>656009.0</td>\n",
       "      <td>76346.0</td>\n",
       "      <td>1147143.0</td>\n",
       "      <td>0.361584</td>\n",
       "      <td>0.571863</td>\n",
       "      <td>gop</td>\n",
       "      <td>-21.027980</td>\n",
       "      <td>Safe Republican</td>\n",
       "    </tr>\n",
       "    <tr>\n",
       "      <th>16</th>\n",
       "      <td>Kentucky</td>\n",
       "      <td>KY</td>\n",
       "      <td>8</td>\n",
       "      <td>628834.0</td>\n",
       "      <td>1202942.0</td>\n",
       "      <td>90442.0</td>\n",
       "      <td>1922218.0</td>\n",
       "      <td>0.327140</td>\n",
       "      <td>0.625809</td>\n",
       "      <td>gop</td>\n",
       "      <td>-29.866956</td>\n",
       "      <td>Safe Republican</td>\n",
       "    </tr>\n",
       "    <tr>\n",
       "      <th>17</th>\n",
       "      <td>Louisiana</td>\n",
       "      <td>LA</td>\n",
       "      <td>8</td>\n",
       "      <td>779535.0</td>\n",
       "      <td>1178004.0</td>\n",
       "      <td>70192.0</td>\n",
       "      <td>2027731.0</td>\n",
       "      <td>0.384437</td>\n",
       "      <td>0.580947</td>\n",
       "      <td>gop</td>\n",
       "      <td>-19.650979</td>\n",
       "      <td>Safe Republican</td>\n",
       "    </tr>\n",
       "    <tr>\n",
       "      <th>18</th>\n",
       "      <td>Maine</td>\n",
       "      <td>ME</td>\n",
       "      <td>4</td>\n",
       "      <td>354873.0</td>\n",
       "      <td>334838.0</td>\n",
       "      <td>51839.0</td>\n",
       "      <td>741550.0</td>\n",
       "      <td>0.478556</td>\n",
       "      <td>0.451538</td>\n",
       "      <td>dem</td>\n",
       "      <td>2.701773</td>\n",
       "      <td>Likely Democrat</td>\n",
       "    </tr>\n",
       "    <tr>\n",
       "      <th>19</th>\n",
       "      <td>Maryland</td>\n",
       "      <td>MD</td>\n",
       "      <td>10</td>\n",
       "      <td>1497951.0</td>\n",
       "      <td>873646.0</td>\n",
       "      <td>102946.0</td>\n",
       "      <td>2474543.0</td>\n",
       "      <td>0.605345</td>\n",
       "      <td>0.353053</td>\n",
       "      <td>dem</td>\n",
       "      <td>25.229103</td>\n",
       "      <td>Safe Democrat</td>\n",
       "    </tr>\n",
       "    <tr>\n",
       "      <th>20</th>\n",
       "      <td>Massachusetts</td>\n",
       "      <td>MA</td>\n",
       "      <td>11</td>\n",
       "      <td>1964768.0</td>\n",
       "      <td>1083069.0</td>\n",
       "      <td>183694.0</td>\n",
       "      <td>3231531.0</td>\n",
       "      <td>0.607999</td>\n",
       "      <td>0.335157</td>\n",
       "      <td>dem</td>\n",
       "      <td>27.284250</td>\n",
       "      <td>Safe Democrat</td>\n",
       "    </tr>\n",
       "    <tr>\n",
       "      <th>21</th>\n",
       "      <td>Michigan</td>\n",
       "      <td>MI</td>\n",
       "      <td>15</td>\n",
       "      <td>2268193.0</td>\n",
       "      <td>2279805.0</td>\n",
       "      <td>242919.0</td>\n",
       "      <td>4790917.0</td>\n",
       "      <td>0.473436</td>\n",
       "      <td>0.475860</td>\n",
       "      <td>gop</td>\n",
       "      <td>-0.242375</td>\n",
       "      <td>Toss-Up</td>\n",
       "    </tr>\n",
       "    <tr>\n",
       "      <th>22</th>\n",
       "      <td>Minnesota</td>\n",
       "      <td>MN</td>\n",
       "      <td>10</td>\n",
       "      <td>1366676.0</td>\n",
       "      <td>1322891.0</td>\n",
       "      <td>226837.0</td>\n",
       "      <td>2916404.0</td>\n",
       "      <td>0.468617</td>\n",
       "      <td>0.453603</td>\n",
       "      <td>dem</td>\n",
       "      <td>1.501335</td>\n",
       "      <td>Toss-Up</td>\n",
       "    </tr>\n",
       "    <tr>\n",
       "      <th>23</th>\n",
       "      <td>Mississippi</td>\n",
       "      <td>MS</td>\n",
       "      <td>6</td>\n",
       "      <td>462001.0</td>\n",
       "      <td>678457.0</td>\n",
       "      <td>22529.0</td>\n",
       "      <td>1162987.0</td>\n",
       "      <td>0.397254</td>\n",
       "      <td>0.583375</td>\n",
       "      <td>gop</td>\n",
       "      <td>-18.612074</td>\n",
       "      <td>Safe Republican</td>\n",
       "    </tr>\n",
       "    <tr>\n",
       "      <th>24</th>\n",
       "      <td>Missouri</td>\n",
       "      <td>MO</td>\n",
       "      <td>10</td>\n",
       "      <td>1054889.0</td>\n",
       "      <td>1585753.0</td>\n",
       "      <td>134456.0</td>\n",
       "      <td>2775098.0</td>\n",
       "      <td>0.380127</td>\n",
       "      <td>0.571422</td>\n",
       "      <td>gop</td>\n",
       "      <td>-19.129559</td>\n",
       "      <td>Safe Republican</td>\n",
       "    </tr>\n",
       "    <tr>\n",
       "      <th>25</th>\n",
       "      <td>Montana</td>\n",
       "      <td>MT</td>\n",
       "      <td>4</td>\n",
       "      <td>174521.0</td>\n",
       "      <td>274120.0</td>\n",
       "      <td>34933.0</td>\n",
       "      <td>483574.0</td>\n",
       "      <td>0.360898</td>\n",
       "      <td>0.566863</td>\n",
       "      <td>gop</td>\n",
       "      <td>-20.596434</td>\n",
       "      <td>Safe Republican</td>\n",
       "    </tr>\n",
       "    <tr>\n",
       "      <th>26</th>\n",
       "      <td>Nebraska</td>\n",
       "      <td>NE</td>\n",
       "      <td>5</td>\n",
       "      <td>273858.0</td>\n",
       "      <td>485819.0</td>\n",
       "      <td>45961.0</td>\n",
       "      <td>805638.0</td>\n",
       "      <td>0.339927</td>\n",
       "      <td>0.603024</td>\n",
       "      <td>gop</td>\n",
       "      <td>-26.309707</td>\n",
       "      <td>Safe Republican</td>\n",
       "    </tr>\n",
       "    <tr>\n",
       "      <th>27</th>\n",
       "      <td>Nevada</td>\n",
       "      <td>NV</td>\n",
       "      <td>6</td>\n",
       "      <td>537001.0</td>\n",
       "      <td>509703.0</td>\n",
       "      <td>73728.0</td>\n",
       "      <td>1120432.0</td>\n",
       "      <td>0.479280</td>\n",
       "      <td>0.454916</td>\n",
       "      <td>dem</td>\n",
       "      <td>2.436382</td>\n",
       "      <td>Toss-Up</td>\n",
       "    </tr>\n",
       "    <tr>\n",
       "      <th>28</th>\n",
       "      <td>New Hampshire</td>\n",
       "      <td>NH</td>\n",
       "      <td>4</td>\n",
       "      <td>348521.0</td>\n",
       "      <td>345789.0</td>\n",
       "      <td>37243.0</td>\n",
       "      <td>731553.0</td>\n",
       "      <td>0.476413</td>\n",
       "      <td>0.472678</td>\n",
       "      <td>dem</td>\n",
       "      <td>0.373452</td>\n",
       "      <td>Toss-Up</td>\n",
       "    </tr>\n",
       "    <tr>\n",
       "      <th>29</th>\n",
       "      <td>New Jersey</td>\n",
       "      <td>NJ</td>\n",
       "      <td>14</td>\n",
       "      <td>2021756.0</td>\n",
       "      <td>1535513.0</td>\n",
       "      <td>117624.0</td>\n",
       "      <td>3674893.0</td>\n",
       "      <td>0.550154</td>\n",
       "      <td>0.417839</td>\n",
       "      <td>dem</td>\n",
       "      <td>13.231487</td>\n",
       "      <td>Safe Democrat</td>\n",
       "    </tr>\n",
       "    <tr>\n",
       "      <th>30</th>\n",
       "      <td>New Mexico</td>\n",
       "      <td>NM</td>\n",
       "      <td>5</td>\n",
       "      <td>380724.0</td>\n",
       "      <td>315875.0</td>\n",
       "      <td>86528.0</td>\n",
       "      <td>783127.0</td>\n",
       "      <td>0.486159</td>\n",
       "      <td>0.403351</td>\n",
       "      <td>dem</td>\n",
       "      <td>8.280777</td>\n",
       "      <td>Likely Democrat</td>\n",
       "    </tr>\n",
       "    <tr>\n",
       "      <th>31</th>\n",
       "      <td>New York</td>\n",
       "      <td>NY</td>\n",
       "      <td>28</td>\n",
       "      <td>4143874.0</td>\n",
       "      <td>2640570.0</td>\n",
       "      <td>261731.0</td>\n",
       "      <td>7046175.0</td>\n",
       "      <td>0.588103</td>\n",
       "      <td>0.374752</td>\n",
       "      <td>dem</td>\n",
       "      <td>21.335036</td>\n",
       "      <td>Safe Democrat</td>\n",
       "    </tr>\n",
       "    <tr>\n",
       "      <th>32</th>\n",
       "      <td>North Carolina</td>\n",
       "      <td>NC</td>\n",
       "      <td>16</td>\n",
       "      <td>2162074.0</td>\n",
       "      <td>2339603.0</td>\n",
       "      <td>127794.0</td>\n",
       "      <td>4629471.0</td>\n",
       "      <td>0.467024</td>\n",
       "      <td>0.505372</td>\n",
       "      <td>gop</td>\n",
       "      <td>-3.834758</td>\n",
       "      <td>Likely Republican</td>\n",
       "    </tr>\n",
       "    <tr>\n",
       "      <th>33</th>\n",
       "      <td>North Dakota</td>\n",
       "      <td>ND</td>\n",
       "      <td>3</td>\n",
       "      <td>93526.0</td>\n",
       "      <td>216133.0</td>\n",
       "      <td>27309.0</td>\n",
       "      <td>336968.0</td>\n",
       "      <td>0.277552</td>\n",
       "      <td>0.641405</td>\n",
       "      <td>gop</td>\n",
       "      <td>-36.385354</td>\n",
       "      <td>Safe Republican</td>\n",
       "    </tr>\n",
       "    <tr>\n",
       "      <th>34</th>\n",
       "      <td>Ohio</td>\n",
       "      <td>OH</td>\n",
       "      <td>17</td>\n",
       "      <td>2317001.0</td>\n",
       "      <td>2771984.0</td>\n",
       "      <td>236410.0</td>\n",
       "      <td>5325395.0</td>\n",
       "      <td>0.435085</td>\n",
       "      <td>0.520522</td>\n",
       "      <td>gop</td>\n",
       "      <td>-8.543648</td>\n",
       "      <td>Likely Republican</td>\n",
       "    </tr>\n",
       "    <tr>\n",
       "      <th>35</th>\n",
       "      <td>Oklahoma</td>\n",
       "      <td>OK</td>\n",
       "      <td>7</td>\n",
       "      <td>419788.0</td>\n",
       "      <td>947934.0</td>\n",
       "      <td>83334.0</td>\n",
       "      <td>1451056.0</td>\n",
       "      <td>0.289298</td>\n",
       "      <td>0.653272</td>\n",
       "      <td>gop</td>\n",
       "      <td>-36.397355</td>\n",
       "      <td>Safe Republican</td>\n",
       "    </tr>\n",
       "    <tr>\n",
       "      <th>36</th>\n",
       "      <td>Oregon</td>\n",
       "      <td>OR</td>\n",
       "      <td>8</td>\n",
       "      <td>934631.0</td>\n",
       "      <td>742506.0</td>\n",
       "      <td>131438.0</td>\n",
       "      <td>1808575.0</td>\n",
       "      <td>0.516778</td>\n",
       "      <td>0.410548</td>\n",
       "      <td>dem</td>\n",
       "      <td>10.623004</td>\n",
       "      <td>Safe Democrat</td>\n",
       "    </tr>\n",
       "    <tr>\n",
       "      <th>37</th>\n",
       "      <td>Pennsylvania</td>\n",
       "      <td>PA</td>\n",
       "      <td>19</td>\n",
       "      <td>2844705.0</td>\n",
       "      <td>2912941.0</td>\n",
       "      <td>212461.0</td>\n",
       "      <td>5970107.0</td>\n",
       "      <td>0.476491</td>\n",
       "      <td>0.487921</td>\n",
       "      <td>gop</td>\n",
       "      <td>-1.142961</td>\n",
       "      <td>Toss-Up</td>\n",
       "    </tr>\n",
       "    <tr>\n",
       "      <th>38</th>\n",
       "      <td>Rhode Island</td>\n",
       "      <td>RI</td>\n",
       "      <td>4</td>\n",
       "      <td>249902.0</td>\n",
       "      <td>179421.0</td>\n",
       "      <td>20798.0</td>\n",
       "      <td>450121.0</td>\n",
       "      <td>0.555188</td>\n",
       "      <td>0.398606</td>\n",
       "      <td>dem</td>\n",
       "      <td>15.658234</td>\n",
       "      <td>Safe Democrat</td>\n",
       "    </tr>\n",
       "    <tr>\n",
       "      <th>39</th>\n",
       "      <td>South Carolina</td>\n",
       "      <td>SC</td>\n",
       "      <td>9</td>\n",
       "      <td>849469.0</td>\n",
       "      <td>1143611.0</td>\n",
       "      <td>91364.0</td>\n",
       "      <td>2084444.0</td>\n",
       "      <td>0.407528</td>\n",
       "      <td>0.548641</td>\n",
       "      <td>gop</td>\n",
       "      <td>-14.111293</td>\n",
       "      <td>Safe Republican</td>\n",
       "    </tr>\n",
       "    <tr>\n",
       "      <th>40</th>\n",
       "      <td>South Dakota</td>\n",
       "      <td>SD</td>\n",
       "      <td>3</td>\n",
       "      <td>114938.0</td>\n",
       "      <td>227460.0</td>\n",
       "      <td>24753.0</td>\n",
       "      <td>367151.0</td>\n",
       "      <td>0.313054</td>\n",
       "      <td>0.619527</td>\n",
       "      <td>gop</td>\n",
       "      <td>-30.647336</td>\n",
       "      <td>Safe Republican</td>\n",
       "    </tr>\n",
       "    <tr>\n",
       "      <th>41</th>\n",
       "      <td>Tennessee</td>\n",
       "      <td>TN</td>\n",
       "      <td>11</td>\n",
       "      <td>867110.0</td>\n",
       "      <td>1517402.0</td>\n",
       "      <td>100179.0</td>\n",
       "      <td>2484691.0</td>\n",
       "      <td>0.348981</td>\n",
       "      <td>0.610700</td>\n",
       "      <td>gop</td>\n",
       "      <td>-26.171947</td>\n",
       "      <td>Safe Republican</td>\n",
       "    </tr>\n",
       "    <tr>\n",
       "      <th>42</th>\n",
       "      <td>Texas</td>\n",
       "      <td>TX</td>\n",
       "      <td>40</td>\n",
       "      <td>3867713.0</td>\n",
       "      <td>4681449.0</td>\n",
       "      <td>353825.0</td>\n",
       "      <td>8902987.0</td>\n",
       "      <td>0.434429</td>\n",
       "      <td>0.525829</td>\n",
       "      <td>gop</td>\n",
       "      <td>-9.140034</td>\n",
       "      <td>Likely Republican</td>\n",
       "    </tr>\n",
       "    <tr>\n",
       "      <th>43</th>\n",
       "      <td>Utah</td>\n",
       "      <td>UT</td>\n",
       "      <td>6</td>\n",
       "      <td>274188.0</td>\n",
       "      <td>452086.0</td>\n",
       "      <td>258683.0</td>\n",
       "      <td>984957.0</td>\n",
       "      <td>0.278376</td>\n",
       "      <td>0.458991</td>\n",
       "      <td>gop</td>\n",
       "      <td>-18.061499</td>\n",
       "      <td>Safe Republican</td>\n",
       "    </tr>\n",
       "    <tr>\n",
       "      <th>44</th>\n",
       "      <td>Vermont</td>\n",
       "      <td>VT</td>\n",
       "      <td>3</td>\n",
       "      <td>178179.0</td>\n",
       "      <td>95053.0</td>\n",
       "      <td>18181.0</td>\n",
       "      <td>291413.0</td>\n",
       "      <td>0.611431</td>\n",
       "      <td>0.326180</td>\n",
       "      <td>dem</td>\n",
       "      <td>28.525152</td>\n",
       "      <td>Safe Democrat</td>\n",
       "    </tr>\n",
       "    <tr>\n",
       "      <th>45</th>\n",
       "      <td>Virginia</td>\n",
       "      <td>VA</td>\n",
       "      <td>13</td>\n",
       "      <td>1916845.0</td>\n",
       "      <td>1731156.0</td>\n",
       "      <td>196786.0</td>\n",
       "      <td>3844787.0</td>\n",
       "      <td>0.498557</td>\n",
       "      <td>0.450261</td>\n",
       "      <td>dem</td>\n",
       "      <td>4.829630</td>\n",
       "      <td>Likely Democrat</td>\n",
       "    </tr>\n",
       "    <tr>\n",
       "      <th>46</th>\n",
       "      <td>Washington</td>\n",
       "      <td>WA</td>\n",
       "      <td>12</td>\n",
       "      <td>1610524.0</td>\n",
       "      <td>1129120.0</td>\n",
       "      <td>218298.0</td>\n",
       "      <td>2957942.0</td>\n",
       "      <td>0.544475</td>\n",
       "      <td>0.381725</td>\n",
       "      <td>dem</td>\n",
       "      <td>16.274964</td>\n",
       "      <td>Safe Democrat</td>\n",
       "    </tr>\n",
       "    <tr>\n",
       "      <th>47</th>\n",
       "      <td>West Virginia</td>\n",
       "      <td>WV</td>\n",
       "      <td>4</td>\n",
       "      <td>187457.0</td>\n",
       "      <td>486198.0</td>\n",
       "      <td>34571.0</td>\n",
       "      <td>708226.0</td>\n",
       "      <td>0.264685</td>\n",
       "      <td>0.686501</td>\n",
       "      <td>gop</td>\n",
       "      <td>-42.181592</td>\n",
       "      <td>Safe Republican</td>\n",
       "    </tr>\n",
       "    <tr>\n",
       "      <th>48</th>\n",
       "      <td>Wisconsin</td>\n",
       "      <td>WI</td>\n",
       "      <td>10</td>\n",
       "      <td>1380823.0</td>\n",
       "      <td>1403694.0</td>\n",
       "      <td>152809.0</td>\n",
       "      <td>2937326.0</td>\n",
       "      <td>0.470095</td>\n",
       "      <td>0.477882</td>\n",
       "      <td>gop</td>\n",
       "      <td>-0.778633</td>\n",
       "      <td>Toss-Up</td>\n",
       "    </tr>\n",
       "    <tr>\n",
       "      <th>49</th>\n",
       "      <td>Wyoming</td>\n",
       "      <td>WY</td>\n",
       "      <td>3</td>\n",
       "      <td>55949.0</td>\n",
       "      <td>174248.0</td>\n",
       "      <td>18545.0</td>\n",
       "      <td>248742.0</td>\n",
       "      <td>0.224928</td>\n",
       "      <td>0.700517</td>\n",
       "      <td>gop</td>\n",
       "      <td>-47.558916</td>\n",
       "      <td>Safe Republican</td>\n",
       "    </tr>\n",
       "  </tbody>\n",
       "</table>\n",
       "</div>"
      ],
      "text/plain": [
       "                   state state_code  ElectoralVotes2024  Votes_dem  Votes_gop  \\\n",
       "0                Alabama         AL                   9   718084.0  1306925.0   \n",
       "1                Arizona         AZ                  11   936250.0  1021154.0   \n",
       "2               Arkansas         AR                   6   378729.0   677904.0   \n",
       "3             California         CA                  54  7362490.0  3916209.0   \n",
       "4               Colorado         CO                  10  1212209.0  1137455.0   \n",
       "5            Connecticut         CT                   7   884432.0   668266.0   \n",
       "6   District of Columbia         DC                   3   260223.0    11553.0   \n",
       "7               Delaware         DE                   3   235581.0   185103.0   \n",
       "8                Florida         FL                  30  4485745.0  4605515.0   \n",
       "9                Georgia         GA                  16  1837300.0  2068623.0   \n",
       "10                Hawaii         HI                   4   266827.0   128815.0   \n",
       "11                 Idaho         ID                   4   189677.0   407199.0   \n",
       "12              Illinois         IL                  19  2977498.0  2118179.0   \n",
       "13               Indiana         IN                  11  1031953.0  1556220.0   \n",
       "14                  Iowa         IA                   6   650790.0   798923.0   \n",
       "15                Kansas         KS                   6   414788.0   656009.0   \n",
       "16              Kentucky         KY                   8   628834.0  1202942.0   \n",
       "17             Louisiana         LA                   8   779535.0  1178004.0   \n",
       "18                 Maine         ME                   4   354873.0   334838.0   \n",
       "19              Maryland         MD                  10  1497951.0   873646.0   \n",
       "20         Massachusetts         MA                  11  1964768.0  1083069.0   \n",
       "21              Michigan         MI                  15  2268193.0  2279805.0   \n",
       "22             Minnesota         MN                  10  1366676.0  1322891.0   \n",
       "23           Mississippi         MS                   6   462001.0   678457.0   \n",
       "24              Missouri         MO                  10  1054889.0  1585753.0   \n",
       "25               Montana         MT                   4   174521.0   274120.0   \n",
       "26              Nebraska         NE                   5   273858.0   485819.0   \n",
       "27                Nevada         NV                   6   537001.0   509703.0   \n",
       "28         New Hampshire         NH                   4   348521.0   345789.0   \n",
       "29            New Jersey         NJ                  14  2021756.0  1535513.0   \n",
       "30            New Mexico         NM                   5   380724.0   315875.0   \n",
       "31              New York         NY                  28  4143874.0  2640570.0   \n",
       "32        North Carolina         NC                  16  2162074.0  2339603.0   \n",
       "33          North Dakota         ND                   3    93526.0   216133.0   \n",
       "34                  Ohio         OH                  17  2317001.0  2771984.0   \n",
       "35              Oklahoma         OK                   7   419788.0   947934.0   \n",
       "36                Oregon         OR                   8   934631.0   742506.0   \n",
       "37          Pennsylvania         PA                  19  2844705.0  2912941.0   \n",
       "38          Rhode Island         RI                   4   249902.0   179421.0   \n",
       "39        South Carolina         SC                   9   849469.0  1143611.0   \n",
       "40          South Dakota         SD                   3   114938.0   227460.0   \n",
       "41             Tennessee         TN                  11   867110.0  1517402.0   \n",
       "42                 Texas         TX                  40  3867713.0  4681449.0   \n",
       "43                  Utah         UT                   6   274188.0   452086.0   \n",
       "44               Vermont         VT                   3   178179.0    95053.0   \n",
       "45              Virginia         VA                  13  1916845.0  1731156.0   \n",
       "46            Washington         WA                  12  1610524.0  1129120.0   \n",
       "47         West Virginia         WV                   4   187457.0   486198.0   \n",
       "48             Wisconsin         WI                  10  1380823.0  1403694.0   \n",
       "49               Wyoming         WY                   3    55949.0   174248.0   \n",
       "\n",
       "    Votes_other  Votes_total  Per_dem_2016  Per_gop_2016 Winner  Difference  \\\n",
       "0       53156.0    2078165.0      0.345538      0.628884    gop  -28.334661   \n",
       "1      105406.0    2062810.0      0.453871      0.495031    gop   -4.115939   \n",
       "2       51982.0    1108615.0      0.341624      0.611487    gop  -26.986375   \n",
       "3      675618.0   11954317.0      0.615885      0.327598    dem   28.828757   \n",
       "4      214521.0    2564185.0      0.472746      0.443593    dem    2.915312   \n",
       "5       70844.0    1623542.0      0.544755      0.411610    dem   13.314469   \n",
       "6        8496.0     280272.0      0.928466      0.041221    dem   88.724525   \n",
       "7       20851.0     441535.0      0.533550      0.419226    dem   11.432389   \n",
       "8      295490.0    9386750.0      0.477881      0.490640    gop   -1.275947   \n",
       "9      123641.0    4029564.0      0.455955      0.513361    gop   -5.740646   \n",
       "10      33183.0     428825.0      0.622228      0.300391    dem   32.183758   \n",
       "11      91359.0     688235.0      0.275599      0.591657    gop  -31.605774   \n",
       "12     278603.0    5374280.0      0.554027      0.394133    dem   15.989472   \n",
       "13     133856.0    2722029.0      0.379112      0.571713    gop  -19.260155   \n",
       "14      93167.0    1542880.0      0.421802      0.517813    gop   -9.601071   \n",
       "15      76346.0    1147143.0      0.361584      0.571863    gop  -21.027980   \n",
       "16      90442.0    1922218.0      0.327140      0.625809    gop  -29.866956   \n",
       "17      70192.0    2027731.0      0.384437      0.580947    gop  -19.650979   \n",
       "18      51839.0     741550.0      0.478556      0.451538    dem    2.701773   \n",
       "19     102946.0    2474543.0      0.605345      0.353053    dem   25.229103   \n",
       "20     183694.0    3231531.0      0.607999      0.335157    dem   27.284250   \n",
       "21     242919.0    4790917.0      0.473436      0.475860    gop   -0.242375   \n",
       "22     226837.0    2916404.0      0.468617      0.453603    dem    1.501335   \n",
       "23      22529.0    1162987.0      0.397254      0.583375    gop  -18.612074   \n",
       "24     134456.0    2775098.0      0.380127      0.571422    gop  -19.129559   \n",
       "25      34933.0     483574.0      0.360898      0.566863    gop  -20.596434   \n",
       "26      45961.0     805638.0      0.339927      0.603024    gop  -26.309707   \n",
       "27      73728.0    1120432.0      0.479280      0.454916    dem    2.436382   \n",
       "28      37243.0     731553.0      0.476413      0.472678    dem    0.373452   \n",
       "29     117624.0    3674893.0      0.550154      0.417839    dem   13.231487   \n",
       "30      86528.0     783127.0      0.486159      0.403351    dem    8.280777   \n",
       "31     261731.0    7046175.0      0.588103      0.374752    dem   21.335036   \n",
       "32     127794.0    4629471.0      0.467024      0.505372    gop   -3.834758   \n",
       "33      27309.0     336968.0      0.277552      0.641405    gop  -36.385354   \n",
       "34     236410.0    5325395.0      0.435085      0.520522    gop   -8.543648   \n",
       "35      83334.0    1451056.0      0.289298      0.653272    gop  -36.397355   \n",
       "36     131438.0    1808575.0      0.516778      0.410548    dem   10.623004   \n",
       "37     212461.0    5970107.0      0.476491      0.487921    gop   -1.142961   \n",
       "38      20798.0     450121.0      0.555188      0.398606    dem   15.658234   \n",
       "39      91364.0    2084444.0      0.407528      0.548641    gop  -14.111293   \n",
       "40      24753.0     367151.0      0.313054      0.619527    gop  -30.647336   \n",
       "41     100179.0    2484691.0      0.348981      0.610700    gop  -26.171947   \n",
       "42     353825.0    8902987.0      0.434429      0.525829    gop   -9.140034   \n",
       "43     258683.0     984957.0      0.278376      0.458991    gop  -18.061499   \n",
       "44      18181.0     291413.0      0.611431      0.326180    dem   28.525152   \n",
       "45     196786.0    3844787.0      0.498557      0.450261    dem    4.829630   \n",
       "46     218298.0    2957942.0      0.544475      0.381725    dem   16.274964   \n",
       "47      34571.0     708226.0      0.264685      0.686501    gop  -42.181592   \n",
       "48     152809.0    2937326.0      0.470095      0.477882    gop   -0.778633   \n",
       "49      18545.0     248742.0      0.224928      0.700517    gop  -47.558916   \n",
       "\n",
       "               Status  \n",
       "0     Safe Republican  \n",
       "1   Likely Republican  \n",
       "2     Safe Republican  \n",
       "3       Safe Democrat  \n",
       "4     Likely Democrat  \n",
       "5       Safe Democrat  \n",
       "6       Safe Democrat  \n",
       "7       Safe Democrat  \n",
       "8             Toss-Up  \n",
       "9   Likely Republican  \n",
       "10      Safe Democrat  \n",
       "11    Safe Republican  \n",
       "12      Safe Democrat  \n",
       "13    Safe Republican  \n",
       "14  Likely Republican  \n",
       "15    Safe Republican  \n",
       "16    Safe Republican  \n",
       "17    Safe Republican  \n",
       "18    Likely Democrat  \n",
       "19      Safe Democrat  \n",
       "20      Safe Democrat  \n",
       "21            Toss-Up  \n",
       "22            Toss-Up  \n",
       "23    Safe Republican  \n",
       "24    Safe Republican  \n",
       "25    Safe Republican  \n",
       "26    Safe Republican  \n",
       "27            Toss-Up  \n",
       "28            Toss-Up  \n",
       "29      Safe Democrat  \n",
       "30    Likely Democrat  \n",
       "31      Safe Democrat  \n",
       "32  Likely Republican  \n",
       "33    Safe Republican  \n",
       "34  Likely Republican  \n",
       "35    Safe Republican  \n",
       "36      Safe Democrat  \n",
       "37            Toss-Up  \n",
       "38      Safe Democrat  \n",
       "39    Safe Republican  \n",
       "40    Safe Republican  \n",
       "41    Safe Republican  \n",
       "42  Likely Republican  \n",
       "43    Safe Republican  \n",
       "44      Safe Democrat  \n",
       "45    Likely Democrat  \n",
       "46      Safe Democrat  \n",
       "47    Safe Republican  \n",
       "48            Toss-Up  \n",
       "49    Safe Republican  "
      ]
     },
     "execution_count": 76,
     "metadata": {},
     "output_type": "execute_result"
    }
   ],
   "source": [
    "# Cargar datos electorales reales\n",
    "df_actual = pd.DataFrame({'Votes_dem': data_2016['votes_dem'], \n",
    "                            'Votes_gop': data_2016['total_votes'] - data_2016['votes_dem'] - data_2016['votes_others'], \n",
    "                            'Votes_other': data_2016['votes_others'],\n",
    "                            'Votes_total': data_2016['total_votes'], \n",
    "                            'state': state_names,\n",
    "                            'county': county_names,\n",
    "                            'fips': fips_codes})\n",
    "df_actual_state = df_actual.groupby('state').agg(Votes_dem=(f'Votes_dem', 'sum'), \n",
    "                                                    Votes_gop=(f'Votes_gop', 'sum'),\n",
    "                                                    Votes_other=(f'Votes_other', 'sum'),\n",
    "                                                    Votes_total=(f'Votes_total', 'sum'))\n",
    "\n",
    "df_actual_state[\"Per_dem_2016\"] = df_actual_state[\"Votes_dem\"] / df_actual_state[\"Votes_total\"]\n",
    "df_actual_state[\"Per_gop_2016\"] = df_actual_state[\"Votes_gop\"] / df_actual_state[\"Votes_total\"]\n",
    "\n",
    "# Añadir la columna \"Winner\" basado en los porcentajes predichos de Biden y Trump\n",
    "df_actual_state[\"Winner\"] = np.where(df_actual_state[\"Per_dem_2016\"] < df_actual_state[\"Per_gop_2016\"], 'gop', 'dem')\n",
    "\n",
    "\n",
    "full_df_actual_state = pd.merge(seats_data, df_actual_state, how='inner', on=[\"state\"])\n",
    "\n",
    "\n",
    "\n",
    "# Añadir diferencia entre Biden y Trump\n",
    "full_df_actual_state['Difference'] = (full_df_actual_state[\"Per_dem_2016\"] - full_df_actual_state[\"Per_gop_2016\"]) * 100\n",
    "\n",
    "\n",
    "# Definir las condiciones y los valores a asignar\n",
    "conditions = [\n",
    "    full_df_actual_state[\"Difference\"] > 10,\n",
    "    full_df_actual_state[\"Difference\"].between(2.5, 10),\n",
    "    full_df_actual_state[\"Difference\"].between(-2.5, 2.5),\n",
    "    full_df_actual_state[\"Difference\"].between(-10, -2.5),\n",
    "    full_df_actual_state[\"Difference\"] < -10\n",
    "]\n",
    "\n",
    "choices = [\n",
    "    \"Safe Democrat\",\n",
    "    \"Likely Democrat\",\n",
    "    \"Toss-Up\",\n",
    "    \"Likely Republican\",\n",
    "    \"Safe Republican\"\n",
    "]\n",
    "\n",
    "# Usar np.select para asignar el \"Status\" basado en las condiciones, con un valor por defecto \"Unknown\"\n",
    "full_df_actual_state[\"Status\"] = np.select(conditions, choices, default=\"Unknown\")\n",
    "\n",
    "full_df_actual_state_2016 = full_df_actual_state.copy()\n",
    "full_df_actual_state_2016"
   ]
  },
  {
   "cell_type": "code",
   "execution_count": 77,
   "metadata": {},
   "outputs": [],
   "source": [
    "# columns_to_drop = ['Total_2020', 'Other_2020', 'Winner_2020', \"Biden_2020\"]  # Nombres de las columnas a eliminar\n",
    "columns_to_drop = [\"votes_dem\", \"total_votes\", \"votes_others\", \"per_votes_others\", \"winner\"]  # Nombres de las columnas a eliminar\n",
    "\n",
    "data_2016 = data_2016.drop(columns=columns_to_drop)"
   ]
  },
  {
   "cell_type": "markdown",
   "metadata": {},
   "source": [
    "### 2020"
   ]
  },
  {
   "cell_type": "code",
   "execution_count": 78,
   "metadata": {},
   "outputs": [],
   "source": [
    "# Cargar datos\n",
    "data_2020 = read_csv(f\"data/final_data_{2020}.csv\")"
   ]
  },
  {
   "cell_type": "code",
   "execution_count": 79,
   "metadata": {},
   "outputs": [
    {
     "data": {
      "text/html": [
       "<div>\n",
       "<style scoped>\n",
       "    .dataframe tbody tr th:only-of-type {\n",
       "        vertical-align: middle;\n",
       "    }\n",
       "\n",
       "    .dataframe tbody tr th {\n",
       "        vertical-align: top;\n",
       "    }\n",
       "\n",
       "    .dataframe thead th {\n",
       "        text-align: right;\n",
       "    }\n",
       "</style>\n",
       "<table border=\"1\" class=\"dataframe\">\n",
       "  <thead>\n",
       "    <tr style=\"text-align: right;\">\n",
       "      <th></th>\n",
       "      <th>state</th>\n",
       "      <th>state_code</th>\n",
       "      <th>ElectoralVotes2024</th>\n",
       "      <th>Votes_dem</th>\n",
       "      <th>Votes_gop</th>\n",
       "      <th>Votes_other</th>\n",
       "      <th>Votes_total</th>\n",
       "      <th>Per_dem_2020</th>\n",
       "      <th>Per_gop_2020</th>\n",
       "      <th>Winner</th>\n",
       "      <th>Difference</th>\n",
       "      <th>Status</th>\n",
       "    </tr>\n",
       "  </thead>\n",
       "  <tbody>\n",
       "    <tr>\n",
       "      <th>0</th>\n",
       "      <td>Alabama</td>\n",
       "      <td>AL</td>\n",
       "      <td>9</td>\n",
       "      <td>849648.0</td>\n",
       "      <td>1441168.0</td>\n",
       "      <td>32488.0</td>\n",
       "      <td>2323304.0</td>\n",
       "      <td>0.365707</td>\n",
       "      <td>0.620310</td>\n",
       "      <td>gop</td>\n",
       "      <td>-25.460293</td>\n",
       "      <td>Safe Republican</td>\n",
       "    </tr>\n",
       "    <tr>\n",
       "      <th>1</th>\n",
       "      <td>Arizona</td>\n",
       "      <td>AZ</td>\n",
       "      <td>11</td>\n",
       "      <td>1672143.0</td>\n",
       "      <td>1661686.0</td>\n",
       "      <td>53497.0</td>\n",
       "      <td>3387326.0</td>\n",
       "      <td>0.493647</td>\n",
       "      <td>0.490560</td>\n",
       "      <td>dem</td>\n",
       "      <td>0.308710</td>\n",
       "      <td>Toss-Up</td>\n",
       "    </tr>\n",
       "    <tr>\n",
       "      <th>2</th>\n",
       "      <td>Arkansas</td>\n",
       "      <td>AR</td>\n",
       "      <td>6</td>\n",
       "      <td>423932.0</td>\n",
       "      <td>760647.0</td>\n",
       "      <td>34490.0</td>\n",
       "      <td>1219069.0</td>\n",
       "      <td>0.347751</td>\n",
       "      <td>0.623957</td>\n",
       "      <td>gop</td>\n",
       "      <td>-27.620668</td>\n",
       "      <td>Safe Republican</td>\n",
       "    </tr>\n",
       "    <tr>\n",
       "      <th>3</th>\n",
       "      <td>California</td>\n",
       "      <td>CA</td>\n",
       "      <td>54</td>\n",
       "      <td>11109764.0</td>\n",
       "      <td>6005961.0</td>\n",
       "      <td>380181.0</td>\n",
       "      <td>17495906.0</td>\n",
       "      <td>0.634992</td>\n",
       "      <td>0.343278</td>\n",
       "      <td>dem</td>\n",
       "      <td>29.171413</td>\n",
       "      <td>Safe Democrat</td>\n",
       "    </tr>\n",
       "    <tr>\n",
       "      <th>4</th>\n",
       "      <td>Colorado</td>\n",
       "      <td>CO</td>\n",
       "      <td>10</td>\n",
       "      <td>1804352.0</td>\n",
       "      <td>1364607.0</td>\n",
       "      <td>87994.0</td>\n",
       "      <td>3256953.0</td>\n",
       "      <td>0.554000</td>\n",
       "      <td>0.418983</td>\n",
       "      <td>dem</td>\n",
       "      <td>13.501730</td>\n",
       "      <td>Safe Democrat</td>\n",
       "    </tr>\n",
       "    <tr>\n",
       "      <th>5</th>\n",
       "      <td>Connecticut</td>\n",
       "      <td>CT</td>\n",
       "      <td>7</td>\n",
       "      <td>1080680.0</td>\n",
       "      <td>715291.0</td>\n",
       "      <td>28309.0</td>\n",
       "      <td>1824280.0</td>\n",
       "      <td>0.592387</td>\n",
       "      <td>0.392095</td>\n",
       "      <td>dem</td>\n",
       "      <td>20.029217</td>\n",
       "      <td>Safe Democrat</td>\n",
       "    </tr>\n",
       "    <tr>\n",
       "      <th>6</th>\n",
       "      <td>District of Columbia</td>\n",
       "      <td>DC</td>\n",
       "      <td>3</td>\n",
       "      <td>317323.0</td>\n",
       "      <td>18586.0</td>\n",
       "      <td>8447.0</td>\n",
       "      <td>344356.0</td>\n",
       "      <td>0.921497</td>\n",
       "      <td>0.053973</td>\n",
       "      <td>dem</td>\n",
       "      <td>86.752373</td>\n",
       "      <td>Safe Democrat</td>\n",
       "    </tr>\n",
       "    <tr>\n",
       "      <th>7</th>\n",
       "      <td>Delaware</td>\n",
       "      <td>DE</td>\n",
       "      <td>3</td>\n",
       "      <td>296268.0</td>\n",
       "      <td>200603.0</td>\n",
       "      <td>7139.0</td>\n",
       "      <td>504010.0</td>\n",
       "      <td>0.587822</td>\n",
       "      <td>0.398014</td>\n",
       "      <td>dem</td>\n",
       "      <td>18.980774</td>\n",
       "      <td>Safe Democrat</td>\n",
       "    </tr>\n",
       "    <tr>\n",
       "      <th>8</th>\n",
       "      <td>Florida</td>\n",
       "      <td>FL</td>\n",
       "      <td>30</td>\n",
       "      <td>5297045.0</td>\n",
       "      <td>5668731.0</td>\n",
       "      <td>101680.0</td>\n",
       "      <td>11067456.0</td>\n",
       "      <td>0.478615</td>\n",
       "      <td>0.512198</td>\n",
       "      <td>gop</td>\n",
       "      <td>-3.358369</td>\n",
       "      <td>Likely Republican</td>\n",
       "    </tr>\n",
       "    <tr>\n",
       "      <th>9</th>\n",
       "      <td>Georgia</td>\n",
       "      <td>GA</td>\n",
       "      <td>16</td>\n",
       "      <td>2473633.0</td>\n",
       "      <td>2461854.0</td>\n",
       "      <td>62229.0</td>\n",
       "      <td>4997716.0</td>\n",
       "      <td>0.494953</td>\n",
       "      <td>0.492596</td>\n",
       "      <td>dem</td>\n",
       "      <td>0.235688</td>\n",
       "      <td>Toss-Up</td>\n",
       "    </tr>\n",
       "    <tr>\n",
       "      <th>10</th>\n",
       "      <td>Hawaii</td>\n",
       "      <td>HI</td>\n",
       "      <td>4</td>\n",
       "      <td>366130.0</td>\n",
       "      <td>196864.0</td>\n",
       "      <td>11475.0</td>\n",
       "      <td>574469.0</td>\n",
       "      <td>0.637336</td>\n",
       "      <td>0.342689</td>\n",
       "      <td>dem</td>\n",
       "      <td>29.464775</td>\n",
       "      <td>Safe Democrat</td>\n",
       "    </tr>\n",
       "    <tr>\n",
       "      <th>11</th>\n",
       "      <td>Idaho</td>\n",
       "      <td>ID</td>\n",
       "      <td>4</td>\n",
       "      <td>287021.0</td>\n",
       "      <td>554118.0</td>\n",
       "      <td>26966.0</td>\n",
       "      <td>868105.0</td>\n",
       "      <td>0.330629</td>\n",
       "      <td>0.638308</td>\n",
       "      <td>gop</td>\n",
       "      <td>-30.767822</td>\n",
       "      <td>Safe Republican</td>\n",
       "    </tr>\n",
       "    <tr>\n",
       "      <th>12</th>\n",
       "      <td>Illinois</td>\n",
       "      <td>IL</td>\n",
       "      <td>19</td>\n",
       "      <td>3471915.0</td>\n",
       "      <td>2446891.0</td>\n",
       "      <td>120044.0</td>\n",
       "      <td>6038850.0</td>\n",
       "      <td>0.574930</td>\n",
       "      <td>0.405192</td>\n",
       "      <td>dem</td>\n",
       "      <td>16.973828</td>\n",
       "      <td>Safe Democrat</td>\n",
       "    </tr>\n",
       "    <tr>\n",
       "      <th>13</th>\n",
       "      <td>Indiana</td>\n",
       "      <td>IN</td>\n",
       "      <td>11</td>\n",
       "      <td>1242495.0</td>\n",
       "      <td>1729852.0</td>\n",
       "      <td>60851.0</td>\n",
       "      <td>3033198.0</td>\n",
       "      <td>0.409632</td>\n",
       "      <td>0.570306</td>\n",
       "      <td>gop</td>\n",
       "      <td>-16.067431</td>\n",
       "      <td>Safe Republican</td>\n",
       "    </tr>\n",
       "    <tr>\n",
       "      <th>14</th>\n",
       "      <td>Iowa</td>\n",
       "      <td>IA</td>\n",
       "      <td>6</td>\n",
       "      <td>759061.0</td>\n",
       "      <td>897672.0</td>\n",
       "      <td>34138.0</td>\n",
       "      <td>1690871.0</td>\n",
       "      <td>0.448917</td>\n",
       "      <td>0.530893</td>\n",
       "      <td>gop</td>\n",
       "      <td>-8.197609</td>\n",
       "      <td>Likely Republican</td>\n",
       "    </tr>\n",
       "    <tr>\n",
       "      <th>15</th>\n",
       "      <td>Kansas</td>\n",
       "      <td>KS</td>\n",
       "      <td>6</td>\n",
       "      <td>558669.0</td>\n",
       "      <td>758100.0</td>\n",
       "      <td>32798.0</td>\n",
       "      <td>1349567.0</td>\n",
       "      <td>0.413962</td>\n",
       "      <td>0.561736</td>\n",
       "      <td>gop</td>\n",
       "      <td>-14.777406</td>\n",
       "      <td>Safe Republican</td>\n",
       "    </tr>\n",
       "    <tr>\n",
       "      <th>16</th>\n",
       "      <td>Kentucky</td>\n",
       "      <td>KY</td>\n",
       "      <td>8</td>\n",
       "      <td>772474.0</td>\n",
       "      <td>1326646.0</td>\n",
       "      <td>37648.0</td>\n",
       "      <td>2136768.0</td>\n",
       "      <td>0.361515</td>\n",
       "      <td>0.620866</td>\n",
       "      <td>gop</td>\n",
       "      <td>-25.935057</td>\n",
       "      <td>Safe Republican</td>\n",
       "    </tr>\n",
       "    <tr>\n",
       "      <th>17</th>\n",
       "      <td>Louisiana</td>\n",
       "      <td>LA</td>\n",
       "      <td>8</td>\n",
       "      <td>856034.0</td>\n",
       "      <td>1255776.0</td>\n",
       "      <td>36252.0</td>\n",
       "      <td>2148062.0</td>\n",
       "      <td>0.398515</td>\n",
       "      <td>0.584609</td>\n",
       "      <td>gop</td>\n",
       "      <td>-18.609426</td>\n",
       "      <td>Safe Republican</td>\n",
       "    </tr>\n",
       "    <tr>\n",
       "      <th>18</th>\n",
       "      <td>Maine</td>\n",
       "      <td>ME</td>\n",
       "      <td>4</td>\n",
       "      <td>430473.0</td>\n",
       "      <td>359899.0</td>\n",
       "      <td>23368.0</td>\n",
       "      <td>813740.0</td>\n",
       "      <td>0.529006</td>\n",
       "      <td>0.442278</td>\n",
       "      <td>dem</td>\n",
       "      <td>8.672795</td>\n",
       "      <td>Likely Democrat</td>\n",
       "    </tr>\n",
       "    <tr>\n",
       "      <th>19</th>\n",
       "      <td>Maryland</td>\n",
       "      <td>MD</td>\n",
       "      <td>10</td>\n",
       "      <td>1985023.0</td>\n",
       "      <td>976414.0</td>\n",
       "      <td>75593.0</td>\n",
       "      <td>3037030.0</td>\n",
       "      <td>0.653607</td>\n",
       "      <td>0.321503</td>\n",
       "      <td>dem</td>\n",
       "      <td>33.210373</td>\n",
       "      <td>Safe Democrat</td>\n",
       "    </tr>\n",
       "    <tr>\n",
       "      <th>20</th>\n",
       "      <td>Massachusetts</td>\n",
       "      <td>MA</td>\n",
       "      <td>11</td>\n",
       "      <td>2382202.0</td>\n",
       "      <td>1167202.0</td>\n",
       "      <td>81998.0</td>\n",
       "      <td>3631402.0</td>\n",
       "      <td>0.656001</td>\n",
       "      <td>0.321419</td>\n",
       "      <td>dem</td>\n",
       "      <td>33.458152</td>\n",
       "      <td>Safe Democrat</td>\n",
       "    </tr>\n",
       "    <tr>\n",
       "      <th>21</th>\n",
       "      <td>Michigan</td>\n",
       "      <td>MI</td>\n",
       "      <td>15</td>\n",
       "      <td>2804040.0</td>\n",
       "      <td>2649852.0</td>\n",
       "      <td>85410.0</td>\n",
       "      <td>5539302.0</td>\n",
       "      <td>0.506208</td>\n",
       "      <td>0.478373</td>\n",
       "      <td>dem</td>\n",
       "      <td>2.783528</td>\n",
       "      <td>Likely Democrat</td>\n",
       "    </tr>\n",
       "    <tr>\n",
       "      <th>22</th>\n",
       "      <td>Minnesota</td>\n",
       "      <td>MN</td>\n",
       "      <td>10</td>\n",
       "      <td>1717077.0</td>\n",
       "      <td>1484065.0</td>\n",
       "      <td>76029.0</td>\n",
       "      <td>3277171.0</td>\n",
       "      <td>0.523951</td>\n",
       "      <td>0.452849</td>\n",
       "      <td>dem</td>\n",
       "      <td>7.110157</td>\n",
       "      <td>Likely Democrat</td>\n",
       "    </tr>\n",
       "    <tr>\n",
       "      <th>23</th>\n",
       "      <td>Mississippi</td>\n",
       "      <td>MS</td>\n",
       "      <td>6</td>\n",
       "      <td>539398.0</td>\n",
       "      <td>756764.0</td>\n",
       "      <td>19016.0</td>\n",
       "      <td>1315178.0</td>\n",
       "      <td>0.410133</td>\n",
       "      <td>0.575408</td>\n",
       "      <td>gop</td>\n",
       "      <td>-16.527497</td>\n",
       "      <td>Safe Republican</td>\n",
       "    </tr>\n",
       "    <tr>\n",
       "      <th>24</th>\n",
       "      <td>Missouri</td>\n",
       "      <td>MO</td>\n",
       "      <td>10</td>\n",
       "      <td>1253014.0</td>\n",
       "      <td>1718736.0</td>\n",
       "      <td>54212.0</td>\n",
       "      <td>3025962.0</td>\n",
       "      <td>0.414088</td>\n",
       "      <td>0.567997</td>\n",
       "      <td>gop</td>\n",
       "      <td>-15.390874</td>\n",
       "      <td>Safe Republican</td>\n",
       "    </tr>\n",
       "    <tr>\n",
       "      <th>25</th>\n",
       "      <td>Montana</td>\n",
       "      <td>MT</td>\n",
       "      <td>4</td>\n",
       "      <td>244786.0</td>\n",
       "      <td>343602.0</td>\n",
       "      <td>17362.0</td>\n",
       "      <td>605750.0</td>\n",
       "      <td>0.404104</td>\n",
       "      <td>0.567234</td>\n",
       "      <td>gop</td>\n",
       "      <td>-16.313000</td>\n",
       "      <td>Safe Republican</td>\n",
       "    </tr>\n",
       "    <tr>\n",
       "      <th>26</th>\n",
       "      <td>Nebraska</td>\n",
       "      <td>NE</td>\n",
       "      <td>5</td>\n",
       "      <td>374583.0</td>\n",
       "      <td>556846.0</td>\n",
       "      <td>24950.0</td>\n",
       "      <td>956379.0</td>\n",
       "      <td>0.391668</td>\n",
       "      <td>0.582244</td>\n",
       "      <td>gop</td>\n",
       "      <td>-19.057612</td>\n",
       "      <td>Safe Republican</td>\n",
       "    </tr>\n",
       "    <tr>\n",
       "      <th>27</th>\n",
       "      <td>Nevada</td>\n",
       "      <td>NV</td>\n",
       "      <td>6</td>\n",
       "      <td>702584.0</td>\n",
       "      <td>667982.0</td>\n",
       "      <td>31933.0</td>\n",
       "      <td>1402499.0</td>\n",
       "      <td>0.500952</td>\n",
       "      <td>0.476280</td>\n",
       "      <td>dem</td>\n",
       "      <td>2.467168</td>\n",
       "      <td>Toss-Up</td>\n",
       "    </tr>\n",
       "    <tr>\n",
       "      <th>28</th>\n",
       "      <td>New Hampshire</td>\n",
       "      <td>NH</td>\n",
       "      <td>4</td>\n",
       "      <td>424921.0</td>\n",
       "      <td>365654.0</td>\n",
       "      <td>13855.0</td>\n",
       "      <td>804430.0</td>\n",
       "      <td>0.528226</td>\n",
       "      <td>0.454550</td>\n",
       "      <td>dem</td>\n",
       "      <td>7.367577</td>\n",
       "      <td>Likely Democrat</td>\n",
       "    </tr>\n",
       "    <tr>\n",
       "      <th>29</th>\n",
       "      <td>New Jersey</td>\n",
       "      <td>NJ</td>\n",
       "      <td>14</td>\n",
       "      <td>2608335.0</td>\n",
       "      <td>1883274.0</td>\n",
       "      <td>72625.0</td>\n",
       "      <td>4564234.0</td>\n",
       "      <td>0.571473</td>\n",
       "      <td>0.412616</td>\n",
       "      <td>dem</td>\n",
       "      <td>15.885711</td>\n",
       "      <td>Safe Democrat</td>\n",
       "    </tr>\n",
       "    <tr>\n",
       "      <th>30</th>\n",
       "      <td>New Mexico</td>\n",
       "      <td>NM</td>\n",
       "      <td>5</td>\n",
       "      <td>501614.0</td>\n",
       "      <td>401894.0</td>\n",
       "      <td>20457.0</td>\n",
       "      <td>923965.0</td>\n",
       "      <td>0.542893</td>\n",
       "      <td>0.434967</td>\n",
       "      <td>dem</td>\n",
       "      <td>10.792617</td>\n",
       "      <td>Safe Democrat</td>\n",
       "    </tr>\n",
       "    <tr>\n",
       "      <th>31</th>\n",
       "      <td>New York</td>\n",
       "      <td>NY</td>\n",
       "      <td>28</td>\n",
       "      <td>5244006.0</td>\n",
       "      <td>3250230.0</td>\n",
       "      <td>121969.0</td>\n",
       "      <td>8616205.0</td>\n",
       "      <td>0.608621</td>\n",
       "      <td>0.377223</td>\n",
       "      <td>dem</td>\n",
       "      <td>23.139839</td>\n",
       "      <td>Safe Democrat</td>\n",
       "    </tr>\n",
       "    <tr>\n",
       "      <th>32</th>\n",
       "      <td>North Carolina</td>\n",
       "      <td>NC</td>\n",
       "      <td>16</td>\n",
       "      <td>2684292.0</td>\n",
       "      <td>2758773.0</td>\n",
       "      <td>81736.0</td>\n",
       "      <td>5524801.0</td>\n",
       "      <td>0.485862</td>\n",
       "      <td>0.499343</td>\n",
       "      <td>gop</td>\n",
       "      <td>-1.348121</td>\n",
       "      <td>Toss-Up</td>\n",
       "    </tr>\n",
       "    <tr>\n",
       "      <th>33</th>\n",
       "      <td>North Dakota</td>\n",
       "      <td>ND</td>\n",
       "      <td>3</td>\n",
       "      <td>114902.0</td>\n",
       "      <td>235595.0</td>\n",
       "      <td>11322.0</td>\n",
       "      <td>361819.0</td>\n",
       "      <td>0.317568</td>\n",
       "      <td>0.651140</td>\n",
       "      <td>gop</td>\n",
       "      <td>-33.357286</td>\n",
       "      <td>Safe Republican</td>\n",
       "    </tr>\n",
       "    <tr>\n",
       "      <th>34</th>\n",
       "      <td>Ohio</td>\n",
       "      <td>OH</td>\n",
       "      <td>17</td>\n",
       "      <td>2679165.0</td>\n",
       "      <td>3154834.0</td>\n",
       "      <td>88203.0</td>\n",
       "      <td>5922202.0</td>\n",
       "      <td>0.452393</td>\n",
       "      <td>0.532713</td>\n",
       "      <td>gop</td>\n",
       "      <td>-8.031962</td>\n",
       "      <td>Likely Republican</td>\n",
       "    </tr>\n",
       "    <tr>\n",
       "      <th>35</th>\n",
       "      <td>Oklahoma</td>\n",
       "      <td>OK</td>\n",
       "      <td>7</td>\n",
       "      <td>503890.0</td>\n",
       "      <td>1020280.0</td>\n",
       "      <td>36529.0</td>\n",
       "      <td>1560699.0</td>\n",
       "      <td>0.322862</td>\n",
       "      <td>0.653733</td>\n",
       "      <td>gop</td>\n",
       "      <td>-33.087098</td>\n",
       "      <td>Safe Republican</td>\n",
       "    </tr>\n",
       "    <tr>\n",
       "      <th>36</th>\n",
       "      <td>Oregon</td>\n",
       "      <td>OR</td>\n",
       "      <td>8</td>\n",
       "      <td>1340383.0</td>\n",
       "      <td>958448.0</td>\n",
       "      <td>75490.0</td>\n",
       "      <td>2374321.0</td>\n",
       "      <td>0.564533</td>\n",
       "      <td>0.403672</td>\n",
       "      <td>dem</td>\n",
       "      <td>16.086073</td>\n",
       "      <td>Safe Democrat</td>\n",
       "    </tr>\n",
       "    <tr>\n",
       "      <th>37</th>\n",
       "      <td>Pennsylvania</td>\n",
       "      <td>PA</td>\n",
       "      <td>19</td>\n",
       "      <td>3459923.0</td>\n",
       "      <td>3378263.0</td>\n",
       "      <td>87069.0</td>\n",
       "      <td>6925255.0</td>\n",
       "      <td>0.499609</td>\n",
       "      <td>0.487818</td>\n",
       "      <td>dem</td>\n",
       "      <td>1.179162</td>\n",
       "      <td>Toss-Up</td>\n",
       "    </tr>\n",
       "    <tr>\n",
       "      <th>38</th>\n",
       "      <td>Rhode Island</td>\n",
       "      <td>RI</td>\n",
       "      <td>4</td>\n",
       "      <td>306210.0</td>\n",
       "      <td>199837.0</td>\n",
       "      <td>10336.0</td>\n",
       "      <td>516383.0</td>\n",
       "      <td>0.592990</td>\n",
       "      <td>0.386994</td>\n",
       "      <td>dem</td>\n",
       "      <td>20.599632</td>\n",
       "      <td>Safe Democrat</td>\n",
       "    </tr>\n",
       "    <tr>\n",
       "      <th>39</th>\n",
       "      <td>South Carolina</td>\n",
       "      <td>SC</td>\n",
       "      <td>9</td>\n",
       "      <td>1091541.0</td>\n",
       "      <td>1385103.0</td>\n",
       "      <td>36685.0</td>\n",
       "      <td>2513329.0</td>\n",
       "      <td>0.434301</td>\n",
       "      <td>0.551103</td>\n",
       "      <td>gop</td>\n",
       "      <td>-11.680206</td>\n",
       "      <td>Safe Republican</td>\n",
       "    </tr>\n",
       "    <tr>\n",
       "      <th>40</th>\n",
       "      <td>South Dakota</td>\n",
       "      <td>SD</td>\n",
       "      <td>3</td>\n",
       "      <td>147642.0</td>\n",
       "      <td>260746.0</td>\n",
       "      <td>11021.0</td>\n",
       "      <td>419409.0</td>\n",
       "      <td>0.352024</td>\n",
       "      <td>0.621699</td>\n",
       "      <td>gop</td>\n",
       "      <td>-26.967471</td>\n",
       "      <td>Safe Republican</td>\n",
       "    </tr>\n",
       "    <tr>\n",
       "      <th>41</th>\n",
       "      <td>Tennessee</td>\n",
       "      <td>TN</td>\n",
       "      <td>11</td>\n",
       "      <td>1143711.0</td>\n",
       "      <td>1852475.0</td>\n",
       "      <td>57665.0</td>\n",
       "      <td>3053851.0</td>\n",
       "      <td>0.374514</td>\n",
       "      <td>0.606603</td>\n",
       "      <td>gop</td>\n",
       "      <td>-23.208860</td>\n",
       "      <td>Safe Republican</td>\n",
       "    </tr>\n",
       "    <tr>\n",
       "      <th>42</th>\n",
       "      <td>Texas</td>\n",
       "      <td>TX</td>\n",
       "      <td>40</td>\n",
       "      <td>5259057.0</td>\n",
       "      <td>5890160.0</td>\n",
       "      <td>168434.0</td>\n",
       "      <td>11317651.0</td>\n",
       "      <td>0.464677</td>\n",
       "      <td>0.520440</td>\n",
       "      <td>gop</td>\n",
       "      <td>-5.576272</td>\n",
       "      <td>Likely Republican</td>\n",
       "    </tr>\n",
       "    <tr>\n",
       "      <th>43</th>\n",
       "      <td>Utah</td>\n",
       "      <td>UT</td>\n",
       "      <td>6</td>\n",
       "      <td>560282.0</td>\n",
       "      <td>865140.0</td>\n",
       "      <td>62867.0</td>\n",
       "      <td>1488289.0</td>\n",
       "      <td>0.376460</td>\n",
       "      <td>0.581298</td>\n",
       "      <td>gop</td>\n",
       "      <td>-20.483790</td>\n",
       "      <td>Safe Republican</td>\n",
       "    </tr>\n",
       "    <tr>\n",
       "      <th>44</th>\n",
       "      <td>Vermont</td>\n",
       "      <td>VT</td>\n",
       "      <td>3</td>\n",
       "      <td>242820.0</td>\n",
       "      <td>112704.0</td>\n",
       "      <td>11904.0</td>\n",
       "      <td>367428.0</td>\n",
       "      <td>0.660864</td>\n",
       "      <td>0.306738</td>\n",
       "      <td>dem</td>\n",
       "      <td>35.412652</td>\n",
       "      <td>Safe Democrat</td>\n",
       "    </tr>\n",
       "    <tr>\n",
       "      <th>45</th>\n",
       "      <td>Virginia</td>\n",
       "      <td>VA</td>\n",
       "      <td>13</td>\n",
       "      <td>2413568.0</td>\n",
       "      <td>1962430.0</td>\n",
       "      <td>84526.0</td>\n",
       "      <td>4460524.0</td>\n",
       "      <td>0.541095</td>\n",
       "      <td>0.439955</td>\n",
       "      <td>dem</td>\n",
       "      <td>10.114014</td>\n",
       "      <td>Safe Democrat</td>\n",
       "    </tr>\n",
       "    <tr>\n",
       "      <th>46</th>\n",
       "      <td>Washington</td>\n",
       "      <td>WA</td>\n",
       "      <td>12</td>\n",
       "      <td>2369612.0</td>\n",
       "      <td>1584651.0</td>\n",
       "      <td>133368.0</td>\n",
       "      <td>4087631.0</td>\n",
       "      <td>0.579703</td>\n",
       "      <td>0.387670</td>\n",
       "      <td>dem</td>\n",
       "      <td>19.203323</td>\n",
       "      <td>Safe Democrat</td>\n",
       "    </tr>\n",
       "    <tr>\n",
       "      <th>47</th>\n",
       "      <td>West Virginia</td>\n",
       "      <td>WV</td>\n",
       "      <td>4</td>\n",
       "      <td>235984.0</td>\n",
       "      <td>545382.0</td>\n",
       "      <td>13286.0</td>\n",
       "      <td>794652.0</td>\n",
       "      <td>0.296965</td>\n",
       "      <td>0.686316</td>\n",
       "      <td>gop</td>\n",
       "      <td>-38.935031</td>\n",
       "      <td>Safe Republican</td>\n",
       "    </tr>\n",
       "    <tr>\n",
       "      <th>48</th>\n",
       "      <td>Wisconsin</td>\n",
       "      <td>WI</td>\n",
       "      <td>10</td>\n",
       "      <td>1630673.0</td>\n",
       "      <td>1610065.0</td>\n",
       "      <td>56614.0</td>\n",
       "      <td>3297352.0</td>\n",
       "      <td>0.494540</td>\n",
       "      <td>0.488290</td>\n",
       "      <td>dem</td>\n",
       "      <td>0.624986</td>\n",
       "      <td>Toss-Up</td>\n",
       "    </tr>\n",
       "    <tr>\n",
       "      <th>49</th>\n",
       "      <td>Wyoming</td>\n",
       "      <td>WY</td>\n",
       "      <td>3</td>\n",
       "      <td>73491.0</td>\n",
       "      <td>193559.0</td>\n",
       "      <td>9715.0</td>\n",
       "      <td>276765.0</td>\n",
       "      <td>0.265536</td>\n",
       "      <td>0.699362</td>\n",
       "      <td>gop</td>\n",
       "      <td>-43.382653</td>\n",
       "      <td>Safe Republican</td>\n",
       "    </tr>\n",
       "  </tbody>\n",
       "</table>\n",
       "</div>"
      ],
      "text/plain": [
       "                   state state_code  ElectoralVotes2024   Votes_dem  \\\n",
       "0                Alabama         AL                   9    849648.0   \n",
       "1                Arizona         AZ                  11   1672143.0   \n",
       "2               Arkansas         AR                   6    423932.0   \n",
       "3             California         CA                  54  11109764.0   \n",
       "4               Colorado         CO                  10   1804352.0   \n",
       "5            Connecticut         CT                   7   1080680.0   \n",
       "6   District of Columbia         DC                   3    317323.0   \n",
       "7               Delaware         DE                   3    296268.0   \n",
       "8                Florida         FL                  30   5297045.0   \n",
       "9                Georgia         GA                  16   2473633.0   \n",
       "10                Hawaii         HI                   4    366130.0   \n",
       "11                 Idaho         ID                   4    287021.0   \n",
       "12              Illinois         IL                  19   3471915.0   \n",
       "13               Indiana         IN                  11   1242495.0   \n",
       "14                  Iowa         IA                   6    759061.0   \n",
       "15                Kansas         KS                   6    558669.0   \n",
       "16              Kentucky         KY                   8    772474.0   \n",
       "17             Louisiana         LA                   8    856034.0   \n",
       "18                 Maine         ME                   4    430473.0   \n",
       "19              Maryland         MD                  10   1985023.0   \n",
       "20         Massachusetts         MA                  11   2382202.0   \n",
       "21              Michigan         MI                  15   2804040.0   \n",
       "22             Minnesota         MN                  10   1717077.0   \n",
       "23           Mississippi         MS                   6    539398.0   \n",
       "24              Missouri         MO                  10   1253014.0   \n",
       "25               Montana         MT                   4    244786.0   \n",
       "26              Nebraska         NE                   5    374583.0   \n",
       "27                Nevada         NV                   6    702584.0   \n",
       "28         New Hampshire         NH                   4    424921.0   \n",
       "29            New Jersey         NJ                  14   2608335.0   \n",
       "30            New Mexico         NM                   5    501614.0   \n",
       "31              New York         NY                  28   5244006.0   \n",
       "32        North Carolina         NC                  16   2684292.0   \n",
       "33          North Dakota         ND                   3    114902.0   \n",
       "34                  Ohio         OH                  17   2679165.0   \n",
       "35              Oklahoma         OK                   7    503890.0   \n",
       "36                Oregon         OR                   8   1340383.0   \n",
       "37          Pennsylvania         PA                  19   3459923.0   \n",
       "38          Rhode Island         RI                   4    306210.0   \n",
       "39        South Carolina         SC                   9   1091541.0   \n",
       "40          South Dakota         SD                   3    147642.0   \n",
       "41             Tennessee         TN                  11   1143711.0   \n",
       "42                 Texas         TX                  40   5259057.0   \n",
       "43                  Utah         UT                   6    560282.0   \n",
       "44               Vermont         VT                   3    242820.0   \n",
       "45              Virginia         VA                  13   2413568.0   \n",
       "46            Washington         WA                  12   2369612.0   \n",
       "47         West Virginia         WV                   4    235984.0   \n",
       "48             Wisconsin         WI                  10   1630673.0   \n",
       "49               Wyoming         WY                   3     73491.0   \n",
       "\n",
       "    Votes_gop  Votes_other  Votes_total  Per_dem_2020  Per_gop_2020 Winner  \\\n",
       "0   1441168.0      32488.0    2323304.0      0.365707      0.620310    gop   \n",
       "1   1661686.0      53497.0    3387326.0      0.493647      0.490560    dem   \n",
       "2    760647.0      34490.0    1219069.0      0.347751      0.623957    gop   \n",
       "3   6005961.0     380181.0   17495906.0      0.634992      0.343278    dem   \n",
       "4   1364607.0      87994.0    3256953.0      0.554000      0.418983    dem   \n",
       "5    715291.0      28309.0    1824280.0      0.592387      0.392095    dem   \n",
       "6     18586.0       8447.0     344356.0      0.921497      0.053973    dem   \n",
       "7    200603.0       7139.0     504010.0      0.587822      0.398014    dem   \n",
       "8   5668731.0     101680.0   11067456.0      0.478615      0.512198    gop   \n",
       "9   2461854.0      62229.0    4997716.0      0.494953      0.492596    dem   \n",
       "10   196864.0      11475.0     574469.0      0.637336      0.342689    dem   \n",
       "11   554118.0      26966.0     868105.0      0.330629      0.638308    gop   \n",
       "12  2446891.0     120044.0    6038850.0      0.574930      0.405192    dem   \n",
       "13  1729852.0      60851.0    3033198.0      0.409632      0.570306    gop   \n",
       "14   897672.0      34138.0    1690871.0      0.448917      0.530893    gop   \n",
       "15   758100.0      32798.0    1349567.0      0.413962      0.561736    gop   \n",
       "16  1326646.0      37648.0    2136768.0      0.361515      0.620866    gop   \n",
       "17  1255776.0      36252.0    2148062.0      0.398515      0.584609    gop   \n",
       "18   359899.0      23368.0     813740.0      0.529006      0.442278    dem   \n",
       "19   976414.0      75593.0    3037030.0      0.653607      0.321503    dem   \n",
       "20  1167202.0      81998.0    3631402.0      0.656001      0.321419    dem   \n",
       "21  2649852.0      85410.0    5539302.0      0.506208      0.478373    dem   \n",
       "22  1484065.0      76029.0    3277171.0      0.523951      0.452849    dem   \n",
       "23   756764.0      19016.0    1315178.0      0.410133      0.575408    gop   \n",
       "24  1718736.0      54212.0    3025962.0      0.414088      0.567997    gop   \n",
       "25   343602.0      17362.0     605750.0      0.404104      0.567234    gop   \n",
       "26   556846.0      24950.0     956379.0      0.391668      0.582244    gop   \n",
       "27   667982.0      31933.0    1402499.0      0.500952      0.476280    dem   \n",
       "28   365654.0      13855.0     804430.0      0.528226      0.454550    dem   \n",
       "29  1883274.0      72625.0    4564234.0      0.571473      0.412616    dem   \n",
       "30   401894.0      20457.0     923965.0      0.542893      0.434967    dem   \n",
       "31  3250230.0     121969.0    8616205.0      0.608621      0.377223    dem   \n",
       "32  2758773.0      81736.0    5524801.0      0.485862      0.499343    gop   \n",
       "33   235595.0      11322.0     361819.0      0.317568      0.651140    gop   \n",
       "34  3154834.0      88203.0    5922202.0      0.452393      0.532713    gop   \n",
       "35  1020280.0      36529.0    1560699.0      0.322862      0.653733    gop   \n",
       "36   958448.0      75490.0    2374321.0      0.564533      0.403672    dem   \n",
       "37  3378263.0      87069.0    6925255.0      0.499609      0.487818    dem   \n",
       "38   199837.0      10336.0     516383.0      0.592990      0.386994    dem   \n",
       "39  1385103.0      36685.0    2513329.0      0.434301      0.551103    gop   \n",
       "40   260746.0      11021.0     419409.0      0.352024      0.621699    gop   \n",
       "41  1852475.0      57665.0    3053851.0      0.374514      0.606603    gop   \n",
       "42  5890160.0     168434.0   11317651.0      0.464677      0.520440    gop   \n",
       "43   865140.0      62867.0    1488289.0      0.376460      0.581298    gop   \n",
       "44   112704.0      11904.0     367428.0      0.660864      0.306738    dem   \n",
       "45  1962430.0      84526.0    4460524.0      0.541095      0.439955    dem   \n",
       "46  1584651.0     133368.0    4087631.0      0.579703      0.387670    dem   \n",
       "47   545382.0      13286.0     794652.0      0.296965      0.686316    gop   \n",
       "48  1610065.0      56614.0    3297352.0      0.494540      0.488290    dem   \n",
       "49   193559.0       9715.0     276765.0      0.265536      0.699362    gop   \n",
       "\n",
       "    Difference             Status  \n",
       "0   -25.460293    Safe Republican  \n",
       "1     0.308710            Toss-Up  \n",
       "2   -27.620668    Safe Republican  \n",
       "3    29.171413      Safe Democrat  \n",
       "4    13.501730      Safe Democrat  \n",
       "5    20.029217      Safe Democrat  \n",
       "6    86.752373      Safe Democrat  \n",
       "7    18.980774      Safe Democrat  \n",
       "8    -3.358369  Likely Republican  \n",
       "9     0.235688            Toss-Up  \n",
       "10   29.464775      Safe Democrat  \n",
       "11  -30.767822    Safe Republican  \n",
       "12   16.973828      Safe Democrat  \n",
       "13  -16.067431    Safe Republican  \n",
       "14   -8.197609  Likely Republican  \n",
       "15  -14.777406    Safe Republican  \n",
       "16  -25.935057    Safe Republican  \n",
       "17  -18.609426    Safe Republican  \n",
       "18    8.672795    Likely Democrat  \n",
       "19   33.210373      Safe Democrat  \n",
       "20   33.458152      Safe Democrat  \n",
       "21    2.783528    Likely Democrat  \n",
       "22    7.110157    Likely Democrat  \n",
       "23  -16.527497    Safe Republican  \n",
       "24  -15.390874    Safe Republican  \n",
       "25  -16.313000    Safe Republican  \n",
       "26  -19.057612    Safe Republican  \n",
       "27    2.467168            Toss-Up  \n",
       "28    7.367577    Likely Democrat  \n",
       "29   15.885711      Safe Democrat  \n",
       "30   10.792617      Safe Democrat  \n",
       "31   23.139839      Safe Democrat  \n",
       "32   -1.348121            Toss-Up  \n",
       "33  -33.357286    Safe Republican  \n",
       "34   -8.031962  Likely Republican  \n",
       "35  -33.087098    Safe Republican  \n",
       "36   16.086073      Safe Democrat  \n",
       "37    1.179162            Toss-Up  \n",
       "38   20.599632      Safe Democrat  \n",
       "39  -11.680206    Safe Republican  \n",
       "40  -26.967471    Safe Republican  \n",
       "41  -23.208860    Safe Republican  \n",
       "42   -5.576272  Likely Republican  \n",
       "43  -20.483790    Safe Republican  \n",
       "44   35.412652      Safe Democrat  \n",
       "45   10.114014      Safe Democrat  \n",
       "46   19.203323      Safe Democrat  \n",
       "47  -38.935031    Safe Republican  \n",
       "48    0.624986            Toss-Up  \n",
       "49  -43.382653    Safe Republican  "
      ]
     },
     "execution_count": 79,
     "metadata": {},
     "output_type": "execute_result"
    }
   ],
   "source": [
    "# Cargar datos electorales reales\n",
    "df_actual = pd.DataFrame({'Votes_dem': data_2020['votes_dem'], \n",
    "                            'Votes_gop': data_2020['total_votes'] - data_2020['votes_dem'] - data_2020['votes_others'], \n",
    "                            'Votes_other': data_2020['votes_others'],\n",
    "                            'Votes_total': data_2020['total_votes'], \n",
    "                            'state': state_names,\n",
    "                            'county': county_names,\n",
    "                            'fips': fips_codes})\n",
    "df_actual_state = df_actual.groupby('state').agg(Votes_dem=(f'Votes_dem', 'sum'), \n",
    "                                                    Votes_gop=(f'Votes_gop', 'sum'),\n",
    "                                                    Votes_other=(f'Votes_other', 'sum'),\n",
    "                                                    Votes_total=(f'Votes_total', 'sum'))\n",
    "\n",
    "df_actual_state[\"Per_dem_2020\"] = df_actual_state[\"Votes_dem\"] / df_actual_state[\"Votes_total\"]\n",
    "df_actual_state[\"Per_gop_2020\"] = df_actual_state[\"Votes_gop\"] / df_actual_state[\"Votes_total\"]\n",
    "\n",
    "# Añadir la columna \"Winner\" basado en los porcentajes predichos de Biden y Trump\n",
    "df_actual_state[\"Winner\"] = np.where(df_actual_state[\"Per_dem_2020\"] < df_actual_state[\"Per_gop_2020\"], 'gop', 'dem')\n",
    "\n",
    "\n",
    "full_df_actual_state = pd.merge(seats_data, df_actual_state, how='inner', on=[\"state\"])\n",
    "\n",
    "\n",
    "\n",
    "# Añadir diferencia entre Biden y Trump\n",
    "full_df_actual_state['Difference'] = (full_df_actual_state[\"Per_dem_2020\"] - full_df_actual_state[\"Per_gop_2020\"]) * 100\n",
    "\n",
    "\n",
    "# Definir las condiciones y los valores a asignar\n",
    "conditions = [\n",
    "    full_df_actual_state[\"Difference\"] > 10,\n",
    "    full_df_actual_state[\"Difference\"].between(2.5, 10),\n",
    "    full_df_actual_state[\"Difference\"].between(-2.5, 2.5),\n",
    "    full_df_actual_state[\"Difference\"].between(-10, -2.5),\n",
    "    full_df_actual_state[\"Difference\"] < -10\n",
    "]\n",
    "\n",
    "choices = [\n",
    "    \"Safe Democrat\",\n",
    "    \"Likely Democrat\",\n",
    "    \"Toss-Up\",\n",
    "    \"Likely Republican\",\n",
    "    \"Safe Republican\"\n",
    "]\n",
    "\n",
    "# Usar np.select para asignar el \"Status\" basado en las condiciones, con un valor por defecto \"Unknown\"\n",
    "full_df_actual_state[\"Status\"] = np.select(conditions, choices, default=\"Unknown\")\n",
    "\n",
    "full_df_actual_state_2020 = full_df_actual_state.copy()\n",
    "full_df_actual_state_2020"
   ]
  },
  {
   "cell_type": "code",
   "execution_count": 80,
   "metadata": {},
   "outputs": [],
   "source": [
    "# columns_to_drop = ['Total_2020', 'Other_2020', 'Winner_2020', \"Biden_2020\"]  # Nombres de las columnas a eliminar\n",
    "columns_to_drop = [\"votes_dem\", \"total_votes\", \"votes_others\", \"per_votes_others\", \"winner\"]  # Nombres de las columnas a eliminar\n",
    "\n",
    "data_2020 = data_2020.drop(columns=columns_to_drop)"
   ]
  },
  {
   "cell_type": "markdown",
   "metadata": {},
   "source": [
    "### Historical data"
   ]
  },
  {
   "cell_type": "code",
   "execution_count": 81,
   "metadata": {},
   "outputs": [
    {
     "name": "stdout",
     "output_type": "stream",
     "text": [
      "2016 Columns: Index(['state', 'state_code', 'ElectoralVotes2024', 'Votes_dem', 'Votes_gop',\n",
      "       'Votes_other', 'Votes_total', 'Per_dem_2016', 'Per_gop_2016', 'Winner',\n",
      "       'Difference', 'Status'],\n",
      "      dtype='object')\n",
      "2020 Columns: Index(['state', 'state_code', 'ElectoralVotes2024', 'Votes_dem', 'Votes_gop',\n",
      "       'Votes_other', 'Votes_total', 'Per_dem_2020', 'Per_gop_2020', 'Winner',\n",
      "       'Difference', 'Status'],\n",
      "      dtype='object')\n"
     ]
    }
   ],
   "source": [
    "# Revisar nombres de columnas\n",
    "print(\"2016 Columns:\", full_df_actual_state_2016.columns)\n",
    "print(\"2020 Columns:\", full_df_actual_state_2020.columns)"
   ]
  },
  {
   "cell_type": "code",
   "execution_count": 82,
   "metadata": {},
   "outputs": [
    {
     "data": {
      "text/html": [
       "<div>\n",
       "<style scoped>\n",
       "    .dataframe tbody tr th:only-of-type {\n",
       "        vertical-align: middle;\n",
       "    }\n",
       "\n",
       "    .dataframe tbody tr th {\n",
       "        vertical-align: top;\n",
       "    }\n",
       "\n",
       "    .dataframe thead th {\n",
       "        text-align: right;\n",
       "    }\n",
       "</style>\n",
       "<table border=\"1\" class=\"dataframe\">\n",
       "  <thead>\n",
       "    <tr style=\"text-align: right;\">\n",
       "      <th></th>\n",
       "      <th>state</th>\n",
       "      <th>per_dem_2016</th>\n",
       "      <th>per_gop_2016</th>\n",
       "      <th>per_dem_2020</th>\n",
       "      <th>per_gop_2020</th>\n",
       "      <th>swing_dem</th>\n",
       "      <th>swing_gop</th>\n",
       "    </tr>\n",
       "  </thead>\n",
       "  <tbody>\n",
       "    <tr>\n",
       "      <th>0</th>\n",
       "      <td>Alabama</td>\n",
       "      <td>0.345538</td>\n",
       "      <td>0.628884</td>\n",
       "      <td>0.365707</td>\n",
       "      <td>0.620310</td>\n",
       "      <td>0.020169</td>\n",
       "      <td>-0.008574</td>\n",
       "    </tr>\n",
       "    <tr>\n",
       "      <th>1</th>\n",
       "      <td>Arizona</td>\n",
       "      <td>0.453871</td>\n",
       "      <td>0.495031</td>\n",
       "      <td>0.493647</td>\n",
       "      <td>0.490560</td>\n",
       "      <td>0.039776</td>\n",
       "      <td>-0.004471</td>\n",
       "    </tr>\n",
       "    <tr>\n",
       "      <th>2</th>\n",
       "      <td>Arkansas</td>\n",
       "      <td>0.341624</td>\n",
       "      <td>0.611487</td>\n",
       "      <td>0.347751</td>\n",
       "      <td>0.623957</td>\n",
       "      <td>0.006127</td>\n",
       "      <td>0.012470</td>\n",
       "    </tr>\n",
       "    <tr>\n",
       "      <th>3</th>\n",
       "      <td>California</td>\n",
       "      <td>0.615885</td>\n",
       "      <td>0.327598</td>\n",
       "      <td>0.634992</td>\n",
       "      <td>0.343278</td>\n",
       "      <td>0.019107</td>\n",
       "      <td>0.015680</td>\n",
       "    </tr>\n",
       "    <tr>\n",
       "      <th>4</th>\n",
       "      <td>Colorado</td>\n",
       "      <td>0.472746</td>\n",
       "      <td>0.443593</td>\n",
       "      <td>0.554000</td>\n",
       "      <td>0.418983</td>\n",
       "      <td>0.081254</td>\n",
       "      <td>-0.024610</td>\n",
       "    </tr>\n",
       "    <tr>\n",
       "      <th>5</th>\n",
       "      <td>Connecticut</td>\n",
       "      <td>0.544755</td>\n",
       "      <td>0.411610</td>\n",
       "      <td>0.592387</td>\n",
       "      <td>0.392095</td>\n",
       "      <td>0.047633</td>\n",
       "      <td>-0.019515</td>\n",
       "    </tr>\n",
       "    <tr>\n",
       "      <th>6</th>\n",
       "      <td>District of Columbia</td>\n",
       "      <td>0.928466</td>\n",
       "      <td>0.041221</td>\n",
       "      <td>0.921497</td>\n",
       "      <td>0.053973</td>\n",
       "      <td>-0.006969</td>\n",
       "      <td>0.012753</td>\n",
       "    </tr>\n",
       "    <tr>\n",
       "      <th>7</th>\n",
       "      <td>Delaware</td>\n",
       "      <td>0.533550</td>\n",
       "      <td>0.419226</td>\n",
       "      <td>0.587822</td>\n",
       "      <td>0.398014</td>\n",
       "      <td>0.054272</td>\n",
       "      <td>-0.021212</td>\n",
       "    </tr>\n",
       "    <tr>\n",
       "      <th>8</th>\n",
       "      <td>Florida</td>\n",
       "      <td>0.477881</td>\n",
       "      <td>0.490640</td>\n",
       "      <td>0.478615</td>\n",
       "      <td>0.512198</td>\n",
       "      <td>0.000734</td>\n",
       "      <td>0.021558</td>\n",
       "    </tr>\n",
       "    <tr>\n",
       "      <th>9</th>\n",
       "      <td>Georgia</td>\n",
       "      <td>0.455955</td>\n",
       "      <td>0.513361</td>\n",
       "      <td>0.494953</td>\n",
       "      <td>0.492596</td>\n",
       "      <td>0.038998</td>\n",
       "      <td>-0.020766</td>\n",
       "    </tr>\n",
       "    <tr>\n",
       "      <th>10</th>\n",
       "      <td>Hawaii</td>\n",
       "      <td>0.622228</td>\n",
       "      <td>0.300391</td>\n",
       "      <td>0.637336</td>\n",
       "      <td>0.342689</td>\n",
       "      <td>0.015108</td>\n",
       "      <td>0.042298</td>\n",
       "    </tr>\n",
       "    <tr>\n",
       "      <th>11</th>\n",
       "      <td>Idaho</td>\n",
       "      <td>0.275599</td>\n",
       "      <td>0.591657</td>\n",
       "      <td>0.330629</td>\n",
       "      <td>0.638308</td>\n",
       "      <td>0.055030</td>\n",
       "      <td>0.046651</td>\n",
       "    </tr>\n",
       "    <tr>\n",
       "      <th>12</th>\n",
       "      <td>Illinois</td>\n",
       "      <td>0.554027</td>\n",
       "      <td>0.394133</td>\n",
       "      <td>0.574930</td>\n",
       "      <td>0.405192</td>\n",
       "      <td>0.020902</td>\n",
       "      <td>0.011059</td>\n",
       "    </tr>\n",
       "    <tr>\n",
       "      <th>13</th>\n",
       "      <td>Indiana</td>\n",
       "      <td>0.379112</td>\n",
       "      <td>0.571713</td>\n",
       "      <td>0.409632</td>\n",
       "      <td>0.570306</td>\n",
       "      <td>0.030520</td>\n",
       "      <td>-0.001407</td>\n",
       "    </tr>\n",
       "    <tr>\n",
       "      <th>14</th>\n",
       "      <td>Iowa</td>\n",
       "      <td>0.421802</td>\n",
       "      <td>0.517813</td>\n",
       "      <td>0.448917</td>\n",
       "      <td>0.530893</td>\n",
       "      <td>0.027115</td>\n",
       "      <td>0.013080</td>\n",
       "    </tr>\n",
       "    <tr>\n",
       "      <th>15</th>\n",
       "      <td>Kansas</td>\n",
       "      <td>0.361584</td>\n",
       "      <td>0.571863</td>\n",
       "      <td>0.413962</td>\n",
       "      <td>0.561736</td>\n",
       "      <td>0.052378</td>\n",
       "      <td>-0.010128</td>\n",
       "    </tr>\n",
       "    <tr>\n",
       "      <th>16</th>\n",
       "      <td>Kentucky</td>\n",
       "      <td>0.327140</td>\n",
       "      <td>0.625809</td>\n",
       "      <td>0.361515</td>\n",
       "      <td>0.620866</td>\n",
       "      <td>0.034375</td>\n",
       "      <td>-0.004944</td>\n",
       "    </tr>\n",
       "    <tr>\n",
       "      <th>17</th>\n",
       "      <td>Louisiana</td>\n",
       "      <td>0.384437</td>\n",
       "      <td>0.580947</td>\n",
       "      <td>0.398515</td>\n",
       "      <td>0.584609</td>\n",
       "      <td>0.014077</td>\n",
       "      <td>0.003662</td>\n",
       "    </tr>\n",
       "    <tr>\n",
       "      <th>18</th>\n",
       "      <td>Maine</td>\n",
       "      <td>0.478556</td>\n",
       "      <td>0.451538</td>\n",
       "      <td>0.529006</td>\n",
       "      <td>0.442278</td>\n",
       "      <td>0.050450</td>\n",
       "      <td>-0.009260</td>\n",
       "    </tr>\n",
       "    <tr>\n",
       "      <th>19</th>\n",
       "      <td>Maryland</td>\n",
       "      <td>0.605345</td>\n",
       "      <td>0.353053</td>\n",
       "      <td>0.653607</td>\n",
       "      <td>0.321503</td>\n",
       "      <td>0.048262</td>\n",
       "      <td>-0.031551</td>\n",
       "    </tr>\n",
       "    <tr>\n",
       "      <th>20</th>\n",
       "      <td>Massachusetts</td>\n",
       "      <td>0.607999</td>\n",
       "      <td>0.335157</td>\n",
       "      <td>0.656001</td>\n",
       "      <td>0.321419</td>\n",
       "      <td>0.048002</td>\n",
       "      <td>-0.013738</td>\n",
       "    </tr>\n",
       "    <tr>\n",
       "      <th>21</th>\n",
       "      <td>Michigan</td>\n",
       "      <td>0.473436</td>\n",
       "      <td>0.475860</td>\n",
       "      <td>0.506208</td>\n",
       "      <td>0.478373</td>\n",
       "      <td>0.032772</td>\n",
       "      <td>0.002513</td>\n",
       "    </tr>\n",
       "    <tr>\n",
       "      <th>22</th>\n",
       "      <td>Minnesota</td>\n",
       "      <td>0.468617</td>\n",
       "      <td>0.453603</td>\n",
       "      <td>0.523951</td>\n",
       "      <td>0.452849</td>\n",
       "      <td>0.055334</td>\n",
       "      <td>-0.000754</td>\n",
       "    </tr>\n",
       "    <tr>\n",
       "      <th>23</th>\n",
       "      <td>Mississippi</td>\n",
       "      <td>0.397254</td>\n",
       "      <td>0.583375</td>\n",
       "      <td>0.410133</td>\n",
       "      <td>0.575408</td>\n",
       "      <td>0.012879</td>\n",
       "      <td>-0.007966</td>\n",
       "    </tr>\n",
       "    <tr>\n",
       "      <th>24</th>\n",
       "      <td>Missouri</td>\n",
       "      <td>0.380127</td>\n",
       "      <td>0.571422</td>\n",
       "      <td>0.414088</td>\n",
       "      <td>0.567997</td>\n",
       "      <td>0.033961</td>\n",
       "      <td>-0.003426</td>\n",
       "    </tr>\n",
       "    <tr>\n",
       "      <th>25</th>\n",
       "      <td>Montana</td>\n",
       "      <td>0.360898</td>\n",
       "      <td>0.566863</td>\n",
       "      <td>0.404104</td>\n",
       "      <td>0.567234</td>\n",
       "      <td>0.043206</td>\n",
       "      <td>0.000371</td>\n",
       "    </tr>\n",
       "    <tr>\n",
       "      <th>26</th>\n",
       "      <td>Nebraska</td>\n",
       "      <td>0.339927</td>\n",
       "      <td>0.603024</td>\n",
       "      <td>0.391668</td>\n",
       "      <td>0.582244</td>\n",
       "      <td>0.051741</td>\n",
       "      <td>-0.020780</td>\n",
       "    </tr>\n",
       "    <tr>\n",
       "      <th>27</th>\n",
       "      <td>Nevada</td>\n",
       "      <td>0.479280</td>\n",
       "      <td>0.454916</td>\n",
       "      <td>0.500952</td>\n",
       "      <td>0.476280</td>\n",
       "      <td>0.021671</td>\n",
       "      <td>0.021363</td>\n",
       "    </tr>\n",
       "    <tr>\n",
       "      <th>28</th>\n",
       "      <td>New Hampshire</td>\n",
       "      <td>0.476413</td>\n",
       "      <td>0.472678</td>\n",
       "      <td>0.528226</td>\n",
       "      <td>0.454550</td>\n",
       "      <td>0.051814</td>\n",
       "      <td>-0.018128</td>\n",
       "    </tr>\n",
       "    <tr>\n",
       "      <th>29</th>\n",
       "      <td>New Jersey</td>\n",
       "      <td>0.550154</td>\n",
       "      <td>0.417839</td>\n",
       "      <td>0.571473</td>\n",
       "      <td>0.412616</td>\n",
       "      <td>0.021319</td>\n",
       "      <td>-0.005223</td>\n",
       "    </tr>\n",
       "    <tr>\n",
       "      <th>30</th>\n",
       "      <td>New Mexico</td>\n",
       "      <td>0.486159</td>\n",
       "      <td>0.403351</td>\n",
       "      <td>0.542893</td>\n",
       "      <td>0.434967</td>\n",
       "      <td>0.056734</td>\n",
       "      <td>0.031616</td>\n",
       "    </tr>\n",
       "    <tr>\n",
       "      <th>31</th>\n",
       "      <td>New York</td>\n",
       "      <td>0.588103</td>\n",
       "      <td>0.374752</td>\n",
       "      <td>0.608621</td>\n",
       "      <td>0.377223</td>\n",
       "      <td>0.020519</td>\n",
       "      <td>0.002471</td>\n",
       "    </tr>\n",
       "    <tr>\n",
       "      <th>32</th>\n",
       "      <td>North Carolina</td>\n",
       "      <td>0.467024</td>\n",
       "      <td>0.505372</td>\n",
       "      <td>0.485862</td>\n",
       "      <td>0.499343</td>\n",
       "      <td>0.018838</td>\n",
       "      <td>-0.006028</td>\n",
       "    </tr>\n",
       "    <tr>\n",
       "      <th>33</th>\n",
       "      <td>North Dakota</td>\n",
       "      <td>0.277552</td>\n",
       "      <td>0.641405</td>\n",
       "      <td>0.317568</td>\n",
       "      <td>0.651140</td>\n",
       "      <td>0.040016</td>\n",
       "      <td>0.009735</td>\n",
       "    </tr>\n",
       "    <tr>\n",
       "      <th>34</th>\n",
       "      <td>Ohio</td>\n",
       "      <td>0.435085</td>\n",
       "      <td>0.520522</td>\n",
       "      <td>0.452393</td>\n",
       "      <td>0.532713</td>\n",
       "      <td>0.017308</td>\n",
       "      <td>0.012191</td>\n",
       "    </tr>\n",
       "    <tr>\n",
       "      <th>35</th>\n",
       "      <td>Oklahoma</td>\n",
       "      <td>0.289298</td>\n",
       "      <td>0.653272</td>\n",
       "      <td>0.322862</td>\n",
       "      <td>0.653733</td>\n",
       "      <td>0.033563</td>\n",
       "      <td>0.000461</td>\n",
       "    </tr>\n",
       "    <tr>\n",
       "      <th>36</th>\n",
       "      <td>Oregon</td>\n",
       "      <td>0.516778</td>\n",
       "      <td>0.410548</td>\n",
       "      <td>0.564533</td>\n",
       "      <td>0.403672</td>\n",
       "      <td>0.047756</td>\n",
       "      <td>-0.006875</td>\n",
       "    </tr>\n",
       "    <tr>\n",
       "      <th>37</th>\n",
       "      <td>Pennsylvania</td>\n",
       "      <td>0.476491</td>\n",
       "      <td>0.487921</td>\n",
       "      <td>0.499609</td>\n",
       "      <td>0.487818</td>\n",
       "      <td>0.023118</td>\n",
       "      <td>-0.000103</td>\n",
       "    </tr>\n",
       "    <tr>\n",
       "      <th>38</th>\n",
       "      <td>Rhode Island</td>\n",
       "      <td>0.555188</td>\n",
       "      <td>0.398606</td>\n",
       "      <td>0.592990</td>\n",
       "      <td>0.386994</td>\n",
       "      <td>0.037802</td>\n",
       "      <td>-0.011612</td>\n",
       "    </tr>\n",
       "    <tr>\n",
       "      <th>39</th>\n",
       "      <td>South Carolina</td>\n",
       "      <td>0.407528</td>\n",
       "      <td>0.548641</td>\n",
       "      <td>0.434301</td>\n",
       "      <td>0.551103</td>\n",
       "      <td>0.026773</td>\n",
       "      <td>0.002462</td>\n",
       "    </tr>\n",
       "    <tr>\n",
       "      <th>40</th>\n",
       "      <td>South Dakota</td>\n",
       "      <td>0.313054</td>\n",
       "      <td>0.619527</td>\n",
       "      <td>0.352024</td>\n",
       "      <td>0.621699</td>\n",
       "      <td>0.038970</td>\n",
       "      <td>0.002172</td>\n",
       "    </tr>\n",
       "    <tr>\n",
       "      <th>41</th>\n",
       "      <td>Tennessee</td>\n",
       "      <td>0.348981</td>\n",
       "      <td>0.610700</td>\n",
       "      <td>0.374514</td>\n",
       "      <td>0.606603</td>\n",
       "      <td>0.025533</td>\n",
       "      <td>-0.004098</td>\n",
       "    </tr>\n",
       "    <tr>\n",
       "      <th>42</th>\n",
       "      <td>Texas</td>\n",
       "      <td>0.434429</td>\n",
       "      <td>0.525829</td>\n",
       "      <td>0.464677</td>\n",
       "      <td>0.520440</td>\n",
       "      <td>0.030249</td>\n",
       "      <td>-0.005389</td>\n",
       "    </tr>\n",
       "    <tr>\n",
       "      <th>43</th>\n",
       "      <td>Utah</td>\n",
       "      <td>0.278376</td>\n",
       "      <td>0.458991</td>\n",
       "      <td>0.376460</td>\n",
       "      <td>0.581298</td>\n",
       "      <td>0.098085</td>\n",
       "      <td>0.122308</td>\n",
       "    </tr>\n",
       "    <tr>\n",
       "      <th>44</th>\n",
       "      <td>Vermont</td>\n",
       "      <td>0.611431</td>\n",
       "      <td>0.326180</td>\n",
       "      <td>0.660864</td>\n",
       "      <td>0.306738</td>\n",
       "      <td>0.049433</td>\n",
       "      <td>-0.019442</td>\n",
       "    </tr>\n",
       "    <tr>\n",
       "      <th>45</th>\n",
       "      <td>Virginia</td>\n",
       "      <td>0.498557</td>\n",
       "      <td>0.450261</td>\n",
       "      <td>0.541095</td>\n",
       "      <td>0.439955</td>\n",
       "      <td>0.042538</td>\n",
       "      <td>-0.010306</td>\n",
       "    </tr>\n",
       "    <tr>\n",
       "      <th>46</th>\n",
       "      <td>Washington</td>\n",
       "      <td>0.544475</td>\n",
       "      <td>0.381725</td>\n",
       "      <td>0.579703</td>\n",
       "      <td>0.387670</td>\n",
       "      <td>0.035229</td>\n",
       "      <td>0.005945</td>\n",
       "    </tr>\n",
       "    <tr>\n",
       "      <th>47</th>\n",
       "      <td>West Virginia</td>\n",
       "      <td>0.264685</td>\n",
       "      <td>0.686501</td>\n",
       "      <td>0.296965</td>\n",
       "      <td>0.686316</td>\n",
       "      <td>0.032280</td>\n",
       "      <td>-0.000186</td>\n",
       "    </tr>\n",
       "    <tr>\n",
       "      <th>48</th>\n",
       "      <td>Wisconsin</td>\n",
       "      <td>0.470095</td>\n",
       "      <td>0.477882</td>\n",
       "      <td>0.494540</td>\n",
       "      <td>0.488290</td>\n",
       "      <td>0.024445</td>\n",
       "      <td>0.010409</td>\n",
       "    </tr>\n",
       "    <tr>\n",
       "      <th>49</th>\n",
       "      <td>Wyoming</td>\n",
       "      <td>0.224928</td>\n",
       "      <td>0.700517</td>\n",
       "      <td>0.265536</td>\n",
       "      <td>0.699362</td>\n",
       "      <td>0.040608</td>\n",
       "      <td>-0.001155</td>\n",
       "    </tr>\n",
       "  </tbody>\n",
       "</table>\n",
       "</div>"
      ],
      "text/plain": [
       "                   state  per_dem_2016  per_gop_2016  per_dem_2020  \\\n",
       "0                Alabama      0.345538      0.628884      0.365707   \n",
       "1                Arizona      0.453871      0.495031      0.493647   \n",
       "2               Arkansas      0.341624      0.611487      0.347751   \n",
       "3             California      0.615885      0.327598      0.634992   \n",
       "4               Colorado      0.472746      0.443593      0.554000   \n",
       "5            Connecticut      0.544755      0.411610      0.592387   \n",
       "6   District of Columbia      0.928466      0.041221      0.921497   \n",
       "7               Delaware      0.533550      0.419226      0.587822   \n",
       "8                Florida      0.477881      0.490640      0.478615   \n",
       "9                Georgia      0.455955      0.513361      0.494953   \n",
       "10                Hawaii      0.622228      0.300391      0.637336   \n",
       "11                 Idaho      0.275599      0.591657      0.330629   \n",
       "12              Illinois      0.554027      0.394133      0.574930   \n",
       "13               Indiana      0.379112      0.571713      0.409632   \n",
       "14                  Iowa      0.421802      0.517813      0.448917   \n",
       "15                Kansas      0.361584      0.571863      0.413962   \n",
       "16              Kentucky      0.327140      0.625809      0.361515   \n",
       "17             Louisiana      0.384437      0.580947      0.398515   \n",
       "18                 Maine      0.478556      0.451538      0.529006   \n",
       "19              Maryland      0.605345      0.353053      0.653607   \n",
       "20         Massachusetts      0.607999      0.335157      0.656001   \n",
       "21              Michigan      0.473436      0.475860      0.506208   \n",
       "22             Minnesota      0.468617      0.453603      0.523951   \n",
       "23           Mississippi      0.397254      0.583375      0.410133   \n",
       "24              Missouri      0.380127      0.571422      0.414088   \n",
       "25               Montana      0.360898      0.566863      0.404104   \n",
       "26              Nebraska      0.339927      0.603024      0.391668   \n",
       "27                Nevada      0.479280      0.454916      0.500952   \n",
       "28         New Hampshire      0.476413      0.472678      0.528226   \n",
       "29            New Jersey      0.550154      0.417839      0.571473   \n",
       "30            New Mexico      0.486159      0.403351      0.542893   \n",
       "31              New York      0.588103      0.374752      0.608621   \n",
       "32        North Carolina      0.467024      0.505372      0.485862   \n",
       "33          North Dakota      0.277552      0.641405      0.317568   \n",
       "34                  Ohio      0.435085      0.520522      0.452393   \n",
       "35              Oklahoma      0.289298      0.653272      0.322862   \n",
       "36                Oregon      0.516778      0.410548      0.564533   \n",
       "37          Pennsylvania      0.476491      0.487921      0.499609   \n",
       "38          Rhode Island      0.555188      0.398606      0.592990   \n",
       "39        South Carolina      0.407528      0.548641      0.434301   \n",
       "40          South Dakota      0.313054      0.619527      0.352024   \n",
       "41             Tennessee      0.348981      0.610700      0.374514   \n",
       "42                 Texas      0.434429      0.525829      0.464677   \n",
       "43                  Utah      0.278376      0.458991      0.376460   \n",
       "44               Vermont      0.611431      0.326180      0.660864   \n",
       "45              Virginia      0.498557      0.450261      0.541095   \n",
       "46            Washington      0.544475      0.381725      0.579703   \n",
       "47         West Virginia      0.264685      0.686501      0.296965   \n",
       "48             Wisconsin      0.470095      0.477882      0.494540   \n",
       "49               Wyoming      0.224928      0.700517      0.265536   \n",
       "\n",
       "    per_gop_2020  swing_dem  swing_gop  \n",
       "0       0.620310   0.020169  -0.008574  \n",
       "1       0.490560   0.039776  -0.004471  \n",
       "2       0.623957   0.006127   0.012470  \n",
       "3       0.343278   0.019107   0.015680  \n",
       "4       0.418983   0.081254  -0.024610  \n",
       "5       0.392095   0.047633  -0.019515  \n",
       "6       0.053973  -0.006969   0.012753  \n",
       "7       0.398014   0.054272  -0.021212  \n",
       "8       0.512198   0.000734   0.021558  \n",
       "9       0.492596   0.038998  -0.020766  \n",
       "10      0.342689   0.015108   0.042298  \n",
       "11      0.638308   0.055030   0.046651  \n",
       "12      0.405192   0.020902   0.011059  \n",
       "13      0.570306   0.030520  -0.001407  \n",
       "14      0.530893   0.027115   0.013080  \n",
       "15      0.561736   0.052378  -0.010128  \n",
       "16      0.620866   0.034375  -0.004944  \n",
       "17      0.584609   0.014077   0.003662  \n",
       "18      0.442278   0.050450  -0.009260  \n",
       "19      0.321503   0.048262  -0.031551  \n",
       "20      0.321419   0.048002  -0.013738  \n",
       "21      0.478373   0.032772   0.002513  \n",
       "22      0.452849   0.055334  -0.000754  \n",
       "23      0.575408   0.012879  -0.007966  \n",
       "24      0.567997   0.033961  -0.003426  \n",
       "25      0.567234   0.043206   0.000371  \n",
       "26      0.582244   0.051741  -0.020780  \n",
       "27      0.476280   0.021671   0.021363  \n",
       "28      0.454550   0.051814  -0.018128  \n",
       "29      0.412616   0.021319  -0.005223  \n",
       "30      0.434967   0.056734   0.031616  \n",
       "31      0.377223   0.020519   0.002471  \n",
       "32      0.499343   0.018838  -0.006028  \n",
       "33      0.651140   0.040016   0.009735  \n",
       "34      0.532713   0.017308   0.012191  \n",
       "35      0.653733   0.033563   0.000461  \n",
       "36      0.403672   0.047756  -0.006875  \n",
       "37      0.487818   0.023118  -0.000103  \n",
       "38      0.386994   0.037802  -0.011612  \n",
       "39      0.551103   0.026773   0.002462  \n",
       "40      0.621699   0.038970   0.002172  \n",
       "41      0.606603   0.025533  -0.004098  \n",
       "42      0.520440   0.030249  -0.005389  \n",
       "43      0.581298   0.098085   0.122308  \n",
       "44      0.306738   0.049433  -0.019442  \n",
       "45      0.439955   0.042538  -0.010306  \n",
       "46      0.387670   0.035229   0.005945  \n",
       "47      0.686316   0.032280  -0.000186  \n",
       "48      0.488290   0.024445   0.010409  \n",
       "49      0.699362   0.040608  -0.001155  "
      ]
     },
     "execution_count": 82,
     "metadata": {},
     "output_type": "execute_result"
    }
   ],
   "source": [
    "# Combinar ambos años en historical_data usando \"state\"\n",
    "historical_data = full_df_actual_state_2016[['state', 'Per_dem_2016', 'Per_gop_2016']].rename(\n",
    "    columns={\"Per_dem_2016\": \"per_dem_2016\", \"Per_gop_2016\": \"per_gop_2016\"}\n",
    ").merge(\n",
    "    full_df_actual_state_2020[['state', 'Per_dem_2020', 'Per_gop_2020']].rename(\n",
    "        columns={\"Per_dem_2020\": \"per_dem_2020\", \"Per_gop_2020\": \"per_gop_2020\"}\n",
    "    ),\n",
    "    on=\"state\",\n",
    "    how=\"inner\"\n",
    ")\n",
    "\n",
    "# Calcular la diferencia en porcentaje de votos entre 2016 y 2020\n",
    "historical_data[\"swing_dem\"] = historical_data[\"per_dem_2020\"] - historical_data[\"per_dem_2016\"]\n",
    "historical_data[\"swing_gop\"] = historical_data[\"per_gop_2020\"] - historical_data[\"per_gop_2016\"]\n",
    "\n",
    "historical_data"
   ]
  },
  {
   "cell_type": "markdown",
   "metadata": {},
   "source": [
    "### 2024"
   ]
  },
  {
   "cell_type": "code",
   "execution_count": 83,
   "metadata": {},
   "outputs": [],
   "source": [
    "# Cargar datos\n",
    "data = read_csv(f\"data/final_data_{ELECTORAL_YEAR}.csv\")\n",
    "\n",
    "# Crear data para simulación\n",
    "# columns_to_drop = ['Total_2020', 'Other_2020', 'Winner_2020', \"Biden_2020\"]  # Nombres de las columnas a eliminar\n",
    "columns_to_drop = [\"votes_dem\", \"total_votes\", \"votes_others\", \"per_votes_others\", \"winner\"]  # Nombres de las columnas a eliminar\n",
    "\n",
    "data_sim = data.drop(columns=columns_to_drop)"
   ]
  },
  {
   "cell_type": "code",
   "execution_count": 84,
   "metadata": {},
   "outputs": [
    {
     "data": {
      "text/html": [
       "<div>\n",
       "<style scoped>\n",
       "    .dataframe tbody tr th:only-of-type {\n",
       "        vertical-align: middle;\n",
       "    }\n",
       "\n",
       "    .dataframe tbody tr th {\n",
       "        vertical-align: top;\n",
       "    }\n",
       "\n",
       "    .dataframe thead th {\n",
       "        text-align: right;\n",
       "    }\n",
       "</style>\n",
       "<table border=\"1\" class=\"dataframe\">\n",
       "  <thead>\n",
       "    <tr style=\"text-align: right;\">\n",
       "      <th></th>\n",
       "      <th>state</th>\n",
       "      <th>state_code</th>\n",
       "      <th>ElectoralVotes2024</th>\n",
       "      <th>Votes_dem</th>\n",
       "      <th>Votes_gop</th>\n",
       "      <th>Votes_other</th>\n",
       "      <th>Votes_total</th>\n",
       "      <th>Per_dem</th>\n",
       "      <th>Per_gop</th>\n",
       "      <th>Winner</th>\n",
       "      <th>Difference</th>\n",
       "      <th>Status</th>\n",
       "    </tr>\n",
       "  </thead>\n",
       "  <tbody>\n",
       "    <tr>\n",
       "      <th>0</th>\n",
       "      <td>Alabama</td>\n",
       "      <td>AL</td>\n",
       "      <td>9</td>\n",
       "      <td>772412.0</td>\n",
       "      <td>1462616.0</td>\n",
       "      <td>21324.0</td>\n",
       "      <td>2256352.0</td>\n",
       "      <td>0.342328</td>\n",
       "      <td>0.648222</td>\n",
       "      <td>gop</td>\n",
       "      <td>-30.589376</td>\n",
       "      <td>Safe Republican</td>\n",
       "    </tr>\n",
       "    <tr>\n",
       "      <th>1</th>\n",
       "      <td>Arizona</td>\n",
       "      <td>AZ</td>\n",
       "      <td>11</td>\n",
       "      <td>1582860.0</td>\n",
       "      <td>1770242.0</td>\n",
       "      <td>36217.0</td>\n",
       "      <td>3389319.0</td>\n",
       "      <td>0.467014</td>\n",
       "      <td>0.522300</td>\n",
       "      <td>gop</td>\n",
       "      <td>-5.528603</td>\n",
       "      <td>Likely Republican</td>\n",
       "    </tr>\n",
       "    <tr>\n",
       "      <th>2</th>\n",
       "      <td>Arkansas</td>\n",
       "      <td>AR</td>\n",
       "      <td>6</td>\n",
       "      <td>396905.0</td>\n",
       "      <td>759241.0</td>\n",
       "      <td>26530.0</td>\n",
       "      <td>1182676.0</td>\n",
       "      <td>0.335599</td>\n",
       "      <td>0.641969</td>\n",
       "      <td>gop</td>\n",
       "      <td>-30.636962</td>\n",
       "      <td>Safe Republican</td>\n",
       "    </tr>\n",
       "    <tr>\n",
       "      <th>3</th>\n",
       "      <td>California</td>\n",
       "      <td>CA</td>\n",
       "      <td>54</td>\n",
       "      <td>9276179.0</td>\n",
       "      <td>6081697.0</td>\n",
       "      <td>504660.0</td>\n",
       "      <td>15862536.0</td>\n",
       "      <td>0.584785</td>\n",
       "      <td>0.383400</td>\n",
       "      <td>dem</td>\n",
       "      <td>20.138533</td>\n",
       "      <td>Safe Democrat</td>\n",
       "    </tr>\n",
       "    <tr>\n",
       "      <th>4</th>\n",
       "      <td>Colorado</td>\n",
       "      <td>CO</td>\n",
       "      <td>10</td>\n",
       "      <td>1728159.0</td>\n",
       "      <td>1377441.0</td>\n",
       "      <td>85273.0</td>\n",
       "      <td>3190873.0</td>\n",
       "      <td>0.541594</td>\n",
       "      <td>0.431682</td>\n",
       "      <td>dem</td>\n",
       "      <td>10.991287</td>\n",
       "      <td>Safe Democrat</td>\n",
       "    </tr>\n",
       "    <tr>\n",
       "      <th>5</th>\n",
       "      <td>Connecticut</td>\n",
       "      <td>CT</td>\n",
       "      <td>7</td>\n",
       "      <td>810859.0</td>\n",
       "      <td>614616.0</td>\n",
       "      <td>24654.0</td>\n",
       "      <td>1450129.0</td>\n",
       "      <td>0.559163</td>\n",
       "      <td>0.423835</td>\n",
       "      <td>dem</td>\n",
       "      <td>13.532796</td>\n",
       "      <td>Safe Democrat</td>\n",
       "    </tr>\n",
       "    <tr>\n",
       "      <th>6</th>\n",
       "      <td>District of Columbia</td>\n",
       "      <td>DC</td>\n",
       "      <td>3</td>\n",
       "      <td>36882.0</td>\n",
       "      <td>2056.0</td>\n",
       "      <td>1525.0</td>\n",
       "      <td>40463.0</td>\n",
       "      <td>0.911499</td>\n",
       "      <td>0.050812</td>\n",
       "      <td>dem</td>\n",
       "      <td>86.068754</td>\n",
       "      <td>Safe Democrat</td>\n",
       "    </tr>\n",
       "    <tr>\n",
       "      <th>7</th>\n",
       "      <td>Delaware</td>\n",
       "      <td>DE</td>\n",
       "      <td>3</td>\n",
       "      <td>289758.0</td>\n",
       "      <td>214351.0</td>\n",
       "      <td>7588.0</td>\n",
       "      <td>511697.0</td>\n",
       "      <td>0.566269</td>\n",
       "      <td>0.418902</td>\n",
       "      <td>dem</td>\n",
       "      <td>14.736651</td>\n",
       "      <td>Safe Democrat</td>\n",
       "    </tr>\n",
       "    <tr>\n",
       "      <th>8</th>\n",
       "      <td>Florida</td>\n",
       "      <td>FL</td>\n",
       "      <td>30</td>\n",
       "      <td>4683038.0</td>\n",
       "      <td>6110125.0</td>\n",
       "      <td>100384.0</td>\n",
       "      <td>10893547.0</td>\n",
       "      <td>0.429891</td>\n",
       "      <td>0.560894</td>\n",
       "      <td>gop</td>\n",
       "      <td>-13.100297</td>\n",
       "      <td>Safe Republican</td>\n",
       "    </tr>\n",
       "    <tr>\n",
       "      <th>9</th>\n",
       "      <td>Georgia</td>\n",
       "      <td>GA</td>\n",
       "      <td>16</td>\n",
       "      <td>2548017.0</td>\n",
       "      <td>2663117.0</td>\n",
       "      <td>38913.0</td>\n",
       "      <td>5250047.0</td>\n",
       "      <td>0.485332</td>\n",
       "      <td>0.507256</td>\n",
       "      <td>gop</td>\n",
       "      <td>-2.192361</td>\n",
       "      <td>Toss-Up</td>\n",
       "    </tr>\n",
       "    <tr>\n",
       "      <th>10</th>\n",
       "      <td>Hawaii</td>\n",
       "      <td>HI</td>\n",
       "      <td>4</td>\n",
       "      <td>313044.0</td>\n",
       "      <td>193661.0</td>\n",
       "      <td>9996.0</td>\n",
       "      <td>516701.0</td>\n",
       "      <td>0.605851</td>\n",
       "      <td>0.374803</td>\n",
       "      <td>dem</td>\n",
       "      <td>23.104852</td>\n",
       "      <td>Safe Democrat</td>\n",
       "    </tr>\n",
       "    <tr>\n",
       "      <th>11</th>\n",
       "      <td>Idaho</td>\n",
       "      <td>ID</td>\n",
       "      <td>4</td>\n",
       "      <td>274972.0</td>\n",
       "      <td>605246.0</td>\n",
       "      <td>24594.0</td>\n",
       "      <td>904812.0</td>\n",
       "      <td>0.303900</td>\n",
       "      <td>0.668919</td>\n",
       "      <td>gop</td>\n",
       "      <td>-36.501947</td>\n",
       "      <td>Safe Republican</td>\n",
       "    </tr>\n",
       "    <tr>\n",
       "      <th>12</th>\n",
       "      <td>Illinois</td>\n",
       "      <td>IL</td>\n",
       "      <td>19</td>\n",
       "      <td>3062863.0</td>\n",
       "      <td>2449079.0</td>\n",
       "      <td>80426.0</td>\n",
       "      <td>5592368.0</td>\n",
       "      <td>0.547686</td>\n",
       "      <td>0.437932</td>\n",
       "      <td>dem</td>\n",
       "      <td>10.975386</td>\n",
       "      <td>Safe Democrat</td>\n",
       "    </tr>\n",
       "    <tr>\n",
       "      <th>13</th>\n",
       "      <td>Indiana</td>\n",
       "      <td>IN</td>\n",
       "      <td>11</td>\n",
       "      <td>1163603.0</td>\n",
       "      <td>1720347.0</td>\n",
       "      <td>49750.0</td>\n",
       "      <td>2933700.0</td>\n",
       "      <td>0.396633</td>\n",
       "      <td>0.586409</td>\n",
       "      <td>gop</td>\n",
       "      <td>-18.977537</td>\n",
       "      <td>Safe Republican</td>\n",
       "    </tr>\n",
       "    <tr>\n",
       "      <th>14</th>\n",
       "      <td>Iowa</td>\n",
       "      <td>IA</td>\n",
       "      <td>6</td>\n",
       "      <td>707278.0</td>\n",
       "      <td>927019.0</td>\n",
       "      <td>22552.0</td>\n",
       "      <td>1656849.0</td>\n",
       "      <td>0.426881</td>\n",
       "      <td>0.559507</td>\n",
       "      <td>gop</td>\n",
       "      <td>-13.262585</td>\n",
       "      <td>Safe Republican</td>\n",
       "    </tr>\n",
       "    <tr>\n",
       "      <th>15</th>\n",
       "      <td>Kansas</td>\n",
       "      <td>KS</td>\n",
       "      <td>6</td>\n",
       "      <td>544853.0</td>\n",
       "      <td>758802.0</td>\n",
       "      <td>23936.0</td>\n",
       "      <td>1327591.0</td>\n",
       "      <td>0.410407</td>\n",
       "      <td>0.571563</td>\n",
       "      <td>gop</td>\n",
       "      <td>-16.115581</td>\n",
       "      <td>Safe Republican</td>\n",
       "    </tr>\n",
       "    <tr>\n",
       "      <th>16</th>\n",
       "      <td>Kentucky</td>\n",
       "      <td>KY</td>\n",
       "      <td>8</td>\n",
       "      <td>704043.0</td>\n",
       "      <td>1337494.0</td>\n",
       "      <td>31772.0</td>\n",
       "      <td>2073309.0</td>\n",
       "      <td>0.339575</td>\n",
       "      <td>0.645101</td>\n",
       "      <td>gop</td>\n",
       "      <td>-30.552658</td>\n",
       "      <td>Safe Republican</td>\n",
       "    </tr>\n",
       "    <tr>\n",
       "      <th>17</th>\n",
       "      <td>Louisiana</td>\n",
       "      <td>LA</td>\n",
       "      <td>8</td>\n",
       "      <td>766870.0</td>\n",
       "      <td>1208505.0</td>\n",
       "      <td>31600.0</td>\n",
       "      <td>2006975.0</td>\n",
       "      <td>0.382102</td>\n",
       "      <td>0.602152</td>\n",
       "      <td>gop</td>\n",
       "      <td>-22.005008</td>\n",
       "      <td>Safe Republican</td>\n",
       "    </tr>\n",
       "    <tr>\n",
       "      <th>18</th>\n",
       "      <td>Maine</td>\n",
       "      <td>ME</td>\n",
       "      <td>4</td>\n",
       "      <td>435652.0</td>\n",
       "      <td>377977.0</td>\n",
       "      <td>17746.0</td>\n",
       "      <td>831375.0</td>\n",
       "      <td>0.524014</td>\n",
       "      <td>0.454641</td>\n",
       "      <td>dem</td>\n",
       "      <td>6.937303</td>\n",
       "      <td>Likely Democrat</td>\n",
       "    </tr>\n",
       "    <tr>\n",
       "      <th>19</th>\n",
       "      <td>Maryland</td>\n",
       "      <td>MD</td>\n",
       "      <td>10</td>\n",
       "      <td>1902577.0</td>\n",
       "      <td>1035550.0</td>\n",
       "      <td>77523.0</td>\n",
       "      <td>3015650.0</td>\n",
       "      <td>0.630901</td>\n",
       "      <td>0.343392</td>\n",
       "      <td>dem</td>\n",
       "      <td>28.750916</td>\n",
       "      <td>Safe Democrat</td>\n",
       "    </tr>\n",
       "    <tr>\n",
       "      <th>20</th>\n",
       "      <td>Massachusetts</td>\n",
       "      <td>MA</td>\n",
       "      <td>11</td>\n",
       "      <td>2126545.0</td>\n",
       "      <td>1251308.0</td>\n",
       "      <td>75584.0</td>\n",
       "      <td>3453437.0</td>\n",
       "      <td>0.615776</td>\n",
       "      <td>0.362337</td>\n",
       "      <td>dem</td>\n",
       "      <td>25.343940</td>\n",
       "      <td>Safe Democrat</td>\n",
       "    </tr>\n",
       "    <tr>\n",
       "      <th>21</th>\n",
       "      <td>Michigan</td>\n",
       "      <td>MI</td>\n",
       "      <td>15</td>\n",
       "      <td>2736533.0</td>\n",
       "      <td>2816636.0</td>\n",
       "      <td>109335.0</td>\n",
       "      <td>5662504.0</td>\n",
       "      <td>0.483273</td>\n",
       "      <td>0.497419</td>\n",
       "      <td>gop</td>\n",
       "      <td>-1.414622</td>\n",
       "      <td>Toss-Up</td>\n",
       "    </tr>\n",
       "    <tr>\n",
       "      <th>22</th>\n",
       "      <td>Minnesota</td>\n",
       "      <td>MN</td>\n",
       "      <td>10</td>\n",
       "      <td>1656979.0</td>\n",
       "      <td>1519032.0</td>\n",
       "      <td>64905.0</td>\n",
       "      <td>3240916.0</td>\n",
       "      <td>0.511269</td>\n",
       "      <td>0.468705</td>\n",
       "      <td>dem</td>\n",
       "      <td>4.256420</td>\n",
       "      <td>Likely Democrat</td>\n",
       "    </tr>\n",
       "    <tr>\n",
       "      <th>23</th>\n",
       "      <td>Mississippi</td>\n",
       "      <td>MS</td>\n",
       "      <td>6</td>\n",
       "      <td>466668.0</td>\n",
       "      <td>747744.0</td>\n",
       "      <td>13596.0</td>\n",
       "      <td>1228008.0</td>\n",
       "      <td>0.380020</td>\n",
       "      <td>0.608908</td>\n",
       "      <td>gop</td>\n",
       "      <td>-22.888776</td>\n",
       "      <td>Safe Republican</td>\n",
       "    </tr>\n",
       "    <tr>\n",
       "      <th>24</th>\n",
       "      <td>Missouri</td>\n",
       "      <td>MO</td>\n",
       "      <td>10</td>\n",
       "      <td>1200599.0</td>\n",
       "      <td>1751986.0</td>\n",
       "      <td>41011.0</td>\n",
       "      <td>2993596.0</td>\n",
       "      <td>0.401056</td>\n",
       "      <td>0.585245</td>\n",
       "      <td>gop</td>\n",
       "      <td>-18.418885</td>\n",
       "      <td>Safe Republican</td>\n",
       "    </tr>\n",
       "    <tr>\n",
       "      <th>25</th>\n",
       "      <td>Montana</td>\n",
       "      <td>MT</td>\n",
       "      <td>4</td>\n",
       "      <td>231906.0</td>\n",
       "      <td>352079.0</td>\n",
       "      <td>18978.0</td>\n",
       "      <td>602963.0</td>\n",
       "      <td>0.384611</td>\n",
       "      <td>0.583915</td>\n",
       "      <td>gop</td>\n",
       "      <td>-19.930410</td>\n",
       "      <td>Safe Republican</td>\n",
       "    </tr>\n",
       "    <tr>\n",
       "      <th>26</th>\n",
       "      <td>Nebraska</td>\n",
       "      <td>NE</td>\n",
       "      <td>5</td>\n",
       "      <td>369995.0</td>\n",
       "      <td>564816.0</td>\n",
       "      <td>12348.0</td>\n",
       "      <td>947159.0</td>\n",
       "      <td>0.390637</td>\n",
       "      <td>0.596326</td>\n",
       "      <td>gop</td>\n",
       "      <td>-20.568986</td>\n",
       "      <td>Safe Republican</td>\n",
       "    </tr>\n",
       "    <tr>\n",
       "      <th>27</th>\n",
       "      <td>Nevada</td>\n",
       "      <td>NV</td>\n",
       "      <td>6</td>\n",
       "      <td>704284.0</td>\n",
       "      <td>749097.0</td>\n",
       "      <td>28384.0</td>\n",
       "      <td>1481765.0</td>\n",
       "      <td>0.475301</td>\n",
       "      <td>0.505544</td>\n",
       "      <td>gop</td>\n",
       "      <td>-3.024299</td>\n",
       "      <td>Likely Republican</td>\n",
       "    </tr>\n",
       "    <tr>\n",
       "      <th>28</th>\n",
       "      <td>New Hampshire</td>\n",
       "      <td>NH</td>\n",
       "      <td>4</td>\n",
       "      <td>418496.0</td>\n",
       "      <td>395578.0</td>\n",
       "      <td>8079.0</td>\n",
       "      <td>822153.0</td>\n",
       "      <td>0.509024</td>\n",
       "      <td>0.481149</td>\n",
       "      <td>dem</td>\n",
       "      <td>2.787559</td>\n",
       "      <td>Likely Democrat</td>\n",
       "    </tr>\n",
       "    <tr>\n",
       "      <th>29</th>\n",
       "      <td>New Jersey</td>\n",
       "      <td>NJ</td>\n",
       "      <td>14</td>\n",
       "      <td>2220713.0</td>\n",
       "      <td>1968215.0</td>\n",
       "      <td>83797.0</td>\n",
       "      <td>4272725.0</td>\n",
       "      <td>0.519742</td>\n",
       "      <td>0.460646</td>\n",
       "      <td>dem</td>\n",
       "      <td>5.909531</td>\n",
       "      <td>Likely Democrat</td>\n",
       "    </tr>\n",
       "    <tr>\n",
       "      <th>30</th>\n",
       "      <td>New Mexico</td>\n",
       "      <td>NM</td>\n",
       "      <td>5</td>\n",
       "      <td>478802.0</td>\n",
       "      <td>423391.0</td>\n",
       "      <td>21210.0</td>\n",
       "      <td>923403.0</td>\n",
       "      <td>0.518519</td>\n",
       "      <td>0.458512</td>\n",
       "      <td>dem</td>\n",
       "      <td>6.000739</td>\n",
       "      <td>Likely Democrat</td>\n",
       "    </tr>\n",
       "    <tr>\n",
       "      <th>31</th>\n",
       "      <td>New York</td>\n",
       "      <td>NY</td>\n",
       "      <td>28</td>\n",
       "      <td>4619195.0</td>\n",
       "      <td>3578899.0</td>\n",
       "      <td>0.0</td>\n",
       "      <td>8198094.0</td>\n",
       "      <td>0.563447</td>\n",
       "      <td>0.436553</td>\n",
       "      <td>dem</td>\n",
       "      <td>12.689486</td>\n",
       "      <td>Safe Democrat</td>\n",
       "    </tr>\n",
       "    <tr>\n",
       "      <th>32</th>\n",
       "      <td>North Carolina</td>\n",
       "      <td>NC</td>\n",
       "      <td>16</td>\n",
       "      <td>2715375.0</td>\n",
       "      <td>2898423.0</td>\n",
       "      <td>65849.0</td>\n",
       "      <td>5679647.0</td>\n",
       "      <td>0.478089</td>\n",
       "      <td>0.510317</td>\n",
       "      <td>gop</td>\n",
       "      <td>-3.222876</td>\n",
       "      <td>Likely Republican</td>\n",
       "    </tr>\n",
       "    <tr>\n",
       "      <th>33</th>\n",
       "      <td>North Dakota</td>\n",
       "      <td>ND</td>\n",
       "      <td>3</td>\n",
       "      <td>112327.0</td>\n",
       "      <td>246505.0</td>\n",
       "      <td>6227.0</td>\n",
       "      <td>365059.0</td>\n",
       "      <td>0.307695</td>\n",
       "      <td>0.675247</td>\n",
       "      <td>gop</td>\n",
       "      <td>-36.755155</td>\n",
       "      <td>Safe Republican</td>\n",
       "    </tr>\n",
       "    <tr>\n",
       "      <th>34</th>\n",
       "      <td>Ohio</td>\n",
       "      <td>OH</td>\n",
       "      <td>17</td>\n",
       "      <td>2533699.0</td>\n",
       "      <td>3180116.0</td>\n",
       "      <td>51202.0</td>\n",
       "      <td>5765017.0</td>\n",
       "      <td>0.439495</td>\n",
       "      <td>0.551623</td>\n",
       "      <td>gop</td>\n",
       "      <td>-11.212751</td>\n",
       "      <td>Safe Republican</td>\n",
       "    </tr>\n",
       "    <tr>\n",
       "      <th>35</th>\n",
       "      <td>Oklahoma</td>\n",
       "      <td>OK</td>\n",
       "      <td>7</td>\n",
       "      <td>499599.0</td>\n",
       "      <td>1036213.0</td>\n",
       "      <td>30361.0</td>\n",
       "      <td>1566173.0</td>\n",
       "      <td>0.318993</td>\n",
       "      <td>0.661621</td>\n",
       "      <td>gop</td>\n",
       "      <td>-34.262754</td>\n",
       "      <td>Safe Republican</td>\n",
       "    </tr>\n",
       "    <tr>\n",
       "      <th>36</th>\n",
       "      <td>Oregon</td>\n",
       "      <td>OR</td>\n",
       "      <td>8</td>\n",
       "      <td>1228410.0</td>\n",
       "      <td>910702.0</td>\n",
       "      <td>68480.0</td>\n",
       "      <td>2207592.0</td>\n",
       "      <td>0.556448</td>\n",
       "      <td>0.412532</td>\n",
       "      <td>dem</td>\n",
       "      <td>14.391609</td>\n",
       "      <td>Safe Democrat</td>\n",
       "    </tr>\n",
       "    <tr>\n",
       "      <th>37</th>\n",
       "      <td>Pennsylvania</td>\n",
       "      <td>PA</td>\n",
       "      <td>19</td>\n",
       "      <td>3423042.0</td>\n",
       "      <td>3543308.0</td>\n",
       "      <td>67856.0</td>\n",
       "      <td>7034206.0</td>\n",
       "      <td>0.486628</td>\n",
       "      <td>0.503725</td>\n",
       "      <td>gop</td>\n",
       "      <td>-1.709731</td>\n",
       "      <td>Toss-Up</td>\n",
       "    </tr>\n",
       "    <tr>\n",
       "      <th>38</th>\n",
       "      <td>Rhode Island</td>\n",
       "      <td>RI</td>\n",
       "      <td>4</td>\n",
       "      <td>285156.0</td>\n",
       "      <td>214406.0</td>\n",
       "      <td>11097.0</td>\n",
       "      <td>510659.0</td>\n",
       "      <td>0.558408</td>\n",
       "      <td>0.419861</td>\n",
       "      <td>dem</td>\n",
       "      <td>13.854647</td>\n",
       "      <td>Safe Democrat</td>\n",
       "    </tr>\n",
       "    <tr>\n",
       "      <th>39</th>\n",
       "      <td>South Carolina</td>\n",
       "      <td>SC</td>\n",
       "      <td>9</td>\n",
       "      <td>1028452.0</td>\n",
       "      <td>1483747.0</td>\n",
       "      <td>35941.0</td>\n",
       "      <td>2548140.0</td>\n",
       "      <td>0.403609</td>\n",
       "      <td>0.582286</td>\n",
       "      <td>gop</td>\n",
       "      <td>-17.867739</td>\n",
       "      <td>Safe Republican</td>\n",
       "    </tr>\n",
       "    <tr>\n",
       "      <th>40</th>\n",
       "      <td>South Dakota</td>\n",
       "      <td>SD</td>\n",
       "      <td>3</td>\n",
       "      <td>144292.0</td>\n",
       "      <td>271675.0</td>\n",
       "      <td>9893.0</td>\n",
       "      <td>425860.0</td>\n",
       "      <td>0.338825</td>\n",
       "      <td>0.637944</td>\n",
       "      <td>gop</td>\n",
       "      <td>-29.911943</td>\n",
       "      <td>Safe Republican</td>\n",
       "    </tr>\n",
       "    <tr>\n",
       "      <th>41</th>\n",
       "      <td>Tennessee</td>\n",
       "      <td>TN</td>\n",
       "      <td>11</td>\n",
       "      <td>1056265.0</td>\n",
       "      <td>1966865.0</td>\n",
       "      <td>40812.0</td>\n",
       "      <td>3063942.0</td>\n",
       "      <td>0.344741</td>\n",
       "      <td>0.641939</td>\n",
       "      <td>gop</td>\n",
       "      <td>-29.719884</td>\n",
       "      <td>Safe Republican</td>\n",
       "    </tr>\n",
       "    <tr>\n",
       "      <th>42</th>\n",
       "      <td>Texas</td>\n",
       "      <td>TX</td>\n",
       "      <td>40</td>\n",
       "      <td>4835199.0</td>\n",
       "      <td>6393396.0</td>\n",
       "      <td>151255.0</td>\n",
       "      <td>11379850.0</td>\n",
       "      <td>0.424891</td>\n",
       "      <td>0.561817</td>\n",
       "      <td>gop</td>\n",
       "      <td>-13.692597</td>\n",
       "      <td>Safe Republican</td>\n",
       "    </tr>\n",
       "    <tr>\n",
       "      <th>43</th>\n",
       "      <td>Utah</td>\n",
       "      <td>UT</td>\n",
       "      <td>6</td>\n",
       "      <td>562566.0</td>\n",
       "      <td>883818.0</td>\n",
       "      <td>41567.0</td>\n",
       "      <td>1487951.0</td>\n",
       "      <td>0.378081</td>\n",
       "      <td>0.593983</td>\n",
       "      <td>gop</td>\n",
       "      <td>-21.590227</td>\n",
       "      <td>Safe Republican</td>\n",
       "    </tr>\n",
       "    <tr>\n",
       "      <th>44</th>\n",
       "      <td>Vermont</td>\n",
       "      <td>VT</td>\n",
       "      <td>3</td>\n",
       "      <td>235791.0</td>\n",
       "      <td>119395.0</td>\n",
       "      <td>11203.0</td>\n",
       "      <td>366389.0</td>\n",
       "      <td>0.643554</td>\n",
       "      <td>0.325869</td>\n",
       "      <td>dem</td>\n",
       "      <td>31.768421</td>\n",
       "      <td>Safe Democrat</td>\n",
       "    </tr>\n",
       "    <tr>\n",
       "      <th>45</th>\n",
       "      <td>Virginia</td>\n",
       "      <td>VA</td>\n",
       "      <td>13</td>\n",
       "      <td>2335395.0</td>\n",
       "      <td>2075085.0</td>\n",
       "      <td>72096.0</td>\n",
       "      <td>4482576.0</td>\n",
       "      <td>0.520994</td>\n",
       "      <td>0.462922</td>\n",
       "      <td>dem</td>\n",
       "      <td>5.807152</td>\n",
       "      <td>Likely Democrat</td>\n",
       "    </tr>\n",
       "    <tr>\n",
       "      <th>46</th>\n",
       "      <td>Washington</td>\n",
       "      <td>WA</td>\n",
       "      <td>12</td>\n",
       "      <td>2245849.0</td>\n",
       "      <td>1530923.0</td>\n",
       "      <td>122063.0</td>\n",
       "      <td>3898835.0</td>\n",
       "      <td>0.576031</td>\n",
       "      <td>0.392662</td>\n",
       "      <td>dem</td>\n",
       "      <td>18.336913</td>\n",
       "      <td>Safe Democrat</td>\n",
       "    </tr>\n",
       "    <tr>\n",
       "      <th>47</th>\n",
       "      <td>West Virginia</td>\n",
       "      <td>WV</td>\n",
       "      <td>4</td>\n",
       "      <td>214309.0</td>\n",
       "      <td>533556.0</td>\n",
       "      <td>14525.0</td>\n",
       "      <td>762390.0</td>\n",
       "      <td>0.281102</td>\n",
       "      <td>0.699847</td>\n",
       "      <td>gop</td>\n",
       "      <td>-41.874500</td>\n",
       "      <td>Safe Republican</td>\n",
       "    </tr>\n",
       "    <tr>\n",
       "      <th>48</th>\n",
       "      <td>Wisconsin</td>\n",
       "      <td>WI</td>\n",
       "      <td>10</td>\n",
       "      <td>1668229.0</td>\n",
       "      <td>1697626.0</td>\n",
       "      <td>49358.0</td>\n",
       "      <td>3415213.0</td>\n",
       "      <td>0.488470</td>\n",
       "      <td>0.497078</td>\n",
       "      <td>gop</td>\n",
       "      <td>-0.860766</td>\n",
       "      <td>Toss-Up</td>\n",
       "    </tr>\n",
       "    <tr>\n",
       "      <th>49</th>\n",
       "      <td>Wyoming</td>\n",
       "      <td>WY</td>\n",
       "      <td>3</td>\n",
       "      <td>69527.0</td>\n",
       "      <td>192633.0</td>\n",
       "      <td>4193.0</td>\n",
       "      <td>266353.0</td>\n",
       "      <td>0.261033</td>\n",
       "      <td>0.723224</td>\n",
       "      <td>gop</td>\n",
       "      <td>-46.219115</td>\n",
       "      <td>Safe Republican</td>\n",
       "    </tr>\n",
       "  </tbody>\n",
       "</table>\n",
       "</div>"
      ],
      "text/plain": [
       "                   state state_code  ElectoralVotes2024  Votes_dem  Votes_gop  \\\n",
       "0                Alabama         AL                   9   772412.0  1462616.0   \n",
       "1                Arizona         AZ                  11  1582860.0  1770242.0   \n",
       "2               Arkansas         AR                   6   396905.0   759241.0   \n",
       "3             California         CA                  54  9276179.0  6081697.0   \n",
       "4               Colorado         CO                  10  1728159.0  1377441.0   \n",
       "5            Connecticut         CT                   7   810859.0   614616.0   \n",
       "6   District of Columbia         DC                   3    36882.0     2056.0   \n",
       "7               Delaware         DE                   3   289758.0   214351.0   \n",
       "8                Florida         FL                  30  4683038.0  6110125.0   \n",
       "9                Georgia         GA                  16  2548017.0  2663117.0   \n",
       "10                Hawaii         HI                   4   313044.0   193661.0   \n",
       "11                 Idaho         ID                   4   274972.0   605246.0   \n",
       "12              Illinois         IL                  19  3062863.0  2449079.0   \n",
       "13               Indiana         IN                  11  1163603.0  1720347.0   \n",
       "14                  Iowa         IA                   6   707278.0   927019.0   \n",
       "15                Kansas         KS                   6   544853.0   758802.0   \n",
       "16              Kentucky         KY                   8   704043.0  1337494.0   \n",
       "17             Louisiana         LA                   8   766870.0  1208505.0   \n",
       "18                 Maine         ME                   4   435652.0   377977.0   \n",
       "19              Maryland         MD                  10  1902577.0  1035550.0   \n",
       "20         Massachusetts         MA                  11  2126545.0  1251308.0   \n",
       "21              Michigan         MI                  15  2736533.0  2816636.0   \n",
       "22             Minnesota         MN                  10  1656979.0  1519032.0   \n",
       "23           Mississippi         MS                   6   466668.0   747744.0   \n",
       "24              Missouri         MO                  10  1200599.0  1751986.0   \n",
       "25               Montana         MT                   4   231906.0   352079.0   \n",
       "26              Nebraska         NE                   5   369995.0   564816.0   \n",
       "27                Nevada         NV                   6   704284.0   749097.0   \n",
       "28         New Hampshire         NH                   4   418496.0   395578.0   \n",
       "29            New Jersey         NJ                  14  2220713.0  1968215.0   \n",
       "30            New Mexico         NM                   5   478802.0   423391.0   \n",
       "31              New York         NY                  28  4619195.0  3578899.0   \n",
       "32        North Carolina         NC                  16  2715375.0  2898423.0   \n",
       "33          North Dakota         ND                   3   112327.0   246505.0   \n",
       "34                  Ohio         OH                  17  2533699.0  3180116.0   \n",
       "35              Oklahoma         OK                   7   499599.0  1036213.0   \n",
       "36                Oregon         OR                   8  1228410.0   910702.0   \n",
       "37          Pennsylvania         PA                  19  3423042.0  3543308.0   \n",
       "38          Rhode Island         RI                   4   285156.0   214406.0   \n",
       "39        South Carolina         SC                   9  1028452.0  1483747.0   \n",
       "40          South Dakota         SD                   3   144292.0   271675.0   \n",
       "41             Tennessee         TN                  11  1056265.0  1966865.0   \n",
       "42                 Texas         TX                  40  4835199.0  6393396.0   \n",
       "43                  Utah         UT                   6   562566.0   883818.0   \n",
       "44               Vermont         VT                   3   235791.0   119395.0   \n",
       "45              Virginia         VA                  13  2335395.0  2075085.0   \n",
       "46            Washington         WA                  12  2245849.0  1530923.0   \n",
       "47         West Virginia         WV                   4   214309.0   533556.0   \n",
       "48             Wisconsin         WI                  10  1668229.0  1697626.0   \n",
       "49               Wyoming         WY                   3    69527.0   192633.0   \n",
       "\n",
       "    Votes_other  Votes_total   Per_dem   Per_gop Winner  Difference  \\\n",
       "0       21324.0    2256352.0  0.342328  0.648222    gop  -30.589376   \n",
       "1       36217.0    3389319.0  0.467014  0.522300    gop   -5.528603   \n",
       "2       26530.0    1182676.0  0.335599  0.641969    gop  -30.636962   \n",
       "3      504660.0   15862536.0  0.584785  0.383400    dem   20.138533   \n",
       "4       85273.0    3190873.0  0.541594  0.431682    dem   10.991287   \n",
       "5       24654.0    1450129.0  0.559163  0.423835    dem   13.532796   \n",
       "6        1525.0      40463.0  0.911499  0.050812    dem   86.068754   \n",
       "7        7588.0     511697.0  0.566269  0.418902    dem   14.736651   \n",
       "8      100384.0   10893547.0  0.429891  0.560894    gop  -13.100297   \n",
       "9       38913.0    5250047.0  0.485332  0.507256    gop   -2.192361   \n",
       "10       9996.0     516701.0  0.605851  0.374803    dem   23.104852   \n",
       "11      24594.0     904812.0  0.303900  0.668919    gop  -36.501947   \n",
       "12      80426.0    5592368.0  0.547686  0.437932    dem   10.975386   \n",
       "13      49750.0    2933700.0  0.396633  0.586409    gop  -18.977537   \n",
       "14      22552.0    1656849.0  0.426881  0.559507    gop  -13.262585   \n",
       "15      23936.0    1327591.0  0.410407  0.571563    gop  -16.115581   \n",
       "16      31772.0    2073309.0  0.339575  0.645101    gop  -30.552658   \n",
       "17      31600.0    2006975.0  0.382102  0.602152    gop  -22.005008   \n",
       "18      17746.0     831375.0  0.524014  0.454641    dem    6.937303   \n",
       "19      77523.0    3015650.0  0.630901  0.343392    dem   28.750916   \n",
       "20      75584.0    3453437.0  0.615776  0.362337    dem   25.343940   \n",
       "21     109335.0    5662504.0  0.483273  0.497419    gop   -1.414622   \n",
       "22      64905.0    3240916.0  0.511269  0.468705    dem    4.256420   \n",
       "23      13596.0    1228008.0  0.380020  0.608908    gop  -22.888776   \n",
       "24      41011.0    2993596.0  0.401056  0.585245    gop  -18.418885   \n",
       "25      18978.0     602963.0  0.384611  0.583915    gop  -19.930410   \n",
       "26      12348.0     947159.0  0.390637  0.596326    gop  -20.568986   \n",
       "27      28384.0    1481765.0  0.475301  0.505544    gop   -3.024299   \n",
       "28       8079.0     822153.0  0.509024  0.481149    dem    2.787559   \n",
       "29      83797.0    4272725.0  0.519742  0.460646    dem    5.909531   \n",
       "30      21210.0     923403.0  0.518519  0.458512    dem    6.000739   \n",
       "31          0.0    8198094.0  0.563447  0.436553    dem   12.689486   \n",
       "32      65849.0    5679647.0  0.478089  0.510317    gop   -3.222876   \n",
       "33       6227.0     365059.0  0.307695  0.675247    gop  -36.755155   \n",
       "34      51202.0    5765017.0  0.439495  0.551623    gop  -11.212751   \n",
       "35      30361.0    1566173.0  0.318993  0.661621    gop  -34.262754   \n",
       "36      68480.0    2207592.0  0.556448  0.412532    dem   14.391609   \n",
       "37      67856.0    7034206.0  0.486628  0.503725    gop   -1.709731   \n",
       "38      11097.0     510659.0  0.558408  0.419861    dem   13.854647   \n",
       "39      35941.0    2548140.0  0.403609  0.582286    gop  -17.867739   \n",
       "40       9893.0     425860.0  0.338825  0.637944    gop  -29.911943   \n",
       "41      40812.0    3063942.0  0.344741  0.641939    gop  -29.719884   \n",
       "42     151255.0   11379850.0  0.424891  0.561817    gop  -13.692597   \n",
       "43      41567.0    1487951.0  0.378081  0.593983    gop  -21.590227   \n",
       "44      11203.0     366389.0  0.643554  0.325869    dem   31.768421   \n",
       "45      72096.0    4482576.0  0.520994  0.462922    dem    5.807152   \n",
       "46     122063.0    3898835.0  0.576031  0.392662    dem   18.336913   \n",
       "47      14525.0     762390.0  0.281102  0.699847    gop  -41.874500   \n",
       "48      49358.0    3415213.0  0.488470  0.497078    gop   -0.860766   \n",
       "49       4193.0     266353.0  0.261033  0.723224    gop  -46.219115   \n",
       "\n",
       "               Status  \n",
       "0     Safe Republican  \n",
       "1   Likely Republican  \n",
       "2     Safe Republican  \n",
       "3       Safe Democrat  \n",
       "4       Safe Democrat  \n",
       "5       Safe Democrat  \n",
       "6       Safe Democrat  \n",
       "7       Safe Democrat  \n",
       "8     Safe Republican  \n",
       "9             Toss-Up  \n",
       "10      Safe Democrat  \n",
       "11    Safe Republican  \n",
       "12      Safe Democrat  \n",
       "13    Safe Republican  \n",
       "14    Safe Republican  \n",
       "15    Safe Republican  \n",
       "16    Safe Republican  \n",
       "17    Safe Republican  \n",
       "18    Likely Democrat  \n",
       "19      Safe Democrat  \n",
       "20      Safe Democrat  \n",
       "21            Toss-Up  \n",
       "22    Likely Democrat  \n",
       "23    Safe Republican  \n",
       "24    Safe Republican  \n",
       "25    Safe Republican  \n",
       "26    Safe Republican  \n",
       "27  Likely Republican  \n",
       "28    Likely Democrat  \n",
       "29    Likely Democrat  \n",
       "30    Likely Democrat  \n",
       "31      Safe Democrat  \n",
       "32  Likely Republican  \n",
       "33    Safe Republican  \n",
       "34    Safe Republican  \n",
       "35    Safe Republican  \n",
       "36      Safe Democrat  \n",
       "37            Toss-Up  \n",
       "38      Safe Democrat  \n",
       "39    Safe Republican  \n",
       "40    Safe Republican  \n",
       "41    Safe Republican  \n",
       "42    Safe Republican  \n",
       "43    Safe Republican  \n",
       "44      Safe Democrat  \n",
       "45    Likely Democrat  \n",
       "46      Safe Democrat  \n",
       "47    Safe Republican  \n",
       "48            Toss-Up  \n",
       "49    Safe Republican  "
      ]
     },
     "execution_count": 84,
     "metadata": {},
     "output_type": "execute_result"
    }
   ],
   "source": [
    "# Cargar datos electorales reales\n",
    "df_actual = pd.DataFrame({'Votes_dem': data['votes_dem'], \n",
    "                            'Votes_gop': data['total_votes'] - data['votes_dem'] - data['votes_others'], \n",
    "                            'Votes_other': data['votes_others'],\n",
    "                            'Votes_total': data['total_votes'], \n",
    "                            'state': state_names,\n",
    "                            'county': county_names,\n",
    "                            'fips': fips_codes})\n",
    "df_actual_state = df_actual.groupby('state').agg(Votes_dem=(f'Votes_dem', 'sum'), \n",
    "                                                    Votes_gop=(f'Votes_gop', 'sum'),\n",
    "                                                    Votes_other=(f'Votes_other', 'sum'),\n",
    "                                                    Votes_total=(f'Votes_total', 'sum'))\n",
    "\n",
    "df_actual_state[\"Per_dem\"] = df_actual_state[\"Votes_dem\"] / df_actual_state[\"Votes_total\"]\n",
    "df_actual_state[\"Per_gop\"] = df_actual_state[\"Votes_gop\"] / df_actual_state[\"Votes_total\"]\n",
    "\n",
    "# Añadir la columna \"Winner\" basado en los porcentajes predichos de Biden y Trump\n",
    "df_actual_state[\"Winner\"] = np.where(df_actual_state[\"Per_dem\"] < df_actual_state[\"Per_gop\"], 'gop', 'dem')\n",
    "\n",
    "\n",
    "full_df_actual_state = pd.merge(seats_data, df_actual_state, how='inner', on=[\"state\"])\n",
    "\n",
    "\n",
    "\n",
    "# Añadir diferencia entre Biden y Trump\n",
    "full_df_actual_state['Difference'] = (full_df_actual_state[\"Per_dem\"] - full_df_actual_state[\"Per_gop\"]) * 100\n",
    "\n",
    "\n",
    "# Definir las condiciones y los valores a asignar\n",
    "conditions = [\n",
    "    full_df_actual_state[\"Difference\"] > 10,\n",
    "    full_df_actual_state[\"Difference\"].between(2.5, 10),\n",
    "    full_df_actual_state[\"Difference\"].between(-2.5, 2.5),\n",
    "    full_df_actual_state[\"Difference\"].between(-10, -2.5),\n",
    "    full_df_actual_state[\"Difference\"] < -10\n",
    "]\n",
    "\n",
    "choices = [\n",
    "    \"Safe Democrat\",\n",
    "    \"Likely Democrat\",\n",
    "    \"Toss-Up\",\n",
    "    \"Likely Republican\",\n",
    "    \"Safe Republican\"\n",
    "]\n",
    "\n",
    "# Usar np.select para asignar el \"Status\" basado en las condiciones, con un valor por defecto \"Unknown\"\n",
    "full_df_actual_state[\"Status\"] = np.select(conditions, choices, default=\"Unknown\")\n",
    "\n",
    "full_df_actual_state"
   ]
  },
  {
   "cell_type": "code",
   "execution_count": 85,
   "metadata": {},
   "outputs": [],
   "source": [
    "# # Encontrar los `county_fips` comunes en los tres conjuntos de datos\n",
    "# common_fips = set(data_2016[\"county_fips\"]).intersection(data_2020[\"county_fips\"]).intersection(data_sim[\"county_fips\"])\n",
    "\n",
    "# # Filtrar cada dataset para que solo contenga esos condados comunes\n",
    "# data_2016 = data_2016[data_2016[\"county_fips\"].isin(common_fips)].sort_values(by=\"county_fips\").reset_index(drop=True)\n",
    "# data_2020 = data_2020[data_2020[\"county_fips\"].isin(common_fips)].sort_values(by=\"county_fips\").reset_index(drop=True)\n",
    "# data_sim = data_sim[data_sim[\"county_fips\"].isin(common_fips)].sort_values(by=\"county_fips\").reset_index(drop=True)\n",
    "# data = data[data[\"county_fips\"].isin(common_fips)].sort_values(by=\"county_fips\").reset_index(drop=True)\n",
    "\n",
    "# # Ahora los tres datasets tienen los mismos condados en el mismo orden\n",
    "# print(f\"Condados comunes en los tres datasets: {len(common_fips)}\")"
   ]
  },
  {
   "cell_type": "code",
   "execution_count": 86,
   "metadata": {},
   "outputs": [],
   "source": [
    "# # Guardamos las variables en vectores para uso futuro\n",
    "# state_names = data['state']\n",
    "# fips_codes = data['county_fips']\n",
    "# county_names = data['county']\n",
    "\n",
    "# print(len(state_names), len(county_names), len(fips_codes), len(data[\"total_votes\"]))"
   ]
  },
  {
   "cell_type": "code",
   "execution_count": 87,
   "metadata": {},
   "outputs": [],
   "source": [
    "# Ordenar ambos DataFrames por 'fips' antes de cualquier split\n",
    "data_2016 = data_2016.sort_values(by=\"county_fips\").reset_index(drop=True)\n",
    "data_2020 = data_2020.sort_values(by=\"county_fips\").reset_index(drop=True)\n",
    "data_sim = data_sim.sort_values(by=\"county_fips\").reset_index(drop=True)\n",
    "data = data.sort_values(by=\"county_fips\").reset_index(drop=True)"
   ]
  },
  {
   "cell_type": "code",
   "execution_count": 88,
   "metadata": {},
   "outputs": [],
   "source": [
    "columns_to_drop = ['county_fips', \"state\", \"county\", \"state_code\", \"county_code\"]  # Nombres de las columnas a eliminar\n",
    "data_2016 = data_2016.drop(columns=columns_to_drop)\n",
    "data_2020 = data_2020.drop(columns=columns_to_drop)\n",
    "data_sim = data_sim.drop(columns=columns_to_drop)"
   ]
  },
  {
   "cell_type": "code",
   "execution_count": 89,
   "metadata": {},
   "outputs": [
    {
     "data": {
      "text/html": [
       "<div>\n",
       "<style scoped>\n",
       "    .dataframe tbody tr th:only-of-type {\n",
       "        vertical-align: middle;\n",
       "    }\n",
       "\n",
       "    .dataframe tbody tr th {\n",
       "        vertical-align: top;\n",
       "    }\n",
       "\n",
       "    .dataframe thead th {\n",
       "        text-align: right;\n",
       "    }\n",
       "</style>\n",
       "<table border=\"1\" class=\"dataframe\">\n",
       "  <thead>\n",
       "    <tr style=\"text-align: right;\">\n",
       "      <th></th>\n",
       "      <th>per_dem</th>\n",
       "      <th>per_gop</th>\n",
       "      <th>pop_total</th>\n",
       "      <th>median_age</th>\n",
       "      <th>median_income</th>\n",
       "      <th>households_median_value</th>\n",
       "      <th>households_avg_size</th>\n",
       "      <th>households_total</th>\n",
       "      <th>households_median_gross_rent</th>\n",
       "      <th>mean_travel_time</th>\n",
       "      <th>...</th>\n",
       "      <th>hispanic_rate</th>\n",
       "      <th>two_more_races_rate</th>\n",
       "      <th>high_school_rate</th>\n",
       "      <th>bachelors_rate</th>\n",
       "      <th>poverty_rate</th>\n",
       "      <th>households_renter_rate</th>\n",
       "      <th>households_owner_rate</th>\n",
       "      <th>unemployment_rate</th>\n",
       "      <th>public_transport_rate</th>\n",
       "      <th>no_health_insurance_rate</th>\n",
       "    </tr>\n",
       "  </thead>\n",
       "  <tbody>\n",
       "    <tr>\n",
       "      <th>0</th>\n",
       "      <td>0.263888</td>\n",
       "      <td>0.726641</td>\n",
       "      <td>59285</td>\n",
       "      <td>39.2</td>\n",
       "      <td>69841</td>\n",
       "      <td>197900</td>\n",
       "      <td>2.61</td>\n",
       "      <td>22523</td>\n",
       "      <td>1200</td>\n",
       "      <td>25415</td>\n",
       "      <td>...</td>\n",
       "      <td>3.69</td>\n",
       "      <td>4.59</td>\n",
       "      <td>18.70</td>\n",
       "      <td>10.99</td>\n",
       "      <td>10.58</td>\n",
       "      <td>25.09</td>\n",
       "      <td>74.91</td>\n",
       "      <td>2.54</td>\n",
       "      <td>0.11</td>\n",
       "      <td>7.20</td>\n",
       "    </tr>\n",
       "    <tr>\n",
       "      <th>1</th>\n",
       "      <td>0.204699</td>\n",
       "      <td>0.786467</td>\n",
       "      <td>239945</td>\n",
       "      <td>43.7</td>\n",
       "      <td>75019</td>\n",
       "      <td>287000</td>\n",
       "      <td>2.50</td>\n",
       "      <td>94642</td>\n",
       "      <td>1211</td>\n",
       "      <td>97455</td>\n",
       "      <td>...</td>\n",
       "      <td>5.58</td>\n",
       "      <td>5.54</td>\n",
       "      <td>16.15</td>\n",
       "      <td>14.73</td>\n",
       "      <td>10.34</td>\n",
       "      <td>22.46</td>\n",
       "      <td>77.54</td>\n",
       "      <td>3.19</td>\n",
       "      <td>0.04</td>\n",
       "      <td>8.06</td>\n",
       "    </tr>\n",
       "    <tr>\n",
       "      <th>2</th>\n",
       "      <td>0.422905</td>\n",
       "      <td>0.570179</td>\n",
       "      <td>24757</td>\n",
       "      <td>40.7</td>\n",
       "      <td>44290</td>\n",
       "      <td>109900</td>\n",
       "      <td>2.39</td>\n",
       "      <td>9080</td>\n",
       "      <td>644</td>\n",
       "      <td>7989</td>\n",
       "      <td>...</td>\n",
       "      <td>6.02</td>\n",
       "      <td>2.95</td>\n",
       "      <td>21.48</td>\n",
       "      <td>4.76</td>\n",
       "      <td>19.17</td>\n",
       "      <td>32.51</td>\n",
       "      <td>67.49</td>\n",
       "      <td>5.71</td>\n",
       "      <td>0.07</td>\n",
       "      <td>9.49</td>\n",
       "    </tr>\n",
       "    <tr>\n",
       "      <th>3</th>\n",
       "      <td>0.175197</td>\n",
       "      <td>0.819392</td>\n",
       "      <td>22152</td>\n",
       "      <td>41.3</td>\n",
       "      <td>51215</td>\n",
       "      <td>132600</td>\n",
       "      <td>2.74</td>\n",
       "      <td>7571</td>\n",
       "      <td>802</td>\n",
       "      <td>7999</td>\n",
       "      <td>...</td>\n",
       "      <td>3.36</td>\n",
       "      <td>2.82</td>\n",
       "      <td>24.60</td>\n",
       "      <td>5.06</td>\n",
       "      <td>19.22</td>\n",
       "      <td>22.82</td>\n",
       "      <td>77.18</td>\n",
       "      <td>9.98</td>\n",
       "      <td>0.04</td>\n",
       "      <td>7.81</td>\n",
       "    </tr>\n",
       "    <tr>\n",
       "      <th>4</th>\n",
       "      <td>0.091624</td>\n",
       "      <td>0.901796</td>\n",
       "      <td>59292</td>\n",
       "      <td>40.9</td>\n",
       "      <td>61096</td>\n",
       "      <td>169700</td>\n",
       "      <td>2.67</td>\n",
       "      <td>21977</td>\n",
       "      <td>743</td>\n",
       "      <td>23976</td>\n",
       "      <td>...</td>\n",
       "      <td>10.06</td>\n",
       "      <td>5.15</td>\n",
       "      <td>19.58</td>\n",
       "      <td>6.89</td>\n",
       "      <td>13.95</td>\n",
       "      <td>20.49</td>\n",
       "      <td>79.51</td>\n",
       "      <td>5.84</td>\n",
       "      <td>0.00</td>\n",
       "      <td>10.11</td>\n",
       "    </tr>\n",
       "  </tbody>\n",
       "</table>\n",
       "<p>5 rows × 36 columns</p>\n",
       "</div>"
      ],
      "text/plain": [
       "    per_dem   per_gop  pop_total  median_age  median_income  \\\n",
       "0  0.263888  0.726641      59285        39.2          69841   \n",
       "1  0.204699  0.786467     239945        43.7          75019   \n",
       "2  0.422905  0.570179      24757        40.7          44290   \n",
       "3  0.175197  0.819392      22152        41.3          51215   \n",
       "4  0.091624  0.901796      59292        40.9          61096   \n",
       "\n",
       "   households_median_value  households_avg_size  households_total  \\\n",
       "0                   197900                 2.61             22523   \n",
       "1                   287000                 2.50             94642   \n",
       "2                   109900                 2.39              9080   \n",
       "3                   132600                 2.74              7571   \n",
       "4                   169700                 2.67             21977   \n",
       "\n",
       "   households_median_gross_rent  mean_travel_time  ...  hispanic_rate  \\\n",
       "0                          1200             25415  ...           3.69   \n",
       "1                          1211             97455  ...           5.58   \n",
       "2                           644              7989  ...           6.02   \n",
       "3                           802              7999  ...           3.36   \n",
       "4                           743             23976  ...          10.06   \n",
       "\n",
       "   two_more_races_rate  high_school_rate  bachelors_rate  poverty_rate  \\\n",
       "0                 4.59             18.70           10.99         10.58   \n",
       "1                 5.54             16.15           14.73         10.34   \n",
       "2                 2.95             21.48            4.76         19.17   \n",
       "3                 2.82             24.60            5.06         19.22   \n",
       "4                 5.15             19.58            6.89         13.95   \n",
       "\n",
       "   households_renter_rate  households_owner_rate  unemployment_rate  \\\n",
       "0                   25.09                  74.91               2.54   \n",
       "1                   22.46                  77.54               3.19   \n",
       "2                   32.51                  67.49               5.71   \n",
       "3                   22.82                  77.18               9.98   \n",
       "4                   20.49                  79.51               5.84   \n",
       "\n",
       "   public_transport_rate  no_health_insurance_rate  \n",
       "0                   0.11                      7.20  \n",
       "1                   0.04                      8.06  \n",
       "2                   0.07                      9.49  \n",
       "3                   0.04                      7.81  \n",
       "4                   0.00                     10.11  \n",
       "\n",
       "[5 rows x 36 columns]"
      ]
     },
     "execution_count": 89,
     "metadata": {},
     "output_type": "execute_result"
    }
   ],
   "source": [
    "columns_to_drop = [\"votes_gop\"]  # Nombres de las columnas a eliminar\n",
    "\n",
    "data_sim = data_sim.drop(columns=columns_to_drop)\n",
    "data_sim.head()"
   ]
  },
  {
   "cell_type": "code",
   "execution_count": 90,
   "metadata": {},
   "outputs": [],
   "source": [
    "# from sklearn.preprocessing import StandardScaler\n",
    "\n",
    "# # Definir las columnas a excluir del escalado\n",
    "# cols_excluir = ['per_dem', 'per_gop'] \n",
    "\n",
    "# # Seleccionar solo las columnas que deben ser escaladas\n",
    "# cols_escalar = [col for col in data_sim.columns if col not in cols_excluir]\n",
    "\n",
    "# # Aplicar StandardScaler solo a las columnas seleccionadas\n",
    "# scaler = StandardScaler()\n",
    "# data_sim[cols_escalar] = scaler.fit_transform(data_sim[cols_escalar])\n",
    "\n",
    "# # Mostrar los primeros registros\n",
    "# data_sim.head()"
   ]
  },
  {
   "cell_type": "markdown",
   "metadata": {},
   "source": [
    "## Algorithm"
   ]
  },
  {
   "cell_type": "code",
   "execution_count": 91,
   "metadata": {},
   "outputs": [],
   "source": [
    "n_sim = 100"
   ]
  },
  {
   "cell_type": "code",
   "execution_count": 92,
   "metadata": {},
   "outputs": [
    {
     "name": "stdout",
     "output_type": "stream",
     "text": [
      "Simulation 0\n",
      "weight_2016=0.6976421315121458\n",
      "Simulation 1\n",
      "weight_2016=0.8562067143628763\n",
      "Simulation 2\n",
      "weight_2016=0.5448506621298898\n",
      "Simulation 3\n",
      "weight_2016=0.7346458681371317\n",
      "Simulation 4\n",
      "weight_2016=0.5280922293222734\n",
      "Simulation 5\n",
      "weight_2016=0.38229913218935135\n",
      "Simulation 6\n",
      "weight_2016=0.5835437270018387\n",
      "Simulation 7\n",
      "weight_2016=0.4657421464477421\n",
      "Simulation 8\n",
      "weight_2016=0.8932330218038619\n",
      "Simulation 9\n",
      "weight_2016=0.5580742859743557\n",
      "Simulation 10\n",
      "weight_2016=0.6993511681620322\n",
      "Simulation 11\n",
      "weight_2016=0.3976720888677865\n",
      "Simulation 12\n",
      "weight_2016=0.7668171285279461\n",
      "Simulation 13\n",
      "weight_2016=0.7501055585722549\n",
      "Simulation 14\n",
      "weight_2016=0.43801288500689284\n",
      "Simulation 15\n",
      "weight_2016=0.5959833956450026\n",
      "Simulation 16\n",
      "weight_2016=0.7459085194655115\n",
      "Simulation 17\n",
      "weight_2016=0.9174526186793134\n",
      "Simulation 18\n",
      "weight_2016=0.683814055421585\n",
      "Simulation 19\n",
      "weight_2016=0.9735480089710964\n",
      "Simulation 20\n",
      "weight_2016=0.7868282166059949\n",
      "Simulation 21\n",
      "weight_2016=0.5682267549320941\n",
      "Simulation 22\n",
      "weight_2016=0.3201092775635713\n",
      "Simulation 23\n",
      "weight_2016=0.9939105975002407\n",
      "Simulation 24\n",
      "weight_2016=0.9342272777953333\n",
      "Simulation 25\n",
      "weight_2016=0.759273683057167\n",
      "Simulation 26\n",
      "weight_2016=0.4698364895339776\n",
      "Simulation 27\n",
      "weight_2016=0.7646510788703736\n",
      "Simulation 28\n",
      "weight_2016=0.4264870368204882\n",
      "Simulation 29\n",
      "weight_2016=0.8874006897733001\n",
      "Simulation 30\n",
      "weight_2016=0.5574613703122596\n",
      "Simulation 31\n",
      "weight_2016=0.9375359736250775\n",
      "Simulation 32\n",
      "weight_2016=0.718691149406397\n",
      "Simulation 33\n",
      "weight_2016=0.9193696979926218\n",
      "Simulation 34\n",
      "weight_2016=0.31519549043770356\n",
      "Simulation 35\n",
      "weight_2016=0.37601130702892804\n",
      "Simulation 36\n",
      "weight_2016=0.8706770634181945\n",
      "Simulation 37\n",
      "weight_2016=0.6431834831616714\n",
      "Simulation 38\n",
      "weight_2016=0.43328530660262643\n",
      "Simulation 39\n",
      "weight_2016=0.6315291911449649\n",
      "Simulation 40\n",
      "weight_2016=0.30576221441804496\n",
      "Simulation 41\n",
      "weight_2016=0.7791582242532107\n",
      "Simulation 42\n",
      "weight_2016=0.8016773895567161\n",
      "Simulation 43\n",
      "weight_2016=0.7571132243811051\n",
      "Simulation 44\n",
      "weight_2016=0.39049107067933364\n",
      "Simulation 45\n",
      "weight_2016=0.4061732172132449\n",
      "Simulation 46\n",
      "weight_2016=0.7436385207465267\n",
      "Simulation 47\n",
      "weight_2016=0.8689486385914131\n",
      "Simulation 48\n",
      "weight_2016=0.7292414488998674\n",
      "Simulation 49\n",
      "weight_2016=0.842667562900058\n",
      "Simulation 50\n",
      "weight_2016=0.7252972154475267\n",
      "Simulation 51\n",
      "weight_2016=0.6131553927005601\n",
      "Simulation 52\n",
      "weight_2016=0.31491266530843953\n",
      "Simulation 53\n",
      "weight_2016=0.934342235874359\n",
      "Simulation 54\n",
      "weight_2016=0.49498690487190766\n",
      "Simulation 55\n",
      "weight_2016=0.901509346084466\n",
      "Simulation 56\n",
      "weight_2016=0.411051942363648\n",
      "Simulation 57\n",
      "weight_2016=0.6021104906804564\n",
      "Simulation 58\n",
      "weight_2016=0.38793904960793346\n",
      "Simulation 59\n",
      "weight_2016=0.4037740558621317\n",
      "Simulation 60\n",
      "weight_2016=0.6084042979305455\n",
      "Simulation 61\n",
      "weight_2016=0.6524539217975979\n",
      "Simulation 62\n",
      "weight_2016=0.38103877560625943\n",
      "Simulation 63\n",
      "weight_2016=0.668110395208978\n",
      "Simulation 64\n",
      "weight_2016=0.46723585515449034\n",
      "Simulation 65\n",
      "weight_2016=0.6952596691863372\n",
      "Simulation 66\n",
      "weight_2016=0.9478747951509846\n",
      "Simulation 67\n",
      "weight_2016=0.5522175287882958\n",
      "Simulation 68\n",
      "weight_2016=0.8765946707734064\n",
      "Simulation 69\n",
      "weight_2016=0.5018032615188773\n",
      "Simulation 70\n",
      "weight_2016=0.920384979406393\n",
      "Simulation 71\n",
      "weight_2016=0.5996599387909519\n",
      "Simulation 72\n",
      "weight_2016=0.3384539799948798\n",
      "Simulation 73\n",
      "weight_2016=0.997909776091967\n",
      "Simulation 74\n",
      "weight_2016=0.6437623383306257\n",
      "Simulation 75\n",
      "weight_2016=0.9388422714405324\n",
      "Simulation 76\n",
      "weight_2016=0.921183747312449\n",
      "Simulation 77\n",
      "weight_2016=0.3814424725417484\n",
      "Simulation 78\n",
      "weight_2016=0.5648379840813728\n",
      "Simulation 79\n",
      "weight_2016=0.36280648824244577\n",
      "Simulation 80\n",
      "weight_2016=0.6617034647304958\n",
      "Simulation 81\n",
      "weight_2016=0.9747788456657269\n",
      "Simulation 82\n",
      "weight_2016=0.32806591392508055\n",
      "Simulation 83\n",
      "weight_2016=0.49368571275497064\n",
      "Simulation 84\n",
      "weight_2016=0.8597076059787521\n",
      "Simulation 85\n",
      "weight_2016=0.35423090681490954\n",
      "Simulation 86\n",
      "weight_2016=0.522777330568806\n",
      "Simulation 87\n",
      "weight_2016=0.559765950407432\n",
      "Simulation 88\n",
      "weight_2016=0.511801624859706\n",
      "Simulation 89\n",
      "weight_2016=0.42866052212339845\n",
      "Simulation 90\n",
      "weight_2016=0.5724103539661023\n",
      "Simulation 91\n",
      "weight_2016=0.33507497532660707\n",
      "Simulation 92\n",
      "weight_2016=0.45140817515574605\n",
      "Simulation 93\n",
      "weight_2016=0.9028711840064452\n",
      "Simulation 94\n",
      "weight_2016=0.665379686127459\n",
      "Simulation 95\n",
      "weight_2016=0.8279357652526934\n",
      "Simulation 96\n",
      "weight_2016=0.5361020230218967\n",
      "Simulation 97\n",
      "weight_2016=0.9208840880090338\n",
      "Simulation 98\n",
      "weight_2016=0.6561033341947539\n",
      "Simulation 99\n",
      "weight_2016=0.4372664738861432\n"
     ]
    }
   ],
   "source": [
    "import joblib\n",
    "import statsmodels.api as sm\n",
    "\n",
    "# Inicializar un DataFrame para guardar los resultados de las simulaciones\n",
    "# simulation_results = pd.DataFrame(columns=['Pred_dem', 'Pred_gop', 'dem', 'gop'])\n",
    "simulation_results = pd.DataFrame(columns=['Pred_dem', 'Pred_gop'])\n",
    "\n",
    "\n",
    "# Inicializar un DataFrame para acumular los resultados por estado\n",
    "accumulated_pred_state = pd.DataFrame()\n",
    "\n",
    "for i in range(0, n_sim):\n",
    "\n",
    "    print(f\"Simulation {i}\")\n",
    "\n",
    "    ## ------------------------------\n",
    "    ## SPLIT DEL DATASET (ENTRENAMIENTO)\n",
    "    # X_2016 = data_2016.drop(columns=['per_dem', 'per_gop'])\n",
    "    # y_dem_2016 = data_2016['per_dem']\n",
    "    # y_gop_2016 = data_2016['per_gop']\n",
    "\n",
    "    # X_2020 = data_2020.drop(columns=['per_dem', 'per_gop'])\n",
    "    # y_dem_2020 = data_2020['per_dem']\n",
    "    # y_gop_2020 = data_2020['per_gop']\n",
    "\n",
    "    # # Hacer un split en cada simulación (80% train, 20% test)\n",
    "    # X_train_2016, X_test_2016, y_train_dem_2016, y_test_dem_2016 = train_test_split(X_2016, y_dem_2016, test_size=0.2, random_state=i)\n",
    "    # _, _, y_train_gop_2016, y_test_gop_2016 = train_test_split(X_2016, y_gop_2016, test_size=0.2, random_state=i)\n",
    "\n",
    "    # X_train_2020, X_test_2020, y_train_dem_2020, y_test_dem_2020 = train_test_split(X_2020, y_dem_2020, test_size=0.2, random_state=i)\n",
    "    # _, _, y_train_gop_2020, y_test_gop_2020 = train_test_split(X_2020, y_gop_2020, test_size=0.2, random_state=i)\n",
    "\n",
    "    # Imprimir los índices del train para 2016 y 2020\n",
    "    # print(f\"Train indices 2016: {X_train_2016.index}\")\n",
    "    # print(f\"Train indices 2020: {X_train_2020.index}\")\n",
    "\n",
    "    ## ------------------------------\n",
    "    ## ENTRENAR MODELOS\n",
    "    # # Modelos para per_dem 2016\n",
    "    # lr_model_dem_2016 = LinearRegression().fit(X_train_2016, y_train_dem_2016)\n",
    "    # rf_model_dem_2016 = RandomForestRegressor(n_estimators=100, random_state=i).fit(X_train_2016, y_train_dem_2016)\n",
    "    # knn_model_dem_2016 = KNeighborsRegressor(n_neighbors=5).fit(X_train_2016, y_train_dem_2016)\n",
    "    # # Modelos para per_dem 2020\n",
    "    # lr_model_dem_2020 = LinearRegression().fit(X_train_2020, y_train_dem_2020)\n",
    "    # rf_model_dem_2020 = RandomForestRegressor(n_estimators=100, random_state=i).fit(X_train_2020, y_train_dem_2020)\n",
    "    # knn_model_dem_2020 = KNeighborsRegressor(n_neighbors=5).fit(X_train_2020, y_train_dem_2020)\n",
    "\n",
    "    # # Modelos para per_gop 2016\n",
    "    # lr_model_gop_2016 = LinearRegression().fit(X_train_2016, y_train_gop_2016)\n",
    "    # rf_model_gop_2016 = RandomForestRegressor(n_estimators=100, random_state=i).fit(X_train_2016, y_train_gop_2016)\n",
    "    # knn_model_gop_2016 = KNeighborsRegressor(n_neighbors=5).fit(X_train_2016, y_train_gop_2016)\n",
    "    # # Modelos para per_gop 2020\n",
    "    # lr_model_gop_2020 = LinearRegression().fit(X_train_2020, y_train_gop_2020)\n",
    "    # rf_model_gop_2020 = RandomForestRegressor(n_estimators=100, random_state=i).fit(X_train_2020, y_train_gop_2020)\n",
    "    # knn_model_gop_2020 = KNeighborsRegressor(n_neighbors=5).fit(X_train_2020, y_train_gop_2020)\n",
    "\n",
    "    ## ------------------------------\n",
    "    ## CARGAR MODELOS DESDE ARCHIVOS GUARDADOS\n",
    "    # Modelos para per_dem 2016\n",
    "    lr_model_dem_2016 = joblib.load(f'models/ridge_dem_2016.pkl')\n",
    "    rf_model_dem_2016 = joblib.load(f'models/random_forest_dem_2016.pkl')\n",
    "    knn_model_dem_2016 = joblib.load(f'models/knn_dem_2016.pkl')\n",
    "    \n",
    "    # Modelos para per_dem 2020\n",
    "    lr_model_dem_2020 = joblib.load(f'models/ridge_dem_2020.pkl')\n",
    "    rf_model_dem_2020 = joblib.load(f'models/random_forest_dem_2020.pkl')\n",
    "    knn_model_dem_2020 = joblib.load(f'models/knn_dem_2020.pkl')\n",
    "\n",
    "    # Modelos para per_gop 2016\n",
    "    lr_model_gop_2016 = joblib.load(f'models/ridge_gop_2016.pkl')\n",
    "    rf_model_gop_2016 = joblib.load(f'models/random_forest_gop_2016.pkl')\n",
    "    knn_model_gop_2016 = joblib.load(f'models/knn_gop_2016.pkl')\n",
    "\n",
    "    # Modelos para per_gop 2020\n",
    "    lr_model_gop_2020 = joblib.load(f'models/ridge_gop_2020.pkl')\n",
    "    rf_model_gop_2020 = joblib.load(f'models/random_forest_gop_2020.pkl')\n",
    "    knn_model_gop_2020 = joblib.load(f'models/knn_gop_2020.pkl')\n",
    "\n",
    "\n",
    "\n",
    "    ## ------------------------------\n",
    "    ## PREDICCIONES CON data_sim\n",
    "    X_sim = data_sim.drop(columns=['per_dem', 'per_gop'])\n",
    "\n",
    "    # Predicciones per_dem 2016\n",
    "    pred_lr_dem_2016 = lr_model_dem_2016.predict(X_sim)\n",
    "    pred_rf_dem_2016 = rf_model_dem_2016.predict(X_sim)\n",
    "    pred_knn_dem_2016 = knn_model_dem_2016.predict(X_sim)\n",
    "    # Predicciones per_dem 2020\n",
    "    pred_lr_dem_2020 = lr_model_dem_2020.predict(X_sim)\n",
    "    pred_rf_dem_2020 = rf_model_dem_2020.predict(X_sim)\n",
    "    pred_knn_dem_2020 = knn_model_dem_2020.predict(X_sim)\n",
    "\n",
    "    # Predicciones per_gop 2016\n",
    "    pred_lr_gop_2016 = lr_model_gop_2016.predict(X_sim)\n",
    "    pred_rf_gop_2016 = rf_model_gop_2016.predict(X_sim)\n",
    "    pred_knn_gop_2016 = knn_model_gop_2016.predict(X_sim)\n",
    "    # Predicciones per_gop 2020\n",
    "    pred_lr_gop_2020 = lr_model_gop_2020.predict(X_sim)\n",
    "    pred_rf_gop_2020 = rf_model_gop_2020.predict(X_sim)\n",
    "    pred_knn_gop_2020 = knn_model_gop_2020.predict(X_sim)\n",
    "\n",
    "    # Promedio de predicciones 2016\n",
    "    per_dem_pred_2016 = pred_rf_dem_2016 # (pred_lr_dem_2016 + pred_rf_dem_2016 + pred_knn_dem_2016) / 3\n",
    "    per_gop_pred_2016 = pred_rf_gop_2016 # (pred_lr_gop_2016 + pred_rf_gop_2016 + pred_knn_gop_2016) / 3\n",
    "    # Promedio de predicciones 2020\n",
    "    per_dem_pred_2020 = pred_rf_dem_2020 # (pred_lr_dem_2020 + pred_rf_dem_2020 + pred_knn_dem_2020) / 3\n",
    "    per_gop_pred_2020 = pred_rf_gop_2020 # (pred_lr_gop_2020 + pred_rf_gop_2020 + pred_knn_gop_2020) / 3\n",
    "\n",
    "    # Calcular per_other de manera residual 2016\n",
    "    per_other_pred_2016 = 1 - (per_dem_pred_2016 + per_gop_pred_2016)\n",
    "    # Calcular per_other de manera residual 2020\n",
    "    per_other_pred_2020 = 1 - (per_dem_pred_2020 + per_gop_pred_2020)\n",
    "    \n",
    "    # Asegurar que per_other no sea negativo (si es menor a 0, ajustamos) 2016\n",
    "    per_other_pred_2016 = np.clip(per_other_pred_2016, 0, 1)\n",
    "    # Asegurar que per_other no sea negativo (si es menor a 0, ajustamos) 2020\n",
    "    per_other_pred_2020 = np.clip(per_other_pred_2020, 0, 1)\n",
    "\n",
    "    # Weighted sum of predictions 2016 and 2020\n",
    "    weight_2016 = np.random.uniform(0.3, 1)  # Puede ser entre 0% y 100%\n",
    "    weight_2020 = 1 - weight_2016\n",
    "    print(f\"{weight_2016=}\")\n",
    "\n",
    "    per_dem_pred = (weight_2016 * per_dem_pred_2016 + weight_2020 * per_dem_pred_2020) / (weight_2016 + weight_2020)\n",
    "    per_gop_pred = (weight_2016 * per_gop_pred_2016 + weight_2020 * per_gop_pred_2020) / (weight_2016 + weight_2020)\n",
    "    per_other_pred = (weight_2016 * per_other_pred_2016 + weight_2020 * per_other_pred_2020) / (weight_2016 + weight_2020)\n",
    "    # print(f\"{per_dem_pred=}\")\n",
    "    # print(f\"{per_gop_pred=}\")\n",
    "    # print(f\"{per_other_pred=}\")\n",
    "\n",
    "    ## PROCESAMIENTO DE RESULTADOS\n",
    "    df_pred = pd.DataFrame({\n",
    "        'Votes_dem': per_dem_pred * data['total_votes'], \n",
    "        'Votes_gop': per_gop_pred * data['total_votes'],\n",
    "        'Votes_other': per_other_pred * data['total_votes'],\n",
    "        'Votes_total': data['total_votes'], \n",
    "        'state': state_names,\n",
    "        'county': county_names,\n",
    "        'fips': fips_codes\n",
    "    })\n",
    "\n",
    "    df_pred_state = df_pred.groupby(\"state\").agg(Votes_dem=(\"Votes_dem\", 'sum'), \n",
    "                                                 Votes_gop=(\"Votes_gop\", 'sum'),\n",
    "                                                 Votes_other=(\"Votes_other\", 'sum'),\n",
    "                                                 Votes_total=(\"Votes_total\", 'sum'))\n",
    "    \n",
    "    \n",
    "    # Calcular porcentaje de cada candidato en el estado\n",
    "    df_pred_state[\"Per_dem\"] = df_pred_state[\"Votes_dem\"] / df_pred_state[\"Votes_total\"] \n",
    "    df_pred_state[\"Per_gop\"] = df_pred_state[\"Votes_gop\"] / df_pred_state[\"Votes_total\"] \n",
    "    df_pred_state[\"Per_other\"] = df_pred_state[\"Votes_other\"] / df_pred_state[\"Votes_total\"]\n",
    "\n",
    "\n",
    "    # # Ajustar las predicciones en función de la desviación histórica\n",
    "    # df_pred_state[\"Per_dem\"] += (state_adjustments[\"per_dem_2020\"] - state_adjustments[\"per_dem_2016\"])\n",
    "    # df_pred_state[\"Per_gop\"] += (state_adjustments[\"per_gop_2020\"] - state_adjustments[\"per_gop_2016\"])\n",
    "\n",
    "    # Acumular los resultados de cada simulación\n",
    "    if accumulated_pred_state.empty:\n",
    "        accumulated_pred_state = df_pred_state.copy()  # Primera iteración, simplemente copiamos los datos\n",
    "    else:\n",
    "        accumulated_pred_state['Votes_dem'] += df_pred_state['Votes_dem']\n",
    "        accumulated_pred_state['Votes_gop'] += df_pred_state['Votes_gop']\n",
    "        accumulated_pred_state['Votes_total'] += df_pred_state['Votes_total']\n",
    "        accumulated_pred_state[\"Per_dem\"] += df_pred_state[\"Per_dem\"]\n",
    "        accumulated_pred_state[\"Per_gop\"] += df_pred_state[\"Per_gop\"]\n",
    "        accumulated_pred_state[\"Per_other\"] += df_pred_state[\"Per_other\"]\n",
    "\n",
    "\n",
    "    # Predicción y ganadores\n",
    "    df_pred_state[\"Winner\"] = np.where(df_pred_state[\"Per_dem\"] < df_pred_state[\"Per_gop\"], 'gop', 'dem')    \n",
    "\n",
    "    # Añadir votos electorales (escaños) a cada estado\n",
    "    full_df_pred_state = pd.merge(seats_data, df_pred_state, how='inner', on=[\"state\"])\n",
    "\n",
    "    # Agrupar por estado y sumar los votos\n",
    "    df_pred_winner = full_df_pred_state.groupby(\"Winner\").agg({\n",
    "        \"ElectoralVotes2024\": \"sum\",  # Sumar los votos electorales de cada candidato\n",
    "    }).reset_index()\n",
    "\n",
    "    df_pred_winner.loc[df_pred_winner[\"Winner\"] == 'gop', 'ElectoralVotes2024'] += 3 # Añadir 3 al número de votos electorales de Trump por Alaska\n",
    "\n",
    "    # Crear un nuevo DataFrame con los resultados de esta simulación\n",
    "    dem_votes = df_pred_winner.loc[df_pred_winner[\"Winner\"] == 'dem', 'ElectoralVotes2024'].values[0]\n",
    "    gop_votes = df_pred_winner.loc[df_pred_winner[\"Winner\"] == 'gop', 'ElectoralVotes2024'].values[0]\n",
    "\n",
    "    # Determinar el ganador considerando empates\n",
    "    if dem_votes > gop_votes:\n",
    "        winner = 'dem'\n",
    "    elif gop_votes > dem_votes:\n",
    "        winner = 'gop'\n",
    "    else:\n",
    "        winner = 'tie'  # En caso de empate\n",
    "\n",
    "    # Crear un nuevo DataFrame con los resultados de esta simulación\n",
    "    new_row = pd.DataFrame({\n",
    "        'Pred_dem': [dem_votes],\n",
    "        'Pred_gop': [gop_votes],\n",
    "        'Winner': [winner]\n",
    "    })\n",
    "\n",
    "\n",
    "    # Usar concat para añadir la nueva fila\n",
    "    simulation_results = pd.concat([simulation_results, new_row], ignore_index=True)\n",
    "\n",
    "# Después de todas las simulaciones, calcular la media\n",
    "accumulated_pred_state['Votes_dem'] /= n_sim\n",
    "accumulated_pred_state['Votes_gop'] /= n_sim\n",
    "accumulated_pred_state['Votes_total'] /= n_sim\n",
    "accumulated_pred_state['Per_dem'] /= n_sim\n",
    "accumulated_pred_state['Per_gop'] /= n_sim\n",
    "accumulated_pred_state['Per_other'] /= n_sim\n"
   ]
  },
  {
   "cell_type": "markdown",
   "metadata": {},
   "source": [
    "## Results"
   ]
  },
  {
   "cell_type": "code",
   "execution_count": 93,
   "metadata": {},
   "outputs": [
    {
     "data": {
      "text/plain": [
       "Winner\n",
       "dem    100\n",
       "Name: count, dtype: int64"
      ]
     },
     "execution_count": 93,
     "metadata": {},
     "output_type": "execute_result"
    }
   ],
   "source": [
    "simulation_results[\"Winner\"].value_counts()"
   ]
  },
  {
   "cell_type": "code",
   "execution_count": 94,
   "metadata": {},
   "outputs": [
    {
     "data": {
      "text/plain": [
       "Winner\n",
       "dem    1.0\n",
       "Name: proportion, dtype: float64"
      ]
     },
     "execution_count": 94,
     "metadata": {},
     "output_type": "execute_result"
    }
   ],
   "source": [
    "simulation_results[\"Winner\"].value_counts(normalize=True)"
   ]
  },
  {
   "cell_type": "code",
   "execution_count": 95,
   "metadata": {},
   "outputs": [
    {
     "data": {
      "text/html": [
       "<div>\n",
       "<style scoped>\n",
       "    .dataframe tbody tr th:only-of-type {\n",
       "        vertical-align: middle;\n",
       "    }\n",
       "\n",
       "    .dataframe tbody tr th {\n",
       "        vertical-align: top;\n",
       "    }\n",
       "\n",
       "    .dataframe thead th {\n",
       "        text-align: right;\n",
       "    }\n",
       "</style>\n",
       "<table border=\"1\" class=\"dataframe\">\n",
       "  <thead>\n",
       "    <tr style=\"text-align: right;\">\n",
       "      <th></th>\n",
       "      <th>Pred_dem</th>\n",
       "      <th>Pred_gop</th>\n",
       "      <th>Winner</th>\n",
       "    </tr>\n",
       "  </thead>\n",
       "  <tbody>\n",
       "    <tr>\n",
       "      <th>0</th>\n",
       "      <td>332</td>\n",
       "      <td>206</td>\n",
       "      <td>dem</td>\n",
       "    </tr>\n",
       "    <tr>\n",
       "      <th>1</th>\n",
       "      <td>332</td>\n",
       "      <td>206</td>\n",
       "      <td>dem</td>\n",
       "    </tr>\n",
       "    <tr>\n",
       "      <th>2</th>\n",
       "      <td>332</td>\n",
       "      <td>206</td>\n",
       "      <td>dem</td>\n",
       "    </tr>\n",
       "    <tr>\n",
       "      <th>3</th>\n",
       "      <td>332</td>\n",
       "      <td>206</td>\n",
       "      <td>dem</td>\n",
       "    </tr>\n",
       "    <tr>\n",
       "      <th>4</th>\n",
       "      <td>332</td>\n",
       "      <td>206</td>\n",
       "      <td>dem</td>\n",
       "    </tr>\n",
       "    <tr>\n",
       "      <th>...</th>\n",
       "      <td>...</td>\n",
       "      <td>...</td>\n",
       "      <td>...</td>\n",
       "    </tr>\n",
       "    <tr>\n",
       "      <th>95</th>\n",
       "      <td>332</td>\n",
       "      <td>206</td>\n",
       "      <td>dem</td>\n",
       "    </tr>\n",
       "    <tr>\n",
       "      <th>96</th>\n",
       "      <td>332</td>\n",
       "      <td>206</td>\n",
       "      <td>dem</td>\n",
       "    </tr>\n",
       "    <tr>\n",
       "      <th>97</th>\n",
       "      <td>332</td>\n",
       "      <td>206</td>\n",
       "      <td>dem</td>\n",
       "    </tr>\n",
       "    <tr>\n",
       "      <th>98</th>\n",
       "      <td>332</td>\n",
       "      <td>206</td>\n",
       "      <td>dem</td>\n",
       "    </tr>\n",
       "    <tr>\n",
       "      <th>99</th>\n",
       "      <td>332</td>\n",
       "      <td>206</td>\n",
       "      <td>dem</td>\n",
       "    </tr>\n",
       "  </tbody>\n",
       "</table>\n",
       "<p>100 rows × 3 columns</p>\n",
       "</div>"
      ],
      "text/plain": [
       "   Pred_dem Pred_gop Winner\n",
       "0       332      206    dem\n",
       "1       332      206    dem\n",
       "2       332      206    dem\n",
       "3       332      206    dem\n",
       "4       332      206    dem\n",
       "..      ...      ...    ...\n",
       "95      332      206    dem\n",
       "96      332      206    dem\n",
       "97      332      206    dem\n",
       "98      332      206    dem\n",
       "99      332      206    dem\n",
       "\n",
       "[100 rows x 3 columns]"
      ]
     },
     "execution_count": 95,
     "metadata": {},
     "output_type": "execute_result"
    }
   ],
   "source": [
    "simulation_results"
   ]
  },
  {
   "cell_type": "code",
   "execution_count": 96,
   "metadata": {},
   "outputs": [
    {
     "data": {
      "text/html": [
       "<div>\n",
       "<style scoped>\n",
       "    .dataframe tbody tr th:only-of-type {\n",
       "        vertical-align: middle;\n",
       "    }\n",
       "\n",
       "    .dataframe tbody tr th {\n",
       "        vertical-align: top;\n",
       "    }\n",
       "\n",
       "    .dataframe thead th {\n",
       "        text-align: right;\n",
       "    }\n",
       "</style>\n",
       "<table border=\"1\" class=\"dataframe\">\n",
       "  <thead>\n",
       "    <tr style=\"text-align: right;\">\n",
       "      <th></th>\n",
       "      <th>Votes_dem</th>\n",
       "      <th>Votes_gop</th>\n",
       "      <th>Votes_other</th>\n",
       "      <th>Votes_total</th>\n",
       "      <th>Per_dem</th>\n",
       "      <th>Per_gop</th>\n",
       "      <th>Per_other</th>\n",
       "      <th>Winner</th>\n",
       "      <th>state_code</th>\n",
       "      <th>Difference</th>\n",
       "      <th>Status</th>\n",
       "    </tr>\n",
       "    <tr>\n",
       "      <th>state</th>\n",
       "      <th></th>\n",
       "      <th></th>\n",
       "      <th></th>\n",
       "      <th></th>\n",
       "      <th></th>\n",
       "      <th></th>\n",
       "      <th></th>\n",
       "      <th></th>\n",
       "      <th></th>\n",
       "      <th></th>\n",
       "      <th></th>\n",
       "    </tr>\n",
       "  </thead>\n",
       "  <tbody>\n",
       "    <tr>\n",
       "      <th>Alabama</th>\n",
       "      <td>9.207042e+05</td>\n",
       "      <td>1.262411e+06</td>\n",
       "      <td>76457.881436</td>\n",
       "      <td>2256352.0</td>\n",
       "      <td>0.408050</td>\n",
       "      <td>0.559492</td>\n",
       "      <td>0.032500</td>\n",
       "      <td>gop</td>\n",
       "      <td>AL</td>\n",
       "      <td>-15.144204</td>\n",
       "      <td>Safe Republican</td>\n",
       "    </tr>\n",
       "    <tr>\n",
       "      <th>Arizona</th>\n",
       "      <td>1.745058e+06</td>\n",
       "      <td>1.473701e+06</td>\n",
       "      <td>177704.505428</td>\n",
       "      <td>3389319.0</td>\n",
       "      <td>0.514870</td>\n",
       "      <td>0.434807</td>\n",
       "      <td>0.050323</td>\n",
       "      <td>dem</td>\n",
       "      <td>AZ</td>\n",
       "      <td>8.006237</td>\n",
       "      <td>Likely Democrat</td>\n",
       "    </tr>\n",
       "    <tr>\n",
       "      <th>Arkansas</th>\n",
       "      <td>4.572656e+05</td>\n",
       "      <td>6.839096e+05</td>\n",
       "      <td>43070.095977</td>\n",
       "      <td>1182676.0</td>\n",
       "      <td>0.386636</td>\n",
       "      <td>0.578273</td>\n",
       "      <td>0.035135</td>\n",
       "      <td>gop</td>\n",
       "      <td>AR</td>\n",
       "      <td>-19.163660</td>\n",
       "      <td>Safe Republican</td>\n",
       "    </tr>\n",
       "    <tr>\n",
       "      <th>California</th>\n",
       "      <td>9.851951e+06</td>\n",
       "      <td>5.251063e+06</td>\n",
       "      <td>799958.932559</td>\n",
       "      <td>15862536.0</td>\n",
       "      <td>0.621083</td>\n",
       "      <td>0.331036</td>\n",
       "      <td>0.047882</td>\n",
       "      <td>dem</td>\n",
       "      <td>CA</td>\n",
       "      <td>29.004746</td>\n",
       "      <td>Safe Democrat</td>\n",
       "    </tr>\n",
       "    <tr>\n",
       "      <th>Colorado</th>\n",
       "      <td>1.662303e+06</td>\n",
       "      <td>1.341068e+06</td>\n",
       "      <td>195575.268275</td>\n",
       "      <td>3190873.0</td>\n",
       "      <td>0.520955</td>\n",
       "      <td>0.420283</td>\n",
       "      <td>0.058777</td>\n",
       "      <td>dem</td>\n",
       "      <td>CO</td>\n",
       "      <td>10.067284</td>\n",
       "      <td>Safe Democrat</td>\n",
       "    </tr>\n",
       "    <tr>\n",
       "      <th>Connecticut</th>\n",
       "      <td>8.007820e+05</td>\n",
       "      <td>5.834282e+05</td>\n",
       "      <td>69344.099778</td>\n",
       "      <td>1450129.0</td>\n",
       "      <td>0.552214</td>\n",
       "      <td>0.402329</td>\n",
       "      <td>0.045457</td>\n",
       "      <td>dem</td>\n",
       "      <td>CT</td>\n",
       "      <td>14.988581</td>\n",
       "      <td>Safe Democrat</td>\n",
       "    </tr>\n",
       "    <tr>\n",
       "      <th>Delaware</th>\n",
       "      <td>2.622313e+05</td>\n",
       "      <td>2.290323e+05</td>\n",
       "      <td>21304.368434</td>\n",
       "      <td>511697.0</td>\n",
       "      <td>0.512474</td>\n",
       "      <td>0.447594</td>\n",
       "      <td>0.039933</td>\n",
       "      <td>dem</td>\n",
       "      <td>DE</td>\n",
       "      <td>6.488022</td>\n",
       "      <td>Likely Democrat</td>\n",
       "    </tr>\n",
       "    <tr>\n",
       "      <th>District of Columbia</th>\n",
       "      <td>3.260616e+04</td>\n",
       "      <td>6.636472e+03</td>\n",
       "      <td>1246.848849</td>\n",
       "      <td>40463.0</td>\n",
       "      <td>0.805826</td>\n",
       "      <td>0.164013</td>\n",
       "      <td>0.030160</td>\n",
       "      <td>dem</td>\n",
       "      <td>DC</td>\n",
       "      <td>64.181309</td>\n",
       "      <td>Safe Democrat</td>\n",
       "    </tr>\n",
       "    <tr>\n",
       "      <th>Florida</th>\n",
       "      <td>5.471497e+06</td>\n",
       "      <td>5.083949e+06</td>\n",
       "      <td>353743.118669</td>\n",
       "      <td>10893547.0</td>\n",
       "      <td>0.502270</td>\n",
       "      <td>0.466694</td>\n",
       "      <td>0.031042</td>\n",
       "      <td>dem</td>\n",
       "      <td>FL</td>\n",
       "      <td>3.557588</td>\n",
       "      <td>Likely Democrat</td>\n",
       "    </tr>\n",
       "    <tr>\n",
       "      <th>Georgia</th>\n",
       "      <td>2.615525e+06</td>\n",
       "      <td>2.446861e+06</td>\n",
       "      <td>194644.191714</td>\n",
       "      <td>5250047.0</td>\n",
       "      <td>0.498191</td>\n",
       "      <td>0.466065</td>\n",
       "      <td>0.035828</td>\n",
       "      <td>dem</td>\n",
       "      <td>GA</td>\n",
       "      <td>3.212618</td>\n",
       "      <td>Likely Democrat</td>\n",
       "    </tr>\n",
       "    <tr>\n",
       "      <th>Hawaii</th>\n",
       "      <td>3.224947e+05</td>\n",
       "      <td>1.743381e+05</td>\n",
       "      <td>20843.458109</td>\n",
       "      <td>516701.0</td>\n",
       "      <td>0.624142</td>\n",
       "      <td>0.337406</td>\n",
       "      <td>0.038452</td>\n",
       "      <td>dem</td>\n",
       "      <td>HI</td>\n",
       "      <td>28.673574</td>\n",
       "      <td>Safe Democrat</td>\n",
       "    </tr>\n",
       "    <tr>\n",
       "      <th>Idaho</th>\n",
       "      <td>3.432431e+05</td>\n",
       "      <td>5.109903e+05</td>\n",
       "      <td>53246.061627</td>\n",
       "      <td>904812.0</td>\n",
       "      <td>0.379353</td>\n",
       "      <td>0.564748</td>\n",
       "      <td>0.055900</td>\n",
       "      <td>gop</td>\n",
       "      <td>ID</td>\n",
       "      <td>-18.539455</td>\n",
       "      <td>Safe Republican</td>\n",
       "    </tr>\n",
       "    <tr>\n",
       "      <th>Illinois</th>\n",
       "      <td>3.004486e+06</td>\n",
       "      <td>2.347755e+06</td>\n",
       "      <td>253452.951933</td>\n",
       "      <td>5592368.0</td>\n",
       "      <td>0.537248</td>\n",
       "      <td>0.419814</td>\n",
       "      <td>0.042943</td>\n",
       "      <td>dem</td>\n",
       "      <td>IL</td>\n",
       "      <td>11.743345</td>\n",
       "      <td>Safe Democrat</td>\n",
       "    </tr>\n",
       "    <tr>\n",
       "      <th>Indiana</th>\n",
       "      <td>1.190070e+06</td>\n",
       "      <td>1.607130e+06</td>\n",
       "      <td>142085.400394</td>\n",
       "      <td>2933700.0</td>\n",
       "      <td>0.405655</td>\n",
       "      <td>0.547817</td>\n",
       "      <td>0.046534</td>\n",
       "      <td>gop</td>\n",
       "      <td>IN</td>\n",
       "      <td>-14.216195</td>\n",
       "      <td>Safe Republican</td>\n",
       "    </tr>\n",
       "    <tr>\n",
       "      <th>Iowa</th>\n",
       "      <td>6.475703e+05</td>\n",
       "      <td>9.282370e+05</td>\n",
       "      <td>85224.426607</td>\n",
       "      <td>1656849.0</td>\n",
       "      <td>0.390844</td>\n",
       "      <td>0.560242</td>\n",
       "      <td>0.048918</td>\n",
       "      <td>gop</td>\n",
       "      <td>IA</td>\n",
       "      <td>-16.939788</td>\n",
       "      <td>Safe Republican</td>\n",
       "    </tr>\n",
       "    <tr>\n",
       "      <th>Kansas</th>\n",
       "      <td>5.208033e+05</td>\n",
       "      <td>7.431380e+05</td>\n",
       "      <td>66077.873886</td>\n",
       "      <td>1327591.0</td>\n",
       "      <td>0.392292</td>\n",
       "      <td>0.559764</td>\n",
       "      <td>0.047957</td>\n",
       "      <td>gop</td>\n",
       "      <td>KS</td>\n",
       "      <td>-16.747227</td>\n",
       "      <td>Safe Republican</td>\n",
       "    </tr>\n",
       "    <tr>\n",
       "      <th>Kentucky</th>\n",
       "      <td>7.924462e+05</td>\n",
       "      <td>1.197299e+06</td>\n",
       "      <td>87117.076000</td>\n",
       "      <td>2073309.0</td>\n",
       "      <td>0.382213</td>\n",
       "      <td>0.577482</td>\n",
       "      <td>0.040314</td>\n",
       "      <td>gop</td>\n",
       "      <td>KY</td>\n",
       "      <td>-19.526896</td>\n",
       "      <td>Safe Republican</td>\n",
       "    </tr>\n",
       "    <tr>\n",
       "      <th>Louisiana</th>\n",
       "      <td>9.231833e+05</td>\n",
       "      <td>1.022264e+06</td>\n",
       "      <td>63731.478527</td>\n",
       "      <td>2006975.0</td>\n",
       "      <td>0.459987</td>\n",
       "      <td>0.509356</td>\n",
       "      <td>0.030680</td>\n",
       "      <td>gop</td>\n",
       "      <td>LA</td>\n",
       "      <td>-4.936825</td>\n",
       "      <td>Likely Republican</td>\n",
       "    </tr>\n",
       "    <tr>\n",
       "      <th>Maine</th>\n",
       "      <td>3.485653e+05</td>\n",
       "      <td>4.450401e+05</td>\n",
       "      <td>39338.480301</td>\n",
       "      <td>831375.0</td>\n",
       "      <td>0.419264</td>\n",
       "      <td>0.535306</td>\n",
       "      <td>0.045430</td>\n",
       "      <td>gop</td>\n",
       "      <td>ME</td>\n",
       "      <td>-11.604242</td>\n",
       "      <td>Safe Republican</td>\n",
       "    </tr>\n",
       "    <tr>\n",
       "      <th>Maryland</th>\n",
       "      <td>1.775549e+06</td>\n",
       "      <td>1.138220e+06</td>\n",
       "      <td>104740.004501</td>\n",
       "      <td>3015650.0</td>\n",
       "      <td>0.588778</td>\n",
       "      <td>0.377438</td>\n",
       "      <td>0.033784</td>\n",
       "      <td>dem</td>\n",
       "      <td>MD</td>\n",
       "      <td>21.134036</td>\n",
       "      <td>Safe Democrat</td>\n",
       "    </tr>\n",
       "    <tr>\n",
       "      <th>Massachusetts</th>\n",
       "      <td>2.074703e+06</td>\n",
       "      <td>1.210809e+06</td>\n",
       "      <td>176890.975616</td>\n",
       "      <td>3453437.0</td>\n",
       "      <td>0.600765</td>\n",
       "      <td>0.350610</td>\n",
       "      <td>0.048625</td>\n",
       "      <td>dem</td>\n",
       "      <td>MA</td>\n",
       "      <td>25.015506</td>\n",
       "      <td>Safe Democrat</td>\n",
       "    </tr>\n",
       "    <tr>\n",
       "      <th>Michigan</th>\n",
       "      <td>2.580355e+06</td>\n",
       "      <td>2.846199e+06</td>\n",
       "      <td>245191.831933</td>\n",
       "      <td>5662504.0</td>\n",
       "      <td>0.455691</td>\n",
       "      <td>0.502640</td>\n",
       "      <td>0.041670</td>\n",
       "      <td>gop</td>\n",
       "      <td>MI</td>\n",
       "      <td>-4.694814</td>\n",
       "      <td>Likely Republican</td>\n",
       "    </tr>\n",
       "    <tr>\n",
       "      <th>Minnesota</th>\n",
       "      <td>1.559452e+06</td>\n",
       "      <td>1.496507e+06</td>\n",
       "      <td>193809.769276</td>\n",
       "      <td>3240916.0</td>\n",
       "      <td>0.481176</td>\n",
       "      <td>0.461754</td>\n",
       "      <td>0.057069</td>\n",
       "      <td>dem</td>\n",
       "      <td>MN</td>\n",
       "      <td>1.942205</td>\n",
       "      <td>Toss-Up</td>\n",
       "    </tr>\n",
       "    <tr>\n",
       "      <th>Mississippi</th>\n",
       "      <td>5.251660e+05</td>\n",
       "      <td>6.738642e+05</td>\n",
       "      <td>30026.904643</td>\n",
       "      <td>1228008.0</td>\n",
       "      <td>0.427657</td>\n",
       "      <td>0.548746</td>\n",
       "      <td>0.023710</td>\n",
       "      <td>gop</td>\n",
       "      <td>MS</td>\n",
       "      <td>-12.108889</td>\n",
       "      <td>Safe Republican</td>\n",
       "    </tr>\n",
       "    <tr>\n",
       "      <th>Missouri</th>\n",
       "      <td>1.231772e+06</td>\n",
       "      <td>1.644871e+06</td>\n",
       "      <td>121921.484349</td>\n",
       "      <td>2993596.0</td>\n",
       "      <td>0.411469</td>\n",
       "      <td>0.549463</td>\n",
       "      <td>0.039070</td>\n",
       "      <td>gop</td>\n",
       "      <td>MO</td>\n",
       "      <td>-13.799412</td>\n",
       "      <td>Safe Republican</td>\n",
       "    </tr>\n",
       "    <tr>\n",
       "      <th>Montana</th>\n",
       "      <td>2.398253e+05</td>\n",
       "      <td>3.314135e+05</td>\n",
       "      <td>33222.222609</td>\n",
       "      <td>602963.0</td>\n",
       "      <td>0.397745</td>\n",
       "      <td>0.549641</td>\n",
       "      <td>0.052639</td>\n",
       "      <td>gop</td>\n",
       "      <td>MT</td>\n",
       "      <td>-15.189677</td>\n",
       "      <td>Safe Republican</td>\n",
       "    </tr>\n",
       "    <tr>\n",
       "      <th>Nebraska</th>\n",
       "      <td>3.806124e+05</td>\n",
       "      <td>5.200303e+05</td>\n",
       "      <td>48348.193219</td>\n",
       "      <td>947159.0</td>\n",
       "      <td>0.401846</td>\n",
       "      <td>0.549042</td>\n",
       "      <td>0.049113</td>\n",
       "      <td>gop</td>\n",
       "      <td>NE</td>\n",
       "      <td>-14.719587</td>\n",
       "      <td>Safe Republican</td>\n",
       "    </tr>\n",
       "    <tr>\n",
       "      <th>Nevada</th>\n",
       "      <td>8.506741e+05</td>\n",
       "      <td>5.572539e+05</td>\n",
       "      <td>77326.300306</td>\n",
       "      <td>1481765.0</td>\n",
       "      <td>0.574095</td>\n",
       "      <td>0.376074</td>\n",
       "      <td>0.049831</td>\n",
       "      <td>dem</td>\n",
       "      <td>NV</td>\n",
       "      <td>19.802080</td>\n",
       "      <td>Safe Democrat</td>\n",
       "    </tr>\n",
       "    <tr>\n",
       "      <th>New Hampshire</th>\n",
       "      <td>3.610469e+05</td>\n",
       "      <td>4.258376e+05</td>\n",
       "      <td>36375.094455</td>\n",
       "      <td>822153.0</td>\n",
       "      <td>0.439148</td>\n",
       "      <td>0.517954</td>\n",
       "      <td>0.042898</td>\n",
       "      <td>gop</td>\n",
       "      <td>NH</td>\n",
       "      <td>-7.880615</td>\n",
       "      <td>Likely Republican</td>\n",
       "    </tr>\n",
       "    <tr>\n",
       "      <th>New Jersey</th>\n",
       "      <td>2.541078e+06</td>\n",
       "      <td>1.572579e+06</td>\n",
       "      <td>166387.877110</td>\n",
       "      <td>4272725.0</td>\n",
       "      <td>0.594721</td>\n",
       "      <td>0.368051</td>\n",
       "      <td>0.037257</td>\n",
       "      <td>dem</td>\n",
       "      <td>NJ</td>\n",
       "      <td>22.667014</td>\n",
       "      <td>Safe Democrat</td>\n",
       "    </tr>\n",
       "    <tr>\n",
       "      <th>New Mexico</th>\n",
       "      <td>4.309943e+05</td>\n",
       "      <td>4.542093e+05</td>\n",
       "      <td>40076.034136</td>\n",
       "      <td>923403.0</td>\n",
       "      <td>0.466746</td>\n",
       "      <td>0.491886</td>\n",
       "      <td>0.041389</td>\n",
       "      <td>gop</td>\n",
       "      <td>NM</td>\n",
       "      <td>-2.514067</td>\n",
       "      <td>Likely Republican</td>\n",
       "    </tr>\n",
       "    <tr>\n",
       "      <th>New York</th>\n",
       "      <td>4.885948e+06</td>\n",
       "      <td>2.962750e+06</td>\n",
       "      <td>364069.788143</td>\n",
       "      <td>8198094.0</td>\n",
       "      <td>0.595986</td>\n",
       "      <td>0.361395</td>\n",
       "      <td>0.042619</td>\n",
       "      <td>dem</td>\n",
       "      <td>NY</td>\n",
       "      <td>23.459089</td>\n",
       "      <td>Safe Democrat</td>\n",
       "    </tr>\n",
       "    <tr>\n",
       "      <th>North Carolina</th>\n",
       "      <td>2.701102e+06</td>\n",
       "      <td>2.778788e+06</td>\n",
       "      <td>211047.528417</td>\n",
       "      <td>5679647.0</td>\n",
       "      <td>0.475576</td>\n",
       "      <td>0.489254</td>\n",
       "      <td>0.035375</td>\n",
       "      <td>gop</td>\n",
       "      <td>NC</td>\n",
       "      <td>-1.367797</td>\n",
       "      <td>Toss-Up</td>\n",
       "    </tr>\n",
       "    <tr>\n",
       "      <th>North Dakota</th>\n",
       "      <td>1.392210e+05</td>\n",
       "      <td>2.068157e+05</td>\n",
       "      <td>20012.763165</td>\n",
       "      <td>365059.0</td>\n",
       "      <td>0.381366</td>\n",
       "      <td>0.566527</td>\n",
       "      <td>0.052119</td>\n",
       "      <td>gop</td>\n",
       "      <td>ND</td>\n",
       "      <td>-18.516114</td>\n",
       "      <td>Safe Republican</td>\n",
       "    </tr>\n",
       "    <tr>\n",
       "      <th>Ohio</th>\n",
       "      <td>2.574307e+06</td>\n",
       "      <td>2.968492e+06</td>\n",
       "      <td>230931.681190</td>\n",
       "      <td>5765017.0</td>\n",
       "      <td>0.446539</td>\n",
       "      <td>0.514915</td>\n",
       "      <td>0.038551</td>\n",
       "      <td>gop</td>\n",
       "      <td>OH</td>\n",
       "      <td>-6.837546</td>\n",
       "      <td>Likely Republican</td>\n",
       "    </tr>\n",
       "    <tr>\n",
       "      <th>Oklahoma</th>\n",
       "      <td>5.917143e+05</td>\n",
       "      <td>9.159878e+05</td>\n",
       "      <td>61271.535007</td>\n",
       "      <td>1566173.0</td>\n",
       "      <td>0.377809</td>\n",
       "      <td>0.584857</td>\n",
       "      <td>0.037345</td>\n",
       "      <td>gop</td>\n",
       "      <td>OK</td>\n",
       "      <td>-20.704831</td>\n",
       "      <td>Safe Republican</td>\n",
       "    </tr>\n",
       "    <tr>\n",
       "      <th>Oregon</th>\n",
       "      <td>1.175512e+06</td>\n",
       "      <td>9.152553e+05</td>\n",
       "      <td>122624.781685</td>\n",
       "      <td>2207592.0</td>\n",
       "      <td>0.532486</td>\n",
       "      <td>0.414594</td>\n",
       "      <td>0.052920</td>\n",
       "      <td>dem</td>\n",
       "      <td>OR</td>\n",
       "      <td>11.789157</td>\n",
       "      <td>Safe Democrat</td>\n",
       "    </tr>\n",
       "    <tr>\n",
       "      <th>Pennsylvania</th>\n",
       "      <td>3.450901e+06</td>\n",
       "      <td>3.287767e+06</td>\n",
       "      <td>310748.368937</td>\n",
       "      <td>7034206.0</td>\n",
       "      <td>0.490589</td>\n",
       "      <td>0.467397</td>\n",
       "      <td>0.042085</td>\n",
       "      <td>dem</td>\n",
       "      <td>PA</td>\n",
       "      <td>2.319154</td>\n",
       "      <td>Toss-Up</td>\n",
       "    </tr>\n",
       "    <tr>\n",
       "      <th>Rhode Island</th>\n",
       "      <td>2.802966e+05</td>\n",
       "      <td>2.042770e+05</td>\n",
       "      <td>27593.406952</td>\n",
       "      <td>510659.0</td>\n",
       "      <td>0.548892</td>\n",
       "      <td>0.400026</td>\n",
       "      <td>0.051082</td>\n",
       "      <td>dem</td>\n",
       "      <td>RI</td>\n",
       "      <td>14.886561</td>\n",
       "      <td>Safe Democrat</td>\n",
       "    </tr>\n",
       "    <tr>\n",
       "      <th>South Carolina</th>\n",
       "      <td>1.122372e+06</td>\n",
       "      <td>1.338985e+06</td>\n",
       "      <td>90941.578985</td>\n",
       "      <td>2548140.0</td>\n",
       "      <td>0.440467</td>\n",
       "      <td>0.525476</td>\n",
       "      <td>0.034312</td>\n",
       "      <td>gop</td>\n",
       "      <td>SC</td>\n",
       "      <td>-8.500849</td>\n",
       "      <td>Likely Republican</td>\n",
       "    </tr>\n",
       "    <tr>\n",
       "      <th>South Dakota</th>\n",
       "      <td>1.547981e+05</td>\n",
       "      <td>2.489127e+05</td>\n",
       "      <td>23276.966875</td>\n",
       "      <td>425860.0</td>\n",
       "      <td>0.363495</td>\n",
       "      <td>0.584494</td>\n",
       "      <td>0.052019</td>\n",
       "      <td>gop</td>\n",
       "      <td>SD</td>\n",
       "      <td>-22.099873</td>\n",
       "      <td>Safe Republican</td>\n",
       "    </tr>\n",
       "    <tr>\n",
       "      <th>Tennessee</th>\n",
       "      <td>1.287893e+06</td>\n",
       "      <td>1.667709e+06</td>\n",
       "      <td>114379.965676</td>\n",
       "      <td>3063942.0</td>\n",
       "      <td>0.420339</td>\n",
       "      <td>0.544302</td>\n",
       "      <td>0.036158</td>\n",
       "      <td>gop</td>\n",
       "      <td>TN</td>\n",
       "      <td>-12.396313</td>\n",
       "      <td>Safe Republican</td>\n",
       "    </tr>\n",
       "    <tr>\n",
       "      <th>Texas</th>\n",
       "      <td>5.713942e+06</td>\n",
       "      <td>5.206916e+06</td>\n",
       "      <td>483122.214979</td>\n",
       "      <td>11379850.0</td>\n",
       "      <td>0.502110</td>\n",
       "      <td>0.457556</td>\n",
       "      <td>0.040363</td>\n",
       "      <td>dem</td>\n",
       "      <td>TX</td>\n",
       "      <td>4.455470</td>\n",
       "      <td>Likely Democrat</td>\n",
       "    </tr>\n",
       "    <tr>\n",
       "      <th>Utah</th>\n",
       "      <td>6.559025e+05</td>\n",
       "      <td>7.041134e+05</td>\n",
       "      <td>133965.509616</td>\n",
       "      <td>1487951.0</td>\n",
       "      <td>0.440809</td>\n",
       "      <td>0.473210</td>\n",
       "      <td>0.085981</td>\n",
       "      <td>gop</td>\n",
       "      <td>UT</td>\n",
       "      <td>-3.240088</td>\n",
       "      <td>Likely Republican</td>\n",
       "    </tr>\n",
       "    <tr>\n",
       "      <th>Vermont</th>\n",
       "      <td>1.677144e+05</td>\n",
       "      <td>1.784267e+05</td>\n",
       "      <td>20969.475243</td>\n",
       "      <td>366389.0</td>\n",
       "      <td>0.457749</td>\n",
       "      <td>0.486987</td>\n",
       "      <td>0.055264</td>\n",
       "      <td>gop</td>\n",
       "      <td>VT</td>\n",
       "      <td>-2.923752</td>\n",
       "      <td>Likely Republican</td>\n",
       "    </tr>\n",
       "    <tr>\n",
       "      <th>Virginia</th>\n",
       "      <td>2.308685e+06</td>\n",
       "      <td>1.992530e+06</td>\n",
       "      <td>188937.445986</td>\n",
       "      <td>4482576.0</td>\n",
       "      <td>0.515035</td>\n",
       "      <td>0.444505</td>\n",
       "      <td>0.040471</td>\n",
       "      <td>dem</td>\n",
       "      <td>VA</td>\n",
       "      <td>7.052976</td>\n",
       "      <td>Likely Democrat</td>\n",
       "    </tr>\n",
       "    <tr>\n",
       "      <th>Washington</th>\n",
       "      <td>2.216533e+06</td>\n",
       "      <td>1.473852e+06</td>\n",
       "      <td>218490.796355</td>\n",
       "      <td>3898835.0</td>\n",
       "      <td>0.568511</td>\n",
       "      <td>0.378024</td>\n",
       "      <td>0.053465</td>\n",
       "      <td>dem</td>\n",
       "      <td>WA</td>\n",
       "      <td>19.048776</td>\n",
       "      <td>Safe Democrat</td>\n",
       "    </tr>\n",
       "    <tr>\n",
       "      <th>West Virginia</th>\n",
       "      <td>2.545358e+05</td>\n",
       "      <td>4.757167e+05</td>\n",
       "      <td>33650.235346</td>\n",
       "      <td>762390.0</td>\n",
       "      <td>0.333866</td>\n",
       "      <td>0.623981</td>\n",
       "      <td>0.042154</td>\n",
       "      <td>gop</td>\n",
       "      <td>WV</td>\n",
       "      <td>-29.011518</td>\n",
       "      <td>Safe Republican</td>\n",
       "    </tr>\n",
       "    <tr>\n",
       "      <th>Wisconsin</th>\n",
       "      <td>1.540622e+06</td>\n",
       "      <td>1.720645e+06</td>\n",
       "      <td>160309.853480</td>\n",
       "      <td>3415213.0</td>\n",
       "      <td>0.451106</td>\n",
       "      <td>0.503818</td>\n",
       "      <td>0.045077</td>\n",
       "      <td>gop</td>\n",
       "      <td>WI</td>\n",
       "      <td>-5.271198</td>\n",
       "      <td>Likely Republican</td>\n",
       "    </tr>\n",
       "    <tr>\n",
       "      <th>Wyoming</th>\n",
       "      <td>9.204786e+04</td>\n",
       "      <td>1.597944e+05</td>\n",
       "      <td>15302.112889</td>\n",
       "      <td>266353.0</td>\n",
       "      <td>0.345586</td>\n",
       "      <td>0.599935</td>\n",
       "      <td>0.054480</td>\n",
       "      <td>gop</td>\n",
       "      <td>WY</td>\n",
       "      <td>-25.434859</td>\n",
       "      <td>Safe Republican</td>\n",
       "    </tr>\n",
       "  </tbody>\n",
       "</table>\n",
       "</div>"
      ],
      "text/plain": [
       "                         Votes_dem     Votes_gop    Votes_other  Votes_total  \\\n",
       "state                                                                          \n",
       "Alabama               9.207042e+05  1.262411e+06   76457.881436    2256352.0   \n",
       "Arizona               1.745058e+06  1.473701e+06  177704.505428    3389319.0   \n",
       "Arkansas              4.572656e+05  6.839096e+05   43070.095977    1182676.0   \n",
       "California            9.851951e+06  5.251063e+06  799958.932559   15862536.0   \n",
       "Colorado              1.662303e+06  1.341068e+06  195575.268275    3190873.0   \n",
       "Connecticut           8.007820e+05  5.834282e+05   69344.099778    1450129.0   \n",
       "Delaware              2.622313e+05  2.290323e+05   21304.368434     511697.0   \n",
       "District of Columbia  3.260616e+04  6.636472e+03    1246.848849      40463.0   \n",
       "Florida               5.471497e+06  5.083949e+06  353743.118669   10893547.0   \n",
       "Georgia               2.615525e+06  2.446861e+06  194644.191714    5250047.0   \n",
       "Hawaii                3.224947e+05  1.743381e+05   20843.458109     516701.0   \n",
       "Idaho                 3.432431e+05  5.109903e+05   53246.061627     904812.0   \n",
       "Illinois              3.004486e+06  2.347755e+06  253452.951933    5592368.0   \n",
       "Indiana               1.190070e+06  1.607130e+06  142085.400394    2933700.0   \n",
       "Iowa                  6.475703e+05  9.282370e+05   85224.426607    1656849.0   \n",
       "Kansas                5.208033e+05  7.431380e+05   66077.873886    1327591.0   \n",
       "Kentucky              7.924462e+05  1.197299e+06   87117.076000    2073309.0   \n",
       "Louisiana             9.231833e+05  1.022264e+06   63731.478527    2006975.0   \n",
       "Maine                 3.485653e+05  4.450401e+05   39338.480301     831375.0   \n",
       "Maryland              1.775549e+06  1.138220e+06  104740.004501    3015650.0   \n",
       "Massachusetts         2.074703e+06  1.210809e+06  176890.975616    3453437.0   \n",
       "Michigan              2.580355e+06  2.846199e+06  245191.831933    5662504.0   \n",
       "Minnesota             1.559452e+06  1.496507e+06  193809.769276    3240916.0   \n",
       "Mississippi           5.251660e+05  6.738642e+05   30026.904643    1228008.0   \n",
       "Missouri              1.231772e+06  1.644871e+06  121921.484349    2993596.0   \n",
       "Montana               2.398253e+05  3.314135e+05   33222.222609     602963.0   \n",
       "Nebraska              3.806124e+05  5.200303e+05   48348.193219     947159.0   \n",
       "Nevada                8.506741e+05  5.572539e+05   77326.300306    1481765.0   \n",
       "New Hampshire         3.610469e+05  4.258376e+05   36375.094455     822153.0   \n",
       "New Jersey            2.541078e+06  1.572579e+06  166387.877110    4272725.0   \n",
       "New Mexico            4.309943e+05  4.542093e+05   40076.034136     923403.0   \n",
       "New York              4.885948e+06  2.962750e+06  364069.788143    8198094.0   \n",
       "North Carolina        2.701102e+06  2.778788e+06  211047.528417    5679647.0   \n",
       "North Dakota          1.392210e+05  2.068157e+05   20012.763165     365059.0   \n",
       "Ohio                  2.574307e+06  2.968492e+06  230931.681190    5765017.0   \n",
       "Oklahoma              5.917143e+05  9.159878e+05   61271.535007    1566173.0   \n",
       "Oregon                1.175512e+06  9.152553e+05  122624.781685    2207592.0   \n",
       "Pennsylvania          3.450901e+06  3.287767e+06  310748.368937    7034206.0   \n",
       "Rhode Island          2.802966e+05  2.042770e+05   27593.406952     510659.0   \n",
       "South Carolina        1.122372e+06  1.338985e+06   90941.578985    2548140.0   \n",
       "South Dakota          1.547981e+05  2.489127e+05   23276.966875     425860.0   \n",
       "Tennessee             1.287893e+06  1.667709e+06  114379.965676    3063942.0   \n",
       "Texas                 5.713942e+06  5.206916e+06  483122.214979   11379850.0   \n",
       "Utah                  6.559025e+05  7.041134e+05  133965.509616    1487951.0   \n",
       "Vermont               1.677144e+05  1.784267e+05   20969.475243     366389.0   \n",
       "Virginia              2.308685e+06  1.992530e+06  188937.445986    4482576.0   \n",
       "Washington            2.216533e+06  1.473852e+06  218490.796355    3898835.0   \n",
       "West Virginia         2.545358e+05  4.757167e+05   33650.235346     762390.0   \n",
       "Wisconsin             1.540622e+06  1.720645e+06  160309.853480    3415213.0   \n",
       "Wyoming               9.204786e+04  1.597944e+05   15302.112889     266353.0   \n",
       "\n",
       "                       Per_dem   Per_gop  Per_other Winner state_code  \\\n",
       "state                                                                   \n",
       "Alabama               0.408050  0.559492   0.032500    gop         AL   \n",
       "Arizona               0.514870  0.434807   0.050323    dem         AZ   \n",
       "Arkansas              0.386636  0.578273   0.035135    gop         AR   \n",
       "California            0.621083  0.331036   0.047882    dem         CA   \n",
       "Colorado              0.520955  0.420283   0.058777    dem         CO   \n",
       "Connecticut           0.552214  0.402329   0.045457    dem         CT   \n",
       "Delaware              0.512474  0.447594   0.039933    dem         DE   \n",
       "District of Columbia  0.805826  0.164013   0.030160    dem         DC   \n",
       "Florida               0.502270  0.466694   0.031042    dem         FL   \n",
       "Georgia               0.498191  0.466065   0.035828    dem         GA   \n",
       "Hawaii                0.624142  0.337406   0.038452    dem         HI   \n",
       "Idaho                 0.379353  0.564748   0.055900    gop         ID   \n",
       "Illinois              0.537248  0.419814   0.042943    dem         IL   \n",
       "Indiana               0.405655  0.547817   0.046534    gop         IN   \n",
       "Iowa                  0.390844  0.560242   0.048918    gop         IA   \n",
       "Kansas                0.392292  0.559764   0.047957    gop         KS   \n",
       "Kentucky              0.382213  0.577482   0.040314    gop         KY   \n",
       "Louisiana             0.459987  0.509356   0.030680    gop         LA   \n",
       "Maine                 0.419264  0.535306   0.045430    gop         ME   \n",
       "Maryland              0.588778  0.377438   0.033784    dem         MD   \n",
       "Massachusetts         0.600765  0.350610   0.048625    dem         MA   \n",
       "Michigan              0.455691  0.502640   0.041670    gop         MI   \n",
       "Minnesota             0.481176  0.461754   0.057069    dem         MN   \n",
       "Mississippi           0.427657  0.548746   0.023710    gop         MS   \n",
       "Missouri              0.411469  0.549463   0.039070    gop         MO   \n",
       "Montana               0.397745  0.549641   0.052639    gop         MT   \n",
       "Nebraska              0.401846  0.549042   0.049113    gop         NE   \n",
       "Nevada                0.574095  0.376074   0.049831    dem         NV   \n",
       "New Hampshire         0.439148  0.517954   0.042898    gop         NH   \n",
       "New Jersey            0.594721  0.368051   0.037257    dem         NJ   \n",
       "New Mexico            0.466746  0.491886   0.041389    gop         NM   \n",
       "New York              0.595986  0.361395   0.042619    dem         NY   \n",
       "North Carolina        0.475576  0.489254   0.035375    gop         NC   \n",
       "North Dakota          0.381366  0.566527   0.052119    gop         ND   \n",
       "Ohio                  0.446539  0.514915   0.038551    gop         OH   \n",
       "Oklahoma              0.377809  0.584857   0.037345    gop         OK   \n",
       "Oregon                0.532486  0.414594   0.052920    dem         OR   \n",
       "Pennsylvania          0.490589  0.467397   0.042085    dem         PA   \n",
       "Rhode Island          0.548892  0.400026   0.051082    dem         RI   \n",
       "South Carolina        0.440467  0.525476   0.034312    gop         SC   \n",
       "South Dakota          0.363495  0.584494   0.052019    gop         SD   \n",
       "Tennessee             0.420339  0.544302   0.036158    gop         TN   \n",
       "Texas                 0.502110  0.457556   0.040363    dem         TX   \n",
       "Utah                  0.440809  0.473210   0.085981    gop         UT   \n",
       "Vermont               0.457749  0.486987   0.055264    gop         VT   \n",
       "Virginia              0.515035  0.444505   0.040471    dem         VA   \n",
       "Washington            0.568511  0.378024   0.053465    dem         WA   \n",
       "West Virginia         0.333866  0.623981   0.042154    gop         WV   \n",
       "Wisconsin             0.451106  0.503818   0.045077    gop         WI   \n",
       "Wyoming               0.345586  0.599935   0.054480    gop         WY   \n",
       "\n",
       "                      Difference             Status  \n",
       "state                                                \n",
       "Alabama               -15.144204    Safe Republican  \n",
       "Arizona                 8.006237    Likely Democrat  \n",
       "Arkansas              -19.163660    Safe Republican  \n",
       "California             29.004746      Safe Democrat  \n",
       "Colorado               10.067284      Safe Democrat  \n",
       "Connecticut            14.988581      Safe Democrat  \n",
       "Delaware                6.488022    Likely Democrat  \n",
       "District of Columbia   64.181309      Safe Democrat  \n",
       "Florida                 3.557588    Likely Democrat  \n",
       "Georgia                 3.212618    Likely Democrat  \n",
       "Hawaii                 28.673574      Safe Democrat  \n",
       "Idaho                 -18.539455    Safe Republican  \n",
       "Illinois               11.743345      Safe Democrat  \n",
       "Indiana               -14.216195    Safe Republican  \n",
       "Iowa                  -16.939788    Safe Republican  \n",
       "Kansas                -16.747227    Safe Republican  \n",
       "Kentucky              -19.526896    Safe Republican  \n",
       "Louisiana              -4.936825  Likely Republican  \n",
       "Maine                 -11.604242    Safe Republican  \n",
       "Maryland               21.134036      Safe Democrat  \n",
       "Massachusetts          25.015506      Safe Democrat  \n",
       "Michigan               -4.694814  Likely Republican  \n",
       "Minnesota               1.942205            Toss-Up  \n",
       "Mississippi           -12.108889    Safe Republican  \n",
       "Missouri              -13.799412    Safe Republican  \n",
       "Montana               -15.189677    Safe Republican  \n",
       "Nebraska              -14.719587    Safe Republican  \n",
       "Nevada                 19.802080      Safe Democrat  \n",
       "New Hampshire          -7.880615  Likely Republican  \n",
       "New Jersey             22.667014      Safe Democrat  \n",
       "New Mexico             -2.514067  Likely Republican  \n",
       "New York               23.459089      Safe Democrat  \n",
       "North Carolina         -1.367797            Toss-Up  \n",
       "North Dakota          -18.516114    Safe Republican  \n",
       "Ohio                   -6.837546  Likely Republican  \n",
       "Oklahoma              -20.704831    Safe Republican  \n",
       "Oregon                 11.789157      Safe Democrat  \n",
       "Pennsylvania            2.319154            Toss-Up  \n",
       "Rhode Island           14.886561      Safe Democrat  \n",
       "South Carolina         -8.500849  Likely Republican  \n",
       "South Dakota          -22.099873    Safe Republican  \n",
       "Tennessee             -12.396313    Safe Republican  \n",
       "Texas                   4.455470    Likely Democrat  \n",
       "Utah                   -3.240088  Likely Republican  \n",
       "Vermont                -2.923752  Likely Republican  \n",
       "Virginia                7.052976    Likely Democrat  \n",
       "Washington             19.048776      Safe Democrat  \n",
       "West Virginia         -29.011518    Safe Republican  \n",
       "Wisconsin              -5.271198  Likely Republican  \n",
       "Wyoming               -25.434859    Safe Republican  "
      ]
     },
     "execution_count": 96,
     "metadata": {},
     "output_type": "execute_result"
    }
   ],
   "source": [
    "# Añadir la columna \"Winner\" basado en los porcentajes predichos de Biden y Trump\n",
    "accumulated_pred_state['Winner'] = np.where(\n",
    "    accumulated_pred_state[\"Per_dem\"] >= accumulated_pred_state[\"Per_gop\"], 'dem', 'gop'\n",
    ")\n",
    "\n",
    "# Añadir los códigos de los estados usando el diccionario state_to_code\n",
    "accumulated_pred_state['state_code'] = accumulated_pred_state.index.map(state_to_code)\n",
    "\n",
    "# Añadir diferencia entre Biden y Trump\n",
    "accumulated_pred_state['Difference'] = (accumulated_pred_state[\"Per_dem\"] - accumulated_pred_state[\"Per_gop\"]) * 100\n",
    "\n",
    "\n",
    "# Definir las condiciones y los valores a asignar\n",
    "conditions = [\n",
    "    accumulated_pred_state[\"Difference\"] > 10,\n",
    "    accumulated_pred_state[\"Difference\"].between(2.5, 10),\n",
    "    accumulated_pred_state[\"Difference\"].between(-2.5, 2.5),\n",
    "    accumulated_pred_state[\"Difference\"].between(-10, -2.5),\n",
    "    accumulated_pred_state[\"Difference\"] < -10\n",
    "]\n",
    "\n",
    "choices = [\n",
    "    \"Safe Democrat\",\n",
    "    \"Likely Democrat\",\n",
    "    \"Toss-Up\",\n",
    "    \"Likely Republican\",\n",
    "    \"Safe Republican\"\n",
    "]\n",
    "\n",
    "# Usar np.select para asignar el \"Status\" basado en las condiciones, con un valor por defecto \"Unknown\"\n",
    "accumulated_pred_state[\"Status\"] = np.select(conditions, choices, default=\"Unknown\")\n",
    "\n",
    "\n",
    "# Mostrar el DataFrame\n",
    "accumulated_pred_state\n"
   ]
  },
  {
   "cell_type": "markdown",
   "metadata": {},
   "source": [
    "## Gráficos"
   ]
  },
  {
   "cell_type": "markdown",
   "metadata": {},
   "source": [
    "### Simulación"
   ]
  },
  {
   "cell_type": "code",
   "execution_count": 97,
   "metadata": {},
   "outputs": [
    {
     "name": "stderr",
     "output_type": "stream",
     "text": [
      "/var/folders/dh/_ks73kfn57l67vxm7b5y16qw0000gn/T/ipykernel_4904/1540349869.py:12: UserWarning:\n",
      "\n",
      "Dataset has 0 variance; skipping density estimate. Pass `warn_singular=False` to disable this warning.\n",
      "\n"
     ]
    },
    {
     "ename": "LinAlgError",
     "evalue": "The data appears to lie in a lower-dimensional subspace of the space in which it is expressed. This has resulted in a singular data covariance matrix, which cannot be treated using the algorithms implemented in `gaussian_kde`. Consider performing principle component analysis / dimensionality reduction and using `gaussian_kde` with the transformed data.",
     "output_type": "error",
     "traceback": [
      "\u001b[0;31m---------------------------------------------------------------------------\u001b[0m",
      "\u001b[0;31mLinAlgError\u001b[0m                               Traceback (most recent call last)",
      "File \u001b[0;32m~/Desktop/T3CHFEST/US-Elections/.venv/lib/python3.9/site-packages/scipy/stats/_kde.py:226\u001b[0m, in \u001b[0;36mgaussian_kde.__init__\u001b[0;34m(self, dataset, bw_method, weights)\u001b[0m\n\u001b[1;32m    225\u001b[0m \u001b[38;5;28;01mtry\u001b[39;00m:\n\u001b[0;32m--> 226\u001b[0m     \u001b[38;5;28;43mself\u001b[39;49m\u001b[38;5;241;43m.\u001b[39;49m\u001b[43mset_bandwidth\u001b[49m\u001b[43m(\u001b[49m\u001b[43mbw_method\u001b[49m\u001b[38;5;241;43m=\u001b[39;49m\u001b[43mbw_method\u001b[49m\u001b[43m)\u001b[49m\n\u001b[1;32m    227\u001b[0m \u001b[38;5;28;01mexcept\u001b[39;00m linalg\u001b[38;5;241m.\u001b[39mLinAlgError \u001b[38;5;28;01mas\u001b[39;00m e:\n",
      "File \u001b[0;32m~/Desktop/T3CHFEST/US-Elections/.venv/lib/python3.9/site-packages/scipy/stats/_kde.py:574\u001b[0m, in \u001b[0;36mgaussian_kde.set_bandwidth\u001b[0;34m(self, bw_method)\u001b[0m\n\u001b[1;32m    572\u001b[0m     \u001b[38;5;28;01mraise\u001b[39;00m \u001b[38;5;167;01mValueError\u001b[39;00m(msg)\n\u001b[0;32m--> 574\u001b[0m \u001b[38;5;28;43mself\u001b[39;49m\u001b[38;5;241;43m.\u001b[39;49m\u001b[43m_compute_covariance\u001b[49m\u001b[43m(\u001b[49m\u001b[43m)\u001b[49m\n",
      "File \u001b[0;32m~/Desktop/T3CHFEST/US-Elections/.venv/lib/python3.9/site-packages/scipy/stats/_kde.py:586\u001b[0m, in \u001b[0;36mgaussian_kde._compute_covariance\u001b[0;34m(self)\u001b[0m\n\u001b[1;32m    583\u001b[0m     \u001b[38;5;28mself\u001b[39m\u001b[38;5;241m.\u001b[39m_data_covariance \u001b[38;5;241m=\u001b[39m atleast_2d(cov(\u001b[38;5;28mself\u001b[39m\u001b[38;5;241m.\u001b[39mdataset, rowvar\u001b[38;5;241m=\u001b[39m\u001b[38;5;241m1\u001b[39m,\n\u001b[1;32m    584\u001b[0m                                        bias\u001b[38;5;241m=\u001b[39m\u001b[38;5;28;01mFalse\u001b[39;00m,\n\u001b[1;32m    585\u001b[0m                                        aweights\u001b[38;5;241m=\u001b[39m\u001b[38;5;28mself\u001b[39m\u001b[38;5;241m.\u001b[39mweights))\n\u001b[0;32m--> 586\u001b[0m     \u001b[38;5;28mself\u001b[39m\u001b[38;5;241m.\u001b[39m_data_cho_cov \u001b[38;5;241m=\u001b[39m \u001b[43mlinalg\u001b[49m\u001b[38;5;241;43m.\u001b[39;49m\u001b[43mcholesky\u001b[49m\u001b[43m(\u001b[49m\u001b[38;5;28;43mself\u001b[39;49m\u001b[38;5;241;43m.\u001b[39;49m\u001b[43m_data_covariance\u001b[49m\u001b[43m,\u001b[49m\n\u001b[1;32m    587\u001b[0m \u001b[43m                                         \u001b[49m\u001b[43mlower\u001b[49m\u001b[38;5;241;43m=\u001b[39;49m\u001b[38;5;28;43;01mTrue\u001b[39;49;00m\u001b[43m)\u001b[49m\n\u001b[1;32m    589\u001b[0m \u001b[38;5;28mself\u001b[39m\u001b[38;5;241m.\u001b[39mcovariance \u001b[38;5;241m=\u001b[39m \u001b[38;5;28mself\u001b[39m\u001b[38;5;241m.\u001b[39m_data_covariance \u001b[38;5;241m*\u001b[39m \u001b[38;5;28mself\u001b[39m\u001b[38;5;241m.\u001b[39mfactor\u001b[38;5;241m*\u001b[39m\u001b[38;5;241m*\u001b[39m\u001b[38;5;241m2\u001b[39m\n",
      "File \u001b[0;32m~/Desktop/T3CHFEST/US-Elections/.venv/lib/python3.9/site-packages/scipy/linalg/_decomp_cholesky.py:88\u001b[0m, in \u001b[0;36mcholesky\u001b[0;34m(a, lower, overwrite_a, check_finite)\u001b[0m\n\u001b[1;32m     45\u001b[0m \u001b[38;5;250m\u001b[39m\u001b[38;5;124;03m\"\"\"\u001b[39;00m\n\u001b[1;32m     46\u001b[0m \u001b[38;5;124;03mCompute the Cholesky decomposition of a matrix.\u001b[39;00m\n\u001b[1;32m     47\u001b[0m \n\u001b[0;32m   (...)\u001b[0m\n\u001b[1;32m     86\u001b[0m \n\u001b[1;32m     87\u001b[0m \u001b[38;5;124;03m\"\"\"\u001b[39;00m\n\u001b[0;32m---> 88\u001b[0m c, lower \u001b[38;5;241m=\u001b[39m \u001b[43m_cholesky\u001b[49m\u001b[43m(\u001b[49m\u001b[43ma\u001b[49m\u001b[43m,\u001b[49m\u001b[43m \u001b[49m\u001b[43mlower\u001b[49m\u001b[38;5;241;43m=\u001b[39;49m\u001b[43mlower\u001b[49m\u001b[43m,\u001b[49m\u001b[43m \u001b[49m\u001b[43moverwrite_a\u001b[49m\u001b[38;5;241;43m=\u001b[39;49m\u001b[43moverwrite_a\u001b[49m\u001b[43m,\u001b[49m\u001b[43m \u001b[49m\u001b[43mclean\u001b[49m\u001b[38;5;241;43m=\u001b[39;49m\u001b[38;5;28;43;01mTrue\u001b[39;49;00m\u001b[43m,\u001b[49m\n\u001b[1;32m     89\u001b[0m \u001b[43m                     \u001b[49m\u001b[43mcheck_finite\u001b[49m\u001b[38;5;241;43m=\u001b[39;49m\u001b[43mcheck_finite\u001b[49m\u001b[43m)\u001b[49m\n\u001b[1;32m     90\u001b[0m \u001b[38;5;28;01mreturn\u001b[39;00m c\n",
      "File \u001b[0;32m~/Desktop/T3CHFEST/US-Elections/.venv/lib/python3.9/site-packages/scipy/linalg/_decomp_cholesky.py:36\u001b[0m, in \u001b[0;36m_cholesky\u001b[0;34m(a, lower, overwrite_a, clean, check_finite)\u001b[0m\n\u001b[1;32m     35\u001b[0m \u001b[38;5;28;01mif\u001b[39;00m info \u001b[38;5;241m>\u001b[39m \u001b[38;5;241m0\u001b[39m:\n\u001b[0;32m---> 36\u001b[0m     \u001b[38;5;28;01mraise\u001b[39;00m LinAlgError(\u001b[38;5;124m\"\u001b[39m\u001b[38;5;132;01m%d\u001b[39;00m\u001b[38;5;124m-th leading minor of the array is not positive \u001b[39m\u001b[38;5;124m\"\u001b[39m\n\u001b[1;32m     37\u001b[0m                       \u001b[38;5;124m\"\u001b[39m\u001b[38;5;124mdefinite\u001b[39m\u001b[38;5;124m\"\u001b[39m \u001b[38;5;241m%\u001b[39m info)\n\u001b[1;32m     38\u001b[0m \u001b[38;5;28;01mif\u001b[39;00m info \u001b[38;5;241m<\u001b[39m \u001b[38;5;241m0\u001b[39m:\n",
      "\u001b[0;31mLinAlgError\u001b[0m: 1-th leading minor of the array is not positive definite",
      "\nThe above exception was the direct cause of the following exception:\n",
      "\u001b[0;31mLinAlgError\u001b[0m                               Traceback (most recent call last)",
      "Cell \u001b[0;32mIn[97], line 15\u001b[0m\n\u001b[1;32m     12\u001b[0m sns\u001b[38;5;241m.\u001b[39mkdeplot(simulation_results[\u001b[38;5;124m'\u001b[39m\u001b[38;5;124mPred_dem\u001b[39m\u001b[38;5;124m'\u001b[39m], color\u001b[38;5;241m=\u001b[39m\u001b[38;5;124m\"\u001b[39m\u001b[38;5;124m#3951a2\u001b[39m\u001b[38;5;124m\"\u001b[39m, fill\u001b[38;5;241m=\u001b[39m\u001b[38;5;28;01mTrue\u001b[39;00m, alpha\u001b[38;5;241m=\u001b[39m\u001b[38;5;241m0.8\u001b[39m, label\u001b[38;5;241m=\u001b[39m\u001b[38;5;124m\"\u001b[39m\u001b[38;5;124mBiden Pred\u001b[39m\u001b[38;5;124m\"\u001b[39m)\n\u001b[1;32m     14\u001b[0m \u001b[38;5;66;03m# Crear la densidad para Trump usando gaussian_kde\u001b[39;00m\n\u001b[0;32m---> 15\u001b[0m density_trump \u001b[38;5;241m=\u001b[39m \u001b[43mgaussian_kde\u001b[49m\u001b[43m(\u001b[49m\u001b[43msimulation_results\u001b[49m\u001b[43m[\u001b[49m\u001b[38;5;124;43m'\u001b[39;49m\u001b[38;5;124;43mPred_gop\u001b[39;49m\u001b[38;5;124;43m'\u001b[39;49m\u001b[43m]\u001b[49m\u001b[43m)\u001b[49m\n\u001b[1;32m     16\u001b[0m x_vals \u001b[38;5;241m=\u001b[39m np\u001b[38;5;241m.\u001b[39mlinspace(\u001b[38;5;28mmin\u001b[39m(simulation_results[\u001b[38;5;124m'\u001b[39m\u001b[38;5;124mPred_gop\u001b[39m\u001b[38;5;124m'\u001b[39m]), \u001b[38;5;28mmax\u001b[39m(simulation_results[\u001b[38;5;124m'\u001b[39m\u001b[38;5;124mPred_dem\u001b[39m\u001b[38;5;124m'\u001b[39m]), \u001b[38;5;241m1000\u001b[39m)\n\u001b[1;32m     17\u001b[0m y_vals \u001b[38;5;241m=\u001b[39m density_trump(x_vals)\n",
      "File \u001b[0;32m~/Desktop/T3CHFEST/US-Elections/.venv/lib/python3.9/site-packages/scipy/stats/_kde.py:235\u001b[0m, in \u001b[0;36mgaussian_kde.__init__\u001b[0;34m(self, dataset, bw_method, weights)\u001b[0m\n\u001b[1;32m    227\u001b[0m \u001b[38;5;28;01mexcept\u001b[39;00m linalg\u001b[38;5;241m.\u001b[39mLinAlgError \u001b[38;5;28;01mas\u001b[39;00m e:\n\u001b[1;32m    228\u001b[0m     msg \u001b[38;5;241m=\u001b[39m (\u001b[38;5;124m\"\u001b[39m\u001b[38;5;124mThe data appears to lie in a lower-dimensional subspace \u001b[39m\u001b[38;5;124m\"\u001b[39m\n\u001b[1;32m    229\u001b[0m            \u001b[38;5;124m\"\u001b[39m\u001b[38;5;124mof the space in which it is expressed. This has resulted \u001b[39m\u001b[38;5;124m\"\u001b[39m\n\u001b[1;32m    230\u001b[0m            \u001b[38;5;124m\"\u001b[39m\u001b[38;5;124min a singular data covariance matrix, which cannot be \u001b[39m\u001b[38;5;124m\"\u001b[39m\n\u001b[0;32m   (...)\u001b[0m\n\u001b[1;32m    233\u001b[0m            \u001b[38;5;124m\"\u001b[39m\u001b[38;5;124manalysis / dimensionality reduction and using \u001b[39m\u001b[38;5;124m\"\u001b[39m\n\u001b[1;32m    234\u001b[0m            \u001b[38;5;124m\"\u001b[39m\u001b[38;5;124m`gaussian_kde` with the transformed data.\u001b[39m\u001b[38;5;124m\"\u001b[39m)\n\u001b[0;32m--> 235\u001b[0m     \u001b[38;5;28;01mraise\u001b[39;00m linalg\u001b[38;5;241m.\u001b[39mLinAlgError(msg) \u001b[38;5;28;01mfrom\u001b[39;00m\u001b[38;5;250m \u001b[39m\u001b[38;5;21;01me\u001b[39;00m\n",
      "\u001b[0;31mLinAlgError\u001b[0m: The data appears to lie in a lower-dimensional subspace of the space in which it is expressed. This has resulted in a singular data covariance matrix, which cannot be treated using the algorithms implemented in `gaussian_kde`. Consider performing principle component analysis / dimensionality reduction and using `gaussian_kde` with the transformed data."
     ]
    },
    {
     "data": {
      "image/png": "[encoded data removed]",
      "text/plain": [
       "<Figure size 1200x800 with 1 Axes>"
      ]
     },
     "metadata": {},
     "output_type": "display_data"
    }
   ],
   "source": [
    "# Asegurarse de que los valores de Trump_Pred y Biden_Pred sean numéricos\n",
    "simulation_results['Pred_gop'] = pd.to_numeric(simulation_results['Pred_gop'], errors='coerce')\n",
    "simulation_results['Pred_dem'] = pd.to_numeric(simulation_results['Pred_dem'], errors='coerce')\n",
    "\n",
    "# Eliminar cualquier fila con valores NaN (si es necesario)\n",
    "simulation_results = simulation_results.dropna(subset=['Pred_gop', 'Pred_dem'])\n",
    "\n",
    "# Crear un gráfico de densidad para las predicciones de Biden y Trump\n",
    "plt.figure(figsize=(12, 8))\n",
    "\n",
    "# Gráfico de densidad para Biden (positivo)\n",
    "sns.kdeplot(simulation_results['Pred_dem'], color=\"#3951a2\", fill=True, alpha=0.8, label=\"Biden Pred\")\n",
    "\n",
    "# Crear la densidad para Trump usando gaussian_kde\n",
    "density_trump = gaussian_kde(simulation_results['Pred_gop'])\n",
    "x_vals = np.linspace(min(simulation_results['Pred_gop']), max(simulation_results['Pred_dem']), 1000)\n",
    "y_vals = density_trump(x_vals)\n",
    "\n",
    "# Graficar la densidad de Trump invertida\n",
    "plt.fill_between(x_vals, -y_vals, color=\"#af2b39\", alpha=0.8, label=\"Trump Pred\")\n",
    "\n",
    "# Línea vertical en 270 votos\n",
    "plt.axvline(x=270, color=\"black\", linestyle=\"--\", linewidth=1, label=\"Límite para ganar (270)\")\n",
    "plt.text(270-6, 0.02, '270', color=\"black\", verticalalignment='bottom', fontsize=12)  # Añadir el valor '270' dentro del gráfico\n",
    "\n",
    "# Línea vertical para la media de las predicciones de Biden\n",
    "plt.axvline(x=np.mean(simulation_results['Pred_dem']), color=\"white\", linestyle=\"--\", linewidth=1, label=\"Media Biden Pred\")\n",
    "mean_biden = np.mean(simulation_results['Pred_dem'])\n",
    "plt.text(mean_biden + 1, 0.01, f'{mean_biden:.0f}', color=\"white\", verticalalignment='bottom', fontsize=12)  # Añadir el valor de la media de Biden\n",
    "\n",
    "# Línea vertical para la media de las predicciones de Trump\n",
    "plt.axvline(x=np.mean(simulation_results['Pred_gop']), color=\"white\", linestyle=\"--\", linewidth=1, label=\"Media Trump Pred\")\n",
    "mean_trump = np.mean(simulation_results['Pred_gop'])\n",
    "plt.text(mean_trump + 1, -0.01, f'{mean_trump:.0f}', color=\"white\", verticalalignment='top', fontsize=12)  # Añadir el valor de la media de Trump\n",
    "\n",
    "# Ajustar el eje Y para que sea simétrico\n",
    "plt.ylim(-1.1 * max(y_vals), 1.1 * max(y_vals))\n",
    "\n",
    "# Ajustar el eje X para ver más a la izquierda\n",
    "plt.xlim(min(simulation_results['Pred_gop']), max(simulation_results['Pred_dem']))\n",
    "\n",
    "# Añadir título\n",
    "plt.title(f\"{ELECTORAL_YEAR} Distribución Biden Pred. vs Trump Pred.\", fontsize=16)\n",
    "\n",
    "# Añadir leyenda\n",
    "plt.legend()\n",
    "\n",
    "# Eliminar el fondo del gráfico\n",
    "plt.gca().patch.set_alpha(0)  # Fondo del área del gráfico transparente\n",
    "\n",
    "# Eliminar los bordes y la línea negra alrededor del gráfico\n",
    "plt.gca().spines['top'].set_visible(False)\n",
    "plt.gca().spines['right'].set_visible(False)\n",
    "plt.gca().spines['left'].set_visible(False)\n",
    "plt.gca().spines['bottom'].set_visible(False)\n",
    "\n",
    "# Guardar el gráfico como PNG con fondo transparente\n",
    "plt.savefig(f\"imgs/densidad_biden_trump_transparente_{ELECTORAL_YEAR}.png\", format=\"png\", transparent=True)\n",
    "\n",
    "# Mostrar el gráfico\n",
    "plt.show()"
   ]
  },
  {
   "cell_type": "code",
   "execution_count": 61,
   "metadata": {},
   "outputs": [
    {
     "data": {
      "image/png": "[encoded data removed]",
      "text/plain": [
       "<Figure size 1000x1200 with 1 Axes>"
      ]
     },
     "metadata": {},
     "output_type": "display_data"
    }
   ],
   "source": [
    "# Ordenar los estados por orden alfabético\n",
    "accumulated_pred_state_sorted = accumulated_pred_state.sort_values('state', ascending=False)\n",
    "\n",
    "# Crear el gráfico de barras apiladas\n",
    "plt.figure(figsize=(10, 12))\n",
    "\n",
    "# Primero, graficar la barra de Trump\n",
    "sns.barplot(x=accumulated_pred_state_sorted[\"Per_dem\"] + accumulated_pred_state_sorted[\"Per_gop\"], \n",
    "            y='state', data=accumulated_pred_state_sorted, color=\"#ac2a37\", label=\"gop\")\n",
    "\n",
    "# Luego, graficar la barra de Biden encima de Trump\n",
    "sns.barplot(x=\"Per_dem\", y='state', data=accumulated_pred_state_sorted, color=\"#3951a2\", label=\"dem\")\n",
    "\n",
    "# Añadir una línea vertical en el 50%\n",
    "plt.axvline(x=0.50, color=\"white\", linestyle=\"--\", linewidth=1)\n",
    "\n",
    "# Añadir leyenda\n",
    "plt.legend(loc='best')\n",
    "\n",
    "# Invertir el eje Y para que los estados se vean de arriba hacia abajo\n",
    "plt.gca().invert_yaxis()\n",
    "\n",
    "# Añadir etiquetas y título\n",
    "plt.title(f'{ELECTORAL_YEAR} Resultados Medios por Estado - Simulaciones de Trump vs Biden', fontsize=16)\n",
    "plt.xlabel('Proporción de Votos Simulados')\n",
    "plt.ylabel('Estado')\n",
    "\n",
    "# Ajustar el eje X para que las barras lleguen al 100%\n",
    "plt.xlim(0, 1)\n",
    "\n",
    "# Guardar el gráfico como PNG con fondo transparente\n",
    "plt.savefig(\"imgs/porc_estado_transparente_{ELECTORAL_YEAR}.png\", format=\"png\", transparent=True)\n",
    "\n",
    "# Mostrar el gráfico\n",
    "plt.show()"
   ]
  },
  {
   "cell_type": "code",
   "execution_count": 62,
   "metadata": {},
   "outputs": [
    {
     "data": {
      "image/png": "[encoded data removed]",
      "text/plain": [
       "<Figure size 2600x1200 with 1 Axes>"
      ]
     },
     "metadata": {},
     "output_type": "display_data"
    }
   ],
   "source": [
    "plt.figure(figsize=(26, 12))\n",
    "\n",
    "# Graficar la barra de Trump (en la parte inferior)\n",
    "sns.barplot(y=accumulated_pred_state_sorted[\"Per_dem\"] + accumulated_pred_state_sorted[\"Per_gop\"], \n",
    "            x='state', data=accumulated_pred_state_sorted, color=\"#ac2a37\", label=\"gop\")\n",
    "\n",
    "# Graficar la barra de Biden encima de Trump\n",
    "sns.barplot(y=\"Per_dem\", x='state', data=accumulated_pred_state_sorted, color=\"#3951a2\", label=\"dem\")\n",
    "\n",
    "# Añadir una línea horizontal en el 50%\n",
    "plt.axhline(y=0.50, color=\"white\", linestyle=\"--\", linewidth=1)\n",
    "\n",
    "# Añadir leyenda\n",
    "plt.legend(loc='best', fontsize=22)\n",
    "\n",
    "# Añadir etiquetas y título\n",
    "# plt.title('Resultados Medios por Estado - Simulaciones de Trump vs Biden', fontsize=16)\n",
    "plt.ylabel('Proporción de Votos Simulados', fontsize=22)\n",
    "plt.xlabel('Estado', fontsize=22)\n",
    "\n",
    "# Ajustar el eje Y para que las barras lleguen al 100%\n",
    "plt.ylim(0, 1)\n",
    "\n",
    "# Rotar los nombres de los estados para mejor visibilidad y aumentar el tamaño de las etiquetas\n",
    "plt.xticks(rotation=90, fontsize=24)\n",
    "plt.yticks(fontsize=24)\n",
    "\n",
    "# Ajustar los márgenes del gráfico para evitar que los xticks se corten\n",
    "plt.tight_layout()\n",
    "\n",
    "\n",
    "# Guardar el gráfico como PNG con fondo transparente\n",
    "plt.savefig(f\"imgs/porc_estado_inv_transparente_{ELECTORAL_YEAR}.png\", format=\"png\", transparent=True)\n",
    "\n",
    "# Mostrar el gráfico\n",
    "plt.show()"
   ]
  },
  {
   "cell_type": "code",
   "execution_count": 63,
   "metadata": {},
   "outputs": [
    {
     "data": {
      "application/vnd.plotly.v1+json": {
       "config": {
        "plotlyServerURL": "https://plot.ly"
       },
       "data": [
        {
         "colorscale": [
          [
           0,
           "#af2b39"
          ],
          [
           1,
           "#af2b39"
          ]
         ],
         "customdata": [
          [
           "AL",
           0.4080507589967105,
           0.5919492410032894
          ],
          [
           "AR",
           0.38663629727470034,
           0.6133637027252998
          ],
          [
           "GA",
           0.49819203114520233,
           0.5018079688547977
          ],
          [
           "ID",
           0.37935651182370195,
           0.620643488176298
          ],
          [
           "IN",
           0.4056566085924386,
           0.5943433914075616
          ],
          [
           "IA",
           0.390847806917734,
           0.609152193082266
          ],
          [
           "KS",
           0.39229450470604305,
           0.6077054952939567
          ],
          [
           "KY",
           0.38221375838323807,
           0.6177862416167619
          ],
          [
           "LA",
           0.4599877553320095,
           0.5400122446679907
          ],
          [
           "ME",
           0.41926729332563206,
           0.580732706674368
          ],
          [
           "MI",
           0.4556949098242371,
           0.5443050901757629
          ],
          [
           "MN",
           0.4811809627309116,
           0.5188190372690884
          ],
          [
           "MS",
           0.42765645994530727,
           0.5723435400546927
          ],
          [
           "MO",
           0.41147062659994466,
           0.5885293734000554
          ],
          [
           "MT",
           0.3977481010628919,
           0.6022518989371082
          ],
          [
           "NE",
           0.401849277255081,
           0.598150722744919
          ],
          [
           "NH",
           0.43915183918985984,
           0.5608481608101401
          ],
          [
           "NM",
           0.46674740463633285,
           0.5332525953636672
          ],
          [
           "NC",
           0.4755775125559697,
           0.5244224874440303
          ],
          [
           "ND",
           0.3813675343258366,
           0.6186324656741634
          ],
          [
           "OH",
           0.44654103323366157,
           0.5534589667663384
          ],
          [
           "OK",
           0.3778094071627383,
           0.6221905928372615
          ],
          [
           "PA",
           0.49059134751428174,
           0.5094086524857184
          ],
          [
           "SC",
           0.4404690686334943,
           0.5595309313665058
          ],
          [
           "SD",
           0.3634968906369058,
           0.6365031093630943
          ],
          [
           "TN",
           0.42033870188987044,
           0.5796612981101297
          ],
          [
           "UT",
           0.44081298823675796,
           0.559187011763242
          ],
          [
           "VT",
           0.4577543562619795,
           0.5422456437380202
          ],
          [
           "WV",
           0.3338655406161407,
           0.6661344593838595
          ],
          [
           "WI",
           0.45110862452741807,
           0.548891375472582
          ],
          [
           "WY",
           0.3455877295931066,
           0.6544122704068934
          ]
         ],
         "geo": "geo",
         "hovertemplate": "<b>%{hovertext}</b><br><br>Ganador {ELECTORAL_YEAR}=gop<br>state_code=%{customdata[0]}<br>Per_dem=%{customdata[1]:.2%}<br>Per_gop=%{customdata[2]:.2%}<extra></extra>",
         "hovertext": [
          "AL",
          "AR",
          "GA",
          "ID",
          "IN",
          "IA",
          "KS",
          "KY",
          "LA",
          "ME",
          "MI",
          "MN",
          "MS",
          "MO",
          "MT",
          "NE",
          "NH",
          "NM",
          "NC",
          "ND",
          "OH",
          "OK",
          "PA",
          "SC",
          "SD",
          "TN",
          "UT",
          "VT",
          "WV",
          "WI",
          "WY"
         ],
         "locationmode": "USA-states",
         "locations": [
          "AL",
          "AR",
          "GA",
          "ID",
          "IN",
          "IA",
          "KS",
          "KY",
          "LA",
          "ME",
          "MI",
          "MN",
          "MS",
          "MO",
          "MT",
          "NE",
          "NH",
          "NM",
          "NC",
          "ND",
          "OH",
          "OK",
          "PA",
          "SC",
          "SD",
          "TN",
          "UT",
          "VT",
          "WV",
          "WI",
          "WY"
         ],
         "name": "gop",
         "showlegend": true,
         "showscale": false,
         "type": "choropleth",
         "z": [
          1,
          1,
          1,
          1,
          1,
          1,
          1,
          1,
          1,
          1,
          1,
          1,
          1,
          1,
          1,
          1,
          1,
          1,
          1,
          1,
          1,
          1,
          1,
          1,
          1,
          1,
          1,
          1,
          1,
          1,
          1
         ]
        },
        {
         "colorscale": [
          [
           0,
           "#3951a2"
          ],
          [
           1,
           "#3951a2"
          ]
         ],
         "customdata": [
          [
           "AZ",
           0.5148720471338069,
           0.48512795286619304
          ],
          [
           "CA",
           0.6210850909509041,
           0.37891490904909575
          ],
          [
           "CO",
           0.5209600435067248,
           0.47903995649327513
          ],
          [
           "CT",
           0.5522182678955476,
           0.4477817321044523
          ],
          [
           "DE",
           0.5124788950300476,
           0.48752110496995227
          ],
          [
           "DC",
           0.8058288994620177,
           0.19417110053798275
          ],
          [
           "FL",
           0.5022715508752844,
           0.49772844912471553
          ],
          [
           "HI",
           0.6241428070982225,
           0.37585719290177766
          ],
          [
           "IL",
           0.5372505414608142,
           0.4627494585391858
          ],
          [
           "MD",
           0.588781426287394,
           0.41121857371260595
          ],
          [
           "MA",
           0.6007687805311953,
           0.39923121946880463
          ],
          [
           "NV",
           0.5740971099108991,
           0.4259028900891005
          ],
          [
           "NJ",
           0.5947232632973565,
           0.40527673670264347
          ],
          [
           "NY",
           0.5959877439250252,
           0.4040122560749748
          ],
          [
           "OR",
           0.5324902816595513,
           0.46750971834044874
          ],
          [
           "RI",
           0.5488964086345489,
           0.4511035913654511
          ],
          [
           "TX",
           0.5021120344341312,
           0.49788796556586873
          ],
          [
           "VA",
           0.5150384432355161,
           0.4849615567644839
          ],
          [
           "WA",
           0.5685154579853879,
           0.43148454201461206
          ]
         ],
         "geo": "geo",
         "hovertemplate": "<b>%{hovertext}</b><br><br>Ganador {ELECTORAL_YEAR}=dem<br>state_code=%{customdata[0]}<br>Per_dem=%{customdata[1]:.2%}<br>Per_gop=%{customdata[2]:.2%}<extra></extra>",
         "hovertext": [
          "AZ",
          "CA",
          "CO",
          "CT",
          "DE",
          "DC",
          "FL",
          "HI",
          "IL",
          "MD",
          "MA",
          "NV",
          "NJ",
          "NY",
          "OR",
          "RI",
          "TX",
          "VA",
          "WA"
         ],
         "locationmode": "USA-states",
         "locations": [
          "AZ",
          "CA",
          "CO",
          "CT",
          "DE",
          "DC",
          "FL",
          "HI",
          "IL",
          "MD",
          "MA",
          "NV",
          "NJ",
          "NY",
          "OR",
          "RI",
          "TX",
          "VA",
          "WA"
         ],
         "name": "dem",
         "showlegend": true,
         "showscale": false,
         "type": "choropleth",
         "z": [
          1,
          1,
          1,
          1,
          1,
          1,
          1,
          1,
          1,
          1,
          1,
          1,
          1,
          1,
          1,
          1,
          1,
          1,
          1
         ]
        }
       ],
       "layout": {
        "geo": {
         "center": {},
         "domain": {
          "x": [
           0,
           1
          ],
          "y": [
           0,
           1
          ]
         },
         "fitbounds": "locations",
         "scope": "usa",
         "visible": false
        },
        "height": 800,
        "legend": {
         "title": {
          "text": "Ganador {ELECTORAL_YEAR}"
         },
         "tracegroupgap": 0
        },
        "template": {
         "data": {
          "bar": [
           {
            "error_x": {
             "color": "#2a3f5f"
            },
            "error_y": {
             "color": "#2a3f5f"
            },
            "marker": {
             "line": {
              "color": "#E5ECF6",
              "width": 0.5
             },
             "pattern": {
              "fillmode": "overlay",
              "size": 10,
              "solidity": 0.2
             }
            },
            "type": "bar"
           }
          ],
          "barpolar": [
           {
            "marker": {
             "line": {
              "color": "#E5ECF6",
              "width": 0.5
             },
             "pattern": {
              "fillmode": "overlay",
              "size": 10,
              "solidity": 0.2
             }
            },
            "type": "barpolar"
           }
          ],
          "carpet": [
           {
            "aaxis": {
             "endlinecolor": "#2a3f5f",
             "gridcolor": "white",
             "linecolor": "white",
             "minorgridcolor": "white",
             "startlinecolor": "#2a3f5f"
            },
            "baxis": {
             "endlinecolor": "#2a3f5f",
             "gridcolor": "white",
             "linecolor": "white",
             "minorgridcolor": "white",
             "startlinecolor": "#2a3f5f"
            },
            "type": "carpet"
           }
          ],
          "choropleth": [
           {
            "colorbar": {
             "outlinewidth": 0,
             "ticks": ""
            },
            "type": "choropleth"
           }
          ],
          "contour": [
           {
            "colorbar": {
             "outlinewidth": 0,
             "ticks": ""
            },
            "colorscale": [
             [
              0,
              "#0d0887"
             ],
             [
              0.1111111111111111,
              "#46039f"
             ],
             [
              0.2222222222222222,
              "#7201a8"
             ],
             [
              0.3333333333333333,
              "#9c179e"
             ],
             [
              0.4444444444444444,
              "#bd3786"
             ],
             [
              0.5555555555555556,
              "#d8576b"
             ],
             [
              0.6666666666666666,
              "#ed7953"
             ],
             [
              0.7777777777777778,
              "#fb9f3a"
             ],
             [
              0.8888888888888888,
              "#fdca26"
             ],
             [
              1,
              "#f0f921"
             ]
            ],
            "type": "contour"
           }
          ],
          "contourcarpet": [
           {
            "colorbar": {
             "outlinewidth": 0,
             "ticks": ""
            },
            "type": "contourcarpet"
           }
          ],
          "heatmap": [
           {
            "colorbar": {
             "outlinewidth": 0,
             "ticks": ""
            },
            "colorscale": [
             [
              0,
              "#0d0887"
             ],
             [
              0.1111111111111111,
              "#46039f"
             ],
             [
              0.2222222222222222,
              "#7201a8"
             ],
             [
              0.3333333333333333,
              "#9c179e"
             ],
             [
              0.4444444444444444,
              "#bd3786"
             ],
             [
              0.5555555555555556,
              "#d8576b"
             ],
             [
              0.6666666666666666,
              "#ed7953"
             ],
             [
              0.7777777777777778,
              "#fb9f3a"
             ],
             [
              0.8888888888888888,
              "#fdca26"
             ],
             [
              1,
              "#f0f921"
             ]
            ],
            "type": "heatmap"
           }
          ],
          "histogram": [
           {
            "marker": {
             "pattern": {
              "fillmode": "overlay",
              "size": 10,
              "solidity": 0.2
             }
            },
            "type": "histogram"
           }
          ],
          "histogram2d": [
           {
            "colorbar": {
             "outlinewidth": 0,
             "ticks": ""
            },
            "colorscale": [
             [
              0,
              "#0d0887"
             ],
             [
              0.1111111111111111,
              "#46039f"
             ],
             [
              0.2222222222222222,
              "#7201a8"
             ],
             [
              0.3333333333333333,
              "#9c179e"
             ],
             [
              0.4444444444444444,
              "#bd3786"
             ],
             [
              0.5555555555555556,
              "#d8576b"
             ],
             [
              0.6666666666666666,
              "#ed7953"
             ],
             [
              0.7777777777777778,
              "#fb9f3a"
             ],
             [
              0.8888888888888888,
              "#fdca26"
             ],
             [
              1,
              "#f0f921"
             ]
            ],
            "type": "histogram2d"
           }
          ],
          "histogram2dcontour": [
           {
            "colorbar": {
             "outlinewidth": 0,
             "ticks": ""
            },
            "colorscale": [
             [
              0,
              "#0d0887"
             ],
             [
              0.1111111111111111,
              "#46039f"
             ],
             [
              0.2222222222222222,
              "#7201a8"
             ],
             [
              0.3333333333333333,
              "#9c179e"
             ],
             [
              0.4444444444444444,
              "#bd3786"
             ],
             [
              0.5555555555555556,
              "#d8576b"
             ],
             [
              0.6666666666666666,
              "#ed7953"
             ],
             [
              0.7777777777777778,
              "#fb9f3a"
             ],
             [
              0.8888888888888888,
              "#fdca26"
             ],
             [
              1,
              "#f0f921"
             ]
            ],
            "type": "histogram2dcontour"
           }
          ],
          "mesh3d": [
           {
            "colorbar": {
             "outlinewidth": 0,
             "ticks": ""
            },
            "type": "mesh3d"
           }
          ],
          "parcoords": [
           {
            "line": {
             "colorbar": {
              "outlinewidth": 0,
              "ticks": ""
             }
            },
            "type": "parcoords"
           }
          ],
          "pie": [
           {
            "automargin": true,
            "type": "pie"
           }
          ],
          "scatter": [
           {
            "fillpattern": {
             "fillmode": "overlay",
             "size": 10,
             "solidity": 0.2
            },
            "type": "scatter"
           }
          ],
          "scatter3d": [
           {
            "line": {
             "colorbar": {
              "outlinewidth": 0,
              "ticks": ""
             }
            },
            "marker": {
             "colorbar": {
              "outlinewidth": 0,
              "ticks": ""
             }
            },
            "type": "scatter3d"
           }
          ],
          "scattercarpet": [
           {
            "marker": {
             "colorbar": {
              "outlinewidth": 0,
              "ticks": ""
             }
            },
            "type": "scattercarpet"
           }
          ],
          "scattergeo": [
           {
            "marker": {
             "colorbar": {
              "outlinewidth": 0,
              "ticks": ""
             }
            },
            "type": "scattergeo"
           }
          ],
          "scattergl": [
           {
            "marker": {
             "colorbar": {
              "outlinewidth": 0,
              "ticks": ""
             }
            },
            "type": "scattergl"
           }
          ],
          "scattermap": [
           {
            "marker": {
             "colorbar": {
              "outlinewidth": 0,
              "ticks": ""
             }
            },
            "type": "scattermap"
           }
          ],
          "scattermapbox": [
           {
            "marker": {
             "colorbar": {
              "outlinewidth": 0,
              "ticks": ""
             }
            },
            "type": "scattermapbox"
           }
          ],
          "scatterpolar": [
           {
            "marker": {
             "colorbar": {
              "outlinewidth": 0,
              "ticks": ""
             }
            },
            "type": "scatterpolar"
           }
          ],
          "scatterpolargl": [
           {
            "marker": {
             "colorbar": {
              "outlinewidth": 0,
              "ticks": ""
             }
            },
            "type": "scatterpolargl"
           }
          ],
          "scatterternary": [
           {
            "marker": {
             "colorbar": {
              "outlinewidth": 0,
              "ticks": ""
             }
            },
            "type": "scatterternary"
           }
          ],
          "surface": [
           {
            "colorbar": {
             "outlinewidth": 0,
             "ticks": ""
            },
            "colorscale": [
             [
              0,
              "#0d0887"
             ],
             [
              0.1111111111111111,
              "#46039f"
             ],
             [
              0.2222222222222222,
              "#7201a8"
             ],
             [
              0.3333333333333333,
              "#9c179e"
             ],
             [
              0.4444444444444444,
              "#bd3786"
             ],
             [
              0.5555555555555556,
              "#d8576b"
             ],
             [
              0.6666666666666666,
              "#ed7953"
             ],
             [
              0.7777777777777778,
              "#fb9f3a"
             ],
             [
              0.8888888888888888,
              "#fdca26"
             ],
             [
              1,
              "#f0f921"
             ]
            ],
            "type": "surface"
           }
          ],
          "table": [
           {
            "cells": {
             "fill": {
              "color": "#EBF0F8"
             },
             "line": {
              "color": "white"
             }
            },
            "header": {
             "fill": {
              "color": "#C8D4E3"
             },
             "line": {
              "color": "white"
             }
            },
            "type": "table"
           }
          ]
         },
         "layout": {
          "annotationdefaults": {
           "arrowcolor": "#2a3f5f",
           "arrowhead": 0,
           "arrowwidth": 1
          },
          "autotypenumbers": "strict",
          "coloraxis": {
           "colorbar": {
            "outlinewidth": 0,
            "ticks": ""
           }
          },
          "colorscale": {
           "diverging": [
            [
             0,
             "#8e0152"
            ],
            [
             0.1,
             "#c51b7d"
            ],
            [
             0.2,
             "#de77ae"
            ],
            [
             0.3,
             "#f1b6da"
            ],
            [
             0.4,
             "#fde0ef"
            ],
            [
             0.5,
             "#f7f7f7"
            ],
            [
             0.6,
             "#e6f5d0"
            ],
            [
             0.7,
             "#b8e186"
            ],
            [
             0.8,
             "#7fbc41"
            ],
            [
             0.9,
             "#4d9221"
            ],
            [
             1,
             "#276419"
            ]
           ],
           "sequential": [
            [
             0,
             "#0d0887"
            ],
            [
             0.1111111111111111,
             "#46039f"
            ],
            [
             0.2222222222222222,
             "#7201a8"
            ],
            [
             0.3333333333333333,
             "#9c179e"
            ],
            [
             0.4444444444444444,
             "#bd3786"
            ],
            [
             0.5555555555555556,
             "#d8576b"
            ],
            [
             0.6666666666666666,
             "#ed7953"
            ],
            [
             0.7777777777777778,
             "#fb9f3a"
            ],
            [
             0.8888888888888888,
             "#fdca26"
            ],
            [
             1,
             "#f0f921"
            ]
           ],
           "sequentialminus": [
            [
             0,
             "#0d0887"
            ],
            [
             0.1111111111111111,
             "#46039f"
            ],
            [
             0.2222222222222222,
             "#7201a8"
            ],
            [
             0.3333333333333333,
             "#9c179e"
            ],
            [
             0.4444444444444444,
             "#bd3786"
            ],
            [
             0.5555555555555556,
             "#d8576b"
            ],
            [
             0.6666666666666666,
             "#ed7953"
            ],
            [
             0.7777777777777778,
             "#fb9f3a"
            ],
            [
             0.8888888888888888,
             "#fdca26"
            ],
            [
             1,
             "#f0f921"
            ]
           ]
          },
          "colorway": [
           "#636efa",
           "#EF553B",
           "#00cc96",
           "#ab63fa",
           "#FFA15A",
           "#19d3f3",
           "#FF6692",
           "#B6E880",
           "#FF97FF",
           "#FECB52"
          ],
          "font": {
           "color": "#2a3f5f"
          },
          "geo": {
           "bgcolor": "white",
           "lakecolor": "white",
           "landcolor": "#E5ECF6",
           "showlakes": true,
           "showland": true,
           "subunitcolor": "white"
          },
          "hoverlabel": {
           "align": "left"
          },
          "hovermode": "closest",
          "mapbox": {
           "style": "light"
          },
          "paper_bgcolor": "white",
          "plot_bgcolor": "#E5ECF6",
          "polar": {
           "angularaxis": {
            "gridcolor": "white",
            "linecolor": "white",
            "ticks": ""
           },
           "bgcolor": "#E5ECF6",
           "radialaxis": {
            "gridcolor": "white",
            "linecolor": "white",
            "ticks": ""
           }
          },
          "scene": {
           "xaxis": {
            "backgroundcolor": "#E5ECF6",
            "gridcolor": "white",
            "gridwidth": 2,
            "linecolor": "white",
            "showbackground": true,
            "ticks": "",
            "zerolinecolor": "white"
           },
           "yaxis": {
            "backgroundcolor": "#E5ECF6",
            "gridcolor": "white",
            "gridwidth": 2,
            "linecolor": "white",
            "showbackground": true,
            "ticks": "",
            "zerolinecolor": "white"
           },
           "zaxis": {
            "backgroundcolor": "#E5ECF6",
            "gridcolor": "white",
            "gridwidth": 2,
            "linecolor": "white",
            "showbackground": true,
            "ticks": "",
            "zerolinecolor": "white"
           }
          },
          "shapedefaults": {
           "line": {
            "color": "#2a3f5f"
           }
          },
          "ternary": {
           "aaxis": {
            "gridcolor": "white",
            "linecolor": "white",
            "ticks": ""
           },
           "baxis": {
            "gridcolor": "white",
            "linecolor": "white",
            "ticks": ""
           },
           "bgcolor": "#E5ECF6",
           "caxis": {
            "gridcolor": "white",
            "linecolor": "white",
            "ticks": ""
           }
          },
          "title": {
           "x": 0.05
          },
          "xaxis": {
           "automargin": true,
           "gridcolor": "white",
           "linecolor": "white",
           "ticks": "",
           "title": {
            "standoff": 15
           },
           "zerolinecolor": "white",
           "zerolinewidth": 2
          },
          "yaxis": {
           "automargin": true,
           "gridcolor": "white",
           "linecolor": "white",
           "ticks": "",
           "title": {
            "standoff": 15
           },
           "zerolinecolor": "white",
           "zerolinewidth": 2
          }
         }
        },
        "title": {
         "text": "Resultado Medio de las Simulaciones - Elecciones Presidenciales 2024"
        },
        "width": 1200
       }
      }
     },
     "metadata": {},
     "output_type": "display_data"
    }
   ],
   "source": [
    "# Crear el mapa coroplético usando Plotly Express con códigos de estado\n",
    "fig = px.choropleth(accumulated_pred_state,\n",
    "                    locations='state_code',  # Usar la nueva columna con códigos de estado\n",
    "                    locationmode=\"USA-states\",  # Modo de localización para los códigos de estado\n",
    "                    color='Winner',  # Métrica que deseas visualizar\n",
    "                    hover_name='state_code',  # Mostrar el código del estado en hover\n",
    "                    hover_data={\n",
    "                        'state_code': True,  # Mostrar el código del estado\n",
    "                        \"Per_dem\": ':.2%',  # Mostrar el porcentaje de Biden en formato de porcentaje\n",
    "                        \"Per_gop\": ':.2%'  # Mostrar el porcentaje de Trump en formato de porcentaje\n",
    "                    },\n",
    "                    scope='usa',  # Limitar el mapa a EE.UU.\n",
    "                    color_discrete_map={'dem': '#3951a2', 'gop': '#af2b39'},  # Colores asignados\n",
    "                    labels={f'Winner': 'Ganador {ELECTORAL_YEAR}'},  # Etiqueta para la barra de color\n",
    "                    title=f\"Resultado Medio de las Simulaciones - Elecciones Presidenciales {ELECTORAL_YEAR}\"\n",
    "                   )\n",
    "\n",
    "# # Crear un nuevo rastro para añadir los códigos de los estados en el mapa\n",
    "# fig.add_trace(go.Scattergeo(\n",
    "#     locationmode='USA-states',\n",
    "#     locations=accumulated_pred_state['state_code'],  # Usar los códigos de los estados\n",
    "#     text=accumulated_pred_state['state_code'],  # Mostrar los códigos dentro del mapa\n",
    "#     mode='text',  # Solo texto\n",
    "#     textfont=dict(size=12, color=\"black\"),  # Tamaño y color de la fuente\n",
    "# ))\n",
    "\n",
    "# Ajustar el tamaño del gráfico\n",
    "fig.update_layout(\n",
    "    width=1200,  # Ajustar el ancho del gráfico\n",
    "    height=800   # Ajustar la altura del gráfico\n",
    ")\n",
    "\n",
    "# Ajustar visualización y mostrar el gráfico\n",
    "fig.update_geos(fitbounds=\"locations\", visible=False)  # Ajustar el mapa a las ubicaciones\n",
    "fig.show()\n"
   ]
  },
  {
   "cell_type": "code",
   "execution_count": 64,
   "metadata": {},
   "outputs": [
    {
     "data": {
      "application/vnd.plotly.v1+json": {
       "config": {
        "plotlyServerURL": "https://plot.ly"
       },
       "data": [
        {
         "colorscale": [
          [
           0,
           "#af2b39"
          ],
          [
           1,
           "#af2b39"
          ]
         ],
         "customdata": [
          [
           "AL",
           0.4080507589967105,
           0.5919492410032894
          ],
          [
           "AR",
           0.38663629727470034,
           0.6133637027252998
          ],
          [
           "ID",
           0.37935651182370195,
           0.620643488176298
          ],
          [
           "IN",
           0.4056566085924386,
           0.5943433914075616
          ],
          [
           "IA",
           0.390847806917734,
           0.609152193082266
          ],
          [
           "KS",
           0.39229450470604305,
           0.6077054952939567
          ],
          [
           "KY",
           0.38221375838323807,
           0.6177862416167619
          ],
          [
           "ME",
           0.41926729332563206,
           0.580732706674368
          ],
          [
           "MS",
           0.42765645994530727,
           0.5723435400546927
          ],
          [
           "MO",
           0.41147062659994466,
           0.5885293734000554
          ],
          [
           "MT",
           0.3977481010628919,
           0.6022518989371082
          ],
          [
           "NE",
           0.401849277255081,
           0.598150722744919
          ],
          [
           "NH",
           0.43915183918985984,
           0.5608481608101401
          ],
          [
           "ND",
           0.3813675343258366,
           0.6186324656741634
          ],
          [
           "OH",
           0.44654103323366157,
           0.5534589667663384
          ],
          [
           "OK",
           0.3778094071627383,
           0.6221905928372615
          ],
          [
           "SC",
           0.4404690686334943,
           0.5595309313665058
          ],
          [
           "SD",
           0.3634968906369058,
           0.6365031093630943
          ],
          [
           "TN",
           0.42033870188987044,
           0.5796612981101297
          ],
          [
           "UT",
           0.44081298823675796,
           0.559187011763242
          ],
          [
           "WV",
           0.3338655406161407,
           0.6661344593838595
          ],
          [
           "WY",
           0.3455877295931066,
           0.6544122704068934
          ]
         ],
         "geo": "geo",
         "hovertemplate": "<b>%{hovertext}</b><br><br>Status=Safe Republican<br>state_code=%{customdata[0]}<br>Per_dem=%{customdata[1]:.2%}<br>Per_gop=%{customdata[2]:.2%}<extra></extra>",
         "hovertext": [
          "AL",
          "AR",
          "ID",
          "IN",
          "IA",
          "KS",
          "KY",
          "ME",
          "MS",
          "MO",
          "MT",
          "NE",
          "NH",
          "ND",
          "OH",
          "OK",
          "SC",
          "SD",
          "TN",
          "UT",
          "WV",
          "WY"
         ],
         "locationmode": "USA-states",
         "locations": [
          "AL",
          "AR",
          "ID",
          "IN",
          "IA",
          "KS",
          "KY",
          "ME",
          "MS",
          "MO",
          "MT",
          "NE",
          "NH",
          "ND",
          "OH",
          "OK",
          "SC",
          "SD",
          "TN",
          "UT",
          "WV",
          "WY"
         ],
         "name": "Safe Republican",
         "showlegend": true,
         "showscale": false,
         "type": "choropleth",
         "z": [
          1,
          1,
          1,
          1,
          1,
          1,
          1,
          1,
          1,
          1,
          1,
          1,
          1,
          1,
          1,
          1,
          1,
          1,
          1,
          1,
          1,
          1
         ]
        },
        {
         "colorscale": [
          [
           0,
           "#a3cef1"
          ],
          [
           1,
           "#a3cef1"
          ]
         ],
         "customdata": [
          [
           "AZ",
           0.5148720471338069,
           0.48512795286619304
          ],
          [
           "CO",
           0.5209600435067248,
           0.47903995649327513
          ],
          [
           "IL",
           0.5372505414608142,
           0.4627494585391858
          ],
          [
           "OR",
           0.5324902816595513,
           0.46750971834044874
          ],
          [
           "RI",
           0.5488964086345489,
           0.4511035913654511
          ],
          [
           "VA",
           0.5150384432355161,
           0.4849615567644839
          ]
         ],
         "geo": "geo",
         "hovertemplate": "<b>%{hovertext}</b><br><br>Status=Likely Democrat<br>state_code=%{customdata[0]}<br>Per_dem=%{customdata[1]:.2%}<br>Per_gop=%{customdata[2]:.2%}<extra></extra>",
         "hovertext": [
          "AZ",
          "CO",
          "IL",
          "OR",
          "RI",
          "VA"
         ],
         "locationmode": "USA-states",
         "locations": [
          "AZ",
          "CO",
          "IL",
          "OR",
          "RI",
          "VA"
         ],
         "name": "Likely Democrat",
         "showlegend": true,
         "showscale": false,
         "type": "choropleth",
         "z": [
          1,
          1,
          1,
          1,
          1,
          1
         ]
        },
        {
         "colorscale": [
          [
           0,
           "#3951a2"
          ],
          [
           1,
           "#3951a2"
          ]
         ],
         "customdata": [
          [
           "CA",
           0.6210850909509041,
           0.37891490904909575
          ],
          [
           "CT",
           0.5522182678955476,
           0.4477817321044523
          ],
          [
           "DC",
           0.8058288994620177,
           0.19417110053798275
          ],
          [
           "HI",
           0.6241428070982225,
           0.37585719290177766
          ],
          [
           "MD",
           0.588781426287394,
           0.41121857371260595
          ],
          [
           "MA",
           0.6007687805311953,
           0.39923121946880463
          ],
          [
           "NV",
           0.5740971099108991,
           0.4259028900891005
          ],
          [
           "NJ",
           0.5947232632973565,
           0.40527673670264347
          ],
          [
           "NY",
           0.5959877439250252,
           0.4040122560749748
          ],
          [
           "WA",
           0.5685154579853879,
           0.43148454201461206
          ]
         ],
         "geo": "geo",
         "hovertemplate": "<b>%{hovertext}</b><br><br>Status=Safe Democrat<br>state_code=%{customdata[0]}<br>Per_dem=%{customdata[1]:.2%}<br>Per_gop=%{customdata[2]:.2%}<extra></extra>",
         "hovertext": [
          "CA",
          "CT",
          "DC",
          "HI",
          "MD",
          "MA",
          "NV",
          "NJ",
          "NY",
          "WA"
         ],
         "locationmode": "USA-states",
         "locations": [
          "CA",
          "CT",
          "DC",
          "HI",
          "MD",
          "MA",
          "NV",
          "NJ",
          "NY",
          "WA"
         ],
         "name": "Safe Democrat",
         "showlegend": true,
         "showscale": false,
         "type": "choropleth",
         "z": [
          1,
          1,
          1,
          1,
          1,
          1,
          1,
          1,
          1,
          1
         ]
        },
        {
         "colorscale": [
          [
           0,
           "#b6b164"
          ],
          [
           1,
           "#b6b164"
          ]
         ],
         "customdata": [
          [
           "DE",
           0.5124788950300476,
           0.48752110496995227
          ],
          [
           "FL",
           0.5022715508752844,
           0.49772844912471553
          ],
          [
           "GA",
           0.49819203114520233,
           0.5018079688547977
          ],
          [
           "PA",
           0.49059134751428174,
           0.5094086524857184
          ],
          [
           "TX",
           0.5021120344341312,
           0.49788796556586873
          ]
         ],
         "geo": "geo",
         "hovertemplate": "<b>%{hovertext}</b><br><br>Status=Toss-Up<br>state_code=%{customdata[0]}<br>Per_dem=%{customdata[1]:.2%}<br>Per_gop=%{customdata[2]:.2%}<extra></extra>",
         "hovertext": [
          "DE",
          "FL",
          "GA",
          "PA",
          "TX"
         ],
         "locationmode": "USA-states",
         "locations": [
          "DE",
          "FL",
          "GA",
          "PA",
          "TX"
         ],
         "name": "Toss-Up",
         "showlegend": true,
         "showscale": false,
         "type": "choropleth",
         "z": [
          1,
          1,
          1,
          1,
          1
         ]
        },
        {
         "colorscale": [
          [
           0,
           "#d56062"
          ],
          [
           1,
           "#d56062"
          ]
         ],
         "customdata": [
          [
           "LA",
           0.4599877553320095,
           0.5400122446679907
          ],
          [
           "MI",
           0.4556949098242371,
           0.5443050901757629
          ],
          [
           "MN",
           0.4811809627309116,
           0.5188190372690884
          ],
          [
           "NM",
           0.46674740463633285,
           0.5332525953636672
          ],
          [
           "NC",
           0.4755775125559697,
           0.5244224874440303
          ],
          [
           "VT",
           0.4577543562619795,
           0.5422456437380202
          ],
          [
           "WI",
           0.45110862452741807,
           0.548891375472582
          ]
         ],
         "geo": "geo",
         "hovertemplate": "<b>%{hovertext}</b><br><br>Status=Likely Republican<br>state_code=%{customdata[0]}<br>Per_dem=%{customdata[1]:.2%}<br>Per_gop=%{customdata[2]:.2%}<extra></extra>",
         "hovertext": [
          "LA",
          "MI",
          "MN",
          "NM",
          "NC",
          "VT",
          "WI"
         ],
         "locationmode": "USA-states",
         "locations": [
          "LA",
          "MI",
          "MN",
          "NM",
          "NC",
          "VT",
          "WI"
         ],
         "name": "Likely Republican",
         "showlegend": true,
         "showscale": false,
         "type": "choropleth",
         "z": [
          1,
          1,
          1,
          1,
          1,
          1,
          1
         ]
        }
       ],
       "layout": {
        "geo": {
         "center": {},
         "domain": {
          "x": [
           0,
           1
          ],
          "y": [
           0,
           1
          ]
         },
         "fitbounds": "locations",
         "scope": "usa",
         "visible": false
        },
        "height": 800,
        "legend": {
         "title": {
          "text": "Status"
         },
         "tracegroupgap": 0
        },
        "template": {
         "data": {
          "bar": [
           {
            "error_x": {
             "color": "#2a3f5f"
            },
            "error_y": {
             "color": "#2a3f5f"
            },
            "marker": {
             "line": {
              "color": "#E5ECF6",
              "width": 0.5
             },
             "pattern": {
              "fillmode": "overlay",
              "size": 10,
              "solidity": 0.2
             }
            },
            "type": "bar"
           }
          ],
          "barpolar": [
           {
            "marker": {
             "line": {
              "color": "#E5ECF6",
              "width": 0.5
             },
             "pattern": {
              "fillmode": "overlay",
              "size": 10,
              "solidity": 0.2
             }
            },
            "type": "barpolar"
           }
          ],
          "carpet": [
           {
            "aaxis": {
             "endlinecolor": "#2a3f5f",
             "gridcolor": "white",
             "linecolor": "white",
             "minorgridcolor": "white",
             "startlinecolor": "#2a3f5f"
            },
            "baxis": {
             "endlinecolor": "#2a3f5f",
             "gridcolor": "white",
             "linecolor": "white",
             "minorgridcolor": "white",
             "startlinecolor": "#2a3f5f"
            },
            "type": "carpet"
           }
          ],
          "choropleth": [
           {
            "colorbar": {
             "outlinewidth": 0,
             "ticks": ""
            },
            "type": "choropleth"
           }
          ],
          "contour": [
           {
            "colorbar": {
             "outlinewidth": 0,
             "ticks": ""
            },
            "colorscale": [
             [
              0,
              "#0d0887"
             ],
             [
              0.1111111111111111,
              "#46039f"
             ],
             [
              0.2222222222222222,
              "#7201a8"
             ],
             [
              0.3333333333333333,
              "#9c179e"
             ],
             [
              0.4444444444444444,
              "#bd3786"
             ],
             [
              0.5555555555555556,
              "#d8576b"
             ],
             [
              0.6666666666666666,
              "#ed7953"
             ],
             [
              0.7777777777777778,
              "#fb9f3a"
             ],
             [
              0.8888888888888888,
              "#fdca26"
             ],
             [
              1,
              "#f0f921"
             ]
            ],
            "type": "contour"
           }
          ],
          "contourcarpet": [
           {
            "colorbar": {
             "outlinewidth": 0,
             "ticks": ""
            },
            "type": "contourcarpet"
           }
          ],
          "heatmap": [
           {
            "colorbar": {
             "outlinewidth": 0,
             "ticks": ""
            },
            "colorscale": [
             [
              0,
              "#0d0887"
             ],
             [
              0.1111111111111111,
              "#46039f"
             ],
             [
              0.2222222222222222,
              "#7201a8"
             ],
             [
              0.3333333333333333,
              "#9c179e"
             ],
             [
              0.4444444444444444,
              "#bd3786"
             ],
             [
              0.5555555555555556,
              "#d8576b"
             ],
             [
              0.6666666666666666,
              "#ed7953"
             ],
             [
              0.7777777777777778,
              "#fb9f3a"
             ],
             [
              0.8888888888888888,
              "#fdca26"
             ],
             [
              1,
              "#f0f921"
             ]
            ],
            "type": "heatmap"
           }
          ],
          "histogram": [
           {
            "marker": {
             "pattern": {
              "fillmode": "overlay",
              "size": 10,
              "solidity": 0.2
             }
            },
            "type": "histogram"
           }
          ],
          "histogram2d": [
           {
            "colorbar": {
             "outlinewidth": 0,
             "ticks": ""
            },
            "colorscale": [
             [
              0,
              "#0d0887"
             ],
             [
              0.1111111111111111,
              "#46039f"
             ],
             [
              0.2222222222222222,
              "#7201a8"
             ],
             [
              0.3333333333333333,
              "#9c179e"
             ],
             [
              0.4444444444444444,
              "#bd3786"
             ],
             [
              0.5555555555555556,
              "#d8576b"
             ],
             [
              0.6666666666666666,
              "#ed7953"
             ],
             [
              0.7777777777777778,
              "#fb9f3a"
             ],
             [
              0.8888888888888888,
              "#fdca26"
             ],
             [
              1,
              "#f0f921"
             ]
            ],
            "type": "histogram2d"
           }
          ],
          "histogram2dcontour": [
           {
            "colorbar": {
             "outlinewidth": 0,
             "ticks": ""
            },
            "colorscale": [
             [
              0,
              "#0d0887"
             ],
             [
              0.1111111111111111,
              "#46039f"
             ],
             [
              0.2222222222222222,
              "#7201a8"
             ],
             [
              0.3333333333333333,
              "#9c179e"
             ],
             [
              0.4444444444444444,
              "#bd3786"
             ],
             [
              0.5555555555555556,
              "#d8576b"
             ],
             [
              0.6666666666666666,
              "#ed7953"
             ],
             [
              0.7777777777777778,
              "#fb9f3a"
             ],
             [
              0.8888888888888888,
              "#fdca26"
             ],
             [
              1,
              "#f0f921"
             ]
            ],
            "type": "histogram2dcontour"
           }
          ],
          "mesh3d": [
           {
            "colorbar": {
             "outlinewidth": 0,
             "ticks": ""
            },
            "type": "mesh3d"
           }
          ],
          "parcoords": [
           {
            "line": {
             "colorbar": {
              "outlinewidth": 0,
              "ticks": ""
             }
            },
            "type": "parcoords"
           }
          ],
          "pie": [
           {
            "automargin": true,
            "type": "pie"
           }
          ],
          "scatter": [
           {
            "fillpattern": {
             "fillmode": "overlay",
             "size": 10,
             "solidity": 0.2
            },
            "type": "scatter"
           }
          ],
          "scatter3d": [
           {
            "line": {
             "colorbar": {
              "outlinewidth": 0,
              "ticks": ""
             }
            },
            "marker": {
             "colorbar": {
              "outlinewidth": 0,
              "ticks": ""
             }
            },
            "type": "scatter3d"
           }
          ],
          "scattercarpet": [
           {
            "marker": {
             "colorbar": {
              "outlinewidth": 0,
              "ticks": ""
             }
            },
            "type": "scattercarpet"
           }
          ],
          "scattergeo": [
           {
            "marker": {
             "colorbar": {
              "outlinewidth": 0,
              "ticks": ""
             }
            },
            "type": "scattergeo"
           }
          ],
          "scattergl": [
           {
            "marker": {
             "colorbar": {
              "outlinewidth": 0,
              "ticks": ""
             }
            },
            "type": "scattergl"
           }
          ],
          "scattermap": [
           {
            "marker": {
             "colorbar": {
              "outlinewidth": 0,
              "ticks": ""
             }
            },
            "type": "scattermap"
           }
          ],
          "scattermapbox": [
           {
            "marker": {
             "colorbar": {
              "outlinewidth": 0,
              "ticks": ""
             }
            },
            "type": "scattermapbox"
           }
          ],
          "scatterpolar": [
           {
            "marker": {
             "colorbar": {
              "outlinewidth": 0,
              "ticks": ""
             }
            },
            "type": "scatterpolar"
           }
          ],
          "scatterpolargl": [
           {
            "marker": {
             "colorbar": {
              "outlinewidth": 0,
              "ticks": ""
             }
            },
            "type": "scatterpolargl"
           }
          ],
          "scatterternary": [
           {
            "marker": {
             "colorbar": {
              "outlinewidth": 0,
              "ticks": ""
             }
            },
            "type": "scatterternary"
           }
          ],
          "surface": [
           {
            "colorbar": {
             "outlinewidth": 0,
             "ticks": ""
            },
            "colorscale": [
             [
              0,
              "#0d0887"
             ],
             [
              0.1111111111111111,
              "#46039f"
             ],
             [
              0.2222222222222222,
              "#7201a8"
             ],
             [
              0.3333333333333333,
              "#9c179e"
             ],
             [
              0.4444444444444444,
              "#bd3786"
             ],
             [
              0.5555555555555556,
              "#d8576b"
             ],
             [
              0.6666666666666666,
              "#ed7953"
             ],
             [
              0.7777777777777778,
              "#fb9f3a"
             ],
             [
              0.8888888888888888,
              "#fdca26"
             ],
             [
              1,
              "#f0f921"
             ]
            ],
            "type": "surface"
           }
          ],
          "table": [
           {
            "cells": {
             "fill": {
              "color": "#EBF0F8"
             },
             "line": {
              "color": "white"
             }
            },
            "header": {
             "fill": {
              "color": "#C8D4E3"
             },
             "line": {
              "color": "white"
             }
            },
            "type": "table"
           }
          ]
         },
         "layout": {
          "annotationdefaults": {
           "arrowcolor": "#2a3f5f",
           "arrowhead": 0,
           "arrowwidth": 1
          },
          "autotypenumbers": "strict",
          "coloraxis": {
           "colorbar": {
            "outlinewidth": 0,
            "ticks": ""
           }
          },
          "colorscale": {
           "diverging": [
            [
             0,
             "#8e0152"
            ],
            [
             0.1,
             "#c51b7d"
            ],
            [
             0.2,
             "#de77ae"
            ],
            [
             0.3,
             "#f1b6da"
            ],
            [
             0.4,
             "#fde0ef"
            ],
            [
             0.5,
             "#f7f7f7"
            ],
            [
             0.6,
             "#e6f5d0"
            ],
            [
             0.7,
             "#b8e186"
            ],
            [
             0.8,
             "#7fbc41"
            ],
            [
             0.9,
             "#4d9221"
            ],
            [
             1,
             "#276419"
            ]
           ],
           "sequential": [
            [
             0,
             "#0d0887"
            ],
            [
             0.1111111111111111,
             "#46039f"
            ],
            [
             0.2222222222222222,
             "#7201a8"
            ],
            [
             0.3333333333333333,
             "#9c179e"
            ],
            [
             0.4444444444444444,
             "#bd3786"
            ],
            [
             0.5555555555555556,
             "#d8576b"
            ],
            [
             0.6666666666666666,
             "#ed7953"
            ],
            [
             0.7777777777777778,
             "#fb9f3a"
            ],
            [
             0.8888888888888888,
             "#fdca26"
            ],
            [
             1,
             "#f0f921"
            ]
           ],
           "sequentialminus": [
            [
             0,
             "#0d0887"
            ],
            [
             0.1111111111111111,
             "#46039f"
            ],
            [
             0.2222222222222222,
             "#7201a8"
            ],
            [
             0.3333333333333333,
             "#9c179e"
            ],
            [
             0.4444444444444444,
             "#bd3786"
            ],
            [
             0.5555555555555556,
             "#d8576b"
            ],
            [
             0.6666666666666666,
             "#ed7953"
            ],
            [
             0.7777777777777778,
             "#fb9f3a"
            ],
            [
             0.8888888888888888,
             "#fdca26"
            ],
            [
             1,
             "#f0f921"
            ]
           ]
          },
          "colorway": [
           "#636efa",
           "#EF553B",
           "#00cc96",
           "#ab63fa",
           "#FFA15A",
           "#19d3f3",
           "#FF6692",
           "#B6E880",
           "#FF97FF",
           "#FECB52"
          ],
          "font": {
           "color": "#2a3f5f"
          },
          "geo": {
           "bgcolor": "white",
           "lakecolor": "white",
           "landcolor": "#E5ECF6",
           "showlakes": true,
           "showland": true,
           "subunitcolor": "white"
          },
          "hoverlabel": {
           "align": "left"
          },
          "hovermode": "closest",
          "mapbox": {
           "style": "light"
          },
          "paper_bgcolor": "white",
          "plot_bgcolor": "#E5ECF6",
          "polar": {
           "angularaxis": {
            "gridcolor": "white",
            "linecolor": "white",
            "ticks": ""
           },
           "bgcolor": "#E5ECF6",
           "radialaxis": {
            "gridcolor": "white",
            "linecolor": "white",
            "ticks": ""
           }
          },
          "scene": {
           "xaxis": {
            "backgroundcolor": "#E5ECF6",
            "gridcolor": "white",
            "gridwidth": 2,
            "linecolor": "white",
            "showbackground": true,
            "ticks": "",
            "zerolinecolor": "white"
           },
           "yaxis": {
            "backgroundcolor": "#E5ECF6",
            "gridcolor": "white",
            "gridwidth": 2,
            "linecolor": "white",
            "showbackground": true,
            "ticks": "",
            "zerolinecolor": "white"
           },
           "zaxis": {
            "backgroundcolor": "#E5ECF6",
            "gridcolor": "white",
            "gridwidth": 2,
            "linecolor": "white",
            "showbackground": true,
            "ticks": "",
            "zerolinecolor": "white"
           }
          },
          "shapedefaults": {
           "line": {
            "color": "#2a3f5f"
           }
          },
          "ternary": {
           "aaxis": {
            "gridcolor": "white",
            "linecolor": "white",
            "ticks": ""
           },
           "baxis": {
            "gridcolor": "white",
            "linecolor": "white",
            "ticks": ""
           },
           "bgcolor": "#E5ECF6",
           "caxis": {
            "gridcolor": "white",
            "linecolor": "white",
            "ticks": ""
           }
          },
          "title": {
           "x": 0.05
          },
          "xaxis": {
           "automargin": true,
           "gridcolor": "white",
           "linecolor": "white",
           "ticks": "",
           "title": {
            "standoff": 15
           },
           "zerolinecolor": "white",
           "zerolinewidth": 2
          },
          "yaxis": {
           "automargin": true,
           "gridcolor": "white",
           "linecolor": "white",
           "ticks": "",
           "title": {
            "standoff": 15
           },
           "zerolinecolor": "white",
           "zerolinewidth": 2
          }
         }
        },
        "title": {
         "text": "Status de los Estados en las Simulaciones - Elecciones Presidenciales 2024"
        },
        "width": 1200
       }
      }
     },
     "metadata": {},
     "output_type": "display_data"
    }
   ],
   "source": [
    "# Crear el mapa coroplético usando Plotly Express con códigos de estado\n",
    "fig = px.choropleth(accumulated_pred_state,\n",
    "                    locations='state_code',  # Usar la nueva columna con códigos de estado\n",
    "                    locationmode=\"USA-states\",  # Modo de localización para los códigos de estado\n",
    "                    color='Status',  # Métrica que deseas visualizar\n",
    "                    hover_name='state_code',  # Mostrar el código del estado en hover\n",
    "                    hover_data={\n",
    "                        'state_code': True,  # Mostrar el código del estado\n",
    "                        \"Per_dem\": ':.2%',  # Mostrar el porcentaje de Biden en formato de porcentaje\n",
    "                        \"Per_gop\": ':.2%'  # Mostrar el porcentaje de Trump en formato de porcentaje\n",
    "                    },\n",
    "                    scope='usa',  # Limitar el mapa a EE.UU.\n",
    "                    color_discrete_map={'Safe Democrat': '#3951a2', \n",
    "                                        'Likely Democrat': '#a3cef1', \n",
    "                                        'Toss-Up': '#b6b164', \n",
    "                                        'Likely Republican': '#d56062', \n",
    "                                        'Safe Republican': '#af2b39'},\n",
    "                    labels={f'Winner': 'Ganador {ELECTORAL_YEAR}'},  # Etiqueta para la barra de color\n",
    "                    title=f\"Status de los Estados en las Simulaciones - Elecciones Presidenciales {ELECTORAL_YEAR}\"\n",
    "                   )\n",
    "\n",
    "# # Crear un nuevo rastro para añadir los códigos de los estados en el mapa\n",
    "# fig.add_trace(go.Scattergeo(\n",
    "#     locationmode='USA-states',\n",
    "#     locations=accumulated_pred_state['state_code'],  # Usar los códigos de los estados\n",
    "#     text=accumulated_pred_state['state_code'],  # Mostrar los códigos dentro del mapa\n",
    "#     mode='text',  # Solo texto\n",
    "#     textfont=dict(size=12, color=\"black\"),  # Tamaño y color de la fuente\n",
    "# ))\n",
    "\n",
    "# Ajustar el tamaño del gráfico\n",
    "fig.update_layout(\n",
    "    width=1200,  # Ajustar el ancho del gráfico\n",
    "    height=800   # Ajustar la altura del gráfico\n",
    ")\n",
    "\n",
    "# Ajustar visualización y mostrar el gráfico\n",
    "fig.update_geos(fitbounds=\"locations\", visible=False)  # Ajustar el mapa a las ubicaciones\n",
    "fig.show()\n"
   ]
  },
  {
   "cell_type": "markdown",
   "metadata": {},
   "source": [
    "### Real"
   ]
  },
  {
   "cell_type": "code",
   "execution_count": 65,
   "metadata": {},
   "outputs": [
    {
     "data": {
      "application/vnd.plotly.v1+json": {
       "config": {
        "plotlyServerURL": "https://plot.ly"
       },
       "data": [
        {
         "colorscale": [
          [
           0,
           "#af2b39"
          ],
          [
           1,
           "#af2b39"
          ]
         ],
         "customdata": [
          [
           "AL",
           0.34232779282665116,
           0.64822155408376
          ],
          [
           "AZ",
           0.46701417010319773,
           0.5223002024890546
          ],
          [
           "AR",
           0.3355990989924544,
           0.6419687217800987
          ],
          [
           "FL",
           0.42989101713151834,
           0.5608939861369304
          ],
          [
           "GA",
           0.4853322265495909,
           0.5072558398048627
          ],
          [
           "ID",
           0.3038995946119194,
           0.6689190682705357
          ],
          [
           "IN",
           0.396633261751372,
           0.5864086307393394
          ],
          [
           "IA",
           0.4268813875012147,
           0.5595072333085273
          ],
          [
           "KS",
           0.4104072715166041,
           0.5715630792917397
          ],
          [
           "KY",
           0.33957456413877524,
           0.64510114025454
          ],
          [
           "LA",
           0.3821024178178602,
           0.6021524931800346
          ],
          [
           "MI",
           0.48327259459772565,
           0.4974188097703772
          ],
          [
           "MS",
           0.3800203256004847,
           0.6089080852893467
          ],
          [
           "MO",
           0.4010557870868347,
           0.5852446355486846
          ],
          [
           "MT",
           0.38461066433595426,
           0.583914767572803
          ],
          [
           "NE",
           0.3906366301750815,
           0.5963264879497528
          ],
          [
           "NV",
           0.47530073932101247,
           0.5055437265693278
          ],
          [
           "NC",
           0.47808869107534324,
           0.5103174545882869
          ],
          [
           "ND",
           0.30769546840373746,
           0.6752470148660902
          ],
          [
           "OH",
           0.43949549498292895,
           0.5516230047543659
          ],
          [
           "OK",
           0.3189934956099997,
           0.6616210342024795
          ],
          [
           "PA",
           0.4866280572391539,
           0.5037253671558666
          ],
          [
           "SC",
           0.40360890688894646,
           0.5822862951015251
          ],
          [
           "SD",
           0.3388249659512516,
           0.6379443948715541
          ],
          [
           "TN",
           0.3447405336001791,
           0.6419393709149847
          ],
          [
           "TX",
           0.42489127712579694,
           0.5618172471517638
          ],
          [
           "UT",
           0.3780809986350357,
           0.5939832696103567
          ],
          [
           "WV",
           0.28110153595928594,
           0.6998465352378703
          ],
          [
           "WI",
           0.4884699724438856,
           0.4970776346892566
          ],
          [
           "WY",
           0.26103329040784223,
           0.7232244427507856
          ]
         ],
         "geo": "geo",
         "hovertemplate": "<b>%{hovertext}</b><br><br>Ganador {ELECTORAL_YEAR}=gop<br>state_code=%{customdata[0]}<br>Per_dem=%{customdata[1]:.2%}<br>Per_gop=%{customdata[2]:.2%}<extra></extra>",
         "hovertext": [
          "AL",
          "AZ",
          "AR",
          "FL",
          "GA",
          "ID",
          "IN",
          "IA",
          "KS",
          "KY",
          "LA",
          "MI",
          "MS",
          "MO",
          "MT",
          "NE",
          "NV",
          "NC",
          "ND",
          "OH",
          "OK",
          "PA",
          "SC",
          "SD",
          "TN",
          "TX",
          "UT",
          "WV",
          "WI",
          "WY"
         ],
         "locationmode": "USA-states",
         "locations": [
          "AL",
          "AZ",
          "AR",
          "FL",
          "GA",
          "ID",
          "IN",
          "IA",
          "KS",
          "KY",
          "LA",
          "MI",
          "MS",
          "MO",
          "MT",
          "NE",
          "NV",
          "NC",
          "ND",
          "OH",
          "OK",
          "PA",
          "SC",
          "SD",
          "TN",
          "TX",
          "UT",
          "WV",
          "WI",
          "WY"
         ],
         "name": "gop",
         "showlegend": true,
         "showscale": false,
         "type": "choropleth",
         "z": [
          1,
          1,
          1,
          1,
          1,
          1,
          1,
          1,
          1,
          1,
          1,
          1,
          1,
          1,
          1,
          1,
          1,
          1,
          1,
          1,
          1,
          1,
          1,
          1,
          1,
          1,
          1,
          1,
          1,
          1
         ]
        },
        {
         "colorscale": [
          [
           0,
           "#3951a2"
          ],
          [
           1,
           "#3951a2"
          ]
         ],
         "customdata": [
          [
           "CA",
           0.584785371015076,
           0.38340004397783556
          ],
          [
           "CO",
           0.54159441632431,
           0.4316815492186621
          ],
          [
           "CT",
           0.559163357190981,
           0.4238353967129821
          ],
          [
           "DC",
           0.9114993945085634,
           0.05081185280379606
          ],
          [
           "DE",
           0.5662687098028716,
           0.4189022018890085
          ],
          [
           "HI",
           0.6058513531036325,
           0.3748028356825321
          ],
          [
           "IL",
           0.5476862395321624,
           0.43793237497961507
          ],
          [
           "ME",
           0.52401383250639,
           0.45464080589385053
          ],
          [
           "MD",
           0.6309011324258452,
           0.34339197188002585
          ],
          [
           "MA",
           0.6157763989903392,
           0.36233699934297336
          ],
          [
           "MN",
           0.5112687277300615,
           0.4687045267449079
          ],
          [
           "NH",
           0.5090244759795318,
           0.4811488859129627
          ],
          [
           "NJ",
           0.5197416168838388,
           0.4606463088544196
          ],
          [
           "NM",
           0.5185189998299767,
           0.4585116141056505
          ],
          [
           "NY",
           0.5634474305856947,
           0.4365525694143053
          ],
          [
           "OR",
           0.5564479305958709,
           0.4125318446524539
          ],
          [
           "RI",
           0.5584078612146266,
           0.4198613947859531
          ],
          [
           "VT",
           0.6435537093089585,
           0.3258694993572405
          ],
          [
           "VA",
           0.520993955261439,
           0.4629224356709178
          ],
          [
           "WA",
           0.5760307886843121,
           0.3926616540581994
          ]
         ],
         "geo": "geo",
         "hovertemplate": "<b>%{hovertext}</b><br><br>Ganador {ELECTORAL_YEAR}=dem<br>state_code=%{customdata[0]}<br>Per_dem=%{customdata[1]:.2%}<br>Per_gop=%{customdata[2]:.2%}<extra></extra>",
         "hovertext": [
          "CA",
          "CO",
          "CT",
          "DC",
          "DE",
          "HI",
          "IL",
          "ME",
          "MD",
          "MA",
          "MN",
          "NH",
          "NJ",
          "NM",
          "NY",
          "OR",
          "RI",
          "VT",
          "VA",
          "WA"
         ],
         "locationmode": "USA-states",
         "locations": [
          "CA",
          "CO",
          "CT",
          "DC",
          "DE",
          "HI",
          "IL",
          "ME",
          "MD",
          "MA",
          "MN",
          "NH",
          "NJ",
          "NM",
          "NY",
          "OR",
          "RI",
          "VT",
          "VA",
          "WA"
         ],
         "name": "dem",
         "showlegend": true,
         "showscale": false,
         "type": "choropleth",
         "z": [
          1,
          1,
          1,
          1,
          1,
          1,
          1,
          1,
          1,
          1,
          1,
          1,
          1,
          1,
          1,
          1,
          1,
          1,
          1,
          1
         ]
        }
       ],
       "layout": {
        "geo": {
         "center": {},
         "domain": {
          "x": [
           0,
           1
          ],
          "y": [
           0,
           1
          ]
         },
         "fitbounds": "locations",
         "scope": "usa",
         "visible": false
        },
        "height": 800,
        "legend": {
         "title": {
          "text": "Ganador {ELECTORAL_YEAR}"
         },
         "tracegroupgap": 0
        },
        "template": {
         "data": {
          "bar": [
           {
            "error_x": {
             "color": "#2a3f5f"
            },
            "error_y": {
             "color": "#2a3f5f"
            },
            "marker": {
             "line": {
              "color": "#E5ECF6",
              "width": 0.5
             },
             "pattern": {
              "fillmode": "overlay",
              "size": 10,
              "solidity": 0.2
             }
            },
            "type": "bar"
           }
          ],
          "barpolar": [
           {
            "marker": {
             "line": {
              "color": "#E5ECF6",
              "width": 0.5
             },
             "pattern": {
              "fillmode": "overlay",
              "size": 10,
              "solidity": 0.2
             }
            },
            "type": "barpolar"
           }
          ],
          "carpet": [
           {
            "aaxis": {
             "endlinecolor": "#2a3f5f",
             "gridcolor": "white",
             "linecolor": "white",
             "minorgridcolor": "white",
             "startlinecolor": "#2a3f5f"
            },
            "baxis": {
             "endlinecolor": "#2a3f5f",
             "gridcolor": "white",
             "linecolor": "white",
             "minorgridcolor": "white",
             "startlinecolor": "#2a3f5f"
            },
            "type": "carpet"
           }
          ],
          "choropleth": [
           {
            "colorbar": {
             "outlinewidth": 0,
             "ticks": ""
            },
            "type": "choropleth"
           }
          ],
          "contour": [
           {
            "colorbar": {
             "outlinewidth": 0,
             "ticks": ""
            },
            "colorscale": [
             [
              0,
              "#0d0887"
             ],
             [
              0.1111111111111111,
              "#46039f"
             ],
             [
              0.2222222222222222,
              "#7201a8"
             ],
             [
              0.3333333333333333,
              "#9c179e"
             ],
             [
              0.4444444444444444,
              "#bd3786"
             ],
             [
              0.5555555555555556,
              "#d8576b"
             ],
             [
              0.6666666666666666,
              "#ed7953"
             ],
             [
              0.7777777777777778,
              "#fb9f3a"
             ],
             [
              0.8888888888888888,
              "#fdca26"
             ],
             [
              1,
              "#f0f921"
             ]
            ],
            "type": "contour"
           }
          ],
          "contourcarpet": [
           {
            "colorbar": {
             "outlinewidth": 0,
             "ticks": ""
            },
            "type": "contourcarpet"
           }
          ],
          "heatmap": [
           {
            "colorbar": {
             "outlinewidth": 0,
             "ticks": ""
            },
            "colorscale": [
             [
              0,
              "#0d0887"
             ],
             [
              0.1111111111111111,
              "#46039f"
             ],
             [
              0.2222222222222222,
              "#7201a8"
             ],
             [
              0.3333333333333333,
              "#9c179e"
             ],
             [
              0.4444444444444444,
              "#bd3786"
             ],
             [
              0.5555555555555556,
              "#d8576b"
             ],
             [
              0.6666666666666666,
              "#ed7953"
             ],
             [
              0.7777777777777778,
              "#fb9f3a"
             ],
             [
              0.8888888888888888,
              "#fdca26"
             ],
             [
              1,
              "#f0f921"
             ]
            ],
            "type": "heatmap"
           }
          ],
          "histogram": [
           {
            "marker": {
             "pattern": {
              "fillmode": "overlay",
              "size": 10,
              "solidity": 0.2
             }
            },
            "type": "histogram"
           }
          ],
          "histogram2d": [
           {
            "colorbar": {
             "outlinewidth": 0,
             "ticks": ""
            },
            "colorscale": [
             [
              0,
              "#0d0887"
             ],
             [
              0.1111111111111111,
              "#46039f"
             ],
             [
              0.2222222222222222,
              "#7201a8"
             ],
             [
              0.3333333333333333,
              "#9c179e"
             ],
             [
              0.4444444444444444,
              "#bd3786"
             ],
             [
              0.5555555555555556,
              "#d8576b"
             ],
             [
              0.6666666666666666,
              "#ed7953"
             ],
             [
              0.7777777777777778,
              "#fb9f3a"
             ],
             [
              0.8888888888888888,
              "#fdca26"
             ],
             [
              1,
              "#f0f921"
             ]
            ],
            "type": "histogram2d"
           }
          ],
          "histogram2dcontour": [
           {
            "colorbar": {
             "outlinewidth": 0,
             "ticks": ""
            },
            "colorscale": [
             [
              0,
              "#0d0887"
             ],
             [
              0.1111111111111111,
              "#46039f"
             ],
             [
              0.2222222222222222,
              "#7201a8"
             ],
             [
              0.3333333333333333,
              "#9c179e"
             ],
             [
              0.4444444444444444,
              "#bd3786"
             ],
             [
              0.5555555555555556,
              "#d8576b"
             ],
             [
              0.6666666666666666,
              "#ed7953"
             ],
             [
              0.7777777777777778,
              "#fb9f3a"
             ],
             [
              0.8888888888888888,
              "#fdca26"
             ],
             [
              1,
              "#f0f921"
             ]
            ],
            "type": "histogram2dcontour"
           }
          ],
          "mesh3d": [
           {
            "colorbar": {
             "outlinewidth": 0,
             "ticks": ""
            },
            "type": "mesh3d"
           }
          ],
          "parcoords": [
           {
            "line": {
             "colorbar": {
              "outlinewidth": 0,
              "ticks": ""
             }
            },
            "type": "parcoords"
           }
          ],
          "pie": [
           {
            "automargin": true,
            "type": "pie"
           }
          ],
          "scatter": [
           {
            "fillpattern": {
             "fillmode": "overlay",
             "size": 10,
             "solidity": 0.2
            },
            "type": "scatter"
           }
          ],
          "scatter3d": [
           {
            "line": {
             "colorbar": {
              "outlinewidth": 0,
              "ticks": ""
             }
            },
            "marker": {
             "colorbar": {
              "outlinewidth": 0,
              "ticks": ""
             }
            },
            "type": "scatter3d"
           }
          ],
          "scattercarpet": [
           {
            "marker": {
             "colorbar": {
              "outlinewidth": 0,
              "ticks": ""
             }
            },
            "type": "scattercarpet"
           }
          ],
          "scattergeo": [
           {
            "marker": {
             "colorbar": {
              "outlinewidth": 0,
              "ticks": ""
             }
            },
            "type": "scattergeo"
           }
          ],
          "scattergl": [
           {
            "marker": {
             "colorbar": {
              "outlinewidth": 0,
              "ticks": ""
             }
            },
            "type": "scattergl"
           }
          ],
          "scattermap": [
           {
            "marker": {
             "colorbar": {
              "outlinewidth": 0,
              "ticks": ""
             }
            },
            "type": "scattermap"
           }
          ],
          "scattermapbox": [
           {
            "marker": {
             "colorbar": {
              "outlinewidth": 0,
              "ticks": ""
             }
            },
            "type": "scattermapbox"
           }
          ],
          "scatterpolar": [
           {
            "marker": {
             "colorbar": {
              "outlinewidth": 0,
              "ticks": ""
             }
            },
            "type": "scatterpolar"
           }
          ],
          "scatterpolargl": [
           {
            "marker": {
             "colorbar": {
              "outlinewidth": 0,
              "ticks": ""
             }
            },
            "type": "scatterpolargl"
           }
          ],
          "scatterternary": [
           {
            "marker": {
             "colorbar": {
              "outlinewidth": 0,
              "ticks": ""
             }
            },
            "type": "scatterternary"
           }
          ],
          "surface": [
           {
            "colorbar": {
             "outlinewidth": 0,
             "ticks": ""
            },
            "colorscale": [
             [
              0,
              "#0d0887"
             ],
             [
              0.1111111111111111,
              "#46039f"
             ],
             [
              0.2222222222222222,
              "#7201a8"
             ],
             [
              0.3333333333333333,
              "#9c179e"
             ],
             [
              0.4444444444444444,
              "#bd3786"
             ],
             [
              0.5555555555555556,
              "#d8576b"
             ],
             [
              0.6666666666666666,
              "#ed7953"
             ],
             [
              0.7777777777777778,
              "#fb9f3a"
             ],
             [
              0.8888888888888888,
              "#fdca26"
             ],
             [
              1,
              "#f0f921"
             ]
            ],
            "type": "surface"
           }
          ],
          "table": [
           {
            "cells": {
             "fill": {
              "color": "#EBF0F8"
             },
             "line": {
              "color": "white"
             }
            },
            "header": {
             "fill": {
              "color": "#C8D4E3"
             },
             "line": {
              "color": "white"
             }
            },
            "type": "table"
           }
          ]
         },
         "layout": {
          "annotationdefaults": {
           "arrowcolor": "#2a3f5f",
           "arrowhead": 0,
           "arrowwidth": 1
          },
          "autotypenumbers": "strict",
          "coloraxis": {
           "colorbar": {
            "outlinewidth": 0,
            "ticks": ""
           }
          },
          "colorscale": {
           "diverging": [
            [
             0,
             "#8e0152"
            ],
            [
             0.1,
             "#c51b7d"
            ],
            [
             0.2,
             "#de77ae"
            ],
            [
             0.3,
             "#f1b6da"
            ],
            [
             0.4,
             "#fde0ef"
            ],
            [
             0.5,
             "#f7f7f7"
            ],
            [
             0.6,
             "#e6f5d0"
            ],
            [
             0.7,
             "#b8e186"
            ],
            [
             0.8,
             "#7fbc41"
            ],
            [
             0.9,
             "#4d9221"
            ],
            [
             1,
             "#276419"
            ]
           ],
           "sequential": [
            [
             0,
             "#0d0887"
            ],
            [
             0.1111111111111111,
             "#46039f"
            ],
            [
             0.2222222222222222,
             "#7201a8"
            ],
            [
             0.3333333333333333,
             "#9c179e"
            ],
            [
             0.4444444444444444,
             "#bd3786"
            ],
            [
             0.5555555555555556,
             "#d8576b"
            ],
            [
             0.6666666666666666,
             "#ed7953"
            ],
            [
             0.7777777777777778,
             "#fb9f3a"
            ],
            [
             0.8888888888888888,
             "#fdca26"
            ],
            [
             1,
             "#f0f921"
            ]
           ],
           "sequentialminus": [
            [
             0,
             "#0d0887"
            ],
            [
             0.1111111111111111,
             "#46039f"
            ],
            [
             0.2222222222222222,
             "#7201a8"
            ],
            [
             0.3333333333333333,
             "#9c179e"
            ],
            [
             0.4444444444444444,
             "#bd3786"
            ],
            [
             0.5555555555555556,
             "#d8576b"
            ],
            [
             0.6666666666666666,
             "#ed7953"
            ],
            [
             0.7777777777777778,
             "#fb9f3a"
            ],
            [
             0.8888888888888888,
             "#fdca26"
            ],
            [
             1,
             "#f0f921"
            ]
           ]
          },
          "colorway": [
           "#636efa",
           "#EF553B",
           "#00cc96",
           "#ab63fa",
           "#FFA15A",
           "#19d3f3",
           "#FF6692",
           "#B6E880",
           "#FF97FF",
           "#FECB52"
          ],
          "font": {
           "color": "#2a3f5f"
          },
          "geo": {
           "bgcolor": "white",
           "lakecolor": "white",
           "landcolor": "#E5ECF6",
           "showlakes": true,
           "showland": true,
           "subunitcolor": "white"
          },
          "hoverlabel": {
           "align": "left"
          },
          "hovermode": "closest",
          "mapbox": {
           "style": "light"
          },
          "paper_bgcolor": "white",
          "plot_bgcolor": "#E5ECF6",
          "polar": {
           "angularaxis": {
            "gridcolor": "white",
            "linecolor": "white",
            "ticks": ""
           },
           "bgcolor": "#E5ECF6",
           "radialaxis": {
            "gridcolor": "white",
            "linecolor": "white",
            "ticks": ""
           }
          },
          "scene": {
           "xaxis": {
            "backgroundcolor": "#E5ECF6",
            "gridcolor": "white",
            "gridwidth": 2,
            "linecolor": "white",
            "showbackground": true,
            "ticks": "",
            "zerolinecolor": "white"
           },
           "yaxis": {
            "backgroundcolor": "#E5ECF6",
            "gridcolor": "white",
            "gridwidth": 2,
            "linecolor": "white",
            "showbackground": true,
            "ticks": "",
            "zerolinecolor": "white"
           },
           "zaxis": {
            "backgroundcolor": "#E5ECF6",
            "gridcolor": "white",
            "gridwidth": 2,
            "linecolor": "white",
            "showbackground": true,
            "ticks": "",
            "zerolinecolor": "white"
           }
          },
          "shapedefaults": {
           "line": {
            "color": "#2a3f5f"
           }
          },
          "ternary": {
           "aaxis": {
            "gridcolor": "white",
            "linecolor": "white",
            "ticks": ""
           },
           "baxis": {
            "gridcolor": "white",
            "linecolor": "white",
            "ticks": ""
           },
           "bgcolor": "#E5ECF6",
           "caxis": {
            "gridcolor": "white",
            "linecolor": "white",
            "ticks": ""
           }
          },
          "title": {
           "x": 0.05
          },
          "xaxis": {
           "automargin": true,
           "gridcolor": "white",
           "linecolor": "white",
           "ticks": "",
           "title": {
            "standoff": 15
           },
           "zerolinecolor": "white",
           "zerolinewidth": 2
          },
          "yaxis": {
           "automargin": true,
           "gridcolor": "white",
           "linecolor": "white",
           "ticks": "",
           "title": {
            "standoff": 15
           },
           "zerolinecolor": "white",
           "zerolinewidth": 2
          }
         }
        },
        "title": {
         "text": "Resultado Real de las Simulaciones - Elecciones Presidenciales 2024"
        },
        "width": 1200
       }
      }
     },
     "metadata": {},
     "output_type": "display_data"
    }
   ],
   "source": [
    "# Crear el mapa coroplético usando Plotly Express con códigos de estado\n",
    "fig = px.choropleth(full_df_actual_state,\n",
    "                    locations='state_code',  # Usar la nueva columna con códigos de estado\n",
    "                    locationmode=\"USA-states\",  # Modo de localización para los códigos de estado\n",
    "                    color=\"Winner\",  # Métrica que deseas visualizar\n",
    "                    hover_name='state_code',  # Mostrar el código del estado en hover\n",
    "                    hover_data={\n",
    "                        'state_code': True,  # Mostrar el código del estado\n",
    "                        \"Per_dem\": ':.2%',  # Mostrar el porcentaje de Biden en formato de porcentaje\n",
    "                        \"Per_gop\": ':.2%'  # Mostrar el porcentaje de Trump en formato de porcentaje\n",
    "                    },\n",
    "                    scope='usa',  # Limitar el mapa a EE.UU.\n",
    "                    color_discrete_map={'dem': '#3951a2', 'gop': '#af2b39'},  # Colores asignados\n",
    "                    labels={\"Winner\": 'Ganador {ELECTORAL_YEAR}'},  # Etiqueta para la barra de color\n",
    "                    title=f\"Resultado Real de las Simulaciones - Elecciones Presidenciales {ELECTORAL_YEAR}\"\n",
    "                   )\n",
    "\n",
    "# # Crear un nuevo rastro para añadir los códigos de los estados en el mapa\n",
    "# fig.add_trace(go.Scattergeo(\n",
    "#     locationmode='USA-states',\n",
    "#     locations=accumulated_pred_state['state_code'],  # Usar los códigos de los estados\n",
    "#     text=accumulated_pred_state['state_code'],  # Mostrar los códigos dentro del mapa\n",
    "#     mode='text',  # Solo texto\n",
    "#     textfont=dict(size=8, color=\"white\"),  # Tamaño y color de la fuente\n",
    "# ))\n",
    "\n",
    "# Ajustar el tamaño del gráfico\n",
    "fig.update_layout(\n",
    "    width=1200,  # Ajustar el ancho del gráfico\n",
    "    height=800   # Ajustar la altura del gráfico\n",
    ")\n",
    "\n",
    "# Ajustar visualización y mostrar el gráfico\n",
    "fig.update_geos(fitbounds=\"locations\", visible=False)  # Ajustar el mapa a las ubicaciones\n",
    "fig.show()\n"
   ]
  },
  {
   "cell_type": "code",
   "execution_count": 66,
   "metadata": {},
   "outputs": [
    {
     "data": {
      "application/vnd.plotly.v1+json": {
       "config": {
        "plotlyServerURL": "https://plot.ly"
       },
       "data": [
        {
         "colorscale": [
          [
           0,
           "#af2b39"
          ],
          [
           1,
           "#af2b39"
          ]
         ],
         "customdata": [
          [
           "AL",
           0.34232779282665116,
           0.64822155408376
          ],
          [
           "AR",
           0.3355990989924544,
           0.6419687217800987
          ],
          [
           "FL",
           0.42989101713151834,
           0.5608939861369304
          ],
          [
           "ID",
           0.3038995946119194,
           0.6689190682705357
          ],
          [
           "IN",
           0.396633261751372,
           0.5864086307393394
          ],
          [
           "IA",
           0.4268813875012147,
           0.5595072333085273
          ],
          [
           "KS",
           0.4104072715166041,
           0.5715630792917397
          ],
          [
           "KY",
           0.33957456413877524,
           0.64510114025454
          ],
          [
           "LA",
           0.3821024178178602,
           0.6021524931800346
          ],
          [
           "MS",
           0.3800203256004847,
           0.6089080852893467
          ],
          [
           "MO",
           0.4010557870868347,
           0.5852446355486846
          ],
          [
           "MT",
           0.38461066433595426,
           0.583914767572803
          ],
          [
           "NE",
           0.3906366301750815,
           0.5963264879497528
          ],
          [
           "ND",
           0.30769546840373746,
           0.6752470148660902
          ],
          [
           "OH",
           0.43949549498292895,
           0.5516230047543659
          ],
          [
           "OK",
           0.3189934956099997,
           0.6616210342024795
          ],
          [
           "SC",
           0.40360890688894646,
           0.5822862951015251
          ],
          [
           "SD",
           0.3388249659512516,
           0.6379443948715541
          ],
          [
           "TN",
           0.3447405336001791,
           0.6419393709149847
          ],
          [
           "TX",
           0.42489127712579694,
           0.5618172471517638
          ],
          [
           "UT",
           0.3780809986350357,
           0.5939832696103567
          ],
          [
           "WV",
           0.28110153595928594,
           0.6998465352378703
          ],
          [
           "WY",
           0.26103329040784223,
           0.7232244427507856
          ]
         ],
         "geo": "geo",
         "hovertemplate": "<b>%{hovertext}</b><br><br>Status=Safe Republican<br>state_code=%{customdata[0]}<br>Per_dem=%{customdata[1]:.2%}<br>Per_gop=%{customdata[2]:.2%}<extra></extra>",
         "hovertext": [
          "AL",
          "AR",
          "FL",
          "ID",
          "IN",
          "IA",
          "KS",
          "KY",
          "LA",
          "MS",
          "MO",
          "MT",
          "NE",
          "ND",
          "OH",
          "OK",
          "SC",
          "SD",
          "TN",
          "TX",
          "UT",
          "WV",
          "WY"
         ],
         "locationmode": "USA-states",
         "locations": [
          "AL",
          "AR",
          "FL",
          "ID",
          "IN",
          "IA",
          "KS",
          "KY",
          "LA",
          "MS",
          "MO",
          "MT",
          "NE",
          "ND",
          "OH",
          "OK",
          "SC",
          "SD",
          "TN",
          "TX",
          "UT",
          "WV",
          "WY"
         ],
         "name": "Safe Republican",
         "showlegend": true,
         "showscale": false,
         "type": "choropleth",
         "z": [
          1,
          1,
          1,
          1,
          1,
          1,
          1,
          1,
          1,
          1,
          1,
          1,
          1,
          1,
          1,
          1,
          1,
          1,
          1,
          1,
          1,
          1,
          1
         ]
        },
        {
         "colorscale": [
          [
           0,
           "#d56062"
          ],
          [
           1,
           "#d56062"
          ]
         ],
         "customdata": [
          [
           "AZ",
           0.46701417010319773,
           0.5223002024890546
          ],
          [
           "NV",
           0.47530073932101247,
           0.5055437265693278
          ],
          [
           "NC",
           0.47808869107534324,
           0.5103174545882869
          ]
         ],
         "geo": "geo",
         "hovertemplate": "<b>%{hovertext}</b><br><br>Status=Likely Republican<br>state_code=%{customdata[0]}<br>Per_dem=%{customdata[1]:.2%}<br>Per_gop=%{customdata[2]:.2%}<extra></extra>",
         "hovertext": [
          "AZ",
          "NV",
          "NC"
         ],
         "locationmode": "USA-states",
         "locations": [
          "AZ",
          "NV",
          "NC"
         ],
         "name": "Likely Republican",
         "showlegend": true,
         "showscale": false,
         "type": "choropleth",
         "z": [
          1,
          1,
          1
         ]
        },
        {
         "colorscale": [
          [
           0,
           "#3951a2"
          ],
          [
           1,
           "#3951a2"
          ]
         ],
         "customdata": [
          [
           "CA",
           0.584785371015076,
           0.38340004397783556
          ],
          [
           "CO",
           0.54159441632431,
           0.4316815492186621
          ],
          [
           "CT",
           0.559163357190981,
           0.4238353967129821
          ],
          [
           "DC",
           0.9114993945085634,
           0.05081185280379606
          ],
          [
           "DE",
           0.5662687098028716,
           0.4189022018890085
          ],
          [
           "HI",
           0.6058513531036325,
           0.3748028356825321
          ],
          [
           "IL",
           0.5476862395321624,
           0.43793237497961507
          ],
          [
           "MD",
           0.6309011324258452,
           0.34339197188002585
          ],
          [
           "MA",
           0.6157763989903392,
           0.36233699934297336
          ],
          [
           "NY",
           0.5634474305856947,
           0.4365525694143053
          ],
          [
           "OR",
           0.5564479305958709,
           0.4125318446524539
          ],
          [
           "RI",
           0.5584078612146266,
           0.4198613947859531
          ],
          [
           "VT",
           0.6435537093089585,
           0.3258694993572405
          ],
          [
           "WA",
           0.5760307886843121,
           0.3926616540581994
          ]
         ],
         "geo": "geo",
         "hovertemplate": "<b>%{hovertext}</b><br><br>Status=Safe Democrat<br>state_code=%{customdata[0]}<br>Per_dem=%{customdata[1]:.2%}<br>Per_gop=%{customdata[2]:.2%}<extra></extra>",
         "hovertext": [
          "CA",
          "CO",
          "CT",
          "DC",
          "DE",
          "HI",
          "IL",
          "MD",
          "MA",
          "NY",
          "OR",
          "RI",
          "VT",
          "WA"
         ],
         "locationmode": "USA-states",
         "locations": [
          "CA",
          "CO",
          "CT",
          "DC",
          "DE",
          "HI",
          "IL",
          "MD",
          "MA",
          "NY",
          "OR",
          "RI",
          "VT",
          "WA"
         ],
         "name": "Safe Democrat",
         "showlegend": true,
         "showscale": false,
         "type": "choropleth",
         "z": [
          1,
          1,
          1,
          1,
          1,
          1,
          1,
          1,
          1,
          1,
          1,
          1,
          1,
          1
         ]
        },
        {
         "colorscale": [
          [
           0,
           "#b6b164"
          ],
          [
           1,
           "#b6b164"
          ]
         ],
         "customdata": [
          [
           "GA",
           0.4853322265495909,
           0.5072558398048627
          ],
          [
           "MI",
           0.48327259459772565,
           0.4974188097703772
          ],
          [
           "PA",
           0.4866280572391539,
           0.5037253671558666
          ],
          [
           "WI",
           0.4884699724438856,
           0.4970776346892566
          ]
         ],
         "geo": "geo",
         "hovertemplate": "<b>%{hovertext}</b><br><br>Status=Toss-Up<br>state_code=%{customdata[0]}<br>Per_dem=%{customdata[1]:.2%}<br>Per_gop=%{customdata[2]:.2%}<extra></extra>",
         "hovertext": [
          "GA",
          "MI",
          "PA",
          "WI"
         ],
         "locationmode": "USA-states",
         "locations": [
          "GA",
          "MI",
          "PA",
          "WI"
         ],
         "name": "Toss-Up",
         "showlegend": true,
         "showscale": false,
         "type": "choropleth",
         "z": [
          1,
          1,
          1,
          1
         ]
        },
        {
         "colorscale": [
          [
           0,
           "#a3cef1"
          ],
          [
           1,
           "#a3cef1"
          ]
         ],
         "customdata": [
          [
           "ME",
           0.52401383250639,
           0.45464080589385053
          ],
          [
           "MN",
           0.5112687277300615,
           0.4687045267449079
          ],
          [
           "NH",
           0.5090244759795318,
           0.4811488859129627
          ],
          [
           "NJ",
           0.5197416168838388,
           0.4606463088544196
          ],
          [
           "NM",
           0.5185189998299767,
           0.4585116141056505
          ],
          [
           "VA",
           0.520993955261439,
           0.4629224356709178
          ]
         ],
         "geo": "geo",
         "hovertemplate": "<b>%{hovertext}</b><br><br>Status=Likely Democrat<br>state_code=%{customdata[0]}<br>Per_dem=%{customdata[1]:.2%}<br>Per_gop=%{customdata[2]:.2%}<extra></extra>",
         "hovertext": [
          "ME",
          "MN",
          "NH",
          "NJ",
          "NM",
          "VA"
         ],
         "locationmode": "USA-states",
         "locations": [
          "ME",
          "MN",
          "NH",
          "NJ",
          "NM",
          "VA"
         ],
         "name": "Likely Democrat",
         "showlegend": true,
         "showscale": false,
         "type": "choropleth",
         "z": [
          1,
          1,
          1,
          1,
          1,
          1
         ]
        }
       ],
       "layout": {
        "geo": {
         "center": {},
         "domain": {
          "x": [
           0,
           1
          ],
          "y": [
           0,
           1
          ]
         },
         "fitbounds": "locations",
         "scope": "usa",
         "visible": false
        },
        "height": 800,
        "legend": {
         "title": {
          "text": "Status"
         },
         "tracegroupgap": 0
        },
        "template": {
         "data": {
          "bar": [
           {
            "error_x": {
             "color": "#2a3f5f"
            },
            "error_y": {
             "color": "#2a3f5f"
            },
            "marker": {
             "line": {
              "color": "#E5ECF6",
              "width": 0.5
             },
             "pattern": {
              "fillmode": "overlay",
              "size": 10,
              "solidity": 0.2
             }
            },
            "type": "bar"
           }
          ],
          "barpolar": [
           {
            "marker": {
             "line": {
              "color": "#E5ECF6",
              "width": 0.5
             },
             "pattern": {
              "fillmode": "overlay",
              "size": 10,
              "solidity": 0.2
             }
            },
            "type": "barpolar"
           }
          ],
          "carpet": [
           {
            "aaxis": {
             "endlinecolor": "#2a3f5f",
             "gridcolor": "white",
             "linecolor": "white",
             "minorgridcolor": "white",
             "startlinecolor": "#2a3f5f"
            },
            "baxis": {
             "endlinecolor": "#2a3f5f",
             "gridcolor": "white",
             "linecolor": "white",
             "minorgridcolor": "white",
             "startlinecolor": "#2a3f5f"
            },
            "type": "carpet"
           }
          ],
          "choropleth": [
           {
            "colorbar": {
             "outlinewidth": 0,
             "ticks": ""
            },
            "type": "choropleth"
           }
          ],
          "contour": [
           {
            "colorbar": {
             "outlinewidth": 0,
             "ticks": ""
            },
            "colorscale": [
             [
              0,
              "#0d0887"
             ],
             [
              0.1111111111111111,
              "#46039f"
             ],
             [
              0.2222222222222222,
              "#7201a8"
             ],
             [
              0.3333333333333333,
              "#9c179e"
             ],
             [
              0.4444444444444444,
              "#bd3786"
             ],
             [
              0.5555555555555556,
              "#d8576b"
             ],
             [
              0.6666666666666666,
              "#ed7953"
             ],
             [
              0.7777777777777778,
              "#fb9f3a"
             ],
             [
              0.8888888888888888,
              "#fdca26"
             ],
             [
              1,
              "#f0f921"
             ]
            ],
            "type": "contour"
           }
          ],
          "contourcarpet": [
           {
            "colorbar": {
             "outlinewidth": 0,
             "ticks": ""
            },
            "type": "contourcarpet"
           }
          ],
          "heatmap": [
           {
            "colorbar": {
             "outlinewidth": 0,
             "ticks": ""
            },
            "colorscale": [
             [
              0,
              "#0d0887"
             ],
             [
              0.1111111111111111,
              "#46039f"
             ],
             [
              0.2222222222222222,
              "#7201a8"
             ],
             [
              0.3333333333333333,
              "#9c179e"
             ],
             [
              0.4444444444444444,
              "#bd3786"
             ],
             [
              0.5555555555555556,
              "#d8576b"
             ],
             [
              0.6666666666666666,
              "#ed7953"
             ],
             [
              0.7777777777777778,
              "#fb9f3a"
             ],
             [
              0.8888888888888888,
              "#fdca26"
             ],
             [
              1,
              "#f0f921"
             ]
            ],
            "type": "heatmap"
           }
          ],
          "histogram": [
           {
            "marker": {
             "pattern": {
              "fillmode": "overlay",
              "size": 10,
              "solidity": 0.2
             }
            },
            "type": "histogram"
           }
          ],
          "histogram2d": [
           {
            "colorbar": {
             "outlinewidth": 0,
             "ticks": ""
            },
            "colorscale": [
             [
              0,
              "#0d0887"
             ],
             [
              0.1111111111111111,
              "#46039f"
             ],
             [
              0.2222222222222222,
              "#7201a8"
             ],
             [
              0.3333333333333333,
              "#9c179e"
             ],
             [
              0.4444444444444444,
              "#bd3786"
             ],
             [
              0.5555555555555556,
              "#d8576b"
             ],
             [
              0.6666666666666666,
              "#ed7953"
             ],
             [
              0.7777777777777778,
              "#fb9f3a"
             ],
             [
              0.8888888888888888,
              "#fdca26"
             ],
             [
              1,
              "#f0f921"
             ]
            ],
            "type": "histogram2d"
           }
          ],
          "histogram2dcontour": [
           {
            "colorbar": {
             "outlinewidth": 0,
             "ticks": ""
            },
            "colorscale": [
             [
              0,
              "#0d0887"
             ],
             [
              0.1111111111111111,
              "#46039f"
             ],
             [
              0.2222222222222222,
              "#7201a8"
             ],
             [
              0.3333333333333333,
              "#9c179e"
             ],
             [
              0.4444444444444444,
              "#bd3786"
             ],
             [
              0.5555555555555556,
              "#d8576b"
             ],
             [
              0.6666666666666666,
              "#ed7953"
             ],
             [
              0.7777777777777778,
              "#fb9f3a"
             ],
             [
              0.8888888888888888,
              "#fdca26"
             ],
             [
              1,
              "#f0f921"
             ]
            ],
            "type": "histogram2dcontour"
           }
          ],
          "mesh3d": [
           {
            "colorbar": {
             "outlinewidth": 0,
             "ticks": ""
            },
            "type": "mesh3d"
           }
          ],
          "parcoords": [
           {
            "line": {
             "colorbar": {
              "outlinewidth": 0,
              "ticks": ""
             }
            },
            "type": "parcoords"
           }
          ],
          "pie": [
           {
            "automargin": true,
            "type": "pie"
           }
          ],
          "scatter": [
           {
            "fillpattern": {
             "fillmode": "overlay",
             "size": 10,
             "solidity": 0.2
            },
            "type": "scatter"
           }
          ],
          "scatter3d": [
           {
            "line": {
             "colorbar": {
              "outlinewidth": 0,
              "ticks": ""
             }
            },
            "marker": {
             "colorbar": {
              "outlinewidth": 0,
              "ticks": ""
             }
            },
            "type": "scatter3d"
           }
          ],
          "scattercarpet": [
           {
            "marker": {
             "colorbar": {
              "outlinewidth": 0,
              "ticks": ""
             }
            },
            "type": "scattercarpet"
           }
          ],
          "scattergeo": [
           {
            "marker": {
             "colorbar": {
              "outlinewidth": 0,
              "ticks": ""
             }
            },
            "type": "scattergeo"
           }
          ],
          "scattergl": [
           {
            "marker": {
             "colorbar": {
              "outlinewidth": 0,
              "ticks": ""
             }
            },
            "type": "scattergl"
           }
          ],
          "scattermap": [
           {
            "marker": {
             "colorbar": {
              "outlinewidth": 0,
              "ticks": ""
             }
            },
            "type": "scattermap"
           }
          ],
          "scattermapbox": [
           {
            "marker": {
             "colorbar": {
              "outlinewidth": 0,
              "ticks": ""
             }
            },
            "type": "scattermapbox"
           }
          ],
          "scatterpolar": [
           {
            "marker": {
             "colorbar": {
              "outlinewidth": 0,
              "ticks": ""
             }
            },
            "type": "scatterpolar"
           }
          ],
          "scatterpolargl": [
           {
            "marker": {
             "colorbar": {
              "outlinewidth": 0,
              "ticks": ""
             }
            },
            "type": "scatterpolargl"
           }
          ],
          "scatterternary": [
           {
            "marker": {
             "colorbar": {
              "outlinewidth": 0,
              "ticks": ""
             }
            },
            "type": "scatterternary"
           }
          ],
          "surface": [
           {
            "colorbar": {
             "outlinewidth": 0,
             "ticks": ""
            },
            "colorscale": [
             [
              0,
              "#0d0887"
             ],
             [
              0.1111111111111111,
              "#46039f"
             ],
             [
              0.2222222222222222,
              "#7201a8"
             ],
             [
              0.3333333333333333,
              "#9c179e"
             ],
             [
              0.4444444444444444,
              "#bd3786"
             ],
             [
              0.5555555555555556,
              "#d8576b"
             ],
             [
              0.6666666666666666,
              "#ed7953"
             ],
             [
              0.7777777777777778,
              "#fb9f3a"
             ],
             [
              0.8888888888888888,
              "#fdca26"
             ],
             [
              1,
              "#f0f921"
             ]
            ],
            "type": "surface"
           }
          ],
          "table": [
           {
            "cells": {
             "fill": {
              "color": "#EBF0F8"
             },
             "line": {
              "color": "white"
             }
            },
            "header": {
             "fill": {
              "color": "#C8D4E3"
             },
             "line": {
              "color": "white"
             }
            },
            "type": "table"
           }
          ]
         },
         "layout": {
          "annotationdefaults": {
           "arrowcolor": "#2a3f5f",
           "arrowhead": 0,
           "arrowwidth": 1
          },
          "autotypenumbers": "strict",
          "coloraxis": {
           "colorbar": {
            "outlinewidth": 0,
            "ticks": ""
           }
          },
          "colorscale": {
           "diverging": [
            [
             0,
             "#8e0152"
            ],
            [
             0.1,
             "#c51b7d"
            ],
            [
             0.2,
             "#de77ae"
            ],
            [
             0.3,
             "#f1b6da"
            ],
            [
             0.4,
             "#fde0ef"
            ],
            [
             0.5,
             "#f7f7f7"
            ],
            [
             0.6,
             "#e6f5d0"
            ],
            [
             0.7,
             "#b8e186"
            ],
            [
             0.8,
             "#7fbc41"
            ],
            [
             0.9,
             "#4d9221"
            ],
            [
             1,
             "#276419"
            ]
           ],
           "sequential": [
            [
             0,
             "#0d0887"
            ],
            [
             0.1111111111111111,
             "#46039f"
            ],
            [
             0.2222222222222222,
             "#7201a8"
            ],
            [
             0.3333333333333333,
             "#9c179e"
            ],
            [
             0.4444444444444444,
             "#bd3786"
            ],
            [
             0.5555555555555556,
             "#d8576b"
            ],
            [
             0.6666666666666666,
             "#ed7953"
            ],
            [
             0.7777777777777778,
             "#fb9f3a"
            ],
            [
             0.8888888888888888,
             "#fdca26"
            ],
            [
             1,
             "#f0f921"
            ]
           ],
           "sequentialminus": [
            [
             0,
             "#0d0887"
            ],
            [
             0.1111111111111111,
             "#46039f"
            ],
            [
             0.2222222222222222,
             "#7201a8"
            ],
            [
             0.3333333333333333,
             "#9c179e"
            ],
            [
             0.4444444444444444,
             "#bd3786"
            ],
            [
             0.5555555555555556,
             "#d8576b"
            ],
            [
             0.6666666666666666,
             "#ed7953"
            ],
            [
             0.7777777777777778,
             "#fb9f3a"
            ],
            [
             0.8888888888888888,
             "#fdca26"
            ],
            [
             1,
             "#f0f921"
            ]
           ]
          },
          "colorway": [
           "#636efa",
           "#EF553B",
           "#00cc96",
           "#ab63fa",
           "#FFA15A",
           "#19d3f3",
           "#FF6692",
           "#B6E880",
           "#FF97FF",
           "#FECB52"
          ],
          "font": {
           "color": "#2a3f5f"
          },
          "geo": {
           "bgcolor": "white",
           "lakecolor": "white",
           "landcolor": "#E5ECF6",
           "showlakes": true,
           "showland": true,
           "subunitcolor": "white"
          },
          "hoverlabel": {
           "align": "left"
          },
          "hovermode": "closest",
          "mapbox": {
           "style": "light"
          },
          "paper_bgcolor": "white",
          "plot_bgcolor": "#E5ECF6",
          "polar": {
           "angularaxis": {
            "gridcolor": "white",
            "linecolor": "white",
            "ticks": ""
           },
           "bgcolor": "#E5ECF6",
           "radialaxis": {
            "gridcolor": "white",
            "linecolor": "white",
            "ticks": ""
           }
          },
          "scene": {
           "xaxis": {
            "backgroundcolor": "#E5ECF6",
            "gridcolor": "white",
            "gridwidth": 2,
            "linecolor": "white",
            "showbackground": true,
            "ticks": "",
            "zerolinecolor": "white"
           },
           "yaxis": {
            "backgroundcolor": "#E5ECF6",
            "gridcolor": "white",
            "gridwidth": 2,
            "linecolor": "white",
            "showbackground": true,
            "ticks": "",
            "zerolinecolor": "white"
           },
           "zaxis": {
            "backgroundcolor": "#E5ECF6",
            "gridcolor": "white",
            "gridwidth": 2,
            "linecolor": "white",
            "showbackground": true,
            "ticks": "",
            "zerolinecolor": "white"
           }
          },
          "shapedefaults": {
           "line": {
            "color": "#2a3f5f"
           }
          },
          "ternary": {
           "aaxis": {
            "gridcolor": "white",
            "linecolor": "white",
            "ticks": ""
           },
           "baxis": {
            "gridcolor": "white",
            "linecolor": "white",
            "ticks": ""
           },
           "bgcolor": "#E5ECF6",
           "caxis": {
            "gridcolor": "white",
            "linecolor": "white",
            "ticks": ""
           }
          },
          "title": {
           "x": 0.05
          },
          "xaxis": {
           "automargin": true,
           "gridcolor": "white",
           "linecolor": "white",
           "ticks": "",
           "title": {
            "standoff": 15
           },
           "zerolinecolor": "white",
           "zerolinewidth": 2
          },
          "yaxis": {
           "automargin": true,
           "gridcolor": "white",
           "linecolor": "white",
           "ticks": "",
           "title": {
            "standoff": 15
           },
           "zerolinecolor": "white",
           "zerolinewidth": 2
          }
         }
        },
        "title": {
         "text": "Status de los Estados en las Simulaciones - Elecciones Presidenciales 2024"
        },
        "width": 1200
       }
      }
     },
     "metadata": {},
     "output_type": "display_data"
    }
   ],
   "source": [
    "# Crear el mapa coroplético usando Plotly Express con códigos de estado\n",
    "fig = px.choropleth(full_df_actual_state,\n",
    "                    locations='state_code',  # Usar la nueva columna con códigos de estado\n",
    "                    locationmode=\"USA-states\",  # Modo de localización para los códigos de estado\n",
    "                    color='Status',  # Métrica que deseas visualizar\n",
    "                    hover_name='state_code',  # Mostrar el código del estado en hover\n",
    "                    hover_data={\n",
    "                        'state_code': True,  # Mostrar el código del estado\n",
    "                        'Per_dem': ':.2%',  # Mostrar el porcentaje de Biden en formato de porcentaje\n",
    "                        'Per_gop': ':.2%'  # Mostrar el porcentaje de Trump en formato de porcentaje\n",
    "                    },\n",
    "                    scope='usa',  # Limitar el mapa a EE.UU.\n",
    "                    color_discrete_map={'Safe Democrat': '#3951a2', \n",
    "                                        'Likely Democrat': '#a3cef1', \n",
    "                                        'Toss-Up': '#b6b164', \n",
    "                                        'Likely Republican': '#d56062', \n",
    "                                        'Safe Republican': '#af2b39'},\n",
    "                    labels={\"Winner\": 'Ganador {ELECTORAL_YEAR}'},  # Etiqueta para la barra de color\n",
    "                    title=f\"Status de los Estados en las Simulaciones - Elecciones Presidenciales {ELECTORAL_YEAR}\"\n",
    "                   )\n",
    "\n",
    "# # Crear un nuevo rastro para añadir los códigos de los estados en el mapa\n",
    "# fig.add_trace(go.Scattergeo(\n",
    "#     locationmode='USA-states',\n",
    "#     locations=accumulated_pred_state['state_code'],  # Usar los códigos de los estados\n",
    "#     text=accumulated_pred_state['state_code'],  # Mostrar los códigos dentro del mapa\n",
    "#     mode='text',  # Solo texto\n",
    "#     textfont=dict(size=12, color=\"black\"),  # Tamaño y color de la fuente\n",
    "# ))\n",
    "\n",
    "# Ajustar el tamaño del gráfico\n",
    "fig.update_layout(\n",
    "    width=1200,  # Ajustar el ancho del gráfico\n",
    "    height=800   # Ajustar la altura del gráfico\n",
    ")\n",
    "\n",
    "\n",
    "\n",
    "# Ajustar visualización y mostrar el gráfico\n",
    "fig.update_geos(fitbounds=\"locations\", visible=False)  # Ajustar el mapa a las ubicaciones\n",
    "fig.show()\n"
   ]
  }
 ],
 "metadata": {
  "kernelspec": {
   "display_name": ".venv",
   "language": "python",
   "name": "python3"
  },
  "language_info": {
   "codemirror_mode": {
    "name": "ipython",
    "version": 3
   },
   "file_extension": ".py",
   "mimetype": "text/x-python",
   "name": "python",
   "nbconvert_exporter": "python",
   "pygments_lexer": "ipython3",
   "version": "3.9.6"
  }
 },
 "nbformat": 4,
 "nbformat_minor": 2
}
