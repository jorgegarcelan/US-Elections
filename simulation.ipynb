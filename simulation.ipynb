{
 "cells": [
  {
   "cell_type": "markdown",
   "metadata": {},
   "source": [
    "## 📊 Simulación"
   ]
  },
  {
   "cell_type": "markdown",
   "metadata": {},
   "source": [
    "🧑‍💻 Lucía Cordero | Jorge Garcelán"
   ]
  },
  {
   "cell_type": "markdown",
   "metadata": {},
   "source": [
    "![Election Results](https://elordenmundial.com/wp-content/uploads/2020/10/editable-portada-especial-.png)\n"
   ]
  },
  {
   "cell_type": "markdown",
   "metadata": {},
   "source": [
    "<div class=\"warning\" style='padding:0.1em; border-left: 4px solid #17a2b8; background-color:#e8f8ff;'>\n",
    "<span>\n",
    "<p style='margin-top:1em; margin-left:1em; text-align:left'>\n",
    "<b>💡Interpretación de la simulación</b></p>\n",
    "<p style='margin-left:1em;'>\n",
    "Imaginemos que estamos en el día de las elecciones y nos van llegando datos de condados (equivalentes a dataset de train) y queremos hacer un forecast de cómo van a acabar las elecciones, es decir, hacer un forecast de los condados que todavía no tenemos los datos (test). En ese sentido, podríamos hacer un modelo con los datos que sí tenemos (train) y predecir los condados que todavía no tenemos (test). Y así podemos repetir el proceso N veces y crear una simulación.\n",
    "</p>\n",
    "</span>\n",
    "</div>"
   ]
  },
  {
   "cell_type": "markdown",
   "metadata": {},
   "source": [
    "## Libraries"
   ]
  },
  {
   "cell_type": "code",
   "execution_count": 361,
   "metadata": {},
   "outputs": [],
   "source": [
    "import pandas as pd\n",
    "from pandas import read_csv\n",
    "import numpy as np\n",
    "from sklearn.linear_model import LinearRegression\n",
    "from sklearn.ensemble import RandomForestRegressor\n",
    "from sklearn.neighbors import KNeighborsRegressor\n",
    "from sklearn.model_selection import train_test_split\n",
    "import json\n",
    "import plotly.express as px\n",
    "import plotly.graph_objects as go\n",
    "import seaborn as sns\n",
    "import matplotlib.pyplot as plt\n",
    "from scipy.stats import gaussian_kde"
   ]
  },
  {
   "cell_type": "markdown",
   "metadata": {},
   "source": [
    "## Load data"
   ]
  },
  {
   "cell_type": "code",
   "execution_count": 362,
   "metadata": {},
   "outputs": [],
   "source": [
    "CENSUS_YEAR = 2023\n",
    "ELECTORAL_YEAR = CENSUS_YEAR + 1\n"
   ]
  },
  {
   "cell_type": "code",
   "execution_count": 363,
   "metadata": {},
   "outputs": [],
   "source": [
    "def load_seats_data(path, state_to_code):\n",
    "    # Cargar datos\n",
    "    seats_data = pd.read_csv(path, header=0, sep=\",\")\n",
    "\n",
    "    return seats_data"
   ]
  },
  {
   "cell_type": "code",
   "execution_count": 364,
   "metadata": {},
   "outputs": [],
   "source": [
    "# Cargar codigo de estados\n",
    "with open(\"data/state_to_code.json\", \"r\") as file:\n",
    "    state_to_code = json.load(file)\n",
    "\n",
    "\n",
    "# Cargar datos de escaños por estado\n",
    "seats_data = load_seats_data(f\"data/seats.csv\", state_to_code)\n",
    "\n",
    "# Cargar datos de state, county, fips\n",
    "state_fips_county = read_csv('data/state_fips_county.csv')\n",
    "state_names = state_fips_county['state']\n",
    "fips_codes = state_fips_county['fips']\n",
    "county_names = state_fips_county['county']"
   ]
  },
  {
   "cell_type": "markdown",
   "metadata": {},
   "source": [
    "### 2016"
   ]
  },
  {
   "cell_type": "code",
   "execution_count": 365,
   "metadata": {},
   "outputs": [],
   "source": [
    "# Cargar datos\n",
    "data_2016 = read_csv(f\"data/final_data_{2016}.csv\")"
   ]
  },
  {
   "cell_type": "code",
   "execution_count": 366,
   "metadata": {},
   "outputs": [
    {
     "data": {
      "text/html": [
       "<div>\n",
       "<style scoped>\n",
       "    .dataframe tbody tr th:only-of-type {\n",
       "        vertical-align: middle;\n",
       "    }\n",
       "\n",
       "    .dataframe tbody tr th {\n",
       "        vertical-align: top;\n",
       "    }\n",
       "\n",
       "    .dataframe thead th {\n",
       "        text-align: right;\n",
       "    }\n",
       "</style>\n",
       "<table border=\"1\" class=\"dataframe\">\n",
       "  <thead>\n",
       "    <tr style=\"text-align: right;\">\n",
       "      <th></th>\n",
       "      <th>state</th>\n",
       "      <th>state_code</th>\n",
       "      <th>ElectoralVotes2024</th>\n",
       "      <th>Votes_dem</th>\n",
       "      <th>Votes_gop</th>\n",
       "      <th>Votes_other</th>\n",
       "      <th>Votes_total</th>\n",
       "      <th>Per_dem_2016</th>\n",
       "      <th>Per_gop_2016</th>\n",
       "      <th>Winner</th>\n",
       "      <th>Difference</th>\n",
       "      <th>Status</th>\n",
       "    </tr>\n",
       "  </thead>\n",
       "  <tbody>\n",
       "    <tr>\n",
       "      <th>0</th>\n",
       "      <td>Alabama</td>\n",
       "      <td>AL</td>\n",
       "      <td>9</td>\n",
       "      <td>718084.0</td>\n",
       "      <td>1306925.0</td>\n",
       "      <td>53156.0</td>\n",
       "      <td>2078165.0</td>\n",
       "      <td>0.345538</td>\n",
       "      <td>0.628884</td>\n",
       "      <td>gop</td>\n",
       "      <td>-28.334661</td>\n",
       "      <td>Safe Republican</td>\n",
       "    </tr>\n",
       "    <tr>\n",
       "      <th>1</th>\n",
       "      <td>Arizona</td>\n",
       "      <td>AZ</td>\n",
       "      <td>11</td>\n",
       "      <td>936250.0</td>\n",
       "      <td>1021154.0</td>\n",
       "      <td>105406.0</td>\n",
       "      <td>2062810.0</td>\n",
       "      <td>0.453871</td>\n",
       "      <td>0.495031</td>\n",
       "      <td>gop</td>\n",
       "      <td>-4.115939</td>\n",
       "      <td>Likely Republican</td>\n",
       "    </tr>\n",
       "    <tr>\n",
       "      <th>2</th>\n",
       "      <td>Arkansas</td>\n",
       "      <td>AR</td>\n",
       "      <td>6</td>\n",
       "      <td>378729.0</td>\n",
       "      <td>677904.0</td>\n",
       "      <td>51982.0</td>\n",
       "      <td>1108615.0</td>\n",
       "      <td>0.341624</td>\n",
       "      <td>0.611487</td>\n",
       "      <td>gop</td>\n",
       "      <td>-26.986375</td>\n",
       "      <td>Safe Republican</td>\n",
       "    </tr>\n",
       "    <tr>\n",
       "      <th>3</th>\n",
       "      <td>California</td>\n",
       "      <td>CA</td>\n",
       "      <td>54</td>\n",
       "      <td>7362490.0</td>\n",
       "      <td>3916209.0</td>\n",
       "      <td>675618.0</td>\n",
       "      <td>11954317.0</td>\n",
       "      <td>0.615885</td>\n",
       "      <td>0.327598</td>\n",
       "      <td>dem</td>\n",
       "      <td>28.828757</td>\n",
       "      <td>Safe Democrat</td>\n",
       "    </tr>\n",
       "    <tr>\n",
       "      <th>4</th>\n",
       "      <td>Colorado</td>\n",
       "      <td>CO</td>\n",
       "      <td>10</td>\n",
       "      <td>1212209.0</td>\n",
       "      <td>1137455.0</td>\n",
       "      <td>214521.0</td>\n",
       "      <td>2564185.0</td>\n",
       "      <td>0.472746</td>\n",
       "      <td>0.443593</td>\n",
       "      <td>dem</td>\n",
       "      <td>2.915312</td>\n",
       "      <td>Likely Democrat</td>\n",
       "    </tr>\n",
       "    <tr>\n",
       "      <th>5</th>\n",
       "      <td>Connecticut</td>\n",
       "      <td>CT</td>\n",
       "      <td>7</td>\n",
       "      <td>884432.0</td>\n",
       "      <td>668266.0</td>\n",
       "      <td>70844.0</td>\n",
       "      <td>1623542.0</td>\n",
       "      <td>0.544755</td>\n",
       "      <td>0.411610</td>\n",
       "      <td>dem</td>\n",
       "      <td>13.314469</td>\n",
       "      <td>Safe Democrat</td>\n",
       "    </tr>\n",
       "    <tr>\n",
       "      <th>6</th>\n",
       "      <td>District of Columbia</td>\n",
       "      <td>DC</td>\n",
       "      <td>3</td>\n",
       "      <td>260223.0</td>\n",
       "      <td>11553.0</td>\n",
       "      <td>8496.0</td>\n",
       "      <td>280272.0</td>\n",
       "      <td>0.928466</td>\n",
       "      <td>0.041221</td>\n",
       "      <td>dem</td>\n",
       "      <td>88.724525</td>\n",
       "      <td>Safe Democrat</td>\n",
       "    </tr>\n",
       "    <tr>\n",
       "      <th>7</th>\n",
       "      <td>Delaware</td>\n",
       "      <td>DE</td>\n",
       "      <td>3</td>\n",
       "      <td>235581.0</td>\n",
       "      <td>185103.0</td>\n",
       "      <td>20851.0</td>\n",
       "      <td>441535.0</td>\n",
       "      <td>0.533550</td>\n",
       "      <td>0.419226</td>\n",
       "      <td>dem</td>\n",
       "      <td>11.432389</td>\n",
       "      <td>Safe Democrat</td>\n",
       "    </tr>\n",
       "    <tr>\n",
       "      <th>8</th>\n",
       "      <td>Florida</td>\n",
       "      <td>FL</td>\n",
       "      <td>30</td>\n",
       "      <td>4485745.0</td>\n",
       "      <td>4605515.0</td>\n",
       "      <td>295490.0</td>\n",
       "      <td>9386750.0</td>\n",
       "      <td>0.477881</td>\n",
       "      <td>0.490640</td>\n",
       "      <td>gop</td>\n",
       "      <td>-1.275947</td>\n",
       "      <td>Toss-Up</td>\n",
       "    </tr>\n",
       "    <tr>\n",
       "      <th>9</th>\n",
       "      <td>Georgia</td>\n",
       "      <td>GA</td>\n",
       "      <td>16</td>\n",
       "      <td>1837300.0</td>\n",
       "      <td>2068623.0</td>\n",
       "      <td>123641.0</td>\n",
       "      <td>4029564.0</td>\n",
       "      <td>0.455955</td>\n",
       "      <td>0.513361</td>\n",
       "      <td>gop</td>\n",
       "      <td>-5.740646</td>\n",
       "      <td>Likely Republican</td>\n",
       "    </tr>\n",
       "    <tr>\n",
       "      <th>10</th>\n",
       "      <td>Hawaii</td>\n",
       "      <td>HI</td>\n",
       "      <td>4</td>\n",
       "      <td>266827.0</td>\n",
       "      <td>128815.0</td>\n",
       "      <td>33183.0</td>\n",
       "      <td>428825.0</td>\n",
       "      <td>0.622228</td>\n",
       "      <td>0.300391</td>\n",
       "      <td>dem</td>\n",
       "      <td>32.183758</td>\n",
       "      <td>Safe Democrat</td>\n",
       "    </tr>\n",
       "    <tr>\n",
       "      <th>11</th>\n",
       "      <td>Idaho</td>\n",
       "      <td>ID</td>\n",
       "      <td>4</td>\n",
       "      <td>189677.0</td>\n",
       "      <td>407199.0</td>\n",
       "      <td>91359.0</td>\n",
       "      <td>688235.0</td>\n",
       "      <td>0.275599</td>\n",
       "      <td>0.591657</td>\n",
       "      <td>gop</td>\n",
       "      <td>-31.605774</td>\n",
       "      <td>Safe Republican</td>\n",
       "    </tr>\n",
       "    <tr>\n",
       "      <th>12</th>\n",
       "      <td>Illinois</td>\n",
       "      <td>IL</td>\n",
       "      <td>19</td>\n",
       "      <td>2977498.0</td>\n",
       "      <td>2118179.0</td>\n",
       "      <td>278603.0</td>\n",
       "      <td>5374280.0</td>\n",
       "      <td>0.554027</td>\n",
       "      <td>0.394133</td>\n",
       "      <td>dem</td>\n",
       "      <td>15.989472</td>\n",
       "      <td>Safe Democrat</td>\n",
       "    </tr>\n",
       "    <tr>\n",
       "      <th>13</th>\n",
       "      <td>Indiana</td>\n",
       "      <td>IN</td>\n",
       "      <td>11</td>\n",
       "      <td>1031953.0</td>\n",
       "      <td>1556220.0</td>\n",
       "      <td>133856.0</td>\n",
       "      <td>2722029.0</td>\n",
       "      <td>0.379112</td>\n",
       "      <td>0.571713</td>\n",
       "      <td>gop</td>\n",
       "      <td>-19.260155</td>\n",
       "      <td>Safe Republican</td>\n",
       "    </tr>\n",
       "    <tr>\n",
       "      <th>14</th>\n",
       "      <td>Iowa</td>\n",
       "      <td>IA</td>\n",
       "      <td>6</td>\n",
       "      <td>650790.0</td>\n",
       "      <td>798923.0</td>\n",
       "      <td>93167.0</td>\n",
       "      <td>1542880.0</td>\n",
       "      <td>0.421802</td>\n",
       "      <td>0.517813</td>\n",
       "      <td>gop</td>\n",
       "      <td>-9.601071</td>\n",
       "      <td>Likely Republican</td>\n",
       "    </tr>\n",
       "    <tr>\n",
       "      <th>15</th>\n",
       "      <td>Kansas</td>\n",
       "      <td>KS</td>\n",
       "      <td>6</td>\n",
       "      <td>414788.0</td>\n",
       "      <td>656009.0</td>\n",
       "      <td>76346.0</td>\n",
       "      <td>1147143.0</td>\n",
       "      <td>0.361584</td>\n",
       "      <td>0.571863</td>\n",
       "      <td>gop</td>\n",
       "      <td>-21.027980</td>\n",
       "      <td>Safe Republican</td>\n",
       "    </tr>\n",
       "    <tr>\n",
       "      <th>16</th>\n",
       "      <td>Kentucky</td>\n",
       "      <td>KY</td>\n",
       "      <td>8</td>\n",
       "      <td>628834.0</td>\n",
       "      <td>1202942.0</td>\n",
       "      <td>90442.0</td>\n",
       "      <td>1922218.0</td>\n",
       "      <td>0.327140</td>\n",
       "      <td>0.625809</td>\n",
       "      <td>gop</td>\n",
       "      <td>-29.866956</td>\n",
       "      <td>Safe Republican</td>\n",
       "    </tr>\n",
       "    <tr>\n",
       "      <th>17</th>\n",
       "      <td>Louisiana</td>\n",
       "      <td>LA</td>\n",
       "      <td>8</td>\n",
       "      <td>779535.0</td>\n",
       "      <td>1178004.0</td>\n",
       "      <td>70192.0</td>\n",
       "      <td>2027731.0</td>\n",
       "      <td>0.384437</td>\n",
       "      <td>0.580947</td>\n",
       "      <td>gop</td>\n",
       "      <td>-19.650979</td>\n",
       "      <td>Safe Republican</td>\n",
       "    </tr>\n",
       "    <tr>\n",
       "      <th>18</th>\n",
       "      <td>Maine</td>\n",
       "      <td>ME</td>\n",
       "      <td>4</td>\n",
       "      <td>354873.0</td>\n",
       "      <td>334838.0</td>\n",
       "      <td>51839.0</td>\n",
       "      <td>741550.0</td>\n",
       "      <td>0.478556</td>\n",
       "      <td>0.451538</td>\n",
       "      <td>dem</td>\n",
       "      <td>2.701773</td>\n",
       "      <td>Likely Democrat</td>\n",
       "    </tr>\n",
       "    <tr>\n",
       "      <th>19</th>\n",
       "      <td>Maryland</td>\n",
       "      <td>MD</td>\n",
       "      <td>10</td>\n",
       "      <td>1497951.0</td>\n",
       "      <td>873646.0</td>\n",
       "      <td>102946.0</td>\n",
       "      <td>2474543.0</td>\n",
       "      <td>0.605345</td>\n",
       "      <td>0.353053</td>\n",
       "      <td>dem</td>\n",
       "      <td>25.229103</td>\n",
       "      <td>Safe Democrat</td>\n",
       "    </tr>\n",
       "    <tr>\n",
       "      <th>20</th>\n",
       "      <td>Massachusetts</td>\n",
       "      <td>MA</td>\n",
       "      <td>11</td>\n",
       "      <td>1964768.0</td>\n",
       "      <td>1083069.0</td>\n",
       "      <td>183694.0</td>\n",
       "      <td>3231531.0</td>\n",
       "      <td>0.607999</td>\n",
       "      <td>0.335157</td>\n",
       "      <td>dem</td>\n",
       "      <td>27.284250</td>\n",
       "      <td>Safe Democrat</td>\n",
       "    </tr>\n",
       "    <tr>\n",
       "      <th>21</th>\n",
       "      <td>Michigan</td>\n",
       "      <td>MI</td>\n",
       "      <td>15</td>\n",
       "      <td>2268193.0</td>\n",
       "      <td>2279805.0</td>\n",
       "      <td>242919.0</td>\n",
       "      <td>4790917.0</td>\n",
       "      <td>0.473436</td>\n",
       "      <td>0.475860</td>\n",
       "      <td>gop</td>\n",
       "      <td>-0.242375</td>\n",
       "      <td>Toss-Up</td>\n",
       "    </tr>\n",
       "    <tr>\n",
       "      <th>22</th>\n",
       "      <td>Minnesota</td>\n",
       "      <td>MN</td>\n",
       "      <td>10</td>\n",
       "      <td>1366676.0</td>\n",
       "      <td>1322891.0</td>\n",
       "      <td>226837.0</td>\n",
       "      <td>2916404.0</td>\n",
       "      <td>0.468617</td>\n",
       "      <td>0.453603</td>\n",
       "      <td>dem</td>\n",
       "      <td>1.501335</td>\n",
       "      <td>Toss-Up</td>\n",
       "    </tr>\n",
       "    <tr>\n",
       "      <th>23</th>\n",
       "      <td>Mississippi</td>\n",
       "      <td>MS</td>\n",
       "      <td>6</td>\n",
       "      <td>462001.0</td>\n",
       "      <td>678457.0</td>\n",
       "      <td>22529.0</td>\n",
       "      <td>1162987.0</td>\n",
       "      <td>0.397254</td>\n",
       "      <td>0.583375</td>\n",
       "      <td>gop</td>\n",
       "      <td>-18.612074</td>\n",
       "      <td>Safe Republican</td>\n",
       "    </tr>\n",
       "    <tr>\n",
       "      <th>24</th>\n",
       "      <td>Missouri</td>\n",
       "      <td>MO</td>\n",
       "      <td>10</td>\n",
       "      <td>1054889.0</td>\n",
       "      <td>1585753.0</td>\n",
       "      <td>134456.0</td>\n",
       "      <td>2775098.0</td>\n",
       "      <td>0.380127</td>\n",
       "      <td>0.571422</td>\n",
       "      <td>gop</td>\n",
       "      <td>-19.129559</td>\n",
       "      <td>Safe Republican</td>\n",
       "    </tr>\n",
       "    <tr>\n",
       "      <th>25</th>\n",
       "      <td>Montana</td>\n",
       "      <td>MT</td>\n",
       "      <td>4</td>\n",
       "      <td>174521.0</td>\n",
       "      <td>274120.0</td>\n",
       "      <td>34933.0</td>\n",
       "      <td>483574.0</td>\n",
       "      <td>0.360898</td>\n",
       "      <td>0.566863</td>\n",
       "      <td>gop</td>\n",
       "      <td>-20.596434</td>\n",
       "      <td>Safe Republican</td>\n",
       "    </tr>\n",
       "    <tr>\n",
       "      <th>26</th>\n",
       "      <td>Nebraska</td>\n",
       "      <td>NE</td>\n",
       "      <td>5</td>\n",
       "      <td>273858.0</td>\n",
       "      <td>485819.0</td>\n",
       "      <td>45961.0</td>\n",
       "      <td>805638.0</td>\n",
       "      <td>0.339927</td>\n",
       "      <td>0.603024</td>\n",
       "      <td>gop</td>\n",
       "      <td>-26.309707</td>\n",
       "      <td>Safe Republican</td>\n",
       "    </tr>\n",
       "    <tr>\n",
       "      <th>27</th>\n",
       "      <td>Nevada</td>\n",
       "      <td>NV</td>\n",
       "      <td>6</td>\n",
       "      <td>537001.0</td>\n",
       "      <td>509703.0</td>\n",
       "      <td>73728.0</td>\n",
       "      <td>1120432.0</td>\n",
       "      <td>0.479280</td>\n",
       "      <td>0.454916</td>\n",
       "      <td>dem</td>\n",
       "      <td>2.436382</td>\n",
       "      <td>Toss-Up</td>\n",
       "    </tr>\n",
       "    <tr>\n",
       "      <th>28</th>\n",
       "      <td>New Hampshire</td>\n",
       "      <td>NH</td>\n",
       "      <td>4</td>\n",
       "      <td>348521.0</td>\n",
       "      <td>345789.0</td>\n",
       "      <td>37243.0</td>\n",
       "      <td>731553.0</td>\n",
       "      <td>0.476413</td>\n",
       "      <td>0.472678</td>\n",
       "      <td>dem</td>\n",
       "      <td>0.373452</td>\n",
       "      <td>Toss-Up</td>\n",
       "    </tr>\n",
       "    <tr>\n",
       "      <th>29</th>\n",
       "      <td>New Jersey</td>\n",
       "      <td>NJ</td>\n",
       "      <td>14</td>\n",
       "      <td>2021756.0</td>\n",
       "      <td>1535513.0</td>\n",
       "      <td>117624.0</td>\n",
       "      <td>3674893.0</td>\n",
       "      <td>0.550154</td>\n",
       "      <td>0.417839</td>\n",
       "      <td>dem</td>\n",
       "      <td>13.231487</td>\n",
       "      <td>Safe Democrat</td>\n",
       "    </tr>\n",
       "    <tr>\n",
       "      <th>30</th>\n",
       "      <td>New Mexico</td>\n",
       "      <td>NM</td>\n",
       "      <td>5</td>\n",
       "      <td>380724.0</td>\n",
       "      <td>315875.0</td>\n",
       "      <td>86528.0</td>\n",
       "      <td>783127.0</td>\n",
       "      <td>0.486159</td>\n",
       "      <td>0.403351</td>\n",
       "      <td>dem</td>\n",
       "      <td>8.280777</td>\n",
       "      <td>Likely Democrat</td>\n",
       "    </tr>\n",
       "    <tr>\n",
       "      <th>31</th>\n",
       "      <td>New York</td>\n",
       "      <td>NY</td>\n",
       "      <td>28</td>\n",
       "      <td>4143874.0</td>\n",
       "      <td>2640570.0</td>\n",
       "      <td>261731.0</td>\n",
       "      <td>7046175.0</td>\n",
       "      <td>0.588103</td>\n",
       "      <td>0.374752</td>\n",
       "      <td>dem</td>\n",
       "      <td>21.335036</td>\n",
       "      <td>Safe Democrat</td>\n",
       "    </tr>\n",
       "    <tr>\n",
       "      <th>32</th>\n",
       "      <td>North Carolina</td>\n",
       "      <td>NC</td>\n",
       "      <td>16</td>\n",
       "      <td>2162074.0</td>\n",
       "      <td>2339603.0</td>\n",
       "      <td>127794.0</td>\n",
       "      <td>4629471.0</td>\n",
       "      <td>0.467024</td>\n",
       "      <td>0.505372</td>\n",
       "      <td>gop</td>\n",
       "      <td>-3.834758</td>\n",
       "      <td>Likely Republican</td>\n",
       "    </tr>\n",
       "    <tr>\n",
       "      <th>33</th>\n",
       "      <td>North Dakota</td>\n",
       "      <td>ND</td>\n",
       "      <td>3</td>\n",
       "      <td>93526.0</td>\n",
       "      <td>216133.0</td>\n",
       "      <td>27309.0</td>\n",
       "      <td>336968.0</td>\n",
       "      <td>0.277552</td>\n",
       "      <td>0.641405</td>\n",
       "      <td>gop</td>\n",
       "      <td>-36.385354</td>\n",
       "      <td>Safe Republican</td>\n",
       "    </tr>\n",
       "    <tr>\n",
       "      <th>34</th>\n",
       "      <td>Ohio</td>\n",
       "      <td>OH</td>\n",
       "      <td>17</td>\n",
       "      <td>2317001.0</td>\n",
       "      <td>2771984.0</td>\n",
       "      <td>236410.0</td>\n",
       "      <td>5325395.0</td>\n",
       "      <td>0.435085</td>\n",
       "      <td>0.520522</td>\n",
       "      <td>gop</td>\n",
       "      <td>-8.543648</td>\n",
       "      <td>Likely Republican</td>\n",
       "    </tr>\n",
       "    <tr>\n",
       "      <th>35</th>\n",
       "      <td>Oklahoma</td>\n",
       "      <td>OK</td>\n",
       "      <td>7</td>\n",
       "      <td>419788.0</td>\n",
       "      <td>947934.0</td>\n",
       "      <td>83334.0</td>\n",
       "      <td>1451056.0</td>\n",
       "      <td>0.289298</td>\n",
       "      <td>0.653272</td>\n",
       "      <td>gop</td>\n",
       "      <td>-36.397355</td>\n",
       "      <td>Safe Republican</td>\n",
       "    </tr>\n",
       "    <tr>\n",
       "      <th>36</th>\n",
       "      <td>Oregon</td>\n",
       "      <td>OR</td>\n",
       "      <td>8</td>\n",
       "      <td>934631.0</td>\n",
       "      <td>742506.0</td>\n",
       "      <td>131438.0</td>\n",
       "      <td>1808575.0</td>\n",
       "      <td>0.516778</td>\n",
       "      <td>0.410548</td>\n",
       "      <td>dem</td>\n",
       "      <td>10.623004</td>\n",
       "      <td>Safe Democrat</td>\n",
       "    </tr>\n",
       "    <tr>\n",
       "      <th>37</th>\n",
       "      <td>Pennsylvania</td>\n",
       "      <td>PA</td>\n",
       "      <td>19</td>\n",
       "      <td>2844705.0</td>\n",
       "      <td>2912941.0</td>\n",
       "      <td>212461.0</td>\n",
       "      <td>5970107.0</td>\n",
       "      <td>0.476491</td>\n",
       "      <td>0.487921</td>\n",
       "      <td>gop</td>\n",
       "      <td>-1.142961</td>\n",
       "      <td>Toss-Up</td>\n",
       "    </tr>\n",
       "    <tr>\n",
       "      <th>38</th>\n",
       "      <td>Rhode Island</td>\n",
       "      <td>RI</td>\n",
       "      <td>4</td>\n",
       "      <td>249902.0</td>\n",
       "      <td>179421.0</td>\n",
       "      <td>20798.0</td>\n",
       "      <td>450121.0</td>\n",
       "      <td>0.555188</td>\n",
       "      <td>0.398606</td>\n",
       "      <td>dem</td>\n",
       "      <td>15.658234</td>\n",
       "      <td>Safe Democrat</td>\n",
       "    </tr>\n",
       "    <tr>\n",
       "      <th>39</th>\n",
       "      <td>South Carolina</td>\n",
       "      <td>SC</td>\n",
       "      <td>9</td>\n",
       "      <td>849469.0</td>\n",
       "      <td>1143611.0</td>\n",
       "      <td>91364.0</td>\n",
       "      <td>2084444.0</td>\n",
       "      <td>0.407528</td>\n",
       "      <td>0.548641</td>\n",
       "      <td>gop</td>\n",
       "      <td>-14.111293</td>\n",
       "      <td>Safe Republican</td>\n",
       "    </tr>\n",
       "    <tr>\n",
       "      <th>40</th>\n",
       "      <td>South Dakota</td>\n",
       "      <td>SD</td>\n",
       "      <td>3</td>\n",
       "      <td>114938.0</td>\n",
       "      <td>227460.0</td>\n",
       "      <td>24753.0</td>\n",
       "      <td>367151.0</td>\n",
       "      <td>0.313054</td>\n",
       "      <td>0.619527</td>\n",
       "      <td>gop</td>\n",
       "      <td>-30.647336</td>\n",
       "      <td>Safe Republican</td>\n",
       "    </tr>\n",
       "    <tr>\n",
       "      <th>41</th>\n",
       "      <td>Tennessee</td>\n",
       "      <td>TN</td>\n",
       "      <td>11</td>\n",
       "      <td>867110.0</td>\n",
       "      <td>1517402.0</td>\n",
       "      <td>100179.0</td>\n",
       "      <td>2484691.0</td>\n",
       "      <td>0.348981</td>\n",
       "      <td>0.610700</td>\n",
       "      <td>gop</td>\n",
       "      <td>-26.171947</td>\n",
       "      <td>Safe Republican</td>\n",
       "    </tr>\n",
       "    <tr>\n",
       "      <th>42</th>\n",
       "      <td>Texas</td>\n",
       "      <td>TX</td>\n",
       "      <td>40</td>\n",
       "      <td>3867713.0</td>\n",
       "      <td>4681449.0</td>\n",
       "      <td>353825.0</td>\n",
       "      <td>8902987.0</td>\n",
       "      <td>0.434429</td>\n",
       "      <td>0.525829</td>\n",
       "      <td>gop</td>\n",
       "      <td>-9.140034</td>\n",
       "      <td>Likely Republican</td>\n",
       "    </tr>\n",
       "    <tr>\n",
       "      <th>43</th>\n",
       "      <td>Utah</td>\n",
       "      <td>UT</td>\n",
       "      <td>6</td>\n",
       "      <td>274188.0</td>\n",
       "      <td>452086.0</td>\n",
       "      <td>258683.0</td>\n",
       "      <td>984957.0</td>\n",
       "      <td>0.278376</td>\n",
       "      <td>0.458991</td>\n",
       "      <td>gop</td>\n",
       "      <td>-18.061499</td>\n",
       "      <td>Safe Republican</td>\n",
       "    </tr>\n",
       "    <tr>\n",
       "      <th>44</th>\n",
       "      <td>Vermont</td>\n",
       "      <td>VT</td>\n",
       "      <td>3</td>\n",
       "      <td>178179.0</td>\n",
       "      <td>95053.0</td>\n",
       "      <td>18181.0</td>\n",
       "      <td>291413.0</td>\n",
       "      <td>0.611431</td>\n",
       "      <td>0.326180</td>\n",
       "      <td>dem</td>\n",
       "      <td>28.525152</td>\n",
       "      <td>Safe Democrat</td>\n",
       "    </tr>\n",
       "    <tr>\n",
       "      <th>45</th>\n",
       "      <td>Virginia</td>\n",
       "      <td>VA</td>\n",
       "      <td>13</td>\n",
       "      <td>1916845.0</td>\n",
       "      <td>1731156.0</td>\n",
       "      <td>196786.0</td>\n",
       "      <td>3844787.0</td>\n",
       "      <td>0.498557</td>\n",
       "      <td>0.450261</td>\n",
       "      <td>dem</td>\n",
       "      <td>4.829630</td>\n",
       "      <td>Likely Democrat</td>\n",
       "    </tr>\n",
       "    <tr>\n",
       "      <th>46</th>\n",
       "      <td>Washington</td>\n",
       "      <td>WA</td>\n",
       "      <td>12</td>\n",
       "      <td>1610524.0</td>\n",
       "      <td>1129120.0</td>\n",
       "      <td>218298.0</td>\n",
       "      <td>2957942.0</td>\n",
       "      <td>0.544475</td>\n",
       "      <td>0.381725</td>\n",
       "      <td>dem</td>\n",
       "      <td>16.274964</td>\n",
       "      <td>Safe Democrat</td>\n",
       "    </tr>\n",
       "    <tr>\n",
       "      <th>47</th>\n",
       "      <td>West Virginia</td>\n",
       "      <td>WV</td>\n",
       "      <td>4</td>\n",
       "      <td>187457.0</td>\n",
       "      <td>486198.0</td>\n",
       "      <td>34571.0</td>\n",
       "      <td>708226.0</td>\n",
       "      <td>0.264685</td>\n",
       "      <td>0.686501</td>\n",
       "      <td>gop</td>\n",
       "      <td>-42.181592</td>\n",
       "      <td>Safe Republican</td>\n",
       "    </tr>\n",
       "    <tr>\n",
       "      <th>48</th>\n",
       "      <td>Wisconsin</td>\n",
       "      <td>WI</td>\n",
       "      <td>10</td>\n",
       "      <td>1380823.0</td>\n",
       "      <td>1403694.0</td>\n",
       "      <td>152809.0</td>\n",
       "      <td>2937326.0</td>\n",
       "      <td>0.470095</td>\n",
       "      <td>0.477882</td>\n",
       "      <td>gop</td>\n",
       "      <td>-0.778633</td>\n",
       "      <td>Toss-Up</td>\n",
       "    </tr>\n",
       "    <tr>\n",
       "      <th>49</th>\n",
       "      <td>Wyoming</td>\n",
       "      <td>WY</td>\n",
       "      <td>3</td>\n",
       "      <td>55949.0</td>\n",
       "      <td>174248.0</td>\n",
       "      <td>18545.0</td>\n",
       "      <td>248742.0</td>\n",
       "      <td>0.224928</td>\n",
       "      <td>0.700517</td>\n",
       "      <td>gop</td>\n",
       "      <td>-47.558916</td>\n",
       "      <td>Safe Republican</td>\n",
       "    </tr>\n",
       "  </tbody>\n",
       "</table>\n",
       "</div>"
      ],
      "text/plain": [
       "                   state state_code  ElectoralVotes2024  Votes_dem  Votes_gop  \\\n",
       "0                Alabama         AL                   9   718084.0  1306925.0   \n",
       "1                Arizona         AZ                  11   936250.0  1021154.0   \n",
       "2               Arkansas         AR                   6   378729.0   677904.0   \n",
       "3             California         CA                  54  7362490.0  3916209.0   \n",
       "4               Colorado         CO                  10  1212209.0  1137455.0   \n",
       "5            Connecticut         CT                   7   884432.0   668266.0   \n",
       "6   District of Columbia         DC                   3   260223.0    11553.0   \n",
       "7               Delaware         DE                   3   235581.0   185103.0   \n",
       "8                Florida         FL                  30  4485745.0  4605515.0   \n",
       "9                Georgia         GA                  16  1837300.0  2068623.0   \n",
       "10                Hawaii         HI                   4   266827.0   128815.0   \n",
       "11                 Idaho         ID                   4   189677.0   407199.0   \n",
       "12              Illinois         IL                  19  2977498.0  2118179.0   \n",
       "13               Indiana         IN                  11  1031953.0  1556220.0   \n",
       "14                  Iowa         IA                   6   650790.0   798923.0   \n",
       "15                Kansas         KS                   6   414788.0   656009.0   \n",
       "16              Kentucky         KY                   8   628834.0  1202942.0   \n",
       "17             Louisiana         LA                   8   779535.0  1178004.0   \n",
       "18                 Maine         ME                   4   354873.0   334838.0   \n",
       "19              Maryland         MD                  10  1497951.0   873646.0   \n",
       "20         Massachusetts         MA                  11  1964768.0  1083069.0   \n",
       "21              Michigan         MI                  15  2268193.0  2279805.0   \n",
       "22             Minnesota         MN                  10  1366676.0  1322891.0   \n",
       "23           Mississippi         MS                   6   462001.0   678457.0   \n",
       "24              Missouri         MO                  10  1054889.0  1585753.0   \n",
       "25               Montana         MT                   4   174521.0   274120.0   \n",
       "26              Nebraska         NE                   5   273858.0   485819.0   \n",
       "27                Nevada         NV                   6   537001.0   509703.0   \n",
       "28         New Hampshire         NH                   4   348521.0   345789.0   \n",
       "29            New Jersey         NJ                  14  2021756.0  1535513.0   \n",
       "30            New Mexico         NM                   5   380724.0   315875.0   \n",
       "31              New York         NY                  28  4143874.0  2640570.0   \n",
       "32        North Carolina         NC                  16  2162074.0  2339603.0   \n",
       "33          North Dakota         ND                   3    93526.0   216133.0   \n",
       "34                  Ohio         OH                  17  2317001.0  2771984.0   \n",
       "35              Oklahoma         OK                   7   419788.0   947934.0   \n",
       "36                Oregon         OR                   8   934631.0   742506.0   \n",
       "37          Pennsylvania         PA                  19  2844705.0  2912941.0   \n",
       "38          Rhode Island         RI                   4   249902.0   179421.0   \n",
       "39        South Carolina         SC                   9   849469.0  1143611.0   \n",
       "40          South Dakota         SD                   3   114938.0   227460.0   \n",
       "41             Tennessee         TN                  11   867110.0  1517402.0   \n",
       "42                 Texas         TX                  40  3867713.0  4681449.0   \n",
       "43                  Utah         UT                   6   274188.0   452086.0   \n",
       "44               Vermont         VT                   3   178179.0    95053.0   \n",
       "45              Virginia         VA                  13  1916845.0  1731156.0   \n",
       "46            Washington         WA                  12  1610524.0  1129120.0   \n",
       "47         West Virginia         WV                   4   187457.0   486198.0   \n",
       "48             Wisconsin         WI                  10  1380823.0  1403694.0   \n",
       "49               Wyoming         WY                   3    55949.0   174248.0   \n",
       "\n",
       "    Votes_other  Votes_total  Per_dem_2016  Per_gop_2016 Winner  Difference  \\\n",
       "0       53156.0    2078165.0      0.345538      0.628884    gop  -28.334661   \n",
       "1      105406.0    2062810.0      0.453871      0.495031    gop   -4.115939   \n",
       "2       51982.0    1108615.0      0.341624      0.611487    gop  -26.986375   \n",
       "3      675618.0   11954317.0      0.615885      0.327598    dem   28.828757   \n",
       "4      214521.0    2564185.0      0.472746      0.443593    dem    2.915312   \n",
       "5       70844.0    1623542.0      0.544755      0.411610    dem   13.314469   \n",
       "6        8496.0     280272.0      0.928466      0.041221    dem   88.724525   \n",
       "7       20851.0     441535.0      0.533550      0.419226    dem   11.432389   \n",
       "8      295490.0    9386750.0      0.477881      0.490640    gop   -1.275947   \n",
       "9      123641.0    4029564.0      0.455955      0.513361    gop   -5.740646   \n",
       "10      33183.0     428825.0      0.622228      0.300391    dem   32.183758   \n",
       "11      91359.0     688235.0      0.275599      0.591657    gop  -31.605774   \n",
       "12     278603.0    5374280.0      0.554027      0.394133    dem   15.989472   \n",
       "13     133856.0    2722029.0      0.379112      0.571713    gop  -19.260155   \n",
       "14      93167.0    1542880.0      0.421802      0.517813    gop   -9.601071   \n",
       "15      76346.0    1147143.0      0.361584      0.571863    gop  -21.027980   \n",
       "16      90442.0    1922218.0      0.327140      0.625809    gop  -29.866956   \n",
       "17      70192.0    2027731.0      0.384437      0.580947    gop  -19.650979   \n",
       "18      51839.0     741550.0      0.478556      0.451538    dem    2.701773   \n",
       "19     102946.0    2474543.0      0.605345      0.353053    dem   25.229103   \n",
       "20     183694.0    3231531.0      0.607999      0.335157    dem   27.284250   \n",
       "21     242919.0    4790917.0      0.473436      0.475860    gop   -0.242375   \n",
       "22     226837.0    2916404.0      0.468617      0.453603    dem    1.501335   \n",
       "23      22529.0    1162987.0      0.397254      0.583375    gop  -18.612074   \n",
       "24     134456.0    2775098.0      0.380127      0.571422    gop  -19.129559   \n",
       "25      34933.0     483574.0      0.360898      0.566863    gop  -20.596434   \n",
       "26      45961.0     805638.0      0.339927      0.603024    gop  -26.309707   \n",
       "27      73728.0    1120432.0      0.479280      0.454916    dem    2.436382   \n",
       "28      37243.0     731553.0      0.476413      0.472678    dem    0.373452   \n",
       "29     117624.0    3674893.0      0.550154      0.417839    dem   13.231487   \n",
       "30      86528.0     783127.0      0.486159      0.403351    dem    8.280777   \n",
       "31     261731.0    7046175.0      0.588103      0.374752    dem   21.335036   \n",
       "32     127794.0    4629471.0      0.467024      0.505372    gop   -3.834758   \n",
       "33      27309.0     336968.0      0.277552      0.641405    gop  -36.385354   \n",
       "34     236410.0    5325395.0      0.435085      0.520522    gop   -8.543648   \n",
       "35      83334.0    1451056.0      0.289298      0.653272    gop  -36.397355   \n",
       "36     131438.0    1808575.0      0.516778      0.410548    dem   10.623004   \n",
       "37     212461.0    5970107.0      0.476491      0.487921    gop   -1.142961   \n",
       "38      20798.0     450121.0      0.555188      0.398606    dem   15.658234   \n",
       "39      91364.0    2084444.0      0.407528      0.548641    gop  -14.111293   \n",
       "40      24753.0     367151.0      0.313054      0.619527    gop  -30.647336   \n",
       "41     100179.0    2484691.0      0.348981      0.610700    gop  -26.171947   \n",
       "42     353825.0    8902987.0      0.434429      0.525829    gop   -9.140034   \n",
       "43     258683.0     984957.0      0.278376      0.458991    gop  -18.061499   \n",
       "44      18181.0     291413.0      0.611431      0.326180    dem   28.525152   \n",
       "45     196786.0    3844787.0      0.498557      0.450261    dem    4.829630   \n",
       "46     218298.0    2957942.0      0.544475      0.381725    dem   16.274964   \n",
       "47      34571.0     708226.0      0.264685      0.686501    gop  -42.181592   \n",
       "48     152809.0    2937326.0      0.470095      0.477882    gop   -0.778633   \n",
       "49      18545.0     248742.0      0.224928      0.700517    gop  -47.558916   \n",
       "\n",
       "               Status  \n",
       "0     Safe Republican  \n",
       "1   Likely Republican  \n",
       "2     Safe Republican  \n",
       "3       Safe Democrat  \n",
       "4     Likely Democrat  \n",
       "5       Safe Democrat  \n",
       "6       Safe Democrat  \n",
       "7       Safe Democrat  \n",
       "8             Toss-Up  \n",
       "9   Likely Republican  \n",
       "10      Safe Democrat  \n",
       "11    Safe Republican  \n",
       "12      Safe Democrat  \n",
       "13    Safe Republican  \n",
       "14  Likely Republican  \n",
       "15    Safe Republican  \n",
       "16    Safe Republican  \n",
       "17    Safe Republican  \n",
       "18    Likely Democrat  \n",
       "19      Safe Democrat  \n",
       "20      Safe Democrat  \n",
       "21            Toss-Up  \n",
       "22            Toss-Up  \n",
       "23    Safe Republican  \n",
       "24    Safe Republican  \n",
       "25    Safe Republican  \n",
       "26    Safe Republican  \n",
       "27            Toss-Up  \n",
       "28            Toss-Up  \n",
       "29      Safe Democrat  \n",
       "30    Likely Democrat  \n",
       "31      Safe Democrat  \n",
       "32  Likely Republican  \n",
       "33    Safe Republican  \n",
       "34  Likely Republican  \n",
       "35    Safe Republican  \n",
       "36      Safe Democrat  \n",
       "37            Toss-Up  \n",
       "38      Safe Democrat  \n",
       "39    Safe Republican  \n",
       "40    Safe Republican  \n",
       "41    Safe Republican  \n",
       "42  Likely Republican  \n",
       "43    Safe Republican  \n",
       "44      Safe Democrat  \n",
       "45    Likely Democrat  \n",
       "46      Safe Democrat  \n",
       "47    Safe Republican  \n",
       "48            Toss-Up  \n",
       "49    Safe Republican  "
      ]
     },
     "execution_count": 366,
     "metadata": {},
     "output_type": "execute_result"
    }
   ],
   "source": [
    "# Cargar datos electorales reales\n",
    "df_actual = pd.DataFrame({'Votes_dem': data_2016['votes_dem'], \n",
    "                            'Votes_gop': data_2016['total_votes'] - data_2016['votes_dem'] - data_2016['votes_others'], \n",
    "                            'Votes_other': data_2016['votes_others'],\n",
    "                            'Votes_total': data_2016['total_votes'], \n",
    "                            'state': state_names,\n",
    "                            'county': county_names,\n",
    "                            'fips': fips_codes})\n",
    "df_actual_state = df_actual.groupby('state').agg(Votes_dem=(f'Votes_dem', 'sum'), \n",
    "                                                    Votes_gop=(f'Votes_gop', 'sum'),\n",
    "                                                    Votes_other=(f'Votes_other', 'sum'),\n",
    "                                                    Votes_total=(f'Votes_total', 'sum'))\n",
    "\n",
    "df_actual_state[\"Per_dem_2016\"] = df_actual_state[\"Votes_dem\"] / df_actual_state[\"Votes_total\"]\n",
    "df_actual_state[\"Per_gop_2016\"] = df_actual_state[\"Votes_gop\"] / df_actual_state[\"Votes_total\"]\n",
    "\n",
    "# Añadir la columna \"Winner\" basado en los porcentajes predichos de Biden y Trump\n",
    "df_actual_state[\"Winner\"] = np.where(df_actual_state[\"Per_dem_2016\"] < df_actual_state[\"Per_gop_2016\"], 'gop', 'dem')\n",
    "\n",
    "\n",
    "full_df_actual_state = pd.merge(seats_data, df_actual_state, how='inner', on=[\"state\"])\n",
    "\n",
    "\n",
    "\n",
    "# Añadir diferencia entre Biden y Trump\n",
    "full_df_actual_state['Difference'] = (full_df_actual_state[\"Per_dem_2016\"] - full_df_actual_state[\"Per_gop_2016\"]) * 100\n",
    "\n",
    "\n",
    "# Definir las condiciones y los valores a asignar\n",
    "conditions = [\n",
    "    full_df_actual_state[\"Difference\"] > 10,\n",
    "    full_df_actual_state[\"Difference\"].between(2.5, 10),\n",
    "    full_df_actual_state[\"Difference\"].between(-2.5, 2.5),\n",
    "    full_df_actual_state[\"Difference\"].between(-10, -2.5),\n",
    "    full_df_actual_state[\"Difference\"] < -10\n",
    "]\n",
    "\n",
    "choices = [\n",
    "    \"Safe Democrat\",\n",
    "    \"Likely Democrat\",\n",
    "    \"Toss-Up\",\n",
    "    \"Likely Republican\",\n",
    "    \"Safe Republican\"\n",
    "]\n",
    "\n",
    "# Usar np.select para asignar el \"Status\" basado en las condiciones, con un valor por defecto \"Unknown\"\n",
    "full_df_actual_state[\"Status\"] = np.select(conditions, choices, default=\"Unknown\")\n",
    "\n",
    "full_df_actual_state_2016 = full_df_actual_state.copy()\n",
    "full_df_actual_state_2016"
   ]
  },
  {
   "cell_type": "code",
   "execution_count": 367,
   "metadata": {},
   "outputs": [],
   "source": [
    "# columns_to_drop = ['Total_2020', 'Other_2020', 'Winner_2020', \"Biden_2020\"]  # Nombres de las columnas a eliminar\n",
    "columns_to_drop = [\"votes_dem\", \"total_votes\", \"votes_others\", \"per_votes_others\", \"winner\"]  # Nombres de las columnas a eliminar\n",
    "\n",
    "data_2016 = data_2016.drop(columns=columns_to_drop)"
   ]
  },
  {
   "cell_type": "markdown",
   "metadata": {},
   "source": [
    "### 2020"
   ]
  },
  {
   "cell_type": "code",
   "execution_count": 368,
   "metadata": {},
   "outputs": [],
   "source": [
    "# Cargar datos\n",
    "data_2020 = read_csv(f\"data/final_data_{2020}.csv\")"
   ]
  },
  {
   "cell_type": "code",
   "execution_count": 369,
   "metadata": {},
   "outputs": [
    {
     "data": {
      "text/html": [
       "<div>\n",
       "<style scoped>\n",
       "    .dataframe tbody tr th:only-of-type {\n",
       "        vertical-align: middle;\n",
       "    }\n",
       "\n",
       "    .dataframe tbody tr th {\n",
       "        vertical-align: top;\n",
       "    }\n",
       "\n",
       "    .dataframe thead th {\n",
       "        text-align: right;\n",
       "    }\n",
       "</style>\n",
       "<table border=\"1\" class=\"dataframe\">\n",
       "  <thead>\n",
       "    <tr style=\"text-align: right;\">\n",
       "      <th></th>\n",
       "      <th>state</th>\n",
       "      <th>state_code</th>\n",
       "      <th>ElectoralVotes2024</th>\n",
       "      <th>Votes_dem</th>\n",
       "      <th>Votes_gop</th>\n",
       "      <th>Votes_other</th>\n",
       "      <th>Votes_total</th>\n",
       "      <th>Per_dem_2020</th>\n",
       "      <th>Per_gop_2020</th>\n",
       "      <th>Winner</th>\n",
       "      <th>Difference</th>\n",
       "      <th>Status</th>\n",
       "    </tr>\n",
       "  </thead>\n",
       "  <tbody>\n",
       "    <tr>\n",
       "      <th>0</th>\n",
       "      <td>Alabama</td>\n",
       "      <td>AL</td>\n",
       "      <td>9</td>\n",
       "      <td>849648.0</td>\n",
       "      <td>1441168.0</td>\n",
       "      <td>32488.0</td>\n",
       "      <td>2323304.0</td>\n",
       "      <td>0.365707</td>\n",
       "      <td>0.620310</td>\n",
       "      <td>gop</td>\n",
       "      <td>-25.460293</td>\n",
       "      <td>Safe Republican</td>\n",
       "    </tr>\n",
       "    <tr>\n",
       "      <th>1</th>\n",
       "      <td>Arizona</td>\n",
       "      <td>AZ</td>\n",
       "      <td>11</td>\n",
       "      <td>1672143.0</td>\n",
       "      <td>1661686.0</td>\n",
       "      <td>53497.0</td>\n",
       "      <td>3387326.0</td>\n",
       "      <td>0.493647</td>\n",
       "      <td>0.490560</td>\n",
       "      <td>dem</td>\n",
       "      <td>0.308710</td>\n",
       "      <td>Toss-Up</td>\n",
       "    </tr>\n",
       "    <tr>\n",
       "      <th>2</th>\n",
       "      <td>Arkansas</td>\n",
       "      <td>AR</td>\n",
       "      <td>6</td>\n",
       "      <td>423932.0</td>\n",
       "      <td>760647.0</td>\n",
       "      <td>34490.0</td>\n",
       "      <td>1219069.0</td>\n",
       "      <td>0.347751</td>\n",
       "      <td>0.623957</td>\n",
       "      <td>gop</td>\n",
       "      <td>-27.620668</td>\n",
       "      <td>Safe Republican</td>\n",
       "    </tr>\n",
       "    <tr>\n",
       "      <th>3</th>\n",
       "      <td>California</td>\n",
       "      <td>CA</td>\n",
       "      <td>54</td>\n",
       "      <td>11109764.0</td>\n",
       "      <td>6005961.0</td>\n",
       "      <td>380181.0</td>\n",
       "      <td>17495906.0</td>\n",
       "      <td>0.634992</td>\n",
       "      <td>0.343278</td>\n",
       "      <td>dem</td>\n",
       "      <td>29.171413</td>\n",
       "      <td>Safe Democrat</td>\n",
       "    </tr>\n",
       "    <tr>\n",
       "      <th>4</th>\n",
       "      <td>Colorado</td>\n",
       "      <td>CO</td>\n",
       "      <td>10</td>\n",
       "      <td>1804352.0</td>\n",
       "      <td>1364607.0</td>\n",
       "      <td>87994.0</td>\n",
       "      <td>3256953.0</td>\n",
       "      <td>0.554000</td>\n",
       "      <td>0.418983</td>\n",
       "      <td>dem</td>\n",
       "      <td>13.501730</td>\n",
       "      <td>Safe Democrat</td>\n",
       "    </tr>\n",
       "    <tr>\n",
       "      <th>5</th>\n",
       "      <td>Connecticut</td>\n",
       "      <td>CT</td>\n",
       "      <td>7</td>\n",
       "      <td>1080680.0</td>\n",
       "      <td>715291.0</td>\n",
       "      <td>28309.0</td>\n",
       "      <td>1824280.0</td>\n",
       "      <td>0.592387</td>\n",
       "      <td>0.392095</td>\n",
       "      <td>dem</td>\n",
       "      <td>20.029217</td>\n",
       "      <td>Safe Democrat</td>\n",
       "    </tr>\n",
       "    <tr>\n",
       "      <th>6</th>\n",
       "      <td>District of Columbia</td>\n",
       "      <td>DC</td>\n",
       "      <td>3</td>\n",
       "      <td>317323.0</td>\n",
       "      <td>18586.0</td>\n",
       "      <td>8447.0</td>\n",
       "      <td>344356.0</td>\n",
       "      <td>0.921497</td>\n",
       "      <td>0.053973</td>\n",
       "      <td>dem</td>\n",
       "      <td>86.752373</td>\n",
       "      <td>Safe Democrat</td>\n",
       "    </tr>\n",
       "    <tr>\n",
       "      <th>7</th>\n",
       "      <td>Delaware</td>\n",
       "      <td>DE</td>\n",
       "      <td>3</td>\n",
       "      <td>296268.0</td>\n",
       "      <td>200603.0</td>\n",
       "      <td>7139.0</td>\n",
       "      <td>504010.0</td>\n",
       "      <td>0.587822</td>\n",
       "      <td>0.398014</td>\n",
       "      <td>dem</td>\n",
       "      <td>18.980774</td>\n",
       "      <td>Safe Democrat</td>\n",
       "    </tr>\n",
       "    <tr>\n",
       "      <th>8</th>\n",
       "      <td>Florida</td>\n",
       "      <td>FL</td>\n",
       "      <td>30</td>\n",
       "      <td>5297045.0</td>\n",
       "      <td>5668731.0</td>\n",
       "      <td>101680.0</td>\n",
       "      <td>11067456.0</td>\n",
       "      <td>0.478615</td>\n",
       "      <td>0.512198</td>\n",
       "      <td>gop</td>\n",
       "      <td>-3.358369</td>\n",
       "      <td>Likely Republican</td>\n",
       "    </tr>\n",
       "    <tr>\n",
       "      <th>9</th>\n",
       "      <td>Georgia</td>\n",
       "      <td>GA</td>\n",
       "      <td>16</td>\n",
       "      <td>2473633.0</td>\n",
       "      <td>2461854.0</td>\n",
       "      <td>62229.0</td>\n",
       "      <td>4997716.0</td>\n",
       "      <td>0.494953</td>\n",
       "      <td>0.492596</td>\n",
       "      <td>dem</td>\n",
       "      <td>0.235688</td>\n",
       "      <td>Toss-Up</td>\n",
       "    </tr>\n",
       "    <tr>\n",
       "      <th>10</th>\n",
       "      <td>Hawaii</td>\n",
       "      <td>HI</td>\n",
       "      <td>4</td>\n",
       "      <td>366130.0</td>\n",
       "      <td>196864.0</td>\n",
       "      <td>11475.0</td>\n",
       "      <td>574469.0</td>\n",
       "      <td>0.637336</td>\n",
       "      <td>0.342689</td>\n",
       "      <td>dem</td>\n",
       "      <td>29.464775</td>\n",
       "      <td>Safe Democrat</td>\n",
       "    </tr>\n",
       "    <tr>\n",
       "      <th>11</th>\n",
       "      <td>Idaho</td>\n",
       "      <td>ID</td>\n",
       "      <td>4</td>\n",
       "      <td>287021.0</td>\n",
       "      <td>554118.0</td>\n",
       "      <td>26966.0</td>\n",
       "      <td>868105.0</td>\n",
       "      <td>0.330629</td>\n",
       "      <td>0.638308</td>\n",
       "      <td>gop</td>\n",
       "      <td>-30.767822</td>\n",
       "      <td>Safe Republican</td>\n",
       "    </tr>\n",
       "    <tr>\n",
       "      <th>12</th>\n",
       "      <td>Illinois</td>\n",
       "      <td>IL</td>\n",
       "      <td>19</td>\n",
       "      <td>3471915.0</td>\n",
       "      <td>2446891.0</td>\n",
       "      <td>120044.0</td>\n",
       "      <td>6038850.0</td>\n",
       "      <td>0.574930</td>\n",
       "      <td>0.405192</td>\n",
       "      <td>dem</td>\n",
       "      <td>16.973828</td>\n",
       "      <td>Safe Democrat</td>\n",
       "    </tr>\n",
       "    <tr>\n",
       "      <th>13</th>\n",
       "      <td>Indiana</td>\n",
       "      <td>IN</td>\n",
       "      <td>11</td>\n",
       "      <td>1242495.0</td>\n",
       "      <td>1729852.0</td>\n",
       "      <td>60851.0</td>\n",
       "      <td>3033198.0</td>\n",
       "      <td>0.409632</td>\n",
       "      <td>0.570306</td>\n",
       "      <td>gop</td>\n",
       "      <td>-16.067431</td>\n",
       "      <td>Safe Republican</td>\n",
       "    </tr>\n",
       "    <tr>\n",
       "      <th>14</th>\n",
       "      <td>Iowa</td>\n",
       "      <td>IA</td>\n",
       "      <td>6</td>\n",
       "      <td>759061.0</td>\n",
       "      <td>897672.0</td>\n",
       "      <td>34138.0</td>\n",
       "      <td>1690871.0</td>\n",
       "      <td>0.448917</td>\n",
       "      <td>0.530893</td>\n",
       "      <td>gop</td>\n",
       "      <td>-8.197609</td>\n",
       "      <td>Likely Republican</td>\n",
       "    </tr>\n",
       "    <tr>\n",
       "      <th>15</th>\n",
       "      <td>Kansas</td>\n",
       "      <td>KS</td>\n",
       "      <td>6</td>\n",
       "      <td>558669.0</td>\n",
       "      <td>758100.0</td>\n",
       "      <td>32798.0</td>\n",
       "      <td>1349567.0</td>\n",
       "      <td>0.413962</td>\n",
       "      <td>0.561736</td>\n",
       "      <td>gop</td>\n",
       "      <td>-14.777406</td>\n",
       "      <td>Safe Republican</td>\n",
       "    </tr>\n",
       "    <tr>\n",
       "      <th>16</th>\n",
       "      <td>Kentucky</td>\n",
       "      <td>KY</td>\n",
       "      <td>8</td>\n",
       "      <td>772474.0</td>\n",
       "      <td>1326646.0</td>\n",
       "      <td>37648.0</td>\n",
       "      <td>2136768.0</td>\n",
       "      <td>0.361515</td>\n",
       "      <td>0.620866</td>\n",
       "      <td>gop</td>\n",
       "      <td>-25.935057</td>\n",
       "      <td>Safe Republican</td>\n",
       "    </tr>\n",
       "    <tr>\n",
       "      <th>17</th>\n",
       "      <td>Louisiana</td>\n",
       "      <td>LA</td>\n",
       "      <td>8</td>\n",
       "      <td>856034.0</td>\n",
       "      <td>1255776.0</td>\n",
       "      <td>36252.0</td>\n",
       "      <td>2148062.0</td>\n",
       "      <td>0.398515</td>\n",
       "      <td>0.584609</td>\n",
       "      <td>gop</td>\n",
       "      <td>-18.609426</td>\n",
       "      <td>Safe Republican</td>\n",
       "    </tr>\n",
       "    <tr>\n",
       "      <th>18</th>\n",
       "      <td>Maine</td>\n",
       "      <td>ME</td>\n",
       "      <td>4</td>\n",
       "      <td>430473.0</td>\n",
       "      <td>359899.0</td>\n",
       "      <td>23368.0</td>\n",
       "      <td>813740.0</td>\n",
       "      <td>0.529006</td>\n",
       "      <td>0.442278</td>\n",
       "      <td>dem</td>\n",
       "      <td>8.672795</td>\n",
       "      <td>Likely Democrat</td>\n",
       "    </tr>\n",
       "    <tr>\n",
       "      <th>19</th>\n",
       "      <td>Maryland</td>\n",
       "      <td>MD</td>\n",
       "      <td>10</td>\n",
       "      <td>1985023.0</td>\n",
       "      <td>976414.0</td>\n",
       "      <td>75593.0</td>\n",
       "      <td>3037030.0</td>\n",
       "      <td>0.653607</td>\n",
       "      <td>0.321503</td>\n",
       "      <td>dem</td>\n",
       "      <td>33.210373</td>\n",
       "      <td>Safe Democrat</td>\n",
       "    </tr>\n",
       "    <tr>\n",
       "      <th>20</th>\n",
       "      <td>Massachusetts</td>\n",
       "      <td>MA</td>\n",
       "      <td>11</td>\n",
       "      <td>2382202.0</td>\n",
       "      <td>1167202.0</td>\n",
       "      <td>81998.0</td>\n",
       "      <td>3631402.0</td>\n",
       "      <td>0.656001</td>\n",
       "      <td>0.321419</td>\n",
       "      <td>dem</td>\n",
       "      <td>33.458152</td>\n",
       "      <td>Safe Democrat</td>\n",
       "    </tr>\n",
       "    <tr>\n",
       "      <th>21</th>\n",
       "      <td>Michigan</td>\n",
       "      <td>MI</td>\n",
       "      <td>15</td>\n",
       "      <td>2804040.0</td>\n",
       "      <td>2649852.0</td>\n",
       "      <td>85410.0</td>\n",
       "      <td>5539302.0</td>\n",
       "      <td>0.506208</td>\n",
       "      <td>0.478373</td>\n",
       "      <td>dem</td>\n",
       "      <td>2.783528</td>\n",
       "      <td>Likely Democrat</td>\n",
       "    </tr>\n",
       "    <tr>\n",
       "      <th>22</th>\n",
       "      <td>Minnesota</td>\n",
       "      <td>MN</td>\n",
       "      <td>10</td>\n",
       "      <td>1717077.0</td>\n",
       "      <td>1484065.0</td>\n",
       "      <td>76029.0</td>\n",
       "      <td>3277171.0</td>\n",
       "      <td>0.523951</td>\n",
       "      <td>0.452849</td>\n",
       "      <td>dem</td>\n",
       "      <td>7.110157</td>\n",
       "      <td>Likely Democrat</td>\n",
       "    </tr>\n",
       "    <tr>\n",
       "      <th>23</th>\n",
       "      <td>Mississippi</td>\n",
       "      <td>MS</td>\n",
       "      <td>6</td>\n",
       "      <td>539398.0</td>\n",
       "      <td>756764.0</td>\n",
       "      <td>19016.0</td>\n",
       "      <td>1315178.0</td>\n",
       "      <td>0.410133</td>\n",
       "      <td>0.575408</td>\n",
       "      <td>gop</td>\n",
       "      <td>-16.527497</td>\n",
       "      <td>Safe Republican</td>\n",
       "    </tr>\n",
       "    <tr>\n",
       "      <th>24</th>\n",
       "      <td>Missouri</td>\n",
       "      <td>MO</td>\n",
       "      <td>10</td>\n",
       "      <td>1253014.0</td>\n",
       "      <td>1718736.0</td>\n",
       "      <td>54212.0</td>\n",
       "      <td>3025962.0</td>\n",
       "      <td>0.414088</td>\n",
       "      <td>0.567997</td>\n",
       "      <td>gop</td>\n",
       "      <td>-15.390874</td>\n",
       "      <td>Safe Republican</td>\n",
       "    </tr>\n",
       "    <tr>\n",
       "      <th>25</th>\n",
       "      <td>Montana</td>\n",
       "      <td>MT</td>\n",
       "      <td>4</td>\n",
       "      <td>244786.0</td>\n",
       "      <td>343602.0</td>\n",
       "      <td>17362.0</td>\n",
       "      <td>605750.0</td>\n",
       "      <td>0.404104</td>\n",
       "      <td>0.567234</td>\n",
       "      <td>gop</td>\n",
       "      <td>-16.313000</td>\n",
       "      <td>Safe Republican</td>\n",
       "    </tr>\n",
       "    <tr>\n",
       "      <th>26</th>\n",
       "      <td>Nebraska</td>\n",
       "      <td>NE</td>\n",
       "      <td>5</td>\n",
       "      <td>374583.0</td>\n",
       "      <td>556846.0</td>\n",
       "      <td>24950.0</td>\n",
       "      <td>956379.0</td>\n",
       "      <td>0.391668</td>\n",
       "      <td>0.582244</td>\n",
       "      <td>gop</td>\n",
       "      <td>-19.057612</td>\n",
       "      <td>Safe Republican</td>\n",
       "    </tr>\n",
       "    <tr>\n",
       "      <th>27</th>\n",
       "      <td>Nevada</td>\n",
       "      <td>NV</td>\n",
       "      <td>6</td>\n",
       "      <td>702584.0</td>\n",
       "      <td>667982.0</td>\n",
       "      <td>31933.0</td>\n",
       "      <td>1402499.0</td>\n",
       "      <td>0.500952</td>\n",
       "      <td>0.476280</td>\n",
       "      <td>dem</td>\n",
       "      <td>2.467168</td>\n",
       "      <td>Toss-Up</td>\n",
       "    </tr>\n",
       "    <tr>\n",
       "      <th>28</th>\n",
       "      <td>New Hampshire</td>\n",
       "      <td>NH</td>\n",
       "      <td>4</td>\n",
       "      <td>424921.0</td>\n",
       "      <td>365654.0</td>\n",
       "      <td>13855.0</td>\n",
       "      <td>804430.0</td>\n",
       "      <td>0.528226</td>\n",
       "      <td>0.454550</td>\n",
       "      <td>dem</td>\n",
       "      <td>7.367577</td>\n",
       "      <td>Likely Democrat</td>\n",
       "    </tr>\n",
       "    <tr>\n",
       "      <th>29</th>\n",
       "      <td>New Jersey</td>\n",
       "      <td>NJ</td>\n",
       "      <td>14</td>\n",
       "      <td>2608335.0</td>\n",
       "      <td>1883274.0</td>\n",
       "      <td>72625.0</td>\n",
       "      <td>4564234.0</td>\n",
       "      <td>0.571473</td>\n",
       "      <td>0.412616</td>\n",
       "      <td>dem</td>\n",
       "      <td>15.885711</td>\n",
       "      <td>Safe Democrat</td>\n",
       "    </tr>\n",
       "    <tr>\n",
       "      <th>30</th>\n",
       "      <td>New Mexico</td>\n",
       "      <td>NM</td>\n",
       "      <td>5</td>\n",
       "      <td>501614.0</td>\n",
       "      <td>401894.0</td>\n",
       "      <td>20457.0</td>\n",
       "      <td>923965.0</td>\n",
       "      <td>0.542893</td>\n",
       "      <td>0.434967</td>\n",
       "      <td>dem</td>\n",
       "      <td>10.792617</td>\n",
       "      <td>Safe Democrat</td>\n",
       "    </tr>\n",
       "    <tr>\n",
       "      <th>31</th>\n",
       "      <td>New York</td>\n",
       "      <td>NY</td>\n",
       "      <td>28</td>\n",
       "      <td>5244006.0</td>\n",
       "      <td>3250230.0</td>\n",
       "      <td>121969.0</td>\n",
       "      <td>8616205.0</td>\n",
       "      <td>0.608621</td>\n",
       "      <td>0.377223</td>\n",
       "      <td>dem</td>\n",
       "      <td>23.139839</td>\n",
       "      <td>Safe Democrat</td>\n",
       "    </tr>\n",
       "    <tr>\n",
       "      <th>32</th>\n",
       "      <td>North Carolina</td>\n",
       "      <td>NC</td>\n",
       "      <td>16</td>\n",
       "      <td>2684292.0</td>\n",
       "      <td>2758773.0</td>\n",
       "      <td>81736.0</td>\n",
       "      <td>5524801.0</td>\n",
       "      <td>0.485862</td>\n",
       "      <td>0.499343</td>\n",
       "      <td>gop</td>\n",
       "      <td>-1.348121</td>\n",
       "      <td>Toss-Up</td>\n",
       "    </tr>\n",
       "    <tr>\n",
       "      <th>33</th>\n",
       "      <td>North Dakota</td>\n",
       "      <td>ND</td>\n",
       "      <td>3</td>\n",
       "      <td>114902.0</td>\n",
       "      <td>235595.0</td>\n",
       "      <td>11322.0</td>\n",
       "      <td>361819.0</td>\n",
       "      <td>0.317568</td>\n",
       "      <td>0.651140</td>\n",
       "      <td>gop</td>\n",
       "      <td>-33.357286</td>\n",
       "      <td>Safe Republican</td>\n",
       "    </tr>\n",
       "    <tr>\n",
       "      <th>34</th>\n",
       "      <td>Ohio</td>\n",
       "      <td>OH</td>\n",
       "      <td>17</td>\n",
       "      <td>2679165.0</td>\n",
       "      <td>3154834.0</td>\n",
       "      <td>88203.0</td>\n",
       "      <td>5922202.0</td>\n",
       "      <td>0.452393</td>\n",
       "      <td>0.532713</td>\n",
       "      <td>gop</td>\n",
       "      <td>-8.031962</td>\n",
       "      <td>Likely Republican</td>\n",
       "    </tr>\n",
       "    <tr>\n",
       "      <th>35</th>\n",
       "      <td>Oklahoma</td>\n",
       "      <td>OK</td>\n",
       "      <td>7</td>\n",
       "      <td>503890.0</td>\n",
       "      <td>1020280.0</td>\n",
       "      <td>36529.0</td>\n",
       "      <td>1560699.0</td>\n",
       "      <td>0.322862</td>\n",
       "      <td>0.653733</td>\n",
       "      <td>gop</td>\n",
       "      <td>-33.087098</td>\n",
       "      <td>Safe Republican</td>\n",
       "    </tr>\n",
       "    <tr>\n",
       "      <th>36</th>\n",
       "      <td>Oregon</td>\n",
       "      <td>OR</td>\n",
       "      <td>8</td>\n",
       "      <td>1340383.0</td>\n",
       "      <td>958448.0</td>\n",
       "      <td>75490.0</td>\n",
       "      <td>2374321.0</td>\n",
       "      <td>0.564533</td>\n",
       "      <td>0.403672</td>\n",
       "      <td>dem</td>\n",
       "      <td>16.086073</td>\n",
       "      <td>Safe Democrat</td>\n",
       "    </tr>\n",
       "    <tr>\n",
       "      <th>37</th>\n",
       "      <td>Pennsylvania</td>\n",
       "      <td>PA</td>\n",
       "      <td>19</td>\n",
       "      <td>3459923.0</td>\n",
       "      <td>3378263.0</td>\n",
       "      <td>87069.0</td>\n",
       "      <td>6925255.0</td>\n",
       "      <td>0.499609</td>\n",
       "      <td>0.487818</td>\n",
       "      <td>dem</td>\n",
       "      <td>1.179162</td>\n",
       "      <td>Toss-Up</td>\n",
       "    </tr>\n",
       "    <tr>\n",
       "      <th>38</th>\n",
       "      <td>Rhode Island</td>\n",
       "      <td>RI</td>\n",
       "      <td>4</td>\n",
       "      <td>306210.0</td>\n",
       "      <td>199837.0</td>\n",
       "      <td>10336.0</td>\n",
       "      <td>516383.0</td>\n",
       "      <td>0.592990</td>\n",
       "      <td>0.386994</td>\n",
       "      <td>dem</td>\n",
       "      <td>20.599632</td>\n",
       "      <td>Safe Democrat</td>\n",
       "    </tr>\n",
       "    <tr>\n",
       "      <th>39</th>\n",
       "      <td>South Carolina</td>\n",
       "      <td>SC</td>\n",
       "      <td>9</td>\n",
       "      <td>1091541.0</td>\n",
       "      <td>1385103.0</td>\n",
       "      <td>36685.0</td>\n",
       "      <td>2513329.0</td>\n",
       "      <td>0.434301</td>\n",
       "      <td>0.551103</td>\n",
       "      <td>gop</td>\n",
       "      <td>-11.680206</td>\n",
       "      <td>Safe Republican</td>\n",
       "    </tr>\n",
       "    <tr>\n",
       "      <th>40</th>\n",
       "      <td>South Dakota</td>\n",
       "      <td>SD</td>\n",
       "      <td>3</td>\n",
       "      <td>147642.0</td>\n",
       "      <td>260746.0</td>\n",
       "      <td>11021.0</td>\n",
       "      <td>419409.0</td>\n",
       "      <td>0.352024</td>\n",
       "      <td>0.621699</td>\n",
       "      <td>gop</td>\n",
       "      <td>-26.967471</td>\n",
       "      <td>Safe Republican</td>\n",
       "    </tr>\n",
       "    <tr>\n",
       "      <th>41</th>\n",
       "      <td>Tennessee</td>\n",
       "      <td>TN</td>\n",
       "      <td>11</td>\n",
       "      <td>1143711.0</td>\n",
       "      <td>1852475.0</td>\n",
       "      <td>57665.0</td>\n",
       "      <td>3053851.0</td>\n",
       "      <td>0.374514</td>\n",
       "      <td>0.606603</td>\n",
       "      <td>gop</td>\n",
       "      <td>-23.208860</td>\n",
       "      <td>Safe Republican</td>\n",
       "    </tr>\n",
       "    <tr>\n",
       "      <th>42</th>\n",
       "      <td>Texas</td>\n",
       "      <td>TX</td>\n",
       "      <td>40</td>\n",
       "      <td>5259057.0</td>\n",
       "      <td>5890160.0</td>\n",
       "      <td>168434.0</td>\n",
       "      <td>11317651.0</td>\n",
       "      <td>0.464677</td>\n",
       "      <td>0.520440</td>\n",
       "      <td>gop</td>\n",
       "      <td>-5.576272</td>\n",
       "      <td>Likely Republican</td>\n",
       "    </tr>\n",
       "    <tr>\n",
       "      <th>43</th>\n",
       "      <td>Utah</td>\n",
       "      <td>UT</td>\n",
       "      <td>6</td>\n",
       "      <td>560282.0</td>\n",
       "      <td>865140.0</td>\n",
       "      <td>62867.0</td>\n",
       "      <td>1488289.0</td>\n",
       "      <td>0.376460</td>\n",
       "      <td>0.581298</td>\n",
       "      <td>gop</td>\n",
       "      <td>-20.483790</td>\n",
       "      <td>Safe Republican</td>\n",
       "    </tr>\n",
       "    <tr>\n",
       "      <th>44</th>\n",
       "      <td>Vermont</td>\n",
       "      <td>VT</td>\n",
       "      <td>3</td>\n",
       "      <td>242820.0</td>\n",
       "      <td>112704.0</td>\n",
       "      <td>11904.0</td>\n",
       "      <td>367428.0</td>\n",
       "      <td>0.660864</td>\n",
       "      <td>0.306738</td>\n",
       "      <td>dem</td>\n",
       "      <td>35.412652</td>\n",
       "      <td>Safe Democrat</td>\n",
       "    </tr>\n",
       "    <tr>\n",
       "      <th>45</th>\n",
       "      <td>Virginia</td>\n",
       "      <td>VA</td>\n",
       "      <td>13</td>\n",
       "      <td>2413568.0</td>\n",
       "      <td>1962430.0</td>\n",
       "      <td>84526.0</td>\n",
       "      <td>4460524.0</td>\n",
       "      <td>0.541095</td>\n",
       "      <td>0.439955</td>\n",
       "      <td>dem</td>\n",
       "      <td>10.114014</td>\n",
       "      <td>Safe Democrat</td>\n",
       "    </tr>\n",
       "    <tr>\n",
       "      <th>46</th>\n",
       "      <td>Washington</td>\n",
       "      <td>WA</td>\n",
       "      <td>12</td>\n",
       "      <td>2369612.0</td>\n",
       "      <td>1584651.0</td>\n",
       "      <td>133368.0</td>\n",
       "      <td>4087631.0</td>\n",
       "      <td>0.579703</td>\n",
       "      <td>0.387670</td>\n",
       "      <td>dem</td>\n",
       "      <td>19.203323</td>\n",
       "      <td>Safe Democrat</td>\n",
       "    </tr>\n",
       "    <tr>\n",
       "      <th>47</th>\n",
       "      <td>West Virginia</td>\n",
       "      <td>WV</td>\n",
       "      <td>4</td>\n",
       "      <td>235984.0</td>\n",
       "      <td>545382.0</td>\n",
       "      <td>13286.0</td>\n",
       "      <td>794652.0</td>\n",
       "      <td>0.296965</td>\n",
       "      <td>0.686316</td>\n",
       "      <td>gop</td>\n",
       "      <td>-38.935031</td>\n",
       "      <td>Safe Republican</td>\n",
       "    </tr>\n",
       "    <tr>\n",
       "      <th>48</th>\n",
       "      <td>Wisconsin</td>\n",
       "      <td>WI</td>\n",
       "      <td>10</td>\n",
       "      <td>1630673.0</td>\n",
       "      <td>1610065.0</td>\n",
       "      <td>56614.0</td>\n",
       "      <td>3297352.0</td>\n",
       "      <td>0.494540</td>\n",
       "      <td>0.488290</td>\n",
       "      <td>dem</td>\n",
       "      <td>0.624986</td>\n",
       "      <td>Toss-Up</td>\n",
       "    </tr>\n",
       "    <tr>\n",
       "      <th>49</th>\n",
       "      <td>Wyoming</td>\n",
       "      <td>WY</td>\n",
       "      <td>3</td>\n",
       "      <td>73491.0</td>\n",
       "      <td>193559.0</td>\n",
       "      <td>9715.0</td>\n",
       "      <td>276765.0</td>\n",
       "      <td>0.265536</td>\n",
       "      <td>0.699362</td>\n",
       "      <td>gop</td>\n",
       "      <td>-43.382653</td>\n",
       "      <td>Safe Republican</td>\n",
       "    </tr>\n",
       "  </tbody>\n",
       "</table>\n",
       "</div>"
      ],
      "text/plain": [
       "                   state state_code  ElectoralVotes2024   Votes_dem  \\\n",
       "0                Alabama         AL                   9    849648.0   \n",
       "1                Arizona         AZ                  11   1672143.0   \n",
       "2               Arkansas         AR                   6    423932.0   \n",
       "3             California         CA                  54  11109764.0   \n",
       "4               Colorado         CO                  10   1804352.0   \n",
       "5            Connecticut         CT                   7   1080680.0   \n",
       "6   District of Columbia         DC                   3    317323.0   \n",
       "7               Delaware         DE                   3    296268.0   \n",
       "8                Florida         FL                  30   5297045.0   \n",
       "9                Georgia         GA                  16   2473633.0   \n",
       "10                Hawaii         HI                   4    366130.0   \n",
       "11                 Idaho         ID                   4    287021.0   \n",
       "12              Illinois         IL                  19   3471915.0   \n",
       "13               Indiana         IN                  11   1242495.0   \n",
       "14                  Iowa         IA                   6    759061.0   \n",
       "15                Kansas         KS                   6    558669.0   \n",
       "16              Kentucky         KY                   8    772474.0   \n",
       "17             Louisiana         LA                   8    856034.0   \n",
       "18                 Maine         ME                   4    430473.0   \n",
       "19              Maryland         MD                  10   1985023.0   \n",
       "20         Massachusetts         MA                  11   2382202.0   \n",
       "21              Michigan         MI                  15   2804040.0   \n",
       "22             Minnesota         MN                  10   1717077.0   \n",
       "23           Mississippi         MS                   6    539398.0   \n",
       "24              Missouri         MO                  10   1253014.0   \n",
       "25               Montana         MT                   4    244786.0   \n",
       "26              Nebraska         NE                   5    374583.0   \n",
       "27                Nevada         NV                   6    702584.0   \n",
       "28         New Hampshire         NH                   4    424921.0   \n",
       "29            New Jersey         NJ                  14   2608335.0   \n",
       "30            New Mexico         NM                   5    501614.0   \n",
       "31              New York         NY                  28   5244006.0   \n",
       "32        North Carolina         NC                  16   2684292.0   \n",
       "33          North Dakota         ND                   3    114902.0   \n",
       "34                  Ohio         OH                  17   2679165.0   \n",
       "35              Oklahoma         OK                   7    503890.0   \n",
       "36                Oregon         OR                   8   1340383.0   \n",
       "37          Pennsylvania         PA                  19   3459923.0   \n",
       "38          Rhode Island         RI                   4    306210.0   \n",
       "39        South Carolina         SC                   9   1091541.0   \n",
       "40          South Dakota         SD                   3    147642.0   \n",
       "41             Tennessee         TN                  11   1143711.0   \n",
       "42                 Texas         TX                  40   5259057.0   \n",
       "43                  Utah         UT                   6    560282.0   \n",
       "44               Vermont         VT                   3    242820.0   \n",
       "45              Virginia         VA                  13   2413568.0   \n",
       "46            Washington         WA                  12   2369612.0   \n",
       "47         West Virginia         WV                   4    235984.0   \n",
       "48             Wisconsin         WI                  10   1630673.0   \n",
       "49               Wyoming         WY                   3     73491.0   \n",
       "\n",
       "    Votes_gop  Votes_other  Votes_total  Per_dem_2020  Per_gop_2020 Winner  \\\n",
       "0   1441168.0      32488.0    2323304.0      0.365707      0.620310    gop   \n",
       "1   1661686.0      53497.0    3387326.0      0.493647      0.490560    dem   \n",
       "2    760647.0      34490.0    1219069.0      0.347751      0.623957    gop   \n",
       "3   6005961.0     380181.0   17495906.0      0.634992      0.343278    dem   \n",
       "4   1364607.0      87994.0    3256953.0      0.554000      0.418983    dem   \n",
       "5    715291.0      28309.0    1824280.0      0.592387      0.392095    dem   \n",
       "6     18586.0       8447.0     344356.0      0.921497      0.053973    dem   \n",
       "7    200603.0       7139.0     504010.0      0.587822      0.398014    dem   \n",
       "8   5668731.0     101680.0   11067456.0      0.478615      0.512198    gop   \n",
       "9   2461854.0      62229.0    4997716.0      0.494953      0.492596    dem   \n",
       "10   196864.0      11475.0     574469.0      0.637336      0.342689    dem   \n",
       "11   554118.0      26966.0     868105.0      0.330629      0.638308    gop   \n",
       "12  2446891.0     120044.0    6038850.0      0.574930      0.405192    dem   \n",
       "13  1729852.0      60851.0    3033198.0      0.409632      0.570306    gop   \n",
       "14   897672.0      34138.0    1690871.0      0.448917      0.530893    gop   \n",
       "15   758100.0      32798.0    1349567.0      0.413962      0.561736    gop   \n",
       "16  1326646.0      37648.0    2136768.0      0.361515      0.620866    gop   \n",
       "17  1255776.0      36252.0    2148062.0      0.398515      0.584609    gop   \n",
       "18   359899.0      23368.0     813740.0      0.529006      0.442278    dem   \n",
       "19   976414.0      75593.0    3037030.0      0.653607      0.321503    dem   \n",
       "20  1167202.0      81998.0    3631402.0      0.656001      0.321419    dem   \n",
       "21  2649852.0      85410.0    5539302.0      0.506208      0.478373    dem   \n",
       "22  1484065.0      76029.0    3277171.0      0.523951      0.452849    dem   \n",
       "23   756764.0      19016.0    1315178.0      0.410133      0.575408    gop   \n",
       "24  1718736.0      54212.0    3025962.0      0.414088      0.567997    gop   \n",
       "25   343602.0      17362.0     605750.0      0.404104      0.567234    gop   \n",
       "26   556846.0      24950.0     956379.0      0.391668      0.582244    gop   \n",
       "27   667982.0      31933.0    1402499.0      0.500952      0.476280    dem   \n",
       "28   365654.0      13855.0     804430.0      0.528226      0.454550    dem   \n",
       "29  1883274.0      72625.0    4564234.0      0.571473      0.412616    dem   \n",
       "30   401894.0      20457.0     923965.0      0.542893      0.434967    dem   \n",
       "31  3250230.0     121969.0    8616205.0      0.608621      0.377223    dem   \n",
       "32  2758773.0      81736.0    5524801.0      0.485862      0.499343    gop   \n",
       "33   235595.0      11322.0     361819.0      0.317568      0.651140    gop   \n",
       "34  3154834.0      88203.0    5922202.0      0.452393      0.532713    gop   \n",
       "35  1020280.0      36529.0    1560699.0      0.322862      0.653733    gop   \n",
       "36   958448.0      75490.0    2374321.0      0.564533      0.403672    dem   \n",
       "37  3378263.0      87069.0    6925255.0      0.499609      0.487818    dem   \n",
       "38   199837.0      10336.0     516383.0      0.592990      0.386994    dem   \n",
       "39  1385103.0      36685.0    2513329.0      0.434301      0.551103    gop   \n",
       "40   260746.0      11021.0     419409.0      0.352024      0.621699    gop   \n",
       "41  1852475.0      57665.0    3053851.0      0.374514      0.606603    gop   \n",
       "42  5890160.0     168434.0   11317651.0      0.464677      0.520440    gop   \n",
       "43   865140.0      62867.0    1488289.0      0.376460      0.581298    gop   \n",
       "44   112704.0      11904.0     367428.0      0.660864      0.306738    dem   \n",
       "45  1962430.0      84526.0    4460524.0      0.541095      0.439955    dem   \n",
       "46  1584651.0     133368.0    4087631.0      0.579703      0.387670    dem   \n",
       "47   545382.0      13286.0     794652.0      0.296965      0.686316    gop   \n",
       "48  1610065.0      56614.0    3297352.0      0.494540      0.488290    dem   \n",
       "49   193559.0       9715.0     276765.0      0.265536      0.699362    gop   \n",
       "\n",
       "    Difference             Status  \n",
       "0   -25.460293    Safe Republican  \n",
       "1     0.308710            Toss-Up  \n",
       "2   -27.620668    Safe Republican  \n",
       "3    29.171413      Safe Democrat  \n",
       "4    13.501730      Safe Democrat  \n",
       "5    20.029217      Safe Democrat  \n",
       "6    86.752373      Safe Democrat  \n",
       "7    18.980774      Safe Democrat  \n",
       "8    -3.358369  Likely Republican  \n",
       "9     0.235688            Toss-Up  \n",
       "10   29.464775      Safe Democrat  \n",
       "11  -30.767822    Safe Republican  \n",
       "12   16.973828      Safe Democrat  \n",
       "13  -16.067431    Safe Republican  \n",
       "14   -8.197609  Likely Republican  \n",
       "15  -14.777406    Safe Republican  \n",
       "16  -25.935057    Safe Republican  \n",
       "17  -18.609426    Safe Republican  \n",
       "18    8.672795    Likely Democrat  \n",
       "19   33.210373      Safe Democrat  \n",
       "20   33.458152      Safe Democrat  \n",
       "21    2.783528    Likely Democrat  \n",
       "22    7.110157    Likely Democrat  \n",
       "23  -16.527497    Safe Republican  \n",
       "24  -15.390874    Safe Republican  \n",
       "25  -16.313000    Safe Republican  \n",
       "26  -19.057612    Safe Republican  \n",
       "27    2.467168            Toss-Up  \n",
       "28    7.367577    Likely Democrat  \n",
       "29   15.885711      Safe Democrat  \n",
       "30   10.792617      Safe Democrat  \n",
       "31   23.139839      Safe Democrat  \n",
       "32   -1.348121            Toss-Up  \n",
       "33  -33.357286    Safe Republican  \n",
       "34   -8.031962  Likely Republican  \n",
       "35  -33.087098    Safe Republican  \n",
       "36   16.086073      Safe Democrat  \n",
       "37    1.179162            Toss-Up  \n",
       "38   20.599632      Safe Democrat  \n",
       "39  -11.680206    Safe Republican  \n",
       "40  -26.967471    Safe Republican  \n",
       "41  -23.208860    Safe Republican  \n",
       "42   -5.576272  Likely Republican  \n",
       "43  -20.483790    Safe Republican  \n",
       "44   35.412652      Safe Democrat  \n",
       "45   10.114014      Safe Democrat  \n",
       "46   19.203323      Safe Democrat  \n",
       "47  -38.935031    Safe Republican  \n",
       "48    0.624986            Toss-Up  \n",
       "49  -43.382653    Safe Republican  "
      ]
     },
     "execution_count": 369,
     "metadata": {},
     "output_type": "execute_result"
    }
   ],
   "source": [
    "# Cargar datos electorales reales\n",
    "df_actual = pd.DataFrame({'Votes_dem': data_2020['votes_dem'], \n",
    "                            'Votes_gop': data_2020['total_votes'] - data_2020['votes_dem'] - data_2020['votes_others'], \n",
    "                            'Votes_other': data_2020['votes_others'],\n",
    "                            'Votes_total': data_2020['total_votes'], \n",
    "                            'state': state_names,\n",
    "                            'county': county_names,\n",
    "                            'fips': fips_codes})\n",
    "df_actual_state = df_actual.groupby('state').agg(Votes_dem=(f'Votes_dem', 'sum'), \n",
    "                                                    Votes_gop=(f'Votes_gop', 'sum'),\n",
    "                                                    Votes_other=(f'Votes_other', 'sum'),\n",
    "                                                    Votes_total=(f'Votes_total', 'sum'))\n",
    "\n",
    "df_actual_state[\"Per_dem_2020\"] = df_actual_state[\"Votes_dem\"] / df_actual_state[\"Votes_total\"]\n",
    "df_actual_state[\"Per_gop_2020\"] = df_actual_state[\"Votes_gop\"] / df_actual_state[\"Votes_total\"]\n",
    "\n",
    "# Añadir la columna \"Winner\" basado en los porcentajes predichos de Biden y Trump\n",
    "df_actual_state[\"Winner\"] = np.where(df_actual_state[\"Per_dem_2020\"] < df_actual_state[\"Per_gop_2020\"], 'gop', 'dem')\n",
    "\n",
    "\n",
    "full_df_actual_state = pd.merge(seats_data, df_actual_state, how='inner', on=[\"state\"])\n",
    "\n",
    "\n",
    "\n",
    "# Añadir diferencia entre Biden y Trump\n",
    "full_df_actual_state['Difference'] = (full_df_actual_state[\"Per_dem_2020\"] - full_df_actual_state[\"Per_gop_2020\"]) * 100\n",
    "\n",
    "\n",
    "# Definir las condiciones y los valores a asignar\n",
    "conditions = [\n",
    "    full_df_actual_state[\"Difference\"] > 10,\n",
    "    full_df_actual_state[\"Difference\"].between(2.5, 10),\n",
    "    full_df_actual_state[\"Difference\"].between(-2.5, 2.5),\n",
    "    full_df_actual_state[\"Difference\"].between(-10, -2.5),\n",
    "    full_df_actual_state[\"Difference\"] < -10\n",
    "]\n",
    "\n",
    "choices = [\n",
    "    \"Safe Democrat\",\n",
    "    \"Likely Democrat\",\n",
    "    \"Toss-Up\",\n",
    "    \"Likely Republican\",\n",
    "    \"Safe Republican\"\n",
    "]\n",
    "\n",
    "# Usar np.select para asignar el \"Status\" basado en las condiciones, con un valor por defecto \"Unknown\"\n",
    "full_df_actual_state[\"Status\"] = np.select(conditions, choices, default=\"Unknown\")\n",
    "\n",
    "full_df_actual_state_2020 = full_df_actual_state.copy()\n",
    "full_df_actual_state_2020"
   ]
  },
  {
   "cell_type": "code",
   "execution_count": 370,
   "metadata": {},
   "outputs": [],
   "source": [
    "# columns_to_drop = ['Total_2020', 'Other_2020', 'Winner_2020', \"Biden_2020\"]  # Nombres de las columnas a eliminar\n",
    "columns_to_drop = [\"votes_dem\", \"total_votes\", \"votes_others\", \"per_votes_others\", \"winner\"]  # Nombres de las columnas a eliminar\n",
    "\n",
    "data_2020 = data_2020.drop(columns=columns_to_drop)"
   ]
  },
  {
   "cell_type": "markdown",
   "metadata": {},
   "source": [
    "### Historical data"
   ]
  },
  {
   "cell_type": "code",
   "execution_count": 371,
   "metadata": {},
   "outputs": [
    {
     "name": "stdout",
     "output_type": "stream",
     "text": [
      "2016 Columns: Index(['state', 'state_code', 'ElectoralVotes2024', 'Votes_dem', 'Votes_gop',\n",
      "       'Votes_other', 'Votes_total', 'Per_dem_2016', 'Per_gop_2016', 'Winner',\n",
      "       'Difference', 'Status'],\n",
      "      dtype='object')\n",
      "2020 Columns: Index(['state', 'state_code', 'ElectoralVotes2024', 'Votes_dem', 'Votes_gop',\n",
      "       'Votes_other', 'Votes_total', 'Per_dem_2020', 'Per_gop_2020', 'Winner',\n",
      "       'Difference', 'Status'],\n",
      "      dtype='object')\n"
     ]
    }
   ],
   "source": [
    "# Revisar nombres de columnas\n",
    "print(\"2016 Columns:\", full_df_actual_state_2016.columns)\n",
    "print(\"2020 Columns:\", full_df_actual_state_2020.columns)"
   ]
  },
  {
   "cell_type": "code",
   "execution_count": 372,
   "metadata": {},
   "outputs": [
    {
     "data": {
      "text/html": [
       "<div>\n",
       "<style scoped>\n",
       "    .dataframe tbody tr th:only-of-type {\n",
       "        vertical-align: middle;\n",
       "    }\n",
       "\n",
       "    .dataframe tbody tr th {\n",
       "        vertical-align: top;\n",
       "    }\n",
       "\n",
       "    .dataframe thead th {\n",
       "        text-align: right;\n",
       "    }\n",
       "</style>\n",
       "<table border=\"1\" class=\"dataframe\">\n",
       "  <thead>\n",
       "    <tr style=\"text-align: right;\">\n",
       "      <th></th>\n",
       "      <th>state</th>\n",
       "      <th>per_dem_2016</th>\n",
       "      <th>per_gop_2016</th>\n",
       "      <th>per_dem_2020</th>\n",
       "      <th>per_gop_2020</th>\n",
       "      <th>swing_dem</th>\n",
       "      <th>swing_gop</th>\n",
       "    </tr>\n",
       "  </thead>\n",
       "  <tbody>\n",
       "    <tr>\n",
       "      <th>0</th>\n",
       "      <td>Alabama</td>\n",
       "      <td>0.345538</td>\n",
       "      <td>0.628884</td>\n",
       "      <td>0.365707</td>\n",
       "      <td>0.620310</td>\n",
       "      <td>0.020169</td>\n",
       "      <td>-0.008574</td>\n",
       "    </tr>\n",
       "    <tr>\n",
       "      <th>1</th>\n",
       "      <td>Arizona</td>\n",
       "      <td>0.453871</td>\n",
       "      <td>0.495031</td>\n",
       "      <td>0.493647</td>\n",
       "      <td>0.490560</td>\n",
       "      <td>0.039776</td>\n",
       "      <td>-0.004471</td>\n",
       "    </tr>\n",
       "    <tr>\n",
       "      <th>2</th>\n",
       "      <td>Arkansas</td>\n",
       "      <td>0.341624</td>\n",
       "      <td>0.611487</td>\n",
       "      <td>0.347751</td>\n",
       "      <td>0.623957</td>\n",
       "      <td>0.006127</td>\n",
       "      <td>0.012470</td>\n",
       "    </tr>\n",
       "    <tr>\n",
       "      <th>3</th>\n",
       "      <td>California</td>\n",
       "      <td>0.615885</td>\n",
       "      <td>0.327598</td>\n",
       "      <td>0.634992</td>\n",
       "      <td>0.343278</td>\n",
       "      <td>0.019107</td>\n",
       "      <td>0.015680</td>\n",
       "    </tr>\n",
       "    <tr>\n",
       "      <th>4</th>\n",
       "      <td>Colorado</td>\n",
       "      <td>0.472746</td>\n",
       "      <td>0.443593</td>\n",
       "      <td>0.554000</td>\n",
       "      <td>0.418983</td>\n",
       "      <td>0.081254</td>\n",
       "      <td>-0.024610</td>\n",
       "    </tr>\n",
       "    <tr>\n",
       "      <th>5</th>\n",
       "      <td>Connecticut</td>\n",
       "      <td>0.544755</td>\n",
       "      <td>0.411610</td>\n",
       "      <td>0.592387</td>\n",
       "      <td>0.392095</td>\n",
       "      <td>0.047633</td>\n",
       "      <td>-0.019515</td>\n",
       "    </tr>\n",
       "    <tr>\n",
       "      <th>6</th>\n",
       "      <td>District of Columbia</td>\n",
       "      <td>0.928466</td>\n",
       "      <td>0.041221</td>\n",
       "      <td>0.921497</td>\n",
       "      <td>0.053973</td>\n",
       "      <td>-0.006969</td>\n",
       "      <td>0.012753</td>\n",
       "    </tr>\n",
       "    <tr>\n",
       "      <th>7</th>\n",
       "      <td>Delaware</td>\n",
       "      <td>0.533550</td>\n",
       "      <td>0.419226</td>\n",
       "      <td>0.587822</td>\n",
       "      <td>0.398014</td>\n",
       "      <td>0.054272</td>\n",
       "      <td>-0.021212</td>\n",
       "    </tr>\n",
       "    <tr>\n",
       "      <th>8</th>\n",
       "      <td>Florida</td>\n",
       "      <td>0.477881</td>\n",
       "      <td>0.490640</td>\n",
       "      <td>0.478615</td>\n",
       "      <td>0.512198</td>\n",
       "      <td>0.000734</td>\n",
       "      <td>0.021558</td>\n",
       "    </tr>\n",
       "    <tr>\n",
       "      <th>9</th>\n",
       "      <td>Georgia</td>\n",
       "      <td>0.455955</td>\n",
       "      <td>0.513361</td>\n",
       "      <td>0.494953</td>\n",
       "      <td>0.492596</td>\n",
       "      <td>0.038998</td>\n",
       "      <td>-0.020766</td>\n",
       "    </tr>\n",
       "    <tr>\n",
       "      <th>10</th>\n",
       "      <td>Hawaii</td>\n",
       "      <td>0.622228</td>\n",
       "      <td>0.300391</td>\n",
       "      <td>0.637336</td>\n",
       "      <td>0.342689</td>\n",
       "      <td>0.015108</td>\n",
       "      <td>0.042298</td>\n",
       "    </tr>\n",
       "    <tr>\n",
       "      <th>11</th>\n",
       "      <td>Idaho</td>\n",
       "      <td>0.275599</td>\n",
       "      <td>0.591657</td>\n",
       "      <td>0.330629</td>\n",
       "      <td>0.638308</td>\n",
       "      <td>0.055030</td>\n",
       "      <td>0.046651</td>\n",
       "    </tr>\n",
       "    <tr>\n",
       "      <th>12</th>\n",
       "      <td>Illinois</td>\n",
       "      <td>0.554027</td>\n",
       "      <td>0.394133</td>\n",
       "      <td>0.574930</td>\n",
       "      <td>0.405192</td>\n",
       "      <td>0.020902</td>\n",
       "      <td>0.011059</td>\n",
       "    </tr>\n",
       "    <tr>\n",
       "      <th>13</th>\n",
       "      <td>Indiana</td>\n",
       "      <td>0.379112</td>\n",
       "      <td>0.571713</td>\n",
       "      <td>0.409632</td>\n",
       "      <td>0.570306</td>\n",
       "      <td>0.030520</td>\n",
       "      <td>-0.001407</td>\n",
       "    </tr>\n",
       "    <tr>\n",
       "      <th>14</th>\n",
       "      <td>Iowa</td>\n",
       "      <td>0.421802</td>\n",
       "      <td>0.517813</td>\n",
       "      <td>0.448917</td>\n",
       "      <td>0.530893</td>\n",
       "      <td>0.027115</td>\n",
       "      <td>0.013080</td>\n",
       "    </tr>\n",
       "    <tr>\n",
       "      <th>15</th>\n",
       "      <td>Kansas</td>\n",
       "      <td>0.361584</td>\n",
       "      <td>0.571863</td>\n",
       "      <td>0.413962</td>\n",
       "      <td>0.561736</td>\n",
       "      <td>0.052378</td>\n",
       "      <td>-0.010128</td>\n",
       "    </tr>\n",
       "    <tr>\n",
       "      <th>16</th>\n",
       "      <td>Kentucky</td>\n",
       "      <td>0.327140</td>\n",
       "      <td>0.625809</td>\n",
       "      <td>0.361515</td>\n",
       "      <td>0.620866</td>\n",
       "      <td>0.034375</td>\n",
       "      <td>-0.004944</td>\n",
       "    </tr>\n",
       "    <tr>\n",
       "      <th>17</th>\n",
       "      <td>Louisiana</td>\n",
       "      <td>0.384437</td>\n",
       "      <td>0.580947</td>\n",
       "      <td>0.398515</td>\n",
       "      <td>0.584609</td>\n",
       "      <td>0.014077</td>\n",
       "      <td>0.003662</td>\n",
       "    </tr>\n",
       "    <tr>\n",
       "      <th>18</th>\n",
       "      <td>Maine</td>\n",
       "      <td>0.478556</td>\n",
       "      <td>0.451538</td>\n",
       "      <td>0.529006</td>\n",
       "      <td>0.442278</td>\n",
       "      <td>0.050450</td>\n",
       "      <td>-0.009260</td>\n",
       "    </tr>\n",
       "    <tr>\n",
       "      <th>19</th>\n",
       "      <td>Maryland</td>\n",
       "      <td>0.605345</td>\n",
       "      <td>0.353053</td>\n",
       "      <td>0.653607</td>\n",
       "      <td>0.321503</td>\n",
       "      <td>0.048262</td>\n",
       "      <td>-0.031551</td>\n",
       "    </tr>\n",
       "    <tr>\n",
       "      <th>20</th>\n",
       "      <td>Massachusetts</td>\n",
       "      <td>0.607999</td>\n",
       "      <td>0.335157</td>\n",
       "      <td>0.656001</td>\n",
       "      <td>0.321419</td>\n",
       "      <td>0.048002</td>\n",
       "      <td>-0.013738</td>\n",
       "    </tr>\n",
       "    <tr>\n",
       "      <th>21</th>\n",
       "      <td>Michigan</td>\n",
       "      <td>0.473436</td>\n",
       "      <td>0.475860</td>\n",
       "      <td>0.506208</td>\n",
       "      <td>0.478373</td>\n",
       "      <td>0.032772</td>\n",
       "      <td>0.002513</td>\n",
       "    </tr>\n",
       "    <tr>\n",
       "      <th>22</th>\n",
       "      <td>Minnesota</td>\n",
       "      <td>0.468617</td>\n",
       "      <td>0.453603</td>\n",
       "      <td>0.523951</td>\n",
       "      <td>0.452849</td>\n",
       "      <td>0.055334</td>\n",
       "      <td>-0.000754</td>\n",
       "    </tr>\n",
       "    <tr>\n",
       "      <th>23</th>\n",
       "      <td>Mississippi</td>\n",
       "      <td>0.397254</td>\n",
       "      <td>0.583375</td>\n",
       "      <td>0.410133</td>\n",
       "      <td>0.575408</td>\n",
       "      <td>0.012879</td>\n",
       "      <td>-0.007966</td>\n",
       "    </tr>\n",
       "    <tr>\n",
       "      <th>24</th>\n",
       "      <td>Missouri</td>\n",
       "      <td>0.380127</td>\n",
       "      <td>0.571422</td>\n",
       "      <td>0.414088</td>\n",
       "      <td>0.567997</td>\n",
       "      <td>0.033961</td>\n",
       "      <td>-0.003426</td>\n",
       "    </tr>\n",
       "    <tr>\n",
       "      <th>25</th>\n",
       "      <td>Montana</td>\n",
       "      <td>0.360898</td>\n",
       "      <td>0.566863</td>\n",
       "      <td>0.404104</td>\n",
       "      <td>0.567234</td>\n",
       "      <td>0.043206</td>\n",
       "      <td>0.000371</td>\n",
       "    </tr>\n",
       "    <tr>\n",
       "      <th>26</th>\n",
       "      <td>Nebraska</td>\n",
       "      <td>0.339927</td>\n",
       "      <td>0.603024</td>\n",
       "      <td>0.391668</td>\n",
       "      <td>0.582244</td>\n",
       "      <td>0.051741</td>\n",
       "      <td>-0.020780</td>\n",
       "    </tr>\n",
       "    <tr>\n",
       "      <th>27</th>\n",
       "      <td>Nevada</td>\n",
       "      <td>0.479280</td>\n",
       "      <td>0.454916</td>\n",
       "      <td>0.500952</td>\n",
       "      <td>0.476280</td>\n",
       "      <td>0.021671</td>\n",
       "      <td>0.021363</td>\n",
       "    </tr>\n",
       "    <tr>\n",
       "      <th>28</th>\n",
       "      <td>New Hampshire</td>\n",
       "      <td>0.476413</td>\n",
       "      <td>0.472678</td>\n",
       "      <td>0.528226</td>\n",
       "      <td>0.454550</td>\n",
       "      <td>0.051814</td>\n",
       "      <td>-0.018128</td>\n",
       "    </tr>\n",
       "    <tr>\n",
       "      <th>29</th>\n",
       "      <td>New Jersey</td>\n",
       "      <td>0.550154</td>\n",
       "      <td>0.417839</td>\n",
       "      <td>0.571473</td>\n",
       "      <td>0.412616</td>\n",
       "      <td>0.021319</td>\n",
       "      <td>-0.005223</td>\n",
       "    </tr>\n",
       "    <tr>\n",
       "      <th>30</th>\n",
       "      <td>New Mexico</td>\n",
       "      <td>0.486159</td>\n",
       "      <td>0.403351</td>\n",
       "      <td>0.542893</td>\n",
       "      <td>0.434967</td>\n",
       "      <td>0.056734</td>\n",
       "      <td>0.031616</td>\n",
       "    </tr>\n",
       "    <tr>\n",
       "      <th>31</th>\n",
       "      <td>New York</td>\n",
       "      <td>0.588103</td>\n",
       "      <td>0.374752</td>\n",
       "      <td>0.608621</td>\n",
       "      <td>0.377223</td>\n",
       "      <td>0.020519</td>\n",
       "      <td>0.002471</td>\n",
       "    </tr>\n",
       "    <tr>\n",
       "      <th>32</th>\n",
       "      <td>North Carolina</td>\n",
       "      <td>0.467024</td>\n",
       "      <td>0.505372</td>\n",
       "      <td>0.485862</td>\n",
       "      <td>0.499343</td>\n",
       "      <td>0.018838</td>\n",
       "      <td>-0.006028</td>\n",
       "    </tr>\n",
       "    <tr>\n",
       "      <th>33</th>\n",
       "      <td>North Dakota</td>\n",
       "      <td>0.277552</td>\n",
       "      <td>0.641405</td>\n",
       "      <td>0.317568</td>\n",
       "      <td>0.651140</td>\n",
       "      <td>0.040016</td>\n",
       "      <td>0.009735</td>\n",
       "    </tr>\n",
       "    <tr>\n",
       "      <th>34</th>\n",
       "      <td>Ohio</td>\n",
       "      <td>0.435085</td>\n",
       "      <td>0.520522</td>\n",
       "      <td>0.452393</td>\n",
       "      <td>0.532713</td>\n",
       "      <td>0.017308</td>\n",
       "      <td>0.012191</td>\n",
       "    </tr>\n",
       "    <tr>\n",
       "      <th>35</th>\n",
       "      <td>Oklahoma</td>\n",
       "      <td>0.289298</td>\n",
       "      <td>0.653272</td>\n",
       "      <td>0.322862</td>\n",
       "      <td>0.653733</td>\n",
       "      <td>0.033563</td>\n",
       "      <td>0.000461</td>\n",
       "    </tr>\n",
       "    <tr>\n",
       "      <th>36</th>\n",
       "      <td>Oregon</td>\n",
       "      <td>0.516778</td>\n",
       "      <td>0.410548</td>\n",
       "      <td>0.564533</td>\n",
       "      <td>0.403672</td>\n",
       "      <td>0.047756</td>\n",
       "      <td>-0.006875</td>\n",
       "    </tr>\n",
       "    <tr>\n",
       "      <th>37</th>\n",
       "      <td>Pennsylvania</td>\n",
       "      <td>0.476491</td>\n",
       "      <td>0.487921</td>\n",
       "      <td>0.499609</td>\n",
       "      <td>0.487818</td>\n",
       "      <td>0.023118</td>\n",
       "      <td>-0.000103</td>\n",
       "    </tr>\n",
       "    <tr>\n",
       "      <th>38</th>\n",
       "      <td>Rhode Island</td>\n",
       "      <td>0.555188</td>\n",
       "      <td>0.398606</td>\n",
       "      <td>0.592990</td>\n",
       "      <td>0.386994</td>\n",
       "      <td>0.037802</td>\n",
       "      <td>-0.011612</td>\n",
       "    </tr>\n",
       "    <tr>\n",
       "      <th>39</th>\n",
       "      <td>South Carolina</td>\n",
       "      <td>0.407528</td>\n",
       "      <td>0.548641</td>\n",
       "      <td>0.434301</td>\n",
       "      <td>0.551103</td>\n",
       "      <td>0.026773</td>\n",
       "      <td>0.002462</td>\n",
       "    </tr>\n",
       "    <tr>\n",
       "      <th>40</th>\n",
       "      <td>South Dakota</td>\n",
       "      <td>0.313054</td>\n",
       "      <td>0.619527</td>\n",
       "      <td>0.352024</td>\n",
       "      <td>0.621699</td>\n",
       "      <td>0.038970</td>\n",
       "      <td>0.002172</td>\n",
       "    </tr>\n",
       "    <tr>\n",
       "      <th>41</th>\n",
       "      <td>Tennessee</td>\n",
       "      <td>0.348981</td>\n",
       "      <td>0.610700</td>\n",
       "      <td>0.374514</td>\n",
       "      <td>0.606603</td>\n",
       "      <td>0.025533</td>\n",
       "      <td>-0.004098</td>\n",
       "    </tr>\n",
       "    <tr>\n",
       "      <th>42</th>\n",
       "      <td>Texas</td>\n",
       "      <td>0.434429</td>\n",
       "      <td>0.525829</td>\n",
       "      <td>0.464677</td>\n",
       "      <td>0.520440</td>\n",
       "      <td>0.030249</td>\n",
       "      <td>-0.005389</td>\n",
       "    </tr>\n",
       "    <tr>\n",
       "      <th>43</th>\n",
       "      <td>Utah</td>\n",
       "      <td>0.278376</td>\n",
       "      <td>0.458991</td>\n",
       "      <td>0.376460</td>\n",
       "      <td>0.581298</td>\n",
       "      <td>0.098085</td>\n",
       "      <td>0.122308</td>\n",
       "    </tr>\n",
       "    <tr>\n",
       "      <th>44</th>\n",
       "      <td>Vermont</td>\n",
       "      <td>0.611431</td>\n",
       "      <td>0.326180</td>\n",
       "      <td>0.660864</td>\n",
       "      <td>0.306738</td>\n",
       "      <td>0.049433</td>\n",
       "      <td>-0.019442</td>\n",
       "    </tr>\n",
       "    <tr>\n",
       "      <th>45</th>\n",
       "      <td>Virginia</td>\n",
       "      <td>0.498557</td>\n",
       "      <td>0.450261</td>\n",
       "      <td>0.541095</td>\n",
       "      <td>0.439955</td>\n",
       "      <td>0.042538</td>\n",
       "      <td>-0.010306</td>\n",
       "    </tr>\n",
       "    <tr>\n",
       "      <th>46</th>\n",
       "      <td>Washington</td>\n",
       "      <td>0.544475</td>\n",
       "      <td>0.381725</td>\n",
       "      <td>0.579703</td>\n",
       "      <td>0.387670</td>\n",
       "      <td>0.035229</td>\n",
       "      <td>0.005945</td>\n",
       "    </tr>\n",
       "    <tr>\n",
       "      <th>47</th>\n",
       "      <td>West Virginia</td>\n",
       "      <td>0.264685</td>\n",
       "      <td>0.686501</td>\n",
       "      <td>0.296965</td>\n",
       "      <td>0.686316</td>\n",
       "      <td>0.032280</td>\n",
       "      <td>-0.000186</td>\n",
       "    </tr>\n",
       "    <tr>\n",
       "      <th>48</th>\n",
       "      <td>Wisconsin</td>\n",
       "      <td>0.470095</td>\n",
       "      <td>0.477882</td>\n",
       "      <td>0.494540</td>\n",
       "      <td>0.488290</td>\n",
       "      <td>0.024445</td>\n",
       "      <td>0.010409</td>\n",
       "    </tr>\n",
       "    <tr>\n",
       "      <th>49</th>\n",
       "      <td>Wyoming</td>\n",
       "      <td>0.224928</td>\n",
       "      <td>0.700517</td>\n",
       "      <td>0.265536</td>\n",
       "      <td>0.699362</td>\n",
       "      <td>0.040608</td>\n",
       "      <td>-0.001155</td>\n",
       "    </tr>\n",
       "  </tbody>\n",
       "</table>\n",
       "</div>"
      ],
      "text/plain": [
       "                   state  per_dem_2016  per_gop_2016  per_dem_2020  \\\n",
       "0                Alabama      0.345538      0.628884      0.365707   \n",
       "1                Arizona      0.453871      0.495031      0.493647   \n",
       "2               Arkansas      0.341624      0.611487      0.347751   \n",
       "3             California      0.615885      0.327598      0.634992   \n",
       "4               Colorado      0.472746      0.443593      0.554000   \n",
       "5            Connecticut      0.544755      0.411610      0.592387   \n",
       "6   District of Columbia      0.928466      0.041221      0.921497   \n",
       "7               Delaware      0.533550      0.419226      0.587822   \n",
       "8                Florida      0.477881      0.490640      0.478615   \n",
       "9                Georgia      0.455955      0.513361      0.494953   \n",
       "10                Hawaii      0.622228      0.300391      0.637336   \n",
       "11                 Idaho      0.275599      0.591657      0.330629   \n",
       "12              Illinois      0.554027      0.394133      0.574930   \n",
       "13               Indiana      0.379112      0.571713      0.409632   \n",
       "14                  Iowa      0.421802      0.517813      0.448917   \n",
       "15                Kansas      0.361584      0.571863      0.413962   \n",
       "16              Kentucky      0.327140      0.625809      0.361515   \n",
       "17             Louisiana      0.384437      0.580947      0.398515   \n",
       "18                 Maine      0.478556      0.451538      0.529006   \n",
       "19              Maryland      0.605345      0.353053      0.653607   \n",
       "20         Massachusetts      0.607999      0.335157      0.656001   \n",
       "21              Michigan      0.473436      0.475860      0.506208   \n",
       "22             Minnesota      0.468617      0.453603      0.523951   \n",
       "23           Mississippi      0.397254      0.583375      0.410133   \n",
       "24              Missouri      0.380127      0.571422      0.414088   \n",
       "25               Montana      0.360898      0.566863      0.404104   \n",
       "26              Nebraska      0.339927      0.603024      0.391668   \n",
       "27                Nevada      0.479280      0.454916      0.500952   \n",
       "28         New Hampshire      0.476413      0.472678      0.528226   \n",
       "29            New Jersey      0.550154      0.417839      0.571473   \n",
       "30            New Mexico      0.486159      0.403351      0.542893   \n",
       "31              New York      0.588103      0.374752      0.608621   \n",
       "32        North Carolina      0.467024      0.505372      0.485862   \n",
       "33          North Dakota      0.277552      0.641405      0.317568   \n",
       "34                  Ohio      0.435085      0.520522      0.452393   \n",
       "35              Oklahoma      0.289298      0.653272      0.322862   \n",
       "36                Oregon      0.516778      0.410548      0.564533   \n",
       "37          Pennsylvania      0.476491      0.487921      0.499609   \n",
       "38          Rhode Island      0.555188      0.398606      0.592990   \n",
       "39        South Carolina      0.407528      0.548641      0.434301   \n",
       "40          South Dakota      0.313054      0.619527      0.352024   \n",
       "41             Tennessee      0.348981      0.610700      0.374514   \n",
       "42                 Texas      0.434429      0.525829      0.464677   \n",
       "43                  Utah      0.278376      0.458991      0.376460   \n",
       "44               Vermont      0.611431      0.326180      0.660864   \n",
       "45              Virginia      0.498557      0.450261      0.541095   \n",
       "46            Washington      0.544475      0.381725      0.579703   \n",
       "47         West Virginia      0.264685      0.686501      0.296965   \n",
       "48             Wisconsin      0.470095      0.477882      0.494540   \n",
       "49               Wyoming      0.224928      0.700517      0.265536   \n",
       "\n",
       "    per_gop_2020  swing_dem  swing_gop  \n",
       "0       0.620310   0.020169  -0.008574  \n",
       "1       0.490560   0.039776  -0.004471  \n",
       "2       0.623957   0.006127   0.012470  \n",
       "3       0.343278   0.019107   0.015680  \n",
       "4       0.418983   0.081254  -0.024610  \n",
       "5       0.392095   0.047633  -0.019515  \n",
       "6       0.053973  -0.006969   0.012753  \n",
       "7       0.398014   0.054272  -0.021212  \n",
       "8       0.512198   0.000734   0.021558  \n",
       "9       0.492596   0.038998  -0.020766  \n",
       "10      0.342689   0.015108   0.042298  \n",
       "11      0.638308   0.055030   0.046651  \n",
       "12      0.405192   0.020902   0.011059  \n",
       "13      0.570306   0.030520  -0.001407  \n",
       "14      0.530893   0.027115   0.013080  \n",
       "15      0.561736   0.052378  -0.010128  \n",
       "16      0.620866   0.034375  -0.004944  \n",
       "17      0.584609   0.014077   0.003662  \n",
       "18      0.442278   0.050450  -0.009260  \n",
       "19      0.321503   0.048262  -0.031551  \n",
       "20      0.321419   0.048002  -0.013738  \n",
       "21      0.478373   0.032772   0.002513  \n",
       "22      0.452849   0.055334  -0.000754  \n",
       "23      0.575408   0.012879  -0.007966  \n",
       "24      0.567997   0.033961  -0.003426  \n",
       "25      0.567234   0.043206   0.000371  \n",
       "26      0.582244   0.051741  -0.020780  \n",
       "27      0.476280   0.021671   0.021363  \n",
       "28      0.454550   0.051814  -0.018128  \n",
       "29      0.412616   0.021319  -0.005223  \n",
       "30      0.434967   0.056734   0.031616  \n",
       "31      0.377223   0.020519   0.002471  \n",
       "32      0.499343   0.018838  -0.006028  \n",
       "33      0.651140   0.040016   0.009735  \n",
       "34      0.532713   0.017308   0.012191  \n",
       "35      0.653733   0.033563   0.000461  \n",
       "36      0.403672   0.047756  -0.006875  \n",
       "37      0.487818   0.023118  -0.000103  \n",
       "38      0.386994   0.037802  -0.011612  \n",
       "39      0.551103   0.026773   0.002462  \n",
       "40      0.621699   0.038970   0.002172  \n",
       "41      0.606603   0.025533  -0.004098  \n",
       "42      0.520440   0.030249  -0.005389  \n",
       "43      0.581298   0.098085   0.122308  \n",
       "44      0.306738   0.049433  -0.019442  \n",
       "45      0.439955   0.042538  -0.010306  \n",
       "46      0.387670   0.035229   0.005945  \n",
       "47      0.686316   0.032280  -0.000186  \n",
       "48      0.488290   0.024445   0.010409  \n",
       "49      0.699362   0.040608  -0.001155  "
      ]
     },
     "execution_count": 372,
     "metadata": {},
     "output_type": "execute_result"
    }
   ],
   "source": [
    "# Combinar ambos años en historical_data usando \"state\"\n",
    "historical_data = full_df_actual_state_2016[['state', 'Per_dem_2016', 'Per_gop_2016']].rename(\n",
    "    columns={\"Per_dem_2016\": \"per_dem_2016\", \"Per_gop_2016\": \"per_gop_2016\"}\n",
    ").merge(\n",
    "    full_df_actual_state_2020[['state', 'Per_dem_2020', 'Per_gop_2020']].rename(\n",
    "        columns={\"Per_dem_2020\": \"per_dem_2020\", \"Per_gop_2020\": \"per_gop_2020\"}\n",
    "    ),\n",
    "    on=\"state\",\n",
    "    how=\"inner\"\n",
    ")\n",
    "\n",
    "# Calcular la diferencia en porcentaje de votos entre 2016 y 2020\n",
    "historical_data[\"swing_dem\"] = historical_data[\"per_dem_2020\"] - historical_data[\"per_dem_2016\"]\n",
    "historical_data[\"swing_gop\"] = historical_data[\"per_gop_2020\"] - historical_data[\"per_gop_2016\"]\n",
    "\n",
    "historical_data"
   ]
  },
  {
   "cell_type": "markdown",
   "metadata": {},
   "source": [
    "### 2024"
   ]
  },
  {
   "cell_type": "code",
   "execution_count": 373,
   "metadata": {},
   "outputs": [],
   "source": [
    "# Cargar datos\n",
    "data = read_csv(f\"data/final_data_{ELECTORAL_YEAR}.csv\")\n",
    "\n",
    "# Crear data para simulación\n",
    "# columns_to_drop = ['Total_2020', 'Other_2020', 'Winner_2020', \"Biden_2020\"]  # Nombres de las columnas a eliminar\n",
    "columns_to_drop = [\"votes_dem\", \"total_votes\", \"votes_others\", \"per_votes_others\", \"winner\"]  # Nombres de las columnas a eliminar\n",
    "\n",
    "data_sim = data.drop(columns=columns_to_drop)"
   ]
  },
  {
   "cell_type": "code",
   "execution_count": 374,
   "metadata": {},
   "outputs": [
    {
     "data": {
      "text/html": [
       "<div>\n",
       "<style scoped>\n",
       "    .dataframe tbody tr th:only-of-type {\n",
       "        vertical-align: middle;\n",
       "    }\n",
       "\n",
       "    .dataframe tbody tr th {\n",
       "        vertical-align: top;\n",
       "    }\n",
       "\n",
       "    .dataframe thead th {\n",
       "        text-align: right;\n",
       "    }\n",
       "</style>\n",
       "<table border=\"1\" class=\"dataframe\">\n",
       "  <thead>\n",
       "    <tr style=\"text-align: right;\">\n",
       "      <th></th>\n",
       "      <th>state</th>\n",
       "      <th>state_code</th>\n",
       "      <th>ElectoralVotes2024</th>\n",
       "      <th>Votes_dem</th>\n",
       "      <th>Votes_gop</th>\n",
       "      <th>Votes_other</th>\n",
       "      <th>Votes_total</th>\n",
       "      <th>Per_dem</th>\n",
       "      <th>Per_gop</th>\n",
       "      <th>Winner</th>\n",
       "      <th>Difference</th>\n",
       "      <th>Status</th>\n",
       "    </tr>\n",
       "  </thead>\n",
       "  <tbody>\n",
       "    <tr>\n",
       "      <th>0</th>\n",
       "      <td>Alabama</td>\n",
       "      <td>AL</td>\n",
       "      <td>9</td>\n",
       "      <td>772412.0</td>\n",
       "      <td>1462616.0</td>\n",
       "      <td>21324.0</td>\n",
       "      <td>2256352.0</td>\n",
       "      <td>0.342328</td>\n",
       "      <td>0.648222</td>\n",
       "      <td>gop</td>\n",
       "      <td>-30.589376</td>\n",
       "      <td>Safe Republican</td>\n",
       "    </tr>\n",
       "    <tr>\n",
       "      <th>1</th>\n",
       "      <td>Arizona</td>\n",
       "      <td>AZ</td>\n",
       "      <td>11</td>\n",
       "      <td>1582860.0</td>\n",
       "      <td>1770242.0</td>\n",
       "      <td>36217.0</td>\n",
       "      <td>3389319.0</td>\n",
       "      <td>0.467014</td>\n",
       "      <td>0.522300</td>\n",
       "      <td>gop</td>\n",
       "      <td>-5.528603</td>\n",
       "      <td>Likely Republican</td>\n",
       "    </tr>\n",
       "    <tr>\n",
       "      <th>2</th>\n",
       "      <td>Arkansas</td>\n",
       "      <td>AR</td>\n",
       "      <td>6</td>\n",
       "      <td>396905.0</td>\n",
       "      <td>759241.0</td>\n",
       "      <td>26530.0</td>\n",
       "      <td>1182676.0</td>\n",
       "      <td>0.335599</td>\n",
       "      <td>0.641969</td>\n",
       "      <td>gop</td>\n",
       "      <td>-30.636962</td>\n",
       "      <td>Safe Republican</td>\n",
       "    </tr>\n",
       "    <tr>\n",
       "      <th>3</th>\n",
       "      <td>California</td>\n",
       "      <td>CA</td>\n",
       "      <td>54</td>\n",
       "      <td>9276179.0</td>\n",
       "      <td>6081697.0</td>\n",
       "      <td>504660.0</td>\n",
       "      <td>15862536.0</td>\n",
       "      <td>0.584785</td>\n",
       "      <td>0.383400</td>\n",
       "      <td>dem</td>\n",
       "      <td>20.138533</td>\n",
       "      <td>Safe Democrat</td>\n",
       "    </tr>\n",
       "    <tr>\n",
       "      <th>4</th>\n",
       "      <td>Colorado</td>\n",
       "      <td>CO</td>\n",
       "      <td>10</td>\n",
       "      <td>1728159.0</td>\n",
       "      <td>1377441.0</td>\n",
       "      <td>85273.0</td>\n",
       "      <td>3190873.0</td>\n",
       "      <td>0.541594</td>\n",
       "      <td>0.431682</td>\n",
       "      <td>dem</td>\n",
       "      <td>10.991287</td>\n",
       "      <td>Safe Democrat</td>\n",
       "    </tr>\n",
       "    <tr>\n",
       "      <th>5</th>\n",
       "      <td>Connecticut</td>\n",
       "      <td>CT</td>\n",
       "      <td>7</td>\n",
       "      <td>810859.0</td>\n",
       "      <td>614616.0</td>\n",
       "      <td>24654.0</td>\n",
       "      <td>1450129.0</td>\n",
       "      <td>0.559163</td>\n",
       "      <td>0.423835</td>\n",
       "      <td>dem</td>\n",
       "      <td>13.532796</td>\n",
       "      <td>Safe Democrat</td>\n",
       "    </tr>\n",
       "    <tr>\n",
       "      <th>6</th>\n",
       "      <td>District of Columbia</td>\n",
       "      <td>DC</td>\n",
       "      <td>3</td>\n",
       "      <td>36882.0</td>\n",
       "      <td>2056.0</td>\n",
       "      <td>1525.0</td>\n",
       "      <td>40463.0</td>\n",
       "      <td>0.911499</td>\n",
       "      <td>0.050812</td>\n",
       "      <td>dem</td>\n",
       "      <td>86.068754</td>\n",
       "      <td>Safe Democrat</td>\n",
       "    </tr>\n",
       "    <tr>\n",
       "      <th>7</th>\n",
       "      <td>Delaware</td>\n",
       "      <td>DE</td>\n",
       "      <td>3</td>\n",
       "      <td>289758.0</td>\n",
       "      <td>214351.0</td>\n",
       "      <td>7588.0</td>\n",
       "      <td>511697.0</td>\n",
       "      <td>0.566269</td>\n",
       "      <td>0.418902</td>\n",
       "      <td>dem</td>\n",
       "      <td>14.736651</td>\n",
       "      <td>Safe Democrat</td>\n",
       "    </tr>\n",
       "    <tr>\n",
       "      <th>8</th>\n",
       "      <td>Florida</td>\n",
       "      <td>FL</td>\n",
       "      <td>30</td>\n",
       "      <td>4683038.0</td>\n",
       "      <td>6110125.0</td>\n",
       "      <td>100384.0</td>\n",
       "      <td>10893547.0</td>\n",
       "      <td>0.429891</td>\n",
       "      <td>0.560894</td>\n",
       "      <td>gop</td>\n",
       "      <td>-13.100297</td>\n",
       "      <td>Safe Republican</td>\n",
       "    </tr>\n",
       "    <tr>\n",
       "      <th>9</th>\n",
       "      <td>Georgia</td>\n",
       "      <td>GA</td>\n",
       "      <td>16</td>\n",
       "      <td>2548017.0</td>\n",
       "      <td>2663117.0</td>\n",
       "      <td>38913.0</td>\n",
       "      <td>5250047.0</td>\n",
       "      <td>0.485332</td>\n",
       "      <td>0.507256</td>\n",
       "      <td>gop</td>\n",
       "      <td>-2.192361</td>\n",
       "      <td>Toss-Up</td>\n",
       "    </tr>\n",
       "    <tr>\n",
       "      <th>10</th>\n",
       "      <td>Hawaii</td>\n",
       "      <td>HI</td>\n",
       "      <td>4</td>\n",
       "      <td>313044.0</td>\n",
       "      <td>193661.0</td>\n",
       "      <td>9996.0</td>\n",
       "      <td>516701.0</td>\n",
       "      <td>0.605851</td>\n",
       "      <td>0.374803</td>\n",
       "      <td>dem</td>\n",
       "      <td>23.104852</td>\n",
       "      <td>Safe Democrat</td>\n",
       "    </tr>\n",
       "    <tr>\n",
       "      <th>11</th>\n",
       "      <td>Idaho</td>\n",
       "      <td>ID</td>\n",
       "      <td>4</td>\n",
       "      <td>274972.0</td>\n",
       "      <td>605246.0</td>\n",
       "      <td>24594.0</td>\n",
       "      <td>904812.0</td>\n",
       "      <td>0.303900</td>\n",
       "      <td>0.668919</td>\n",
       "      <td>gop</td>\n",
       "      <td>-36.501947</td>\n",
       "      <td>Safe Republican</td>\n",
       "    </tr>\n",
       "    <tr>\n",
       "      <th>12</th>\n",
       "      <td>Illinois</td>\n",
       "      <td>IL</td>\n",
       "      <td>19</td>\n",
       "      <td>3062863.0</td>\n",
       "      <td>2449079.0</td>\n",
       "      <td>80426.0</td>\n",
       "      <td>5592368.0</td>\n",
       "      <td>0.547686</td>\n",
       "      <td>0.437932</td>\n",
       "      <td>dem</td>\n",
       "      <td>10.975386</td>\n",
       "      <td>Safe Democrat</td>\n",
       "    </tr>\n",
       "    <tr>\n",
       "      <th>13</th>\n",
       "      <td>Indiana</td>\n",
       "      <td>IN</td>\n",
       "      <td>11</td>\n",
       "      <td>1163603.0</td>\n",
       "      <td>1720347.0</td>\n",
       "      <td>49750.0</td>\n",
       "      <td>2933700.0</td>\n",
       "      <td>0.396633</td>\n",
       "      <td>0.586409</td>\n",
       "      <td>gop</td>\n",
       "      <td>-18.977537</td>\n",
       "      <td>Safe Republican</td>\n",
       "    </tr>\n",
       "    <tr>\n",
       "      <th>14</th>\n",
       "      <td>Iowa</td>\n",
       "      <td>IA</td>\n",
       "      <td>6</td>\n",
       "      <td>707278.0</td>\n",
       "      <td>927019.0</td>\n",
       "      <td>22552.0</td>\n",
       "      <td>1656849.0</td>\n",
       "      <td>0.426881</td>\n",
       "      <td>0.559507</td>\n",
       "      <td>gop</td>\n",
       "      <td>-13.262585</td>\n",
       "      <td>Safe Republican</td>\n",
       "    </tr>\n",
       "    <tr>\n",
       "      <th>15</th>\n",
       "      <td>Kansas</td>\n",
       "      <td>KS</td>\n",
       "      <td>6</td>\n",
       "      <td>544853.0</td>\n",
       "      <td>758802.0</td>\n",
       "      <td>23936.0</td>\n",
       "      <td>1327591.0</td>\n",
       "      <td>0.410407</td>\n",
       "      <td>0.571563</td>\n",
       "      <td>gop</td>\n",
       "      <td>-16.115581</td>\n",
       "      <td>Safe Republican</td>\n",
       "    </tr>\n",
       "    <tr>\n",
       "      <th>16</th>\n",
       "      <td>Kentucky</td>\n",
       "      <td>KY</td>\n",
       "      <td>8</td>\n",
       "      <td>704043.0</td>\n",
       "      <td>1337494.0</td>\n",
       "      <td>31772.0</td>\n",
       "      <td>2073309.0</td>\n",
       "      <td>0.339575</td>\n",
       "      <td>0.645101</td>\n",
       "      <td>gop</td>\n",
       "      <td>-30.552658</td>\n",
       "      <td>Safe Republican</td>\n",
       "    </tr>\n",
       "    <tr>\n",
       "      <th>17</th>\n",
       "      <td>Louisiana</td>\n",
       "      <td>LA</td>\n",
       "      <td>8</td>\n",
       "      <td>766870.0</td>\n",
       "      <td>1208505.0</td>\n",
       "      <td>31600.0</td>\n",
       "      <td>2006975.0</td>\n",
       "      <td>0.382102</td>\n",
       "      <td>0.602152</td>\n",
       "      <td>gop</td>\n",
       "      <td>-22.005008</td>\n",
       "      <td>Safe Republican</td>\n",
       "    </tr>\n",
       "    <tr>\n",
       "      <th>18</th>\n",
       "      <td>Maine</td>\n",
       "      <td>ME</td>\n",
       "      <td>4</td>\n",
       "      <td>435652.0</td>\n",
       "      <td>377977.0</td>\n",
       "      <td>17746.0</td>\n",
       "      <td>831375.0</td>\n",
       "      <td>0.524014</td>\n",
       "      <td>0.454641</td>\n",
       "      <td>dem</td>\n",
       "      <td>6.937303</td>\n",
       "      <td>Likely Democrat</td>\n",
       "    </tr>\n",
       "    <tr>\n",
       "      <th>19</th>\n",
       "      <td>Maryland</td>\n",
       "      <td>MD</td>\n",
       "      <td>10</td>\n",
       "      <td>1902577.0</td>\n",
       "      <td>1035550.0</td>\n",
       "      <td>77523.0</td>\n",
       "      <td>3015650.0</td>\n",
       "      <td>0.630901</td>\n",
       "      <td>0.343392</td>\n",
       "      <td>dem</td>\n",
       "      <td>28.750916</td>\n",
       "      <td>Safe Democrat</td>\n",
       "    </tr>\n",
       "    <tr>\n",
       "      <th>20</th>\n",
       "      <td>Massachusetts</td>\n",
       "      <td>MA</td>\n",
       "      <td>11</td>\n",
       "      <td>2126545.0</td>\n",
       "      <td>1251308.0</td>\n",
       "      <td>75584.0</td>\n",
       "      <td>3453437.0</td>\n",
       "      <td>0.615776</td>\n",
       "      <td>0.362337</td>\n",
       "      <td>dem</td>\n",
       "      <td>25.343940</td>\n",
       "      <td>Safe Democrat</td>\n",
       "    </tr>\n",
       "    <tr>\n",
       "      <th>21</th>\n",
       "      <td>Michigan</td>\n",
       "      <td>MI</td>\n",
       "      <td>15</td>\n",
       "      <td>2736533.0</td>\n",
       "      <td>2816636.0</td>\n",
       "      <td>109335.0</td>\n",
       "      <td>5662504.0</td>\n",
       "      <td>0.483273</td>\n",
       "      <td>0.497419</td>\n",
       "      <td>gop</td>\n",
       "      <td>-1.414622</td>\n",
       "      <td>Toss-Up</td>\n",
       "    </tr>\n",
       "    <tr>\n",
       "      <th>22</th>\n",
       "      <td>Minnesota</td>\n",
       "      <td>MN</td>\n",
       "      <td>10</td>\n",
       "      <td>1656979.0</td>\n",
       "      <td>1519032.0</td>\n",
       "      <td>64905.0</td>\n",
       "      <td>3240916.0</td>\n",
       "      <td>0.511269</td>\n",
       "      <td>0.468705</td>\n",
       "      <td>dem</td>\n",
       "      <td>4.256420</td>\n",
       "      <td>Likely Democrat</td>\n",
       "    </tr>\n",
       "    <tr>\n",
       "      <th>23</th>\n",
       "      <td>Mississippi</td>\n",
       "      <td>MS</td>\n",
       "      <td>6</td>\n",
       "      <td>466668.0</td>\n",
       "      <td>747744.0</td>\n",
       "      <td>13596.0</td>\n",
       "      <td>1228008.0</td>\n",
       "      <td>0.380020</td>\n",
       "      <td>0.608908</td>\n",
       "      <td>gop</td>\n",
       "      <td>-22.888776</td>\n",
       "      <td>Safe Republican</td>\n",
       "    </tr>\n",
       "    <tr>\n",
       "      <th>24</th>\n",
       "      <td>Missouri</td>\n",
       "      <td>MO</td>\n",
       "      <td>10</td>\n",
       "      <td>1200599.0</td>\n",
       "      <td>1751986.0</td>\n",
       "      <td>41011.0</td>\n",
       "      <td>2993596.0</td>\n",
       "      <td>0.401056</td>\n",
       "      <td>0.585245</td>\n",
       "      <td>gop</td>\n",
       "      <td>-18.418885</td>\n",
       "      <td>Safe Republican</td>\n",
       "    </tr>\n",
       "    <tr>\n",
       "      <th>25</th>\n",
       "      <td>Montana</td>\n",
       "      <td>MT</td>\n",
       "      <td>4</td>\n",
       "      <td>231906.0</td>\n",
       "      <td>352079.0</td>\n",
       "      <td>18978.0</td>\n",
       "      <td>602963.0</td>\n",
       "      <td>0.384611</td>\n",
       "      <td>0.583915</td>\n",
       "      <td>gop</td>\n",
       "      <td>-19.930410</td>\n",
       "      <td>Safe Republican</td>\n",
       "    </tr>\n",
       "    <tr>\n",
       "      <th>26</th>\n",
       "      <td>Nebraska</td>\n",
       "      <td>NE</td>\n",
       "      <td>5</td>\n",
       "      <td>369995.0</td>\n",
       "      <td>564816.0</td>\n",
       "      <td>12348.0</td>\n",
       "      <td>947159.0</td>\n",
       "      <td>0.390637</td>\n",
       "      <td>0.596326</td>\n",
       "      <td>gop</td>\n",
       "      <td>-20.568986</td>\n",
       "      <td>Safe Republican</td>\n",
       "    </tr>\n",
       "    <tr>\n",
       "      <th>27</th>\n",
       "      <td>Nevada</td>\n",
       "      <td>NV</td>\n",
       "      <td>6</td>\n",
       "      <td>704284.0</td>\n",
       "      <td>749097.0</td>\n",
       "      <td>28384.0</td>\n",
       "      <td>1481765.0</td>\n",
       "      <td>0.475301</td>\n",
       "      <td>0.505544</td>\n",
       "      <td>gop</td>\n",
       "      <td>-3.024299</td>\n",
       "      <td>Likely Republican</td>\n",
       "    </tr>\n",
       "    <tr>\n",
       "      <th>28</th>\n",
       "      <td>New Hampshire</td>\n",
       "      <td>NH</td>\n",
       "      <td>4</td>\n",
       "      <td>418496.0</td>\n",
       "      <td>395578.0</td>\n",
       "      <td>8079.0</td>\n",
       "      <td>822153.0</td>\n",
       "      <td>0.509024</td>\n",
       "      <td>0.481149</td>\n",
       "      <td>dem</td>\n",
       "      <td>2.787559</td>\n",
       "      <td>Likely Democrat</td>\n",
       "    </tr>\n",
       "    <tr>\n",
       "      <th>29</th>\n",
       "      <td>New Jersey</td>\n",
       "      <td>NJ</td>\n",
       "      <td>14</td>\n",
       "      <td>2220713.0</td>\n",
       "      <td>1968215.0</td>\n",
       "      <td>83797.0</td>\n",
       "      <td>4272725.0</td>\n",
       "      <td>0.519742</td>\n",
       "      <td>0.460646</td>\n",
       "      <td>dem</td>\n",
       "      <td>5.909531</td>\n",
       "      <td>Likely Democrat</td>\n",
       "    </tr>\n",
       "    <tr>\n",
       "      <th>30</th>\n",
       "      <td>New Mexico</td>\n",
       "      <td>NM</td>\n",
       "      <td>5</td>\n",
       "      <td>478802.0</td>\n",
       "      <td>423391.0</td>\n",
       "      <td>21210.0</td>\n",
       "      <td>923403.0</td>\n",
       "      <td>0.518519</td>\n",
       "      <td>0.458512</td>\n",
       "      <td>dem</td>\n",
       "      <td>6.000739</td>\n",
       "      <td>Likely Democrat</td>\n",
       "    </tr>\n",
       "    <tr>\n",
       "      <th>31</th>\n",
       "      <td>New York</td>\n",
       "      <td>NY</td>\n",
       "      <td>28</td>\n",
       "      <td>4619195.0</td>\n",
       "      <td>3578899.0</td>\n",
       "      <td>0.0</td>\n",
       "      <td>8198094.0</td>\n",
       "      <td>0.563447</td>\n",
       "      <td>0.436553</td>\n",
       "      <td>dem</td>\n",
       "      <td>12.689486</td>\n",
       "      <td>Safe Democrat</td>\n",
       "    </tr>\n",
       "    <tr>\n",
       "      <th>32</th>\n",
       "      <td>North Carolina</td>\n",
       "      <td>NC</td>\n",
       "      <td>16</td>\n",
       "      <td>2715375.0</td>\n",
       "      <td>2898423.0</td>\n",
       "      <td>65849.0</td>\n",
       "      <td>5679647.0</td>\n",
       "      <td>0.478089</td>\n",
       "      <td>0.510317</td>\n",
       "      <td>gop</td>\n",
       "      <td>-3.222876</td>\n",
       "      <td>Likely Republican</td>\n",
       "    </tr>\n",
       "    <tr>\n",
       "      <th>33</th>\n",
       "      <td>North Dakota</td>\n",
       "      <td>ND</td>\n",
       "      <td>3</td>\n",
       "      <td>112327.0</td>\n",
       "      <td>246505.0</td>\n",
       "      <td>6227.0</td>\n",
       "      <td>365059.0</td>\n",
       "      <td>0.307695</td>\n",
       "      <td>0.675247</td>\n",
       "      <td>gop</td>\n",
       "      <td>-36.755155</td>\n",
       "      <td>Safe Republican</td>\n",
       "    </tr>\n",
       "    <tr>\n",
       "      <th>34</th>\n",
       "      <td>Ohio</td>\n",
       "      <td>OH</td>\n",
       "      <td>17</td>\n",
       "      <td>2533699.0</td>\n",
       "      <td>3180116.0</td>\n",
       "      <td>51202.0</td>\n",
       "      <td>5765017.0</td>\n",
       "      <td>0.439495</td>\n",
       "      <td>0.551623</td>\n",
       "      <td>gop</td>\n",
       "      <td>-11.212751</td>\n",
       "      <td>Safe Republican</td>\n",
       "    </tr>\n",
       "    <tr>\n",
       "      <th>35</th>\n",
       "      <td>Oklahoma</td>\n",
       "      <td>OK</td>\n",
       "      <td>7</td>\n",
       "      <td>499599.0</td>\n",
       "      <td>1036213.0</td>\n",
       "      <td>30361.0</td>\n",
       "      <td>1566173.0</td>\n",
       "      <td>0.318993</td>\n",
       "      <td>0.661621</td>\n",
       "      <td>gop</td>\n",
       "      <td>-34.262754</td>\n",
       "      <td>Safe Republican</td>\n",
       "    </tr>\n",
       "    <tr>\n",
       "      <th>36</th>\n",
       "      <td>Oregon</td>\n",
       "      <td>OR</td>\n",
       "      <td>8</td>\n",
       "      <td>1228410.0</td>\n",
       "      <td>910702.0</td>\n",
       "      <td>68480.0</td>\n",
       "      <td>2207592.0</td>\n",
       "      <td>0.556448</td>\n",
       "      <td>0.412532</td>\n",
       "      <td>dem</td>\n",
       "      <td>14.391609</td>\n",
       "      <td>Safe Democrat</td>\n",
       "    </tr>\n",
       "    <tr>\n",
       "      <th>37</th>\n",
       "      <td>Pennsylvania</td>\n",
       "      <td>PA</td>\n",
       "      <td>19</td>\n",
       "      <td>3423042.0</td>\n",
       "      <td>3543308.0</td>\n",
       "      <td>67856.0</td>\n",
       "      <td>7034206.0</td>\n",
       "      <td>0.486628</td>\n",
       "      <td>0.503725</td>\n",
       "      <td>gop</td>\n",
       "      <td>-1.709731</td>\n",
       "      <td>Toss-Up</td>\n",
       "    </tr>\n",
       "    <tr>\n",
       "      <th>38</th>\n",
       "      <td>Rhode Island</td>\n",
       "      <td>RI</td>\n",
       "      <td>4</td>\n",
       "      <td>285156.0</td>\n",
       "      <td>214406.0</td>\n",
       "      <td>11097.0</td>\n",
       "      <td>510659.0</td>\n",
       "      <td>0.558408</td>\n",
       "      <td>0.419861</td>\n",
       "      <td>dem</td>\n",
       "      <td>13.854647</td>\n",
       "      <td>Safe Democrat</td>\n",
       "    </tr>\n",
       "    <tr>\n",
       "      <th>39</th>\n",
       "      <td>South Carolina</td>\n",
       "      <td>SC</td>\n",
       "      <td>9</td>\n",
       "      <td>1028452.0</td>\n",
       "      <td>1483747.0</td>\n",
       "      <td>35941.0</td>\n",
       "      <td>2548140.0</td>\n",
       "      <td>0.403609</td>\n",
       "      <td>0.582286</td>\n",
       "      <td>gop</td>\n",
       "      <td>-17.867739</td>\n",
       "      <td>Safe Republican</td>\n",
       "    </tr>\n",
       "    <tr>\n",
       "      <th>40</th>\n",
       "      <td>South Dakota</td>\n",
       "      <td>SD</td>\n",
       "      <td>3</td>\n",
       "      <td>144292.0</td>\n",
       "      <td>271675.0</td>\n",
       "      <td>9893.0</td>\n",
       "      <td>425860.0</td>\n",
       "      <td>0.338825</td>\n",
       "      <td>0.637944</td>\n",
       "      <td>gop</td>\n",
       "      <td>-29.911943</td>\n",
       "      <td>Safe Republican</td>\n",
       "    </tr>\n",
       "    <tr>\n",
       "      <th>41</th>\n",
       "      <td>Tennessee</td>\n",
       "      <td>TN</td>\n",
       "      <td>11</td>\n",
       "      <td>1056265.0</td>\n",
       "      <td>1966865.0</td>\n",
       "      <td>40812.0</td>\n",
       "      <td>3063942.0</td>\n",
       "      <td>0.344741</td>\n",
       "      <td>0.641939</td>\n",
       "      <td>gop</td>\n",
       "      <td>-29.719884</td>\n",
       "      <td>Safe Republican</td>\n",
       "    </tr>\n",
       "    <tr>\n",
       "      <th>42</th>\n",
       "      <td>Texas</td>\n",
       "      <td>TX</td>\n",
       "      <td>40</td>\n",
       "      <td>4835199.0</td>\n",
       "      <td>6393396.0</td>\n",
       "      <td>151255.0</td>\n",
       "      <td>11379850.0</td>\n",
       "      <td>0.424891</td>\n",
       "      <td>0.561817</td>\n",
       "      <td>gop</td>\n",
       "      <td>-13.692597</td>\n",
       "      <td>Safe Republican</td>\n",
       "    </tr>\n",
       "    <tr>\n",
       "      <th>43</th>\n",
       "      <td>Utah</td>\n",
       "      <td>UT</td>\n",
       "      <td>6</td>\n",
       "      <td>562566.0</td>\n",
       "      <td>883818.0</td>\n",
       "      <td>41567.0</td>\n",
       "      <td>1487951.0</td>\n",
       "      <td>0.378081</td>\n",
       "      <td>0.593983</td>\n",
       "      <td>gop</td>\n",
       "      <td>-21.590227</td>\n",
       "      <td>Safe Republican</td>\n",
       "    </tr>\n",
       "    <tr>\n",
       "      <th>44</th>\n",
       "      <td>Vermont</td>\n",
       "      <td>VT</td>\n",
       "      <td>3</td>\n",
       "      <td>235791.0</td>\n",
       "      <td>119395.0</td>\n",
       "      <td>11203.0</td>\n",
       "      <td>366389.0</td>\n",
       "      <td>0.643554</td>\n",
       "      <td>0.325869</td>\n",
       "      <td>dem</td>\n",
       "      <td>31.768421</td>\n",
       "      <td>Safe Democrat</td>\n",
       "    </tr>\n",
       "    <tr>\n",
       "      <th>45</th>\n",
       "      <td>Virginia</td>\n",
       "      <td>VA</td>\n",
       "      <td>13</td>\n",
       "      <td>2335395.0</td>\n",
       "      <td>2075085.0</td>\n",
       "      <td>72096.0</td>\n",
       "      <td>4482576.0</td>\n",
       "      <td>0.520994</td>\n",
       "      <td>0.462922</td>\n",
       "      <td>dem</td>\n",
       "      <td>5.807152</td>\n",
       "      <td>Likely Democrat</td>\n",
       "    </tr>\n",
       "    <tr>\n",
       "      <th>46</th>\n",
       "      <td>Washington</td>\n",
       "      <td>WA</td>\n",
       "      <td>12</td>\n",
       "      <td>2245849.0</td>\n",
       "      <td>1530923.0</td>\n",
       "      <td>122063.0</td>\n",
       "      <td>3898835.0</td>\n",
       "      <td>0.576031</td>\n",
       "      <td>0.392662</td>\n",
       "      <td>dem</td>\n",
       "      <td>18.336913</td>\n",
       "      <td>Safe Democrat</td>\n",
       "    </tr>\n",
       "    <tr>\n",
       "      <th>47</th>\n",
       "      <td>West Virginia</td>\n",
       "      <td>WV</td>\n",
       "      <td>4</td>\n",
       "      <td>214309.0</td>\n",
       "      <td>533556.0</td>\n",
       "      <td>14525.0</td>\n",
       "      <td>762390.0</td>\n",
       "      <td>0.281102</td>\n",
       "      <td>0.699847</td>\n",
       "      <td>gop</td>\n",
       "      <td>-41.874500</td>\n",
       "      <td>Safe Republican</td>\n",
       "    </tr>\n",
       "    <tr>\n",
       "      <th>48</th>\n",
       "      <td>Wisconsin</td>\n",
       "      <td>WI</td>\n",
       "      <td>10</td>\n",
       "      <td>1668229.0</td>\n",
       "      <td>1697626.0</td>\n",
       "      <td>49358.0</td>\n",
       "      <td>3415213.0</td>\n",
       "      <td>0.488470</td>\n",
       "      <td>0.497078</td>\n",
       "      <td>gop</td>\n",
       "      <td>-0.860766</td>\n",
       "      <td>Toss-Up</td>\n",
       "    </tr>\n",
       "    <tr>\n",
       "      <th>49</th>\n",
       "      <td>Wyoming</td>\n",
       "      <td>WY</td>\n",
       "      <td>3</td>\n",
       "      <td>69527.0</td>\n",
       "      <td>192633.0</td>\n",
       "      <td>4193.0</td>\n",
       "      <td>266353.0</td>\n",
       "      <td>0.261033</td>\n",
       "      <td>0.723224</td>\n",
       "      <td>gop</td>\n",
       "      <td>-46.219115</td>\n",
       "      <td>Safe Republican</td>\n",
       "    </tr>\n",
       "  </tbody>\n",
       "</table>\n",
       "</div>"
      ],
      "text/plain": [
       "                   state state_code  ElectoralVotes2024  Votes_dem  Votes_gop  \\\n",
       "0                Alabama         AL                   9   772412.0  1462616.0   \n",
       "1                Arizona         AZ                  11  1582860.0  1770242.0   \n",
       "2               Arkansas         AR                   6   396905.0   759241.0   \n",
       "3             California         CA                  54  9276179.0  6081697.0   \n",
       "4               Colorado         CO                  10  1728159.0  1377441.0   \n",
       "5            Connecticut         CT                   7   810859.0   614616.0   \n",
       "6   District of Columbia         DC                   3    36882.0     2056.0   \n",
       "7               Delaware         DE                   3   289758.0   214351.0   \n",
       "8                Florida         FL                  30  4683038.0  6110125.0   \n",
       "9                Georgia         GA                  16  2548017.0  2663117.0   \n",
       "10                Hawaii         HI                   4   313044.0   193661.0   \n",
       "11                 Idaho         ID                   4   274972.0   605246.0   \n",
       "12              Illinois         IL                  19  3062863.0  2449079.0   \n",
       "13               Indiana         IN                  11  1163603.0  1720347.0   \n",
       "14                  Iowa         IA                   6   707278.0   927019.0   \n",
       "15                Kansas         KS                   6   544853.0   758802.0   \n",
       "16              Kentucky         KY                   8   704043.0  1337494.0   \n",
       "17             Louisiana         LA                   8   766870.0  1208505.0   \n",
       "18                 Maine         ME                   4   435652.0   377977.0   \n",
       "19              Maryland         MD                  10  1902577.0  1035550.0   \n",
       "20         Massachusetts         MA                  11  2126545.0  1251308.0   \n",
       "21              Michigan         MI                  15  2736533.0  2816636.0   \n",
       "22             Minnesota         MN                  10  1656979.0  1519032.0   \n",
       "23           Mississippi         MS                   6   466668.0   747744.0   \n",
       "24              Missouri         MO                  10  1200599.0  1751986.0   \n",
       "25               Montana         MT                   4   231906.0   352079.0   \n",
       "26              Nebraska         NE                   5   369995.0   564816.0   \n",
       "27                Nevada         NV                   6   704284.0   749097.0   \n",
       "28         New Hampshire         NH                   4   418496.0   395578.0   \n",
       "29            New Jersey         NJ                  14  2220713.0  1968215.0   \n",
       "30            New Mexico         NM                   5   478802.0   423391.0   \n",
       "31              New York         NY                  28  4619195.0  3578899.0   \n",
       "32        North Carolina         NC                  16  2715375.0  2898423.0   \n",
       "33          North Dakota         ND                   3   112327.0   246505.0   \n",
       "34                  Ohio         OH                  17  2533699.0  3180116.0   \n",
       "35              Oklahoma         OK                   7   499599.0  1036213.0   \n",
       "36                Oregon         OR                   8  1228410.0   910702.0   \n",
       "37          Pennsylvania         PA                  19  3423042.0  3543308.0   \n",
       "38          Rhode Island         RI                   4   285156.0   214406.0   \n",
       "39        South Carolina         SC                   9  1028452.0  1483747.0   \n",
       "40          South Dakota         SD                   3   144292.0   271675.0   \n",
       "41             Tennessee         TN                  11  1056265.0  1966865.0   \n",
       "42                 Texas         TX                  40  4835199.0  6393396.0   \n",
       "43                  Utah         UT                   6   562566.0   883818.0   \n",
       "44               Vermont         VT                   3   235791.0   119395.0   \n",
       "45              Virginia         VA                  13  2335395.0  2075085.0   \n",
       "46            Washington         WA                  12  2245849.0  1530923.0   \n",
       "47         West Virginia         WV                   4   214309.0   533556.0   \n",
       "48             Wisconsin         WI                  10  1668229.0  1697626.0   \n",
       "49               Wyoming         WY                   3    69527.0   192633.0   \n",
       "\n",
       "    Votes_other  Votes_total   Per_dem   Per_gop Winner  Difference  \\\n",
       "0       21324.0    2256352.0  0.342328  0.648222    gop  -30.589376   \n",
       "1       36217.0    3389319.0  0.467014  0.522300    gop   -5.528603   \n",
       "2       26530.0    1182676.0  0.335599  0.641969    gop  -30.636962   \n",
       "3      504660.0   15862536.0  0.584785  0.383400    dem   20.138533   \n",
       "4       85273.0    3190873.0  0.541594  0.431682    dem   10.991287   \n",
       "5       24654.0    1450129.0  0.559163  0.423835    dem   13.532796   \n",
       "6        1525.0      40463.0  0.911499  0.050812    dem   86.068754   \n",
       "7        7588.0     511697.0  0.566269  0.418902    dem   14.736651   \n",
       "8      100384.0   10893547.0  0.429891  0.560894    gop  -13.100297   \n",
       "9       38913.0    5250047.0  0.485332  0.507256    gop   -2.192361   \n",
       "10       9996.0     516701.0  0.605851  0.374803    dem   23.104852   \n",
       "11      24594.0     904812.0  0.303900  0.668919    gop  -36.501947   \n",
       "12      80426.0    5592368.0  0.547686  0.437932    dem   10.975386   \n",
       "13      49750.0    2933700.0  0.396633  0.586409    gop  -18.977537   \n",
       "14      22552.0    1656849.0  0.426881  0.559507    gop  -13.262585   \n",
       "15      23936.0    1327591.0  0.410407  0.571563    gop  -16.115581   \n",
       "16      31772.0    2073309.0  0.339575  0.645101    gop  -30.552658   \n",
       "17      31600.0    2006975.0  0.382102  0.602152    gop  -22.005008   \n",
       "18      17746.0     831375.0  0.524014  0.454641    dem    6.937303   \n",
       "19      77523.0    3015650.0  0.630901  0.343392    dem   28.750916   \n",
       "20      75584.0    3453437.0  0.615776  0.362337    dem   25.343940   \n",
       "21     109335.0    5662504.0  0.483273  0.497419    gop   -1.414622   \n",
       "22      64905.0    3240916.0  0.511269  0.468705    dem    4.256420   \n",
       "23      13596.0    1228008.0  0.380020  0.608908    gop  -22.888776   \n",
       "24      41011.0    2993596.0  0.401056  0.585245    gop  -18.418885   \n",
       "25      18978.0     602963.0  0.384611  0.583915    gop  -19.930410   \n",
       "26      12348.0     947159.0  0.390637  0.596326    gop  -20.568986   \n",
       "27      28384.0    1481765.0  0.475301  0.505544    gop   -3.024299   \n",
       "28       8079.0     822153.0  0.509024  0.481149    dem    2.787559   \n",
       "29      83797.0    4272725.0  0.519742  0.460646    dem    5.909531   \n",
       "30      21210.0     923403.0  0.518519  0.458512    dem    6.000739   \n",
       "31          0.0    8198094.0  0.563447  0.436553    dem   12.689486   \n",
       "32      65849.0    5679647.0  0.478089  0.510317    gop   -3.222876   \n",
       "33       6227.0     365059.0  0.307695  0.675247    gop  -36.755155   \n",
       "34      51202.0    5765017.0  0.439495  0.551623    gop  -11.212751   \n",
       "35      30361.0    1566173.0  0.318993  0.661621    gop  -34.262754   \n",
       "36      68480.0    2207592.0  0.556448  0.412532    dem   14.391609   \n",
       "37      67856.0    7034206.0  0.486628  0.503725    gop   -1.709731   \n",
       "38      11097.0     510659.0  0.558408  0.419861    dem   13.854647   \n",
       "39      35941.0    2548140.0  0.403609  0.582286    gop  -17.867739   \n",
       "40       9893.0     425860.0  0.338825  0.637944    gop  -29.911943   \n",
       "41      40812.0    3063942.0  0.344741  0.641939    gop  -29.719884   \n",
       "42     151255.0   11379850.0  0.424891  0.561817    gop  -13.692597   \n",
       "43      41567.0    1487951.0  0.378081  0.593983    gop  -21.590227   \n",
       "44      11203.0     366389.0  0.643554  0.325869    dem   31.768421   \n",
       "45      72096.0    4482576.0  0.520994  0.462922    dem    5.807152   \n",
       "46     122063.0    3898835.0  0.576031  0.392662    dem   18.336913   \n",
       "47      14525.0     762390.0  0.281102  0.699847    gop  -41.874500   \n",
       "48      49358.0    3415213.0  0.488470  0.497078    gop   -0.860766   \n",
       "49       4193.0     266353.0  0.261033  0.723224    gop  -46.219115   \n",
       "\n",
       "               Status  \n",
       "0     Safe Republican  \n",
       "1   Likely Republican  \n",
       "2     Safe Republican  \n",
       "3       Safe Democrat  \n",
       "4       Safe Democrat  \n",
       "5       Safe Democrat  \n",
       "6       Safe Democrat  \n",
       "7       Safe Democrat  \n",
       "8     Safe Republican  \n",
       "9             Toss-Up  \n",
       "10      Safe Democrat  \n",
       "11    Safe Republican  \n",
       "12      Safe Democrat  \n",
       "13    Safe Republican  \n",
       "14    Safe Republican  \n",
       "15    Safe Republican  \n",
       "16    Safe Republican  \n",
       "17    Safe Republican  \n",
       "18    Likely Democrat  \n",
       "19      Safe Democrat  \n",
       "20      Safe Democrat  \n",
       "21            Toss-Up  \n",
       "22    Likely Democrat  \n",
       "23    Safe Republican  \n",
       "24    Safe Republican  \n",
       "25    Safe Republican  \n",
       "26    Safe Republican  \n",
       "27  Likely Republican  \n",
       "28    Likely Democrat  \n",
       "29    Likely Democrat  \n",
       "30    Likely Democrat  \n",
       "31      Safe Democrat  \n",
       "32  Likely Republican  \n",
       "33    Safe Republican  \n",
       "34    Safe Republican  \n",
       "35    Safe Republican  \n",
       "36      Safe Democrat  \n",
       "37            Toss-Up  \n",
       "38      Safe Democrat  \n",
       "39    Safe Republican  \n",
       "40    Safe Republican  \n",
       "41    Safe Republican  \n",
       "42    Safe Republican  \n",
       "43    Safe Republican  \n",
       "44      Safe Democrat  \n",
       "45    Likely Democrat  \n",
       "46      Safe Democrat  \n",
       "47    Safe Republican  \n",
       "48            Toss-Up  \n",
       "49    Safe Republican  "
      ]
     },
     "execution_count": 374,
     "metadata": {},
     "output_type": "execute_result"
    }
   ],
   "source": [
    "# Cargar datos electorales reales\n",
    "df_actual = pd.DataFrame({'Votes_dem': data['votes_dem'], \n",
    "                            'Votes_gop': data['total_votes'] - data['votes_dem'] - data['votes_others'], \n",
    "                            'Votes_other': data['votes_others'],\n",
    "                            'Votes_total': data['total_votes'], \n",
    "                            'state': state_names,\n",
    "                            'county': county_names,\n",
    "                            'fips': fips_codes})\n",
    "df_actual_state = df_actual.groupby('state').agg(Votes_dem=(f'Votes_dem', 'sum'), \n",
    "                                                    Votes_gop=(f'Votes_gop', 'sum'),\n",
    "                                                    Votes_other=(f'Votes_other', 'sum'),\n",
    "                                                    Votes_total=(f'Votes_total', 'sum'))\n",
    "\n",
    "df_actual_state[\"Per_dem\"] = df_actual_state[\"Votes_dem\"] / df_actual_state[\"Votes_total\"]\n",
    "df_actual_state[\"Per_gop\"] = df_actual_state[\"Votes_gop\"] / df_actual_state[\"Votes_total\"]\n",
    "\n",
    "# Añadir la columna \"Winner\" basado en los porcentajes predichos de Biden y Trump\n",
    "df_actual_state[\"Winner\"] = np.where(df_actual_state[\"Per_dem\"] < df_actual_state[\"Per_gop\"], 'gop', 'dem')\n",
    "\n",
    "\n",
    "full_df_actual_state = pd.merge(seats_data, df_actual_state, how='inner', on=[\"state\"])\n",
    "\n",
    "\n",
    "\n",
    "# Añadir diferencia entre Biden y Trump\n",
    "full_df_actual_state['Difference'] = (full_df_actual_state[\"Per_dem\"] - full_df_actual_state[\"Per_gop\"]) * 100\n",
    "\n",
    "\n",
    "# Definir las condiciones y los valores a asignar\n",
    "conditions = [\n",
    "    full_df_actual_state[\"Difference\"] > 10,\n",
    "    full_df_actual_state[\"Difference\"].between(2.5, 10),\n",
    "    full_df_actual_state[\"Difference\"].between(-2.5, 2.5),\n",
    "    full_df_actual_state[\"Difference\"].between(-10, -2.5),\n",
    "    full_df_actual_state[\"Difference\"] < -10\n",
    "]\n",
    "\n",
    "choices = [\n",
    "    \"Safe Democrat\",\n",
    "    \"Likely Democrat\",\n",
    "    \"Toss-Up\",\n",
    "    \"Likely Republican\",\n",
    "    \"Safe Republican\"\n",
    "]\n",
    "\n",
    "# Usar np.select para asignar el \"Status\" basado en las condiciones, con un valor por defecto \"Unknown\"\n",
    "full_df_actual_state[\"Status\"] = np.select(conditions, choices, default=\"Unknown\")\n",
    "\n",
    "full_df_actual_state"
   ]
  },
  {
   "cell_type": "code",
   "execution_count": 375,
   "metadata": {},
   "outputs": [],
   "source": [
    "# # Encontrar los `county_fips` comunes en los tres conjuntos de datos\n",
    "# common_fips = set(data_2016[\"county_fips\"]).intersection(data_2020[\"county_fips\"]).intersection(data_sim[\"county_fips\"])\n",
    "\n",
    "# # Filtrar cada dataset para que solo contenga esos condados comunes\n",
    "# data_2016 = data_2016[data_2016[\"county_fips\"].isin(common_fips)].sort_values(by=\"county_fips\").reset_index(drop=True)\n",
    "# data_2020 = data_2020[data_2020[\"county_fips\"].isin(common_fips)].sort_values(by=\"county_fips\").reset_index(drop=True)\n",
    "# data_sim = data_sim[data_sim[\"county_fips\"].isin(common_fips)].sort_values(by=\"county_fips\").reset_index(drop=True)\n",
    "# data = data[data[\"county_fips\"].isin(common_fips)].sort_values(by=\"county_fips\").reset_index(drop=True)\n",
    "\n",
    "# # Ahora los tres datasets tienen los mismos condados en el mismo orden\n",
    "# print(f\"Condados comunes en los tres datasets: {len(common_fips)}\")"
   ]
  },
  {
   "cell_type": "code",
   "execution_count": 376,
   "metadata": {},
   "outputs": [],
   "source": [
    "# # Guardamos las variables en vectores para uso futuro\n",
    "# state_names = data['state']\n",
    "# fips_codes = data['county_fips']\n",
    "# county_names = data['county']\n",
    "\n",
    "# print(len(state_names), len(county_names), len(fips_codes), len(data[\"total_votes\"]))"
   ]
  },
  {
   "cell_type": "code",
   "execution_count": 377,
   "metadata": {},
   "outputs": [],
   "source": [
    "# Ordenar ambos DataFrames por 'fips' antes de cualquier split\n",
    "data_2016 = data_2016.sort_values(by=\"county_fips\").reset_index(drop=True)\n",
    "data_2020 = data_2020.sort_values(by=\"county_fips\").reset_index(drop=True)\n",
    "data_sim = data_sim.sort_values(by=\"county_fips\").reset_index(drop=True)\n",
    "data = data.sort_values(by=\"county_fips\").reset_index(drop=True)"
   ]
  },
  {
   "cell_type": "code",
   "execution_count": 378,
   "metadata": {},
   "outputs": [],
   "source": [
    "columns_to_drop = ['county_fips', \"state\", \"county\", \"state_code\", \"county_code\"]  # Nombres de las columnas a eliminar\n",
    "data_2016 = data_2016.drop(columns=columns_to_drop)\n",
    "data_2020 = data_2020.drop(columns=columns_to_drop)\n",
    "data_sim = data_sim.drop(columns=columns_to_drop)"
   ]
  },
  {
   "cell_type": "code",
   "execution_count": 379,
   "metadata": {},
   "outputs": [
    {
     "data": {
      "text/html": [
       "<div>\n",
       "<style scoped>\n",
       "    .dataframe tbody tr th:only-of-type {\n",
       "        vertical-align: middle;\n",
       "    }\n",
       "\n",
       "    .dataframe tbody tr th {\n",
       "        vertical-align: top;\n",
       "    }\n",
       "\n",
       "    .dataframe thead th {\n",
       "        text-align: right;\n",
       "    }\n",
       "</style>\n",
       "<table border=\"1\" class=\"dataframe\">\n",
       "  <thead>\n",
       "    <tr style=\"text-align: right;\">\n",
       "      <th></th>\n",
       "      <th>per_dem</th>\n",
       "      <th>per_gop</th>\n",
       "      <th>pop_total</th>\n",
       "      <th>median_age</th>\n",
       "      <th>median_income</th>\n",
       "      <th>households_median_value</th>\n",
       "      <th>households_avg_size</th>\n",
       "      <th>households_total</th>\n",
       "      <th>households_median_gross_rent</th>\n",
       "      <th>mean_travel_time</th>\n",
       "      <th>...</th>\n",
       "      <th>hispanic_rate</th>\n",
       "      <th>two_more_races_rate</th>\n",
       "      <th>high_school_rate</th>\n",
       "      <th>bachelors_rate</th>\n",
       "      <th>poverty_rate</th>\n",
       "      <th>households_renter_rate</th>\n",
       "      <th>households_owner_rate</th>\n",
       "      <th>unemployment_rate</th>\n",
       "      <th>public_transport_rate</th>\n",
       "      <th>no_health_insurance_rate</th>\n",
       "    </tr>\n",
       "  </thead>\n",
       "  <tbody>\n",
       "    <tr>\n",
       "      <th>0</th>\n",
       "      <td>0.263888</td>\n",
       "      <td>0.726641</td>\n",
       "      <td>59285</td>\n",
       "      <td>39.2</td>\n",
       "      <td>69841</td>\n",
       "      <td>197900</td>\n",
       "      <td>2.61</td>\n",
       "      <td>22523</td>\n",
       "      <td>1200</td>\n",
       "      <td>25415</td>\n",
       "      <td>...</td>\n",
       "      <td>3.69</td>\n",
       "      <td>4.59</td>\n",
       "      <td>18.70</td>\n",
       "      <td>10.99</td>\n",
       "      <td>10.58</td>\n",
       "      <td>25.09</td>\n",
       "      <td>74.91</td>\n",
       "      <td>2.54</td>\n",
       "      <td>0.11</td>\n",
       "      <td>7.20</td>\n",
       "    </tr>\n",
       "    <tr>\n",
       "      <th>1</th>\n",
       "      <td>0.204699</td>\n",
       "      <td>0.786467</td>\n",
       "      <td>239945</td>\n",
       "      <td>43.7</td>\n",
       "      <td>75019</td>\n",
       "      <td>287000</td>\n",
       "      <td>2.50</td>\n",
       "      <td>94642</td>\n",
       "      <td>1211</td>\n",
       "      <td>97455</td>\n",
       "      <td>...</td>\n",
       "      <td>5.58</td>\n",
       "      <td>5.54</td>\n",
       "      <td>16.15</td>\n",
       "      <td>14.73</td>\n",
       "      <td>10.34</td>\n",
       "      <td>22.46</td>\n",
       "      <td>77.54</td>\n",
       "      <td>3.19</td>\n",
       "      <td>0.04</td>\n",
       "      <td>8.06</td>\n",
       "    </tr>\n",
       "    <tr>\n",
       "      <th>2</th>\n",
       "      <td>0.422905</td>\n",
       "      <td>0.570179</td>\n",
       "      <td>24757</td>\n",
       "      <td>40.7</td>\n",
       "      <td>44290</td>\n",
       "      <td>109900</td>\n",
       "      <td>2.39</td>\n",
       "      <td>9080</td>\n",
       "      <td>644</td>\n",
       "      <td>7989</td>\n",
       "      <td>...</td>\n",
       "      <td>6.02</td>\n",
       "      <td>2.95</td>\n",
       "      <td>21.48</td>\n",
       "      <td>4.76</td>\n",
       "      <td>19.17</td>\n",
       "      <td>32.51</td>\n",
       "      <td>67.49</td>\n",
       "      <td>5.71</td>\n",
       "      <td>0.07</td>\n",
       "      <td>9.49</td>\n",
       "    </tr>\n",
       "    <tr>\n",
       "      <th>3</th>\n",
       "      <td>0.175197</td>\n",
       "      <td>0.819392</td>\n",
       "      <td>22152</td>\n",
       "      <td>41.3</td>\n",
       "      <td>51215</td>\n",
       "      <td>132600</td>\n",
       "      <td>2.74</td>\n",
       "      <td>7571</td>\n",
       "      <td>802</td>\n",
       "      <td>7999</td>\n",
       "      <td>...</td>\n",
       "      <td>3.36</td>\n",
       "      <td>2.82</td>\n",
       "      <td>24.60</td>\n",
       "      <td>5.06</td>\n",
       "      <td>19.22</td>\n",
       "      <td>22.82</td>\n",
       "      <td>77.18</td>\n",
       "      <td>9.98</td>\n",
       "      <td>0.04</td>\n",
       "      <td>7.81</td>\n",
       "    </tr>\n",
       "    <tr>\n",
       "      <th>4</th>\n",
       "      <td>0.091624</td>\n",
       "      <td>0.901796</td>\n",
       "      <td>59292</td>\n",
       "      <td>40.9</td>\n",
       "      <td>61096</td>\n",
       "      <td>169700</td>\n",
       "      <td>2.67</td>\n",
       "      <td>21977</td>\n",
       "      <td>743</td>\n",
       "      <td>23976</td>\n",
       "      <td>...</td>\n",
       "      <td>10.06</td>\n",
       "      <td>5.15</td>\n",
       "      <td>19.58</td>\n",
       "      <td>6.89</td>\n",
       "      <td>13.95</td>\n",
       "      <td>20.49</td>\n",
       "      <td>79.51</td>\n",
       "      <td>5.84</td>\n",
       "      <td>0.00</td>\n",
       "      <td>10.11</td>\n",
       "    </tr>\n",
       "  </tbody>\n",
       "</table>\n",
       "<p>5 rows × 36 columns</p>\n",
       "</div>"
      ],
      "text/plain": [
       "    per_dem   per_gop  pop_total  median_age  median_income  \\\n",
       "0  0.263888  0.726641      59285        39.2          69841   \n",
       "1  0.204699  0.786467     239945        43.7          75019   \n",
       "2  0.422905  0.570179      24757        40.7          44290   \n",
       "3  0.175197  0.819392      22152        41.3          51215   \n",
       "4  0.091624  0.901796      59292        40.9          61096   \n",
       "\n",
       "   households_median_value  households_avg_size  households_total  \\\n",
       "0                   197900                 2.61             22523   \n",
       "1                   287000                 2.50             94642   \n",
       "2                   109900                 2.39              9080   \n",
       "3                   132600                 2.74              7571   \n",
       "4                   169700                 2.67             21977   \n",
       "\n",
       "   households_median_gross_rent  mean_travel_time  ...  hispanic_rate  \\\n",
       "0                          1200             25415  ...           3.69   \n",
       "1                          1211             97455  ...           5.58   \n",
       "2                           644              7989  ...           6.02   \n",
       "3                           802              7999  ...           3.36   \n",
       "4                           743             23976  ...          10.06   \n",
       "\n",
       "   two_more_races_rate  high_school_rate  bachelors_rate  poverty_rate  \\\n",
       "0                 4.59             18.70           10.99         10.58   \n",
       "1                 5.54             16.15           14.73         10.34   \n",
       "2                 2.95             21.48            4.76         19.17   \n",
       "3                 2.82             24.60            5.06         19.22   \n",
       "4                 5.15             19.58            6.89         13.95   \n",
       "\n",
       "   households_renter_rate  households_owner_rate  unemployment_rate  \\\n",
       "0                   25.09                  74.91               2.54   \n",
       "1                   22.46                  77.54               3.19   \n",
       "2                   32.51                  67.49               5.71   \n",
       "3                   22.82                  77.18               9.98   \n",
       "4                   20.49                  79.51               5.84   \n",
       "\n",
       "   public_transport_rate  no_health_insurance_rate  \n",
       "0                   0.11                      7.20  \n",
       "1                   0.04                      8.06  \n",
       "2                   0.07                      9.49  \n",
       "3                   0.04                      7.81  \n",
       "4                   0.00                     10.11  \n",
       "\n",
       "[5 rows x 36 columns]"
      ]
     },
     "execution_count": 379,
     "metadata": {},
     "output_type": "execute_result"
    }
   ],
   "source": [
    "columns_to_drop = [\"votes_gop\"]  # Nombres de las columnas a eliminar\n",
    "\n",
    "data_sim = data_sim.drop(columns=columns_to_drop)\n",
    "data_sim.head()"
   ]
  },
  {
   "cell_type": "code",
   "execution_count": 380,
   "metadata": {},
   "outputs": [],
   "source": [
    "# from sklearn.preprocessing import StandardScaler\n",
    "\n",
    "# # Definir las columnas a excluir del escalado\n",
    "# cols_excluir = ['per_dem', 'per_gop'] \n",
    "\n",
    "# # Seleccionar solo las columnas que deben ser escaladas\n",
    "# cols_escalar = [col for col in data_sim.columns if col not in cols_excluir]\n",
    "\n",
    "# # Aplicar StandardScaler solo a las columnas seleccionadas\n",
    "# scaler = StandardScaler()\n",
    "# data_sim[cols_escalar] = scaler.fit_transform(data_sim[cols_escalar])\n",
    "\n",
    "# # Mostrar los primeros registros\n",
    "# data_sim.head()"
   ]
  },
  {
   "cell_type": "markdown",
   "metadata": {},
   "source": [
    "## Algorithm"
   ]
  },
  {
   "cell_type": "code",
   "execution_count": 395,
   "metadata": {},
   "outputs": [],
   "source": [
    "n_sim = 2"
   ]
  },
  {
   "cell_type": "code",
   "execution_count": null,
   "metadata": {},
   "outputs": [
    {
     "name": "stdout",
     "output_type": "stream",
     "text": [
      "Simulation 0\n",
      "weight_2016=0.7402881903179521\n",
      "                      Votes_dem  Votes_gop  Votes_other  Votes_total  \\\n",
      "state                                                                  \n",
      "Alabama                  919007    1258656        78764    2256352.0   \n",
      "Arizona                 1738264    1468100       182955    3389319.0   \n",
      "Arkansas                 457416     681129        44183    1182676.0   \n",
      "California              9822335    5210523       829677   15862536.0   \n",
      "Colorado                1649435    1339999       201475    3190873.0   \n",
      "Connecticut              795742     582525        71860    1450129.0   \n",
      "Delaware                 259947     229806        21945     511697.0   \n",
      "District of Columbia      32519       6678         1266      40463.0   \n",
      "Florida                 5452348    5076032       365205   10893547.0   \n",
      "Georgia                 2610077    2440974       199453    5250047.0   \n",
      "Hawaii                   322041     173100        21560     516701.0   \n",
      "Idaho                    340414     509190        55202     904812.0   \n",
      "Illinois                2989561    2339607       263227    5592368.0   \n",
      "Indiana                 1185529    1602004       146178    2933700.0   \n",
      "Iowa                     642723     925836        88289    1656849.0   \n",
      "Kansas                   517846     741913        67844    1327591.0   \n",
      "Kentucky                 791536    1192078        89710    2073309.0   \n",
      "Louisiana                922601    1019086        65316    2006975.0   \n",
      "Maine                    345890     444993        40490     831375.0   \n",
      "Maryland                1766800    1142011       106841    3015650.0   \n",
      "Massachusetts           2062623    1207332       183480    3453437.0   \n",
      "Michigan                2563142    2847383       251982    5662504.0   \n",
      "Minnesota               1546194    1494405       200316    3240916.0   \n",
      "Mississippi              525587     671860        30697    1228008.0   \n",
      "Missouri                1227622    1640408       125568    2993596.0   \n",
      "Montana                  238017     330646        34313     602963.0   \n",
      "Nebraska                 378218     519252        49694     947159.0   \n",
      "Nevada                   848162     553714        79889    1481765.0   \n",
      "New Hampshire            358304     426661        37188     822153.0   \n",
      "New Jersey              2531388    1569747       171677    4272725.0   \n",
      "New Mexico               429546     452430        41440     923403.0   \n",
      "New York                4872179    2951059       374859    8198094.0   \n",
      "North Carolina          2691995    2770041       218491    5679647.0   \n",
      "North Dakota             138630     205695        20736     365059.0   \n",
      "Ohio                    2565446    2962266       237312    5765017.0   \n",
      "Oklahoma                 591214     911655        63319    1566173.0   \n",
      "Oregon                  1167145     913556       126887    2207592.0   \n",
      "Pennsylvania            3433658    3279345       321559    7034206.0   \n",
      "Rhode Island             278255     203701        28701     510659.0   \n",
      "South Carolina          1118055    1337032        93524    2548140.0   \n",
      "South Dakota             154233     247528        24102     425860.0   \n",
      "Tennessee               1287832    1661912       117022    3063942.0   \n",
      "Texas                   5698043    5181460       500615   11379850.0   \n",
      "Utah                     650967     698588       138396    1487951.0   \n",
      "Vermont                  166122     178768        21501     366389.0   \n",
      "Virginia                2295982    1992170       194470    4482576.0   \n",
      "Washington              2202950    1470015       225873    3898835.0   \n",
      "West Virginia            254554     473071        34763     762390.0   \n",
      "Wisconsin               1531828    1718400       164989    3415213.0   \n",
      "Wyoming                   91631     158839        15886     266353.0   \n",
      "\n",
      "                       Per_dem   Per_gop  Per_other  \n",
      "state                                                \n",
      "Alabama               0.407298  0.557828   0.034908  \n",
      "Arizona               0.512865  0.433155   0.053980  \n",
      "Arkansas              0.386764  0.575922   0.037358  \n",
      "California            0.619216  0.328480   0.052304  \n",
      "Colorado              0.516923  0.419947   0.063141  \n",
      "Connecticut           0.548739  0.401706   0.049554  \n",
      "Delaware              0.508010  0.449106   0.042887  \n",
      "District of Columbia  0.803672  0.165040   0.031288  \n",
      "Florida               0.500512  0.465967   0.033525  \n",
      "Georgia               0.497153  0.464943   0.037991  \n",
      "Hawaii                0.623264  0.335010   0.041726  \n",
      "Idaho                 0.376226  0.562758   0.061009  \n",
      "Illinois              0.534579  0.418357   0.047069  \n",
      "Indiana               0.404107  0.546069   0.049827  \n",
      "Iowa                  0.387919  0.558793   0.053287  \n",
      "Kansas                0.390064  0.558842   0.051103  \n",
      "Kentucky              0.381774  0.574964   0.043269  \n",
      "Louisiana             0.459697  0.507772   0.032545  \n",
      "Maine                 0.416046  0.535249   0.048702  \n",
      "Maryland              0.585877  0.378695   0.035429  \n",
      "Massachusetts         0.597267  0.349603   0.053130  \n",
      "Michigan              0.452652  0.502849   0.044500  \n",
      "Minnesota             0.477085  0.461106   0.061808  \n",
      "Mississippi           0.428000  0.547114   0.024997  \n",
      "Missouri              0.410083  0.547972   0.041946  \n",
      "Montana               0.394746  0.548369   0.056907  \n",
      "Nebraska              0.399318  0.548221   0.052466  \n",
      "Nevada                0.572400  0.373685   0.053915  \n",
      "New Hampshire         0.435812  0.518956   0.045232  \n",
      "New Jersey            0.592453  0.367388   0.040180  \n",
      "New Mexico            0.465177  0.489959   0.044877  \n",
      "New York              0.594306  0.359969   0.045725  \n",
      "North Carolina        0.473972  0.487714   0.038469  \n",
      "North Dakota          0.379747  0.563457   0.056802  \n",
      "Ohio                  0.445002  0.513835   0.041164  \n",
      "Oklahoma              0.377490  0.582091   0.040429  \n",
      "Oregon                0.528696  0.413825   0.057478  \n",
      "Pennsylvania          0.488137  0.466200   0.045714  \n",
      "Rhode Island          0.544894  0.398898   0.056204  \n",
      "South Carolina        0.438773  0.524709   0.036703  \n",
      "South Dakota          0.362168  0.581243   0.056596  \n",
      "Tennessee             0.420319  0.542410   0.038193  \n",
      "Texas                 0.500713  0.455319   0.043991  \n",
      "Utah                  0.437492  0.469497   0.093011  \n",
      "Vermont               0.453403  0.487919   0.058684  \n",
      "Virginia              0.512201  0.444425   0.043384  \n",
      "Washington            0.565028  0.377040   0.057933  \n",
      "West Virginia         0.333889  0.620510   0.045597  \n",
      "Wisconsin             0.448531  0.503160   0.048310  \n",
      "Wyoming               0.344021  0.596348   0.059643  \n",
      "Simulation 1\n",
      "weight_2016=0.7830008204953494\n",
      "                      Votes_dem  Votes_gop  Votes_other  Votes_total  \\\n",
      "state                                                                  \n",
      "Alabama                 1837295    2515722        78764    4512704.0   \n",
      "Arizona                 3473644    2933824       182955    6778638.0   \n",
      "Arkansas                 914901    1361080        44183    2365352.0   \n",
      "California             19632110   10403839       829677   31725072.0   \n",
      "Colorado                3293407    2679545       201475    6381746.0   \n",
      "Connecticut             1589345    1164666        71860    2900258.0   \n",
      "Delaware                 518924     459941        21945    1023394.0   \n",
      "District of Columbia      65000      13374         1266      80926.0   \n",
      "Florida                10896575   10148706       365205   21787094.0   \n",
      "Georgia                 5217847    4879458       199453   10500094.0   \n",
      "Hawaii                   643890     345675        21560    1033402.0   \n",
      "Idaho                    679628    1017619        55202    1809624.0   \n",
      "Illinois                5972786    4675761       263227   11184736.0   \n",
      "Indiana                 2369124    3201837       146178    5867400.0   \n",
      "Iowa                    1283387    1850658        88289    3313698.0   \n",
      "Kansas                  1034434    1483295        67844    2655182.0   \n",
      "Kentucky                1582682    2381942        89710    4146618.0   \n",
      "Louisiana               1844960    2036828        65316    4013950.0   \n",
      "Maine                    690647     889967        40490    1662750.0   \n",
      "Maryland                3529891    2285627       106841    6031300.0   \n",
      "Massachusetts           4120120    2413190       183480    6906874.0   \n",
      "Michigan                5118976    5695273       251982   11325008.0   \n",
      "Minnesota               3086767    2987915       200316    6481832.0   \n",
      "Mississippi             1051352    1342865        30697    2456016.0   \n",
      "Missouri                2453487    3278921       125568    5987192.0   \n",
      "Montana                  475255     660974        34313    1205926.0   \n",
      "Nebraska                 755423    1038161        49694    1894318.0   \n",
      "Nevada                  1695259    1105926        79889    2963530.0   \n",
      "New Hampshire            715444     853670        37188    1644306.0   \n",
      "New Jersey              5058668    3138294       171677    8545450.0   \n",
      "New Mexico               858476     904106        41440    1846806.0   \n",
      "New York                9738514    5897163       374859   16396188.0   \n",
      "North Carolina          5380126    5536368       218491   11359294.0   \n",
      "North Dakota             277012     410912        20736     730118.0   \n",
      "Ohio                    5127138    5921894       237312   11530034.0   \n",
      "Oklahoma                1182214    1821478        63319    3132346.0   \n",
      "Oregon                  2330743    1826394       126887    4415184.0   \n",
      "Pennsylvania            6860006    6555113       321559   14068412.0   \n",
      "Rhode Island             555645     407158        28701    1021318.0   \n",
      "South Carolina          2234278    2673236        93524    5096280.0   \n",
      "South Dakota             308226     494466        24102     851720.0   \n",
      "Tennessee               2575633    3321365       117022    6127884.0   \n",
      "Texas                  11389340   10352110       500615   22759700.0   \n",
      "Utah                    1299839    1394826       138396    2975902.0   \n",
      "Vermont                  331568     357681        21501     732778.0   \n",
      "Virginia                4586568    3984183       194470    8965152.0   \n",
      "Washington              4400139    2938401       225873    7797670.0   \n",
      "West Virginia            509119     945018        34763    1524780.0   \n",
      "Wisconsin               3059927    3435851       164989    6830426.0   \n",
      "Wyoming                  183086     317270        15886     532706.0   \n",
      "\n",
      "                       Per_dem   Per_gop  Per_other  \n",
      "state                                                \n",
      "Alabama               0.814277  1.114951   0.070834  \n",
      "Arizona               1.024880  0.865609   0.109512  \n",
      "Arkansas              0.773585  1.150848   0.075663  \n",
      "California            1.237640  0.655875   0.106485  \n",
      "Colorado              1.032134  0.839753   0.128134  \n",
      "Connecticut           1.096002  0.803146   0.100850  \n",
      "Delaware              1.014124  0.898854   0.087024  \n",
      "District of Columbia  1.606406  0.330524   0.063070  \n",
      "Florida               1.000278  0.931625   0.068103  \n",
      "Georgia               0.993867  0.929412   0.076900  \n",
      "Hawaii                1.246156  0.669004   0.084842  \n",
      "Idaho                 0.751126  1.124675   0.124196  \n",
      "Illinois              1.068024  0.836097   0.095889  \n",
      "Indiana               0.807555  1.091399   0.101052  \n",
      "Iowa                  0.774595  1.116974   0.108434  \n",
      "Kansas                0.779181  1.117283   0.103551  \n",
      "Kentucky              0.763360  1.148860   0.087793  \n",
      "Louisiana             0.919274  1.014875   0.065882  \n",
      "Maine                 0.830729  1.070476   0.098797  \n",
      "Maryland              1.170524  0.757922   0.071555  \n",
      "Massachusetts         1.193049  0.698779   0.108170  \n",
      "Michigan              0.904013  1.005787   0.090201  \n",
      "Minnesota             0.952437  0.921935   0.125626  \n",
      "Mississippi           0.856144  1.093531   0.050542  \n",
      "Missouri              0.819579  1.095312   0.085112  \n",
      "Montana               0.788199  1.096210   0.115621  \n",
      "Nebraska              0.797567  1.096079   0.106356  \n",
      "Nevada                1.144081  0.746357   0.109563  \n",
      "New Hampshire         0.870208  1.038335   0.091455  \n",
      "New Jersey            1.183944  0.734495   0.081600  \n",
      "New Mexico            0.929687  0.979102   0.091233  \n",
      "New York              1.187900  0.719333   0.092767  \n",
      "North Carolina        0.947264  0.974773   0.078252  \n",
      "North Dakota          0.758814  1.125604   0.115587  \n",
      "Ohio                  0.889353  1.027212   0.083438  \n",
      "Oklahoma              0.754843  1.163012   0.082165  \n",
      "Oregon                1.055785  0.827324   0.116889  \n",
      "Pennsylvania          0.975235  0.931891   0.092967  \n",
      "Rhode Island          1.088094  0.797319   0.114585  \n",
      "South Carolina        0.876827  1.049093   0.074419  \n",
      "South Dakota          0.723773  1.161100   0.115132  \n",
      "Tennessee             0.840627  1.084017   0.077249  \n",
      "Texas                 1.000834  0.909688   0.089522  \n",
      "Utah                  0.873576  0.937414   0.189008  \n",
      "Vermont               0.904962  0.976233   0.118814  \n",
      "Virginia              1.023199  0.888815   0.088002  \n",
      "Washington            1.128578  0.753661   0.117761  \n",
      "West Virginia         0.667793  1.239547   0.092653  \n",
      "Wisconsin             0.895970  1.006043   0.097992  \n",
      "Wyoming               0.687381  1.191164   0.121452  \n"
     ]
    }
   ],
   "source": [
    "import joblib\n",
    "import statsmodels.api as sm\n",
    "\n",
    "# Inicializar un DataFrame para guardar los resultados de las simulaciones\n",
    "# simulation_results = pd.DataFrame(columns=['Pred_dem', 'Pred_gop', 'dem', 'gop'])\n",
    "simulation_results = pd.DataFrame(columns=['Pred_dem', 'Pred_gop'])\n",
    "\n",
    "\n",
    "# Inicializar un DataFrame para acumular los resultados por estado\n",
    "accumulated_pred_state = pd.DataFrame()\n",
    "\n",
    "for i in range(0, n_sim):\n",
    "\n",
    "    print(f\"Simulation {i}\")\n",
    "\n",
    "    ## ------------------------------\n",
    "    ## SPLIT DEL DATASET (ENTRENAMIENTO)\n",
    "    # X_2016 = data_2016.drop(columns=['per_dem', 'per_gop'])\n",
    "    # y_dem_2016 = data_2016['per_dem']\n",
    "    # y_gop_2016 = data_2016['per_gop']\n",
    "\n",
    "    # X_2020 = data_2020.drop(columns=['per_dem', 'per_gop'])\n",
    "    # y_dem_2020 = data_2020['per_dem']\n",
    "    # y_gop_2020 = data_2020['per_gop']\n",
    "\n",
    "    # # Hacer un split en cada simulación (80% train, 20% test)\n",
    "    # X_train_2016, X_test_2016, y_train_dem_2016, y_test_dem_2016 = train_test_split(X_2016, y_dem_2016, test_size=0.2, random_state=i)\n",
    "    # _, _, y_train_gop_2016, y_test_gop_2016 = train_test_split(X_2016, y_gop_2016, test_size=0.2, random_state=i)\n",
    "\n",
    "    # X_train_2020, X_test_2020, y_train_dem_2020, y_test_dem_2020 = train_test_split(X_2020, y_dem_2020, test_size=0.2, random_state=i)\n",
    "    # _, _, y_train_gop_2020, y_test_gop_2020 = train_test_split(X_2020, y_gop_2020, test_size=0.2, random_state=i)\n",
    "\n",
    "    # Imprimir los índices del train para 2016 y 2020\n",
    "    # print(f\"Train indices 2016: {X_train_2016.index}\")\n",
    "    # print(f\"Train indices 2020: {X_train_2020.index}\")\n",
    "\n",
    "    ## ------------------------------\n",
    "    ## ENTRENAR MODELOS\n",
    "    # # Modelos para per_dem 2016\n",
    "    # lr_model_dem_2016 = LinearRegression().fit(X_train_2016, y_train_dem_2016)\n",
    "    # rf_model_dem_2016 = RandomForestRegressor(n_estimators=100, random_state=i).fit(X_train_2016, y_train_dem_2016)\n",
    "    # knn_model_dem_2016 = KNeighborsRegressor(n_neighbors=5).fit(X_train_2016, y_train_dem_2016)\n",
    "    # # Modelos para per_dem 2020\n",
    "    # lr_model_dem_2020 = LinearRegression().fit(X_train_2020, y_train_dem_2020)\n",
    "    # rf_model_dem_2020 = RandomForestRegressor(n_estimators=100, random_state=i).fit(X_train_2020, y_train_dem_2020)\n",
    "    # knn_model_dem_2020 = KNeighborsRegressor(n_neighbors=5).fit(X_train_2020, y_train_dem_2020)\n",
    "\n",
    "    # # Modelos para per_gop 2016\n",
    "    # lr_model_gop_2016 = LinearRegression().fit(X_train_2016, y_train_gop_2016)\n",
    "    # rf_model_gop_2016 = RandomForestRegressor(n_estimators=100, random_state=i).fit(X_train_2016, y_train_gop_2016)\n",
    "    # knn_model_gop_2016 = KNeighborsRegressor(n_neighbors=5).fit(X_train_2016, y_train_gop_2016)\n",
    "    # # Modelos para per_gop 2020\n",
    "    # lr_model_gop_2020 = LinearRegression().fit(X_train_2020, y_train_gop_2020)\n",
    "    # rf_model_gop_2020 = RandomForestRegressor(n_estimators=100, random_state=i).fit(X_train_2020, y_train_gop_2020)\n",
    "    # knn_model_gop_2020 = KNeighborsRegressor(n_neighbors=5).fit(X_train_2020, y_train_gop_2020)\n",
    "\n",
    "    ## ------------------------------\n",
    "    ## CARGAR MODELOS DESDE ARCHIVOS GUARDADOS\n",
    "    # Modelos para per_dem 2016\n",
    "    lr_model_dem_2016 = joblib.load(f'models/ridge_dem_2016.pkl')\n",
    "    rf_model_dem_2016 = joblib.load(f'models/random_forest_dem_2016.pkl')\n",
    "    knn_model_dem_2016 = joblib.load(f'models/knn_dem_2016.pkl')\n",
    "    \n",
    "    # Modelos para per_dem 2020\n",
    "    lr_model_dem_2020 = joblib.load(f'models/ridge_dem_2020.pkl')\n",
    "    rf_model_dem_2020 = joblib.load(f'models/random_forest_dem_2020.pkl')\n",
    "    knn_model_dem_2020 = joblib.load(f'models/knn_dem_2020.pkl')\n",
    "\n",
    "    # Modelos para per_gop 2016\n",
    "    lr_model_gop_2016 = joblib.load(f'models/ridge_gop_2016.pkl')\n",
    "    rf_model_gop_2016 = joblib.load(f'models/random_forest_gop_2016.pkl')\n",
    "    knn_model_gop_2016 = joblib.load(f'models/knn_gop_2016.pkl')\n",
    "\n",
    "    # Modelos para per_gop 2020\n",
    "    lr_model_gop_2020 = joblib.load(f'models/ridge_gop_2020.pkl')\n",
    "    rf_model_gop_2020 = joblib.load(f'models/random_forest_gop_2020.pkl')\n",
    "    knn_model_gop_2020 = joblib.load(f'models/knn_gop_2020.pkl')\n",
    "\n",
    "\n",
    "\n",
    "    ## ------------------------------\n",
    "    ## PREDICCIONES CON data_sim\n",
    "    X_sim = data_sim.drop(columns=['per_dem', 'per_gop'])\n",
    "\n",
    "    # Predicciones per_dem 2016\n",
    "    pred_lr_dem_2016 = lr_model_dem_2016.predict(X_sim)\n",
    "    pred_rf_dem_2016 = rf_model_dem_2016.predict(X_sim)\n",
    "    pred_knn_dem_2016 = knn_model_dem_2016.predict(X_sim)\n",
    "    # Predicciones per_dem 2020\n",
    "    pred_lr_dem_2020 = lr_model_dem_2020.predict(X_sim)\n",
    "    pred_rf_dem_2020 = rf_model_dem_2020.predict(X_sim)\n",
    "    pred_knn_dem_2020 = knn_model_dem_2020.predict(X_sim)\n",
    "\n",
    "    # Predicciones per_gop 2016\n",
    "    pred_lr_gop_2016 = lr_model_gop_2016.predict(X_sim)\n",
    "    pred_rf_gop_2016 = rf_model_gop_2016.predict(X_sim)\n",
    "    pred_knn_gop_2016 = knn_model_gop_2016.predict(X_sim)\n",
    "    # Predicciones per_gop 2020\n",
    "    pred_lr_gop_2020 = lr_model_gop_2020.predict(X_sim)\n",
    "    pred_rf_gop_2020 = rf_model_gop_2020.predict(X_sim)\n",
    "    pred_knn_gop_2020 = knn_model_gop_2020.predict(X_sim)\n",
    "\n",
    "    # Promedio de predicciones 2016\n",
    "    per_dem_pred_2016 = pred_rf_dem_2016 # (pred_lr_dem_2016 + pred_rf_dem_2016 + pred_knn_dem_2016) / 3\n",
    "    per_gop_pred_2016 = pred_rf_gop_2016 # (pred_lr_gop_2016 + pred_rf_gop_2016 + pred_knn_gop_2016) / 3\n",
    "    # Promedio de predicciones 2020\n",
    "    per_dem_pred_2020 = pred_rf_dem_2020 # (pred_lr_dem_2020 + pred_rf_dem_2020 + pred_knn_dem_2020) / 3\n",
    "    per_gop_pred_2020 = pred_rf_gop_2020 # (pred_lr_gop_2020 + pred_rf_gop_2020 + pred_knn_gop_2020) / 3\n",
    "\n",
    "    # Calcular per_other de manera residual 2016\n",
    "    per_other_pred_2016 = 1 - (per_dem_pred_2016 + per_gop_pred_2016)\n",
    "    # Calcular per_other de manera residual 2020\n",
    "    per_other_pred_2020 = 1 - (per_dem_pred_2020 + per_gop_pred_2020)\n",
    "    \n",
    "    # Asegurar que per_other no sea negativo (si es menor a 0, ajustamos) 2016\n",
    "    per_other_pred_2016 = np.clip(per_other_pred_2016, 0, 1)\n",
    "    # Asegurar que per_other no sea negativo (si es menor a 0, ajustamos) 2020\n",
    "    per_other_pred_2020 = np.clip(per_other_pred_2020, 0, 1)\n",
    "\n",
    "    # Weighted sum of predictions 2016 and 2020\n",
    "    weight_2016 = np.random.uniform(0.3, 1)  # Puede ser entre 0% y 100%\n",
    "    weight_2020 = 1 - weight_2016\n",
    "    print(f\"{weight_2016=}\")\n",
    "\n",
    "    per_dem_pred = (weight_2016 * per_dem_pred_2016 + weight_2020 * per_dem_pred_2020) / (weight_2016 + weight_2020)\n",
    "    per_gop_pred = (weight_2016 * per_gop_pred_2016 + weight_2020 * per_gop_pred_2020) / (weight_2016 + weight_2020)\n",
    "    per_other_pred = (weight_2016 * per_other_pred_2016 + weight_2020 * per_other_pred_2020) / (weight_2016 + weight_2020)\n",
    "    # print(f\"{per_dem_pred=}\")\n",
    "    # print(f\"{per_gop_pred=}\")\n",
    "    # print(f\"{per_other_pred=}\")\n",
    "\n",
    "    ## PROCESAMIENTO DE RESULTADOS\n",
    "    df_pred = pd.DataFrame({\n",
    "    'Votes_dem': np.round(per_dem_pred * data['total_votes']).astype(int), \n",
    "    'Votes_gop': np.round(per_gop_pred * data['total_votes']).astype(int),\n",
    "    'Votes_other': np.round(per_other_pred * data['total_votes']).astype(int),\n",
    "    'Votes_total': data['total_votes'], \n",
    "    'state': state_names,\n",
    "    'county': county_names,\n",
    "    'fips': fips_codes\n",
    "})\n",
    "\n",
    "\n",
    "    df_pred_state = df_pred.groupby(\"state\").agg(Votes_dem=(\"Votes_dem\", 'sum'), \n",
    "                                                 Votes_gop=(\"Votes_gop\", 'sum'),\n",
    "                                                 Votes_other=(\"Votes_other\", 'sum'),\n",
    "                                                 Votes_total=(\"Votes_total\", 'sum'))\n",
    "    \n",
    "    \n",
    "    # Calcular porcentaje de cada candidato en el estado\n",
    "    df_pred_state[\"Per_dem\"] = df_pred_state[\"Votes_dem\"] / df_pred_state[\"Votes_total\"] \n",
    "    df_pred_state[\"Per_gop\"] = df_pred_state[\"Votes_gop\"] / df_pred_state[\"Votes_total\"] \n",
    "    df_pred_state[\"Per_other\"] = df_pred_state[\"Votes_other\"] / df_pred_state[\"Votes_total\"]\n",
    "\n",
    "\n",
    "    # # Ajustar las predicciones en función de la desviación histórica\n",
    "    # df_pred_state[\"Per_dem\"] += (state_adjustments[\"per_dem_2020\"] - state_adjustments[\"per_dem_2016\"])\n",
    "    # df_pred_state[\"Per_gop\"] += (state_adjustments[\"per_gop_2020\"] - state_adjustments[\"per_gop_2016\"])\n",
    "\n",
    "    # Acumular los resultados de cada simulación\n",
    "    if accumulated_pred_state.empty:\n",
    "        accumulated_pred_state = df_pred_state.copy()  # Primera iteración, simplemente copiamos los datos\n",
    "    else:\n",
    "        accumulated_pred_state['Votes_dem'] += df_pred_state['Votes_dem']\n",
    "        accumulated_pred_state['Votes_gop'] += df_pred_state['Votes_gop']\n",
    "        accumulated_pred_state['Votes_total'] += df_pred_state['Votes_total']\n",
    "        accumulated_pred_state[\"Per_dem\"] += df_pred_state[\"Per_dem\"]\n",
    "        accumulated_pred_state[\"Per_gop\"] += df_pred_state[\"Per_gop\"]\n",
    "        accumulated_pred_state[\"Per_other\"] += df_pred_state[\"Per_other\"]\n",
    "\n",
    "\n",
    "    # Predicción y ganadores\n",
    "    df_pred_state[\"Winner\"] = np.where(df_pred_state[\"Per_dem\"] < df_pred_state[\"Per_gop\"], 'gop', 'dem')    \n",
    "\n",
    "    # Añadir votos electorales (escaños) a cada estado\n",
    "    full_df_pred_state = pd.merge(seats_data, df_pred_state, how='inner', on=[\"state\"])\n",
    "\n",
    "    # Agrupar por estado y sumar los votos\n",
    "    df_pred_winner = full_df_pred_state.groupby(\"Winner\").agg({\n",
    "        \"ElectoralVotes2024\": \"sum\",  # Sumar los votos electorales de cada candidato\n",
    "    }).reset_index()\n",
    "\n",
    "    df_pred_winner.loc[df_pred_winner[\"Winner\"] == 'gop', 'ElectoralVotes2024'] += 3 # Añadir 3 al número de votos electorales de Trump por Alaska\n",
    "\n",
    "    # Crear un nuevo DataFrame con los resultados de esta simulación\n",
    "    dem_votes = df_pred_winner.loc[df_pred_winner[\"Winner\"] == 'dem', 'ElectoralVotes2024'].values[0]\n",
    "    gop_votes = df_pred_winner.loc[df_pred_winner[\"Winner\"] == 'gop', 'ElectoralVotes2024'].values[0]\n",
    "\n",
    "    # Determinar el ganador considerando empates\n",
    "    if dem_votes > gop_votes:\n",
    "        winner = 'dem'\n",
    "    elif gop_votes > dem_votes:\n",
    "        winner = 'gop'\n",
    "    else:\n",
    "        winner = 'tie'  # En caso de empate\n",
    "\n",
    "    # Crear un nuevo DataFrame con los resultados de esta simulación\n",
    "    new_row = pd.DataFrame({\n",
    "        'Pred_dem': [dem_votes],\n",
    "        'Pred_gop': [gop_votes],\n",
    "        'Winner': [winner]\n",
    "    })\n",
    "\n",
    "\n",
    "    # Usar concat para añadir la nueva fila\n",
    "    simulation_results = pd.concat([simulation_results, new_row], ignore_index=True)\n",
    "\n",
    "# Después de todas las simulaciones, calcular la media\n",
    "accumulated_pred_state['Votes_dem'] = np.round(accumulated_pred_state['Votes_dem'] / n_sim).astype(int)\n",
    "accumulated_pred_state['Votes_gop'] = np.round(accumulated_pred_state['Votes_gop'] / n_sim).astype(int)\n",
    "accumulated_pred_state['Votes_total'] = np.round(accumulated_pred_state['Votes_total'] / n_sim).astype(int)\n",
    "accumulated_pred_state['Per_dem'] /= n_sim\n",
    "accumulated_pred_state['Per_gop'] /= n_sim\n",
    "accumulated_pred_state['Per_other'] /= n_sim\n"
   ]
  },
  {
   "cell_type": "markdown",
   "metadata": {},
   "source": [
    "## Results"
   ]
  },
  {
   "cell_type": "code",
   "execution_count": 397,
   "metadata": {},
   "outputs": [
    {
     "data": {
      "text/plain": [
       "Winner\n",
       "dem    2\n",
       "Name: count, dtype: int64"
      ]
     },
     "execution_count": 397,
     "metadata": {},
     "output_type": "execute_result"
    }
   ],
   "source": [
    "simulation_results[\"Winner\"].value_counts()"
   ]
  },
  {
   "cell_type": "code",
   "execution_count": 398,
   "metadata": {},
   "outputs": [
    {
     "data": {
      "text/plain": [
       "Winner\n",
       "dem    1.0\n",
       "Name: proportion, dtype: float64"
      ]
     },
     "execution_count": 398,
     "metadata": {},
     "output_type": "execute_result"
    }
   ],
   "source": [
    "simulation_results[\"Winner\"].value_counts(normalize=True)"
   ]
  },
  {
   "cell_type": "code",
   "execution_count": 399,
   "metadata": {},
   "outputs": [
    {
     "data": {
      "text/html": [
       "<div>\n",
       "<style scoped>\n",
       "    .dataframe tbody tr th:only-of-type {\n",
       "        vertical-align: middle;\n",
       "    }\n",
       "\n",
       "    .dataframe tbody tr th {\n",
       "        vertical-align: top;\n",
       "    }\n",
       "\n",
       "    .dataframe thead th {\n",
       "        text-align: right;\n",
       "    }\n",
       "</style>\n",
       "<table border=\"1\" class=\"dataframe\">\n",
       "  <thead>\n",
       "    <tr style=\"text-align: right;\">\n",
       "      <th></th>\n",
       "      <th>Pred_dem</th>\n",
       "      <th>Pred_gop</th>\n",
       "      <th>Winner</th>\n",
       "    </tr>\n",
       "  </thead>\n",
       "  <tbody>\n",
       "    <tr>\n",
       "      <th>0</th>\n",
       "      <td>332</td>\n",
       "      <td>206</td>\n",
       "      <td>dem</td>\n",
       "    </tr>\n",
       "    <tr>\n",
       "      <th>1</th>\n",
       "      <td>332</td>\n",
       "      <td>206</td>\n",
       "      <td>dem</td>\n",
       "    </tr>\n",
       "  </tbody>\n",
       "</table>\n",
       "</div>"
      ],
      "text/plain": [
       "  Pred_dem Pred_gop Winner\n",
       "0      332      206    dem\n",
       "1      332      206    dem"
      ]
     },
     "execution_count": 399,
     "metadata": {},
     "output_type": "execute_result"
    }
   ],
   "source": [
    "simulation_results"
   ]
  },
  {
   "cell_type": "code",
   "execution_count": 400,
   "metadata": {},
   "outputs": [
    {
     "data": {
      "text/html": [
       "<div>\n",
       "<style scoped>\n",
       "    .dataframe tbody tr th:only-of-type {\n",
       "        vertical-align: middle;\n",
       "    }\n",
       "\n",
       "    .dataframe tbody tr th {\n",
       "        vertical-align: top;\n",
       "    }\n",
       "\n",
       "    .dataframe thead th {\n",
       "        text-align: right;\n",
       "    }\n",
       "</style>\n",
       "<table border=\"1\" class=\"dataframe\">\n",
       "  <thead>\n",
       "    <tr style=\"text-align: right;\">\n",
       "      <th></th>\n",
       "      <th>Votes_dem</th>\n",
       "      <th>Votes_gop</th>\n",
       "      <th>Votes_other</th>\n",
       "      <th>Votes_total</th>\n",
       "      <th>Per_dem</th>\n",
       "      <th>Per_gop</th>\n",
       "      <th>Per_other</th>\n",
       "      <th>Winner</th>\n",
       "      <th>state_code</th>\n",
       "      <th>Difference</th>\n",
       "      <th>Status</th>\n",
       "    </tr>\n",
       "    <tr>\n",
       "      <th>state</th>\n",
       "      <th></th>\n",
       "      <th></th>\n",
       "      <th></th>\n",
       "      <th></th>\n",
       "      <th></th>\n",
       "      <th></th>\n",
       "      <th></th>\n",
       "      <th></th>\n",
       "      <th></th>\n",
       "      <th></th>\n",
       "      <th></th>\n",
       "    </tr>\n",
       "  </thead>\n",
       "  <tbody>\n",
       "    <tr>\n",
       "      <th>Alabama</th>\n",
       "      <td>918720</td>\n",
       "      <td>1258026</td>\n",
       "      <td>69995</td>\n",
       "      <td>2256352</td>\n",
       "      <td>0.407171</td>\n",
       "      <td>0.557549</td>\n",
       "      <td>0.035311</td>\n",
       "      <td>gop</td>\n",
       "      <td>AL</td>\n",
       "      <td>-15.037835</td>\n",
       "      <td>Safe Republican</td>\n",
       "    </tr>\n",
       "    <tr>\n",
       "      <th>Arizona</th>\n",
       "      <td>1737117</td>\n",
       "      <td>1467155</td>\n",
       "      <td>162937</td>\n",
       "      <td>3389319</td>\n",
       "      <td>0.512527</td>\n",
       "      <td>0.432876</td>\n",
       "      <td>0.054597</td>\n",
       "      <td>dem</td>\n",
       "      <td>AZ</td>\n",
       "      <td>7.965081</td>\n",
       "      <td>Likely Democrat</td>\n",
       "    </tr>\n",
       "    <tr>\n",
       "      <th>Arkansas</th>\n",
       "      <td>457444</td>\n",
       "      <td>680666</td>\n",
       "      <td>39930</td>\n",
       "      <td>1182676</td>\n",
       "      <td>0.386788</td>\n",
       "      <td>0.575530</td>\n",
       "      <td>0.037734</td>\n",
       "      <td>gop</td>\n",
       "      <td>AR</td>\n",
       "      <td>-18.874273</td>\n",
       "      <td>Safe Republican</td>\n",
       "    </tr>\n",
       "    <tr>\n",
       "      <th>California</th>\n",
       "      <td>9817340</td>\n",
       "      <td>5203676</td>\n",
       "      <td>716381</td>\n",
       "      <td>15862536</td>\n",
       "      <td>0.618901</td>\n",
       "      <td>0.328048</td>\n",
       "      <td>0.053051</td>\n",
       "      <td>dem</td>\n",
       "      <td>CA</td>\n",
       "      <td>29.085286</td>\n",
       "      <td>Safe Democrat</td>\n",
       "    </tr>\n",
       "    <tr>\n",
       "      <th>Colorado</th>\n",
       "      <td>1647258</td>\n",
       "      <td>1339820</td>\n",
       "      <td>178989</td>\n",
       "      <td>3190873</td>\n",
       "      <td>0.516241</td>\n",
       "      <td>0.419892</td>\n",
       "      <td>0.063878</td>\n",
       "      <td>dem</td>\n",
       "      <td>CO</td>\n",
       "      <td>9.634918</td>\n",
       "      <td>Likely Democrat</td>\n",
       "    </tr>\n",
       "    <tr>\n",
       "      <th>Connecticut</th>\n",
       "      <td>794890</td>\n",
       "      <td>582374</td>\n",
       "      <td>62265</td>\n",
       "      <td>1450129</td>\n",
       "      <td>0.548152</td>\n",
       "      <td>0.401601</td>\n",
       "      <td>0.050247</td>\n",
       "      <td>dem</td>\n",
       "      <td>CT</td>\n",
       "      <td>14.655041</td>\n",
       "      <td>Safe Democrat</td>\n",
       "    </tr>\n",
       "    <tr>\n",
       "      <th>Delaware</th>\n",
       "      <td>259560</td>\n",
       "      <td>229937</td>\n",
       "      <td>19504</td>\n",
       "      <td>511697</td>\n",
       "      <td>0.507254</td>\n",
       "      <td>0.449362</td>\n",
       "      <td>0.043384</td>\n",
       "      <td>dem</td>\n",
       "      <td>DE</td>\n",
       "      <td>5.789266</td>\n",
       "      <td>Likely Democrat</td>\n",
       "    </tr>\n",
       "    <tr>\n",
       "      <th>District of Columbia</th>\n",
       "      <td>32504</td>\n",
       "      <td>6686</td>\n",
       "      <td>1192</td>\n",
       "      <td>40463</td>\n",
       "      <td>0.803289</td>\n",
       "      <td>0.165225</td>\n",
       "      <td>0.031486</td>\n",
       "      <td>dem</td>\n",
       "      <td>DC</td>\n",
       "      <td>63.806440</td>\n",
       "      <td>Safe Democrat</td>\n",
       "    </tr>\n",
       "    <tr>\n",
       "      <th>Florida</th>\n",
       "      <td>5449118</td>\n",
       "      <td>5074698</td>\n",
       "      <td>321520</td>\n",
       "      <td>10893547</td>\n",
       "      <td>0.500215</td>\n",
       "      <td>0.465844</td>\n",
       "      <td>0.033944</td>\n",
       "      <td>dem</td>\n",
       "      <td>FL</td>\n",
       "      <td>3.437072</td>\n",
       "      <td>Likely Democrat</td>\n",
       "    </tr>\n",
       "    <tr>\n",
       "      <th>Georgia</th>\n",
       "      <td>2609160</td>\n",
       "      <td>2439984</td>\n",
       "      <td>181113</td>\n",
       "      <td>5250047</td>\n",
       "      <td>0.496978</td>\n",
       "      <td>0.464755</td>\n",
       "      <td>0.038356</td>\n",
       "      <td>dem</td>\n",
       "      <td>GA</td>\n",
       "      <td>3.222362</td>\n",
       "      <td>Likely Democrat</td>\n",
       "    </tr>\n",
       "    <tr>\n",
       "      <th>Hawaii</th>\n",
       "      <td>321964</td>\n",
       "      <td>172892</td>\n",
       "      <td>18829</td>\n",
       "      <td>516701</td>\n",
       "      <td>0.623115</td>\n",
       "      <td>0.334606</td>\n",
       "      <td>0.042281</td>\n",
       "      <td>dem</td>\n",
       "      <td>HI</td>\n",
       "      <td>28.850825</td>\n",
       "      <td>Safe Democrat</td>\n",
       "    </tr>\n",
       "    <tr>\n",
       "      <th>Idaho</th>\n",
       "      <td>339934</td>\n",
       "      <td>508889</td>\n",
       "      <td>47737</td>\n",
       "      <td>904812</td>\n",
       "      <td>0.375696</td>\n",
       "      <td>0.562425</td>\n",
       "      <td>0.061880</td>\n",
       "      <td>gop</td>\n",
       "      <td>ID</td>\n",
       "      <td>-18.672940</td>\n",
       "      <td>Safe Republican</td>\n",
       "    </tr>\n",
       "    <tr>\n",
       "      <th>Illinois</th>\n",
       "      <td>2987038</td>\n",
       "      <td>2338233</td>\n",
       "      <td>225961</td>\n",
       "      <td>5592368</td>\n",
       "      <td>0.534128</td>\n",
       "      <td>0.418111</td>\n",
       "      <td>0.047766</td>\n",
       "      <td>dem</td>\n",
       "      <td>IL</td>\n",
       "      <td>11.601615</td>\n",
       "      <td>Safe Democrat</td>\n",
       "    </tr>\n",
       "    <tr>\n",
       "      <th>Indiana</th>\n",
       "      <td>1184761</td>\n",
       "      <td>1601144</td>\n",
       "      <td>130579</td>\n",
       "      <td>2933700</td>\n",
       "      <td>0.403845</td>\n",
       "      <td>0.545776</td>\n",
       "      <td>0.050384</td>\n",
       "      <td>gop</td>\n",
       "      <td>IN</td>\n",
       "      <td>-14.193084</td>\n",
       "      <td>Safe Republican</td>\n",
       "    </tr>\n",
       "    <tr>\n",
       "      <th>Iowa</th>\n",
       "      <td>641904</td>\n",
       "      <td>925434</td>\n",
       "      <td>76599</td>\n",
       "      <td>1656849</td>\n",
       "      <td>0.387424</td>\n",
       "      <td>0.558550</td>\n",
       "      <td>0.054028</td>\n",
       "      <td>gop</td>\n",
       "      <td>IA</td>\n",
       "      <td>-17.112604</td>\n",
       "      <td>Safe Republican</td>\n",
       "    </tr>\n",
       "    <tr>\n",
       "      <th>Kansas</th>\n",
       "      <td>517348</td>\n",
       "      <td>741698</td>\n",
       "      <td>61095</td>\n",
       "      <td>1327591</td>\n",
       "      <td>0.389689</td>\n",
       "      <td>0.558680</td>\n",
       "      <td>0.051640</td>\n",
       "      <td>gop</td>\n",
       "      <td>KS</td>\n",
       "      <td>-16.899105</td>\n",
       "      <td>Safe Republican</td>\n",
       "    </tr>\n",
       "    <tr>\n",
       "      <th>Kentucky</th>\n",
       "      <td>791376</td>\n",
       "      <td>1191198</td>\n",
       "      <td>79809</td>\n",
       "      <td>2073309</td>\n",
       "      <td>0.381697</td>\n",
       "      <td>0.574540</td>\n",
       "      <td>0.043768</td>\n",
       "      <td>gop</td>\n",
       "      <td>KY</td>\n",
       "      <td>-19.284246</td>\n",
       "      <td>Safe Republican</td>\n",
       "    </tr>\n",
       "    <tr>\n",
       "      <th>Louisiana</th>\n",
       "      <td>922506</td>\n",
       "      <td>1018548</td>\n",
       "      <td>59270</td>\n",
       "      <td>2006975</td>\n",
       "      <td>0.459650</td>\n",
       "      <td>0.507504</td>\n",
       "      <td>0.032861</td>\n",
       "      <td>gop</td>\n",
       "      <td>LA</td>\n",
       "      <td>-4.785411</td>\n",
       "      <td>Likely Republican</td>\n",
       "    </tr>\n",
       "    <tr>\n",
       "      <th>Maine</th>\n",
       "      <td>345439</td>\n",
       "      <td>444984</td>\n",
       "      <td>36094</td>\n",
       "      <td>831375</td>\n",
       "      <td>0.415503</td>\n",
       "      <td>0.535239</td>\n",
       "      <td>0.049256</td>\n",
       "      <td>gop</td>\n",
       "      <td>ME</td>\n",
       "      <td>-11.973598</td>\n",
       "      <td>Safe Republican</td>\n",
       "    </tr>\n",
       "    <tr>\n",
       "      <th>Maryland</th>\n",
       "      <td>1765324</td>\n",
       "      <td>1142647</td>\n",
       "      <td>98832</td>\n",
       "      <td>3015650</td>\n",
       "      <td>0.585388</td>\n",
       "      <td>0.378906</td>\n",
       "      <td>0.035707</td>\n",
       "      <td>dem</td>\n",
       "      <td>MD</td>\n",
       "      <td>20.648202</td>\n",
       "      <td>Safe Democrat</td>\n",
       "    </tr>\n",
       "    <tr>\n",
       "      <th>Massachusetts</th>\n",
       "      <td>2060584</td>\n",
       "      <td>1206744</td>\n",
       "      <td>158359</td>\n",
       "      <td>3453437</td>\n",
       "      <td>0.596676</td>\n",
       "      <td>0.349433</td>\n",
       "      <td>0.053890</td>\n",
       "      <td>dem</td>\n",
       "      <td>MA</td>\n",
       "      <td>24.724340</td>\n",
       "      <td>Safe Democrat</td>\n",
       "    </tr>\n",
       "    <tr>\n",
       "      <th>Michigan</th>\n",
       "      <td>2560232</td>\n",
       "      <td>2847584</td>\n",
       "      <td>226100</td>\n",
       "      <td>5662504</td>\n",
       "      <td>0.452138</td>\n",
       "      <td>0.502884</td>\n",
       "      <td>0.044977</td>\n",
       "      <td>gop</td>\n",
       "      <td>MI</td>\n",
       "      <td>-5.074663</td>\n",
       "      <td>Likely Republican</td>\n",
       "    </tr>\n",
       "    <tr>\n",
       "      <th>Minnesota</th>\n",
       "      <td>1543958</td>\n",
       "      <td>1494048</td>\n",
       "      <td>175517</td>\n",
       "      <td>3240916</td>\n",
       "      <td>0.476396</td>\n",
       "      <td>0.460996</td>\n",
       "      <td>0.062609</td>\n",
       "      <td>dem</td>\n",
       "      <td>MN</td>\n",
       "      <td>1.539981</td>\n",
       "      <td>Toss-Up</td>\n",
       "    </tr>\n",
       "    <tr>\n",
       "      <th>Mississippi</th>\n",
       "      <td>525658</td>\n",
       "      <td>671518</td>\n",
       "      <td>28146</td>\n",
       "      <td>1228008</td>\n",
       "      <td>0.428057</td>\n",
       "      <td>0.546835</td>\n",
       "      <td>0.025214</td>\n",
       "      <td>gop</td>\n",
       "      <td>MS</td>\n",
       "      <td>-11.877813</td>\n",
       "      <td>Safe Republican</td>\n",
       "    </tr>\n",
       "    <tr>\n",
       "      <th>Missouri</th>\n",
       "      <td>1226926</td>\n",
       "      <td>1639654</td>\n",
       "      <td>111665</td>\n",
       "      <td>2993596</td>\n",
       "      <td>0.409850</td>\n",
       "      <td>0.547720</td>\n",
       "      <td>0.042431</td>\n",
       "      <td>gop</td>\n",
       "      <td>MO</td>\n",
       "      <td>-13.787014</td>\n",
       "      <td>Safe Republican</td>\n",
       "    </tr>\n",
       "    <tr>\n",
       "      <th>Montana</th>\n",
       "      <td>237706</td>\n",
       "      <td>330521</td>\n",
       "      <td>30155</td>\n",
       "      <td>602963</td>\n",
       "      <td>0.394231</td>\n",
       "      <td>0.548161</td>\n",
       "      <td>0.057626</td>\n",
       "      <td>gop</td>\n",
       "      <td>MT</td>\n",
       "      <td>-15.393067</td>\n",
       "      <td>Safe Republican</td>\n",
       "    </tr>\n",
       "    <tr>\n",
       "      <th>Nebraska</th>\n",
       "      <td>377815</td>\n",
       "      <td>519113</td>\n",
       "      <td>44564</td>\n",
       "      <td>947159</td>\n",
       "      <td>0.398893</td>\n",
       "      <td>0.548074</td>\n",
       "      <td>0.053032</td>\n",
       "      <td>gop</td>\n",
       "      <td>NE</td>\n",
       "      <td>-14.918087</td>\n",
       "      <td>Safe Republican</td>\n",
       "    </tr>\n",
       "    <tr>\n",
       "      <th>Nevada</th>\n",
       "      <td>847738</td>\n",
       "      <td>553117</td>\n",
       "      <td>70116</td>\n",
       "      <td>1481765</td>\n",
       "      <td>0.572113</td>\n",
       "      <td>0.373283</td>\n",
       "      <td>0.054605</td>\n",
       "      <td>dem</td>\n",
       "      <td>NV</td>\n",
       "      <td>19.883079</td>\n",
       "      <td>Safe Democrat</td>\n",
       "    </tr>\n",
       "    <tr>\n",
       "      <th>New Hampshire</th>\n",
       "      <td>357840</td>\n",
       "      <td>426800</td>\n",
       "      <td>34087</td>\n",
       "      <td>822153</td>\n",
       "      <td>0.435248</td>\n",
       "      <td>0.519125</td>\n",
       "      <td>0.045627</td>\n",
       "      <td>gop</td>\n",
       "      <td>NH</td>\n",
       "      <td>-8.387672</td>\n",
       "      <td>Likely Republican</td>\n",
       "    </tr>\n",
       "    <tr>\n",
       "      <th>New Jersey</th>\n",
       "      <td>2529750</td>\n",
       "      <td>1569268</td>\n",
       "      <td>151513</td>\n",
       "      <td>4272725</td>\n",
       "      <td>0.592070</td>\n",
       "      <td>0.367276</td>\n",
       "      <td>0.040673</td>\n",
       "      <td>dem</td>\n",
       "      <td>NJ</td>\n",
       "      <td>22.479378</td>\n",
       "      <td>Safe Democrat</td>\n",
       "    </tr>\n",
       "    <tr>\n",
       "      <th>New Mexico</th>\n",
       "      <td>429301</td>\n",
       "      <td>452130</td>\n",
       "      <td>36235</td>\n",
       "      <td>923403</td>\n",
       "      <td>0.464912</td>\n",
       "      <td>0.489634</td>\n",
       "      <td>0.045468</td>\n",
       "      <td>gop</td>\n",
       "      <td>NM</td>\n",
       "      <td>-2.472214</td>\n",
       "      <td>Toss-Up</td>\n",
       "    </tr>\n",
       "    <tr>\n",
       "      <th>New York</th>\n",
       "      <td>4869855</td>\n",
       "      <td>2949089</td>\n",
       "      <td>333742</td>\n",
       "      <td>8198094</td>\n",
       "      <td>0.594023</td>\n",
       "      <td>0.359729</td>\n",
       "      <td>0.046249</td>\n",
       "      <td>dem</td>\n",
       "      <td>NY</td>\n",
       "      <td>23.429422</td>\n",
       "      <td>Safe Democrat</td>\n",
       "    </tr>\n",
       "    <tr>\n",
       "      <th>North Carolina</th>\n",
       "      <td>2690454</td>\n",
       "      <td>2768566</td>\n",
       "      <td>190107</td>\n",
       "      <td>5679647</td>\n",
       "      <td>0.473701</td>\n",
       "      <td>0.487454</td>\n",
       "      <td>0.038992</td>\n",
       "      <td>gop</td>\n",
       "      <td>NC</td>\n",
       "      <td>-1.375279</td>\n",
       "      <td>Toss-Up</td>\n",
       "    </tr>\n",
       "    <tr>\n",
       "      <th>North Dakota</th>\n",
       "      <td>138530</td>\n",
       "      <td>205502</td>\n",
       "      <td>17975</td>\n",
       "      <td>365059</td>\n",
       "      <td>0.379473</td>\n",
       "      <td>0.562927</td>\n",
       "      <td>0.057598</td>\n",
       "      <td>gop</td>\n",
       "      <td>ND</td>\n",
       "      <td>-18.345391</td>\n",
       "      <td>Safe Republican</td>\n",
       "    </tr>\n",
       "    <tr>\n",
       "      <th>Ohio</th>\n",
       "      <td>2563956</td>\n",
       "      <td>2961222</td>\n",
       "      <td>212973</td>\n",
       "      <td>5765017</td>\n",
       "      <td>0.444744</td>\n",
       "      <td>0.513654</td>\n",
       "      <td>0.041605</td>\n",
       "      <td>gop</td>\n",
       "      <td>OH</td>\n",
       "      <td>-6.890986</td>\n",
       "      <td>Likely Republican</td>\n",
       "    </tr>\n",
       "    <tr>\n",
       "      <th>Oklahoma</th>\n",
       "      <td>591124</td>\n",
       "      <td>910928</td>\n",
       "      <td>55519</td>\n",
       "      <td>1566173</td>\n",
       "      <td>0.377432</td>\n",
       "      <td>0.581627</td>\n",
       "      <td>0.040949</td>\n",
       "      <td>gop</td>\n",
       "      <td>OK</td>\n",
       "      <td>-20.419488</td>\n",
       "      <td>Safe Republican</td>\n",
       "    </tr>\n",
       "    <tr>\n",
       "      <th>Oregon</th>\n",
       "      <td>1165733</td>\n",
       "      <td>913274</td>\n",
       "      <td>110637</td>\n",
       "      <td>2207592</td>\n",
       "      <td>0.528056</td>\n",
       "      <td>0.413697</td>\n",
       "      <td>0.058246</td>\n",
       "      <td>dem</td>\n",
       "      <td>OR</td>\n",
       "      <td>11.435945</td>\n",
       "      <td>Safe Democrat</td>\n",
       "    </tr>\n",
       "    <tr>\n",
       "      <th>Pennsylvania</th>\n",
       "      <td>3430754</td>\n",
       "      <td>3277922</td>\n",
       "      <td>280340</td>\n",
       "      <td>7034206</td>\n",
       "      <td>0.487724</td>\n",
       "      <td>0.465997</td>\n",
       "      <td>0.046326</td>\n",
       "      <td>dem</td>\n",
       "      <td>PA</td>\n",
       "      <td>2.172711</td>\n",
       "      <td>Toss-Up</td>\n",
       "    </tr>\n",
       "    <tr>\n",
       "      <th>Rhode Island</th>\n",
       "      <td>277912</td>\n",
       "      <td>203605</td>\n",
       "      <td>24477</td>\n",
       "      <td>510659</td>\n",
       "      <td>0.544221</td>\n",
       "      <td>0.398710</td>\n",
       "      <td>0.057071</td>\n",
       "      <td>dem</td>\n",
       "      <td>RI</td>\n",
       "      <td>14.551100</td>\n",
       "      <td>Safe Democrat</td>\n",
       "    </tr>\n",
       "    <tr>\n",
       "      <th>South Carolina</th>\n",
       "      <td>1117324</td>\n",
       "      <td>1336702</td>\n",
       "      <td>83684</td>\n",
       "      <td>2548140</td>\n",
       "      <td>0.438486</td>\n",
       "      <td>0.524579</td>\n",
       "      <td>0.037105</td>\n",
       "      <td>gop</td>\n",
       "      <td>SC</td>\n",
       "      <td>-8.609339</td>\n",
       "      <td>Likely Republican</td>\n",
       "    </tr>\n",
       "    <tr>\n",
       "      <th>South Dakota</th>\n",
       "      <td>154139</td>\n",
       "      <td>247292</td>\n",
       "      <td>20954</td>\n",
       "      <td>425860</td>\n",
       "      <td>0.361948</td>\n",
       "      <td>0.580688</td>\n",
       "      <td>0.057371</td>\n",
       "      <td>gop</td>\n",
       "      <td>SD</td>\n",
       "      <td>-21.874090</td>\n",
       "      <td>Safe Republican</td>\n",
       "    </tr>\n",
       "    <tr>\n",
       "      <th>Tennessee</th>\n",
       "      <td>1287816</td>\n",
       "      <td>1660934</td>\n",
       "      <td>106955</td>\n",
       "      <td>3063942</td>\n",
       "      <td>0.420313</td>\n",
       "      <td>0.542091</td>\n",
       "      <td>0.038537</td>\n",
       "      <td>gop</td>\n",
       "      <td>TN</td>\n",
       "      <td>-12.177727</td>\n",
       "      <td>Safe Republican</td>\n",
       "    </tr>\n",
       "    <tr>\n",
       "      <th>Texas</th>\n",
       "      <td>5695359</td>\n",
       "      <td>5177160</td>\n",
       "      <td>433929</td>\n",
       "      <td>11379850</td>\n",
       "      <td>0.500478</td>\n",
       "      <td>0.454941</td>\n",
       "      <td>0.044604</td>\n",
       "      <td>dem</td>\n",
       "      <td>TX</td>\n",
       "      <td>4.553650</td>\n",
       "      <td>Likely Democrat</td>\n",
       "    </tr>\n",
       "    <tr>\n",
       "      <th>Utah</th>\n",
       "      <td>650135</td>\n",
       "      <td>697652</td>\n",
       "      <td>121502</td>\n",
       "      <td>1487951</td>\n",
       "      <td>0.436933</td>\n",
       "      <td>0.468868</td>\n",
       "      <td>0.094200</td>\n",
       "      <td>gop</td>\n",
       "      <td>UT</td>\n",
       "      <td>-3.193452</td>\n",
       "      <td>Likely Republican</td>\n",
       "    </tr>\n",
       "    <tr>\n",
       "      <th>Vermont</th>\n",
       "      <td>165852</td>\n",
       "      <td>178826</td>\n",
       "      <td>19478</td>\n",
       "      <td>366389</td>\n",
       "      <td>0.452666</td>\n",
       "      <td>0.488077</td>\n",
       "      <td>0.059257</td>\n",
       "      <td>gop</td>\n",
       "      <td>VT</td>\n",
       "      <td>-3.541045</td>\n",
       "      <td>Likely Republican</td>\n",
       "    </tr>\n",
       "    <tr>\n",
       "      <th>Virginia</th>\n",
       "      <td>2293832</td>\n",
       "      <td>1992110</td>\n",
       "      <td>173384</td>\n",
       "      <td>4482576</td>\n",
       "      <td>0.511722</td>\n",
       "      <td>0.444412</td>\n",
       "      <td>0.043873</td>\n",
       "      <td>dem</td>\n",
       "      <td>VA</td>\n",
       "      <td>6.730996</td>\n",
       "      <td>Likely Democrat</td>\n",
       "    </tr>\n",
       "    <tr>\n",
       "      <th>Washington</th>\n",
       "      <td>2200656</td>\n",
       "      <td>1469366</td>\n",
       "      <td>197741</td>\n",
       "      <td>3898835</td>\n",
       "      <td>0.564440</td>\n",
       "      <td>0.376873</td>\n",
       "      <td>0.058687</td>\n",
       "      <td>dem</td>\n",
       "      <td>WA</td>\n",
       "      <td>18.756654</td>\n",
       "      <td>Safe Democrat</td>\n",
       "    </tr>\n",
       "    <tr>\n",
       "      <th>West Virginia</th>\n",
       "      <td>254560</td>\n",
       "      <td>472626</td>\n",
       "      <td>30527</td>\n",
       "      <td>762390</td>\n",
       "      <td>0.333897</td>\n",
       "      <td>0.619926</td>\n",
       "      <td>0.046181</td>\n",
       "      <td>gop</td>\n",
       "      <td>WV</td>\n",
       "      <td>-28.602880</td>\n",
       "      <td>Safe Republican</td>\n",
       "    </tr>\n",
       "    <tr>\n",
       "      <th>Wisconsin</th>\n",
       "      <td>1530342</td>\n",
       "      <td>1718018</td>\n",
       "      <td>147159</td>\n",
       "      <td>3415213</td>\n",
       "      <td>0.448096</td>\n",
       "      <td>0.503048</td>\n",
       "      <td>0.048855</td>\n",
       "      <td>gop</td>\n",
       "      <td>WI</td>\n",
       "      <td>-5.495265</td>\n",
       "      <td>Likely Republican</td>\n",
       "    </tr>\n",
       "    <tr>\n",
       "      <th>Wyoming</th>\n",
       "      <td>91562</td>\n",
       "      <td>158676</td>\n",
       "      <td>13670</td>\n",
       "      <td>266353</td>\n",
       "      <td>0.343760</td>\n",
       "      <td>0.595738</td>\n",
       "      <td>0.060514</td>\n",
       "      <td>gop</td>\n",
       "      <td>WY</td>\n",
       "      <td>-25.197764</td>\n",
       "      <td>Safe Republican</td>\n",
       "    </tr>\n",
       "  </tbody>\n",
       "</table>\n",
       "</div>"
      ],
      "text/plain": [
       "                      Votes_dem  Votes_gop  Votes_other  Votes_total  \\\n",
       "state                                                                  \n",
       "Alabama                  918720    1258026        69995      2256352   \n",
       "Arizona                 1737117    1467155       162937      3389319   \n",
       "Arkansas                 457444     680666        39930      1182676   \n",
       "California              9817340    5203676       716381     15862536   \n",
       "Colorado                1647258    1339820       178989      3190873   \n",
       "Connecticut              794890     582374        62265      1450129   \n",
       "Delaware                 259560     229937        19504       511697   \n",
       "District of Columbia      32504       6686         1192        40463   \n",
       "Florida                 5449118    5074698       321520     10893547   \n",
       "Georgia                 2609160    2439984       181113      5250047   \n",
       "Hawaii                   321964     172892        18829       516701   \n",
       "Idaho                    339934     508889        47737       904812   \n",
       "Illinois                2987038    2338233       225961      5592368   \n",
       "Indiana                 1184761    1601144       130579      2933700   \n",
       "Iowa                     641904     925434        76599      1656849   \n",
       "Kansas                   517348     741698        61095      1327591   \n",
       "Kentucky                 791376    1191198        79809      2073309   \n",
       "Louisiana                922506    1018548        59270      2006975   \n",
       "Maine                    345439     444984        36094       831375   \n",
       "Maryland                1765324    1142647        98832      3015650   \n",
       "Massachusetts           2060584    1206744       158359      3453437   \n",
       "Michigan                2560232    2847584       226100      5662504   \n",
       "Minnesota               1543958    1494048       175517      3240916   \n",
       "Mississippi              525658     671518        28146      1228008   \n",
       "Missouri                1226926    1639654       111665      2993596   \n",
       "Montana                  237706     330521        30155       602963   \n",
       "Nebraska                 377815     519113        44564       947159   \n",
       "Nevada                   847738     553117        70116      1481765   \n",
       "New Hampshire            357840     426800        34087       822153   \n",
       "New Jersey              2529750    1569268       151513      4272725   \n",
       "New Mexico               429301     452130        36235       923403   \n",
       "New York                4869855    2949089       333742      8198094   \n",
       "North Carolina          2690454    2768566       190107      5679647   \n",
       "North Dakota             138530     205502        17975       365059   \n",
       "Ohio                    2563956    2961222       212973      5765017   \n",
       "Oklahoma                 591124     910928        55519      1566173   \n",
       "Oregon                  1165733     913274       110637      2207592   \n",
       "Pennsylvania            3430754    3277922       280340      7034206   \n",
       "Rhode Island             277912     203605        24477       510659   \n",
       "South Carolina          1117324    1336702        83684      2548140   \n",
       "South Dakota             154139     247292        20954       425860   \n",
       "Tennessee               1287816    1660934       106955      3063942   \n",
       "Texas                   5695359    5177160       433929     11379850   \n",
       "Utah                     650135     697652       121502      1487951   \n",
       "Vermont                  165852     178826        19478       366389   \n",
       "Virginia                2293832    1992110       173384      4482576   \n",
       "Washington              2200656    1469366       197741      3898835   \n",
       "West Virginia            254560     472626        30527       762390   \n",
       "Wisconsin               1530342    1718018       147159      3415213   \n",
       "Wyoming                   91562     158676        13670       266353   \n",
       "\n",
       "                       Per_dem   Per_gop  Per_other Winner state_code  \\\n",
       "state                                                                   \n",
       "Alabama               0.407171  0.557549   0.035311    gop         AL   \n",
       "Arizona               0.512527  0.432876   0.054597    dem         AZ   \n",
       "Arkansas              0.386788  0.575530   0.037734    gop         AR   \n",
       "California            0.618901  0.328048   0.053051    dem         CA   \n",
       "Colorado              0.516241  0.419892   0.063878    dem         CO   \n",
       "Connecticut           0.548152  0.401601   0.050247    dem         CT   \n",
       "Delaware              0.507254  0.449362   0.043384    dem         DE   \n",
       "District of Columbia  0.803289  0.165225   0.031486    dem         DC   \n",
       "Florida               0.500215  0.465844   0.033944    dem         FL   \n",
       "Georgia               0.496978  0.464755   0.038356    dem         GA   \n",
       "Hawaii                0.623115  0.334606   0.042281    dem         HI   \n",
       "Idaho                 0.375696  0.562425   0.061880    gop         ID   \n",
       "Illinois              0.534128  0.418111   0.047766    dem         IL   \n",
       "Indiana               0.403845  0.545776   0.050384    gop         IN   \n",
       "Iowa                  0.387424  0.558550   0.054028    gop         IA   \n",
       "Kansas                0.389689  0.558680   0.051640    gop         KS   \n",
       "Kentucky              0.381697  0.574540   0.043768    gop         KY   \n",
       "Louisiana             0.459650  0.507504   0.032861    gop         LA   \n",
       "Maine                 0.415503  0.535239   0.049256    gop         ME   \n",
       "Maryland              0.585388  0.378906   0.035707    dem         MD   \n",
       "Massachusetts         0.596676  0.349433   0.053890    dem         MA   \n",
       "Michigan              0.452138  0.502884   0.044977    gop         MI   \n",
       "Minnesota             0.476396  0.460996   0.062609    dem         MN   \n",
       "Mississippi           0.428057  0.546835   0.025214    gop         MS   \n",
       "Missouri              0.409850  0.547720   0.042431    gop         MO   \n",
       "Montana               0.394231  0.548161   0.057626    gop         MT   \n",
       "Nebraska              0.398893  0.548074   0.053032    gop         NE   \n",
       "Nevada                0.572113  0.373283   0.054605    dem         NV   \n",
       "New Hampshire         0.435248  0.519125   0.045627    gop         NH   \n",
       "New Jersey            0.592070  0.367276   0.040673    dem         NJ   \n",
       "New Mexico            0.464912  0.489634   0.045468    gop         NM   \n",
       "New York              0.594023  0.359729   0.046249    dem         NY   \n",
       "North Carolina        0.473701  0.487454   0.038992    gop         NC   \n",
       "North Dakota          0.379473  0.562927   0.057598    gop         ND   \n",
       "Ohio                  0.444744  0.513654   0.041605    gop         OH   \n",
       "Oklahoma              0.377432  0.581627   0.040949    gop         OK   \n",
       "Oregon                0.528056  0.413697   0.058246    dem         OR   \n",
       "Pennsylvania          0.487724  0.465997   0.046326    dem         PA   \n",
       "Rhode Island          0.544221  0.398710   0.057071    dem         RI   \n",
       "South Carolina        0.438486  0.524579   0.037105    gop         SC   \n",
       "South Dakota          0.361948  0.580688   0.057371    gop         SD   \n",
       "Tennessee             0.420313  0.542091   0.038537    gop         TN   \n",
       "Texas                 0.500478  0.454941   0.044604    dem         TX   \n",
       "Utah                  0.436933  0.468868   0.094200    gop         UT   \n",
       "Vermont               0.452666  0.488077   0.059257    gop         VT   \n",
       "Virginia              0.511722  0.444412   0.043873    dem         VA   \n",
       "Washington            0.564440  0.376873   0.058687    dem         WA   \n",
       "West Virginia         0.333897  0.619926   0.046181    gop         WV   \n",
       "Wisconsin             0.448096  0.503048   0.048855    gop         WI   \n",
       "Wyoming               0.343760  0.595738   0.060514    gop         WY   \n",
       "\n",
       "                      Difference             Status  \n",
       "state                                                \n",
       "Alabama               -15.037835    Safe Republican  \n",
       "Arizona                 7.965081    Likely Democrat  \n",
       "Arkansas              -18.874273    Safe Republican  \n",
       "California             29.085286      Safe Democrat  \n",
       "Colorado                9.634918    Likely Democrat  \n",
       "Connecticut            14.655041      Safe Democrat  \n",
       "Delaware                5.789266    Likely Democrat  \n",
       "District of Columbia   63.806440      Safe Democrat  \n",
       "Florida                 3.437072    Likely Democrat  \n",
       "Georgia                 3.222362    Likely Democrat  \n",
       "Hawaii                 28.850825      Safe Democrat  \n",
       "Idaho                 -18.672940    Safe Republican  \n",
       "Illinois               11.601615      Safe Democrat  \n",
       "Indiana               -14.193084    Safe Republican  \n",
       "Iowa                  -17.112604    Safe Republican  \n",
       "Kansas                -16.899105    Safe Republican  \n",
       "Kentucky              -19.284246    Safe Republican  \n",
       "Louisiana              -4.785411  Likely Republican  \n",
       "Maine                 -11.973598    Safe Republican  \n",
       "Maryland               20.648202      Safe Democrat  \n",
       "Massachusetts          24.724340      Safe Democrat  \n",
       "Michigan               -5.074663  Likely Republican  \n",
       "Minnesota               1.539981            Toss-Up  \n",
       "Mississippi           -11.877813    Safe Republican  \n",
       "Missouri              -13.787014    Safe Republican  \n",
       "Montana               -15.393067    Safe Republican  \n",
       "Nebraska              -14.918087    Safe Republican  \n",
       "Nevada                 19.883079      Safe Democrat  \n",
       "New Hampshire          -8.387672  Likely Republican  \n",
       "New Jersey             22.479378      Safe Democrat  \n",
       "New Mexico             -2.472214            Toss-Up  \n",
       "New York               23.429422      Safe Democrat  \n",
       "North Carolina         -1.375279            Toss-Up  \n",
       "North Dakota          -18.345391    Safe Republican  \n",
       "Ohio                   -6.890986  Likely Republican  \n",
       "Oklahoma              -20.419488    Safe Republican  \n",
       "Oregon                 11.435945      Safe Democrat  \n",
       "Pennsylvania            2.172711            Toss-Up  \n",
       "Rhode Island           14.551100      Safe Democrat  \n",
       "South Carolina         -8.609339  Likely Republican  \n",
       "South Dakota          -21.874090    Safe Republican  \n",
       "Tennessee             -12.177727    Safe Republican  \n",
       "Texas                   4.553650    Likely Democrat  \n",
       "Utah                   -3.193452  Likely Republican  \n",
       "Vermont                -3.541045  Likely Republican  \n",
       "Virginia                6.730996    Likely Democrat  \n",
       "Washington             18.756654      Safe Democrat  \n",
       "West Virginia         -28.602880    Safe Republican  \n",
       "Wisconsin              -5.495265  Likely Republican  \n",
       "Wyoming               -25.197764    Safe Republican  "
      ]
     },
     "execution_count": 400,
     "metadata": {},
     "output_type": "execute_result"
    }
   ],
   "source": [
    "# Añadir la columna \"Winner\" basado en los porcentajes predichos de Biden y Trump\n",
    "accumulated_pred_state['Winner'] = np.where(\n",
    "    accumulated_pred_state[\"Per_dem\"] >= accumulated_pred_state[\"Per_gop\"], 'dem', 'gop'\n",
    ")\n",
    "\n",
    "# Añadir los códigos de los estados usando el diccionario state_to_code\n",
    "accumulated_pred_state['state_code'] = accumulated_pred_state.index.map(state_to_code)\n",
    "\n",
    "# Añadir diferencia entre Biden y Trump\n",
    "accumulated_pred_state['Difference'] = (accumulated_pred_state[\"Per_dem\"] - accumulated_pred_state[\"Per_gop\"]) * 100\n",
    "\n",
    "\n",
    "# Definir las condiciones y los valores a asignar\n",
    "conditions = [\n",
    "    accumulated_pred_state[\"Difference\"] > 10,\n",
    "    accumulated_pred_state[\"Difference\"].between(2.5, 10),\n",
    "    accumulated_pred_state[\"Difference\"].between(-2.5, 2.5),\n",
    "    accumulated_pred_state[\"Difference\"].between(-10, -2.5),\n",
    "    accumulated_pred_state[\"Difference\"] < -10\n",
    "]\n",
    "\n",
    "choices = [\n",
    "    \"Safe Democrat\",\n",
    "    \"Likely Democrat\",\n",
    "    \"Toss-Up\",\n",
    "    \"Likely Republican\",\n",
    "    \"Safe Republican\"\n",
    "]\n",
    "\n",
    "# Usar np.select para asignar el \"Status\" basado en las condiciones, con un valor por defecto \"Unknown\"\n",
    "accumulated_pred_state[\"Status\"] = np.select(conditions, choices, default=\"Unknown\")\n",
    "\n",
    "\n",
    "# Mostrar el DataFrame\n",
    "accumulated_pred_state\n"
   ]
  },
  {
   "cell_type": "markdown",
   "metadata": {},
   "source": [
    "## Gráficos"
   ]
  },
  {
   "cell_type": "markdown",
   "metadata": {},
   "source": [
    "### Simulación"
   ]
  },
  {
   "cell_type": "code",
   "execution_count": 401,
   "metadata": {},
   "outputs": [
    {
     "name": "stderr",
     "output_type": "stream",
     "text": [
      "/var/folders/dh/_ks73kfn57l67vxm7b5y16qw0000gn/T/ipykernel_4904/1540349869.py:12: UserWarning:\n",
      "\n",
      "Dataset has 0 variance; skipping density estimate. Pass `warn_singular=False` to disable this warning.\n",
      "\n"
     ]
    },
    {
     "ename": "LinAlgError",
     "evalue": "The data appears to lie in a lower-dimensional subspace of the space in which it is expressed. This has resulted in a singular data covariance matrix, which cannot be treated using the algorithms implemented in `gaussian_kde`. Consider performing principle component analysis / dimensionality reduction and using `gaussian_kde` with the transformed data.",
     "output_type": "error",
     "traceback": [
      "\u001b[0;31m---------------------------------------------------------------------------\u001b[0m",
      "\u001b[0;31mLinAlgError\u001b[0m                               Traceback (most recent call last)",
      "File \u001b[0;32m~/Desktop/T3CHFEST/US-Elections/.venv/lib/python3.9/site-packages/scipy/stats/_kde.py:226\u001b[0m, in \u001b[0;36mgaussian_kde.__init__\u001b[0;34m(self, dataset, bw_method, weights)\u001b[0m\n\u001b[1;32m    225\u001b[0m \u001b[38;5;28;01mtry\u001b[39;00m:\n\u001b[0;32m--> 226\u001b[0m     \u001b[38;5;28;43mself\u001b[39;49m\u001b[38;5;241;43m.\u001b[39;49m\u001b[43mset_bandwidth\u001b[49m\u001b[43m(\u001b[49m\u001b[43mbw_method\u001b[49m\u001b[38;5;241;43m=\u001b[39;49m\u001b[43mbw_method\u001b[49m\u001b[43m)\u001b[49m\n\u001b[1;32m    227\u001b[0m \u001b[38;5;28;01mexcept\u001b[39;00m linalg\u001b[38;5;241m.\u001b[39mLinAlgError \u001b[38;5;28;01mas\u001b[39;00m e:\n",
      "File \u001b[0;32m~/Desktop/T3CHFEST/US-Elections/.venv/lib/python3.9/site-packages/scipy/stats/_kde.py:574\u001b[0m, in \u001b[0;36mgaussian_kde.set_bandwidth\u001b[0;34m(self, bw_method)\u001b[0m\n\u001b[1;32m    572\u001b[0m     \u001b[38;5;28;01mraise\u001b[39;00m \u001b[38;5;167;01mValueError\u001b[39;00m(msg)\n\u001b[0;32m--> 574\u001b[0m \u001b[38;5;28;43mself\u001b[39;49m\u001b[38;5;241;43m.\u001b[39;49m\u001b[43m_compute_covariance\u001b[49m\u001b[43m(\u001b[49m\u001b[43m)\u001b[49m\n",
      "File \u001b[0;32m~/Desktop/T3CHFEST/US-Elections/.venv/lib/python3.9/site-packages/scipy/stats/_kde.py:586\u001b[0m, in \u001b[0;36mgaussian_kde._compute_covariance\u001b[0;34m(self)\u001b[0m\n\u001b[1;32m    583\u001b[0m     \u001b[38;5;28mself\u001b[39m\u001b[38;5;241m.\u001b[39m_data_covariance \u001b[38;5;241m=\u001b[39m atleast_2d(cov(\u001b[38;5;28mself\u001b[39m\u001b[38;5;241m.\u001b[39mdataset, rowvar\u001b[38;5;241m=\u001b[39m\u001b[38;5;241m1\u001b[39m,\n\u001b[1;32m    584\u001b[0m                                        bias\u001b[38;5;241m=\u001b[39m\u001b[38;5;28;01mFalse\u001b[39;00m,\n\u001b[1;32m    585\u001b[0m                                        aweights\u001b[38;5;241m=\u001b[39m\u001b[38;5;28mself\u001b[39m\u001b[38;5;241m.\u001b[39mweights))\n\u001b[0;32m--> 586\u001b[0m     \u001b[38;5;28mself\u001b[39m\u001b[38;5;241m.\u001b[39m_data_cho_cov \u001b[38;5;241m=\u001b[39m \u001b[43mlinalg\u001b[49m\u001b[38;5;241;43m.\u001b[39;49m\u001b[43mcholesky\u001b[49m\u001b[43m(\u001b[49m\u001b[38;5;28;43mself\u001b[39;49m\u001b[38;5;241;43m.\u001b[39;49m\u001b[43m_data_covariance\u001b[49m\u001b[43m,\u001b[49m\n\u001b[1;32m    587\u001b[0m \u001b[43m                                         \u001b[49m\u001b[43mlower\u001b[49m\u001b[38;5;241;43m=\u001b[39;49m\u001b[38;5;28;43;01mTrue\u001b[39;49;00m\u001b[43m)\u001b[49m\n\u001b[1;32m    589\u001b[0m \u001b[38;5;28mself\u001b[39m\u001b[38;5;241m.\u001b[39mcovariance \u001b[38;5;241m=\u001b[39m \u001b[38;5;28mself\u001b[39m\u001b[38;5;241m.\u001b[39m_data_covariance \u001b[38;5;241m*\u001b[39m \u001b[38;5;28mself\u001b[39m\u001b[38;5;241m.\u001b[39mfactor\u001b[38;5;241m*\u001b[39m\u001b[38;5;241m*\u001b[39m\u001b[38;5;241m2\u001b[39m\n",
      "File \u001b[0;32m~/Desktop/T3CHFEST/US-Elections/.venv/lib/python3.9/site-packages/scipy/linalg/_decomp_cholesky.py:88\u001b[0m, in \u001b[0;36mcholesky\u001b[0;34m(a, lower, overwrite_a, check_finite)\u001b[0m\n\u001b[1;32m     45\u001b[0m \u001b[38;5;250m\u001b[39m\u001b[38;5;124;03m\"\"\"\u001b[39;00m\n\u001b[1;32m     46\u001b[0m \u001b[38;5;124;03mCompute the Cholesky decomposition of a matrix.\u001b[39;00m\n\u001b[1;32m     47\u001b[0m \n\u001b[0;32m   (...)\u001b[0m\n\u001b[1;32m     86\u001b[0m \n\u001b[1;32m     87\u001b[0m \u001b[38;5;124;03m\"\"\"\u001b[39;00m\n\u001b[0;32m---> 88\u001b[0m c, lower \u001b[38;5;241m=\u001b[39m \u001b[43m_cholesky\u001b[49m\u001b[43m(\u001b[49m\u001b[43ma\u001b[49m\u001b[43m,\u001b[49m\u001b[43m \u001b[49m\u001b[43mlower\u001b[49m\u001b[38;5;241;43m=\u001b[39;49m\u001b[43mlower\u001b[49m\u001b[43m,\u001b[49m\u001b[43m \u001b[49m\u001b[43moverwrite_a\u001b[49m\u001b[38;5;241;43m=\u001b[39;49m\u001b[43moverwrite_a\u001b[49m\u001b[43m,\u001b[49m\u001b[43m \u001b[49m\u001b[43mclean\u001b[49m\u001b[38;5;241;43m=\u001b[39;49m\u001b[38;5;28;43;01mTrue\u001b[39;49;00m\u001b[43m,\u001b[49m\n\u001b[1;32m     89\u001b[0m \u001b[43m                     \u001b[49m\u001b[43mcheck_finite\u001b[49m\u001b[38;5;241;43m=\u001b[39;49m\u001b[43mcheck_finite\u001b[49m\u001b[43m)\u001b[49m\n\u001b[1;32m     90\u001b[0m \u001b[38;5;28;01mreturn\u001b[39;00m c\n",
      "File \u001b[0;32m~/Desktop/T3CHFEST/US-Elections/.venv/lib/python3.9/site-packages/scipy/linalg/_decomp_cholesky.py:36\u001b[0m, in \u001b[0;36m_cholesky\u001b[0;34m(a, lower, overwrite_a, clean, check_finite)\u001b[0m\n\u001b[1;32m     35\u001b[0m \u001b[38;5;28;01mif\u001b[39;00m info \u001b[38;5;241m>\u001b[39m \u001b[38;5;241m0\u001b[39m:\n\u001b[0;32m---> 36\u001b[0m     \u001b[38;5;28;01mraise\u001b[39;00m LinAlgError(\u001b[38;5;124m\"\u001b[39m\u001b[38;5;132;01m%d\u001b[39;00m\u001b[38;5;124m-th leading minor of the array is not positive \u001b[39m\u001b[38;5;124m\"\u001b[39m\n\u001b[1;32m     37\u001b[0m                       \u001b[38;5;124m\"\u001b[39m\u001b[38;5;124mdefinite\u001b[39m\u001b[38;5;124m\"\u001b[39m \u001b[38;5;241m%\u001b[39m info)\n\u001b[1;32m     38\u001b[0m \u001b[38;5;28;01mif\u001b[39;00m info \u001b[38;5;241m<\u001b[39m \u001b[38;5;241m0\u001b[39m:\n",
      "\u001b[0;31mLinAlgError\u001b[0m: 1-th leading minor of the array is not positive definite",
      "\nThe above exception was the direct cause of the following exception:\n",
      "\u001b[0;31mLinAlgError\u001b[0m                               Traceback (most recent call last)",
      "Cell \u001b[0;32mIn[401], line 15\u001b[0m\n\u001b[1;32m     12\u001b[0m sns\u001b[38;5;241m.\u001b[39mkdeplot(simulation_results[\u001b[38;5;124m'\u001b[39m\u001b[38;5;124mPred_dem\u001b[39m\u001b[38;5;124m'\u001b[39m], color\u001b[38;5;241m=\u001b[39m\u001b[38;5;124m\"\u001b[39m\u001b[38;5;124m#3951a2\u001b[39m\u001b[38;5;124m\"\u001b[39m, fill\u001b[38;5;241m=\u001b[39m\u001b[38;5;28;01mTrue\u001b[39;00m, alpha\u001b[38;5;241m=\u001b[39m\u001b[38;5;241m0.8\u001b[39m, label\u001b[38;5;241m=\u001b[39m\u001b[38;5;124m\"\u001b[39m\u001b[38;5;124mBiden Pred\u001b[39m\u001b[38;5;124m\"\u001b[39m)\n\u001b[1;32m     14\u001b[0m \u001b[38;5;66;03m# Crear la densidad para Trump usando gaussian_kde\u001b[39;00m\n\u001b[0;32m---> 15\u001b[0m density_trump \u001b[38;5;241m=\u001b[39m \u001b[43mgaussian_kde\u001b[49m\u001b[43m(\u001b[49m\u001b[43msimulation_results\u001b[49m\u001b[43m[\u001b[49m\u001b[38;5;124;43m'\u001b[39;49m\u001b[38;5;124;43mPred_gop\u001b[39;49m\u001b[38;5;124;43m'\u001b[39;49m\u001b[43m]\u001b[49m\u001b[43m)\u001b[49m\n\u001b[1;32m     16\u001b[0m x_vals \u001b[38;5;241m=\u001b[39m np\u001b[38;5;241m.\u001b[39mlinspace(\u001b[38;5;28mmin\u001b[39m(simulation_results[\u001b[38;5;124m'\u001b[39m\u001b[38;5;124mPred_gop\u001b[39m\u001b[38;5;124m'\u001b[39m]), \u001b[38;5;28mmax\u001b[39m(simulation_results[\u001b[38;5;124m'\u001b[39m\u001b[38;5;124mPred_dem\u001b[39m\u001b[38;5;124m'\u001b[39m]), \u001b[38;5;241m1000\u001b[39m)\n\u001b[1;32m     17\u001b[0m y_vals \u001b[38;5;241m=\u001b[39m density_trump(x_vals)\n",
      "File \u001b[0;32m~/Desktop/T3CHFEST/US-Elections/.venv/lib/python3.9/site-packages/scipy/stats/_kde.py:235\u001b[0m, in \u001b[0;36mgaussian_kde.__init__\u001b[0;34m(self, dataset, bw_method, weights)\u001b[0m\n\u001b[1;32m    227\u001b[0m \u001b[38;5;28;01mexcept\u001b[39;00m linalg\u001b[38;5;241m.\u001b[39mLinAlgError \u001b[38;5;28;01mas\u001b[39;00m e:\n\u001b[1;32m    228\u001b[0m     msg \u001b[38;5;241m=\u001b[39m (\u001b[38;5;124m\"\u001b[39m\u001b[38;5;124mThe data appears to lie in a lower-dimensional subspace \u001b[39m\u001b[38;5;124m\"\u001b[39m\n\u001b[1;32m    229\u001b[0m            \u001b[38;5;124m\"\u001b[39m\u001b[38;5;124mof the space in which it is expressed. This has resulted \u001b[39m\u001b[38;5;124m\"\u001b[39m\n\u001b[1;32m    230\u001b[0m            \u001b[38;5;124m\"\u001b[39m\u001b[38;5;124min a singular data covariance matrix, which cannot be \u001b[39m\u001b[38;5;124m\"\u001b[39m\n\u001b[0;32m   (...)\u001b[0m\n\u001b[1;32m    233\u001b[0m            \u001b[38;5;124m\"\u001b[39m\u001b[38;5;124manalysis / dimensionality reduction and using \u001b[39m\u001b[38;5;124m\"\u001b[39m\n\u001b[1;32m    234\u001b[0m            \u001b[38;5;124m\"\u001b[39m\u001b[38;5;124m`gaussian_kde` with the transformed data.\u001b[39m\u001b[38;5;124m\"\u001b[39m)\n\u001b[0;32m--> 235\u001b[0m     \u001b[38;5;28;01mraise\u001b[39;00m linalg\u001b[38;5;241m.\u001b[39mLinAlgError(msg) \u001b[38;5;28;01mfrom\u001b[39;00m\u001b[38;5;250m \u001b[39m\u001b[38;5;21;01me\u001b[39;00m\n",
      "\u001b[0;31mLinAlgError\u001b[0m: The data appears to lie in a lower-dimensional subspace of the space in which it is expressed. This has resulted in a singular data covariance matrix, which cannot be treated using the algorithms implemented in `gaussian_kde`. Consider performing principle component analysis / dimensionality reduction and using `gaussian_kde` with the transformed data."
     ]
    },
    {
     "data": {
      "image/png": "[encoded data removed]",
      "text/plain": [
       "<Figure size 1200x800 with 1 Axes>"
      ]
     },
     "metadata": {},
     "output_type": "display_data"
    }
   ],
   "source": [
    "# Asegurarse de que los valores de Trump_Pred y Biden_Pred sean numéricos\n",
    "simulation_results['Pred_gop'] = pd.to_numeric(simulation_results['Pred_gop'], errors='coerce')\n",
    "simulation_results['Pred_dem'] = pd.to_numeric(simulation_results['Pred_dem'], errors='coerce')\n",
    "\n",
    "# Eliminar cualquier fila con valores NaN (si es necesario)\n",
    "simulation_results = simulation_results.dropna(subset=['Pred_gop', 'Pred_dem'])\n",
    "\n",
    "# Crear un gráfico de densidad para las predicciones de Biden y Trump\n",
    "plt.figure(figsize=(12, 8))\n",
    "\n",
    "# Gráfico de densidad para Biden (positivo)\n",
    "sns.kdeplot(simulation_results['Pred_dem'], color=\"#3951a2\", fill=True, alpha=0.8, label=\"Biden Pred\")\n",
    "\n",
    "# Crear la densidad para Trump usando gaussian_kde\n",
    "density_trump = gaussian_kde(simulation_results['Pred_gop'])\n",
    "x_vals = np.linspace(min(simulation_results['Pred_gop']), max(simulation_results['Pred_dem']), 1000)\n",
    "y_vals = density_trump(x_vals)\n",
    "\n",
    "# Graficar la densidad de Trump invertida\n",
    "plt.fill_between(x_vals, -y_vals, color=\"#af2b39\", alpha=0.8, label=\"Trump Pred\")\n",
    "\n",
    "# Línea vertical en 270 votos\n",
    "plt.axvline(x=270, color=\"black\", linestyle=\"--\", linewidth=1, label=\"Límite para ganar (270)\")\n",
    "plt.text(270-6, 0.02, '270', color=\"black\", verticalalignment='bottom', fontsize=12)  # Añadir el valor '270' dentro del gráfico\n",
    "\n",
    "# Línea vertical para la media de las predicciones de Biden\n",
    "plt.axvline(x=np.mean(simulation_results['Pred_dem']), color=\"white\", linestyle=\"--\", linewidth=1, label=\"Media Biden Pred\")\n",
    "mean_biden = np.mean(simulation_results['Pred_dem'])\n",
    "plt.text(mean_biden + 1, 0.01, f'{mean_biden:.0f}', color=\"white\", verticalalignment='bottom', fontsize=12)  # Añadir el valor de la media de Biden\n",
    "\n",
    "# Línea vertical para la media de las predicciones de Trump\n",
    "plt.axvline(x=np.mean(simulation_results['Pred_gop']), color=\"white\", linestyle=\"--\", linewidth=1, label=\"Media Trump Pred\")\n",
    "mean_trump = np.mean(simulation_results['Pred_gop'])\n",
    "plt.text(mean_trump + 1, -0.01, f'{mean_trump:.0f}', color=\"white\", verticalalignment='top', fontsize=12)  # Añadir el valor de la media de Trump\n",
    "\n",
    "# Ajustar el eje Y para que sea simétrico\n",
    "plt.ylim(-1.1 * max(y_vals), 1.1 * max(y_vals))\n",
    "\n",
    "# Ajustar el eje X para ver más a la izquierda\n",
    "plt.xlim(min(simulation_results['Pred_gop']), max(simulation_results['Pred_dem']))\n",
    "\n",
    "# Añadir título\n",
    "plt.title(f\"{ELECTORAL_YEAR} Distribución Biden Pred. vs Trump Pred.\", fontsize=16)\n",
    "\n",
    "# Añadir leyenda\n",
    "plt.legend()\n",
    "\n",
    "# Eliminar el fondo del gráfico\n",
    "plt.gca().patch.set_alpha(0)  # Fondo del área del gráfico transparente\n",
    "\n",
    "# Eliminar los bordes y la línea negra alrededor del gráfico\n",
    "plt.gca().spines['top'].set_visible(False)\n",
    "plt.gca().spines['right'].set_visible(False)\n",
    "plt.gca().spines['left'].set_visible(False)\n",
    "plt.gca().spines['bottom'].set_visible(False)\n",
    "\n",
    "# Guardar el gráfico como PNG con fondo transparente\n",
    "plt.savefig(f\"imgs/densidad_biden_trump_transparente_{ELECTORAL_YEAR}.png\", format=\"png\", transparent=True)\n",
    "\n",
    "# Mostrar el gráfico\n",
    "plt.show()"
   ]
  },
  {
   "cell_type": "code",
   "execution_count": null,
   "metadata": {},
   "outputs": [
    {
     "data": {
      "image/png": "[encoded data removed]",
      "text/plain": [
       "<Figure size 1000x1200 with 1 Axes>"
      ]
     },
     "metadata": {},
     "output_type": "display_data"
    }
   ],
   "source": [
    "# Ordenar los estados por orden alfabético\n",
    "accumulated_pred_state_sorted = accumulated_pred_state.sort_values('state', ascending=False)\n",
    "\n",
    "# Crear el gráfico de barras apiladas\n",
    "plt.figure(figsize=(10, 12))\n",
    "\n",
    "# Primero, graficar la barra de Trump\n",
    "sns.barplot(x=accumulated_pred_state_sorted[\"Per_dem\"] + accumulated_pred_state_sorted[\"Per_gop\"], \n",
    "            y='state', data=accumulated_pred_state_sorted, color=\"#ac2a37\", label=\"gop\")\n",
    "\n",
    "# Luego, graficar la barra de Biden encima de Trump\n",
    "sns.barplot(x=\"Per_dem\", y='state', data=accumulated_pred_state_sorted, color=\"#3951a2\", label=\"dem\")\n",
    "\n",
    "# Añadir una línea vertical en el 50%\n",
    "plt.axvline(x=0.50, color=\"white\", linestyle=\"--\", linewidth=1)\n",
    "\n",
    "# Añadir leyenda\n",
    "plt.legend(loc='best')\n",
    "\n",
    "# Invertir el eje Y para que los estados se vean de arriba hacia abajo\n",
    "plt.gca().invert_yaxis()\n",
    "\n",
    "# Añadir etiquetas y título\n",
    "plt.title(f'{ELECTORAL_YEAR} Resultados Medios por Estado - Simulaciones de Trump vs Biden', fontsize=16)\n",
    "plt.xlabel('Proporción de Votos Simulados')\n",
    "plt.ylabel('Estado')\n",
    "\n",
    "# Ajustar el eje X para que las barras lleguen al 100%\n",
    "plt.xlim(0, 1)\n",
    "\n",
    "# Guardar el gráfico como PNG con fondo transparente\n",
    "plt.savefig(\"imgs/porc_estado_transparente_{ELECTORAL_YEAR}.png\", format=\"png\", transparent=True)\n",
    "\n",
    "# Mostrar el gráfico\n",
    "plt.show()"
   ]
  },
  {
   "cell_type": "code",
   "execution_count": null,
   "metadata": {},
   "outputs": [
    {
     "data": {
      "image/png": "[encoded data removed]",
      "text/plain": [
       "<Figure size 2600x1200 with 1 Axes>"
      ]
     },
     "metadata": {},
     "output_type": "display_data"
    }
   ],
   "source": [
    "plt.figure(figsize=(26, 12))\n",
    "\n",
    "# Graficar la barra de Trump (en la parte inferior)\n",
    "sns.barplot(y=accumulated_pred_state_sorted[\"Per_dem\"] + accumulated_pred_state_sorted[\"Per_gop\"], \n",
    "            x='state', data=accumulated_pred_state_sorted, color=\"#ac2a37\", label=\"gop\")\n",
    "\n",
    "# Graficar la barra de Biden encima de Trump\n",
    "sns.barplot(y=\"Per_dem\", x='state', data=accumulated_pred_state_sorted, color=\"#3951a2\", label=\"dem\")\n",
    "\n",
    "# Añadir una línea horizontal en el 50%\n",
    "plt.axhline(y=0.50, color=\"white\", linestyle=\"--\", linewidth=1)\n",
    "\n",
    "# Añadir leyenda\n",
    "plt.legend(loc='best', fontsize=22)\n",
    "\n",
    "# Añadir etiquetas y título\n",
    "# plt.title('Resultados Medios por Estado - Simulaciones de Trump vs Biden', fontsize=16)\n",
    "plt.ylabel('Proporción de Votos Simulados', fontsize=22)\n",
    "plt.xlabel('Estado', fontsize=22)\n",
    "\n",
    "# Ajustar el eje Y para que las barras lleguen al 100%\n",
    "plt.ylim(0, 1)\n",
    "\n",
    "# Rotar los nombres de los estados para mejor visibilidad y aumentar el tamaño de las etiquetas\n",
    "plt.xticks(rotation=90, fontsize=24)\n",
    "plt.yticks(fontsize=24)\n",
    "\n",
    "# Ajustar los márgenes del gráfico para evitar que los xticks se corten\n",
    "plt.tight_layout()\n",
    "\n",
    "\n",
    "# Guardar el gráfico como PNG con fondo transparente\n",
    "plt.savefig(f\"imgs/porc_estado_inv_transparente_{ELECTORAL_YEAR}.png\", format=\"png\", transparent=True)\n",
    "\n",
    "# Mostrar el gráfico\n",
    "plt.show()"
   ]
  },
  {
   "cell_type": "code",
   "execution_count": null,
   "metadata": {},
   "outputs": [
    {
     "data": {
      "application/vnd.plotly.v1+json": {
       "config": {
        "plotlyServerURL": "https://plot.ly"
       },
       "data": [
        {
         "colorscale": [
          [
           0,
           "#af2b39"
          ],
          [
           1,
           "#af2b39"
          ]
         ],
         "customdata": [
          [
           "AL",
           0.40328246260695183,
           0.548950684403147
          ],
          [
           "AR",
           0.3874525775315232,
           0.5633800195834895
          ],
          [
           "ID",
           0.3595258182768271,
           0.5521477984644373
          ],
          [
           "IN",
           0.3958372415336956,
           0.5367452842015862
          ],
          [
           "IA",
           0.37229387039090606,
           0.551067256710465
          ],
          [
           "KS",
           0.37817787305046013,
           0.5538799899483149
          ],
          [
           "KY",
           0.37941629319326176,
           0.5615172628959255
          ],
          [
           "LA",
           0.45815731652781166,
           0.4993172801081447
          ],
          [
           "ME",
           0.3988657675744697,
           0.5349477585750503
          ],
          [
           "MI",
           0.4364188168269105,
           0.5039698991182161
          ],
          [
           "MN",
           0.45524419832585283,
           0.4576421124000041
          ],
          [
           "MS",
           0.4298230850404822,
           0.538381104155421
          ],
          [
           "MO",
           0.40268265539951165,
           0.5400130364204508
          ],
          [
           "MT",
           0.3786714609433882,
           0.5416204724849273
          ],
          [
           "NE",
           0.38583285381196253,
           0.5437929527975787
          ],
          [
           "NH",
           0.4179958743067408,
           0.5243020464490697
          ],
          [
           "NM",
           0.4567951286111736,
           0.47967647855685414
          ],
          [
           "NC",
           0.4654099235414556,
           0.479486946719433
          ],
          [
           "ND",
           0.3711345925523627,
           0.5470246861804039
          ],
          [
           "OH",
           0.43679938473111485,
           0.5080736789095368
          ],
          [
           "OK",
           0.375770257898125,
           0.5673335100953598
          ],
          [
           "SC",
           0.4297249202377149,
           0.520613419286487
          ],
          [
           "SD",
           0.3550938770330338,
           0.5638477789729655
          ],
          [
           "TN",
           0.4202065790442668,
           0.5323077539159703
          ],
          [
           "UT",
           0.41978070302100307,
           0.4496603974563993
          ],
          [
           "VT",
           0.4301906386354667,
           0.4928864281519615
          ],
          [
           "WV",
           0.3340435718386736,
           0.601978725595306
          ],
          [
           "WI",
           0.4347826426176393,
           0.4996458578666902
          ],
          [
           "WY",
           0.3356689507490143,
           0.5771730647048077
          ]
         ],
         "geo": "geo",
         "hovertemplate": "<b>%{hovertext}</b><br><br>Ganador {ELECTORAL_YEAR}=gop<br>state_code=%{customdata[0]}<br>Per_dem=%{customdata[1]:.2%}<br>Per_gop=%{customdata[2]:.2%}<extra></extra>",
         "hovertext": [
          "AL",
          "AR",
          "ID",
          "IN",
          "IA",
          "KS",
          "KY",
          "LA",
          "ME",
          "MI",
          "MN",
          "MS",
          "MO",
          "MT",
          "NE",
          "NH",
          "NM",
          "NC",
          "ND",
          "OH",
          "OK",
          "SC",
          "SD",
          "TN",
          "UT",
          "VT",
          "WV",
          "WI",
          "WY"
         ],
         "locationmode": "USA-states",
         "locations": [
          "AL",
          "AR",
          "ID",
          "IN",
          "IA",
          "KS",
          "KY",
          "LA",
          "ME",
          "MI",
          "MN",
          "MS",
          "MO",
          "MT",
          "NE",
          "NH",
          "NM",
          "NC",
          "ND",
          "OH",
          "OK",
          "SC",
          "SD",
          "TN",
          "UT",
          "VT",
          "WV",
          "WI",
          "WY"
         ],
         "name": "gop",
         "showlegend": true,
         "showscale": false,
         "type": "choropleth",
         "z": [
          1,
          1,
          1,
          1,
          1,
          1,
          1,
          1,
          1,
          1,
          1,
          1,
          1,
          1,
          1,
          1,
          1,
          1,
          1,
          1,
          1,
          1,
          1,
          1,
          1,
          1,
          1,
          1,
          1
         ]
        },
        {
         "colorscale": [
          [
           0,
           "#3951a2"
          ],
          [
           1,
           "#3951a2"
          ]
         ],
         "customdata": [
          [
           "AZ",
           0.5021610253412163,
           0.4243308563832675
          ],
          [
           "CA",
           0.6092479417660749,
           0.314831593425761
          ],
          [
           "CO",
           0.49538439579387084,
           0.41816264249197616
          ],
          [
           "CT",
           0.5301793989799407,
           0.3983823628426792
          ],
          [
           "DE",
           0.48416617024558417,
           0.45717895402664355
          ],
          [
           "DC",
           0.792097210961561,
           0.17054543565542044
          ],
          [
           "FL",
           0.49112628212239984,
           0.4620868021682525
          ],
          [
           "GA",
           0.4916132376850956,
           0.45896051161833057
          ],
          [
           "HI",
           0.6185727069259055,
           0.3222156103721553
          ],
          [
           "IL",
           0.5203267734837208,
           0.4105789235532476
          ],
          [
           "MD",
           0.570387083125769,
           0.3854010772372065
          ],
          [
           "MA",
           0.5785898295671039,
           0.3442278347447965
          ],
          [
           "NV",
           0.5633491703358623,
           0.36092679550461165
          ],
          [
           "NJ",
           0.5803437294618684,
           0.36384938844762643
          ],
          [
           "NY",
           0.5853378402955635,
           0.3523559269402587
          ],
          [
           "OR",
           0.5084606252602457,
           0.40972241581095703
          ],
          [
           "PA",
           0.4750517525182017,
           0.4598053210048225
          ],
          [
           "RI",
           0.5235580721861679,
           0.3928792238911272
          ],
          [
           "TX",
           0.4932519175946271,
           0.443372952519235
          ],
          [
           "VA",
           0.497065080080354,
           0.44399508449106817
          ],
          [
           "WA",
           0.5464260723528863,
           0.371783416527962
          ]
         ],
         "geo": "geo",
         "hovertemplate": "<b>%{hovertext}</b><br><br>Ganador {ELECTORAL_YEAR}=dem<br>state_code=%{customdata[0]}<br>Per_dem=%{customdata[1]:.2%}<br>Per_gop=%{customdata[2]:.2%}<extra></extra>",
         "hovertext": [
          "AZ",
          "CA",
          "CO",
          "CT",
          "DE",
          "DC",
          "FL",
          "GA",
          "HI",
          "IL",
          "MD",
          "MA",
          "NV",
          "NJ",
          "NY",
          "OR",
          "PA",
          "RI",
          "TX",
          "VA",
          "WA"
         ],
         "locationmode": "USA-states",
         "locations": [
          "AZ",
          "CA",
          "CO",
          "CT",
          "DE",
          "DC",
          "FL",
          "GA",
          "HI",
          "IL",
          "MD",
          "MA",
          "NV",
          "NJ",
          "NY",
          "OR",
          "PA",
          "RI",
          "TX",
          "VA",
          "WA"
         ],
         "name": "dem",
         "showlegend": true,
         "showscale": false,
         "type": "choropleth",
         "z": [
          1,
          1,
          1,
          1,
          1,
          1,
          1,
          1,
          1,
          1,
          1,
          1,
          1,
          1,
          1,
          1,
          1,
          1,
          1,
          1,
          1
         ]
        }
       ],
       "layout": {
        "geo": {
         "center": {},
         "domain": {
          "x": [
           0,
           1
          ],
          "y": [
           0,
           1
          ]
         },
         "fitbounds": "locations",
         "scope": "usa",
         "visible": false
        },
        "height": 800,
        "legend": {
         "title": {
          "text": "Ganador {ELECTORAL_YEAR}"
         },
         "tracegroupgap": 0
        },
        "template": {
         "data": {
          "bar": [
           {
            "error_x": {
             "color": "#2a3f5f"
            },
            "error_y": {
             "color": "#2a3f5f"
            },
            "marker": {
             "line": {
              "color": "#E5ECF6",
              "width": 0.5
             },
             "pattern": {
              "fillmode": "overlay",
              "size": 10,
              "solidity": 0.2
             }
            },
            "type": "bar"
           }
          ],
          "barpolar": [
           {
            "marker": {
             "line": {
              "color": "#E5ECF6",
              "width": 0.5
             },
             "pattern": {
              "fillmode": "overlay",
              "size": 10,
              "solidity": 0.2
             }
            },
            "type": "barpolar"
           }
          ],
          "carpet": [
           {
            "aaxis": {
             "endlinecolor": "#2a3f5f",
             "gridcolor": "white",
             "linecolor": "white",
             "minorgridcolor": "white",
             "startlinecolor": "#2a3f5f"
            },
            "baxis": {
             "endlinecolor": "#2a3f5f",
             "gridcolor": "white",
             "linecolor": "white",
             "minorgridcolor": "white",
             "startlinecolor": "#2a3f5f"
            },
            "type": "carpet"
           }
          ],
          "choropleth": [
           {
            "colorbar": {
             "outlinewidth": 0,
             "ticks": ""
            },
            "type": "choropleth"
           }
          ],
          "contour": [
           {
            "colorbar": {
             "outlinewidth": 0,
             "ticks": ""
            },
            "colorscale": [
             [
              0,
              "#0d0887"
             ],
             [
              0.1111111111111111,
              "#46039f"
             ],
             [
              0.2222222222222222,
              "#7201a8"
             ],
             [
              0.3333333333333333,
              "#9c179e"
             ],
             [
              0.4444444444444444,
              "#bd3786"
             ],
             [
              0.5555555555555556,
              "#d8576b"
             ],
             [
              0.6666666666666666,
              "#ed7953"
             ],
             [
              0.7777777777777778,
              "#fb9f3a"
             ],
             [
              0.8888888888888888,
              "#fdca26"
             ],
             [
              1,
              "#f0f921"
             ]
            ],
            "type": "contour"
           }
          ],
          "contourcarpet": [
           {
            "colorbar": {
             "outlinewidth": 0,
             "ticks": ""
            },
            "type": "contourcarpet"
           }
          ],
          "heatmap": [
           {
            "colorbar": {
             "outlinewidth": 0,
             "ticks": ""
            },
            "colorscale": [
             [
              0,
              "#0d0887"
             ],
             [
              0.1111111111111111,
              "#46039f"
             ],
             [
              0.2222222222222222,
              "#7201a8"
             ],
             [
              0.3333333333333333,
              "#9c179e"
             ],
             [
              0.4444444444444444,
              "#bd3786"
             ],
             [
              0.5555555555555556,
              "#d8576b"
             ],
             [
              0.6666666666666666,
              "#ed7953"
             ],
             [
              0.7777777777777778,
              "#fb9f3a"
             ],
             [
              0.8888888888888888,
              "#fdca26"
             ],
             [
              1,
              "#f0f921"
             ]
            ],
            "type": "heatmap"
           }
          ],
          "histogram": [
           {
            "marker": {
             "pattern": {
              "fillmode": "overlay",
              "size": 10,
              "solidity": 0.2
             }
            },
            "type": "histogram"
           }
          ],
          "histogram2d": [
           {
            "colorbar": {
             "outlinewidth": 0,
             "ticks": ""
            },
            "colorscale": [
             [
              0,
              "#0d0887"
             ],
             [
              0.1111111111111111,
              "#46039f"
             ],
             [
              0.2222222222222222,
              "#7201a8"
             ],
             [
              0.3333333333333333,
              "#9c179e"
             ],
             [
              0.4444444444444444,
              "#bd3786"
             ],
             [
              0.5555555555555556,
              "#d8576b"
             ],
             [
              0.6666666666666666,
              "#ed7953"
             ],
             [
              0.7777777777777778,
              "#fb9f3a"
             ],
             [
              0.8888888888888888,
              "#fdca26"
             ],
             [
              1,
              "#f0f921"
             ]
            ],
            "type": "histogram2d"
           }
          ],
          "histogram2dcontour": [
           {
            "colorbar": {
             "outlinewidth": 0,
             "ticks": ""
            },
            "colorscale": [
             [
              0,
              "#0d0887"
             ],
             [
              0.1111111111111111,
              "#46039f"
             ],
             [
              0.2222222222222222,
              "#7201a8"
             ],
             [
              0.3333333333333333,
              "#9c179e"
             ],
             [
              0.4444444444444444,
              "#bd3786"
             ],
             [
              0.5555555555555556,
              "#d8576b"
             ],
             [
              0.6666666666666666,
              "#ed7953"
             ],
             [
              0.7777777777777778,
              "#fb9f3a"
             ],
             [
              0.8888888888888888,
              "#fdca26"
             ],
             [
              1,
              "#f0f921"
             ]
            ],
            "type": "histogram2dcontour"
           }
          ],
          "mesh3d": [
           {
            "colorbar": {
             "outlinewidth": 0,
             "ticks": ""
            },
            "type": "mesh3d"
           }
          ],
          "parcoords": [
           {
            "line": {
             "colorbar": {
              "outlinewidth": 0,
              "ticks": ""
             }
            },
            "type": "parcoords"
           }
          ],
          "pie": [
           {
            "automargin": true,
            "type": "pie"
           }
          ],
          "scatter": [
           {
            "fillpattern": {
             "fillmode": "overlay",
             "size": 10,
             "solidity": 0.2
            },
            "type": "scatter"
           }
          ],
          "scatter3d": [
           {
            "line": {
             "colorbar": {
              "outlinewidth": 0,
              "ticks": ""
             }
            },
            "marker": {
             "colorbar": {
              "outlinewidth": 0,
              "ticks": ""
             }
            },
            "type": "scatter3d"
           }
          ],
          "scattercarpet": [
           {
            "marker": {
             "colorbar": {
              "outlinewidth": 0,
              "ticks": ""
             }
            },
            "type": "scattercarpet"
           }
          ],
          "scattergeo": [
           {
            "marker": {
             "colorbar": {
              "outlinewidth": 0,
              "ticks": ""
             }
            },
            "type": "scattergeo"
           }
          ],
          "scattergl": [
           {
            "marker": {
             "colorbar": {
              "outlinewidth": 0,
              "ticks": ""
             }
            },
            "type": "scattergl"
           }
          ],
          "scattermap": [
           {
            "marker": {
             "colorbar": {
              "outlinewidth": 0,
              "ticks": ""
             }
            },
            "type": "scattermap"
           }
          ],
          "scattermapbox": [
           {
            "marker": {
             "colorbar": {
              "outlinewidth": 0,
              "ticks": ""
             }
            },
            "type": "scattermapbox"
           }
          ],
          "scatterpolar": [
           {
            "marker": {
             "colorbar": {
              "outlinewidth": 0,
              "ticks": ""
             }
            },
            "type": "scatterpolar"
           }
          ],
          "scatterpolargl": [
           {
            "marker": {
             "colorbar": {
              "outlinewidth": 0,
              "ticks": ""
             }
            },
            "type": "scatterpolargl"
           }
          ],
          "scatterternary": [
           {
            "marker": {
             "colorbar": {
              "outlinewidth": 0,
              "ticks": ""
             }
            },
            "type": "scatterternary"
           }
          ],
          "surface": [
           {
            "colorbar": {
             "outlinewidth": 0,
             "ticks": ""
            },
            "colorscale": [
             [
              0,
              "#0d0887"
             ],
             [
              0.1111111111111111,
              "#46039f"
             ],
             [
              0.2222222222222222,
              "#7201a8"
             ],
             [
              0.3333333333333333,
              "#9c179e"
             ],
             [
              0.4444444444444444,
              "#bd3786"
             ],
             [
              0.5555555555555556,
              "#d8576b"
             ],
             [
              0.6666666666666666,
              "#ed7953"
             ],
             [
              0.7777777777777778,
              "#fb9f3a"
             ],
             [
              0.8888888888888888,
              "#fdca26"
             ],
             [
              1,
              "#f0f921"
             ]
            ],
            "type": "surface"
           }
          ],
          "table": [
           {
            "cells": {
             "fill": {
              "color": "#EBF0F8"
             },
             "line": {
              "color": "white"
             }
            },
            "header": {
             "fill": {
              "color": "#C8D4E3"
             },
             "line": {
              "color": "white"
             }
            },
            "type": "table"
           }
          ]
         },
         "layout": {
          "annotationdefaults": {
           "arrowcolor": "#2a3f5f",
           "arrowhead": 0,
           "arrowwidth": 1
          },
          "autotypenumbers": "strict",
          "coloraxis": {
           "colorbar": {
            "outlinewidth": 0,
            "ticks": ""
           }
          },
          "colorscale": {
           "diverging": [
            [
             0,
             "#8e0152"
            ],
            [
             0.1,
             "#c51b7d"
            ],
            [
             0.2,
             "#de77ae"
            ],
            [
             0.3,
             "#f1b6da"
            ],
            [
             0.4,
             "#fde0ef"
            ],
            [
             0.5,
             "#f7f7f7"
            ],
            [
             0.6,
             "#e6f5d0"
            ],
            [
             0.7,
             "#b8e186"
            ],
            [
             0.8,
             "#7fbc41"
            ],
            [
             0.9,
             "#4d9221"
            ],
            [
             1,
             "#276419"
            ]
           ],
           "sequential": [
            [
             0,
             "#0d0887"
            ],
            [
             0.1111111111111111,
             "#46039f"
            ],
            [
             0.2222222222222222,
             "#7201a8"
            ],
            [
             0.3333333333333333,
             "#9c179e"
            ],
            [
             0.4444444444444444,
             "#bd3786"
            ],
            [
             0.5555555555555556,
             "#d8576b"
            ],
            [
             0.6666666666666666,
             "#ed7953"
            ],
            [
             0.7777777777777778,
             "#fb9f3a"
            ],
            [
             0.8888888888888888,
             "#fdca26"
            ],
            [
             1,
             "#f0f921"
            ]
           ],
           "sequentialminus": [
            [
             0,
             "#0d0887"
            ],
            [
             0.1111111111111111,
             "#46039f"
            ],
            [
             0.2222222222222222,
             "#7201a8"
            ],
            [
             0.3333333333333333,
             "#9c179e"
            ],
            [
             0.4444444444444444,
             "#bd3786"
            ],
            [
             0.5555555555555556,
             "#d8576b"
            ],
            [
             0.6666666666666666,
             "#ed7953"
            ],
            [
             0.7777777777777778,
             "#fb9f3a"
            ],
            [
             0.8888888888888888,
             "#fdca26"
            ],
            [
             1,
             "#f0f921"
            ]
           ]
          },
          "colorway": [
           "#636efa",
           "#EF553B",
           "#00cc96",
           "#ab63fa",
           "#FFA15A",
           "#19d3f3",
           "#FF6692",
           "#B6E880",
           "#FF97FF",
           "#FECB52"
          ],
          "font": {
           "color": "#2a3f5f"
          },
          "geo": {
           "bgcolor": "white",
           "lakecolor": "white",
           "landcolor": "#E5ECF6",
           "showlakes": true,
           "showland": true,
           "subunitcolor": "white"
          },
          "hoverlabel": {
           "align": "left"
          },
          "hovermode": "closest",
          "mapbox": {
           "style": "light"
          },
          "paper_bgcolor": "white",
          "plot_bgcolor": "#E5ECF6",
          "polar": {
           "angularaxis": {
            "gridcolor": "white",
            "linecolor": "white",
            "ticks": ""
           },
           "bgcolor": "#E5ECF6",
           "radialaxis": {
            "gridcolor": "white",
            "linecolor": "white",
            "ticks": ""
           }
          },
          "scene": {
           "xaxis": {
            "backgroundcolor": "#E5ECF6",
            "gridcolor": "white",
            "gridwidth": 2,
            "linecolor": "white",
            "showbackground": true,
            "ticks": "",
            "zerolinecolor": "white"
           },
           "yaxis": {
            "backgroundcolor": "#E5ECF6",
            "gridcolor": "white",
            "gridwidth": 2,
            "linecolor": "white",
            "showbackground": true,
            "ticks": "",
            "zerolinecolor": "white"
           },
           "zaxis": {
            "backgroundcolor": "#E5ECF6",
            "gridcolor": "white",
            "gridwidth": 2,
            "linecolor": "white",
            "showbackground": true,
            "ticks": "",
            "zerolinecolor": "white"
           }
          },
          "shapedefaults": {
           "line": {
            "color": "#2a3f5f"
           }
          },
          "ternary": {
           "aaxis": {
            "gridcolor": "white",
            "linecolor": "white",
            "ticks": ""
           },
           "baxis": {
            "gridcolor": "white",
            "linecolor": "white",
            "ticks": ""
           },
           "bgcolor": "#E5ECF6",
           "caxis": {
            "gridcolor": "white",
            "linecolor": "white",
            "ticks": ""
           }
          },
          "title": {
           "x": 0.05
          },
          "xaxis": {
           "automargin": true,
           "gridcolor": "white",
           "linecolor": "white",
           "ticks": "",
           "title": {
            "standoff": 15
           },
           "zerolinecolor": "white",
           "zerolinewidth": 2
          },
          "yaxis": {
           "automargin": true,
           "gridcolor": "white",
           "linecolor": "white",
           "ticks": "",
           "title": {
            "standoff": 15
           },
           "zerolinecolor": "white",
           "zerolinewidth": 2
          }
         }
        },
        "title": {
         "text": "Resultado Medio de las Simulaciones - Elecciones Presidenciales 2024"
        },
        "width": 1200
       }
      }
     },
     "metadata": {},
     "output_type": "display_data"
    }
   ],
   "source": [
    "# Crear el mapa coroplético usando Plotly Express con códigos de estado\n",
    "fig = px.choropleth(accumulated_pred_state,\n",
    "                    locations='state_code',  # Usar la nueva columna con códigos de estado\n",
    "                    locationmode=\"USA-states\",  # Modo de localización para los códigos de estado\n",
    "                    color='Winner',  # Métrica que deseas visualizar\n",
    "                    hover_name='state_code',  # Mostrar el código del estado en hover\n",
    "                    hover_data={\n",
    "                        'state_code': True,  # Mostrar el código del estado\n",
    "                        \"Per_dem\": ':.2%',  # Mostrar el porcentaje de Biden en formato de porcentaje\n",
    "                        \"Per_gop\": ':.2%'  # Mostrar el porcentaje de Trump en formato de porcentaje\n",
    "                    },\n",
    "                    scope='usa',  # Limitar el mapa a EE.UU.\n",
    "                    color_discrete_map={'dem': '#3951a2', 'gop': '#af2b39'},  # Colores asignados\n",
    "                    labels={f'Winner': 'Ganador {ELECTORAL_YEAR}'},  # Etiqueta para la barra de color\n",
    "                    title=f\"Resultado Medio de las Simulaciones - Elecciones Presidenciales {ELECTORAL_YEAR}\"\n",
    "                   )\n",
    "\n",
    "# # Crear un nuevo rastro para añadir los códigos de los estados en el mapa\n",
    "# fig.add_trace(go.Scattergeo(\n",
    "#     locationmode='USA-states',\n",
    "#     locations=accumulated_pred_state['state_code'],  # Usar los códigos de los estados\n",
    "#     text=accumulated_pred_state['state_code'],  # Mostrar los códigos dentro del mapa\n",
    "#     mode='text',  # Solo texto\n",
    "#     textfont=dict(size=12, color=\"black\"),  # Tamaño y color de la fuente\n",
    "# ))\n",
    "\n",
    "# Ajustar el tamaño del gráfico\n",
    "fig.update_layout(\n",
    "    width=1200,  # Ajustar el ancho del gráfico\n",
    "    height=800   # Ajustar la altura del gráfico\n",
    ")\n",
    "\n",
    "# Ajustar visualización y mostrar el gráfico\n",
    "fig.update_geos(fitbounds=\"locations\", visible=False)  # Ajustar el mapa a las ubicaciones\n",
    "fig.show()\n"
   ]
  },
  {
   "cell_type": "code",
   "execution_count": null,
   "metadata": {},
   "outputs": [
    {
     "data": {
      "application/vnd.plotly.v1+json": {
       "config": {
        "plotlyServerURL": "https://plot.ly"
       },
       "data": [
        {
         "colorscale": [
          [
           0,
           "#af2b39"
          ],
          [
           1,
           "#af2b39"
          ]
         ],
         "customdata": [
          [
           "AL",
           0.40328246260695183,
           0.548950684403147
          ],
          [
           "AR",
           0.3874525775315232,
           0.5633800195834895
          ],
          [
           "ID",
           0.3595258182768271,
           0.5521477984644373
          ],
          [
           "IN",
           0.3958372415336956,
           0.5367452842015862
          ],
          [
           "IA",
           0.37229387039090606,
           0.551067256710465
          ],
          [
           "KS",
           0.37817787305046013,
           0.5538799899483149
          ],
          [
           "KY",
           0.37941629319326176,
           0.5615172628959255
          ],
          [
           "ME",
           0.3988657675744697,
           0.5349477585750503
          ],
          [
           "MS",
           0.4298230850404822,
           0.538381104155421
          ],
          [
           "MO",
           0.40268265539951165,
           0.5400130364204508
          ],
          [
           "MT",
           0.3786714609433882,
           0.5416204724849273
          ],
          [
           "NE",
           0.38583285381196253,
           0.5437929527975787
          ],
          [
           "NH",
           0.4179958743067408,
           0.5243020464490697
          ],
          [
           "ND",
           0.3711345925523627,
           0.5470246861804039
          ],
          [
           "OK",
           0.375770257898125,
           0.5673335100953598
          ],
          [
           "SD",
           0.3550938770330338,
           0.5638477789729655
          ],
          [
           "TN",
           0.4202065790442668,
           0.5323077539159703
          ],
          [
           "WV",
           0.3340435718386736,
           0.601978725595306
          ],
          [
           "WY",
           0.3356689507490143,
           0.5771730647048077
          ]
         ],
         "geo": "geo",
         "hovertemplate": "<b>%{hovertext}</b><br><br>Status=Safe Republican<br>state_code=%{customdata[0]}<br>Per_dem=%{customdata[1]:.2%}<br>Per_gop=%{customdata[2]:.2%}<extra></extra>",
         "hovertext": [
          "AL",
          "AR",
          "ID",
          "IN",
          "IA",
          "KS",
          "KY",
          "ME",
          "MS",
          "MO",
          "MT",
          "NE",
          "NH",
          "ND",
          "OK",
          "SD",
          "TN",
          "WV",
          "WY"
         ],
         "locationmode": "USA-states",
         "locations": [
          "AL",
          "AR",
          "ID",
          "IN",
          "IA",
          "KS",
          "KY",
          "ME",
          "MS",
          "MO",
          "MT",
          "NE",
          "NH",
          "ND",
          "OK",
          "SD",
          "TN",
          "WV",
          "WY"
         ],
         "name": "Safe Republican",
         "showlegend": true,
         "showscale": false,
         "type": "choropleth",
         "z": [
          1,
          1,
          1,
          1,
          1,
          1,
          1,
          1,
          1,
          1,
          1,
          1,
          1,
          1,
          1,
          1,
          1,
          1,
          1
         ]
        },
        {
         "colorscale": [
          [
           0,
           "#a3cef1"
          ],
          [
           1,
           "#a3cef1"
          ]
         ],
         "customdata": [
          [
           "AZ",
           0.5021610253412163,
           0.4243308563832675
          ],
          [
           "CO",
           0.49538439579387084,
           0.41816264249197616
          ],
          [
           "DE",
           0.48416617024558417,
           0.45717895402664355
          ],
          [
           "FL",
           0.49112628212239984,
           0.4620868021682525
          ],
          [
           "GA",
           0.4916132376850956,
           0.45896051161833057
          ],
          [
           "OR",
           0.5084606252602457,
           0.40972241581095703
          ],
          [
           "TX",
           0.4932519175946271,
           0.443372952519235
          ],
          [
           "VA",
           0.497065080080354,
           0.44399508449106817
          ]
         ],
         "geo": "geo",
         "hovertemplate": "<b>%{hovertext}</b><br><br>Status=Likely Democrat<br>state_code=%{customdata[0]}<br>Per_dem=%{customdata[1]:.2%}<br>Per_gop=%{customdata[2]:.2%}<extra></extra>",
         "hovertext": [
          "AZ",
          "CO",
          "DE",
          "FL",
          "GA",
          "OR",
          "TX",
          "VA"
         ],
         "locationmode": "USA-states",
         "locations": [
          "AZ",
          "CO",
          "DE",
          "FL",
          "GA",
          "OR",
          "TX",
          "VA"
         ],
         "name": "Likely Democrat",
         "showlegend": true,
         "showscale": false,
         "type": "choropleth",
         "z": [
          1,
          1,
          1,
          1,
          1,
          1,
          1,
          1
         ]
        },
        {
         "colorscale": [
          [
           0,
           "#3951a2"
          ],
          [
           1,
           "#3951a2"
          ]
         ],
         "customdata": [
          [
           "CA",
           0.6092479417660749,
           0.314831593425761
          ],
          [
           "CT",
           0.5301793989799407,
           0.3983823628426792
          ],
          [
           "DC",
           0.792097210961561,
           0.17054543565542044
          ],
          [
           "HI",
           0.6185727069259055,
           0.3222156103721553
          ],
          [
           "IL",
           0.5203267734837208,
           0.4105789235532476
          ],
          [
           "MD",
           0.570387083125769,
           0.3854010772372065
          ],
          [
           "MA",
           0.5785898295671039,
           0.3442278347447965
          ],
          [
           "NV",
           0.5633491703358623,
           0.36092679550461165
          ],
          [
           "NJ",
           0.5803437294618684,
           0.36384938844762643
          ],
          [
           "NY",
           0.5853378402955635,
           0.3523559269402587
          ],
          [
           "RI",
           0.5235580721861679,
           0.3928792238911272
          ],
          [
           "WA",
           0.5464260723528863,
           0.371783416527962
          ]
         ],
         "geo": "geo",
         "hovertemplate": "<b>%{hovertext}</b><br><br>Status=Safe Democrat<br>state_code=%{customdata[0]}<br>Per_dem=%{customdata[1]:.2%}<br>Per_gop=%{customdata[2]:.2%}<extra></extra>",
         "hovertext": [
          "CA",
          "CT",
          "DC",
          "HI",
          "IL",
          "MD",
          "MA",
          "NV",
          "NJ",
          "NY",
          "RI",
          "WA"
         ],
         "locationmode": "USA-states",
         "locations": [
          "CA",
          "CT",
          "DC",
          "HI",
          "IL",
          "MD",
          "MA",
          "NV",
          "NJ",
          "NY",
          "RI",
          "WA"
         ],
         "name": "Safe Democrat",
         "showlegend": true,
         "showscale": false,
         "type": "choropleth",
         "z": [
          1,
          1,
          1,
          1,
          1,
          1,
          1,
          1,
          1,
          1,
          1,
          1
         ]
        },
        {
         "colorscale": [
          [
           0,
           "#d56062"
          ],
          [
           1,
           "#d56062"
          ]
         ],
         "customdata": [
          [
           "LA",
           0.45815731652781166,
           0.4993172801081447
          ],
          [
           "MI",
           0.4364188168269105,
           0.5039698991182161
          ],
          [
           "OH",
           0.43679938473111485,
           0.5080736789095368
          ],
          [
           "SC",
           0.4297249202377149,
           0.520613419286487
          ],
          [
           "UT",
           0.41978070302100307,
           0.4496603974563993
          ],
          [
           "VT",
           0.4301906386354667,
           0.4928864281519615
          ],
          [
           "WI",
           0.4347826426176393,
           0.4996458578666902
          ]
         ],
         "geo": "geo",
         "hovertemplate": "<b>%{hovertext}</b><br><br>Status=Likely Republican<br>state_code=%{customdata[0]}<br>Per_dem=%{customdata[1]:.2%}<br>Per_gop=%{customdata[2]:.2%}<extra></extra>",
         "hovertext": [
          "LA",
          "MI",
          "OH",
          "SC",
          "UT",
          "VT",
          "WI"
         ],
         "locationmode": "USA-states",
         "locations": [
          "LA",
          "MI",
          "OH",
          "SC",
          "UT",
          "VT",
          "WI"
         ],
         "name": "Likely Republican",
         "showlegend": true,
         "showscale": false,
         "type": "choropleth",
         "z": [
          1,
          1,
          1,
          1,
          1,
          1,
          1
         ]
        },
        {
         "colorscale": [
          [
           0,
           "#b6b164"
          ],
          [
           1,
           "#b6b164"
          ]
         ],
         "customdata": [
          [
           "MN",
           0.45524419832585283,
           0.4576421124000041
          ],
          [
           "NM",
           0.4567951286111736,
           0.47967647855685414
          ],
          [
           "NC",
           0.4654099235414556,
           0.479486946719433
          ],
          [
           "PA",
           0.4750517525182017,
           0.4598053210048225
          ]
         ],
         "geo": "geo",
         "hovertemplate": "<b>%{hovertext}</b><br><br>Status=Toss-Up<br>state_code=%{customdata[0]}<br>Per_dem=%{customdata[1]:.2%}<br>Per_gop=%{customdata[2]:.2%}<extra></extra>",
         "hovertext": [
          "MN",
          "NM",
          "NC",
          "PA"
         ],
         "locationmode": "USA-states",
         "locations": [
          "MN",
          "NM",
          "NC",
          "PA"
         ],
         "name": "Toss-Up",
         "showlegend": true,
         "showscale": false,
         "type": "choropleth",
         "z": [
          1,
          1,
          1,
          1
         ]
        }
       ],
       "layout": {
        "geo": {
         "center": {},
         "domain": {
          "x": [
           0,
           1
          ],
          "y": [
           0,
           1
          ]
         },
         "fitbounds": "locations",
         "scope": "usa",
         "visible": false
        },
        "height": 800,
        "legend": {
         "title": {
          "text": "Status"
         },
         "tracegroupgap": 0
        },
        "template": {
         "data": {
          "bar": [
           {
            "error_x": {
             "color": "#2a3f5f"
            },
            "error_y": {
             "color": "#2a3f5f"
            },
            "marker": {
             "line": {
              "color": "#E5ECF6",
              "width": 0.5
             },
             "pattern": {
              "fillmode": "overlay",
              "size": 10,
              "solidity": 0.2
             }
            },
            "type": "bar"
           }
          ],
          "barpolar": [
           {
            "marker": {
             "line": {
              "color": "#E5ECF6",
              "width": 0.5
             },
             "pattern": {
              "fillmode": "overlay",
              "size": 10,
              "solidity": 0.2
             }
            },
            "type": "barpolar"
           }
          ],
          "carpet": [
           {
            "aaxis": {
             "endlinecolor": "#2a3f5f",
             "gridcolor": "white",
             "linecolor": "white",
             "minorgridcolor": "white",
             "startlinecolor": "#2a3f5f"
            },
            "baxis": {
             "endlinecolor": "#2a3f5f",
             "gridcolor": "white",
             "linecolor": "white",
             "minorgridcolor": "white",
             "startlinecolor": "#2a3f5f"
            },
            "type": "carpet"
           }
          ],
          "choropleth": [
           {
            "colorbar": {
             "outlinewidth": 0,
             "ticks": ""
            },
            "type": "choropleth"
           }
          ],
          "contour": [
           {
            "colorbar": {
             "outlinewidth": 0,
             "ticks": ""
            },
            "colorscale": [
             [
              0,
              "#0d0887"
             ],
             [
              0.1111111111111111,
              "#46039f"
             ],
             [
              0.2222222222222222,
              "#7201a8"
             ],
             [
              0.3333333333333333,
              "#9c179e"
             ],
             [
              0.4444444444444444,
              "#bd3786"
             ],
             [
              0.5555555555555556,
              "#d8576b"
             ],
             [
              0.6666666666666666,
              "#ed7953"
             ],
             [
              0.7777777777777778,
              "#fb9f3a"
             ],
             [
              0.8888888888888888,
              "#fdca26"
             ],
             [
              1,
              "#f0f921"
             ]
            ],
            "type": "contour"
           }
          ],
          "contourcarpet": [
           {
            "colorbar": {
             "outlinewidth": 0,
             "ticks": ""
            },
            "type": "contourcarpet"
           }
          ],
          "heatmap": [
           {
            "colorbar": {
             "outlinewidth": 0,
             "ticks": ""
            },
            "colorscale": [
             [
              0,
              "#0d0887"
             ],
             [
              0.1111111111111111,
              "#46039f"
             ],
             [
              0.2222222222222222,
              "#7201a8"
             ],
             [
              0.3333333333333333,
              "#9c179e"
             ],
             [
              0.4444444444444444,
              "#bd3786"
             ],
             [
              0.5555555555555556,
              "#d8576b"
             ],
             [
              0.6666666666666666,
              "#ed7953"
             ],
             [
              0.7777777777777778,
              "#fb9f3a"
             ],
             [
              0.8888888888888888,
              "#fdca26"
             ],
             [
              1,
              "#f0f921"
             ]
            ],
            "type": "heatmap"
           }
          ],
          "histogram": [
           {
            "marker": {
             "pattern": {
              "fillmode": "overlay",
              "size": 10,
              "solidity": 0.2
             }
            },
            "type": "histogram"
           }
          ],
          "histogram2d": [
           {
            "colorbar": {
             "outlinewidth": 0,
             "ticks": ""
            },
            "colorscale": [
             [
              0,
              "#0d0887"
             ],
             [
              0.1111111111111111,
              "#46039f"
             ],
             [
              0.2222222222222222,
              "#7201a8"
             ],
             [
              0.3333333333333333,
              "#9c179e"
             ],
             [
              0.4444444444444444,
              "#bd3786"
             ],
             [
              0.5555555555555556,
              "#d8576b"
             ],
             [
              0.6666666666666666,
              "#ed7953"
             ],
             [
              0.7777777777777778,
              "#fb9f3a"
             ],
             [
              0.8888888888888888,
              "#fdca26"
             ],
             [
              1,
              "#f0f921"
             ]
            ],
            "type": "histogram2d"
           }
          ],
          "histogram2dcontour": [
           {
            "colorbar": {
             "outlinewidth": 0,
             "ticks": ""
            },
            "colorscale": [
             [
              0,
              "#0d0887"
             ],
             [
              0.1111111111111111,
              "#46039f"
             ],
             [
              0.2222222222222222,
              "#7201a8"
             ],
             [
              0.3333333333333333,
              "#9c179e"
             ],
             [
              0.4444444444444444,
              "#bd3786"
             ],
             [
              0.5555555555555556,
              "#d8576b"
             ],
             [
              0.6666666666666666,
              "#ed7953"
             ],
             [
              0.7777777777777778,
              "#fb9f3a"
             ],
             [
              0.8888888888888888,
              "#fdca26"
             ],
             [
              1,
              "#f0f921"
             ]
            ],
            "type": "histogram2dcontour"
           }
          ],
          "mesh3d": [
           {
            "colorbar": {
             "outlinewidth": 0,
             "ticks": ""
            },
            "type": "mesh3d"
           }
          ],
          "parcoords": [
           {
            "line": {
             "colorbar": {
              "outlinewidth": 0,
              "ticks": ""
             }
            },
            "type": "parcoords"
           }
          ],
          "pie": [
           {
            "automargin": true,
            "type": "pie"
           }
          ],
          "scatter": [
           {
            "fillpattern": {
             "fillmode": "overlay",
             "size": 10,
             "solidity": 0.2
            },
            "type": "scatter"
           }
          ],
          "scatter3d": [
           {
            "line": {
             "colorbar": {
              "outlinewidth": 0,
              "ticks": ""
             }
            },
            "marker": {
             "colorbar": {
              "outlinewidth": 0,
              "ticks": ""
             }
            },
            "type": "scatter3d"
           }
          ],
          "scattercarpet": [
           {
            "marker": {
             "colorbar": {
              "outlinewidth": 0,
              "ticks": ""
             }
            },
            "type": "scattercarpet"
           }
          ],
          "scattergeo": [
           {
            "marker": {
             "colorbar": {
              "outlinewidth": 0,
              "ticks": ""
             }
            },
            "type": "scattergeo"
           }
          ],
          "scattergl": [
           {
            "marker": {
             "colorbar": {
              "outlinewidth": 0,
              "ticks": ""
             }
            },
            "type": "scattergl"
           }
          ],
          "scattermap": [
           {
            "marker": {
             "colorbar": {
              "outlinewidth": 0,
              "ticks": ""
             }
            },
            "type": "scattermap"
           }
          ],
          "scattermapbox": [
           {
            "marker": {
             "colorbar": {
              "outlinewidth": 0,
              "ticks": ""
             }
            },
            "type": "scattermapbox"
           }
          ],
          "scatterpolar": [
           {
            "marker": {
             "colorbar": {
              "outlinewidth": 0,
              "ticks": ""
             }
            },
            "type": "scatterpolar"
           }
          ],
          "scatterpolargl": [
           {
            "marker": {
             "colorbar": {
              "outlinewidth": 0,
              "ticks": ""
             }
            },
            "type": "scatterpolargl"
           }
          ],
          "scatterternary": [
           {
            "marker": {
             "colorbar": {
              "outlinewidth": 0,
              "ticks": ""
             }
            },
            "type": "scatterternary"
           }
          ],
          "surface": [
           {
            "colorbar": {
             "outlinewidth": 0,
             "ticks": ""
            },
            "colorscale": [
             [
              0,
              "#0d0887"
             ],
             [
              0.1111111111111111,
              "#46039f"
             ],
             [
              0.2222222222222222,
              "#7201a8"
             ],
             [
              0.3333333333333333,
              "#9c179e"
             ],
             [
              0.4444444444444444,
              "#bd3786"
             ],
             [
              0.5555555555555556,
              "#d8576b"
             ],
             [
              0.6666666666666666,
              "#ed7953"
             ],
             [
              0.7777777777777778,
              "#fb9f3a"
             ],
             [
              0.8888888888888888,
              "#fdca26"
             ],
             [
              1,
              "#f0f921"
             ]
            ],
            "type": "surface"
           }
          ],
          "table": [
           {
            "cells": {
             "fill": {
              "color": "#EBF0F8"
             },
             "line": {
              "color": "white"
             }
            },
            "header": {
             "fill": {
              "color": "#C8D4E3"
             },
             "line": {
              "color": "white"
             }
            },
            "type": "table"
           }
          ]
         },
         "layout": {
          "annotationdefaults": {
           "arrowcolor": "#2a3f5f",
           "arrowhead": 0,
           "arrowwidth": 1
          },
          "autotypenumbers": "strict",
          "coloraxis": {
           "colorbar": {
            "outlinewidth": 0,
            "ticks": ""
           }
          },
          "colorscale": {
           "diverging": [
            [
             0,
             "#8e0152"
            ],
            [
             0.1,
             "#c51b7d"
            ],
            [
             0.2,
             "#de77ae"
            ],
            [
             0.3,
             "#f1b6da"
            ],
            [
             0.4,
             "#fde0ef"
            ],
            [
             0.5,
             "#f7f7f7"
            ],
            [
             0.6,
             "#e6f5d0"
            ],
            [
             0.7,
             "#b8e186"
            ],
            [
             0.8,
             "#7fbc41"
            ],
            [
             0.9,
             "#4d9221"
            ],
            [
             1,
             "#276419"
            ]
           ],
           "sequential": [
            [
             0,
             "#0d0887"
            ],
            [
             0.1111111111111111,
             "#46039f"
            ],
            [
             0.2222222222222222,
             "#7201a8"
            ],
            [
             0.3333333333333333,
             "#9c179e"
            ],
            [
             0.4444444444444444,
             "#bd3786"
            ],
            [
             0.5555555555555556,
             "#d8576b"
            ],
            [
             0.6666666666666666,
             "#ed7953"
            ],
            [
             0.7777777777777778,
             "#fb9f3a"
            ],
            [
             0.8888888888888888,
             "#fdca26"
            ],
            [
             1,
             "#f0f921"
            ]
           ],
           "sequentialminus": [
            [
             0,
             "#0d0887"
            ],
            [
             0.1111111111111111,
             "#46039f"
            ],
            [
             0.2222222222222222,
             "#7201a8"
            ],
            [
             0.3333333333333333,
             "#9c179e"
            ],
            [
             0.4444444444444444,
             "#bd3786"
            ],
            [
             0.5555555555555556,
             "#d8576b"
            ],
            [
             0.6666666666666666,
             "#ed7953"
            ],
            [
             0.7777777777777778,
             "#fb9f3a"
            ],
            [
             0.8888888888888888,
             "#fdca26"
            ],
            [
             1,
             "#f0f921"
            ]
           ]
          },
          "colorway": [
           "#636efa",
           "#EF553B",
           "#00cc96",
           "#ab63fa",
           "#FFA15A",
           "#19d3f3",
           "#FF6692",
           "#B6E880",
           "#FF97FF",
           "#FECB52"
          ],
          "font": {
           "color": "#2a3f5f"
          },
          "geo": {
           "bgcolor": "white",
           "lakecolor": "white",
           "landcolor": "#E5ECF6",
           "showlakes": true,
           "showland": true,
           "subunitcolor": "white"
          },
          "hoverlabel": {
           "align": "left"
          },
          "hovermode": "closest",
          "mapbox": {
           "style": "light"
          },
          "paper_bgcolor": "white",
          "plot_bgcolor": "#E5ECF6",
          "polar": {
           "angularaxis": {
            "gridcolor": "white",
            "linecolor": "white",
            "ticks": ""
           },
           "bgcolor": "#E5ECF6",
           "radialaxis": {
            "gridcolor": "white",
            "linecolor": "white",
            "ticks": ""
           }
          },
          "scene": {
           "xaxis": {
            "backgroundcolor": "#E5ECF6",
            "gridcolor": "white",
            "gridwidth": 2,
            "linecolor": "white",
            "showbackground": true,
            "ticks": "",
            "zerolinecolor": "white"
           },
           "yaxis": {
            "backgroundcolor": "#E5ECF6",
            "gridcolor": "white",
            "gridwidth": 2,
            "linecolor": "white",
            "showbackground": true,
            "ticks": "",
            "zerolinecolor": "white"
           },
           "zaxis": {
            "backgroundcolor": "#E5ECF6",
            "gridcolor": "white",
            "gridwidth": 2,
            "linecolor": "white",
            "showbackground": true,
            "ticks": "",
            "zerolinecolor": "white"
           }
          },
          "shapedefaults": {
           "line": {
            "color": "#2a3f5f"
           }
          },
          "ternary": {
           "aaxis": {
            "gridcolor": "white",
            "linecolor": "white",
            "ticks": ""
           },
           "baxis": {
            "gridcolor": "white",
            "linecolor": "white",
            "ticks": ""
           },
           "bgcolor": "#E5ECF6",
           "caxis": {
            "gridcolor": "white",
            "linecolor": "white",
            "ticks": ""
           }
          },
          "title": {
           "x": 0.05
          },
          "xaxis": {
           "automargin": true,
           "gridcolor": "white",
           "linecolor": "white",
           "ticks": "",
           "title": {
            "standoff": 15
           },
           "zerolinecolor": "white",
           "zerolinewidth": 2
          },
          "yaxis": {
           "automargin": true,
           "gridcolor": "white",
           "linecolor": "white",
           "ticks": "",
           "title": {
            "standoff": 15
           },
           "zerolinecolor": "white",
           "zerolinewidth": 2
          }
         }
        },
        "title": {
         "text": "Status de los Estados en las Simulaciones - Elecciones Presidenciales 2024"
        },
        "width": 1200
       }
      }
     },
     "metadata": {},
     "output_type": "display_data"
    }
   ],
   "source": [
    "# Crear el mapa coroplético usando Plotly Express con códigos de estado\n",
    "fig = px.choropleth(accumulated_pred_state,\n",
    "                    locations='state_code',  # Usar la nueva columna con códigos de estado\n",
    "                    locationmode=\"USA-states\",  # Modo de localización para los códigos de estado\n",
    "                    color='Status',  # Métrica que deseas visualizar\n",
    "                    hover_name='state_code',  # Mostrar el código del estado en hover\n",
    "                    hover_data={\n",
    "                        'state_code': True,  # Mostrar el código del estado\n",
    "                        \"Per_dem\": ':.2%',  # Mostrar el porcentaje de Biden en formato de porcentaje\n",
    "                        \"Per_gop\": ':.2%'  # Mostrar el porcentaje de Trump en formato de porcentaje\n",
    "                    },\n",
    "                    scope='usa',  # Limitar el mapa a EE.UU.\n",
    "                    color_discrete_map={'Safe Democrat': '#3951a2', \n",
    "                                        'Likely Democrat': '#a3cef1', \n",
    "                                        'Toss-Up': '#b6b164', \n",
    "                                        'Likely Republican': '#d56062', \n",
    "                                        'Safe Republican': '#af2b39'},\n",
    "                    labels={f'Winner': 'Ganador {ELECTORAL_YEAR}'},  # Etiqueta para la barra de color\n",
    "                    title=f\"Status de los Estados en las Simulaciones - Elecciones Presidenciales {ELECTORAL_YEAR}\"\n",
    "                   )\n",
    "\n",
    "# # Crear un nuevo rastro para añadir los códigos de los estados en el mapa\n",
    "# fig.add_trace(go.Scattergeo(\n",
    "#     locationmode='USA-states',\n",
    "#     locations=accumulated_pred_state['state_code'],  # Usar los códigos de los estados\n",
    "#     text=accumulated_pred_state['state_code'],  # Mostrar los códigos dentro del mapa\n",
    "#     mode='text',  # Solo texto\n",
    "#     textfont=dict(size=12, color=\"black\"),  # Tamaño y color de la fuente\n",
    "# ))\n",
    "\n",
    "# Ajustar el tamaño del gráfico\n",
    "fig.update_layout(\n",
    "    width=1200,  # Ajustar el ancho del gráfico\n",
    "    height=800   # Ajustar la altura del gráfico\n",
    ")\n",
    "\n",
    "# Ajustar visualización y mostrar el gráfico\n",
    "fig.update_geos(fitbounds=\"locations\", visible=False)  # Ajustar el mapa a las ubicaciones\n",
    "fig.show()\n"
   ]
  },
  {
   "cell_type": "markdown",
   "metadata": {},
   "source": [
    "### Real"
   ]
  },
  {
   "cell_type": "code",
   "execution_count": 305,
   "metadata": {},
   "outputs": [
    {
     "data": {
      "application/vnd.plotly.v1+json": {
       "config": {
        "plotlyServerURL": "https://plot.ly"
       },
       "data": [
        {
         "colorscale": [
          [
           0,
           "#af2b39"
          ],
          [
           1,
           "#af2b39"
          ]
         ],
         "customdata": [
          [
           "AL",
           0.34232779282665116,
           0.64822155408376
          ],
          [
           "AZ",
           0.46701417010319773,
           0.5223002024890546
          ],
          [
           "AR",
           0.3355990989924544,
           0.6419687217800987
          ],
          [
           "FL",
           0.42989101713151834,
           0.5608939861369304
          ],
          [
           "GA",
           0.4853322265495909,
           0.5072558398048627
          ],
          [
           "ID",
           0.3038995946119194,
           0.6689190682705357
          ],
          [
           "IN",
           0.396633261751372,
           0.5864086307393394
          ],
          [
           "IA",
           0.4268813875012147,
           0.5595072333085273
          ],
          [
           "KS",
           0.4104072715166041,
           0.5715630792917397
          ],
          [
           "KY",
           0.33957456413877524,
           0.64510114025454
          ],
          [
           "LA",
           0.3821024178178602,
           0.6021524931800346
          ],
          [
           "MI",
           0.48327259459772565,
           0.4974188097703772
          ],
          [
           "MS",
           0.3800203256004847,
           0.6089080852893467
          ],
          [
           "MO",
           0.4010557870868347,
           0.5852446355486846
          ],
          [
           "MT",
           0.38461066433595426,
           0.583914767572803
          ],
          [
           "NE",
           0.3906366301750815,
           0.5963264879497528
          ],
          [
           "NV",
           0.47530073932101247,
           0.5055437265693278
          ],
          [
           "NC",
           0.47808869107534324,
           0.5103174545882869
          ],
          [
           "ND",
           0.30769546840373746,
           0.6752470148660902
          ],
          [
           "OH",
           0.43949549498292895,
           0.5516230047543659
          ],
          [
           "OK",
           0.3189934956099997,
           0.6616210342024795
          ],
          [
           "PA",
           0.4866280572391539,
           0.5037253671558666
          ],
          [
           "SC",
           0.40360890688894646,
           0.5822862951015251
          ],
          [
           "SD",
           0.3388249659512516,
           0.6379443948715541
          ],
          [
           "TN",
           0.3447405336001791,
           0.6419393709149847
          ],
          [
           "TX",
           0.42489127712579694,
           0.5618172471517638
          ],
          [
           "UT",
           0.3780809986350357,
           0.5939832696103567
          ],
          [
           "WV",
           0.28110153595928594,
           0.6998465352378703
          ],
          [
           "WI",
           0.4884699724438856,
           0.4970776346892566
          ],
          [
           "WY",
           0.26103329040784223,
           0.7232244427507856
          ]
         ],
         "geo": "geo",
         "hovertemplate": "<b>%{hovertext}</b><br><br>Ganador {ELECTORAL_YEAR}=gop<br>state_code=%{customdata[0]}<br>Per_dem=%{customdata[1]:.2%}<br>Per_gop=%{customdata[2]:.2%}<extra></extra>",
         "hovertext": [
          "AL",
          "AZ",
          "AR",
          "FL",
          "GA",
          "ID",
          "IN",
          "IA",
          "KS",
          "KY",
          "LA",
          "MI",
          "MS",
          "MO",
          "MT",
          "NE",
          "NV",
          "NC",
          "ND",
          "OH",
          "OK",
          "PA",
          "SC",
          "SD",
          "TN",
          "TX",
          "UT",
          "WV",
          "WI",
          "WY"
         ],
         "locationmode": "USA-states",
         "locations": [
          "AL",
          "AZ",
          "AR",
          "FL",
          "GA",
          "ID",
          "IN",
          "IA",
          "KS",
          "KY",
          "LA",
          "MI",
          "MS",
          "MO",
          "MT",
          "NE",
          "NV",
          "NC",
          "ND",
          "OH",
          "OK",
          "PA",
          "SC",
          "SD",
          "TN",
          "TX",
          "UT",
          "WV",
          "WI",
          "WY"
         ],
         "name": "gop",
         "showlegend": true,
         "showscale": false,
         "type": "choropleth",
         "z": [
          1,
          1,
          1,
          1,
          1,
          1,
          1,
          1,
          1,
          1,
          1,
          1,
          1,
          1,
          1,
          1,
          1,
          1,
          1,
          1,
          1,
          1,
          1,
          1,
          1,
          1,
          1,
          1,
          1,
          1
         ]
        },
        {
         "colorscale": [
          [
           0,
           "#3951a2"
          ],
          [
           1,
           "#3951a2"
          ]
         ],
         "customdata": [
          [
           "CA",
           0.584785371015076,
           0.38340004397783556
          ],
          [
           "CO",
           0.54159441632431,
           0.4316815492186621
          ],
          [
           "CT",
           0.559163357190981,
           0.4238353967129821
          ],
          [
           "DC",
           0.9114993945085634,
           0.05081185280379606
          ],
          [
           "DE",
           0.5662687098028716,
           0.4189022018890085
          ],
          [
           "HI",
           0.6058513531036325,
           0.3748028356825321
          ],
          [
           "IL",
           0.5476862395321624,
           0.43793237497961507
          ],
          [
           "ME",
           0.52401383250639,
           0.45464080589385053
          ],
          [
           "MD",
           0.6309011324258452,
           0.34339197188002585
          ],
          [
           "MA",
           0.6157763989903392,
           0.36233699934297336
          ],
          [
           "MN",
           0.5112687277300615,
           0.4687045267449079
          ],
          [
           "NH",
           0.5090244759795318,
           0.4811488859129627
          ],
          [
           "NJ",
           0.5197416168838388,
           0.4606463088544196
          ],
          [
           "NM",
           0.5185189998299767,
           0.4585116141056505
          ],
          [
           "NY",
           0.5634474305856947,
           0.4365525694143053
          ],
          [
           "OR",
           0.5564479305958709,
           0.4125318446524539
          ],
          [
           "RI",
           0.5584078612146266,
           0.4198613947859531
          ],
          [
           "VT",
           0.6435537093089585,
           0.3258694993572405
          ],
          [
           "VA",
           0.520993955261439,
           0.4629224356709178
          ],
          [
           "WA",
           0.5760307886843121,
           0.3926616540581994
          ]
         ],
         "geo": "geo",
         "hovertemplate": "<b>%{hovertext}</b><br><br>Ganador {ELECTORAL_YEAR}=dem<br>state_code=%{customdata[0]}<br>Per_dem=%{customdata[1]:.2%}<br>Per_gop=%{customdata[2]:.2%}<extra></extra>",
         "hovertext": [
          "CA",
          "CO",
          "CT",
          "DC",
          "DE",
          "HI",
          "IL",
          "ME",
          "MD",
          "MA",
          "MN",
          "NH",
          "NJ",
          "NM",
          "NY",
          "OR",
          "RI",
          "VT",
          "VA",
          "WA"
         ],
         "locationmode": "USA-states",
         "locations": [
          "CA",
          "CO",
          "CT",
          "DC",
          "DE",
          "HI",
          "IL",
          "ME",
          "MD",
          "MA",
          "MN",
          "NH",
          "NJ",
          "NM",
          "NY",
          "OR",
          "RI",
          "VT",
          "VA",
          "WA"
         ],
         "name": "dem",
         "showlegend": true,
         "showscale": false,
         "type": "choropleth",
         "z": [
          1,
          1,
          1,
          1,
          1,
          1,
          1,
          1,
          1,
          1,
          1,
          1,
          1,
          1,
          1,
          1,
          1,
          1,
          1,
          1
         ]
        }
       ],
       "layout": {
        "geo": {
         "center": {},
         "domain": {
          "x": [
           0,
           1
          ],
          "y": [
           0,
           1
          ]
         },
         "fitbounds": "locations",
         "scope": "usa",
         "visible": false
        },
        "height": 800,
        "legend": {
         "title": {
          "text": "Ganador {ELECTORAL_YEAR}"
         },
         "tracegroupgap": 0
        },
        "template": {
         "data": {
          "bar": [
           {
            "error_x": {
             "color": "#2a3f5f"
            },
            "error_y": {
             "color": "#2a3f5f"
            },
            "marker": {
             "line": {
              "color": "#E5ECF6",
              "width": 0.5
             },
             "pattern": {
              "fillmode": "overlay",
              "size": 10,
              "solidity": 0.2
             }
            },
            "type": "bar"
           }
          ],
          "barpolar": [
           {
            "marker": {
             "line": {
              "color": "#E5ECF6",
              "width": 0.5
             },
             "pattern": {
              "fillmode": "overlay",
              "size": 10,
              "solidity": 0.2
             }
            },
            "type": "barpolar"
           }
          ],
          "carpet": [
           {
            "aaxis": {
             "endlinecolor": "#2a3f5f",
             "gridcolor": "white",
             "linecolor": "white",
             "minorgridcolor": "white",
             "startlinecolor": "#2a3f5f"
            },
            "baxis": {
             "endlinecolor": "#2a3f5f",
             "gridcolor": "white",
             "linecolor": "white",
             "minorgridcolor": "white",
             "startlinecolor": "#2a3f5f"
            },
            "type": "carpet"
           }
          ],
          "choropleth": [
           {
            "colorbar": {
             "outlinewidth": 0,
             "ticks": ""
            },
            "type": "choropleth"
           }
          ],
          "contour": [
           {
            "colorbar": {
             "outlinewidth": 0,
             "ticks": ""
            },
            "colorscale": [
             [
              0,
              "#0d0887"
             ],
             [
              0.1111111111111111,
              "#46039f"
             ],
             [
              0.2222222222222222,
              "#7201a8"
             ],
             [
              0.3333333333333333,
              "#9c179e"
             ],
             [
              0.4444444444444444,
              "#bd3786"
             ],
             [
              0.5555555555555556,
              "#d8576b"
             ],
             [
              0.6666666666666666,
              "#ed7953"
             ],
             [
              0.7777777777777778,
              "#fb9f3a"
             ],
             [
              0.8888888888888888,
              "#fdca26"
             ],
             [
              1,
              "#f0f921"
             ]
            ],
            "type": "contour"
           }
          ],
          "contourcarpet": [
           {
            "colorbar": {
             "outlinewidth": 0,
             "ticks": ""
            },
            "type": "contourcarpet"
           }
          ],
          "heatmap": [
           {
            "colorbar": {
             "outlinewidth": 0,
             "ticks": ""
            },
            "colorscale": [
             [
              0,
              "#0d0887"
             ],
             [
              0.1111111111111111,
              "#46039f"
             ],
             [
              0.2222222222222222,
              "#7201a8"
             ],
             [
              0.3333333333333333,
              "#9c179e"
             ],
             [
              0.4444444444444444,
              "#bd3786"
             ],
             [
              0.5555555555555556,
              "#d8576b"
             ],
             [
              0.6666666666666666,
              "#ed7953"
             ],
             [
              0.7777777777777778,
              "#fb9f3a"
             ],
             [
              0.8888888888888888,
              "#fdca26"
             ],
             [
              1,
              "#f0f921"
             ]
            ],
            "type": "heatmap"
           }
          ],
          "histogram": [
           {
            "marker": {
             "pattern": {
              "fillmode": "overlay",
              "size": 10,
              "solidity": 0.2
             }
            },
            "type": "histogram"
           }
          ],
          "histogram2d": [
           {
            "colorbar": {
             "outlinewidth": 0,
             "ticks": ""
            },
            "colorscale": [
             [
              0,
              "#0d0887"
             ],
             [
              0.1111111111111111,
              "#46039f"
             ],
             [
              0.2222222222222222,
              "#7201a8"
             ],
             [
              0.3333333333333333,
              "#9c179e"
             ],
             [
              0.4444444444444444,
              "#bd3786"
             ],
             [
              0.5555555555555556,
              "#d8576b"
             ],
             [
              0.6666666666666666,
              "#ed7953"
             ],
             [
              0.7777777777777778,
              "#fb9f3a"
             ],
             [
              0.8888888888888888,
              "#fdca26"
             ],
             [
              1,
              "#f0f921"
             ]
            ],
            "type": "histogram2d"
           }
          ],
          "histogram2dcontour": [
           {
            "colorbar": {
             "outlinewidth": 0,
             "ticks": ""
            },
            "colorscale": [
             [
              0,
              "#0d0887"
             ],
             [
              0.1111111111111111,
              "#46039f"
             ],
             [
              0.2222222222222222,
              "#7201a8"
             ],
             [
              0.3333333333333333,
              "#9c179e"
             ],
             [
              0.4444444444444444,
              "#bd3786"
             ],
             [
              0.5555555555555556,
              "#d8576b"
             ],
             [
              0.6666666666666666,
              "#ed7953"
             ],
             [
              0.7777777777777778,
              "#fb9f3a"
             ],
             [
              0.8888888888888888,
              "#fdca26"
             ],
             [
              1,
              "#f0f921"
             ]
            ],
            "type": "histogram2dcontour"
           }
          ],
          "mesh3d": [
           {
            "colorbar": {
             "outlinewidth": 0,
             "ticks": ""
            },
            "type": "mesh3d"
           }
          ],
          "parcoords": [
           {
            "line": {
             "colorbar": {
              "outlinewidth": 0,
              "ticks": ""
             }
            },
            "type": "parcoords"
           }
          ],
          "pie": [
           {
            "automargin": true,
            "type": "pie"
           }
          ],
          "scatter": [
           {
            "fillpattern": {
             "fillmode": "overlay",
             "size": 10,
             "solidity": 0.2
            },
            "type": "scatter"
           }
          ],
          "scatter3d": [
           {
            "line": {
             "colorbar": {
              "outlinewidth": 0,
              "ticks": ""
             }
            },
            "marker": {
             "colorbar": {
              "outlinewidth": 0,
              "ticks": ""
             }
            },
            "type": "scatter3d"
           }
          ],
          "scattercarpet": [
           {
            "marker": {
             "colorbar": {
              "outlinewidth": 0,
              "ticks": ""
             }
            },
            "type": "scattercarpet"
           }
          ],
          "scattergeo": [
           {
            "marker": {
             "colorbar": {
              "outlinewidth": 0,
              "ticks": ""
             }
            },
            "type": "scattergeo"
           }
          ],
          "scattergl": [
           {
            "marker": {
             "colorbar": {
              "outlinewidth": 0,
              "ticks": ""
             }
            },
            "type": "scattergl"
           }
          ],
          "scattermap": [
           {
            "marker": {
             "colorbar": {
              "outlinewidth": 0,
              "ticks": ""
             }
            },
            "type": "scattermap"
           }
          ],
          "scattermapbox": [
           {
            "marker": {
             "colorbar": {
              "outlinewidth": 0,
              "ticks": ""
             }
            },
            "type": "scattermapbox"
           }
          ],
          "scatterpolar": [
           {
            "marker": {
             "colorbar": {
              "outlinewidth": 0,
              "ticks": ""
             }
            },
            "type": "scatterpolar"
           }
          ],
          "scatterpolargl": [
           {
            "marker": {
             "colorbar": {
              "outlinewidth": 0,
              "ticks": ""
             }
            },
            "type": "scatterpolargl"
           }
          ],
          "scatterternary": [
           {
            "marker": {
             "colorbar": {
              "outlinewidth": 0,
              "ticks": ""
             }
            },
            "type": "scatterternary"
           }
          ],
          "surface": [
           {
            "colorbar": {
             "outlinewidth": 0,
             "ticks": ""
            },
            "colorscale": [
             [
              0,
              "#0d0887"
             ],
             [
              0.1111111111111111,
              "#46039f"
             ],
             [
              0.2222222222222222,
              "#7201a8"
             ],
             [
              0.3333333333333333,
              "#9c179e"
             ],
             [
              0.4444444444444444,
              "#bd3786"
             ],
             [
              0.5555555555555556,
              "#d8576b"
             ],
             [
              0.6666666666666666,
              "#ed7953"
             ],
             [
              0.7777777777777778,
              "#fb9f3a"
             ],
             [
              0.8888888888888888,
              "#fdca26"
             ],
             [
              1,
              "#f0f921"
             ]
            ],
            "type": "surface"
           }
          ],
          "table": [
           {
            "cells": {
             "fill": {
              "color": "#EBF0F8"
             },
             "line": {
              "color": "white"
             }
            },
            "header": {
             "fill": {
              "color": "#C8D4E3"
             },
             "line": {
              "color": "white"
             }
            },
            "type": "table"
           }
          ]
         },
         "layout": {
          "annotationdefaults": {
           "arrowcolor": "#2a3f5f",
           "arrowhead": 0,
           "arrowwidth": 1
          },
          "autotypenumbers": "strict",
          "coloraxis": {
           "colorbar": {
            "outlinewidth": 0,
            "ticks": ""
           }
          },
          "colorscale": {
           "diverging": [
            [
             0,
             "#8e0152"
            ],
            [
             0.1,
             "#c51b7d"
            ],
            [
             0.2,
             "#de77ae"
            ],
            [
             0.3,
             "#f1b6da"
            ],
            [
             0.4,
             "#fde0ef"
            ],
            [
             0.5,
             "#f7f7f7"
            ],
            [
             0.6,
             "#e6f5d0"
            ],
            [
             0.7,
             "#b8e186"
            ],
            [
             0.8,
             "#7fbc41"
            ],
            [
             0.9,
             "#4d9221"
            ],
            [
             1,
             "#276419"
            ]
           ],
           "sequential": [
            [
             0,
             "#0d0887"
            ],
            [
             0.1111111111111111,
             "#46039f"
            ],
            [
             0.2222222222222222,
             "#7201a8"
            ],
            [
             0.3333333333333333,
             "#9c179e"
            ],
            [
             0.4444444444444444,
             "#bd3786"
            ],
            [
             0.5555555555555556,
             "#d8576b"
            ],
            [
             0.6666666666666666,
             "#ed7953"
            ],
            [
             0.7777777777777778,
             "#fb9f3a"
            ],
            [
             0.8888888888888888,
             "#fdca26"
            ],
            [
             1,
             "#f0f921"
            ]
           ],
           "sequentialminus": [
            [
             0,
             "#0d0887"
            ],
            [
             0.1111111111111111,
             "#46039f"
            ],
            [
             0.2222222222222222,
             "#7201a8"
            ],
            [
             0.3333333333333333,
             "#9c179e"
            ],
            [
             0.4444444444444444,
             "#bd3786"
            ],
            [
             0.5555555555555556,
             "#d8576b"
            ],
            [
             0.6666666666666666,
             "#ed7953"
            ],
            [
             0.7777777777777778,
             "#fb9f3a"
            ],
            [
             0.8888888888888888,
             "#fdca26"
            ],
            [
             1,
             "#f0f921"
            ]
           ]
          },
          "colorway": [
           "#636efa",
           "#EF553B",
           "#00cc96",
           "#ab63fa",
           "#FFA15A",
           "#19d3f3",
           "#FF6692",
           "#B6E880",
           "#FF97FF",
           "#FECB52"
          ],
          "font": {
           "color": "#2a3f5f"
          },
          "geo": {
           "bgcolor": "white",
           "lakecolor": "white",
           "landcolor": "#E5ECF6",
           "showlakes": true,
           "showland": true,
           "subunitcolor": "white"
          },
          "hoverlabel": {
           "align": "left"
          },
          "hovermode": "closest",
          "mapbox": {
           "style": "light"
          },
          "paper_bgcolor": "white",
          "plot_bgcolor": "#E5ECF6",
          "polar": {
           "angularaxis": {
            "gridcolor": "white",
            "linecolor": "white",
            "ticks": ""
           },
           "bgcolor": "#E5ECF6",
           "radialaxis": {
            "gridcolor": "white",
            "linecolor": "white",
            "ticks": ""
           }
          },
          "scene": {
           "xaxis": {
            "backgroundcolor": "#E5ECF6",
            "gridcolor": "white",
            "gridwidth": 2,
            "linecolor": "white",
            "showbackground": true,
            "ticks": "",
            "zerolinecolor": "white"
           },
           "yaxis": {
            "backgroundcolor": "#E5ECF6",
            "gridcolor": "white",
            "gridwidth": 2,
            "linecolor": "white",
            "showbackground": true,
            "ticks": "",
            "zerolinecolor": "white"
           },
           "zaxis": {
            "backgroundcolor": "#E5ECF6",
            "gridcolor": "white",
            "gridwidth": 2,
            "linecolor": "white",
            "showbackground": true,
            "ticks": "",
            "zerolinecolor": "white"
           }
          },
          "shapedefaults": {
           "line": {
            "color": "#2a3f5f"
           }
          },
          "ternary": {
           "aaxis": {
            "gridcolor": "white",
            "linecolor": "white",
            "ticks": ""
           },
           "baxis": {
            "gridcolor": "white",
            "linecolor": "white",
            "ticks": ""
           },
           "bgcolor": "#E5ECF6",
           "caxis": {
            "gridcolor": "white",
            "linecolor": "white",
            "ticks": ""
           }
          },
          "title": {
           "x": 0.05
          },
          "xaxis": {
           "automargin": true,
           "gridcolor": "white",
           "linecolor": "white",
           "ticks": "",
           "title": {
            "standoff": 15
           },
           "zerolinecolor": "white",
           "zerolinewidth": 2
          },
          "yaxis": {
           "automargin": true,
           "gridcolor": "white",
           "linecolor": "white",
           "ticks": "",
           "title": {
            "standoff": 15
           },
           "zerolinecolor": "white",
           "zerolinewidth": 2
          }
         }
        },
        "title": {
         "text": "Resultado Real de las Simulaciones - Elecciones Presidenciales 2024"
        },
        "width": 1200
       }
      }
     },
     "metadata": {},
     "output_type": "display_data"
    }
   ],
   "source": [
    "# Crear el mapa coroplético usando Plotly Express con códigos de estado\n",
    "fig = px.choropleth(full_df_actual_state,\n",
    "                    locations='state_code',  # Usar la nueva columna con códigos de estado\n",
    "                    locationmode=\"USA-states\",  # Modo de localización para los códigos de estado\n",
    "                    color=\"Winner\",  # Métrica que deseas visualizar\n",
    "                    hover_name='state_code',  # Mostrar el código del estado en hover\n",
    "                    hover_data={\n",
    "                        'state_code': True,  # Mostrar el código del estado\n",
    "                        \"Per_dem\": ':.2%',  # Mostrar el porcentaje de Biden en formato de porcentaje\n",
    "                        \"Per_gop\": ':.2%'  # Mostrar el porcentaje de Trump en formato de porcentaje\n",
    "                    },\n",
    "                    scope='usa',  # Limitar el mapa a EE.UU.\n",
    "                    color_discrete_map={'dem': '#3951a2', 'gop': '#af2b39'},  # Colores asignados\n",
    "                    labels={\"Winner\": 'Ganador {ELECTORAL_YEAR}'},  # Etiqueta para la barra de color\n",
    "                    title=f\"Resultado Real de las Simulaciones - Elecciones Presidenciales {ELECTORAL_YEAR}\"\n",
    "                   )\n",
    "\n",
    "# # Crear un nuevo rastro para añadir los códigos de los estados en el mapa\n",
    "# fig.add_trace(go.Scattergeo(\n",
    "#     locationmode='USA-states',\n",
    "#     locations=accumulated_pred_state['state_code'],  # Usar los códigos de los estados\n",
    "#     text=accumulated_pred_state['state_code'],  # Mostrar los códigos dentro del mapa\n",
    "#     mode='text',  # Solo texto\n",
    "#     textfont=dict(size=8, color=\"white\"),  # Tamaño y color de la fuente\n",
    "# ))\n",
    "\n",
    "# Ajustar el tamaño del gráfico\n",
    "fig.update_layout(\n",
    "    width=1200,  # Ajustar el ancho del gráfico\n",
    "    height=800   # Ajustar la altura del gráfico\n",
    ")\n",
    "\n",
    "# Ajustar visualización y mostrar el gráfico\n",
    "fig.update_geos(fitbounds=\"locations\", visible=False)  # Ajustar el mapa a las ubicaciones\n",
    "fig.show()\n"
   ]
  },
  {
   "cell_type": "code",
   "execution_count": null,
   "metadata": {},
   "outputs": [
    {
     "data": {
      "application/vnd.plotly.v1+json": {
       "config": {
        "plotlyServerURL": "https://plot.ly"
       },
       "data": [
        {
         "colorscale": [
          [
           0,
           "#af2b39"
          ],
          [
           1,
           "#af2b39"
          ]
         ],
         "customdata": [
          [
           "AL",
           0.34232779282665116,
           0.64822155408376
          ],
          [
           "AR",
           0.3355990989924544,
           0.6419687217800987
          ],
          [
           "FL",
           0.42989101713151834,
           0.5608939861369304
          ],
          [
           "ID",
           0.3038995946119194,
           0.6689190682705357
          ],
          [
           "IN",
           0.396633261751372,
           0.5864086307393394
          ],
          [
           "IA",
           0.4268813875012147,
           0.5595072333085273
          ],
          [
           "KS",
           0.4104072715166041,
           0.5715630792917397
          ],
          [
           "KY",
           0.33957456413877524,
           0.64510114025454
          ],
          [
           "LA",
           0.3821024178178602,
           0.6021524931800346
          ],
          [
           "MS",
           0.3800203256004847,
           0.6089080852893467
          ],
          [
           "MO",
           0.4010557870868347,
           0.5852446355486846
          ],
          [
           "MT",
           0.38461066433595426,
           0.583914767572803
          ],
          [
           "NE",
           0.3906366301750815,
           0.5963264879497528
          ],
          [
           "ND",
           0.30769546840373746,
           0.6752470148660902
          ],
          [
           "OH",
           0.43949549498292895,
           0.5516230047543659
          ],
          [
           "OK",
           0.3189934956099997,
           0.6616210342024795
          ],
          [
           "SC",
           0.40360890688894646,
           0.5822862951015251
          ],
          [
           "SD",
           0.3388249659512516,
           0.6379443948715541
          ],
          [
           "TN",
           0.3447405336001791,
           0.6419393709149847
          ],
          [
           "TX",
           0.42489127712579694,
           0.5618172471517638
          ],
          [
           "UT",
           0.3780809986350357,
           0.5939832696103567
          ],
          [
           "WV",
           0.28110153595928594,
           0.6998465352378703
          ],
          [
           "WY",
           0.26103329040784223,
           0.7232244427507856
          ]
         ],
         "geo": "geo",
         "hovertemplate": "<b>%{hovertext}</b><br><br>Status=Safe Republican<br>state_code=%{customdata[0]}<br>Per_dem=%{customdata[1]:.2%}<br>Per_gop=%{customdata[2]:.2%}<extra></extra>",
         "hovertext": [
          "AL",
          "AR",
          "FL",
          "ID",
          "IN",
          "IA",
          "KS",
          "KY",
          "LA",
          "MS",
          "MO",
          "MT",
          "NE",
          "ND",
          "OH",
          "OK",
          "SC",
          "SD",
          "TN",
          "TX",
          "UT",
          "WV",
          "WY"
         ],
         "locationmode": "USA-states",
         "locations": [
          "AL",
          "AR",
          "FL",
          "ID",
          "IN",
          "IA",
          "KS",
          "KY",
          "LA",
          "MS",
          "MO",
          "MT",
          "NE",
          "ND",
          "OH",
          "OK",
          "SC",
          "SD",
          "TN",
          "TX",
          "UT",
          "WV",
          "WY"
         ],
         "name": "Safe Republican",
         "showlegend": true,
         "showscale": false,
         "type": "choropleth",
         "z": [
          1,
          1,
          1,
          1,
          1,
          1,
          1,
          1,
          1,
          1,
          1,
          1,
          1,
          1,
          1,
          1,
          1,
          1,
          1,
          1,
          1,
          1,
          1
         ]
        },
        {
         "colorscale": [
          [
           0,
           "#d56062"
          ],
          [
           1,
           "#d56062"
          ]
         ],
         "customdata": [
          [
           "AZ",
           0.46701417010319773,
           0.5223002024890546
          ],
          [
           "NV",
           0.47530073932101247,
           0.5055437265693278
          ],
          [
           "NC",
           0.47808869107534324,
           0.5103174545882869
          ]
         ],
         "geo": "geo",
         "hovertemplate": "<b>%{hovertext}</b><br><br>Status=Likely Republican<br>state_code=%{customdata[0]}<br>Per_dem=%{customdata[1]:.2%}<br>Per_gop=%{customdata[2]:.2%}<extra></extra>",
         "hovertext": [
          "AZ",
          "NV",
          "NC"
         ],
         "locationmode": "USA-states",
         "locations": [
          "AZ",
          "NV",
          "NC"
         ],
         "name": "Likely Republican",
         "showlegend": true,
         "showscale": false,
         "type": "choropleth",
         "z": [
          1,
          1,
          1
         ]
        },
        {
         "colorscale": [
          [
           0,
           "#3951a2"
          ],
          [
           1,
           "#3951a2"
          ]
         ],
         "customdata": [
          [
           "CA",
           0.584785371015076,
           0.38340004397783556
          ],
          [
           "CO",
           0.54159441632431,
           0.4316815492186621
          ],
          [
           "CT",
           0.559163357190981,
           0.4238353967129821
          ],
          [
           "DC",
           0.9114993945085634,
           0.05081185280379606
          ],
          [
           "DE",
           0.5662687098028716,
           0.4189022018890085
          ],
          [
           "HI",
           0.6058513531036325,
           0.3748028356825321
          ],
          [
           "IL",
           0.5476862395321624,
           0.43793237497961507
          ],
          [
           "MD",
           0.6309011324258452,
           0.34339197188002585
          ],
          [
           "MA",
           0.6157763989903392,
           0.36233699934297336
          ],
          [
           "NY",
           0.5634474305856947,
           0.4365525694143053
          ],
          [
           "OR",
           0.5564479305958709,
           0.4125318446524539
          ],
          [
           "RI",
           0.5584078612146266,
           0.4198613947859531
          ],
          [
           "VT",
           0.6435537093089585,
           0.3258694993572405
          ],
          [
           "WA",
           0.5760307886843121,
           0.3926616540581994
          ]
         ],
         "geo": "geo",
         "hovertemplate": "<b>%{hovertext}</b><br><br>Status=Safe Democrat<br>state_code=%{customdata[0]}<br>Per_dem=%{customdata[1]:.2%}<br>Per_gop=%{customdata[2]:.2%}<extra></extra>",
         "hovertext": [
          "CA",
          "CO",
          "CT",
          "DC",
          "DE",
          "HI",
          "IL",
          "MD",
          "MA",
          "NY",
          "OR",
          "RI",
          "VT",
          "WA"
         ],
         "locationmode": "USA-states",
         "locations": [
          "CA",
          "CO",
          "CT",
          "DC",
          "DE",
          "HI",
          "IL",
          "MD",
          "MA",
          "NY",
          "OR",
          "RI",
          "VT",
          "WA"
         ],
         "name": "Safe Democrat",
         "showlegend": true,
         "showscale": false,
         "type": "choropleth",
         "z": [
          1,
          1,
          1,
          1,
          1,
          1,
          1,
          1,
          1,
          1,
          1,
          1,
          1,
          1
         ]
        },
        {
         "colorscale": [
          [
           0,
           "#b6b164"
          ],
          [
           1,
           "#b6b164"
          ]
         ],
         "customdata": [
          [
           "GA",
           0.4853322265495909,
           0.5072558398048627
          ],
          [
           "MI",
           0.48327259459772565,
           0.4974188097703772
          ],
          [
           "PA",
           0.4866280572391539,
           0.5037253671558666
          ],
          [
           "WI",
           0.4884699724438856,
           0.4970776346892566
          ]
         ],
         "geo": "geo",
         "hovertemplate": "<b>%{hovertext}</b><br><br>Status=Toss-Up<br>state_code=%{customdata[0]}<br>Per_dem=%{customdata[1]:.2%}<br>Per_gop=%{customdata[2]:.2%}<extra></extra>",
         "hovertext": [
          "GA",
          "MI",
          "PA",
          "WI"
         ],
         "locationmode": "USA-states",
         "locations": [
          "GA",
          "MI",
          "PA",
          "WI"
         ],
         "name": "Toss-Up",
         "showlegend": true,
         "showscale": false,
         "type": "choropleth",
         "z": [
          1,
          1,
          1,
          1
         ]
        },
        {
         "colorscale": [
          [
           0,
           "#a3cef1"
          ],
          [
           1,
           "#a3cef1"
          ]
         ],
         "customdata": [
          [
           "ME",
           0.52401383250639,
           0.45464080589385053
          ],
          [
           "MN",
           0.5112687277300615,
           0.4687045267449079
          ],
          [
           "NH",
           0.5090244759795318,
           0.4811488859129627
          ],
          [
           "NJ",
           0.5197416168838388,
           0.4606463088544196
          ],
          [
           "NM",
           0.5185189998299767,
           0.4585116141056505
          ],
          [
           "VA",
           0.520993955261439,
           0.4629224356709178
          ]
         ],
         "geo": "geo",
         "hovertemplate": "<b>%{hovertext}</b><br><br>Status=Likely Democrat<br>state_code=%{customdata[0]}<br>Per_dem=%{customdata[1]:.2%}<br>Per_gop=%{customdata[2]:.2%}<extra></extra>",
         "hovertext": [
          "ME",
          "MN",
          "NH",
          "NJ",
          "NM",
          "VA"
         ],
         "locationmode": "USA-states",
         "locations": [
          "ME",
          "MN",
          "NH",
          "NJ",
          "NM",
          "VA"
         ],
         "name": "Likely Democrat",
         "showlegend": true,
         "showscale": false,
         "type": "choropleth",
         "z": [
          1,
          1,
          1,
          1,
          1,
          1
         ]
        }
       ],
       "layout": {
        "geo": {
         "center": {},
         "domain": {
          "x": [
           0,
           1
          ],
          "y": [
           0,
           1
          ]
         },
         "fitbounds": "locations",
         "scope": "usa",
         "visible": false
        },
        "height": 800,
        "legend": {
         "title": {
          "text": "Status"
         },
         "tracegroupgap": 0
        },
        "template": {
         "data": {
          "bar": [
           {
            "error_x": {
             "color": "#2a3f5f"
            },
            "error_y": {
             "color": "#2a3f5f"
            },
            "marker": {
             "line": {
              "color": "#E5ECF6",
              "width": 0.5
             },
             "pattern": {
              "fillmode": "overlay",
              "size": 10,
              "solidity": 0.2
             }
            },
            "type": "bar"
           }
          ],
          "barpolar": [
           {
            "marker": {
             "line": {
              "color": "#E5ECF6",
              "width": 0.5
             },
             "pattern": {
              "fillmode": "overlay",
              "size": 10,
              "solidity": 0.2
             }
            },
            "type": "barpolar"
           }
          ],
          "carpet": [
           {
            "aaxis": {
             "endlinecolor": "#2a3f5f",
             "gridcolor": "white",
             "linecolor": "white",
             "minorgridcolor": "white",
             "startlinecolor": "#2a3f5f"
            },
            "baxis": {
             "endlinecolor": "#2a3f5f",
             "gridcolor": "white",
             "linecolor": "white",
             "minorgridcolor": "white",
             "startlinecolor": "#2a3f5f"
            },
            "type": "carpet"
           }
          ],
          "choropleth": [
           {
            "colorbar": {
             "outlinewidth": 0,
             "ticks": ""
            },
            "type": "choropleth"
           }
          ],
          "contour": [
           {
            "colorbar": {
             "outlinewidth": 0,
             "ticks": ""
            },
            "colorscale": [
             [
              0,
              "#0d0887"
             ],
             [
              0.1111111111111111,
              "#46039f"
             ],
             [
              0.2222222222222222,
              "#7201a8"
             ],
             [
              0.3333333333333333,
              "#9c179e"
             ],
             [
              0.4444444444444444,
              "#bd3786"
             ],
             [
              0.5555555555555556,
              "#d8576b"
             ],
             [
              0.6666666666666666,
              "#ed7953"
             ],
             [
              0.7777777777777778,
              "#fb9f3a"
             ],
             [
              0.8888888888888888,
              "#fdca26"
             ],
             [
              1,
              "#f0f921"
             ]
            ],
            "type": "contour"
           }
          ],
          "contourcarpet": [
           {
            "colorbar": {
             "outlinewidth": 0,
             "ticks": ""
            },
            "type": "contourcarpet"
           }
          ],
          "heatmap": [
           {
            "colorbar": {
             "outlinewidth": 0,
             "ticks": ""
            },
            "colorscale": [
             [
              0,
              "#0d0887"
             ],
             [
              0.1111111111111111,
              "#46039f"
             ],
             [
              0.2222222222222222,
              "#7201a8"
             ],
             [
              0.3333333333333333,
              "#9c179e"
             ],
             [
              0.4444444444444444,
              "#bd3786"
             ],
             [
              0.5555555555555556,
              "#d8576b"
             ],
             [
              0.6666666666666666,
              "#ed7953"
             ],
             [
              0.7777777777777778,
              "#fb9f3a"
             ],
             [
              0.8888888888888888,
              "#fdca26"
             ],
             [
              1,
              "#f0f921"
             ]
            ],
            "type": "heatmap"
           }
          ],
          "histogram": [
           {
            "marker": {
             "pattern": {
              "fillmode": "overlay",
              "size": 10,
              "solidity": 0.2
             }
            },
            "type": "histogram"
           }
          ],
          "histogram2d": [
           {
            "colorbar": {
             "outlinewidth": 0,
             "ticks": ""
            },
            "colorscale": [
             [
              0,
              "#0d0887"
             ],
             [
              0.1111111111111111,
              "#46039f"
             ],
             [
              0.2222222222222222,
              "#7201a8"
             ],
             [
              0.3333333333333333,
              "#9c179e"
             ],
             [
              0.4444444444444444,
              "#bd3786"
             ],
             [
              0.5555555555555556,
              "#d8576b"
             ],
             [
              0.6666666666666666,
              "#ed7953"
             ],
             [
              0.7777777777777778,
              "#fb9f3a"
             ],
             [
              0.8888888888888888,
              "#fdca26"
             ],
             [
              1,
              "#f0f921"
             ]
            ],
            "type": "histogram2d"
           }
          ],
          "histogram2dcontour": [
           {
            "colorbar": {
             "outlinewidth": 0,
             "ticks": ""
            },
            "colorscale": [
             [
              0,
              "#0d0887"
             ],
             [
              0.1111111111111111,
              "#46039f"
             ],
             [
              0.2222222222222222,
              "#7201a8"
             ],
             [
              0.3333333333333333,
              "#9c179e"
             ],
             [
              0.4444444444444444,
              "#bd3786"
             ],
             [
              0.5555555555555556,
              "#d8576b"
             ],
             [
              0.6666666666666666,
              "#ed7953"
             ],
             [
              0.7777777777777778,
              "#fb9f3a"
             ],
             [
              0.8888888888888888,
              "#fdca26"
             ],
             [
              1,
              "#f0f921"
             ]
            ],
            "type": "histogram2dcontour"
           }
          ],
          "mesh3d": [
           {
            "colorbar": {
             "outlinewidth": 0,
             "ticks": ""
            },
            "type": "mesh3d"
           }
          ],
          "parcoords": [
           {
            "line": {
             "colorbar": {
              "outlinewidth": 0,
              "ticks": ""
             }
            },
            "type": "parcoords"
           }
          ],
          "pie": [
           {
            "automargin": true,
            "type": "pie"
           }
          ],
          "scatter": [
           {
            "fillpattern": {
             "fillmode": "overlay",
             "size": 10,
             "solidity": 0.2
            },
            "type": "scatter"
           }
          ],
          "scatter3d": [
           {
            "line": {
             "colorbar": {
              "outlinewidth": 0,
              "ticks": ""
             }
            },
            "marker": {
             "colorbar": {
              "outlinewidth": 0,
              "ticks": ""
             }
            },
            "type": "scatter3d"
           }
          ],
          "scattercarpet": [
           {
            "marker": {
             "colorbar": {
              "outlinewidth": 0,
              "ticks": ""
             }
            },
            "type": "scattercarpet"
           }
          ],
          "scattergeo": [
           {
            "marker": {
             "colorbar": {
              "outlinewidth": 0,
              "ticks": ""
             }
            },
            "type": "scattergeo"
           }
          ],
          "scattergl": [
           {
            "marker": {
             "colorbar": {
              "outlinewidth": 0,
              "ticks": ""
             }
            },
            "type": "scattergl"
           }
          ],
          "scattermap": [
           {
            "marker": {
             "colorbar": {
              "outlinewidth": 0,
              "ticks": ""
             }
            },
            "type": "scattermap"
           }
          ],
          "scattermapbox": [
           {
            "marker": {
             "colorbar": {
              "outlinewidth": 0,
              "ticks": ""
             }
            },
            "type": "scattermapbox"
           }
          ],
          "scatterpolar": [
           {
            "marker": {
             "colorbar": {
              "outlinewidth": 0,
              "ticks": ""
             }
            },
            "type": "scatterpolar"
           }
          ],
          "scatterpolargl": [
           {
            "marker": {
             "colorbar": {
              "outlinewidth": 0,
              "ticks": ""
             }
            },
            "type": "scatterpolargl"
           }
          ],
          "scatterternary": [
           {
            "marker": {
             "colorbar": {
              "outlinewidth": 0,
              "ticks": ""
             }
            },
            "type": "scatterternary"
           }
          ],
          "surface": [
           {
            "colorbar": {
             "outlinewidth": 0,
             "ticks": ""
            },
            "colorscale": [
             [
              0,
              "#0d0887"
             ],
             [
              0.1111111111111111,
              "#46039f"
             ],
             [
              0.2222222222222222,
              "#7201a8"
             ],
             [
              0.3333333333333333,
              "#9c179e"
             ],
             [
              0.4444444444444444,
              "#bd3786"
             ],
             [
              0.5555555555555556,
              "#d8576b"
             ],
             [
              0.6666666666666666,
              "#ed7953"
             ],
             [
              0.7777777777777778,
              "#fb9f3a"
             ],
             [
              0.8888888888888888,
              "#fdca26"
             ],
             [
              1,
              "#f0f921"
             ]
            ],
            "type": "surface"
           }
          ],
          "table": [
           {
            "cells": {
             "fill": {
              "color": "#EBF0F8"
             },
             "line": {
              "color": "white"
             }
            },
            "header": {
             "fill": {
              "color": "#C8D4E3"
             },
             "line": {
              "color": "white"
             }
            },
            "type": "table"
           }
          ]
         },
         "layout": {
          "annotationdefaults": {
           "arrowcolor": "#2a3f5f",
           "arrowhead": 0,
           "arrowwidth": 1
          },
          "autotypenumbers": "strict",
          "coloraxis": {
           "colorbar": {
            "outlinewidth": 0,
            "ticks": ""
           }
          },
          "colorscale": {
           "diverging": [
            [
             0,
             "#8e0152"
            ],
            [
             0.1,
             "#c51b7d"
            ],
            [
             0.2,
             "#de77ae"
            ],
            [
             0.3,
             "#f1b6da"
            ],
            [
             0.4,
             "#fde0ef"
            ],
            [
             0.5,
             "#f7f7f7"
            ],
            [
             0.6,
             "#e6f5d0"
            ],
            [
             0.7,
             "#b8e186"
            ],
            [
             0.8,
             "#7fbc41"
            ],
            [
             0.9,
             "#4d9221"
            ],
            [
             1,
             "#276419"
            ]
           ],
           "sequential": [
            [
             0,
             "#0d0887"
            ],
            [
             0.1111111111111111,
             "#46039f"
            ],
            [
             0.2222222222222222,
             "#7201a8"
            ],
            [
             0.3333333333333333,
             "#9c179e"
            ],
            [
             0.4444444444444444,
             "#bd3786"
            ],
            [
             0.5555555555555556,
             "#d8576b"
            ],
            [
             0.6666666666666666,
             "#ed7953"
            ],
            [
             0.7777777777777778,
             "#fb9f3a"
            ],
            [
             0.8888888888888888,
             "#fdca26"
            ],
            [
             1,
             "#f0f921"
            ]
           ],
           "sequentialminus": [
            [
             0,
             "#0d0887"
            ],
            [
             0.1111111111111111,
             "#46039f"
            ],
            [
             0.2222222222222222,
             "#7201a8"
            ],
            [
             0.3333333333333333,
             "#9c179e"
            ],
            [
             0.4444444444444444,
             "#bd3786"
            ],
            [
             0.5555555555555556,
             "#d8576b"
            ],
            [
             0.6666666666666666,
             "#ed7953"
            ],
            [
             0.7777777777777778,
             "#fb9f3a"
            ],
            [
             0.8888888888888888,
             "#fdca26"
            ],
            [
             1,
             "#f0f921"
            ]
           ]
          },
          "colorway": [
           "#636efa",
           "#EF553B",
           "#00cc96",
           "#ab63fa",
           "#FFA15A",
           "#19d3f3",
           "#FF6692",
           "#B6E880",
           "#FF97FF",
           "#FECB52"
          ],
          "font": {
           "color": "#2a3f5f"
          },
          "geo": {
           "bgcolor": "white",
           "lakecolor": "white",
           "landcolor": "#E5ECF6",
           "showlakes": true,
           "showland": true,
           "subunitcolor": "white"
          },
          "hoverlabel": {
           "align": "left"
          },
          "hovermode": "closest",
          "mapbox": {
           "style": "light"
          },
          "paper_bgcolor": "white",
          "plot_bgcolor": "#E5ECF6",
          "polar": {
           "angularaxis": {
            "gridcolor": "white",
            "linecolor": "white",
            "ticks": ""
           },
           "bgcolor": "#E5ECF6",
           "radialaxis": {
            "gridcolor": "white",
            "linecolor": "white",
            "ticks": ""
           }
          },
          "scene": {
           "xaxis": {
            "backgroundcolor": "#E5ECF6",
            "gridcolor": "white",
            "gridwidth": 2,
            "linecolor": "white",
            "showbackground": true,
            "ticks": "",
            "zerolinecolor": "white"
           },
           "yaxis": {
            "backgroundcolor": "#E5ECF6",
            "gridcolor": "white",
            "gridwidth": 2,
            "linecolor": "white",
            "showbackground": true,
            "ticks": "",
            "zerolinecolor": "white"
           },
           "zaxis": {
            "backgroundcolor": "#E5ECF6",
            "gridcolor": "white",
            "gridwidth": 2,
            "linecolor": "white",
            "showbackground": true,
            "ticks": "",
            "zerolinecolor": "white"
           }
          },
          "shapedefaults": {
           "line": {
            "color": "#2a3f5f"
           }
          },
          "ternary": {
           "aaxis": {
            "gridcolor": "white",
            "linecolor": "white",
            "ticks": ""
           },
           "baxis": {
            "gridcolor": "white",
            "linecolor": "white",
            "ticks": ""
           },
           "bgcolor": "#E5ECF6",
           "caxis": {
            "gridcolor": "white",
            "linecolor": "white",
            "ticks": ""
           }
          },
          "title": {
           "x": 0.05
          },
          "xaxis": {
           "automargin": true,
           "gridcolor": "white",
           "linecolor": "white",
           "ticks": "",
           "title": {
            "standoff": 15
           },
           "zerolinecolor": "white",
           "zerolinewidth": 2
          },
          "yaxis": {
           "automargin": true,
           "gridcolor": "white",
           "linecolor": "white",
           "ticks": "",
           "title": {
            "standoff": 15
           },
           "zerolinecolor": "white",
           "zerolinewidth": 2
          }
         }
        },
        "title": {
         "text": "Status de los Estados en las Simulaciones - Elecciones Presidenciales 2024"
        },
        "width": 1200
       }
      }
     },
     "metadata": {},
     "output_type": "display_data"
    }
   ],
   "source": [
    "# Crear el mapa coroplético usando Plotly Express con códigos de estado\n",
    "fig = px.choropleth(full_df_actual_state,\n",
    "                    locations='state_code',  # Usar la nueva columna con códigos de estado\n",
    "                    locationmode=\"USA-states\",  # Modo de localización para los códigos de estado\n",
    "                    color='Status',  # Métrica que deseas visualizar\n",
    "                    hover_name='state_code',  # Mostrar el código del estado en hover\n",
    "                    hover_data={\n",
    "                        'state_code': True,  # Mostrar el código del estado\n",
    "                        'Per_dem': ':.2%',  # Mostrar el porcentaje de Biden en formato de porcentaje\n",
    "                        'Per_gop': ':.2%'  # Mostrar el porcentaje de Trump en formato de porcentaje\n",
    "                    },\n",
    "                    scope='usa',  # Limitar el mapa a EE.UU.\n",
    "                    color_discrete_map={'Safe Democrat': '#3951a2', \n",
    "                                        'Likely Democrat': '#a3cef1', \n",
    "                                        'Toss-Up': '#b6b164', \n",
    "                                        'Likely Republican': '#d56062', \n",
    "                                        'Safe Republican': '#af2b39'},\n",
    "                    labels={\"Winner\": 'Ganador {ELECTORAL_YEAR}'},  # Etiqueta para la barra de color\n",
    "                    title=f\"Status de los Estados en las Simulaciones - Elecciones Presidenciales {ELECTORAL_YEAR}\"\n",
    "                   )\n",
    "\n",
    "# # Crear un nuevo rastro para añadir los códigos de los estados en el mapa\n",
    "# fig.add_trace(go.Scattergeo(\n",
    "#     locationmode='USA-states',\n",
    "#     locations=accumulated_pred_state['state_code'],  # Usar los códigos de los estados\n",
    "#     text=accumulated_pred_state['state_code'],  # Mostrar los códigos dentro del mapa\n",
    "#     mode='text',  # Solo texto\n",
    "#     textfont=dict(size=12, color=\"black\"),  # Tamaño y color de la fuente\n",
    "# ))\n",
    "\n",
    "# Ajustar el tamaño del gráfico\n",
    "fig.update_layout(\n",
    "    width=1200,  # Ajustar el ancho del gráfico\n",
    "    height=800   # Ajustar la altura del gráfico\n",
    ")\n",
    "\n",
    "\n",
    "\n",
    "# Ajustar visualización y mostrar el gráfico\n",
    "fig.update_geos(fitbounds=\"locations\", visible=False)  # Ajustar el mapa a las ubicaciones\n",
    "fig.show()\n"
   ]
  }
 ],
 "metadata": {
  "kernelspec": {
   "display_name": ".venv",
   "language": "python",
   "name": "python3"
  },
  "language_info": {
   "codemirror_mode": {
    "name": "ipython",
    "version": 3
   },
   "file_extension": ".py",
   "mimetype": "text/x-python",
   "name": "python",
   "nbconvert_exporter": "python",
   "pygments_lexer": "ipython3",
   "version": "3.9.6"
  }
 },
 "nbformat": 4,
 "nbformat_minor": 2
}
