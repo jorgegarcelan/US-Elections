{
 "cells": [
  {
   "cell_type": "markdown",
   "metadata": {},
   "source": [
    "## 📊 Simulación"
   ]
  },
  {
   "cell_type": "markdown",
   "metadata": {},
   "source": [
    "🧑‍💻 Lucía Cordero | Jorge Garcelán"
   ]
  },
  {
   "cell_type": "markdown",
   "metadata": {},
   "source": [
    "![Election Results](https://elordenmundial.com/wp-content/uploads/2020/10/editable-portada-especial-.png)\n"
   ]
  },
  {
   "cell_type": "markdown",
   "metadata": {},
   "source": [
    "<div class=\"warning\" style='padding:0.1em; border-left: 4px solid #17a2b8; background-color:#e8f8ff;'>\n",
    "<span>\n",
    "<p style='margin-top:1em; margin-left:1em; text-align:left'>\n",
    "<b>💡Interpretación de la simulación</b></p>\n",
    "<p style='margin-left:1em;'>\n",
    "Imaginemos que estamos en el día de las elecciones y nos van llegando datos de condados (equivalentes a dataset de train) y queremos hacer un forecast de cómo van a acabar las elecciones, es decir, hacer un forecast de los condados que todavía no tenemos los datos (test). En ese sentido, podríamos hacer un modelo con los datos que sí tenemos (train) y predecir los condados que todavía no tenemos (test). Y así podemos repetir el proceso N veces y crear una simulación.\n",
    "</p>\n",
    "</span>\n",
    "</div>"
   ]
  },
  {
   "cell_type": "markdown",
   "metadata": {},
   "source": [
    "## Libraries"
   ]
  },
  {
   "cell_type": "code",
   "execution_count": 774,
   "metadata": {},
   "outputs": [],
   "source": [
    "import pandas as pd\n",
    "from pandas import read_csv\n",
    "import numpy as np\n",
    "from sklearn.linear_model import LinearRegression\n",
    "from sklearn.ensemble import RandomForestRegressor\n",
    "from sklearn.neighbors import KNeighborsRegressor\n",
    "from sklearn.model_selection import train_test_split\n",
    "import json\n",
    "import plotly.express as px\n",
    "import plotly.graph_objects as go\n",
    "import seaborn as sns\n",
    "import matplotlib.pyplot as plt\n",
    "from scipy.stats import gaussian_kde"
   ]
  },
  {
   "cell_type": "markdown",
   "metadata": {},
   "source": [
    "## Load data"
   ]
  },
  {
   "cell_type": "code",
   "execution_count": 775,
   "metadata": {},
   "outputs": [],
   "source": [
    "CENSUS_YEAR = 2023\n",
    "ELECTORAL_YEAR = CENSUS_YEAR + 1\n"
   ]
  },
  {
   "cell_type": "code",
   "execution_count": 776,
   "metadata": {},
   "outputs": [],
   "source": [
    "def load_seats_data(path, state_to_code):\n",
    "    # Cargar datos\n",
    "    seats_data = pd.read_csv(path, header=0, sep=\",\")\n",
    "\n",
    "    return seats_data"
   ]
  },
  {
   "cell_type": "code",
   "execution_count": 777,
   "metadata": {},
   "outputs": [],
   "source": [
    "# Cargar codigo de estados\n",
    "with open(\"data/state_to_code.json\", \"r\") as file:\n",
    "    state_to_code = json.load(file)\n",
    "\n",
    "\n",
    "# Cargar datos de escaños por estado\n",
    "seats_data = load_seats_data(f\"data/seats.csv\", state_to_code)\n",
    "\n",
    "# Cargar datos de state, county, fips\n",
    "state_fips_county = read_csv('data/state_fips_county.csv')\n",
    "state_names = state_fips_county['state']\n",
    "fips_codes = state_fips_county['fips']\n",
    "county_names = state_fips_county['county']"
   ]
  },
  {
   "cell_type": "markdown",
   "metadata": {},
   "source": [
    "### 2016"
   ]
  },
  {
   "cell_type": "code",
   "execution_count": 778,
   "metadata": {},
   "outputs": [],
   "source": [
    "# Cargar datos\n",
    "data_2016 = read_csv(f\"data/final_data_{2016}.csv\")"
   ]
  },
  {
   "cell_type": "code",
   "execution_count": 779,
   "metadata": {},
   "outputs": [
    {
     "data": {
      "text/html": [
       "<div>\n",
       "<style scoped>\n",
       "    .dataframe tbody tr th:only-of-type {\n",
       "        vertical-align: middle;\n",
       "    }\n",
       "\n",
       "    .dataframe tbody tr th {\n",
       "        vertical-align: top;\n",
       "    }\n",
       "\n",
       "    .dataframe thead th {\n",
       "        text-align: right;\n",
       "    }\n",
       "</style>\n",
       "<table border=\"1\" class=\"dataframe\">\n",
       "  <thead>\n",
       "    <tr style=\"text-align: right;\">\n",
       "      <th></th>\n",
       "      <th>state</th>\n",
       "      <th>state_code</th>\n",
       "      <th>ElectoralVotes2024</th>\n",
       "      <th>Votes_dem</th>\n",
       "      <th>Votes_gop</th>\n",
       "      <th>Votes_other</th>\n",
       "      <th>Votes_total</th>\n",
       "      <th>Per_dem_2016</th>\n",
       "      <th>Per_gop_2016</th>\n",
       "      <th>Winner</th>\n",
       "      <th>Difference</th>\n",
       "      <th>Status</th>\n",
       "    </tr>\n",
       "  </thead>\n",
       "  <tbody>\n",
       "    <tr>\n",
       "      <th>0</th>\n",
       "      <td>Alabama</td>\n",
       "      <td>AL</td>\n",
       "      <td>9</td>\n",
       "      <td>718084.0</td>\n",
       "      <td>1306925.0</td>\n",
       "      <td>53156.0</td>\n",
       "      <td>2078165.0</td>\n",
       "      <td>0.345538</td>\n",
       "      <td>0.628884</td>\n",
       "      <td>gop</td>\n",
       "      <td>-28.334661</td>\n",
       "      <td>Safe Republican</td>\n",
       "    </tr>\n",
       "    <tr>\n",
       "      <th>1</th>\n",
       "      <td>Arizona</td>\n",
       "      <td>AZ</td>\n",
       "      <td>11</td>\n",
       "      <td>936250.0</td>\n",
       "      <td>1021154.0</td>\n",
       "      <td>105406.0</td>\n",
       "      <td>2062810.0</td>\n",
       "      <td>0.453871</td>\n",
       "      <td>0.495031</td>\n",
       "      <td>gop</td>\n",
       "      <td>-4.115939</td>\n",
       "      <td>Likely Republican</td>\n",
       "    </tr>\n",
       "    <tr>\n",
       "      <th>2</th>\n",
       "      <td>Arkansas</td>\n",
       "      <td>AR</td>\n",
       "      <td>6</td>\n",
       "      <td>378729.0</td>\n",
       "      <td>677904.0</td>\n",
       "      <td>51982.0</td>\n",
       "      <td>1108615.0</td>\n",
       "      <td>0.341624</td>\n",
       "      <td>0.611487</td>\n",
       "      <td>gop</td>\n",
       "      <td>-26.986375</td>\n",
       "      <td>Safe Republican</td>\n",
       "    </tr>\n",
       "    <tr>\n",
       "      <th>3</th>\n",
       "      <td>California</td>\n",
       "      <td>CA</td>\n",
       "      <td>54</td>\n",
       "      <td>7362490.0</td>\n",
       "      <td>3916209.0</td>\n",
       "      <td>675618.0</td>\n",
       "      <td>11954317.0</td>\n",
       "      <td>0.615885</td>\n",
       "      <td>0.327598</td>\n",
       "      <td>dem</td>\n",
       "      <td>28.828757</td>\n",
       "      <td>Safe Democrat</td>\n",
       "    </tr>\n",
       "    <tr>\n",
       "      <th>4</th>\n",
       "      <td>Colorado</td>\n",
       "      <td>CO</td>\n",
       "      <td>10</td>\n",
       "      <td>1212209.0</td>\n",
       "      <td>1137455.0</td>\n",
       "      <td>214521.0</td>\n",
       "      <td>2564185.0</td>\n",
       "      <td>0.472746</td>\n",
       "      <td>0.443593</td>\n",
       "      <td>dem</td>\n",
       "      <td>2.915312</td>\n",
       "      <td>Likely Democrat</td>\n",
       "    </tr>\n",
       "    <tr>\n",
       "      <th>5</th>\n",
       "      <td>Connecticut</td>\n",
       "      <td>CT</td>\n",
       "      <td>7</td>\n",
       "      <td>884432.0</td>\n",
       "      <td>668266.0</td>\n",
       "      <td>70844.0</td>\n",
       "      <td>1623542.0</td>\n",
       "      <td>0.544755</td>\n",
       "      <td>0.411610</td>\n",
       "      <td>dem</td>\n",
       "      <td>13.314469</td>\n",
       "      <td>Safe Democrat</td>\n",
       "    </tr>\n",
       "    <tr>\n",
       "      <th>6</th>\n",
       "      <td>District of Columbia</td>\n",
       "      <td>DC</td>\n",
       "      <td>3</td>\n",
       "      <td>260223.0</td>\n",
       "      <td>11553.0</td>\n",
       "      <td>8496.0</td>\n",
       "      <td>280272.0</td>\n",
       "      <td>0.928466</td>\n",
       "      <td>0.041221</td>\n",
       "      <td>dem</td>\n",
       "      <td>88.724525</td>\n",
       "      <td>Safe Democrat</td>\n",
       "    </tr>\n",
       "    <tr>\n",
       "      <th>7</th>\n",
       "      <td>Delaware</td>\n",
       "      <td>DE</td>\n",
       "      <td>3</td>\n",
       "      <td>235581.0</td>\n",
       "      <td>185103.0</td>\n",
       "      <td>20851.0</td>\n",
       "      <td>441535.0</td>\n",
       "      <td>0.533550</td>\n",
       "      <td>0.419226</td>\n",
       "      <td>dem</td>\n",
       "      <td>11.432389</td>\n",
       "      <td>Safe Democrat</td>\n",
       "    </tr>\n",
       "    <tr>\n",
       "      <th>8</th>\n",
       "      <td>Florida</td>\n",
       "      <td>FL</td>\n",
       "      <td>30</td>\n",
       "      <td>4485745.0</td>\n",
       "      <td>4605515.0</td>\n",
       "      <td>295490.0</td>\n",
       "      <td>9386750.0</td>\n",
       "      <td>0.477881</td>\n",
       "      <td>0.490640</td>\n",
       "      <td>gop</td>\n",
       "      <td>-1.275947</td>\n",
       "      <td>Toss-Up</td>\n",
       "    </tr>\n",
       "    <tr>\n",
       "      <th>9</th>\n",
       "      <td>Georgia</td>\n",
       "      <td>GA</td>\n",
       "      <td>16</td>\n",
       "      <td>1837300.0</td>\n",
       "      <td>2068623.0</td>\n",
       "      <td>123641.0</td>\n",
       "      <td>4029564.0</td>\n",
       "      <td>0.455955</td>\n",
       "      <td>0.513361</td>\n",
       "      <td>gop</td>\n",
       "      <td>-5.740646</td>\n",
       "      <td>Likely Republican</td>\n",
       "    </tr>\n",
       "    <tr>\n",
       "      <th>10</th>\n",
       "      <td>Hawaii</td>\n",
       "      <td>HI</td>\n",
       "      <td>4</td>\n",
       "      <td>266827.0</td>\n",
       "      <td>128815.0</td>\n",
       "      <td>33183.0</td>\n",
       "      <td>428825.0</td>\n",
       "      <td>0.622228</td>\n",
       "      <td>0.300391</td>\n",
       "      <td>dem</td>\n",
       "      <td>32.183758</td>\n",
       "      <td>Safe Democrat</td>\n",
       "    </tr>\n",
       "    <tr>\n",
       "      <th>11</th>\n",
       "      <td>Idaho</td>\n",
       "      <td>ID</td>\n",
       "      <td>4</td>\n",
       "      <td>189677.0</td>\n",
       "      <td>407199.0</td>\n",
       "      <td>91359.0</td>\n",
       "      <td>688235.0</td>\n",
       "      <td>0.275599</td>\n",
       "      <td>0.591657</td>\n",
       "      <td>gop</td>\n",
       "      <td>-31.605774</td>\n",
       "      <td>Safe Republican</td>\n",
       "    </tr>\n",
       "    <tr>\n",
       "      <th>12</th>\n",
       "      <td>Illinois</td>\n",
       "      <td>IL</td>\n",
       "      <td>19</td>\n",
       "      <td>2977498.0</td>\n",
       "      <td>2118179.0</td>\n",
       "      <td>278603.0</td>\n",
       "      <td>5374280.0</td>\n",
       "      <td>0.554027</td>\n",
       "      <td>0.394133</td>\n",
       "      <td>dem</td>\n",
       "      <td>15.989472</td>\n",
       "      <td>Safe Democrat</td>\n",
       "    </tr>\n",
       "    <tr>\n",
       "      <th>13</th>\n",
       "      <td>Indiana</td>\n",
       "      <td>IN</td>\n",
       "      <td>11</td>\n",
       "      <td>1031953.0</td>\n",
       "      <td>1556220.0</td>\n",
       "      <td>133856.0</td>\n",
       "      <td>2722029.0</td>\n",
       "      <td>0.379112</td>\n",
       "      <td>0.571713</td>\n",
       "      <td>gop</td>\n",
       "      <td>-19.260155</td>\n",
       "      <td>Safe Republican</td>\n",
       "    </tr>\n",
       "    <tr>\n",
       "      <th>14</th>\n",
       "      <td>Iowa</td>\n",
       "      <td>IA</td>\n",
       "      <td>6</td>\n",
       "      <td>650790.0</td>\n",
       "      <td>798923.0</td>\n",
       "      <td>93167.0</td>\n",
       "      <td>1542880.0</td>\n",
       "      <td>0.421802</td>\n",
       "      <td>0.517813</td>\n",
       "      <td>gop</td>\n",
       "      <td>-9.601071</td>\n",
       "      <td>Likely Republican</td>\n",
       "    </tr>\n",
       "    <tr>\n",
       "      <th>15</th>\n",
       "      <td>Kansas</td>\n",
       "      <td>KS</td>\n",
       "      <td>6</td>\n",
       "      <td>414788.0</td>\n",
       "      <td>656009.0</td>\n",
       "      <td>76346.0</td>\n",
       "      <td>1147143.0</td>\n",
       "      <td>0.361584</td>\n",
       "      <td>0.571863</td>\n",
       "      <td>gop</td>\n",
       "      <td>-21.027980</td>\n",
       "      <td>Safe Republican</td>\n",
       "    </tr>\n",
       "    <tr>\n",
       "      <th>16</th>\n",
       "      <td>Kentucky</td>\n",
       "      <td>KY</td>\n",
       "      <td>8</td>\n",
       "      <td>628834.0</td>\n",
       "      <td>1202942.0</td>\n",
       "      <td>90442.0</td>\n",
       "      <td>1922218.0</td>\n",
       "      <td>0.327140</td>\n",
       "      <td>0.625809</td>\n",
       "      <td>gop</td>\n",
       "      <td>-29.866956</td>\n",
       "      <td>Safe Republican</td>\n",
       "    </tr>\n",
       "    <tr>\n",
       "      <th>17</th>\n",
       "      <td>Louisiana</td>\n",
       "      <td>LA</td>\n",
       "      <td>8</td>\n",
       "      <td>779535.0</td>\n",
       "      <td>1178004.0</td>\n",
       "      <td>70192.0</td>\n",
       "      <td>2027731.0</td>\n",
       "      <td>0.384437</td>\n",
       "      <td>0.580947</td>\n",
       "      <td>gop</td>\n",
       "      <td>-19.650979</td>\n",
       "      <td>Safe Republican</td>\n",
       "    </tr>\n",
       "    <tr>\n",
       "      <th>18</th>\n",
       "      <td>Maine</td>\n",
       "      <td>ME</td>\n",
       "      <td>4</td>\n",
       "      <td>354873.0</td>\n",
       "      <td>334838.0</td>\n",
       "      <td>51839.0</td>\n",
       "      <td>741550.0</td>\n",
       "      <td>0.478556</td>\n",
       "      <td>0.451538</td>\n",
       "      <td>dem</td>\n",
       "      <td>2.701773</td>\n",
       "      <td>Likely Democrat</td>\n",
       "    </tr>\n",
       "    <tr>\n",
       "      <th>19</th>\n",
       "      <td>Maryland</td>\n",
       "      <td>MD</td>\n",
       "      <td>10</td>\n",
       "      <td>1497951.0</td>\n",
       "      <td>873646.0</td>\n",
       "      <td>102946.0</td>\n",
       "      <td>2474543.0</td>\n",
       "      <td>0.605345</td>\n",
       "      <td>0.353053</td>\n",
       "      <td>dem</td>\n",
       "      <td>25.229103</td>\n",
       "      <td>Safe Democrat</td>\n",
       "    </tr>\n",
       "    <tr>\n",
       "      <th>20</th>\n",
       "      <td>Massachusetts</td>\n",
       "      <td>MA</td>\n",
       "      <td>11</td>\n",
       "      <td>1964768.0</td>\n",
       "      <td>1083069.0</td>\n",
       "      <td>183694.0</td>\n",
       "      <td>3231531.0</td>\n",
       "      <td>0.607999</td>\n",
       "      <td>0.335157</td>\n",
       "      <td>dem</td>\n",
       "      <td>27.284250</td>\n",
       "      <td>Safe Democrat</td>\n",
       "    </tr>\n",
       "    <tr>\n",
       "      <th>21</th>\n",
       "      <td>Michigan</td>\n",
       "      <td>MI</td>\n",
       "      <td>15</td>\n",
       "      <td>2268193.0</td>\n",
       "      <td>2279805.0</td>\n",
       "      <td>242919.0</td>\n",
       "      <td>4790917.0</td>\n",
       "      <td>0.473436</td>\n",
       "      <td>0.475860</td>\n",
       "      <td>gop</td>\n",
       "      <td>-0.242375</td>\n",
       "      <td>Toss-Up</td>\n",
       "    </tr>\n",
       "    <tr>\n",
       "      <th>22</th>\n",
       "      <td>Minnesota</td>\n",
       "      <td>MN</td>\n",
       "      <td>10</td>\n",
       "      <td>1366676.0</td>\n",
       "      <td>1322891.0</td>\n",
       "      <td>226837.0</td>\n",
       "      <td>2916404.0</td>\n",
       "      <td>0.468617</td>\n",
       "      <td>0.453603</td>\n",
       "      <td>dem</td>\n",
       "      <td>1.501335</td>\n",
       "      <td>Toss-Up</td>\n",
       "    </tr>\n",
       "    <tr>\n",
       "      <th>23</th>\n",
       "      <td>Mississippi</td>\n",
       "      <td>MS</td>\n",
       "      <td>6</td>\n",
       "      <td>462001.0</td>\n",
       "      <td>678457.0</td>\n",
       "      <td>22529.0</td>\n",
       "      <td>1162987.0</td>\n",
       "      <td>0.397254</td>\n",
       "      <td>0.583375</td>\n",
       "      <td>gop</td>\n",
       "      <td>-18.612074</td>\n",
       "      <td>Safe Republican</td>\n",
       "    </tr>\n",
       "    <tr>\n",
       "      <th>24</th>\n",
       "      <td>Missouri</td>\n",
       "      <td>MO</td>\n",
       "      <td>10</td>\n",
       "      <td>1054889.0</td>\n",
       "      <td>1585753.0</td>\n",
       "      <td>134456.0</td>\n",
       "      <td>2775098.0</td>\n",
       "      <td>0.380127</td>\n",
       "      <td>0.571422</td>\n",
       "      <td>gop</td>\n",
       "      <td>-19.129559</td>\n",
       "      <td>Safe Republican</td>\n",
       "    </tr>\n",
       "    <tr>\n",
       "      <th>25</th>\n",
       "      <td>Montana</td>\n",
       "      <td>MT</td>\n",
       "      <td>4</td>\n",
       "      <td>174521.0</td>\n",
       "      <td>274120.0</td>\n",
       "      <td>34933.0</td>\n",
       "      <td>483574.0</td>\n",
       "      <td>0.360898</td>\n",
       "      <td>0.566863</td>\n",
       "      <td>gop</td>\n",
       "      <td>-20.596434</td>\n",
       "      <td>Safe Republican</td>\n",
       "    </tr>\n",
       "    <tr>\n",
       "      <th>26</th>\n",
       "      <td>Nebraska</td>\n",
       "      <td>NE</td>\n",
       "      <td>5</td>\n",
       "      <td>273858.0</td>\n",
       "      <td>485819.0</td>\n",
       "      <td>45961.0</td>\n",
       "      <td>805638.0</td>\n",
       "      <td>0.339927</td>\n",
       "      <td>0.603024</td>\n",
       "      <td>gop</td>\n",
       "      <td>-26.309707</td>\n",
       "      <td>Safe Republican</td>\n",
       "    </tr>\n",
       "    <tr>\n",
       "      <th>27</th>\n",
       "      <td>Nevada</td>\n",
       "      <td>NV</td>\n",
       "      <td>6</td>\n",
       "      <td>537001.0</td>\n",
       "      <td>509703.0</td>\n",
       "      <td>73728.0</td>\n",
       "      <td>1120432.0</td>\n",
       "      <td>0.479280</td>\n",
       "      <td>0.454916</td>\n",
       "      <td>dem</td>\n",
       "      <td>2.436382</td>\n",
       "      <td>Toss-Up</td>\n",
       "    </tr>\n",
       "    <tr>\n",
       "      <th>28</th>\n",
       "      <td>New Hampshire</td>\n",
       "      <td>NH</td>\n",
       "      <td>4</td>\n",
       "      <td>348521.0</td>\n",
       "      <td>345789.0</td>\n",
       "      <td>37243.0</td>\n",
       "      <td>731553.0</td>\n",
       "      <td>0.476413</td>\n",
       "      <td>0.472678</td>\n",
       "      <td>dem</td>\n",
       "      <td>0.373452</td>\n",
       "      <td>Toss-Up</td>\n",
       "    </tr>\n",
       "    <tr>\n",
       "      <th>29</th>\n",
       "      <td>New Jersey</td>\n",
       "      <td>NJ</td>\n",
       "      <td>14</td>\n",
       "      <td>2021756.0</td>\n",
       "      <td>1535513.0</td>\n",
       "      <td>117624.0</td>\n",
       "      <td>3674893.0</td>\n",
       "      <td>0.550154</td>\n",
       "      <td>0.417839</td>\n",
       "      <td>dem</td>\n",
       "      <td>13.231487</td>\n",
       "      <td>Safe Democrat</td>\n",
       "    </tr>\n",
       "    <tr>\n",
       "      <th>30</th>\n",
       "      <td>New Mexico</td>\n",
       "      <td>NM</td>\n",
       "      <td>5</td>\n",
       "      <td>380724.0</td>\n",
       "      <td>315875.0</td>\n",
       "      <td>86528.0</td>\n",
       "      <td>783127.0</td>\n",
       "      <td>0.486159</td>\n",
       "      <td>0.403351</td>\n",
       "      <td>dem</td>\n",
       "      <td>8.280777</td>\n",
       "      <td>Likely Democrat</td>\n",
       "    </tr>\n",
       "    <tr>\n",
       "      <th>31</th>\n",
       "      <td>New York</td>\n",
       "      <td>NY</td>\n",
       "      <td>28</td>\n",
       "      <td>4143874.0</td>\n",
       "      <td>2640570.0</td>\n",
       "      <td>261731.0</td>\n",
       "      <td>7046175.0</td>\n",
       "      <td>0.588103</td>\n",
       "      <td>0.374752</td>\n",
       "      <td>dem</td>\n",
       "      <td>21.335036</td>\n",
       "      <td>Safe Democrat</td>\n",
       "    </tr>\n",
       "    <tr>\n",
       "      <th>32</th>\n",
       "      <td>North Carolina</td>\n",
       "      <td>NC</td>\n",
       "      <td>16</td>\n",
       "      <td>2162074.0</td>\n",
       "      <td>2339603.0</td>\n",
       "      <td>127794.0</td>\n",
       "      <td>4629471.0</td>\n",
       "      <td>0.467024</td>\n",
       "      <td>0.505372</td>\n",
       "      <td>gop</td>\n",
       "      <td>-3.834758</td>\n",
       "      <td>Likely Republican</td>\n",
       "    </tr>\n",
       "    <tr>\n",
       "      <th>33</th>\n",
       "      <td>North Dakota</td>\n",
       "      <td>ND</td>\n",
       "      <td>3</td>\n",
       "      <td>93526.0</td>\n",
       "      <td>216133.0</td>\n",
       "      <td>27309.0</td>\n",
       "      <td>336968.0</td>\n",
       "      <td>0.277552</td>\n",
       "      <td>0.641405</td>\n",
       "      <td>gop</td>\n",
       "      <td>-36.385354</td>\n",
       "      <td>Safe Republican</td>\n",
       "    </tr>\n",
       "    <tr>\n",
       "      <th>34</th>\n",
       "      <td>Ohio</td>\n",
       "      <td>OH</td>\n",
       "      <td>17</td>\n",
       "      <td>2317001.0</td>\n",
       "      <td>2771984.0</td>\n",
       "      <td>236410.0</td>\n",
       "      <td>5325395.0</td>\n",
       "      <td>0.435085</td>\n",
       "      <td>0.520522</td>\n",
       "      <td>gop</td>\n",
       "      <td>-8.543648</td>\n",
       "      <td>Likely Republican</td>\n",
       "    </tr>\n",
       "    <tr>\n",
       "      <th>35</th>\n",
       "      <td>Oklahoma</td>\n",
       "      <td>OK</td>\n",
       "      <td>7</td>\n",
       "      <td>419788.0</td>\n",
       "      <td>947934.0</td>\n",
       "      <td>83334.0</td>\n",
       "      <td>1451056.0</td>\n",
       "      <td>0.289298</td>\n",
       "      <td>0.653272</td>\n",
       "      <td>gop</td>\n",
       "      <td>-36.397355</td>\n",
       "      <td>Safe Republican</td>\n",
       "    </tr>\n",
       "    <tr>\n",
       "      <th>36</th>\n",
       "      <td>Oregon</td>\n",
       "      <td>OR</td>\n",
       "      <td>8</td>\n",
       "      <td>934631.0</td>\n",
       "      <td>742506.0</td>\n",
       "      <td>131438.0</td>\n",
       "      <td>1808575.0</td>\n",
       "      <td>0.516778</td>\n",
       "      <td>0.410548</td>\n",
       "      <td>dem</td>\n",
       "      <td>10.623004</td>\n",
       "      <td>Safe Democrat</td>\n",
       "    </tr>\n",
       "    <tr>\n",
       "      <th>37</th>\n",
       "      <td>Pennsylvania</td>\n",
       "      <td>PA</td>\n",
       "      <td>19</td>\n",
       "      <td>2844705.0</td>\n",
       "      <td>2912941.0</td>\n",
       "      <td>212461.0</td>\n",
       "      <td>5970107.0</td>\n",
       "      <td>0.476491</td>\n",
       "      <td>0.487921</td>\n",
       "      <td>gop</td>\n",
       "      <td>-1.142961</td>\n",
       "      <td>Toss-Up</td>\n",
       "    </tr>\n",
       "    <tr>\n",
       "      <th>38</th>\n",
       "      <td>Rhode Island</td>\n",
       "      <td>RI</td>\n",
       "      <td>4</td>\n",
       "      <td>249902.0</td>\n",
       "      <td>179421.0</td>\n",
       "      <td>20798.0</td>\n",
       "      <td>450121.0</td>\n",
       "      <td>0.555188</td>\n",
       "      <td>0.398606</td>\n",
       "      <td>dem</td>\n",
       "      <td>15.658234</td>\n",
       "      <td>Safe Democrat</td>\n",
       "    </tr>\n",
       "    <tr>\n",
       "      <th>39</th>\n",
       "      <td>South Carolina</td>\n",
       "      <td>SC</td>\n",
       "      <td>9</td>\n",
       "      <td>849469.0</td>\n",
       "      <td>1143611.0</td>\n",
       "      <td>91364.0</td>\n",
       "      <td>2084444.0</td>\n",
       "      <td>0.407528</td>\n",
       "      <td>0.548641</td>\n",
       "      <td>gop</td>\n",
       "      <td>-14.111293</td>\n",
       "      <td>Safe Republican</td>\n",
       "    </tr>\n",
       "    <tr>\n",
       "      <th>40</th>\n",
       "      <td>South Dakota</td>\n",
       "      <td>SD</td>\n",
       "      <td>3</td>\n",
       "      <td>114938.0</td>\n",
       "      <td>227460.0</td>\n",
       "      <td>24753.0</td>\n",
       "      <td>367151.0</td>\n",
       "      <td>0.313054</td>\n",
       "      <td>0.619527</td>\n",
       "      <td>gop</td>\n",
       "      <td>-30.647336</td>\n",
       "      <td>Safe Republican</td>\n",
       "    </tr>\n",
       "    <tr>\n",
       "      <th>41</th>\n",
       "      <td>Tennessee</td>\n",
       "      <td>TN</td>\n",
       "      <td>11</td>\n",
       "      <td>867110.0</td>\n",
       "      <td>1517402.0</td>\n",
       "      <td>100179.0</td>\n",
       "      <td>2484691.0</td>\n",
       "      <td>0.348981</td>\n",
       "      <td>0.610700</td>\n",
       "      <td>gop</td>\n",
       "      <td>-26.171947</td>\n",
       "      <td>Safe Republican</td>\n",
       "    </tr>\n",
       "    <tr>\n",
       "      <th>42</th>\n",
       "      <td>Texas</td>\n",
       "      <td>TX</td>\n",
       "      <td>40</td>\n",
       "      <td>3867713.0</td>\n",
       "      <td>4681449.0</td>\n",
       "      <td>353825.0</td>\n",
       "      <td>8902987.0</td>\n",
       "      <td>0.434429</td>\n",
       "      <td>0.525829</td>\n",
       "      <td>gop</td>\n",
       "      <td>-9.140034</td>\n",
       "      <td>Likely Republican</td>\n",
       "    </tr>\n",
       "    <tr>\n",
       "      <th>43</th>\n",
       "      <td>Utah</td>\n",
       "      <td>UT</td>\n",
       "      <td>6</td>\n",
       "      <td>274188.0</td>\n",
       "      <td>452086.0</td>\n",
       "      <td>258683.0</td>\n",
       "      <td>984957.0</td>\n",
       "      <td>0.278376</td>\n",
       "      <td>0.458991</td>\n",
       "      <td>gop</td>\n",
       "      <td>-18.061499</td>\n",
       "      <td>Safe Republican</td>\n",
       "    </tr>\n",
       "    <tr>\n",
       "      <th>44</th>\n",
       "      <td>Vermont</td>\n",
       "      <td>VT</td>\n",
       "      <td>3</td>\n",
       "      <td>178179.0</td>\n",
       "      <td>95053.0</td>\n",
       "      <td>18181.0</td>\n",
       "      <td>291413.0</td>\n",
       "      <td>0.611431</td>\n",
       "      <td>0.326180</td>\n",
       "      <td>dem</td>\n",
       "      <td>28.525152</td>\n",
       "      <td>Safe Democrat</td>\n",
       "    </tr>\n",
       "    <tr>\n",
       "      <th>45</th>\n",
       "      <td>Virginia</td>\n",
       "      <td>VA</td>\n",
       "      <td>13</td>\n",
       "      <td>1916845.0</td>\n",
       "      <td>1731156.0</td>\n",
       "      <td>196786.0</td>\n",
       "      <td>3844787.0</td>\n",
       "      <td>0.498557</td>\n",
       "      <td>0.450261</td>\n",
       "      <td>dem</td>\n",
       "      <td>4.829630</td>\n",
       "      <td>Likely Democrat</td>\n",
       "    </tr>\n",
       "    <tr>\n",
       "      <th>46</th>\n",
       "      <td>Washington</td>\n",
       "      <td>WA</td>\n",
       "      <td>12</td>\n",
       "      <td>1610524.0</td>\n",
       "      <td>1129120.0</td>\n",
       "      <td>218298.0</td>\n",
       "      <td>2957942.0</td>\n",
       "      <td>0.544475</td>\n",
       "      <td>0.381725</td>\n",
       "      <td>dem</td>\n",
       "      <td>16.274964</td>\n",
       "      <td>Safe Democrat</td>\n",
       "    </tr>\n",
       "    <tr>\n",
       "      <th>47</th>\n",
       "      <td>West Virginia</td>\n",
       "      <td>WV</td>\n",
       "      <td>4</td>\n",
       "      <td>187457.0</td>\n",
       "      <td>486198.0</td>\n",
       "      <td>34571.0</td>\n",
       "      <td>708226.0</td>\n",
       "      <td>0.264685</td>\n",
       "      <td>0.686501</td>\n",
       "      <td>gop</td>\n",
       "      <td>-42.181592</td>\n",
       "      <td>Safe Republican</td>\n",
       "    </tr>\n",
       "    <tr>\n",
       "      <th>48</th>\n",
       "      <td>Wisconsin</td>\n",
       "      <td>WI</td>\n",
       "      <td>10</td>\n",
       "      <td>1380823.0</td>\n",
       "      <td>1403694.0</td>\n",
       "      <td>152809.0</td>\n",
       "      <td>2937326.0</td>\n",
       "      <td>0.470095</td>\n",
       "      <td>0.477882</td>\n",
       "      <td>gop</td>\n",
       "      <td>-0.778633</td>\n",
       "      <td>Toss-Up</td>\n",
       "    </tr>\n",
       "    <tr>\n",
       "      <th>49</th>\n",
       "      <td>Wyoming</td>\n",
       "      <td>WY</td>\n",
       "      <td>3</td>\n",
       "      <td>55949.0</td>\n",
       "      <td>174248.0</td>\n",
       "      <td>18545.0</td>\n",
       "      <td>248742.0</td>\n",
       "      <td>0.224928</td>\n",
       "      <td>0.700517</td>\n",
       "      <td>gop</td>\n",
       "      <td>-47.558916</td>\n",
       "      <td>Safe Republican</td>\n",
       "    </tr>\n",
       "  </tbody>\n",
       "</table>\n",
       "</div>"
      ],
      "text/plain": [
       "                   state state_code  ElectoralVotes2024  Votes_dem  Votes_gop  \\\n",
       "0                Alabama         AL                   9   718084.0  1306925.0   \n",
       "1                Arizona         AZ                  11   936250.0  1021154.0   \n",
       "2               Arkansas         AR                   6   378729.0   677904.0   \n",
       "3             California         CA                  54  7362490.0  3916209.0   \n",
       "4               Colorado         CO                  10  1212209.0  1137455.0   \n",
       "5            Connecticut         CT                   7   884432.0   668266.0   \n",
       "6   District of Columbia         DC                   3   260223.0    11553.0   \n",
       "7               Delaware         DE                   3   235581.0   185103.0   \n",
       "8                Florida         FL                  30  4485745.0  4605515.0   \n",
       "9                Georgia         GA                  16  1837300.0  2068623.0   \n",
       "10                Hawaii         HI                   4   266827.0   128815.0   \n",
       "11                 Idaho         ID                   4   189677.0   407199.0   \n",
       "12              Illinois         IL                  19  2977498.0  2118179.0   \n",
       "13               Indiana         IN                  11  1031953.0  1556220.0   \n",
       "14                  Iowa         IA                   6   650790.0   798923.0   \n",
       "15                Kansas         KS                   6   414788.0   656009.0   \n",
       "16              Kentucky         KY                   8   628834.0  1202942.0   \n",
       "17             Louisiana         LA                   8   779535.0  1178004.0   \n",
       "18                 Maine         ME                   4   354873.0   334838.0   \n",
       "19              Maryland         MD                  10  1497951.0   873646.0   \n",
       "20         Massachusetts         MA                  11  1964768.0  1083069.0   \n",
       "21              Michigan         MI                  15  2268193.0  2279805.0   \n",
       "22             Minnesota         MN                  10  1366676.0  1322891.0   \n",
       "23           Mississippi         MS                   6   462001.0   678457.0   \n",
       "24              Missouri         MO                  10  1054889.0  1585753.0   \n",
       "25               Montana         MT                   4   174521.0   274120.0   \n",
       "26              Nebraska         NE                   5   273858.0   485819.0   \n",
       "27                Nevada         NV                   6   537001.0   509703.0   \n",
       "28         New Hampshire         NH                   4   348521.0   345789.0   \n",
       "29            New Jersey         NJ                  14  2021756.0  1535513.0   \n",
       "30            New Mexico         NM                   5   380724.0   315875.0   \n",
       "31              New York         NY                  28  4143874.0  2640570.0   \n",
       "32        North Carolina         NC                  16  2162074.0  2339603.0   \n",
       "33          North Dakota         ND                   3    93526.0   216133.0   \n",
       "34                  Ohio         OH                  17  2317001.0  2771984.0   \n",
       "35              Oklahoma         OK                   7   419788.0   947934.0   \n",
       "36                Oregon         OR                   8   934631.0   742506.0   \n",
       "37          Pennsylvania         PA                  19  2844705.0  2912941.0   \n",
       "38          Rhode Island         RI                   4   249902.0   179421.0   \n",
       "39        South Carolina         SC                   9   849469.0  1143611.0   \n",
       "40          South Dakota         SD                   3   114938.0   227460.0   \n",
       "41             Tennessee         TN                  11   867110.0  1517402.0   \n",
       "42                 Texas         TX                  40  3867713.0  4681449.0   \n",
       "43                  Utah         UT                   6   274188.0   452086.0   \n",
       "44               Vermont         VT                   3   178179.0    95053.0   \n",
       "45              Virginia         VA                  13  1916845.0  1731156.0   \n",
       "46            Washington         WA                  12  1610524.0  1129120.0   \n",
       "47         West Virginia         WV                   4   187457.0   486198.0   \n",
       "48             Wisconsin         WI                  10  1380823.0  1403694.0   \n",
       "49               Wyoming         WY                   3    55949.0   174248.0   \n",
       "\n",
       "    Votes_other  Votes_total  Per_dem_2016  Per_gop_2016 Winner  Difference  \\\n",
       "0       53156.0    2078165.0      0.345538      0.628884    gop  -28.334661   \n",
       "1      105406.0    2062810.0      0.453871      0.495031    gop   -4.115939   \n",
       "2       51982.0    1108615.0      0.341624      0.611487    gop  -26.986375   \n",
       "3      675618.0   11954317.0      0.615885      0.327598    dem   28.828757   \n",
       "4      214521.0    2564185.0      0.472746      0.443593    dem    2.915312   \n",
       "5       70844.0    1623542.0      0.544755      0.411610    dem   13.314469   \n",
       "6        8496.0     280272.0      0.928466      0.041221    dem   88.724525   \n",
       "7       20851.0     441535.0      0.533550      0.419226    dem   11.432389   \n",
       "8      295490.0    9386750.0      0.477881      0.490640    gop   -1.275947   \n",
       "9      123641.0    4029564.0      0.455955      0.513361    gop   -5.740646   \n",
       "10      33183.0     428825.0      0.622228      0.300391    dem   32.183758   \n",
       "11      91359.0     688235.0      0.275599      0.591657    gop  -31.605774   \n",
       "12     278603.0    5374280.0      0.554027      0.394133    dem   15.989472   \n",
       "13     133856.0    2722029.0      0.379112      0.571713    gop  -19.260155   \n",
       "14      93167.0    1542880.0      0.421802      0.517813    gop   -9.601071   \n",
       "15      76346.0    1147143.0      0.361584      0.571863    gop  -21.027980   \n",
       "16      90442.0    1922218.0      0.327140      0.625809    gop  -29.866956   \n",
       "17      70192.0    2027731.0      0.384437      0.580947    gop  -19.650979   \n",
       "18      51839.0     741550.0      0.478556      0.451538    dem    2.701773   \n",
       "19     102946.0    2474543.0      0.605345      0.353053    dem   25.229103   \n",
       "20     183694.0    3231531.0      0.607999      0.335157    dem   27.284250   \n",
       "21     242919.0    4790917.0      0.473436      0.475860    gop   -0.242375   \n",
       "22     226837.0    2916404.0      0.468617      0.453603    dem    1.501335   \n",
       "23      22529.0    1162987.0      0.397254      0.583375    gop  -18.612074   \n",
       "24     134456.0    2775098.0      0.380127      0.571422    gop  -19.129559   \n",
       "25      34933.0     483574.0      0.360898      0.566863    gop  -20.596434   \n",
       "26      45961.0     805638.0      0.339927      0.603024    gop  -26.309707   \n",
       "27      73728.0    1120432.0      0.479280      0.454916    dem    2.436382   \n",
       "28      37243.0     731553.0      0.476413      0.472678    dem    0.373452   \n",
       "29     117624.0    3674893.0      0.550154      0.417839    dem   13.231487   \n",
       "30      86528.0     783127.0      0.486159      0.403351    dem    8.280777   \n",
       "31     261731.0    7046175.0      0.588103      0.374752    dem   21.335036   \n",
       "32     127794.0    4629471.0      0.467024      0.505372    gop   -3.834758   \n",
       "33      27309.0     336968.0      0.277552      0.641405    gop  -36.385354   \n",
       "34     236410.0    5325395.0      0.435085      0.520522    gop   -8.543648   \n",
       "35      83334.0    1451056.0      0.289298      0.653272    gop  -36.397355   \n",
       "36     131438.0    1808575.0      0.516778      0.410548    dem   10.623004   \n",
       "37     212461.0    5970107.0      0.476491      0.487921    gop   -1.142961   \n",
       "38      20798.0     450121.0      0.555188      0.398606    dem   15.658234   \n",
       "39      91364.0    2084444.0      0.407528      0.548641    gop  -14.111293   \n",
       "40      24753.0     367151.0      0.313054      0.619527    gop  -30.647336   \n",
       "41     100179.0    2484691.0      0.348981      0.610700    gop  -26.171947   \n",
       "42     353825.0    8902987.0      0.434429      0.525829    gop   -9.140034   \n",
       "43     258683.0     984957.0      0.278376      0.458991    gop  -18.061499   \n",
       "44      18181.0     291413.0      0.611431      0.326180    dem   28.525152   \n",
       "45     196786.0    3844787.0      0.498557      0.450261    dem    4.829630   \n",
       "46     218298.0    2957942.0      0.544475      0.381725    dem   16.274964   \n",
       "47      34571.0     708226.0      0.264685      0.686501    gop  -42.181592   \n",
       "48     152809.0    2937326.0      0.470095      0.477882    gop   -0.778633   \n",
       "49      18545.0     248742.0      0.224928      0.700517    gop  -47.558916   \n",
       "\n",
       "               Status  \n",
       "0     Safe Republican  \n",
       "1   Likely Republican  \n",
       "2     Safe Republican  \n",
       "3       Safe Democrat  \n",
       "4     Likely Democrat  \n",
       "5       Safe Democrat  \n",
       "6       Safe Democrat  \n",
       "7       Safe Democrat  \n",
       "8             Toss-Up  \n",
       "9   Likely Republican  \n",
       "10      Safe Democrat  \n",
       "11    Safe Republican  \n",
       "12      Safe Democrat  \n",
       "13    Safe Republican  \n",
       "14  Likely Republican  \n",
       "15    Safe Republican  \n",
       "16    Safe Republican  \n",
       "17    Safe Republican  \n",
       "18    Likely Democrat  \n",
       "19      Safe Democrat  \n",
       "20      Safe Democrat  \n",
       "21            Toss-Up  \n",
       "22            Toss-Up  \n",
       "23    Safe Republican  \n",
       "24    Safe Republican  \n",
       "25    Safe Republican  \n",
       "26    Safe Republican  \n",
       "27            Toss-Up  \n",
       "28            Toss-Up  \n",
       "29      Safe Democrat  \n",
       "30    Likely Democrat  \n",
       "31      Safe Democrat  \n",
       "32  Likely Republican  \n",
       "33    Safe Republican  \n",
       "34  Likely Republican  \n",
       "35    Safe Republican  \n",
       "36      Safe Democrat  \n",
       "37            Toss-Up  \n",
       "38      Safe Democrat  \n",
       "39    Safe Republican  \n",
       "40    Safe Republican  \n",
       "41    Safe Republican  \n",
       "42  Likely Republican  \n",
       "43    Safe Republican  \n",
       "44      Safe Democrat  \n",
       "45    Likely Democrat  \n",
       "46      Safe Democrat  \n",
       "47    Safe Republican  \n",
       "48            Toss-Up  \n",
       "49    Safe Republican  "
      ]
     },
     "execution_count": 779,
     "metadata": {},
     "output_type": "execute_result"
    }
   ],
   "source": [
    "# Cargar datos electorales reales\n",
    "df_actual = pd.DataFrame({'Votes_dem': data_2016['votes_dem'], \n",
    "                            'Votes_gop': data_2016['total_votes'] - data_2016['votes_dem'] - data_2016['votes_others'], \n",
    "                            'Votes_other': data_2016['votes_others'],\n",
    "                            'Votes_total': data_2016['total_votes'], \n",
    "                            'state': state_names,\n",
    "                            'county': county_names,\n",
    "                            'fips': fips_codes})\n",
    "df_actual_state = df_actual.groupby('state').agg(Votes_dem=(f'Votes_dem', 'sum'), \n",
    "                                                    Votes_gop=(f'Votes_gop', 'sum'),\n",
    "                                                    Votes_other=(f'Votes_other', 'sum'),\n",
    "                                                    Votes_total=(f'Votes_total', 'sum'))\n",
    "\n",
    "df_actual_state[\"Per_dem_2016\"] = df_actual_state[\"Votes_dem\"] / df_actual_state[\"Votes_total\"]\n",
    "df_actual_state[\"Per_gop_2016\"] = df_actual_state[\"Votes_gop\"] / df_actual_state[\"Votes_total\"]\n",
    "\n",
    "# Añadir la columna \"Winner\" basado en los porcentajes predichos de Biden y Trump\n",
    "df_actual_state[\"Winner\"] = np.where(df_actual_state[\"Per_dem_2016\"] < df_actual_state[\"Per_gop_2016\"], 'gop', 'dem')\n",
    "\n",
    "\n",
    "full_df_actual_state = pd.merge(seats_data, df_actual_state, how='inner', on=[\"state\"])\n",
    "\n",
    "\n",
    "\n",
    "# Añadir diferencia entre Biden y Trump\n",
    "full_df_actual_state['Difference'] = (full_df_actual_state[\"Per_dem_2016\"] - full_df_actual_state[\"Per_gop_2016\"]) * 100\n",
    "\n",
    "\n",
    "# Definir las condiciones y los valores a asignar\n",
    "conditions = [\n",
    "    full_df_actual_state[\"Difference\"] > 10,\n",
    "    full_df_actual_state[\"Difference\"].between(2.5, 10),\n",
    "    full_df_actual_state[\"Difference\"].between(-2.5, 2.5),\n",
    "    full_df_actual_state[\"Difference\"].between(-10, -2.5),\n",
    "    full_df_actual_state[\"Difference\"] < -10\n",
    "]\n",
    "\n",
    "choices = [\n",
    "    \"Safe Democrat\",\n",
    "    \"Likely Democrat\",\n",
    "    \"Toss-Up\",\n",
    "    \"Likely Republican\",\n",
    "    \"Safe Republican\"\n",
    "]\n",
    "\n",
    "# Usar np.select para asignar el \"Status\" basado en las condiciones, con un valor por defecto \"Unknown\"\n",
    "full_df_actual_state[\"Status\"] = np.select(conditions, choices, default=\"Unknown\")\n",
    "\n",
    "full_df_actual_state_2016 = full_df_actual_state.copy()\n",
    "full_df_actual_state_2016"
   ]
  },
  {
   "cell_type": "code",
   "execution_count": 780,
   "metadata": {},
   "outputs": [],
   "source": [
    "# columns_to_drop = [\"votes_dem\", \"total_votes\", \"votes_others\", \"per_votes_others\", \"winner\"]  # Nombres de las columnas a eliminar\n",
    "\n",
    "# data_2016 = data_2016.drop(columns=columns_to_drop)"
   ]
  },
  {
   "cell_type": "markdown",
   "metadata": {},
   "source": [
    "### 2020"
   ]
  },
  {
   "cell_type": "code",
   "execution_count": 781,
   "metadata": {},
   "outputs": [],
   "source": [
    "# Cargar datos\n",
    "data_2020 = read_csv(f\"data/final_data_{2020}.csv\")"
   ]
  },
  {
   "cell_type": "code",
   "execution_count": 782,
   "metadata": {},
   "outputs": [
    {
     "data": {
      "text/html": [
       "<div>\n",
       "<style scoped>\n",
       "    .dataframe tbody tr th:only-of-type {\n",
       "        vertical-align: middle;\n",
       "    }\n",
       "\n",
       "    .dataframe tbody tr th {\n",
       "        vertical-align: top;\n",
       "    }\n",
       "\n",
       "    .dataframe thead th {\n",
       "        text-align: right;\n",
       "    }\n",
       "</style>\n",
       "<table border=\"1\" class=\"dataframe\">\n",
       "  <thead>\n",
       "    <tr style=\"text-align: right;\">\n",
       "      <th></th>\n",
       "      <th>state</th>\n",
       "      <th>state_code</th>\n",
       "      <th>ElectoralVotes2024</th>\n",
       "      <th>Votes_dem</th>\n",
       "      <th>Votes_gop</th>\n",
       "      <th>Votes_other</th>\n",
       "      <th>Votes_total</th>\n",
       "      <th>Per_dem_2020</th>\n",
       "      <th>Per_gop_2020</th>\n",
       "      <th>Winner</th>\n",
       "      <th>Difference</th>\n",
       "      <th>Status</th>\n",
       "    </tr>\n",
       "  </thead>\n",
       "  <tbody>\n",
       "    <tr>\n",
       "      <th>0</th>\n",
       "      <td>Alabama</td>\n",
       "      <td>AL</td>\n",
       "      <td>9</td>\n",
       "      <td>849648.0</td>\n",
       "      <td>1441168.0</td>\n",
       "      <td>32488.0</td>\n",
       "      <td>2323304.0</td>\n",
       "      <td>0.365707</td>\n",
       "      <td>0.620310</td>\n",
       "      <td>gop</td>\n",
       "      <td>-25.460293</td>\n",
       "      <td>Safe Republican</td>\n",
       "    </tr>\n",
       "    <tr>\n",
       "      <th>1</th>\n",
       "      <td>Arizona</td>\n",
       "      <td>AZ</td>\n",
       "      <td>11</td>\n",
       "      <td>1672143.0</td>\n",
       "      <td>1661686.0</td>\n",
       "      <td>53497.0</td>\n",
       "      <td>3387326.0</td>\n",
       "      <td>0.493647</td>\n",
       "      <td>0.490560</td>\n",
       "      <td>dem</td>\n",
       "      <td>0.308710</td>\n",
       "      <td>Toss-Up</td>\n",
       "    </tr>\n",
       "    <tr>\n",
       "      <th>2</th>\n",
       "      <td>Arkansas</td>\n",
       "      <td>AR</td>\n",
       "      <td>6</td>\n",
       "      <td>423932.0</td>\n",
       "      <td>760647.0</td>\n",
       "      <td>34490.0</td>\n",
       "      <td>1219069.0</td>\n",
       "      <td>0.347751</td>\n",
       "      <td>0.623957</td>\n",
       "      <td>gop</td>\n",
       "      <td>-27.620668</td>\n",
       "      <td>Safe Republican</td>\n",
       "    </tr>\n",
       "    <tr>\n",
       "      <th>3</th>\n",
       "      <td>California</td>\n",
       "      <td>CA</td>\n",
       "      <td>54</td>\n",
       "      <td>11109764.0</td>\n",
       "      <td>6005961.0</td>\n",
       "      <td>380181.0</td>\n",
       "      <td>17495906.0</td>\n",
       "      <td>0.634992</td>\n",
       "      <td>0.343278</td>\n",
       "      <td>dem</td>\n",
       "      <td>29.171413</td>\n",
       "      <td>Safe Democrat</td>\n",
       "    </tr>\n",
       "    <tr>\n",
       "      <th>4</th>\n",
       "      <td>Colorado</td>\n",
       "      <td>CO</td>\n",
       "      <td>10</td>\n",
       "      <td>1804352.0</td>\n",
       "      <td>1364607.0</td>\n",
       "      <td>87994.0</td>\n",
       "      <td>3256953.0</td>\n",
       "      <td>0.554000</td>\n",
       "      <td>0.418983</td>\n",
       "      <td>dem</td>\n",
       "      <td>13.501730</td>\n",
       "      <td>Safe Democrat</td>\n",
       "    </tr>\n",
       "    <tr>\n",
       "      <th>5</th>\n",
       "      <td>Connecticut</td>\n",
       "      <td>CT</td>\n",
       "      <td>7</td>\n",
       "      <td>1080680.0</td>\n",
       "      <td>715291.0</td>\n",
       "      <td>28309.0</td>\n",
       "      <td>1824280.0</td>\n",
       "      <td>0.592387</td>\n",
       "      <td>0.392095</td>\n",
       "      <td>dem</td>\n",
       "      <td>20.029217</td>\n",
       "      <td>Safe Democrat</td>\n",
       "    </tr>\n",
       "    <tr>\n",
       "      <th>6</th>\n",
       "      <td>District of Columbia</td>\n",
       "      <td>DC</td>\n",
       "      <td>3</td>\n",
       "      <td>317323.0</td>\n",
       "      <td>18586.0</td>\n",
       "      <td>8447.0</td>\n",
       "      <td>344356.0</td>\n",
       "      <td>0.921497</td>\n",
       "      <td>0.053973</td>\n",
       "      <td>dem</td>\n",
       "      <td>86.752373</td>\n",
       "      <td>Safe Democrat</td>\n",
       "    </tr>\n",
       "    <tr>\n",
       "      <th>7</th>\n",
       "      <td>Delaware</td>\n",
       "      <td>DE</td>\n",
       "      <td>3</td>\n",
       "      <td>296268.0</td>\n",
       "      <td>200603.0</td>\n",
       "      <td>7139.0</td>\n",
       "      <td>504010.0</td>\n",
       "      <td>0.587822</td>\n",
       "      <td>0.398014</td>\n",
       "      <td>dem</td>\n",
       "      <td>18.980774</td>\n",
       "      <td>Safe Democrat</td>\n",
       "    </tr>\n",
       "    <tr>\n",
       "      <th>8</th>\n",
       "      <td>Florida</td>\n",
       "      <td>FL</td>\n",
       "      <td>30</td>\n",
       "      <td>5297045.0</td>\n",
       "      <td>5668731.0</td>\n",
       "      <td>101680.0</td>\n",
       "      <td>11067456.0</td>\n",
       "      <td>0.478615</td>\n",
       "      <td>0.512198</td>\n",
       "      <td>gop</td>\n",
       "      <td>-3.358369</td>\n",
       "      <td>Likely Republican</td>\n",
       "    </tr>\n",
       "    <tr>\n",
       "      <th>9</th>\n",
       "      <td>Georgia</td>\n",
       "      <td>GA</td>\n",
       "      <td>16</td>\n",
       "      <td>2473633.0</td>\n",
       "      <td>2461854.0</td>\n",
       "      <td>62229.0</td>\n",
       "      <td>4997716.0</td>\n",
       "      <td>0.494953</td>\n",
       "      <td>0.492596</td>\n",
       "      <td>dem</td>\n",
       "      <td>0.235688</td>\n",
       "      <td>Toss-Up</td>\n",
       "    </tr>\n",
       "    <tr>\n",
       "      <th>10</th>\n",
       "      <td>Hawaii</td>\n",
       "      <td>HI</td>\n",
       "      <td>4</td>\n",
       "      <td>366130.0</td>\n",
       "      <td>196864.0</td>\n",
       "      <td>11475.0</td>\n",
       "      <td>574469.0</td>\n",
       "      <td>0.637336</td>\n",
       "      <td>0.342689</td>\n",
       "      <td>dem</td>\n",
       "      <td>29.464775</td>\n",
       "      <td>Safe Democrat</td>\n",
       "    </tr>\n",
       "    <tr>\n",
       "      <th>11</th>\n",
       "      <td>Idaho</td>\n",
       "      <td>ID</td>\n",
       "      <td>4</td>\n",
       "      <td>287021.0</td>\n",
       "      <td>554118.0</td>\n",
       "      <td>26966.0</td>\n",
       "      <td>868105.0</td>\n",
       "      <td>0.330629</td>\n",
       "      <td>0.638308</td>\n",
       "      <td>gop</td>\n",
       "      <td>-30.767822</td>\n",
       "      <td>Safe Republican</td>\n",
       "    </tr>\n",
       "    <tr>\n",
       "      <th>12</th>\n",
       "      <td>Illinois</td>\n",
       "      <td>IL</td>\n",
       "      <td>19</td>\n",
       "      <td>3471915.0</td>\n",
       "      <td>2446891.0</td>\n",
       "      <td>120044.0</td>\n",
       "      <td>6038850.0</td>\n",
       "      <td>0.574930</td>\n",
       "      <td>0.405192</td>\n",
       "      <td>dem</td>\n",
       "      <td>16.973828</td>\n",
       "      <td>Safe Democrat</td>\n",
       "    </tr>\n",
       "    <tr>\n",
       "      <th>13</th>\n",
       "      <td>Indiana</td>\n",
       "      <td>IN</td>\n",
       "      <td>11</td>\n",
       "      <td>1242495.0</td>\n",
       "      <td>1729852.0</td>\n",
       "      <td>60851.0</td>\n",
       "      <td>3033198.0</td>\n",
       "      <td>0.409632</td>\n",
       "      <td>0.570306</td>\n",
       "      <td>gop</td>\n",
       "      <td>-16.067431</td>\n",
       "      <td>Safe Republican</td>\n",
       "    </tr>\n",
       "    <tr>\n",
       "      <th>14</th>\n",
       "      <td>Iowa</td>\n",
       "      <td>IA</td>\n",
       "      <td>6</td>\n",
       "      <td>759061.0</td>\n",
       "      <td>897672.0</td>\n",
       "      <td>34138.0</td>\n",
       "      <td>1690871.0</td>\n",
       "      <td>0.448917</td>\n",
       "      <td>0.530893</td>\n",
       "      <td>gop</td>\n",
       "      <td>-8.197609</td>\n",
       "      <td>Likely Republican</td>\n",
       "    </tr>\n",
       "    <tr>\n",
       "      <th>15</th>\n",
       "      <td>Kansas</td>\n",
       "      <td>KS</td>\n",
       "      <td>6</td>\n",
       "      <td>558669.0</td>\n",
       "      <td>758100.0</td>\n",
       "      <td>32798.0</td>\n",
       "      <td>1349567.0</td>\n",
       "      <td>0.413962</td>\n",
       "      <td>0.561736</td>\n",
       "      <td>gop</td>\n",
       "      <td>-14.777406</td>\n",
       "      <td>Safe Republican</td>\n",
       "    </tr>\n",
       "    <tr>\n",
       "      <th>16</th>\n",
       "      <td>Kentucky</td>\n",
       "      <td>KY</td>\n",
       "      <td>8</td>\n",
       "      <td>772474.0</td>\n",
       "      <td>1326646.0</td>\n",
       "      <td>37648.0</td>\n",
       "      <td>2136768.0</td>\n",
       "      <td>0.361515</td>\n",
       "      <td>0.620866</td>\n",
       "      <td>gop</td>\n",
       "      <td>-25.935057</td>\n",
       "      <td>Safe Republican</td>\n",
       "    </tr>\n",
       "    <tr>\n",
       "      <th>17</th>\n",
       "      <td>Louisiana</td>\n",
       "      <td>LA</td>\n",
       "      <td>8</td>\n",
       "      <td>856034.0</td>\n",
       "      <td>1255776.0</td>\n",
       "      <td>36252.0</td>\n",
       "      <td>2148062.0</td>\n",
       "      <td>0.398515</td>\n",
       "      <td>0.584609</td>\n",
       "      <td>gop</td>\n",
       "      <td>-18.609426</td>\n",
       "      <td>Safe Republican</td>\n",
       "    </tr>\n",
       "    <tr>\n",
       "      <th>18</th>\n",
       "      <td>Maine</td>\n",
       "      <td>ME</td>\n",
       "      <td>4</td>\n",
       "      <td>430473.0</td>\n",
       "      <td>359899.0</td>\n",
       "      <td>23368.0</td>\n",
       "      <td>813740.0</td>\n",
       "      <td>0.529006</td>\n",
       "      <td>0.442278</td>\n",
       "      <td>dem</td>\n",
       "      <td>8.672795</td>\n",
       "      <td>Likely Democrat</td>\n",
       "    </tr>\n",
       "    <tr>\n",
       "      <th>19</th>\n",
       "      <td>Maryland</td>\n",
       "      <td>MD</td>\n",
       "      <td>10</td>\n",
       "      <td>1985023.0</td>\n",
       "      <td>976414.0</td>\n",
       "      <td>75593.0</td>\n",
       "      <td>3037030.0</td>\n",
       "      <td>0.653607</td>\n",
       "      <td>0.321503</td>\n",
       "      <td>dem</td>\n",
       "      <td>33.210373</td>\n",
       "      <td>Safe Democrat</td>\n",
       "    </tr>\n",
       "    <tr>\n",
       "      <th>20</th>\n",
       "      <td>Massachusetts</td>\n",
       "      <td>MA</td>\n",
       "      <td>11</td>\n",
       "      <td>2382202.0</td>\n",
       "      <td>1167202.0</td>\n",
       "      <td>81998.0</td>\n",
       "      <td>3631402.0</td>\n",
       "      <td>0.656001</td>\n",
       "      <td>0.321419</td>\n",
       "      <td>dem</td>\n",
       "      <td>33.458152</td>\n",
       "      <td>Safe Democrat</td>\n",
       "    </tr>\n",
       "    <tr>\n",
       "      <th>21</th>\n",
       "      <td>Michigan</td>\n",
       "      <td>MI</td>\n",
       "      <td>15</td>\n",
       "      <td>2804040.0</td>\n",
       "      <td>2649852.0</td>\n",
       "      <td>85410.0</td>\n",
       "      <td>5539302.0</td>\n",
       "      <td>0.506208</td>\n",
       "      <td>0.478373</td>\n",
       "      <td>dem</td>\n",
       "      <td>2.783528</td>\n",
       "      <td>Likely Democrat</td>\n",
       "    </tr>\n",
       "    <tr>\n",
       "      <th>22</th>\n",
       "      <td>Minnesota</td>\n",
       "      <td>MN</td>\n",
       "      <td>10</td>\n",
       "      <td>1717077.0</td>\n",
       "      <td>1484065.0</td>\n",
       "      <td>76029.0</td>\n",
       "      <td>3277171.0</td>\n",
       "      <td>0.523951</td>\n",
       "      <td>0.452849</td>\n",
       "      <td>dem</td>\n",
       "      <td>7.110157</td>\n",
       "      <td>Likely Democrat</td>\n",
       "    </tr>\n",
       "    <tr>\n",
       "      <th>23</th>\n",
       "      <td>Mississippi</td>\n",
       "      <td>MS</td>\n",
       "      <td>6</td>\n",
       "      <td>539398.0</td>\n",
       "      <td>756764.0</td>\n",
       "      <td>19016.0</td>\n",
       "      <td>1315178.0</td>\n",
       "      <td>0.410133</td>\n",
       "      <td>0.575408</td>\n",
       "      <td>gop</td>\n",
       "      <td>-16.527497</td>\n",
       "      <td>Safe Republican</td>\n",
       "    </tr>\n",
       "    <tr>\n",
       "      <th>24</th>\n",
       "      <td>Missouri</td>\n",
       "      <td>MO</td>\n",
       "      <td>10</td>\n",
       "      <td>1253014.0</td>\n",
       "      <td>1718736.0</td>\n",
       "      <td>54212.0</td>\n",
       "      <td>3025962.0</td>\n",
       "      <td>0.414088</td>\n",
       "      <td>0.567997</td>\n",
       "      <td>gop</td>\n",
       "      <td>-15.390874</td>\n",
       "      <td>Safe Republican</td>\n",
       "    </tr>\n",
       "    <tr>\n",
       "      <th>25</th>\n",
       "      <td>Montana</td>\n",
       "      <td>MT</td>\n",
       "      <td>4</td>\n",
       "      <td>244786.0</td>\n",
       "      <td>343602.0</td>\n",
       "      <td>17362.0</td>\n",
       "      <td>605750.0</td>\n",
       "      <td>0.404104</td>\n",
       "      <td>0.567234</td>\n",
       "      <td>gop</td>\n",
       "      <td>-16.313000</td>\n",
       "      <td>Safe Republican</td>\n",
       "    </tr>\n",
       "    <tr>\n",
       "      <th>26</th>\n",
       "      <td>Nebraska</td>\n",
       "      <td>NE</td>\n",
       "      <td>5</td>\n",
       "      <td>374583.0</td>\n",
       "      <td>556846.0</td>\n",
       "      <td>24950.0</td>\n",
       "      <td>956379.0</td>\n",
       "      <td>0.391668</td>\n",
       "      <td>0.582244</td>\n",
       "      <td>gop</td>\n",
       "      <td>-19.057612</td>\n",
       "      <td>Safe Republican</td>\n",
       "    </tr>\n",
       "    <tr>\n",
       "      <th>27</th>\n",
       "      <td>Nevada</td>\n",
       "      <td>NV</td>\n",
       "      <td>6</td>\n",
       "      <td>702584.0</td>\n",
       "      <td>667982.0</td>\n",
       "      <td>31933.0</td>\n",
       "      <td>1402499.0</td>\n",
       "      <td>0.500952</td>\n",
       "      <td>0.476280</td>\n",
       "      <td>dem</td>\n",
       "      <td>2.467168</td>\n",
       "      <td>Toss-Up</td>\n",
       "    </tr>\n",
       "    <tr>\n",
       "      <th>28</th>\n",
       "      <td>New Hampshire</td>\n",
       "      <td>NH</td>\n",
       "      <td>4</td>\n",
       "      <td>424921.0</td>\n",
       "      <td>365654.0</td>\n",
       "      <td>13855.0</td>\n",
       "      <td>804430.0</td>\n",
       "      <td>0.528226</td>\n",
       "      <td>0.454550</td>\n",
       "      <td>dem</td>\n",
       "      <td>7.367577</td>\n",
       "      <td>Likely Democrat</td>\n",
       "    </tr>\n",
       "    <tr>\n",
       "      <th>29</th>\n",
       "      <td>New Jersey</td>\n",
       "      <td>NJ</td>\n",
       "      <td>14</td>\n",
       "      <td>2608335.0</td>\n",
       "      <td>1883274.0</td>\n",
       "      <td>72625.0</td>\n",
       "      <td>4564234.0</td>\n",
       "      <td>0.571473</td>\n",
       "      <td>0.412616</td>\n",
       "      <td>dem</td>\n",
       "      <td>15.885711</td>\n",
       "      <td>Safe Democrat</td>\n",
       "    </tr>\n",
       "    <tr>\n",
       "      <th>30</th>\n",
       "      <td>New Mexico</td>\n",
       "      <td>NM</td>\n",
       "      <td>5</td>\n",
       "      <td>501614.0</td>\n",
       "      <td>401894.0</td>\n",
       "      <td>20457.0</td>\n",
       "      <td>923965.0</td>\n",
       "      <td>0.542893</td>\n",
       "      <td>0.434967</td>\n",
       "      <td>dem</td>\n",
       "      <td>10.792617</td>\n",
       "      <td>Safe Democrat</td>\n",
       "    </tr>\n",
       "    <tr>\n",
       "      <th>31</th>\n",
       "      <td>New York</td>\n",
       "      <td>NY</td>\n",
       "      <td>28</td>\n",
       "      <td>5244006.0</td>\n",
       "      <td>3250230.0</td>\n",
       "      <td>121969.0</td>\n",
       "      <td>8616205.0</td>\n",
       "      <td>0.608621</td>\n",
       "      <td>0.377223</td>\n",
       "      <td>dem</td>\n",
       "      <td>23.139839</td>\n",
       "      <td>Safe Democrat</td>\n",
       "    </tr>\n",
       "    <tr>\n",
       "      <th>32</th>\n",
       "      <td>North Carolina</td>\n",
       "      <td>NC</td>\n",
       "      <td>16</td>\n",
       "      <td>2684292.0</td>\n",
       "      <td>2758773.0</td>\n",
       "      <td>81736.0</td>\n",
       "      <td>5524801.0</td>\n",
       "      <td>0.485862</td>\n",
       "      <td>0.499343</td>\n",
       "      <td>gop</td>\n",
       "      <td>-1.348121</td>\n",
       "      <td>Toss-Up</td>\n",
       "    </tr>\n",
       "    <tr>\n",
       "      <th>33</th>\n",
       "      <td>North Dakota</td>\n",
       "      <td>ND</td>\n",
       "      <td>3</td>\n",
       "      <td>114902.0</td>\n",
       "      <td>235595.0</td>\n",
       "      <td>11322.0</td>\n",
       "      <td>361819.0</td>\n",
       "      <td>0.317568</td>\n",
       "      <td>0.651140</td>\n",
       "      <td>gop</td>\n",
       "      <td>-33.357286</td>\n",
       "      <td>Safe Republican</td>\n",
       "    </tr>\n",
       "    <tr>\n",
       "      <th>34</th>\n",
       "      <td>Ohio</td>\n",
       "      <td>OH</td>\n",
       "      <td>17</td>\n",
       "      <td>2679165.0</td>\n",
       "      <td>3154834.0</td>\n",
       "      <td>88203.0</td>\n",
       "      <td>5922202.0</td>\n",
       "      <td>0.452393</td>\n",
       "      <td>0.532713</td>\n",
       "      <td>gop</td>\n",
       "      <td>-8.031962</td>\n",
       "      <td>Likely Republican</td>\n",
       "    </tr>\n",
       "    <tr>\n",
       "      <th>35</th>\n",
       "      <td>Oklahoma</td>\n",
       "      <td>OK</td>\n",
       "      <td>7</td>\n",
       "      <td>503890.0</td>\n",
       "      <td>1020280.0</td>\n",
       "      <td>36529.0</td>\n",
       "      <td>1560699.0</td>\n",
       "      <td>0.322862</td>\n",
       "      <td>0.653733</td>\n",
       "      <td>gop</td>\n",
       "      <td>-33.087098</td>\n",
       "      <td>Safe Republican</td>\n",
       "    </tr>\n",
       "    <tr>\n",
       "      <th>36</th>\n",
       "      <td>Oregon</td>\n",
       "      <td>OR</td>\n",
       "      <td>8</td>\n",
       "      <td>1340383.0</td>\n",
       "      <td>958448.0</td>\n",
       "      <td>75490.0</td>\n",
       "      <td>2374321.0</td>\n",
       "      <td>0.564533</td>\n",
       "      <td>0.403672</td>\n",
       "      <td>dem</td>\n",
       "      <td>16.086073</td>\n",
       "      <td>Safe Democrat</td>\n",
       "    </tr>\n",
       "    <tr>\n",
       "      <th>37</th>\n",
       "      <td>Pennsylvania</td>\n",
       "      <td>PA</td>\n",
       "      <td>19</td>\n",
       "      <td>3459923.0</td>\n",
       "      <td>3378263.0</td>\n",
       "      <td>87069.0</td>\n",
       "      <td>6925255.0</td>\n",
       "      <td>0.499609</td>\n",
       "      <td>0.487818</td>\n",
       "      <td>dem</td>\n",
       "      <td>1.179162</td>\n",
       "      <td>Toss-Up</td>\n",
       "    </tr>\n",
       "    <tr>\n",
       "      <th>38</th>\n",
       "      <td>Rhode Island</td>\n",
       "      <td>RI</td>\n",
       "      <td>4</td>\n",
       "      <td>306210.0</td>\n",
       "      <td>199837.0</td>\n",
       "      <td>10336.0</td>\n",
       "      <td>516383.0</td>\n",
       "      <td>0.592990</td>\n",
       "      <td>0.386994</td>\n",
       "      <td>dem</td>\n",
       "      <td>20.599632</td>\n",
       "      <td>Safe Democrat</td>\n",
       "    </tr>\n",
       "    <tr>\n",
       "      <th>39</th>\n",
       "      <td>South Carolina</td>\n",
       "      <td>SC</td>\n",
       "      <td>9</td>\n",
       "      <td>1091541.0</td>\n",
       "      <td>1385103.0</td>\n",
       "      <td>36685.0</td>\n",
       "      <td>2513329.0</td>\n",
       "      <td>0.434301</td>\n",
       "      <td>0.551103</td>\n",
       "      <td>gop</td>\n",
       "      <td>-11.680206</td>\n",
       "      <td>Safe Republican</td>\n",
       "    </tr>\n",
       "    <tr>\n",
       "      <th>40</th>\n",
       "      <td>South Dakota</td>\n",
       "      <td>SD</td>\n",
       "      <td>3</td>\n",
       "      <td>147642.0</td>\n",
       "      <td>260746.0</td>\n",
       "      <td>11021.0</td>\n",
       "      <td>419409.0</td>\n",
       "      <td>0.352024</td>\n",
       "      <td>0.621699</td>\n",
       "      <td>gop</td>\n",
       "      <td>-26.967471</td>\n",
       "      <td>Safe Republican</td>\n",
       "    </tr>\n",
       "    <tr>\n",
       "      <th>41</th>\n",
       "      <td>Tennessee</td>\n",
       "      <td>TN</td>\n",
       "      <td>11</td>\n",
       "      <td>1143711.0</td>\n",
       "      <td>1852475.0</td>\n",
       "      <td>57665.0</td>\n",
       "      <td>3053851.0</td>\n",
       "      <td>0.374514</td>\n",
       "      <td>0.606603</td>\n",
       "      <td>gop</td>\n",
       "      <td>-23.208860</td>\n",
       "      <td>Safe Republican</td>\n",
       "    </tr>\n",
       "    <tr>\n",
       "      <th>42</th>\n",
       "      <td>Texas</td>\n",
       "      <td>TX</td>\n",
       "      <td>40</td>\n",
       "      <td>5259057.0</td>\n",
       "      <td>5890160.0</td>\n",
       "      <td>168434.0</td>\n",
       "      <td>11317651.0</td>\n",
       "      <td>0.464677</td>\n",
       "      <td>0.520440</td>\n",
       "      <td>gop</td>\n",
       "      <td>-5.576272</td>\n",
       "      <td>Likely Republican</td>\n",
       "    </tr>\n",
       "    <tr>\n",
       "      <th>43</th>\n",
       "      <td>Utah</td>\n",
       "      <td>UT</td>\n",
       "      <td>6</td>\n",
       "      <td>560282.0</td>\n",
       "      <td>865140.0</td>\n",
       "      <td>62867.0</td>\n",
       "      <td>1488289.0</td>\n",
       "      <td>0.376460</td>\n",
       "      <td>0.581298</td>\n",
       "      <td>gop</td>\n",
       "      <td>-20.483790</td>\n",
       "      <td>Safe Republican</td>\n",
       "    </tr>\n",
       "    <tr>\n",
       "      <th>44</th>\n",
       "      <td>Vermont</td>\n",
       "      <td>VT</td>\n",
       "      <td>3</td>\n",
       "      <td>242820.0</td>\n",
       "      <td>112704.0</td>\n",
       "      <td>11904.0</td>\n",
       "      <td>367428.0</td>\n",
       "      <td>0.660864</td>\n",
       "      <td>0.306738</td>\n",
       "      <td>dem</td>\n",
       "      <td>35.412652</td>\n",
       "      <td>Safe Democrat</td>\n",
       "    </tr>\n",
       "    <tr>\n",
       "      <th>45</th>\n",
       "      <td>Virginia</td>\n",
       "      <td>VA</td>\n",
       "      <td>13</td>\n",
       "      <td>2413568.0</td>\n",
       "      <td>1962430.0</td>\n",
       "      <td>84526.0</td>\n",
       "      <td>4460524.0</td>\n",
       "      <td>0.541095</td>\n",
       "      <td>0.439955</td>\n",
       "      <td>dem</td>\n",
       "      <td>10.114014</td>\n",
       "      <td>Safe Democrat</td>\n",
       "    </tr>\n",
       "    <tr>\n",
       "      <th>46</th>\n",
       "      <td>Washington</td>\n",
       "      <td>WA</td>\n",
       "      <td>12</td>\n",
       "      <td>2369612.0</td>\n",
       "      <td>1584651.0</td>\n",
       "      <td>133368.0</td>\n",
       "      <td>4087631.0</td>\n",
       "      <td>0.579703</td>\n",
       "      <td>0.387670</td>\n",
       "      <td>dem</td>\n",
       "      <td>19.203323</td>\n",
       "      <td>Safe Democrat</td>\n",
       "    </tr>\n",
       "    <tr>\n",
       "      <th>47</th>\n",
       "      <td>West Virginia</td>\n",
       "      <td>WV</td>\n",
       "      <td>4</td>\n",
       "      <td>235984.0</td>\n",
       "      <td>545382.0</td>\n",
       "      <td>13286.0</td>\n",
       "      <td>794652.0</td>\n",
       "      <td>0.296965</td>\n",
       "      <td>0.686316</td>\n",
       "      <td>gop</td>\n",
       "      <td>-38.935031</td>\n",
       "      <td>Safe Republican</td>\n",
       "    </tr>\n",
       "    <tr>\n",
       "      <th>48</th>\n",
       "      <td>Wisconsin</td>\n",
       "      <td>WI</td>\n",
       "      <td>10</td>\n",
       "      <td>1630673.0</td>\n",
       "      <td>1610065.0</td>\n",
       "      <td>56614.0</td>\n",
       "      <td>3297352.0</td>\n",
       "      <td>0.494540</td>\n",
       "      <td>0.488290</td>\n",
       "      <td>dem</td>\n",
       "      <td>0.624986</td>\n",
       "      <td>Toss-Up</td>\n",
       "    </tr>\n",
       "    <tr>\n",
       "      <th>49</th>\n",
       "      <td>Wyoming</td>\n",
       "      <td>WY</td>\n",
       "      <td>3</td>\n",
       "      <td>73491.0</td>\n",
       "      <td>193559.0</td>\n",
       "      <td>9715.0</td>\n",
       "      <td>276765.0</td>\n",
       "      <td>0.265536</td>\n",
       "      <td>0.699362</td>\n",
       "      <td>gop</td>\n",
       "      <td>-43.382653</td>\n",
       "      <td>Safe Republican</td>\n",
       "    </tr>\n",
       "  </tbody>\n",
       "</table>\n",
       "</div>"
      ],
      "text/plain": [
       "                   state state_code  ElectoralVotes2024   Votes_dem  \\\n",
       "0                Alabama         AL                   9    849648.0   \n",
       "1                Arizona         AZ                  11   1672143.0   \n",
       "2               Arkansas         AR                   6    423932.0   \n",
       "3             California         CA                  54  11109764.0   \n",
       "4               Colorado         CO                  10   1804352.0   \n",
       "5            Connecticut         CT                   7   1080680.0   \n",
       "6   District of Columbia         DC                   3    317323.0   \n",
       "7               Delaware         DE                   3    296268.0   \n",
       "8                Florida         FL                  30   5297045.0   \n",
       "9                Georgia         GA                  16   2473633.0   \n",
       "10                Hawaii         HI                   4    366130.0   \n",
       "11                 Idaho         ID                   4    287021.0   \n",
       "12              Illinois         IL                  19   3471915.0   \n",
       "13               Indiana         IN                  11   1242495.0   \n",
       "14                  Iowa         IA                   6    759061.0   \n",
       "15                Kansas         KS                   6    558669.0   \n",
       "16              Kentucky         KY                   8    772474.0   \n",
       "17             Louisiana         LA                   8    856034.0   \n",
       "18                 Maine         ME                   4    430473.0   \n",
       "19              Maryland         MD                  10   1985023.0   \n",
       "20         Massachusetts         MA                  11   2382202.0   \n",
       "21              Michigan         MI                  15   2804040.0   \n",
       "22             Minnesota         MN                  10   1717077.0   \n",
       "23           Mississippi         MS                   6    539398.0   \n",
       "24              Missouri         MO                  10   1253014.0   \n",
       "25               Montana         MT                   4    244786.0   \n",
       "26              Nebraska         NE                   5    374583.0   \n",
       "27                Nevada         NV                   6    702584.0   \n",
       "28         New Hampshire         NH                   4    424921.0   \n",
       "29            New Jersey         NJ                  14   2608335.0   \n",
       "30            New Mexico         NM                   5    501614.0   \n",
       "31              New York         NY                  28   5244006.0   \n",
       "32        North Carolina         NC                  16   2684292.0   \n",
       "33          North Dakota         ND                   3    114902.0   \n",
       "34                  Ohio         OH                  17   2679165.0   \n",
       "35              Oklahoma         OK                   7    503890.0   \n",
       "36                Oregon         OR                   8   1340383.0   \n",
       "37          Pennsylvania         PA                  19   3459923.0   \n",
       "38          Rhode Island         RI                   4    306210.0   \n",
       "39        South Carolina         SC                   9   1091541.0   \n",
       "40          South Dakota         SD                   3    147642.0   \n",
       "41             Tennessee         TN                  11   1143711.0   \n",
       "42                 Texas         TX                  40   5259057.0   \n",
       "43                  Utah         UT                   6    560282.0   \n",
       "44               Vermont         VT                   3    242820.0   \n",
       "45              Virginia         VA                  13   2413568.0   \n",
       "46            Washington         WA                  12   2369612.0   \n",
       "47         West Virginia         WV                   4    235984.0   \n",
       "48             Wisconsin         WI                  10   1630673.0   \n",
       "49               Wyoming         WY                   3     73491.0   \n",
       "\n",
       "    Votes_gop  Votes_other  Votes_total  Per_dem_2020  Per_gop_2020 Winner  \\\n",
       "0   1441168.0      32488.0    2323304.0      0.365707      0.620310    gop   \n",
       "1   1661686.0      53497.0    3387326.0      0.493647      0.490560    dem   \n",
       "2    760647.0      34490.0    1219069.0      0.347751      0.623957    gop   \n",
       "3   6005961.0     380181.0   17495906.0      0.634992      0.343278    dem   \n",
       "4   1364607.0      87994.0    3256953.0      0.554000      0.418983    dem   \n",
       "5    715291.0      28309.0    1824280.0      0.592387      0.392095    dem   \n",
       "6     18586.0       8447.0     344356.0      0.921497      0.053973    dem   \n",
       "7    200603.0       7139.0     504010.0      0.587822      0.398014    dem   \n",
       "8   5668731.0     101680.0   11067456.0      0.478615      0.512198    gop   \n",
       "9   2461854.0      62229.0    4997716.0      0.494953      0.492596    dem   \n",
       "10   196864.0      11475.0     574469.0      0.637336      0.342689    dem   \n",
       "11   554118.0      26966.0     868105.0      0.330629      0.638308    gop   \n",
       "12  2446891.0     120044.0    6038850.0      0.574930      0.405192    dem   \n",
       "13  1729852.0      60851.0    3033198.0      0.409632      0.570306    gop   \n",
       "14   897672.0      34138.0    1690871.0      0.448917      0.530893    gop   \n",
       "15   758100.0      32798.0    1349567.0      0.413962      0.561736    gop   \n",
       "16  1326646.0      37648.0    2136768.0      0.361515      0.620866    gop   \n",
       "17  1255776.0      36252.0    2148062.0      0.398515      0.584609    gop   \n",
       "18   359899.0      23368.0     813740.0      0.529006      0.442278    dem   \n",
       "19   976414.0      75593.0    3037030.0      0.653607      0.321503    dem   \n",
       "20  1167202.0      81998.0    3631402.0      0.656001      0.321419    dem   \n",
       "21  2649852.0      85410.0    5539302.0      0.506208      0.478373    dem   \n",
       "22  1484065.0      76029.0    3277171.0      0.523951      0.452849    dem   \n",
       "23   756764.0      19016.0    1315178.0      0.410133      0.575408    gop   \n",
       "24  1718736.0      54212.0    3025962.0      0.414088      0.567997    gop   \n",
       "25   343602.0      17362.0     605750.0      0.404104      0.567234    gop   \n",
       "26   556846.0      24950.0     956379.0      0.391668      0.582244    gop   \n",
       "27   667982.0      31933.0    1402499.0      0.500952      0.476280    dem   \n",
       "28   365654.0      13855.0     804430.0      0.528226      0.454550    dem   \n",
       "29  1883274.0      72625.0    4564234.0      0.571473      0.412616    dem   \n",
       "30   401894.0      20457.0     923965.0      0.542893      0.434967    dem   \n",
       "31  3250230.0     121969.0    8616205.0      0.608621      0.377223    dem   \n",
       "32  2758773.0      81736.0    5524801.0      0.485862      0.499343    gop   \n",
       "33   235595.0      11322.0     361819.0      0.317568      0.651140    gop   \n",
       "34  3154834.0      88203.0    5922202.0      0.452393      0.532713    gop   \n",
       "35  1020280.0      36529.0    1560699.0      0.322862      0.653733    gop   \n",
       "36   958448.0      75490.0    2374321.0      0.564533      0.403672    dem   \n",
       "37  3378263.0      87069.0    6925255.0      0.499609      0.487818    dem   \n",
       "38   199837.0      10336.0     516383.0      0.592990      0.386994    dem   \n",
       "39  1385103.0      36685.0    2513329.0      0.434301      0.551103    gop   \n",
       "40   260746.0      11021.0     419409.0      0.352024      0.621699    gop   \n",
       "41  1852475.0      57665.0    3053851.0      0.374514      0.606603    gop   \n",
       "42  5890160.0     168434.0   11317651.0      0.464677      0.520440    gop   \n",
       "43   865140.0      62867.0    1488289.0      0.376460      0.581298    gop   \n",
       "44   112704.0      11904.0     367428.0      0.660864      0.306738    dem   \n",
       "45  1962430.0      84526.0    4460524.0      0.541095      0.439955    dem   \n",
       "46  1584651.0     133368.0    4087631.0      0.579703      0.387670    dem   \n",
       "47   545382.0      13286.0     794652.0      0.296965      0.686316    gop   \n",
       "48  1610065.0      56614.0    3297352.0      0.494540      0.488290    dem   \n",
       "49   193559.0       9715.0     276765.0      0.265536      0.699362    gop   \n",
       "\n",
       "    Difference             Status  \n",
       "0   -25.460293    Safe Republican  \n",
       "1     0.308710            Toss-Up  \n",
       "2   -27.620668    Safe Republican  \n",
       "3    29.171413      Safe Democrat  \n",
       "4    13.501730      Safe Democrat  \n",
       "5    20.029217      Safe Democrat  \n",
       "6    86.752373      Safe Democrat  \n",
       "7    18.980774      Safe Democrat  \n",
       "8    -3.358369  Likely Republican  \n",
       "9     0.235688            Toss-Up  \n",
       "10   29.464775      Safe Democrat  \n",
       "11  -30.767822    Safe Republican  \n",
       "12   16.973828      Safe Democrat  \n",
       "13  -16.067431    Safe Republican  \n",
       "14   -8.197609  Likely Republican  \n",
       "15  -14.777406    Safe Republican  \n",
       "16  -25.935057    Safe Republican  \n",
       "17  -18.609426    Safe Republican  \n",
       "18    8.672795    Likely Democrat  \n",
       "19   33.210373      Safe Democrat  \n",
       "20   33.458152      Safe Democrat  \n",
       "21    2.783528    Likely Democrat  \n",
       "22    7.110157    Likely Democrat  \n",
       "23  -16.527497    Safe Republican  \n",
       "24  -15.390874    Safe Republican  \n",
       "25  -16.313000    Safe Republican  \n",
       "26  -19.057612    Safe Republican  \n",
       "27    2.467168            Toss-Up  \n",
       "28    7.367577    Likely Democrat  \n",
       "29   15.885711      Safe Democrat  \n",
       "30   10.792617      Safe Democrat  \n",
       "31   23.139839      Safe Democrat  \n",
       "32   -1.348121            Toss-Up  \n",
       "33  -33.357286    Safe Republican  \n",
       "34   -8.031962  Likely Republican  \n",
       "35  -33.087098    Safe Republican  \n",
       "36   16.086073      Safe Democrat  \n",
       "37    1.179162            Toss-Up  \n",
       "38   20.599632      Safe Democrat  \n",
       "39  -11.680206    Safe Republican  \n",
       "40  -26.967471    Safe Republican  \n",
       "41  -23.208860    Safe Republican  \n",
       "42   -5.576272  Likely Republican  \n",
       "43  -20.483790    Safe Republican  \n",
       "44   35.412652      Safe Democrat  \n",
       "45   10.114014      Safe Democrat  \n",
       "46   19.203323      Safe Democrat  \n",
       "47  -38.935031    Safe Republican  \n",
       "48    0.624986            Toss-Up  \n",
       "49  -43.382653    Safe Republican  "
      ]
     },
     "execution_count": 782,
     "metadata": {},
     "output_type": "execute_result"
    }
   ],
   "source": [
    "# Cargar datos electorales reales\n",
    "df_actual = pd.DataFrame({'Votes_dem': data_2020['votes_dem'], \n",
    "                            'Votes_gop': data_2020['total_votes'] - data_2020['votes_dem'] - data_2020['votes_others'], \n",
    "                            'Votes_other': data_2020['votes_others'],\n",
    "                            'Votes_total': data_2020['total_votes'], \n",
    "                            'state': state_names,\n",
    "                            'county': county_names,\n",
    "                            'fips': fips_codes})\n",
    "df_actual_state = df_actual.groupby('state').agg(Votes_dem=(f'Votes_dem', 'sum'), \n",
    "                                                    Votes_gop=(f'Votes_gop', 'sum'),\n",
    "                                                    Votes_other=(f'Votes_other', 'sum'),\n",
    "                                                    Votes_total=(f'Votes_total', 'sum'))\n",
    "\n",
    "df_actual_state[\"Per_dem_2020\"] = df_actual_state[\"Votes_dem\"] / df_actual_state[\"Votes_total\"]\n",
    "df_actual_state[\"Per_gop_2020\"] = df_actual_state[\"Votes_gop\"] / df_actual_state[\"Votes_total\"]\n",
    "\n",
    "# Añadir la columna \"Winner\" basado en los porcentajes predichos de Biden y Trump\n",
    "df_actual_state[\"Winner\"] = np.where(df_actual_state[\"Per_dem_2020\"] < df_actual_state[\"Per_gop_2020\"], 'gop', 'dem')\n",
    "\n",
    "\n",
    "full_df_actual_state = pd.merge(seats_data, df_actual_state, how='inner', on=[\"state\"])\n",
    "\n",
    "\n",
    "\n",
    "# Añadir diferencia entre Biden y Trump\n",
    "full_df_actual_state['Difference'] = (full_df_actual_state[\"Per_dem_2020\"] - full_df_actual_state[\"Per_gop_2020\"]) * 100\n",
    "\n",
    "\n",
    "# Definir las condiciones y los valores a asignar\n",
    "conditions = [\n",
    "    full_df_actual_state[\"Difference\"] > 10,\n",
    "    full_df_actual_state[\"Difference\"].between(2.5, 10),\n",
    "    full_df_actual_state[\"Difference\"].between(-2.5, 2.5),\n",
    "    full_df_actual_state[\"Difference\"].between(-10, -2.5),\n",
    "    full_df_actual_state[\"Difference\"] < -10\n",
    "]\n",
    "\n",
    "choices = [\n",
    "    \"Safe Democrat\",\n",
    "    \"Likely Democrat\",\n",
    "    \"Toss-Up\",\n",
    "    \"Likely Republican\",\n",
    "    \"Safe Republican\"\n",
    "]\n",
    "\n",
    "# Usar np.select para asignar el \"Status\" basado en las condiciones, con un valor por defecto \"Unknown\"\n",
    "full_df_actual_state[\"Status\"] = np.select(conditions, choices, default=\"Unknown\")\n",
    "\n",
    "full_df_actual_state_2020 = full_df_actual_state.copy()\n",
    "full_df_actual_state_2020"
   ]
  },
  {
   "cell_type": "code",
   "execution_count": 783,
   "metadata": {},
   "outputs": [],
   "source": [
    "# columns_to_drop = [\"votes_dem\", \"total_votes\", \"votes_others\", \"per_votes_others\", \"winner\"]  # Nombres de las columnas a eliminar\n",
    "\n",
    "# data_2020 = data_2020.drop(columns=columns_to_drop)"
   ]
  },
  {
   "cell_type": "markdown",
   "metadata": {},
   "source": [
    "### Historical data"
   ]
  },
  {
   "cell_type": "code",
   "execution_count": 784,
   "metadata": {},
   "outputs": [
    {
     "name": "stdout",
     "output_type": "stream",
     "text": [
      "2016 Columns: Index(['state', 'state_code', 'ElectoralVotes2024', 'Votes_dem', 'Votes_gop',\n",
      "       'Votes_other', 'Votes_total', 'Per_dem_2016', 'Per_gop_2016', 'Winner',\n",
      "       'Difference', 'Status'],\n",
      "      dtype='object')\n",
      "2020 Columns: Index(['state', 'state_code', 'ElectoralVotes2024', 'Votes_dem', 'Votes_gop',\n",
      "       'Votes_other', 'Votes_total', 'Per_dem_2020', 'Per_gop_2020', 'Winner',\n",
      "       'Difference', 'Status'],\n",
      "      dtype='object')\n"
     ]
    }
   ],
   "source": [
    "# Revisar nombres de columnas\n",
    "print(\"2016 Columns:\", full_df_actual_state_2016.columns)\n",
    "print(\"2020 Columns:\", full_df_actual_state_2020.columns)"
   ]
  },
  {
   "cell_type": "code",
   "execution_count": 785,
   "metadata": {},
   "outputs": [
    {
     "data": {
      "text/html": [
       "<div>\n",
       "<style scoped>\n",
       "    .dataframe tbody tr th:only-of-type {\n",
       "        vertical-align: middle;\n",
       "    }\n",
       "\n",
       "    .dataframe tbody tr th {\n",
       "        vertical-align: top;\n",
       "    }\n",
       "\n",
       "    .dataframe thead th {\n",
       "        text-align: right;\n",
       "    }\n",
       "</style>\n",
       "<table border=\"1\" class=\"dataframe\">\n",
       "  <thead>\n",
       "    <tr style=\"text-align: right;\">\n",
       "      <th></th>\n",
       "      <th>state</th>\n",
       "      <th>per_dem_2016</th>\n",
       "      <th>per_gop_2016</th>\n",
       "      <th>per_dem_2020</th>\n",
       "      <th>per_gop_2020</th>\n",
       "      <th>swing_dem</th>\n",
       "      <th>swing_gop</th>\n",
       "    </tr>\n",
       "  </thead>\n",
       "  <tbody>\n",
       "    <tr>\n",
       "      <th>0</th>\n",
       "      <td>Alabama</td>\n",
       "      <td>0.345538</td>\n",
       "      <td>0.628884</td>\n",
       "      <td>0.365707</td>\n",
       "      <td>0.620310</td>\n",
       "      <td>0.020169</td>\n",
       "      <td>-0.008574</td>\n",
       "    </tr>\n",
       "    <tr>\n",
       "      <th>1</th>\n",
       "      <td>Arizona</td>\n",
       "      <td>0.453871</td>\n",
       "      <td>0.495031</td>\n",
       "      <td>0.493647</td>\n",
       "      <td>0.490560</td>\n",
       "      <td>0.039776</td>\n",
       "      <td>-0.004471</td>\n",
       "    </tr>\n",
       "    <tr>\n",
       "      <th>2</th>\n",
       "      <td>Arkansas</td>\n",
       "      <td>0.341624</td>\n",
       "      <td>0.611487</td>\n",
       "      <td>0.347751</td>\n",
       "      <td>0.623957</td>\n",
       "      <td>0.006127</td>\n",
       "      <td>0.012470</td>\n",
       "    </tr>\n",
       "    <tr>\n",
       "      <th>3</th>\n",
       "      <td>California</td>\n",
       "      <td>0.615885</td>\n",
       "      <td>0.327598</td>\n",
       "      <td>0.634992</td>\n",
       "      <td>0.343278</td>\n",
       "      <td>0.019107</td>\n",
       "      <td>0.015680</td>\n",
       "    </tr>\n",
       "    <tr>\n",
       "      <th>4</th>\n",
       "      <td>Colorado</td>\n",
       "      <td>0.472746</td>\n",
       "      <td>0.443593</td>\n",
       "      <td>0.554000</td>\n",
       "      <td>0.418983</td>\n",
       "      <td>0.081254</td>\n",
       "      <td>-0.024610</td>\n",
       "    </tr>\n",
       "    <tr>\n",
       "      <th>5</th>\n",
       "      <td>Connecticut</td>\n",
       "      <td>0.544755</td>\n",
       "      <td>0.411610</td>\n",
       "      <td>0.592387</td>\n",
       "      <td>0.392095</td>\n",
       "      <td>0.047633</td>\n",
       "      <td>-0.019515</td>\n",
       "    </tr>\n",
       "    <tr>\n",
       "      <th>6</th>\n",
       "      <td>District of Columbia</td>\n",
       "      <td>0.928466</td>\n",
       "      <td>0.041221</td>\n",
       "      <td>0.921497</td>\n",
       "      <td>0.053973</td>\n",
       "      <td>-0.006969</td>\n",
       "      <td>0.012753</td>\n",
       "    </tr>\n",
       "    <tr>\n",
       "      <th>7</th>\n",
       "      <td>Delaware</td>\n",
       "      <td>0.533550</td>\n",
       "      <td>0.419226</td>\n",
       "      <td>0.587822</td>\n",
       "      <td>0.398014</td>\n",
       "      <td>0.054272</td>\n",
       "      <td>-0.021212</td>\n",
       "    </tr>\n",
       "    <tr>\n",
       "      <th>8</th>\n",
       "      <td>Florida</td>\n",
       "      <td>0.477881</td>\n",
       "      <td>0.490640</td>\n",
       "      <td>0.478615</td>\n",
       "      <td>0.512198</td>\n",
       "      <td>0.000734</td>\n",
       "      <td>0.021558</td>\n",
       "    </tr>\n",
       "    <tr>\n",
       "      <th>9</th>\n",
       "      <td>Georgia</td>\n",
       "      <td>0.455955</td>\n",
       "      <td>0.513361</td>\n",
       "      <td>0.494953</td>\n",
       "      <td>0.492596</td>\n",
       "      <td>0.038998</td>\n",
       "      <td>-0.020766</td>\n",
       "    </tr>\n",
       "    <tr>\n",
       "      <th>10</th>\n",
       "      <td>Hawaii</td>\n",
       "      <td>0.622228</td>\n",
       "      <td>0.300391</td>\n",
       "      <td>0.637336</td>\n",
       "      <td>0.342689</td>\n",
       "      <td>0.015108</td>\n",
       "      <td>0.042298</td>\n",
       "    </tr>\n",
       "    <tr>\n",
       "      <th>11</th>\n",
       "      <td>Idaho</td>\n",
       "      <td>0.275599</td>\n",
       "      <td>0.591657</td>\n",
       "      <td>0.330629</td>\n",
       "      <td>0.638308</td>\n",
       "      <td>0.055030</td>\n",
       "      <td>0.046651</td>\n",
       "    </tr>\n",
       "    <tr>\n",
       "      <th>12</th>\n",
       "      <td>Illinois</td>\n",
       "      <td>0.554027</td>\n",
       "      <td>0.394133</td>\n",
       "      <td>0.574930</td>\n",
       "      <td>0.405192</td>\n",
       "      <td>0.020902</td>\n",
       "      <td>0.011059</td>\n",
       "    </tr>\n",
       "    <tr>\n",
       "      <th>13</th>\n",
       "      <td>Indiana</td>\n",
       "      <td>0.379112</td>\n",
       "      <td>0.571713</td>\n",
       "      <td>0.409632</td>\n",
       "      <td>0.570306</td>\n",
       "      <td>0.030520</td>\n",
       "      <td>-0.001407</td>\n",
       "    </tr>\n",
       "    <tr>\n",
       "      <th>14</th>\n",
       "      <td>Iowa</td>\n",
       "      <td>0.421802</td>\n",
       "      <td>0.517813</td>\n",
       "      <td>0.448917</td>\n",
       "      <td>0.530893</td>\n",
       "      <td>0.027115</td>\n",
       "      <td>0.013080</td>\n",
       "    </tr>\n",
       "    <tr>\n",
       "      <th>15</th>\n",
       "      <td>Kansas</td>\n",
       "      <td>0.361584</td>\n",
       "      <td>0.571863</td>\n",
       "      <td>0.413962</td>\n",
       "      <td>0.561736</td>\n",
       "      <td>0.052378</td>\n",
       "      <td>-0.010128</td>\n",
       "    </tr>\n",
       "    <tr>\n",
       "      <th>16</th>\n",
       "      <td>Kentucky</td>\n",
       "      <td>0.327140</td>\n",
       "      <td>0.625809</td>\n",
       "      <td>0.361515</td>\n",
       "      <td>0.620866</td>\n",
       "      <td>0.034375</td>\n",
       "      <td>-0.004944</td>\n",
       "    </tr>\n",
       "    <tr>\n",
       "      <th>17</th>\n",
       "      <td>Louisiana</td>\n",
       "      <td>0.384437</td>\n",
       "      <td>0.580947</td>\n",
       "      <td>0.398515</td>\n",
       "      <td>0.584609</td>\n",
       "      <td>0.014077</td>\n",
       "      <td>0.003662</td>\n",
       "    </tr>\n",
       "    <tr>\n",
       "      <th>18</th>\n",
       "      <td>Maine</td>\n",
       "      <td>0.478556</td>\n",
       "      <td>0.451538</td>\n",
       "      <td>0.529006</td>\n",
       "      <td>0.442278</td>\n",
       "      <td>0.050450</td>\n",
       "      <td>-0.009260</td>\n",
       "    </tr>\n",
       "    <tr>\n",
       "      <th>19</th>\n",
       "      <td>Maryland</td>\n",
       "      <td>0.605345</td>\n",
       "      <td>0.353053</td>\n",
       "      <td>0.653607</td>\n",
       "      <td>0.321503</td>\n",
       "      <td>0.048262</td>\n",
       "      <td>-0.031551</td>\n",
       "    </tr>\n",
       "    <tr>\n",
       "      <th>20</th>\n",
       "      <td>Massachusetts</td>\n",
       "      <td>0.607999</td>\n",
       "      <td>0.335157</td>\n",
       "      <td>0.656001</td>\n",
       "      <td>0.321419</td>\n",
       "      <td>0.048002</td>\n",
       "      <td>-0.013738</td>\n",
       "    </tr>\n",
       "    <tr>\n",
       "      <th>21</th>\n",
       "      <td>Michigan</td>\n",
       "      <td>0.473436</td>\n",
       "      <td>0.475860</td>\n",
       "      <td>0.506208</td>\n",
       "      <td>0.478373</td>\n",
       "      <td>0.032772</td>\n",
       "      <td>0.002513</td>\n",
       "    </tr>\n",
       "    <tr>\n",
       "      <th>22</th>\n",
       "      <td>Minnesota</td>\n",
       "      <td>0.468617</td>\n",
       "      <td>0.453603</td>\n",
       "      <td>0.523951</td>\n",
       "      <td>0.452849</td>\n",
       "      <td>0.055334</td>\n",
       "      <td>-0.000754</td>\n",
       "    </tr>\n",
       "    <tr>\n",
       "      <th>23</th>\n",
       "      <td>Mississippi</td>\n",
       "      <td>0.397254</td>\n",
       "      <td>0.583375</td>\n",
       "      <td>0.410133</td>\n",
       "      <td>0.575408</td>\n",
       "      <td>0.012879</td>\n",
       "      <td>-0.007966</td>\n",
       "    </tr>\n",
       "    <tr>\n",
       "      <th>24</th>\n",
       "      <td>Missouri</td>\n",
       "      <td>0.380127</td>\n",
       "      <td>0.571422</td>\n",
       "      <td>0.414088</td>\n",
       "      <td>0.567997</td>\n",
       "      <td>0.033961</td>\n",
       "      <td>-0.003426</td>\n",
       "    </tr>\n",
       "    <tr>\n",
       "      <th>25</th>\n",
       "      <td>Montana</td>\n",
       "      <td>0.360898</td>\n",
       "      <td>0.566863</td>\n",
       "      <td>0.404104</td>\n",
       "      <td>0.567234</td>\n",
       "      <td>0.043206</td>\n",
       "      <td>0.000371</td>\n",
       "    </tr>\n",
       "    <tr>\n",
       "      <th>26</th>\n",
       "      <td>Nebraska</td>\n",
       "      <td>0.339927</td>\n",
       "      <td>0.603024</td>\n",
       "      <td>0.391668</td>\n",
       "      <td>0.582244</td>\n",
       "      <td>0.051741</td>\n",
       "      <td>-0.020780</td>\n",
       "    </tr>\n",
       "    <tr>\n",
       "      <th>27</th>\n",
       "      <td>Nevada</td>\n",
       "      <td>0.479280</td>\n",
       "      <td>0.454916</td>\n",
       "      <td>0.500952</td>\n",
       "      <td>0.476280</td>\n",
       "      <td>0.021671</td>\n",
       "      <td>0.021363</td>\n",
       "    </tr>\n",
       "    <tr>\n",
       "      <th>28</th>\n",
       "      <td>New Hampshire</td>\n",
       "      <td>0.476413</td>\n",
       "      <td>0.472678</td>\n",
       "      <td>0.528226</td>\n",
       "      <td>0.454550</td>\n",
       "      <td>0.051814</td>\n",
       "      <td>-0.018128</td>\n",
       "    </tr>\n",
       "    <tr>\n",
       "      <th>29</th>\n",
       "      <td>New Jersey</td>\n",
       "      <td>0.550154</td>\n",
       "      <td>0.417839</td>\n",
       "      <td>0.571473</td>\n",
       "      <td>0.412616</td>\n",
       "      <td>0.021319</td>\n",
       "      <td>-0.005223</td>\n",
       "    </tr>\n",
       "    <tr>\n",
       "      <th>30</th>\n",
       "      <td>New Mexico</td>\n",
       "      <td>0.486159</td>\n",
       "      <td>0.403351</td>\n",
       "      <td>0.542893</td>\n",
       "      <td>0.434967</td>\n",
       "      <td>0.056734</td>\n",
       "      <td>0.031616</td>\n",
       "    </tr>\n",
       "    <tr>\n",
       "      <th>31</th>\n",
       "      <td>New York</td>\n",
       "      <td>0.588103</td>\n",
       "      <td>0.374752</td>\n",
       "      <td>0.608621</td>\n",
       "      <td>0.377223</td>\n",
       "      <td>0.020519</td>\n",
       "      <td>0.002471</td>\n",
       "    </tr>\n",
       "    <tr>\n",
       "      <th>32</th>\n",
       "      <td>North Carolina</td>\n",
       "      <td>0.467024</td>\n",
       "      <td>0.505372</td>\n",
       "      <td>0.485862</td>\n",
       "      <td>0.499343</td>\n",
       "      <td>0.018838</td>\n",
       "      <td>-0.006028</td>\n",
       "    </tr>\n",
       "    <tr>\n",
       "      <th>33</th>\n",
       "      <td>North Dakota</td>\n",
       "      <td>0.277552</td>\n",
       "      <td>0.641405</td>\n",
       "      <td>0.317568</td>\n",
       "      <td>0.651140</td>\n",
       "      <td>0.040016</td>\n",
       "      <td>0.009735</td>\n",
       "    </tr>\n",
       "    <tr>\n",
       "      <th>34</th>\n",
       "      <td>Ohio</td>\n",
       "      <td>0.435085</td>\n",
       "      <td>0.520522</td>\n",
       "      <td>0.452393</td>\n",
       "      <td>0.532713</td>\n",
       "      <td>0.017308</td>\n",
       "      <td>0.012191</td>\n",
       "    </tr>\n",
       "    <tr>\n",
       "      <th>35</th>\n",
       "      <td>Oklahoma</td>\n",
       "      <td>0.289298</td>\n",
       "      <td>0.653272</td>\n",
       "      <td>0.322862</td>\n",
       "      <td>0.653733</td>\n",
       "      <td>0.033563</td>\n",
       "      <td>0.000461</td>\n",
       "    </tr>\n",
       "    <tr>\n",
       "      <th>36</th>\n",
       "      <td>Oregon</td>\n",
       "      <td>0.516778</td>\n",
       "      <td>0.410548</td>\n",
       "      <td>0.564533</td>\n",
       "      <td>0.403672</td>\n",
       "      <td>0.047756</td>\n",
       "      <td>-0.006875</td>\n",
       "    </tr>\n",
       "    <tr>\n",
       "      <th>37</th>\n",
       "      <td>Pennsylvania</td>\n",
       "      <td>0.476491</td>\n",
       "      <td>0.487921</td>\n",
       "      <td>0.499609</td>\n",
       "      <td>0.487818</td>\n",
       "      <td>0.023118</td>\n",
       "      <td>-0.000103</td>\n",
       "    </tr>\n",
       "    <tr>\n",
       "      <th>38</th>\n",
       "      <td>Rhode Island</td>\n",
       "      <td>0.555188</td>\n",
       "      <td>0.398606</td>\n",
       "      <td>0.592990</td>\n",
       "      <td>0.386994</td>\n",
       "      <td>0.037802</td>\n",
       "      <td>-0.011612</td>\n",
       "    </tr>\n",
       "    <tr>\n",
       "      <th>39</th>\n",
       "      <td>South Carolina</td>\n",
       "      <td>0.407528</td>\n",
       "      <td>0.548641</td>\n",
       "      <td>0.434301</td>\n",
       "      <td>0.551103</td>\n",
       "      <td>0.026773</td>\n",
       "      <td>0.002462</td>\n",
       "    </tr>\n",
       "    <tr>\n",
       "      <th>40</th>\n",
       "      <td>South Dakota</td>\n",
       "      <td>0.313054</td>\n",
       "      <td>0.619527</td>\n",
       "      <td>0.352024</td>\n",
       "      <td>0.621699</td>\n",
       "      <td>0.038970</td>\n",
       "      <td>0.002172</td>\n",
       "    </tr>\n",
       "    <tr>\n",
       "      <th>41</th>\n",
       "      <td>Tennessee</td>\n",
       "      <td>0.348981</td>\n",
       "      <td>0.610700</td>\n",
       "      <td>0.374514</td>\n",
       "      <td>0.606603</td>\n",
       "      <td>0.025533</td>\n",
       "      <td>-0.004098</td>\n",
       "    </tr>\n",
       "    <tr>\n",
       "      <th>42</th>\n",
       "      <td>Texas</td>\n",
       "      <td>0.434429</td>\n",
       "      <td>0.525829</td>\n",
       "      <td>0.464677</td>\n",
       "      <td>0.520440</td>\n",
       "      <td>0.030249</td>\n",
       "      <td>-0.005389</td>\n",
       "    </tr>\n",
       "    <tr>\n",
       "      <th>43</th>\n",
       "      <td>Utah</td>\n",
       "      <td>0.278376</td>\n",
       "      <td>0.458991</td>\n",
       "      <td>0.376460</td>\n",
       "      <td>0.581298</td>\n",
       "      <td>0.098085</td>\n",
       "      <td>0.122308</td>\n",
       "    </tr>\n",
       "    <tr>\n",
       "      <th>44</th>\n",
       "      <td>Vermont</td>\n",
       "      <td>0.611431</td>\n",
       "      <td>0.326180</td>\n",
       "      <td>0.660864</td>\n",
       "      <td>0.306738</td>\n",
       "      <td>0.049433</td>\n",
       "      <td>-0.019442</td>\n",
       "    </tr>\n",
       "    <tr>\n",
       "      <th>45</th>\n",
       "      <td>Virginia</td>\n",
       "      <td>0.498557</td>\n",
       "      <td>0.450261</td>\n",
       "      <td>0.541095</td>\n",
       "      <td>0.439955</td>\n",
       "      <td>0.042538</td>\n",
       "      <td>-0.010306</td>\n",
       "    </tr>\n",
       "    <tr>\n",
       "      <th>46</th>\n",
       "      <td>Washington</td>\n",
       "      <td>0.544475</td>\n",
       "      <td>0.381725</td>\n",
       "      <td>0.579703</td>\n",
       "      <td>0.387670</td>\n",
       "      <td>0.035229</td>\n",
       "      <td>0.005945</td>\n",
       "    </tr>\n",
       "    <tr>\n",
       "      <th>47</th>\n",
       "      <td>West Virginia</td>\n",
       "      <td>0.264685</td>\n",
       "      <td>0.686501</td>\n",
       "      <td>0.296965</td>\n",
       "      <td>0.686316</td>\n",
       "      <td>0.032280</td>\n",
       "      <td>-0.000186</td>\n",
       "    </tr>\n",
       "    <tr>\n",
       "      <th>48</th>\n",
       "      <td>Wisconsin</td>\n",
       "      <td>0.470095</td>\n",
       "      <td>0.477882</td>\n",
       "      <td>0.494540</td>\n",
       "      <td>0.488290</td>\n",
       "      <td>0.024445</td>\n",
       "      <td>0.010409</td>\n",
       "    </tr>\n",
       "    <tr>\n",
       "      <th>49</th>\n",
       "      <td>Wyoming</td>\n",
       "      <td>0.224928</td>\n",
       "      <td>0.700517</td>\n",
       "      <td>0.265536</td>\n",
       "      <td>0.699362</td>\n",
       "      <td>0.040608</td>\n",
       "      <td>-0.001155</td>\n",
       "    </tr>\n",
       "  </tbody>\n",
       "</table>\n",
       "</div>"
      ],
      "text/plain": [
       "                   state  per_dem_2016  per_gop_2016  per_dem_2020  \\\n",
       "0                Alabama      0.345538      0.628884      0.365707   \n",
       "1                Arizona      0.453871      0.495031      0.493647   \n",
       "2               Arkansas      0.341624      0.611487      0.347751   \n",
       "3             California      0.615885      0.327598      0.634992   \n",
       "4               Colorado      0.472746      0.443593      0.554000   \n",
       "5            Connecticut      0.544755      0.411610      0.592387   \n",
       "6   District of Columbia      0.928466      0.041221      0.921497   \n",
       "7               Delaware      0.533550      0.419226      0.587822   \n",
       "8                Florida      0.477881      0.490640      0.478615   \n",
       "9                Georgia      0.455955      0.513361      0.494953   \n",
       "10                Hawaii      0.622228      0.300391      0.637336   \n",
       "11                 Idaho      0.275599      0.591657      0.330629   \n",
       "12              Illinois      0.554027      0.394133      0.574930   \n",
       "13               Indiana      0.379112      0.571713      0.409632   \n",
       "14                  Iowa      0.421802      0.517813      0.448917   \n",
       "15                Kansas      0.361584      0.571863      0.413962   \n",
       "16              Kentucky      0.327140      0.625809      0.361515   \n",
       "17             Louisiana      0.384437      0.580947      0.398515   \n",
       "18                 Maine      0.478556      0.451538      0.529006   \n",
       "19              Maryland      0.605345      0.353053      0.653607   \n",
       "20         Massachusetts      0.607999      0.335157      0.656001   \n",
       "21              Michigan      0.473436      0.475860      0.506208   \n",
       "22             Minnesota      0.468617      0.453603      0.523951   \n",
       "23           Mississippi      0.397254      0.583375      0.410133   \n",
       "24              Missouri      0.380127      0.571422      0.414088   \n",
       "25               Montana      0.360898      0.566863      0.404104   \n",
       "26              Nebraska      0.339927      0.603024      0.391668   \n",
       "27                Nevada      0.479280      0.454916      0.500952   \n",
       "28         New Hampshire      0.476413      0.472678      0.528226   \n",
       "29            New Jersey      0.550154      0.417839      0.571473   \n",
       "30            New Mexico      0.486159      0.403351      0.542893   \n",
       "31              New York      0.588103      0.374752      0.608621   \n",
       "32        North Carolina      0.467024      0.505372      0.485862   \n",
       "33          North Dakota      0.277552      0.641405      0.317568   \n",
       "34                  Ohio      0.435085      0.520522      0.452393   \n",
       "35              Oklahoma      0.289298      0.653272      0.322862   \n",
       "36                Oregon      0.516778      0.410548      0.564533   \n",
       "37          Pennsylvania      0.476491      0.487921      0.499609   \n",
       "38          Rhode Island      0.555188      0.398606      0.592990   \n",
       "39        South Carolina      0.407528      0.548641      0.434301   \n",
       "40          South Dakota      0.313054      0.619527      0.352024   \n",
       "41             Tennessee      0.348981      0.610700      0.374514   \n",
       "42                 Texas      0.434429      0.525829      0.464677   \n",
       "43                  Utah      0.278376      0.458991      0.376460   \n",
       "44               Vermont      0.611431      0.326180      0.660864   \n",
       "45              Virginia      0.498557      0.450261      0.541095   \n",
       "46            Washington      0.544475      0.381725      0.579703   \n",
       "47         West Virginia      0.264685      0.686501      0.296965   \n",
       "48             Wisconsin      0.470095      0.477882      0.494540   \n",
       "49               Wyoming      0.224928      0.700517      0.265536   \n",
       "\n",
       "    per_gop_2020  swing_dem  swing_gop  \n",
       "0       0.620310   0.020169  -0.008574  \n",
       "1       0.490560   0.039776  -0.004471  \n",
       "2       0.623957   0.006127   0.012470  \n",
       "3       0.343278   0.019107   0.015680  \n",
       "4       0.418983   0.081254  -0.024610  \n",
       "5       0.392095   0.047633  -0.019515  \n",
       "6       0.053973  -0.006969   0.012753  \n",
       "7       0.398014   0.054272  -0.021212  \n",
       "8       0.512198   0.000734   0.021558  \n",
       "9       0.492596   0.038998  -0.020766  \n",
       "10      0.342689   0.015108   0.042298  \n",
       "11      0.638308   0.055030   0.046651  \n",
       "12      0.405192   0.020902   0.011059  \n",
       "13      0.570306   0.030520  -0.001407  \n",
       "14      0.530893   0.027115   0.013080  \n",
       "15      0.561736   0.052378  -0.010128  \n",
       "16      0.620866   0.034375  -0.004944  \n",
       "17      0.584609   0.014077   0.003662  \n",
       "18      0.442278   0.050450  -0.009260  \n",
       "19      0.321503   0.048262  -0.031551  \n",
       "20      0.321419   0.048002  -0.013738  \n",
       "21      0.478373   0.032772   0.002513  \n",
       "22      0.452849   0.055334  -0.000754  \n",
       "23      0.575408   0.012879  -0.007966  \n",
       "24      0.567997   0.033961  -0.003426  \n",
       "25      0.567234   0.043206   0.000371  \n",
       "26      0.582244   0.051741  -0.020780  \n",
       "27      0.476280   0.021671   0.021363  \n",
       "28      0.454550   0.051814  -0.018128  \n",
       "29      0.412616   0.021319  -0.005223  \n",
       "30      0.434967   0.056734   0.031616  \n",
       "31      0.377223   0.020519   0.002471  \n",
       "32      0.499343   0.018838  -0.006028  \n",
       "33      0.651140   0.040016   0.009735  \n",
       "34      0.532713   0.017308   0.012191  \n",
       "35      0.653733   0.033563   0.000461  \n",
       "36      0.403672   0.047756  -0.006875  \n",
       "37      0.487818   0.023118  -0.000103  \n",
       "38      0.386994   0.037802  -0.011612  \n",
       "39      0.551103   0.026773   0.002462  \n",
       "40      0.621699   0.038970   0.002172  \n",
       "41      0.606603   0.025533  -0.004098  \n",
       "42      0.520440   0.030249  -0.005389  \n",
       "43      0.581298   0.098085   0.122308  \n",
       "44      0.306738   0.049433  -0.019442  \n",
       "45      0.439955   0.042538  -0.010306  \n",
       "46      0.387670   0.035229   0.005945  \n",
       "47      0.686316   0.032280  -0.000186  \n",
       "48      0.488290   0.024445   0.010409  \n",
       "49      0.699362   0.040608  -0.001155  "
      ]
     },
     "execution_count": 785,
     "metadata": {},
     "output_type": "execute_result"
    }
   ],
   "source": [
    "# Combinar ambos años en historical_data usando \"state\"\n",
    "historical_data = full_df_actual_state_2016[['state', 'Per_dem_2016', 'Per_gop_2016']].rename(\n",
    "    columns={\"Per_dem_2016\": \"per_dem_2016\", \"Per_gop_2016\": \"per_gop_2016\"}\n",
    ").merge(\n",
    "    full_df_actual_state_2020[['state', 'Per_dem_2020', 'Per_gop_2020']].rename(\n",
    "        columns={\"Per_dem_2020\": \"per_dem_2020\", \"Per_gop_2020\": \"per_gop_2020\"}\n",
    "    ),\n",
    "    on=\"state\",\n",
    "    how=\"inner\"\n",
    ")\n",
    "\n",
    "# Calcular la diferencia en porcentaje de votos entre 2016 y 2020\n",
    "historical_data[\"swing_dem\"] = historical_data[\"per_dem_2020\"] - historical_data[\"per_dem_2016\"]\n",
    "historical_data[\"swing_gop\"] = historical_data[\"per_gop_2020\"] - historical_data[\"per_gop_2016\"]\n",
    "\n",
    "historical_data"
   ]
  },
  {
   "cell_type": "markdown",
   "metadata": {},
   "source": [
    "### 2024"
   ]
  },
  {
   "cell_type": "code",
   "execution_count": 786,
   "metadata": {},
   "outputs": [],
   "source": [
    "# Cargar datos\n",
    "data = read_csv(f\"data/final_data_{ELECTORAL_YEAR}.csv\")\n",
    "\n",
    "# Crear data para simulación\n",
    "# columns_to_drop = ['Total_2020', 'Other_2020', 'Winner_2020', \"Biden_2020\"]  # Nombres de las columnas a eliminar\n",
    "columns_to_drop = [\"votes_dem\", \"total_votes\", \"votes_others\", \"per_votes_others\", \"winner\"]  # Nombres de las columnas a eliminar\n",
    "\n",
    "data_sim = data.drop(columns=columns_to_drop)"
   ]
  },
  {
   "cell_type": "code",
   "execution_count": 787,
   "metadata": {},
   "outputs": [
    {
     "data": {
      "text/html": [
       "<div>\n",
       "<style scoped>\n",
       "    .dataframe tbody tr th:only-of-type {\n",
       "        vertical-align: middle;\n",
       "    }\n",
       "\n",
       "    .dataframe tbody tr th {\n",
       "        vertical-align: top;\n",
       "    }\n",
       "\n",
       "    .dataframe thead th {\n",
       "        text-align: right;\n",
       "    }\n",
       "</style>\n",
       "<table border=\"1\" class=\"dataframe\">\n",
       "  <thead>\n",
       "    <tr style=\"text-align: right;\">\n",
       "      <th></th>\n",
       "      <th>state</th>\n",
       "      <th>state_code</th>\n",
       "      <th>ElectoralVotes2024</th>\n",
       "      <th>Votes_dem</th>\n",
       "      <th>Votes_gop</th>\n",
       "      <th>Votes_other</th>\n",
       "      <th>Votes_total</th>\n",
       "      <th>Per_dem</th>\n",
       "      <th>Per_gop</th>\n",
       "      <th>Winner</th>\n",
       "      <th>Difference</th>\n",
       "      <th>Status</th>\n",
       "    </tr>\n",
       "  </thead>\n",
       "  <tbody>\n",
       "    <tr>\n",
       "      <th>0</th>\n",
       "      <td>Alabama</td>\n",
       "      <td>AL</td>\n",
       "      <td>9</td>\n",
       "      <td>772412.0</td>\n",
       "      <td>1462616.0</td>\n",
       "      <td>21324.0</td>\n",
       "      <td>2256352.0</td>\n",
       "      <td>0.342328</td>\n",
       "      <td>0.648222</td>\n",
       "      <td>gop</td>\n",
       "      <td>-30.589376</td>\n",
       "      <td>Safe Republican</td>\n",
       "    </tr>\n",
       "    <tr>\n",
       "      <th>1</th>\n",
       "      <td>Arizona</td>\n",
       "      <td>AZ</td>\n",
       "      <td>11</td>\n",
       "      <td>1582860.0</td>\n",
       "      <td>1770242.0</td>\n",
       "      <td>36217.0</td>\n",
       "      <td>3389319.0</td>\n",
       "      <td>0.467014</td>\n",
       "      <td>0.522300</td>\n",
       "      <td>gop</td>\n",
       "      <td>-5.528603</td>\n",
       "      <td>Likely Republican</td>\n",
       "    </tr>\n",
       "    <tr>\n",
       "      <th>2</th>\n",
       "      <td>Arkansas</td>\n",
       "      <td>AR</td>\n",
       "      <td>6</td>\n",
       "      <td>396905.0</td>\n",
       "      <td>759241.0</td>\n",
       "      <td>26530.0</td>\n",
       "      <td>1182676.0</td>\n",
       "      <td>0.335599</td>\n",
       "      <td>0.641969</td>\n",
       "      <td>gop</td>\n",
       "      <td>-30.636962</td>\n",
       "      <td>Safe Republican</td>\n",
       "    </tr>\n",
       "    <tr>\n",
       "      <th>3</th>\n",
       "      <td>California</td>\n",
       "      <td>CA</td>\n",
       "      <td>54</td>\n",
       "      <td>9276179.0</td>\n",
       "      <td>6081697.0</td>\n",
       "      <td>504660.0</td>\n",
       "      <td>15862536.0</td>\n",
       "      <td>0.584785</td>\n",
       "      <td>0.383400</td>\n",
       "      <td>dem</td>\n",
       "      <td>20.138533</td>\n",
       "      <td>Safe Democrat</td>\n",
       "    </tr>\n",
       "    <tr>\n",
       "      <th>4</th>\n",
       "      <td>Colorado</td>\n",
       "      <td>CO</td>\n",
       "      <td>10</td>\n",
       "      <td>1728159.0</td>\n",
       "      <td>1377441.0</td>\n",
       "      <td>85273.0</td>\n",
       "      <td>3190873.0</td>\n",
       "      <td>0.541594</td>\n",
       "      <td>0.431682</td>\n",
       "      <td>dem</td>\n",
       "      <td>10.991287</td>\n",
       "      <td>Safe Democrat</td>\n",
       "    </tr>\n",
       "    <tr>\n",
       "      <th>5</th>\n",
       "      <td>Connecticut</td>\n",
       "      <td>CT</td>\n",
       "      <td>7</td>\n",
       "      <td>810859.0</td>\n",
       "      <td>614616.0</td>\n",
       "      <td>24654.0</td>\n",
       "      <td>1450129.0</td>\n",
       "      <td>0.559163</td>\n",
       "      <td>0.423835</td>\n",
       "      <td>dem</td>\n",
       "      <td>13.532796</td>\n",
       "      <td>Safe Democrat</td>\n",
       "    </tr>\n",
       "    <tr>\n",
       "      <th>6</th>\n",
       "      <td>District of Columbia</td>\n",
       "      <td>DC</td>\n",
       "      <td>3</td>\n",
       "      <td>36882.0</td>\n",
       "      <td>2056.0</td>\n",
       "      <td>1525.0</td>\n",
       "      <td>40463.0</td>\n",
       "      <td>0.911499</td>\n",
       "      <td>0.050812</td>\n",
       "      <td>dem</td>\n",
       "      <td>86.068754</td>\n",
       "      <td>Safe Democrat</td>\n",
       "    </tr>\n",
       "    <tr>\n",
       "      <th>7</th>\n",
       "      <td>Delaware</td>\n",
       "      <td>DE</td>\n",
       "      <td>3</td>\n",
       "      <td>289758.0</td>\n",
       "      <td>214351.0</td>\n",
       "      <td>7588.0</td>\n",
       "      <td>511697.0</td>\n",
       "      <td>0.566269</td>\n",
       "      <td>0.418902</td>\n",
       "      <td>dem</td>\n",
       "      <td>14.736651</td>\n",
       "      <td>Safe Democrat</td>\n",
       "    </tr>\n",
       "    <tr>\n",
       "      <th>8</th>\n",
       "      <td>Florida</td>\n",
       "      <td>FL</td>\n",
       "      <td>30</td>\n",
       "      <td>4683038.0</td>\n",
       "      <td>6110125.0</td>\n",
       "      <td>100384.0</td>\n",
       "      <td>10893547.0</td>\n",
       "      <td>0.429891</td>\n",
       "      <td>0.560894</td>\n",
       "      <td>gop</td>\n",
       "      <td>-13.100297</td>\n",
       "      <td>Safe Republican</td>\n",
       "    </tr>\n",
       "    <tr>\n",
       "      <th>9</th>\n",
       "      <td>Georgia</td>\n",
       "      <td>GA</td>\n",
       "      <td>16</td>\n",
       "      <td>2548017.0</td>\n",
       "      <td>2663117.0</td>\n",
       "      <td>38913.0</td>\n",
       "      <td>5250047.0</td>\n",
       "      <td>0.485332</td>\n",
       "      <td>0.507256</td>\n",
       "      <td>gop</td>\n",
       "      <td>-2.192361</td>\n",
       "      <td>Toss-Up</td>\n",
       "    </tr>\n",
       "    <tr>\n",
       "      <th>10</th>\n",
       "      <td>Hawaii</td>\n",
       "      <td>HI</td>\n",
       "      <td>4</td>\n",
       "      <td>313044.0</td>\n",
       "      <td>193661.0</td>\n",
       "      <td>9996.0</td>\n",
       "      <td>516701.0</td>\n",
       "      <td>0.605851</td>\n",
       "      <td>0.374803</td>\n",
       "      <td>dem</td>\n",
       "      <td>23.104852</td>\n",
       "      <td>Safe Democrat</td>\n",
       "    </tr>\n",
       "    <tr>\n",
       "      <th>11</th>\n",
       "      <td>Idaho</td>\n",
       "      <td>ID</td>\n",
       "      <td>4</td>\n",
       "      <td>274972.0</td>\n",
       "      <td>605246.0</td>\n",
       "      <td>24594.0</td>\n",
       "      <td>904812.0</td>\n",
       "      <td>0.303900</td>\n",
       "      <td>0.668919</td>\n",
       "      <td>gop</td>\n",
       "      <td>-36.501947</td>\n",
       "      <td>Safe Republican</td>\n",
       "    </tr>\n",
       "    <tr>\n",
       "      <th>12</th>\n",
       "      <td>Illinois</td>\n",
       "      <td>IL</td>\n",
       "      <td>19</td>\n",
       "      <td>3062863.0</td>\n",
       "      <td>2449079.0</td>\n",
       "      <td>80426.0</td>\n",
       "      <td>5592368.0</td>\n",
       "      <td>0.547686</td>\n",
       "      <td>0.437932</td>\n",
       "      <td>dem</td>\n",
       "      <td>10.975386</td>\n",
       "      <td>Safe Democrat</td>\n",
       "    </tr>\n",
       "    <tr>\n",
       "      <th>13</th>\n",
       "      <td>Indiana</td>\n",
       "      <td>IN</td>\n",
       "      <td>11</td>\n",
       "      <td>1163603.0</td>\n",
       "      <td>1720347.0</td>\n",
       "      <td>49750.0</td>\n",
       "      <td>2933700.0</td>\n",
       "      <td>0.396633</td>\n",
       "      <td>0.586409</td>\n",
       "      <td>gop</td>\n",
       "      <td>-18.977537</td>\n",
       "      <td>Safe Republican</td>\n",
       "    </tr>\n",
       "    <tr>\n",
       "      <th>14</th>\n",
       "      <td>Iowa</td>\n",
       "      <td>IA</td>\n",
       "      <td>6</td>\n",
       "      <td>707278.0</td>\n",
       "      <td>927019.0</td>\n",
       "      <td>22552.0</td>\n",
       "      <td>1656849.0</td>\n",
       "      <td>0.426881</td>\n",
       "      <td>0.559507</td>\n",
       "      <td>gop</td>\n",
       "      <td>-13.262585</td>\n",
       "      <td>Safe Republican</td>\n",
       "    </tr>\n",
       "    <tr>\n",
       "      <th>15</th>\n",
       "      <td>Kansas</td>\n",
       "      <td>KS</td>\n",
       "      <td>6</td>\n",
       "      <td>544853.0</td>\n",
       "      <td>758802.0</td>\n",
       "      <td>23936.0</td>\n",
       "      <td>1327591.0</td>\n",
       "      <td>0.410407</td>\n",
       "      <td>0.571563</td>\n",
       "      <td>gop</td>\n",
       "      <td>-16.115581</td>\n",
       "      <td>Safe Republican</td>\n",
       "    </tr>\n",
       "    <tr>\n",
       "      <th>16</th>\n",
       "      <td>Kentucky</td>\n",
       "      <td>KY</td>\n",
       "      <td>8</td>\n",
       "      <td>704043.0</td>\n",
       "      <td>1337494.0</td>\n",
       "      <td>31772.0</td>\n",
       "      <td>2073309.0</td>\n",
       "      <td>0.339575</td>\n",
       "      <td>0.645101</td>\n",
       "      <td>gop</td>\n",
       "      <td>-30.552658</td>\n",
       "      <td>Safe Republican</td>\n",
       "    </tr>\n",
       "    <tr>\n",
       "      <th>17</th>\n",
       "      <td>Louisiana</td>\n",
       "      <td>LA</td>\n",
       "      <td>8</td>\n",
       "      <td>766870.0</td>\n",
       "      <td>1208505.0</td>\n",
       "      <td>31600.0</td>\n",
       "      <td>2006975.0</td>\n",
       "      <td>0.382102</td>\n",
       "      <td>0.602152</td>\n",
       "      <td>gop</td>\n",
       "      <td>-22.005008</td>\n",
       "      <td>Safe Republican</td>\n",
       "    </tr>\n",
       "    <tr>\n",
       "      <th>18</th>\n",
       "      <td>Maine</td>\n",
       "      <td>ME</td>\n",
       "      <td>4</td>\n",
       "      <td>435652.0</td>\n",
       "      <td>377977.0</td>\n",
       "      <td>17746.0</td>\n",
       "      <td>831375.0</td>\n",
       "      <td>0.524014</td>\n",
       "      <td>0.454641</td>\n",
       "      <td>dem</td>\n",
       "      <td>6.937303</td>\n",
       "      <td>Likely Democrat</td>\n",
       "    </tr>\n",
       "    <tr>\n",
       "      <th>19</th>\n",
       "      <td>Maryland</td>\n",
       "      <td>MD</td>\n",
       "      <td>10</td>\n",
       "      <td>1902577.0</td>\n",
       "      <td>1035550.0</td>\n",
       "      <td>77523.0</td>\n",
       "      <td>3015650.0</td>\n",
       "      <td>0.630901</td>\n",
       "      <td>0.343392</td>\n",
       "      <td>dem</td>\n",
       "      <td>28.750916</td>\n",
       "      <td>Safe Democrat</td>\n",
       "    </tr>\n",
       "    <tr>\n",
       "      <th>20</th>\n",
       "      <td>Massachusetts</td>\n",
       "      <td>MA</td>\n",
       "      <td>11</td>\n",
       "      <td>2126545.0</td>\n",
       "      <td>1251308.0</td>\n",
       "      <td>75584.0</td>\n",
       "      <td>3453437.0</td>\n",
       "      <td>0.615776</td>\n",
       "      <td>0.362337</td>\n",
       "      <td>dem</td>\n",
       "      <td>25.343940</td>\n",
       "      <td>Safe Democrat</td>\n",
       "    </tr>\n",
       "    <tr>\n",
       "      <th>21</th>\n",
       "      <td>Michigan</td>\n",
       "      <td>MI</td>\n",
       "      <td>15</td>\n",
       "      <td>2736533.0</td>\n",
       "      <td>2816636.0</td>\n",
       "      <td>109335.0</td>\n",
       "      <td>5662504.0</td>\n",
       "      <td>0.483273</td>\n",
       "      <td>0.497419</td>\n",
       "      <td>gop</td>\n",
       "      <td>-1.414622</td>\n",
       "      <td>Toss-Up</td>\n",
       "    </tr>\n",
       "    <tr>\n",
       "      <th>22</th>\n",
       "      <td>Minnesota</td>\n",
       "      <td>MN</td>\n",
       "      <td>10</td>\n",
       "      <td>1656979.0</td>\n",
       "      <td>1519032.0</td>\n",
       "      <td>64905.0</td>\n",
       "      <td>3240916.0</td>\n",
       "      <td>0.511269</td>\n",
       "      <td>0.468705</td>\n",
       "      <td>dem</td>\n",
       "      <td>4.256420</td>\n",
       "      <td>Likely Democrat</td>\n",
       "    </tr>\n",
       "    <tr>\n",
       "      <th>23</th>\n",
       "      <td>Mississippi</td>\n",
       "      <td>MS</td>\n",
       "      <td>6</td>\n",
       "      <td>466668.0</td>\n",
       "      <td>747744.0</td>\n",
       "      <td>13596.0</td>\n",
       "      <td>1228008.0</td>\n",
       "      <td>0.380020</td>\n",
       "      <td>0.608908</td>\n",
       "      <td>gop</td>\n",
       "      <td>-22.888776</td>\n",
       "      <td>Safe Republican</td>\n",
       "    </tr>\n",
       "    <tr>\n",
       "      <th>24</th>\n",
       "      <td>Missouri</td>\n",
       "      <td>MO</td>\n",
       "      <td>10</td>\n",
       "      <td>1200599.0</td>\n",
       "      <td>1751986.0</td>\n",
       "      <td>41011.0</td>\n",
       "      <td>2993596.0</td>\n",
       "      <td>0.401056</td>\n",
       "      <td>0.585245</td>\n",
       "      <td>gop</td>\n",
       "      <td>-18.418885</td>\n",
       "      <td>Safe Republican</td>\n",
       "    </tr>\n",
       "    <tr>\n",
       "      <th>25</th>\n",
       "      <td>Montana</td>\n",
       "      <td>MT</td>\n",
       "      <td>4</td>\n",
       "      <td>231906.0</td>\n",
       "      <td>352079.0</td>\n",
       "      <td>18978.0</td>\n",
       "      <td>602963.0</td>\n",
       "      <td>0.384611</td>\n",
       "      <td>0.583915</td>\n",
       "      <td>gop</td>\n",
       "      <td>-19.930410</td>\n",
       "      <td>Safe Republican</td>\n",
       "    </tr>\n",
       "    <tr>\n",
       "      <th>26</th>\n",
       "      <td>Nebraska</td>\n",
       "      <td>NE</td>\n",
       "      <td>5</td>\n",
       "      <td>369995.0</td>\n",
       "      <td>564816.0</td>\n",
       "      <td>12348.0</td>\n",
       "      <td>947159.0</td>\n",
       "      <td>0.390637</td>\n",
       "      <td>0.596326</td>\n",
       "      <td>gop</td>\n",
       "      <td>-20.568986</td>\n",
       "      <td>Safe Republican</td>\n",
       "    </tr>\n",
       "    <tr>\n",
       "      <th>27</th>\n",
       "      <td>Nevada</td>\n",
       "      <td>NV</td>\n",
       "      <td>6</td>\n",
       "      <td>704284.0</td>\n",
       "      <td>749097.0</td>\n",
       "      <td>28384.0</td>\n",
       "      <td>1481765.0</td>\n",
       "      <td>0.475301</td>\n",
       "      <td>0.505544</td>\n",
       "      <td>gop</td>\n",
       "      <td>-3.024299</td>\n",
       "      <td>Likely Republican</td>\n",
       "    </tr>\n",
       "    <tr>\n",
       "      <th>28</th>\n",
       "      <td>New Hampshire</td>\n",
       "      <td>NH</td>\n",
       "      <td>4</td>\n",
       "      <td>418496.0</td>\n",
       "      <td>395578.0</td>\n",
       "      <td>8079.0</td>\n",
       "      <td>822153.0</td>\n",
       "      <td>0.509024</td>\n",
       "      <td>0.481149</td>\n",
       "      <td>dem</td>\n",
       "      <td>2.787559</td>\n",
       "      <td>Likely Democrat</td>\n",
       "    </tr>\n",
       "    <tr>\n",
       "      <th>29</th>\n",
       "      <td>New Jersey</td>\n",
       "      <td>NJ</td>\n",
       "      <td>14</td>\n",
       "      <td>2220713.0</td>\n",
       "      <td>1968215.0</td>\n",
       "      <td>83797.0</td>\n",
       "      <td>4272725.0</td>\n",
       "      <td>0.519742</td>\n",
       "      <td>0.460646</td>\n",
       "      <td>dem</td>\n",
       "      <td>5.909531</td>\n",
       "      <td>Likely Democrat</td>\n",
       "    </tr>\n",
       "    <tr>\n",
       "      <th>30</th>\n",
       "      <td>New Mexico</td>\n",
       "      <td>NM</td>\n",
       "      <td>5</td>\n",
       "      <td>478802.0</td>\n",
       "      <td>423391.0</td>\n",
       "      <td>21210.0</td>\n",
       "      <td>923403.0</td>\n",
       "      <td>0.518519</td>\n",
       "      <td>0.458512</td>\n",
       "      <td>dem</td>\n",
       "      <td>6.000739</td>\n",
       "      <td>Likely Democrat</td>\n",
       "    </tr>\n",
       "    <tr>\n",
       "      <th>31</th>\n",
       "      <td>New York</td>\n",
       "      <td>NY</td>\n",
       "      <td>28</td>\n",
       "      <td>4619195.0</td>\n",
       "      <td>3578899.0</td>\n",
       "      <td>0.0</td>\n",
       "      <td>8198094.0</td>\n",
       "      <td>0.563447</td>\n",
       "      <td>0.436553</td>\n",
       "      <td>dem</td>\n",
       "      <td>12.689486</td>\n",
       "      <td>Safe Democrat</td>\n",
       "    </tr>\n",
       "    <tr>\n",
       "      <th>32</th>\n",
       "      <td>North Carolina</td>\n",
       "      <td>NC</td>\n",
       "      <td>16</td>\n",
       "      <td>2715375.0</td>\n",
       "      <td>2898423.0</td>\n",
       "      <td>65849.0</td>\n",
       "      <td>5679647.0</td>\n",
       "      <td>0.478089</td>\n",
       "      <td>0.510317</td>\n",
       "      <td>gop</td>\n",
       "      <td>-3.222876</td>\n",
       "      <td>Likely Republican</td>\n",
       "    </tr>\n",
       "    <tr>\n",
       "      <th>33</th>\n",
       "      <td>North Dakota</td>\n",
       "      <td>ND</td>\n",
       "      <td>3</td>\n",
       "      <td>112327.0</td>\n",
       "      <td>246505.0</td>\n",
       "      <td>6227.0</td>\n",
       "      <td>365059.0</td>\n",
       "      <td>0.307695</td>\n",
       "      <td>0.675247</td>\n",
       "      <td>gop</td>\n",
       "      <td>-36.755155</td>\n",
       "      <td>Safe Republican</td>\n",
       "    </tr>\n",
       "    <tr>\n",
       "      <th>34</th>\n",
       "      <td>Ohio</td>\n",
       "      <td>OH</td>\n",
       "      <td>17</td>\n",
       "      <td>2533699.0</td>\n",
       "      <td>3180116.0</td>\n",
       "      <td>51202.0</td>\n",
       "      <td>5765017.0</td>\n",
       "      <td>0.439495</td>\n",
       "      <td>0.551623</td>\n",
       "      <td>gop</td>\n",
       "      <td>-11.212751</td>\n",
       "      <td>Safe Republican</td>\n",
       "    </tr>\n",
       "    <tr>\n",
       "      <th>35</th>\n",
       "      <td>Oklahoma</td>\n",
       "      <td>OK</td>\n",
       "      <td>7</td>\n",
       "      <td>499599.0</td>\n",
       "      <td>1036213.0</td>\n",
       "      <td>30361.0</td>\n",
       "      <td>1566173.0</td>\n",
       "      <td>0.318993</td>\n",
       "      <td>0.661621</td>\n",
       "      <td>gop</td>\n",
       "      <td>-34.262754</td>\n",
       "      <td>Safe Republican</td>\n",
       "    </tr>\n",
       "    <tr>\n",
       "      <th>36</th>\n",
       "      <td>Oregon</td>\n",
       "      <td>OR</td>\n",
       "      <td>8</td>\n",
       "      <td>1228410.0</td>\n",
       "      <td>910702.0</td>\n",
       "      <td>68480.0</td>\n",
       "      <td>2207592.0</td>\n",
       "      <td>0.556448</td>\n",
       "      <td>0.412532</td>\n",
       "      <td>dem</td>\n",
       "      <td>14.391609</td>\n",
       "      <td>Safe Democrat</td>\n",
       "    </tr>\n",
       "    <tr>\n",
       "      <th>37</th>\n",
       "      <td>Pennsylvania</td>\n",
       "      <td>PA</td>\n",
       "      <td>19</td>\n",
       "      <td>3423042.0</td>\n",
       "      <td>3543308.0</td>\n",
       "      <td>67856.0</td>\n",
       "      <td>7034206.0</td>\n",
       "      <td>0.486628</td>\n",
       "      <td>0.503725</td>\n",
       "      <td>gop</td>\n",
       "      <td>-1.709731</td>\n",
       "      <td>Toss-Up</td>\n",
       "    </tr>\n",
       "    <tr>\n",
       "      <th>38</th>\n",
       "      <td>Rhode Island</td>\n",
       "      <td>RI</td>\n",
       "      <td>4</td>\n",
       "      <td>285156.0</td>\n",
       "      <td>214406.0</td>\n",
       "      <td>11097.0</td>\n",
       "      <td>510659.0</td>\n",
       "      <td>0.558408</td>\n",
       "      <td>0.419861</td>\n",
       "      <td>dem</td>\n",
       "      <td>13.854647</td>\n",
       "      <td>Safe Democrat</td>\n",
       "    </tr>\n",
       "    <tr>\n",
       "      <th>39</th>\n",
       "      <td>South Carolina</td>\n",
       "      <td>SC</td>\n",
       "      <td>9</td>\n",
       "      <td>1028452.0</td>\n",
       "      <td>1483747.0</td>\n",
       "      <td>35941.0</td>\n",
       "      <td>2548140.0</td>\n",
       "      <td>0.403609</td>\n",
       "      <td>0.582286</td>\n",
       "      <td>gop</td>\n",
       "      <td>-17.867739</td>\n",
       "      <td>Safe Republican</td>\n",
       "    </tr>\n",
       "    <tr>\n",
       "      <th>40</th>\n",
       "      <td>South Dakota</td>\n",
       "      <td>SD</td>\n",
       "      <td>3</td>\n",
       "      <td>144292.0</td>\n",
       "      <td>271675.0</td>\n",
       "      <td>9893.0</td>\n",
       "      <td>425860.0</td>\n",
       "      <td>0.338825</td>\n",
       "      <td>0.637944</td>\n",
       "      <td>gop</td>\n",
       "      <td>-29.911943</td>\n",
       "      <td>Safe Republican</td>\n",
       "    </tr>\n",
       "    <tr>\n",
       "      <th>41</th>\n",
       "      <td>Tennessee</td>\n",
       "      <td>TN</td>\n",
       "      <td>11</td>\n",
       "      <td>1056265.0</td>\n",
       "      <td>1966865.0</td>\n",
       "      <td>40812.0</td>\n",
       "      <td>3063942.0</td>\n",
       "      <td>0.344741</td>\n",
       "      <td>0.641939</td>\n",
       "      <td>gop</td>\n",
       "      <td>-29.719884</td>\n",
       "      <td>Safe Republican</td>\n",
       "    </tr>\n",
       "    <tr>\n",
       "      <th>42</th>\n",
       "      <td>Texas</td>\n",
       "      <td>TX</td>\n",
       "      <td>40</td>\n",
       "      <td>4835199.0</td>\n",
       "      <td>6393396.0</td>\n",
       "      <td>151255.0</td>\n",
       "      <td>11379850.0</td>\n",
       "      <td>0.424891</td>\n",
       "      <td>0.561817</td>\n",
       "      <td>gop</td>\n",
       "      <td>-13.692597</td>\n",
       "      <td>Safe Republican</td>\n",
       "    </tr>\n",
       "    <tr>\n",
       "      <th>43</th>\n",
       "      <td>Utah</td>\n",
       "      <td>UT</td>\n",
       "      <td>6</td>\n",
       "      <td>562566.0</td>\n",
       "      <td>883818.0</td>\n",
       "      <td>41567.0</td>\n",
       "      <td>1487951.0</td>\n",
       "      <td>0.378081</td>\n",
       "      <td>0.593983</td>\n",
       "      <td>gop</td>\n",
       "      <td>-21.590227</td>\n",
       "      <td>Safe Republican</td>\n",
       "    </tr>\n",
       "    <tr>\n",
       "      <th>44</th>\n",
       "      <td>Vermont</td>\n",
       "      <td>VT</td>\n",
       "      <td>3</td>\n",
       "      <td>235791.0</td>\n",
       "      <td>119395.0</td>\n",
       "      <td>11203.0</td>\n",
       "      <td>366389.0</td>\n",
       "      <td>0.643554</td>\n",
       "      <td>0.325869</td>\n",
       "      <td>dem</td>\n",
       "      <td>31.768421</td>\n",
       "      <td>Safe Democrat</td>\n",
       "    </tr>\n",
       "    <tr>\n",
       "      <th>45</th>\n",
       "      <td>Virginia</td>\n",
       "      <td>VA</td>\n",
       "      <td>13</td>\n",
       "      <td>2335395.0</td>\n",
       "      <td>2075085.0</td>\n",
       "      <td>72096.0</td>\n",
       "      <td>4482576.0</td>\n",
       "      <td>0.520994</td>\n",
       "      <td>0.462922</td>\n",
       "      <td>dem</td>\n",
       "      <td>5.807152</td>\n",
       "      <td>Likely Democrat</td>\n",
       "    </tr>\n",
       "    <tr>\n",
       "      <th>46</th>\n",
       "      <td>Washington</td>\n",
       "      <td>WA</td>\n",
       "      <td>12</td>\n",
       "      <td>2245849.0</td>\n",
       "      <td>1530923.0</td>\n",
       "      <td>122063.0</td>\n",
       "      <td>3898835.0</td>\n",
       "      <td>0.576031</td>\n",
       "      <td>0.392662</td>\n",
       "      <td>dem</td>\n",
       "      <td>18.336913</td>\n",
       "      <td>Safe Democrat</td>\n",
       "    </tr>\n",
       "    <tr>\n",
       "      <th>47</th>\n",
       "      <td>West Virginia</td>\n",
       "      <td>WV</td>\n",
       "      <td>4</td>\n",
       "      <td>214309.0</td>\n",
       "      <td>533556.0</td>\n",
       "      <td>14525.0</td>\n",
       "      <td>762390.0</td>\n",
       "      <td>0.281102</td>\n",
       "      <td>0.699847</td>\n",
       "      <td>gop</td>\n",
       "      <td>-41.874500</td>\n",
       "      <td>Safe Republican</td>\n",
       "    </tr>\n",
       "    <tr>\n",
       "      <th>48</th>\n",
       "      <td>Wisconsin</td>\n",
       "      <td>WI</td>\n",
       "      <td>10</td>\n",
       "      <td>1668229.0</td>\n",
       "      <td>1697626.0</td>\n",
       "      <td>49358.0</td>\n",
       "      <td>3415213.0</td>\n",
       "      <td>0.488470</td>\n",
       "      <td>0.497078</td>\n",
       "      <td>gop</td>\n",
       "      <td>-0.860766</td>\n",
       "      <td>Toss-Up</td>\n",
       "    </tr>\n",
       "    <tr>\n",
       "      <th>49</th>\n",
       "      <td>Wyoming</td>\n",
       "      <td>WY</td>\n",
       "      <td>3</td>\n",
       "      <td>69527.0</td>\n",
       "      <td>192633.0</td>\n",
       "      <td>4193.0</td>\n",
       "      <td>266353.0</td>\n",
       "      <td>0.261033</td>\n",
       "      <td>0.723224</td>\n",
       "      <td>gop</td>\n",
       "      <td>-46.219115</td>\n",
       "      <td>Safe Republican</td>\n",
       "    </tr>\n",
       "  </tbody>\n",
       "</table>\n",
       "</div>"
      ],
      "text/plain": [
       "                   state state_code  ElectoralVotes2024  Votes_dem  Votes_gop  \\\n",
       "0                Alabama         AL                   9   772412.0  1462616.0   \n",
       "1                Arizona         AZ                  11  1582860.0  1770242.0   \n",
       "2               Arkansas         AR                   6   396905.0   759241.0   \n",
       "3             California         CA                  54  9276179.0  6081697.0   \n",
       "4               Colorado         CO                  10  1728159.0  1377441.0   \n",
       "5            Connecticut         CT                   7   810859.0   614616.0   \n",
       "6   District of Columbia         DC                   3    36882.0     2056.0   \n",
       "7               Delaware         DE                   3   289758.0   214351.0   \n",
       "8                Florida         FL                  30  4683038.0  6110125.0   \n",
       "9                Georgia         GA                  16  2548017.0  2663117.0   \n",
       "10                Hawaii         HI                   4   313044.0   193661.0   \n",
       "11                 Idaho         ID                   4   274972.0   605246.0   \n",
       "12              Illinois         IL                  19  3062863.0  2449079.0   \n",
       "13               Indiana         IN                  11  1163603.0  1720347.0   \n",
       "14                  Iowa         IA                   6   707278.0   927019.0   \n",
       "15                Kansas         KS                   6   544853.0   758802.0   \n",
       "16              Kentucky         KY                   8   704043.0  1337494.0   \n",
       "17             Louisiana         LA                   8   766870.0  1208505.0   \n",
       "18                 Maine         ME                   4   435652.0   377977.0   \n",
       "19              Maryland         MD                  10  1902577.0  1035550.0   \n",
       "20         Massachusetts         MA                  11  2126545.0  1251308.0   \n",
       "21              Michigan         MI                  15  2736533.0  2816636.0   \n",
       "22             Minnesota         MN                  10  1656979.0  1519032.0   \n",
       "23           Mississippi         MS                   6   466668.0   747744.0   \n",
       "24              Missouri         MO                  10  1200599.0  1751986.0   \n",
       "25               Montana         MT                   4   231906.0   352079.0   \n",
       "26              Nebraska         NE                   5   369995.0   564816.0   \n",
       "27                Nevada         NV                   6   704284.0   749097.0   \n",
       "28         New Hampshire         NH                   4   418496.0   395578.0   \n",
       "29            New Jersey         NJ                  14  2220713.0  1968215.0   \n",
       "30            New Mexico         NM                   5   478802.0   423391.0   \n",
       "31              New York         NY                  28  4619195.0  3578899.0   \n",
       "32        North Carolina         NC                  16  2715375.0  2898423.0   \n",
       "33          North Dakota         ND                   3   112327.0   246505.0   \n",
       "34                  Ohio         OH                  17  2533699.0  3180116.0   \n",
       "35              Oklahoma         OK                   7   499599.0  1036213.0   \n",
       "36                Oregon         OR                   8  1228410.0   910702.0   \n",
       "37          Pennsylvania         PA                  19  3423042.0  3543308.0   \n",
       "38          Rhode Island         RI                   4   285156.0   214406.0   \n",
       "39        South Carolina         SC                   9  1028452.0  1483747.0   \n",
       "40          South Dakota         SD                   3   144292.0   271675.0   \n",
       "41             Tennessee         TN                  11  1056265.0  1966865.0   \n",
       "42                 Texas         TX                  40  4835199.0  6393396.0   \n",
       "43                  Utah         UT                   6   562566.0   883818.0   \n",
       "44               Vermont         VT                   3   235791.0   119395.0   \n",
       "45              Virginia         VA                  13  2335395.0  2075085.0   \n",
       "46            Washington         WA                  12  2245849.0  1530923.0   \n",
       "47         West Virginia         WV                   4   214309.0   533556.0   \n",
       "48             Wisconsin         WI                  10  1668229.0  1697626.0   \n",
       "49               Wyoming         WY                   3    69527.0   192633.0   \n",
       "\n",
       "    Votes_other  Votes_total   Per_dem   Per_gop Winner  Difference  \\\n",
       "0       21324.0    2256352.0  0.342328  0.648222    gop  -30.589376   \n",
       "1       36217.0    3389319.0  0.467014  0.522300    gop   -5.528603   \n",
       "2       26530.0    1182676.0  0.335599  0.641969    gop  -30.636962   \n",
       "3      504660.0   15862536.0  0.584785  0.383400    dem   20.138533   \n",
       "4       85273.0    3190873.0  0.541594  0.431682    dem   10.991287   \n",
       "5       24654.0    1450129.0  0.559163  0.423835    dem   13.532796   \n",
       "6        1525.0      40463.0  0.911499  0.050812    dem   86.068754   \n",
       "7        7588.0     511697.0  0.566269  0.418902    dem   14.736651   \n",
       "8      100384.0   10893547.0  0.429891  0.560894    gop  -13.100297   \n",
       "9       38913.0    5250047.0  0.485332  0.507256    gop   -2.192361   \n",
       "10       9996.0     516701.0  0.605851  0.374803    dem   23.104852   \n",
       "11      24594.0     904812.0  0.303900  0.668919    gop  -36.501947   \n",
       "12      80426.0    5592368.0  0.547686  0.437932    dem   10.975386   \n",
       "13      49750.0    2933700.0  0.396633  0.586409    gop  -18.977537   \n",
       "14      22552.0    1656849.0  0.426881  0.559507    gop  -13.262585   \n",
       "15      23936.0    1327591.0  0.410407  0.571563    gop  -16.115581   \n",
       "16      31772.0    2073309.0  0.339575  0.645101    gop  -30.552658   \n",
       "17      31600.0    2006975.0  0.382102  0.602152    gop  -22.005008   \n",
       "18      17746.0     831375.0  0.524014  0.454641    dem    6.937303   \n",
       "19      77523.0    3015650.0  0.630901  0.343392    dem   28.750916   \n",
       "20      75584.0    3453437.0  0.615776  0.362337    dem   25.343940   \n",
       "21     109335.0    5662504.0  0.483273  0.497419    gop   -1.414622   \n",
       "22      64905.0    3240916.0  0.511269  0.468705    dem    4.256420   \n",
       "23      13596.0    1228008.0  0.380020  0.608908    gop  -22.888776   \n",
       "24      41011.0    2993596.0  0.401056  0.585245    gop  -18.418885   \n",
       "25      18978.0     602963.0  0.384611  0.583915    gop  -19.930410   \n",
       "26      12348.0     947159.0  0.390637  0.596326    gop  -20.568986   \n",
       "27      28384.0    1481765.0  0.475301  0.505544    gop   -3.024299   \n",
       "28       8079.0     822153.0  0.509024  0.481149    dem    2.787559   \n",
       "29      83797.0    4272725.0  0.519742  0.460646    dem    5.909531   \n",
       "30      21210.0     923403.0  0.518519  0.458512    dem    6.000739   \n",
       "31          0.0    8198094.0  0.563447  0.436553    dem   12.689486   \n",
       "32      65849.0    5679647.0  0.478089  0.510317    gop   -3.222876   \n",
       "33       6227.0     365059.0  0.307695  0.675247    gop  -36.755155   \n",
       "34      51202.0    5765017.0  0.439495  0.551623    gop  -11.212751   \n",
       "35      30361.0    1566173.0  0.318993  0.661621    gop  -34.262754   \n",
       "36      68480.0    2207592.0  0.556448  0.412532    dem   14.391609   \n",
       "37      67856.0    7034206.0  0.486628  0.503725    gop   -1.709731   \n",
       "38      11097.0     510659.0  0.558408  0.419861    dem   13.854647   \n",
       "39      35941.0    2548140.0  0.403609  0.582286    gop  -17.867739   \n",
       "40       9893.0     425860.0  0.338825  0.637944    gop  -29.911943   \n",
       "41      40812.0    3063942.0  0.344741  0.641939    gop  -29.719884   \n",
       "42     151255.0   11379850.0  0.424891  0.561817    gop  -13.692597   \n",
       "43      41567.0    1487951.0  0.378081  0.593983    gop  -21.590227   \n",
       "44      11203.0     366389.0  0.643554  0.325869    dem   31.768421   \n",
       "45      72096.0    4482576.0  0.520994  0.462922    dem    5.807152   \n",
       "46     122063.0    3898835.0  0.576031  0.392662    dem   18.336913   \n",
       "47      14525.0     762390.0  0.281102  0.699847    gop  -41.874500   \n",
       "48      49358.0    3415213.0  0.488470  0.497078    gop   -0.860766   \n",
       "49       4193.0     266353.0  0.261033  0.723224    gop  -46.219115   \n",
       "\n",
       "               Status  \n",
       "0     Safe Republican  \n",
       "1   Likely Republican  \n",
       "2     Safe Republican  \n",
       "3       Safe Democrat  \n",
       "4       Safe Democrat  \n",
       "5       Safe Democrat  \n",
       "6       Safe Democrat  \n",
       "7       Safe Democrat  \n",
       "8     Safe Republican  \n",
       "9             Toss-Up  \n",
       "10      Safe Democrat  \n",
       "11    Safe Republican  \n",
       "12      Safe Democrat  \n",
       "13    Safe Republican  \n",
       "14    Safe Republican  \n",
       "15    Safe Republican  \n",
       "16    Safe Republican  \n",
       "17    Safe Republican  \n",
       "18    Likely Democrat  \n",
       "19      Safe Democrat  \n",
       "20      Safe Democrat  \n",
       "21            Toss-Up  \n",
       "22    Likely Democrat  \n",
       "23    Safe Republican  \n",
       "24    Safe Republican  \n",
       "25    Safe Republican  \n",
       "26    Safe Republican  \n",
       "27  Likely Republican  \n",
       "28    Likely Democrat  \n",
       "29    Likely Democrat  \n",
       "30    Likely Democrat  \n",
       "31      Safe Democrat  \n",
       "32  Likely Republican  \n",
       "33    Safe Republican  \n",
       "34    Safe Republican  \n",
       "35    Safe Republican  \n",
       "36      Safe Democrat  \n",
       "37            Toss-Up  \n",
       "38      Safe Democrat  \n",
       "39    Safe Republican  \n",
       "40    Safe Republican  \n",
       "41    Safe Republican  \n",
       "42    Safe Republican  \n",
       "43    Safe Republican  \n",
       "44      Safe Democrat  \n",
       "45    Likely Democrat  \n",
       "46      Safe Democrat  \n",
       "47    Safe Republican  \n",
       "48            Toss-Up  \n",
       "49    Safe Republican  "
      ]
     },
     "execution_count": 787,
     "metadata": {},
     "output_type": "execute_result"
    }
   ],
   "source": [
    "# Cargar datos electorales reales\n",
    "df_actual = pd.DataFrame({'Votes_dem': data['votes_dem'], \n",
    "                            'Votes_gop': data['total_votes'] - data['votes_dem'] - data['votes_others'], \n",
    "                            'Votes_other': data['votes_others'],\n",
    "                            'Votes_total': data['total_votes'], \n",
    "                            'state': state_names,\n",
    "                            'county': county_names,\n",
    "                            'fips': fips_codes})\n",
    "df_actual_state = df_actual.groupby('state').agg(Votes_dem=(f'Votes_dem', 'sum'), \n",
    "                                                    Votes_gop=(f'Votes_gop', 'sum'),\n",
    "                                                    Votes_other=(f'Votes_other', 'sum'),\n",
    "                                                    Votes_total=(f'Votes_total', 'sum'))\n",
    "\n",
    "df_actual_state[\"Per_dem\"] = df_actual_state[\"Votes_dem\"] / df_actual_state[\"Votes_total\"]\n",
    "df_actual_state[\"Per_gop\"] = df_actual_state[\"Votes_gop\"] / df_actual_state[\"Votes_total\"]\n",
    "\n",
    "# Añadir la columna \"Winner\" basado en los porcentajes predichos de Biden y Trump\n",
    "df_actual_state[\"Winner\"] = np.where(df_actual_state[\"Per_dem\"] < df_actual_state[\"Per_gop\"], 'gop', 'dem')\n",
    "\n",
    "\n",
    "full_df_actual_state = pd.merge(seats_data, df_actual_state, how='inner', on=[\"state\"])\n",
    "\n",
    "\n",
    "\n",
    "# Añadir diferencia entre Biden y Trump\n",
    "full_df_actual_state['Difference'] = (full_df_actual_state[\"Per_dem\"] - full_df_actual_state[\"Per_gop\"]) * 100\n",
    "\n",
    "\n",
    "# Definir las condiciones y los valores a asignar\n",
    "conditions = [\n",
    "    full_df_actual_state[\"Difference\"] > 10,\n",
    "    full_df_actual_state[\"Difference\"].between(2.5, 10),\n",
    "    full_df_actual_state[\"Difference\"].between(-2.5, 2.5),\n",
    "    full_df_actual_state[\"Difference\"].between(-10, -2.5),\n",
    "    full_df_actual_state[\"Difference\"] < -10\n",
    "]\n",
    "\n",
    "choices = [\n",
    "    \"Safe Democrat\",\n",
    "    \"Likely Democrat\",\n",
    "    \"Toss-Up\",\n",
    "    \"Likely Republican\",\n",
    "    \"Safe Republican\"\n",
    "]\n",
    "\n",
    "# Usar np.select para asignar el \"Status\" basado en las condiciones, con un valor por defecto \"Unknown\"\n",
    "full_df_actual_state[\"Status\"] = np.select(conditions, choices, default=\"Unknown\")\n",
    "\n",
    "full_df_actual_state"
   ]
  },
  {
   "cell_type": "code",
   "execution_count": 788,
   "metadata": {},
   "outputs": [],
   "source": [
    "# # Encontrar los `county_fips` comunes en los tres conjuntos de datos\n",
    "# common_fips = set(data_2016[\"county_fips\"]).intersection(data_2020[\"county_fips\"]).intersection(data_sim[\"county_fips\"])\n",
    "\n",
    "# # Filtrar cada dataset para que solo contenga esos condados comunes\n",
    "# data_2016 = data_2016[data_2016[\"county_fips\"].isin(common_fips)].sort_values(by=\"county_fips\").reset_index(drop=True)\n",
    "# data_2020 = data_2020[data_2020[\"county_fips\"].isin(common_fips)].sort_values(by=\"county_fips\").reset_index(drop=True)\n",
    "# data_sim = data_sim[data_sim[\"county_fips\"].isin(common_fips)].sort_values(by=\"county_fips\").reset_index(drop=True)\n",
    "# data = data[data[\"county_fips\"].isin(common_fips)].sort_values(by=\"county_fips\").reset_index(drop=True)\n",
    "\n",
    "# # Ahora los tres datasets tienen los mismos condados en el mismo orden\n",
    "# print(f\"Condados comunes en los tres datasets: {len(common_fips)}\")"
   ]
  },
  {
   "cell_type": "code",
   "execution_count": 789,
   "metadata": {},
   "outputs": [],
   "source": [
    "# # Guardamos las variables en vectores para uso futuro\n",
    "# state_names = data['state']\n",
    "# fips_codes = data['county_fips']\n",
    "# county_names = data['county']\n",
    "\n",
    "# print(len(state_names), len(county_names), len(fips_codes), len(data[\"total_votes\"]))"
   ]
  },
  {
   "cell_type": "code",
   "execution_count": 790,
   "metadata": {},
   "outputs": [],
   "source": [
    "# Ordenar ambos DataFrames por 'fips' antes de cualquier split\n",
    "data_2016 = data_2016.sort_values(by=\"county_fips\").reset_index(drop=True)\n",
    "data_2020 = data_2020.sort_values(by=\"county_fips\").reset_index(drop=True)\n",
    "data_sim = data_sim.sort_values(by=\"county_fips\").reset_index(drop=True)\n",
    "data = data.sort_values(by=\"county_fips\").reset_index(drop=True)"
   ]
  },
  {
   "cell_type": "code",
   "execution_count": 791,
   "metadata": {},
   "outputs": [],
   "source": [
    "columns_to_drop = ['county_fips', \"state\", \"county\", \"state_code\", \"county_code\"]  # Nombres de las columnas a eliminar\n",
    "data_2016 = data_2016.drop(columns=columns_to_drop)\n",
    "data_2020 = data_2020.drop(columns=columns_to_drop)\n",
    "data_sim = data_sim.drop(columns=columns_to_drop)"
   ]
  },
  {
   "cell_type": "code",
   "execution_count": 792,
   "metadata": {},
   "outputs": [
    {
     "data": {
      "text/html": [
       "<div>\n",
       "<style scoped>\n",
       "    .dataframe tbody tr th:only-of-type {\n",
       "        vertical-align: middle;\n",
       "    }\n",
       "\n",
       "    .dataframe tbody tr th {\n",
       "        vertical-align: top;\n",
       "    }\n",
       "\n",
       "    .dataframe thead th {\n",
       "        text-align: right;\n",
       "    }\n",
       "</style>\n",
       "<table border=\"1\" class=\"dataframe\">\n",
       "  <thead>\n",
       "    <tr style=\"text-align: right;\">\n",
       "      <th></th>\n",
       "      <th>per_dem</th>\n",
       "      <th>per_gop</th>\n",
       "      <th>pop_total</th>\n",
       "      <th>median_age</th>\n",
       "      <th>median_income</th>\n",
       "      <th>households_median_value</th>\n",
       "      <th>households_avg_size</th>\n",
       "      <th>households_total</th>\n",
       "      <th>households_median_gross_rent</th>\n",
       "      <th>mean_travel_time</th>\n",
       "      <th>...</th>\n",
       "      <th>hispanic_rate</th>\n",
       "      <th>two_more_races_rate</th>\n",
       "      <th>high_school_rate</th>\n",
       "      <th>bachelors_rate</th>\n",
       "      <th>poverty_rate</th>\n",
       "      <th>households_renter_rate</th>\n",
       "      <th>households_owner_rate</th>\n",
       "      <th>unemployment_rate</th>\n",
       "      <th>public_transport_rate</th>\n",
       "      <th>no_health_insurance_rate</th>\n",
       "    </tr>\n",
       "  </thead>\n",
       "  <tbody>\n",
       "    <tr>\n",
       "      <th>0</th>\n",
       "      <td>0.263888</td>\n",
       "      <td>0.726641</td>\n",
       "      <td>59285</td>\n",
       "      <td>39.2</td>\n",
       "      <td>69841</td>\n",
       "      <td>197900</td>\n",
       "      <td>2.61</td>\n",
       "      <td>22523</td>\n",
       "      <td>1200</td>\n",
       "      <td>25415</td>\n",
       "      <td>...</td>\n",
       "      <td>3.69</td>\n",
       "      <td>4.59</td>\n",
       "      <td>18.70</td>\n",
       "      <td>10.99</td>\n",
       "      <td>10.58</td>\n",
       "      <td>25.09</td>\n",
       "      <td>74.91</td>\n",
       "      <td>2.54</td>\n",
       "      <td>0.11</td>\n",
       "      <td>7.20</td>\n",
       "    </tr>\n",
       "    <tr>\n",
       "      <th>1</th>\n",
       "      <td>0.204699</td>\n",
       "      <td>0.786467</td>\n",
       "      <td>239945</td>\n",
       "      <td>43.7</td>\n",
       "      <td>75019</td>\n",
       "      <td>287000</td>\n",
       "      <td>2.50</td>\n",
       "      <td>94642</td>\n",
       "      <td>1211</td>\n",
       "      <td>97455</td>\n",
       "      <td>...</td>\n",
       "      <td>5.58</td>\n",
       "      <td>5.54</td>\n",
       "      <td>16.15</td>\n",
       "      <td>14.73</td>\n",
       "      <td>10.34</td>\n",
       "      <td>22.46</td>\n",
       "      <td>77.54</td>\n",
       "      <td>3.19</td>\n",
       "      <td>0.04</td>\n",
       "      <td>8.06</td>\n",
       "    </tr>\n",
       "    <tr>\n",
       "      <th>2</th>\n",
       "      <td>0.422905</td>\n",
       "      <td>0.570179</td>\n",
       "      <td>24757</td>\n",
       "      <td>40.7</td>\n",
       "      <td>44290</td>\n",
       "      <td>109900</td>\n",
       "      <td>2.39</td>\n",
       "      <td>9080</td>\n",
       "      <td>644</td>\n",
       "      <td>7989</td>\n",
       "      <td>...</td>\n",
       "      <td>6.02</td>\n",
       "      <td>2.95</td>\n",
       "      <td>21.48</td>\n",
       "      <td>4.76</td>\n",
       "      <td>19.17</td>\n",
       "      <td>32.51</td>\n",
       "      <td>67.49</td>\n",
       "      <td>5.71</td>\n",
       "      <td>0.07</td>\n",
       "      <td>9.49</td>\n",
       "    </tr>\n",
       "    <tr>\n",
       "      <th>3</th>\n",
       "      <td>0.175197</td>\n",
       "      <td>0.819392</td>\n",
       "      <td>22152</td>\n",
       "      <td>41.3</td>\n",
       "      <td>51215</td>\n",
       "      <td>132600</td>\n",
       "      <td>2.74</td>\n",
       "      <td>7571</td>\n",
       "      <td>802</td>\n",
       "      <td>7999</td>\n",
       "      <td>...</td>\n",
       "      <td>3.36</td>\n",
       "      <td>2.82</td>\n",
       "      <td>24.60</td>\n",
       "      <td>5.06</td>\n",
       "      <td>19.22</td>\n",
       "      <td>22.82</td>\n",
       "      <td>77.18</td>\n",
       "      <td>9.98</td>\n",
       "      <td>0.04</td>\n",
       "      <td>7.81</td>\n",
       "    </tr>\n",
       "    <tr>\n",
       "      <th>4</th>\n",
       "      <td>0.091624</td>\n",
       "      <td>0.901796</td>\n",
       "      <td>59292</td>\n",
       "      <td>40.9</td>\n",
       "      <td>61096</td>\n",
       "      <td>169700</td>\n",
       "      <td>2.67</td>\n",
       "      <td>21977</td>\n",
       "      <td>743</td>\n",
       "      <td>23976</td>\n",
       "      <td>...</td>\n",
       "      <td>10.06</td>\n",
       "      <td>5.15</td>\n",
       "      <td>19.58</td>\n",
       "      <td>6.89</td>\n",
       "      <td>13.95</td>\n",
       "      <td>20.49</td>\n",
       "      <td>79.51</td>\n",
       "      <td>5.84</td>\n",
       "      <td>0.00</td>\n",
       "      <td>10.11</td>\n",
       "    </tr>\n",
       "  </tbody>\n",
       "</table>\n",
       "<p>5 rows × 36 columns</p>\n",
       "</div>"
      ],
      "text/plain": [
       "    per_dem   per_gop  pop_total  median_age  median_income  \\\n",
       "0  0.263888  0.726641      59285        39.2          69841   \n",
       "1  0.204699  0.786467     239945        43.7          75019   \n",
       "2  0.422905  0.570179      24757        40.7          44290   \n",
       "3  0.175197  0.819392      22152        41.3          51215   \n",
       "4  0.091624  0.901796      59292        40.9          61096   \n",
       "\n",
       "   households_median_value  households_avg_size  households_total  \\\n",
       "0                   197900                 2.61             22523   \n",
       "1                   287000                 2.50             94642   \n",
       "2                   109900                 2.39              9080   \n",
       "3                   132600                 2.74              7571   \n",
       "4                   169700                 2.67             21977   \n",
       "\n",
       "   households_median_gross_rent  mean_travel_time  ...  hispanic_rate  \\\n",
       "0                          1200             25415  ...           3.69   \n",
       "1                          1211             97455  ...           5.58   \n",
       "2                           644              7989  ...           6.02   \n",
       "3                           802              7999  ...           3.36   \n",
       "4                           743             23976  ...          10.06   \n",
       "\n",
       "   two_more_races_rate  high_school_rate  bachelors_rate  poverty_rate  \\\n",
       "0                 4.59             18.70           10.99         10.58   \n",
       "1                 5.54             16.15           14.73         10.34   \n",
       "2                 2.95             21.48            4.76         19.17   \n",
       "3                 2.82             24.60            5.06         19.22   \n",
       "4                 5.15             19.58            6.89         13.95   \n",
       "\n",
       "   households_renter_rate  households_owner_rate  unemployment_rate  \\\n",
       "0                   25.09                  74.91               2.54   \n",
       "1                   22.46                  77.54               3.19   \n",
       "2                   32.51                  67.49               5.71   \n",
       "3                   22.82                  77.18               9.98   \n",
       "4                   20.49                  79.51               5.84   \n",
       "\n",
       "   public_transport_rate  no_health_insurance_rate  \n",
       "0                   0.11                      7.20  \n",
       "1                   0.04                      8.06  \n",
       "2                   0.07                      9.49  \n",
       "3                   0.04                      7.81  \n",
       "4                   0.00                     10.11  \n",
       "\n",
       "[5 rows x 36 columns]"
      ]
     },
     "execution_count": 792,
     "metadata": {},
     "output_type": "execute_result"
    }
   ],
   "source": [
    "columns_to_drop = [\"votes_gop\"]  # Nombres de las columnas a eliminar\n",
    "\n",
    "data_sim = data_sim.drop(columns=columns_to_drop)\n",
    "data_sim.head()"
   ]
  },
  {
   "cell_type": "code",
   "execution_count": 793,
   "metadata": {},
   "outputs": [],
   "source": [
    "# from sklearn.preprocessing import StandardScaler\n",
    "\n",
    "# # Definir las columnas a excluir del escalado\n",
    "# cols_excluir = ['per_dem', 'per_gop'] \n",
    "\n",
    "# # Seleccionar solo las columnas que deben ser escaladas\n",
    "# cols_escalar = [col for col in data_sim.columns if col not in cols_excluir]\n",
    "\n",
    "# # Aplicar StandardScaler solo a las columnas seleccionadas\n",
    "# scaler = StandardScaler()\n",
    "# data_sim[cols_escalar] = scaler.fit_transform(data_sim[cols_escalar])\n",
    "\n",
    "# # Mostrar los primeros registros\n",
    "# data_sim.head()"
   ]
  },
  {
   "cell_type": "markdown",
   "metadata": {},
   "source": [
    "## Algorithm"
   ]
  },
  {
   "cell_type": "code",
   "execution_count": 794,
   "metadata": {},
   "outputs": [],
   "source": [
    "n_sim = 100"
   ]
  },
  {
   "cell_type": "code",
   "execution_count": 795,
   "metadata": {},
   "outputs": [
    {
     "name": "stdout",
     "output_type": "stream",
     "text": [
      "Simulation 0\n",
      "weight_2016=0.9072347548902546\n",
      "weight_votes=1.2555945026348339\n",
      "Simulation 1\n",
      "weight_2016=0.9585754411146702\n",
      "weight_votes=1.3902295556571034\n",
      "Simulation 2\n",
      "weight_2016=0.7293600384304297\n",
      "weight_votes=1.289503851013158\n",
      "Simulation 3\n",
      "weight_2016=0.7630449992652663\n",
      "weight_votes=0.6536169802558386\n",
      "Simulation 4\n",
      "weight_2016=0.9651059470469959\n",
      "weight_votes=1.3346424364562846\n",
      "Simulation 5\n",
      "weight_2016=0.9906577881083926\n",
      "weight_votes=0.9243625340793036\n",
      "Simulation 6\n",
      "weight_2016=0.9519399596914183\n",
      "weight_votes=0.5138809161303194\n",
      "Simulation 7\n",
      "weight_2016=0.9792407072556993\n",
      "weight_votes=0.508411837024729\n",
      "Simulation 8\n",
      "weight_2016=0.8725985334107302\n",
      "weight_votes=1.1174495922911831\n",
      "Simulation 9\n",
      "weight_2016=0.8626970767322456\n",
      "weight_votes=1.3122485918540632\n",
      "Simulation 10\n",
      "weight_2016=0.8939627657910019\n",
      "weight_votes=0.5048976734063143\n",
      "Simulation 11\n",
      "weight_2016=0.9461009079080774\n",
      "weight_votes=1.4934459573665693\n",
      "Simulation 12\n",
      "weight_2016=0.744468076687167\n",
      "weight_votes=0.5950902601783519\n",
      "Simulation 13\n",
      "weight_2016=0.7928016210951438\n",
      "weight_votes=1.3506555433356568\n",
      "Simulation 14\n",
      "weight_2016=0.8826025945777443\n",
      "weight_votes=0.6698853460449564\n",
      "Simulation 15\n",
      "weight_2016=0.9229257529302548\n",
      "weight_votes=1.4999923742960948\n",
      "Simulation 16\n",
      "weight_2016=0.9567142016412737\n",
      "weight_votes=0.9722255131051551\n",
      "Simulation 17\n",
      "weight_2016=0.8724463959571567\n",
      "weight_votes=0.5049301177993367\n",
      "Simulation 18\n",
      "weight_2016=0.7925094057381956\n",
      "weight_votes=0.7399902540866605\n",
      "Simulation 19\n",
      "weight_2016=0.799400268389359\n",
      "weight_votes=0.7891368706845737\n",
      "Simulation 20\n",
      "weight_2016=0.9523488227281705\n",
      "weight_votes=0.9202240064591248\n",
      "Simulation 21\n",
      "weight_2016=0.8000804653487052\n",
      "weight_votes=1.284259542314894\n",
      "Simulation 22\n",
      "weight_2016=0.7691998959068632\n",
      "weight_votes=1.377423411876656\n",
      "Simulation 23\n",
      "weight_2016=0.7969522439121091\n",
      "weight_votes=0.7484071400028763\n",
      "Simulation 24\n",
      "weight_2016=0.9514675386743375\n",
      "weight_votes=0.800940052635416\n",
      "Simulation 25\n",
      "weight_2016=0.923573021449068\n",
      "weight_votes=0.88740937748011\n",
      "Simulation 26\n",
      "weight_2016=0.8038163896185205\n",
      "weight_votes=0.9242275583218437\n",
      "Simulation 27\n",
      "weight_2016=0.7191722663009695\n",
      "weight_votes=1.2115446524147164\n",
      "Simulation 28\n",
      "weight_2016=0.8583067626383726\n",
      "weight_votes=1.0326843219056854\n",
      "Simulation 29\n",
      "weight_2016=0.7750342106429431\n",
      "weight_votes=0.6097018172663536\n",
      "Simulation 30\n",
      "weight_2016=0.7064693473973962\n",
      "weight_votes=0.8626589944769936\n",
      "Simulation 31\n",
      "weight_2016=0.7308330837353169\n",
      "weight_votes=1.2268632163985531\n",
      "Simulation 32\n",
      "weight_2016=0.9138956737890523\n",
      "weight_votes=1.427017262296332\n",
      "Simulation 33\n",
      "weight_2016=0.9960262656123079\n",
      "weight_votes=0.9159505144962526\n",
      "Simulation 34\n",
      "weight_2016=0.7928699059319361\n",
      "weight_votes=0.7016095639244234\n",
      "Simulation 35\n",
      "weight_2016=0.8075561563005668\n",
      "weight_votes=1.091968658773144\n",
      "Simulation 36\n",
      "weight_2016=0.9669158587390164\n",
      "weight_votes=0.5065716515269205\n",
      "Simulation 37\n",
      "weight_2016=0.7694142946922997\n",
      "weight_votes=0.7773385304021803\n",
      "Simulation 38\n",
      "weight_2016=0.9675836598565055\n",
      "weight_votes=1.1000829614922067\n",
      "Simulation 39\n",
      "weight_2016=0.7608068978853374\n",
      "weight_votes=1.2944802111864813\n",
      "Simulation 40\n",
      "weight_2016=0.7360270262052011\n",
      "weight_votes=1.1077914012411876\n",
      "Simulation 41\n",
      "weight_2016=0.7108614681405978\n",
      "weight_votes=0.929773325810526\n",
      "Simulation 42\n",
      "weight_2016=0.8873604663294846\n",
      "weight_votes=1.437917554283195\n",
      "Simulation 43\n",
      "weight_2016=0.9290599068771754\n",
      "weight_votes=0.7378549999630193\n",
      "Simulation 44\n",
      "weight_2016=0.9097225509997622\n",
      "weight_votes=1.1373827960834972\n",
      "Simulation 45\n",
      "weight_2016=0.7822631807984776\n",
      "weight_votes=0.6362225913728445\n",
      "Simulation 46\n",
      "weight_2016=0.7587811870260845\n",
      "weight_votes=1.2848424325532313\n",
      "Simulation 47\n",
      "weight_2016=0.8396259082129357\n",
      "weight_votes=0.7685519621082978\n",
      "Simulation 48\n",
      "weight_2016=0.9392024735108899\n",
      "weight_votes=1.18333809124344\n",
      "Simulation 49\n",
      "weight_2016=0.9307583448864153\n",
      "weight_votes=0.7158466387567459\n",
      "Simulation 50\n",
      "weight_2016=0.8308839438320065\n",
      "weight_votes=0.6396947521192935\n",
      "Simulation 51\n",
      "weight_2016=0.8774071117301464\n",
      "weight_votes=0.8068190943635309\n",
      "Simulation 52\n",
      "weight_2016=0.9912446354734127\n",
      "weight_votes=1.1059291306606147\n",
      "Simulation 53\n",
      "weight_2016=0.7431483892878539\n",
      "weight_votes=0.542015250919216\n",
      "Simulation 54\n",
      "weight_2016=0.8597689575935847\n",
      "weight_votes=0.5735192808786918\n",
      "Simulation 55\n",
      "weight_2016=0.9092025975642444\n",
      "weight_votes=1.1459695755739991\n",
      "Simulation 56\n",
      "weight_2016=0.9042915781644685\n",
      "weight_votes=0.8647573275899401\n",
      "Simulation 57\n",
      "weight_2016=0.8240218553444592\n",
      "weight_votes=0.7823501742233603\n",
      "Simulation 58\n",
      "weight_2016=0.9142313671628124\n",
      "weight_votes=1.266349106285816\n",
      "Simulation 59\n",
      "weight_2016=0.8869069286405066\n",
      "weight_votes=1.0501231862340026\n",
      "Simulation 60\n",
      "weight_2016=0.8800616037777044\n",
      "weight_votes=1.0424307801570567\n",
      "Simulation 61\n",
      "weight_2016=0.8200210037317193\n",
      "weight_votes=1.419670108749434\n",
      "Simulation 62\n",
      "weight_2016=0.8286888178177843\n",
      "weight_votes=1.2405882618755235\n",
      "Simulation 63\n",
      "weight_2016=0.8001000608501232\n",
      "weight_votes=0.7010170010047554\n",
      "Simulation 64\n",
      "weight_2016=0.8327014266328874\n",
      "weight_votes=1.2358565431526412\n",
      "Simulation 65\n",
      "weight_2016=0.9304368942135978\n",
      "weight_votes=0.8367914073580449\n",
      "Simulation 66\n",
      "weight_2016=0.7763343189064308\n",
      "weight_votes=1.2141054607734092\n",
      "Simulation 67\n",
      "weight_2016=0.7241134555245944\n",
      "weight_votes=0.5534744056083681\n",
      "Simulation 68\n",
      "weight_2016=0.9381933338567936\n",
      "weight_votes=1.0045788312066626\n",
      "Simulation 69\n",
      "weight_2016=0.9184894182281266\n",
      "weight_votes=1.3115150632944468\n",
      "Simulation 70\n",
      "weight_2016=0.7496468530732306\n",
      "weight_votes=1.30071997544741\n",
      "Simulation 71\n",
      "weight_2016=0.715995767693597\n",
      "weight_votes=1.3885292141770122\n",
      "Simulation 72\n",
      "weight_2016=0.89139095808374\n",
      "weight_votes=1.1601435199126673\n",
      "Simulation 73\n",
      "weight_2016=0.9023489905840829\n",
      "weight_votes=1.1603998845909884\n",
      "Simulation 74\n",
      "weight_2016=0.7276052716030207\n",
      "weight_votes=1.1933925050503404\n",
      "Simulation 75\n",
      "weight_2016=0.8900234787598944\n",
      "weight_votes=0.915066130437466\n",
      "Simulation 76\n",
      "weight_2016=0.948557163258581\n",
      "weight_votes=0.6684548147761732\n",
      "Simulation 77\n",
      "weight_2016=0.7249284416321556\n",
      "weight_votes=1.3191707732603128\n",
      "Simulation 78\n",
      "weight_2016=0.9796776739021823\n",
      "weight_votes=1.458038400791724\n",
      "Simulation 79\n",
      "weight_2016=0.8155065384718903\n",
      "weight_votes=1.092213645739522\n",
      "Simulation 80\n",
      "weight_2016=0.9559307646303298\n",
      "weight_votes=1.084293516295233\n",
      "Simulation 81\n",
      "weight_2016=0.9258001498389089\n",
      "weight_votes=1.048106934763676\n",
      "Simulation 82\n",
      "weight_2016=0.7650375862065679\n",
      "weight_votes=0.5363624187750407\n",
      "Simulation 83\n",
      "weight_2016=0.9242364648937864\n",
      "weight_votes=0.5127960711923768\n",
      "Simulation 84\n",
      "weight_2016=0.8430765919981125\n",
      "weight_votes=1.3276556704057172\n",
      "Simulation 85\n",
      "weight_2016=0.7701319704199119\n",
      "weight_votes=1.1642280100777205\n",
      "Simulation 86\n",
      "weight_2016=0.9452109728675675\n",
      "weight_votes=0.7155342418635571\n",
      "Simulation 87\n",
      "weight_2016=0.8751584570785707\n",
      "weight_votes=0.5700831142821301\n",
      "Simulation 88\n",
      "weight_2016=0.7145501538895731\n",
      "weight_votes=0.5756536653547834\n",
      "Simulation 89\n",
      "weight_2016=0.7864854806189275\n",
      "weight_votes=0.9715397299782011\n",
      "Simulation 90\n",
      "weight_2016=0.7197430174247099\n",
      "weight_votes=1.3396233550307373\n",
      "Simulation 91\n",
      "weight_2016=0.9278264183003039\n",
      "weight_votes=0.9660202706720189\n",
      "Simulation 92\n",
      "weight_2016=0.8612397796535621\n",
      "weight_votes=0.8709350392384545\n",
      "Simulation 93\n",
      "weight_2016=0.731523573500322\n",
      "weight_votes=1.1150693160296978\n",
      "Simulation 94\n",
      "weight_2016=0.9506034091362258\n",
      "weight_votes=0.9484369947535621\n",
      "Simulation 95\n",
      "weight_2016=0.8218599429987264\n",
      "weight_votes=1.3692382417963416\n",
      "Simulation 96\n",
      "weight_2016=0.7306441172236453\n",
      "weight_votes=1.234636304066578\n",
      "Simulation 97\n",
      "weight_2016=0.917839732030213\n",
      "weight_votes=0.6531803846933723\n",
      "Simulation 98\n",
      "weight_2016=0.7958333130109229\n",
      "weight_votes=1.4492909827060987\n",
      "Simulation 99\n",
      "weight_2016=0.9594883119878267\n",
      "weight_votes=0.6876701715862146\n"
     ]
    }
   ],
   "source": [
    "import joblib\n",
    "import statsmodels.api as sm\n",
    "\n",
    "# Inicializar un DataFrame para guardar los resultados de las simulaciones\n",
    "# simulation_results = pd.DataFrame(columns=['Pred_dem', 'Pred_gop', 'dem', 'gop'])\n",
    "simulation_results = pd.DataFrame(columns=['Pred_dem', 'Pred_gop'])\n",
    "\n",
    "\n",
    "# Inicializar un DataFrame para acumular los resultados por estado\n",
    "accumulated_pred_state = pd.DataFrame()\n",
    "\n",
    "for i in range(0, n_sim):\n",
    "\n",
    "    print(f\"Simulation {i}\")\n",
    "\n",
    "    ## ------------------------------\n",
    "    ## SPLIT DEL DATASET (ENTRENAMIENTO)\n",
    "    # X_2016 = data_2016.drop(columns=['per_dem', 'per_gop'])\n",
    "    # y_dem_2016 = data_2016['per_dem']\n",
    "    # y_gop_2016 = data_2016['per_gop']\n",
    "\n",
    "    # X_2020 = data_2020.drop(columns=['per_dem', 'per_gop'])\n",
    "    # y_dem_2020 = data_2020['per_dem']\n",
    "    # y_gop_2020 = data_2020['per_gop']\n",
    "\n",
    "    # # Hacer un split en cada simulación (80% train, 20% test)\n",
    "    # X_train_2016, X_test_2016, y_train_dem_2016, y_test_dem_2016 = train_test_split(X_2016, y_dem_2016, test_size=0.2, random_state=i)\n",
    "    # _, _, y_train_gop_2016, y_test_gop_2016 = train_test_split(X_2016, y_gop_2016, test_size=0.2, random_state=i)\n",
    "\n",
    "    # X_train_2020, X_test_2020, y_train_dem_2020, y_test_dem_2020 = train_test_split(X_2020, y_dem_2020, test_size=0.2, random_state=i)\n",
    "    # _, _, y_train_gop_2020, y_test_gop_2020 = train_test_split(X_2020, y_gop_2020, test_size=0.2, random_state=i)\n",
    "\n",
    "    # Imprimir los índices del train para 2016 y 2020\n",
    "    # print(f\"Train indices 2016: {X_train_2016.index}\")\n",
    "    # print(f\"Train indices 2020: {X_train_2020.index}\")\n",
    "\n",
    "    ## ------------------------------\n",
    "    ## ENTRENAR MODELOS\n",
    "    # # Modelos para per_dem 2016\n",
    "    # lr_model_dem_2016 = LinearRegression().fit(X_train_2016, y_train_dem_2016)\n",
    "    # rf_model_dem_2016 = RandomForestRegressor(n_estimators=100, random_state=i).fit(X_train_2016, y_train_dem_2016)\n",
    "    # knn_model_dem_2016 = KNeighborsRegressor(n_neighbors=5).fit(X_train_2016, y_train_dem_2016)\n",
    "    # # Modelos para per_dem 2020\n",
    "    # lr_model_dem_2020 = LinearRegression().fit(X_train_2020, y_train_dem_2020)\n",
    "    # rf_model_dem_2020 = RandomForestRegressor(n_estimators=100, random_state=i).fit(X_train_2020, y_train_dem_2020)\n",
    "    # knn_model_dem_2020 = KNeighborsRegressor(n_neighbors=5).fit(X_train_2020, y_train_dem_2020)\n",
    "\n",
    "    # # Modelos para per_gop 2016\n",
    "    # lr_model_gop_2016 = LinearRegression().fit(X_train_2016, y_train_gop_2016)\n",
    "    # rf_model_gop_2016 = RandomForestRegressor(n_estimators=100, random_state=i).fit(X_train_2016, y_train_gop_2016)\n",
    "    # knn_model_gop_2016 = KNeighborsRegressor(n_neighbors=5).fit(X_train_2016, y_train_gop_2016)\n",
    "    # # Modelos para per_gop 2020\n",
    "    # lr_model_gop_2020 = LinearRegression().fit(X_train_2020, y_train_gop_2020)\n",
    "    # rf_model_gop_2020 = RandomForestRegressor(n_estimators=100, random_state=i).fit(X_train_2020, y_train_gop_2020)\n",
    "    # knn_model_gop_2020 = KNeighborsRegressor(n_neighbors=5).fit(X_train_2020, y_train_gop_2020)\n",
    "\n",
    "    ## ------------------------------\n",
    "    ## CARGAR MODELOS DESDE ARCHIVOS GUARDADOS\n",
    "    # Modelos para per_dem 2016\n",
    "    lr_model_dem_2016 = joblib.load(f'models/ridge_dem_2016.pkl')\n",
    "    rf_model_dem_2016 = joblib.load(f'models/random_forest_dem_2016.pkl')\n",
    "    knn_model_dem_2016 = joblib.load(f'models/knn_dem_2016.pkl')\n",
    "    \n",
    "    # Modelos para per_dem 2020\n",
    "    lr_model_dem_2020 = joblib.load(f'models/ridge_dem_2020.pkl')\n",
    "    rf_model_dem_2020 = joblib.load(f'models/random_forest_dem_2020.pkl')\n",
    "    knn_model_dem_2020 = joblib.load(f'models/knn_dem_2020.pkl')\n",
    "\n",
    "    # Modelos para per_gop 2016\n",
    "    lr_model_gop_2016 = joblib.load(f'models/ridge_gop_2016.pkl')\n",
    "    rf_model_gop_2016 = joblib.load(f'models/random_forest_gop_2016.pkl')\n",
    "    knn_model_gop_2016 = joblib.load(f'models/knn_gop_2016.pkl')\n",
    "\n",
    "    # Modelos para per_gop 2020\n",
    "    lr_model_gop_2020 = joblib.load(f'models/ridge_gop_2020.pkl')\n",
    "    rf_model_gop_2020 = joblib.load(f'models/random_forest_gop_2020.pkl')\n",
    "    knn_model_gop_2020 = joblib.load(f'models/knn_gop_2020.pkl')\n",
    "\n",
    "\n",
    "\n",
    "    ## ------------------------------\n",
    "    ## PREDICCIONES CON data_sim\n",
    "    X_sim = data_sim.drop(columns=['per_dem', 'per_gop'])\n",
    "\n",
    "    # Predicciones per_dem 2016\n",
    "    pred_lr_dem_2016 = lr_model_dem_2016.predict(X_sim)\n",
    "    pred_rf_dem_2016 = rf_model_dem_2016.predict(X_sim)\n",
    "    pred_knn_dem_2016 = knn_model_dem_2016.predict(X_sim)\n",
    "    # Predicciones per_dem 2020\n",
    "    pred_lr_dem_2020 = lr_model_dem_2020.predict(X_sim)\n",
    "    pred_rf_dem_2020 = rf_model_dem_2020.predict(X_sim)\n",
    "    pred_knn_dem_2020 = knn_model_dem_2020.predict(X_sim)\n",
    "\n",
    "    # Predicciones per_gop 2016\n",
    "    pred_lr_gop_2016 = lr_model_gop_2016.predict(X_sim)\n",
    "    pred_rf_gop_2016 = rf_model_gop_2016.predict(X_sim)\n",
    "    pred_knn_gop_2016 = knn_model_gop_2016.predict(X_sim)\n",
    "    # Predicciones per_gop 2020\n",
    "    pred_lr_gop_2020 = lr_model_gop_2020.predict(X_sim)\n",
    "    pred_rf_gop_2020 = rf_model_gop_2020.predict(X_sim)\n",
    "    pred_knn_gop_2020 = knn_model_gop_2020.predict(X_sim)\n",
    "\n",
    "    # Promedio de predicciones 2016\n",
    "    per_dem_pred_2016 = pred_rf_dem_2016 # (pred_lr_dem_2016 + pred_rf_dem_2016 + pred_knn_dem_2016) / 3\n",
    "    per_gop_pred_2016 = pred_rf_gop_2016 # (pred_lr_gop_2016 + pred_rf_gop_2016 + pred_knn_gop_2016) / 3\n",
    "    # Promedio de predicciones 2020\n",
    "    per_dem_pred_2020 = pred_rf_dem_2020 # (pred_lr_dem_2020 + pred_rf_dem_2020 + pred_knn_dem_2020) / 3\n",
    "    per_gop_pred_2020 = pred_rf_gop_2020 # (pred_lr_gop_2020 + pred_rf_gop_2020 + pred_knn_gop_2020) / 3\n",
    "\n",
    "    # Calcular per_other de manera residual 2016\n",
    "    per_other_pred_2016 = 1 - (per_dem_pred_2016 + per_gop_pred_2016)\n",
    "    # Calcular per_other de manera residual 2020\n",
    "    per_other_pred_2020 = 1 - (per_dem_pred_2020 + per_gop_pred_2020)\n",
    "    \n",
    "    # Asegurar que per_other no sea negativo (si es menor a 0, ajustamos) 2016\n",
    "    per_other_pred_2016 = np.clip(per_other_pred_2016, 0, 1)\n",
    "    # Asegurar que per_other no sea negativo (si es menor a 0, ajustamos) 2020\n",
    "    per_other_pred_2020 = np.clip(per_other_pred_2020, 0, 1)\n",
    "\n",
    "    # Weighted sum of predictions 2016 and 2020\n",
    "    weight_2016 = np.random.uniform(0.7, 1)  # Puede ser entre 0% y 100%\n",
    "    weight_2020 = 1 - weight_2016\n",
    "    print(f\"{weight_2016=}\")\n",
    "\n",
    "    per_dem_pred = (weight_2016 * per_dem_pred_2016 + weight_2020 * per_dem_pred_2020) / (weight_2016 + weight_2020)\n",
    "    per_gop_pred = (weight_2016 * per_gop_pred_2016 + weight_2020 * per_gop_pred_2020) / (weight_2016 + weight_2020)\n",
    "    per_other_pred = (weight_2016 * per_other_pred_2016 + weight_2020 * per_other_pred_2020) / (weight_2016 + weight_2020)\n",
    "    # print(f\"{per_dem_pred=}\")\n",
    "    # print(f\"{per_gop_pred=}\")\n",
    "    # print(f\"{per_other_pred=}\")\n",
    "\n",
    "    # Calcular participación\n",
    "    weight_votes = np.random.uniform(0.5, 1.5)  # Puede ser entre 50% y 150% del 2020\n",
    "    print(f\"{weight_votes=}\")\n",
    "    total_votes = data_2020['total_votes'] * weight_votes\n",
    "\n",
    "    ## PROCESAMIENTO DE RESULTADOS\n",
    "    df_pred = pd.DataFrame({\n",
    "        'Votes_dem': per_dem_pred * total_votes, \n",
    "        'Votes_gop': per_gop_pred * total_votes,\n",
    "        'Votes_other': per_other_pred * total_votes,\n",
    "        'Votes_total': total_votes, \n",
    "        'state': state_names,\n",
    "        'county': county_names,\n",
    "        'fips': fips_codes\n",
    "    })\n",
    "\n",
    "    df_pred_state = df_pred.groupby(\"state\").agg(Votes_dem=(\"Votes_dem\", 'sum'), \n",
    "                                                 Votes_gop=(\"Votes_gop\", 'sum'),\n",
    "                                                 Votes_other=(\"Votes_other\", 'sum'),\n",
    "                                                 Votes_total=(\"Votes_total\", 'sum'))\n",
    "    \n",
    "    \n",
    "    # Calcular porcentaje de cada candidato en el estado\n",
    "    df_pred_state[\"Per_dem\"] = df_pred_state[\"Votes_dem\"] / df_pred_state[\"Votes_total\"] \n",
    "    df_pred_state[\"Per_gop\"] = 1 - df_pred_state[\"Per_dem\"]\n",
    "    # df_pred_state[\"Per_gop\"] = df_pred_state[\"Votes_gop\"] / df_pred_state[\"Votes_total\"]\n",
    "\n",
    "\n",
    "    # # Ajustar las predicciones en función de la desviación histórica\n",
    "    # df_pred_state[\"Per_dem\"] += (state_adjustments[\"per_dem_2020\"] - state_adjustments[\"per_dem_2016\"])\n",
    "    # df_pred_state[\"Per_gop\"] += (state_adjustments[\"per_gop_2020\"] - state_adjustments[\"per_gop_2016\"])\n",
    "\n",
    "    # # Normalizar para que sumen 1\n",
    "    df_pred_state[\"Per_other\"] = 1 - (df_pred_state[\"Per_dem\"] + df_pred_state[\"Per_gop\"])\n",
    "    df_pred_state[\"Per_other\"] = np.clip(df_pred_state[\"Per_other\"], 0, 1)\n",
    "\n",
    "\n",
    "    # Acumular los resultados de cada simulación\n",
    "    if accumulated_pred_state.empty:\n",
    "        accumulated_pred_state = df_pred_state.copy()  # Primera iteración, simplemente copiamos los datos\n",
    "    else:\n",
    "        accumulated_pred_state['Votes_dem'] += df_pred_state['Votes_dem']\n",
    "        accumulated_pred_state['Votes_gop'] += df_pred_state['Votes_gop']\n",
    "        accumulated_pred_state['Votes_total'] += df_pred_state['Votes_total']\n",
    "        accumulated_pred_state[\"Per_dem\"] += df_pred_state[\"Per_dem\"]\n",
    "        accumulated_pred_state[\"Per_gop\"] += df_pred_state[\"Per_gop\"]\n",
    "\n",
    "\n",
    "    # Predicción y ganadores\n",
    "    df_pred_state[\"Winner\"] = np.where(df_pred_state[\"Per_dem\"] < df_pred_state[\"Per_gop\"], 'gop', 'dem')    \n",
    "\n",
    "    # Añadir votos electorales (escaños) a cada estado\n",
    "    full_df_pred_state = pd.merge(seats_data, df_pred_state, how='inner', on=[\"state\"])\n",
    "\n",
    "    # Agrupar por estado y sumar los votos\n",
    "    df_pred_winner = full_df_pred_state.groupby(\"Winner\").agg({\n",
    "        \"ElectoralVotes2024\": \"sum\",  # Sumar los votos electorales de cada candidato\n",
    "    }).reset_index()\n",
    "\n",
    "    df_pred_winner.loc[df_pred_winner[\"Winner\"] == 'gop', 'ElectoralVotes2024'] += 3 # Añadir 3 al número de votos electorales de Trump por Alaska\n",
    "\n",
    "    # Crear un nuevo DataFrame con los resultados de esta simulación\n",
    "    dem_votes = df_pred_winner.loc[df_pred_winner[\"Winner\"] == 'dem', 'ElectoralVotes2024'].values[0]\n",
    "    gop_votes = df_pred_winner.loc[df_pred_winner[\"Winner\"] == 'gop', 'ElectoralVotes2024'].values[0]\n",
    "\n",
    "    # Determinar el ganador considerando empates\n",
    "    if dem_votes > gop_votes:\n",
    "        winner = 'dem'\n",
    "    elif gop_votes > dem_votes:\n",
    "        winner = 'gop'\n",
    "    else:\n",
    "        winner = 'tie'  # En caso de empate\n",
    "\n",
    "    # Crear un nuevo DataFrame con los resultados de esta simulación\n",
    "    new_row = pd.DataFrame({\n",
    "        'Pred_dem': [dem_votes],\n",
    "        'Pred_gop': [gop_votes],\n",
    "        'Winner': [winner]\n",
    "    })\n",
    "\n",
    "\n",
    "    # Usar concat para añadir la nueva fila\n",
    "    simulation_results = pd.concat([simulation_results, new_row], ignore_index=True)\n",
    "\n",
    "    print(\"\\n\")\n",
    "\n",
    "# Después de todas las simulaciones, calcular la media\n",
    "accumulated_pred_state['Votes_dem'] /= n_sim\n",
    "accumulated_pred_state['Votes_gop'] /= n_sim\n",
    "accumulated_pred_state['Votes_total'] /= n_sim\n",
    "accumulated_pred_state['Per_dem'] /= n_sim\n",
    "accumulated_pred_state['Per_gop'] /= n_sim\n"
   ]
  },
  {
   "cell_type": "markdown",
   "metadata": {},
   "source": [
    "## Results"
   ]
  },
  {
   "cell_type": "code",
   "execution_count": 796,
   "metadata": {},
   "outputs": [
    {
     "data": {
      "text/plain": [
       "Winner\n",
       "dem    100\n",
       "Name: count, dtype: int64"
      ]
     },
     "execution_count": 796,
     "metadata": {},
     "output_type": "execute_result"
    }
   ],
   "source": [
    "simulation_results[\"Winner\"].value_counts()"
   ]
  },
  {
   "cell_type": "code",
   "execution_count": 797,
   "metadata": {},
   "outputs": [
    {
     "data": {
      "text/plain": [
       "Winner\n",
       "dem    1.0\n",
       "Name: proportion, dtype: float64"
      ]
     },
     "execution_count": 797,
     "metadata": {},
     "output_type": "execute_result"
    }
   ],
   "source": [
    "simulation_results[\"Winner\"].value_counts(normalize=True)"
   ]
  },
  {
   "cell_type": "code",
   "execution_count": 798,
   "metadata": {},
   "outputs": [
    {
     "data": {
      "text/html": [
       "<div>\n",
       "<style scoped>\n",
       "    .dataframe tbody tr th:only-of-type {\n",
       "        vertical-align: middle;\n",
       "    }\n",
       "\n",
       "    .dataframe tbody tr th {\n",
       "        vertical-align: top;\n",
       "    }\n",
       "\n",
       "    .dataframe thead th {\n",
       "        text-align: right;\n",
       "    }\n",
       "</style>\n",
       "<table border=\"1\" class=\"dataframe\">\n",
       "  <thead>\n",
       "    <tr style=\"text-align: right;\">\n",
       "      <th></th>\n",
       "      <th>Pred_dem</th>\n",
       "      <th>Pred_gop</th>\n",
       "      <th>Winner</th>\n",
       "    </tr>\n",
       "  </thead>\n",
       "  <tbody>\n",
       "    <tr>\n",
       "      <th>0</th>\n",
       "      <td>303</td>\n",
       "      <td>235</td>\n",
       "      <td>dem</td>\n",
       "    </tr>\n",
       "    <tr>\n",
       "      <th>1</th>\n",
       "      <td>303</td>\n",
       "      <td>235</td>\n",
       "      <td>dem</td>\n",
       "    </tr>\n",
       "    <tr>\n",
       "      <th>2</th>\n",
       "      <td>303</td>\n",
       "      <td>235</td>\n",
       "      <td>dem</td>\n",
       "    </tr>\n",
       "    <tr>\n",
       "      <th>3</th>\n",
       "      <td>303</td>\n",
       "      <td>235</td>\n",
       "      <td>dem</td>\n",
       "    </tr>\n",
       "    <tr>\n",
       "      <th>4</th>\n",
       "      <td>303</td>\n",
       "      <td>235</td>\n",
       "      <td>dem</td>\n",
       "    </tr>\n",
       "    <tr>\n",
       "      <th>...</th>\n",
       "      <td>...</td>\n",
       "      <td>...</td>\n",
       "      <td>...</td>\n",
       "    </tr>\n",
       "    <tr>\n",
       "      <th>95</th>\n",
       "      <td>303</td>\n",
       "      <td>235</td>\n",
       "      <td>dem</td>\n",
       "    </tr>\n",
       "    <tr>\n",
       "      <th>96</th>\n",
       "      <td>303</td>\n",
       "      <td>235</td>\n",
       "      <td>dem</td>\n",
       "    </tr>\n",
       "    <tr>\n",
       "      <th>97</th>\n",
       "      <td>303</td>\n",
       "      <td>235</td>\n",
       "      <td>dem</td>\n",
       "    </tr>\n",
       "    <tr>\n",
       "      <th>98</th>\n",
       "      <td>303</td>\n",
       "      <td>235</td>\n",
       "      <td>dem</td>\n",
       "    </tr>\n",
       "    <tr>\n",
       "      <th>99</th>\n",
       "      <td>303</td>\n",
       "      <td>235</td>\n",
       "      <td>dem</td>\n",
       "    </tr>\n",
       "  </tbody>\n",
       "</table>\n",
       "<p>100 rows × 3 columns</p>\n",
       "</div>"
      ],
      "text/plain": [
       "   Pred_dem Pred_gop Winner\n",
       "0       303      235    dem\n",
       "1       303      235    dem\n",
       "2       303      235    dem\n",
       "3       303      235    dem\n",
       "4       303      235    dem\n",
       "..      ...      ...    ...\n",
       "95      303      235    dem\n",
       "96      303      235    dem\n",
       "97      303      235    dem\n",
       "98      303      235    dem\n",
       "99      303      235    dem\n",
       "\n",
       "[100 rows x 3 columns]"
      ]
     },
     "execution_count": 798,
     "metadata": {},
     "output_type": "execute_result"
    }
   ],
   "source": [
    "simulation_results"
   ]
  },
  {
   "cell_type": "code",
   "execution_count": 799,
   "metadata": {},
   "outputs": [
    {
     "data": {
      "text/html": [
       "<div>\n",
       "<style scoped>\n",
       "    .dataframe tbody tr th:only-of-type {\n",
       "        vertical-align: middle;\n",
       "    }\n",
       "\n",
       "    .dataframe tbody tr th {\n",
       "        vertical-align: top;\n",
       "    }\n",
       "\n",
       "    .dataframe thead th {\n",
       "        text-align: right;\n",
       "    }\n",
       "</style>\n",
       "<table border=\"1\" class=\"dataframe\">\n",
       "  <thead>\n",
       "    <tr style=\"text-align: right;\">\n",
       "      <th></th>\n",
       "      <th>Votes_dem</th>\n",
       "      <th>Votes_gop</th>\n",
       "      <th>Votes_other</th>\n",
       "      <th>Votes_total</th>\n",
       "      <th>Per_dem</th>\n",
       "      <th>Per_gop</th>\n",
       "      <th>Per_other</th>\n",
       "      <th>Winner</th>\n",
       "      <th>state_code</th>\n",
       "      <th>Difference</th>\n",
       "      <th>Status</th>\n",
       "    </tr>\n",
       "    <tr>\n",
       "      <th>state</th>\n",
       "      <th></th>\n",
       "      <th></th>\n",
       "      <th></th>\n",
       "      <th></th>\n",
       "      <th></th>\n",
       "      <th></th>\n",
       "      <th></th>\n",
       "      <th></th>\n",
       "      <th></th>\n",
       "      <th></th>\n",
       "      <th></th>\n",
       "    </tr>\n",
       "  </thead>\n",
       "  <tbody>\n",
       "    <tr>\n",
       "      <th>Alabama</th>\n",
       "      <td>9.456139e+05</td>\n",
       "      <td>1.273780e+06</td>\n",
       "      <td>1.117930e+05</td>\n",
       "      <td>2.304604e+06</td>\n",
       "      <td>0.410301</td>\n",
       "      <td>0.589699</td>\n",
       "      <td>0.0</td>\n",
       "      <td>gop</td>\n",
       "      <td>AL</td>\n",
       "      <td>-17.939796</td>\n",
       "      <td>Safe Republican</td>\n",
       "    </tr>\n",
       "    <tr>\n",
       "      <th>Arizona</th>\n",
       "      <td>1.720290e+06</td>\n",
       "      <td>1.443903e+06</td>\n",
       "      <td>2.567739e+05</td>\n",
       "      <td>3.360062e+06</td>\n",
       "      <td>0.511944</td>\n",
       "      <td>0.488056</td>\n",
       "      <td>0.0</td>\n",
       "      <td>dem</td>\n",
       "      <td>AZ</td>\n",
       "      <td>2.388859</td>\n",
       "      <td>Toss-Up</td>\n",
       "    </tr>\n",
       "    <tr>\n",
       "      <th>Arkansas</th>\n",
       "      <td>4.703141e+05</td>\n",
       "      <td>6.920592e+05</td>\n",
       "      <td>6.129062e+04</td>\n",
       "      <td>1.209257e+06</td>\n",
       "      <td>0.388931</td>\n",
       "      <td>0.611069</td>\n",
       "      <td>0.0</td>\n",
       "      <td>gop</td>\n",
       "      <td>AR</td>\n",
       "      <td>-22.213722</td>\n",
       "      <td>Safe Republican</td>\n",
       "    </tr>\n",
       "    <tr>\n",
       "      <th>California</th>\n",
       "      <td>1.074173e+07</td>\n",
       "      <td>5.621387e+06</td>\n",
       "      <td>1.310402e+06</td>\n",
       "      <td>1.735508e+07</td>\n",
       "      <td>0.618904</td>\n",
       "      <td>0.381096</td>\n",
       "      <td>0.0</td>\n",
       "      <td>dem</td>\n",
       "      <td>CA</td>\n",
       "      <td>23.780870</td>\n",
       "      <td>Safe Democrat</td>\n",
       "    </tr>\n",
       "    <tr>\n",
       "      <th>Colorado</th>\n",
       "      <td>1.665914e+06</td>\n",
       "      <td>1.345278e+06</td>\n",
       "      <td>2.879983e+05</td>\n",
       "      <td>3.230738e+06</td>\n",
       "      <td>0.515570</td>\n",
       "      <td>0.484430</td>\n",
       "      <td>0.0</td>\n",
       "      <td>dem</td>\n",
       "      <td>CO</td>\n",
       "      <td>3.114019</td>\n",
       "      <td>Likely Democrat</td>\n",
       "    </tr>\n",
       "    <tr>\n",
       "      <th>Connecticut</th>\n",
       "      <td>9.277497e+05</td>\n",
       "      <td>7.885967e+05</td>\n",
       "      <td>1.227752e+05</td>\n",
       "      <td>1.809597e+06</td>\n",
       "      <td>0.512622</td>\n",
       "      <td>0.487378</td>\n",
       "      <td>0.0</td>\n",
       "      <td>dem</td>\n",
       "      <td>CT</td>\n",
       "      <td>2.524323</td>\n",
       "      <td>Likely Democrat</td>\n",
       "    </tr>\n",
       "    <tr>\n",
       "      <th>Delaware</th>\n",
       "      <td>2.544812e+05</td>\n",
       "      <td>2.220799e+05</td>\n",
       "      <td>3.067530e+04</td>\n",
       "      <td>4.999533e+05</td>\n",
       "      <td>0.508928</td>\n",
       "      <td>0.491072</td>\n",
       "      <td>0.0</td>\n",
       "      <td>dem</td>\n",
       "      <td>DE</td>\n",
       "      <td>1.785592</td>\n",
       "      <td>Toss-Up</td>\n",
       "    </tr>\n",
       "    <tr>\n",
       "      <th>District of Columbia</th>\n",
       "      <td>2.737087e+05</td>\n",
       "      <td>5.676136e+04</td>\n",
       "      <td>1.434525e+04</td>\n",
       "      <td>3.415843e+05</td>\n",
       "      <td>0.801252</td>\n",
       "      <td>0.198748</td>\n",
       "      <td>0.0</td>\n",
       "      <td>dem</td>\n",
       "      <td>DC</td>\n",
       "      <td>60.250324</td>\n",
       "      <td>Safe Democrat</td>\n",
       "    </tr>\n",
       "    <tr>\n",
       "      <th>Florida</th>\n",
       "      <td>5.519340e+06</td>\n",
       "      <td>5.058424e+06</td>\n",
       "      <td>5.269635e+05</td>\n",
       "      <td>1.097838e+07</td>\n",
       "      <td>0.502714</td>\n",
       "      <td>0.497286</td>\n",
       "      <td>0.0</td>\n",
       "      <td>dem</td>\n",
       "      <td>FL</td>\n",
       "      <td>0.542759</td>\n",
       "      <td>Toss-Up</td>\n",
       "    </tr>\n",
       "    <tr>\n",
       "      <th>Georgia</th>\n",
       "      <td>2.485640e+06</td>\n",
       "      <td>2.273263e+06</td>\n",
       "      <td>2.595319e+05</td>\n",
       "      <td>4.957490e+06</td>\n",
       "      <td>0.501372</td>\n",
       "      <td>0.498628</td>\n",
       "      <td>0.0</td>\n",
       "      <td>dem</td>\n",
       "      <td>GA</td>\n",
       "      <td>0.274303</td>\n",
       "      <td>Toss-Up</td>\n",
       "    </tr>\n",
       "    <tr>\n",
       "      <th>Hawaii</th>\n",
       "      <td>3.550514e+05</td>\n",
       "      <td>1.888867e+05</td>\n",
       "      <td>3.413151e+04</td>\n",
       "      <td>5.698452e+05</td>\n",
       "      <td>0.623050</td>\n",
       "      <td>0.376950</td>\n",
       "      <td>0.0</td>\n",
       "      <td>dem</td>\n",
       "      <td>HI</td>\n",
       "      <td>24.610018</td>\n",
       "      <td>Safe Democrat</td>\n",
       "    </tr>\n",
       "    <tr>\n",
       "      <th>Idaho</th>\n",
       "      <td>3.213306e+05</td>\n",
       "      <td>4.822892e+05</td>\n",
       "      <td>7.593252e+04</td>\n",
       "      <td>8.611177e+05</td>\n",
       "      <td>0.373097</td>\n",
       "      <td>0.626903</td>\n",
       "      <td>0.0</td>\n",
       "      <td>gop</td>\n",
       "      <td>ID</td>\n",
       "      <td>-25.380522</td>\n",
       "      <td>Safe Republican</td>\n",
       "    </tr>\n",
       "    <tr>\n",
       "      <th>Illinois</th>\n",
       "      <td>3.213236e+06</td>\n",
       "      <td>2.469304e+06</td>\n",
       "      <td>4.072268e+05</td>\n",
       "      <td>5.990244e+06</td>\n",
       "      <td>0.536362</td>\n",
       "      <td>0.463638</td>\n",
       "      <td>0.0</td>\n",
       "      <td>dem</td>\n",
       "      <td>IL</td>\n",
       "      <td>7.272459</td>\n",
       "      <td>Likely Democrat</td>\n",
       "    </tr>\n",
       "    <tr>\n",
       "      <th>Indiana</th>\n",
       "      <td>1.219039e+06</td>\n",
       "      <td>1.629106e+06</td>\n",
       "      <td>2.104320e+05</td>\n",
       "      <td>3.008784e+06</td>\n",
       "      <td>0.405131</td>\n",
       "      <td>0.594869</td>\n",
       "      <td>0.0</td>\n",
       "      <td>gop</td>\n",
       "      <td>IN</td>\n",
       "      <td>-18.973807</td>\n",
       "      <td>Safe Republican</td>\n",
       "    </tr>\n",
       "    <tr>\n",
       "      <th>Iowa</th>\n",
       "      <td>6.439404e+05</td>\n",
       "      <td>9.360082e+05</td>\n",
       "      <td>1.284185e+05</td>\n",
       "      <td>1.677261e+06</td>\n",
       "      <td>0.383870</td>\n",
       "      <td>0.616130</td>\n",
       "      <td>0.0</td>\n",
       "      <td>gop</td>\n",
       "      <td>IA</td>\n",
       "      <td>-23.226045</td>\n",
       "      <td>Safe Republican</td>\n",
       "    </tr>\n",
       "    <tr>\n",
       "      <th>Kansas</th>\n",
       "      <td>5.185665e+05</td>\n",
       "      <td>7.471292e+05</td>\n",
       "      <td>9.543993e+04</td>\n",
       "      <td>1.338705e+06</td>\n",
       "      <td>0.387323</td>\n",
       "      <td>0.612677</td>\n",
       "      <td>0.0</td>\n",
       "      <td>gop</td>\n",
       "      <td>KS</td>\n",
       "      <td>-22.535367</td>\n",
       "      <td>Safe Republican</td>\n",
       "    </tr>\n",
       "    <tr>\n",
       "      <th>Kentucky</th>\n",
       "      <td>8.138934e+05</td>\n",
       "      <td>1.207412e+06</td>\n",
       "      <td>1.288173e+05</td>\n",
       "      <td>2.119569e+06</td>\n",
       "      <td>0.383982</td>\n",
       "      <td>0.616018</td>\n",
       "      <td>0.0</td>\n",
       "      <td>gop</td>\n",
       "      <td>KY</td>\n",
       "      <td>-23.203646</td>\n",
       "      <td>Safe Republican</td>\n",
       "    </tr>\n",
       "    <tr>\n",
       "      <th>Louisiana</th>\n",
       "      <td>9.843874e+05</td>\n",
       "      <td>1.073426e+06</td>\n",
       "      <td>9.517322e+04</td>\n",
       "      <td>2.130773e+06</td>\n",
       "      <td>0.461981</td>\n",
       "      <td>0.538019</td>\n",
       "      <td>0.0</td>\n",
       "      <td>gop</td>\n",
       "      <td>LA</td>\n",
       "      <td>-7.603843</td>\n",
       "      <td>Likely Republican</td>\n",
       "    </tr>\n",
       "    <tr>\n",
       "      <th>Maine</th>\n",
       "      <td>3.328935e+05</td>\n",
       "      <td>4.320841e+05</td>\n",
       "      <td>5.532024e+04</td>\n",
       "      <td>8.071903e+05</td>\n",
       "      <td>0.412351</td>\n",
       "      <td>0.587649</td>\n",
       "      <td>0.0</td>\n",
       "      <td>gop</td>\n",
       "      <td>ME</td>\n",
       "      <td>-17.529858</td>\n",
       "      <td>Safe Republican</td>\n",
       "    </tr>\n",
       "    <tr>\n",
       "      <th>Maryland</th>\n",
       "      <td>1.767419e+06</td>\n",
       "      <td>1.133819e+06</td>\n",
       "      <td>1.443964e+05</td>\n",
       "      <td>3.012585e+06</td>\n",
       "      <td>0.586625</td>\n",
       "      <td>0.413375</td>\n",
       "      <td>0.0</td>\n",
       "      <td>dem</td>\n",
       "      <td>MD</td>\n",
       "      <td>17.325049</td>\n",
       "      <td>Safe Democrat</td>\n",
       "    </tr>\n",
       "    <tr>\n",
       "      <th>Massachusetts</th>\n",
       "      <td>2.145579e+06</td>\n",
       "      <td>1.247512e+06</td>\n",
       "      <td>2.762227e+05</td>\n",
       "      <td>3.602173e+06</td>\n",
       "      <td>0.595570</td>\n",
       "      <td>0.404430</td>\n",
       "      <td>0.0</td>\n",
       "      <td>dem</td>\n",
       "      <td>MA</td>\n",
       "      <td>19.113989</td>\n",
       "      <td>Safe Democrat</td>\n",
       "    </tr>\n",
       "    <tr>\n",
       "      <th>Michigan</th>\n",
       "      <td>2.478997e+06</td>\n",
       "      <td>2.755046e+06</td>\n",
       "      <td>3.410145e+05</td>\n",
       "      <td>5.494717e+06</td>\n",
       "      <td>0.451103</td>\n",
       "      <td>0.548897</td>\n",
       "      <td>0.0</td>\n",
       "      <td>gop</td>\n",
       "      <td>MI</td>\n",
       "      <td>-9.779310</td>\n",
       "      <td>Likely Republican</td>\n",
       "    </tr>\n",
       "    <tr>\n",
       "      <th>Minnesota</th>\n",
       "      <td>1.548346e+06</td>\n",
       "      <td>1.484374e+06</td>\n",
       "      <td>2.870787e+05</td>\n",
       "      <td>3.250794e+06</td>\n",
       "      <td>0.476221</td>\n",
       "      <td>0.523779</td>\n",
       "      <td>0.0</td>\n",
       "      <td>gop</td>\n",
       "      <td>MN</td>\n",
       "      <td>-4.755742</td>\n",
       "      <td>Likely Republican</td>\n",
       "    </tr>\n",
       "    <tr>\n",
       "      <th>Mississippi</th>\n",
       "      <td>5.654142e+05</td>\n",
       "      <td>7.055213e+05</td>\n",
       "      <td>4.393142e+04</td>\n",
       "      <td>1.304592e+06</td>\n",
       "      <td>0.433409</td>\n",
       "      <td>0.566591</td>\n",
       "      <td>0.0</td>\n",
       "      <td>gop</td>\n",
       "      <td>MS</td>\n",
       "      <td>-13.318116</td>\n",
       "      <td>Safe Republican</td>\n",
       "    </tr>\n",
       "    <tr>\n",
       "      <th>Missouri</th>\n",
       "      <td>1.241623e+06</td>\n",
       "      <td>1.625455e+06</td>\n",
       "      <td>1.763889e+05</td>\n",
       "      <td>3.001606e+06</td>\n",
       "      <td>0.413627</td>\n",
       "      <td>0.586373</td>\n",
       "      <td>0.0</td>\n",
       "      <td>gop</td>\n",
       "      <td>MO</td>\n",
       "      <td>-17.274685</td>\n",
       "      <td>Safe Republican</td>\n",
       "    </tr>\n",
       "    <tr>\n",
       "      <th>Montana</th>\n",
       "      <td>2.352832e+05</td>\n",
       "      <td>3.285398e+05</td>\n",
       "      <td>4.873374e+04</td>\n",
       "      <td>6.008744e+05</td>\n",
       "      <td>0.391512</td>\n",
       "      <td>0.608488</td>\n",
       "      <td>0.0</td>\n",
       "      <td>gop</td>\n",
       "      <td>MT</td>\n",
       "      <td>-21.697550</td>\n",
       "      <td>Safe Republican</td>\n",
       "    </tr>\n",
       "    <tr>\n",
       "      <th>Nebraska</th>\n",
       "      <td>3.753652e+05</td>\n",
       "      <td>5.201976e+05</td>\n",
       "      <td>6.950673e+04</td>\n",
       "      <td>9.486812e+05</td>\n",
       "      <td>0.395624</td>\n",
       "      <td>0.604376</td>\n",
       "      <td>0.0</td>\n",
       "      <td>gop</td>\n",
       "      <td>NE</td>\n",
       "      <td>-20.875112</td>\n",
       "      <td>Safe Republican</td>\n",
       "    </tr>\n",
       "    <tr>\n",
       "      <th>Nevada</th>\n",
       "      <td>7.933960e+05</td>\n",
       "      <td>5.165530e+05</td>\n",
       "      <td>1.069166e+05</td>\n",
       "      <td>1.391210e+06</td>\n",
       "      <td>0.570260</td>\n",
       "      <td>0.429740</td>\n",
       "      <td>0.0</td>\n",
       "      <td>dem</td>\n",
       "      <td>NV</td>\n",
       "      <td>14.052095</td>\n",
       "      <td>Safe Democrat</td>\n",
       "    </tr>\n",
       "    <tr>\n",
       "      <th>New Hampshire</th>\n",
       "      <td>3.450387e+05</td>\n",
       "      <td>4.148372e+05</td>\n",
       "      <td>4.952500e+04</td>\n",
       "      <td>7.979553e+05</td>\n",
       "      <td>0.432342</td>\n",
       "      <td>0.567658</td>\n",
       "      <td>0.0</td>\n",
       "      <td>gop</td>\n",
       "      <td>NH</td>\n",
       "      <td>-13.531597</td>\n",
       "      <td>Safe Republican</td>\n",
       "    </tr>\n",
       "    <tr>\n",
       "      <th>New Jersey</th>\n",
       "      <td>2.675976e+06</td>\n",
       "      <td>1.655592e+06</td>\n",
       "      <td>2.574889e+05</td>\n",
       "      <td>4.527497e+06</td>\n",
       "      <td>0.591008</td>\n",
       "      <td>0.408992</td>\n",
       "      <td>0.0</td>\n",
       "      <td>dem</td>\n",
       "      <td>NJ</td>\n",
       "      <td>18.201602</td>\n",
       "      <td>Safe Democrat</td>\n",
       "    </tr>\n",
       "    <tr>\n",
       "      <th>New Mexico</th>\n",
       "      <td>4.252157e+05</td>\n",
       "      <td>4.466648e+05</td>\n",
       "      <td>5.881130e+04</td>\n",
       "      <td>9.165281e+05</td>\n",
       "      <td>0.463913</td>\n",
       "      <td>0.536087</td>\n",
       "      <td>0.0</td>\n",
       "      <td>gop</td>\n",
       "      <td>NM</td>\n",
       "      <td>-7.217491</td>\n",
       "      <td>Likely Republican</td>\n",
       "    </tr>\n",
       "    <tr>\n",
       "      <th>New York</th>\n",
       "      <td>5.101830e+06</td>\n",
       "      <td>3.028238e+06</td>\n",
       "      <td>5.463335e+05</td>\n",
       "      <td>8.546854e+06</td>\n",
       "      <td>0.596895</td>\n",
       "      <td>0.403105</td>\n",
       "      <td>0.0</td>\n",
       "      <td>dem</td>\n",
       "      <td>NY</td>\n",
       "      <td>19.378982</td>\n",
       "      <td>Safe Democrat</td>\n",
       "    </tr>\n",
       "    <tr>\n",
       "      <th>North Carolina</th>\n",
       "      <td>2.598802e+06</td>\n",
       "      <td>2.653418e+06</td>\n",
       "      <td>3.014747e+05</td>\n",
       "      <td>5.480333e+06</td>\n",
       "      <td>0.474175</td>\n",
       "      <td>0.525825</td>\n",
       "      <td>0.0</td>\n",
       "      <td>gop</td>\n",
       "      <td>NC</td>\n",
       "      <td>-5.164902</td>\n",
       "      <td>Likely Republican</td>\n",
       "    </tr>\n",
       "    <tr>\n",
       "      <th>North Dakota</th>\n",
       "      <td>1.348606e+05</td>\n",
       "      <td>2.018741e+05</td>\n",
       "      <td>2.926689e+04</td>\n",
       "      <td>3.589068e+05</td>\n",
       "      <td>0.375724</td>\n",
       "      <td>0.624276</td>\n",
       "      <td>0.0</td>\n",
       "      <td>gop</td>\n",
       "      <td>ND</td>\n",
       "      <td>-24.855116</td>\n",
       "      <td>Safe Republican</td>\n",
       "    </tr>\n",
       "    <tr>\n",
       "      <th>Ohio</th>\n",
       "      <td>2.619337e+06</td>\n",
       "      <td>2.997388e+06</td>\n",
       "      <td>3.372856e+05</td>\n",
       "      <td>5.874535e+06</td>\n",
       "      <td>0.445851</td>\n",
       "      <td>0.554149</td>\n",
       "      <td>0.0</td>\n",
       "      <td>gop</td>\n",
       "      <td>OH</td>\n",
       "      <td>-10.829739</td>\n",
       "      <td>Safe Republican</td>\n",
       "    </tr>\n",
       "    <tr>\n",
       "      <th>Oklahoma</th>\n",
       "      <td>5.868251e+05</td>\n",
       "      <td>8.939458e+05</td>\n",
       "      <td>8.865937e+04</td>\n",
       "      <td>1.548137e+06</td>\n",
       "      <td>0.379046</td>\n",
       "      <td>0.620954</td>\n",
       "      <td>0.0</td>\n",
       "      <td>gop</td>\n",
       "      <td>OK</td>\n",
       "      <td>-24.190717</td>\n",
       "      <td>Safe Republican</td>\n",
       "    </tr>\n",
       "    <tr>\n",
       "      <th>Oregon</th>\n",
       "      <td>1.243110e+06</td>\n",
       "      <td>9.648502e+05</td>\n",
       "      <td>1.940982e+05</td>\n",
       "      <td>2.355210e+06</td>\n",
       "      <td>0.527742</td>\n",
       "      <td>0.472258</td>\n",
       "      <td>0.0</td>\n",
       "      <td>dem</td>\n",
       "      <td>OR</td>\n",
       "      <td>5.548484</td>\n",
       "      <td>Likely Democrat</td>\n",
       "    </tr>\n",
       "    <tr>\n",
       "      <th>Pennsylvania</th>\n",
       "      <td>3.348965e+06</td>\n",
       "      <td>3.180347e+06</td>\n",
       "      <td>4.486355e+05</td>\n",
       "      <td>6.869515e+06</td>\n",
       "      <td>0.487466</td>\n",
       "      <td>0.512534</td>\n",
       "      <td>0.0</td>\n",
       "      <td>gop</td>\n",
       "      <td>PA</td>\n",
       "      <td>-2.506795</td>\n",
       "      <td>Likely Republican</td>\n",
       "    </tr>\n",
       "    <tr>\n",
       "      <th>Rhode Island</th>\n",
       "      <td>2.768933e+05</td>\n",
       "      <td>2.037131e+05</td>\n",
       "      <td>4.189604e+04</td>\n",
       "      <td>5.122267e+05</td>\n",
       "      <td>0.540494</td>\n",
       "      <td>0.459506</td>\n",
       "      <td>0.0</td>\n",
       "      <td>dem</td>\n",
       "      <td>RI</td>\n",
       "      <td>8.098772</td>\n",
       "      <td>Likely Democrat</td>\n",
       "    </tr>\n",
       "    <tr>\n",
       "      <th>South Carolina</th>\n",
       "      <td>1.095634e+06</td>\n",
       "      <td>1.300501e+06</td>\n",
       "      <td>1.272129e+05</td>\n",
       "      <td>2.493100e+06</td>\n",
       "      <td>0.439436</td>\n",
       "      <td>0.560564</td>\n",
       "      <td>0.0</td>\n",
       "      <td>gop</td>\n",
       "      <td>SC</td>\n",
       "      <td>-12.112863</td>\n",
       "      <td>Safe Republican</td>\n",
       "    </tr>\n",
       "    <tr>\n",
       "      <th>South Dakota</th>\n",
       "      <td>1.499113e+05</td>\n",
       "      <td>2.405785e+05</td>\n",
       "      <td>3.368704e+04</td>\n",
       "      <td>4.160332e+05</td>\n",
       "      <td>0.360311</td>\n",
       "      <td>0.639689</td>\n",
       "      <td>0.0</td>\n",
       "      <td>gop</td>\n",
       "      <td>SD</td>\n",
       "      <td>-27.937793</td>\n",
       "      <td>Safe Republican</td>\n",
       "    </tr>\n",
       "    <tr>\n",
       "      <th>Tennessee</th>\n",
       "      <td>1.295948e+06</td>\n",
       "      <td>1.616911e+06</td>\n",
       "      <td>1.562546e+05</td>\n",
       "      <td>3.029271e+06</td>\n",
       "      <td>0.427808</td>\n",
       "      <td>0.572192</td>\n",
       "      <td>0.0</td>\n",
       "      <td>gop</td>\n",
       "      <td>TN</td>\n",
       "      <td>-14.438398</td>\n",
       "      <td>Safe Republican</td>\n",
       "    </tr>\n",
       "    <tr>\n",
       "      <th>Texas</th>\n",
       "      <td>5.651316e+06</td>\n",
       "      <td>5.036295e+06</td>\n",
       "      <td>7.115266e+05</td>\n",
       "      <td>1.122656e+07</td>\n",
       "      <td>0.503363</td>\n",
       "      <td>0.496637</td>\n",
       "      <td>0.0</td>\n",
       "      <td>dem</td>\n",
       "      <td>TX</td>\n",
       "      <td>0.672548</td>\n",
       "      <td>Toss-Up</td>\n",
       "    </tr>\n",
       "    <tr>\n",
       "      <th>Utah</th>\n",
       "      <td>6.451568e+05</td>\n",
       "      <td>6.822991e+05</td>\n",
       "      <td>1.958418e+05</td>\n",
       "      <td>1.476310e+06</td>\n",
       "      <td>0.436943</td>\n",
       "      <td>0.563057</td>\n",
       "      <td>0.0</td>\n",
       "      <td>gop</td>\n",
       "      <td>UT</td>\n",
       "      <td>-12.611338</td>\n",
       "      <td>Safe Republican</td>\n",
       "    </tr>\n",
       "    <tr>\n",
       "      <th>Vermont</th>\n",
       "      <td>1.640700e+05</td>\n",
       "      <td>1.776458e+05</td>\n",
       "      <td>2.969169e+04</td>\n",
       "      <td>3.644706e+05</td>\n",
       "      <td>0.450079</td>\n",
       "      <td>0.549921</td>\n",
       "      <td>0.0</td>\n",
       "      <td>gop</td>\n",
       "      <td>VT</td>\n",
       "      <td>-9.984254</td>\n",
       "      <td>Likely Republican</td>\n",
       "    </tr>\n",
       "    <tr>\n",
       "      <th>Virginia</th>\n",
       "      <td>2.265970e+06</td>\n",
       "      <td>1.953159e+06</td>\n",
       "      <td>2.693172e+05</td>\n",
       "      <td>4.424622e+06</td>\n",
       "      <td>0.512075</td>\n",
       "      <td>0.487925</td>\n",
       "      <td>0.0</td>\n",
       "      <td>dem</td>\n",
       "      <td>VA</td>\n",
       "      <td>2.414980</td>\n",
       "      <td>Toss-Up</td>\n",
       "    </tr>\n",
       "    <tr>\n",
       "      <th>Washington</th>\n",
       "      <td>2.283573e+06</td>\n",
       "      <td>1.516670e+06</td>\n",
       "      <td>3.351069e+05</td>\n",
       "      <td>4.054730e+06</td>\n",
       "      <td>0.563123</td>\n",
       "      <td>0.436877</td>\n",
       "      <td>0.0</td>\n",
       "      <td>dem</td>\n",
       "      <td>WA</td>\n",
       "      <td>12.624540</td>\n",
       "      <td>Safe Democrat</td>\n",
       "    </tr>\n",
       "    <tr>\n",
       "      <th>West Virginia</th>\n",
       "      <td>2.625376e+05</td>\n",
       "      <td>4.869412e+05</td>\n",
       "      <td>5.101666e+04</td>\n",
       "      <td>7.882560e+05</td>\n",
       "      <td>0.333062</td>\n",
       "      <td>0.666938</td>\n",
       "      <td>0.0</td>\n",
       "      <td>gop</td>\n",
       "      <td>WV</td>\n",
       "      <td>-33.387525</td>\n",
       "      <td>Safe Republican</td>\n",
       "    </tr>\n",
       "    <tr>\n",
       "      <th>Wisconsin</th>\n",
       "      <td>1.459406e+06</td>\n",
       "      <td>1.642077e+06</td>\n",
       "      <td>2.218801e+05</td>\n",
       "      <td>3.270812e+06</td>\n",
       "      <td>0.446143</td>\n",
       "      <td>0.553857</td>\n",
       "      <td>0.0</td>\n",
       "      <td>gop</td>\n",
       "      <td>WI</td>\n",
       "      <td>-10.771412</td>\n",
       "      <td>Safe Republican</td>\n",
       "    </tr>\n",
       "    <tr>\n",
       "      <th>Wyoming</th>\n",
       "      <td>9.435264e+04</td>\n",
       "      <td>1.622554e+05</td>\n",
       "      <td>2.370762e+04</td>\n",
       "      <td>2.745374e+05</td>\n",
       "      <td>0.343649</td>\n",
       "      <td>0.656351</td>\n",
       "      <td>0.0</td>\n",
       "      <td>gop</td>\n",
       "      <td>WY</td>\n",
       "      <td>-31.270125</td>\n",
       "      <td>Safe Republican</td>\n",
       "    </tr>\n",
       "  </tbody>\n",
       "</table>\n",
       "</div>"
      ],
      "text/plain": [
       "                         Votes_dem     Votes_gop   Votes_other   Votes_total  \\\n",
       "state                                                                          \n",
       "Alabama               9.456139e+05  1.273780e+06  1.117930e+05  2.304604e+06   \n",
       "Arizona               1.720290e+06  1.443903e+06  2.567739e+05  3.360062e+06   \n",
       "Arkansas              4.703141e+05  6.920592e+05  6.129062e+04  1.209257e+06   \n",
       "California            1.074173e+07  5.621387e+06  1.310402e+06  1.735508e+07   \n",
       "Colorado              1.665914e+06  1.345278e+06  2.879983e+05  3.230738e+06   \n",
       "Connecticut           9.277497e+05  7.885967e+05  1.227752e+05  1.809597e+06   \n",
       "Delaware              2.544812e+05  2.220799e+05  3.067530e+04  4.999533e+05   \n",
       "District of Columbia  2.737087e+05  5.676136e+04  1.434525e+04  3.415843e+05   \n",
       "Florida               5.519340e+06  5.058424e+06  5.269635e+05  1.097838e+07   \n",
       "Georgia               2.485640e+06  2.273263e+06  2.595319e+05  4.957490e+06   \n",
       "Hawaii                3.550514e+05  1.888867e+05  3.413151e+04  5.698452e+05   \n",
       "Idaho                 3.213306e+05  4.822892e+05  7.593252e+04  8.611177e+05   \n",
       "Illinois              3.213236e+06  2.469304e+06  4.072268e+05  5.990244e+06   \n",
       "Indiana               1.219039e+06  1.629106e+06  2.104320e+05  3.008784e+06   \n",
       "Iowa                  6.439404e+05  9.360082e+05  1.284185e+05  1.677261e+06   \n",
       "Kansas                5.185665e+05  7.471292e+05  9.543993e+04  1.338705e+06   \n",
       "Kentucky              8.138934e+05  1.207412e+06  1.288173e+05  2.119569e+06   \n",
       "Louisiana             9.843874e+05  1.073426e+06  9.517322e+04  2.130773e+06   \n",
       "Maine                 3.328935e+05  4.320841e+05  5.532024e+04  8.071903e+05   \n",
       "Maryland              1.767419e+06  1.133819e+06  1.443964e+05  3.012585e+06   \n",
       "Massachusetts         2.145579e+06  1.247512e+06  2.762227e+05  3.602173e+06   \n",
       "Michigan              2.478997e+06  2.755046e+06  3.410145e+05  5.494717e+06   \n",
       "Minnesota             1.548346e+06  1.484374e+06  2.870787e+05  3.250794e+06   \n",
       "Mississippi           5.654142e+05  7.055213e+05  4.393142e+04  1.304592e+06   \n",
       "Missouri              1.241623e+06  1.625455e+06  1.763889e+05  3.001606e+06   \n",
       "Montana               2.352832e+05  3.285398e+05  4.873374e+04  6.008744e+05   \n",
       "Nebraska              3.753652e+05  5.201976e+05  6.950673e+04  9.486812e+05   \n",
       "Nevada                7.933960e+05  5.165530e+05  1.069166e+05  1.391210e+06   \n",
       "New Hampshire         3.450387e+05  4.148372e+05  4.952500e+04  7.979553e+05   \n",
       "New Jersey            2.675976e+06  1.655592e+06  2.574889e+05  4.527497e+06   \n",
       "New Mexico            4.252157e+05  4.466648e+05  5.881130e+04  9.165281e+05   \n",
       "New York              5.101830e+06  3.028238e+06  5.463335e+05  8.546854e+06   \n",
       "North Carolina        2.598802e+06  2.653418e+06  3.014747e+05  5.480333e+06   \n",
       "North Dakota          1.348606e+05  2.018741e+05  2.926689e+04  3.589068e+05   \n",
       "Ohio                  2.619337e+06  2.997388e+06  3.372856e+05  5.874535e+06   \n",
       "Oklahoma              5.868251e+05  8.939458e+05  8.865937e+04  1.548137e+06   \n",
       "Oregon                1.243110e+06  9.648502e+05  1.940982e+05  2.355210e+06   \n",
       "Pennsylvania          3.348965e+06  3.180347e+06  4.486355e+05  6.869515e+06   \n",
       "Rhode Island          2.768933e+05  2.037131e+05  4.189604e+04  5.122267e+05   \n",
       "South Carolina        1.095634e+06  1.300501e+06  1.272129e+05  2.493100e+06   \n",
       "South Dakota          1.499113e+05  2.405785e+05  3.368704e+04  4.160332e+05   \n",
       "Tennessee             1.295948e+06  1.616911e+06  1.562546e+05  3.029271e+06   \n",
       "Texas                 5.651316e+06  5.036295e+06  7.115266e+05  1.122656e+07   \n",
       "Utah                  6.451568e+05  6.822991e+05  1.958418e+05  1.476310e+06   \n",
       "Vermont               1.640700e+05  1.776458e+05  2.969169e+04  3.644706e+05   \n",
       "Virginia              2.265970e+06  1.953159e+06  2.693172e+05  4.424622e+06   \n",
       "Washington            2.283573e+06  1.516670e+06  3.351069e+05  4.054730e+06   \n",
       "West Virginia         2.625376e+05  4.869412e+05  5.101666e+04  7.882560e+05   \n",
       "Wisconsin             1.459406e+06  1.642077e+06  2.218801e+05  3.270812e+06   \n",
       "Wyoming               9.435264e+04  1.622554e+05  2.370762e+04  2.745374e+05   \n",
       "\n",
       "                       Per_dem   Per_gop  Per_other Winner state_code  \\\n",
       "state                                                                   \n",
       "Alabama               0.410301  0.589699        0.0    gop         AL   \n",
       "Arizona               0.511944  0.488056        0.0    dem         AZ   \n",
       "Arkansas              0.388931  0.611069        0.0    gop         AR   \n",
       "California            0.618904  0.381096        0.0    dem         CA   \n",
       "Colorado              0.515570  0.484430        0.0    dem         CO   \n",
       "Connecticut           0.512622  0.487378        0.0    dem         CT   \n",
       "Delaware              0.508928  0.491072        0.0    dem         DE   \n",
       "District of Columbia  0.801252  0.198748        0.0    dem         DC   \n",
       "Florida               0.502714  0.497286        0.0    dem         FL   \n",
       "Georgia               0.501372  0.498628        0.0    dem         GA   \n",
       "Hawaii                0.623050  0.376950        0.0    dem         HI   \n",
       "Idaho                 0.373097  0.626903        0.0    gop         ID   \n",
       "Illinois              0.536362  0.463638        0.0    dem         IL   \n",
       "Indiana               0.405131  0.594869        0.0    gop         IN   \n",
       "Iowa                  0.383870  0.616130        0.0    gop         IA   \n",
       "Kansas                0.387323  0.612677        0.0    gop         KS   \n",
       "Kentucky              0.383982  0.616018        0.0    gop         KY   \n",
       "Louisiana             0.461981  0.538019        0.0    gop         LA   \n",
       "Maine                 0.412351  0.587649        0.0    gop         ME   \n",
       "Maryland              0.586625  0.413375        0.0    dem         MD   \n",
       "Massachusetts         0.595570  0.404430        0.0    dem         MA   \n",
       "Michigan              0.451103  0.548897        0.0    gop         MI   \n",
       "Minnesota             0.476221  0.523779        0.0    gop         MN   \n",
       "Mississippi           0.433409  0.566591        0.0    gop         MS   \n",
       "Missouri              0.413627  0.586373        0.0    gop         MO   \n",
       "Montana               0.391512  0.608488        0.0    gop         MT   \n",
       "Nebraska              0.395624  0.604376        0.0    gop         NE   \n",
       "Nevada                0.570260  0.429740        0.0    dem         NV   \n",
       "New Hampshire         0.432342  0.567658        0.0    gop         NH   \n",
       "New Jersey            0.591008  0.408992        0.0    dem         NJ   \n",
       "New Mexico            0.463913  0.536087        0.0    gop         NM   \n",
       "New York              0.596895  0.403105        0.0    dem         NY   \n",
       "North Carolina        0.474175  0.525825        0.0    gop         NC   \n",
       "North Dakota          0.375724  0.624276        0.0    gop         ND   \n",
       "Ohio                  0.445851  0.554149        0.0    gop         OH   \n",
       "Oklahoma              0.379046  0.620954        0.0    gop         OK   \n",
       "Oregon                0.527742  0.472258        0.0    dem         OR   \n",
       "Pennsylvania          0.487466  0.512534        0.0    gop         PA   \n",
       "Rhode Island          0.540494  0.459506        0.0    dem         RI   \n",
       "South Carolina        0.439436  0.560564        0.0    gop         SC   \n",
       "South Dakota          0.360311  0.639689        0.0    gop         SD   \n",
       "Tennessee             0.427808  0.572192        0.0    gop         TN   \n",
       "Texas                 0.503363  0.496637        0.0    dem         TX   \n",
       "Utah                  0.436943  0.563057        0.0    gop         UT   \n",
       "Vermont               0.450079  0.549921        0.0    gop         VT   \n",
       "Virginia              0.512075  0.487925        0.0    dem         VA   \n",
       "Washington            0.563123  0.436877        0.0    dem         WA   \n",
       "West Virginia         0.333062  0.666938        0.0    gop         WV   \n",
       "Wisconsin             0.446143  0.553857        0.0    gop         WI   \n",
       "Wyoming               0.343649  0.656351        0.0    gop         WY   \n",
       "\n",
       "                      Difference             Status  \n",
       "state                                                \n",
       "Alabama               -17.939796    Safe Republican  \n",
       "Arizona                 2.388859            Toss-Up  \n",
       "Arkansas              -22.213722    Safe Republican  \n",
       "California             23.780870      Safe Democrat  \n",
       "Colorado                3.114019    Likely Democrat  \n",
       "Connecticut             2.524323    Likely Democrat  \n",
       "Delaware                1.785592            Toss-Up  \n",
       "District of Columbia   60.250324      Safe Democrat  \n",
       "Florida                 0.542759            Toss-Up  \n",
       "Georgia                 0.274303            Toss-Up  \n",
       "Hawaii                 24.610018      Safe Democrat  \n",
       "Idaho                 -25.380522    Safe Republican  \n",
       "Illinois                7.272459    Likely Democrat  \n",
       "Indiana               -18.973807    Safe Republican  \n",
       "Iowa                  -23.226045    Safe Republican  \n",
       "Kansas                -22.535367    Safe Republican  \n",
       "Kentucky              -23.203646    Safe Republican  \n",
       "Louisiana              -7.603843  Likely Republican  \n",
       "Maine                 -17.529858    Safe Republican  \n",
       "Maryland               17.325049      Safe Democrat  \n",
       "Massachusetts          19.113989      Safe Democrat  \n",
       "Michigan               -9.779310  Likely Republican  \n",
       "Minnesota              -4.755742  Likely Republican  \n",
       "Mississippi           -13.318116    Safe Republican  \n",
       "Missouri              -17.274685    Safe Republican  \n",
       "Montana               -21.697550    Safe Republican  \n",
       "Nebraska              -20.875112    Safe Republican  \n",
       "Nevada                 14.052095      Safe Democrat  \n",
       "New Hampshire         -13.531597    Safe Republican  \n",
       "New Jersey             18.201602      Safe Democrat  \n",
       "New Mexico             -7.217491  Likely Republican  \n",
       "New York               19.378982      Safe Democrat  \n",
       "North Carolina         -5.164902  Likely Republican  \n",
       "North Dakota          -24.855116    Safe Republican  \n",
       "Ohio                  -10.829739    Safe Republican  \n",
       "Oklahoma              -24.190717    Safe Republican  \n",
       "Oregon                  5.548484    Likely Democrat  \n",
       "Pennsylvania           -2.506795  Likely Republican  \n",
       "Rhode Island            8.098772    Likely Democrat  \n",
       "South Carolina        -12.112863    Safe Republican  \n",
       "South Dakota          -27.937793    Safe Republican  \n",
       "Tennessee             -14.438398    Safe Republican  \n",
       "Texas                   0.672548            Toss-Up  \n",
       "Utah                  -12.611338    Safe Republican  \n",
       "Vermont                -9.984254  Likely Republican  \n",
       "Virginia                2.414980            Toss-Up  \n",
       "Washington             12.624540      Safe Democrat  \n",
       "West Virginia         -33.387525    Safe Republican  \n",
       "Wisconsin             -10.771412    Safe Republican  \n",
       "Wyoming               -31.270125    Safe Republican  "
      ]
     },
     "execution_count": 799,
     "metadata": {},
     "output_type": "execute_result"
    }
   ],
   "source": [
    "# Añadir la columna \"Winner\" basado en los porcentajes predichos de Biden y Trump\n",
    "accumulated_pred_state['Winner'] = np.where(\n",
    "    accumulated_pred_state[\"Per_dem\"] >= accumulated_pred_state[\"Per_gop\"], 'dem', 'gop'\n",
    ")\n",
    "\n",
    "# Añadir los códigos de los estados usando el diccionario state_to_code\n",
    "accumulated_pred_state['state_code'] = accumulated_pred_state.index.map(state_to_code)\n",
    "\n",
    "# Añadir diferencia entre Biden y Trump\n",
    "accumulated_pred_state['Difference'] = (accumulated_pred_state[\"Per_dem\"] - accumulated_pred_state[\"Per_gop\"]) * 100\n",
    "\n",
    "\n",
    "# Definir las condiciones y los valores a asignar\n",
    "conditions = [\n",
    "    accumulated_pred_state[\"Difference\"] > 10,\n",
    "    accumulated_pred_state[\"Difference\"].between(2.5, 10),\n",
    "    accumulated_pred_state[\"Difference\"].between(-2.5, 2.5),\n",
    "    accumulated_pred_state[\"Difference\"].between(-10, -2.5),\n",
    "    accumulated_pred_state[\"Difference\"] < -10\n",
    "]\n",
    "\n",
    "choices = [\n",
    "    \"Safe Democrat\",\n",
    "    \"Likely Democrat\",\n",
    "    \"Toss-Up\",\n",
    "    \"Likely Republican\",\n",
    "    \"Safe Republican\"\n",
    "]\n",
    "\n",
    "# Usar np.select para asignar el \"Status\" basado en las condiciones, con un valor por defecto \"Unknown\"\n",
    "accumulated_pred_state[\"Status\"] = np.select(conditions, choices, default=\"Unknown\")\n",
    "\n",
    "\n",
    "# Mostrar el DataFrame\n",
    "accumulated_pred_state\n"
   ]
  },
  {
   "cell_type": "markdown",
   "metadata": {},
   "source": [
    "## Gráficos"
   ]
  },
  {
   "cell_type": "markdown",
   "metadata": {},
   "source": [
    "### Simulación"
   ]
  },
  {
   "cell_type": "code",
   "execution_count": 800,
   "metadata": {},
   "outputs": [
    {
     "data": {
      "image/png": "[encoded data removed]",
      "text/plain": [
       "<Figure size 1200x800 with 1 Axes>"
      ]
     },
     "metadata": {},
     "output_type": "display_data"
    }
   ],
   "source": [
    "# Asegurarse de que los valores de Trump_Pred y Biden_Pred sean numéricos\n",
    "simulation_results['Pred_gop'] = pd.to_numeric(simulation_results['Pred_gop'], errors='coerce')\n",
    "simulation_results['Pred_dem'] = pd.to_numeric(simulation_results['Pred_dem'], errors='coerce')\n",
    "\n",
    "# Eliminar cualquier fila con valores NaN (si es necesario)\n",
    "simulation_results = simulation_results.dropna(subset=['Pred_gop', 'Pred_dem'])\n",
    "\n",
    "# Crear un gráfico de densidad para las predicciones de Biden y Trump\n",
    "plt.figure(figsize=(12, 8))\n",
    "\n",
    "# Gráfico de densidad para Biden (positivo)\n",
    "sns.kdeplot(simulation_results['Pred_dem'], color=\"#3951a2\", fill=True, alpha=0.8, label=\"Biden Pred\")\n",
    "\n",
    "# Crear la densidad para Trump usando gaussian_kde\n",
    "density_trump = gaussian_kde(simulation_results['Pred_gop'])\n",
    "x_vals = np.linspace(min(simulation_results['Pred_gop']), max(simulation_results['Pred_dem']), 1000)\n",
    "y_vals = density_trump(x_vals)\n",
    "\n",
    "# Graficar la densidad de Trump invertida\n",
    "plt.fill_between(x_vals, -y_vals, color=\"#af2b39\", alpha=0.8, label=\"Trump Pred\")\n",
    "\n",
    "# Línea vertical en 270 votos\n",
    "plt.axvline(x=270, color=\"black\", linestyle=\"--\", linewidth=1, label=\"Límite para ganar (270)\")\n",
    "plt.text(270-6, 0.02, '270', color=\"black\", verticalalignment='bottom', fontsize=12)  # Añadir el valor '270' dentro del gráfico\n",
    "\n",
    "# Línea vertical para la media de las predicciones de Biden\n",
    "plt.axvline(x=np.mean(simulation_results['Pred_dem']), color=\"white\", linestyle=\"--\", linewidth=1, label=\"Media Biden Pred\")\n",
    "mean_biden = np.mean(simulation_results['Pred_dem'])\n",
    "plt.text(mean_biden + 1, 0.01, f'{mean_biden:.0f}', color=\"white\", verticalalignment='bottom', fontsize=12)  # Añadir el valor de la media de Biden\n",
    "\n",
    "# Línea vertical para la media de las predicciones de Trump\n",
    "plt.axvline(x=np.mean(simulation_results['Pred_gop']), color=\"white\", linestyle=\"--\", linewidth=1, label=\"Media Trump Pred\")\n",
    "mean_trump = np.mean(simulation_results['Pred_gop'])\n",
    "plt.text(mean_trump + 1, -0.01, f'{mean_trump:.0f}', color=\"white\", verticalalignment='top', fontsize=12)  # Añadir el valor de la media de Trump\n",
    "\n",
    "# Ajustar el eje Y para que sea simétrico\n",
    "plt.ylim(-1.1 * max(y_vals), 1.1 * max(y_vals))\n",
    "\n",
    "# Ajustar el eje X para ver más a la izquierda\n",
    "plt.xlim(min(simulation_results['Pred_gop']), max(simulation_results['Pred_dem']))\n",
    "\n",
    "# Añadir título\n",
    "plt.title(f\"{ELECTORAL_YEAR} Distribución Biden Pred. vs Trump Pred.\", fontsize=16)\n",
    "\n",
    "# Añadir leyenda\n",
    "plt.legend()\n",
    "\n",
    "# Eliminar el fondo del gráfico\n",
    "plt.gca().patch.set_alpha(0)  # Fondo del área del gráfico transparente\n",
    "\n",
    "# Eliminar los bordes y la línea negra alrededor del gráfico\n",
    "plt.gca().spines['top'].set_visible(False)\n",
    "plt.gca().spines['right'].set_visible(False)\n",
    "plt.gca().spines['left'].set_visible(False)\n",
    "plt.gca().spines['bottom'].set_visible(False)\n",
    "\n",
    "# Guardar el gráfico como PNG con fondo transparente\n",
    "plt.savefig(f\"imgs/densidad_biden_trump_transparente_{ELECTORAL_YEAR}.png\", format=\"png\", transparent=True)\n",
    "\n",
    "# Mostrar el gráfico\n",
    "plt.show()"
   ]
  },
  {
   "cell_type": "code",
   "execution_count": 801,
   "metadata": {},
   "outputs": [
    {
     "data": {
      "image/png": "[encoded data removed]",
      "text/plain": [
       "<Figure size 1000x1200 with 1 Axes>"
      ]
     },
     "metadata": {},
     "output_type": "display_data"
    }
   ],
   "source": [
    "# Ordenar los estados por orden alfabético\n",
    "accumulated_pred_state_sorted = accumulated_pred_state.sort_values('state', ascending=False)\n",
    "\n",
    "# Crear el gráfico de barras apiladas\n",
    "plt.figure(figsize=(10, 12))\n",
    "\n",
    "# Primero, graficar la barra de Trump\n",
    "sns.barplot(x=accumulated_pred_state_sorted[\"Per_dem\"] + accumulated_pred_state_sorted[\"Per_gop\"], \n",
    "            y='state', data=accumulated_pred_state_sorted, color=\"#ac2a37\", label=\"gop\")\n",
    "\n",
    "# Luego, graficar la barra de Biden encima de Trump\n",
    "sns.barplot(x=\"Per_dem\", y='state', data=accumulated_pred_state_sorted, color=\"#3951a2\", label=\"dem\")\n",
    "\n",
    "# Añadir una línea vertical en el 50%\n",
    "plt.axvline(x=0.50, color=\"white\", linestyle=\"--\", linewidth=1)\n",
    "\n",
    "# Añadir leyenda\n",
    "plt.legend(loc='best')\n",
    "\n",
    "# Invertir el eje Y para que los estados se vean de arriba hacia abajo\n",
    "plt.gca().invert_yaxis()\n",
    "\n",
    "# Añadir etiquetas y título\n",
    "plt.title(f'{ELECTORAL_YEAR} Resultados Medios por Estado - Simulaciones de Trump vs Biden', fontsize=16)\n",
    "plt.xlabel('Proporción de Votos Simulados')\n",
    "plt.ylabel('Estado')\n",
    "\n",
    "# Ajustar el eje X para que las barras lleguen al 100%\n",
    "plt.xlim(0, 1)\n",
    "\n",
    "# Guardar el gráfico como PNG con fondo transparente\n",
    "plt.savefig(\"imgs/porc_estado_transparente_{ELECTORAL_YEAR}.png\", format=\"png\", transparent=True)\n",
    "\n",
    "# Mostrar el gráfico\n",
    "plt.show()"
   ]
  },
  {
   "cell_type": "code",
   "execution_count": 802,
   "metadata": {},
   "outputs": [
    {
     "data": {
      "image/png": "[encoded data removed]",
      "text/plain": [
       "<Figure size 2600x1200 with 1 Axes>"
      ]
     },
     "metadata": {},
     "output_type": "display_data"
    }
   ],
   "source": [
    "plt.figure(figsize=(26, 12))\n",
    "\n",
    "# Graficar la barra de Trump (en la parte inferior)\n",
    "sns.barplot(y=accumulated_pred_state_sorted[\"Per_dem\"] + accumulated_pred_state_sorted[\"Per_gop\"], \n",
    "            x='state', data=accumulated_pred_state_sorted, color=\"#ac2a37\", label=\"gop\")\n",
    "\n",
    "# Graficar la barra de Biden encima de Trump\n",
    "sns.barplot(y=\"Per_dem\", x='state', data=accumulated_pred_state_sorted, color=\"#3951a2\", label=\"dem\")\n",
    "\n",
    "# Añadir una línea horizontal en el 50%\n",
    "plt.axhline(y=0.50, color=\"white\", linestyle=\"--\", linewidth=1)\n",
    "\n",
    "# Añadir leyenda\n",
    "plt.legend(loc='best', fontsize=22)\n",
    "\n",
    "# Añadir etiquetas y título\n",
    "# plt.title('Resultados Medios por Estado - Simulaciones de Trump vs Biden', fontsize=16)\n",
    "plt.ylabel('Proporción de Votos Simulados', fontsize=22)\n",
    "plt.xlabel('Estado', fontsize=22)\n",
    "\n",
    "# Ajustar el eje Y para que las barras lleguen al 100%\n",
    "plt.ylim(0, 1)\n",
    "\n",
    "# Rotar los nombres de los estados para mejor visibilidad y aumentar el tamaño de las etiquetas\n",
    "plt.xticks(rotation=90, fontsize=24)\n",
    "plt.yticks(fontsize=24)\n",
    "\n",
    "# Ajustar los márgenes del gráfico para evitar que los xticks se corten\n",
    "plt.tight_layout()\n",
    "\n",
    "\n",
    "# Guardar el gráfico como PNG con fondo transparente\n",
    "plt.savefig(f\"imgs/porc_estado_inv_transparente_{ELECTORAL_YEAR}.png\", format=\"png\", transparent=True)\n",
    "\n",
    "# Mostrar el gráfico\n",
    "plt.show()"
   ]
  },
  {
   "cell_type": "code",
   "execution_count": 803,
   "metadata": {},
   "outputs": [
    {
     "data": {
      "application/vnd.plotly.v1+json": {
       "config": {
        "plotlyServerURL": "https://plot.ly"
       },
       "data": [
        {
         "colorscale": [
          [
           0,
           "#af2b39"
          ],
          [
           1,
           "#af2b39"
          ]
         ],
         "customdata": [
          [
           "AL",
           0.41030101810379593,
           0.5896989818962042
          ],
          [
           "AR",
           0.38893138953592166,
           0.6110686104640785
          ],
          [
           "ID",
           0.3730973889836745,
           0.6269026110163258
          ],
          [
           "IN",
           0.4051309632513834,
           0.5948690367486166
          ],
          [
           "IA",
           0.38386977494507496,
           0.6161302250549249
          ],
          [
           "KS",
           0.3873231657407056,
           0.6126768342592946
          ],
          [
           "KY",
           0.38398177235048503,
           0.616018227649515
          ],
          [
           "LA",
           0.46198078406159904,
           0.5380192159384011
          ],
          [
           "ME",
           0.41235071160089354,
           0.5876492883991067
          ],
          [
           "MI",
           0.4511034512782077,
           0.5488965487217922
          ],
          [
           "MN",
           0.47622128961220456,
           0.5237787103877954
          ],
          [
           "MS",
           0.43340942230512913,
           0.566590577694871
          ],
          [
           "MO",
           0.4136265727351999,
           0.5863734272648
          ],
          [
           "MT",
           0.3915122511089146,
           0.6084877488910855
          ],
          [
           "NE",
           0.3956244416585333,
           0.6043755583414665
          ],
          [
           "NH",
           0.43234201735063865,
           0.5676579826493614
          ],
          [
           "NM",
           0.46391254636543705,
           0.5360874536345629
          ],
          [
           "NC",
           0.47417548803726667,
           0.5258245119627333
          ],
          [
           "ND",
           0.3757244196888136,
           0.6242755803111865
          ],
          [
           "OH",
           0.44585130543555224,
           0.5541486945644476
          ],
          [
           "OK",
           0.3790464148108566,
           0.6209535851891431
          ],
          [
           "PA",
           0.48746602371418146,
           0.5125339762858186
          ],
          [
           "SC",
           0.4394356872851465,
           0.5605643127148535
          ],
          [
           "SD",
           0.3603110329182195,
           0.6396889670817804
          ],
          [
           "TN",
           0.42780800781358513,
           0.5721919921864148
          ],
          [
           "UT",
           0.43694330816800636,
           0.5630566918319935
          ],
          [
           "VT",
           0.4500787322193394,
           0.5499212677806604
          ],
          [
           "WV",
           0.3330623747352927,
           0.6669376252647073
          ],
          [
           "WI",
           0.4461429420296208,
           0.5538570579703792
          ],
          [
           "WY",
           0.343649375068071,
           0.6563506249319292
          ]
         ],
         "geo": "geo",
         "hovertemplate": "<b>%{hovertext}</b><br><br>Ganador {ELECTORAL_YEAR}=gop<br>state_code=%{customdata[0]}<br>Per_dem=%{customdata[1]:.2%}<br>Per_gop=%{customdata[2]:.2%}<extra></extra>",
         "hovertext": [
          "AL",
          "AR",
          "ID",
          "IN",
          "IA",
          "KS",
          "KY",
          "LA",
          "ME",
          "MI",
          "MN",
          "MS",
          "MO",
          "MT",
          "NE",
          "NH",
          "NM",
          "NC",
          "ND",
          "OH",
          "OK",
          "PA",
          "SC",
          "SD",
          "TN",
          "UT",
          "VT",
          "WV",
          "WI",
          "WY"
         ],
         "locationmode": "USA-states",
         "locations": [
          "AL",
          "AR",
          "ID",
          "IN",
          "IA",
          "KS",
          "KY",
          "LA",
          "ME",
          "MI",
          "MN",
          "MS",
          "MO",
          "MT",
          "NE",
          "NH",
          "NM",
          "NC",
          "ND",
          "OH",
          "OK",
          "PA",
          "SC",
          "SD",
          "TN",
          "UT",
          "VT",
          "WV",
          "WI",
          "WY"
         ],
         "name": "gop",
         "showlegend": true,
         "showscale": false,
         "type": "choropleth",
         "z": [
          1,
          1,
          1,
          1,
          1,
          1,
          1,
          1,
          1,
          1,
          1,
          1,
          1,
          1,
          1,
          1,
          1,
          1,
          1,
          1,
          1,
          1,
          1,
          1,
          1,
          1,
          1,
          1,
          1,
          1
         ]
        },
        {
         "colorscale": [
          [
           0,
           "#3951a2"
          ],
          [
           1,
           "#3951a2"
          ]
         ],
         "customdata": [
          [
           "AZ",
           0.5119442971920869,
           0.4880557028079132
          ],
          [
           "CA",
           0.6189043492124998,
           0.38109565078750035
          ],
          [
           "CO",
           0.5155700925396759,
           0.48442990746032416
          ],
          [
           "CT",
           0.5126216126127372,
           0.48737838738726275
          ],
          [
           "DE",
           0.5089279610926978,
           0.4910720389073023
          ],
          [
           "DC",
           0.8012516221734386,
           0.19874837782656132
          ],
          [
           "FL",
           0.502713794007313,
           0.497286205992687
          ],
          [
           "GA",
           0.501371515830738,
           0.4986284841692619
          ],
          [
           "HI",
           0.623050088342779,
           0.3769499116572209
          ],
          [
           "IL",
           0.5363622949385054,
           0.4636377050614944
          ],
          [
           "MD",
           0.586625242973987,
           0.4133747570260131
          ],
          [
           "MA",
           0.595569942661877,
           0.40443005733812293
          ],
          [
           "NV",
           0.5702604770148145,
           0.42973952298518564
          ],
          [
           "NJ",
           0.5910080101443707,
           0.40899198985562935
          ],
          [
           "NY",
           0.5968949109415636,
           0.40310508905843667
          ],
          [
           "OR",
           0.527742417778705,
           0.47225758222129516
          ],
          [
           "RI",
           0.5404938586797712,
           0.45950614132022877
          ],
          [
           "TX",
           0.5033627378841061,
           0.4966372621158939
          ],
          [
           "VA",
           0.5120748998118398,
           0.4879251001881603
          ],
          [
           "WA",
           0.5631226984445076,
           0.4368773015554925
          ]
         ],
         "geo": "geo",
         "hovertemplate": "<b>%{hovertext}</b><br><br>Ganador {ELECTORAL_YEAR}=dem<br>state_code=%{customdata[0]}<br>Per_dem=%{customdata[1]:.2%}<br>Per_gop=%{customdata[2]:.2%}<extra></extra>",
         "hovertext": [
          "AZ",
          "CA",
          "CO",
          "CT",
          "DE",
          "DC",
          "FL",
          "GA",
          "HI",
          "IL",
          "MD",
          "MA",
          "NV",
          "NJ",
          "NY",
          "OR",
          "RI",
          "TX",
          "VA",
          "WA"
         ],
         "locationmode": "USA-states",
         "locations": [
          "AZ",
          "CA",
          "CO",
          "CT",
          "DE",
          "DC",
          "FL",
          "GA",
          "HI",
          "IL",
          "MD",
          "MA",
          "NV",
          "NJ",
          "NY",
          "OR",
          "RI",
          "TX",
          "VA",
          "WA"
         ],
         "name": "dem",
         "showlegend": true,
         "showscale": false,
         "type": "choropleth",
         "z": [
          1,
          1,
          1,
          1,
          1,
          1,
          1,
          1,
          1,
          1,
          1,
          1,
          1,
          1,
          1,
          1,
          1,
          1,
          1,
          1
         ]
        }
       ],
       "layout": {
        "geo": {
         "center": {},
         "domain": {
          "x": [
           0,
           1
          ],
          "y": [
           0,
           1
          ]
         },
         "fitbounds": "locations",
         "scope": "usa",
         "visible": false
        },
        "height": 800,
        "legend": {
         "title": {
          "text": "Ganador {ELECTORAL_YEAR}"
         },
         "tracegroupgap": 0
        },
        "template": {
         "data": {
          "bar": [
           {
            "error_x": {
             "color": "#2a3f5f"
            },
            "error_y": {
             "color": "#2a3f5f"
            },
            "marker": {
             "line": {
              "color": "#E5ECF6",
              "width": 0.5
             },
             "pattern": {
              "fillmode": "overlay",
              "size": 10,
              "solidity": 0.2
             }
            },
            "type": "bar"
           }
          ],
          "barpolar": [
           {
            "marker": {
             "line": {
              "color": "#E5ECF6",
              "width": 0.5
             },
             "pattern": {
              "fillmode": "overlay",
              "size": 10,
              "solidity": 0.2
             }
            },
            "type": "barpolar"
           }
          ],
          "carpet": [
           {
            "aaxis": {
             "endlinecolor": "#2a3f5f",
             "gridcolor": "white",
             "linecolor": "white",
             "minorgridcolor": "white",
             "startlinecolor": "#2a3f5f"
            },
            "baxis": {
             "endlinecolor": "#2a3f5f",
             "gridcolor": "white",
             "linecolor": "white",
             "minorgridcolor": "white",
             "startlinecolor": "#2a3f5f"
            },
            "type": "carpet"
           }
          ],
          "choropleth": [
           {
            "colorbar": {
             "outlinewidth": 0,
             "ticks": ""
            },
            "type": "choropleth"
           }
          ],
          "contour": [
           {
            "colorbar": {
             "outlinewidth": 0,
             "ticks": ""
            },
            "colorscale": [
             [
              0,
              "#0d0887"
             ],
             [
              0.1111111111111111,
              "#46039f"
             ],
             [
              0.2222222222222222,
              "#7201a8"
             ],
             [
              0.3333333333333333,
              "#9c179e"
             ],
             [
              0.4444444444444444,
              "#bd3786"
             ],
             [
              0.5555555555555556,
              "#d8576b"
             ],
             [
              0.6666666666666666,
              "#ed7953"
             ],
             [
              0.7777777777777778,
              "#fb9f3a"
             ],
             [
              0.8888888888888888,
              "#fdca26"
             ],
             [
              1,
              "#f0f921"
             ]
            ],
            "type": "contour"
           }
          ],
          "contourcarpet": [
           {
            "colorbar": {
             "outlinewidth": 0,
             "ticks": ""
            },
            "type": "contourcarpet"
           }
          ],
          "heatmap": [
           {
            "colorbar": {
             "outlinewidth": 0,
             "ticks": ""
            },
            "colorscale": [
             [
              0,
              "#0d0887"
             ],
             [
              0.1111111111111111,
              "#46039f"
             ],
             [
              0.2222222222222222,
              "#7201a8"
             ],
             [
              0.3333333333333333,
              "#9c179e"
             ],
             [
              0.4444444444444444,
              "#bd3786"
             ],
             [
              0.5555555555555556,
              "#d8576b"
             ],
             [
              0.6666666666666666,
              "#ed7953"
             ],
             [
              0.7777777777777778,
              "#fb9f3a"
             ],
             [
              0.8888888888888888,
              "#fdca26"
             ],
             [
              1,
              "#f0f921"
             ]
            ],
            "type": "heatmap"
           }
          ],
          "histogram": [
           {
            "marker": {
             "pattern": {
              "fillmode": "overlay",
              "size": 10,
              "solidity": 0.2
             }
            },
            "type": "histogram"
           }
          ],
          "histogram2d": [
           {
            "colorbar": {
             "outlinewidth": 0,
             "ticks": ""
            },
            "colorscale": [
             [
              0,
              "#0d0887"
             ],
             [
              0.1111111111111111,
              "#46039f"
             ],
             [
              0.2222222222222222,
              "#7201a8"
             ],
             [
              0.3333333333333333,
              "#9c179e"
             ],
             [
              0.4444444444444444,
              "#bd3786"
             ],
             [
              0.5555555555555556,
              "#d8576b"
             ],
             [
              0.6666666666666666,
              "#ed7953"
             ],
             [
              0.7777777777777778,
              "#fb9f3a"
             ],
             [
              0.8888888888888888,
              "#fdca26"
             ],
             [
              1,
              "#f0f921"
             ]
            ],
            "type": "histogram2d"
           }
          ],
          "histogram2dcontour": [
           {
            "colorbar": {
             "outlinewidth": 0,
             "ticks": ""
            },
            "colorscale": [
             [
              0,
              "#0d0887"
             ],
             [
              0.1111111111111111,
              "#46039f"
             ],
             [
              0.2222222222222222,
              "#7201a8"
             ],
             [
              0.3333333333333333,
              "#9c179e"
             ],
             [
              0.4444444444444444,
              "#bd3786"
             ],
             [
              0.5555555555555556,
              "#d8576b"
             ],
             [
              0.6666666666666666,
              "#ed7953"
             ],
             [
              0.7777777777777778,
              "#fb9f3a"
             ],
             [
              0.8888888888888888,
              "#fdca26"
             ],
             [
              1,
              "#f0f921"
             ]
            ],
            "type": "histogram2dcontour"
           }
          ],
          "mesh3d": [
           {
            "colorbar": {
             "outlinewidth": 0,
             "ticks": ""
            },
            "type": "mesh3d"
           }
          ],
          "parcoords": [
           {
            "line": {
             "colorbar": {
              "outlinewidth": 0,
              "ticks": ""
             }
            },
            "type": "parcoords"
           }
          ],
          "pie": [
           {
            "automargin": true,
            "type": "pie"
           }
          ],
          "scatter": [
           {
            "fillpattern": {
             "fillmode": "overlay",
             "size": 10,
             "solidity": 0.2
            },
            "type": "scatter"
           }
          ],
          "scatter3d": [
           {
            "line": {
             "colorbar": {
              "outlinewidth": 0,
              "ticks": ""
             }
            },
            "marker": {
             "colorbar": {
              "outlinewidth": 0,
              "ticks": ""
             }
            },
            "type": "scatter3d"
           }
          ],
          "scattercarpet": [
           {
            "marker": {
             "colorbar": {
              "outlinewidth": 0,
              "ticks": ""
             }
            },
            "type": "scattercarpet"
           }
          ],
          "scattergeo": [
           {
            "marker": {
             "colorbar": {
              "outlinewidth": 0,
              "ticks": ""
             }
            },
            "type": "scattergeo"
           }
          ],
          "scattergl": [
           {
            "marker": {
             "colorbar": {
              "outlinewidth": 0,
              "ticks": ""
             }
            },
            "type": "scattergl"
           }
          ],
          "scattermap": [
           {
            "marker": {
             "colorbar": {
              "outlinewidth": 0,
              "ticks": ""
             }
            },
            "type": "scattermap"
           }
          ],
          "scattermapbox": [
           {
            "marker": {
             "colorbar": {
              "outlinewidth": 0,
              "ticks": ""
             }
            },
            "type": "scattermapbox"
           }
          ],
          "scatterpolar": [
           {
            "marker": {
             "colorbar": {
              "outlinewidth": 0,
              "ticks": ""
             }
            },
            "type": "scatterpolar"
           }
          ],
          "scatterpolargl": [
           {
            "marker": {
             "colorbar": {
              "outlinewidth": 0,
              "ticks": ""
             }
            },
            "type": "scatterpolargl"
           }
          ],
          "scatterternary": [
           {
            "marker": {
             "colorbar": {
              "outlinewidth": 0,
              "ticks": ""
             }
            },
            "type": "scatterternary"
           }
          ],
          "surface": [
           {
            "colorbar": {
             "outlinewidth": 0,
             "ticks": ""
            },
            "colorscale": [
             [
              0,
              "#0d0887"
             ],
             [
              0.1111111111111111,
              "#46039f"
             ],
             [
              0.2222222222222222,
              "#7201a8"
             ],
             [
              0.3333333333333333,
              "#9c179e"
             ],
             [
              0.4444444444444444,
              "#bd3786"
             ],
             [
              0.5555555555555556,
              "#d8576b"
             ],
             [
              0.6666666666666666,
              "#ed7953"
             ],
             [
              0.7777777777777778,
              "#fb9f3a"
             ],
             [
              0.8888888888888888,
              "#fdca26"
             ],
             [
              1,
              "#f0f921"
             ]
            ],
            "type": "surface"
           }
          ],
          "table": [
           {
            "cells": {
             "fill": {
              "color": "#EBF0F8"
             },
             "line": {
              "color": "white"
             }
            },
            "header": {
             "fill": {
              "color": "#C8D4E3"
             },
             "line": {
              "color": "white"
             }
            },
            "type": "table"
           }
          ]
         },
         "layout": {
          "annotationdefaults": {
           "arrowcolor": "#2a3f5f",
           "arrowhead": 0,
           "arrowwidth": 1
          },
          "autotypenumbers": "strict",
          "coloraxis": {
           "colorbar": {
            "outlinewidth": 0,
            "ticks": ""
           }
          },
          "colorscale": {
           "diverging": [
            [
             0,
             "#8e0152"
            ],
            [
             0.1,
             "#c51b7d"
            ],
            [
             0.2,
             "#de77ae"
            ],
            [
             0.3,
             "#f1b6da"
            ],
            [
             0.4,
             "#fde0ef"
            ],
            [
             0.5,
             "#f7f7f7"
            ],
            [
             0.6,
             "#e6f5d0"
            ],
            [
             0.7,
             "#b8e186"
            ],
            [
             0.8,
             "#7fbc41"
            ],
            [
             0.9,
             "#4d9221"
            ],
            [
             1,
             "#276419"
            ]
           ],
           "sequential": [
            [
             0,
             "#0d0887"
            ],
            [
             0.1111111111111111,
             "#46039f"
            ],
            [
             0.2222222222222222,
             "#7201a8"
            ],
            [
             0.3333333333333333,
             "#9c179e"
            ],
            [
             0.4444444444444444,
             "#bd3786"
            ],
            [
             0.5555555555555556,
             "#d8576b"
            ],
            [
             0.6666666666666666,
             "#ed7953"
            ],
            [
             0.7777777777777778,
             "#fb9f3a"
            ],
            [
             0.8888888888888888,
             "#fdca26"
            ],
            [
             1,
             "#f0f921"
            ]
           ],
           "sequentialminus": [
            [
             0,
             "#0d0887"
            ],
            [
             0.1111111111111111,
             "#46039f"
            ],
            [
             0.2222222222222222,
             "#7201a8"
            ],
            [
             0.3333333333333333,
             "#9c179e"
            ],
            [
             0.4444444444444444,
             "#bd3786"
            ],
            [
             0.5555555555555556,
             "#d8576b"
            ],
            [
             0.6666666666666666,
             "#ed7953"
            ],
            [
             0.7777777777777778,
             "#fb9f3a"
            ],
            [
             0.8888888888888888,
             "#fdca26"
            ],
            [
             1,
             "#f0f921"
            ]
           ]
          },
          "colorway": [
           "#636efa",
           "#EF553B",
           "#00cc96",
           "#ab63fa",
           "#FFA15A",
           "#19d3f3",
           "#FF6692",
           "#B6E880",
           "#FF97FF",
           "#FECB52"
          ],
          "font": {
           "color": "#2a3f5f"
          },
          "geo": {
           "bgcolor": "white",
           "lakecolor": "white",
           "landcolor": "#E5ECF6",
           "showlakes": true,
           "showland": true,
           "subunitcolor": "white"
          },
          "hoverlabel": {
           "align": "left"
          },
          "hovermode": "closest",
          "mapbox": {
           "style": "light"
          },
          "paper_bgcolor": "white",
          "plot_bgcolor": "#E5ECF6",
          "polar": {
           "angularaxis": {
            "gridcolor": "white",
            "linecolor": "white",
            "ticks": ""
           },
           "bgcolor": "#E5ECF6",
           "radialaxis": {
            "gridcolor": "white",
            "linecolor": "white",
            "ticks": ""
           }
          },
          "scene": {
           "xaxis": {
            "backgroundcolor": "#E5ECF6",
            "gridcolor": "white",
            "gridwidth": 2,
            "linecolor": "white",
            "showbackground": true,
            "ticks": "",
            "zerolinecolor": "white"
           },
           "yaxis": {
            "backgroundcolor": "#E5ECF6",
            "gridcolor": "white",
            "gridwidth": 2,
            "linecolor": "white",
            "showbackground": true,
            "ticks": "",
            "zerolinecolor": "white"
           },
           "zaxis": {
            "backgroundcolor": "#E5ECF6",
            "gridcolor": "white",
            "gridwidth": 2,
            "linecolor": "white",
            "showbackground": true,
            "ticks": "",
            "zerolinecolor": "white"
           }
          },
          "shapedefaults": {
           "line": {
            "color": "#2a3f5f"
           }
          },
          "ternary": {
           "aaxis": {
            "gridcolor": "white",
            "linecolor": "white",
            "ticks": ""
           },
           "baxis": {
            "gridcolor": "white",
            "linecolor": "white",
            "ticks": ""
           },
           "bgcolor": "#E5ECF6",
           "caxis": {
            "gridcolor": "white",
            "linecolor": "white",
            "ticks": ""
           }
          },
          "title": {
           "x": 0.05
          },
          "xaxis": {
           "automargin": true,
           "gridcolor": "white",
           "linecolor": "white",
           "ticks": "",
           "title": {
            "standoff": 15
           },
           "zerolinecolor": "white",
           "zerolinewidth": 2
          },
          "yaxis": {
           "automargin": true,
           "gridcolor": "white",
           "linecolor": "white",
           "ticks": "",
           "title": {
            "standoff": 15
           },
           "zerolinecolor": "white",
           "zerolinewidth": 2
          }
         }
        },
        "title": {
         "text": "Resultado Medio de las Simulaciones - Elecciones Presidenciales 2024"
        },
        "width": 1200
       }
      }
     },
     "metadata": {},
     "output_type": "display_data"
    }
   ],
   "source": [
    "# Crear el mapa coroplético usando Plotly Express con códigos de estado\n",
    "fig = px.choropleth(accumulated_pred_state,\n",
    "                    locations='state_code',  # Usar la nueva columna con códigos de estado\n",
    "                    locationmode=\"USA-states\",  # Modo de localización para los códigos de estado\n",
    "                    color='Winner',  # Métrica que deseas visualizar\n",
    "                    hover_name='state_code',  # Mostrar el código del estado en hover\n",
    "                    hover_data={\n",
    "                        'state_code': True,  # Mostrar el código del estado\n",
    "                        \"Per_dem\": ':.2%',  # Mostrar el porcentaje de Biden en formato de porcentaje\n",
    "                        \"Per_gop\": ':.2%'  # Mostrar el porcentaje de Trump en formato de porcentaje\n",
    "                    },\n",
    "                    scope='usa',  # Limitar el mapa a EE.UU.\n",
    "                    color_discrete_map={'dem': '#3951a2', 'gop': '#af2b39'},  # Colores asignados\n",
    "                    labels={f'Winner': 'Ganador {ELECTORAL_YEAR}'},  # Etiqueta para la barra de color\n",
    "                    title=f\"Resultado Medio de las Simulaciones - Elecciones Presidenciales {ELECTORAL_YEAR}\"\n",
    "                   )\n",
    "\n",
    "# # Crear un nuevo rastro para añadir los códigos de los estados en el mapa\n",
    "# fig.add_trace(go.Scattergeo(\n",
    "#     locationmode='USA-states',\n",
    "#     locations=accumulated_pred_state['state_code'],  # Usar los códigos de los estados\n",
    "#     text=accumulated_pred_state['state_code'],  # Mostrar los códigos dentro del mapa\n",
    "#     mode='text',  # Solo texto\n",
    "#     textfont=dict(size=12, color=\"black\"),  # Tamaño y color de la fuente\n",
    "# ))\n",
    "\n",
    "# Ajustar el tamaño del gráfico\n",
    "fig.update_layout(\n",
    "    width=1200,  # Ajustar el ancho del gráfico\n",
    "    height=800   # Ajustar la altura del gráfico\n",
    ")\n",
    "\n",
    "# Ajustar visualización y mostrar el gráfico\n",
    "fig.update_geos(fitbounds=\"locations\", visible=False)  # Ajustar el mapa a las ubicaciones\n",
    "fig.show()\n"
   ]
  },
  {
   "cell_type": "code",
   "execution_count": 804,
   "metadata": {},
   "outputs": [
    {
     "data": {
      "application/vnd.plotly.v1+json": {
       "config": {
        "plotlyServerURL": "https://plot.ly"
       },
       "data": [
        {
         "colorscale": [
          [
           0,
           "#af2b39"
          ],
          [
           1,
           "#af2b39"
          ]
         ],
         "customdata": [
          [
           "AL",
           0.41030101810379593,
           0.5896989818962042
          ],
          [
           "AR",
           0.38893138953592166,
           0.6110686104640785
          ],
          [
           "ID",
           0.3730973889836745,
           0.6269026110163258
          ],
          [
           "IN",
           0.4051309632513834,
           0.5948690367486166
          ],
          [
           "IA",
           0.38386977494507496,
           0.6161302250549249
          ],
          [
           "KS",
           0.3873231657407056,
           0.6126768342592946
          ],
          [
           "KY",
           0.38398177235048503,
           0.616018227649515
          ],
          [
           "ME",
           0.41235071160089354,
           0.5876492883991067
          ],
          [
           "MS",
           0.43340942230512913,
           0.566590577694871
          ],
          [
           "MO",
           0.4136265727351999,
           0.5863734272648
          ],
          [
           "MT",
           0.3915122511089146,
           0.6084877488910855
          ],
          [
           "NE",
           0.3956244416585333,
           0.6043755583414665
          ],
          [
           "NH",
           0.43234201735063865,
           0.5676579826493614
          ],
          [
           "ND",
           0.3757244196888136,
           0.6242755803111865
          ],
          [
           "OH",
           0.44585130543555224,
           0.5541486945644476
          ],
          [
           "OK",
           0.3790464148108566,
           0.6209535851891431
          ],
          [
           "SC",
           0.4394356872851465,
           0.5605643127148535
          ],
          [
           "SD",
           0.3603110329182195,
           0.6396889670817804
          ],
          [
           "TN",
           0.42780800781358513,
           0.5721919921864148
          ],
          [
           "UT",
           0.43694330816800636,
           0.5630566918319935
          ],
          [
           "WV",
           0.3330623747352927,
           0.6669376252647073
          ],
          [
           "WI",
           0.4461429420296208,
           0.5538570579703792
          ],
          [
           "WY",
           0.343649375068071,
           0.6563506249319292
          ]
         ],
         "geo": "geo",
         "hovertemplate": "<b>%{hovertext}</b><br><br>Status=Safe Republican<br>state_code=%{customdata[0]}<br>Per_dem=%{customdata[1]:.2%}<br>Per_gop=%{customdata[2]:.2%}<extra></extra>",
         "hovertext": [
          "AL",
          "AR",
          "ID",
          "IN",
          "IA",
          "KS",
          "KY",
          "ME",
          "MS",
          "MO",
          "MT",
          "NE",
          "NH",
          "ND",
          "OH",
          "OK",
          "SC",
          "SD",
          "TN",
          "UT",
          "WV",
          "WI",
          "WY"
         ],
         "locationmode": "USA-states",
         "locations": [
          "AL",
          "AR",
          "ID",
          "IN",
          "IA",
          "KS",
          "KY",
          "ME",
          "MS",
          "MO",
          "MT",
          "NE",
          "NH",
          "ND",
          "OH",
          "OK",
          "SC",
          "SD",
          "TN",
          "UT",
          "WV",
          "WI",
          "WY"
         ],
         "name": "Safe Republican",
         "showlegend": true,
         "showscale": false,
         "type": "choropleth",
         "z": [
          1,
          1,
          1,
          1,
          1,
          1,
          1,
          1,
          1,
          1,
          1,
          1,
          1,
          1,
          1,
          1,
          1,
          1,
          1,
          1,
          1,
          1,
          1
         ]
        },
        {
         "colorscale": [
          [
           0,
           "#b6b164"
          ],
          [
           1,
           "#b6b164"
          ]
         ],
         "customdata": [
          [
           "AZ",
           0.5119442971920869,
           0.4880557028079132
          ],
          [
           "DE",
           0.5089279610926978,
           0.4910720389073023
          ],
          [
           "FL",
           0.502713794007313,
           0.497286205992687
          ],
          [
           "GA",
           0.501371515830738,
           0.4986284841692619
          ],
          [
           "TX",
           0.5033627378841061,
           0.4966372621158939
          ],
          [
           "VA",
           0.5120748998118398,
           0.4879251001881603
          ]
         ],
         "geo": "geo",
         "hovertemplate": "<b>%{hovertext}</b><br><br>Status=Toss-Up<br>state_code=%{customdata[0]}<br>Per_dem=%{customdata[1]:.2%}<br>Per_gop=%{customdata[2]:.2%}<extra></extra>",
         "hovertext": [
          "AZ",
          "DE",
          "FL",
          "GA",
          "TX",
          "VA"
         ],
         "locationmode": "USA-states",
         "locations": [
          "AZ",
          "DE",
          "FL",
          "GA",
          "TX",
          "VA"
         ],
         "name": "Toss-Up",
         "showlegend": true,
         "showscale": false,
         "type": "choropleth",
         "z": [
          1,
          1,
          1,
          1,
          1,
          1
         ]
        },
        {
         "colorscale": [
          [
           0,
           "#3951a2"
          ],
          [
           1,
           "#3951a2"
          ]
         ],
         "customdata": [
          [
           "CA",
           0.6189043492124998,
           0.38109565078750035
          ],
          [
           "DC",
           0.8012516221734386,
           0.19874837782656132
          ],
          [
           "HI",
           0.623050088342779,
           0.3769499116572209
          ],
          [
           "MD",
           0.586625242973987,
           0.4133747570260131
          ],
          [
           "MA",
           0.595569942661877,
           0.40443005733812293
          ],
          [
           "NV",
           0.5702604770148145,
           0.42973952298518564
          ],
          [
           "NJ",
           0.5910080101443707,
           0.40899198985562935
          ],
          [
           "NY",
           0.5968949109415636,
           0.40310508905843667
          ],
          [
           "WA",
           0.5631226984445076,
           0.4368773015554925
          ]
         ],
         "geo": "geo",
         "hovertemplate": "<b>%{hovertext}</b><br><br>Status=Safe Democrat<br>state_code=%{customdata[0]}<br>Per_dem=%{customdata[1]:.2%}<br>Per_gop=%{customdata[2]:.2%}<extra></extra>",
         "hovertext": [
          "CA",
          "DC",
          "HI",
          "MD",
          "MA",
          "NV",
          "NJ",
          "NY",
          "WA"
         ],
         "locationmode": "USA-states",
         "locations": [
          "CA",
          "DC",
          "HI",
          "MD",
          "MA",
          "NV",
          "NJ",
          "NY",
          "WA"
         ],
         "name": "Safe Democrat",
         "showlegend": true,
         "showscale": false,
         "type": "choropleth",
         "z": [
          1,
          1,
          1,
          1,
          1,
          1,
          1,
          1,
          1
         ]
        },
        {
         "colorscale": [
          [
           0,
           "#a3cef1"
          ],
          [
           1,
           "#a3cef1"
          ]
         ],
         "customdata": [
          [
           "CO",
           0.5155700925396759,
           0.48442990746032416
          ],
          [
           "CT",
           0.5126216126127372,
           0.48737838738726275
          ],
          [
           "IL",
           0.5363622949385054,
           0.4636377050614944
          ],
          [
           "OR",
           0.527742417778705,
           0.47225758222129516
          ],
          [
           "RI",
           0.5404938586797712,
           0.45950614132022877
          ]
         ],
         "geo": "geo",
         "hovertemplate": "<b>%{hovertext}</b><br><br>Status=Likely Democrat<br>state_code=%{customdata[0]}<br>Per_dem=%{customdata[1]:.2%}<br>Per_gop=%{customdata[2]:.2%}<extra></extra>",
         "hovertext": [
          "CO",
          "CT",
          "IL",
          "OR",
          "RI"
         ],
         "locationmode": "USA-states",
         "locations": [
          "CO",
          "CT",
          "IL",
          "OR",
          "RI"
         ],
         "name": "Likely Democrat",
         "showlegend": true,
         "showscale": false,
         "type": "choropleth",
         "z": [
          1,
          1,
          1,
          1,
          1
         ]
        },
        {
         "colorscale": [
          [
           0,
           "#d56062"
          ],
          [
           1,
           "#d56062"
          ]
         ],
         "customdata": [
          [
           "LA",
           0.46198078406159904,
           0.5380192159384011
          ],
          [
           "MI",
           0.4511034512782077,
           0.5488965487217922
          ],
          [
           "MN",
           0.47622128961220456,
           0.5237787103877954
          ],
          [
           "NM",
           0.46391254636543705,
           0.5360874536345629
          ],
          [
           "NC",
           0.47417548803726667,
           0.5258245119627333
          ],
          [
           "PA",
           0.48746602371418146,
           0.5125339762858186
          ],
          [
           "VT",
           0.4500787322193394,
           0.5499212677806604
          ]
         ],
         "geo": "geo",
         "hovertemplate": "<b>%{hovertext}</b><br><br>Status=Likely Republican<br>state_code=%{customdata[0]}<br>Per_dem=%{customdata[1]:.2%}<br>Per_gop=%{customdata[2]:.2%}<extra></extra>",
         "hovertext": [
          "LA",
          "MI",
          "MN",
          "NM",
          "NC",
          "PA",
          "VT"
         ],
         "locationmode": "USA-states",
         "locations": [
          "LA",
          "MI",
          "MN",
          "NM",
          "NC",
          "PA",
          "VT"
         ],
         "name": "Likely Republican",
         "showlegend": true,
         "showscale": false,
         "type": "choropleth",
         "z": [
          1,
          1,
          1,
          1,
          1,
          1,
          1
         ]
        }
       ],
       "layout": {
        "geo": {
         "center": {},
         "domain": {
          "x": [
           0,
           1
          ],
          "y": [
           0,
           1
          ]
         },
         "fitbounds": "locations",
         "scope": "usa",
         "visible": false
        },
        "height": 800,
        "legend": {
         "title": {
          "text": "Status"
         },
         "tracegroupgap": 0
        },
        "template": {
         "data": {
          "bar": [
           {
            "error_x": {
             "color": "#2a3f5f"
            },
            "error_y": {
             "color": "#2a3f5f"
            },
            "marker": {
             "line": {
              "color": "#E5ECF6",
              "width": 0.5
             },
             "pattern": {
              "fillmode": "overlay",
              "size": 10,
              "solidity": 0.2
             }
            },
            "type": "bar"
           }
          ],
          "barpolar": [
           {
            "marker": {
             "line": {
              "color": "#E5ECF6",
              "width": 0.5
             },
             "pattern": {
              "fillmode": "overlay",
              "size": 10,
              "solidity": 0.2
             }
            },
            "type": "barpolar"
           }
          ],
          "carpet": [
           {
            "aaxis": {
             "endlinecolor": "#2a3f5f",
             "gridcolor": "white",
             "linecolor": "white",
             "minorgridcolor": "white",
             "startlinecolor": "#2a3f5f"
            },
            "baxis": {
             "endlinecolor": "#2a3f5f",
             "gridcolor": "white",
             "linecolor": "white",
             "minorgridcolor": "white",
             "startlinecolor": "#2a3f5f"
            },
            "type": "carpet"
           }
          ],
          "choropleth": [
           {
            "colorbar": {
             "outlinewidth": 0,
             "ticks": ""
            },
            "type": "choropleth"
           }
          ],
          "contour": [
           {
            "colorbar": {
             "outlinewidth": 0,
             "ticks": ""
            },
            "colorscale": [
             [
              0,
              "#0d0887"
             ],
             [
              0.1111111111111111,
              "#46039f"
             ],
             [
              0.2222222222222222,
              "#7201a8"
             ],
             [
              0.3333333333333333,
              "#9c179e"
             ],
             [
              0.4444444444444444,
              "#bd3786"
             ],
             [
              0.5555555555555556,
              "#d8576b"
             ],
             [
              0.6666666666666666,
              "#ed7953"
             ],
             [
              0.7777777777777778,
              "#fb9f3a"
             ],
             [
              0.8888888888888888,
              "#fdca26"
             ],
             [
              1,
              "#f0f921"
             ]
            ],
            "type": "contour"
           }
          ],
          "contourcarpet": [
           {
            "colorbar": {
             "outlinewidth": 0,
             "ticks": ""
            },
            "type": "contourcarpet"
           }
          ],
          "heatmap": [
           {
            "colorbar": {
             "outlinewidth": 0,
             "ticks": ""
            },
            "colorscale": [
             [
              0,
              "#0d0887"
             ],
             [
              0.1111111111111111,
              "#46039f"
             ],
             [
              0.2222222222222222,
              "#7201a8"
             ],
             [
              0.3333333333333333,
              "#9c179e"
             ],
             [
              0.4444444444444444,
              "#bd3786"
             ],
             [
              0.5555555555555556,
              "#d8576b"
             ],
             [
              0.6666666666666666,
              "#ed7953"
             ],
             [
              0.7777777777777778,
              "#fb9f3a"
             ],
             [
              0.8888888888888888,
              "#fdca26"
             ],
             [
              1,
              "#f0f921"
             ]
            ],
            "type": "heatmap"
           }
          ],
          "histogram": [
           {
            "marker": {
             "pattern": {
              "fillmode": "overlay",
              "size": 10,
              "solidity": 0.2
             }
            },
            "type": "histogram"
           }
          ],
          "histogram2d": [
           {
            "colorbar": {
             "outlinewidth": 0,
             "ticks": ""
            },
            "colorscale": [
             [
              0,
              "#0d0887"
             ],
             [
              0.1111111111111111,
              "#46039f"
             ],
             [
              0.2222222222222222,
              "#7201a8"
             ],
             [
              0.3333333333333333,
              "#9c179e"
             ],
             [
              0.4444444444444444,
              "#bd3786"
             ],
             [
              0.5555555555555556,
              "#d8576b"
             ],
             [
              0.6666666666666666,
              "#ed7953"
             ],
             [
              0.7777777777777778,
              "#fb9f3a"
             ],
             [
              0.8888888888888888,
              "#fdca26"
             ],
             [
              1,
              "#f0f921"
             ]
            ],
            "type": "histogram2d"
           }
          ],
          "histogram2dcontour": [
           {
            "colorbar": {
             "outlinewidth": 0,
             "ticks": ""
            },
            "colorscale": [
             [
              0,
              "#0d0887"
             ],
             [
              0.1111111111111111,
              "#46039f"
             ],
             [
              0.2222222222222222,
              "#7201a8"
             ],
             [
              0.3333333333333333,
              "#9c179e"
             ],
             [
              0.4444444444444444,
              "#bd3786"
             ],
             [
              0.5555555555555556,
              "#d8576b"
             ],
             [
              0.6666666666666666,
              "#ed7953"
             ],
             [
              0.7777777777777778,
              "#fb9f3a"
             ],
             [
              0.8888888888888888,
              "#fdca26"
             ],
             [
              1,
              "#f0f921"
             ]
            ],
            "type": "histogram2dcontour"
           }
          ],
          "mesh3d": [
           {
            "colorbar": {
             "outlinewidth": 0,
             "ticks": ""
            },
            "type": "mesh3d"
           }
          ],
          "parcoords": [
           {
            "line": {
             "colorbar": {
              "outlinewidth": 0,
              "ticks": ""
             }
            },
            "type": "parcoords"
           }
          ],
          "pie": [
           {
            "automargin": true,
            "type": "pie"
           }
          ],
          "scatter": [
           {
            "fillpattern": {
             "fillmode": "overlay",
             "size": 10,
             "solidity": 0.2
            },
            "type": "scatter"
           }
          ],
          "scatter3d": [
           {
            "line": {
             "colorbar": {
              "outlinewidth": 0,
              "ticks": ""
             }
            },
            "marker": {
             "colorbar": {
              "outlinewidth": 0,
              "ticks": ""
             }
            },
            "type": "scatter3d"
           }
          ],
          "scattercarpet": [
           {
            "marker": {
             "colorbar": {
              "outlinewidth": 0,
              "ticks": ""
             }
            },
            "type": "scattercarpet"
           }
          ],
          "scattergeo": [
           {
            "marker": {
             "colorbar": {
              "outlinewidth": 0,
              "ticks": ""
             }
            },
            "type": "scattergeo"
           }
          ],
          "scattergl": [
           {
            "marker": {
             "colorbar": {
              "outlinewidth": 0,
              "ticks": ""
             }
            },
            "type": "scattergl"
           }
          ],
          "scattermap": [
           {
            "marker": {
             "colorbar": {
              "outlinewidth": 0,
              "ticks": ""
             }
            },
            "type": "scattermap"
           }
          ],
          "scattermapbox": [
           {
            "marker": {
             "colorbar": {
              "outlinewidth": 0,
              "ticks": ""
             }
            },
            "type": "scattermapbox"
           }
          ],
          "scatterpolar": [
           {
            "marker": {
             "colorbar": {
              "outlinewidth": 0,
              "ticks": ""
             }
            },
            "type": "scatterpolar"
           }
          ],
          "scatterpolargl": [
           {
            "marker": {
             "colorbar": {
              "outlinewidth": 0,
              "ticks": ""
             }
            },
            "type": "scatterpolargl"
           }
          ],
          "scatterternary": [
           {
            "marker": {
             "colorbar": {
              "outlinewidth": 0,
              "ticks": ""
             }
            },
            "type": "scatterternary"
           }
          ],
          "surface": [
           {
            "colorbar": {
             "outlinewidth": 0,
             "ticks": ""
            },
            "colorscale": [
             [
              0,
              "#0d0887"
             ],
             [
              0.1111111111111111,
              "#46039f"
             ],
             [
              0.2222222222222222,
              "#7201a8"
             ],
             [
              0.3333333333333333,
              "#9c179e"
             ],
             [
              0.4444444444444444,
              "#bd3786"
             ],
             [
              0.5555555555555556,
              "#d8576b"
             ],
             [
              0.6666666666666666,
              "#ed7953"
             ],
             [
              0.7777777777777778,
              "#fb9f3a"
             ],
             [
              0.8888888888888888,
              "#fdca26"
             ],
             [
              1,
              "#f0f921"
             ]
            ],
            "type": "surface"
           }
          ],
          "table": [
           {
            "cells": {
             "fill": {
              "color": "#EBF0F8"
             },
             "line": {
              "color": "white"
             }
            },
            "header": {
             "fill": {
              "color": "#C8D4E3"
             },
             "line": {
              "color": "white"
             }
            },
            "type": "table"
           }
          ]
         },
         "layout": {
          "annotationdefaults": {
           "arrowcolor": "#2a3f5f",
           "arrowhead": 0,
           "arrowwidth": 1
          },
          "autotypenumbers": "strict",
          "coloraxis": {
           "colorbar": {
            "outlinewidth": 0,
            "ticks": ""
           }
          },
          "colorscale": {
           "diverging": [
            [
             0,
             "#8e0152"
            ],
            [
             0.1,
             "#c51b7d"
            ],
            [
             0.2,
             "#de77ae"
            ],
            [
             0.3,
             "#f1b6da"
            ],
            [
             0.4,
             "#fde0ef"
            ],
            [
             0.5,
             "#f7f7f7"
            ],
            [
             0.6,
             "#e6f5d0"
            ],
            [
             0.7,
             "#b8e186"
            ],
            [
             0.8,
             "#7fbc41"
            ],
            [
             0.9,
             "#4d9221"
            ],
            [
             1,
             "#276419"
            ]
           ],
           "sequential": [
            [
             0,
             "#0d0887"
            ],
            [
             0.1111111111111111,
             "#46039f"
            ],
            [
             0.2222222222222222,
             "#7201a8"
            ],
            [
             0.3333333333333333,
             "#9c179e"
            ],
            [
             0.4444444444444444,
             "#bd3786"
            ],
            [
             0.5555555555555556,
             "#d8576b"
            ],
            [
             0.6666666666666666,
             "#ed7953"
            ],
            [
             0.7777777777777778,
             "#fb9f3a"
            ],
            [
             0.8888888888888888,
             "#fdca26"
            ],
            [
             1,
             "#f0f921"
            ]
           ],
           "sequentialminus": [
            [
             0,
             "#0d0887"
            ],
            [
             0.1111111111111111,
             "#46039f"
            ],
            [
             0.2222222222222222,
             "#7201a8"
            ],
            [
             0.3333333333333333,
             "#9c179e"
            ],
            [
             0.4444444444444444,
             "#bd3786"
            ],
            [
             0.5555555555555556,
             "#d8576b"
            ],
            [
             0.6666666666666666,
             "#ed7953"
            ],
            [
             0.7777777777777778,
             "#fb9f3a"
            ],
            [
             0.8888888888888888,
             "#fdca26"
            ],
            [
             1,
             "#f0f921"
            ]
           ]
          },
          "colorway": [
           "#636efa",
           "#EF553B",
           "#00cc96",
           "#ab63fa",
           "#FFA15A",
           "#19d3f3",
           "#FF6692",
           "#B6E880",
           "#FF97FF",
           "#FECB52"
          ],
          "font": {
           "color": "#2a3f5f"
          },
          "geo": {
           "bgcolor": "white",
           "lakecolor": "white",
           "landcolor": "#E5ECF6",
           "showlakes": true,
           "showland": true,
           "subunitcolor": "white"
          },
          "hoverlabel": {
           "align": "left"
          },
          "hovermode": "closest",
          "mapbox": {
           "style": "light"
          },
          "paper_bgcolor": "white",
          "plot_bgcolor": "#E5ECF6",
          "polar": {
           "angularaxis": {
            "gridcolor": "white",
            "linecolor": "white",
            "ticks": ""
           },
           "bgcolor": "#E5ECF6",
           "radialaxis": {
            "gridcolor": "white",
            "linecolor": "white",
            "ticks": ""
           }
          },
          "scene": {
           "xaxis": {
            "backgroundcolor": "#E5ECF6",
            "gridcolor": "white",
            "gridwidth": 2,
            "linecolor": "white",
            "showbackground": true,
            "ticks": "",
            "zerolinecolor": "white"
           },
           "yaxis": {
            "backgroundcolor": "#E5ECF6",
            "gridcolor": "white",
            "gridwidth": 2,
            "linecolor": "white",
            "showbackground": true,
            "ticks": "",
            "zerolinecolor": "white"
           },
           "zaxis": {
            "backgroundcolor": "#E5ECF6",
            "gridcolor": "white",
            "gridwidth": 2,
            "linecolor": "white",
            "showbackground": true,
            "ticks": "",
            "zerolinecolor": "white"
           }
          },
          "shapedefaults": {
           "line": {
            "color": "#2a3f5f"
           }
          },
          "ternary": {
           "aaxis": {
            "gridcolor": "white",
            "linecolor": "white",
            "ticks": ""
           },
           "baxis": {
            "gridcolor": "white",
            "linecolor": "white",
            "ticks": ""
           },
           "bgcolor": "#E5ECF6",
           "caxis": {
            "gridcolor": "white",
            "linecolor": "white",
            "ticks": ""
           }
          },
          "title": {
           "x": 0.05
          },
          "xaxis": {
           "automargin": true,
           "gridcolor": "white",
           "linecolor": "white",
           "ticks": "",
           "title": {
            "standoff": 15
           },
           "zerolinecolor": "white",
           "zerolinewidth": 2
          },
          "yaxis": {
           "automargin": true,
           "gridcolor": "white",
           "linecolor": "white",
           "ticks": "",
           "title": {
            "standoff": 15
           },
           "zerolinecolor": "white",
           "zerolinewidth": 2
          }
         }
        },
        "title": {
         "text": "Status de los Estados en las Simulaciones - Elecciones Presidenciales 2024"
        },
        "width": 1200
       }
      }
     },
     "metadata": {},
     "output_type": "display_data"
    }
   ],
   "source": [
    "# Crear el mapa coroplético usando Plotly Express con códigos de estado\n",
    "fig = px.choropleth(accumulated_pred_state,\n",
    "                    locations='state_code',  # Usar la nueva columna con códigos de estado\n",
    "                    locationmode=\"USA-states\",  # Modo de localización para los códigos de estado\n",
    "                    color='Status',  # Métrica que deseas visualizar\n",
    "                    hover_name='state_code',  # Mostrar el código del estado en hover\n",
    "                    hover_data={\n",
    "                        'state_code': True,  # Mostrar el código del estado\n",
    "                        \"Per_dem\": ':.2%',  # Mostrar el porcentaje de Biden en formato de porcentaje\n",
    "                        \"Per_gop\": ':.2%'  # Mostrar el porcentaje de Trump en formato de porcentaje\n",
    "                    },\n",
    "                    scope='usa',  # Limitar el mapa a EE.UU.\n",
    "                    color_discrete_map={'Safe Democrat': '#3951a2', \n",
    "                                        'Likely Democrat': '#a3cef1', \n",
    "                                        'Toss-Up': '#b6b164', \n",
    "                                        'Likely Republican': '#d56062', \n",
    "                                        'Safe Republican': '#af2b39'},\n",
    "                    labels={f'Winner': 'Ganador {ELECTORAL_YEAR}'},  # Etiqueta para la barra de color\n",
    "                    title=f\"Status de los Estados en las Simulaciones - Elecciones Presidenciales {ELECTORAL_YEAR}\"\n",
    "                   )\n",
    "\n",
    "# # Crear un nuevo rastro para añadir los códigos de los estados en el mapa\n",
    "# fig.add_trace(go.Scattergeo(\n",
    "#     locationmode='USA-states',\n",
    "#     locations=accumulated_pred_state['state_code'],  # Usar los códigos de los estados\n",
    "#     text=accumulated_pred_state['state_code'],  # Mostrar los códigos dentro del mapa\n",
    "#     mode='text',  # Solo texto\n",
    "#     textfont=dict(size=12, color=\"black\"),  # Tamaño y color de la fuente\n",
    "# ))\n",
    "\n",
    "# Ajustar el tamaño del gráfico\n",
    "fig.update_layout(\n",
    "    width=1200,  # Ajustar el ancho del gráfico\n",
    "    height=800   # Ajustar la altura del gráfico\n",
    ")\n",
    "\n",
    "# Ajustar visualización y mostrar el gráfico\n",
    "fig.update_geos(fitbounds=\"locations\", visible=False)  # Ajustar el mapa a las ubicaciones\n",
    "fig.show()\n"
   ]
  },
  {
   "cell_type": "markdown",
   "metadata": {},
   "source": [
    "### Real"
   ]
  },
  {
   "cell_type": "code",
   "execution_count": 805,
   "metadata": {},
   "outputs": [
    {
     "data": {
      "application/vnd.plotly.v1+json": {
       "config": {
        "plotlyServerURL": "https://plot.ly"
       },
       "data": [
        {
         "colorscale": [
          [
           0,
           "#af2b39"
          ],
          [
           1,
           "#af2b39"
          ]
         ],
         "customdata": [
          [
           "AL",
           0.34232779282665116,
           0.64822155408376
          ],
          [
           "AZ",
           0.46701417010319773,
           0.5223002024890546
          ],
          [
           "AR",
           0.3355990989924544,
           0.6419687217800987
          ],
          [
           "FL",
           0.42989101713151834,
           0.5608939861369304
          ],
          [
           "GA",
           0.4853322265495909,
           0.5072558398048627
          ],
          [
           "ID",
           0.3038995946119194,
           0.6689190682705357
          ],
          [
           "IN",
           0.396633261751372,
           0.5864086307393394
          ],
          [
           "IA",
           0.4268813875012147,
           0.5595072333085273
          ],
          [
           "KS",
           0.4104072715166041,
           0.5715630792917397
          ],
          [
           "KY",
           0.33957456413877524,
           0.64510114025454
          ],
          [
           "LA",
           0.3821024178178602,
           0.6021524931800346
          ],
          [
           "MI",
           0.48327259459772565,
           0.4974188097703772
          ],
          [
           "MS",
           0.3800203256004847,
           0.6089080852893467
          ],
          [
           "MO",
           0.4010557870868347,
           0.5852446355486846
          ],
          [
           "MT",
           0.38461066433595426,
           0.583914767572803
          ],
          [
           "NE",
           0.3906366301750815,
           0.5963264879497528
          ],
          [
           "NV",
           0.47530073932101247,
           0.5055437265693278
          ],
          [
           "NC",
           0.47808869107534324,
           0.5103174545882869
          ],
          [
           "ND",
           0.30769546840373746,
           0.6752470148660902
          ],
          [
           "OH",
           0.43949549498292895,
           0.5516230047543659
          ],
          [
           "OK",
           0.3189934956099997,
           0.6616210342024795
          ],
          [
           "PA",
           0.4866280572391539,
           0.5037253671558666
          ],
          [
           "SC",
           0.40360890688894646,
           0.5822862951015251
          ],
          [
           "SD",
           0.3388249659512516,
           0.6379443948715541
          ],
          [
           "TN",
           0.3447405336001791,
           0.6419393709149847
          ],
          [
           "TX",
           0.42489127712579694,
           0.5618172471517638
          ],
          [
           "UT",
           0.3780809986350357,
           0.5939832696103567
          ],
          [
           "WV",
           0.28110153595928594,
           0.6998465352378703
          ],
          [
           "WI",
           0.4884699724438856,
           0.4970776346892566
          ],
          [
           "WY",
           0.26103329040784223,
           0.7232244427507856
          ]
         ],
         "geo": "geo",
         "hovertemplate": "<b>%{hovertext}</b><br><br>Ganador {ELECTORAL_YEAR}=gop<br>state_code=%{customdata[0]}<br>Per_dem=%{customdata[1]:.2%}<br>Per_gop=%{customdata[2]:.2%}<extra></extra>",
         "hovertext": [
          "AL",
          "AZ",
          "AR",
          "FL",
          "GA",
          "ID",
          "IN",
          "IA",
          "KS",
          "KY",
          "LA",
          "MI",
          "MS",
          "MO",
          "MT",
          "NE",
          "NV",
          "NC",
          "ND",
          "OH",
          "OK",
          "PA",
          "SC",
          "SD",
          "TN",
          "TX",
          "UT",
          "WV",
          "WI",
          "WY"
         ],
         "locationmode": "USA-states",
         "locations": [
          "AL",
          "AZ",
          "AR",
          "FL",
          "GA",
          "ID",
          "IN",
          "IA",
          "KS",
          "KY",
          "LA",
          "MI",
          "MS",
          "MO",
          "MT",
          "NE",
          "NV",
          "NC",
          "ND",
          "OH",
          "OK",
          "PA",
          "SC",
          "SD",
          "TN",
          "TX",
          "UT",
          "WV",
          "WI",
          "WY"
         ],
         "name": "gop",
         "showlegend": true,
         "showscale": false,
         "type": "choropleth",
         "z": [
          1,
          1,
          1,
          1,
          1,
          1,
          1,
          1,
          1,
          1,
          1,
          1,
          1,
          1,
          1,
          1,
          1,
          1,
          1,
          1,
          1,
          1,
          1,
          1,
          1,
          1,
          1,
          1,
          1,
          1
         ]
        },
        {
         "colorscale": [
          [
           0,
           "#3951a2"
          ],
          [
           1,
           "#3951a2"
          ]
         ],
         "customdata": [
          [
           "CA",
           0.584785371015076,
           0.38340004397783556
          ],
          [
           "CO",
           0.54159441632431,
           0.4316815492186621
          ],
          [
           "CT",
           0.559163357190981,
           0.4238353967129821
          ],
          [
           "DC",
           0.9114993945085634,
           0.05081185280379606
          ],
          [
           "DE",
           0.5662687098028716,
           0.4189022018890085
          ],
          [
           "HI",
           0.6058513531036325,
           0.3748028356825321
          ],
          [
           "IL",
           0.5476862395321624,
           0.43793237497961507
          ],
          [
           "ME",
           0.52401383250639,
           0.45464080589385053
          ],
          [
           "MD",
           0.6309011324258452,
           0.34339197188002585
          ],
          [
           "MA",
           0.6157763989903392,
           0.36233699934297336
          ],
          [
           "MN",
           0.5112687277300615,
           0.4687045267449079
          ],
          [
           "NH",
           0.5090244759795318,
           0.4811488859129627
          ],
          [
           "NJ",
           0.5197416168838388,
           0.4606463088544196
          ],
          [
           "NM",
           0.5185189998299767,
           0.4585116141056505
          ],
          [
           "NY",
           0.5634474305856947,
           0.4365525694143053
          ],
          [
           "OR",
           0.5564479305958709,
           0.4125318446524539
          ],
          [
           "RI",
           0.5584078612146266,
           0.4198613947859531
          ],
          [
           "VT",
           0.6435537093089585,
           0.3258694993572405
          ],
          [
           "VA",
           0.520993955261439,
           0.4629224356709178
          ],
          [
           "WA",
           0.5760307886843121,
           0.3926616540581994
          ]
         ],
         "geo": "geo",
         "hovertemplate": "<b>%{hovertext}</b><br><br>Ganador {ELECTORAL_YEAR}=dem<br>state_code=%{customdata[0]}<br>Per_dem=%{customdata[1]:.2%}<br>Per_gop=%{customdata[2]:.2%}<extra></extra>",
         "hovertext": [
          "CA",
          "CO",
          "CT",
          "DC",
          "DE",
          "HI",
          "IL",
          "ME",
          "MD",
          "MA",
          "MN",
          "NH",
          "NJ",
          "NM",
          "NY",
          "OR",
          "RI",
          "VT",
          "VA",
          "WA"
         ],
         "locationmode": "USA-states",
         "locations": [
          "CA",
          "CO",
          "CT",
          "DC",
          "DE",
          "HI",
          "IL",
          "ME",
          "MD",
          "MA",
          "MN",
          "NH",
          "NJ",
          "NM",
          "NY",
          "OR",
          "RI",
          "VT",
          "VA",
          "WA"
         ],
         "name": "dem",
         "showlegend": true,
         "showscale": false,
         "type": "choropleth",
         "z": [
          1,
          1,
          1,
          1,
          1,
          1,
          1,
          1,
          1,
          1,
          1,
          1,
          1,
          1,
          1,
          1,
          1,
          1,
          1,
          1
         ]
        }
       ],
       "layout": {
        "geo": {
         "center": {},
         "domain": {
          "x": [
           0,
           1
          ],
          "y": [
           0,
           1
          ]
         },
         "fitbounds": "locations",
         "scope": "usa",
         "visible": false
        },
        "height": 800,
        "legend": {
         "title": {
          "text": "Ganador {ELECTORAL_YEAR}"
         },
         "tracegroupgap": 0
        },
        "template": {
         "data": {
          "bar": [
           {
            "error_x": {
             "color": "#2a3f5f"
            },
            "error_y": {
             "color": "#2a3f5f"
            },
            "marker": {
             "line": {
              "color": "#E5ECF6",
              "width": 0.5
             },
             "pattern": {
              "fillmode": "overlay",
              "size": 10,
              "solidity": 0.2
             }
            },
            "type": "bar"
           }
          ],
          "barpolar": [
           {
            "marker": {
             "line": {
              "color": "#E5ECF6",
              "width": 0.5
             },
             "pattern": {
              "fillmode": "overlay",
              "size": 10,
              "solidity": 0.2
             }
            },
            "type": "barpolar"
           }
          ],
          "carpet": [
           {
            "aaxis": {
             "endlinecolor": "#2a3f5f",
             "gridcolor": "white",
             "linecolor": "white",
             "minorgridcolor": "white",
             "startlinecolor": "#2a3f5f"
            },
            "baxis": {
             "endlinecolor": "#2a3f5f",
             "gridcolor": "white",
             "linecolor": "white",
             "minorgridcolor": "white",
             "startlinecolor": "#2a3f5f"
            },
            "type": "carpet"
           }
          ],
          "choropleth": [
           {
            "colorbar": {
             "outlinewidth": 0,
             "ticks": ""
            },
            "type": "choropleth"
           }
          ],
          "contour": [
           {
            "colorbar": {
             "outlinewidth": 0,
             "ticks": ""
            },
            "colorscale": [
             [
              0,
              "#0d0887"
             ],
             [
              0.1111111111111111,
              "#46039f"
             ],
             [
              0.2222222222222222,
              "#7201a8"
             ],
             [
              0.3333333333333333,
              "#9c179e"
             ],
             [
              0.4444444444444444,
              "#bd3786"
             ],
             [
              0.5555555555555556,
              "#d8576b"
             ],
             [
              0.6666666666666666,
              "#ed7953"
             ],
             [
              0.7777777777777778,
              "#fb9f3a"
             ],
             [
              0.8888888888888888,
              "#fdca26"
             ],
             [
              1,
              "#f0f921"
             ]
            ],
            "type": "contour"
           }
          ],
          "contourcarpet": [
           {
            "colorbar": {
             "outlinewidth": 0,
             "ticks": ""
            },
            "type": "contourcarpet"
           }
          ],
          "heatmap": [
           {
            "colorbar": {
             "outlinewidth": 0,
             "ticks": ""
            },
            "colorscale": [
             [
              0,
              "#0d0887"
             ],
             [
              0.1111111111111111,
              "#46039f"
             ],
             [
              0.2222222222222222,
              "#7201a8"
             ],
             [
              0.3333333333333333,
              "#9c179e"
             ],
             [
              0.4444444444444444,
              "#bd3786"
             ],
             [
              0.5555555555555556,
              "#d8576b"
             ],
             [
              0.6666666666666666,
              "#ed7953"
             ],
             [
              0.7777777777777778,
              "#fb9f3a"
             ],
             [
              0.8888888888888888,
              "#fdca26"
             ],
             [
              1,
              "#f0f921"
             ]
            ],
            "type": "heatmap"
           }
          ],
          "histogram": [
           {
            "marker": {
             "pattern": {
              "fillmode": "overlay",
              "size": 10,
              "solidity": 0.2
             }
            },
            "type": "histogram"
           }
          ],
          "histogram2d": [
           {
            "colorbar": {
             "outlinewidth": 0,
             "ticks": ""
            },
            "colorscale": [
             [
              0,
              "#0d0887"
             ],
             [
              0.1111111111111111,
              "#46039f"
             ],
             [
              0.2222222222222222,
              "#7201a8"
             ],
             [
              0.3333333333333333,
              "#9c179e"
             ],
             [
              0.4444444444444444,
              "#bd3786"
             ],
             [
              0.5555555555555556,
              "#d8576b"
             ],
             [
              0.6666666666666666,
              "#ed7953"
             ],
             [
              0.7777777777777778,
              "#fb9f3a"
             ],
             [
              0.8888888888888888,
              "#fdca26"
             ],
             [
              1,
              "#f0f921"
             ]
            ],
            "type": "histogram2d"
           }
          ],
          "histogram2dcontour": [
           {
            "colorbar": {
             "outlinewidth": 0,
             "ticks": ""
            },
            "colorscale": [
             [
              0,
              "#0d0887"
             ],
             [
              0.1111111111111111,
              "#46039f"
             ],
             [
              0.2222222222222222,
              "#7201a8"
             ],
             [
              0.3333333333333333,
              "#9c179e"
             ],
             [
              0.4444444444444444,
              "#bd3786"
             ],
             [
              0.5555555555555556,
              "#d8576b"
             ],
             [
              0.6666666666666666,
              "#ed7953"
             ],
             [
              0.7777777777777778,
              "#fb9f3a"
             ],
             [
              0.8888888888888888,
              "#fdca26"
             ],
             [
              1,
              "#f0f921"
             ]
            ],
            "type": "histogram2dcontour"
           }
          ],
          "mesh3d": [
           {
            "colorbar": {
             "outlinewidth": 0,
             "ticks": ""
            },
            "type": "mesh3d"
           }
          ],
          "parcoords": [
           {
            "line": {
             "colorbar": {
              "outlinewidth": 0,
              "ticks": ""
             }
            },
            "type": "parcoords"
           }
          ],
          "pie": [
           {
            "automargin": true,
            "type": "pie"
           }
          ],
          "scatter": [
           {
            "fillpattern": {
             "fillmode": "overlay",
             "size": 10,
             "solidity": 0.2
            },
            "type": "scatter"
           }
          ],
          "scatter3d": [
           {
            "line": {
             "colorbar": {
              "outlinewidth": 0,
              "ticks": ""
             }
            },
            "marker": {
             "colorbar": {
              "outlinewidth": 0,
              "ticks": ""
             }
            },
            "type": "scatter3d"
           }
          ],
          "scattercarpet": [
           {
            "marker": {
             "colorbar": {
              "outlinewidth": 0,
              "ticks": ""
             }
            },
            "type": "scattercarpet"
           }
          ],
          "scattergeo": [
           {
            "marker": {
             "colorbar": {
              "outlinewidth": 0,
              "ticks": ""
             }
            },
            "type": "scattergeo"
           }
          ],
          "scattergl": [
           {
            "marker": {
             "colorbar": {
              "outlinewidth": 0,
              "ticks": ""
             }
            },
            "type": "scattergl"
           }
          ],
          "scattermap": [
           {
            "marker": {
             "colorbar": {
              "outlinewidth": 0,
              "ticks": ""
             }
            },
            "type": "scattermap"
           }
          ],
          "scattermapbox": [
           {
            "marker": {
             "colorbar": {
              "outlinewidth": 0,
              "ticks": ""
             }
            },
            "type": "scattermapbox"
           }
          ],
          "scatterpolar": [
           {
            "marker": {
             "colorbar": {
              "outlinewidth": 0,
              "ticks": ""
             }
            },
            "type": "scatterpolar"
           }
          ],
          "scatterpolargl": [
           {
            "marker": {
             "colorbar": {
              "outlinewidth": 0,
              "ticks": ""
             }
            },
            "type": "scatterpolargl"
           }
          ],
          "scatterternary": [
           {
            "marker": {
             "colorbar": {
              "outlinewidth": 0,
              "ticks": ""
             }
            },
            "type": "scatterternary"
           }
          ],
          "surface": [
           {
            "colorbar": {
             "outlinewidth": 0,
             "ticks": ""
            },
            "colorscale": [
             [
              0,
              "#0d0887"
             ],
             [
              0.1111111111111111,
              "#46039f"
             ],
             [
              0.2222222222222222,
              "#7201a8"
             ],
             [
              0.3333333333333333,
              "#9c179e"
             ],
             [
              0.4444444444444444,
              "#bd3786"
             ],
             [
              0.5555555555555556,
              "#d8576b"
             ],
             [
              0.6666666666666666,
              "#ed7953"
             ],
             [
              0.7777777777777778,
              "#fb9f3a"
             ],
             [
              0.8888888888888888,
              "#fdca26"
             ],
             [
              1,
              "#f0f921"
             ]
            ],
            "type": "surface"
           }
          ],
          "table": [
           {
            "cells": {
             "fill": {
              "color": "#EBF0F8"
             },
             "line": {
              "color": "white"
             }
            },
            "header": {
             "fill": {
              "color": "#C8D4E3"
             },
             "line": {
              "color": "white"
             }
            },
            "type": "table"
           }
          ]
         },
         "layout": {
          "annotationdefaults": {
           "arrowcolor": "#2a3f5f",
           "arrowhead": 0,
           "arrowwidth": 1
          },
          "autotypenumbers": "strict",
          "coloraxis": {
           "colorbar": {
            "outlinewidth": 0,
            "ticks": ""
           }
          },
          "colorscale": {
           "diverging": [
            [
             0,
             "#8e0152"
            ],
            [
             0.1,
             "#c51b7d"
            ],
            [
             0.2,
             "#de77ae"
            ],
            [
             0.3,
             "#f1b6da"
            ],
            [
             0.4,
             "#fde0ef"
            ],
            [
             0.5,
             "#f7f7f7"
            ],
            [
             0.6,
             "#e6f5d0"
            ],
            [
             0.7,
             "#b8e186"
            ],
            [
             0.8,
             "#7fbc41"
            ],
            [
             0.9,
             "#4d9221"
            ],
            [
             1,
             "#276419"
            ]
           ],
           "sequential": [
            [
             0,
             "#0d0887"
            ],
            [
             0.1111111111111111,
             "#46039f"
            ],
            [
             0.2222222222222222,
             "#7201a8"
            ],
            [
             0.3333333333333333,
             "#9c179e"
            ],
            [
             0.4444444444444444,
             "#bd3786"
            ],
            [
             0.5555555555555556,
             "#d8576b"
            ],
            [
             0.6666666666666666,
             "#ed7953"
            ],
            [
             0.7777777777777778,
             "#fb9f3a"
            ],
            [
             0.8888888888888888,
             "#fdca26"
            ],
            [
             1,
             "#f0f921"
            ]
           ],
           "sequentialminus": [
            [
             0,
             "#0d0887"
            ],
            [
             0.1111111111111111,
             "#46039f"
            ],
            [
             0.2222222222222222,
             "#7201a8"
            ],
            [
             0.3333333333333333,
             "#9c179e"
            ],
            [
             0.4444444444444444,
             "#bd3786"
            ],
            [
             0.5555555555555556,
             "#d8576b"
            ],
            [
             0.6666666666666666,
             "#ed7953"
            ],
            [
             0.7777777777777778,
             "#fb9f3a"
            ],
            [
             0.8888888888888888,
             "#fdca26"
            ],
            [
             1,
             "#f0f921"
            ]
           ]
          },
          "colorway": [
           "#636efa",
           "#EF553B",
           "#00cc96",
           "#ab63fa",
           "#FFA15A",
           "#19d3f3",
           "#FF6692",
           "#B6E880",
           "#FF97FF",
           "#FECB52"
          ],
          "font": {
           "color": "#2a3f5f"
          },
          "geo": {
           "bgcolor": "white",
           "lakecolor": "white",
           "landcolor": "#E5ECF6",
           "showlakes": true,
           "showland": true,
           "subunitcolor": "white"
          },
          "hoverlabel": {
           "align": "left"
          },
          "hovermode": "closest",
          "mapbox": {
           "style": "light"
          },
          "paper_bgcolor": "white",
          "plot_bgcolor": "#E5ECF6",
          "polar": {
           "angularaxis": {
            "gridcolor": "white",
            "linecolor": "white",
            "ticks": ""
           },
           "bgcolor": "#E5ECF6",
           "radialaxis": {
            "gridcolor": "white",
            "linecolor": "white",
            "ticks": ""
           }
          },
          "scene": {
           "xaxis": {
            "backgroundcolor": "#E5ECF6",
            "gridcolor": "white",
            "gridwidth": 2,
            "linecolor": "white",
            "showbackground": true,
            "ticks": "",
            "zerolinecolor": "white"
           },
           "yaxis": {
            "backgroundcolor": "#E5ECF6",
            "gridcolor": "white",
            "gridwidth": 2,
            "linecolor": "white",
            "showbackground": true,
            "ticks": "",
            "zerolinecolor": "white"
           },
           "zaxis": {
            "backgroundcolor": "#E5ECF6",
            "gridcolor": "white",
            "gridwidth": 2,
            "linecolor": "white",
            "showbackground": true,
            "ticks": "",
            "zerolinecolor": "white"
           }
          },
          "shapedefaults": {
           "line": {
            "color": "#2a3f5f"
           }
          },
          "ternary": {
           "aaxis": {
            "gridcolor": "white",
            "linecolor": "white",
            "ticks": ""
           },
           "baxis": {
            "gridcolor": "white",
            "linecolor": "white",
            "ticks": ""
           },
           "bgcolor": "#E5ECF6",
           "caxis": {
            "gridcolor": "white",
            "linecolor": "white",
            "ticks": ""
           }
          },
          "title": {
           "x": 0.05
          },
          "xaxis": {
           "automargin": true,
           "gridcolor": "white",
           "linecolor": "white",
           "ticks": "",
           "title": {
            "standoff": 15
           },
           "zerolinecolor": "white",
           "zerolinewidth": 2
          },
          "yaxis": {
           "automargin": true,
           "gridcolor": "white",
           "linecolor": "white",
           "ticks": "",
           "title": {
            "standoff": 15
           },
           "zerolinecolor": "white",
           "zerolinewidth": 2
          }
         }
        },
        "title": {
         "text": "Resultado Real de las Simulaciones - Elecciones Presidenciales 2024"
        },
        "width": 1200
       }
      }
     },
     "metadata": {},
     "output_type": "display_data"
    }
   ],
   "source": [
    "# Crear el mapa coroplético usando Plotly Express con códigos de estado\n",
    "fig = px.choropleth(full_df_actual_state,\n",
    "                    locations='state_code',  # Usar la nueva columna con códigos de estado\n",
    "                    locationmode=\"USA-states\",  # Modo de localización para los códigos de estado\n",
    "                    color=\"Winner\",  # Métrica que deseas visualizar\n",
    "                    hover_name='state_code',  # Mostrar el código del estado en hover\n",
    "                    hover_data={\n",
    "                        'state_code': True,  # Mostrar el código del estado\n",
    "                        \"Per_dem\": ':.2%',  # Mostrar el porcentaje de Biden en formato de porcentaje\n",
    "                        \"Per_gop\": ':.2%'  # Mostrar el porcentaje de Trump en formato de porcentaje\n",
    "                    },\n",
    "                    scope='usa',  # Limitar el mapa a EE.UU.\n",
    "                    color_discrete_map={'dem': '#3951a2', 'gop': '#af2b39'},  # Colores asignados\n",
    "                    labels={\"Winner\": 'Ganador {ELECTORAL_YEAR}'},  # Etiqueta para la barra de color\n",
    "                    title=f\"Resultado Real de las Simulaciones - Elecciones Presidenciales {ELECTORAL_YEAR}\"\n",
    "                   )\n",
    "\n",
    "# # Crear un nuevo rastro para añadir los códigos de los estados en el mapa\n",
    "# fig.add_trace(go.Scattergeo(\n",
    "#     locationmode='USA-states',\n",
    "#     locations=accumulated_pred_state['state_code'],  # Usar los códigos de los estados\n",
    "#     text=accumulated_pred_state['state_code'],  # Mostrar los códigos dentro del mapa\n",
    "#     mode='text',  # Solo texto\n",
    "#     textfont=dict(size=8, color=\"white\"),  # Tamaño y color de la fuente\n",
    "# ))\n",
    "\n",
    "# Ajustar el tamaño del gráfico\n",
    "fig.update_layout(\n",
    "    width=1200,  # Ajustar el ancho del gráfico\n",
    "    height=800   # Ajustar la altura del gráfico\n",
    ")\n",
    "\n",
    "# Ajustar visualización y mostrar el gráfico\n",
    "fig.update_geos(fitbounds=\"locations\", visible=False)  # Ajustar el mapa a las ubicaciones\n",
    "fig.show()\n"
   ]
  },
  {
   "cell_type": "code",
   "execution_count": 806,
   "metadata": {},
   "outputs": [
    {
     "data": {
      "application/vnd.plotly.v1+json": {
       "config": {
        "plotlyServerURL": "https://plot.ly"
       },
       "data": [
        {
         "colorscale": [
          [
           0,
           "#af2b39"
          ],
          [
           1,
           "#af2b39"
          ]
         ],
         "customdata": [
          [
           "AL",
           0.34232779282665116,
           0.64822155408376
          ],
          [
           "AR",
           0.3355990989924544,
           0.6419687217800987
          ],
          [
           "FL",
           0.42989101713151834,
           0.5608939861369304
          ],
          [
           "ID",
           0.3038995946119194,
           0.6689190682705357
          ],
          [
           "IN",
           0.396633261751372,
           0.5864086307393394
          ],
          [
           "IA",
           0.4268813875012147,
           0.5595072333085273
          ],
          [
           "KS",
           0.4104072715166041,
           0.5715630792917397
          ],
          [
           "KY",
           0.33957456413877524,
           0.64510114025454
          ],
          [
           "LA",
           0.3821024178178602,
           0.6021524931800346
          ],
          [
           "MS",
           0.3800203256004847,
           0.6089080852893467
          ],
          [
           "MO",
           0.4010557870868347,
           0.5852446355486846
          ],
          [
           "MT",
           0.38461066433595426,
           0.583914767572803
          ],
          [
           "NE",
           0.3906366301750815,
           0.5963264879497528
          ],
          [
           "ND",
           0.30769546840373746,
           0.6752470148660902
          ],
          [
           "OH",
           0.43949549498292895,
           0.5516230047543659
          ],
          [
           "OK",
           0.3189934956099997,
           0.6616210342024795
          ],
          [
           "SC",
           0.40360890688894646,
           0.5822862951015251
          ],
          [
           "SD",
           0.3388249659512516,
           0.6379443948715541
          ],
          [
           "TN",
           0.3447405336001791,
           0.6419393709149847
          ],
          [
           "TX",
           0.42489127712579694,
           0.5618172471517638
          ],
          [
           "UT",
           0.3780809986350357,
           0.5939832696103567
          ],
          [
           "WV",
           0.28110153595928594,
           0.6998465352378703
          ],
          [
           "WY",
           0.26103329040784223,
           0.7232244427507856
          ]
         ],
         "geo": "geo",
         "hovertemplate": "<b>%{hovertext}</b><br><br>Status=Safe Republican<br>state_code=%{customdata[0]}<br>Per_dem=%{customdata[1]:.2%}<br>Per_gop=%{customdata[2]:.2%}<extra></extra>",
         "hovertext": [
          "AL",
          "AR",
          "FL",
          "ID",
          "IN",
          "IA",
          "KS",
          "KY",
          "LA",
          "MS",
          "MO",
          "MT",
          "NE",
          "ND",
          "OH",
          "OK",
          "SC",
          "SD",
          "TN",
          "TX",
          "UT",
          "WV",
          "WY"
         ],
         "locationmode": "USA-states",
         "locations": [
          "AL",
          "AR",
          "FL",
          "ID",
          "IN",
          "IA",
          "KS",
          "KY",
          "LA",
          "MS",
          "MO",
          "MT",
          "NE",
          "ND",
          "OH",
          "OK",
          "SC",
          "SD",
          "TN",
          "TX",
          "UT",
          "WV",
          "WY"
         ],
         "name": "Safe Republican",
         "showlegend": true,
         "showscale": false,
         "type": "choropleth",
         "z": [
          1,
          1,
          1,
          1,
          1,
          1,
          1,
          1,
          1,
          1,
          1,
          1,
          1,
          1,
          1,
          1,
          1,
          1,
          1,
          1,
          1,
          1,
          1
         ]
        },
        {
         "colorscale": [
          [
           0,
           "#d56062"
          ],
          [
           1,
           "#d56062"
          ]
         ],
         "customdata": [
          [
           "AZ",
           0.46701417010319773,
           0.5223002024890546
          ],
          [
           "NV",
           0.47530073932101247,
           0.5055437265693278
          ],
          [
           "NC",
           0.47808869107534324,
           0.5103174545882869
          ]
         ],
         "geo": "geo",
         "hovertemplate": "<b>%{hovertext}</b><br><br>Status=Likely Republican<br>state_code=%{customdata[0]}<br>Per_dem=%{customdata[1]:.2%}<br>Per_gop=%{customdata[2]:.2%}<extra></extra>",
         "hovertext": [
          "AZ",
          "NV",
          "NC"
         ],
         "locationmode": "USA-states",
         "locations": [
          "AZ",
          "NV",
          "NC"
         ],
         "name": "Likely Republican",
         "showlegend": true,
         "showscale": false,
         "type": "choropleth",
         "z": [
          1,
          1,
          1
         ]
        },
        {
         "colorscale": [
          [
           0,
           "#3951a2"
          ],
          [
           1,
           "#3951a2"
          ]
         ],
         "customdata": [
          [
           "CA",
           0.584785371015076,
           0.38340004397783556
          ],
          [
           "CO",
           0.54159441632431,
           0.4316815492186621
          ],
          [
           "CT",
           0.559163357190981,
           0.4238353967129821
          ],
          [
           "DC",
           0.9114993945085634,
           0.05081185280379606
          ],
          [
           "DE",
           0.5662687098028716,
           0.4189022018890085
          ],
          [
           "HI",
           0.6058513531036325,
           0.3748028356825321
          ],
          [
           "IL",
           0.5476862395321624,
           0.43793237497961507
          ],
          [
           "MD",
           0.6309011324258452,
           0.34339197188002585
          ],
          [
           "MA",
           0.6157763989903392,
           0.36233699934297336
          ],
          [
           "NY",
           0.5634474305856947,
           0.4365525694143053
          ],
          [
           "OR",
           0.5564479305958709,
           0.4125318446524539
          ],
          [
           "RI",
           0.5584078612146266,
           0.4198613947859531
          ],
          [
           "VT",
           0.6435537093089585,
           0.3258694993572405
          ],
          [
           "WA",
           0.5760307886843121,
           0.3926616540581994
          ]
         ],
         "geo": "geo",
         "hovertemplate": "<b>%{hovertext}</b><br><br>Status=Safe Democrat<br>state_code=%{customdata[0]}<br>Per_dem=%{customdata[1]:.2%}<br>Per_gop=%{customdata[2]:.2%}<extra></extra>",
         "hovertext": [
          "CA",
          "CO",
          "CT",
          "DC",
          "DE",
          "HI",
          "IL",
          "MD",
          "MA",
          "NY",
          "OR",
          "RI",
          "VT",
          "WA"
         ],
         "locationmode": "USA-states",
         "locations": [
          "CA",
          "CO",
          "CT",
          "DC",
          "DE",
          "HI",
          "IL",
          "MD",
          "MA",
          "NY",
          "OR",
          "RI",
          "VT",
          "WA"
         ],
         "name": "Safe Democrat",
         "showlegend": true,
         "showscale": false,
         "type": "choropleth",
         "z": [
          1,
          1,
          1,
          1,
          1,
          1,
          1,
          1,
          1,
          1,
          1,
          1,
          1,
          1
         ]
        },
        {
         "colorscale": [
          [
           0,
           "#b6b164"
          ],
          [
           1,
           "#b6b164"
          ]
         ],
         "customdata": [
          [
           "GA",
           0.4853322265495909,
           0.5072558398048627
          ],
          [
           "MI",
           0.48327259459772565,
           0.4974188097703772
          ],
          [
           "PA",
           0.4866280572391539,
           0.5037253671558666
          ],
          [
           "WI",
           0.4884699724438856,
           0.4970776346892566
          ]
         ],
         "geo": "geo",
         "hovertemplate": "<b>%{hovertext}</b><br><br>Status=Toss-Up<br>state_code=%{customdata[0]}<br>Per_dem=%{customdata[1]:.2%}<br>Per_gop=%{customdata[2]:.2%}<extra></extra>",
         "hovertext": [
          "GA",
          "MI",
          "PA",
          "WI"
         ],
         "locationmode": "USA-states",
         "locations": [
          "GA",
          "MI",
          "PA",
          "WI"
         ],
         "name": "Toss-Up",
         "showlegend": true,
         "showscale": false,
         "type": "choropleth",
         "z": [
          1,
          1,
          1,
          1
         ]
        },
        {
         "colorscale": [
          [
           0,
           "#a3cef1"
          ],
          [
           1,
           "#a3cef1"
          ]
         ],
         "customdata": [
          [
           "ME",
           0.52401383250639,
           0.45464080589385053
          ],
          [
           "MN",
           0.5112687277300615,
           0.4687045267449079
          ],
          [
           "NH",
           0.5090244759795318,
           0.4811488859129627
          ],
          [
           "NJ",
           0.5197416168838388,
           0.4606463088544196
          ],
          [
           "NM",
           0.5185189998299767,
           0.4585116141056505
          ],
          [
           "VA",
           0.520993955261439,
           0.4629224356709178
          ]
         ],
         "geo": "geo",
         "hovertemplate": "<b>%{hovertext}</b><br><br>Status=Likely Democrat<br>state_code=%{customdata[0]}<br>Per_dem=%{customdata[1]:.2%}<br>Per_gop=%{customdata[2]:.2%}<extra></extra>",
         "hovertext": [
          "ME",
          "MN",
          "NH",
          "NJ",
          "NM",
          "VA"
         ],
         "locationmode": "USA-states",
         "locations": [
          "ME",
          "MN",
          "NH",
          "NJ",
          "NM",
          "VA"
         ],
         "name": "Likely Democrat",
         "showlegend": true,
         "showscale": false,
         "type": "choropleth",
         "z": [
          1,
          1,
          1,
          1,
          1,
          1
         ]
        }
       ],
       "layout": {
        "geo": {
         "center": {},
         "domain": {
          "x": [
           0,
           1
          ],
          "y": [
           0,
           1
          ]
         },
         "fitbounds": "locations",
         "scope": "usa",
         "visible": false
        },
        "height": 800,
        "legend": {
         "title": {
          "text": "Status"
         },
         "tracegroupgap": 0
        },
        "template": {
         "data": {
          "bar": [
           {
            "error_x": {
             "color": "#2a3f5f"
            },
            "error_y": {
             "color": "#2a3f5f"
            },
            "marker": {
             "line": {
              "color": "#E5ECF6",
              "width": 0.5
             },
             "pattern": {
              "fillmode": "overlay",
              "size": 10,
              "solidity": 0.2
             }
            },
            "type": "bar"
           }
          ],
          "barpolar": [
           {
            "marker": {
             "line": {
              "color": "#E5ECF6",
              "width": 0.5
             },
             "pattern": {
              "fillmode": "overlay",
              "size": 10,
              "solidity": 0.2
             }
            },
            "type": "barpolar"
           }
          ],
          "carpet": [
           {
            "aaxis": {
             "endlinecolor": "#2a3f5f",
             "gridcolor": "white",
             "linecolor": "white",
             "minorgridcolor": "white",
             "startlinecolor": "#2a3f5f"
            },
            "baxis": {
             "endlinecolor": "#2a3f5f",
             "gridcolor": "white",
             "linecolor": "white",
             "minorgridcolor": "white",
             "startlinecolor": "#2a3f5f"
            },
            "type": "carpet"
           }
          ],
          "choropleth": [
           {
            "colorbar": {
             "outlinewidth": 0,
             "ticks": ""
            },
            "type": "choropleth"
           }
          ],
          "contour": [
           {
            "colorbar": {
             "outlinewidth": 0,
             "ticks": ""
            },
            "colorscale": [
             [
              0,
              "#0d0887"
             ],
             [
              0.1111111111111111,
              "#46039f"
             ],
             [
              0.2222222222222222,
              "#7201a8"
             ],
             [
              0.3333333333333333,
              "#9c179e"
             ],
             [
              0.4444444444444444,
              "#bd3786"
             ],
             [
              0.5555555555555556,
              "#d8576b"
             ],
             [
              0.6666666666666666,
              "#ed7953"
             ],
             [
              0.7777777777777778,
              "#fb9f3a"
             ],
             [
              0.8888888888888888,
              "#fdca26"
             ],
             [
              1,
              "#f0f921"
             ]
            ],
            "type": "contour"
           }
          ],
          "contourcarpet": [
           {
            "colorbar": {
             "outlinewidth": 0,
             "ticks": ""
            },
            "type": "contourcarpet"
           }
          ],
          "heatmap": [
           {
            "colorbar": {
             "outlinewidth": 0,
             "ticks": ""
            },
            "colorscale": [
             [
              0,
              "#0d0887"
             ],
             [
              0.1111111111111111,
              "#46039f"
             ],
             [
              0.2222222222222222,
              "#7201a8"
             ],
             [
              0.3333333333333333,
              "#9c179e"
             ],
             [
              0.4444444444444444,
              "#bd3786"
             ],
             [
              0.5555555555555556,
              "#d8576b"
             ],
             [
              0.6666666666666666,
              "#ed7953"
             ],
             [
              0.7777777777777778,
              "#fb9f3a"
             ],
             [
              0.8888888888888888,
              "#fdca26"
             ],
             [
              1,
              "#f0f921"
             ]
            ],
            "type": "heatmap"
           }
          ],
          "histogram": [
           {
            "marker": {
             "pattern": {
              "fillmode": "overlay",
              "size": 10,
              "solidity": 0.2
             }
            },
            "type": "histogram"
           }
          ],
          "histogram2d": [
           {
            "colorbar": {
             "outlinewidth": 0,
             "ticks": ""
            },
            "colorscale": [
             [
              0,
              "#0d0887"
             ],
             [
              0.1111111111111111,
              "#46039f"
             ],
             [
              0.2222222222222222,
              "#7201a8"
             ],
             [
              0.3333333333333333,
              "#9c179e"
             ],
             [
              0.4444444444444444,
              "#bd3786"
             ],
             [
              0.5555555555555556,
              "#d8576b"
             ],
             [
              0.6666666666666666,
              "#ed7953"
             ],
             [
              0.7777777777777778,
              "#fb9f3a"
             ],
             [
              0.8888888888888888,
              "#fdca26"
             ],
             [
              1,
              "#f0f921"
             ]
            ],
            "type": "histogram2d"
           }
          ],
          "histogram2dcontour": [
           {
            "colorbar": {
             "outlinewidth": 0,
             "ticks": ""
            },
            "colorscale": [
             [
              0,
              "#0d0887"
             ],
             [
              0.1111111111111111,
              "#46039f"
             ],
             [
              0.2222222222222222,
              "#7201a8"
             ],
             [
              0.3333333333333333,
              "#9c179e"
             ],
             [
              0.4444444444444444,
              "#bd3786"
             ],
             [
              0.5555555555555556,
              "#d8576b"
             ],
             [
              0.6666666666666666,
              "#ed7953"
             ],
             [
              0.7777777777777778,
              "#fb9f3a"
             ],
             [
              0.8888888888888888,
              "#fdca26"
             ],
             [
              1,
              "#f0f921"
             ]
            ],
            "type": "histogram2dcontour"
           }
          ],
          "mesh3d": [
           {
            "colorbar": {
             "outlinewidth": 0,
             "ticks": ""
            },
            "type": "mesh3d"
           }
          ],
          "parcoords": [
           {
            "line": {
             "colorbar": {
              "outlinewidth": 0,
              "ticks": ""
             }
            },
            "type": "parcoords"
           }
          ],
          "pie": [
           {
            "automargin": true,
            "type": "pie"
           }
          ],
          "scatter": [
           {
            "fillpattern": {
             "fillmode": "overlay",
             "size": 10,
             "solidity": 0.2
            },
            "type": "scatter"
           }
          ],
          "scatter3d": [
           {
            "line": {
             "colorbar": {
              "outlinewidth": 0,
              "ticks": ""
             }
            },
            "marker": {
             "colorbar": {
              "outlinewidth": 0,
              "ticks": ""
             }
            },
            "type": "scatter3d"
           }
          ],
          "scattercarpet": [
           {
            "marker": {
             "colorbar": {
              "outlinewidth": 0,
              "ticks": ""
             }
            },
            "type": "scattercarpet"
           }
          ],
          "scattergeo": [
           {
            "marker": {
             "colorbar": {
              "outlinewidth": 0,
              "ticks": ""
             }
            },
            "type": "scattergeo"
           }
          ],
          "scattergl": [
           {
            "marker": {
             "colorbar": {
              "outlinewidth": 0,
              "ticks": ""
             }
            },
            "type": "scattergl"
           }
          ],
          "scattermap": [
           {
            "marker": {
             "colorbar": {
              "outlinewidth": 0,
              "ticks": ""
             }
            },
            "type": "scattermap"
           }
          ],
          "scattermapbox": [
           {
            "marker": {
             "colorbar": {
              "outlinewidth": 0,
              "ticks": ""
             }
            },
            "type": "scattermapbox"
           }
          ],
          "scatterpolar": [
           {
            "marker": {
             "colorbar": {
              "outlinewidth": 0,
              "ticks": ""
             }
            },
            "type": "scatterpolar"
           }
          ],
          "scatterpolargl": [
           {
            "marker": {
             "colorbar": {
              "outlinewidth": 0,
              "ticks": ""
             }
            },
            "type": "scatterpolargl"
           }
          ],
          "scatterternary": [
           {
            "marker": {
             "colorbar": {
              "outlinewidth": 0,
              "ticks": ""
             }
            },
            "type": "scatterternary"
           }
          ],
          "surface": [
           {
            "colorbar": {
             "outlinewidth": 0,
             "ticks": ""
            },
            "colorscale": [
             [
              0,
              "#0d0887"
             ],
             [
              0.1111111111111111,
              "#46039f"
             ],
             [
              0.2222222222222222,
              "#7201a8"
             ],
             [
              0.3333333333333333,
              "#9c179e"
             ],
             [
              0.4444444444444444,
              "#bd3786"
             ],
             [
              0.5555555555555556,
              "#d8576b"
             ],
             [
              0.6666666666666666,
              "#ed7953"
             ],
             [
              0.7777777777777778,
              "#fb9f3a"
             ],
             [
              0.8888888888888888,
              "#fdca26"
             ],
             [
              1,
              "#f0f921"
             ]
            ],
            "type": "surface"
           }
          ],
          "table": [
           {
            "cells": {
             "fill": {
              "color": "#EBF0F8"
             },
             "line": {
              "color": "white"
             }
            },
            "header": {
             "fill": {
              "color": "#C8D4E3"
             },
             "line": {
              "color": "white"
             }
            },
            "type": "table"
           }
          ]
         },
         "layout": {
          "annotationdefaults": {
           "arrowcolor": "#2a3f5f",
           "arrowhead": 0,
           "arrowwidth": 1
          },
          "autotypenumbers": "strict",
          "coloraxis": {
           "colorbar": {
            "outlinewidth": 0,
            "ticks": ""
           }
          },
          "colorscale": {
           "diverging": [
            [
             0,
             "#8e0152"
            ],
            [
             0.1,
             "#c51b7d"
            ],
            [
             0.2,
             "#de77ae"
            ],
            [
             0.3,
             "#f1b6da"
            ],
            [
             0.4,
             "#fde0ef"
            ],
            [
             0.5,
             "#f7f7f7"
            ],
            [
             0.6,
             "#e6f5d0"
            ],
            [
             0.7,
             "#b8e186"
            ],
            [
             0.8,
             "#7fbc41"
            ],
            [
             0.9,
             "#4d9221"
            ],
            [
             1,
             "#276419"
            ]
           ],
           "sequential": [
            [
             0,
             "#0d0887"
            ],
            [
             0.1111111111111111,
             "#46039f"
            ],
            [
             0.2222222222222222,
             "#7201a8"
            ],
            [
             0.3333333333333333,
             "#9c179e"
            ],
            [
             0.4444444444444444,
             "#bd3786"
            ],
            [
             0.5555555555555556,
             "#d8576b"
            ],
            [
             0.6666666666666666,
             "#ed7953"
            ],
            [
             0.7777777777777778,
             "#fb9f3a"
            ],
            [
             0.8888888888888888,
             "#fdca26"
            ],
            [
             1,
             "#f0f921"
            ]
           ],
           "sequentialminus": [
            [
             0,
             "#0d0887"
            ],
            [
             0.1111111111111111,
             "#46039f"
            ],
            [
             0.2222222222222222,
             "#7201a8"
            ],
            [
             0.3333333333333333,
             "#9c179e"
            ],
            [
             0.4444444444444444,
             "#bd3786"
            ],
            [
             0.5555555555555556,
             "#d8576b"
            ],
            [
             0.6666666666666666,
             "#ed7953"
            ],
            [
             0.7777777777777778,
             "#fb9f3a"
            ],
            [
             0.8888888888888888,
             "#fdca26"
            ],
            [
             1,
             "#f0f921"
            ]
           ]
          },
          "colorway": [
           "#636efa",
           "#EF553B",
           "#00cc96",
           "#ab63fa",
           "#FFA15A",
           "#19d3f3",
           "#FF6692",
           "#B6E880",
           "#FF97FF",
           "#FECB52"
          ],
          "font": {
           "color": "#2a3f5f"
          },
          "geo": {
           "bgcolor": "white",
           "lakecolor": "white",
           "landcolor": "#E5ECF6",
           "showlakes": true,
           "showland": true,
           "subunitcolor": "white"
          },
          "hoverlabel": {
           "align": "left"
          },
          "hovermode": "closest",
          "mapbox": {
           "style": "light"
          },
          "paper_bgcolor": "white",
          "plot_bgcolor": "#E5ECF6",
          "polar": {
           "angularaxis": {
            "gridcolor": "white",
            "linecolor": "white",
            "ticks": ""
           },
           "bgcolor": "#E5ECF6",
           "radialaxis": {
            "gridcolor": "white",
            "linecolor": "white",
            "ticks": ""
           }
          },
          "scene": {
           "xaxis": {
            "backgroundcolor": "#E5ECF6",
            "gridcolor": "white",
            "gridwidth": 2,
            "linecolor": "white",
            "showbackground": true,
            "ticks": "",
            "zerolinecolor": "white"
           },
           "yaxis": {
            "backgroundcolor": "#E5ECF6",
            "gridcolor": "white",
            "gridwidth": 2,
            "linecolor": "white",
            "showbackground": true,
            "ticks": "",
            "zerolinecolor": "white"
           },
           "zaxis": {
            "backgroundcolor": "#E5ECF6",
            "gridcolor": "white",
            "gridwidth": 2,
            "linecolor": "white",
            "showbackground": true,
            "ticks": "",
            "zerolinecolor": "white"
           }
          },
          "shapedefaults": {
           "line": {
            "color": "#2a3f5f"
           }
          },
          "ternary": {
           "aaxis": {
            "gridcolor": "white",
            "linecolor": "white",
            "ticks": ""
           },
           "baxis": {
            "gridcolor": "white",
            "linecolor": "white",
            "ticks": ""
           },
           "bgcolor": "#E5ECF6",
           "caxis": {
            "gridcolor": "white",
            "linecolor": "white",
            "ticks": ""
           }
          },
          "title": {
           "x": 0.05
          },
          "xaxis": {
           "automargin": true,
           "gridcolor": "white",
           "linecolor": "white",
           "ticks": "",
           "title": {
            "standoff": 15
           },
           "zerolinecolor": "white",
           "zerolinewidth": 2
          },
          "yaxis": {
           "automargin": true,
           "gridcolor": "white",
           "linecolor": "white",
           "ticks": "",
           "title": {
            "standoff": 15
           },
           "zerolinecolor": "white",
           "zerolinewidth": 2
          }
         }
        },
        "title": {
         "text": "Status de los Estados en las Simulaciones - Elecciones Presidenciales 2024"
        },
        "width": 1200
       }
      }
     },
     "metadata": {},
     "output_type": "display_data"
    }
   ],
   "source": [
    "# Crear el mapa coroplético usando Plotly Express con códigos de estado\n",
    "fig = px.choropleth(full_df_actual_state,\n",
    "                    locations='state_code',  # Usar la nueva columna con códigos de estado\n",
    "                    locationmode=\"USA-states\",  # Modo de localización para los códigos de estado\n",
    "                    color='Status',  # Métrica que deseas visualizar\n",
    "                    hover_name='state_code',  # Mostrar el código del estado en hover\n",
    "                    hover_data={\n",
    "                        'state_code': True,  # Mostrar el código del estado\n",
    "                        'Per_dem': ':.2%',  # Mostrar el porcentaje de Biden en formato de porcentaje\n",
    "                        'Per_gop': ':.2%'  # Mostrar el porcentaje de Trump en formato de porcentaje\n",
    "                    },\n",
    "                    scope='usa',  # Limitar el mapa a EE.UU.\n",
    "                    color_discrete_map={'Safe Democrat': '#3951a2', \n",
    "                                        'Likely Democrat': '#a3cef1', \n",
    "                                        'Toss-Up': '#b6b164', \n",
    "                                        'Likely Republican': '#d56062', \n",
    "                                        'Safe Republican': '#af2b39'},\n",
    "                    labels={\"Winner\": 'Ganador {ELECTORAL_YEAR}'},  # Etiqueta para la barra de color\n",
    "                    title=f\"Status de los Estados en las Simulaciones - Elecciones Presidenciales {ELECTORAL_YEAR}\"\n",
    "                   )\n",
    "\n",
    "# # Crear un nuevo rastro para añadir los códigos de los estados en el mapa\n",
    "# fig.add_trace(go.Scattergeo(\n",
    "#     locationmode='USA-states',\n",
    "#     locations=accumulated_pred_state['state_code'],  # Usar los códigos de los estados\n",
    "#     text=accumulated_pred_state['state_code'],  # Mostrar los códigos dentro del mapa\n",
    "#     mode='text',  # Solo texto\n",
    "#     textfont=dict(size=12, color=\"black\"),  # Tamaño y color de la fuente\n",
    "# ))\n",
    "\n",
    "# Ajustar el tamaño del gráfico\n",
    "fig.update_layout(\n",
    "    width=1200,  # Ajustar el ancho del gráfico\n",
    "    height=800   # Ajustar la altura del gráfico\n",
    ")\n",
    "\n",
    "\n",
    "\n",
    "# Ajustar visualización y mostrar el gráfico\n",
    "fig.update_geos(fitbounds=\"locations\", visible=False)  # Ajustar el mapa a las ubicaciones\n",
    "fig.show()\n"
   ]
  }
 ],
 "metadata": {
  "kernelspec": {
   "display_name": ".venv",
   "language": "python",
   "name": "python3"
  },
  "language_info": {
   "codemirror_mode": {
    "name": "ipython",
    "version": 3
   },
   "file_extension": ".py",
   "mimetype": "text/x-python",
   "name": "python",
   "nbconvert_exporter": "python",
   "pygments_lexer": "ipython3",
   "version": "3.9.6"
  }
 },
 "nbformat": 4,
 "nbformat_minor": 2
}
